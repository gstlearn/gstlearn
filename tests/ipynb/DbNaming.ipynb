{
 "cells": [
  {
   "cell_type": "markdown",
   "id": "5537972b",
   "metadata": {},
   "source": []
  },
  {
   "cell_type": "markdown",
   "id": "c4bf521b",
   "metadata": {},
   "source": [
    "# Naming Convention for Db in gstlearn"
   ]
  },
  {
   "cell_type": "markdown",
   "id": "dd843200",
   "metadata": {},
   "source": [
    "## Preamble"
   ]
  },
  {
   "cell_type": "code",
   "execution_count": null,
   "id": "59939203",
   "metadata": {
    "execution": {
     "iopub.execute_input": "2022-03-04T09:01:51.499506Z",
     "iopub.status.busy": "2022-03-04T09:01:51.494099Z",
     "iopub.status.idle": "2022-03-04T09:01:51.509794Z",
     "shell.execute_reply": "2022-03-04T09:01:51.510575Z"
    }
   },
   "outputs": [],
   "source": [
    "%%javascript\n",
    "IPython.OutputArea.prototype._should_scroll = function(lines) {\n",
    "    // Remove Scrollbar in outputs\n",
    "    return false;\n",
    "}"
   ]
  },
  {
   "cell_type": "markdown",
   "id": "e183c127",
   "metadata": {},
   "source": [
    "This tutorial gives answers to the frequently asked question regarding the Naming Convention used for variables in a Data Base (Db) of gstlearn "
   ]
  },
  {
   "cell_type": "code",
   "execution_count": null,
   "id": "7ff7af0f",
   "metadata": {
    "execution": {
     "iopub.execute_input": "2022-03-04T09:01:51.516587Z",
     "iopub.status.busy": "2022-03-04T09:01:51.515632Z",
     "iopub.status.idle": "2022-03-04T09:01:51.833646Z",
     "shell.execute_reply": "2022-03-04T09:01:51.833135Z"
    }
   },
   "outputs": [],
   "source": [
    "import numpy as np\n",
    "import gstlearn as gl\n",
    "import os\n",
    "import sys"
   ]
  },
  {
   "cell_type": "markdown",
   "id": "3cd0e5d2",
   "metadata": {},
   "source": [
    "## Prepare the Environment\n",
    "\n",
    "This paragraph defines the Space Dimension for the whole notebook. It also set the name of the Container (and a Prefix) used if Objects are saved as Neutral Files."
   ]
  },
  {
   "cell_type": "code",
   "execution_count": null,
   "id": "f8511e53",
   "metadata": {
    "execution": {
     "iopub.execute_input": "2022-03-04T09:01:51.837179Z",
     "iopub.status.busy": "2022-03-04T09:01:51.836695Z",
     "iopub.status.idle": "2022-03-04T09:01:51.838276Z",
     "shell.execute_reply": "2022-03-04T09:01:51.838655Z"
    }
   },
   "outputs": [],
   "source": [
    "ndim = 2\n",
    "gl.ASpaceObject.defineDefaultSpace(gl.SPACE_RN,ndim)\n",
    "\n",
    "gl.ASerializable.setContainerName(True)\n",
    "gl.ASerializable.setPrefixName(\"DbTest-\");"
   ]
  },
  {
   "cell_type": "markdown",
   "id": "90277e0c",
   "metadata": {},
   "source": [
    "The following object will enable having a complete view of the column / attribute manipulation. It will be used later in the notebook."
   ]
  },
  {
   "cell_type": "code",
   "execution_count": null,
   "id": "7e2dfa80",
   "metadata": {
    "execution": {
     "iopub.execute_input": "2022-03-04T09:01:51.841739Z",
     "iopub.status.busy": "2022-03-04T09:01:51.841229Z",
     "iopub.status.idle": "2022-03-04T09:01:51.842796Z",
     "shell.execute_reply": "2022-03-04T09:01:51.843198Z"
    }
   },
   "outputs": [],
   "source": [
    "dbfmt = gl.DbStringFormat()\n",
    "dbfmt.setParams(gl.FLAG_LOCATOR)"
   ]
  },
  {
   "cell_type": "markdown",
   "id": "be70ab00",
   "metadata": {},
   "source": [
    "## Creating a data file\n",
    "\n",
    "A Data Base is created for experimentation. It is constructed as a regular Grid (named **grid**). The variable *nech* will contain the number of samples within *grid*. The number of meshes is voluntarily limited. The mesh is square with dimension 1. The origin (lower left corner) is set to (10,20) in order to be able to distinguish coordinates along first and second axes."
   ]
  },
  {
   "cell_type": "code",
   "execution_count": null,
   "id": "f7ddd424",
   "metadata": {
    "execution": {
     "iopub.execute_input": "2022-03-04T09:01:51.847419Z",
     "iopub.status.busy": "2022-03-04T09:01:51.846776Z",
     "iopub.status.idle": "2022-03-04T09:01:51.849639Z",
     "shell.execute_reply": "2022-03-04T09:01:51.849982Z"
    }
   },
   "outputs": [],
   "source": [
    "grid = gl.DbGrid.create([5,5], [1,1], [10,20])\n",
    "nech = grid.getSampleNumber()\n",
    "print(\"Number of sample =\",nech)\n",
    "grid"
   ]
  },
  {
   "cell_type": "markdown",
   "id": "3199b7dd",
   "metadata": {},
   "source": [
    "The data base contains 3 fields, created automatically and respectively called *rank*, *x1* and *x2*. Note that the last two fields are considered as coordinates (locator *x*)."
   ]
  },
  {
   "cell_type": "markdown",
   "id": "6ddf0e7f",
   "metadata": {},
   "source": [
    "## Naming convention"
   ]
  },
  {
   "cell_type": "markdown",
   "id": "dd462ae7",
   "metadata": {},
   "source": [
    "We now add one new field (named *first*) where values are generated randomly (uniform drawn between 0 and 1). Note that, when adding this new field, a value is returned which corresponds to the number of the newly created *attribute*.\n",
    "\n",
    "**Important remark: all numerical variables used to identify a field within a Db are considered as indices, i.e. they are numbered starting from 0**"
   ]
  },
  {
   "cell_type": "code",
   "execution_count": null,
   "id": "dfacb800",
   "metadata": {
    "execution": {
     "iopub.execute_input": "2022-03-04T09:01:51.853370Z",
     "iopub.status.busy": "2022-03-04T09:01:51.852858Z",
     "iopub.status.idle": "2022-03-04T09:01:51.854672Z",
     "shell.execute_reply": "2022-03-04T09:01:51.855026Z"
    }
   },
   "outputs": [],
   "source": [
    "tab = gl.ut_vector_simulate_uniform(nech)\n",
    "iatt1 = grid.addColumns(tab,\"first\")\n",
    "print(\"Attribute corresponding to 'first' =\",iatt1)"
   ]
  },
  {
   "cell_type": "markdown",
   "id": "84d73741",
   "metadata": {},
   "source": [
    "We can double-check the attribute information by visiting the current contents of the *grid* Db. We check that the field *first* is the fourth (i.e. attribute #3)."
   ]
  },
  {
   "cell_type": "code",
   "execution_count": null,
   "id": "75e084d4",
   "metadata": {
    "execution": {
     "iopub.execute_input": "2022-03-04T09:01:51.858229Z",
     "iopub.status.busy": "2022-03-04T09:01:51.857669Z",
     "iopub.status.idle": "2022-03-04T09:01:51.860223Z",
     "shell.execute_reply": "2022-03-04T09:01:51.859847Z"
    }
   },
   "outputs": [],
   "source": [
    "grid"
   ]
  },
  {
   "cell_type": "markdown",
   "id": "f5f6e873",
   "metadata": {},
   "source": [
    "Let us add a series (3) of fields created simulateneously. They are filled with a constant value equal to 5. We also define a locator assigned to all the newly created variables: they will be considered as data variable (locator = *z*). \n",
    "Note the returned value: it corresponds to the attribute number assigned to the first new variable."
   ]
  },
  {
   "cell_type": "code",
   "execution_count": null,
   "id": "60c7c355",
   "metadata": {
    "execution": {
     "iopub.execute_input": "2022-03-04T09:01:51.863828Z",
     "iopub.status.busy": "2022-03-04T09:01:51.863221Z",
     "iopub.status.idle": "2022-03-04T09:01:51.865811Z",
     "shell.execute_reply": "2022-03-04T09:01:51.866230Z"
    }
   },
   "outputs": [],
   "source": [
    "iatt2 = grid.addColumnsByConstant(3,5.,\"second\",gl.ELoc.Z)\n",
    "print(\"Attribute corresponding to the first variable named 'second-x' =\",iatt2)\n",
    "grid"
   ]
  },
  {
   "cell_type": "markdown",
   "id": "3d1a17a6",
   "metadata": {},
   "source": [
    "Note that the newly created fields are automatically named using the provided string (*second*) as a radix: the variables are names *second-1\", \"second-2\" and \"second-3\"."
   ]
  },
  {
   "cell_type": "markdown",
   "id": "2e9525c1",
   "metadata": {},
   "source": [
    "Let us now envisage renaming the variable *second-2* into *first*."
   ]
  },
  {
   "cell_type": "code",
   "execution_count": null,
   "id": "e3fa3ab6",
   "metadata": {
    "execution": {
     "iopub.execute_input": "2022-03-04T09:01:51.869426Z",
     "iopub.status.busy": "2022-03-04T09:01:51.868870Z",
     "iopub.status.idle": "2022-03-04T09:01:51.870956Z",
     "shell.execute_reply": "2022-03-04T09:01:51.871316Z"
    }
   },
   "outputs": [],
   "source": [
    "grid.setName(\"second-2\",\"first\")\n",
    "grid"
   ]
  },
  {
   "cell_type": "markdown",
   "id": "8354b8e4",
   "metadata": {},
   "source": [
    "As the name *first* already exists, the field has been renamed to *first.1* instead.\n",
    "\n",
    "We now wish to rename the field *second-3* into *first*."
   ]
  },
  {
   "cell_type": "code",
   "execution_count": null,
   "id": "d48e00ce",
   "metadata": {
    "execution": {
     "iopub.execute_input": "2022-03-04T09:01:51.874472Z",
     "iopub.status.busy": "2022-03-04T09:01:51.873890Z",
     "iopub.status.idle": "2022-03-04T09:01:51.876017Z",
     "shell.execute_reply": "2022-03-04T09:01:51.876366Z"
    }
   },
   "outputs": [],
   "source": [
    "grid.setName(\"second-3\",\"first\")\n",
    "grid"
   ]
  },
  {
   "cell_type": "markdown",
   "id": "4ee9b0e3",
   "metadata": {},
   "source": [
    "The automatic renaming procedure has been applied (adding \".1\") iteratively until names are all different: the field is now called *first.1.1\"."
   ]
  },
  {
   "cell_type": "markdown",
   "id": "92a7320f",
   "metadata": {},
   "source": [
    "Now that we have demonstrated the uniqueness of the names, are there are ways to designate a field?\n",
    "For the next demonstrations, we first recall the current status of the current Db.\n",
    "\n",
    "In order to make the next paragrah more demonstrative, we change the contents of several fields"
   ]
  },
  {
   "cell_type": "code",
   "execution_count": null,
   "id": "d8db94f3",
   "metadata": {
    "execution": {
     "iopub.execute_input": "2022-03-04T09:01:51.879500Z",
     "iopub.status.busy": "2022-03-04T09:01:51.879080Z",
     "iopub.status.idle": "2022-03-04T09:01:51.880633Z",
     "shell.execute_reply": "2022-03-04T09:01:51.880982Z"
    }
   },
   "outputs": [],
   "source": [
    "grid.setColumn(gl.ut_vector_simulate_uniform(nech),\"second-1\")\n",
    "grid.setColumn(gl.ut_vector_simulate_uniform(nech),\"first.1\")\n",
    "grid.setColumn(gl.ut_vector_simulate_uniform(nech),\"first.1.1\")"
   ]
  },
  {
   "cell_type": "code",
   "execution_count": null,
   "id": "367f2dae",
   "metadata": {
    "execution": {
     "iopub.execute_input": "2022-03-04T09:01:51.883957Z",
     "iopub.status.busy": "2022-03-04T09:01:51.883383Z",
     "iopub.status.idle": "2022-03-04T09:01:51.885577Z",
     "shell.execute_reply": "2022-03-04T09:01:51.885927Z"
    }
   },
   "outputs": [],
   "source": [
    "grid"
   ]
  },
  {
   "cell_type": "markdown",
   "id": "a952e883",
   "metadata": {},
   "source": [
    "### By Name"
   ]
  },
  {
   "cell_type": "markdown",
   "id": "f70c6bd0",
   "metadata": {},
   "source": [
    "As an example, we access to the field named *first.1. For short, only the four first values are systematically printed. "
   ]
  },
  {
   "cell_type": "code",
   "execution_count": null,
   "id": "fa0173a7",
   "metadata": {
    "execution": {
     "iopub.execute_input": "2022-03-04T09:01:51.889095Z",
     "iopub.status.busy": "2022-03-04T09:01:51.888512Z",
     "iopub.status.idle": "2022-03-04T09:01:51.891056Z",
     "shell.execute_reply": "2022-03-04T09:01:51.890688Z"
    }
   },
   "outputs": [],
   "source": [
    "grid.getColumn(\"first.1\")[0:4]"
   ]
  },
  {
   "cell_type": "markdown",
   "id": "1156119f",
   "metadata": {},
   "source": [
    "### By Column Index"
   ]
  },
  {
   "cell_type": "raw",
   "id": "5e5c6a04",
   "metadata": {},
   "source": [
    "We recall that the index numbering starts from 0. Therefore field *first-1*  corresponds to the index 5."
   ]
  },
  {
   "cell_type": "code",
   "execution_count": null,
   "id": "27b4f472",
   "metadata": {
    "execution": {
     "iopub.execute_input": "2022-03-04T09:01:51.894142Z",
     "iopub.status.busy": "2022-03-04T09:01:51.893573Z",
     "iopub.status.idle": "2022-03-04T09:01:51.896113Z",
     "shell.execute_reply": "2022-03-04T09:01:51.895676Z"
    },
    "scrolled": true
   },
   "outputs": [],
   "source": [
    "grid.getColumnByColIdx(5)[0:4]"
   ]
  },
  {
   "cell_type": "markdown",
   "id": "bb541d01",
   "metadata": {},
   "source": [
    "### By Attribute Index"
   ]
  },
  {
   "cell_type": "code",
   "execution_count": null,
   "id": "798dedea",
   "metadata": {
    "execution": {
     "iopub.execute_input": "2022-03-04T09:01:51.899140Z",
     "iopub.status.busy": "2022-03-04T09:01:51.898565Z",
     "iopub.status.idle": "2022-03-04T09:01:51.900728Z",
     "shell.execute_reply": "2022-03-04T09:01:51.901079Z"
    },
    "scrolled": true
   },
   "outputs": [],
   "source": [
    "grid.getColumnByUID(5)[0:4]"
   ]
  },
  {
   "cell_type": "markdown",
   "id": "36066eec",
   "metadata": {},
   "source": [
    "### By Locator"
   ]
  },
  {
   "cell_type": "markdown",
   "id": "b069ab24",
   "metadata": {},
   "source": [
    "We note that the target variable corresponds to the locator *z2* which is the second one (index 1) or the Z-locator type."
   ]
  },
  {
   "cell_type": "code",
   "execution_count": null,
   "id": "7db3191a",
   "metadata": {
    "execution": {
     "iopub.execute_input": "2022-03-04T09:01:51.904151Z",
     "iopub.status.busy": "2022-03-04T09:01:51.903597Z",
     "iopub.status.idle": "2022-03-04T09:01:51.906058Z",
     "shell.execute_reply": "2022-03-04T09:01:51.905649Z"
    },
    "scrolled": true
   },
   "outputs": [],
   "source": [
    "grid.getColumnByLocator(gl.ELoc.Z,1)[0:4]"
   ]
  },
  {
   "cell_type": "markdown",
   "id": "70ee3fd4",
   "metadata": {},
   "source": [
    "## Difference between Column and Attribute"
   ]
  },
  {
   "cell_type": "markdown",
   "id": "0508d782",
   "metadata": {},
   "source": [
    "We need to recall the *attribute*  value returned when adding the fields:\n",
    "- *iatt1* (3) when adding the field named *first*\n",
    "- *iatt2* (4) when adding the series of 3 fields (originally named after the radix *second*)\n",
    "\n",
    "To better understand, we need to ask for the display of the data base with a specific option which describes the current status of the attributes, either unsorted or through an order driven by the locator"
   ]
  },
  {
   "cell_type": "code",
   "execution_count": null,
   "id": "939d1e27",
   "metadata": {
    "execution": {
     "iopub.execute_input": "2022-03-04T09:01:51.908778Z",
     "iopub.status.busy": "2022-03-04T09:01:51.908327Z",
     "iopub.status.idle": "2022-03-04T09:01:51.910185Z",
     "shell.execute_reply": "2022-03-04T09:01:51.910517Z"
    }
   },
   "outputs": [],
   "source": [
    "grid.display(dbfmt)"
   ]
  },
  {
   "cell_type": "markdown",
   "id": "ea75f251",
   "metadata": {},
   "source": [
    "We can see that the 7 existing fields currently correspond to the 7 first columns of the Data Base *grid*. The second display gives the indices of the locators in use (*x* and *z*) and the indeices of the attributes corresponding to the ranks of the items for each locator type."
   ]
  },
  {
   "cell_type": "markdown",
   "id": "aea0da3b",
   "metadata": {},
   "source": [
    "Things become more interesting if a field is deleted. To avoid any ambiguity, the field is designated by its name (say *x1*)"
   ]
  },
  {
   "cell_type": "code",
   "execution_count": null,
   "id": "a510bc98",
   "metadata": {
    "execution": {
     "iopub.execute_input": "2022-03-04T09:01:51.913423Z",
     "iopub.status.busy": "2022-03-04T09:01:51.912883Z",
     "iopub.status.idle": "2022-03-04T09:01:51.915343Z",
     "shell.execute_reply": "2022-03-04T09:01:51.914932Z"
    }
   },
   "outputs": [],
   "source": [
    "grid"
   ]
  },
  {
   "cell_type": "code",
   "execution_count": null,
   "id": "ba3aae45",
   "metadata": {
    "execution": {
     "iopub.execute_input": "2022-03-04T09:01:51.918245Z",
     "iopub.status.busy": "2022-03-04T09:01:51.917681Z",
     "iopub.status.idle": "2022-03-04T09:01:51.919757Z",
     "shell.execute_reply": "2022-03-04T09:01:51.920095Z"
    }
   },
   "outputs": [],
   "source": [
    "grid.deleteColumn(\"x1\")\n",
    "grid"
   ]
  },
  {
   "cell_type": "markdown",
   "id": "fcc0ab24",
   "metadata": {},
   "source": [
    "The previous printout shows the current contents of the data base where the field *x1* has been suppressed.\n",
    "Note an important feature of the *locator* notion. For a given locator type (say *x* for coordinates), the locator type is unique and sorted continuously starting from 1.\n",
    "Therefore, when we suppressed the variable *x1* (which corresponded to the locator type *x* and locator rank *1*), the variable *x2* is modified: its name and locator type are not changed but the locator rank is update from *2* to *1*."
   ]
  },
  {
   "cell_type": "markdown",
   "id": "492f527b",
   "metadata": {},
   "source": [
    "We now look at the attributes internal management"
   ]
  },
  {
   "cell_type": "code",
   "execution_count": null,
   "id": "6b926072",
   "metadata": {
    "execution": {
     "iopub.execute_input": "2022-03-04T09:01:51.922802Z",
     "iopub.status.busy": "2022-03-04T09:01:51.922359Z",
     "iopub.status.idle": "2022-03-04T09:01:51.924208Z",
     "shell.execute_reply": "2022-03-04T09:01:51.924536Z"
    }
   },
   "outputs": [],
   "source": [
    "grid.display(dbfmt)"
   ]
  },
  {
   "cell_type": "markdown",
   "id": "0b7b07df",
   "metadata": {},
   "source": [
    "We can see that the list of attributes has not been reduced: the maximum number of positions is still equal to 7. Instead, the rank of the attribute which corresponded to *x1* is now set to -1, to signify that the column is actually missing. The display sorted by locator does not need any additional explanation.\n",
    "\n",
    "Let us now retrieve the information of variable *first.1*  as we did before. We start by addressing the variable by name."
   ]
  },
  {
   "cell_type": "code",
   "execution_count": null,
   "id": "83076515",
   "metadata": {
    "execution": {
     "iopub.execute_input": "2022-03-04T09:01:51.927410Z",
     "iopub.status.busy": "2022-03-04T09:01:51.926864Z",
     "iopub.status.idle": "2022-03-04T09:01:51.928952Z",
     "shell.execute_reply": "2022-03-04T09:01:51.929281Z"
    }
   },
   "outputs": [],
   "source": [
    "grid.getColumn(\"first.1\")[0:4]"
   ]
  },
  {
   "cell_type": "markdown",
   "id": "4915ccdd",
   "metadata": {},
   "source": [
    "We can similarly address it by its column index (the column has moved to rank 5)"
   ]
  },
  {
   "cell_type": "code",
   "execution_count": null,
   "id": "e1df5c3d",
   "metadata": {
    "execution": {
     "iopub.execute_input": "2022-03-04T09:01:51.932160Z",
     "iopub.status.busy": "2022-03-04T09:01:51.931623Z",
     "iopub.status.idle": "2022-03-04T09:01:51.933662Z",
     "shell.execute_reply": "2022-03-04T09:01:51.933989Z"
    }
   },
   "outputs": [],
   "source": [
    "grid.getColumnByColIdx(4)[0:4]"
   ]
  },
  {
   "cell_type": "markdown",
   "id": "0fc37f90",
   "metadata": {},
   "source": [
    "The magic of the *attribute* notion is that it can still be used **unchanged**"
   ]
  },
  {
   "cell_type": "code",
   "execution_count": null,
   "id": "f28a2232",
   "metadata": {
    "execution": {
     "iopub.execute_input": "2022-03-04T09:01:51.936671Z",
     "iopub.status.busy": "2022-03-04T09:01:51.936280Z",
     "iopub.status.idle": "2022-03-04T09:01:51.938784Z",
     "shell.execute_reply": "2022-03-04T09:01:51.938378Z"
    },
    "scrolled": true
   },
   "outputs": [],
   "source": [
    "grid.getColumnByUID(5)[0:4]"
   ]
  },
  {
   "cell_type": "markdown",
   "id": "1d919612",
   "metadata": {},
   "source": [
    "Obviously, trying to read the field which corresponds to the field *x1* (that has just been deleted) returns an empty vector."
   ]
  },
  {
   "cell_type": "code",
   "execution_count": null,
   "id": "1a2defee",
   "metadata": {
    "execution": {
     "iopub.execute_input": "2022-03-04T09:01:51.941503Z",
     "iopub.status.busy": "2022-03-04T09:01:51.941107Z",
     "iopub.status.idle": "2022-03-04T09:01:51.943550Z",
     "shell.execute_reply": "2022-03-04T09:01:51.943201Z"
    }
   },
   "outputs": [],
   "source": [
    "grid.getColumnByUID(1)"
   ]
  },
  {
   "cell_type": "markdown",
   "id": "77f3de35",
   "metadata": {},
   "source": [
    "## Remark on Space Dimension"
   ]
  },
  {
   "cell_type": "markdown",
   "id": "b37f18a3",
   "metadata": {},
   "source": [
    "It might be considered as surprising to see that *grid* is considered as a 2-D Grid while there is only **one** coordinate field (locator *x*). In order to avoid any missunderstanding, let us recall this important fact.\n",
    "\n",
    "The data base *grid* is organized as a grid and for that sake, it contains a descrption of the grid organization. This organization is used to elaborate the coordinates (for example when calling *getCoordinate()* method). The coordinate vectors must only be considered as decoration: they will not be used in any internal operation.\n",
    "\n",
    "As an example this makes particular sense here as the contents of the variable *x2*, despite its locator rank *1* (i.e. index 0) actually contains the **second** coordinate of the samples, as demonstrated in the next line"
   ]
  },
  {
   "cell_type": "code",
   "execution_count": null,
   "id": "6e3cd24d",
   "metadata": {
    "execution": {
     "iopub.execute_input": "2022-03-04T09:01:51.946380Z",
     "iopub.status.busy": "2022-03-04T09:01:51.945990Z",
     "iopub.status.idle": "2022-03-04T09:01:51.948347Z",
     "shell.execute_reply": "2022-03-04T09:01:51.947931Z"
    },
    "scrolled": true
   },
   "outputs": [],
   "source": [
    "grid.getColumnByLocator(gl.ELoc.X, 0)"
   ]
  },
  {
   "cell_type": "markdown",
   "id": "8113e12a",
   "metadata": {},
   "source": [
    "Note that at any time, the coordinate vectors can be regenerated. To avoid confusion, the newly generated coordinate fields are named using the radix \"X\" (uppercase). This feature is obviously only available in the case of a grid"
   ]
  },
  {
   "cell_type": "code",
   "execution_count": null,
   "id": "d14ff880",
   "metadata": {
    "execution": {
     "iopub.execute_input": "2022-03-04T09:01:51.950790Z",
     "iopub.status.busy": "2022-03-04T09:01:51.950398Z",
     "iopub.status.idle": "2022-03-04T09:01:51.952526Z",
     "shell.execute_reply": "2022-03-04T09:01:51.952119Z"
    },
    "scrolled": true
   },
   "outputs": [],
   "source": [
    "grid.generateCoordinates(\"X\")"
   ]
  },
  {
   "cell_type": "code",
   "execution_count": null,
   "id": "35c4ec25",
   "metadata": {
    "execution": {
     "iopub.execute_input": "2022-03-04T09:01:51.955225Z",
     "iopub.status.busy": "2022-03-04T09:01:51.954832Z",
     "iopub.status.idle": "2022-03-04T09:01:51.957314Z",
     "shell.execute_reply": "2022-03-04T09:01:51.956950Z"
    },
    "scrolled": true
   },
   "outputs": [],
   "source": [
    "grid.getColumnByLocator(gl.ELoc.X, 0)"
   ]
  },
  {
   "cell_type": "markdown",
   "id": "0e709b7e",
   "metadata": {},
   "source": [
    "Similarly, we can generate a field containing the sample rank (similar as the information contained in the Field #1). Here again, we generate a new field containing this rank information: in order to avoid confusion, the new variable is called *RANK* (uppercase). Note that this field does not have any locator attached."
   ]
  },
  {
   "cell_type": "code",
   "execution_count": null,
   "id": "23cedb4f",
   "metadata": {
    "execution": {
     "iopub.execute_input": "2022-03-04T09:01:51.959953Z",
     "iopub.status.busy": "2022-03-04T09:01:51.959564Z",
     "iopub.status.idle": "2022-03-04T09:01:51.961706Z",
     "shell.execute_reply": "2022-03-04T09:01:51.961307Z"
    }
   },
   "outputs": [],
   "source": [
    "grid.generateRank(\"RANK\")\n",
    "grid"
   ]
  },
  {
   "cell_type": "markdown",
   "id": "d785463f",
   "metadata": {},
   "source": [
    "## Conclusion"
   ]
  },
  {
   "cell_type": "markdown",
   "id": "a41151b0",
   "metadata": {},
   "source": [
    "As a conclusion:\n",
    "\n",
    "- the variables can be used **safely** when designating them by their **name**\n",
    "- the variables can be used easily when addressing them using the locator notion (type and index)\n",
    "- the use of (column) index is always valid. This index must be defined precisely when using the variable (it must be updated in case of addition or deletion of other variables)\n",
    "- the use of attribute is clever... but it must be used by expert who understands the process. It allows using  fix values, independently of the management of other fields\n",
    "\n",
    "We also recall that all numbering refer to indices (0 based numbering). This is the case for *(column) index* as well as *locator index* per locator type."
   ]
  }
 ],
 "metadata": {
  "kernelspec": {
   "display_name": "Python 3 (ipykernel)",
   "language": "python",
   "name": "python3"
  },
  "language_info": {
   "codemirror_mode": {
    "name": "ipython",
    "version": 3
   },
   "file_extension": ".py",
   "mimetype": "text/x-python",
   "name": "python",
   "nbconvert_exporter": "python",
   "pygments_lexer": "ipython3",
   "version": "3.10.2"
  }
 },
 "nbformat": 4,
 "nbformat_minor": 5
}
