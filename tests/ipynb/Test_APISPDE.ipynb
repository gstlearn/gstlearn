{
 "cells": [
  {
   "cell_type": "code",
   "execution_count": null,
   "id": "ab8a29e8",
   "metadata": {},
   "outputs": [],
   "source": [
    "import scipy as sc\n",
    "from scipy.sparse import *\n",
    "from scipy.sparse.linalg import *\n",
    "import numpy as np\n",
    "import pandas as pd\n",
    "import sys\n",
    "import os\n",
    "import matplotlib.pyplot as plt\n",
    "import gstlearn as gl\n",
    "import gstlearn.plot as gp"
   ]
  },
  {
   "cell_type": "code",
   "execution_count": null,
   "id": "033b0238",
   "metadata": {},
   "outputs": [],
   "source": [
    "def fa(x,y,a,b):\n",
    "    return a*x + b*y\n",
    "\n",
    "def spirale(db,a=0,b=-1.4,c=1.,d=1.,plot = False):\n",
    "    x1c = np.array(db.getColumn(\"x1\")) #getColumn ou mieux getCoords coords = workingDb.getCoords()\n",
    "    x2c = np.array(db.getColumn(\"x2\")) \n",
    "    u1=fa(x1c-50,x2c-50,a,b)\n",
    "    u2=fa(x1c-50,x2c-50,c,d)\n",
    "    shape = db.getNXs()\n",
    "    norm = np.sqrt(u1**2+u2**2)\n",
    "    ind = norm>0\n",
    "    theta = np.zeros_like(norm)\n",
    "    theta[norm>0] = np.arccos(u2[ind]/norm[ind])/np.pi*180*np.sign(u1[ind])\n",
    "    x1c=x1c.reshape(shape)\n",
    "    x2c=x2c.reshape(shape)\n",
    "    u1=u1.reshape(shape)\n",
    "    u2=u2.reshape(shape)\n",
    "    if plot:\n",
    "        plt.quiver(x1c,x2c,u1,u2)\n",
    "        plt.axis(\"equal\")\n",
    "        plt.show()\n",
    "    return theta"
   ]
  },
  {
   "cell_type": "code",
   "execution_count": null,
   "id": "1513f5ca",
   "metadata": {},
   "outputs": [],
   "source": [
    "workingDbc = gl.DbGrid.create([10,10],[10,10])\n",
    "spirale(workingDbc,plot=True);"
   ]
  },
  {
   "cell_type": "code",
   "execution_count": null,
   "id": "467d4791",
   "metadata": {},
   "outputs": [],
   "source": [
    "resultDb = gl.DbGrid.create([200,200],[0.5,0.5]) \n",
    "x1 = resultDb['x1']\n",
    "x2 = resultDb['x2']\n",
    "theta = spirale(resultDb)\n",
    "iatt = resultDb['theta'] = theta\n",
    "resultDb.setLocator(\"theta\",gl.ELoc.NOSTAT)\n",
    "resultDb"
   ]
  },
  {
   "cell_type": "code",
   "execution_count": null,
   "id": "ba9f6604",
   "metadata": {},
   "outputs": [],
   "source": [
    "np.random.seed(124)\n",
    "ndat=10000\n",
    "coords=np.random.uniform(1,99,size=(ndat,2))\n",
    "dat = gl.Db()\n",
    "dat[\"X\"]= coords[:,0]\n",
    "dat[\"Y\"]= coords[:,1]\n",
    "dat.setLocators(['X','Y'],gl.ELoc.X)"
   ]
  },
  {
   "cell_type": "code",
   "execution_count": null,
   "id": "27d40e69",
   "metadata": {},
   "outputs": [],
   "source": [
    "model = gl.Model.createFromDb(resultDb)\n",
    "cova = gl.CovAniso(gl.ECov.BESSEL_K,model.getContext()) #Alias ECov.MATERN\n",
    "cova.setRanges([4,45])\n",
    "model.addCov(cova)"
   ]
  },
  {
   "cell_type": "code",
   "execution_count": null,
   "id": "9b1f9cc5",
   "metadata": {},
   "outputs": [],
   "source": [
    "workingDb = gl.DbGrid.create([101,101],[1.,1.]) \n",
    "mesh = gl.MeshETurbo(workingDb)"
   ]
  },
  {
   "cell_type": "code",
   "execution_count": null,
   "id": "be8908e8",
   "metadata": {
    "scrolled": false
   },
   "outputs": [],
   "source": [
    "NoStat = gl.NoStatArray([\"A\"], resultDb)\n",
    "err = model.addNoStat(NoStat)"
   ]
  },
  {
   "cell_type": "code",
   "execution_count": null,
   "id": "f7d82d30",
   "metadata": {},
   "outputs": [],
   "source": [
    "S = gl.ShiftOpCs(mesh, model, resultDb)"
   ]
  },
  {
   "cell_type": "code",
   "execution_count": null,
   "id": "623d28c8",
   "metadata": {},
   "outputs": [],
   "source": [
    "Qsimu = gl.PrecisionOp(S, cova, gl.EPowerPT.MINUSHALF, False)"
   ]
  },
  {
   "cell_type": "code",
   "execution_count": null,
   "id": "0410a2fc",
   "metadata": {},
   "outputs": [],
   "source": [
    "vect = np.random.normal(size=Qsimu.getSize())\n",
    "result = gl.VectorDouble(np.zeros(Qsimu.getSize()))\n",
    "Qsimu.eval(vect,result)\n",
    "workingDb.addColumns(result.getVector(),\"Simu\",gl.ELoc.X)\n",
    "\n",
    "gp.grid(workingDb,\"Simu\")\n",
    "spirale(workingDbc,plot=True);"
   ]
  },
  {
   "cell_type": "code",
   "execution_count": null,
   "id": "5b0303a0",
   "metadata": {},
   "outputs": [],
   "source": [
    "ind = np.random.choice(workingDb.getActiveSampleNumber(), size=100, replace=False)\n",
    "data = gl.Db()\n",
    "data['x1'] = workingDb['x1'][ind]\n",
    "data['x2'] = workingDb['x1'][ind]\n",
    "data['z']  = workingDb['Simu'][ind]\n",
    "data.setLocator('x*',gl.ELoc.X)\n",
    "data.setLocator('z',gl.ELoc.Z)\n",
    "data"
   ]
  },
  {
   "cell_type": "code",
   "execution_count": null,
   "id": "bf5e7517",
   "metadata": {},
   "outputs": [],
   "source": [
    "spde = gl.SPDE(model,resultDb,data,gl.ESPDECalcMode.SIMUNONCOND)"
   ]
  },
  {
   "cell_type": "code",
   "execution_count": null,
   "id": "0b64ecba",
   "metadata": {},
   "outputs": [],
   "source": [
    "spde.compute()"
   ]
  },
  {
   "cell_type": "code",
   "execution_count": null,
   "id": "56f38643",
   "metadata": {},
   "outputs": [],
   "source": [
    "iuid = spde.query(workingDb)"
   ]
  },
  {
   "cell_type": "code",
   "execution_count": null,
   "id": "137d51e0",
   "metadata": {},
   "outputs": [],
   "source": [
    "ax=gp.grid(workingDb,'*simu')"
   ]
  }
 ],
 "metadata": {
  "kernelspec": {
   "display_name": "Python 3 (ipykernel)",
   "language": "python",
   "name": "python3"
  },
  "language_info": {
   "codemirror_mode": {
    "name": "ipython",
    "version": 3
   },
   "file_extension": ".py",
   "mimetype": "text/x-python",
   "name": "python",
   "nbconvert_exporter": "python",
   "pygments_lexer": "ipython3",
   "version": "3.10.5"
  }
 },
 "nbformat": 4,
 "nbformat_minor": 5
}
