{
 "cells": [
  {
   "cell_type": "markdown",
   "metadata": {},
   "source": [
    "# Pluri-Gaussian 2D"
   ]
  },
  {
   "cell_type": "markdown",
   "metadata": {},
   "source": [
    "## 0. Preamble"
   ]
  },
  {
   "cell_type": "code",
   "execution_count": null,
   "metadata": {},
   "outputs": [],
   "source": [
    "%%javascript\n",
    "IPython.OutputArea.prototype._should_scroll = function(lines) {\n",
    "    // Remove Scrollbar in outputs\n",
    "    return false;\n",
    "}"
   ]
  },
  {
   "cell_type": "markdown",
   "metadata": {},
   "source": [
    "This tutorial requires to install\n",
    "\n",
    "- gstlearn\n",
    "- numpy\n",
    "- pandas\n",
    "- matplotlib"
   ]
  },
  {
   "cell_type": "code",
   "execution_count": null,
   "metadata": {},
   "outputs": [],
   "source": [
    "import pandas as pd\n",
    "import numpy as np\n",
    "import matplotlib.pyplot as plt\n",
    "import gstlearn as gl\n",
    "import gstlearn.plot as gp\n",
    "import os"
   ]
  },
  {
   "cell_type": "markdown",
   "metadata": {},
   "source": [
    "## 1. Prepare the basic gstlearn objects\n",
    "\n",
    "Initial objects are located in a specific Directory which is defined in the next Container operation. Note that his operation will modify automatically all the names of the Files retreived using Serialize / Deserialize operation (not when reading using CSV). Also note that the Container name must be ended using a \"/\" (as its serves as a Directory)."
   ]
  },
  {
   "cell_type": "code",
   "execution_count": null,
   "metadata": {},
   "outputs": [],
   "source": [
    "ndim = 2\n",
    "gl.ASpaceObject.defineDefaultSpace(gl.SPACE_RN,ndim)"
   ]
  },
  {
   "cell_type": "markdown",
   "metadata": {},
   "source": [
    "### Load the data file\n",
    "\n",
    "This Load is performed starting from a CSV file."
   ]
  },
  {
   "cell_type": "code",
   "execution_count": null,
   "metadata": {},
   "outputs": [],
   "source": [
    "dataDir = os.path.join(os.path.pardir,os.path.pardir,\"doc\",\"data\",\"BRGM\")\n",
    "datCat = pd.read_csv(os.path.join(dataDir,\"Nitrates_LANU.csv\"),sep=\";\")\n",
    "datCat.head()"
   ]
  },
  {
   "cell_type": "markdown",
   "metadata": {},
   "source": [
    "### Loading polygon from a file\n",
    "\n",
    "The polygon is created by deserializing the Neutral Polygon File (located in data Directory)"
   ]
  },
  {
   "cell_type": "code",
   "execution_count": null,
   "metadata": {},
   "outputs": [],
   "source": [
    "poly = gl.Polygons.createFromNF(os.path.join(dataDir,\"poly_LANU.ascii\"))\n",
    "poly"
   ]
  },
  {
   "cell_type": "markdown",
   "metadata": {},
   "source": [
    "### Creation of the gstlearn data base "
   ]
  },
  {
   "cell_type": "code",
   "execution_count": null,
   "metadata": {},
   "outputs": [],
   "source": [
    "dat = gl.Db()\n",
    "fields = [\"X\",\"Y\",\"LANU\"]\n",
    "dat[fields] = datCat[fields].values"
   ]
  },
  {
   "cell_type": "markdown",
   "metadata": {},
   "source": [
    "###  Specification of the role of each variable (named \"locators\" in gstlearn)"
   ]
  },
  {
   "cell_type": "code",
   "execution_count": null,
   "metadata": {},
   "outputs": [],
   "source": [
    "dat.setLocators([\"X\",\"Y\"],gl.ELoc.X) #Coordinates\n",
    "dat.setLocator(\"LANU\",gl.ELoc.Z) #Variable of interest\n",
    "dat"
   ]
  },
  {
   "cell_type": "markdown",
   "metadata": {},
   "source": [
    "### Creation of the output grid\n",
    "\n",
    "The output grid will contain 47 x 101 nodes. It is built to cover the data file plus an extension of 10000 x 10000."
   ]
  },
  {
   "cell_type": "code",
   "execution_count": null,
   "metadata": {
    "scrolled": false
   },
   "outputs": [],
   "source": [
    "Result = gl.DbGrid()\n",
    "Result.resetCoveringDb(dat,[47,101],[],[],[50000,50000])"
   ]
  },
  {
   "cell_type": "markdown",
   "metadata": {},
   "source": [
    "### Add a selection (mask the cells outside the polygon)"
   ]
  },
  {
   "cell_type": "code",
   "execution_count": null,
   "metadata": {},
   "outputs": [],
   "source": [
    "gl.db_polygon(Result,poly)\n",
    "ax = gp.grid(Result,name=\"Polygon*\",usesel=False,flagColorBar=False,figsize=[10,10],\n",
    "            title=\"Initial information\")\n",
    "ax = gp.point(dat,\"LANU\",size=2,ax=ax)\n",
    "ax = gp.polygon(poly,end_plot=True,linewidth=1,edgeColor=\"r\",ax=ax)"
   ]
  },
  {
   "cell_type": "markdown",
   "metadata": {},
   "source": [
    "## 2. Computation of the proportions"
   ]
  },
  {
   "cell_type": "markdown",
   "metadata": {},
   "source": [
    "### 2.1 Compute global proportions (for information)"
   ]
  },
  {
   "cell_type": "code",
   "execution_count": null,
   "metadata": {},
   "outputs": [],
   "source": [
    "propGlob = gl.dbStatisticsFacies(dat)\n",
    "ncat = len(propGlob)\n",
    "for i in range(ncat):\n",
    "    print(\"Proportion of facies \"+str(i+1),\"=\",propGlob[i])"
   ]
  },
  {
   "cell_type": "markdown",
   "metadata": {},
   "source": [
    "### 2.2 Compute local proportions\n",
    "\n",
    "The next parts will be simplified in a future dedicated API"
   ]
  },
  {
   "cell_type": "markdown",
   "metadata": {},
   "source": [
    "**2.2.1 Creation of the spatial regularization model for proportions**"
   ]
  },
  {
   "cell_type": "code",
   "execution_count": null,
   "metadata": {},
   "outputs": [],
   "source": [
    "model = gl.Model.createFromDb(Result)\n",
    "cova = gl.CovAniso(gl.ECov.BESSEL_K,50000.,2.,1.,model.getContext()) \n",
    "model.addCov(cova)"
   ]
  },
  {
   "cell_type": "code",
   "execution_count": null,
   "metadata": {},
   "outputs": [],
   "source": [
    "err = gl.db_proportion_estimate(dat,Result,model)"
   ]
  },
  {
   "cell_type": "code",
   "execution_count": null,
   "metadata": {},
   "outputs": [],
   "source": [
    "Result.display()"
   ]
  },
  {
   "cell_type": "code",
   "execution_count": null,
   "metadata": {},
   "outputs": [],
   "source": [
    "dbfmt = gl.DbStringFormat()\n",
    "dbfmt.setParams(gl.FLAG_STATS)\n",
    "dbfmt.setNames([\"Prop.*\"])\n",
    "Result.display(dbfmt)"
   ]
  },
  {
   "cell_type": "markdown",
   "metadata": {},
   "source": [
    "### Display the results"
   ]
  },
  {
   "cell_type": "code",
   "execution_count": null,
   "metadata": {
    "scrolled": false
   },
   "outputs": [],
   "source": [
    "for i in range(ncat):\n",
    "    ax = gp.grid(Result,name=\"Prop.\"+str(i+1),end_plot=False,title=\"Proportion Facies #\"+str(i+1),\n",
    "                figsize=[10,10])\n",
    "    gp.point(dat,size=0.5,color=\"black\",ax=ax)\n",
    "    dat.addSelectionByLimit(\"LANU\",gl.Limits((i+1,i+1)),\"SelPoint\")\n",
    "    gp.point(dat,size=0.8,ax=ax,color=\"red\")\n",
    "    dat.deleteColumn(\"SelPoint\")\n",
    "    gp.polygon(poly,end_plot=True,linewidth=1,edgeColor=\"r\",ax=ax)"
   ]
  },
  {
   "cell_type": "markdown",
   "metadata": {},
   "source": [
    "Creating the environment to infer the Rule. It uses a variogram calculated over very few lags close to the origin."
   ]
  },
  {
   "cell_type": "code",
   "execution_count": null,
   "metadata": {
    "scrolled": true
   },
   "outputs": [],
   "source": [
    "nlag = 2\n",
    "varioParam = gl.VarioParam()\n",
    "dirparam = gl.DirParam(ndim, nlag, 100);\n",
    "varioParam.addDirs(dirparam);\n",
    "ruleprop = gl.RuleProp.createFromDb(Result);         \n",
    "ruleprop.fit(dat, varioParam, 1);\n",
    "ngrf = ruleprop.getRule().getGRFNumber()\n",
    "print(\"Number of GRF =\",ngrf)"
   ]
  },
  {
   "cell_type": "code",
   "execution_count": null,
   "metadata": {
    "scrolled": true
   },
   "outputs": [],
   "source": [
    "ax=gp.rule(ruleprop.getRule())"
   ]
  },
  {
   "cell_type": "code",
   "execution_count": null,
   "metadata": {},
   "outputs": [],
   "source": [
    "nlag = 19;\n",
    "dirparam = gl.DirParam(ndim, nlag, 1000);\n",
    "covparam = gl.VarioParam();\n",
    "covparam.addDirs(dirparam);\n",
    "cov = gl.variogram_pgs(dat,covparam,ruleprop);"
   ]
  },
  {
   "cell_type": "code",
   "execution_count": null,
   "metadata": {},
   "outputs": [],
   "source": [
    "cov.display()"
   ]
  },
  {
   "cell_type": "markdown",
   "metadata": {},
   "source": [
    "We extract the experimental variograms of each GRF."
   ]
  },
  {
   "cell_type": "code",
   "execution_count": null,
   "metadata": {},
   "outputs": [],
   "source": [
    "vario1 = gl.Vario(cov)\n",
    "vario1.reduce([0],gl.VectorInt(),True)\n",
    "if ngrf > 1:\n",
    "    vario2 = gl.Vario(cov)\n",
    "    vario2.reduce([1],gl.VectorInt(),True)"
   ]
  },
  {
   "cell_type": "code",
   "execution_count": null,
   "metadata": {},
   "outputs": [],
   "source": [
    "vario1.display()\n",
    "if ngrf > 1:\n",
    "    vario2.display()"
   ]
  },
  {
   "cell_type": "markdown",
   "metadata": {},
   "source": [
    "We now fit the model of each GRF considered as independent. The fit is performed under the constraint that the sill should be 1."
   ]
  },
  {
   "cell_type": "code",
   "execution_count": null,
   "metadata": {},
   "outputs": [],
   "source": [
    "ctxt = gl.CovContext(1,2) # use default space\n",
    "option = gl.Option_AutoFit()\n",
    "option.setConstantSillValue(1.)\n",
    "covs  = [gl.ECov.BESSEL_K, gl.ECov.EXPONENTIAL]\n",
    "\n",
    "modelPGS1 = gl.Model(ctxt)\n",
    "modelPGS1.fit(vario1,covs,False,option)\n",
    "modelPGS1.display()\n",
    "\n",
    "if ngrf > 1:\n",
    "    modelPGS2 = gl.Model(ctxt)\n",
    "    modelPGS2.fit(vario2,covs,False,option)\n",
    "    modelPGS2.display()\n",
    "else:\n",
    "    modelPGS2 = None"
   ]
  },
  {
   "cell_type": "markdown",
   "metadata": {},
   "source": [
    "For each GRF, we can plot the experimental variogram as well as the fitted model."
   ]
  },
  {
   "cell_type": "code",
   "execution_count": null,
   "metadata": {},
   "outputs": [],
   "source": [
    "vario1.getVar(0,0)"
   ]
  },
  {
   "cell_type": "code",
   "execution_count": null,
   "metadata": {
    "scrolled": true
   },
   "outputs": [],
   "source": [
    "ax=gp.varmod(vario1,modelPGS1)\n",
    "if ngrf > 1:\n",
    "    ax=gp.varmod(vario2,modelPGS2)"
   ]
  },
  {
   "cell_type": "markdown",
   "metadata": {},
   "source": [
    "In this paragraph, we compare the experimental indicator variogram to the one derived from the Model of the underlying GRFs."
   ]
  },
  {
   "cell_type": "code",
   "execution_count": null,
   "metadata": {},
   "outputs": [],
   "source": [
    "dirparamindic = gl.DirParam(ndim, nlag, 1000)\n",
    "varioparamindic = gl.VarioParam()\n",
    "varioparamindic.addDirs(dirparamindic)\n",
    "varioindic = gl.Vario(varioparamindic,dat)\n",
    "err = varioindic.computeIndic()"
   ]
  },
  {
   "cell_type": "code",
   "execution_count": null,
   "metadata": {},
   "outputs": [],
   "source": [
    "varioindic2 = gl.model_pgs(dat, varioparamindic, ruleprop, modelPGS1, modelPGS2);"
   ]
  },
  {
   "cell_type": "code",
   "execution_count": null,
   "metadata": {},
   "outputs": [],
   "source": [
    "axs=gp.varmod(varioindic,figsize=[10,10],linestyle='solid')\n",
    "axs=gp.varmod(varioindic2,axs=axs,linestyle='dashed')"
   ]
  },
  {
   "cell_type": "code",
   "execution_count": null,
   "metadata": {},
   "outputs": [],
   "source": [
    "neigh = gl.NeighUnique.create(2)\n",
    "err = gl.simpgs(dat,Result,ruleprop,modelPGS1,modelPGS2,neigh)"
   ]
  },
  {
   "cell_type": "code",
   "execution_count": null,
   "metadata": {
    "scrolled": true
   },
   "outputs": [],
   "source": [
    "ax = gp.grid(Result,figsize=[10,10])"
   ]
  }
 ],
 "metadata": {
  "kernelspec": {
   "display_name": "Python 3",
   "language": "python",
   "name": "python3"
  },
  "language_info": {
   "codemirror_mode": {
    "name": "ipython",
    "version": 3
   },
   "file_extension": ".py",
   "mimetype": "text/x-python",
   "name": "python",
   "nbconvert_exporter": "python",
   "pygments_lexer": "ipython3",
   "version": "3.8.5"
  }
 },
 "nbformat": 4,
 "nbformat_minor": 5
}
