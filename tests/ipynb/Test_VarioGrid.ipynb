{
 "cells": [
  {
   "cell_type": "markdown",
   "metadata": {},
   "source": [
    "# Variogram on grid"
   ]
  },
  {
   "cell_type": "markdown",
   "metadata": {},
   "source": [
    "This file is meant to demonstrate the use of gstlearn by loading a numpy array, perform some calculations (including variogram) based on the grid organization and return the variogram output arrays to be used in Python"
   ]
  },
  {
   "cell_type": "code",
   "execution_count": null,
   "metadata": {},
   "outputs": [],
   "source": [
    "import os\n",
    "import sys\n",
    "import numpy as np\n",
    "import gstlearn as gl\n",
    "import gstlearn.plot as gp\n",
    "verbose = True"
   ]
  },
  {
   "cell_type": "markdown",
   "metadata": {},
   "source": [
    "## Define an array in Python"
   ]
  },
  {
   "cell_type": "markdown",
   "metadata": {},
   "source": [
    "Here we define two numpy.arrays containing real values. They should be viewed as two variables defined on a regular 2-D grid"
   ]
  },
  {
   "cell_type": "code",
   "execution_count": null,
   "metadata": {},
   "outputs": [],
   "source": [
    "ndim = 2\n",
    "nx = 5\n",
    "ny = 3\n",
    "\n",
    "array1 = np.arange(0.,nx * ny).reshape(nx * ny)\n",
    "array2 = np.random.randn(nx * ny)\n",
    "if verbose:\n",
    "    print(array1)\n",
    "    print(array2)"
   ]
  },
  {
   "cell_type": "markdown",
   "metadata": {},
   "source": [
    "## Import this array in gstlearn"
   ]
  },
  {
   "cell_type": "markdown",
   "metadata": {},
   "source": [
    "First of all, the global instruction for defining the default dimension number is called and the Help of the Db class is displayed."
   ]
  },
  {
   "cell_type": "code",
   "execution_count": null,
   "metadata": {},
   "outputs": [],
   "source": [
    "ndim = 2\n",
    "gl.ASpaceObject.defineDefaultSpace(gl.SPACE_RN, ndim)"
   ]
  },
  {
   "cell_type": "markdown",
   "metadata": {},
   "source": [
    "Then, the Grid file is created first (defining the origin, mesh size and count). Then each variable is added one by one, giving the name. Then, the 'Z' Locator is set for the two variables. Note that locators are entered simultaneously. Otherwise, \"var1\" will be assigned to locator \"z1\". Then, when adding \"var2\", it will be assigned in turn to \"z1\", erasing the locator previously assigned to \"var1\"."
   ]
  },
  {
   "cell_type": "code",
   "execution_count": null,
   "metadata": {},
   "outputs": [],
   "source": [
    "x0 = [1., 3.]\n",
    "dx = [2., 1.]\n",
    "grid = gl.DbGrid.create([nx,ny],dx,x0)\n",
    "ipt_z1 = grid.addColumns(array1, \"var1\")\n",
    "ipt_z2 = grid.addColumns(array2, \"var2\")\n",
    "grid.setLocators([\"var1\",\"var2\"], gl.ELoc.Z)\n",
    "if verbose:\n",
    "    print(grid)"
   ]
  },
  {
   "cell_type": "markdown",
   "metadata": {},
   "source": [
    "## Calculate the Variogram on Grid"
   ]
  },
  {
   "cell_type": "markdown",
   "metadata": {},
   "source": [
    "We now calculate the variogram on the grid specifying the parameters : 2 orthogonal directions with 5 lags of grid mesh size."
   ]
  },
  {
   "cell_type": "code",
   "execution_count": null,
   "metadata": {},
   "outputs": [],
   "source": [
    "nvar = grid.getVariableNumber()\n",
    "variop = gl.VarioParam()\n",
    "npas = 5\n",
    "dir1 = gl.DirParam(ndim,npas,dx[0])\n",
    "dir1.setGrincr([1,0])\n",
    "dir2 = gl.DirParam(ndim,20,dx[1])\n",
    "dir2.setGrincr([0,1])\n",
    "variop.addDirs(dir1)\n",
    "variop.addDirs(dir2)\n",
    "vario = gl.Vario(variop,grid)\n",
    "err = vario.compute()\n",
    "if verbose:\n",
    "    print(vario)"
   ]
  },
  {
   "cell_type": "markdown",
   "metadata": {},
   "source": [
    "Extract the variogram items corresponding to the variable #1 and direction #2 as an example. Note that the variables and directions are numbered starting from 0"
   ]
  },
  {
   "cell_type": "code",
   "execution_count": null,
   "metadata": {
    "scrolled": true
   },
   "outputs": [],
   "source": [
    "ivar = 0\n",
    "jvar = 0\n",
    "idir = 1\n",
    "sw = vario.getSwVec(idir,ivar,jvar)\n",
    "hh = vario.getHhVec(idir,ivar,jvar)\n",
    "gg = vario.getGgVec(idir,ivar,jvar)\n",
    "variance = vario.getVar(ivar,jvar)"
   ]
  },
  {
   "cell_type": "markdown",
   "metadata": {},
   "source": [
    "We can also plot it using the plotting module functions"
   ]
  },
  {
   "cell_type": "code",
   "execution_count": null,
   "metadata": {},
   "outputs": [],
   "source": [
    "ax = gp.varmod(vario,None,ivar,jvar,idir)"
   ]
  }
 ],
 "metadata": {
  "kernelspec": {
   "display_name": "Python 3",
   "language": "python",
   "name": "python3"
  },
  "language_info": {
   "codemirror_mode": {
    "name": "ipython",
    "version": 3
   },
   "file_extension": ".py",
   "mimetype": "text/x-python",
   "name": "python",
   "nbconvert_exporter": "python",
   "pygments_lexer": "ipython3",
   "version": "3.8.5"
  }
 },
 "nbformat": 4,
 "nbformat_minor": 4
}
