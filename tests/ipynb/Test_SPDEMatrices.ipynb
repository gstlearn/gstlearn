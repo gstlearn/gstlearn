{
 "cells": [
  {
   "cell_type": "markdown",
   "metadata": {},
   "source": [
    "Packages réguliers"
   ]
  },
  {
   "cell_type": "code",
   "execution_count": null,
   "metadata": {},
   "outputs": [],
   "source": [
    "import scipy as sc\n",
    "from scipy.sparse import *\n",
    "from scipy.sparse.linalg import *\n",
    "import numpy as np\n",
    "import pandas as pd\n",
    "import sys\n",
    "import os\n",
    "import matplotlib.pyplot as plt\n",
    "import gstlearn as gl\n",
    "import gstlearn.plot as gp"
   ]
  },
  {
   "cell_type": "markdown",
   "metadata": {},
   "source": [
    "Paramètres d'environnement"
   ]
  },
  {
   "cell_type": "code",
   "execution_count": null,
   "metadata": {},
   "outputs": [],
   "source": [
    "verbose = False"
   ]
  },
  {
   "cell_type": "markdown",
   "metadata": {},
   "source": [
    "### Création du champ de vecteur"
   ]
  },
  {
   "cell_type": "code",
   "execution_count": null,
   "metadata": {},
   "outputs": [],
   "source": [
    "def fa(x,y,a,b):\n",
    "    return a*x + b*y\n",
    "\n",
    "def spirale(db,a=0,b=-1.4,c=1.,d=1.,plot = False):\n",
    "    x1c = np.array(db.getColumn(\"x1\")) #getColumn ou mieux getCoords coords = workingDb.getCoords()\n",
    "    x2c = np.array(db.getColumn(\"x2\")) \n",
    "    u1=fa(x1c-50,x2c-50,a,b)\n",
    "    u2=fa(x1c-50,x2c-50,c,d)\n",
    "    shape = db.getNXs()\n",
    "    norm = np.sqrt(u1**2+u2**2)\n",
    "    ind = norm>0\n",
    "    theta = np.zeros_like(norm)\n",
    "    theta[norm>0] = np.arccos(u2[ind]/norm[ind])/np.pi*180*np.sign(u1[ind])\n",
    "    x1c=x1c.reshape(shape)\n",
    "    x2c=x2c.reshape(shape)\n",
    "    u1=u1.reshape(shape)\n",
    "    u2=u2.reshape(shape)\n",
    "    if plot:\n",
    "        plt.quiver(x1c,x2c,u1,u2)\n",
    "        plt.axis(\"equal\")\n",
    "        plt.show()\n",
    "    return theta"
   ]
  },
  {
   "cell_type": "markdown",
   "metadata": {},
   "source": [
    "Draw a vector field"
   ]
  },
  {
   "cell_type": "code",
   "execution_count": null,
   "metadata": {},
   "outputs": [],
   "source": [
    "workingDbc = gl.DbGrid.create([10,10],[10,10])\n",
    "spirale(workingDbc,plot=True);"
   ]
  },
  {
   "cell_type": "markdown",
   "metadata": {},
   "source": [
    "Création de la grille de travail"
   ]
  },
  {
   "cell_type": "code",
   "execution_count": null,
   "metadata": {},
   "outputs": [],
   "source": [
    "resultDb = gl.DbGrid.create([200,200],[0.5,0.5]) "
   ]
  },
  {
   "cell_type": "markdown",
   "metadata": {},
   "source": [
    "Création de la db des données"
   ]
  },
  {
   "cell_type": "code",
   "execution_count": null,
   "metadata": {},
   "outputs": [],
   "source": [
    "np.random.seed(124)\n",
    "ndat=10000\n",
    "coords=np.random.uniform(1,99,size=(ndat,2))\n",
    "dat = gl.Db()\n",
    "dat.addColumns(coords[:,0],\"X\")\n",
    "dat.addColumns(coords[:,1],\"Y\")\n",
    "dat.setLocators(['X','Y'],gl.ELoc.X)"
   ]
  },
  {
   "cell_type": "markdown",
   "metadata": {},
   "source": [
    "Création du modèle. Attention le grand axe doit etre fourni en premier: il correspond à la direction pointée par l'angle 'theta'."
   ]
  },
  {
   "cell_type": "code",
   "execution_count": null,
   "metadata": {},
   "outputs": [],
   "source": [
    "model = gl.Model.createFromDb(resultDb)\n",
    "cova = gl.CovAniso(gl.ECov.BESSEL_K,model.getContext()) #Alias ECov.MATERN\n",
    "cova.setRanges([4,45])\n",
    "model.addCov(cova)\n",
    "spirale = gl.FunctionalSpirale(0., 1.4, 1., 1., 50., 50.);\n",
    "nostat = gl.NoStatFunctional(spirale)\n",
    "err = model.addNoStat(nostat)"
   ]
  },
  {
   "cell_type": "markdown",
   "metadata": {},
   "source": [
    "Création du meshing (Turbo)"
   ]
  },
  {
   "cell_type": "code",
   "execution_count": null,
   "metadata": {},
   "outputs": [],
   "source": [
    "workingDb = gl.DbGrid.create([101,101],[1,1]) \n",
    "mesh = gl.MeshETurbo(workingDb)"
   ]
  },
  {
   "cell_type": "markdown",
   "metadata": {},
   "source": [
    "Création du Shift Operator"
   ]
  },
  {
   "cell_type": "code",
   "execution_count": null,
   "metadata": {},
   "outputs": [],
   "source": [
    "S = gl.ShiftOpCs(mesh, model, resultDb)"
   ]
  },
  {
   "cell_type": "markdown",
   "metadata": {},
   "source": [
    "Création de l'opérateur de précision"
   ]
  },
  {
   "cell_type": "code",
   "execution_count": null,
   "metadata": {},
   "outputs": [],
   "source": [
    "Qsimu = gl.PrecisionOp(S, cova, gl.EPowerPT.MINUSHALF, verbose)"
   ]
  },
  {
   "cell_type": "markdown",
   "metadata": {},
   "source": [
    "Simulation non-conditionnelle"
   ]
  },
  {
   "cell_type": "code",
   "execution_count": null,
   "metadata": {
    "scrolled": true
   },
   "outputs": [],
   "source": [
    "vect = gl.VectorDouble(np.random.normal(size=Qsimu.getSize()))\n",
    "result = gl.VectorDouble(np.empty_like(vect))\n",
    "Qsimu.eval(vect,result)\n",
    "workingDb.addColumns(result,\"Simu\",gl.ELoc.X)\n",
    "\n",
    "ax = gp.grid(workingDb,\"Simu\")"
   ]
  },
  {
   "cell_type": "markdown",
   "metadata": {},
   "source": [
    "Matrice de précision"
   ]
  },
  {
   "cell_type": "code",
   "execution_count": null,
   "metadata": {},
   "outputs": [],
   "source": [
    "Qkriging = gl.PrecisionOpCs(S, cova, gl.EPowerPT.ONE)\n",
    "Qtr = gl.csToTriplet(Qkriging.getQ())\n",
    "Qmat = sc.sparse.csc_matrix((np.array(Qtr.values), (np.array(Qtr.rows), np.array(Qtr.cols))))"
   ]
  },
  {
   "cell_type": "markdown",
   "metadata": {},
   "source": [
    "## Comparaison produit par Q de 2 façons"
   ]
  },
  {
   "cell_type": "code",
   "execution_count": null,
   "metadata": {},
   "outputs": [],
   "source": [
    "xx=np.random.normal(size=Qkriging.getSize())\n",
    "vectxx = gl.VectorDouble(xx)"
   ]
  },
  {
   "cell_type": "code",
   "execution_count": null,
   "metadata": {},
   "outputs": [],
   "source": [
    "y=Qmat@xx"
   ]
  },
  {
   "cell_type": "code",
   "execution_count": null,
   "metadata": {},
   "outputs": [],
   "source": [
    "resultxx = gl.VectorDouble(np.empty_like(vectxx))\n",
    "Qkriging.eval(vectxx,resultxx)"
   ]
  },
  {
   "cell_type": "code",
   "execution_count": null,
   "metadata": {},
   "outputs": [],
   "source": [
    "plt.scatter(resultxx,y,s=1)\n",
    "plt.show()"
   ]
  },
  {
   "cell_type": "markdown",
   "metadata": {},
   "source": [
    "### Vérification de l'inverse"
   ]
  },
  {
   "cell_type": "code",
   "execution_count": null,
   "metadata": {},
   "outputs": [],
   "source": [
    "Qtest = gl.PrecisionOp(S, cova, gl.EPowerPT.MINUSONE)\n",
    "resulttest = gl.VectorDouble(np.empty_like(vectxx))\n",
    "Qtest.eval(resultxx,resulttest)\n",
    "plt.scatter(resulttest,xx,s=1)\n",
    "plt.show()"
   ]
  },
  {
   "cell_type": "markdown",
   "metadata": {},
   "source": [
    "# Suspect \n",
    "\n",
    "Comparaison de $Q^{-1}x$ et $Q^{-1/2}Q^{-1/2}x$"
   ]
  },
  {
   "cell_type": "code",
   "execution_count": null,
   "metadata": {},
   "outputs": [],
   "source": [
    "xx=np.random.normal(size=Qkriging.getSize())\n",
    "vectxx = gl.VectorDouble(xx)\n",
    "resultxx2 = gl.VectorDouble(np.empty_like(vectxx))\n",
    "\n",
    "#Méthode 1\n",
    "Qsimu.eval(xx,vectxx)\n",
    "Qsimu.eval(vectxx,resultxx2)\n",
    "\n",
    "#Méthode 2\n",
    "Qtest.eval(xx,resulttest)\n",
    "\n",
    "plt.scatter(resultxx2,resulttest,s=1)\n",
    "plt.show()"
   ]
  },
  {
   "cell_type": "markdown",
   "metadata": {},
   "source": [
    "Matrice de projection (on utilise un constructeur specifique)"
   ]
  },
  {
   "cell_type": "code",
   "execution_count": null,
   "metadata": {},
   "outputs": [],
   "source": [
    "B = gl.ProjMatrix(dat,mesh)\n",
    "Btr = gl.csToTriplet(B.getAproj())\n",
    "Bmat=sc.sparse.csc_matrix((np.array(Btr.values), (np.array(Btr.rows), np.array(Btr.cols))),\n",
    "                          shape=(Btr.nrows,Btr.ncols))"
   ]
  },
  {
   "cell_type": "markdown",
   "metadata": {},
   "source": [
    "Génération des données"
   ]
  },
  {
   "cell_type": "code",
   "execution_count": null,
   "metadata": {},
   "outputs": [],
   "source": [
    "size = dat.getSampleNumber()\n",
    "u=gl.VectorDouble(np.zeros(size))\n",
    "B.mesh2point(result,u)\n",
    "dat.addColumns(u,\"Z\",gl.ELoc.Z)\n",
    "plt.scatter(coords[:,0],coords[:,1],s=.5,c=dat.getColumn(\"Z\"),marker=\"s\")\n",
    "plt.show()\n",
    "datVal =[i for i in u]"
   ]
  },
  {
   "cell_type": "code",
   "execution_count": null,
   "metadata": {},
   "outputs": [],
   "source": [
    "nug = 0.01\n",
    "WorkingMat = Qmat+1/nug * Bmat.T @ Bmat\n",
    "rhs = 1/nug * Bmat.T * datVal\n",
    "rhsvd = gl.VectorDouble(rhs)"
   ]
  },
  {
   "cell_type": "code",
   "execution_count": null,
   "metadata": {},
   "outputs": [],
   "source": [
    "kriging = sc.sparse.linalg.cg(WorkingMat,rhs)[0] #Ici rebrancher le gradient conjugué"
   ]
  },
  {
   "cell_type": "code",
   "execution_count": null,
   "metadata": {},
   "outputs": [],
   "source": [
    "iatt = workingDb.addColumns(kriging,\"Kriging\")"
   ]
  },
  {
   "cell_type": "code",
   "execution_count": null,
   "metadata": {},
   "outputs": [],
   "source": [
    "ax = gp.grid(workingDb,\"Kriging\",title=\"Kriging on Working Grid\")"
   ]
  },
  {
   "cell_type": "markdown",
   "metadata": {},
   "source": [
    "Projection sur la grille de résultats"
   ]
  },
  {
   "cell_type": "code",
   "execution_count": null,
   "metadata": {},
   "outputs": [],
   "source": [
    "Bresult = gl.ProjMatrix(resultDb,mesh)\n",
    "Bresulttr = gl.csToTriplet(Bresult.getAproj())\n",
    "Bresultmat=sc.sparse.csc_matrix((np.array(Bresulttr.values), (np.array(Bresulttr.rows), np.array(Bresulttr.cols))),\n",
    "                          shape=(Bresulttr.nrows,Bresulttr.ncols))"
   ]
  },
  {
   "cell_type": "code",
   "execution_count": null,
   "metadata": {},
   "outputs": [],
   "source": [
    "iatt = resultDb.addColumns(Bresultmat@kriging,\"Kriging\")"
   ]
  },
  {
   "cell_type": "code",
   "execution_count": null,
   "metadata": {},
   "outputs": [],
   "source": [
    "ax = gp.grid(resultDb,\"Kriging\",title=\"Kriging on Resulting Grid\")"
   ]
  },
  {
   "cell_type": "code",
   "execution_count": null,
   "metadata": {},
   "outputs": [],
   "source": [
    "vc = gl.VectorVectorDouble()\n",
    "vc.push_back(gl.VectorDouble(rhs))\n",
    "resultvc = gl.VectorVectorDouble()\n",
    "resultvc.push_back(gl.VectorDouble(np.zeros_like(rhs)))"
   ]
  },
  {
   "cell_type": "markdown",
   "metadata": {},
   "source": [
    "# Test de evalDirect"
   ]
  },
  {
   "cell_type": "code",
   "execution_count": null,
   "metadata": {},
   "outputs": [],
   "source": [
    "A=gl.PrecisionOpMultiConditional()\n",
    "A.push_back(Qkriging,B)\n",
    "A.setVarianceData(nug)\n",
    "A.evalDirect(vc,resultvc)"
   ]
  },
  {
   "cell_type": "code",
   "execution_count": null,
   "metadata": {},
   "outputs": [],
   "source": [
    "m=np.min(WorkingMat@rhs)\n",
    "M=np.max(WorkingMat@rhs)\n",
    "plt.scatter(WorkingMat@rhs,resultvc[0],s=1)\n",
    "plt.plot([m,M],[m,M],c=\"r\")\n",
    "plt.show()\n",
    "np.max(np.abs(WorkingMat@rhs-resultvc[0]))"
   ]
  },
  {
   "cell_type": "markdown",
   "metadata": {},
   "source": [
    "# Test de evalInverse"
   ]
  },
  {
   "cell_type": "code",
   "execution_count": null,
   "metadata": {},
   "outputs": [],
   "source": [
    "A.evalInverse(vc,resultvc)\n",
    "plt.scatter(kriging,resultvc[0],s=1)\n",
    "plt.show()"
   ]
  },
  {
   "cell_type": "code",
   "execution_count": null,
   "metadata": {},
   "outputs": [],
   "source": [
    "iatt = workingDb.addColumns(resultvc[0],\"Kriging\")\n",
    "ax = gp.grid(workingDb,\"Kriging\")"
   ]
  },
  {
   "cell_type": "markdown",
   "metadata": {},
   "source": [
    "## Calcul du log du déterminant de Q\n",
    "\n",
    "1) Somme des logs des valeurs propres"
   ]
  },
  {
   "cell_type": "code",
   "execution_count": null,
   "metadata": {},
   "outputs": [],
   "source": [
    "#eigvals=sc.linalg.eigvals(Qmat.todense())"
   ]
  },
  {
   "cell_type": "code",
   "execution_count": null,
   "metadata": {},
   "outputs": [],
   "source": [
    "#np.sum(np.log(np.real(eigvals)))"
   ]
  },
  {
   "cell_type": "markdown",
   "metadata": {},
   "source": [
    "2) Cholesky (nécessite scikit-sparse basé sur CHOLMOD qui doit être installé)"
   ]
  },
  {
   "cell_type": "code",
   "execution_count": null,
   "metadata": {},
   "outputs": [],
   "source": [
    "from sksparse.cholmod import cholesky\n",
    "cc=cholesky(Qmat)\n",
    "cc.logdet()"
   ]
  },
  {
   "cell_type": "markdown",
   "metadata": {},
   "source": [
    "3) Approximation par la méthode de Mike"
   ]
  },
  {
   "cell_type": "code",
   "execution_count": null,
   "metadata": {},
   "outputs": [],
   "source": [
    "Qlog = gl.PrecisionOp(S, cova, gl.EPowerPT.LOG)"
   ]
  },
  {
   "cell_type": "code",
   "execution_count": null,
   "metadata": {},
   "outputs": [],
   "source": [
    "s=0\n",
    "nsim = 1000\n",
    "for i in range(nsim):\n",
    "    xx=np.array([1.  if i>0 else -1. for i in np.random.normal(size=Qkriging.getSize())])\n",
    "    xx=np.random.normal(size=Qkriging.getSize())\n",
    "    Qlog.eval(xx,result)\n",
    "    s+=np.sum(result*xx)\n",
    "resc=s/nsim"
   ]
  },
  {
   "cell_type": "code",
   "execution_count": null,
   "metadata": {},
   "outputs": [],
   "source": [
    "v=np.sum(np.log(S.getLambdas()))"
   ]
  },
  {
   "cell_type": "code",
   "execution_count": null,
   "metadata": {},
   "outputs": [],
   "source": [
    "resc+2*v"
   ]
  },
  {
   "cell_type": "code",
   "execution_count": null,
   "metadata": {},
   "outputs": [],
   "source": [
    "Qlog.computeLogDet(1000,1003)"
   ]
  },
  {
   "cell_type": "code",
   "execution_count": null,
   "metadata": {},
   "outputs": [],
   "source": [
    "import numpy as np\n",
    "\n",
    "from scipy.sparse.linalg import LinearOperator\n",
    "\n",
    "class prodBlock():\n",
    "    def __init__(self,Q,Pmat,nugget=0.01,Qinv=None):\n",
    "        self.Q = Qkriging\n",
    "        self.P = Pmat\n",
    "        self.Qinv=Qinv\n",
    "        self.nugget = nugget\n",
    "        self.nvertex = self.Q.getSize()\n",
    "        self.ndata=self.P.getPointNumber()\n",
    "        n=self.ndata+self.nvertex\n",
    "        self.shape=[n,n]\n",
    "       # self.dtype=object\n",
    "        self.r1 = gl.VectorDouble(np.zeros(self.nvertex))\n",
    "        self.r2 = gl.VectorDouble(np.zeros(self.ndata))\n",
    "        self.t1 = gl.VectorDouble(np.zeros(self.nvertex))\n",
    "        self.t2 = gl.VectorDouble(np.zeros(self.ndata))\n",
    "    def _matvec(self,v):\n",
    "        v1 = gl.VectorDouble(v[0:self.nvertex])\n",
    "        v2 = gl.VectorDouble(v[self.nvertex:(self.nvertex+self.ndata)])\n",
    "        self.Q.eval(v1,self.r1)\n",
    "        self.P.point2mesh(v2,self.t1)\n",
    "        for i in range(self.r1.size()):\n",
    "            self.r1[i]+=self.t1[i]\n",
    "        self.P.mesh2point(v1,self.r2)\n",
    "        for i in range(self.r2.size()):\n",
    "            self.r2[i]-=self.nugget * v2[i]\n",
    "        return np.concatenate([np.array(self.r1),np.array(self.r2)])\n",
    "    def _precond(self,v):\n",
    "        v1 = gl.VectorDouble(v[0:self.nvertex])\n",
    "        v2 =v[self.nvertex:(self.nvertex+self.ndata)]\n",
    "        self.Qinv.eval(v1,self.r1)\n",
    "        return np.concatenate([np.array(self.r1),v2])\n",
    "    def _precondDirect(self,v):\n",
    "        v1 = gl.VectorDouble(v)\n",
    "        self.Qinv.eval(v1,self.r1)\n",
    "        return np.array(self.r1)\n",
    "    def _direct(self,v):\n",
    "        v1 = gl.VectorDouble(v)\n",
    "        self.Q.eval(v1,self.r1)\n",
    "        self.P.mesh2point(v1,self.t2)\n",
    "        self.P.point2mesh(self.t2,self.t1)\n",
    "        for i in range(self.r1.size()):\n",
    "            self.r1[i]+=1/self.nugget*self.t1[i]\n",
    "        return np.array(self.r1)"
   ]
  },
  {
   "cell_type": "code",
   "execution_count": null,
   "metadata": {},
   "outputs": [],
   "source": [
    "LinOp=prodBlock(Qkriging,B,nug,Qtest)\n",
    "NewRHS=gl.VectorDouble(np.concatenate((rhs,np.zeros(ndat))))"
   ]
  },
  {
   "cell_type": "code",
   "execution_count": null,
   "metadata": {},
   "outputs": [],
   "source": [
    "LinOp._matvec(NewRHS)"
   ]
  },
  {
   "cell_type": "code",
   "execution_count": null,
   "metadata": {},
   "outputs": [],
   "source": [
    "np.random.seed(0)\n",
    "NewRHS=gl.VectorDouble(np.concatenate((rhs,np.zeros(ndat))))\n",
    "LinOp._matvec(NewRHS)\n",
    "Alin = LinearOperator(LinOp.shape, matvec=LinOp._matvec)\n",
    "ACG = LinearOperator((Qkriging.getSize(),Qkriging.getSize()), matvec=LinOp._direct)\n",
    "Precond = LinearOperator(LinOp.shape, matvec=LinOp._precond)\n",
    "PrecondDirect = LinearOperator((Qkriging.getSize(),Qkriging.getSize()), matvec=LinOp._precondDirect)"
   ]
  },
  {
   "cell_type": "code",
   "execution_count": null,
   "metadata": {},
   "outputs": [],
   "source": [
    "from scipy.sparse.linalg import gmres\n",
    "u=gmres(Alin, NewRHS,maxiter=10,tol=1e-5,atol=1e-5,M=Precond)\n",
    "plt.scatter(kriging,u[0][0:Qkriging.getSize()],s=1)\n",
    "plt.show()"
   ]
  },
  {
   "cell_type": "code",
   "execution_count": null,
   "metadata": {},
   "outputs": [],
   "source": [
    "from scipy.sparse.linalg import lgmres\n",
    "u=lgmres(Alin, NewRHS,maxiter=15,tol=1e-5,atol=1e-5,M=Precond)\n",
    "plt.scatter(kriging,u[0][0:Qkriging.getSize()],s=1)\n",
    "plt.show()"
   ]
  },
  {
   "cell_type": "code",
   "execution_count": null,
   "metadata": {},
   "outputs": [],
   "source": [
    "from scipy.sparse.linalg import minres\n",
    "u=minres(Alin, NewRHS,maxiter=100,tol=1e-10,M=Precond)\n",
    "plt.scatter(kriging,u[0][0:Qkriging.getSize()],s=1)\n",
    "plt.show()"
   ]
  },
  {
   "cell_type": "code",
   "execution_count": null,
   "metadata": {},
   "outputs": [],
   "source": [
    "u=cg(ACG, rhs,maxiter=100,tol=1e-10,atol=1e-10,M=PrecondDirect)\n",
    "plt.scatter(u[0],kriging,s=1)\n",
    "plt.show()"
   ]
  },
  {
   "cell_type": "code",
   "execution_count": null,
   "metadata": {},
   "outputs": [],
   "source": [
    "u=cg(Alin, NewRHS,maxiter=10,tol=1e-10,atol=1e-10,M=Precond)\n",
    "plt.scatter(kriging,u[0][0:Qkriging.getSize()],s=1)\n",
    "plt.show()"
   ]
  }
 ],
 "metadata": {
  "kernelspec": {
   "display_name": "Python 3 (ipykernel)",
   "language": "python",
   "name": "python3"
  },
  "language_info": {
   "codemirror_mode": {
    "name": "ipython",
    "version": 3
   },
   "file_extension": ".py",
   "mimetype": "text/x-python",
   "name": "python",
   "nbconvert_exporter": "python",
   "pygments_lexer": "ipython3",
   "version": "3.10.2"
  }
 },
 "nbformat": 4,
 "nbformat_minor": 4
}
