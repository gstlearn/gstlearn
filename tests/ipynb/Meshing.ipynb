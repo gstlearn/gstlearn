{
 "cells": [
  {
   "cell_type": "code",
   "execution_count": null,
   "metadata": {},
   "outputs": [],
   "source": [
    "import gstlearn as gl\n",
    "import gstlearn.plot as gp\n",
    "import matplotlib.pyplot as plt\n",
    "import numpy as np"
   ]
  },
  {
   "cell_type": "code",
   "execution_count": null,
   "metadata": {},
   "outputs": [],
   "source": [
    "grid = gl.DbGrid.create([6,4],[1.,5.],[10.,20.],[-80.,0.])\n",
    "grid.display();\n",
    "\n",
    "model = gl.Model.createFromDb(grid);\n",
    "cova = gl.CovAniso(gl.ECov.CUBIC,model.getContext());\n",
    "cova.setRanges([10,5]);\n",
    "cova.setAnisoAngles([80.,0.]);\n",
    "model.addCov(cova);\n",
    "model.display();\n",
    "\n",
    "mesh = gl.MeshETurbo();\n",
    "mesh.initFromCova(cova,grid,10,2,True,1);\n",
    "mesh.display()"
   ]
  },
  {
   "cell_type": "code",
   "execution_count": null,
   "metadata": {},
   "outputs": [],
   "source": [
    "x=mesh.getCoordinates(0)\n",
    "y=mesh.getCoordinates(1)\n",
    "dbP = gl.Db()\n",
    "dbP['x']=np.array(x)\n",
    "dbP['y']=np.array(y)\n",
    "dbP.setLocators(['x','y'],gl.ELoc.X)\n",
    "\n",
    "ax = gp.mesh(mesh, flagEdge=True, figsize=[10,10]) # Mesh\n",
    "ax = gp.grid(grid, ax=ax) # Initial grid"
   ]
  },
  {
   "cell_type": "code",
   "execution_count": null,
   "metadata": {},
   "outputs": [],
   "source": []
  }
 ],
 "metadata": {
  "kernelspec": {
   "display_name": "Python 3",
   "language": "python",
   "name": "python3"
  },
  "language_info": {
   "codemirror_mode": {
    "name": "ipython",
    "version": 3
   },
   "file_extension": ".py",
   "mimetype": "text/x-python",
   "name": "python",
   "nbconvert_exporter": "python",
   "pygments_lexer": "ipython3",
   "version": "3.8.5"
  }
 },
 "nbformat": 4,
 "nbformat_minor": 5
}
