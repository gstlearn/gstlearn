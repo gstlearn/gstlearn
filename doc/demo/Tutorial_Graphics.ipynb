{
 "cells": [
  {
   "cell_type": "markdown",
   "metadata": {},
   "source": [
    "# Demonstration of Graphic facilities in gstlearn package\n",
    "\n",
    "The module gstlearn.plot contains various plot functions for gstlearn objetcs: DbGrid, Db, Vario, Model, Polygons... These functions are also accesible as methods of each class. For example for a grid, we could use equivalently gp.grid(mygrid,...) or mygrid.plot(...), or for more specific functions: gp.point(mygrid,...) or mygrid.plot_point(...)"
   ]
  },
  {
   "cell_type": "code",
   "execution_count": null,
   "metadata": {},
   "outputs": [],
   "source": [
    "%%javascript\n",
    "IPython.OutputArea.prototype._should_scroll = function(lines) {\n",
    "    return false;\n",
    "}"
   ]
  },
  {
   "cell_type": "markdown",
   "metadata": {},
   "source": [
    "## Import packages"
   ]
  },
  {
   "cell_type": "code",
   "execution_count": null,
   "metadata": {},
   "outputs": [],
   "source": [
    "import numpy as np\n",
    "import pandas as pd\n",
    "import sys\n",
    "import os\n",
    "import matplotlib.pyplot as plt\n",
    "import gstlearn as gl\n",
    "import gstlearn.plot as gp\n",
    "from scipy import ndimage, misc "
   ]
  },
  {
   "cell_type": "markdown",
   "metadata": {},
   "source": [
    "We define the Space dimension"
   ]
  },
  {
   "cell_type": "code",
   "execution_count": null,
   "metadata": {},
   "outputs": [],
   "source": [
    "gl.ASpaceObject.defineDefaultSpace(gl.SPACE_RN, 2)"
   ]
  },
  {
   "cell_type": "markdown",
   "metadata": {},
   "source": [
    "Creating a dummy Model used for simulating a random field"
   ]
  },
  {
   "cell_type": "code",
   "execution_count": null,
   "metadata": {},
   "outputs": [],
   "source": [
    "ctxt = gl.CovContext() # use default space\n",
    "mymodel = gl.Model(ctxt)\n",
    "cova = gl.CovAniso(gl.ECov.CUBIC,10,1,1.5,mymodel.getContext())\n",
    "mymodel.addCova(cova)"
   ]
  },
  {
   "cell_type": "markdown",
   "metadata": {},
   "source": [
    "## Grid representations"
   ]
  },
  {
   "cell_type": "markdown",
   "metadata": {},
   "source": [
    "We create a rectangular non-rotated 2-D grid, and simulate random Gaussian field (using the Model previously defined). Two simulations are generated in order to emphasize the graphic posibilities in further parts of this note."
   ]
  },
  {
   "cell_type": "code",
   "execution_count": null,
   "metadata": {
    "scrolled": false
   },
   "outputs": [],
   "source": [
    "nx = [70,25]\n",
    "dx = [1,2]\n",
    "x0 = [-40, 20]\n",
    "mygrid = gl.DbGrid.create(nx,dx,x0)\n",
    "\n",
    "err = gl.simtub(None,mygrid,mymodel,None,2)\n",
    "mygrid.display()"
   ]
  },
  {
   "cell_type": "markdown",
   "metadata": {},
   "source": [
    "Add a dummy selection to test visualization with Selection"
   ]
  },
  {
   "cell_type": "code",
   "execution_count": null,
   "metadata": {},
   "outputs": [],
   "source": [
    "mygrid[\"sel\"] = 1. - (mygrid[\"x1\"] > 0) * (mygrid[\"x1\"] < 15) * (mygrid[\"x2\"] > 40) * (mygrid[\"x2\"] < 50)\n",
    "mygrid.setLocator(\"sel\",gl.ELoc.SEL)"
   ]
  },
  {
   "cell_type": "markdown",
   "metadata": {},
   "source": [
    "### Non Rotated Grid"
   ]
  },
  {
   "cell_type": "markdown",
   "metadata": {},
   "source": [
    "We simply represent the grid (using the defaulted color scale). We also plot the legend on the right edge.  \n",
    "We can use functions from gstlearn.plot (gp.grid in this case), or use directly mygrid.plot."
   ]
  },
  {
   "cell_type": "code",
   "execution_count": null,
   "metadata": {
    "scrolled": true
   },
   "outputs": [],
   "source": [
    "ax = gp.grid(mygrid,title=\"Non-conditional Simulation on Grid\")\n",
    "#ax = mygrid.plot(title=\"Non-conditional Simulation on Grid\")"
   ]
  },
  {
   "cell_type": "markdown",
   "metadata": {},
   "source": [
    "As a proof, we can also visualize the (last) variable using a Color Point representation"
   ]
  },
  {
   "cell_type": "code",
   "execution_count": null,
   "metadata": {},
   "outputs": [],
   "source": [
    "ax = gp.point(mygrid,color_name=mygrid.getLastName()) # last name is the selection\n",
    "#ax = mygrid.plot_point(color_name=mygrid.getLastName())"
   ]
  },
  {
   "cell_type": "markdown",
   "metadata": {},
   "source": [
    "We can create a specific ColorScale, containing a limited number of colors, and sampling a given reference Color Scale. \n",
    "\n",
    "For the next figure, we use the one defaulted by the system ('viridis') for sake of understanding. We simply reduce the number of colors"
   ]
  },
  {
   "cell_type": "code",
   "execution_count": null,
   "metadata": {
    "scrolled": true
   },
   "outputs": [],
   "source": [
    "cmap = gp.get_cmap(5,'viridis')\n",
    "ax = mygrid.plot(cmap=cmap,title=\"Non-conditional Simulation on Grid\")"
   ]
  },
  {
   "cell_type": "markdown",
   "metadata": {},
   "source": [
    "We can also change the reference color scale (using the one defaulted by the method get_cmap for example: 'gist rainbow') and increase the number of colors"
   ]
  },
  {
   "cell_type": "code",
   "execution_count": null,
   "metadata": {
    "scrolled": true
   },
   "outputs": [],
   "source": [
    "cmap = gp.get_cmap(100)\n",
    "ax = mygrid.plot(cmap=cmap,title=\"Non-conditional Simulation on Grid\")"
   ]
  },
  {
   "cell_type": "markdown",
   "metadata": {},
   "source": [
    "Represent the histogram of the vaalues collected in the outcome over the grid. Here we can use either gp.hist(mygrid,...) or mygrid.plot_hist(...)"
   ]
  },
  {
   "cell_type": "code",
   "execution_count": null,
   "metadata": {},
   "outputs": [],
   "source": [
    "ax = mygrid.plot_hist(\"Simu.1\",xlab=\"Simulated Values\",ylab=\"Count\",title=\"Histogram\")"
   ]
  },
  {
   "cell_type": "markdown",
   "metadata": {},
   "source": [
    "Representing a scatter plot between two variables stored on the same Db"
   ]
  },
  {
   "cell_type": "code",
   "execution_count": null,
   "metadata": {
    "scrolled": true
   },
   "outputs": [],
   "source": [
    "ax = mygrid.plot_correlation(\"Simu.1\",\"Simu.2\",xlab=\"Simulation #1\",ylab=\"Simulation #2\")"
   ]
  },
  {
   "cell_type": "markdown",
   "metadata": {},
   "source": [
    "### Set of Points and Polygon"
   ]
  },
  {
   "cell_type": "markdown",
   "metadata": {},
   "source": [
    "A set of points is sampled from the previous Grid and stored in a new Point Db. The number of samples if fixed to 1% of the number of grid nodes."
   ]
  },
  {
   "cell_type": "code",
   "execution_count": null,
   "metadata": {},
   "outputs": [],
   "source": [
    "mypoint = gl.Db()\n",
    "mypoint.resetSamplingDb(mygrid,0.01)\n",
    "mypoint.display()"
   ]
  },
  {
   "cell_type": "markdown",
   "metadata": {},
   "source": [
    "We create a polygon as the convex hull of the samples"
   ]
  },
  {
   "cell_type": "code",
   "execution_count": null,
   "metadata": {},
   "outputs": [],
   "source": [
    "mypoly = gl.Polygons.createFromDb(mypoint)"
   ]
  },
  {
   "cell_type": "markdown",
   "metadata": {},
   "source": [
    "We now display the points and the polygon on top of the grid: the overlay is ensured by sugint eh argument 'ax'."
   ]
  },
  {
   "cell_type": "code",
   "execution_count": null,
   "metadata": {
    "scrolled": true
   },
   "outputs": [],
   "source": [
    "ax = gp.grid(mygrid)\n",
    "ax = gp.polygon(mypoly,flagFace=False, edgeColor='yellow', ax=ax)\n",
    "ax = gp.point(mypoint,color=\"black\", ax=ax)"
   ]
  },
  {
   "cell_type": "markdown",
   "metadata": {},
   "source": [
    "### Rotated grid (angle = 20 degrees)"
   ]
  },
  {
   "cell_type": "markdown",
   "metadata": {},
   "source": [
    "We create the same grid as before but with a rotation of 20 degrees."
   ]
  },
  {
   "cell_type": "code",
   "execution_count": null,
   "metadata": {
    "scrolled": true
   },
   "outputs": [],
   "source": [
    "mygrid = gl.DbGrid.create(nx,dx,x0,[20,0])\n",
    "err = gl.simtub(None,mygrid,mymodel,None,2)\n",
    "ax = gp.grid(mygrid)"
   ]
  },
  {
   "cell_type": "markdown",
   "metadata": {},
   "source": [
    "A new set of Points is sampled from the rotated Grid. As the same seed is used, the ranks of the selected samples within the grid are the same. Furthermore, we generate the Polygon as the convex hull of the newly created Point db."
   ]
  },
  {
   "cell_type": "code",
   "execution_count": null,
   "metadata": {},
   "outputs": [],
   "source": [
    "mypoint = gl.Db()\n",
    "mypoint.resetSamplingDb(mygrid,0.01)\n",
    "mypoly = gl.Polygons.createFromDb(mypoint)"
   ]
  },
  {
   "cell_type": "markdown",
   "metadata": {},
   "source": [
    "We represent again the three components (grid, points and polygon) on the same view"
   ]
  },
  {
   "cell_type": "code",
   "execution_count": null,
   "metadata": {
    "scrolled": false
   },
   "outputs": [],
   "source": [
    "ax = mygrid.plot()\n",
    "ax = mypoly.plot(flagFace=False,edgeColor='yellow',ax=ax)\n",
    "ax = mypoint.plot(color=\"black\",ax=ax)"
   ]
  },
  {
   "cell_type": "markdown",
   "metadata": {},
   "source": [
    "Let us now add a selection in order to restrict the previous representation to the only non-masked samples"
   ]
  },
  {
   "cell_type": "code",
   "execution_count": null,
   "metadata": {},
   "outputs": [],
   "source": [
    "tab = mygrid.getColumn(\"x1\")\n",
    "sel = (np.asarray(tab) < 0).astype(float)\n",
    "mygrid.addSelection(tuple(sel),'sel')\n",
    "ax = gp.grid(mygrid,name=\"Simu.1\",usesel=True)"
   ]
  },
  {
   "cell_type": "markdown",
   "metadata": {},
   "source": [
    "## Share legend between two plots\n",
    "This paragraph is meant to present the possibility of splitting a figure in two scenes, to represent a grid in each scene (for example) and share the (same) color scale for the two scenes."
   ]
  },
  {
   "cell_type": "code",
   "execution_count": null,
   "metadata": {},
   "outputs": [],
   "source": [
    "fig = plt.figure(figsize=(20,6))\n",
    "ax1 = fig.add_subplot(1,2,1)\n",
    "gp.grid(mygrid,name=\"Simu.1\", usesel=False, flagColorBar = False, ax=ax1, end_plot=False)\n",
    "ax2 = fig.add_subplot(1,2,2)\n",
    "gp.grid(mygrid,name=\"Simu.2\", usesel=False, flagColorBar = False, ax=ax2, end_plot=False)\n",
    "\n",
    "fig.subplots_adjust(right=0.7)\n",
    "cbar_ax = fig.add_axes([0.75, 0.1, 0.02, 0.75])\n",
    "\n",
    "im = ax.collections[0] # get mappable described by the colorbar\n",
    "err = fig.colorbar(im, cax = cbar_ax)"
   ]
  },
  {
   "cell_type": "markdown",
   "metadata": {},
   "source": [
    "## Display points with fixed colors\n",
    "\n",
    "In this paragraph, we wish to display sample points with given colors. "
   ]
  },
  {
   "cell_type": "code",
   "execution_count": null,
   "metadata": {},
   "outputs": [],
   "source": [
    "tab = [1., 1., 1., 2., 2., 3., 3., 3., 5.]\n",
    "dat1 = gl.Db.createFromSamples(3, gl.ELoadBy.SAMPLE, tab, [\"x\",\"y\",\"z\"], [\"x1\",\"x2\",\"z\"])\n",
    "dbfmt = gl.DbStringFormat(gl.FLAG_RESUME | gl.FLAG_ARRAY) \n",
    "dat1.display(dbfmt)"
   ]
  },
  {
   "cell_type": "markdown",
   "metadata": {},
   "source": [
    "We represent the samples without using any pre-specified color map. The system uses the default color scale and assigns the lowest value to be represented to the first color and the largest value to the last color."
   ]
  },
  {
   "cell_type": "code",
   "execution_count": null,
   "metadata": {
    "scrolled": true
   },
   "outputs": [],
   "source": [
    "ax = gp.point(dat1,color_name=\"z\",size=200,figsize=[4,3])"
   ]
  },
  {
   "cell_type": "markdown",
   "metadata": {},
   "source": [
    "Representing using a given color map (based on few colors [5]). The color scale is now discrete but the system still assigns the lowest value (i.e. 1) to the first color and the largest value (i.e. 5) to the last color"
   ]
  },
  {
   "cell_type": "code",
   "execution_count": null,
   "metadata": {},
   "outputs": [],
   "source": [
    "ncol = 5\n",
    "cmap = gp.get_cmap(ncol)"
   ]
  },
  {
   "cell_type": "code",
   "execution_count": null,
   "metadata": {},
   "outputs": [],
   "source": [
    "ax = gp.point(dat1,color_name=\"z\",size=200,cmap=cmap,figsize=[4,3])"
   ]
  },
  {
   "cell_type": "markdown",
   "metadata": {},
   "source": [
    "We use a new Db where the values at first sample has been modified (from 1 to 4) while the other have been left unchanged. We use the same color scale as before. Again the lowest value (i.e. 3) is assigned to the first color and the largest value (i.e. 5) to the last color."
   ]
  },
  {
   "cell_type": "code",
   "execution_count": null,
   "metadata": {},
   "outputs": [],
   "source": [
    "tab = [1., 1., 4., 2., 2., 3., 3., 3., 5.]\n",
    "dat2 = gl.Db.createFromSamples(3, gl.ELoadBy.SAMPLE, tab, [\"x\",\"y\",\"z\"], [\"x1\",\"x2\",\"z\"])\n",
    "ax = gp.point(dat2,color_name=\"z\",size=200,cmap=cmap,figsize=[4,3])"
   ]
  },
  {
   "cell_type": "markdown",
   "metadata": {},
   "source": [
    "We want to perform the same graphic again but setting the first and last value of the color scale explicitely"
   ]
  },
  {
   "cell_type": "code",
   "execution_count": null,
   "metadata": {
    "scrolled": true
   },
   "outputs": [],
   "source": [
    "ax = gp.point(dat2,color_name=\"z\",size=200,cmap=cmap,directColor=True,figsize=[4,3])"
   ]
  },
  {
   "cell_type": "markdown",
   "metadata": {},
   "source": [
    "# Superimposing figures"
   ]
  },
  {
   "cell_type": "markdown",
   "metadata": {},
   "source": [
    "In this section, we demonstrate the possibilities offered by the graphics for working with multiple figures and overlaying graphics. This is described through the use of variograms and models.\n",
    "For this reason we consider the two non-conditional simulations created earllier on the existing grid. We calculate the simple and cross variograms along the two main axes of the grid and fit a model automatically."
   ]
  },
  {
   "cell_type": "code",
   "execution_count": null,
   "metadata": {},
   "outputs": [],
   "source": [
    "varioparam = gl.VarioParam()\n",
    "dirs = gl.generateMultipleDirs(2, 2, 10, 2.)\n",
    "varioparam.addMultiDirs(dirs)\n",
    "vario = gl.Vario(varioparam, mygrid)\n",
    "err = vario.compute(gl.ECalcVario.VARIOGRAM)"
   ]
  },
  {
   "cell_type": "code",
   "execution_count": null,
   "metadata": {},
   "outputs": [],
   "source": [
    "ctxt = gl.CovContext() # use default space\n",
    "model = gl.Model(ctxt)\n",
    "model.fit(vario,[gl.ECov.CUBIC])\n",
    "model.display()"
   ]
  },
  {
   "cell_type": "markdown",
   "metadata": {},
   "source": [
    "### Several ways for displaying experimental variograms"
   ]
  },
  {
   "cell_type": "markdown",
   "metadata": {},
   "source": [
    "In the next graphic, we produce the simple variogram of the first variable calculated in the first direction"
   ]
  },
  {
   "cell_type": "code",
   "execution_count": null,
   "metadata": {},
   "outputs": [],
   "source": [
    "ax = gp.varioElem(vario,title=\"First Variable - First Direction\",figsize=[4,3])"
   ]
  },
  {
   "cell_type": "markdown",
   "metadata": {},
   "source": [
    "In the next graphic, we produce a single figure where the variograms of the first variable calculated in the first direction (black) and the second direction (red) are overlaid. The overlay is performed manually."
   ]
  },
  {
   "cell_type": "code",
   "execution_count": null,
   "metadata": {
    "scrolled": true
   },
   "outputs": [],
   "source": [
    "ax = gp.varioElem(vario,title=\"First Variable - Two directions\",figsize=[4,3])\n",
    "ax = vario.plot_varioElem(idir=1,color='red',ax=ax)"
   ]
  },
  {
   "cell_type": "markdown",
   "metadata": {},
   "source": [
    "In the next graphic, we produce a single graphic where the cross-variograms between first and second variables are displayed for all directions. The colors are extracted from the Color Map provided as argument."
   ]
  },
  {
   "cell_type": "code",
   "execution_count": null,
   "metadata": {},
   "outputs": [],
   "source": [
    "ax = vario.plot_varioDir(ivar=1,jvar=0,title=\"Cross-variogram - Two directions\",\n",
    "                 cmap=cmap,figsize=[4,3])"
   ]
  },
  {
   "cell_type": "markdown",
   "metadata": {},
   "source": [
    "Representing all simple and cross variograms for all directions"
   ]
  },
  {
   "cell_type": "code",
   "execution_count": null,
   "metadata": {},
   "outputs": [],
   "source": [
    "axs = gp.vario(vario,title=\"Simple and Cross Variograms in all directions\",\n",
    "               cmap=cmap,figsize=[4,3])"
   ]
  },
  {
   "cell_type": "markdown",
   "metadata": {},
   "source": [
    "### Several ways for representing the Model"
   ]
  },
  {
   "cell_type": "markdown",
   "metadata": {},
   "source": [
    "Represent the Model calculated for the second variable in the first direction"
   ]
  },
  {
   "cell_type": "code",
   "execution_count": null,
   "metadata": {
    "scrolled": true
   },
   "outputs": [],
   "source": [
    "ax = gp.model(model,ivar=1,jvar=1,codir=vario.getCodir(0),\n",
    "              title=\"Model for the Second Variable in First Direction\",\n",
    "              hmax = vario.getHmax(),figsize=[4,3])"
   ]
  },
  {
   "cell_type": "markdown",
   "metadata": {},
   "source": [
    "Representing all simple and cross variograms together with the fitted model for the first direction"
   ]
  },
  {
   "cell_type": "code",
   "execution_count": null,
   "metadata": {
    "scrolled": true
   },
   "outputs": [],
   "source": [
    "axs = gp.varmod(vario, model, title=\"All variograms in First Direction\",\n",
    "                cmap=cmap, figsize=[4,3])"
   ]
  },
  {
   "cell_type": "markdown",
   "metadata": {},
   "source": [
    "### Testing figure Overlay"
   ]
  },
  {
   "cell_type": "markdown",
   "metadata": {},
   "source": [
    "The next figure is meant to demonstrate the overlay possibilities. We first represent the experimental variograms for all variable (in the first direction only to be legible). Then we overlay the model ... only over the experimental simple variogram of the second variable (in dashed blue)."
   ]
  },
  {
   "cell_type": "code",
   "execution_count": null,
   "metadata": {
    "scrolled": true
   },
   "outputs": [],
   "source": [
    "axs = vario.plot(idir=0,title=\"Overlay test\",cmap=cmap,figsize=[4,3])\n",
    "ax  = model.plot(ivar=1,jvar=1,codir=vario.getCodir(0),hmax = vario.getHmax(),\n",
    "               linestyle = 'dashed', color='blue',ax=axs[1,1])"
   ]
  },
  {
   "cell_type": "markdown",
   "metadata": {},
   "source": [
    "In the next figure, we draw the first direction and overlay the second direction (on purpose using two orders)"
   ]
  },
  {
   "cell_type": "code",
   "execution_count": null,
   "metadata": {},
   "outputs": [],
   "source": [
    "axs = vario.plot(idir=0,title=\"Overlay test\",cmap=cmap,figsize=[4,3])\n",
    "axs = vario.plot(idir=1,axs=axs)"
   ]
  },
  {
   "cell_type": "markdown",
   "metadata": {},
   "source": [
    "## Interactive samples selection\n",
    "\n",
    "An interactive selection can be made on the figures, either by selecting points directly (with a gp.point), or selecting all the points inside a polygon. If a Db (or DbGrid) is provided, a new variable \"interactive_selection\" is created. In Jupyter Notebook, interactive plots require to use %matplotlib notebook"
   ]
  },
  {
   "cell_type": "code",
   "execution_count": null,
   "metadata": {},
   "outputs": [],
   "source": [
    "%matplotlib notebook\n",
    "\n",
    "ax = mygrid.plot_point()\n",
    "select = gp.PolygonSelection(ax=ax, mydb = mygrid)"
   ]
  },
  {
   "cell_type": "code",
   "execution_count": null,
   "metadata": {},
   "outputs": [],
   "source": [
    "ax = mygrid.plot(\"interactive_selection\")"
   ]
  },
  {
   "cell_type": "code",
   "execution_count": null,
   "metadata": {},
   "outputs": [],
   "source": [
    "ax = mygrid.plot_correlation(\"Simu.1\", \"Simu.2\", asPoint=True)\n",
    "select = gp.PointSelection(ax = ax, mydb = mygrid, pickradius = 3, color = 'r')"
   ]
  },
  {
   "cell_type": "code",
   "execution_count": null,
   "metadata": {},
   "outputs": [],
   "source": [
    "ax = mygrid.plot(\"interactive_selection\")"
   ]
  }
 ],
 "metadata": {
  "kernelspec": {
   "display_name": "Python 3",
   "language": "python",
   "name": "python3"
  },
  "language_info": {
   "codemirror_mode": {
    "name": "ipython",
    "version": 3
   },
   "file_extension": ".py",
   "mimetype": "text/x-python",
   "name": "python",
   "nbconvert_exporter": "python",
   "pygments_lexer": "ipython3",
   "version": "3.8.5"
  }
 },
 "nbformat": 4,
 "nbformat_minor": 4
}
