{
 "cells": [
  {
   "cell_type": "code",
   "execution_count": null,
   "metadata": {},
   "outputs": [],
   "source": [
    "import pandas as pd\n",
    "import numpy as np\n",
    "import matplotlib.pyplot as plt\n",
    "import gstlearn as gl\n",
    "import gstlearn.plot as gp\n",
    "import gstlearn.proj as gpd\n",
    "import os"
   ]
  },
  {
   "cell_type": "markdown",
   "metadata": {},
   "source": [
    "Le jeu de données du groupe de travail CIEM WGACEGG: densités acoustiques (NASC) d'anchois et de sardine par unité d'échantillonnage de 1 mille nautique de long, observées au printemps 2018 et 2021.\n",
    "\n",
    "Description des colonnes : \n",
    "- survey : campagne\n",
    "- year : année\n",
    "- time : date/heure enregistrement donnée\n",
    "- x : longitude en ° décimal WGS84\n",
    "- y : latitude en ° décimal WGS84\n",
    "- NASC : densité acoustique en m2.MN-2\n",
    "- sp : espèce anchois = \"ENGR-ENC\"\n",
    "- sardine =\"SARD-PIL\"\n",
    "\n",
    "Pour plus d'infos sur l'origine de ces données : Doray, M., Van Der Kooij, J., Boyra, G. (Eds.), 2021. ICES Survey Protocols - Manual for acoustic surveys coordinated under the ICES Working Group on Acoustic and Egg Surveys for Small Pelagic Fish (WGACEGG). https://doi.org/10.17895/ICES.PUB.7462."
   ]
  },
  {
   "cell_type": "markdown",
   "metadata": {},
   "source": [
    "Lecture du fichier de données"
   ]
  },
  {
   "cell_type": "code",
   "execution_count": null,
   "metadata": {},
   "outputs": [],
   "source": [
    "dataDir = os.path.join(os.path.pardir,os.path.pardir,\"doc\",\"data\",\"halieutic\")\n",
    "rawDat = pd.read_csv(os.path.join(dataDir,\"AC-SPRING-IBBB-NASC_ANE-PIL_2018-2021.csv\"),sep=\";\")\n",
    "rawDat.head()"
   ]
  },
  {
   "cell_type": "code",
   "execution_count": null,
   "metadata": {},
   "outputs": [],
   "source": [
    "dbDat = gl.Db()\n",
    "for field in [\"year\",\"x\",\"y\",\"NASC\"] :\n",
    "    dbDat[field] = rawDat[field]"
   ]
  },
  {
   "cell_type": "code",
   "execution_count": null,
   "metadata": {},
   "outputs": [],
   "source": [
    "dbDat.setLocators([\"x\",\"y\"],gl.ELoc.X)\n",
    "dbDat.setLocator(\"NASC\",gl.ELoc.Z)"
   ]
  },
  {
   "cell_type": "code",
   "execution_count": null,
   "metadata": {},
   "outputs": [],
   "source": [
    "a = gpd.proj(dbDat[\"x\"], dbDat[\"y\"])\n",
    "dbDat[\"x\"] = a.x\n",
    "dbDat[\"y\"] = a.y"
   ]
  },
  {
   "cell_type": "markdown",
   "metadata": {},
   "source": [
    "Lecture du Polygone"
   ]
  },
  {
   "cell_type": "code",
   "execution_count": null,
   "metadata": {},
   "outputs": [],
   "source": [
    "csv = gl.CSVformat(True, 0, \";\", \".\")\n",
    "poly = gl.Polygons.createFromCSV(os.path.join(dataDir,\"WGACEGGspringPolygon.csv\"), csv)"
   ]
  },
  {
   "cell_type": "code",
   "execution_count": null,
   "metadata": {},
   "outputs": [],
   "source": [
    "a = gpd.proj(poly.getX(0), poly.getY(0))\n",
    "poly.setX(0,a.x)\n",
    "poly.setY(0,a.y)"
   ]
  },
  {
   "cell_type": "markdown",
   "metadata": {},
   "source": [
    "Lecture des traits de cotes."
   ]
  },
  {
   "cell_type": "code",
   "execution_count": null,
   "metadata": {},
   "outputs": [],
   "source": [
    "world = gpd.world(minx=(-10,36), miny=(-1,36), maxx=(-1,49), maxy=(-10,49))"
   ]
  },
  {
   "cell_type": "markdown",
   "metadata": {},
   "source": [
    "Plotting the world country lines as background and overlay the Points and the Polygon, suing the same CRS."
   ]
  },
  {
   "cell_type": "code",
   "execution_count": null,
   "metadata": {},
   "outputs": [],
   "source": [
    "ax = world.plot(figsize=[10,10])\n",
    "ax = gp.point(dbDat,size=1,ax=ax)\n",
    "ax = gp.polygon(poly,ax = ax)"
   ]
  }
 ],
 "metadata": {
  "kernelspec": {
   "display_name": "Python 3",
   "language": "python",
   "name": "python3"
  },
  "language_info": {
   "codemirror_mode": {
    "name": "ipython",
    "version": 3
   },
   "file_extension": ".py",
   "mimetype": "text/x-python",
   "name": "python",
   "nbconvert_exporter": "python",
   "pygments_lexer": "ipython3",
   "version": "3.8.5"
  }
 },
 "nbformat": 4,
 "nbformat_minor": 5
}
