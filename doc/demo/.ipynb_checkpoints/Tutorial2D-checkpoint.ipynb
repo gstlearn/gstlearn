{
 "cells": [
  {
   "cell_type": "markdown",
   "metadata": {},
   "source": [
    "# Demonstration of gstlearn for a 2-D case study"
   ]
  },
  {
   "cell_type": "code",
   "execution_count": null,
   "metadata": {},
   "outputs": [],
   "source": [
    "%%javascript\n",
    "IPython.OutputArea.prototype._should_scroll = function(lines) {\n",
    "    return false;\n",
    "}"
   ]
  },
  {
   "cell_type": "markdown",
   "metadata": {},
   "source": [
    "## Import packages"
   ]
  },
  {
   "cell_type": "code",
   "execution_count": null,
   "metadata": {},
   "outputs": [],
   "source": [
    "import numpy as np\n",
    "import pandas as pd\n",
    "import sys\n",
    "import os\n",
    "import matplotlib.pyplot as plt\n",
    "import gstlearn as gl\n",
    "import gstlearn.plot as gp"
   ]
  },
  {
   "cell_type": "markdown",
   "metadata": {},
   "source": [
    "Global variables"
   ]
  },
  {
   "cell_type": "code",
   "execution_count": null,
   "metadata": {},
   "outputs": [],
   "source": [
    "verbose  = True\n",
    "graphics = True\n",
    "gl.OptCst.define(gl.ECst.NTCOL,6)"
   ]
  },
  {
   "cell_type": "markdown",
   "metadata": {},
   "source": [
    "## Reading data"
   ]
  },
  {
   "cell_type": "markdown",
   "metadata": {},
   "source": [
    "The data are stored in a CSV format in the file called Pollution.dat "
   ]
  },
  {
   "cell_type": "code",
   "execution_count": null,
   "metadata": {
    "scrolled": false
   },
   "outputs": [],
   "source": [
    "dataDir = os.path.join(os.path.pardir,os.path.pardir,\"doc\",\"data\",\"Pollution\")\n",
    "filepath = os.path.join(dataDir,\"Pollution.dat\")\n",
    "mydb = gl.Db.createFromCSV(filepath,gl.CSVformat())\n",
    "err = mydb.setLocators([\"X\",\"Y\"],gl.ELoc.X)\n",
    "err = mydb.setLocator(\"Zn\",gl.ELoc.Z)\n",
    "if verbose:\n",
    "    dbfmt = gl.DbStringFormat()\n",
    "    dbfmt.setParams(gl.FLAG_RESUME | gl.FLAG_EXTEND | gl.FLAG_VARS) \n",
    "    mydb.display(dbfmt)"
   ]
  },
  {
   "cell_type": "markdown",
   "metadata": {},
   "source": [
    "Accessing to the variable names"
   ]
  },
  {
   "cell_type": "code",
   "execution_count": null,
   "metadata": {
    "scrolled": true
   },
   "outputs": [],
   "source": [
    "print(\"List of all variable names =\",mydb.getAllNames())"
   ]
  },
  {
   "cell_type": "markdown",
   "metadata": {},
   "source": [
    "Extracting the vector containing the Zn variable in order to perform a selection"
   ]
  },
  {
   "cell_type": "code",
   "execution_count": null,
   "metadata": {
    "scrolled": true
   },
   "outputs": [],
   "source": [
    "tabZn = mydb.getColumn('Zn')\n",
    "selZn = (np.asarray(tabZn) < 20).astype(float)\n",
    "mydb.addSelection(tuple(selZn),'sel')\n",
    "mydb.setLocator('Pb',gl.ELoc.Z)\n",
    "if verbose:\n",
    "    mydb.display()"
   ]
  },
  {
   "cell_type": "markdown",
   "metadata": {},
   "source": [
    "Display my Data (with samples represented by color and size)"
   ]
  },
  {
   "cell_type": "code",
   "execution_count": null,
   "metadata": {},
   "outputs": [],
   "source": [
    "if graphics:\n",
    "    ax = gp.point(mydb,color_name=\"Pb\",title=\"Data Set\")"
   ]
  },
  {
   "cell_type": "markdown",
   "metadata": {},
   "source": [
    "## Variograms\n",
    "\n",
    "We first define the geometry of the variogram calculations"
   ]
  },
  {
   "cell_type": "code",
   "execution_count": null,
   "metadata": {},
   "outputs": [],
   "source": [
    "myVarioParamOmni = gl.VarioParam()\n",
    "mydir = gl.DirParam(2,10,1.)\n",
    "myVarioParamOmni.addDirs(mydir)"
   ]
  },
  {
   "cell_type": "markdown",
   "metadata": {},
   "source": [
    "We use the variogram definition in order to calculate the variogram cloud."
   ]
  },
  {
   "cell_type": "code",
   "execution_count": null,
   "metadata": {
    "scrolled": true
   },
   "outputs": [],
   "source": [
    "dbcloud = gl.db_variogram_cloud(mydb, myVarioParamOmni)"
   ]
  },
  {
   "cell_type": "markdown",
   "metadata": {},
   "source": [
    "We recall that the Variogram cloud is calculated by filling an underlying grid where each cell is painted according to the number of pairs at the given distance and given variability. Representing the variogram cloud"
   ]
  },
  {
   "cell_type": "code",
   "execution_count": null,
   "metadata": {},
   "outputs": [],
   "source": [
    "if graphics:\n",
    "    gp.grid(dbcloud,\"Cloud*\",title=\"Variogram Cloud\")"
   ]
  },
  {
   "cell_type": "markdown",
   "metadata": {},
   "source": [
    "Calculating the experimental omni-directional variogram"
   ]
  },
  {
   "cell_type": "code",
   "execution_count": null,
   "metadata": {
    "scrolled": true
   },
   "outputs": [],
   "source": [
    "myVarioOmni = gl.Vario(myVarioParamOmni,mydb)\n",
    "err = myVarioOmni.compute(gl.ECalcVario.VARIOGRAM)\n",
    "if verbose:\n",
    "    myVarioOmni.display()"
   ]
  },
  {
   "cell_type": "markdown",
   "metadata": {},
   "source": [
    "The variogram is represented graphically for a quick check"
   ]
  },
  {
   "cell_type": "code",
   "execution_count": null,
   "metadata": {
    "scrolled": false
   },
   "outputs": [],
   "source": [
    "if graphics:\n",
    "    axs = gp.varmod(myVarioOmni,title=\"Omni-directional Variogram for Pb\")"
   ]
  },
  {
   "cell_type": "markdown",
   "metadata": {},
   "source": [
    "Calculate a variogram in several directions"
   ]
  },
  {
   "cell_type": "code",
   "execution_count": null,
   "metadata": {
    "scrolled": true
   },
   "outputs": [],
   "source": [
    "myvarioParam = gl.VarioParam()\n",
    "mydirs = gl.generateMultipleDirs(2, 4, 10, 1.)\n",
    "myvarioParam.addMultiDirs(mydirs)\n",
    "myvario = gl.Vario(myvarioParam,mydb)\n",
    "myvario.compute(gl.ECalcVario.VARIOGRAM)\n",
    "if verbose:\n",
    "    myvario.display()"
   ]
  },
  {
   "cell_type": "code",
   "execution_count": null,
   "metadata": {
    "scrolled": false
   },
   "outputs": [],
   "source": [
    "if graphics:\n",
    "    axs = gp.varmod(myvario,title=\"Multi-Directional Variogram of Pb\")"
   ]
  },
  {
   "cell_type": "markdown",
   "metadata": {},
   "source": [
    "Calculating the Variogram Map"
   ]
  },
  {
   "cell_type": "code",
   "execution_count": null,
   "metadata": {},
   "outputs": [],
   "source": [
    "myvmap = gl.db_vmap_compute(mydb,gl.ECalcVario.VARIOGRAM,20,20)\n",
    "if verbose:\n",
    "    myvmap.display()"
   ]
  },
  {
   "cell_type": "code",
   "execution_count": null,
   "metadata": {
    "scrolled": true
   },
   "outputs": [],
   "source": [
    "if graphics:\n",
    "    gp.grid(myvmap,\"*Var\",title=\"Variogram Map\")"
   ]
  },
  {
   "cell_type": "markdown",
   "metadata": {},
   "source": [
    "## Model\n",
    "\n",
    "Fitting a Model. We call the Automatic Fitting procedure providing the list of covariance functions to be tested."
   ]
  },
  {
   "cell_type": "code",
   "execution_count": null,
   "metadata": {},
   "outputs": [],
   "source": [
    "mymodel = gl.Model.createFromDb(mydb)\n",
    "err = mymodel.fit(myvario,[gl.ECov.EXPONENTIAL,gl.ECov.SPHERICAL])"
   ]
  },
  {
   "cell_type": "markdown",
   "metadata": {},
   "source": [
    "Visualizing the resulting model, overlaid on the experimental variogram"
   ]
  },
  {
   "cell_type": "code",
   "execution_count": null,
   "metadata": {},
   "outputs": [],
   "source": [
    "if graphics:\n",
    "    axs = gp.varmod(myvario,mymodel,title=\"Model for Pb\")"
   ]
  },
  {
   "cell_type": "markdown",
   "metadata": {},
   "source": [
    "A IRF-0 model is created from this Covariance, adding the Universality Drift term"
   ]
  },
  {
   "cell_type": "markdown",
   "metadata": {},
   "source": [
    "### Model with equality constraints \n",
    "\n",
    "We can impose some constraints on the parameters during the fit. For instance here, we impose an equality constraint on the range (range = 1)."
   ]
  },
  {
   "cell_type": "code",
   "execution_count": null,
   "metadata": {
    "scrolled": true
   },
   "outputs": [],
   "source": [
    "myModelConstrained = gl.Model.createFromDb(mydb)\n",
    "constr = gl.Constraints()\n",
    "paramid = gl.CovParamId(0,0,gl.EConsElem.RANGE,0,0)\n",
    "constr.addItem(gl.ConsItem(paramid,gl.EConsType.EQUAL,1.))\n",
    "opt = gl.Option_AutoFit()\n",
    "err = myModelConstrained.fit(myVarioOmni,[gl.ECov.SPHERICAL],False,opt,constr)\n",
    "myModelConstrained"
   ]
  },
  {
   "cell_type": "markdown",
   "metadata": {},
   "source": [
    "We can impose inequality constraints by using **EConsType.LOWER** or **EConsType.UPPER**."
   ]
  },
  {
   "cell_type": "markdown",
   "metadata": {},
   "source": [
    "## Adding a drift :"
   ]
  },
  {
   "cell_type": "code",
   "execution_count": null,
   "metadata": {
    "scrolled": true
   },
   "outputs": [],
   "source": [
    "mymodel.addDrift([\"1\"])\n",
    "if verbose:\n",
    "    mymodel.display()"
   ]
  },
  {
   "cell_type": "markdown",
   "metadata": {},
   "source": [
    "## Defining the Neighborhood\n",
    "\n",
    "We initiate a Neigborhood (Moving with a small number of samples for Demonstration)"
   ]
  },
  {
   "cell_type": "code",
   "execution_count": null,
   "metadata": {
    "scrolled": true
   },
   "outputs": [],
   "source": [
    "myneigh = gl.NeighMoving.create(2,False,6,10)\n",
    "if verbose:\n",
    "    myneigh.display()"
   ]
  },
  {
   "cell_type": "markdown",
   "metadata": {},
   "source": [
    "## Checking the Moving Neighborhood\n",
    "\n",
    "We must first create a Grid which covers the area of interest"
   ]
  },
  {
   "cell_type": "code",
   "execution_count": null,
   "metadata": {},
   "outputs": [],
   "source": [
    "mygrid = gl.DbGrid()\n",
    "mygrid.resetCoveringDb(mydb,[],[0.5,0.5],[],[2,2])\n",
    "if verbose:\n",
    "    mygrid.display()"
   ]
  },
  {
   "cell_type": "markdown",
   "metadata": {},
   "source": [
    "We can now test the neighborhood characteristics for each node of the previously defined grid."
   ]
  },
  {
   "cell_type": "code",
   "execution_count": null,
   "metadata": {},
   "outputs": [],
   "source": [
    "err = gl.test_neigh(mydb,mygrid,mymodel,myneigh)\n",
    "if verbose:\n",
    "    mygrid.display()"
   ]
  },
  {
   "cell_type": "markdown",
   "metadata": {},
   "source": [
    "We can visualize some of the newly created variables, such as:\n",
    "\n",
    "\n",
    "- the number of points per neighborhood"
   ]
  },
  {
   "cell_type": "code",
   "execution_count": null,
   "metadata": {
    "scrolled": true
   },
   "outputs": [],
   "source": [
    "if graphics:\n",
    "    gp.grid(mygrid,\"Neigh*Number\",title=\"Number of Samples per Neighborhood\")"
   ]
  },
  {
   "cell_type": "markdown",
   "metadata": {},
   "source": [
    "- the one giving the maximum distance per neighborhood"
   ]
  },
  {
   "cell_type": "code",
   "execution_count": null,
   "metadata": {},
   "outputs": [],
   "source": [
    "if graphics:\n",
    "    gp.grid(mygrid,\"Neigh*MaxDist\",title=\"Maximum Distance per Neighborhood\")"
   ]
  },
  {
   "cell_type": "markdown",
   "metadata": {},
   "source": [
    "## Cross-validation\n",
    "\n",
    "We can now process the cross-validation step"
   ]
  },
  {
   "cell_type": "code",
   "execution_count": null,
   "metadata": {
    "scrolled": true
   },
   "outputs": [],
   "source": [
    "err = gl.xvalid(mydb,mymodel,myneigh)\n",
    "if verbose:\n",
    "    mydb.display()"
   ]
  },
  {
   "cell_type": "code",
   "execution_count": null,
   "metadata": {},
   "outputs": [],
   "source": [
    "if graphics:\n",
    "    ax = gp.hist(mydb,\"Xvalid.Pb.stderr\")"
   ]
  },
  {
   "cell_type": "markdown",
   "metadata": {},
   "source": [
    "## Estimation by Kriging\n",
    "\n",
    "We now perform the Estimation by Ordinary Kriging. The Neighborhood is changed into a Unique Neighborhood."
   ]
  },
  {
   "cell_type": "code",
   "execution_count": null,
   "metadata": {},
   "outputs": [],
   "source": [
    "mydb.setLocator(\"Pb\",gl.ELoc.Z)\n",
    "myneigh = gl.NeighUnique.create(2)\n",
    "err = gl.kriging(mydb,mygrid,mymodel,myneigh)\n",
    "if verbose:\n",
    "    mygrid.display()"
   ]
  },
  {
   "cell_type": "markdown",
   "metadata": {},
   "source": [
    "Visualizing the results"
   ]
  },
  {
   "cell_type": "code",
   "execution_count": null,
   "metadata": {},
   "outputs": [],
   "source": [
    "if graphics:\n",
    "    ax = gp.grid(mygrid,\"Kriging.Pb.estim\")\n",
    "    ax = gp.point(mydb,\"Pb\",title=\"Estimate of Pb\",ax=ax)"
   ]
  },
  {
   "cell_type": "code",
   "execution_count": null,
   "metadata": {
    "scrolled": false
   },
   "outputs": [],
   "source": [
    "if graphics:\n",
    "    ax = gp.grid(mygrid,\"Kriging.Pb.stdev\")\n",
    "    ax = gp.point(mydb,\"Pb\",title=\"St. Deviation of Pb\",ax=ax)"
   ]
  },
  {
   "cell_type": "markdown",
   "metadata": {},
   "source": [
    "## Simulations\n",
    "\n",
    "We must first transform the Data into Gaussian"
   ]
  },
  {
   "cell_type": "code",
   "execution_count": null,
   "metadata": {},
   "outputs": [],
   "source": [
    "myanamPb = gl.AnamHermite(30)\n",
    "myanamPb.fit(mydb)\n",
    "if verbose:\n",
    "    myanamPb.display()"
   ]
  },
  {
   "cell_type": "markdown",
   "metadata": {},
   "source": [
    "We can produce the Gaussian Anamorphosis graphically within its definition domain."
   ]
  },
  {
   "cell_type": "code",
   "execution_count": null,
   "metadata": {},
   "outputs": [],
   "source": [
    "if graphics:\n",
    "    res = myanamPb.sample()\n",
    "    ax = gp.XY(res.y,res.z,xlim=res.aylim,ylim=res.azlim,title=\"Gaussian Anamorphosis for Pb\")"
   ]
  },
  {
   "cell_type": "markdown",
   "metadata": {},
   "source": [
    "The next step consists in translating the target variable ('Pb') into its Gaussian transform"
   ]
  },
  {
   "cell_type": "code",
   "execution_count": null,
   "metadata": {},
   "outputs": [],
   "source": [
    "mydb.setLocator(\"Pb\",gl.ELoc.Z)\n",
    "err = myanamPb.RawToGaussian(mydb)\n",
    "if verbose:\n",
    "    mydb.display()"
   ]
  },
  {
   "cell_type": "markdown",
   "metadata": {},
   "source": [
    "We quickly calculate experimental (omni-directional) variograms using the already defined directions"
   ]
  },
  {
   "cell_type": "code",
   "execution_count": null,
   "metadata": {},
   "outputs": [],
   "source": [
    "myvarioParam = gl.VarioParam()\n",
    "mydir = gl.DirParam(2,10,1.)\n",
    "myvarioParam.addDirs(mydir)\n",
    "myVario = gl.Vario(myvarioParam,mydb)\n",
    "err = myvario.compute(gl.ECalcVario.VARIOGRAM)"
   ]
  },
  {
   "cell_type": "markdown",
   "metadata": {},
   "source": [
    "We fit the model by automatic fit (with the constraints that the total sill be equal to 1)."
   ]
  },
  {
   "cell_type": "code",
   "execution_count": null,
   "metadata": {
    "scrolled": true
   },
   "outputs": [],
   "source": [
    "mymodelG = gl.Model.createFromDb(mydb)\n",
    "err = mymodelG.fit(myvario,[gl.ECov.EXPONENTIAL])\n",
    "if graphics:\n",
    "    ax = gp.varmod(myvario,mymodelG,title=\"Model for Gaussian Pb\")"
   ]
  },
  {
   "cell_type": "markdown",
   "metadata": {},
   "source": [
    "We perform a set of 10 conditional simulations using the Turning Bands Method."
   ]
  },
  {
   "cell_type": "code",
   "execution_count": null,
   "metadata": {
    "scrolled": true
   },
   "outputs": [],
   "source": [
    "err = gl.simtub(mydb,mygrid,mymodel,myneigh,10)\n",
    "if verbose:\n",
    "    mygrid.display()"
   ]
  },
  {
   "cell_type": "markdown",
   "metadata": {},
   "source": [
    "Some statistics on the Conditional simulations in Gaussian scale"
   ]
  },
  {
   "cell_type": "code",
   "execution_count": null,
   "metadata": {},
   "outputs": [],
   "source": [
    "if verbose:\n",
    "    err = mygrid.statistics([\"Simu.Y.*\"],[\"mini\",\"maxi\",\"mean\",\"stdv\"],True,True,True)"
   ]
  },
  {
   "cell_type": "markdown",
   "metadata": {},
   "source": [
    "We visualize a conditional simulation in Gaussian scale"
   ]
  },
  {
   "cell_type": "code",
   "execution_count": null,
   "metadata": {},
   "outputs": [],
   "source": [
    "if graphics:\n",
    "    ax = gp.grid(mygrid,\"Simu.Y.Pb.1\")\n",
    "    ax = gp.point(mydb,\"Pb\",title=\"One Simulation of Pb in Gaussian Scale\",ax=ax)"
   ]
  },
  {
   "cell_type": "markdown",
   "metadata": {},
   "source": [
    "We turn the Gaussian conditional simulations into Raw scale (using the Anamorphosis back transform) and get rid of the Gaussian conditional simulations."
   ]
  },
  {
   "cell_type": "code",
   "execution_count": null,
   "metadata": {
    "scrolled": true
   },
   "outputs": [],
   "source": [
    "myanamPb.GaussianToRaw(mygrid,\"Simu.Y.*\")\n",
    "mygrid.deleteColumn(\"Simu.Y.*\")\n",
    "if verbose:\n",
    "    mygrid.display()"
   ]
  },
  {
   "cell_type": "markdown",
   "metadata": {},
   "source": [
    "We calculate some statistics on the Conditional Simulations in Raw scale."
   ]
  },
  {
   "cell_type": "code",
   "execution_count": null,
   "metadata": {},
   "outputs": [],
   "source": [
    "if verbose:\n",
    "    err = mygrid.statistics([\"Z.Simu.*\"],[\"mini\",\"maxi\",\"mean\",\"stdv\"],True,True,True)"
   ]
  },
  {
   "cell_type": "markdown",
   "metadata": {},
   "source": [
    "We visualize a Conditional Simulation in Raw Scale"
   ]
  },
  {
   "cell_type": "code",
   "execution_count": null,
   "metadata": {
    "scrolled": true
   },
   "outputs": [],
   "source": [
    "if graphics:\n",
    "    ax = gp.grid(mygrid,\"Z.Simu.Y.Pb.1\")\n",
    "    ax = gp.point(mydb,\"Pb\",title=\"One simulation of Pb in Raw Scale\", ax=ax)"
   ]
  },
  {
   "cell_type": "markdown",
   "metadata": {},
   "source": [
    "Let us now average the conditional simulations in order to have a comparison with the estimation by kriging."
   ]
  },
  {
   "cell_type": "code",
   "execution_count": null,
   "metadata": {
    "scrolled": true
   },
   "outputs": [],
   "source": [
    "err = mygrid.statistics([\"Z.Simu.*\"],[\"Mean\"],True,False,False)\n",
    "if verbose:\n",
    "    mygrid.display()"
   ]
  },
  {
   "cell_type": "markdown",
   "metadata": {},
   "source": [
    "Displaying the average of the Conditional Simulations"
   ]
  },
  {
   "cell_type": "code",
   "execution_count": null,
   "metadata": {
    "scrolled": true
   },
   "outputs": [],
   "source": [
    "if graphics:\n",
    "    ax = gp.grid(mygrid,\"Stats*Mean\")\n",
    "    ax = gp.point(mydb,\"Pb\",title=\"Mean of Pb simulations\",ax=ax)"
   ]
  },
  {
   "cell_type": "markdown",
   "metadata": {},
   "source": [
    "## Multivariate case\n",
    "\n",
    "The Gaussian transform of the Pb variable has already been calculated. It suffices to perform the Gaussian transform of the Zn variable"
   ]
  },
  {
   "cell_type": "code",
   "execution_count": null,
   "metadata": {
    "scrolled": false
   },
   "outputs": [],
   "source": [
    "mydb.setLocator(\"Zn\",gl.ELoc.Z)\n",
    "myanamZn = gl.AnamHermite(30)\n",
    "myanamZn.fit(mydb)\n",
    "if verbose:\n",
    "    myanamZn.display()"
   ]
  },
  {
   "cell_type": "code",
   "execution_count": null,
   "metadata": {},
   "outputs": [],
   "source": [
    "if graphics:\n",
    "    res = myanamZn.sample()\n",
    "    ax = gp.XY(res.y,res.z,xlim=res.aylim,ylim=res.azlim,title=\"Gaussian Anamorphosis for Zn\")"
   ]
  },
  {
   "cell_type": "markdown",
   "metadata": {},
   "source": [
    "We convert the raw data into its Gaussian equivalent"
   ]
  },
  {
   "cell_type": "code",
   "execution_count": null,
   "metadata": {},
   "outputs": [],
   "source": [
    "mydb.setLocator(\"Zn\",gl.ELoc.Z)\n",
    "err = myanamZn.RawToGaussian(mydb)\n",
    "if verbose:\n",
    "    mydb.display()"
   ]
  },
  {
   "cell_type": "markdown",
   "metadata": {},
   "source": [
    "We now perform the multivariate variogram caculation"
   ]
  },
  {
   "cell_type": "code",
   "execution_count": null,
   "metadata": {
    "scrolled": true
   },
   "outputs": [],
   "source": [
    "mydb.setLocators([\"Y.Pb\",\"Y.Zn\"],gl.ELoc.Z)\n",
    "myvario = gl.Vario(myvarioParam,mydb)\n",
    "err = myvario.compute(gl.ECalcVario.VARIOGRAM)\n",
    "mymodelM = gl.Model.createFromDb(mydb)\n",
    "err = mymodelM.fit(myvario,[gl.ECov.EXPONENTIAL])\n",
    "if graphics:\n",
    "    ax = gp.varmod(myvario,mymodelM,title=\"Multivariate Model\",figsize=[5,5])"
   ]
  },
  {
   "cell_type": "markdown",
   "metadata": {},
   "source": [
    "We perform 10 bivariate conditional simulations (deleting the previous monovariate simulation outcomes first for better legibility)"
   ]
  },
  {
   "cell_type": "code",
   "execution_count": null,
   "metadata": {},
   "outputs": [],
   "source": [
    "mygrid.deleteColumn(\"Z.Simu*\")\n",
    "err = gl.simtub(mydb,mygrid,mymodelM,myneigh,10)\n",
    "if verbose:\n",
    "    mygrid.display()"
   ]
  },
  {
   "cell_type": "markdown",
   "metadata": {},
   "source": [
    "We back-transform each set of simulation outcomes using its own Gaussian Anamorphosis function. Finally we delete the Gaussian variables and ask for the statistics on the simulated variables in the Raw Scale."
   ]
  },
  {
   "cell_type": "code",
   "execution_count": null,
   "metadata": {
    "scrolled": true
   },
   "outputs": [],
   "source": [
    "err = myanamZn.GaussianToRaw(mygrid,\"Simu.Y.Zn*\")\n",
    "err = myanamPb.GaussianToRaw(mygrid,\"Simu.Y.Pb*\")\n",
    "mygrid.deleteColumn(\"Simu.Y*\")\n",
    "if verbose:\n",
    "    err = mygrid.statistics([\"Z.Simu.*\"],[\"mini\",\"maxi\",\"mean\",\"stdv\"],True,True,True)"
   ]
  },
  {
   "cell_type": "markdown",
   "metadata": {},
   "source": [
    "## Categorical Variable\n",
    "\n",
    "We compare the initial variable 'Pb' with a set of disjoint intervals. The 'Pb' values varying from 3 to 12.7, we consider three classes:\n",
    "- values below 4\n",
    "- values between 4 and 6\n",
    "- values above 6\n",
    "\n",
    "\n",
    "We first build the indicators for each class"
   ]
  },
  {
   "cell_type": "code",
   "execution_count": null,
   "metadata": {},
   "outputs": [],
   "source": [
    "limits = gl.Limits([gl.TEST, 4., 6., gl.TEST])\n",
    "if verbose:\n",
    "    limits.display()"
   ]
  },
  {
   "cell_type": "markdown",
   "metadata": {},
   "source": [
    "We apply the set of limits previously defined in order to transform the input variable into Indicators of the different classes."
   ]
  },
  {
   "cell_type": "code",
   "execution_count": null,
   "metadata": {
    "scrolled": false
   },
   "outputs": [],
   "source": [
    "err = limits.toIndicator(mydb,\"Pb\")\n",
    "if verbose:\n",
    "    mydb.display()"
   ]
  },
  {
   "cell_type": "markdown",
   "metadata": {},
   "source": [
    "We calculate the variogram of the Indicators for future use"
   ]
  },
  {
   "cell_type": "code",
   "execution_count": null,
   "metadata": {},
   "outputs": [],
   "source": [
    "myvarioindParam = gl.VarioParam()\n",
    "myvarioindParam.addDirs(mydir)\n",
    "myvarioInd = gl.Vario(myvarioindParam,mydb)\n",
    "err = myvarioInd.compute(gl.ECalcVario.VARIOGRAM)\n",
    "if verbose:\n",
    "    myvarioInd.display()"
   ]
  },
  {
   "cell_type": "code",
   "execution_count": null,
   "metadata": {},
   "outputs": [],
   "source": [
    "ax = gp.varmod(myvarioInd)"
   ]
  },
  {
   "cell_type": "markdown",
   "metadata": {},
   "source": [
    "Then we build a categorical variable which gives the index of the class to which each sample belongs"
   ]
  },
  {
   "cell_type": "code",
   "execution_count": null,
   "metadata": {
    "scrolled": true
   },
   "outputs": [],
   "source": [
    "err = limits.toCategory(mydb,\"Pb\")\n",
    "if verbose:\n",
    "    dbfmt = gl.DbStringFormat()\n",
    "    dbfmt.setParams(gl.FLAG_STATS)\n",
    "    dbfmt.setNames([\"Category*\"])\n",
    "    dbfmt.setMode(2)\n",
    "    mydb.display(dbfmt)"
   ]
  }
 ],
 "metadata": {
  "kernelspec": {
   "display_name": "Python 3",
   "language": "python",
   "name": "python3"
  },
  "language_info": {
   "codemirror_mode": {
    "name": "ipython",
    "version": 3
   },
   "file_extension": ".py",
   "mimetype": "text/x-python",
   "name": "python",
   "nbconvert_exporter": "python",
   "pygments_lexer": "ipython3",
   "version": "3.8.5"
  }
 },
 "nbformat": 4,
 "nbformat_minor": 4
}
