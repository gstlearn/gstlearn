{
 "cells": [
  {
   "cell_type": "code",
   "execution_count": null,
   "metadata": {},
   "outputs": [],
   "source": [
    "import scipy as sc\n",
    "from scipy.sparse import *\n",
    "from scipy.sparse.linalg import *\n",
    "import numpy as np\n",
    "import pandas as pd\n",
    "import sys\n",
    "import os\n",
    "import matplotlib.pyplot as plt\n",
    "import gstlearn as gl\n",
    "import gstlearn.plot as gp"
   ]
  },
  {
   "cell_type": "code",
   "execution_count": null,
   "metadata": {},
   "outputs": [],
   "source": [
    "dataDir = os.path.join(os.path.pardir,os.path.pardir,\"doc\",\"data\",\"Scotland\")"
   ]
  },
  {
   "cell_type": "code",
   "execution_count": null,
   "metadata": {},
   "outputs": [],
   "source": [
    "dat = pd.read_csv(os.path.join(dataDir,\"Scotland_Temperatures.csv\"),sep=\",\",na_values=\"MISS\")\n",
    "dat.head()"
   ]
  },
  {
   "cell_type": "code",
   "execution_count": null,
   "metadata": {},
   "outputs": [],
   "source": [
    "dat = dat.iloc[np.where(~np.isnan(dat[\"January_temp\"]))[0],:]\n",
    "temperatures = gl.Db()\n",
    "names =dat.columns.to_list()\n",
    "temperatures[names] = np.array(dat[names])\n",
    "temperatures.setLocators([\"Longitude\",\"Latitude\"],gl.ELoc.X)\n",
    "temperatures.setLocator(\"January_temp\",gl.ELoc.Z)\n",
    "temperatures.setLocator(\"Elevation\",gl.ELoc.F)\n",
    "temperatures[\"sel\"] = ~np.isnan(temperatures[\"*temp\"])\n",
    "temperatures.setLocator(\"sel\",gl.ELoc.SEL)\n",
    "temperatures"
   ]
  },
  {
   "cell_type": "code",
   "execution_count": null,
   "metadata": {},
   "outputs": [],
   "source": [
    "MNT = pd.read_csv(os.path.join(dataDir,\"Scotland_Elevations.csv\"),sep=\",\")\n",
    "MNT.head()"
   ]
  },
  {
   "cell_type": "code",
   "execution_count": null,
   "metadata": {},
   "outputs": [],
   "source": [
    "mnt = gl.Db()\n",
    "names = MNT.columns.to_list()\n",
    "mnt[names] = np.array(MNT[names])\n",
    "mnt.setLocators([\"Longitude\",\"Latitude\"],gl.ELoc.X)\n",
    "\n",
    "grid = gl.DbGrid()\n",
    "#Est-ce qu'on ne pourrait pas migrer toutes les variables (en option) dès l'appel à resetCoveringDb?\n",
    "grid.resetCoveringDb(mnt,nodes = [81,137])\n",
    "gl.migrate(mnt,grid,\"Elevation\",namconv=gl.NamingConvention(\"\"))\n",
    "gl.migrate(mnt,grid,\"inshore\",namconv = gl.NamingConvention(\"\"))\n",
    "grid.setLocator(\"Elevation\",gl.ELoc.F)\n",
    "grid.setLocator(\"inshore\",gl.ELoc.SEL)\n",
    "gp.grid(grid,\"Elevation\")\n",
    "\n",
    "#Put Nan to 0 for selection (it should become useless in future version)\n",
    "u = grid[\"inshore\"]\n",
    "u[np.isnan(grid[\"inshore\"])] = 0.\n",
    "grid[\"inshore\"] = u"
   ]
  },
  {
   "cell_type": "code",
   "execution_count": null,
   "metadata": {},
   "outputs": [],
   "source": [
    "v = gl.VarioParam()\n",
    "dir1 = gl.DirParam(2,18,25)\n",
    "v.addDirs(dir1)\n",
    "vario = gl.Vario(v,temperatures)\n",
    "md = gl.Model.createFromDb(temperatures)\n",
    "md.addDrift(gl.Drift1(md.getContext()))\n",
    "md.addDrift(gl.DriftF(md.getContext()))\n",
    "vario.compute(model=md)\n",
    "ax=gp.vario(vario)\n"
   ]
  },
  {
   "cell_type": "code",
   "execution_count": null,
   "metadata": {},
   "outputs": [],
   "source": [
    "model = gl.Model.createFromDb(temperatures)\n",
    "model.setDriftList(md.getDriftList())\n",
    "\n",
    "structs = [gl.ECov.NUGGET,gl.ECov.BESSEL_K,gl.ECov.BESSEL_K]\n",
    "structs = [gl.ECov.NUGGET,gl.ECov.BESSEL_K]\n",
    "\n",
    "consNug = gl.ConsItem.define(gl.EConsElem.SILL,0, type = gl.EConsType.UPPER,value = 0.1)\n",
    "\n",
    "cons1P = gl.ConsItem.define(gl.EConsElem.PARAM,1, type = gl.EConsType.EQUAL,value = 1)\n",
    "cons1Rm = gl.ConsItem.define(gl.EConsElem.RANGE,1, type = gl.EConsType.LOWER,value = 100)\n",
    "cons1RM = gl.ConsItem.define(gl.EConsElem.RANGE,1, type = gl.EConsType.UPPER,value = 350)\n",
    "\n",
    "cons2P = gl.ConsItem.define(gl.EConsElem.PARAM,2, type = gl.EConsType.EQUAL,value = 2)\n",
    "cons2Rm = gl.ConsItem.define(gl.EConsElem.RANGE,2, type = gl.EConsType.LOWER,value = 100)\n",
    "cons2RM = gl.ConsItem.define(gl.EConsElem.RANGE,2, type = gl.EConsType.UPPER,value = 400)\n",
    "\n",
    "a = gl.Constraints()\n",
    "a.addItem(consNug)\n",
    "a.addItem(cons1P)\n",
    "a.addItem(cons1Rm)\n",
    "a.addItem(cons1RM)\n",
    "a.addItem(cons2P)\n",
    "a.addItem(cons2Rm)\n",
    "a.addItem(cons2RM)\n",
    "\n",
    "err = model.fit(vario,structs,constraints=a)\n",
    "ax = gp.varmod(vario,model,title=\"Vario of the residuals\")"
   ]
  },
  {
   "cell_type": "code",
   "execution_count": null,
   "metadata": {},
   "outputs": [],
   "source": [
    "model"
   ]
  },
  {
   "cell_type": "code",
   "execution_count": null,
   "metadata": {},
   "outputs": [],
   "source": [
    "spde = gl.SPDE(model,grid,temperatures,gl.ESPDECalcMode.KRIGING)"
   ]
  },
  {
   "cell_type": "code",
   "execution_count": null,
   "metadata": {},
   "outputs": [],
   "source": [
    "coeffs = spde.getCoeffs()"
   ]
  },
  {
   "cell_type": "code",
   "execution_count": null,
   "metadata": {},
   "outputs": [],
   "source": [
    "ax = gp.correlation(temperatures, \"Elevation\", \"*temp\", asPoint=True)\n",
    "if len(coeffs)>1:\n",
    "    plt.plot([0,400], [coeffs[0],coeffs[0]+coeffs[1]*400])"
   ]
  },
  {
   "cell_type": "code",
   "execution_count": null,
   "metadata": {},
   "outputs": [],
   "source": [
    "model"
   ]
  },
  {
   "cell_type": "code",
   "execution_count": null,
   "metadata": {},
   "outputs": [],
   "source": [
    "fileM = os.path.join(\"/home\",\"ndesassis\",\"gstlearn\",\"gstlearn\",\"doc\",\"data\",\"Scotland\",\"model.ascii\")\n",
    "err = model.dumpToNF(fileM)\n",
    "fileG = os.path.join(\"/home\",\"ndesassis\",\"gstlearn\",\"gstlearn\",\"doc\",\"data\",\"Scotland\",\"grid.ascii\")\n",
    "err = grid.dumpToNF(fileG)\n",
    "fileT = os.path.join(\"/home\",\"ndesassis\",\"gstlearn\",\"gstlearn\",\"doc\",\"data\",\"Scotland\",\"temperatures.ascii\")\n",
    "err = temperatures.dumpToNF(fileT)\n",
    "fileV = os.path.join(\"/home\",\"ndesassis\",\"gstlearn\",\"gstlearn\",\"doc\",\"data\",\"Scotland\",\"vario.ascii\")\n",
    "err = vario.dumpToNF(fileV)\n",
    "#gl.Model.createFromNF(fileM)\n",
    "#gl.Db.createFromNF(fileG)\n",
    "#gl.Db.createFromNF(fileT)\n",
    "#gl.Vario.createFromNF(fileV)"
   ]
  },
  {
   "cell_type": "code",
   "execution_count": null,
   "metadata": {
    "scrolled": true
   },
   "outputs": [],
   "source": [
    "spde.compute()\n",
    "iatt = spde.query(grid)"
   ]
  },
  {
   "cell_type": "code",
   "execution_count": null,
   "metadata": {},
   "outputs": [],
   "source": [
    "model"
   ]
  },
  {
   "cell_type": "code",
   "execution_count": null,
   "metadata": {},
   "outputs": [],
   "source": [
    "err = gl.kriging(temperatures,grid,model,gl.NeighUnique.create(2))"
   ]
  },
  {
   "cell_type": "code",
   "execution_count": null,
   "metadata": {},
   "outputs": [],
   "source": [
    "ax = gp.grid(grid,\"spde*\")\n",
    "ax = gp.grid(grid,\"*estim\")"
   ]
  },
  {
   "cell_type": "code",
   "execution_count": null,
   "metadata": {},
   "outputs": [],
   "source": [
    "ax = gp.correlation(grid,\"*estim\",\"spde*\",asPoint=True, diagLine=True)\n",
    "ax = gp.correlation(grid,\"*estim\",\"spde*\", diagLine=True)"
   ]
  }
 ],
 "metadata": {
  "kernelspec": {
   "display_name": "Python 3",
   "language": "python",
   "name": "python3"
  },
  "language_info": {
   "codemirror_mode": {
    "name": "ipython",
    "version": 3
   },
   "file_extension": ".py",
   "mimetype": "text/x-python",
   "name": "python",
   "nbconvert_exporter": "python",
   "pygments_lexer": "ipython3",
   "version": "3.8.5"
  }
 },
 "nbformat": 4,
 "nbformat_minor": 5
}
