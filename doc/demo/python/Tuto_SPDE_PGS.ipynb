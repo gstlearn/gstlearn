{
 "cells": [
  {
   "cell_type": "markdown",
   "id": "1b2a0fd5",
   "metadata": {},
   "source": [
    "# Pluri-Gaussian"
   ]
  },
  {
   "cell_type": "markdown",
   "id": "d4ac8b4e",
   "metadata": {},
   "source": [
    "<!-- SUMMARY: Pluri-Gaussian simulations performed in 2D -->\n",
    "\n",
    "<!-- CATEGORY: Methodology -->"
   ]
  },
  {
   "cell_type": "code",
   "execution_count": null,
   "id": "d1da31d4",
   "metadata": {},
   "outputs": [],
   "source": [
    "import pandas as pd\n",
    "import numpy as np\n",
    "import matplotlib.pyplot as plt\n",
    "import gstlearn as gl\n",
    "import gstlearn.plot as gp\n",
    "import gstlearn.document as gdoc\n",
    "import os\n",
    "\n",
    "gdoc.setNoScroll()"
   ]
  },
  {
   "cell_type": "markdown",
   "id": "1500f090",
   "metadata": {},
   "source": [
    "## Prepare the basic gstlearn objects\n",
    "\n",
    "Initial objects are located in a specific Directory which is defined in the next Container operation. Note that his operation will modify automatically all the names of the Files retreived using Serialize / Deserialize operation (not when reading using CSV). Also note that the Container name must be ended using a \"/\" (as its serves as a Directory)."
   ]
  },
  {
   "cell_type": "code",
   "execution_count": null,
   "id": "14602aaa",
   "metadata": {},
   "outputs": [],
   "source": [
    "ndim = 2\n",
    "gl.defineDefaultSpace(gl.ESpaceType.RN,ndim)"
   ]
  },
  {
   "cell_type": "markdown",
   "id": "d77a0120",
   "metadata": {},
   "source": [
    "### Load the data file\n",
    "\n",
    "This Load is performed starting from a CSV file."
   ]
  },
  {
   "cell_type": "code",
   "execution_count": null,
   "id": "bc297a09",
   "metadata": {},
   "outputs": [],
   "source": [
    "filename = gdoc.loadData(\"BRGM\", \"Nitrates_LANU.csv\")\n",
    "datCat = pd.read_csv(filename,sep=\";\")\n",
    "datCat.head()"
   ]
  },
  {
   "cell_type": "markdown",
   "id": "7bf91865",
   "metadata": {},
   "source": [
    "### Loading polygon from a file\n",
    "\n",
    "The polygon is created by deserializing the Neutral Polygon File"
   ]
  },
  {
   "cell_type": "code",
   "execution_count": null,
   "id": "6619c07a",
   "metadata": {},
   "outputs": [],
   "source": [
    "filename = gdoc.loadData(\"BRGM\", \"poly_LANU.ascii\")\n",
    "poly = gl.Polygons.createFromNF(filename)\n",
    "poly"
   ]
  },
  {
   "cell_type": "markdown",
   "id": "aa468e2f",
   "metadata": {},
   "source": [
    "### Creation of the gstlearn data base "
   ]
  },
  {
   "cell_type": "code",
   "execution_count": null,
   "id": "5899f623",
   "metadata": {},
   "outputs": [],
   "source": [
    "dat = gl.Db()\n",
    "fields = [\"X\",\"Y\",\"LANU\"]\n",
    "dat[fields] = datCat[fields].values"
   ]
  },
  {
   "cell_type": "markdown",
   "id": "f6c84f06",
   "metadata": {},
   "source": [
    "###  Specification of the role of each variable (named \"locators\" in gstlearn)"
   ]
  },
  {
   "cell_type": "code",
   "execution_count": null,
   "id": "23f02cf4",
   "metadata": {},
   "outputs": [],
   "source": [
    "dat.setLocators([\"X\",\"Y\"],gl.ELoc.X) #Coordinates\n",
    "dat.setLocator(\"LANU\",gl.ELoc.Z) #Variable of interest\n",
    "dat"
   ]
  },
  {
   "cell_type": "markdown",
   "id": "7b14e45f",
   "metadata": {},
   "source": [
    "### Creation of the output grid\n",
    "\n",
    "The output grid will contain 47 x 101 nodes. It is built to cover the data file plus an extension of 10000 x 10000."
   ]
  },
  {
   "cell_type": "code",
   "execution_count": null,
   "id": "123213ab",
   "metadata": {},
   "outputs": [],
   "source": [
    "Result = gl.DbGrid.createCoveringDb(dat,[47,101],[],[],[50000,50000])"
   ]
  },
  {
   "cell_type": "markdown",
   "id": "9ec603b7",
   "metadata": {},
   "source": [
    "### Add a selection (mask the cells outside the polygon)"
   ]
  },
  {
   "cell_type": "markdown",
   "id": "d373e2b7",
   "metadata": {},
   "source": [
    "The initial selection (based on the application of the Polygon to the grid data base) must be dilated in order to avoid edge effect."
   ]
  },
  {
   "cell_type": "code",
   "execution_count": null,
   "id": "b7b5c0f1",
   "metadata": {},
   "outputs": [],
   "source": [
    "gl.db_polygon(Result,poly)\n",
    "Result.setLocator(\"Polygon\",gl.ELoc.Z)\n",
    "Result.morpho(gl.EMorpho.DILATION,0.5,1.5,option=0,verbose=False,radius=[1,1])\n",
    "Result[\"Polygon\"] = Result[\"Morpho.Polygon.*\"]\n",
    "Result.deleteColumn(\"Morpho.Polygon.*\")\n",
    "Result.setLocator(\"Polygon\",gl.ELoc.SEL)"
   ]
  },
  {
   "cell_type": "code",
   "execution_count": null,
   "id": "7ccbbab2",
   "metadata": {},
   "outputs": [],
   "source": [
    "gp.plot(Result, \"Polygon\",useSel=False)\n",
    "gp.plot(dat,nameColor=\"LANU\",s=2)\n",
    "gp.polygon(poly,linewidth=1,edgecolor=\"r\")\n",
    "gp.geometry(dims=[10,10])\n",
    "gp.decoration(title=\"Initial information\")"
   ]
  },
  {
   "cell_type": "markdown",
   "id": "f6c7a360",
   "metadata": {},
   "source": [
    "## Computation of the proportions"
   ]
  },
  {
   "cell_type": "markdown",
   "id": "a34aacba",
   "metadata": {},
   "source": [
    "### Compute global proportions (for information)"
   ]
  },
  {
   "cell_type": "code",
   "execution_count": null,
   "id": "c85e8cdc",
   "metadata": {},
   "outputs": [],
   "source": [
    "propGlob = gl.dbStatisticsFacies(dat)\n",
    "ncat = len(propGlob)\n",
    "for i in range(ncat):\n",
    "    print(\"Proportion of facies \"+str(i+1),\"=\",propGlob[i])"
   ]
  },
  {
   "cell_type": "markdown",
   "id": "e9205871",
   "metadata": {},
   "source": [
    "### Compute local proportions\n",
    "\n",
    "The next parts will be simplified in a future dedicated API"
   ]
  },
  {
   "cell_type": "markdown",
   "id": "1e477ca1",
   "metadata": {},
   "source": [
    "**2.2.1 Creation of the spatial regularization model for proportions**"
   ]
  },
  {
   "cell_type": "code",
   "execution_count": null,
   "id": "80e8af4b",
   "metadata": {},
   "outputs": [],
   "source": [
    "model = gl.Model.createFromDb(Result)\n",
    "cova = gl.CovAniso.createIsotropic(model.getContext(),gl.ECov.MATERN,range=50000.,param=2.,sill=1.,) \n",
    "model.addCov(cova)"
   ]
  },
  {
   "cell_type": "code",
   "execution_count": null,
   "id": "be901ce1",
   "metadata": {},
   "outputs": [],
   "source": [
    "err = gl.db_proportion_estimate(dat,Result,model)"
   ]
  },
  {
   "cell_type": "code",
   "execution_count": null,
   "id": "dbb74eb4",
   "metadata": {},
   "outputs": [],
   "source": [
    "dbfmt = gl.DbStringFormat()\n",
    "dbfmt.setFlags(flag_stats=True)\n",
    "dbfmt.setNames([\"Prop.*\"])\n",
    "Result.display(dbfmt)"
   ]
  },
  {
   "cell_type": "markdown",
   "id": "9a83e9fa",
   "metadata": {},
   "source": [
    "### Display the results"
   ]
  },
  {
   "cell_type": "code",
   "execution_count": null,
   "id": "d85401e2",
   "metadata": {},
   "outputs": [],
   "source": [
    "for i in range(ncat):\n",
    "    fig, ax = plt.subplots()\n",
    "    ax.raster(Result, name=\"Prop.\"+str(i+1))\n",
    "    ax.decoration(title=\"Proportion Facies #\"+str(i+1))\n",
    "    ax.geometry(dims=[10,10], aspect=1)\n",
    "    ax.symbol(dat,nameColor=\"LANU\",s=2,c=\"black\")\n",
    "    \n",
    "    dat.addSelectionByLimit(\"LANU\",gl.Limits((i+1,i+1)),\"SelPoint\")\n",
    "    ax.symbol(dat,nameColor=\"LANU\",s=0.8,c=\"red\")\n",
    "    dat.deleteColumn(\"SelPoint\")\n",
    "    ax.polygon(poly,linewidth=1,edgecolor=\"r\")"
   ]
  },
  {
   "cell_type": "markdown",
   "id": "d906db8e",
   "metadata": {},
   "source": [
    "Creating the environment to infer the Rule. It uses a variogram calculated over very few lags close to the origin."
   ]
  },
  {
   "cell_type": "code",
   "execution_count": null,
   "id": "11778d67",
   "metadata": {},
   "outputs": [],
   "source": [
    "varioParam = gl.VarioParam()\n",
    "dirparam = gl.DirParam.create(nlag = 2, dlag=100)\n",
    "varioParam.addDir(dirparam);\n",
    "ruleprop = gl.RuleProp.createFromDb(Result);\n",
    "ruleprop.fit(dat, varioParam, 1);\n",
    "ngrf = ruleprop.getRule().getNGRF()\n",
    "print(\"Number of GRF =\",ngrf)"
   ]
  },
  {
   "cell_type": "code",
   "execution_count": null,
   "id": "c0428fb9",
   "metadata": {},
   "outputs": [],
   "source": [
    "res = gp.plot(ruleprop.getRule())"
   ]
  },
  {
   "cell_type": "code",
   "execution_count": null,
   "id": "7f989e29",
   "metadata": {},
   "outputs": [],
   "source": [
    "dirparam = gl.DirParam.create(nlag = 19, dlag=1000)\n",
    "covparam = gl.VarioParam();\n",
    "covparam.addDir(dirparam);\n",
    "cov = gl.variogram_pgs(dat,covparam,ruleprop);"
   ]
  },
  {
   "cell_type": "code",
   "execution_count": null,
   "id": "bffea3ad",
   "metadata": {},
   "outputs": [],
   "source": [
    "cov.display()"
   ]
  },
  {
   "cell_type": "markdown",
   "id": "7ba29d66",
   "metadata": {},
   "source": [
    "We extract the experimental variograms of each GRF."
   ]
  },
  {
   "cell_type": "code",
   "execution_count": null,
   "id": "89f096e1",
   "metadata": {},
   "outputs": [],
   "source": [
    "vario1 = gl.Vario.createReduce(cov,[0],[],True)\n",
    "if ngrf > 1:\n",
    "    vario2 = gl.Vario(cov)\n",
    "    vario2.resetReduce([1],[],True)"
   ]
  },
  {
   "cell_type": "code",
   "execution_count": null,
   "id": "69ab082e",
   "metadata": {},
   "outputs": [],
   "source": [
    "vario1.display()\n",
    "if ngrf > 1:\n",
    "    vario2.display()"
   ]
  },
  {
   "cell_type": "markdown",
   "id": "1cefe11d",
   "metadata": {},
   "source": [
    "We now fit the model of each GRF considered as independent. \n",
    "\n",
    "The fit is performed under the constraint that the sill should be 1."
   ]
  },
  {
   "cell_type": "code",
   "execution_count": null,
   "id": "e65bcf88",
   "metadata": {},
   "outputs": [],
   "source": [
    "ctxt = gl.CovContext(1,2) # use default space\n",
    "constraints = gl.Constraints()\n",
    "constraints.setConstantSillValue(1.)\n",
    "covs  = [gl.ECov.MATERN]\n",
    "\n",
    "modelPGS1 = gl.Model(ctxt)\n",
    "modelPGS1.fit(vario1,covs,constraints)\n",
    "modelPGS1.display()\n",
    "\n",
    "if ngrf > 1:\n",
    "    modelPGS2 = gl.Model(ctxt)\n",
    "    modelPGS2.fit(vario2,covs,constraints)\n",
    "    modelPGS2.display()\n",
    "else:\n",
    "    modelPGS2 = None"
   ]
  },
  {
   "cell_type": "markdown",
   "id": "82fd60a1",
   "metadata": {},
   "source": [
    "For each GRF, we can plot the experimental variogram as well as the fitted model."
   ]
  },
  {
   "cell_type": "code",
   "execution_count": null,
   "id": "d2961dd2",
   "metadata": {},
   "outputs": [],
   "source": [
    "res = gp.varmod(vario1,modelPGS1)\n",
    "if ngrf > 1:\n",
    "    res = gp.varmod(vario2,modelPGS2)\n",
    "plt.show()"
   ]
  },
  {
   "cell_type": "markdown",
   "id": "1acb29db",
   "metadata": {},
   "source": [
    "In this paragraph, we compare the experimental indicator variogram to the one derived from the Model of the underlying GRFs."
   ]
  },
  {
   "cell_type": "code",
   "execution_count": null,
   "id": "a18a3909",
   "metadata": {},
   "outputs": [],
   "source": [
    "dirparamindic = gl.DirParam.create(nlag=19, dlag=1000)\n",
    "varioparamindic = gl.VarioParam()\n",
    "varioparamindic.addDir(dirparamindic)\n",
    "varioindic = gl.Vario(varioparamindic)\n",
    "err = varioindic.computeIndic(dat)"
   ]
  },
  {
   "cell_type": "code",
   "execution_count": null,
   "id": "dcab05f8",
   "metadata": {},
   "outputs": [],
   "source": [
    "varioindic2 = gl.model_pgs(dat, varioparamindic, ruleprop, modelPGS1, modelPGS2);"
   ]
  },
  {
   "cell_type": "code",
   "execution_count": null,
   "id": "00dbfe44",
   "metadata": {
    "scrolled": true
   },
   "outputs": [],
   "source": [
    "gp.varmod(varioindic,varioLinestyle='solid')\n",
    "gp.geometry(dims=[10,10])\n",
    "gp.varmod(varioindic2,varioLinestyle='dashed')\n",
    "plt.show()"
   ]
  },
  {
   "cell_type": "code",
   "execution_count": null,
   "id": "1810f260",
   "metadata": {},
   "outputs": [],
   "source": [
    "neigh = gl.NeighUnique.create()\n",
    "err = gl.simpgs(dat,Result,ruleprop,modelPGS1,modelPGS2,neigh)"
   ]
  },
  {
   "cell_type": "code",
   "execution_count": null,
   "id": "10971e9f",
   "metadata": {},
   "outputs": [],
   "source": [
    "gp.plot(Result)\n",
    "gp.geometry(dims=[10,10])"
   ]
  },
  {
   "cell_type": "code",
   "execution_count": null,
   "id": "16e1110c",
   "metadata": {},
   "outputs": [],
   "source": []
  }
 ],
 "metadata": {
  "kernelspec": {
   "display_name": "Python 3 (ipykernel)",
   "language": "python",
   "name": "python3"
  },
  "language_info": {
   "codemirror_mode": {
    "name": "ipython",
    "version": 3
   },
   "file_extension": ".py",
   "mimetype": "text/x-python",
   "name": "python",
   "nbconvert_exporter": "python",
   "pygments_lexer": "ipython3",
   "version": "3.10.5"
  },
  "toc": {
   "base_numbering": 1,
   "nav_menu": {},
   "number_sections": true,
   "sideBar": true,
   "skip_h1_title": false,
   "title_cell": "Table of Contents",
   "title_sidebar": "Contents",
   "toc_cell": false,
   "toc_position": {},
   "toc_section_display": true,
   "toc_window_display": false
  }
 },
 "nbformat": 4,
 "nbformat_minor": 5
}
