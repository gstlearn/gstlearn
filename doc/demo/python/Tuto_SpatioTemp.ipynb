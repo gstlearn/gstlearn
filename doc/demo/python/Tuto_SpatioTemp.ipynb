{
 "cells": [
  {
   "cell_type": "markdown",
   "id": "a20d8e62",
   "metadata": {},
   "source": [
    "# Spatio-Temporal simulation"
   ]
  },
  {
   "cell_type": "markdown",
   "id": "9346be2d",
   "metadata": {},
   "source": [
    "<!-- SUMMARY: Simulations of a Spatio-Temporal phenomenon -->\n",
    "\n",
    "<!-- CATEGORY: Spatio-Temporal -->"
   ]
  },
  {
   "cell_type": "code",
   "execution_count": 16,
   "id": "4981765c",
   "metadata": {},
   "outputs": [],
   "source": [
    "import numpy as np\n",
    "import gstlearn as gl\n",
    "import gstlearn.document as gdoc\n",
    "from scipy.special import gamma\n",
    "from IPython.display import Markdown"
   ]
  },
  {
   "cell_type": "code",
   "execution_count": null,
   "id": "e06552c4",
   "metadata": {},
   "outputs": [],
   "source": [
    "Markdown(gdoc.loadDoc(\"Spatio_Temporal.md\"))"
   ]
  },
  {
   "cell_type": "raw",
   "id": "cfaf80ef",
   "metadata": {},
   "source": [
    "sudo apt-get install python-scipy libsuitesparse-dev\n",
    "git clone https://github.com/scikit-sparse/scikit-sparse.git\n",
    "cd scikit-sparse\n",
    "python3 setup.py install"
   ]
  },
  {
   "cell_type": "code",
   "execution_count": 18,
   "id": "6649d38e",
   "metadata": {},
   "outputs": [],
   "source": [
    "from sksparse.cholmod import cholesky\n",
    "import scipy as sc\n",
    "from scipy.sparse import diags"
   ]
  },
  {
   "cell_type": "code",
   "execution_count": 19,
   "id": "3f6aa0ce",
   "metadata": {},
   "outputs": [],
   "source": [
    "scale = 4.\n",
    "kappa = 1./scale\n",
    "kappa2 = kappa**2\n",
    "dt = .1\n",
    "dx = 1. \n",
    "c = 40\n",
    "sqc = np.sqrt(c)\n",
    "sqdt = np.sqrt(dt)"
   ]
  },
  {
   "cell_type": "code",
   "execution_count": null,
   "id": "f8fa6065",
   "metadata": {},
   "outputs": [],
   "source": [
    "nx = [100,100]\n",
    "m = gl.Model.createFromParam(gl.ECov.MATERN,range=1,param=2,flagRange=False)\n",
    "mesh = gl.MeshETurbo(nx ,[dx,dx])\n",
    "S = gl.ShiftOpMatrix(mesh,m.getCovAniso(0))\n",
    "Smat = S.getS().toTL()\n",
    "TildeC12 = diags(np.sqrt(S.getTildeC()))\n",
    "invTildeC12 = diags(1./np.sqrt(S.getTildeC()))\n",
    "G = TildeC12 @ Smat @ TildeC12\n",
    "M = TildeC12 @ TildeC12\n",
    "K = (kappa2 * M + G) @ (kappa2 * M + G) @ (kappa2 * M + G)\n",
    "param = 3\n",
    "P = M +  c*dt * K\n",
    "cholP = cholesky(P)\n",
    "\n",
    "def evalInvA(x) :\n",
    "    return  cholP.solve_A(M @ x)\n",
    "\n",
    "def evalInvB(x) :\n",
    "    return sqc * sqdt * cholP.solve_A(TildeC12 @ x)\n",
    "\n",
    "# TODO: Reason for the warning ??!\n",
    "# https://stackoverflow.com/a/48273717"
   ]
  },
  {
   "cell_type": "code",
   "execution_count": 21,
   "id": "56df7787",
   "metadata": {},
   "outputs": [],
   "source": [
    "np.random.seed(123)\n",
    "x = np.random.normal(size=Smat.shape[0])\n",
    "\n",
    "for i in range(100):\n",
    "    u = np.random.normal(size=Smat.shape[0])\n",
    "    x = evalInvA(x) + evalInvB(u)"
   ]
  },
  {
   "cell_type": "code",
   "execution_count": null,
   "id": "c8441331",
   "metadata": {},
   "outputs": [],
   "source": [
    "anim = True\n",
    "\n",
    "if anim :\n",
    "    %matplotlib notebook\n",
    "    import matplotlib.pyplot as plt\n",
    "    from matplotlib.animation import FuncAnimation\n",
    "    #x = np.random.normal(size=Smat.shape[0])\n",
    "    xtot = np.zeros(shape = [Smat.shape[0],50])\n",
    "    xtot[:,0] = x\n",
    "    fig, ax = plt.subplots(figsize=(2,2))\n",
    "    ln = plt.imshow(x.reshape(nx), 'BrBG')\n",
    "\n",
    "def init():\n",
    "    ln.set_data(x.reshape(nx))\n",
    "    return ln\n",
    "\n",
    "def update(frame):\n",
    "    u = np.random.normal(size=Smat.shape[0])\n",
    "    xtot[:,frame] = evalInvA(xtot[:,frame-1]) + evalInvB(u)\n",
    "    ln.set_data(xtot[:,frame].reshape(nx))\n",
    "    return ln\n",
    "\n",
    "if anim :\n",
    "    ani = FuncAnimation(fig, update, frames = 50,\n",
    "                        init_func=init, blit=False,interval=10)\n",
    "    p = plt.show()\n"
   ]
  },
  {
   "cell_type": "code",
   "execution_count": 23,
   "id": "fc9462a7",
   "metadata": {},
   "outputs": [],
   "source": [
    "%matplotlib inline"
   ]
  },
  {
   "cell_type": "code",
   "execution_count": 24,
   "id": "cae2048f",
   "metadata": {},
   "outputs": [],
   "source": [
    "model = gl.Model.createFromParam(gl.ECov.MATERN,range = scale,param = param,flagRange=False)\n",
    "\n",
    "rangev = 3.5 * model.getCovAniso(0).getRange()\n",
    "h = np.linspace(0,rangev,100)\n",
    "points = [gl.SpacePoint([0.,i]) for i in h]\n",
    "cov = [model.eval(points[0],i) for i in points]"
   ]
  },
  {
   "cell_type": "code",
   "execution_count": 25,
   "id": "ac669efc",
   "metadata": {},
   "outputs": [],
   "source": [
    "def correc(kappa,alpha,d=2):\n",
    "    return gamma(alpha-d/2)/ (gamma(alpha)*(4*np.pi)**(d/2)*kappa**(2*alpha-d))"
   ]
  },
  {
   "cell_type": "code",
   "execution_count": 26,
   "id": "3f4c729a",
   "metadata": {},
   "outputs": [],
   "source": [
    "d = 2\n",
    "param = 3\n",
    "alpha = param+d/2\n",
    "hmax = 3.5 * model.getCovAniso(0).getRange()\n",
    "N = 2**8\n",
    "\n",
    "\n",
    "ind = np.concatenate([np.arange(int(N/2),N-1,2),np.arange(0,int(N/2),2)])\n",
    "\n",
    "a= np.pi * (N-1) / hmax\n",
    "v = np.linspace(-1.,1.,N)\n",
    "u = a/2 * v\n",
    "deltau=a/(N-1)\n",
    "\n",
    "xi = np.meshgrid(u,u)\n",
    "normxi = np.array([i**2 + j**2 for i in u for j in u]).reshape((len(u),len(u)))\n",
    "\n",
    "grxi = c * (kappa2 + normxi)**alpha * correc(kappa,param+d/2,d)\n",
    "\n",
    "nres = 200\n",
    "time = np.arange(0,nres,1) \n",
    "result = np.zeros(shape=[len(ind),nres])\n",
    "for k in time :\n",
    "    fourier = np.exp(-k *dt * np.abs(grxi))/(  1./c * (2*np.pi)**d*2*grxi)\n",
    "    B = np.real(np.fft.fftn(fourier,norm=\"backward\"))\n",
    "    result[:,k] = B[0,:][ind]\n",
    "    "
   ]
  },
  {
   "cell_type": "code",
   "execution_count": null,
   "id": "843249bf",
   "metadata": {},
   "outputs": [],
   "source": [
    "X= np.pi * v[np.arange(0,N,2)] /deltau \n",
    "points = [gl.SpacePoint([0.,i]) for i in X]\n",
    "cov = [model.eval(gl.SpacePoint([0.,0]),i)/2. for i in points]\n",
    " \n",
    "\n",
    "plt.plot(X,cov)\n",
    "for i in range(10):\n",
    "    covZ=result[:,i * 10]*deltau**d\n",
    "    plt.plot(X, covZ)\n",
    "\n",
    "\n",
    "lim = 1.5 * model.getCovAniso(0).getRange()\n",
    "plt.xlim([-lim,lim])\n",
    "a = plt.axvline(x=0.)"
   ]
  },
  {
   "cell_type": "code",
   "execution_count": null,
   "id": "6ed3a176",
   "metadata": {},
   "outputs": [],
   "source": [
    "i = plt.imshow(result)"
   ]
  },
  {
   "cell_type": "code",
   "execution_count": null,
   "id": "47f14190",
   "metadata": {},
   "outputs": [],
   "source": [
    "v"
   ]
  },
  {
   "cell_type": "code",
   "execution_count": null,
   "id": "c8f05c95",
   "metadata": {},
   "outputs": [],
   "source": [
    "print(result[:,0].max())"
   ]
  }
 ],
 "metadata": {
  "kernelspec": {
   "display_name": "Python 3",
   "language": "python",
   "name": "python3"
  },
  "language_info": {
   "codemirror_mode": {
    "name": "ipython",
    "version": 3
   },
   "file_extension": ".py",
   "mimetype": "text/x-python",
   "name": "python",
   "nbconvert_exporter": "python",
   "pygments_lexer": "ipython3",
   "version": "3.10.5"
  },
  "toc": {
   "base_numbering": 1,
   "nav_menu": {},
   "number_sections": true,
   "sideBar": true,
   "skip_h1_title": false,
   "title_cell": "Table of Contents",
   "title_sidebar": "Contents",
   "toc_cell": false,
   "toc_position": {},
   "toc_section_display": true,
   "toc_window_display": false
  }
 },
 "nbformat": 4,
 "nbformat_minor": 5
}
