{
 "cells": [
  {
   "cell_type": "markdown",
   "id": "63971ada",
   "metadata": {},
   "source": [
    "In this tutorial, we study the family of SPDEs :\n",
    "\n",
    "$$\\left(\\frac{\\partial}{\\partial t} + c\\left((1-\\nabla H. \\nabla)^{\\alpha} + v.\\nabla\\right)\\right)Z(s,t)=\\sqrt{c}W_T(t)\\otimes X_S(s)$$\n",
    "\n",
    "where \n",
    "\n",
    "- $\\nu>0$ is a time scale parameter\n",
    "- $H$ is an anisotropic matrix \n",
    "- $v$ is a velocity vector\n",
    "- $W_T$ is a temporal white-noise\n",
    "- $X_S$ is a spatially structured  noise"
   ]
  },
  {
   "cell_type": "code",
   "execution_count": null,
   "id": "4981765c",
   "metadata": {},
   "outputs": [],
   "source": [
    "import numpy as np\n",
    "import gstlearn as gl\n"
   ]
  },
  {
   "cell_type": "raw",
   "id": "cfaf80ef",
   "metadata": {},
   "source": [
    "sudo apt-get install python-scipy libsuitesparse-dev\n",
    "git clone https://github.com/scikit-sparse/scikit-sparse.git\n",
    "cd scikit-sparse\n",
    "python3 setup.py install"
   ]
  },
  {
   "cell_type": "code",
   "execution_count": null,
   "id": "6649d38e",
   "metadata": {},
   "outputs": [],
   "source": [
    "from sksparse.cholmod import cholesky\n",
    "import scipy as sc\n",
    "from scipy.sparse import diags"
   ]
  },
  {
   "cell_type": "code",
   "execution_count": null,
   "id": "3f6aa0ce",
   "metadata": {},
   "outputs": [],
   "source": [
    "scale = 4.\n",
    "kappa2 = 1./scale**2\n",
    "dt = .1\n",
    "c = 10\n",
    "sqc = np.sqrt(c)\n",
    "sqdt = np.sqrt(dt)"
   ]
  },
  {
   "cell_type": "code",
   "execution_count": null,
   "id": "f8fa6065",
   "metadata": {},
   "outputs": [],
   "source": [
    "nx = [100,100]\n",
    "m = gl.Model.createFromParam(gl.ECov.BESSEL_K,range=1,param=2,flagRange=False)\n",
    "mesh = gl.MeshETurbo(nx ,[1,1])\n",
    "S = gl.ShiftOpCs(mesh,m)\n",
    "St = gl.csToTriplet(S.getS())\n",
    "Smat=sc.sparse.csc_matrix((np.array(St.values), (np.array(St.rows), np.array(St.cols))),\n",
    "                          shape=(St.nrows,St.ncols))\n",
    "TildeC = diags(np.sqrt(S.getTildeC()))\n",
    "G = TildeC @ Smat @ TildeC\n",
    "M = TildeC @ TildeC\n",
    "K = (kappa2 * M + G) @ (kappa2 * M + G) @ (kappa2 * M + G)\n",
    "P = M +  c*dt * K\n",
    "cholP = cholesky(P)\n",
    "\n",
    "def evalInvA(x) :\n",
    "    return  cholP.solve_A(M @ x)\n",
    "\n",
    "def evalInvB(x) :\n",
    "    return sqc * sqdt * cholP.solve_A(TildeC @ x)"
   ]
  },
  {
   "cell_type": "code",
   "execution_count": null,
   "id": "56df7787",
   "metadata": {},
   "outputs": [],
   "source": [
    "x = np.random.normal(size=Smat.shape[0])\n",
    "\n",
    "for i in range(100):\n",
    "    u = np.random.normal(size=Smat.shape[0])\n",
    "    x = evalInvA(x) + evalInvB(u)"
   ]
  },
  {
   "cell_type": "code",
   "execution_count": null,
   "id": "c8441331",
   "metadata": {},
   "outputs": [],
   "source": [
    "%matplotlib notebook\n",
    "import matplotlib.pyplot as plt\n",
    "from matplotlib.animation import FuncAnimation\n",
    "#x = np.random.normal(size=Smat.shape[0])\n",
    "xtot = np.zeros(shape = [Smat.shape[0],50])\n",
    "xtot[:,0] = x\n",
    "fig, ax = plt.subplots(figsize=(3,3))\n",
    "ln = plt.imshow(x.reshape(nx), 'BrBG')\n",
    "\n",
    "def init():\n",
    "    ln.set_data(x.reshape(nx))\n",
    "    return ln\n",
    "\n",
    "def update(frame):\n",
    "    u = np.random.normal(size=Smat.shape[0])\n",
    "    xtot[:,frame] = evalInvA(xtot[:,frame-1]) + evalInvB(u)\n",
    "    ln.set_data(xtot[:,frame].reshape(nx))\n",
    "    return ln\n",
    "\n",
    "ani = FuncAnimation(fig, update, frames = 50,\n",
    "                    init_func=init, blit=False,interval=10)\n",
    "plt.show()\n"
   ]
  },
  {
   "cell_type": "code",
   "execution_count": null,
   "id": "f05adcdf",
   "metadata": {},
   "outputs": [],
   "source": [
    "%matplotlib inline\n",
    "plt.imshow(xtot[:,49].reshape(nx)[50:150,50:150])\n",
    "plt.colorbar()\n",
    "plt.show()\n",
    "np.var(xtot[:,0])"
   ]
  },
  {
   "cell_type": "code",
   "execution_count": null,
   "id": "4ae1b973",
   "metadata": {},
   "outputs": [],
   "source": []
  }
 ],
 "metadata": {
  "kernelspec": {
   "display_name": "Python 3 (ipykernel)",
   "language": "python",
   "name": "python3"
  },
  "language_info": {
   "codemirror_mode": {
    "name": "ipython",
    "version": 3
   },
   "file_extension": ".py",
   "mimetype": "text/x-python",
   "name": "python",
   "nbconvert_exporter": "python",
   "pygments_lexer": "ipython3",
   "version": "3.10.2"
  }
 },
 "nbformat": 4,
 "nbformat_minor": 5
}
