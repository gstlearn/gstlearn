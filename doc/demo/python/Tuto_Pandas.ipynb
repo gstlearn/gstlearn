{
 "cells": [
  {
   "cell_type": "code",
   "execution_count": null,
   "id": "decf925c",
   "metadata": {},
   "outputs": [],
   "source": [
    "import gstlearn as gl\n",
    "import pandas as pd\n",
    "import numpy as np"
   ]
  },
  {
   "cell_type": "code",
   "execution_count": null,
   "id": "64cb8e19",
   "metadata": {},
   "outputs": [],
   "source": [
    "ndat = 10\n",
    "db = gl.Db.create()\n",
    "db[\"long\"]  = np.random.uniform(size = ndat)\n",
    "db[\"lat\"]  = np.random.uniform(size = ndat)\n",
    "db[\"z\"]   = np.random.normal(size = ndat)\n",
    "db[\"sel\"] = np.random.binomial(1, 0.5, size = ndat)"
   ]
  },
  {
   "cell_type": "code",
   "execution_count": null,
   "id": "a46f048e",
   "metadata": {},
   "outputs": [],
   "source": [
    "db.setLocators([\"l*\"], gl.ELoc.X)\n",
    "db.setLocators([\"z\"], gl.ELoc.Z)\n",
    "db.setLocators([\"sel\"], gl.ELoc.SEL)"
   ]
  },
  {
   "cell_type": "code",
   "execution_count": null,
   "id": "ebadcc45",
   "metadata": {},
   "outputs": [],
   "source": [
    "dat = db.toTL()"
   ]
  },
  {
   "cell_type": "code",
   "execution_count": null,
   "id": "4aba8c89",
   "metadata": {},
   "outputs": [],
   "source": [
    "dat"
   ]
  },
  {
   "cell_type": "code",
   "execution_count": null,
   "id": "c6b3e506",
   "metadata": {
    "scrolled": true
   },
   "outputs": [],
   "source": [
    "dat = db.toTL(True)"
   ]
  },
  {
   "cell_type": "code",
   "execution_count": null,
   "id": "74d4b4b2",
   "metadata": {},
   "outputs": [],
   "source": [
    "dat"
   ]
  }
 ],
 "metadata": {
  "kernelspec": {
   "display_name": "Python 3 (ipykernel)",
   "language": "python",
   "name": "python3"
  },
  "language_info": {
   "codemirror_mode": {
    "name": "ipython",
    "version": 3
   },
   "file_extension": ".py",
   "mimetype": "text/x-python",
   "name": "python",
   "nbconvert_exporter": "python",
   "pygments_lexer": "ipython3",
   "version": "3.10.5"
  }
 },
 "nbformat": 4,
 "nbformat_minor": 5
}
