{
 "cells": [
  {
   "cell_type": "code",
   "execution_count": null,
   "id": "c0463e10",
   "metadata": {},
   "outputs": [],
   "source": [
    "import gstlearn as gl\n",
    "import pandas as pd\n",
    "import numpy as np"
   ]
  },
  {
   "cell_type": "code",
   "execution_count": null,
   "id": "ffd73a8b",
   "metadata": {},
   "outputs": [],
   "source": [
    "ndat = 10\n",
    "db = gl.Db.create()\n",
    "db[\"long\"]  = np.random.uniform(size = ndat)\n",
    "db[\"lat\"]  = np.random.uniform(size = ndat)\n",
    "db[\"z\"]   = np.random.normal(size = ndat)\n",
    "db[\"sel\"] = np.random.binomial(1, 0.5, size = ndat)"
   ]
  },
  {
   "cell_type": "code",
   "execution_count": null,
   "id": "fd22fe53",
   "metadata": {},
   "outputs": [],
   "source": [
    "db.setLocators([\"l*\"], gl.ELoc.X)\n",
    "db.setLocators([\"z\"], gl.ELoc.Z)\n",
    "db.setLocators([\"sel\"], gl.ELoc.SEL)"
   ]
  },
  {
   "cell_type": "markdown",
   "id": "7f04edb0",
   "metadata": {},
   "source": [
    "# Way 1 (without locators)"
   ]
  },
  {
   "cell_type": "code",
   "execution_count": null,
   "id": "c1b8adaf",
   "metadata": {},
   "outputs": [],
   "source": [
    "dat = pd.DataFrame(db.getAllColumns().reshape(db.getSampleNumber(),-1), columns = db.getAllNames())\n",
    "dat"
   ]
  },
  {
   "cell_type": "markdown",
   "id": "a5f49116",
   "metadata": {},
   "source": [
    "# Way 2 (with locators)"
   ]
  },
  {
   "cell_type": "code",
   "execution_count": null,
   "id": "066d5f72",
   "metadata": {},
   "outputs": [],
   "source": [
    "dat = pd.DataFrame()\n",
    "for j,i in enumerate(db.getAllNames()) :\n",
    "    dat[i] = db[i]\n",
    "    dat[i].locator = db.getLocators()[j] #on peut même stocker le locator"
   ]
  },
  {
   "cell_type": "code",
   "execution_count": null,
   "id": "2254df27",
   "metadata": {},
   "outputs": [],
   "source": [
    "dat"
   ]
  },
  {
   "cell_type": "code",
   "execution_count": null,
   "id": "f05a60ad",
   "metadata": {},
   "outputs": [],
   "source": [
    "dat.long.locator"
   ]
  },
  {
   "cell_type": "code",
   "execution_count": null,
   "id": "283afa47",
   "metadata": {},
   "outputs": [],
   "source": []
  }
 ],
 "metadata": {
  "kernelspec": {
   "display_name": "Python 3 (ipykernel)",
   "language": "python",
   "name": "python3"
  },
  "language_info": {
   "codemirror_mode": {
    "name": "ipython",
    "version": 3
   },
   "file_extension": ".py",
   "mimetype": "text/x-python",
   "name": "python",
   "nbconvert_exporter": "python",
   "pygments_lexer": "ipython3",
   "version": "3.10.2"
  }
 },
 "nbformat": 4,
 "nbformat_minor": 5
}
