{
 "cells": [
  {
   "cell_type": "markdown",
   "id": "fe3e139b",
   "metadata": {},
   "source": [
    "## Db to Panda"
   ]
  },
  {
   "cell_type": "markdown",
   "id": "5bfceb78",
   "metadata": {},
   "source": [
    "<!-- SUMMARY: Hints for converting a Data Base from gstlearn library into a Panda Data Frame -->\n",
    "\n",
    "<!-- KEYWORDS: db meshing plot -->"
   ]
  },
  {
   "cell_type": "markdown",
   "id": "303d947a",
   "metadata": {},
   "source": [
    "Loading the required libraries"
   ]
  },
  {
   "cell_type": "code",
   "execution_count": null,
   "id": "decf925c",
   "metadata": {},
   "outputs": [],
   "source": [
    "import gstlearn as gl\n",
    "import pandas as pd\n",
    "import numpy as np"
   ]
  },
  {
   "cell_type": "markdown",
   "id": "66bf0260",
   "metadata": {},
   "source": [
    "We first create the Data Base 'db' with few samples and 4 variables. "
   ]
  },
  {
   "cell_type": "code",
   "execution_count": null,
   "id": "64cb8e19",
   "metadata": {},
   "outputs": [],
   "source": [
    "ndat = 10\n",
    "db = gl.Db.create()\n",
    "np.random.seed(123)\n",
    "db[\"long\"]  = np.random.uniform(size = ndat)\n",
    "db[\"lat\"]  = np.random.uniform(size = ndat)\n",
    "db[\"z\"]   = np.random.normal(size = ndat)\n",
    "db[\"sel\"] = np.random.binomial(1, 0.5, size = ndat)"
   ]
  },
  {
   "cell_type": "markdown",
   "id": "5bf2e8d5",
   "metadata": {},
   "source": [
    "Each of these variables is assigned a Locator."
   ]
  },
  {
   "cell_type": "code",
   "execution_count": null,
   "id": "a46f048e",
   "metadata": {},
   "outputs": [],
   "source": [
    "db.setLocators([\"l*\"], gl.ELoc.X)\n",
    "db.setLocators([\"z\"], gl.ELoc.Z)\n",
    "db.setLocators([\"sel\"], gl.ELoc.SEL)"
   ]
  },
  {
   "cell_type": "markdown",
   "id": "d1f56a0a",
   "metadata": {},
   "source": [
    "The next printout shows the contents of the Db using gstlearn format"
   ]
  },
  {
   "cell_type": "code",
   "execution_count": null,
   "id": "204fe419",
   "metadata": {
    "scrolled": true
   },
   "outputs": [],
   "source": [
    "db"
   ]
  },
  {
   "cell_type": "markdown",
   "id": "b87c6f99",
   "metadata": {},
   "source": [
    "We now convert it into a Panda file"
   ]
  },
  {
   "cell_type": "code",
   "execution_count": null,
   "id": "ebadcc45",
   "metadata": {},
   "outputs": [],
   "source": [
    "dat = db.toTL()"
   ]
  },
  {
   "cell_type": "markdown",
   "id": "b5299dd2",
   "metadata": {},
   "source": [
    "We check its contents using Panda own format"
   ]
  },
  {
   "cell_type": "code",
   "execution_count": null,
   "id": "4aba8c89",
   "metadata": {},
   "outputs": [],
   "source": [
    "dat"
   ]
  },
  {
   "cell_type": "markdown",
   "id": "2b845123",
   "metadata": {},
   "source": [
    "The conversion is performed once more, but keeping track of the locator information assigned to each variable."
   ]
  },
  {
   "cell_type": "code",
   "execution_count": null,
   "id": "c6b3e506",
   "metadata": {
    "scrolled": true
   },
   "outputs": [],
   "source": [
    "dat = db.toTL(True)"
   ]
  },
  {
   "cell_type": "markdown",
   "id": "bdffe53e",
   "metadata": {},
   "source": [
    "The printout is not modified."
   ]
  },
  {
   "cell_type": "code",
   "execution_count": null,
   "id": "74d4b4b2",
   "metadata": {
    "scrolled": true
   },
   "outputs": [],
   "source": [
    "dat"
   ]
  },
  {
   "cell_type": "markdown",
   "id": "16bf6897",
   "metadata": {},
   "source": [
    "But each variable can show the locator which is attached to it. The syntax is as follows:"
   ]
  },
  {
   "cell_type": "code",
   "execution_count": null,
   "id": "fc31be7b",
   "metadata": {},
   "outputs": [],
   "source": [
    "dat.sel.locator"
   ]
  }
 ],
 "metadata": {
  "kernelspec": {
   "display_name": "Python 3 (ipykernel)",
   "language": "python",
   "name": "python3"
  },
  "language_info": {
   "codemirror_mode": {
    "name": "ipython",
    "version": 3
   },
   "file_extension": ".py",
   "mimetype": "text/x-python",
   "name": "python",
   "nbconvert_exporter": "python",
   "pygments_lexer": "ipython3",
   "version": "3.10.5"
  },
  "toc": {
   "base_numbering": 1,
   "nav_menu": {},
   "number_sections": true,
   "sideBar": true,
   "skip_h1_title": false,
   "title_cell": "Table of Contents",
   "title_sidebar": "Contents",
   "toc_cell": false,
   "toc_position": {},
   "toc_section_display": true,
   "toc_window_display": false
  }
 },
 "nbformat": 4,
 "nbformat_minor": 5
}
