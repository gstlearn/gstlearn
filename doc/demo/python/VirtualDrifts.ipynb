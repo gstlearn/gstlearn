{
 "cells": [
  {
   "cell_type": "code",
   "execution_count": 3,
   "id": "85cc9a33",
   "metadata": {},
   "outputs": [],
   "source": [
    "import gstlearn as gl\n",
    "import numpy as np"
   ]
  },
  {
   "cell_type": "markdown",
   "id": "0dc21c0c",
   "metadata": {},
   "source": [
    "# Creation of the class"
   ]
  },
  {
   "cell_type": "code",
   "execution_count": 19,
   "id": "1ca12b32",
   "metadata": {},
   "outputs": [],
   "source": [
    "class LocalKriging :\n",
    "    def __init__(self,driftFunctions,db,model):        \n",
    "        dbc = gl.Db(db)\n",
    "        namesCoords = db.getNamesByLocator(gl.ELoc.X)\n",
    "        coords = db[namesCoords]  \n",
    "        modelc = gl.Model(model)\n",
    "        driftsSymbol=[]\n",
    "        for i,f in enumerate(driftFunctions):\n",
    "            dbc[\"addedDrift\" + str(i)] = f(coords)\n",
    "            driftsSymbol += [\"f\" + str(i+1)]\n",
    "        \n",
    "        modelc.setDriftIRF(0,len(driftFunctions))\n",
    "        \n",
    "        dbc.setLocators([\"addedDrift*\"],gl.ELoc.F)\n",
    "        self.drifts = driftFunctions\n",
    "        #self.coeffs = np.array(krigingMethodDual(db,modelc)) # Dual\n",
    "        self.covanisolist = model.getCovAnisoList()\n",
    "        self.coordsData = []\n",
    "        v = gl.VectorDouble(coords.shape[1])\n",
    "        for i in range(coords.shape[0]):\n",
    "            for j in range(coords.shape[1]):\n",
    "                v[j] = coords[i,j]\n",
    "            self.coordsData+= [gl.SpacePoint(v)]\n",
    "            \n",
    "    def eval(self,coordsTarget):\n",
    "        c0 = np.zeros(shape= len(self.coordsData) + len(self.drifts)+1)\n",
    "        coordsV = gl.VectorDouble(len(coordsTarget))\n",
    "        for j in range(len(coordsTarget)):\n",
    "            coordsV[j] = coordsTarget[j]\n",
    "        for i in range(len(self.coordsData)):\n",
    "            c0[i] = self.covanisolist.eval(0,0,self.coordsData[i],gl.SpacePoint(coordsV))\n",
    "        c0[len(self.coordsData)] = 1.\n",
    "        for i in range(len(self.drifts)):\n",
    "            c0[1+i+len(self.coordsData)] = self.drifts[i](np.atleast_2d(np.array(coordsTarget)))\n",
    "        return(c0)\n",
    "#return np.sum(c0 * self.coeffs)"
   ]
  },
  {
   "cell_type": "markdown",
   "id": "388f88bd",
   "metadata": {},
   "source": [
    "## Db creation"
   ]
  },
  {
   "cell_type": "code",
   "execution_count": 20,
   "id": "eba92d8c",
   "metadata": {},
   "outputs": [],
   "source": [
    "db = gl.Db.create()\n",
    "db[\"x\"] = np.random.uniform(size=100)\n",
    "db[\"y\"] = np.random.uniform(size=100)\n",
    "db[\"z\"] = np.random.normal(size=100)\n",
    "db.setLocators([\"x\",\"y\"],gl.ELoc.X)"
   ]
  },
  {
   "cell_type": "markdown",
   "id": "45143200",
   "metadata": {},
   "source": [
    "## Drift functions "
   ]
  },
  {
   "cell_type": "code",
   "execution_count": 21,
   "id": "2752604b",
   "metadata": {},
   "outputs": [],
   "source": [
    "def driftFunction1(coords):\n",
    "    return coords[:,0]**2\n",
    "\n",
    "def driftFunction2(coords):\n",
    "    return coords[:,1]**2\n",
    "\n",
    "driftFunctions = [driftFunction1,driftFunction2]"
   ]
  },
  {
   "cell_type": "markdown",
   "id": "bf75d56f",
   "metadata": {},
   "source": [
    "## Model"
   ]
  },
  {
   "cell_type": "code",
   "execution_count": 22,
   "id": "67b46329",
   "metadata": {},
   "outputs": [],
   "source": [
    "model = gl.Model.createFromParam(gl.ECov.BESSEL_K,param=1)\n"
   ]
  },
  {
   "cell_type": "markdown",
   "id": "d6803665",
   "metadata": {},
   "source": [
    "## Class instanciation"
   ]
  },
  {
   "cell_type": "code",
   "execution_count": 23,
   "id": "85c55c40",
   "metadata": {},
   "outputs": [
    {
     "data": {
      "text/plain": [
       "array([0.47847288, 0.56057999, 0.30098041, 0.59724798, 0.53258686,\n",
       "       0.62390831, 0.51335152, 0.24449803, 0.3111087 , 0.46449411,\n",
       "       0.12493232, 0.2574031 , 0.14064844, 0.30616229, 0.4236204 ,\n",
       "       0.47168519, 0.86514077, 0.2484456 , 0.7592505 , 0.30719522,\n",
       "       0.7434436 , 0.6048631 , 0.42783176, 0.14246811, 0.20074028,\n",
       "       0.56859717, 0.80761694, 0.51965338, 0.24719912, 0.27122862,\n",
       "       0.38707961, 0.38315159, 0.53956798, 0.76172463, 0.29065107,\n",
       "       0.15704116, 0.28169211, 0.81980144, 0.26502887, 0.21498394,\n",
       "       0.92501593, 0.20572603, 0.35628322, 0.52409144, 0.23926319,\n",
       "       0.59849412, 0.25107677, 0.66161538, 0.21559167, 0.11993447,\n",
       "       0.37547932, 0.29679441, 0.40745798, 0.27721619, 0.7023021 ,\n",
       "       0.94689798, 0.20825125, 0.75360706, 0.51398962, 0.59376743,\n",
       "       0.21518886, 0.38047622, 0.44511218, 0.72344995, 0.17267829,\n",
       "       0.48547803, 0.1573785 , 0.19872399, 0.21553671, 0.17353159,\n",
       "       0.47277913, 0.47239539, 0.52968152, 0.31278817, 0.74031364,\n",
       "       0.83531166, 0.48670932, 0.49380757, 0.25164297, 0.84595457,\n",
       "       0.304988  , 0.25228808, 0.79102927, 0.81117043, 0.61718745,\n",
       "       0.55791539, 0.46128491, 0.35587827, 0.51982506, 0.29895412,\n",
       "       0.22513155, 0.23920051, 0.75872012, 0.55540699, 0.15878822,\n",
       "       0.20138892, 0.39575056, 0.3612879 , 0.42589242, 0.27242888,\n",
       "       1.        , 0.09      , 0.16      ])"
      ]
     },
     "execution_count": 23,
     "metadata": {},
     "output_type": "execute_result"
    }
   ],
   "source": [
    "A = LocalKriging(driftFunctions,db,model)\n",
    "A.eval(np.array([0.3,0.4]))"
   ]
  },
  {
   "cell_type": "code",
   "execution_count": null,
   "id": "4d8d7ed3",
   "metadata": {},
   "outputs": [],
   "source": []
  }
 ],
 "metadata": {
  "kernelspec": {
   "display_name": "Python 3 (ipykernel)",
   "language": "python",
   "name": "python3"
  },
  "language_info": {
   "codemirror_mode": {
    "name": "ipython",
    "version": 3
   },
   "file_extension": ".py",
   "mimetype": "text/x-python",
   "name": "python",
   "nbconvert_exporter": "python",
   "pygments_lexer": "ipython3",
   "version": "3.10.2"
  }
 },
 "nbformat": 4,
 "nbformat_minor": 5
}
