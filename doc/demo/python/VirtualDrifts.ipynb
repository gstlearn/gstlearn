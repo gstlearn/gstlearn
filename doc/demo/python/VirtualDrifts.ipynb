{
 "cells": [
  {
   "cell_type": "code",
   "execution_count": null,
   "id": "c605d8ec",
   "metadata": {},
   "outputs": [],
   "source": [
    "import gstlearn as gl\n",
    "import numpy as np"
   ]
  },
  {
   "cell_type": "markdown",
   "id": "526a2721",
   "metadata": {},
   "source": [
    "# Creation of the class"
   ]
  },
  {
   "cell_type": "code",
   "execution_count": null,
   "id": "58a0e122",
   "metadata": {},
   "outputs": [],
   "source": [
    "class LocalKriging :\n",
    "    def __init__(self,driftFunctions,db,model):  \n",
    "        \n",
    "        # Input Data Bae\n",
    "        self.ndim = db.getNDim()\n",
    "        self.dbc = gl.Db(db)\n",
    "        namesCoords = db.getNamesByLocator(gl.ELoc.X)\n",
    "        coords = db[namesCoords]  \n",
    "        for i,f in enumerate(driftFunctions):\n",
    "            self.dbc[\"addedDrift\" + str(i)] = f(coords)\n",
    "        self.dbc.setLocators([\"addedDrift*\"],gl.ELoc.F)\n",
    "        \n",
    "        # Output Data Base\n",
    "        self.dbout = gl.Db.createFromOnePoint([0 for i in range(self.ndim)])\n",
    "        iptrEst = self.dbout.addColumnsByConstant(1,radix=\"z_estim\",locatorType = gl.ELoc.Z)\n",
    "        coords = self.dbout.getAllCoordinates()[0]\n",
    "        for i,f in enumerate(driftFunctions):\n",
    "            self.dbout.addColumns(f(np.atleast_2d(np.array(coords))), \"addedDrift\" + str(i))\n",
    "        self.dbout.setLocators([\"addedDrift*\"],gl.ELoc.F)\n",
    "        \n",
    "        # Model\n",
    "        self.modelc = gl.Model(model)\n",
    "        self.modelc.setDriftIRF(0,len(driftFunctions))\n",
    "        \n",
    "        # Neighborhood (Unique)\n",
    "        self.neigh = gl.NeighUnique(self.ndim)\n",
    "        \n",
    "        # For later use\n",
    "        self.drifts = driftFunctions\n",
    "\n",
    "        # Instantiate the KrigingSystem\n",
    "        self.ks = gl.KrigingSystem(self.dbc, self.dbout, self.modelc, self.neigh)\n",
    "        self.ks.setKrigOptEstim(iptrEst, -1, -1)\n",
    "        self.ks.isReady()\n",
    "            \n",
    "    def eval(self,coordsTarget):\n",
    "        for i in range(self.ndim):\n",
    "            self.dbout.setCoordinate(0, i, coordsTarget[i])\n",
    "        \n",
    "        for i in range(len(self.drifts)):\n",
    "            self.dbout.setExternalDrift(0, i, self.drifts[i](np.atleast_2d(coordsTarget))[0])\n",
    "        self.ks.estimate(0)\n",
    "        return self.dbout[\"z_estim\"][0][0]\n"
   ]
  },
  {
   "cell_type": "markdown",
   "id": "c8814c39",
   "metadata": {},
   "source": [
    "## Db creation"
   ]
  },
  {
   "cell_type": "code",
   "execution_count": null,
   "id": "f73ba25c",
   "metadata": {},
   "outputs": [],
   "source": [
    "db = gl.Db.create()\n",
    "db[\"x\"] = np.random.uniform(size=100)\n",
    "db[\"y\"] = np.random.uniform(size=100)\n",
    "db[\"z\"] = np.random.normal(size=100)\n",
    "db.setLocators([\"x\",\"y\"],gl.ELoc.X)\n",
    "db.setLocators([\"z\"],gl.ELoc.Z)"
   ]
  },
  {
   "cell_type": "markdown",
   "id": "9d42c933",
   "metadata": {},
   "source": [
    "## Drift functions "
   ]
  },
  {
   "cell_type": "code",
   "execution_count": null,
   "id": "bfab52a7",
   "metadata": {},
   "outputs": [],
   "source": [
    "def driftFunction1(coords):\n",
    "    return coords[:,0]**2\n",
    "\n",
    "def driftFunction2(coords):\n",
    "    return coords[:,1]**2\n",
    "\n",
    "driftFunctions = [driftFunction1,driftFunction2]"
   ]
  },
  {
   "cell_type": "markdown",
   "id": "6be48e0c",
   "metadata": {},
   "source": [
    "## Model"
   ]
  },
  {
   "cell_type": "code",
   "execution_count": null,
   "id": "d3d52029",
   "metadata": {},
   "outputs": [],
   "source": [
    "model = gl.Model.createFromParam(gl.ECov.BESSEL_K,param=1)\n"
   ]
  },
  {
   "cell_type": "markdown",
   "id": "11539cc7",
   "metadata": {},
   "source": [
    "## Class instanciation"
   ]
  },
  {
   "cell_type": "code",
   "execution_count": null,
   "id": "f5f27c84",
   "metadata": {},
   "outputs": [],
   "source": [
    "A = LocalKriging(driftFunctions,db,model)\n",
    "A.eval(np.array([0.3,0.4]))"
   ]
  },
  {
   "cell_type": "markdown",
   "id": "86bbafd8",
   "metadata": {},
   "source": [
    "Test"
   ]
  },
  {
   "cell_type": "code",
   "execution_count": null,
   "id": "38a6f055",
   "metadata": {},
   "outputs": [],
   "source": [
    "testPoint = db.getAllCoordinates()[0]\n",
    "A.eval(np.array(testPoint))\n",
    "db[\"z\"][0]"
   ]
  },
  {
   "cell_type": "code",
   "execution_count": null,
   "id": "1522b594",
   "metadata": {},
   "outputs": [],
   "source": []
  }
 ],
 "metadata": {
  "kernelspec": {
   "display_name": "Python 3 (ipykernel)",
   "language": "python",
   "name": "python3"
  },
  "language_info": {
   "codemirror_mode": {
    "name": "ipython",
    "version": 3
   },
   "file_extension": ".py",
   "mimetype": "text/x-python",
   "name": "python",
   "nbconvert_exporter": "python",
   "pygments_lexer": "ipython3",
   "version": "3.10.2"
  }
 },
 "nbformat": 4,
 "nbformat_minor": 5
}
