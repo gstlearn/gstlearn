{
 "cells": [
  {
   "cell_type": "markdown",
   "metadata": {},
   "source": [
    "# Cross-validation"
   ]
  },
  {
   "cell_type": "markdown",
   "metadata": {},
   "source": [
    "<!-- SUMMARY: Example of Cross-validation calculation with various output formats -->\n",
    "\n",
    "<!-- CATEGORY: Methodology -->"
   ]
  },
  {
   "cell_type": "markdown",
   "metadata": {},
   "source": [
    "## Import packages"
   ]
  },
  {
   "cell_type": "code",
   "execution_count": null,
   "metadata": {},
   "outputs": [],
   "source": [
    "import numpy as np\n",
    "import pandas as pd\n",
    "import sys\n",
    "import os\n",
    "import matplotlib.pyplot as plt\n",
    "import gstlearn as gl\n",
    "import gstlearn.plot as gp\n",
    "import gstlearn.document as gdoc\n",
    "\n",
    "gdoc.setNoScroll()"
   ]
  },
  {
   "cell_type": "markdown",
   "metadata": {},
   "source": [
    "## Introduction\n",
    "\n",
    "This is a small script which illustrates the capabilities of the cross-validation feature within *gstlearn*.\n",
    "\n",
    "We generate a fictitious data set (by sampling a given simulation). Then we will use this fictitious data set to demonstrate the cross-validation tool.\n",
    "\n",
    "We generate a data set composed of a series of few samples located randomly within a 100 by 100 square. \n",
    "\n",
    "The number of data can be set to a small nuùber (*10* for example) small in order to make the results more legible. However, you can turn it to a more reasonable value (say *100*) to see better results (note that you should avoid large numbers as a test is performed in Unique Neighborhood). In the latter case, you may then switch OFF the variable 'turnPrintON' to remove tedious printouts."
   ]
  },
  {
   "cell_type": "code",
   "execution_count": null,
   "metadata": {},
   "outputs": [],
   "source": [
    "nech = 10\n",
    "turnPrintON = True\n",
    "\n",
    "data = gl.Db.createFromBox(nech, [0,0], [100,100])\n",
    "gp.plot(data)\n",
    "gp.decoration(title=\"Measurement location\")"
   ]
  },
  {
   "cell_type": "markdown",
   "metadata": {},
   "source": [
    "We define a model (spherical structure with range 30 and sill 4) with the Universality condition, and perform a non conditional simulation at the data locations. These values, renamed as *data* will now become the data set."
   ]
  },
  {
   "cell_type": "code",
   "execution_count": null,
   "metadata": {},
   "outputs": [],
   "source": [
    "model = gl.Model.createFromParam(type=gl.ECov.SPHERICAL,range=30,sill=4)\n",
    "model.setDriftIRF(0)\n",
    "err = gl.simtub(None,data,model)\n",
    "data.setName(\"Simu\",\"data\")\n",
    "gp.plot(data, nameSize=\"data\")\n",
    "gp.decoration(title=\"Measurement values\")"
   ]
  },
  {
   "cell_type": "markdown",
   "metadata": {},
   "source": [
    "Now we perform the cross-validation step. This requires the definition of a neighborhood (called *neigh*) that we consider as unique, due to the small neumber of data. Obviously this could be turned into a moving neighborhood if necessary."
   ]
  },
  {
   "cell_type": "code",
   "execution_count": null,
   "metadata": {},
   "outputs": [],
   "source": [
    "neighU = gl.NeighUnique()\n",
    "err = gl.xvalid(data,model,neighU,flag_xvalid_est=1,flag_xvalid_std=1,\n",
    "                namconv=gl.NamingConvention(\"Xvalid\",True,True,False))"
   ]
  },
  {
   "cell_type": "markdown",
   "metadata": {},
   "source": [
    "The cross-validation feature offers several types of outputs, according to the flags:\n",
    "\n",
    "- *flag_xvalid_est* tells if the function must return the estimation error Z*-Z (flag.est=1) or the estimation Z* (flag.est=-1)\n",
    "\n",
    "- *flag_xvalid_std* tells if the function must return the normalized error (Z*-Z)/S (flag.std=1) or the standard deviation S (flag.std=-1)\n",
    "\n",
    "For a complete demonstration, all options are used. Note the use of *NamingConvention*  which explicitely leaves the Z-locator on the input variable (i.e. *data*)."
   ]
  },
  {
   "cell_type": "markdown",
   "metadata": {},
   "source": [
    "We perform the Cross-validation step once more but change the storing option (as wellas the radix given to the output variables)."
   ]
  },
  {
   "cell_type": "code",
   "execution_count": null,
   "metadata": {},
   "outputs": [],
   "source": [
    "err = gl.xvalid(data,model,neighU,flag_xvalid_est=-1, flag_xvalid_std=-1,\n",
    "                namconv=gl.NamingConvention(\"Xvalid2\",True,True,False))\n",
    "data"
   ]
  },
  {
   "cell_type": "markdown",
   "metadata": {},
   "source": [
    "We know check all the results gathered on the first sample."
   ]
  },
  {
   "cell_type": "code",
   "execution_count": null,
   "metadata": {},
   "outputs": [],
   "source": [
    "data[0,0:8]"
   ]
  },
  {
   "cell_type": "markdown",
   "metadata": {},
   "source": [
    "The printed values correspond to the following information:\n",
    "\n",
    "- the sample rank: 1\n",
    "- the sample abscissae $X$: 22.7\n",
    "- the sample coordinate $Y$: 83.64\n",
    "- the data value $Z$: 2.502\n",
    "- the cross-validation error $Z^* - Z$: -1.952\n",
    "- the cross-validation standardized error $\\frac{Z^* - Z} {S}$: -1.095\n",
    "- the cross-validation estimated value $Z^*$: 0.550\n",
    "- the standard deviation of the cross-validation error $S$: 1.781"
   ]
  },
  {
   "cell_type": "markdown",
   "metadata": {},
   "source": [
    "We can also double-check these results by asking a full dump of all information when processing the first sample. The next chunk does not store any result: it is just there in order to produce some output on the terminal to better understand the process."
   ]
  },
  {
   "cell_type": "code",
   "execution_count": null,
   "metadata": {},
   "outputs": [],
   "source": [
    "if turnPrintON:\n",
    "    gl.OptDbg.setReference(1)\n",
    "    err = gl.xvalid(data,model,neighU,flag_xvalid_est=1, flag_xvalid_std=1,\n",
    "                    namconv=gl.NamingConvention(\"Xvalid3\",True,True,False))"
   ]
  },
  {
   "cell_type": "markdown",
   "metadata": {},
   "source": [
    "We can also double-check these calculations with a Moving Neighborhood which has been tuned to cover a pseudo-Unique Neighborhood."
   ]
  },
  {
   "cell_type": "code",
   "execution_count": null,
   "metadata": {},
   "outputs": [],
   "source": [
    "neighM = gl.NeighMoving.create()"
   ]
  },
  {
   "cell_type": "code",
   "execution_count": null,
   "metadata": {},
   "outputs": [],
   "source": [
    "if turnPrintON:\n",
    "    gl.OptDbg.setReference(1)\n",
    "    err = gl.xvalid(data,model,neighM,flag_xvalid_est=1, flag_xvalid_std=1,\n",
    "                    namconv=gl.NamingConvention(\"Xvalid4\",True,True,False))"
   ]
  },
  {
   "cell_type": "markdown",
   "metadata": {},
   "source": [
    "In the next paragraph, we perform the different graphic outputs that are expected after a cross-validation step. They are provided by the function *draw.xvalid* which produces:\n",
    "\n",
    "- the base map of the absolute value of the cross-validation standardized error\n",
    "- the histogram of the cross-validation standardized error\n",
    "- the scatter plot of the standardized error as a function of the estimation\n",
    "- the scatter plot of the true value as a function of the estimation"
   ]
  },
  {
   "cell_type": "code",
   "execution_count": null,
   "metadata": {},
   "outputs": [],
   "source": [
    "fig, axs = plt.subplots(2,2, figsize=(12,12))\n",
    "axs[0,0].symbol(data,nameSize=\"Xvalid.data.stderr\", flagAbsSize=True)\n",
    "axs[0,0].decoration(title=\"Standardized Errors (absolute value)\")\n",
    "axs[0,1].histogram(data, name=\"Xvalid.data.stderr\", bins=20)\n",
    "axs[0,1].decoration(title=\"Histogram of Standardized Errors\")\n",
    "axs[1,0].correlation(data, namey=\"Xvalid.data.stderr\", namex=\"Xvalid2.data.estim\", \n",
    "                   asPoint=True, horizLine=True)\n",
    "axs[1,0].decoration(xlabel=\"Estimation\", ylabel=\"Standardized Error\")\n",
    "axs[1,1].correlation(data, namey=\"data\", namex=\"Xvalid2.data.estim\", \n",
    "                   asPoint=True, regrLine=True, flagSameAxes=True)\n",
    "axs[1,1].decoration(xlabel=\"Estimation\", ylabel=\"True Value\")"
   ]
  },
  {
   "cell_type": "markdown",
   "metadata": {},
   "source": [
    "## Difference between Kriging and Cross-Validation"
   ]
  },
  {
   "cell_type": "markdown",
   "metadata": {},
   "source": [
    "This small paragraph is meant to enhance the difference between *Kriging* and *Cross-validation*. Clearly the two main differences are that:\n",
    "- Estimation is performed on the data file itself: hence 'input' and 'output' data bases coincide \n",
    "- the target sample is temporarily suppressed from the data base before the estimation takes place at its initial location\n",
    "\n",
    "This is illustrated in the following paragraph where the estimation is performed on the first sample, toggling all the verbose options ON.\n",
    "We also take the opportunity for testing the option for the calculation of the the variance of the estimator (not the estimation error for once)."
   ]
  },
  {
   "cell_type": "code",
   "execution_count": null,
   "metadata": {},
   "outputs": [],
   "source": [
    "gl.OptDbg.setReference(1)\n",
    "err = gl.kriging(data,data,model,neighU, flag_est=True, flag_std=True, flag_varz=True,\n",
    "                namconv=gl.NamingConvention(\"Kriging\",True,True,False))\n",
    "data"
   ]
  },
  {
   "cell_type": "code",
   "execution_count": null,
   "metadata": {},
   "outputs": [],
   "source": [
    "data[0,0:15]"
   ]
  },
  {
   "cell_type": "markdown",
   "metadata": {},
   "source": [
    "We also take this opportunity to double-check that Kriging is an Exact Interpolator (e.g. at the data point, estimated value coincides with data value and variance of estimation error is zero) even when using a Model containing some Nugget Effect.\n",
    "\n",
    "So we modify the previous model by adding a Nugget Effect component."
   ]
  },
  {
   "cell_type": "code",
   "execution_count": null,
   "metadata": {},
   "outputs": [],
   "source": [
    "model.addCovFromParam(type=gl.ECov.NUGGET, sill=1.5)\n",
    "model"
   ]
  },
  {
   "cell_type": "code",
   "execution_count": null,
   "metadata": {},
   "outputs": [],
   "source": [
    "gl.OptDbg.setReference(1)\n",
    "err = gl.kriging(data,data,model,neighU, flag_est=True, flag_std=True, flag_varz=True,\n",
    "                namconv=gl.NamingConvention(\"Kriging2\",True,True,False))\n",
    "data"
   ]
  },
  {
   "cell_type": "code",
   "execution_count": null,
   "metadata": {},
   "outputs": [],
   "source": [
    "data[0,0:21]"
   ]
  }
 ],
 "metadata": {
  "kernelspec": {
   "display_name": "Python 3 (ipykernel)",
   "language": "python",
   "name": "python3"
  },
  "language_info": {
   "codemirror_mode": {
    "name": "ipython",
    "version": 3
   },
   "file_extension": ".py",
   "mimetype": "text/x-python",
   "name": "python",
   "nbconvert_exporter": "python",
   "pygments_lexer": "ipython3",
   "version": "3.10.5"
  },
  "toc": {
   "base_numbering": 1,
   "nav_menu": {},
   "number_sections": true,
   "sideBar": true,
   "skip_h1_title": false,
   "title_cell": "Table of Contents",
   "title_sidebar": "Contents",
   "toc_cell": false,
   "toc_position": {},
   "toc_section_display": true,
   "toc_window_display": false
  }
 },
 "nbformat": 4,
 "nbformat_minor": 4
}
