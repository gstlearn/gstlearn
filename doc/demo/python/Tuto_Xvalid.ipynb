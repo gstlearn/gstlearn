{
 "cells": [
  {
   "cell_type": "markdown",
   "metadata": {},
   "source": [
    "# Demonstration of cross-validation"
   ]
  },
  {
   "cell_type": "code",
   "execution_count": 1,
   "metadata": {},
   "outputs": [
    {
     "data": {
      "application/javascript": [
       "IPython.OutputArea.prototype._should_scroll = function(lines) {\n",
       "    return false;\n",
       "}\n"
      ],
      "text/plain": [
       "<IPython.core.display.Javascript object>"
      ]
     },
     "metadata": {},
     "output_type": "display_data"
    }
   ],
   "source": [
    "%%javascript\n",
    "IPython.OutputArea.prototype._should_scroll = function(lines) {\n",
    "    return false;\n",
    "}"
   ]
  },
  {
   "cell_type": "markdown",
   "metadata": {},
   "source": [
    "## Import packages"
   ]
  },
  {
   "cell_type": "code",
   "execution_count": 2,
   "metadata": {},
   "outputs": [],
   "source": [
    "import numpy as np\n",
    "import pandas as pd\n",
    "import sys\n",
    "import os\n",
    "import matplotlib.pyplot as plt\n",
    "import gstlearn as gl\n",
    "import gstlearn.plot as gp"
   ]
  },
  {
   "cell_type": "markdown",
   "metadata": {},
   "source": [
    "## Introduction\n",
    "\n",
    "This is a small script which illustrates the capabilities of the cross-validation feature within *gstlearn*.\n",
    "\n",
    "We generate a fictitious data set (by sampling a given simulation). Then we will use this fictitious data set to demonstrate the cross-validation tool.\n",
    "\n",
    "We generate a data set composed of a series of 10 samples located randomly within a 100 by 100 square. The number of data is voluntarily small in order to make the results more legible."
   ]
  },
  {
   "cell_type": "code",
   "execution_count": 3,
   "metadata": {
    "scrolled": true
   },
   "outputs": [
    {
     "data": {
      "image/png": "[encoded data removed]",
      "text/plain": [
       "<Figure size 576x576 with 1 Axes>"
      ]
     },
     "metadata": {
      "needs_background": "light"
     },
     "output_type": "display_data"
    }
   ],
   "source": [
    "nech = 10\n",
    "data = gl.Db.createFromBox(nech, [0,0], [100,100])\n",
    "ax = data.plot()\n",
    "ax.decoration(title=\"Measurement location\")"
   ]
  },
  {
   "cell_type": "markdown",
   "metadata": {},
   "source": [
    "We define a model (spherical structure with range 30 and sill 4) with the Universality condition, and perform a non conditional simulation at the data locations. These values, renamed as *data* will now become the data set."
   ]
  },
  {
   "cell_type": "code",
   "execution_count": 4,
   "metadata": {
    "scrolled": false
   },
   "outputs": [
    {
     "data": {
      "image/png": "[encoded data removed]",
      "text/plain": [
       "<Figure size 576x576 with 1 Axes>"
      ]
     },
     "metadata": {
      "needs_background": "light"
     },
     "output_type": "display_data"
    }
   ],
   "source": [
    "model = gl.Model.createFromParam(type=gl.ECov.SPHERICAL,range=30,sill=4)\n",
    "model.setDriftIRF(0)\n",
    "err = gl.simtub(None,data,model)\n",
    "data.setName(\"Simu\",\"data\")\n",
    "data\n",
    "ax = data.plot()\n",
    "ax.decoration(title=\"Measurement values\")"
   ]
  },
  {
   "cell_type": "markdown",
   "metadata": {},
   "source": [
    "Now we perform the cross-validation step. This requires the definition of a neighborhood (called *neigh*) that we consider as unique, due to the small neumber of data. Obviously this could be turned into a moving neighborhood if necessary."
   ]
  },
  {
   "cell_type": "code",
   "execution_count": 5,
   "metadata": {},
   "outputs": [
    {
     "name": "stdout",
     "output_type": "stream",
     "text": [
      "Unique valdat=2.501800 estim=0.550123 stdv=1.782378\n",
      " Unique valdat=1.265629 estim=1.737467 stdv=1.791230\n",
      " Unique valdat=2.184290 estim=0.209244 stdv=2.132139\n",
      " Unique valdat=-2.916651 estim=0.990594 stdv=2.123964\n",
      " Unique valdat=0.870322 estim=0.196095 stdv=2.064367\n",
      " Unique valdat=-0.730454 estim=0.613757 stdv=2.059143\n",
      " Unique valdat=2.955421 estim=0.640729 stdv=1.782629\n",
      " Unique valdat=-0.573139 estim=0.585646 stdv=2.132139\n",
      " Unique valdat=0.823638 estim=1.477347 stdv=1.782378\n",
      " Unique valdat=-0.156543 estim=0.496586 stdv=2.125758\n",
      " "
     ]
    }
   ],
   "source": [
    "neighU = gl.NeighUnique()\n",
    "err = gl.xvalid(data,model,neighU,flag_xvalid_est=1,flag_xvalid_std=1,\n",
    "                namconv=gl.NamingConvention(\"Xvalid\",True,True,False))"
   ]
  },
  {
   "cell_type": "markdown",
   "metadata": {},
   "source": [
    "The cross-validation feature offers several types of outputs, according to the flags:\n",
    "\n",
    "- *flag_xvalid_est* tells if the function must return the estimation error Z*-Z (flag.est=1) or the estimation Z* (flag.est=-1)\n",
    "\n",
    "- *flag_xvalid_std* tells if the function must return the normalized error (Z*-Z)/S (flag.std=1) or the standard deviation S (flag.std=-1)\n",
    "\n",
    "For a complete demonstration, all options are used. Note the use of *NamingConvention*  which explicitely leaves the Z-locator on the input variable (i.e. *data*)."
   ]
  },
  {
   "cell_type": "markdown",
   "metadata": {},
   "source": [
    "We perform the Cross-validation step once more but change the storing option (as wellas the radix given to the output variables)."
   ]
  },
  {
   "cell_type": "code",
   "execution_count": 6,
   "metadata": {},
   "outputs": [
    {
     "name": "stdout",
     "output_type": "stream",
     "text": [
      "Unique valdat=2.501800 estim=0.550123 stdv=1.782378\n",
      " Unique valdat=1.265629 estim=1.737467 stdv=1.791230\n",
      " Unique valdat=2.184290 estim=0.209244 stdv=2.132139\n",
      " Unique valdat=-2.916651 estim=0.990594 stdv=2.123964\n",
      " Unique valdat=0.870322 estim=0.196095 stdv=2.064367\n",
      " Unique valdat=-0.730454 estim=0.613757 stdv=2.059143\n",
      " Unique valdat=2.955421 estim=0.640729 stdv=1.782629\n",
      " Unique valdat=-0.573139 estim=0.585646 stdv=2.132139\n",
      " Unique valdat=0.823638 estim=1.477347 stdv=1.782378\n",
      " Unique valdat=-0.156543 estim=0.496586 stdv=2.125758\n",
      " "
     ]
    }
   ],
   "source": [
    "err = gl.xvalid(data,model,neighU,flag_xvalid_est=-1, flag_xvalid_std=-1,\n",
    "                namconv=gl.NamingConvention(\"Xvalid2\",True,True,False))"
   ]
  },
  {
   "cell_type": "code",
   "execution_count": 7,
   "metadata": {},
   "outputs": [
    {
     "data": {
      "text/plain": [
       "\n",
       "Data Base Characteristics\n",
       "=========================\n",
       "\n",
       "Data Base Summary\n",
       "-----------------\n",
       "File is organized as a set of isolated points\n",
       "Space dimension              = 2\n",
       "Number of Columns            = 8\n",
       "Maximum Number of UIDs       = 8\n",
       "Total number of samples      = 10\n",
       "\n",
       "Variables\n",
       "---------\n",
       "Column = 0 - Name = rank - Locator = NA\n",
       "Column = 1 - Name = x-1 - Locator = x1\n",
       "Column = 2 - Name = x-2 - Locator = x2\n",
       "Column = 3 - Name = data - Locator = z1\n",
       "Column = 4 - Name = Xvalid.data.esterr - Locator = NA\n",
       "Column = 5 - Name = Xvalid.data.stderr - Locator = NA\n",
       "Column = 6 - Name = Xvalid2.data.estim - Locator = NA\n",
       "Column = 7 - Name = Xvalid2.data.stdev - Locator = NA"
      ]
     },
     "execution_count": 7,
     "metadata": {},
     "output_type": "execute_result"
    }
   ],
   "source": [
    "data"
   ]
  },
  {
   "cell_type": "markdown",
   "metadata": {},
   "source": [
    "We know check all the results gathered on the first sample."
   ]
  },
  {
   "cell_type": "code",
   "execution_count": 8,
   "metadata": {},
   "outputs": [
    {
     "data": {
      "text/plain": [
       "array([ 1.        , 22.70134452, 83.64117505,  2.50180018, -1.95167723,\n",
       "       -1.09498517,  0.55012296,  1.78237778])"
      ]
     },
     "execution_count": 8,
     "metadata": {},
     "output_type": "execute_result"
    }
   ],
   "source": [
    "data[0,0:8]"
   ]
  },
  {
   "cell_type": "markdown",
   "metadata": {},
   "source": [
    "The printed values correspond to the following information:\n",
    "\n",
    "- the sample rank: 1\n",
    "- the sample abscissae $X$: 22.7\n",
    "- the sample coordinate $Y$: 83.64\n",
    "- the data value $Z$: 2.502\n",
    "- the cross-validation error $Z^* - Z$: -1.952\n",
    "- the cross-validation standardized error $\\frac{Z^* - Z} {S}$: -2.499\n",
    "- the cross-validation estimated value $Z^*$: 0.550\n",
    "- the standard deviation of the cross-validation error $S$: 1.781"
   ]
  },
  {
   "cell_type": "code",
   "execution_count": 12,
   "metadata": {},
   "outputs": [
    {
     "data": {
      "text/plain": [
       "1.0960134755755193"
      ]
     },
     "execution_count": 12,
     "metadata": {},
     "output_type": "execute_result"
    }
   ],
   "source": [
    "1.952/1.781"
   ]
  },
  {
   "cell_type": "markdown",
   "metadata": {},
   "source": [
    "We can also double-check these results by asking a full dump of all information when processing the first sample. The next chunk does not store any result: it is just there in order to produce some output on the terminal to better understand the process."
   ]
  },
  {
   "cell_type": "code",
   "execution_count": 9,
   "metadata": {
    "scrolled": true
   },
   "outputs": [
    {
     "name": "stdout",
     "output_type": "stream",
     "text": [
      "\n",
      " Target location\n",
      " ---------------\n",
      " Sample #1 (from 10)\n",
      " Coordinate #1 = 22.701345\n",
      " Coordinate #2 = 83.641175\n",
      " \n",
      " Data selected in neighborhood\n",
      " -----------------------------\n",
      "        Rank      Sample          x1          x2 \n",
      "           1           1      22.701      83.641 \n",
      "           2           2      82.323      43.955 \n",
      "           3           3      15.270       3.385 \n",
      "           4           4      55.428      19.935 \n",
      "           5           5      93.142      79.864 \n",
      "           6           6      85.694      97.845 \n",
      "           7           7      73.690      37.455 \n",
      "           8           8      32.792      43.164 \n",
      "           9           9      32.178      78.710 \n",
      "          10          10      64.591      82.042 \n",
      " \n",
      " LHS of Kriging matrix (compressed)\n",
      " ==================================\n",
      " Number of active samples    = 10\n",
      " Total number of equations   = 11\n",
      " Reduced number of equations = 11\n",
      " \n",
      "        Rank                       1           2           3           4           5 \n",
      "                    Flag           1           2           3           4           5 \n",
      "           1           1       4.000       0.000       0.000       0.000       0.000 \n",
      "           2           2       0.000       4.000       0.000       0.000       0.000 \n",
      "           3           3       0.000       0.000       4.000       0.000       0.000 \n",
      "           4           4       0.000       0.000       0.000       4.000       0.000 \n",
      "           5           5       0.000       0.000       0.000       0.000       4.000 \n",
      "           6           6       0.000       0.000       0.000       0.000       0.654 \n",
      "           7           7       0.000       1.932       0.000       0.139       0.000 \n",
      "           8           8       0.000       0.000       0.000       0.000       0.000 \n",
      "           9           9       1.954       0.000       0.000       0.000       0.000 \n",
      "          10          10       0.000       0.000       0.000       0.000       0.012 \n",
      "          11          11       1.000       1.000       1.000       1.000       1.000 \n",
      " \n",
      "        Rank                       6           7           8           9          10 \n",
      "                    Flag           6           7           8           9          10 \n",
      "           1           1       0.000       0.000       0.000       1.954       0.000 \n",
      "           2           2       0.000       1.932       0.000       0.000       0.000 \n",
      "           3           3       0.000       0.000       0.000       0.000       0.000 \n",
      "           4           4       0.000       0.139       0.000       0.000       0.000 \n",
      "           5           5       0.654       0.000       0.000       0.000       0.012 \n",
      "           6           6       4.000       0.000       0.000       0.000       0.085 \n",
      "           7           7       0.000       4.000       0.000       0.000       0.000 \n",
      "           8           8       0.000       0.000       4.000       0.000       0.000 \n",
      "           9           9       0.000       0.000       0.000       4.000       0.000 \n",
      "          10          10       0.085       0.000       0.000       0.000       4.000 \n",
      "          11          11       1.000       1.000       1.000       1.000       1.000 \n",
      " \n",
      "        Rank                      11 \n",
      "                    Flag          11 \n",
      "           1           1       1.000 \n",
      "           2           2       1.000 \n",
      "           3           3       1.000 \n",
      "           4           4       1.000 \n",
      "           5           5       1.000 \n",
      "           6           6       1.000 \n",
      "           7           7       1.000 \n",
      "           8           8       1.000 \n",
      "           9           9       1.000 \n",
      "          10          10       1.000 \n",
      "          11          11       0.000 \n",
      " Unique valdat=2.501800 estim=0.550123 stdv=1.782378\n",
      " \n",
      " Cross-validation results\n",
      " ========================\n",
      " Target Sample = 1\n",
      " Variable Z1 \n",
      "  - True value        =        2.502 \n",
      "  - Estimated value   =        0.550 \n",
      "  - Estimation Error  =       -1.952 \n",
      "  - Std. deviation    =        1.782 \n",
      "  - Normalized Error  =       -1.095 \n",
      " Unique valdat=1.265629 estim=1.737467 stdv=1.791230\n",
      " Unique valdat=2.184290 estim=0.209244 stdv=2.132139\n",
      " Unique valdat=-2.916651 estim=0.990594 stdv=2.123964\n",
      " Unique valdat=0.870322 estim=0.196095 stdv=2.064367\n",
      " Unique valdat=-0.730454 estim=0.613757 stdv=2.059143\n",
      " Unique valdat=2.955421 estim=0.640729 stdv=1.782629\n",
      " Unique valdat=-0.573139 estim=0.585646 stdv=2.132139\n",
      " Unique valdat=0.823638 estim=1.477347 stdv=1.782378\n",
      " Unique valdat=-0.156543 estim=0.496586 stdv=2.125758\n",
      " "
     ]
    }
   ],
   "source": [
    "gl.OptDbg.setReference(1)\n",
    "err = gl.xvalid(data,model,neighU,flag_xvalid_est=1, flag_xvalid_std=1,\n",
    "                namconv=gl.NamingConvention(\"Xvalid3\",True,True,False))"
   ]
  },
  {
   "cell_type": "markdown",
   "metadata": {},
   "source": [
    "We can check that:\n",
    "\n",
    "- the cross-validation system is dimensionned to 40. As a matter of fact, in Unique Neighborhood, the kriging system is established with the whole data set. The one suppressing one datum in turn is derived using the Schur theorem.\n",
    "\n",
    "- the results recall the values for the true data value (-0.326), the estimated value (-2.084), the standard deviation of the estimation error (1.623) and finally the cross-validation estimation error (-1.758)."
   ]
  },
  {
   "cell_type": "markdown",
   "metadata": {},
   "source": [
    "We can also double-check these calculations with a Moving Neighborhood which has been tuned to cover a pseudo-Unique Neighborhood."
   ]
  },
  {
   "cell_type": "code",
   "execution_count": 10,
   "metadata": {},
   "outputs": [],
   "source": [
    "neighM = gl.NeighMoving.create()"
   ]
  },
  {
   "cell_type": "code",
   "execution_count": 11,
   "metadata": {},
   "outputs": [
    {
     "name": "stdout",
     "output_type": "stream",
     "text": [
      "\n",
      " Target location\n",
      " ---------------\n",
      " Sample #1 (from 10)\n",
      " Coordinate #1 = 22.701345\n",
      " Coordinate #2 = 83.641175\n",
      " \n",
      " Data selected in neighborhood\n",
      " -----------------------------\n",
      "        Rank      Sample          x1          x2      Sector \n",
      "           1           2      82.323      43.955           1 \n",
      "           2           3      15.270       3.385           1 \n",
      "           3           4      55.428      19.935           1 \n",
      "           4           5      93.142      79.864           1 \n",
      "           5           6      85.694      97.845           1 \n",
      "           6           7      73.690      37.455           1 \n",
      "           7           8      32.792      43.164           1 \n",
      "           8           9      32.178      78.710           1 \n",
      "           9          10      64.591      82.042           1 \n",
      " \n",
      " LHS of Kriging matrix (compressed)\n",
      " ==================================\n",
      " Number of active samples    = 9\n",
      " Total number of equations   = 10\n",
      " Reduced number of equations = 10\n",
      " \n",
      "        Rank                       1           2           3           4           5 \n",
      "                    Flag           1           2           3           4           5 \n",
      "           1           1       4.000       0.000       0.000       0.000       0.000 \n",
      "           2           2       0.000       4.000       0.000       0.000       0.000 \n",
      "           3           3       0.000       0.000       4.000       0.000       0.000 \n",
      "           4           4       0.000       0.000       0.000       4.000       0.654 \n",
      "           5           5       0.000       0.000       0.000       0.654       4.000 \n",
      "           6           6       1.932       0.000       0.139       0.000       0.000 \n",
      "           7           7       0.000       0.000       0.000       0.000       0.000 \n",
      "           8           8       0.000       0.000       0.000       0.000       0.000 \n",
      "           9           9       0.000       0.000       0.000       0.012       0.085 \n",
      "          10          10       1.000       1.000       1.000       1.000       1.000 \n",
      " \n",
      "        Rank                       6           7           8           9          10 \n",
      "                    Flag           6           7           8           9          10 \n",
      "           1           1       1.932       0.000       0.000       0.000       1.000 \n",
      "           2           2       0.000       0.000       0.000       0.000       1.000 \n",
      "           3           3       0.139       0.000       0.000       0.000       1.000 \n",
      "           4           4       0.000       0.000       0.000       0.012       1.000 \n",
      "           5           5       0.000       0.000       0.000       0.085       1.000 \n",
      "           6           6       4.000       0.000       0.000       0.000       1.000 \n",
      "           7           7       0.000       4.000       0.000       0.000       1.000 \n",
      "           8           8       0.000       0.000       4.000       0.000       1.000 \n",
      "           9           9       0.000       0.000       0.000       4.000       1.000 \n",
      "          10          10       1.000       1.000       1.000       1.000       0.000 \n",
      " \n",
      " RHS of Kriging matrix (compressed)\n",
      " ==================================\n",
      " Number of active samples    = 9\n",
      " Total number of equations   = 10\n",
      " Reduced number of equations = 10\n",
      " Number of right-hand sides  = 1\n",
      " Punctual Estimation\n",
      " \n",
      "        Rank        Flag           1 \n",
      "           1           1       0.000 \n",
      "           2           2       0.000 \n",
      "           3           3       0.000 \n",
      "           4           4       0.000 \n",
      "           5           5       0.000 \n",
      "           6           6       0.000 \n",
      "           7           7       0.000 \n",
      "           8           8       1.954 \n",
      "           9           9       0.000 \n",
      "          10          10       1.000 \n",
      " \n",
      " (Co-) Kriging weights\n",
      " =====================\n",
      "        Rank          x1          x2        Data         Z1* \n",
      "           1      82.323      43.955       1.266       0.045 \n",
      "           2      15.270       3.385       2.184       0.064 \n",
      "           3      55.428      19.935      -2.917       0.063 \n",
      "           4      93.142      79.864       0.870       0.055 \n",
      "           5      85.694      97.845      -0.730       0.054 \n",
      "           6      73.690      37.455       2.955       0.040 \n",
      "           7      32.792      43.164      -0.573       0.064 \n",
      "           8      32.178      78.710       0.824       0.553 \n",
      "           9      64.591      82.042      -0.157       0.063 \n",
      " Sum of weights                                     1.000 \n",
      " \n",
      " Drift coefficients\n",
      " ==================\n",
      "        Rank    Lagrange       Coeff \n",
      "           1      -0.256       0.289 \n",
      " <<<<< esim=0.550123 stdv=1.782378 valdat=2.501800\n",
      " \n",
      " Cross-validation results\n",
      " ========================\n",
      " Target Sample = 1\n",
      " Variable Z1 \n",
      "  - True value        =        2.502 \n",
      "  - Estimated value   =        0.550 \n",
      "  - Estimation Error  =       -1.952 \n",
      "  - Std. deviation    =        1.782 \n",
      "  - Normalized Error  =       -1.095 \n",
      " <<<<< esim=1.737467 stdv=1.791230 valdat=1.265629\n",
      " <<<<< esim=0.209244 stdv=2.132139 valdat=2.184290\n",
      " <<<<< esim=0.990594 stdv=2.123964 valdat=-2.916651\n",
      " <<<<< esim=0.196095 stdv=2.064367 valdat=0.870322\n",
      " <<<<< esim=0.613757 stdv=2.059143 valdat=-0.730454\n",
      " <<<<< esim=0.640729 stdv=1.782629 valdat=2.955421\n",
      " <<<<< esim=0.585646 stdv=2.132139 valdat=-0.573139\n",
      " <<<<< esim=1.477347 stdv=1.782378 valdat=0.823638\n",
      " <<<<< esim=0.496586 stdv=2.125758 valdat=-0.156543\n",
      " "
     ]
    }
   ],
   "source": [
    "gl.OptDbg.setReference(1)\n",
    "err = gl.xvalid(data,model,neighM,flag_xvalid_est=1, flag_xvalid_std=1,\n",
    "                namconv=gl.NamingConvention(\"Xvalid4\",True,True,False))"
   ]
  },
  {
   "cell_type": "markdown",
   "metadata": {},
   "source": [
    "In the next paragraph, we perform the different graphic outputs that are expected after a cross-validation step. They are provided by the function *draw.xvalid* which produces:\n",
    "\n",
    "- the base map of the absolute value of the cross-validation standardized error\n",
    "- the histogram of the cross-validation standardized error\n",
    "- the scatter plot of the standardized error as a function of the estimation\n",
    "- the scatter plot of the true value as a function of the estimation"
   ]
  },
  {
   "cell_type": "markdown",
   "metadata": {},
   "source": [
    "data = db.locerase(data,\"z\")\n",
    "data = db.locate(data,\"data\",\"z\")\n",
    "draw.xvalid(data,mode=1)\n",
    "draw.xvalid(data,mode=2)\n",
    "draw.xvalid(data,mode=3)\n",
    "draw.xvalid(data,mode=4,name.data=\"data\")"
   ]
  }
 ],
 "metadata": {
  "kernelspec": {
   "display_name": "Python 3 (ipykernel)",
   "language": "python",
   "name": "python3"
  },
  "language_info": {
   "codemirror_mode": {
    "name": "ipython",
    "version": 3
   },
   "file_extension": ".py",
   "mimetype": "text/x-python",
   "name": "python",
   "nbconvert_exporter": "python",
   "pygments_lexer": "ipython3",
   "version": "3.10.5"
  }
 },
 "nbformat": 4,
 "nbformat_minor": 4
}
