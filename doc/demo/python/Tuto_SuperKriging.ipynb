{
 "cells": [
  {
   "cell_type": "markdown",
   "metadata": {},
   "source": [
    "# Tutorial for demonstrating Super Kriging"
   ]
  },
  {
   "cell_type": "markdown",
   "metadata": {},
   "source": [
    "This file is meant to demonstrate the use of gstlearn for Super Kriging. It is run on several 2-D cases."
   ]
  },
  {
   "cell_type": "code",
   "execution_count": null,
   "metadata": {},
   "outputs": [],
   "source": [
    "%%javascript\n",
    "IPython.OutputArea.prototype._should_scroll = function(lines) {\n",
    "return false;\n",
    "}"
   ]
  },
  {
   "cell_type": "code",
   "execution_count": null,
   "metadata": {},
   "outputs": [],
   "source": [
    "import numpy as np\n",
    "import pandas as pd\n",
    "import sys\n",
    "import os\n",
    "import gstlearn as gl\n",
    "import gstlearn.plot as gp\n",
    "import matplotlib.pyplot as plt"
   ]
  },
  {
   "cell_type": "markdown",
   "metadata": {},
   "source": [
    "Setting some global variables"
   ]
  },
  {
   "cell_type": "code",
   "execution_count": null,
   "metadata": {},
   "outputs": [],
   "source": [
    "# Set the Global Options\n",
    "verbose = True\n",
    "flagGraphic = True\n",
    "\n",
    "# Define the Space Dimension\n",
    "ndim = 2\n",
    "gl.defineDefaultSpace(gl.ESpaceType.RN, ndim)\n",
    "\n",
    "# Set the Seed for the Random Number generator\n",
    "gl.law_set_random_seed(5584)\n",
    "\n",
    "# Next option performs a verbose kriging of one target node (lots of outputs)\n",
    "flagDebug = True"
   ]
  },
  {
   "cell_type": "markdown",
   "metadata": {},
   "source": [
    "We define the grid on which all calculations will be performed. The grid is constituted of square meshes and has a rectangular extension of 200 by 150."
   ]
  },
  {
   "cell_type": "code",
   "execution_count": null,
   "metadata": {},
   "outputs": [],
   "source": [
    "grid = gl.DbGrid.create(nx=[200,150],dx=[1.,1.])\n",
    "grid"
   ]
  },
  {
   "cell_type": "markdown",
   "metadata": {},
   "source": [
    "# Poisson Data Set"
   ]
  },
  {
   "cell_type": "markdown",
   "metadata": {},
   "source": [
    "In this paragraph, we generate a Poisson Data Set (data uniformy distributed along each space dimension) which covers the Grid expansion area. The Data Set contains 100 samples."
   ]
  },
  {
   "cell_type": "code",
   "execution_count": null,
   "metadata": {},
   "outputs": [],
   "source": [
    "coormin = grid.getCoorMinimum()\n",
    "coormax = grid.getCoorMaximum()\n",
    "nech = 100\n",
    "data = gl.Db.createFromBox(nech, coormin, coormax)"
   ]
  },
  {
   "cell_type": "markdown",
   "metadata": {},
   "source": [
    "A variable is generated on this data set, as the result of a non-conditional simulation with a build-in model."
   ]
  },
  {
   "cell_type": "code",
   "execution_count": null,
   "metadata": {},
   "outputs": [],
   "source": [
    "model = gl.Model()\n",
    "model.addCovFromParam(gl.ECov.SPHERICAL, range=40, sill=0.7)\n",
    "model.addCovFromParam(gl.ECov.NUGGET, sill = 0.3)\n",
    "err = gl.simtub(None, dbout=data, model=model)\n",
    "data"
   ]
  },
  {
   "cell_type": "code",
   "execution_count": null,
   "metadata": {},
   "outputs": [],
   "source": [
    "ax = gp.point(data,color_name=\"Simu\",figsize=[7,7], aspect=1)"
   ]
  },
  {
   "cell_type": "markdown",
   "metadata": {},
   "source": [
    "## Defining standard neighborhood"
   ]
  },
  {
   "cell_type": "markdown",
   "metadata": {},
   "source": [
    "We first define a standard Moving Neighborhood."
   ]
  },
  {
   "cell_type": "code",
   "execution_count": null,
   "metadata": {},
   "outputs": [],
   "source": [
    "nmini = 1\n",
    "nmaxi = 10\n",
    "radius = 30.\n",
    "nsect = 8\n",
    "nsmax = 3\n",
    "neigh = gl.NeighMoving.create(flag_xvalid=False, nmaxi=nmaxi, radius=radius, nmini=nmini, \n",
    "                              nsect=nsect, nsmax=nsmax)\n",
    "neigh"
   ]
  },
  {
   "cell_type": "markdown",
   "metadata": {},
   "source": [
    "Checking the neighborhood around a central grid node"
   ]
  },
  {
   "cell_type": "code",
   "execution_count": null,
   "metadata": {},
   "outputs": [],
   "source": [
    "node = 15300\n",
    "target = grid.getSampleCoordinates(node)\n",
    "ranks = gl.neigh_calc(data, grid, neigh, node)\n",
    "\n",
    "dataSel = data.clone()\n",
    "dum = dataSel.addSelectionByRanks(ranks)"
   ]
  },
  {
   "cell_type": "code",
   "execution_count": null,
   "metadata": {
    "scrolled": false
   },
   "outputs": [],
   "source": [
    "ax = gp.point(data, figsize=[7,7], aspect=1)\n",
    "ax = gp.point(dataSel, ax=ax, color='blue')\n",
    "ax = gp.sample(target, ax=ax, color='black')\n",
    "ax = gp.curve(grid.getCellEdges(node), ax=ax)\n",
    "ax = gp.curve(neigh.getEllipsoid(target), ax=ax)\n",
    "ax = gp.multisegments(target,neigh.getSectors(target), ax=ax)"
   ]
  },
  {
   "cell_type": "markdown",
   "metadata": {},
   "source": [
    "### Point Kriging"
   ]
  },
  {
   "cell_type": "markdown",
   "metadata": {},
   "source": [
    "Performing a Point Kriging with the current Neighborhood feature"
   ]
  },
  {
   "cell_type": "code",
   "execution_count": null,
   "metadata": {},
   "outputs": [],
   "source": [
    "err = gl.kriging(data, grid, model, neigh, \n",
    "                 namconv=gl.NamingConvention(\"Point_Kriging\"))"
   ]
  },
  {
   "cell_type": "code",
   "execution_count": null,
   "metadata": {},
   "outputs": [],
   "source": [
    "if flagDebug:\n",
    "    err = gl.krigtest(data, grid, model, neigh, node)"
   ]
  },
  {
   "cell_type": "markdown",
   "metadata": {},
   "source": [
    "The Point Kriging results are displayed (overlaying the control data points)"
   ]
  },
  {
   "cell_type": "code",
   "execution_count": null,
   "metadata": {},
   "outputs": [],
   "source": [
    "ax = gp.grid(grid, name=\"Point_Kriging*estim\", \n",
    "             figsize=[7,7], aspect=1,\n",
    "             title=\"Point Kriging with Standard Neighborhood\")\n",
    "ax = gp.point(data, color=\"white\", ax=ax)"
   ]
  },
  {
   "cell_type": "markdown",
   "metadata": {},
   "source": [
    "We also display the standard deviation map of the Estimation error"
   ]
  },
  {
   "cell_type": "code",
   "execution_count": null,
   "metadata": {
    "scrolled": true
   },
   "outputs": [],
   "source": [
    "ax = gp.grid(grid, name=\"Point_Kriging*stdev\", \n",
    "             figsize=[7,7], aspect=1,\n",
    "             title=\"Error for Point Kriging with Standard Neighborhood\")\n",
    "ax = gp.point(data, color=\"white\", ax=ax)"
   ]
  },
  {
   "cell_type": "markdown",
   "metadata": {},
   "source": [
    "### Block Kriging"
   ]
  },
  {
   "cell_type": "markdown",
   "metadata": {},
   "source": [
    "Performing a Block Kriging with the current Neighborhood feature. Note that the discretization parameters have been set to small numbers in order to let the calculations be performed in a reasonable time frame (for a demonstration file)."
   ]
  },
  {
   "cell_type": "code",
   "execution_count": null,
   "metadata": {},
   "outputs": [],
   "source": [
    "err = gl.kriging(data, grid, model, neigh, calcul=gl.EKrigOpt.BLOCK, ndisc=[5,5],\n",
    "                namconv=gl.NamingConvention(\"Block_Kriging\"))"
   ]
  },
  {
   "cell_type": "code",
   "execution_count": null,
   "metadata": {},
   "outputs": [],
   "source": [
    "if flagDebug:\n",
    "    err = gl.krigtest(data, grid, model, neigh, node, calcul=gl.EKrigOpt.BLOCK, ndisc=[5,5])"
   ]
  },
  {
   "cell_type": "markdown",
   "metadata": {},
   "source": [
    "The Block Kriging results are displayed (overlaying the control data points)"
   ]
  },
  {
   "cell_type": "code",
   "execution_count": null,
   "metadata": {
    "scrolled": true
   },
   "outputs": [],
   "source": [
    "ax = gp.grid(grid, name=\"Block_Kriging*estim\", \n",
    "             figsize=[7,7], aspect=1,\n",
    "             title=\"Block Kriging with Standard Neighborhood\")\n",
    "ax = gp.point(data, color=\"white\", ax=ax)"
   ]
  },
  {
   "cell_type": "markdown",
   "metadata": {},
   "source": [
    "We also display the standard deviation map of the Estimation error"
   ]
  },
  {
   "cell_type": "code",
   "execution_count": null,
   "metadata": {
    "scrolled": true
   },
   "outputs": [],
   "source": [
    "ax = gp.grid(grid, name=\"Block_Kriging*stdev\", \n",
    "             figsize=[7,7], aspect=1,\n",
    "             title=\"Error for Block Kriging with Standard Neighborhood\")\n",
    "ax = gp.point(data, color=\"white\", ax=ax)"
   ]
  },
  {
   "cell_type": "markdown",
   "metadata": {},
   "source": [
    "Comparing the Estimation maps"
   ]
  },
  {
   "cell_type": "code",
   "execution_count": null,
   "metadata": {
    "scrolled": true
   },
   "outputs": [],
   "source": [
    "ax = gp.correlation(grid,\"Point_Kriging*estim\",\"Block_Kriging*estim\")"
   ]
  },
  {
   "cell_type": "markdown",
   "metadata": {},
   "source": [
    "Comparing the Error Estimation maps"
   ]
  },
  {
   "cell_type": "code",
   "execution_count": null,
   "metadata": {
    "scrolled": true
   },
   "outputs": [],
   "source": [
    "ax = gp.correlation(grid,\"Point_Kriging*stdev\",\"Block_Kriging*stdev\")"
   ]
  },
  {
   "cell_type": "markdown",
   "metadata": {},
   "source": [
    "The difference is not very impressive due to the small size of block extensions"
   ]
  },
  {
   "cell_type": "markdown",
   "metadata": {},
   "source": [
    "## Defining variable Block Extensions"
   ]
  },
  {
   "cell_type": "markdown",
   "metadata": {},
   "source": [
    "In this section, we will generate variables in the Grid File, which contain the cell extension. The square Block size is fixed to 50."
   ]
  },
  {
   "cell_type": "code",
   "execution_count": null,
   "metadata": {
    "scrolled": true
   },
   "outputs": [],
   "source": [
    "size = 50.\n",
    "iuid = grid.addColumnsByConstant(1, size, \"X-ext\", gl.ELoc.BLEX, 0)\n",
    "iuid = grid.addColumnsByConstant(1, size, \"Y-ext\", gl.ELoc.BLEX, 1)"
   ]
  },
  {
   "cell_type": "markdown",
   "metadata": {},
   "source": [
    "The now check the neighborhood feature which consists in forcing any sample located within the cell extension centered on the target grid node."
   ]
  },
  {
   "cell_type": "code",
   "execution_count": null,
   "metadata": {
    "scrolled": true
   },
   "outputs": [],
   "source": [
    "neigh.setForceWithinBlock(True)\n",
    "neigh.display()"
   ]
  },
  {
   "cell_type": "markdown",
   "metadata": {},
   "source": [
    "We check the new neighborhood on the same target grid node as before"
   ]
  },
  {
   "cell_type": "code",
   "execution_count": null,
   "metadata": {},
   "outputs": [],
   "source": [
    "ranks = gl.neigh_calc(data, grid, neigh, node)\n",
    "\n",
    "dataSel = data.clone()\n",
    "dum = dataSel.addSelectionByRanks(ranks)"
   ]
  },
  {
   "cell_type": "markdown",
   "metadata": {},
   "source": [
    "The next figure displays the samples selected in the neighborhood of the target node (same as before). As expected all samples lying within the super_block centered on the target node are considered (i.e. 34) rather than the samples which would have been considered in the standard neighborhood case (i.e. 15)."
   ]
  },
  {
   "cell_type": "code",
   "execution_count": null,
   "metadata": {
    "scrolled": true
   },
   "outputs": [],
   "source": [
    "ax = gp.point(data, figsize=[7,7], aspect=1)\n",
    "ax = gp.point(dataSel, ax=ax, color='blue')\n",
    "ax = gp.sample(target, ax=ax, color='black')\n",
    "ax = gp.curve(grid.getCellEdges(node), color='black', ax=ax)"
   ]
  },
  {
   "cell_type": "markdown",
   "metadata": {},
   "source": [
    "We now perform the Super Kriging which is nothing but a standard Kriging with the new neighborhood feature (demonstrated above)."
   ]
  },
  {
   "cell_type": "code",
   "execution_count": null,
   "metadata": {},
   "outputs": [],
   "source": [
    "err = gl.kriging(data, grid, model, neigh, calcul=gl.EKrigOpt.BLOCK, ndisc=[5,5],\n",
    "                 namconv=gl.NamingConvention(\"Super_Kriging\"))"
   ]
  },
  {
   "cell_type": "code",
   "execution_count": null,
   "metadata": {},
   "outputs": [],
   "source": [
    "if flagDebug:\n",
    "    err = gl.krigtest(data, grid, model, neigh, node, calcul=gl.EKrigOpt.BLOCK, ndisc=[5,5])"
   ]
  },
  {
   "cell_type": "markdown",
   "metadata": {},
   "source": [
    "The results of the Super Kriging are visulized in the next figure, together with the ones of the standard neighborhood."
   ]
  },
  {
   "cell_type": "code",
   "execution_count": null,
   "metadata": {},
   "outputs": [],
   "source": [
    "fig = plt.figure(figsize=(20,10))\n",
    "\n",
    "ax1 = fig.add_subplot(1,2,1)\n",
    "ax1 = gp.grid(grid, name=\"Super_Kriging*estim\", \n",
    "              figsize=[7,7], aspect=1,\n",
    "              title=\"Super Block Kriging\", ax=ax1)\n",
    "ax1 = gp.point(data, color=\"white\", ax=ax1)\n",
    "\n",
    "ax2 = fig.add_subplot(1,2,2)\n",
    "ax2 = gp.grid(grid, name=\"Block_Kriging*estim\", \n",
    "              figsize=[7,7], aspect=1,\n",
    "              title=\"Block Kriging with Standard Neighborhood\", ax=ax2)\n",
    "ax2 = gp.point(data, color=\"white\", ax=ax2)"
   ]
  },
  {
   "cell_type": "markdown",
   "metadata": {},
   "source": [
    "We also display the standard deviation map of the Super Kriging Estimation error"
   ]
  },
  {
   "cell_type": "code",
   "execution_count": null,
   "metadata": {},
   "outputs": [],
   "source": [
    "fig = plt.figure(figsize=(20,10))\n",
    "\n",
    "ax1 = fig.add_subplot(1,2,1)\n",
    "ax1 = gp.grid(grid, name=\"Super_Kriging*stdev\", \n",
    "              figsize=[7,7], aspect=1,\n",
    "              title=\"Error for Super Block Kriging\", ax=ax1)\n",
    "ax1 = gp.point(data, color=\"white\", ax=ax1)\n",
    "\n",
    "ax2 = fig.add_subplot(1,2,2)\n",
    "ax2 = gp.grid(grid, name=\"Block_Kriging*stdev\", \n",
    "              figsize=[7,7], aspect=1,\n",
    "              title=\"Error for Block Kriging with Standard Neighborhood\", ax=ax2)\n",
    "ax2 = gp.point(data, color=\"white\", ax=ax2)"
   ]
  },
  {
   "cell_type": "markdown",
   "metadata": {},
   "source": [
    "Comparing with Block Kriging with standard block extension (equal to the grid mesh)"
   ]
  },
  {
   "cell_type": "code",
   "execution_count": null,
   "metadata": {},
   "outputs": [],
   "source": [
    "ax = gp.correlation(grid,\"Block_Kriging*estim\",\"Super_Kriging*estim\")"
   ]
  },
  {
   "cell_type": "markdown",
   "metadata": {},
   "source": [
    "Comparing the error maps"
   ]
  },
  {
   "cell_type": "code",
   "execution_count": null,
   "metadata": {},
   "outputs": [],
   "source": [
    "ax = gp.correlation(grid,\"Block_Kriging*stdev\",\"Super_Kriging*stdev\")"
   ]
  },
  {
   "cell_type": "code",
   "execution_count": null,
   "metadata": {},
   "outputs": [],
   "source": []
  }
 ],
 "metadata": {
  "kernelspec": {
   "display_name": "Python 3 (ipykernel)",
   "language": "python",
   "name": "python3"
  },
  "language_info": {
   "codemirror_mode": {
    "name": "ipython",
    "version": 3
   },
   "file_extension": ".py",
   "mimetype": "text/x-python",
   "name": "python",
   "nbconvert_exporter": "python",
   "pygments_lexer": "ipython3",
   "version": "3.10.5"
  }
 },
 "nbformat": 4,
 "nbformat_minor": 4
}
