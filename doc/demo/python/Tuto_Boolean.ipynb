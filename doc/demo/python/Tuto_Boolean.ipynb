{
 "cells": [
  {
   "cell_type": "markdown",
   "metadata": {},
   "source": [
    "# Tutorial on Boolean Model"
   ]
  },
  {
   "cell_type": "markdown",
   "metadata": {},
   "source": [
    "<!-- SUMMARY: Perform conditional and non-conditional simulation with a variety of different object families -->\n",
    "\n",
    "<!-- CATEGORY: Methodology -->"
   ]
  },
  {
   "cell_type": "markdown",
   "metadata": {},
   "source": [
    "This file is meant to demonstrate the use of gstlearn for Boolean Model"
   ]
  },
  {
   "cell_type": "code",
   "execution_count": null,
   "metadata": {},
   "outputs": [],
   "source": [
    "import numpy as np\n",
    "import pandas as pd\n",
    "import sys\n",
    "import os\n",
    "import gstlearn as gl\n",
    "import gstlearn.plot as gp\n",
    "import gstlearn.document as gdoc\n",
    "import matplotlib.pyplot as plt\n",
    "import random as rnd\n",
    "\n",
    "gdoc.setNoScroll()"
   ]
  },
  {
   "cell_type": "markdown",
   "metadata": {},
   "source": [
    "Setting some global variables"
   ]
  },
  {
   "cell_type": "code",
   "execution_count": null,
   "metadata": {},
   "outputs": [],
   "source": [
    "# Set the Global Options\n",
    "verbose = True\n",
    "flagGraphic = True\n",
    "\n",
    "# Define the Space Dimension\n",
    "ndim = 2\n",
    "gl.defineDefaultSpace(gl.ESpaceType.RN, ndim)\n",
    "\n",
    "# Set the Seed for the Random Number generator\n",
    "gl.law_set_random_seed(5584)\n",
    "rnd.seed(13155)\n",
    "\n",
    "gp.setDefaultGeographic(dims=[7,7])"
   ]
  },
  {
   "cell_type": "raw",
   "metadata": {},
   "source": [
    "We create a grid"
   ]
  },
  {
   "cell_type": "code",
   "execution_count": null,
   "metadata": {},
   "outputs": [],
   "source": [
    "nxcell = 100\n",
    "grid = gl.DbGrid.create([nxcell,nxcell])\n",
    "grid.display();"
   ]
  },
  {
   "cell_type": "markdown",
   "metadata": {},
   "source": [
    "We now establish the stationary Boolean Model"
   ]
  },
  {
   "cell_type": "code",
   "execution_count": null,
   "metadata": {},
   "outputs": [],
   "source": [
    "tokens = gl.ModelBoolean(0.01, True)"
   ]
  },
  {
   "cell_type": "markdown",
   "metadata": {},
   "source": [
    "We must first define the dictionary of shapes used in the Model, composed of\n",
    "\n",
    "- Ellipsoids\n",
    "- parallelelipieds"
   ]
  },
  {
   "cell_type": "code",
   "execution_count": null,
   "metadata": {},
   "outputs": [],
   "source": [
    "token_ellipsoid = gl.ShapeEllipsoid(0.4, 10., 20., 2.)\n",
    "token_ellipsoid.setFactorX2Y(1.5)\n",
    "tokens.addToken(token_ellipsoid)\n",
    "\n",
    "token_parallelepiped = gl.ShapeParallelepiped(0.6, 5, 7., 1.)\n",
    "tokens.addToken(token_parallelepiped)\n",
    "tokens.display()"
   ]
  },
  {
   "cell_type": "markdown",
   "metadata": {},
   "source": [
    "# Non conditional simulation"
   ]
  },
  {
   "cell_type": "code",
   "execution_count": null,
   "metadata": {},
   "outputs": [],
   "source": [
    "err = gl.simbool(None, grid, tokens, namconv=gl.NamingConvention(\"NC\"))\n",
    "grid"
   ]
  },
  {
   "cell_type": "markdown",
   "metadata": {},
   "source": [
    "We have created two new variables in the output Grid file:\n",
    "\n",
    "- the Facies\n",
    "- the Rank of the object"
   ]
  },
  {
   "cell_type": "code",
   "execution_count": null,
   "metadata": {},
   "outputs": [],
   "source": [
    "ax = grid.plot(nameRaster=\"NC.Facies\")\n",
    "ax.decoration(title=\"Facies\")"
   ]
  },
  {
   "cell_type": "code",
   "execution_count": null,
   "metadata": {},
   "outputs": [],
   "source": [
    "ax = grid.plot(nameRaster=\"NC.Rank\", flagLegendRaster=True)\n",
    "ax.decoration(title=\"Rank\")"
   ]
  },
  {
   "cell_type": "markdown",
   "metadata": {},
   "source": [
    "# Conditional simulation"
   ]
  },
  {
   "cell_type": "markdown",
   "metadata": {},
   "source": [
    "## Few conditioning points"
   ]
  },
  {
   "cell_type": "markdown",
   "metadata": {},
   "source": [
    "We sample the grid in order to create a new Point data base: the number of selected points is small."
   ]
  },
  {
   "cell_type": "code",
   "execution_count": null,
   "metadata": {},
   "outputs": [],
   "source": [
    "ndat = 20\n",
    "randomlist = rnd.sample(range(0, grid.getSampleNumber()), ndat)\n",
    "data = gl.Db.createReduce(grid, ranks = randomlist)"
   ]
  },
  {
   "cell_type": "code",
   "execution_count": null,
   "metadata": {},
   "outputs": [],
   "source": [
    "ax = grid.plot(nameRaster=\"NC.Facies\")\n",
    "ax = data.plot(nameColor=\"NC.Facies\")\n",
    "ax.decoration(title=\"Conditioning Information\")"
   ]
  },
  {
   "cell_type": "markdown",
   "metadata": {},
   "source": [
    "We must slightly transform the facies information that will serve as conditioning"
   ]
  },
  {
   "cell_type": "code",
   "execution_count": null,
   "metadata": {},
   "outputs": [],
   "source": [
    "data[\"Facies1\"] = np.nan_to_num(data[\"NC.Facies\"], nan=0.)\n",
    "data.setLocator(\"Facies1\",gl.ELoc.Z, cleanSameLocator=True)"
   ]
  },
  {
   "cell_type": "markdown",
   "metadata": {},
   "source": [
    "We can now launch a conditional simulation"
   ]
  },
  {
   "cell_type": "code",
   "execution_count": null,
   "metadata": {},
   "outputs": [],
   "source": [
    "err = gl.simbool(data, grid, tokens, verbose=True, namconv=gl.NamingConvention(\"CD1\"))\n",
    "grid"
   ]
  },
  {
   "cell_type": "code",
   "execution_count": null,
   "metadata": {},
   "outputs": [],
   "source": [
    "ax = grid.plot(nameRaster=\"CD1.Facies1.Facies\")\n",
    "ax = data.plot(nameColor=\"Facies1\")\n",
    "ax.decoration(title=\"Conditional Simulation (Small)\")"
   ]
  },
  {
   "cell_type": "markdown",
   "metadata": {},
   "source": [
    "## Lots of conditioning points"
   ]
  },
  {
   "cell_type": "markdown",
   "metadata": {},
   "source": [
    "We now sample the grid in order to create a lot of conditioning samples"
   ]
  },
  {
   "cell_type": "code",
   "execution_count": null,
   "metadata": {},
   "outputs": [],
   "source": [
    "ndat = 20\n",
    "randomlist = rnd.sample(range(0, grid.getSampleNumber()), ndat)\n",
    "data = gl.Db.createReduce(grid, ranks = randomlist)"
   ]
  },
  {
   "cell_type": "code",
   "execution_count": null,
   "metadata": {},
   "outputs": [],
   "source": [
    "data[\"Facies2\"] = np.nan_to_num(data[\"NC.Facies\"], nan=0.)\n",
    "data.setLocator(\"Facies2\",gl.ELoc.Z, cleanSameLocator=True)"
   ]
  },
  {
   "cell_type": "code",
   "execution_count": null,
   "metadata": {},
   "outputs": [],
   "source": [
    "ax = grid.plot(nameRaster=\"NC.Facies\")\n",
    "ax = data.plot(nameColor=\"NC.Facies\")\n",
    "ax.decoration(title=\"Conditioning Information (Large)\")"
   ]
  },
  {
   "cell_type": "code",
   "execution_count": null,
   "metadata": {},
   "outputs": [],
   "source": [
    "err = gl.simbool(data, grid, tokens, verbose=True, namconv=gl.NamingConvention(\"CD2\"))\n",
    "grid"
   ]
  },
  {
   "cell_type": "code",
   "execution_count": null,
   "metadata": {},
   "outputs": [],
   "source": [
    "ax = grid.plot(nameRaster=\"CD2.Facies2.Facies\")\n",
    "ax = data.plot(nameColor=\"Facies2\")\n",
    "ax.decoration(title=\"Conditional Simulation (Large)\")"
   ]
  }
 ],
 "metadata": {
  "kernelspec": {
   "display_name": "Python 3 (ipykernel)",
   "language": "python",
   "name": "python3"
  },
  "language_info": {
   "codemirror_mode": {
    "name": "ipython",
    "version": 3
   },
   "file_extension": ".py",
   "mimetype": "text/x-python",
   "name": "python",
   "nbconvert_exporter": "python",
   "pygments_lexer": "ipython3",
   "version": "3.10.5"
  },
  "toc": {
   "base_numbering": 1,
   "nav_menu": {},
   "number_sections": true,
   "sideBar": true,
   "skip_h1_title": false,
   "title_cell": "Table of Contents",
   "title_sidebar": "Contents",
   "toc_cell": false,
   "toc_position": {
    "height": "calc(100% - 180px)",
    "left": "10px",
    "top": "150px",
    "width": "314px"
   },
   "toc_section_display": true,
   "toc_window_display": false
  }
 },
 "nbformat": 4,
 "nbformat_minor": 4
}
