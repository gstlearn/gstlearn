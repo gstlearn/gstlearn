{
 "cells": [
  {
   "cell_type": "markdown",
   "id": "c7990d04",
   "metadata": {},
   "source": [
    "# Test simulations using Turning Bands method"
   ]
  },
  {
   "cell_type": "markdown",
   "id": "d61f9c1c",
   "metadata": {},
   "source": [
    "This test is meant to check and demonstrate the simulation using the Turning Bands Method of various covariances. The test is systematically performed on a regular grid."
   ]
  },
  {
   "cell_type": "code",
   "execution_count": null,
   "id": "e448bd7c",
   "metadata": {},
   "outputs": [],
   "source": [
    "import gstlearn as gl\n",
    "import numpy as np           \n",
    "import gstlearn.plot as gp"
   ]
  },
  {
   "cell_type": "code",
   "execution_count": null,
   "id": "c412d769",
   "metadata": {},
   "outputs": [],
   "source": [
    "nx = [100,100]\n",
    "dx = [1,1]\n",
    "grid = gl.DbGrid.create(nx=nx, dx=dx)\n",
    "varioparam = gl.VarioParam.createMultipleFromGrid(grid, 50)"
   ]
  },
  {
   "cell_type": "code",
   "execution_count": null,
   "id": "0833bc3f",
   "metadata": {},
   "outputs": [],
   "source": [
    "def represent(type, range=30, param=1):\n",
    "    model = gl.Model.createFromParam(type=type, range=range, param=param)\n",
    "    err = gl.simtub(None, grid, model, nbtuba=500)\n",
    "    vario = gl.Vario.computeFromDb(varioparam, grid)\n",
    "    \n",
    "    # Plot\n",
    "    fig, ax = gp.init(1,2,figsize=(10,5))\n",
    "    ax[0].raster(grid,name=\"Simu\")\n",
    "    ax[1].varmod(vario, model)\n",
    "    fig.decoration(title=type.getDescr())\n",
    "    \n",
    "    grid.deleteColumn(\"Simu\")"
   ]
  },
  {
   "cell_type": "markdown",
   "id": "f37dc8bf",
   "metadata": {},
   "source": [
    "In the next paragraphs, we perform the simulation of a given model on the grid, and represent the experimental variogram (calculated along the main grid directions) together with the Model."
   ]
  },
  {
   "cell_type": "code",
   "execution_count": null,
   "id": "39ca5831",
   "metadata": {},
   "outputs": [],
   "source": [
    "represent(gl.ECov.SPHERICAL)"
   ]
  },
  {
   "cell_type": "code",
   "execution_count": null,
   "id": "11259ae7",
   "metadata": {},
   "outputs": [],
   "source": [
    "represent(gl.ECov.EXPONENTIAL)"
   ]
  },
  {
   "cell_type": "code",
   "execution_count": null,
   "id": "dbb0768b",
   "metadata": {},
   "outputs": [],
   "source": [
    "represent(gl.ECov.GAUSSIAN)"
   ]
  },
  {
   "cell_type": "code",
   "execution_count": null,
   "id": "51f414bf",
   "metadata": {},
   "outputs": [],
   "source": [
    "represent(gl.ECov.CUBIC)"
   ]
  },
  {
   "cell_type": "code",
   "execution_count": null,
   "id": "dbe20943",
   "metadata": {},
   "outputs": [],
   "source": [
    "represent(gl.ECov.LINEAR)"
   ]
  }
 ],
 "metadata": {
  "kernelspec": {
   "display_name": "Python 3 (ipykernel)",
   "language": "python",
   "name": "python3"
  },
  "language_info": {
   "codemirror_mode": {
    "name": "ipython",
    "version": 3
   },
   "file_extension": ".py",
   "mimetype": "text/x-python",
   "name": "python",
   "nbconvert_exporter": "python",
   "pygments_lexer": "ipython3",
   "version": "3.10.5"
  },
  "toc": {
   "base_numbering": 1,
   "nav_menu": {},
   "number_sections": true,
   "sideBar": true,
   "skip_h1_title": false,
   "title_cell": "Table of Contents",
   "title_sidebar": "Contents",
   "toc_cell": false,
   "toc_position": {},
   "toc_section_display": true,
   "toc_window_display": false
  }
 },
 "nbformat": 4,
 "nbformat_minor": 5
}
