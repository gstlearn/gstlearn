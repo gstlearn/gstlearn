{
 "cells": [
  {
   "cell_type": "code",
   "execution_count": null,
   "id": "61fbece6",
   "metadata": {},
   "outputs": [],
   "source": [
    "import gstlearn as gl"
   ]
  },
  {
   "cell_type": "code",
   "execution_count": null,
   "id": "31a66676",
   "metadata": {},
   "outputs": [],
   "source": [
    "db = gl.DbGrid.create([50,50],[2,2])\n",
    "mesh = gl.MeshETurbo([100,100])\n",
    "proj = gl.ProjMatrix.create(db,mesh)"
   ]
  },
  {
   "cell_type": "code",
   "execution_count": null,
   "id": "704442b3",
   "metadata": {},
   "outputs": [],
   "source": [
    "A = gl.TestInheritance()\n",
    "A.setIproj(proj)"
   ]
  },
  {
   "cell_type": "code",
   "execution_count": null,
   "id": "9621795b",
   "metadata": {},
   "outputs": [],
   "source": [
    "class SpecializedProj(gl.IProjMatrix):\n",
    "    def __init__(self,n):\n",
    "        super(SpecializedProj,self).__init__()\n",
    "        self.n = n\n",
    "    def mesh2point(self,inv,outv):\n",
    "        for i in range(inv.size):\n",
    "            outv[i] = inv[i]\n",
    "    def point2mesh(self,outv,inv):\n",
    "        for i in range(inv.size):\n",
    "            outv[i] = inv[i]\n",
    "    def getApexNumber(self):\n",
    "        return self.n\n",
    "    def getPointNumber(self):\n",
    "        return self.n"
   ]
  },
  {
   "cell_type": "code",
   "execution_count": null,
   "id": "5ed0ae50",
   "metadata": {},
   "outputs": [],
   "source": [
    "newproj = SpecializedProj(12)"
   ]
  },
  {
   "cell_type": "code",
   "execution_count": null,
   "id": "596d7fc9",
   "metadata": {},
   "outputs": [],
   "source": [
    "A.setIproj(newproj)"
   ]
  }
 ],
 "metadata": {
  "kernelspec": {
   "display_name": "Python 3 (ipykernel)",
   "language": "python",
   "name": "python3"
  },
  "language_info": {
   "codemirror_mode": {
    "name": "ipython",
    "version": 3
   },
   "file_extension": ".py",
   "mimetype": "text/x-python",
   "name": "python",
   "nbconvert_exporter": "python",
   "pygments_lexer": "ipython3",
   "version": "3.10.2"
  }
 },
 "nbformat": 4,
 "nbformat_minor": 5
}
