{
 "cells": [
  {
   "cell_type": "markdown",
   "id": "6cdf0e40",
   "metadata": {},
   "source": [
    "<!-- SUMMARY: Check the Inheritance technique in the Python lnaguage -->\n",
    "\n",
    "<!-- CATEGORY: Tools_for_Python_environment -->"
   ]
  },
  {
   "cell_type": "code",
   "execution_count": null,
   "id": "941a7d5e",
   "metadata": {},
   "outputs": [],
   "source": [
    "import gstlearn as gl\n",
    "import gstlearn.plot as gp"
   ]
  },
  {
   "cell_type": "code",
   "execution_count": null,
   "id": "8eb6ff71",
   "metadata": {},
   "outputs": [],
   "source": [
    "db = gl.DbGrid.create([50,50],[2,2])\n",
    "mesh = gl.MeshETurbo([100,100])\n",
    "proj = gl.ProjMatrix.create(db,mesh)"
   ]
  },
  {
   "cell_type": "code",
   "execution_count": null,
   "id": "b8bfed91",
   "metadata": {},
   "outputs": [],
   "source": [
    "A = gl.TestInheritance()\n",
    "A.setIproj(proj)"
   ]
  },
  {
   "cell_type": "code",
   "execution_count": null,
   "id": "e9ddce04",
   "metadata": {},
   "outputs": [],
   "source": [
    "class SpecializedProj(gl.IProj):\n",
    "    def __init__(self,n):\n",
    "        super(SpecializedProj,self).__init__()\n",
    "        self.n = n\n",
    "    def mesh2point(self,inv,outv):\n",
    "        for i in range(inv.size):\n",
    "            outv[i] = inv[i]\n",
    "    def point2mesh(self,outv,inv):\n",
    "        for i in range(inv.size):\n",
    "            outv[i] = inv[i]\n",
    "    def getNApex(self):\n",
    "        return self.n\n",
    "    def getNPoint(self):\n",
    "        return self.n"
   ]
  },
  {
   "cell_type": "code",
   "execution_count": null,
   "id": "2065e04b",
   "metadata": {},
   "outputs": [],
   "source": [
    "newproj = SpecializedProj(12)"
   ]
  },
  {
   "cell_type": "code",
   "execution_count": null,
   "id": "131eb20a",
   "metadata": {},
   "outputs": [],
   "source": [
    "A.setIproj(newproj)"
   ]
  },
  {
   "cell_type": "code",
   "execution_count": null,
   "id": "illegal-label",
   "metadata": {},
   "outputs": [],
   "source": [
    "A.display()"
   ]
  },
  {
   "cell_type": "markdown",
   "id": "a44f43f9",
   "metadata": {},
   "source": [
    "### Inheritance of an ICloneable class.\n",
    "\n",
    "Add a clone method as follows:"
   ]
  },
  {
   "cell_type": "code",
   "execution_count": null,
   "id": "a973bb31",
   "metadata": {},
   "outputs": [],
   "source": [
    "import numpy as np\n",
    "class MyCov(gl.ACov):\n",
    "    def __init__(self,range):\n",
    "        super(MyCov,self).__init__()\n",
    "        self.range = np.copy(range)\n",
    "        #space is needed to compute the distance in _eval\n",
    "        self.space = gl.getDefaultSpace() \n",
    "    #Specify the number of variables\n",
    "    def getNVar(self):\n",
    "        return 1\n",
    "    #clone method\n",
    "    def clone(self):\n",
    "        return MyCov(self.range).__disown__()\n",
    "    # _eval method (which is pure virtual in ACov)\n",
    "    def _eval(self,p1,p2,ivar,jvar,mode):\n",
    "        dist = self.space.getDistance(p1,p2)\n",
    "        return np.exp(- dist/self.range)\n"
   ]
  },
  {
   "cell_type": "code",
   "execution_count": null,
   "id": "b48e3aa8",
   "metadata": {},
   "outputs": [],
   "source": [
    "cov = MyCov(0.2)\n",
    "p1 = gl.SpacePoint([1.,1.])\n",
    "p2 = gl.SpacePoint([.95,.95])\n",
    "\n",
    "print(cov.isNoStat())\n",
    "cov.evalCov(p1,p2)"
   ]
  },
  {
   "cell_type": "code",
   "execution_count": null,
   "id": "cbb8bcdd",
   "metadata": {},
   "outputs": [],
   "source": [
    "db = gl.Db.createFillRandom(5,2,1)\n",
    "grid = gl.DbGrid.create([100,100],[0.01,0.01])\n",
    "\n",
    "model = gl.ModelGeneric()\n",
    "model.setCov(cov)\n",
    "\n",
    "modelgst = gl.Model.createFromParam(gl.ECov.EXPONENTIAL,range = cov.range,flagRange=False)\n",
    "\n",
    "neigh = gl.NeighUnique()"
   ]
  },
  {
   "cell_type": "code",
   "execution_count": null,
   "id": "bccb812d",
   "metadata": {},
   "outputs": [],
   "source": [
    "gl.kriging(db,grid,model,neigh)\n",
    "gl.kriging(db,grid,modelgst,neigh)"
   ]
  },
  {
   "cell_type": "markdown",
   "id": "af72950f",
   "metadata": {},
   "source": [
    "Comparison of kriging with custom class and gstlearn class"
   ]
  },
  {
   "cell_type": "code",
   "execution_count": null,
   "id": "6000ba31",
   "metadata": {},
   "outputs": [],
   "source": [
    "print(np.round(np.max(np.abs(grid[\"*estim\"] - grid[\"*estim.1\"])),5))"
   ]
  }
 ],
 "metadata": {
  "kernelspec": {
   "display_name": "Python 3",
   "language": "python",
   "name": "python3"
  },
  "language_info": {
   "codemirror_mode": {
    "name": "ipython",
    "version": 3
   },
   "file_extension": ".py",
   "mimetype": "text/x-python",
   "name": "python",
   "nbconvert_exporter": "python",
   "pygments_lexer": "ipython3",
   "version": "3.10.5"
  },
  "toc": {
   "base_numbering": 1,
   "nav_menu": {},
   "number_sections": true,
   "sideBar": true,
   "skip_h1_title": false,
   "title_cell": "Table of Contents",
   "title_sidebar": "Contents",
   "toc_cell": false,
   "toc_position": {},
   "toc_section_display": true,
   "toc_window_display": false
  }
 },
 "nbformat": 4,
 "nbformat_minor": 5
}
