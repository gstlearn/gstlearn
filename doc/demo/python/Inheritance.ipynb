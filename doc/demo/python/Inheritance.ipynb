{
 "cells": [
  {
   "cell_type": "markdown",
   "id": "6cdf0e40",
   "metadata": {},
   "source": [
    "<!-- SUMMARY: Check the Inheritance technique in the Python lnaguage -->\n",
    "\n",
    "<!-- CATEGORY: Tools_for_Python_environment -->"
   ]
  },
  {
   "cell_type": "code",
   "execution_count": 1,
   "id": "941a7d5e",
   "metadata": {},
   "outputs": [],
   "source": [
    "import gstlearn as gl\n",
    "import gstlearn.plot as gp"
   ]
  },
  {
   "cell_type": "code",
   "execution_count": 2,
   "id": "8eb6ff71",
   "metadata": {},
   "outputs": [],
   "source": [
    "db = gl.DbGrid.create([50,50],[2,2])\n",
    "mesh = gl.MeshETurbo([100,100])\n",
    "proj = gl.ProjMatrix.create(db,mesh)"
   ]
  },
  {
   "cell_type": "code",
   "execution_count": 3,
   "id": "b8bfed91",
   "metadata": {},
   "outputs": [],
   "source": [
    "A = gl.TestInheritance()\n",
    "A.setIproj(proj)"
   ]
  },
  {
   "cell_type": "code",
   "execution_count": 5,
   "id": "e9ddce04",
   "metadata": {},
   "outputs": [],
   "source": [
    "class SpecializedProj(gl.IProj):\n",
    "    def __init__(self,n):\n",
    "        super(SpecializedProj,self).__init__()\n",
    "        self.n = n\n",
    "    def mesh2point(self,inv,outv):\n",
    "        for i in range(inv.size):\n",
    "            outv[i] = inv[i]\n",
    "    def point2mesh(self,outv,inv):\n",
    "        for i in range(inv.size):\n",
    "            outv[i] = inv[i]\n",
    "    def getNApex(self):\n",
    "        return self.n\n",
    "    def getNPoint(self):\n",
    "        return self.n"
   ]
  },
  {
   "cell_type": "code",
   "execution_count": 6,
   "id": "2065e04b",
   "metadata": {},
   "outputs": [],
   "source": [
    "newproj = SpecializedProj(12)"
   ]
  },
  {
   "cell_type": "code",
   "execution_count": 7,
   "id": "131eb20a",
   "metadata": {},
   "outputs": [],
   "source": [
    "A.setIproj(newproj)"
   ]
  },
  {
   "cell_type": "code",
   "execution_count": null,
   "id": "illegal-label",
   "metadata": {},
   "outputs": [],
   "source": [
    "A.display()"
   ]
  }
 ],
 "metadata": {
  "kernelspec": {
   "display_name": "kriging-env",
   "language": "python",
   "name": "kriging-env"
  },
  "language_info": {
   "codemirror_mode": {
    "name": "ipython",
    "version": 3
   },
   "file_extension": ".py",
   "mimetype": "text/x-python",
   "name": "python",
   "nbconvert_exporter": "python",
   "pygments_lexer": "ipython3",
   "version": "3.10.12"
  },
  "toc": {
   "base_numbering": 1,
   "nav_menu": {},
   "number_sections": true,
   "sideBar": true,
   "skip_h1_title": false,
   "title_cell": "Table of Contents",
   "title_sidebar": "Contents",
   "toc_cell": false,
   "toc_position": {},
   "toc_section_display": true,
   "toc_window_display": false
  }
 },
 "nbformat": 4,
 "nbformat_minor": 5
}
