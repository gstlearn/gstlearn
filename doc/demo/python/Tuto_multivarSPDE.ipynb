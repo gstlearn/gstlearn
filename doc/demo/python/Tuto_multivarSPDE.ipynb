{
 "cells": [
  {
   "cell_type": "markdown",
   "id": "cd32b9ce",
   "metadata": {},
   "source": [
    "# Multivariate SPDE"
   ]
  },
  {
   "cell_type": "code",
   "execution_count": null,
   "id": "7f36b633-5e6e-4222-9447-23f13c35fa1e",
   "metadata": {},
   "outputs": [],
   "source": [
    "import gstlearn as gl\n",
    "import scipy as sc\n",
    "import numpy as np\n",
    "import scipy.sparse.linalg"
   ]
  },
  {
   "cell_type": "code",
   "execution_count": null,
   "id": "0a216e3b-43fa-458e-962c-c38d2dbac9d2",
   "metadata": {},
   "outputs": [],
   "source": [
    "multistruct = True\n",
    "### Stationary case\n",
    "\n",
    "mesh1 = gl.MeshETurbo([10,10])\n",
    "r1 = 0.9\n",
    "s11 = 2\n",
    "s21 = 1\n",
    "s121 = r1 * np.sqrt(s11*s21)\n",
    "modelMulti = gl.Model.createFromParam(gl.ECov.MATERN,param=1,sills = [s11,s121,s121,s21],range=5)\n",
    "\n",
    "mesh2 = gl.MeshETurbo([20,20])\n",
    "r2 = -0.\n",
    "s12 = .01\n",
    "s22 = .04\n",
    "s122 = r2 * np.sqrt(s12*s22)\n",
    "modelMulti2 = gl.Model.createFromParam(gl.ECov.MATERN,param=1,sills = [s12,s122,s122,s22],range=5)\n",
    "if multistruct:    \n",
    "    modelMulti.addCov(modelMulti2.getCova(0))\n"
   ]
  },
  {
   "cell_type": "code",
   "execution_count": null,
   "id": "bbb3b0cd-6df4-489e-bd01-b09cd6cc7c46",
   "metadata": {},
   "outputs": [],
   "source": [
    "class PrecisionOpMulti:\n",
    "    def __init__(self,model,meshes):\n",
    "        self.sills = []\n",
    "        self.invsill = []\n",
    "        self.cholsill = []\n",
    "        self.nvertex = []\n",
    "        self.SigmaMult = []\n",
    "        self.invSigmaMult = []\n",
    "        self.Qop = []\n",
    "        self.temp = []\n",
    "        self.ncovar = model.getCovaNumber()\n",
    "        \n",
    "        for i in range(self.ncovar):\n",
    "            cova = model.getCova(i)\n",
    "            self.sills += [cova.getSill().toTL()]\n",
    "            self.invsill += [np.linalg.inv(self.sills[i])]\n",
    "            self.cholsill += [np.linalg.cholesky(self.sills[i])]\n",
    "            self.nvertex += [meshes[i].getNApices()]\n",
    "            \n",
    "            modelMono = gl.Model.createFromParam(cova.getType(),\n",
    "                                                 param = cova.getParam(),\n",
    "                                                 range = cova.getRange())\n",
    "            self.Qop += [gl.PrecisionOp(meshes[i],modelMono)]\n",
    "            self.temp += [gl.VectorDouble(np.zeros(shape=self.nvertex[i]))]  \n",
    "\n",
    "    # Quantité utilisées pour coder la ref. Inutile de le faire en C++, c'est juste pour tester\n",
    "            QopCs = gl.PrecisionOpCs(meshes[i],modelMono)\n",
    "            Qmat = QopCs.getQ().toTL()\n",
    "            Sigma = sc.sparse.linalg.inv(Qmat).todense()\n",
    "            self.SigmaMult += [np.kron(self.sills[i],Sigma)]\n",
    "            self.invSigmaMult += [np.linalg.inv(self.SigmaMult[i])]\n",
    "        \n",
    "        self.nvar = self.invsill[0].shape[0]\n",
    "        self.nvertextot = np.sum(self.nvertex)\n",
    "        self.sizetot = self.nvertextot * self.nvar\n",
    "\n",
    "        \n",
    "    # Fonction pour évaluer les refs. Inutile de la coder en C++\n",
    "    def evalRefDirect(self,u):\n",
    "        return np.array(self.invSigmaMult@u).reshape(-1)\n",
    "\n",
    "    # Fonction pour évaluer les refs. Inutile de la coder en C++\n",
    "    def evalRefSigma(self,u):\n",
    "        return np.array(self.SigmaMult@u).reshape(-1)\n",
    "\n",
    "    # Fonction pour évaluer les refs. Inutile de la coder en C++\n",
    "    def evalQinvByQmhTimesQmhTr(self,gauss):\n",
    "        v = gl.VectorDouble(self.nvertex)\n",
    "        tempsimu = np.zeros(shape=self.nvertex * self.nvar)\n",
    "        for i in range(self.nvar):\n",
    "            temp = gl.VectorDouble(gauss[(i*self.nvertex):((i+1)*self.nvertex)])\n",
    "            self.Qop.getShiftOp().prodLambda(temp,v,gl.EPowerPT.MINUSONE)\n",
    "            tempsimu[(i*self.nvertex):((i+1)*self.nvertex)] = v.getVector()\n",
    "        w = self.evalSimulateTranspose(tempsimu)\n",
    "        for i in range(self.nvar):\n",
    "            temp = gl.VectorDouble(w[(i*self.nvertex):((i+1)*self.nvertex)])\n",
    "            self.Qop.getShiftOp().prodLambda(temp,v,gl.EPowerPT.ONE)\n",
    "            tempsimu[(i*self.nvertex):((i+1)*self.nvertex)] = v.getVector()\n",
    "        w = self.evalSimulate(tempsimu)\n",
    "        return w\n",
    "        \n",
    "    # Privilégier un proto evalDirect(const Vector inv&, Vector outv&)\n",
    "    def evalDirect(self,inv):\n",
    "        outv = np.zeros_like(inv)\n",
    "        s=0\n",
    "        for ii in range(self.ncovar):\n",
    "            for i in range(self.nvar):\n",
    "                self.Qop[ii].evalDirect(inv[(s+self.nvertex[ii]*i):(s+self.nvertex[ii]*(i+1))],self.temp[ii])\n",
    "                for j in range(self.nvar):\n",
    "                    outv[(s+self.nvertex[ii]*j):(s+self.nvertex[ii]*(j+1))]+=self.invsill[ii][i,j] * \\\n",
    "                        np.array(self.temp[ii].getVector())\n",
    "            s+= self.nvertex[ii] * self.nvar\n",
    "        return outv\n",
    "\n",
    "    def evalSimulate(self,gauss):\n",
    "        outv = np.zeros_like(gauss)\n",
    "        s=0\n",
    "        iadx = 0\n",
    "        for ii in range(self.ncovar):\n",
    "            nv = self.nvertex[ii]\n",
    "            for i in range(self.nvar):\n",
    "                self.Qop[ii].evalSimulate(\n",
    "                    gl.VectorDouble(gauss[iadx:(iadx+nv)]),\n",
    "                    self.temp[ii])\n",
    "                iady = s\n",
    "                for j in range(0,self.nvar):\n",
    "                    outv[iady:(iady+nv)]+=self.cholsill[ii][j,i] *\\\n",
    "                        np.array(self.temp[ii].getVector())\n",
    "                    iady+=nv\n",
    "                iadx += nv\n",
    "            s = iadx\n",
    "\n",
    "        return outv\n",
    "\n",
    "    def getCholSill(self):\n",
    "        return self.cholsill\n",
    "    \n",
    "    #Ne pas coder en C++, c'est juste pour un test\n",
    "    def evalSimulateTranspose(self,gauss):\n",
    "        outv = np.zeros_like(gauss)\n",
    "        for i in range(self.nvar):\n",
    "            self.Qop.evalSimulate(gl.VectorDouble(gauss[(self.nvertex*i):(self.nvertex*(i+1))]),self.temp)\n",
    "            for j in range(0,i+1):\n",
    "                outv[(self.nvertex*j):(self.nvertex*(j+1))]+=self.cholsill[j,i] *\\\n",
    "                    np.array(self.temp.getVector())\n",
    "        return outv\n",
    "        \n",
    "    "
   ]
  },
  {
   "cell_type": "code",
   "execution_count": null,
   "id": "12667e17",
   "metadata": {},
   "outputs": [],
   "source": [
    "pops = gl.PrecisionOpMulti(modelMulti)\n",
    "pops.addMesh(mesh1)\n",
    "if multistruct:\n",
    "    pops.addMesh(mesh2)\n",
    "pops.display()"
   ]
  },
  {
   "cell_type": "code",
   "execution_count": null,
   "id": "77ab1a20-a730-494e-91bd-669ed0e584fd",
   "metadata": {},
   "outputs": [],
   "source": [
    "meshes = [mesh1]\n",
    "if multistruct:\n",
    "     meshes += [mesh2]\n",
    "pop = PrecisionOpMulti(modelMulti, [mesh1,mesh2])\n",
    "nvar = pop.nvar\n",
    "u = np.random.normal(size=pop.sizetot )\n",
    "res = pops.evalDirect(u)\n",
    "ref = pop.evalDirect(u)"
   ]
  },
  {
   "cell_type": "code",
   "execution_count": null,
   "id": "782432a2",
   "metadata": {},
   "outputs": [],
   "source": [
    "print(\"Error in the operator product =\",np.max(np.abs(res-ref)))"
   ]
  },
  {
   "cell_type": "code",
   "execution_count": null,
   "id": "a243963b-0c77-472f-8de9-261ecc20106d",
   "metadata": {},
   "outputs": [],
   "source": [
    "import matplotlib.pyplot as plt\n",
    "ind = range(pop.nvertextot*pop.nvar)\n",
    "ax = plt.scatter(res[ind],ref[ind])"
   ]
  },
  {
   "cell_type": "code",
   "execution_count": null,
   "id": "b6dee24c",
   "metadata": {},
   "outputs": [],
   "source": [
    "resnew = pops.evalDirect(u)\n",
    "np.max(np.abs(resnew-ref))"
   ]
  },
  {
   "cell_type": "code",
   "execution_count": null,
   "id": "497484f1",
   "metadata": {},
   "outputs": [],
   "source": [
    "simref = pop.evalSimulate(u)\n",
    "simnew = pops.evalSimulate(u)"
   ]
  },
  {
   "cell_type": "code",
   "execution_count": null,
   "id": "61f33a7d",
   "metadata": {},
   "outputs": [],
   "source": [
    "print(\"Error in the simulation operator =\",np.max(np.abs(simnew-simref)))"
   ]
  },
  {
   "cell_type": "code",
   "execution_count": null,
   "id": "9dff2180",
   "metadata": {},
   "outputs": [],
   "source": [
    "import matplotlib.pyplot as plt\n",
    "ind = range(pop.nvertextot,pop.sizetot)\n",
    "ind = range(pop.sizetot)\n",
    "ax = plt.scatter(simnew[ind],simref[ind])"
   ]
  }
 ],
 "metadata": {
  "kernelspec": {
   "display_name": "Python 3 (ipykernel)",
   "language": "python",
   "name": "python3"
  },
  "language_info": {
   "codemirror_mode": {
    "name": "ipython",
    "version": 3
   },
   "file_extension": ".py",
   "mimetype": "text/x-python",
   "name": "python",
   "nbconvert_exporter": "python",
   "pygments_lexer": "ipython3",
   "version": "3.10.5"
  }
 },
 "nbformat": 4,
 "nbformat_minor": 5
}
