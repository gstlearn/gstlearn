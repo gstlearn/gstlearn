{
 "cells": [
  {
   "cell_type": "markdown",
   "id": "6bf2f306",
   "metadata": {},
   "source": [
    "# Simulation post-processing"
   ]
  },
  {
   "cell_type": "markdown",
   "id": "483617bb",
   "metadata": {},
   "source": [
    "<!-- SUMMARY: The Simulation post-processing is illustrated through an Upscaling capability -->\n",
    "\n",
    "<!-- CATEGORY: Data_Base_Management -->"
   ]
  },
  {
   "cell_type": "markdown",
   "id": "6c6ebfba",
   "metadata": {},
   "source": [
    "This test is meant to demonstrate the tool for post-processing simulation results."
   ]
  },
  {
   "cell_type": "code",
   "execution_count": null,
   "id": "c95d2a4e",
   "metadata": {},
   "outputs": [],
   "source": [
    "import gstlearn as gl\n",
    "import gstlearn.plot as gp\n",
    "import gstlearn.document as gdoc\n",
    "import numpy as np\n",
    "import matplotlib.pyplot as plt\n",
    "import gstlearn.plot as gp\n",
    "import scipy.sparse as sc\n",
    "\n",
    "gdoc.setNoScroll()"
   ]
  },
  {
   "cell_type": "markdown",
   "id": "a1db19aa",
   "metadata": {},
   "source": [
    "We construct several simulations independently. Here, the manner these simulations are constrcuted has no interest and we simply sample distributions (Uniform or Gaussian) with various parameters. We construct three simulations (called *SimuA*, *SimuB* and *SimuC*) with different occurence numbers (3, 2 and 2).\n",
    "\n",
    "Then, for each cell of the output grid:\n",
    "- a search for the samples belonging to the cell is performed\n",
    "- a particular transformation (calculating their *sum* and their *standard deviation*) is applied to the outcomes of these samples\n",
    "- the transformed values of these samples are upscaled (using the *mean*) to one single multivariate per cell\n",
    "- Some statistics (*mean* and *variance*) are calculated on the results of the transformation per cell."
   ]
  },
  {
   "cell_type": "markdown",
   "id": "127b9a98",
   "metadata": {},
   "source": [
    "Creating a point Data Base"
   ]
  },
  {
   "cell_type": "code",
   "execution_count": null,
   "id": "a32df92d",
   "metadata": {},
   "outputs": [],
   "source": [
    "nech=10\n",
    "db = gl.Db.createFillRandom(ndat=nech, ndim=2, nvar=0, seed = 3143233)\n",
    "err = db.addColumns(np.arange(0,nech),\"rank\")"
   ]
  },
  {
   "cell_type": "markdown",
   "id": "35b46655",
   "metadata": {},
   "source": [
    "Creating a Grid Data Base covering the same area"
   ]
  },
  {
   "cell_type": "code",
   "execution_count": null,
   "id": "78ca03e1",
   "metadata": {},
   "outputs": [],
   "source": [
    "nx = 5\n",
    "dx = 1 / nx\n",
    "x0 = dx / 2\n",
    "dbgrid = gl.DbGrid.create(nx=[nx,nx], dx=[dx,dx], x0=[x0,x0])"
   ]
  },
  {
   "cell_type": "markdown",
   "id": "85fdd7ae",
   "metadata": {},
   "source": [
    "Adding a first set of 3 simulation outcomes (sampled from Normal distribution)"
   ]
  },
  {
   "cell_type": "code",
   "execution_count": null,
   "id": "84c807b6",
   "metadata": {},
   "outputs": [],
   "source": [
    "nsimuA = 3\n",
    "uid = db.addColumnsByConstant(nsimuA, 0., \"SimuA\")\n",
    "for i in range(nsimuA):\n",
    "    vec = gl.VectorHelper.simulateGaussian(nech)\n",
    "    db.setColumnByUID(vec, uid + i)"
   ]
  },
  {
   "cell_type": "markdown",
   "id": "c687edcf",
   "metadata": {},
   "source": [
    "Adding a second set of 2 simulations (sampled from Uniform distribution between 100 and 200)"
   ]
  },
  {
   "cell_type": "code",
   "execution_count": null,
   "id": "39ebe637",
   "metadata": {},
   "outputs": [],
   "source": [
    "nsimuB = 2\n",
    "uid = db.addColumnsByConstant(nsimuB, 0., \"SimuB\")\n",
    "for i in range(nsimuB):\n",
    "    vec = gl.VectorHelper.simulateUniform(nech, 100., 200.)\n",
    "    db.setColumnByUID(vec, uid + i)"
   ]
  },
  {
   "cell_type": "markdown",
   "id": "979fb8a0",
   "metadata": {},
   "source": [
    "Adding a third set of 2 simulations (sampled from Uniform distribution between -4 and -2)"
   ]
  },
  {
   "cell_type": "code",
   "execution_count": null,
   "id": "ac4affb5",
   "metadata": {},
   "outputs": [],
   "source": [
    "nsimuC = 2\n",
    "uid = db.addColumnsByConstant(nsimuC, 0., \"SimuC\")\n",
    "for i in range(nsimuC):\n",
    "    vec = gl.VectorHelper.simulateUniform(nech, -4., -2.)\n",
    "    db.setColumnByUID(vec, uid + i)"
   ]
  },
  {
   "cell_type": "markdown",
   "id": "b011bfba",
   "metadata": {},
   "source": [
    "In the following paragraph, we provide the complete dump of the contents of the Data Base to better understand the next steps."
   ]
  },
  {
   "cell_type": "code",
   "execution_count": null,
   "id": "1088d833",
   "metadata": {},
   "outputs": [],
   "source": [
    "dbfmt = gl.DbStringFormat.createFromFlags(flag_resume = False, flag_vars=False, flag_array=True)\n",
    "gl.OptCst.defineByKey(\"NTROW\",-1)\n",
    "gl.OptCst.defineByKey(\"NTCOL\",-1)\n",
    "db.display(dbfmt)"
   ]
  },
  {
   "cell_type": "markdown",
   "id": "0fb4c71c",
   "metadata": {},
   "source": [
    "Display of the samples and overlay the grid of cells"
   ]
  },
  {
   "cell_type": "code",
   "execution_count": null,
   "id": "b2bb9417",
   "metadata": {},
   "outputs": [],
   "source": [
    "ax = gp.setDefaultGeographic([10,10])\n",
    "ax = gp.grid(dbgrid, flagCell=True)\n",
    "ax = gp.literal(db, name=\"rank\", s=100)"
   ]
  },
  {
   "cell_type": "markdown",
   "id": "91c69d30",
   "metadata": {},
   "source": [
    "We perform the simulations post-processing as described in the introduction.\n",
    "\n",
    "In this first application, we bypass any transformation function.\n",
    "\n",
    "A particular attention is brought to the cell (ranked 4 [1-based]) in order to check the work flow applied to the information."
   ]
  },
  {
   "cell_type": "code",
   "execution_count": null,
   "id": "5bae75a2",
   "metadata": {},
   "outputs": [],
   "source": [
    "err = gl.simuPost(db, dbgrid, [\"SimuA*\", \"SimuB*\", \"SimuC*\"], flag_match=False, \n",
    "                  upscale = gl.EPostUpscale.MEAN,\n",
    "                  stats = [gl.EPostStat.MEAN, gl.EPostStat.VAR], \n",
    "                  check_targets=[4], verbose=True, namconv=gl.NamingConvention(\"Post1\"))"
   ]
  },
  {
   "cell_type": "code",
   "execution_count": null,
   "id": "b9968381",
   "metadata": {},
   "outputs": [],
   "source": [
    "dbgrid"
   ]
  },
  {
   "cell_type": "code",
   "execution_count": null,
   "id": "3d99e771",
   "metadata": {},
   "outputs": [],
   "source": [
    "ax = gp.setDefaultGeographic([10,10])\n",
    "ax = gp.literal(dbgrid, name=\"Post1.Var1.Variance\", marker=\"\")\n",
    "ax = gp.grid(dbgrid, flagCell=True)\n",
    "ax = gp.literal(db, name=\"rank\", s=100)"
   ]
  },
  {
   "cell_type": "markdown",
   "id": "884f9805",
   "metadata": {},
   "source": [
    "In this second trial, we use *simuPostDemo* where a stransformation has been embedded in the procedure: this transformation calculates the *sum* and the *standard deviation* of the simulation outcomes for eachsample of the target cell.\n",
    "For comparison sake, we still keep the focus on the same cell."
   ]
  },
  {
   "cell_type": "code",
   "execution_count": null,
   "id": "f5c3a371",
   "metadata": {},
   "outputs": [],
   "source": [
    "err = gl.simuPostDemo(db, dbgrid, [\"SimuA*\", \"SimuB*\", \"SimuC*\"], flag_match=False, \n",
    "                      upscale = gl.EPostUpscale.MEAN,\n",
    "                      stats = [gl.EPostStat.MEAN, gl.EPostStat.VAR], \n",
    "                      check_targets=[4], verbose=True, namconv=gl.NamingConvention(\"Post2\"))"
   ]
  },
  {
   "cell_type": "code",
   "execution_count": null,
   "id": "abf7da50",
   "metadata": {},
   "outputs": [],
   "source": [
    "ax = gp.setDefaultGeographic([10,10])\n",
    "ax = gp.literal(dbgrid, name=\"Post2.Var1.Variance\", marker=\"\")\n",
    "ax = gp.grid(dbgrid, flagCell=True)\n",
    "ax = gp.literal(db, name=\"rank\", s=100)"
   ]
  },
  {
   "cell_type": "markdown",
   "id": "565247d9",
   "metadata": {},
   "source": [
    "In the next paragraph, we perform the simulation post-processing stage in place. This means that we do not provide any output Db and the Upscaling phase does not take place (however note that the upscaling rule *must* not be left empty). The results are stored in the Input Db."
   ]
  },
  {
   "cell_type": "code",
   "execution_count": null,
   "id": "b19a7862",
   "metadata": {},
   "outputs": [],
   "source": [
    "err = gl.simuPost(db, None, [\"SimuA*\", \"SimuB*\", \"SimuC*\"], flag_match=False, \n",
    "                  upscale = gl.EPostUpscale.UNKNOWN,\n",
    "                  stats = [gl.EPostStat.MEAN, gl.EPostStat.VAR], \n",
    "                  check_targets=[4], verbose=True, namconv=gl.NamingConvention(\"Post1\"))"
   ]
  },
  {
   "cell_type": "code",
   "execution_count": null,
   "id": "84ecc21a",
   "metadata": {},
   "outputs": [],
   "source": [
    "db.display(dbfmt)"
   ]
  },
  {
   "cell_type": "markdown",
   "id": "27fd23ed",
   "metadata": {},
   "source": [
    "Same operation with a (built-in) transformation."
   ]
  },
  {
   "cell_type": "code",
   "execution_count": null,
   "id": "1bf1062d",
   "metadata": {},
   "outputs": [],
   "source": [
    "err = gl.simuPostDemo(db, None, [\"SimuA*\", \"SimuB*\", \"SimuC*\"], flag_match=False, \n",
    "                      upscale = gl.EPostUpscale.UNKNOWN,\n",
    "                      stats = [gl.EPostStat.MEAN, gl.EPostStat.VAR], \n",
    "                      check_targets=[4], verbose=True, namconv=gl.NamingConvention(\"Post2\"))"
   ]
  },
  {
   "cell_type": "code",
   "execution_count": null,
   "id": "4693582b",
   "metadata": {},
   "outputs": [],
   "source": [
    "db.display(dbfmt)"
   ]
  }
 ],
 "metadata": {
  "kernelspec": {
   "display_name": "Python 3 (ipykernel)",
   "language": "python",
   "name": "python3"
  },
  "language_info": {
   "codemirror_mode": {
    "name": "ipython",
    "version": 3
   },
   "file_extension": ".py",
   "mimetype": "text/x-python",
   "name": "python",
   "nbconvert_exporter": "python",
   "pygments_lexer": "ipython3",
   "version": "3.10.5"
  },
  "toc": {
   "base_numbering": 1,
   "nav_menu": {},
   "number_sections": true,
   "sideBar": true,
   "skip_h1_title": false,
   "title_cell": "Table of Contents",
   "title_sidebar": "Contents",
   "toc_cell": false,
   "toc_position": {},
   "toc_section_display": true,
   "toc_window_display": false
  }
 },
 "nbformat": 4,
 "nbformat_minor": 5
}
