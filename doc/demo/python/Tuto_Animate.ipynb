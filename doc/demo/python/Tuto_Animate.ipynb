{
 "cells": [
  {
   "cell_type": "markdown",
   "id": "6dbf718e",
   "metadata": {},
   "source": [
    "# Tutorial for performing animation"
   ]
  },
  {
   "cell_type": "markdown",
   "id": "cc66f41d",
   "metadata": {},
   "source": [
    "<!-- SUMMARY: Produce animation in Graphic representation -->\n",
    "\n",
    "<!-- CATEGORY: Tools_for_Python_environment -->"
   ]
  },
  {
   "cell_type": "markdown",
   "id": "dc654a64",
   "metadata": {},
   "source": [
    "This tutorial is meant to introduce some animation in the 3D viewer in Ptyhon"
   ]
  },
  {
   "cell_type": "code",
   "execution_count": null,
   "id": "8841ed70",
   "metadata": {},
   "outputs": [],
   "source": [
    "import gstlearn as gl\n",
    "import gstlearn.plot3D as gop\n",
    "import gstlearn.document as gdoc\n",
    "import plotly.graph_objects as go\n",
    "import plotly.express as px\n",
    "from dash import Dash, dcc, html, Input, Output, callback\n",
    "\n",
    "gdoc.setNoScroll()"
   ]
  },
  {
   "cell_type": "markdown",
   "id": "5e8dd493",
   "metadata": {},
   "source": [
    "We create a 3D grid. The number of cells is voluntarily limited in order to allow flexible rendering in this tutorial."
   ]
  },
  {
   "cell_type": "code",
   "execution_count": null,
   "id": "2a616560",
   "metadata": {},
   "outputs": [],
   "source": [
    "ndim = 3\n",
    "gl.defineDefaultSpace(gl.ESpaceType.RN, ndim)\n",
    "\n",
    "nx = 50\n",
    "ny = 50\n",
    "nz = 30\n",
    "grid = gl.DbGrid.create(nx = [nx,ny,nz],dx = [1,1,0.2])"
   ]
  },
  {
   "cell_type": "markdown",
   "id": "61f6a341",
   "metadata": {},
   "source": [
    "We create a 3D simulation filled with a non-conditional simulation (performed using the Turning Bands method). Here again the number of Turning Bands is voluntarily limited to improve the efficiency."
   ]
  },
  {
   "cell_type": "code",
   "execution_count": null,
   "id": "5747d926",
   "metadata": {},
   "outputs": [],
   "source": [
    "nbtuba= 200\n",
    "model = gl.Model.createFromParam(gl.ECov.CUBIC,ranges = [20,30,2])\n",
    "err = gl.simtub(None,grid,model,nbtuba=nbtuba)"
   ]
  },
  {
   "cell_type": "markdown",
   "id": "45b26d73",
   "metadata": {},
   "source": [
    "Default values for the rendering of a fence diagram"
   ]
  },
  {
   "cell_type": "code",
   "execution_count": null,
   "id": "0c3e0590",
   "metadata": {},
   "outputs": [],
   "source": [
    "ix = 12\n",
    "iy = 3\n",
    "iz = 25"
   ]
  },
  {
   "cell_type": "markdown",
   "id": "f0c7b297",
   "metadata": {},
   "source": [
    "## Using a slider"
   ]
  },
  {
   "cell_type": "markdown",
   "id": "4942e438",
   "metadata": {},
   "source": [
    "In the next graphic, we display a Fence Diagram: one section along each main axis of the grid is displayed. Although the indices along X-axis and Y-axis are fixed (using the default values defined in the next paragraph), the index of the cell defining the horizontal plane is left variable.\n",
    "\n",
    "In this first example, the user can define it using a slider."
   ]
  },
  {
   "cell_type": "code",
   "execution_count": null,
   "id": "2347b633",
   "metadata": {},
   "outputs": [],
   "source": [
    "app = Dash()\n",
    "app.layout = html.Div([\n",
    "    dcc.Graph(id='Fence'),\n",
    "    dcc.Slider(min=0, max=nz-1, step=1, value=5, marks=None, \n",
    "               tooltip={\"placement\": \"bottom\", \"always_visible\": True}, id='IZ-slider')\n",
    "])\n",
    "\n",
    "@callback(\n",
    "    Output('Fence', 'figure'),\n",
    "    Input('IZ-slider', 'value')\n",
    ")\n",
    "def update_figure(value):\n",
    "    iz = value % nz\n",
    "    data = [gop.SliceOnDbGrid(grid,\"Simu\",0,ix),\n",
    "            gop.SliceOnDbGrid(grid,\"Simu\",1,iy),\n",
    "            gop.SliceOnDbGrid(grid,\"Simu\",2,iz)]\n",
    "            \n",
    "    fig1 = go.Figure(data=data)\n",
    "    fig1.layout.title = f\"Fence Diagram {ix} - {iy} - {value}\"\n",
    "    fig1['layout']['uirevision'] = 'some-constant'\n",
    "    return fig1\n",
    "\n",
    "app.run()"
   ]
  },
  {
   "cell_type": "markdown",
   "id": "87e7026d",
   "metadata": {},
   "source": [
    "## Automatic rendering"
   ]
  },
  {
   "cell_type": "markdown",
   "id": "e577369e",
   "metadata": {},
   "source": [
    "In the next graphic, the level of the horizontal plane which is visualized in the Fence Diagram varies automatically. It covers the whole range of the cells along the vertical axis: when overpassing the number of cells of the grid, it cycles back to 0."
   ]
  },
  {
   "cell_type": "code",
   "execution_count": null,
   "id": "ae25f54d",
   "metadata": {},
   "outputs": [],
   "source": [
    "app = Dash()\n",
    "app.layout = html.Div([\n",
    "    dcc.Graph(id='Fence'),\n",
    "    dcc.Interval(id='Time-interval',\n",
    "            interval=1*1000, # in milliseconds\n",
    "            n_intervals=0)\n",
    "])\n",
    "\n",
    "@callback(\n",
    "    Output('Fence', 'figure'),\n",
    "    Input('Time-interval', 'n_intervals')\n",
    ")\n",
    "def update_metrics(value):\n",
    "    iz = value % nz\n",
    "    data = [gop.SliceOnDbGrid(grid,\"Simu\",0,ix),\n",
    "            gop.SliceOnDbGrid(grid,\"Simu\",1,iy),\n",
    "            gop.SliceOnDbGrid(grid,\"Simu\",2,iz)]\n",
    "            \n",
    "    fig1 = go.Figure(data=data)\n",
    "    fig1.layout.title = f\"Fence Diagram {ix} - {iy} - {value}\"\n",
    "    fig1['layout']['uirevision'] = 'some-constant'\n",
    "    return fig1\n",
    "\n",
    "app.run()"
   ]
  }
 ],
 "metadata": {
  "kernelspec": {
   "display_name": "Python 3 (ipykernel)",
   "language": "python",
   "name": "python3"
  },
  "language_info": {
   "codemirror_mode": {
    "name": "ipython",
    "version": 3
   },
   "file_extension": ".py",
   "mimetype": "text/x-python",
   "name": "python",
   "nbconvert_exporter": "python",
   "pygments_lexer": "ipython3",
   "version": "3.10.5"
  },
  "toc": {
   "base_numbering": 1,
   "nav_menu": {},
   "number_sections": true,
   "sideBar": true,
   "skip_h1_title": false,
   "title_cell": "Table of Contents",
   "title_sidebar": "Contents",
   "toc_cell": false,
   "toc_position": {},
   "toc_section_display": true,
   "toc_window_display": false
  }
 },
 "nbformat": 4,
 "nbformat_minor": 5
}
