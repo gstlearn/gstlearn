{
 "cells": [
  {
   "cell_type": "markdown",
   "metadata": {},
   "source": [
    "# Demonstration of Graphic facilities in gstlearn package\n",
    "\n",
    "The module gstlearn.plot contains various plot functions for gstlearn objetcs: DbGrid, Db, Vario, Model, Polygons... These functions are also accesible as methods of each class. For example for a grid, we could use equivalently gp.grid(mygrid,...) or mygrid.plot(...), or for more specific functions: gp.point(mygrid,...) or mygrid.plot_point(...)"
   ]
  },
  {
   "cell_type": "code",
   "execution_count": null,
   "metadata": {},
   "outputs": [],
   "source": [
    "%%javascript\n",
    "IPython.OutputArea.prototype._should_scroll = function(lines) {\n",
    "    return false;\n",
    "}"
   ]
  },
  {
   "cell_type": "markdown",
   "metadata": {},
   "source": [
    "## Import packages"
   ]
  },
  {
   "cell_type": "code",
   "execution_count": null,
   "metadata": {},
   "outputs": [],
   "source": [
    "import numpy as np\n",
    "import pandas as pd\n",
    "import sys\n",
    "import os\n",
    "import matplotlib\n",
    "import matplotlib.pyplot as plt\n",
    "import gstlearn as gl\n",
    "import gstlearn.plot as gp\n",
    "from scipy import ndimage, misc "
   ]
  },
  {
   "cell_type": "markdown",
   "metadata": {},
   "source": [
    "We define the Space dimension"
   ]
  },
  {
   "cell_type": "code",
   "execution_count": null,
   "metadata": {},
   "outputs": [],
   "source": [
    "gl.defineDefaultSpace(gl.ESpaceType.RN, 2)\n",
    "gp.setDefault(dims=[6,6])"
   ]
  },
  {
   "cell_type": "markdown",
   "metadata": {},
   "source": [
    "Creating a dummy Model used for simulating a random field and display it"
   ]
  },
  {
   "cell_type": "code",
   "execution_count": null,
   "metadata": {
    "scrolled": true
   },
   "outputs": [],
   "source": [
    "ctxt = gl.CovContext() # use default space\n",
    "mymodel = gl.Model(ctxt)\n",
    "cova = gl.CovAniso(gl.ECov.CUBIC,10,1,1.5,mymodel.getContext())\n",
    "mymodel.addCov(cova)"
   ]
  },
  {
   "cell_type": "markdown",
   "metadata": {},
   "source": [
    "This first case gives the demonstration that we can combine gstlearn.plot functions with matplotlib functions. This is what is performed by representing a Model and adding some annotation.\n",
    "As an example, we wish to add the formula of the covariance represented, i.e.:"
   ]
  },
  {
   "cell_type": "code",
   "execution_count": null,
   "metadata": {},
   "outputs": [],
   "source": [
    "from IPython.display import display, Latex\n",
    "display(Latex('$%s$'%cova.getFormula()))"
   ]
  },
  {
   "cell_type": "code",
   "execution_count": null,
   "metadata": {},
   "outputs": [],
   "source": [
    "fig, ax = gp.init()\n",
    "ax.plotGst(mymodel, flagLegend=True)\n",
    "ax.decoration(title=\"Cubic model\")\n",
    "ax.text(5,0.5,'$%s$'%cova.getFormula(),size='medium')\n",
    "plt.show()"
   ]
  },
  {
   "cell_type": "markdown",
   "metadata": {},
   "source": [
    "## Grid representations"
   ]
  },
  {
   "cell_type": "markdown",
   "metadata": {},
   "source": [
    "We create a rectangular non-rotated 2-D grid, and simulate random Gaussian field (using the Model previously defined). Two simulations are generated in order to emphasize the graphic posibilities in further parts of this note."
   ]
  },
  {
   "cell_type": "code",
   "execution_count": null,
   "metadata": {
    "scrolled": false
   },
   "outputs": [],
   "source": [
    "nx = [70,25]\n",
    "dx = [1,2]\n",
    "x0 = [-40, 20]\n",
    "mygrid = gl.DbGrid.create(nx,dx,x0)\n",
    "\n",
    "err = gl.simtub(None,mygrid,mymodel,None,2)\n",
    "mygrid.display()"
   ]
  },
  {
   "cell_type": "markdown",
   "metadata": {},
   "source": [
    "Add a dummy selection to test visualization with Selection"
   ]
  },
  {
   "cell_type": "code",
   "execution_count": null,
   "metadata": {},
   "outputs": [],
   "source": [
    "mygrid[\"sel\"] = 1. - (mygrid[\"x1\"] > 0) * (mygrid[\"x1\"] < 15) * (mygrid[\"x2\"] > 40) * (mygrid[\"x2\"] < 50)\n",
    "mygrid.setLocator(\"sel\",gl.ELoc.SEL)"
   ]
  },
  {
   "cell_type": "markdown",
   "metadata": {},
   "source": [
    "### Global parameters"
   ]
  },
  {
   "cell_type": "markdown",
   "metadata": {},
   "source": [
    "gstlearn.plot gives the oppotunity to store somme global parameters. Their list is given by the following function where we can clearly see those dedicated to **geographical** representations (the other ones are called **standard** representations)."
   ]
  },
  {
   "cell_type": "code",
   "execution_count": null,
   "metadata": {},
   "outputs": [],
   "source": [
    "gp.printDefault()"
   ]
  },
  {
   "cell_type": "markdown",
   "metadata": {},
   "source": [
    "Two functions (i.e. **setDefault** and **setDefaultGeographic**) allow changing the default values."
   ]
  },
  {
   "cell_type": "markdown",
   "metadata": {},
   "source": [
    "### Non Rotated Grid"
   ]
  },
  {
   "cell_type": "markdown",
   "metadata": {},
   "source": [
    "We simply represent the grid (using the defaulted color scale). As no variable nor representation is explicitely specified, the default variable is represented using the default representation (i.e. raster). The default variable is the first Z-locator variable (if any) or the variable created last in the file otherwise.\n",
    "\n",
    "We also plot the legend on the right edge.  "
   ]
  },
  {
   "cell_type": "markdown",
   "metadata": {},
   "source": [
    "This is the opportunity to describe the mechanism for calling the functions of gstlearn.plot.\n",
    "\n",
    "We have essentially 4 possible levels of calls:"
   ]
  },
  {
   "cell_type": "markdown",
   "metadata": {},
   "source": [
    "- the most elementary one. We initiate the figure (returned argument *fig*) and the canvas (returned argument *ax*) as a **geographical** figure. Then we add a raster visualization of the first simulation. The dedicated function (**gridRaster**) returns a description of the intended facility (here a *QuadMesh*). This enables the user to elaborate on this returned argument."
   ]
  },
  {
   "cell_type": "code",
   "execution_count": null,
   "metadata": {
    "scrolled": true
   },
   "outputs": [],
   "source": [
    "fig, ax = gp.initGeographic()\n",
    "gp.gridRaster(ax, mygrid, name=\"Simu.1\", flagLegend=True)\n",
    "plt.show()"
   ]
  },
  {
   "cell_type": "markdown",
   "metadata": {},
   "source": [
    "- a second version which suits with the object-based technique. The function **gridRaster** has been added as a method for the matplotlib.Axes object (*ax*). On this case, we also added the isovalue representation of the second simulation outcome."
   ]
  },
  {
   "cell_type": "code",
   "execution_count": null,
   "metadata": {
    "scrolled": true
   },
   "outputs": [],
   "source": [
    "fig, ax = gp.initGeographic()\n",
    "ax.gridRaster(mygrid, name=\"Simu.1\", flagLegend=True)\n",
    "ax.gridContour(mygrid, name=\"Simu.2\", levels=[-2,0,1,2,3,4,5,6,7,8], colors=\"yellow\", flagLegend=False)\n",
    "plt.show()"
   ]
  },
  {
   "cell_type": "markdown",
   "metadata": {},
   "source": [
    "- We can manipulate these options in a more *package* way. The function **gridGst** offers a combinaison of pre-defined representation modes that can be triggered in a single call. Conversely, some arguments need to be made more explict: this is the case, for example, of the name of the variables for the different representations."
   ]
  },
  {
   "cell_type": "code",
   "execution_count": null,
   "metadata": {
    "scrolled": false
   },
   "outputs": [],
   "source": [
    "fig, ax = gp.initGeographic()\n",
    "ax.gridGst(mygrid,name_raster=\"Simu.1\",name_contour=\"Simu.2\",levels=[-2,0,1,2,3,4,5,6,7,8])\n",
    "plt.show()"
   ]
  },
  {
   "cell_type": "markdown",
   "metadata": {},
   "source": [
    "- the most elaborate solution where the user does not have to call the relevant function according to the (gstlearn) object to be represented. The choice of the most adequate type of representation if performed based on the nature of the object to be represented."
   ]
  },
  {
   "cell_type": "code",
   "execution_count": null,
   "metadata": {},
   "outputs": [],
   "source": [
    "fig, ax = gp.initGeographic()\n",
    "ax.plotGst(mygrid,name_raster=\"Simu.1\",name_contour=\"Simu.2\",levels=[-2,0,1,2,3,4,5,6,7,8])\n",
    "plt.show()"
   ]
  },
  {
   "cell_type": "markdown",
   "metadata": {},
   "source": [
    "We can also overwrite the automatic representation choice, as it is demonstrated next. As a matter of fact, we wish to represent the grid nodes as a set of points, whose size will corespond to the first simulation and whose color will correspond to the second simulation.\n",
    "In this last representation, we will also overwrite the title, replacing the automatically generated title (gluing the variable names and their representation modes) by our favorite title. We also add some specific labels on axes."
   ]
  },
  {
   "cell_type": "code",
   "execution_count": null,
   "metadata": {
    "scrolled": true
   },
   "outputs": [],
   "source": [
    "fig, ax = gp.initGeographic()\n",
    "ax.plotGst(mygrid,asPoint=True,name_size=\"Simu.1\",name_color=\"Simu.2\")\n",
    "ax.decoration(title = \"Representing Grid nodes as Points\", xlabel=\"Easting\", ylabel=\"Northing\")"
   ]
  },
  {
   "cell_type": "markdown",
   "metadata": {},
   "source": [
    "We can create a specific ColorScale, containing a limited number of colors, and sampling a given reference Color Scale. \n",
    "\n",
    "For the next figure, we use the one defaulted by the system ('viridis') for sake of understanding. We simply reduce the number of colors"
   ]
  },
  {
   "cell_type": "code",
   "execution_count": null,
   "metadata": {
    "scrolled": true
   },
   "outputs": [],
   "source": [
    "cmap = gp.get_cmap(5,'viridis')\n",
    "fig, ax = gp.initGeographic()\n",
    "ax.plotGst(mygrid, cmap=cmap)\n",
    "ax.decoration(title=\"Non-conditional Simulation on Grid\")"
   ]
  },
  {
   "cell_type": "markdown",
   "metadata": {},
   "source": [
    "We can also change the reference color scale (using the one defaulted by the method get_cmap for example: 'gist rainbow') and increase the number of colors"
   ]
  },
  {
   "cell_type": "code",
   "execution_count": null,
   "metadata": {
    "scrolled": true
   },
   "outputs": [],
   "source": [
    "cmap = gp.get_cmap(100)\n",
    "fig, ax = gp.initGeographic()\n",
    "ax.plotGst(mygrid,cmap=cmap)\n",
    "ax.decoration(title=\"Non-conditional Simulation on Grid\")"
   ]
  },
  {
   "cell_type": "markdown",
   "metadata": {},
   "source": [
    "We have the same levels of abstraction as demonstrated for representing a grid, for objects such as histograms of the values collected in the a data base (e.g. a simulation outcome over the grid). "
   ]
  },
  {
   "cell_type": "markdown",
   "metadata": {},
   "source": [
    "- calling the relevant function explicitely. Note that the returned argument for a histogram is nothing but a matplotlib.Axes."
   ]
  },
  {
   "cell_type": "code",
   "execution_count": null,
   "metadata": {
    "scrolled": true
   },
   "outputs": [],
   "source": [
    "fig, ax = gp.init()\n",
    "gp.histGeneral(ax, mygrid,name=\"Simu.1\", bins=30, color='yellow', edgecolor=\"blue\")\n",
    "plt.show()"
   ]
  },
  {
   "cell_type": "markdown",
   "metadata": {},
   "source": [
    "- calling the relevant function in an object-based fashion"
   ]
  },
  {
   "cell_type": "code",
   "execution_count": null,
   "metadata": {
    "scrolled": false
   },
   "outputs": [],
   "source": [
    "fig, ax = gp.init()\n",
    "ax.histogram(mygrid,name=\"Simu.1\", bins=30, color='yellow', edgecolor=\"blue\")\n",
    "plt.show()"
   ]
  },
  {
   "cell_type": "markdown",
   "metadata": {},
   "source": [
    "- calling the data base generic function. Then, we need to specify the type of representation. We slightly changed the decoration of the figure."
   ]
  },
  {
   "cell_type": "code",
   "execution_count": null,
   "metadata": {},
   "outputs": [],
   "source": [
    "fig, ax = gp.init()\n",
    "ax.plotGst(mygrid, name=\"Simu.1\", asHisto=True, bins=30, color='yellow', edgecolor=\"blue\")\n",
    "ax.decoration(xlabel=\"Simulated Values\",ylabel=\"Count\",title=\"Histogram\")"
   ]
  },
  {
   "cell_type": "markdown",
   "metadata": {},
   "source": [
    "Representing a scatter plot between two variables stored on the same Db. Again we demonstrate two different ways of calling the functions."
   ]
  },
  {
   "cell_type": "code",
   "execution_count": null,
   "metadata": {
    "scrolled": true
   },
   "outputs": [],
   "source": [
    "fig, ax = gp.init()\n",
    "ax.correlation(mygrid,\"Simu.1\",\"Simu.2\", bins=50, cmin=1)\n",
    "ax.decoration(title=\"Scatter Plot between two simulations\")"
   ]
  },
  {
   "cell_type": "code",
   "execution_count": null,
   "metadata": {},
   "outputs": [],
   "source": [
    "fig, ax = gp.init()\n",
    "ax.plotGst(mygrid,asCorrel=True,namex=\"Simu.1\",namey=\"Simu.2\", bins=50, cmin=1)\n",
    "ax.decoration(title=\"Scatter Plot between two simulations\")"
   ]
  },
  {
   "cell_type": "markdown",
   "metadata": {},
   "source": [
    "### Set of Points and Polygon"
   ]
  },
  {
   "cell_type": "markdown",
   "metadata": {},
   "source": [
    "A set of points is sampled from the previous Grid and stored in a new Point Db. The number of samples if fixed to 1% of the number of grid nodes."
   ]
  },
  {
   "cell_type": "code",
   "execution_count": null,
   "metadata": {},
   "outputs": [],
   "source": [
    "mypoint = gl.Db()\n",
    "mypoint.resetSamplingDb(mygrid,0.01)\n",
    "mypoint.display()"
   ]
  },
  {
   "cell_type": "markdown",
   "metadata": {},
   "source": [
    "We create a polygon as the convex hull of the samples"
   ]
  },
  {
   "cell_type": "code",
   "execution_count": null,
   "metadata": {},
   "outputs": [],
   "source": [
    "mypoly = gl.Polygons.createFromDb(mypoint)"
   ]
  },
  {
   "cell_type": "markdown",
   "metadata": {},
   "source": [
    "We now display the points and the polygon on top of the grid: the overlay is ensured by using the argument 'ax'. Here, we can appreciate the use of the generic plotting function."
   ]
  },
  {
   "cell_type": "code",
   "execution_count": null,
   "metadata": {
    "scrolled": true
   },
   "outputs": [],
   "source": [
    "fig, ax = gp.initGeographic()\n",
    "ax.plotGst(mygrid)\n",
    "ax.plotGst(mypoly,flagFace=False, edgecolor='yellow', linewidth=2)\n",
    "ax.plotGst(mypoint,color=\"black\")"
   ]
  },
  {
   "cell_type": "markdown",
   "metadata": {},
   "source": [
    "### Rotated grid (angle = 20 degrees)"
   ]
  },
  {
   "cell_type": "markdown",
   "metadata": {},
   "source": [
    "We create the same grid as before but with a rotation of 20 degrees."
   ]
  },
  {
   "cell_type": "code",
   "execution_count": null,
   "metadata": {
    "scrolled": true
   },
   "outputs": [],
   "source": [
    "mygrid = gl.DbGrid.create(nx,dx,x0,[20,0])\n",
    "err = gl.simtub(None,mygrid,mymodel,nbsimu=2)\n",
    "fig, ax = gp.initGeographic()\n",
    "ax.plotGst(mygrid,name_raster=\"Simu.1\")"
   ]
  },
  {
   "cell_type": "markdown",
   "metadata": {},
   "source": [
    "A new set of Points is sampled from the rotated Grid. As the same seed is used, the ranks of the selected samples within the grid are the same. Furthermore, we generate the Polygon as the convex hull of the newly created Point db."
   ]
  },
  {
   "cell_type": "code",
   "execution_count": null,
   "metadata": {},
   "outputs": [],
   "source": [
    "mypoint = gl.Db()\n",
    "mypoint.resetSamplingDb(mygrid,0.01)\n",
    "mypoly = gl.Polygons.createFromDb(mypoint)"
   ]
  },
  {
   "cell_type": "markdown",
   "metadata": {},
   "source": [
    "We represent again the three components (grid, points and polygon) on the same view"
   ]
  },
  {
   "cell_type": "code",
   "execution_count": null,
   "metadata": {
    "scrolled": false
   },
   "outputs": [],
   "source": [
    "fig, ax = gp.initGeographic()\n",
    "ax.plotGst(mygrid)\n",
    "ax.plotGst(mypoly,flagFace=False,edgecolor='yellow')\n",
    "ax.plotGst(mypoint,color=\"black\")"
   ]
  },
  {
   "cell_type": "markdown",
   "metadata": {},
   "source": [
    "Let us now add a selection in order to restrict the previous representation to the only non-masked samples"
   ]
  },
  {
   "cell_type": "code",
   "execution_count": null,
   "metadata": {},
   "outputs": [],
   "source": [
    "tab = mygrid.getColumn(\"x1\")\n",
    "sel = (np.asarray(tab) < 0).astype(float)\n",
    "mygrid.addSelection(tuple(sel),'sel')\n",
    "\n",
    "fig, ax = gp.initGeographic()\n",
    "ax.plotGst(mygrid,name_raster=\"Simu.1\",usesel=True)"
   ]
  },
  {
   "cell_type": "markdown",
   "metadata": {},
   "source": [
    "## Share legend between two plots\n",
    "This paragraph is meant to present the possibility of splitting a figure in two scenes, to represent a grid in each scene (for example) and share the (same) color scale for the two scenes."
   ]
  },
  {
   "cell_type": "code",
   "execution_count": null,
   "metadata": {},
   "outputs": [],
   "source": [
    "fig = plt.figure(figsize=(20,6))\n",
    "ax1 = fig.add_subplot(1,2,1)\n",
    "ax1.plotGst(mygrid,name_raster=\"Simu.1\", usesel=False, flagLegendRaster = False)\n",
    "ax2 = fig.add_subplot(1,2,2)\n",
    "ax2.plotGst(mygrid,name_raster=\"Simu.2\", usesel=False, flagLegendRaster = False)\n",
    "\n",
    "fig.subplots_adjust(right=0.7)\n",
    "cbar_ax = fig.add_axes([0.75, 0.1, 0.02, 0.75])\n",
    "\n",
    "im = ax.collections[0] # get mappable described by the colorbar\n",
    "err = fig.colorbar(im, cax = cbar_ax)"
   ]
  },
  {
   "cell_type": "markdown",
   "metadata": {},
   "source": [
    "## Display points with fixed colors\n",
    "\n",
    "In this paragraph, we wish to display sample points with given colors. "
   ]
  },
  {
   "cell_type": "code",
   "execution_count": null,
   "metadata": {},
   "outputs": [],
   "source": [
    "tab = [1., 1., 1., 2., 2., 3., 3., 3., 5.]\n",
    "dat1 = gl.Db.createFromSamples(3, gl.ELoadBy.SAMPLE, tab, [\"x\",\"y\",\"z\"], [\"x1\",\"x2\",\"z\"])\n",
    "dbfmt = gl.DbStringFormat()\n",
    "dbfmt.setFlags(flag_resume=True, flag_array=True)\n",
    "dat1.display(dbfmt)"
   ]
  },
  {
   "cell_type": "markdown",
   "metadata": {},
   "source": [
    "We represent the samples without using any pre-specified color map. The system uses the default color scale and assigns the lowest value to be represented to the first color and the largest value to the last color.\n",
    "For all subsequent graphics, the dimensions of the non-geographical plots is fixed."
   ]
  },
  {
   "cell_type": "code",
   "execution_count": null,
   "metadata": {
    "scrolled": true
   },
   "outputs": [],
   "source": [
    "gp.setDefaultGeographic(dims=[5,4])\n",
    "fig, ax = gp.initGeographic()\n",
    "ax.plotGst(dat1,name_color=\"z\",size=200)"
   ]
  },
  {
   "cell_type": "markdown",
   "metadata": {},
   "source": [
    "Representing using a given color map (based on few colors [5]). The color scale is now discrete but the system still assigns the lowest value (i.e. 1) to the first color and the largest value (i.e. 5) to the last color"
   ]
  },
  {
   "cell_type": "code",
   "execution_count": null,
   "metadata": {},
   "outputs": [],
   "source": [
    "ncol = 5\n",
    "cmap = gp.get_cmap(ncol)\n",
    "fig, ax = gp.initGeographic()\n",
    "ax.plotGst(dat1,name_color=\"z\",size=200,cmap=cmap)"
   ]
  },
  {
   "cell_type": "markdown",
   "metadata": {},
   "source": [
    "We use a new Db where the values at first sample has been modified (from 1 to 4) while the other have been left unchanged. We use the same color scale as before. Again the lowest value (i.e. 3) is assigned to the first color and the largest value (i.e. 5) to the last color."
   ]
  },
  {
   "cell_type": "code",
   "execution_count": null,
   "metadata": {
    "scrolled": true
   },
   "outputs": [],
   "source": [
    "tab = [1., 1., 4., 2., 2., 3., 3., 3., 5.]\n",
    "dat2 = gl.Db.createFromSamples(3, gl.ELoadBy.SAMPLE, tab, [\"x\",\"y\",\"z\"], [\"x1\",\"x2\",\"z\"])\n",
    "\n",
    "fig, ax = gp.initGeographic()\n",
    "ax.plotGst(dat2,name_color=\"z\",size=200,cmap=cmap)"
   ]
  },
  {
   "cell_type": "markdown",
   "metadata": {},
   "source": [
    "Default dimensions for Geographical plots are set back to larger dimensions for subseauqnt graphics"
   ]
  },
  {
   "cell_type": "code",
   "execution_count": null,
   "metadata": {},
   "outputs": [],
   "source": [
    "gp.setDefaultGeographic(dims=[8,8])"
   ]
  },
  {
   "cell_type": "markdown",
   "metadata": {},
   "source": [
    "# Superimposing figures"
   ]
  },
  {
   "cell_type": "markdown",
   "metadata": {},
   "source": [
    "In this section, we demonstrate the possibilities offered by the graphics for working with multiple figures and overlaying graphics. This is described through the use of variograms and models.\n",
    "For this reason we consider the two non-conditional simulations created earllier on the existing grid. We calculate the simple and cross variograms along the two main axes of the grid and fit a model automatically."
   ]
  },
  {
   "cell_type": "code",
   "execution_count": null,
   "metadata": {},
   "outputs": [],
   "source": [
    "varioparam = gl.VarioParam.createMultipleFromGrid(npas=10)\n",
    "vario = gl.Vario(varioparam, mygrid)\n",
    "err = vario.compute(gl.ECalcVario.VARIOGRAM)\n",
    "\n",
    "model = gl.Model()\n",
    "err = model.fit(vario,[gl.ECov.CUBIC])"
   ]
  },
  {
   "cell_type": "markdown",
   "metadata": {},
   "source": [
    "### Several ways for displaying experimental variograms"
   ]
  },
  {
   "cell_type": "markdown",
   "metadata": {},
   "source": [
    "In the next graphic, we produce the simple variogram of the first variable calculated in the first direction"
   ]
  },
  {
   "cell_type": "code",
   "execution_count": null,
   "metadata": {
    "scrolled": true
   },
   "outputs": [],
   "source": [
    "fig, ax = gp.init()\n",
    "ax.plotGst(vario)\n",
    "ax.geometry(dims=[6,5])\n",
    "ax.decoration(title=\"First Variable - First Direction\")"
   ]
  },
  {
   "cell_type": "markdown",
   "metadata": {},
   "source": [
    "In the next graphic, we produce a single figure where the variograms of the first variable calculated in the first direction (black) and the second direction (red) are overlaid. The overlay is performed manually."
   ]
  },
  {
   "cell_type": "code",
   "execution_count": null,
   "metadata": {
    "scrolled": true
   },
   "outputs": [],
   "source": [
    "fig, ax = gp.init()\n",
    "ax.plotGst(vario,color=\"black\")\n",
    "ax.plotGst(vario,idir=1, color='red')\n",
    "ax.decoration(title=\"First Variable - Two directions\")\n",
    "ax.geometry(dims=[6,5])"
   ]
  },
  {
   "cell_type": "markdown",
   "metadata": {},
   "source": [
    "In the next graphic, we produce a single graphic where the cross-variograms between first and second variables are displayed for all directions. The colors are extracted from the Color Map provided as argument."
   ]
  },
  {
   "cell_type": "code",
   "execution_count": null,
   "metadata": {
    "scrolled": true
   },
   "outputs": [],
   "source": [
    "fig, ax = gp.init()\n",
    "ax.plotGst(vario,ivar=1,jvar=0,idir=-1)\n",
    "ax.decoration(title=\"Cross-variogram - Two directions\")\n",
    "ax.geometry(dims=[6,5])"
   ]
  },
  {
   "cell_type": "markdown",
   "metadata": {},
   "source": [
    "In the next figure, we draw the first direction and overlay the second direction (on purpose using two orders). Moreover we also change the dimensions of the plot."
   ]
  },
  {
   "cell_type": "code",
   "execution_count": null,
   "metadata": {},
   "outputs": [],
   "source": [
    "fig, ax = gp.init()\n",
    "ax.plotGst(vario,idir=0,cmap=cmap)\n",
    "ax.plotGst(vario,idir=1)\n",
    "ax.decoration(title=\"Overlay test\")\n",
    "ax.geometry(dims=[4,3])"
   ]
  },
  {
   "cell_type": "markdown",
   "metadata": {},
   "source": [
    "All graphic representations that were produced up to now were essentially performed with either a single view (or Axes). The exercise performed earlier with two view in the same figure was handled by the user, calling **subplots** facility explicaitly.\n",
    "\n",
    "In the next examples, we will directly consider a figure consituted of many views. This is the case of the multivariate variograms and/or models. In other words, we wish to call the graphic representation, providing a single multivariate variogram and let the facility create all the necessary subplots. Moreover, we want to be able to consider this set of subplots (containing the experimental variograms for example) and overlay the model.\n",
    "\n",
    "This requires using the other argument (**fig**) returned by the graphic initialization function (**gp.init**) which is called passing the expected number of rows and columns to be present in the figure. In our case, as the variogram is calculated for 2 variables, the figure should contain 2 rows and 2 columns."
   ]
  },
  {
   "cell_type": "markdown",
   "metadata": {},
   "source": [
    "Representing all simple and cross variograms for all directions. "
   ]
  },
  {
   "cell_type": "code",
   "execution_count": null,
   "metadata": {
    "scrolled": true
   },
   "outputs": [],
   "source": [
    "fig, axs = gp.init(2,2)\n",
    "fig.vario(vario,ivar=-1,jvar=-1,idir=-1,cmap=cmap)\n",
    "fig.decoration(title=\"Simple and Cross Variograms in all directions\")\n",
    "fig.geometry(dims=[6,5])"
   ]
  },
  {
   "cell_type": "markdown",
   "metadata": {},
   "source": [
    "### Several ways for representing the Model"
   ]
  },
  {
   "cell_type": "markdown",
   "metadata": {},
   "source": [
    "Represent the Model calculated for the second variable. If the Model is not isotropic, the plot should differ per direction: as direction has not been mentionned, the first direction (of the geographic sysrtem) is used by default."
   ]
  },
  {
   "cell_type": "code",
   "execution_count": null,
   "metadata": {
    "scrolled": true
   },
   "outputs": [],
   "source": [
    "fig, ax = gp.init()\n",
    "ax.plotGst(model,ivar=1,jvar=1)\n",
    "ax.decoration(title=\"Model for the Second Variable in First Direction\")\n",
    "ax.geometry(dims=[6,5])"
   ]
  },
  {
   "cell_type": "markdown",
   "metadata": {},
   "source": [
    "Representing all simple and cross variograms together with the fitted model for the first direction. This is directly provided by the function varmod."
   ]
  },
  {
   "cell_type": "code",
   "execution_count": null,
   "metadata": {
    "scrolled": false
   },
   "outputs": [],
   "source": [
    "fig, axs = gp.init(2,2)\n",
    "fig.varmod(vario=vario, model=model, cmap=cmap)\n",
    "fig.decoration(title=\"All variograms in First Direction\")\n",
    "fig.geometry(dims=[6,5])"
   ]
  },
  {
   "cell_type": "markdown",
   "metadata": {},
   "source": [
    "### Testing figure Overlay"
   ]
  },
  {
   "cell_type": "markdown",
   "metadata": {},
   "source": [
    "The next figure is meant to demonstrate the overlay possibilities. We first represent the experimental variograms for all variable (in the first direction only to be legible). Then we overlay the model ... only over the experimental simple variogram of the second variable (in dashed blue)."
   ]
  },
  {
   "cell_type": "code",
   "execution_count": null,
   "metadata": {
    "scrolled": false
   },
   "outputs": [],
   "source": [
    "fig, axs = gp.init(2,2)\n",
    "fig.vario(vario=vario,idir=0,ivar=-1,jvar=-1,cmap=cmap)\n",
    "axs[1,1].plotGst(model,ivar=1,jvar=1,codir=vario.getCodirs(0),hmax = vario.getHmax(),\n",
    "               linestyle = 'dashed', color='blue')\n",
    "fig.decoration(title=\"Overlay test\")\n",
    "fig.geometry(dims=[6,5])"
   ]
  },
  {
   "cell_type": "code",
   "execution_count": null,
   "metadata": {},
   "outputs": [],
   "source": []
  }
 ],
 "metadata": {
  "kernelspec": {
   "display_name": "Python 3 (ipykernel)",
   "language": "python",
   "name": "python3"
  },
  "language_info": {
   "codemirror_mode": {
    "name": "ipython",
    "version": 3
   },
   "file_extension": ".py",
   "mimetype": "text/x-python",
   "name": "python",
   "nbconvert_exporter": "python",
   "pygments_lexer": "ipython3",
   "version": "3.10.5"
  }
 },
 "nbformat": 4,
 "nbformat_minor": 4
}
