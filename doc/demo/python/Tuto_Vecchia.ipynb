{
 "cells": [
  {
   "cell_type": "markdown",
   "id": "8caa4279-c036-48f4-a1a5-4d51a6e17c5b",
   "metadata": {},
   "source": [
    "# Vecchia approximation"
   ]
  },
  {
   "cell_type": "code",
   "execution_count": null,
   "id": "ba593ccb-a5ec-4f10-9c1f-bd7081dc8c5c",
   "metadata": {},
   "outputs": [],
   "source": [
    "import gstlearn as gl\n",
    "import gstlearn.plot as gp\n",
    "import numpy as np\n",
    "\n",
    "ndim = 2\n",
    "err = gl.defineDefaultSpace(gl.ESpaceType.RN, ndim)"
   ]
  },
  {
   "cell_type": "markdown",
   "id": "6c6e0753-ffee-43ee-9732-b3306ae92c2c",
   "metadata": {},
   "source": [
    "This script is meant to check Kriging using Vecchia approximation. It provides a comparison with Kriging using a traditional\n",
    "approach."
   ]
  },
  {
   "cell_type": "markdown",
   "id": "f683f6eb-5e69-45b0-8a5d-943063876d68",
   "metadata": {},
   "source": [
    "A Model is created which:\n",
    "- allows to simulate values at the conditioning data points\n",
    "- is used for subsequent Kriging operations"
   ]
  },
  {
   "cell_type": "code",
   "execution_count": null,
   "id": "e059e953-4f72-4bb5-99f0-f8f22a75453e",
   "metadata": {},
   "outputs": [],
   "source": [
    "range = 0.3\n",
    "sill = 12.\n",
    "model = gl.Model.createFromParam(gl.ECov.MATERN, range=range, sill=sill,param = 1)"
   ]
  },
  {
   "cell_type": "markdown",
   "id": "d18391fb-561f-40cc-9170-7e2d8df6072b",
   "metadata": {},
   "source": [
    "The set of conditioning data points is generated at random into the 1 by 1 square. Simulation at the conditioning data points using the Turning Bands method"
   ]
  },
  {
   "cell_type": "code",
   "execution_count": null,
   "id": "9fd6f8d6-b5bb-4b80-80a8-f230bec406b2",
   "metadata": {},
   "outputs": [],
   "source": [
    "ndat = 100\n",
    "data = gl.Db.createFillRandom(ndat, ndim, 0)\n",
    "\n",
    "err = gl.simtub(None, data, model)"
   ]
  },
  {
   "cell_type": "markdown",
   "id": "65284a4b-1ada-41e2-a80a-31ae13929cc8",
   "metadata": {},
   "source": [
    "A Grid is created which covers the area of the conditioning data set."
   ]
  },
  {
   "cell_type": "code",
   "execution_count": null,
   "id": "7bad6ff0-cc1b-4df8-bdeb-5f679283f924",
   "metadata": {},
   "outputs": [],
   "source": [
    "nmesh = 100\n",
    "grid = gl.DbGrid.create([nmesh, nmesh], dx=[1./nmesh, 1./nmesh])"
   ]
  },
  {
   "cell_type": "markdown",
   "id": "85add152-1ccc-433c-bc76-e0547ce69000",
   "metadata": {},
   "source": [
    "## Standard Kriging"
   ]
  },
  {
   "cell_type": "markdown",
   "id": "ebe403da-196d-4df7-8fb8-2a40cf976582",
   "metadata": {},
   "source": [
    "The standard Kriging requires the definition of a Neighborhood. Due to the reasonably small number of data, a **Unique** neighborhood has been chosen."
   ]
  },
  {
   "cell_type": "code",
   "execution_count": null,
   "id": "b02c8c69-a241-4126-82d3-3ce3bc2ad5d6",
   "metadata": {},
   "outputs": [],
   "source": [
    "neighU = gl.NeighUnique.create(ndim)"
   ]
  },
  {
   "cell_type": "code",
   "execution_count": null,
   "id": "aeae192c-cb83-461f-9b5c-09d0e6f3d24d",
   "metadata": {},
   "outputs": [],
   "source": [
    "err = gl.kriging(data, grid, model, neighU)"
   ]
  },
  {
   "cell_type": "markdown",
   "id": "e563797a-8932-4aac-99c8-2e9f46c21905",
   "metadata": {},
   "source": [
    "Display the estiamtion together with the conditioning information."
   ]
  },
  {
   "cell_type": "code",
   "execution_count": null,
   "id": "1bded31a-ca89-4857-8822-f7356383efe8",
   "metadata": {
    "scrolled": true
   },
   "outputs": [],
   "source": [
    "ax = gp.raster(grid, name=\"Kriging.Simu.estim\")\n",
    "ax = gp.symbol(data, nameSize=\"Simu\", c=\"black\")"
   ]
  },
  {
   "cell_type": "markdown",
   "id": "18da0a1f-3e03-410c-9c8f-0d798d73680c",
   "metadata": {},
   "source": [
    "## Kriging with Vecchia approximation"
   ]
  },
  {
   "cell_type": "markdown",
   "id": "7002c09a-94c4-41f0-8b7e-b3175d2dc8dc",
   "metadata": {},
   "source": [
    "Now we can also perform the estimation by Kriging using the Vecchia approximation.\n",
    "We do not need any neighborhood definition now; we must simply define the number of already estimated samples to be considered at each step."
   ]
  },
  {
   "cell_type": "code",
   "execution_count": null,
   "id": "783c1688-4c2f-43a7-9af5-486a56fc4d1c",
   "metadata": {},
   "outputs": [],
   "source": [
    "nb_neigh = 10"
   ]
  },
  {
   "cell_type": "code",
   "execution_count": null,
   "id": "72817530-1709-475b-a123-896c5d03bbb3",
   "metadata": {
    "scrolled": true
   },
   "outputs": [],
   "source": [
    "err = gl.krigingVecchia(data, grid, model, nb_neigh)"
   ]
  },
  {
   "cell_type": "code",
   "execution_count": null,
   "id": "289ef5a3-9de9-4a00-9b04-2a09ebab3cdc",
   "metadata": {},
   "outputs": [],
   "source": [
    "ax = gp.raster(grid, name=\"Vecchia.estim\")\n",
    "ax = gp.symbol(data, nameSize=\"Simu\", c=\"black\")"
   ]
  },
  {
   "cell_type": "markdown",
   "id": "595c5b97-a364-4854-8ef3-d0e485a5def6",
   "metadata": {},
   "source": [
    "Compare the two estimators in a scatter plot"
   ]
  },
  {
   "cell_type": "code",
   "execution_count": null,
   "id": "3adf1335-b90e-47d0-b4a2-3add7e54c0c4",
   "metadata": {
    "scrolled": true
   },
   "outputs": [],
   "source": [
    "ax = gp.correlation(grid, namex=\"Kriging.Simu.estim\", namey=\"Vecchia.estim\", bins=100)"
   ]
  },
  {
   "cell_type": "markdown",
   "id": "0c917bf7-8e33-4fad-93f7-f6545e49cb88",
   "metadata": {},
   "source": [
    "## Large data set"
   ]
  },
  {
   "cell_type": "markdown",
   "id": "59c5604b-73d1-42e0-9bc2-749290af1500",
   "metadata": {},
   "source": [
    "In this paragraph, we consider a very large data set (10000 samples). The traditional Kriging cannot be applied, at least using a Unique Neighborhood. The interesting property is to check that the Kriging using Vecchia approximation (with a small number of already processed samples) is still active and give reasonable results."
   ]
  },
  {
   "cell_type": "code",
   "execution_count": null,
   "id": "c4f2e4c3-dd6a-43ce-8386-60d0d5af28cd",
   "metadata": {},
   "outputs": [],
   "source": [
    "ndat = 10000\n",
    "data = gl.Db.createFillRandom(ndat, ndim, 0)\n",
    "nmesh = 100\n",
    "grid = gl.DbGrid.create([nmesh, nmesh], dx=[1./nmesh, 1./nmesh])\n",
    "\n",
    "err = gl.simtub(None, data, model,nbtuba= 4000)"
   ]
  },
  {
   "cell_type": "code",
   "execution_count": null,
   "id": "8243f5d6-2421-4a15-ad3f-0a220487b4b5",
   "metadata": {},
   "outputs": [],
   "source": [
    "nb_neigh = 20\n",
    "err = gl.krigingVecchia(data, grid, model, nb_neigh)"
   ]
  },
  {
   "cell_type": "code",
   "execution_count": null,
   "id": "8f6b09b7-0ea2-4523-9e0a-51fe2e95a9ed",
   "metadata": {},
   "outputs": [],
   "source": [
    "ax = gp.raster(grid, name=\"Vecchia.estim\")"
   ]
  },
  {
   "cell_type": "code",
   "execution_count": null,
   "id": "c466ac26-39d4-4662-9180-2886ab540224",
   "metadata": {},
   "outputs": [],
   "source": [
    "ax = gp.raster(grid, name=\"Vecchia.estim\")\n",
    "ax = gp.symbol(data, nameSize=\"Simu\", c=\"black\", sizmax=0.01)"
   ]
  }
 ],
 "metadata": {
  "kernelspec": {
   "display_name": "Python 3",
   "language": "python",
   "name": "python3"
  },
  "language_info": {
   "codemirror_mode": {
    "name": "ipython",
    "version": 3
   },
   "file_extension": ".py",
   "mimetype": "text/x-python",
   "name": "python",
   "nbconvert_exporter": "python",
   "pygments_lexer": "ipython3",
   "version": "3.10.12"
  }
 },
 "nbformat": 4,
 "nbformat_minor": 5
}
