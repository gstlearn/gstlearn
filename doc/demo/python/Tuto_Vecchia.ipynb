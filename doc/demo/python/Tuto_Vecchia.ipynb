{
 "cells": [
  {
   "cell_type": "markdown",
   "id": "6b64c63f",
   "metadata": {},
   "source": [
    "# Vecchia approximation"
   ]
  },
  {
   "cell_type": "code",
   "execution_count": null,
   "id": "88ca03f3",
   "metadata": {},
   "outputs": [],
   "source": [
    "import gstlearn as gl\n",
    "import gstlearn.plot as gp\n",
    "import numpy as np\n",
    "\n",
    "ndim = 2\n",
    "err = gl.defineDefaultSpace(gl.ESpaceType.RN, ndim)"
   ]
  },
  {
   "cell_type": "markdown",
   "id": "c0752ea9",
   "metadata": {},
   "source": [
    "This script is meant to check Kriging using Vecchia approximation. It provides a comparison with Kriging using a traditional\n",
    "approach."
   ]
  },
  {
   "cell_type": "markdown",
   "id": "62c8821f",
   "metadata": {},
   "source": [
    "A Model is created which:\n",
    "- allows to simulate values at the conditioning data points\n",
    "- is used for subsequent Kriging operations"
   ]
  },
  {
   "cell_type": "code",
   "execution_count": null,
   "id": "4c5dadc1",
   "metadata": {},
   "outputs": [],
   "source": [
    "range = 0.3\n",
    "sill = 12.\n",
    "model = gl.Model.createFromParam(gl.ECov.MATERN, range=range, sill=sill,param = 1)"
   ]
  },
  {
   "cell_type": "markdown",
   "id": "96116074",
   "metadata": {},
   "source": [
    "The set of conditioning data points is generated at random into the 1 by 1 square. Simulation at the conditioning data points using the Turning Bands method"
   ]
  },
  {
   "cell_type": "code",
   "execution_count": null,
   "id": "78228acf",
   "metadata": {},
   "outputs": [],
   "source": [
    "ndat = 100\n",
    "data = gl.Db.createFillRandom(ndat, ndim, 0)\n",
    "\n",
    "err = gl.simtub(None, data, model)"
   ]
  },
  {
   "cell_type": "markdown",
   "id": "d16ee818",
   "metadata": {},
   "source": [
    "A Grid is created which covers the area of the conditioning data set."
   ]
  },
  {
   "cell_type": "code",
   "execution_count": null,
   "id": "14bc1a6d",
   "metadata": {},
   "outputs": [],
   "source": [
    "nmesh = 100\n",
    "grid = gl.DbGrid.create([nmesh, nmesh], dx=[1./nmesh, 1./nmesh])"
   ]
  },
  {
   "cell_type": "markdown",
   "id": "5012402c",
   "metadata": {},
   "source": [
    "## Standard Kriging"
   ]
  },
  {
   "cell_type": "markdown",
   "id": "b2b0d4cb",
   "metadata": {},
   "source": [
    "The standard Kriging requires the definition of a Neighborhood. Due to the reasonably small number of data, a **Unique** neighborhood has been chosen."
   ]
  },
  {
   "cell_type": "code",
   "execution_count": null,
   "id": "6cf6a3d5",
   "metadata": {},
   "outputs": [],
   "source": [
    "neighU = gl.NeighUnique.create(ndim)"
   ]
  },
  {
   "cell_type": "code",
   "execution_count": null,
   "id": "1f051591",
   "metadata": {},
   "outputs": [],
   "source": [
    "err = gl.kriging(data, grid, model, neighU)"
   ]
  },
  {
   "cell_type": "markdown",
   "id": "cbddd74e",
   "metadata": {},
   "source": [
    "Display the estiamtion together with the conditioning information."
   ]
  },
  {
   "cell_type": "code",
   "execution_count": null,
   "id": "ab9b639f",
   "metadata": {
    "scrolled": true
   },
   "outputs": [],
   "source": [
    "ax = gp.raster(grid, name=\"Kriging.Simu.estim\")\n",
    "ax = gp.symbol(data, nameSize=\"Simu\", c=\"black\")"
   ]
  },
  {
   "cell_type": "markdown",
   "id": "a482c021",
   "metadata": {},
   "source": [
    "## Kriging with Vecchia approximation"
   ]
  },
  {
   "cell_type": "markdown",
   "id": "9d3921d4",
   "metadata": {},
   "source": [
    "Now we can also perform the estimation by Kriging using the Vecchia approximation.\n",
    "We do not need any neighborhood definition now; we must simply define the number of already estimated samples to be considered at each step."
   ]
  },
  {
   "cell_type": "code",
   "execution_count": null,
   "id": "3e664648",
   "metadata": {},
   "outputs": [],
   "source": [
    "nb_neigh = 10"
   ]
  },
  {
   "cell_type": "code",
   "execution_count": null,
   "id": "e82221a5",
   "metadata": {
    "scrolled": true
   },
   "outputs": [],
   "source": [
    "err = gl.krigingVecchia(data, grid, model, nb_neigh)"
   ]
  },
  {
   "cell_type": "code",
   "execution_count": null,
   "id": "2ebe927e",
   "metadata": {},
   "outputs": [],
   "source": [
    "ax = gp.raster(grid, name=\"Vecchia.estim\")\n",
    "ax = gp.symbol(data, nameSize=\"Simu\", c=\"black\")"
   ]
  },
  {
   "cell_type": "markdown",
   "id": "a1b78798",
   "metadata": {},
   "source": [
    "Compare the two estimators in a scatter plot"
   ]
  },
  {
   "cell_type": "code",
   "execution_count": null,
   "id": "9126687a",
   "metadata": {
    "scrolled": true
   },
   "outputs": [],
   "source": [
    "ax = gp.correlation(grid, namex=\"Kriging.Simu.estim\", namey=\"Vecchia.estim\", bins=100)"
   ]
  },
  {
   "cell_type": "markdown",
   "id": "4d9b1b8a",
   "metadata": {},
   "source": [
    "## Large data set"
   ]
  },
  {
   "cell_type": "markdown",
   "id": "5b4c0041",
   "metadata": {},
   "source": [
    "In this paragraph, we consider a very large data set (10000 samples). The traditional Kriging cannot be applied, at least using a Unique Neighborhood. The interesting property is to check that the Kriging using Vecchia approximation (with a small number of already processed samples) is still active and give reasonable results."
   ]
  },
  {
   "cell_type": "code",
   "execution_count": null,
   "id": "8ce2fc72",
   "metadata": {},
   "outputs": [],
   "source": [
    "ndat = 10000\n",
    "data = gl.Db.createFillRandom(ndat, ndim, 0)\n",
    "nmesh = 100\n",
    "grid = gl.DbGrid.create([nmesh, nmesh], dx=[1./nmesh, 1./nmesh])\n",
    "\n",
    "err = gl.simtub(None, data, model,nbtuba= 4000)"
   ]
  },
  {
   "cell_type": "code",
   "execution_count": null,
   "id": "e5762862",
   "metadata": {},
   "outputs": [],
   "source": [
    "nb_neigh = 20\n",
    "err = gl.krigingVecchia(data, grid, model, nb_neigh)"
   ]
  },
  {
   "cell_type": "code",
   "execution_count": null,
   "id": "b4333741",
   "metadata": {},
   "outputs": [],
   "source": [
    "ax = gp.raster(grid, name=\"Vecchia.estim\")"
   ]
  },
  {
   "cell_type": "code",
   "execution_count": null,
   "id": "481300d7",
   "metadata": {},
   "outputs": [],
   "source": [
    "ax = gp.raster(grid, name=\"Vecchia.estim\")\n",
    "ax = gp.symbol(data, nameSize=\"Simu\", c=\"black\", sizmax=0.01)"
   ]
  }
 ],
 "metadata": {
  "kernelspec": {
   "display_name": "Python 3 (ipykernel)",
   "language": "python",
   "name": "python3"
  },
  "language_info": {
   "codemirror_mode": {
    "name": "ipython",
    "version": 3
   },
   "file_extension": ".py",
   "mimetype": "text/x-python",
   "name": "python",
   "nbconvert_exporter": "python",
   "pygments_lexer": "ipython3",
   "version": "3.10.5"
  }
 },
 "nbformat": 4,
 "nbformat_minor": 5
}
