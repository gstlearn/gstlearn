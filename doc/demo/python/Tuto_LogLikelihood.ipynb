{
 "cells": [
  {
   "cell_type": "code",
   "execution_count": null,
   "id": "a539facc",
   "metadata": {},
   "outputs": [],
   "source": [
    "import gstlearn as gl\n",
    "import gstlearn.plot as gp\n",
    "import gstlearn.document as gdoc\n",
    "import numpy as np\n",
    "import matplotlib.pyplot as plt\n",
    "\n",
    "gdoc.setNoScroll()"
   ]
  },
  {
   "cell_type": "markdown",
   "id": "4d6b7027",
   "metadata": {},
   "source": [
    "# Constraints on drifts"
   ]
  },
  {
   "cell_type": "markdown",
   "id": "331f2fc9",
   "metadata": {},
   "source": [
    "<!-- SUMMARY: Estimation and Simulations performed in the framework of SPDE -->\n",
    "\n",
    "<!-- CATEGORY: SPDE -->"
   ]
  },
  {
   "cell_type": "markdown",
   "id": "0b42d003",
   "metadata": {},
   "source": [
    "This tutorial has two essential taks:\n",
    "\n",
    "- cross-check the calculation of the Log-Likelihood (by hand or with gstlearn)\n",
    "- design the definition pattern for the linkage of the drift functions in the multivariable framework"
   ]
  },
  {
   "cell_type": "markdown",
   "id": "e00785fe",
   "metadata": {},
   "source": [
    "## Parameters"
   ]
  },
  {
   "cell_type": "code",
   "execution_count": null,
   "id": "b8fd372d",
   "metadata": {},
   "outputs": [],
   "source": [
    "# Data\n",
    "np.random.seed(123)\n",
    "ndat = 100\n",
    "ndim = 2\n",
    "\n",
    "# Model\n",
    "rangev = 0.2\n",
    "sill = 1.\n",
    "nugget = 0.1"
   ]
  },
  {
   "cell_type": "code",
   "execution_count": null,
   "id": "f7008c68",
   "metadata": {},
   "outputs": [],
   "source": [
    "# Z : vecteur des données\n",
    "# Covmat : matrice de covariance\n",
    "# drift : matrice de drift\n",
    "# A et c permettent d'encoder les contraintes sur le vecteur des coefficients beta :\n",
    "# sous la forme A * beta = c\n",
    "def estimCoeff(Z,Covmat,drift,A=None,c=None):\n",
    "    if A is not None and c is not None: \n",
    "        if A.shape[0]!= len(c) or  A.shape[1]!=drift.shape[1]:\n",
    "            return np.nan\n",
    "    \n",
    "    invcovmat = np.linalg.inv(Covmat)\n",
    "    invu = np.linalg.inv(drift.T@invcovmat@drift)\n",
    "    estimatedCoeffs = invu@drift.T@invcovmat@Z\n",
    "    \n",
    "    if A is None or c is None :\n",
    "        return estimatedCoeffs\n",
    "    \n",
    "    temp = invu@A.T@np.linalg.inv(A@invu@A.T)\n",
    "    return estimatedCoeffs - temp@A@estimatedCoeffs+temp@c\n",
    "\n",
    "def computeLogLikelihoodByHand(Z,Covmat,drift,coeffs=None,A=None,c=None):\n",
    "    if coeffs is None:\n",
    "        coeffs = estimCoeff(Z,Covmat,drift,A,c)\n",
    "    Zc = Z - coeffs@drift.T\n",
    "    cholcovmat = np.linalg.cholesky(Covmat)\n",
    "    Zcstd = np.linalg.solve(cholcovmat,Zc) \n",
    "    quad = Zcstd.T@Zcstd\n",
    "    logdet = 2. * np.sum(np.log(np.diag(cholcovmat)))\n",
    "    return -0.5 * (quad + logdet + len(Z) * np.log(2.* np.pi))\n",
    "\n",
    "def printCoeffs(title, coeffs, ndec=6):\n",
    "    print(title + \" : \" + f\"{str(np.round(coeffs,ndec))}\")"
   ]
  },
  {
   "cell_type": "markdown",
   "id": "f6792a54",
   "metadata": {},
   "source": [
    "## Monovariate case"
   ]
  },
  {
   "cell_type": "markdown",
   "id": "94242b2a",
   "metadata": {},
   "source": [
    "### Model"
   ]
  },
  {
   "cell_type": "code",
   "execution_count": null,
   "id": "b04e23a0",
   "metadata": {},
   "outputs": [],
   "source": [
    "model = gl.Model.createFromParam(gl.ECov.MATERN,param=1,range=rangev,sill=sill)\n",
    "model.addCovFromParam(gl.ECov.NUGGET,sill=nugget)\n",
    "model"
   ]
  },
  {
   "cell_type": "markdown",
   "id": "e28e9947",
   "metadata": {},
   "source": [
    "### Data"
   ]
  },
  {
   "cell_type": "code",
   "execution_count": null,
   "id": "05da8b46",
   "metadata": {},
   "outputs": [],
   "source": [
    "dat = gl.Db.createFillRandom(ndat, ndim, 0)\n",
    "dat[\"drift\"] = dat[\"x-1\"]\n",
    "gl.simtub(None,dat,model)\n",
    "dat"
   ]
  },
  {
   "cell_type": "code",
   "execution_count": null,
   "id": "e5ee12bd",
   "metadata": {},
   "outputs": [],
   "source": [
    "truecoeffs = [0.5]\n",
    "dat[\"Simu\"] = truecoeffs[0] + dat[\"Simu\"]\n",
    "#dat.setLocator(\"drift\",gl.ELoc.F)\n",
    "dat"
   ]
  },
  {
   "cell_type": "code",
   "execution_count": null,
   "id": "4815115e",
   "metadata": {},
   "outputs": [],
   "source": [
    "model.setDriftIRF(0,0)\n",
    "model"
   ]
  },
  {
   "cell_type": "code",
   "execution_count": null,
   "id": "762f72f7",
   "metadata": {},
   "outputs": [],
   "source": [
    "X = model.evalDriftMat(dat).toTL()\n",
    "Covmat = model.evalCovMatSym(dat).toTL()"
   ]
  },
  {
   "cell_type": "code",
   "execution_count": null,
   "id": "e76cc768",
   "metadata": {},
   "outputs": [],
   "source": [
    "A = np.array([1]).reshape(1,1)\n",
    "c = [0.3]\n",
    "\n",
    "coeffs = estimCoeff(dat[\"Simu\"],Covmat,X,A,c)\n",
    "printCoeffs(\"a=0.3\", coeffs)"
   ]
  },
  {
   "cell_type": "markdown",
   "id": "1210453d",
   "metadata": {},
   "source": [
    "This lack of constraint can be emulated using the LogLikelihood principle:\n",
    "\n",
    "- calculated by hand:"
   ]
  },
  {
   "cell_type": "code",
   "execution_count": null,
   "id": "9a3d8bae",
   "metadata": {},
   "outputs": [],
   "source": [
    "print(f\"Computed manually : \" + str(np.round(computeLogLikelihoodByHand(dat[\"Simu\"],Covmat,X),6)))"
   ]
  },
  {
   "cell_type": "markdown",
   "id": "3b5a3dd6",
   "metadata": {},
   "source": [
    "- calculated within gstlearn"
   ]
  },
  {
   "cell_type": "code",
   "execution_count": null,
   "id": "ab677370",
   "metadata": {
    "scrolled": true
   },
   "outputs": [],
   "source": [
    "likelihoodG = model.computeLogLikelihood(dat, True)"
   ]
  },
  {
   "cell_type": "markdown",
   "id": "37163709",
   "metadata": {},
   "source": [
    "- using the Vecchia approximation"
   ]
  },
  {
   "cell_type": "code",
   "execution_count": null,
   "id": "7302822f",
   "metadata": {},
   "outputs": [],
   "source": [
    "likelihoodV = gl.logLikelihoodVecchia(dat, model, 4, True)"
   ]
  },
  {
   "cell_type": "markdown",
   "id": "d804ffab",
   "metadata": {},
   "source": [
    "## Bivariate"
   ]
  },
  {
   "cell_type": "code",
   "execution_count": null,
   "id": "8b12dda6",
   "metadata": {},
   "outputs": [],
   "source": [
    "s1 = 0.4\n",
    "s2 = 2.0\n",
    "r  = 0.8\n",
    "sills = np.array([[s1**2,r*s1*s2],[r*s1*s2,s2**2]])\n",
    "model = gl.Model.createFromParam(gl.ECov.MATERN,param=1,range=rangev,sills=sills)"
   ]
  },
  {
   "cell_type": "code",
   "execution_count": null,
   "id": "f3146bf6",
   "metadata": {
    "scrolled": true
   },
   "outputs": [],
   "source": [
    "ndat=200\n",
    "dat = gl.Db.createFillRandom(ndat, ndim, 0,2)\n",
    "dat[\"drift\"] = dat[\"x-1\"]\n",
    "gl.simtub(None,dat,model)\n",
    "dat"
   ]
  },
  {
   "cell_type": "code",
   "execution_count": null,
   "id": "52245edc",
   "metadata": {},
   "outputs": [],
   "source": [
    "ax = plt.scatter(dat[\"Simu.1\"],dat[\"Simu.2\"])"
   ]
  },
  {
   "cell_type": "code",
   "execution_count": null,
   "id": "c68cb58c",
   "metadata": {},
   "outputs": [],
   "source": [
    "truecoeffs1 = [0.5, 3]\n",
    "truecoeffs2 = [1.5,-2]\n",
    "model.setDriftIRF(0,1)\n",
    "dat[\"Simu.1\"] =  truecoeffs1[0] + truecoeffs1[1] * dat[\"drift\"] + dat[\"Simu.1\"]\n",
    "dat[\"Simu.2\"] =  truecoeffs2[0] + truecoeffs2[1] * dat[\"drift\"] + dat[\"Simu.2\"]\n",
    "dat.setLocator(\"drift\",gl.ELoc.F)"
   ]
  },
  {
   "cell_type": "markdown",
   "id": "7de58854",
   "metadata": {},
   "source": [
    "### No constraint"
   ]
  },
  {
   "cell_type": "code",
   "execution_count": null,
   "id": "36250f3c",
   "metadata": {},
   "outputs": [],
   "source": [
    "Covmat = model.evalCovMatSym(dat).toTL()\n",
    "X = model.evalDriftMat(dat).toTL()\n",
    "Z = dat[\"Simu*\"]\n",
    "Z = Z.T.reshape(-1)"
   ]
  },
  {
   "cell_type": "code",
   "execution_count": null,
   "id": "52c9aa71",
   "metadata": {
    "scrolled": true
   },
   "outputs": [],
   "source": [
    "coeffs = estimCoeff(Z,Covmat,X)\n",
    "fig,ax = gp.init(1,2)\n",
    "ax[0].scatter(dat[\"x-1\"],dat[\"Simu.1\"])\n",
    "ax[0].plot([0,1],[coeffs[0],coeffs[0]+coeffs[1]])\n",
    "ax[1].scatter(dat[\"x-1\"],dat[\"Simu.2\"])\n",
    "ax[1].plot([0,1],[coeffs[2],coeffs[2]+coeffs[3]])\n",
    "gp.close()"
   ]
  },
  {
   "cell_type": "code",
   "execution_count": null,
   "id": "8767e7a8",
   "metadata": {},
   "outputs": [],
   "source": [
    "printCoeffs(\"No Constraint\",coeffs)"
   ]
  },
  {
   "cell_type": "markdown",
   "id": "b3218651",
   "metadata": {},
   "source": [
    "This option can be emulated in gstlearn"
   ]
  },
  {
   "cell_type": "code",
   "execution_count": null,
   "id": "03a103b1",
   "metadata": {},
   "outputs": [],
   "source": [
    "likelihood = model.computeLogLikelihood(dat, True)"
   ]
  },
  {
   "cell_type": "markdown",
   "id": "078ab1a6",
   "metadata": {},
   "source": [
    "### Means of both variables are imposed"
   ]
  },
  {
   "cell_type": "code",
   "execution_count": null,
   "id": "81a039ac",
   "metadata": {},
   "outputs": [],
   "source": [
    "A = np.array([[1,0,0,0],[0,0,1,0]])\n",
    "c = [0.5,1.5]\n",
    "coeffs=estimCoeff(Z,Covmat,X,A,c)"
   ]
  },
  {
   "cell_type": "code",
   "execution_count": null,
   "id": "b24f9717",
   "metadata": {},
   "outputs": [],
   "source": [
    "fig,ax = gp.init(1,2)\n",
    "ax[0].scatter(dat[\"x-1\"],dat[\"Simu.1\"])\n",
    "ax[0].plot([0,1],[coeffs[0],coeffs[0]+coeffs[1]])\n",
    "ax[1].scatter(dat[\"x-1\"],dat[\"Simu.2\"])\n",
    "ax[1].plot([0,1],[coeffs[2],coeffs[2]+coeffs[3]])\n",
    "gp.close()"
   ]
  },
  {
   "cell_type": "code",
   "execution_count": null,
   "id": "b4ffbdb9",
   "metadata": {},
   "outputs": [],
   "source": [
    "printCoeffs(\"a0=0.5 and b0=1.5\", coeffs)"
   ]
  },
  {
   "cell_type": "markdown",
   "id": "fa8fe01a",
   "metadata": {},
   "source": [
    "### Same coefficients for mean and drift coefficients"
   ]
  },
  {
   "cell_type": "code",
   "execution_count": null,
   "id": "b9d626bf",
   "metadata": {},
   "outputs": [],
   "source": [
    "A = np.array([[1,0,-1,0],[0,1,0,-1]])\n",
    "c = [0,0]\n",
    "coeffs = estimCoeff(Z,Covmat,X,A,c)"
   ]
  },
  {
   "cell_type": "code",
   "execution_count": null,
   "id": "359f0cc2",
   "metadata": {},
   "outputs": [],
   "source": [
    "fig,ax = gp.init(1,2)\n",
    "ax[0].scatter(dat[\"x-1\"],dat[\"Simu.1\"])\n",
    "ax[0].plot([0,1],[coeffs[0],coeffs[0]+coeffs[1]])\n",
    "ax[1].scatter(dat[\"x-1\"],dat[\"Simu.2\"])\n",
    "ax[1].plot([0,1],[coeffs[2],coeffs[2]+coeffs[3]])\n",
    "gp.close()"
   ]
  },
  {
   "cell_type": "code",
   "execution_count": null,
   "id": "f0bfec25",
   "metadata": {},
   "outputs": [],
   "source": [
    "printCoeffs(\"a0=b0 and a1=b1\", coeffs)"
   ]
  },
  {
   "cell_type": "markdown",
   "id": "377728ad",
   "metadata": {},
   "source": [
    "This can be emulated with the current *flagLinked* option"
   ]
  },
  {
   "cell_type": "code",
   "execution_count": null,
   "id": "bdc374b7",
   "metadata": {},
   "outputs": [],
   "source": [
    "model.setFlagLinked(True)\n",
    "likelihood = model.computeLogLikelihood(dat, True)"
   ]
  },
  {
   "cell_type": "markdown",
   "id": "0274d2e8",
   "metadata": {},
   "source": [
    "### Means are equal"
   ]
  },
  {
   "cell_type": "code",
   "execution_count": null,
   "id": "83e8bc5f",
   "metadata": {},
   "outputs": [],
   "source": [
    "A = np.array([[1,0,-1,0]])\n",
    "c = [0]\n",
    "coeffs = estimCoeff(Z,Covmat,X,A,c)"
   ]
  },
  {
   "cell_type": "code",
   "execution_count": null,
   "id": "63737cc6",
   "metadata": {},
   "outputs": [],
   "source": [
    "fig,ax = gp.init(1,2)\n",
    "ax[0].scatter(dat[\"x-1\"],dat[\"Simu.1\"])\n",
    "ax[0].plot([0,1],[coeffs[0],coeffs[0]+coeffs[1]])\n",
    "ax[1].scatter(dat[\"x-1\"],dat[\"Simu.2\"])\n",
    "ax[1].plot([0,1],[coeffs[2],coeffs[2]+coeffs[3]])\n",
    "gp.close()"
   ]
  },
  {
   "cell_type": "code",
   "execution_count": null,
   "id": "6ad44458",
   "metadata": {},
   "outputs": [],
   "source": [
    "printCoeffs(\"a0=b0\", coeffs)"
   ]
  },
  {
   "cell_type": "markdown",
   "id": "120ec539",
   "metadata": {},
   "source": [
    "### Means are linked, coefficient of drift on the first variable is imposed"
   ]
  },
  {
   "cell_type": "code",
   "execution_count": null,
   "id": "5a7013c1",
   "metadata": {},
   "outputs": [],
   "source": [
    "A = np.array([[1,0,-1,0],[0,1,0,0]])\n",
    "c = [0,1]\n",
    "coeffs = estimCoeff(Z,Covmat,X,A,c)"
   ]
  },
  {
   "cell_type": "code",
   "execution_count": null,
   "id": "16a81cf2",
   "metadata": {},
   "outputs": [],
   "source": [
    "fig,ax = gp.init(1,2)\n",
    "ax[0].scatter(dat[\"x-1\"],dat[\"Simu.1\"])\n",
    "ax[0].plot([0,1],[coeffs[0],coeffs[0]+coeffs[1]])\n",
    "ax[1].scatter(dat[\"x-1\"],dat[\"Simu.2\"])\n",
    "ax[1].plot([0,1],[coeffs[2],coeffs[2]+coeffs[3]])\n",
    "gp.close()"
   ]
  },
  {
   "cell_type": "code",
   "execution_count": null,
   "id": "d79471e4",
   "metadata": {},
   "outputs": [],
   "source": [
    "printCoeffs(\"a0=b0 and a1=1\", coeffs)"
   ]
  },
  {
   "cell_type": "markdown",
   "id": "1c9b0ecb",
   "metadata": {},
   "source": [
    "## Multivariate"
   ]
  },
  {
   "cell_type": "markdown",
   "id": "f4955b6d",
   "metadata": {},
   "source": [
    "We test the case of 3 variables for running a specific test."
   ]
  },
  {
   "cell_type": "code",
   "execution_count": null,
   "id": "fdd529f1",
   "metadata": {},
   "outputs": [],
   "source": [
    "sills = gl.MatrixSymmetric.createRandomDefinitePositive(3)\n",
    "model = gl.Model.createFromParam(gl.ECov.MATERN,param=1,range=rangev,sills=sills)"
   ]
  },
  {
   "cell_type": "code",
   "execution_count": null,
   "id": "1c2aa668",
   "metadata": {},
   "outputs": [],
   "source": [
    "model"
   ]
  },
  {
   "cell_type": "code",
   "execution_count": null,
   "id": "2415df66",
   "metadata": {},
   "outputs": [],
   "source": [
    "ndat=200\n",
    "dat = gl.Db.createFillRandom(ndat, ndim, 0,2)\n",
    "dat[\"drift\"] = dat[\"x-1\"]\n",
    "gl.simtub(None,dat,model)\n",
    "dat"
   ]
  },
  {
   "cell_type": "code",
   "execution_count": null,
   "id": "6d3c020a",
   "metadata": {},
   "outputs": [],
   "source": [
    "truecoeffs1 = [ 0.5, 3]\n",
    "truecoeffs2 = [ 1.5,-2]\n",
    "truecoeffs3 = [-0.5,-2]\n",
    "model.setDriftIRF(0,1)\n",
    "dat[\"Simu.1\"] =  truecoeffs1[0] + truecoeffs1[1] * dat[\"drift\"] + dat[\"Simu.1\"]\n",
    "dat[\"Simu.2\"] =  truecoeffs2[0] + truecoeffs2[1] * dat[\"drift\"] + dat[\"Simu.2\"]\n",
    "dat[\"Simu.3\"] =  truecoeffs3[0] + truecoeffs3[1] * dat[\"drift\"] + dat[\"Simu.3\"]\n",
    "dat.setLocator(\"drift\",gl.ELoc.F)"
   ]
  },
  {
   "cell_type": "code",
   "execution_count": null,
   "id": "fd71701b",
   "metadata": {},
   "outputs": [],
   "source": [
    "Covmat = model.evalCovMatSym(dat).toTL()\n",
    "X = model.evalDriftMat(dat).toTL()\n",
    "Z = dat[\"Simu*\"]\n",
    "Z = Z.T.reshape(-1)"
   ]
  },
  {
   "cell_type": "code",
   "execution_count": null,
   "id": "48c09b88",
   "metadata": {
    "scrolled": true
   },
   "outputs": [],
   "source": [
    "coeffs = estimCoeff(Z,Covmat,X)\n",
    "fig,ax = gp.init(1,3, figsize=[15,4])\n",
    "print(coeffs)\n",
    "ax[0].scatter(dat[\"x-1\"],dat[\"Simu.1\"])\n",
    "ax[0].plot([0,1],[coeffs[0],coeffs[0]+coeffs[1]])\n",
    "ax[1].scatter(dat[\"x-1\"],dat[\"Simu.2\"])\n",
    "ax[1].plot([0,1],[coeffs[2],coeffs[2]+coeffs[3]])\n",
    "ax[2].scatter(dat[\"x-1\"],dat[\"Simu.2\"])\n",
    "ax[2].plot([0,1],[coeffs[4],coeffs[4]+coeffs[5]])\n",
    "gp.close()"
   ]
  },
  {
   "cell_type": "markdown",
   "id": "aedfcb92",
   "metadata": {},
   "source": [
    "### Means of all variables are equal"
   ]
  },
  {
   "cell_type": "markdown",
   "id": "58a7ae4a",
   "metadata": {},
   "source": [
    "This test is meant to check the way to constrain the mean value of all (three) variables to be equal: this is done by setting constraints to the drift coefficients of the variables taken two by two. "
   ]
  },
  {
   "cell_type": "code",
   "execution_count": null,
   "id": "387c5f6c",
   "metadata": {},
   "outputs": [],
   "source": [
    "A = np.array([[1,0,-1,0,0,0],[0,0,1,0,-1,0]])\n",
    "c = [0, 0]\n",
    "coeffs = estimCoeff(Z,Covmat,X,A,c)"
   ]
  },
  {
   "cell_type": "code",
   "execution_count": null,
   "id": "5caba7c7",
   "metadata": {
    "scrolled": true
   },
   "outputs": [],
   "source": [
    "coeffs"
   ]
  },
  {
   "cell_type": "code",
   "execution_count": null,
   "id": "7f8904ea",
   "metadata": {},
   "outputs": [],
   "source": []
  }
 ],
 "metadata": {
  "kernelspec": {
   "display_name": "Python 3 (ipykernel)",
   "language": "python",
   "name": "python3"
  },
  "language_info": {
   "codemirror_mode": {
    "name": "ipython",
    "version": 3
   },
   "file_extension": ".py",
   "mimetype": "text/x-python",
   "name": "python",
   "nbconvert_exporter": "python",
   "pygments_lexer": "ipython3",
   "version": "3.10.5"
  },
  "toc": {
   "base_numbering": 1,
   "nav_menu": {},
   "number_sections": true,
   "sideBar": true,
   "skip_h1_title": true,
   "title_cell": "Table of Contents",
   "title_sidebar": "Contents",
   "toc_cell": false,
   "toc_position": {
    "height": "calc(100% - 180px)",
    "left": "10px",
    "top": "150px",
    "width": "302.6px"
   },
   "toc_section_display": true,
   "toc_window_display": false
  }
 },
 "nbformat": 4,
 "nbformat_minor": 5
}
