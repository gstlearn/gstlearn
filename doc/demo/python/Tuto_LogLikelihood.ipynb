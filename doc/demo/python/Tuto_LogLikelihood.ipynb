{
 "cells": [
  {
   "cell_type": "markdown",
   "id": "1f2bc36b",
   "metadata": {},
   "source": [
    "# Constraints on drifts"
   ]
  },
  {
   "cell_type": "markdown",
   "id": "f77f9494",
   "metadata": {},
   "source": [
    "<!-- SUMMARY: Estimation and Simulations performed in the framework of SPDE -->\n",
    "\n",
    "<!-- CATEGORY: SPDE -->"
   ]
  },
  {
   "cell_type": "code",
   "execution_count": 1,
   "id": "663d69e8",
   "metadata": {},
   "outputs": [
    {
     "data": {
      "application/javascript": [
       "\n",
       "IPython.OutputArea.prototype._should_scroll = function(lines) {\n",
       "    return false;\n",
       "}\n"
      ],
      "text/plain": [
       "<IPython.core.display.Javascript object>"
      ]
     },
     "metadata": {},
     "output_type": "display_data"
    }
   ],
   "source": [
    "import gstlearn as gl\n",
    "import gstlearn.plot as gp\n",
    "import gstlearn.document as gdoc\n",
    "import numpy as np\n",
    "import matplotlib.pyplot as plt\n",
    "\n",
    "gdoc.setNoScroll()"
   ]
  },
  {
   "cell_type": "markdown",
   "id": "85450fe7",
   "metadata": {},
   "source": [
    "This tutorial has two essential taks:\n",
    "\n",
    "- cross-check the calculation of the Log-Likelihood (by hand or with gstlearn)\n",
    "- design the definition pattern for the linkage of the drift functions in the multivariable framework"
   ]
  },
  {
   "cell_type": "markdown",
   "id": "37051d7b",
   "metadata": {},
   "source": [
    "## Parameters"
   ]
  },
  {
   "cell_type": "code",
   "execution_count": 2,
   "id": "6ce47cbc",
   "metadata": {},
   "outputs": [],
   "source": [
    "# Data\n",
    "np.random.seed(123)\n",
    "ndat = 100\n",
    "ndim = 2\n",
    "\n",
    "# Model\n",
    "rangev = 0.2\n",
    "sill = 1.\n",
    "nugget = 0.1"
   ]
  },
  {
   "cell_type": "code",
   "execution_count": 3,
   "id": "05aa9895",
   "metadata": {},
   "outputs": [],
   "source": [
    "# Z : vecteur des données\n",
    "# Covmat : matrice de covariance\n",
    "# X : matrice de drift\n",
    "# A et c permettent d'encoder les contraintes sur le vecteur des coefficients beta :\n",
    "# sous la forme A * beta = c\n",
    "\n",
    "def estimCoeff(Z,Covmat,X,A=None,c=None):\n",
    "    if A is not None and c is not None: \n",
    "        if A.shape[0]!= len(c) or  A.shape[1]!=X.shape[1]:\n",
    "            return np.nan\n",
    "    \n",
    "    invcovmat = np.linalg.inv(Covmat)\n",
    "    invu = np.linalg.inv(X.T@invcovmat@X)\n",
    "    estimatedCoeffs = invu@X.T@invcovmat@Z\n",
    "    \n",
    "    if A is None or c is None :\n",
    "        return estimatedCoeffs\n",
    "    \n",
    "    temp = invu@A.T@np.linalg.inv(A@invu@A.T)\n",
    "    return estimatedCoeffs - temp@A@estimatedCoeffs+temp@c\n",
    "\n",
    "def computeLogLikelihood(Z,Covmat,drift,coeffs=None,A=None,c=None):\n",
    "    if coeffs is None:\n",
    "        coeffs = estimCoeff(Z,Covmat,A,c)\n",
    "    Zc = Z - coeffs@drift.T\n",
    "    cholcovmat = np.linalg.cholesky(Covmat)\n",
    "    Zcstd = np.linalg.solve(cholcovmat,Zc) \n",
    "    quad = Zcstd.T@Zcstd\n",
    "    logdet = 2. * np.sum(np.log(np.diag(cholcovmat)))\n",
    "    return -0.5 * (quad + logdet + len(Z) * np.log(2.* np.pi))\n"
   ]
  },
  {
   "cell_type": "markdown",
   "id": "56504d35",
   "metadata": {},
   "source": [
    "## Monovariate case"
   ]
  },
  {
   "cell_type": "markdown",
   "id": "ade84351",
   "metadata": {},
   "source": [
    "### Model"
   ]
  },
  {
   "cell_type": "code",
   "execution_count": 4,
   "id": "654a0ce2",
   "metadata": {},
   "outputs": [
    {
     "data": {
      "text/plain": [
       "\n",
       "Model characteristics\n",
       "=====================\n",
       "Space dimension              = 2\n",
       "Number of variable(s)        = 1\n",
       "Number of basic structure(s) = 2\n",
       "Number of drift function(s)  = 0\n",
       "Number of drift equation(s)  = 0\n",
       "\n",
       "Covariance Part\n",
       "---------------\n",
       "Matern (Third Parameter = 1)\n",
       "- Sill         =      1.000\n",
       "- Range        =      0.200\n",
       "- Theo. Range  =      0.058\n",
       "Nugget Effect\n",
       "- Sill         =      0.100\n",
       "Total Sill     =      1.100\n",
       "Known Mean(s)     0.000"
      ]
     },
     "execution_count": 4,
     "metadata": {},
     "output_type": "execute_result"
    }
   ],
   "source": [
    "model = gl.Model.createFromParam(gl.ECov.MATERN,param=1,range=rangev,sill=sill)\n",
    "model.addCovFromParam(gl.ECov.NUGGET,sill=nugget)\n",
    "model"
   ]
  },
  {
   "cell_type": "markdown",
   "id": "80efd81e",
   "metadata": {},
   "source": [
    "### Data"
   ]
  },
  {
   "cell_type": "code",
   "execution_count": 5,
   "id": "85192300",
   "metadata": {},
   "outputs": [
    {
     "data": {
      "text/plain": [
       "\n",
       "Data Base Characteristics\n",
       "=========================\n",
       "\n",
       "Data Base Summary\n",
       "-----------------\n",
       "File is organized as a set of isolated points\n",
       "Space dimension              = 2\n",
       "Number of Columns            = 5\n",
       "Total number of samples      = 100\n",
       "\n",
       "Variables\n",
       "---------\n",
       "Column = 0 - Name = rank - Locator = NA\n",
       "Column = 1 - Name = x-1 - Locator = x1\n",
       "Column = 2 - Name = x-2 - Locator = x2\n",
       "Column = 3 - Name = drift - Locator = NA\n",
       "Column = 4 - Name = Simu - Locator = z1"
      ]
     },
     "execution_count": 5,
     "metadata": {},
     "output_type": "execute_result"
    }
   ],
   "source": [
    "dat = gl.Db.createFillRandom(ndat, ndim, 0)\n",
    "dat[\"drift\"] = dat[\"x-1\"]\n",
    "gl.simtub(None,dat,model)\n",
    "dat"
   ]
  },
  {
   "cell_type": "code",
   "execution_count": 6,
   "id": "9f6fc626",
   "metadata": {},
   "outputs": [
    {
     "data": {
      "text/plain": [
       "\n",
       "Data Base Characteristics\n",
       "=========================\n",
       "\n",
       "Data Base Summary\n",
       "-----------------\n",
       "File is organized as a set of isolated points\n",
       "Space dimension              = 2\n",
       "Number of Columns            = 5\n",
       "Total number of samples      = 100\n",
       "\n",
       "Variables\n",
       "---------\n",
       "Column = 0 - Name = rank - Locator = NA\n",
       "Column = 1 - Name = x-1 - Locator = x1\n",
       "Column = 2 - Name = x-2 - Locator = x2\n",
       "Column = 3 - Name = drift - Locator = NA\n",
       "Column = 4 - Name = Simu - Locator = z1"
      ]
     },
     "execution_count": 6,
     "metadata": {},
     "output_type": "execute_result"
    }
   ],
   "source": [
    "truecoeffs = [0.5]\n",
    "dat[\"Simu\"] = truecoeffs[0] + dat[\"Simu\"]\n",
    "#dat.setLocator(\"drift\",gl.ELoc.F)\n",
    "dat"
   ]
  },
  {
   "cell_type": "markdown",
   "id": "0670193e",
   "metadata": {},
   "source": [
    "Let us calculate the Log-likelihood of the Model"
   ]
  },
  {
   "cell_type": "code",
   "execution_count": 7,
   "id": "2f5e44ba",
   "metadata": {},
   "outputs": [
    {
     "name": "stdout",
     "output_type": "stream",
     "text": [
      "Likelihood calculation:\n",
      "- Number of active samples     = 100\n",
      "- Number of variables          = 1\n",
      "- Length of Information Vector = 100\n",
      "Constant Mean(s)\n",
      "     0.000\n",
      "Log-Determinant = -33.879144\n",
      "Quadratic term = 103.577106\n",
      "Log-likelihood = -126.742834\n"
     ]
    }
   ],
   "source": [
    "likelihood = model.computeLogLikelihood(dat, True)"
   ]
  },
  {
   "cell_type": "markdown",
   "id": "8b5df1ba",
   "metadata": {},
   "source": [
    "We can also check the previous result in a hand-made calculation"
   ]
  },
  {
   "cell_type": "code",
   "execution_count": 8,
   "id": "ea657517",
   "metadata": {},
   "outputs": [
    {
     "ename": "AttributeError",
     "evalue": "'Model' object has no attribute 'evalCovMatrixSymmetric'",
     "output_type": "error",
     "traceback": [
      "\u001b[0;31m---------------------------------------------------------------------------\u001b[0m",
      "\u001b[0;31mAttributeError\u001b[0m                            Traceback (most recent call last)",
      "Cell \u001b[0;32mIn[8], line 2\u001b[0m\n\u001b[1;32m      1\u001b[0m mean \u001b[38;5;241m=\u001b[39m \u001b[38;5;241m0\u001b[39m\n\u001b[0;32m----> 2\u001b[0m Sigma \u001b[38;5;241m=\u001b[39m \u001b[43mmodel\u001b[49m\u001b[38;5;241;43m.\u001b[39;49m\u001b[43mevalCovMatrixSymmetric\u001b[49m(dat)\u001b[38;5;241m.\u001b[39mtoTL()\n\u001b[1;32m      3\u001b[0m chol \u001b[38;5;241m=\u001b[39m np\u001b[38;5;241m.\u001b[39mlinalg\u001b[38;5;241m.\u001b[39mcholesky(Sigma)\n\u001b[1;32m      4\u001b[0m logdet \u001b[38;5;241m=\u001b[39m \u001b[38;5;241m2\u001b[39m \u001b[38;5;241m*\u001b[39m np\u001b[38;5;241m.\u001b[39msum(np\u001b[38;5;241m.\u001b[39mlog(np\u001b[38;5;241m.\u001b[39mdiag(chol)))\n",
      "\u001b[0;31mAttributeError\u001b[0m: 'Model' object has no attribute 'evalCovMatrixSymmetric'"
     ]
    }
   ],
   "source": [
    "mean = 0\n",
    "Sigma = model.evalCovMatrixSymmetric(dat).toTL()\n",
    "chol = np.linalg.cholesky(Sigma)\n",
    "logdet = 2 * np.sum(np.log(np.diag(chol)))\n",
    "print(f\"Log-Determinant= {round(logdet,4)}\")\n",
    "xc = dat[\"Simu\"] - mean\n",
    "invSigmax = np.linalg.solve(Sigma,xc)\n",
    "quad = xc.T@invSigmax\n",
    "print(f\"Quadratic term= { round(quad,4)}\")\n",
    "ll = -0.5 * (logdet + quad + len(xc) * np.log(2. * np.pi))\n",
    "print(f\"Log-likelihood= { round(ll,4)}\")"
   ]
  },
  {
   "cell_type": "markdown",
   "id": "5260fa01",
   "metadata": {},
   "source": [
    "We add the Universality Condition to the Model"
   ]
  },
  {
   "cell_type": "code",
   "execution_count": null,
   "id": "b64ca53f",
   "metadata": {},
   "outputs": [],
   "source": [
    "model.setDriftIRF(0,0)\n",
    "model"
   ]
  },
  {
   "cell_type": "code",
   "execution_count": null,
   "id": "40db6b39",
   "metadata": {},
   "outputs": [],
   "source": [
    "X = model.evalDriftMat(dat).toTL()\n",
    "Covmat = model.evalCovMatSym(dat).toTL()"
   ]
  },
  {
   "cell_type": "code",
   "execution_count": null,
   "id": "cfb0c307",
   "metadata": {},
   "outputs": [],
   "source": [
    "A = np.array([1]).reshape(1,1)\n",
    "c = [0.3]\n",
    "\n",
    "coeffs = estimCoeff(dat[\"Simu\"],Covmat,X,A,c)\n",
    "printCoeffs(\"a0=0.3\", coeffs)"
   ]
  },
  {
   "cell_type": "code",
   "execution_count": null,
   "id": "7f035068",
   "metadata": {},
   "outputs": [],
   "source": [
    "coeffs = estimCoeff(dat[\"Simu\"],Covmat,X)\n",
    "printCoeffs(\"No constraint\", coeffs)"
   ]
  },
  {
   "cell_type": "markdown",
   "id": "9bd59590",
   "metadata": {},
   "source": [
    "This lack of constraint can be emulated in gstlearn"
   ]
  },
  {
   "cell_type": "code",
   "execution_count": null,
   "id": "5b5fbfe5",
   "metadata": {},
   "outputs": [],
   "source": [
    "likelihood = model.computeLogLikelihood(dat, True)\n",
    "\n",
    "print(f\"Compute manual loglikelihood = \" + str(np.round(computeLogLikelihood(dat[\"Simu\"],Covmat,X),6)))"
   ]
  },
  {
   "cell_type": "markdown",
   "id": "5387265a",
   "metadata": {},
   "source": [
    "## Multivariate"
   ]
  },
  {
   "cell_type": "code",
   "execution_count": null,
   "id": "9f843c3e",
   "metadata": {},
   "outputs": [],
   "source": [
    "s1=0.4\n",
    "s2=2\n",
    "r = 0.8\n",
    "sills = np.array([[s1**2,r*s1*s2],[r*s1*s2,s2**2]])\n",
    "model = gl.Model.createFromParam(gl.ECov.MATERN,param=1,range=rangev,sills=sills)"
   ]
  },
  {
   "cell_type": "code",
   "execution_count": null,
   "id": "6cef4fa1",
   "metadata": {},
   "outputs": [],
   "source": [
    "ndat=200\n",
    "dat = gl.Db.createFillRandom(ndat, ndim, 0,2)\n",
    "dat[\"drift\"] = dat[\"x-1\"]\n",
    "gl.simtub(None,dat,model)\n",
    "dat"
   ]
  },
  {
   "cell_type": "code",
   "execution_count": null,
   "id": "69a0c9b2",
   "metadata": {},
   "outputs": [],
   "source": [
    "ax = plt.scatter(dat[\"Simu.1\"],dat[\"Simu.2\"])"
   ]
  },
  {
   "cell_type": "code",
   "execution_count": null,
   "id": "56e26e2b",
   "metadata": {},
   "outputs": [],
   "source": [
    "truecoeffs1 = [0.5,3]\n",
    "truecoeffs2 = [1.5,-2]\n",
    "model.setDriftIRF(0,1)\n",
    "dat[\"Simu.1\"] =  truecoeffs1[0] + truecoeffs1[1] * dat[\"drift\"] + dat[\"Simu.1\"]\n",
    "dat[\"Simu.2\"] =  truecoeffs2[0] + truecoeffs2[1] * dat[\"drift\"] + dat[\"Simu.2\"]\n",
    "dat.setLocator(\"drift\",gl.ELoc.F)"
   ]
  },
  {
   "cell_type": "markdown",
   "id": "a36e11ba",
   "metadata": {},
   "source": [
    "### No constraint"
   ]
  },
  {
   "cell_type": "code",
   "execution_count": null,
   "id": "46abbb13",
   "metadata": {},
   "outputs": [],
   "source": [
    "Covmat = model.evalCovMatSym(dat).toTL()\n",
    "X = model.evalDriftMat(dat).toTL()"
   ]
  },
  {
   "cell_type": "code",
   "execution_count": null,
   "id": "f1cead49",
   "metadata": {},
   "outputs": [],
   "source": [
    "Z = dat[\"Simu*\"]\n",
    "Z=Z.T.reshape(-1)"
   ]
  },
  {
   "cell_type": "code",
   "execution_count": null,
   "id": "509ed149",
   "metadata": {
    "scrolled": true
   },
   "outputs": [],
   "source": [
    "coeffs = estimCoeff(Z,Covmat,X)\n",
    "fig,ax = gp.init(1,2)\n",
    "ax[0].scatter(dat[\"x-1\"],dat[\"Simu.1\"])\n",
    "ax[0].plot([0,1],[coeffs[0],coeffs[0]+coeffs[1]])\n",
    "ax[1].scatter(dat[\"x-1\"],dat[\"Simu.2\"])\n",
    "ax[1].plot([0,1],[coeffs[2],coeffs[2]+coeffs[3]])\n",
    "gp.close()"
   ]
  },
  {
   "cell_type": "code",
   "execution_count": null,
   "id": "19288d22",
   "metadata": {},
   "outputs": [],
   "source": [
    "print(f\"No Constraint {str(np.round(coeffs,6))}\")"
   ]
  },
  {
   "cell_type": "markdown",
   "id": "331bc323",
   "metadata": {},
   "source": [
    "This option can be emulated in gstlearn"
   ]
  },
  {
   "cell_type": "code",
   "execution_count": null,
   "id": "8fd32eba",
   "metadata": {},
   "outputs": [],
   "source": [
    "likelihood = model.computeLogLikelihood(dat, True)"
   ]
  },
  {
   "cell_type": "markdown",
   "id": "949df1eb",
   "metadata": {},
   "source": [
    "### Means of both variables are imposed"
   ]
  },
  {
   "cell_type": "code",
   "execution_count": null,
   "id": "d8e8ded8",
   "metadata": {},
   "outputs": [],
   "source": [
    "A = np.array([[1,0,0,0],[0,0,1,0]])\n",
    "c = [0.5,1.5]\n",
    "coeffs=estimCoeff(Z,Covmat,X,A,c)"
   ]
  },
  {
   "cell_type": "code",
   "execution_count": null,
   "id": "a54f656e",
   "metadata": {},
   "outputs": [],
   "source": [
    "fig,ax = gp.init(1,2)\n",
    "ax[0].scatter(dat[\"x-1\"],dat[\"Simu.1\"])\n",
    "ax[0].plot([0,1],[coeffs[0],coeffs[0]+coeffs[1]])\n",
    "ax[1].scatter(dat[\"x-1\"],dat[\"Simu.2\"])\n",
    "ax[1].plot([0,1],[coeffs[2],coeffs[2]+coeffs[3]])\n",
    "gp.close()"
   ]
  },
  {
   "cell_type": "code",
   "execution_count": null,
   "id": "06ecbe0e",
   "metadata": {},
   "outputs": [],
   "source": [
    "print(f\"a0=0.5 and b0=1.5 {str(np.round(coeffs,6))}\")"
   ]
  },
  {
   "cell_type": "markdown",
   "id": "89984734",
   "metadata": {},
   "source": [
    "### Same coefficients for mean and drift coefficients"
   ]
  },
  {
   "cell_type": "code",
   "execution_count": null,
   "id": "8af351b6",
   "metadata": {},
   "outputs": [],
   "source": [
    "A = np.array([[1,0,-1,0],[0,1,0,-1]])\n",
    "c = [0,0]\n",
    "coeffs = estimCoeff(Z,Covmat,X,A,c)"
   ]
  },
  {
   "cell_type": "code",
   "execution_count": null,
   "id": "fb8eb5df",
   "metadata": {},
   "outputs": [],
   "source": [
    "fig,ax = gp.init(1,2)\n",
    "ax[0].scatter(dat[\"x-1\"],dat[\"Simu.1\"])\n",
    "ax[0].plot([0,1],[coeffs[0],coeffs[0]+coeffs[1]])\n",
    "ax[1].scatter(dat[\"x-1\"],dat[\"Simu.2\"])\n",
    "ax[1].plot([0,1],[coeffs[2],coeffs[2]+coeffs[3]])\n",
    "gp.close()"
   ]
  },
  {
   "cell_type": "code",
   "execution_count": null,
   "id": "84fa83a9",
   "metadata": {},
   "outputs": [],
   "source": [
    "print(f\"a0=b0 and a1=b1 {str(np.round(coeffs,6))}\")"
   ]
  },
  {
   "cell_type": "markdown",
   "id": "3ed60bfe",
   "metadata": {},
   "source": [
    "This can be emulated with the current *flagLinked* option"
   ]
  },
  {
   "cell_type": "code",
   "execution_count": null,
   "id": "d9ad4b68",
   "metadata": {},
   "outputs": [],
   "source": [
    "model.setFlagLinked(True)\n",
    "likelihood = model.computeLogLikelihood(dat, True)"
   ]
  },
  {
   "cell_type": "markdown",
   "id": "c399ea41",
   "metadata": {},
   "source": [
    "### Means are equal"
   ]
  },
  {
   "cell_type": "code",
   "execution_count": null,
   "id": "fab92fbc",
   "metadata": {},
   "outputs": [],
   "source": [
    "A = np.array([[1,0,-1,0]])\n",
    "c = [0]\n",
    "coeffs = estimCoeff(Z,Covmat,X,A,c)"
   ]
  },
  {
   "cell_type": "code",
   "execution_count": null,
   "id": "82fd45d2",
   "metadata": {},
   "outputs": [],
   "source": [
    "fig,ax = gp.init(1,2)\n",
    "ax[0].scatter(dat[\"x-1\"],dat[\"Simu.1\"])\n",
    "ax[0].plot([0,1],[coeffs[0],coeffs[0]+coeffs[1]])\n",
    "ax[1].scatter(dat[\"x-1\"],dat[\"Simu.2\"])\n",
    "ax[1].plot([0,1],[coeffs[2],coeffs[2]+coeffs[3]])\n",
    "gp.close()"
   ]
  },
  {
   "cell_type": "code",
   "execution_count": null,
   "id": "7bf9013f",
   "metadata": {},
   "outputs": [],
   "source": [
    "print(f\"a0=b0 {str(np.round(coeffs,6))}\")"
   ]
  },
  {
   "cell_type": "markdown",
   "id": "5c997d29",
   "metadata": {},
   "source": [
    "### Means are linked, coefficient of drift on the first variable is imposed"
   ]
  },
  {
   "cell_type": "code",
   "execution_count": null,
   "id": "febcbac3",
   "metadata": {},
   "outputs": [],
   "source": [
    "A = np.array([[1,0,-1,0],[0,1,0,0]])\n",
    "c = [0,1]\n",
    "coeffs = estimCoeff(Z,Covmat,X,A,c)"
   ]
  },
  {
   "cell_type": "code",
   "execution_count": null,
   "id": "b1b41652",
   "metadata": {},
   "outputs": [],
   "source": [
    "fig,ax = gp.init(1,2)\n",
    "ax[0].scatter(dat[\"x-1\"],dat[\"Simu.1\"])\n",
    "ax[0].plot([0,1],[coeffs[0],coeffs[0]+coeffs[1]])\n",
    "ax[1].scatter(dat[\"x-1\"],dat[\"Simu.2\"])\n",
    "ax[1].plot([0,1],[coeffs[2],coeffs[2]+coeffs[3]])\n",
    "gp.close()"
   ]
  },
  {
   "cell_type": "code",
   "execution_count": null,
   "id": "625ad74f",
   "metadata": {},
   "outputs": [],
   "source": [
    "print(f\"a0=b0 and a1=1 {str(np.round(coeffs,6))}\")"
   ]
  }
 ],
 "metadata": {
  "kernelspec": {
   "display_name": "Python 3 (ipykernel)",
   "language": "python",
   "name": "python3"
  },
  "language_info": {
   "codemirror_mode": {
    "name": "ipython",
    "version": 3
   },
   "file_extension": ".py",
   "mimetype": "text/x-python",
   "name": "python",
   "nbconvert_exporter": "python",
   "pygments_lexer": "ipython3",
   "version": "3.10.5"
  },
  "toc": {
   "base_numbering": 1,
   "nav_menu": {},
   "number_sections": true,
   "sideBar": true,
   "skip_h1_title": true,
   "title_cell": "Table of Contents",
   "title_sidebar": "Contents",
   "toc_cell": false,
   "toc_position": {
    "height": "calc(100% - 180px)",
    "left": "10px",
    "top": "150px",
    "width": "302.6px"
   },
   "toc_section_display": true,
   "toc_window_display": false
  }
 },
 "nbformat": 4,
 "nbformat_minor": 5
}
