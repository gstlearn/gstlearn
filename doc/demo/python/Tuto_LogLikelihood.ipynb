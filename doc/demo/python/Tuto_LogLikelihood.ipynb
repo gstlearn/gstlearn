{
 "cells": [
  {
   "cell_type": "markdown",
   "id": "339358ce",
   "metadata": {},
   "source": [
    "# Constraints on drifts"
   ]
  },
  {
   "cell_type": "markdown",
   "id": "f3440bb9",
   "metadata": {},
   "source": [
    "<!-- SUMMARY: Estimation and Simulations performed in the framework of SPDE -->\n",
    "\n",
    "<!-- CATEGORY: SPDE -->"
   ]
  },
  {
   "cell_type": "code",
   "execution_count": 22,
   "id": "d2771b33",
   "metadata": {},
   "outputs": [
    {
     "data": {
      "application/javascript": [
       "\n",
       "IPython.OutputArea.prototype._should_scroll = function(lines) {\n",
       "    return false;\n",
       "}\n"
      ],
      "text/plain": [
       "<IPython.core.display.Javascript object>"
      ]
     },
     "metadata": {},
     "output_type": "display_data"
    }
   ],
   "source": [
    "import gstlearn as gl\n",
    "import gstlearn.plot as gp\n",
    "import gstlearn.document as gdoc\n",
    "import numpy as np\n",
    "import matplotlib.pyplot as plt\n",
    "\n",
    "gdoc.setNoScroll()"
   ]
  },
  {
   "cell_type": "markdown",
   "id": "11333b04",
   "metadata": {},
   "source": [
    "This tutorial has two essential taks:\n",
    "\n",
    "- cross-check the calculation of the Log-Likelihood (by hand or with gstlearn)\n",
    "- design the definition pattern for the linkage of the drift functions in the multivariable framework"
   ]
  },
  {
   "cell_type": "markdown",
   "id": "193c573c",
   "metadata": {},
   "source": [
    "## Parameters"
   ]
  },
  {
   "cell_type": "code",
   "execution_count": 23,
   "id": "ab06aaa0",
   "metadata": {},
   "outputs": [],
   "source": [
    "# Data\n",
    "np.random.seed(123)\n",
    "ndat = 100\n",
    "ndim = 2\n",
    "\n",
    "# Model\n",
    "rangev = 0.2\n",
    "sill = 1.\n",
    "nugget = 0.1"
   ]
  },
  {
   "cell_type": "code",
   "execution_count": 24,
   "id": "a5f49b6c",
   "metadata": {},
   "outputs": [],
   "source": [
    "# Z : vecteur des données\n",
    "# Covmat : matrice de covariance\n",
    "# drift : matrice de drift\n",
    "# A et c permettent d'encoder les contraintes sur le vecteur des coefficients beta :\n",
    "# sous la forme A * beta = c\n",
    "\n",
    "def estimCoeff(Z,Covmat,drift,A=None,c=None):\n",
    "    if A is not None and c is not None: \n",
    "        if A.shape[0]!= len(c) or  A.shape[1]!=drift.shape[1]:\n",
    "            return np.nan\n",
    "    \n",
    "    invcovmat = np.linalg.inv(Covmat)\n",
    "    invu = np.linalg.inv(X.T@invcovmat@X)\n",
    "    estimatedCoeffs = invu@X.T@invcovmat@Z\n",
    "    \n",
    "    if A is None or c is None :\n",
    "        return estimatedCoeffs\n",
    "    \n",
    "    temp = invu@A.T@np.linalg.inv(A@invu@A.T)\n",
    "    return estimatedCoeffs - temp@A@estimatedCoeffs+temp@c"
   ]
  },
  {
   "cell_type": "markdown",
   "id": "ec649698",
   "metadata": {},
   "source": [
    "## Mono variate case"
   ]
  },
  {
   "cell_type": "markdown",
   "id": "663d65d6",
   "metadata": {},
   "source": [
    "### Model"
   ]
  },
  {
   "cell_type": "code",
   "execution_count": 25,
   "id": "689de4c0",
   "metadata": {},
   "outputs": [
    {
     "data": {
      "text/plain": [
       "\n",
       "Model characteristics\n",
       "=====================\n",
       "Space dimension              = 2\n",
       "Number of variable(s)        = 1\n",
       "Number of basic structure(s) = 2\n",
       "Number of drift function(s)  = 0\n",
       "Number of drift equation(s)  = 0\n",
       "\n",
       "Covariance Part\n",
       "---------------\n",
       "K-Bessel (Third Parameter = 1)\n",
       "- Sill         =      1.000\n",
       "- Range        =      0.200\n",
       "- Theo. Range  =      0.058\n",
       "Nugget Effect\n",
       "- Sill         =      0.100\n",
       "Total Sill     =      1.100\n",
       "Known Mean(s)     0.000"
      ]
     },
     "execution_count": 25,
     "metadata": {},
     "output_type": "execute_result"
    }
   ],
   "source": [
    "model = gl.Model.createFromParam(gl.ECov.BESSEL_K,param=1,range=rangev,sill=sill)\n",
    "model.addCovFromParam(gl.ECov.NUGGET,sill=nugget)\n",
    "model"
   ]
  },
  {
   "cell_type": "markdown",
   "id": "cb600beb",
   "metadata": {},
   "source": [
    "### Data"
   ]
  },
  {
   "cell_type": "code",
   "execution_count": 26,
   "id": "d62946c9",
   "metadata": {},
   "outputs": [
    {
     "data": {
      "text/plain": [
       "\n",
       "Data Base Characteristics\n",
       "=========================\n",
       "\n",
       "Data Base Summary\n",
       "-----------------\n",
       "File is organized as a set of isolated points\n",
       "Space dimension              = 2\n",
       "Number of Columns            = 5\n",
       "Total number of samples      = 100\n",
       "\n",
       "Variables\n",
       "---------\n",
       "Column = 0 - Name = rank - Locator = NA\n",
       "Column = 1 - Name = x-1 - Locator = x1\n",
       "Column = 2 - Name = x-2 - Locator = x2\n",
       "Column = 3 - Name = drift - Locator = NA\n",
       "Column = 4 - Name = Simu - Locator = z1"
      ]
     },
     "execution_count": 26,
     "metadata": {},
     "output_type": "execute_result"
    }
   ],
   "source": [
    "dat = gl.Db.createFillRandom(ndat, ndim, 0)\n",
    "dat[\"drift\"] = dat[\"x-1\"]\n",
    "gl.simtub(None,dat,model)\n",
    "dat"
   ]
  },
  {
   "cell_type": "code",
   "execution_count": 27,
   "id": "d2bef560",
   "metadata": {},
   "outputs": [
    {
     "data": {
      "text/plain": [
       "\n",
       "Data Base Characteristics\n",
       "=========================\n",
       "\n",
       "Data Base Summary\n",
       "-----------------\n",
       "File is organized as a set of isolated points\n",
       "Space dimension              = 2\n",
       "Number of Columns            = 5\n",
       "Total number of samples      = 100\n",
       "\n",
       "Variables\n",
       "---------\n",
       "Column = 0 - Name = rank - Locator = NA\n",
       "Column = 1 - Name = x-1 - Locator = x1\n",
       "Column = 2 - Name = x-2 - Locator = x2\n",
       "Column = 3 - Name = drift - Locator = NA\n",
       "Column = 4 - Name = Simu - Locator = z1"
      ]
     },
     "execution_count": 27,
     "metadata": {},
     "output_type": "execute_result"
    }
   ],
   "source": [
    "truecoeffs = [0.5]\n",
    "dat[\"Simu\"] = truecoeffs[0] + dat[\"Simu\"]\n",
    "#dat.setLocator(\"drift\",gl.ELoc.F)\n",
    "dat"
   ]
  },
  {
   "cell_type": "code",
   "execution_count": 28,
   "id": "e8298124",
   "metadata": {},
   "outputs": [
    {
     "data": {
      "text/plain": [
       "\n",
       "Model characteristics\n",
       "=====================\n",
       "Space dimension              = 2\n",
       "Number of variable(s)        = 1\n",
       "Number of basic structure(s) = 2\n",
       "Number of drift function(s)  = 1\n",
       "Number of drift equation(s)  = 1\n",
       "\n",
       "Covariance Part\n",
       "---------------\n",
       "K-Bessel (Third Parameter = 1)\n",
       "- Sill         =      1.000\n",
       "- Range        =      0.200\n",
       "- Theo. Range  =      0.058\n",
       "Nugget Effect\n",
       "- Sill         =      0.100\n",
       "Total Sill     =      1.100\n",
       "\n",
       "Drift Part\n",
       "----------\n",
       "Universality_Condition"
      ]
     },
     "execution_count": 28,
     "metadata": {},
     "output_type": "execute_result"
    }
   ],
   "source": [
    "model.setDriftIRF(0,0)\n",
    "model"
   ]
  },
  {
   "cell_type": "code",
   "execution_count": 29,
   "id": "c7d9deac",
   "metadata": {},
   "outputs": [],
   "source": [
    "X = model.evalDriftMatrix(dat).toTL()\n",
    "Covmat = model.evalCovMatrixSymmetric(dat).toTL()"
   ]
  },
  {
   "cell_type": "code",
   "execution_count": 30,
   "id": "d299a3b7",
   "metadata": {},
   "outputs": [
    {
     "data": {
      "text/plain": [
       "array([0.3])"
      ]
     },
     "execution_count": 30,
     "metadata": {},
     "output_type": "execute_result"
    }
   ],
   "source": [
    "A = np.array([1]).reshape(1,1)\n",
    "c = [0.3]\n",
    "\n",
    "estimCoeff(dat[\"Simu\"],Covmat,X,A,c)"
   ]
  },
  {
   "cell_type": "code",
   "execution_count": 31,
   "id": "122a9ab3",
   "metadata": {},
   "outputs": [
    {
     "data": {
      "text/plain": [
       "array([0.72774768])"
      ]
     },
     "execution_count": 31,
     "metadata": {},
     "output_type": "execute_result"
    }
   ],
   "source": [
    "estimCoeff(dat[\"Simu\"],Covmat,X)"
   ]
  },
  {
   "cell_type": "markdown",
   "id": "0e027acd",
   "metadata": {},
   "source": [
    "This lack of constraint can be emulated in gstlearn"
   ]
  },
  {
   "cell_type": "code",
   "execution_count": 32,
   "id": "2940c1e8",
   "metadata": {},
   "outputs": [
    {
     "name": "stdout",
     "output_type": "stream",
     "text": [
      "Likelihood calculation:\n",
      "- Number of active samples   = 100\n",
      "- Number of variables        = 1\n",
      "- Number of drift conditions = 1\n",
      "Optimal Drift coefficients = \n",
      "     0.728\n",
      "Log-Determinant = -16.939572\n",
      "Quadratic term = 90.846364\n",
      "Log-likelihood = -94.189890\n"
     ]
    }
   ],
   "source": [
    "likelihood = model.computeLogLikelihood(dat, True)"
   ]
  },
  {
   "cell_type": "markdown",
   "id": "022b0522",
   "metadata": {},
   "source": [
    "## Multivariate"
   ]
  },
  {
   "cell_type": "code",
   "execution_count": 33,
   "id": "1fa64d76",
   "metadata": {},
   "outputs": [],
   "source": [
    "s1=0.4\n",
    "s2=2\n",
    "r = 0.8\n",
    "sills = np.array([s1**2,r*s1*s2,r*s1*s2,s2**2]).reshape(2,2)\n",
    "model = gl.Model.createFromParam(gl.ECov.BESSEL_K,param=1,range=rangev,sills=sills.reshape(-1))"
   ]
  },
  {
   "cell_type": "code",
   "execution_count": 34,
   "id": "9fb73276",
   "metadata": {},
   "outputs": [
    {
     "data": {
      "text/plain": [
       "\n",
       "Data Base Characteristics\n",
       "=========================\n",
       "\n",
       "Data Base Summary\n",
       "-----------------\n",
       "File is organized as a set of isolated points\n",
       "Space dimension              = 2\n",
       "Number of Columns            = 8\n",
       "Total number of samples      = 200\n",
       "\n",
       "Variables\n",
       "---------\n",
       "Column = 0 - Name = rank - Locator = NA\n",
       "Column = 1 - Name = x-1 - Locator = x1\n",
       "Column = 2 - Name = x-2 - Locator = x2\n",
       "Column = 3 - Name = f-1 - Locator = f1\n",
       "Column = 4 - Name = f-2 - Locator = f2\n",
       "Column = 5 - Name = drift - Locator = NA\n",
       "Column = 6 - Name = Simu.1 - Locator = z1\n",
       "Column = 7 - Name = Simu.2 - Locator = z2"
      ]
     },
     "execution_count": 34,
     "metadata": {},
     "output_type": "execute_result"
    }
   ],
   "source": [
    "ndat=200\n",
    "dat = gl.Db.createFillRandom(ndat, ndim, 0,2)\n",
    "dat[\"drift\"] = dat[\"x-1\"]\n",
    "gl.simtub(None,dat,model)\n",
    "dat"
   ]
  },
  {
   "cell_type": "code",
   "execution_count": 35,
   "id": "4a3fa5d9",
   "metadata": {},
   "outputs": [
    {
     "data": {
      "image/png": "[encoded data removed]",
      "text/plain": [
       "<Figure size 640x480 with 1 Axes>"
      ]
     },
     "metadata": {},
     "output_type": "display_data"
    }
   ],
   "source": [
    "ax = plt.scatter(dat[\"Simu.1\"],dat[\"Simu.2\"])"
   ]
  },
  {
   "cell_type": "code",
   "execution_count": 36,
   "id": "d619a2e9",
   "metadata": {},
   "outputs": [],
   "source": [
    "truecoeffs1 = [0.5,3]\n",
    "truecoeffs2 = [1.5,-2]\n",
    "model.setDriftIRF(0,1)\n",
    "dat[\"Simu.1\"] =  truecoeffs1[0] + truecoeffs1[1] * dat[\"drift\"] + dat[\"Simu.1\"]\n",
    "dat[\"Simu.2\"] =  truecoeffs2[0] + truecoeffs2[1] * dat[\"drift\"] + dat[\"Simu.2\"]\n",
    "dat.setLocator(\"drift\",gl.ELoc.F)"
   ]
  },
  {
   "cell_type": "markdown",
   "id": "392a55a5",
   "metadata": {},
   "source": [
    "### No constraint"
   ]
  },
  {
   "cell_type": "code",
   "execution_count": 37,
   "id": "3461b0e9",
   "metadata": {},
   "outputs": [],
   "source": [
    "Covmat = model.evalCovMatrixSymmetric(dat).toTL()\n",
    "X = model.evalDriftMatrix(dat).toTL()"
   ]
  },
  {
   "cell_type": "code",
   "execution_count": 38,
   "id": "8feaa1f5",
   "metadata": {},
   "outputs": [],
   "source": [
    "Z = dat[\"Simu*\"]\n",
    "Z=Z.T.reshape(-1)"
   ]
  },
  {
   "cell_type": "code",
   "execution_count": 39,
   "id": "dc704fed",
   "metadata": {
    "scrolled": true
   },
   "outputs": [
    {
     "data": {
      "text/plain": [
       "[<matplotlib.lines.Line2D at 0x7fa300318f10>]"
      ]
     },
     "execution_count": 39,
     "metadata": {},
     "output_type": "execute_result"
    },
    {
     "data": {
      "image/png": "[encoded data removed]",
      "text/plain": [
       "<Figure size 640x480 with 2 Axes>"
      ]
     },
     "metadata": {},
     "output_type": "display_data"
    }
   ],
   "source": [
    "coeffs = estimCoeff(Z,Covmat,X)\n",
    "fig,ax = plt.subplots(1,2)\n",
    "ax[0].scatter(dat[\"x-1\"],dat[\"Simu.1\"])\n",
    "ax[0].plot([0,1],[coeffs[0],coeffs[0]+coeffs[1]])\n",
    "ax[1].scatter(dat[\"x-1\"],dat[\"Simu.2\"])\n",
    "ax[1].plot([0,1],[coeffs[2],coeffs[2]+coeffs[3]])"
   ]
  },
  {
   "cell_type": "code",
   "execution_count": 42,
   "id": "60b74497-2398-42a9-ad4d-993e0d62e78c",
   "metadata": {},
   "outputs": [
    {
     "data": {
      "text/plain": [
       "\n",
       "Data Base Characteristics\n",
       "=========================\n",
       "\n",
       "Data Base Summary\n",
       "-----------------\n",
       "File is organized as a set of isolated points\n",
       "Space dimension              = 2\n",
       "Number of Columns            = 8\n",
       "Total number of samples      = 200\n",
       "\n",
       "Variables\n",
       "---------\n",
       "Column = 0 - Name = rank - Locator = NA\n",
       "Column = 1 - Name = x-1 - Locator = x1\n",
       "Column = 2 - Name = x-2 - Locator = x2\n",
       "Column = 3 - Name = f-1 - Locator = NA\n",
       "Column = 4 - Name = f-2 - Locator = f2\n",
       "Column = 5 - Name = drift - Locator = f1\n",
       "Column = 6 - Name = Simu.1 - Locator = z1\n",
       "Column = 7 - Name = Simu.2 - Locator = z2"
      ]
     },
     "execution_count": 42,
     "metadata": {},
     "output_type": "execute_result"
    }
   ],
   "source": [
    "dat"
   ]
  },
  {
   "cell_type": "code",
   "execution_count": 40,
   "id": "71ccd28e",
   "metadata": {},
   "outputs": [
    {
     "name": "stdout",
     "output_type": "stream",
     "text": [
      "No Constraint =  [ 0.59138302  3.04949823  1.96840598 -2.14045187]\n"
     ]
    }
   ],
   "source": [
    "print(\"No Constraint = \",coeffs)"
   ]
  },
  {
   "cell_type": "markdown",
   "id": "bf76475d",
   "metadata": {},
   "source": [
    "This option can be emulated in gstlearn"
   ]
  },
  {
   "cell_type": "code",
   "execution_count": 41,
   "id": "9d14a889",
   "metadata": {},
   "outputs": [
    {
     "name": "stdout",
     "output_type": "stream",
     "text": [
      "Likelihood calculation:\n",
      "- Number of active samples   = 200\n",
      "- Number of variables        = 2\n",
      "- Number of drift conditions = 4\n",
      "Optimal Drift coefficients = \n",
      "     0.591     3.049     1.968    -2.140\n",
      "Log-Determinant = -338.258519\n",
      "Quadratic term = 484.076013\n",
      "Log-likelihood = -301.854724\n"
     ]
    }
   ],
   "source": [
    "likelihood = model.computeLogLikelihood(dat, True)"
   ]
  },
  {
   "cell_type": "markdown",
   "id": "7e8e8808",
   "metadata": {},
   "source": [
    "### Means of both variables are imposed"
   ]
  },
  {
   "cell_type": "code",
   "execution_count": null,
   "id": "fb16faf6",
   "metadata": {},
   "outputs": [],
   "source": [
    "A = np.array([[1,0,0,0],[0,0,1,0]])\n",
    "c = [0.5,1.5]\n",
    "coeffs=estimCoeff(Z,Covmat,X,A,c)"
   ]
  },
  {
   "cell_type": "code",
   "execution_count": null,
   "id": "8d292d7f",
   "metadata": {},
   "outputs": [],
   "source": [
    "fig,ax = plt.subplots(1,2)\n",
    "ax[0].scatter(dat[\"x-1\"],dat[\"Simu.1\"])\n",
    "ax[0].plot([0,1],[coeffs[0],coeffs[0]+coeffs[1]])\n",
    "ax[1].scatter(dat[\"x-1\"],dat[\"Simu.2\"])\n",
    "ax[1].plot([0,1],[coeffs[2],coeffs[2]+coeffs[3]])"
   ]
  },
  {
   "cell_type": "code",
   "execution_count": null,
   "id": "007e4a7d",
   "metadata": {},
   "outputs": [],
   "source": [
    "print(\"a0=0.5 and b0=1.5) = \",coeffs)"
   ]
  },
  {
   "cell_type": "markdown",
   "id": "11c42334",
   "metadata": {},
   "source": [
    "### Same coefficients for mean and drift coefficients"
   ]
  },
  {
   "cell_type": "code",
   "execution_count": null,
   "id": "c31f0b27",
   "metadata": {},
   "outputs": [],
   "source": [
    "A = np.array([[1,0,-1,0],[0,1,0,-1]])\n",
    "c = [0,0]\n",
    "coeffs = estimCoeff(Z,Covmat,X,A,c)"
   ]
  },
  {
   "cell_type": "code",
   "execution_count": null,
   "id": "96e8c5cc",
   "metadata": {},
   "outputs": [],
   "source": [
    "fig,ax = plt.subplots(1,2)\n",
    "ax[0].scatter(dat[\"x-1\"],dat[\"Simu.1\"])\n",
    "ax[0].plot([0,1],[coeffs[0],coeffs[0]+coeffs[1]])\n",
    "ax[1].scatter(dat[\"x-1\"],dat[\"Simu.2\"])\n",
    "ax[1].plot([0,1],[coeffs[2],coeffs[2]+coeffs[3]])"
   ]
  },
  {
   "cell_type": "code",
   "execution_count": null,
   "id": "1309a344",
   "metadata": {},
   "outputs": [],
   "source": [
    "print(\"a0=b0 and a1=b1\",coeffs)"
   ]
  },
  {
   "cell_type": "markdown",
   "id": "94014074",
   "metadata": {},
   "source": [
    "This can be emulated with the current *flagLinked* option"
   ]
  },
  {
   "cell_type": "code",
   "execution_count": null,
   "id": "b00fb43c",
   "metadata": {},
   "outputs": [],
   "source": [
    "model.setFlagLinked(True)\n",
    "likelihood = model.computeLogLikelihood(dat, True)"
   ]
  },
  {
   "cell_type": "markdown",
   "id": "5e691366",
   "metadata": {},
   "source": [
    "### Means are equal"
   ]
  },
  {
   "cell_type": "code",
   "execution_count": null,
   "id": "9aaec14c",
   "metadata": {},
   "outputs": [],
   "source": [
    "A = np.array([[1,0,-1,0]])\n",
    "c = [0]\n",
    "coeffs = estimCoeff(Z,Covmat,X,A,c)"
   ]
  },
  {
   "cell_type": "code",
   "execution_count": null,
   "id": "c727b6fb",
   "metadata": {},
   "outputs": [],
   "source": [
    "fig,ax = plt.subplots(1,2)\n",
    "ax[0].scatter(dat[\"x-1\"],dat[\"Simu.1\"])\n",
    "ax[0].plot([0,1],[coeffs[0],coeffs[0]+coeffs[1]])\n",
    "ax[1].scatter(dat[\"x-1\"],dat[\"Simu.2\"])\n",
    "ax[1].plot([0,1],[coeffs[2],coeffs[2]+coeffs[3]])"
   ]
  },
  {
   "cell_type": "code",
   "execution_count": null,
   "id": "d5282470",
   "metadata": {},
   "outputs": [],
   "source": [
    "print(\"a0 = b0\",coeffs)"
   ]
  },
  {
   "cell_type": "markdown",
   "id": "d5643bd0",
   "metadata": {},
   "source": [
    "### Means are linked, coefficient of drift on the first variable is imposed"
   ]
  },
  {
   "cell_type": "code",
   "execution_count": null,
   "id": "63c640c9",
   "metadata": {},
   "outputs": [],
   "source": [
    "A = np.array([[1,0,-1,0],[0,1,0,0]])\n",
    "c = [0,1]\n",
    "coeffs = estimCoeff(Z,Covmat,X,A,c)"
   ]
  },
  {
   "cell_type": "code",
   "execution_count": null,
   "id": "206d535b",
   "metadata": {},
   "outputs": [],
   "source": [
    "fig,ax = plt.subplots(1,2)\n",
    "ax[0].scatter(dat[\"x-1\"],dat[\"Simu.1\"])\n",
    "ax[0].plot([0,1],[coeffs[0],coeffs[0]+coeffs[1]])\n",
    "ax[1].scatter(dat[\"x-1\"],dat[\"Simu.2\"])\n",
    "ax[1].plot([0,1],[coeffs[2],coeffs[2]+coeffs[3]])"
   ]
  },
  {
   "cell_type": "code",
   "execution_count": null,
   "id": "f361d57a",
   "metadata": {},
   "outputs": [],
   "source": [
    "print(\"a0=b0 and a1=1 \",coeffs)"
   ]
  }
 ],
 "metadata": {
  "kernelspec": {
   "display_name": "Python 3 (ipykernel)",
   "language": "python",
   "name": "python3"
  },
  "language_info": {
   "codemirror_mode": {
    "name": "ipython",
    "version": 3
   },
   "file_extension": ".py",
   "mimetype": "text/x-python",
   "name": "python",
   "nbconvert_exporter": "python",
   "pygments_lexer": "ipython3",
   "version": "3.10.12"
  },
  "toc": {
   "base_numbering": 1,
   "nav_menu": {},
   "number_sections": true,
   "sideBar": true,
   "skip_h1_title": true,
   "title_cell": "Table of Contents",
   "title_sidebar": "Contents",
   "toc_cell": false,
   "toc_position": {
    "height": "calc(100% - 180px)",
    "left": "10px",
    "top": "150px",
    "width": "302.6px"
   },
   "toc_section_display": true,
   "toc_window_display": false
  }
 },
 "nbformat": 4,
 "nbformat_minor": 5
}
