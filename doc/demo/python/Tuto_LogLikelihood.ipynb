{
 "cells": [
  {
   "cell_type": "code",
   "execution_count": null,
   "id": "b5ef7c60",
   "metadata": {},
   "outputs": [],
   "source": [
    "import gstlearn as gl\n",
    "import gstlearn.plot as gp\n",
    "import gstlearn.document as gdoc\n",
    "import numpy as np\n",
    "import matplotlib.pyplot as plt\n",
    "\n",
    "gdoc.setNoScroll()"
   ]
  },
  {
   "cell_type": "markdown",
   "id": "07a69967",
   "metadata": {},
   "source": []
  },
  {
   "cell_type": "markdown",
   "id": "c0a673db",
   "metadata": {},
   "source": [
    "# Constraints on drifts"
   ]
  },
  {
   "cell_type": "code",
   "execution_count": null,
   "id": "7215e052",
   "metadata": {},
   "outputs": [],
   "source": []
  },
  {
   "cell_type": "markdown",
   "id": "7a5f9de8",
   "metadata": {},
   "source": [
    "<!-- SUMMARY: Estimation and Simulations performed in the framework of SPDE -->\n",
    "\n",
    "<!-- CATEGORY: SPDE -->"
   ]
  },
  {
   "cell_type": "markdown",
   "id": "93475895",
   "metadata": {},
   "source": [
    "This tutorial has two essential taks:\n",
    "\n",
    "- cross-check the calculation of the Log-Likelihood (by hand or with gstlearn)\n",
    "- design the definition pattern for the linkage of the drift functions in the multivariable framework"
   ]
  },
  {
   "cell_type": "markdown",
   "id": "70341e3d",
   "metadata": {},
   "source": [
    "## Parameters"
   ]
  },
  {
   "cell_type": "code",
   "execution_count": null,
   "id": "69b7da3c",
   "metadata": {},
   "outputs": [],
   "source": [
    "# Data\n",
    "np.random.seed(123)\n",
    "ndat = 100\n",
    "ndim = 2\n",
    "\n",
    "# Model\n",
    "rangev = 0.2\n",
    "sill = 1.\n",
    "nugget = 0.1"
   ]
  },
  {
   "cell_type": "code",
   "execution_count": null,
   "id": "47f26cfc",
   "metadata": {},
   "outputs": [],
   "source": [
    "# Z : vecteur des données\n",
    "# Covmat : matrice de covariance\n",
    "# drift : matrice de drift\n",
    "# A et c permettent d'encoder les contraintes sur le vecteur des coefficients beta :\n",
    "# sous la forme A * beta = c\n",
    "def estimCoeff(Z,Covmat,drift,A=None,c=None):\n",
    "    if A is not None and c is not None: \n",
    "        if A.shape[0]!= len(c) or  A.shape[1]!=drift.shape[1]:\n",
    "            return np.nan\n",
    "    \n",
    "    invcovmat = np.linalg.inv(Covmat)\n",
    "    invu = np.linalg.inv(drift.T@invcovmat@drift)\n",
    "    estimatedCoeffs = invu@drift.T@invcovmat@Z\n",
    "    \n",
    "    if A is None or c is None :\n",
    "        return estimatedCoeffs\n",
    "    \n",
    "    temp = invu@A.T@np.linalg.inv(A@invu@A.T)\n",
    "    return estimatedCoeffs - temp@A@estimatedCoeffs+temp@c\n",
    "\n",
    "def computeLogLikelihood(Z,Covmat,drift,coeffs=None,A=None,c=None):\n",
    "    if coeffs is None:\n",
    "        coeffs = estimCoeff(Z,Covmat,drift,A,c)\n",
    "    Zc = Z - coeffs@drift.T\n",
    "    cholcovmat = np.linalg.cholesky(Covmat)\n",
    "    Zcstd = np.linalg.solve(cholcovmat,Zc) \n",
    "    quad = Zcstd.T@Zcstd\n",
    "    logdet = 2. * np.sum(np.log(np.diag(cholcovmat)))\n",
    "    return -0.5 * (quad + logdet + len(Z) * np.log(2.* np.pi))\n",
    "\n",
    "def printCoeffs(title, coeffs, ndec=6):\n",
    "    print(title + \" : \" + f\"{str(np.round(coeffs,ndec))}\")"
   ]
  },
  {
   "cell_type": "markdown",
   "id": "ec47b3e5",
   "metadata": {},
   "source": [
    "## Monovariate case"
   ]
  },
  {
   "cell_type": "markdown",
   "id": "dca380bf",
   "metadata": {},
   "source": [
    "### Model"
   ]
  },
  {
   "cell_type": "code",
   "execution_count": null,
   "id": "17ada3e9",
   "metadata": {},
   "outputs": [],
   "source": [
    "model = gl.Model.createFromParam(gl.ECov.MATERN,param=1,range=rangev,sill=sill)\n",
    "model.addCovFromParam(gl.ECov.NUGGET,sill=nugget)\n",
    "model"
   ]
  },
  {
   "cell_type": "markdown",
   "id": "0970f875",
   "metadata": {},
   "source": [
    "### Data"
   ]
  },
  {
   "cell_type": "code",
   "execution_count": null,
   "id": "393c4a35",
   "metadata": {},
   "outputs": [],
   "source": [
    "dat = gl.Db.createFillRandom(ndat, ndim, 0)\n",
    "dat[\"drift\"] = dat[\"x-1\"]\n",
    "gl.simtub(None,dat,model)\n",
    "dat"
   ]
  },
  {
   "cell_type": "code",
   "execution_count": null,
   "id": "f555d201",
   "metadata": {},
   "outputs": [],
   "source": [
    "truecoeffs = [0.5]\n",
    "dat[\"Simu\"] = truecoeffs[0] + dat[\"Simu\"]\n",
    "#dat.setLocator(\"drift\",gl.ELoc.F)\n",
    "dat"
   ]
  },
  {
   "cell_type": "code",
   "execution_count": null,
   "id": "4c911e28",
   "metadata": {},
   "outputs": [],
   "source": [
    "model.setDriftIRF(0,0)\n",
    "model"
   ]
  },
  {
   "cell_type": "code",
   "execution_count": null,
   "id": "951571e2",
   "metadata": {},
   "outputs": [],
   "source": [
    "X = model.evalDriftMat(dat).toTL()\n",
    "Covmat = model.evalCovMatSym(dat).toTL()"
   ]
  },
  {
   "cell_type": "code",
   "execution_count": null,
   "id": "3d675ce2",
   "metadata": {},
   "outputs": [],
   "source": [
    "A = np.array([1]).reshape(1,1)\n",
    "c = [0.3]\n",
    "\n",
    "coeffs = estimCoeff(dat[\"Simu\"],Covmat,X,A,c)\n",
    "printCoeffs(\"a=0.3\", coeffs)"
   ]
  },
  {
   "cell_type": "markdown",
   "id": "8237c265",
   "metadata": {},
   "source": [
    "This lack of constraint can be emulated in gstlearn"
   ]
  },
  {
   "cell_type": "code",
   "execution_count": null,
   "id": "8f5ab0c3",
   "metadata": {},
   "outputs": [],
   "source": [
    "c"
   ]
  },
  {
   "cell_type": "code",
   "execution_count": null,
   "id": "8f820db1",
   "metadata": {},
   "outputs": [],
   "source": [
    "likelihood = model.computeLogLikelihood(dat, True)\n",
    "\n",
    "print(f\"Compute manual loglikelihood = \" + str(np.round(computeLogLikelihood(dat[\"Simu\"],Covmat,X),6)))"
   ]
  },
  {
   "cell_type": "markdown",
   "id": "41808419",
   "metadata": {},
   "source": [
    "## Multivariate"
   ]
  },
  {
   "cell_type": "code",
   "execution_count": null,
   "id": "72600af1",
   "metadata": {},
   "outputs": [],
   "source": [
    "s1=0.4\n",
    "s2=2\n",
    "r = 0.8\n",
    "sills = np.array([[s1**2,r*s1*s2],[r*s1*s2,s2**2]])\n",
    "model = gl.Model.createFromParam(gl.ECov.MATERN,param=1,range=rangev,sills=sills)"
   ]
  },
  {
   "cell_type": "code",
   "execution_count": null,
   "id": "624f6029",
   "metadata": {
    "scrolled": true
   },
   "outputs": [],
   "source": [
    "ndat=200\n",
    "dat = gl.Db.createFillRandom(ndat, ndim, 0,2)\n",
    "dat[\"drift\"] = dat[\"x-1\"]\n",
    "gl.simtub(None,dat,model)\n",
    "dat"
   ]
  },
  {
   "cell_type": "code",
   "execution_count": null,
   "id": "f690901b",
   "metadata": {},
   "outputs": [],
   "source": [
    "ax = plt.scatter(dat[\"Simu.1\"],dat[\"Simu.2\"])"
   ]
  },
  {
   "cell_type": "code",
   "execution_count": null,
   "id": "c29a4886",
   "metadata": {},
   "outputs": [],
   "source": [
    "truecoeffs1 = [0.5,3]\n",
    "truecoeffs2 = [1.5,-2]\n",
    "model.setDriftIRF(0,1)\n",
    "dat[\"Simu.1\"] =  truecoeffs1[0] + truecoeffs1[1] * dat[\"drift\"] + dat[\"Simu.1\"]\n",
    "dat[\"Simu.2\"] =  truecoeffs2[0] + truecoeffs2[1] * dat[\"drift\"] + dat[\"Simu.2\"]\n",
    "dat.setLocator(\"drift\",gl.ELoc.F)"
   ]
  },
  {
   "cell_type": "markdown",
   "id": "453b6519",
   "metadata": {},
   "source": [
    "### No constraint"
   ]
  },
  {
   "cell_type": "code",
   "execution_count": null,
   "id": "f92d8f70",
   "metadata": {},
   "outputs": [],
   "source": [
    "Covmat = model.evalCovMatSym(dat).toTL()\n",
    "X = model.evalDriftMat(dat).toTL()"
   ]
  },
  {
   "cell_type": "code",
   "execution_count": null,
   "id": "1bd49eee",
   "metadata": {},
   "outputs": [],
   "source": [
    "Z = dat[\"Simu*\"]\n",
    "Z=Z.T.reshape(-1)"
   ]
  },
  {
   "cell_type": "code",
   "execution_count": null,
   "id": "6aab5736",
   "metadata": {
    "scrolled": true
   },
   "outputs": [],
   "source": [
    "coeffs = estimCoeff(Z,Covmat,X)\n",
    "fig,ax = gp.init(1,2)\n",
    "ax[0].scatter(dat[\"x-1\"],dat[\"Simu.1\"])\n",
    "ax[0].plot([0,1],[coeffs[0],coeffs[0]+coeffs[1]])\n",
    "ax[1].scatter(dat[\"x-1\"],dat[\"Simu.2\"])\n",
    "ax[1].plot([0,1],[coeffs[2],coeffs[2]+coeffs[3]])\n",
    "gp.close()"
   ]
  },
  {
   "cell_type": "code",
   "execution_count": null,
   "id": "8f1c45da",
   "metadata": {},
   "outputs": [],
   "source": [
    "printCoeffs(\"No Constraint\",coeffs)"
   ]
  },
  {
   "cell_type": "markdown",
   "id": "5898bf75",
   "metadata": {},
   "source": [
    "This option can be emulated in gstlearn"
   ]
  },
  {
   "cell_type": "code",
   "execution_count": null,
   "id": "d7e74521",
   "metadata": {},
   "outputs": [],
   "source": [
    "likelihood = model.computeLogLikelihood(dat, True)"
   ]
  },
  {
   "cell_type": "markdown",
   "id": "f3a885b2",
   "metadata": {},
   "source": [
    "### Means of both variables are imposed"
   ]
  },
  {
   "cell_type": "code",
   "execution_count": null,
   "id": "5bdeda6e",
   "metadata": {},
   "outputs": [],
   "source": [
    "A = np.array([[1,0,0,0],[0,0,1,0]])\n",
    "c = [0.5,1.5]\n",
    "coeffs=estimCoeff(Z,Covmat,X,A,c)"
   ]
  },
  {
   "cell_type": "code",
   "execution_count": null,
   "id": "204df5e5",
   "metadata": {},
   "outputs": [],
   "source": [
    "fig,ax = gp.init(1,2)\n",
    "ax[0].scatter(dat[\"x-1\"],dat[\"Simu.1\"])\n",
    "ax[0].plot([0,1],[coeffs[0],coeffs[0]+coeffs[1]])\n",
    "ax[1].scatter(dat[\"x-1\"],dat[\"Simu.2\"])\n",
    "ax[1].plot([0,1],[coeffs[2],coeffs[2]+coeffs[3]])\n",
    "gp.close()"
   ]
  },
  {
   "cell_type": "code",
   "execution_count": null,
   "id": "e5e6b90a",
   "metadata": {},
   "outputs": [],
   "source": [
    "printCoeffs(\"a0=0.5 and b0=1.5\", coeffs)"
   ]
  },
  {
   "cell_type": "markdown",
   "id": "d1ba45f3",
   "metadata": {},
   "source": [
    "### Same coefficients for mean and drift coefficients"
   ]
  },
  {
   "cell_type": "code",
   "execution_count": null,
   "id": "9315d762",
   "metadata": {},
   "outputs": [],
   "source": [
    "A = np.array([[1,0,-1,0],[0,1,0,-1]])\n",
    "c = [0,0]\n",
    "coeffs = estimCoeff(Z,Covmat,X,A,c)"
   ]
  },
  {
   "cell_type": "code",
   "execution_count": null,
   "id": "c4a338d5",
   "metadata": {},
   "outputs": [],
   "source": [
    "fig,ax = gp.init(1,2)\n",
    "ax[0].scatter(dat[\"x-1\"],dat[\"Simu.1\"])\n",
    "ax[0].plot([0,1],[coeffs[0],coeffs[0]+coeffs[1]])\n",
    "ax[1].scatter(dat[\"x-1\"],dat[\"Simu.2\"])\n",
    "ax[1].plot([0,1],[coeffs[2],coeffs[2]+coeffs[3]])\n",
    "gp.close()"
   ]
  },
  {
   "cell_type": "code",
   "execution_count": null,
   "id": "ee2d7343",
   "metadata": {},
   "outputs": [],
   "source": [
    "printCoeffs(\"a0=b0 and a1=b1\", coeffs)"
   ]
  },
  {
   "cell_type": "markdown",
   "id": "9f2caf0a",
   "metadata": {},
   "source": [
    "This can be emulated with the current *flagLinked* option"
   ]
  },
  {
   "cell_type": "code",
   "execution_count": null,
   "id": "a647257e",
   "metadata": {},
   "outputs": [],
   "source": [
    "model.setFlagLinked(True)\n",
    "likelihood = model.computeLogLikelihood(dat, True)"
   ]
  },
  {
   "cell_type": "markdown",
   "id": "80d5cb58",
   "metadata": {},
   "source": [
    "### Means are equal"
   ]
  },
  {
   "cell_type": "code",
   "execution_count": null,
   "id": "e9c1993b",
   "metadata": {},
   "outputs": [],
   "source": [
    "A = np.array([[1,0,-1,0]])\n",
    "c = [0]\n",
    "coeffs = estimCoeff(Z,Covmat,X,A,c)"
   ]
  },
  {
   "cell_type": "code",
   "execution_count": null,
   "id": "c67d130b",
   "metadata": {},
   "outputs": [],
   "source": [
    "fig,ax = gp.init(1,2)\n",
    "ax[0].scatter(dat[\"x-1\"],dat[\"Simu.1\"])\n",
    "ax[0].plot([0,1],[coeffs[0],coeffs[0]+coeffs[1]])\n",
    "ax[1].scatter(dat[\"x-1\"],dat[\"Simu.2\"])\n",
    "ax[1].plot([0,1],[coeffs[2],coeffs[2]+coeffs[3]])\n",
    "gp.close()"
   ]
  },
  {
   "cell_type": "code",
   "execution_count": null,
   "id": "5a8d0c0b",
   "metadata": {},
   "outputs": [],
   "source": [
    "printCoeffs(\"a0=b0\", coeffs)"
   ]
  },
  {
   "cell_type": "markdown",
   "id": "af803cb3",
   "metadata": {},
   "source": [
    "### Means are linked, coefficient of drift on the first variable is imposed"
   ]
  },
  {
   "cell_type": "code",
   "execution_count": null,
   "id": "83e573bc",
   "metadata": {},
   "outputs": [],
   "source": [
    "A = np.array([[1,0,-1,0],[0,1,0,0]])\n",
    "c = [0,1]\n",
    "coeffs = estimCoeff(Z,Covmat,X,A,c)"
   ]
  },
  {
   "cell_type": "code",
   "execution_count": null,
   "id": "2a997801",
   "metadata": {},
   "outputs": [],
   "source": [
    "fig,ax = gp.init(1,2)\n",
    "ax[0].scatter(dat[\"x-1\"],dat[\"Simu.1\"])\n",
    "ax[0].plot([0,1],[coeffs[0],coeffs[0]+coeffs[1]])\n",
    "ax[1].scatter(dat[\"x-1\"],dat[\"Simu.2\"])\n",
    "ax[1].plot([0,1],[coeffs[2],coeffs[2]+coeffs[3]])\n",
    "gp.close()"
   ]
  },
  {
   "cell_type": "code",
   "execution_count": null,
   "id": "61a9aab9",
   "metadata": {},
   "outputs": [],
   "source": [
    "printCoeffs(\"a0=b0 and a1=1\", coeffs)"
   ]
  }
 ],
 "metadata": {
  "kernelspec": {
   "display_name": "Python 3 (ipykernel)",
   "language": "python",
   "name": "python3"
  },
  "language_info": {
   "codemirror_mode": {
    "name": "ipython",
    "version": 3
   },
   "file_extension": ".py",
   "mimetype": "text/x-python",
   "name": "python",
   "nbconvert_exporter": "python",
   "pygments_lexer": "ipython3",
   "version": "3.10.5"
  },
  "toc": {
   "base_numbering": 1,
   "nav_menu": {},
   "number_sections": true,
   "sideBar": true,
   "skip_h1_title": true,
   "title_cell": "Table of Contents",
   "title_sidebar": "Contents",
   "toc_cell": false,
   "toc_position": {
    "height": "calc(100% - 180px)",
    "left": "10px",
    "top": "150px",
    "width": "302.6px"
   },
   "toc_section_display": true,
   "toc_window_display": false
  }
 },
 "nbformat": 4,
 "nbformat_minor": 5
}
