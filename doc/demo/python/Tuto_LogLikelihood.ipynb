{
 "cells": [
  {
   "cell_type": "code",
   "execution_count": null,
   "id": "b47caee9",
   "metadata": {},
   "outputs": [],
   "source": [
    "import gstlearn as gl\n",
    "import gstlearn.plot as gp\n",
    "import gstlearn.document as gdoc\n",
    "import numpy as np\n",
    "import matplotlib.pyplot as plt\n",
    "\n",
    "gdoc.setNoScroll()"
   ]
  },
  {
   "cell_type": "markdown",
   "id": "e2f72430",
   "metadata": {},
   "source": [
    "# Constraints on drifts"
   ]
  },
  {
   "cell_type": "code",
   "execution_count": null,
   "id": "65a5f582",
   "metadata": {},
   "outputs": [],
   "source": []
  },
  {
   "cell_type": "markdown",
   "id": "363a5a94",
   "metadata": {},
   "source": [
    "<!-- SUMMARY: Estimation and Simulations performed in the framework of SPDE -->\n",
    "\n",
    "<!-- CATEGORY: SPDE -->"
   ]
  },
  {
   "cell_type": "markdown",
   "id": "6833d09d",
   "metadata": {},
   "source": [
    "This tutorial has two essential taks:\n",
    "\n",
    "- cross-check the calculation of the Log-Likelihood (by hand or with gstlearn)\n",
    "- design the definition pattern for the linkage of the drift functions in the multivariable framework"
   ]
  },
  {
   "cell_type": "markdown",
   "id": "5e102de8",
   "metadata": {},
   "source": [
    "## Parameters"
   ]
  },
  {
   "cell_type": "code",
   "execution_count": null,
   "id": "7c6c3f27",
   "metadata": {},
   "outputs": [],
   "source": [
    "# Data\n",
    "np.random.seed(123)\n",
    "ndat = 100\n",
    "ndim = 2\n",
    "\n",
    "# Model\n",
    "rangev = 0.2\n",
    "sill = 1.\n",
    "nugget = 0.1"
   ]
  },
  {
   "cell_type": "code",
   "execution_count": null,
   "id": "95b087d7",
   "metadata": {},
   "outputs": [],
   "source": [
    "# Z : vecteur des données\n",
    "# Covmat : matrice de covariance\n",
    "# drift : matrice de drift\n",
    "# A et c permettent d'encoder les contraintes sur le vecteur des coefficients beta :\n",
    "# sous la forme A * beta = c\n",
    "def estimCoeff(Z,Covmat,drift,A=None,c=None):\n",
    "    if A is not None and c is not None: \n",
    "        if A.shape[0]!= len(c) or  A.shape[1]!=drift.shape[1]:\n",
    "            return np.nan\n",
    "    \n",
    "    invcovmat = np.linalg.inv(Covmat)\n",
    "    invu = np.linalg.inv(drift.T@invcovmat@drift)\n",
    "    estimatedCoeffs = invu@drift.T@invcovmat@Z\n",
    "    \n",
    "    if A is None or c is None :\n",
    "        return estimatedCoeffs\n",
    "    \n",
    "    temp = invu@A.T@np.linalg.inv(A@invu@A.T)\n",
    "    return estimatedCoeffs - temp@A@estimatedCoeffs+temp@c\n",
    "\n",
    "def computeLogLikelihoodByHand(Z,Covmat,drift,coeffs=None,A=None,c=None):\n",
    "    if coeffs is None:\n",
    "        coeffs = estimCoeff(Z,Covmat,drift,A,c)\n",
    "    Zc = Z - coeffs@drift.T\n",
    "    cholcovmat = np.linalg.cholesky(Covmat)\n",
    "    Zcstd = np.linalg.solve(cholcovmat,Zc) \n",
    "    quad = Zcstd.T@Zcstd\n",
    "    logdet = 2. * np.sum(np.log(np.diag(cholcovmat)))\n",
    "    return -0.5 * (quad + logdet + len(Z) * np.log(2.* np.pi))\n",
    "\n",
    "def printCoeffs(title, coeffs, ndec=6):\n",
    "    print(title + \" : \" + f\"{str(np.round(coeffs,ndec))}\")"
   ]
  },
  {
   "cell_type": "markdown",
   "id": "8a9cfb63",
   "metadata": {},
   "source": [
    "## Monovariate case"
   ]
  },
  {
   "cell_type": "markdown",
   "id": "0feb5395",
   "metadata": {},
   "source": [
    "### Model"
   ]
  },
  {
   "cell_type": "code",
   "execution_count": null,
   "id": "3809a3b8",
   "metadata": {},
   "outputs": [],
   "source": [
    "model = gl.Model.createFromParam(gl.ECov.MATERN,param=1,range=rangev,sill=sill)\n",
    "model.addCovFromParam(gl.ECov.NUGGET,sill=nugget)\n",
    "model"
   ]
  },
  {
   "cell_type": "markdown",
   "id": "3ef0cef0",
   "metadata": {},
   "source": [
    "### Data"
   ]
  },
  {
   "cell_type": "code",
   "execution_count": null,
   "id": "48332c1e",
   "metadata": {},
   "outputs": [],
   "source": [
    "dat = gl.Db.createFillRandom(ndat, ndim, 0)\n",
    "dat[\"drift\"] = dat[\"x-1\"]\n",
    "gl.simtub(None,dat,model)\n",
    "dat"
   ]
  },
  {
   "cell_type": "code",
   "execution_count": null,
   "id": "d3c8e0f0",
   "metadata": {},
   "outputs": [],
   "source": [
    "truecoeffs = [0.5]\n",
    "dat[\"Simu\"] = truecoeffs[0] + dat[\"Simu\"]\n",
    "#dat.setLocator(\"drift\",gl.ELoc.F)\n",
    "dat"
   ]
  },
  {
   "cell_type": "code",
   "execution_count": null,
   "id": "03e8dfaa",
   "metadata": {},
   "outputs": [],
   "source": [
    "model.setDriftIRF(0,0)\n",
    "model"
   ]
  },
  {
   "cell_type": "code",
   "execution_count": null,
   "id": "fff80887",
   "metadata": {},
   "outputs": [],
   "source": [
    "X = model.evalDriftMat(dat).toTL()\n",
    "Covmat = model.evalCovMatSym(dat).toTL()"
   ]
  },
  {
   "cell_type": "code",
   "execution_count": null,
   "id": "90a7c3d8",
   "metadata": {},
   "outputs": [],
   "source": [
    "A = np.array([1]).reshape(1,1)\n",
    "c = [0.3]\n",
    "\n",
    "coeffs = estimCoeff(dat[\"Simu\"],Covmat,X,A,c)\n",
    "printCoeffs(\"a=0.3\", coeffs)"
   ]
  },
  {
   "cell_type": "markdown",
   "id": "3d70fedb",
   "metadata": {},
   "source": [
    "This lack of constraint can be emulated using the LogLikelihood principle:\n",
    "\n",
    "- calculated by hand:"
   ]
  },
  {
   "cell_type": "code",
   "execution_count": null,
   "id": "89632869",
   "metadata": {},
   "outputs": [],
   "source": [
    "print(f\"Computed manually : \" + str(np.round(computeLogLikelihoodByHand(dat[\"Simu\"],Covmat,X),6)))"
   ]
  },
  {
   "cell_type": "markdown",
   "id": "f5c20649",
   "metadata": {},
   "source": [
    "- calculated within gstlearn"
   ]
  },
  {
   "cell_type": "code",
   "execution_count": null,
   "id": "df4a9fb1",
   "metadata": {
    "scrolled": true
   },
   "outputs": [],
   "source": [
    "likelihoodG = model.computeLogLikelihood(dat, True)"
   ]
  },
  {
   "cell_type": "markdown",
   "id": "122f21be",
   "metadata": {},
   "source": [
    "- using the Vecchia approximation"
   ]
  },
  {
   "cell_type": "code",
   "execution_count": null,
   "id": "11ea3e61",
   "metadata": {},
   "outputs": [],
   "source": [
    "likelihoodV = gl.logLikelihoodVecchia(dat, model, 4, True)"
   ]
  },
  {
   "cell_type": "markdown",
   "id": "74cc4d0b",
   "metadata": {},
   "source": [
    "## Bivariate"
   ]
  },
  {
   "cell_type": "code",
   "execution_count": null,
   "id": "b403a0c4",
   "metadata": {},
   "outputs": [],
   "source": [
    "s1 = 0.4\n",
    "s2 = 2.0\n",
    "r  = 0.8\n",
    "sills = np.array([[s1**2,r*s1*s2],[r*s1*s2,s2**2]])\n",
    "model = gl.Model.createFromParam(gl.ECov.MATERN,param=1,range=rangev,sills=sills)"
   ]
  },
  {
   "cell_type": "code",
   "execution_count": null,
   "id": "2a6daeb5",
   "metadata": {
    "scrolled": true
   },
   "outputs": [],
   "source": [
    "ndat=200\n",
    "dat = gl.Db.createFillRandom(ndat, ndim, 0,2)\n",
    "dat[\"drift\"] = dat[\"x-1\"]\n",
    "gl.simtub(None,dat,model)\n",
    "dat"
   ]
  },
  {
   "cell_type": "code",
   "execution_count": null,
   "id": "a1856f79",
   "metadata": {},
   "outputs": [],
   "source": [
    "ax = plt.scatter(dat[\"Simu.1\"],dat[\"Simu.2\"])"
   ]
  },
  {
   "cell_type": "code",
   "execution_count": null,
   "id": "a94fac89",
   "metadata": {},
   "outputs": [],
   "source": [
    "truecoeffs1 = [0.5, 3]\n",
    "truecoeffs2 = [1.5,-2]\n",
    "model.setDriftIRF(0,1)\n",
    "dat[\"Simu.1\"] =  truecoeffs1[0] + truecoeffs1[1] * dat[\"drift\"] + dat[\"Simu.1\"]\n",
    "dat[\"Simu.2\"] =  truecoeffs2[0] + truecoeffs2[1] * dat[\"drift\"] + dat[\"Simu.2\"]\n",
    "dat.setLocator(\"drift\",gl.ELoc.F)"
   ]
  },
  {
   "cell_type": "markdown",
   "id": "c0438487",
   "metadata": {},
   "source": [
    "### No constraint"
   ]
  },
  {
   "cell_type": "code",
   "execution_count": null,
   "id": "e47610d5",
   "metadata": {},
   "outputs": [],
   "source": [
    "Covmat = model.evalCovMatSym(dat).toTL()\n",
    "X = model.evalDriftMat(dat).toTL()\n",
    "Z = dat[\"Simu*\"]\n",
    "Z = Z.T.reshape(-1)"
   ]
  },
  {
   "cell_type": "code",
   "execution_count": null,
   "id": "4d986463",
   "metadata": {
    "scrolled": true
   },
   "outputs": [],
   "source": [
    "coeffs = estimCoeff(Z,Covmat,X)\n",
    "fig,ax = gp.init(1,2)\n",
    "ax[0].scatter(dat[\"x-1\"],dat[\"Simu.1\"])\n",
    "ax[0].plot([0,1],[coeffs[0],coeffs[0]+coeffs[1]])\n",
    "ax[1].scatter(dat[\"x-1\"],dat[\"Simu.2\"])\n",
    "ax[1].plot([0,1],[coeffs[2],coeffs[2]+coeffs[3]])\n",
    "gp.close()"
   ]
  },
  {
   "cell_type": "code",
   "execution_count": null,
   "id": "b0ffa4cf",
   "metadata": {},
   "outputs": [],
   "source": [
    "printCoeffs(\"No Constraint\",coeffs)"
   ]
  },
  {
   "cell_type": "markdown",
   "id": "cca8610b",
   "metadata": {},
   "source": [
    "This option can be emulated in gstlearn"
   ]
  },
  {
   "cell_type": "code",
   "execution_count": null,
   "id": "9b701e2e",
   "metadata": {},
   "outputs": [],
   "source": [
    "likelihood = model.computeLogLikelihood(dat, True)"
   ]
  },
  {
   "cell_type": "markdown",
   "id": "f33184ce",
   "metadata": {},
   "source": [
    "### Means of both variables are imposed"
   ]
  },
  {
   "cell_type": "code",
   "execution_count": null,
   "id": "f9046436",
   "metadata": {},
   "outputs": [],
   "source": [
    "A = np.array([[1,0,0,0],[0,0,1,0]])\n",
    "c = [0.5,1.5]\n",
    "coeffs=estimCoeff(Z,Covmat,X,A,c)"
   ]
  },
  {
   "cell_type": "code",
   "execution_count": null,
   "id": "55cff047",
   "metadata": {},
   "outputs": [],
   "source": [
    "fig,ax = gp.init(1,2)\n",
    "ax[0].scatter(dat[\"x-1\"],dat[\"Simu.1\"])\n",
    "ax[0].plot([0,1],[coeffs[0],coeffs[0]+coeffs[1]])\n",
    "ax[1].scatter(dat[\"x-1\"],dat[\"Simu.2\"])\n",
    "ax[1].plot([0,1],[coeffs[2],coeffs[2]+coeffs[3]])\n",
    "gp.close()"
   ]
  },
  {
   "cell_type": "code",
   "execution_count": null,
   "id": "843913b0",
   "metadata": {},
   "outputs": [],
   "source": [
    "printCoeffs(\"a0=0.5 and b0=1.5\", coeffs)"
   ]
  },
  {
   "cell_type": "markdown",
   "id": "411a4266",
   "metadata": {},
   "source": [
    "### Same coefficients for mean and drift coefficients"
   ]
  },
  {
   "cell_type": "code",
   "execution_count": null,
   "id": "ea60753a",
   "metadata": {},
   "outputs": [],
   "source": [
    "A = np.array([[1,0,-1,0],[0,1,0,-1]])\n",
    "c = [0,0]\n",
    "coeffs = estimCoeff(Z,Covmat,X,A,c)"
   ]
  },
  {
   "cell_type": "code",
   "execution_count": null,
   "id": "0353909b",
   "metadata": {},
   "outputs": [],
   "source": [
    "fig,ax = gp.init(1,2)\n",
    "ax[0].scatter(dat[\"x-1\"],dat[\"Simu.1\"])\n",
    "ax[0].plot([0,1],[coeffs[0],coeffs[0]+coeffs[1]])\n",
    "ax[1].scatter(dat[\"x-1\"],dat[\"Simu.2\"])\n",
    "ax[1].plot([0,1],[coeffs[2],coeffs[2]+coeffs[3]])\n",
    "gp.close()"
   ]
  },
  {
   "cell_type": "code",
   "execution_count": null,
   "id": "5683aaa7",
   "metadata": {},
   "outputs": [],
   "source": [
    "printCoeffs(\"a0=b0 and a1=b1\", coeffs)"
   ]
  },
  {
   "cell_type": "markdown",
   "id": "6f50c1fb",
   "metadata": {},
   "source": [
    "This can be emulated with the current *flagLinked* option"
   ]
  },
  {
   "cell_type": "code",
   "execution_count": null,
   "id": "9326906f",
   "metadata": {},
   "outputs": [],
   "source": [
    "model.setFlagLinked(True)\n",
    "likelihood = model.computeLogLikelihood(dat, True)"
   ]
  },
  {
   "cell_type": "markdown",
   "id": "61df5766",
   "metadata": {},
   "source": [
    "### Means are equal"
   ]
  },
  {
   "cell_type": "code",
   "execution_count": null,
   "id": "ed6d5770",
   "metadata": {},
   "outputs": [],
   "source": [
    "A = np.array([[1,0,-1,0]])\n",
    "c = [0]\n",
    "coeffs = estimCoeff(Z,Covmat,X,A,c)"
   ]
  },
  {
   "cell_type": "code",
   "execution_count": null,
   "id": "1988eb50",
   "metadata": {},
   "outputs": [],
   "source": [
    "fig,ax = gp.init(1,2)\n",
    "ax[0].scatter(dat[\"x-1\"],dat[\"Simu.1\"])\n",
    "ax[0].plot([0,1],[coeffs[0],coeffs[0]+coeffs[1]])\n",
    "ax[1].scatter(dat[\"x-1\"],dat[\"Simu.2\"])\n",
    "ax[1].plot([0,1],[coeffs[2],coeffs[2]+coeffs[3]])\n",
    "gp.close()"
   ]
  },
  {
   "cell_type": "code",
   "execution_count": null,
   "id": "bf9a0462",
   "metadata": {},
   "outputs": [],
   "source": [
    "printCoeffs(\"a0=b0\", coeffs)"
   ]
  },
  {
   "cell_type": "markdown",
   "id": "795f8eef",
   "metadata": {},
   "source": [
    "### Means are linked, coefficient of drift on the first variable is imposed"
   ]
  },
  {
   "cell_type": "code",
   "execution_count": null,
   "id": "9d7231af",
   "metadata": {},
   "outputs": [],
   "source": [
    "A = np.array([[1,0,-1,0],[0,1,0,0]])\n",
    "c = [0,1]\n",
    "coeffs = estimCoeff(Z,Covmat,X,A,c)"
   ]
  },
  {
   "cell_type": "code",
   "execution_count": null,
   "id": "e5e5b40d",
   "metadata": {},
   "outputs": [],
   "source": [
    "fig,ax = gp.init(1,2)\n",
    "ax[0].scatter(dat[\"x-1\"],dat[\"Simu.1\"])\n",
    "ax[0].plot([0,1],[coeffs[0],coeffs[0]+coeffs[1]])\n",
    "ax[1].scatter(dat[\"x-1\"],dat[\"Simu.2\"])\n",
    "ax[1].plot([0,1],[coeffs[2],coeffs[2]+coeffs[3]])\n",
    "gp.close()"
   ]
  },
  {
   "cell_type": "code",
   "execution_count": null,
   "id": "cdc17940",
   "metadata": {},
   "outputs": [],
   "source": [
    "printCoeffs(\"a0=b0 and a1=1\", coeffs)"
   ]
  },
  {
   "cell_type": "markdown",
   "id": "148d806f",
   "metadata": {},
   "source": [
    "## Multivariate"
   ]
  },
  {
   "cell_type": "markdown",
   "id": "b057481d",
   "metadata": {},
   "source": [
    "We test the case of 3 variables for running a specific test."
   ]
  },
  {
   "cell_type": "code",
   "execution_count": null,
   "id": "96a14267",
   "metadata": {},
   "outputs": [],
   "source": [
    "sills = gl.MatrixSymmetric.createRandomDefinitePositive(3)\n",
    "model = gl.Model.createFromParam(gl.ECov.MATERN,param=1,range=rangev,sills=sills)"
   ]
  },
  {
   "cell_type": "code",
   "execution_count": null,
   "id": "cbbe8178",
   "metadata": {},
   "outputs": [],
   "source": [
    "model"
   ]
  },
  {
   "cell_type": "code",
   "execution_count": null,
   "id": "c6d74dc0",
   "metadata": {},
   "outputs": [],
   "source": [
    "ndat=200\n",
    "dat = gl.Db.createFillRandom(ndat, ndim, 0,2)\n",
    "dat[\"drift\"] = dat[\"x-1\"]\n",
    "gl.simtub(None,dat,model)\n",
    "dat"
   ]
  },
  {
   "cell_type": "code",
   "execution_count": null,
   "id": "f887a84a",
   "metadata": {},
   "outputs": [],
   "source": [
    "truecoeffs1 = [ 0.5, 3]\n",
    "truecoeffs2 = [ 1.5,-2]\n",
    "truecoeffs3 = [-0.5,-2]\n",
    "model.setDriftIRF(0,1)\n",
    "dat[\"Simu.1\"] =  truecoeffs1[0] + truecoeffs1[1] * dat[\"drift\"] + dat[\"Simu.1\"]\n",
    "dat[\"Simu.2\"] =  truecoeffs2[0] + truecoeffs2[1] * dat[\"drift\"] + dat[\"Simu.2\"]\n",
    "dat[\"Simu.3\"] =  truecoeffs3[0] + truecoeffs3[1] * dat[\"drift\"] + dat[\"Simu.3\"]\n",
    "dat.setLocator(\"drift\",gl.ELoc.F)"
   ]
  },
  {
   "cell_type": "code",
   "execution_count": null,
   "id": "d045a9ac",
   "metadata": {},
   "outputs": [],
   "source": [
    "Covmat = model.evalCovMatSym(dat).toTL()\n",
    "X = model.evalDriftMat(dat).toTL()\n",
    "Z = dat[\"Simu*\"]\n",
    "Z = Z.T.reshape(-1)"
   ]
  },
  {
   "cell_type": "code",
   "execution_count": null,
   "id": "a10eb165",
   "metadata": {
    "scrolled": true
   },
   "outputs": [],
   "source": [
    "coeffs = estimCoeff(Z,Covmat,X)\n",
    "fig,ax = gp.init(1,3, figsize=[15,4])\n",
    "print(coeffs)\n",
    "ax[0].scatter(dat[\"x-1\"],dat[\"Simu.1\"])\n",
    "ax[0].plot([0,1],[coeffs[0],coeffs[0]+coeffs[1]])\n",
    "ax[1].scatter(dat[\"x-1\"],dat[\"Simu.2\"])\n",
    "ax[1].plot([0,1],[coeffs[2],coeffs[2]+coeffs[3]])\n",
    "ax[2].scatter(dat[\"x-1\"],dat[\"Simu.2\"])\n",
    "ax[2].plot([0,1],[coeffs[4],coeffs[4]+coeffs[5]])\n",
    "gp.close()"
   ]
  },
  {
   "cell_type": "markdown",
   "id": "df91322a",
   "metadata": {},
   "source": [
    "### Means of all variables are equal"
   ]
  },
  {
   "cell_type": "markdown",
   "id": "e96034e8",
   "metadata": {},
   "source": [
    "This test is meant to check the way to constrain the mean value of all (three) variables to be equal: this is done by setting constraints to the drift coefficients of the variables taken two by two. "
   ]
  },
  {
   "cell_type": "code",
   "execution_count": null,
   "id": "3c904b7e",
   "metadata": {},
   "outputs": [],
   "source": [
    "A = np.array([[1,0,-1,0,0,0],[0,0,1,0,-1,0]])\n",
    "c = [0, 0]\n",
    "coeffs = estimCoeff(Z,Covmat,X,A,c)"
   ]
  },
  {
   "cell_type": "code",
   "execution_count": null,
   "id": "be7908eb",
   "metadata": {
    "scrolled": true
   },
   "outputs": [],
   "source": [
    "coeffs"
   ]
  },
  {
   "cell_type": "code",
   "execution_count": null,
   "id": "387b3e23",
   "metadata": {},
   "outputs": [],
   "source": []
  }
 ],
 "metadata": {
  "kernelspec": {
   "display_name": "Python 3 (ipykernel)",
   "language": "python",
   "name": "python3"
  },
  "language_info": {
   "codemirror_mode": {
    "name": "ipython",
    "version": 3
   },
   "file_extension": ".py",
   "mimetype": "text/x-python",
   "name": "python",
   "nbconvert_exporter": "python",
   "pygments_lexer": "ipython3",
   "version": "3.10.5"
  },
  "toc": {
   "base_numbering": 1,
   "nav_menu": {},
   "number_sections": true,
   "sideBar": true,
   "skip_h1_title": true,
   "title_cell": "Table of Contents",
   "title_sidebar": "Contents",
   "toc_cell": false,
   "toc_position": {
    "height": "calc(100% - 180px)",
    "left": "10px",
    "top": "150px",
    "width": "302.6px"
   },
   "toc_section_display": true,
   "toc_window_display": false
  }
 },
 "nbformat": 4,
 "nbformat_minor": 5
}
