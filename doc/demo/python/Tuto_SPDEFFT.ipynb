{
 "cells": [
  {
   "cell_type": "code",
   "execution_count": 2,
   "metadata": {},
   "outputs": [],
   "source": [
    "import numpy as np\n",
    "import gstlearn as gl\n",
    "import matplotlib.pyplot as plt\n",
    "from scipy.special import gamma"
   ]
  },
  {
   "cell_type": "code",
   "execution_count": 3,
   "metadata": {},
   "outputs": [],
   "source": [
    "scale = 6.\n",
    "param = 0.5\n",
    "\n",
    "kappa = 1./scale\n",
    "kappa2 = kappa**2"
   ]
  },
  {
   "cell_type": "markdown",
   "metadata": {},
   "source": [
    "$g(\\xi) = \\frac{1}{(2\\pi)^{d/2}(\\kappa^2 + |\\xi|^2)^{\\alpha/2}}$"
   ]
  },
  {
   "cell_type": "code",
   "execution_count": 4,
   "metadata": {},
   "outputs": [],
   "source": [
    "model = gl.Model.createFromParam(gl.ECov.BESSEL_K,range = scale,param = param,flagRange=False)"
   ]
  },
  {
   "cell_type": "code",
   "execution_count": 5,
   "metadata": {},
   "outputs": [
    {
     "data": {
      "text/plain": [
       "\n",
       "Model characteristics\n",
       "=====================\n",
       "Space dimension              = 2\n",
       "Number of variable(s)        = 1\n",
       "Number of basic structure(s) = 1\n",
       "Number of drift function(s)  = 0\n",
       "Number of drift equation(s)  = 0\n",
       "\n",
       "Covariance Part\n",
       "---------------\n",
       "K-Bessel (Third Parameter = 0.5)\n",
       "- Sill         =      1.000\n",
       "- Range        =     14.697\n",
       "- Theo. Range  =      6.000\n",
       "Total Sill     =      1.000"
      ]
     },
     "execution_count": 5,
     "metadata": {},
     "output_type": "execute_result"
    }
   ],
   "source": [
    "model"
   ]
  },
  {
   "cell_type": "code",
   "execution_count": 6,
   "metadata": {},
   "outputs": [
    {
     "data": {
      "image/png": "[encoded data removed]",
      "text/plain": [
       "<Figure size 432x288 with 1 Axes>"
      ]
     },
     "metadata": {
      "needs_background": "light"
     },
     "output_type": "display_data"
    }
   ],
   "source": [
    "rangev = 3.5 * model.getCova(0).getRange()\n",
    "h = np.linspace(0,rangev,100)\n",
    "points = [gl.SpacePoint([0.,i]) for i in h]\n",
    "cov = [model.eval(0,0,points[0],i) for i in points]\n",
    "plt.plot(h,cov)\n",
    "plt.show()"
   ]
  },
  {
   "cell_type": "code",
   "execution_count": 7,
   "metadata": {},
   "outputs": [
    {
     "data": {
      "text/plain": [
       "0.07957747154594767"
      ]
     },
     "execution_count": 7,
     "metadata": {},
     "output_type": "execute_result"
    }
   ],
   "source": [
    "def correc(kappa,alpha,d=2):\n",
    "    return gamma(alpha-d/2)/ (gamma(alpha)*(4*np.pi)**(d/2)*kappa**(2*alpha-d))\n",
    "    \n",
    "correc(1,2)"
   ]
  },
  {
   "cell_type": "code",
   "execution_count": 8,
   "metadata": {
    "scrolled": true
   },
   "outputs": [
    {
     "data": {
      "text/plain": [
       "[<matplotlib.lines.Line2D at 0x7f6de040e190>]"
      ]
     },
     "execution_count": 8,
     "metadata": {},
     "output_type": "execute_result"
    },
    {
     "data": {
      "image/png": "[encoded data removed]",
      "text/plain": [
       "<Figure size 432x288 with 1 Axes>"
      ]
     },
     "metadata": {
      "needs_background": "light"
     },
     "output_type": "display_data"
    }
   ],
   "source": [
    "d = 2\n",
    "alpha = param+d/2\n",
    "\n",
    "N = 2**8\n",
    "a= np.pi * (N-1) / np.max(h) \n",
    "ind = np.arange(0,int(N/2),2)\n",
    "v = np.linspace(-1.,1.,N)\n",
    "u = a/2 * v\n",
    "deltau=a/(N-1)\n",
    "\n",
    "normxi = np.array([i**2 + j**2 for i in u for j in u]).reshape((len(u),len(u)))\n",
    "\n",
    "fourier = 1./((2*np.pi)**d*(kappa2+normxi)**alpha)*1./correc(kappa,param+d/2,d)\n",
    "\n",
    "B = np.real(np.fft.fftn(fourier,norm=\"backward\"))\n",
    "A = B[0,:][ind]\n",
    "\n",
    "\n",
    "covZ=A*deltau**d\n",
    "X= np.pi * (v[ind]-v[0]) /deltau\n",
    "\n",
    "\n",
    "plt.plot(X , covZ)\n",
    "plt.plot(h,cov)"
   ]
  },
  {
   "cell_type": "code",
   "execution_count": null,
   "metadata": {},
   "outputs": [],
   "source": [
    "d = 3\n",
    "alpha = param + d/2\n",
    "N = 2**7\n",
    "a= np.pi * (N-1) / np.max(h) \n",
    "ind = np.arange(0,int(N/2),2)\n",
    "v = np.linspace(-1.,1.,N)\n",
    "u = a/2 * v\n",
    "deltau=a/(N-1)\n",
    "\n",
    "normxi = np.array([i**2 + j**2 + k**2 for i in u for j in u for k in u]).reshape((len(u),len(u),len(u)))\n",
    "\n",
    "fourier = 1./((2*np.pi)**d*(kappa2+normxi)**alpha)*1./correc(kappa,alpha,d)\n",
    "\n",
    "B = np.real(np.fft.fftn(fourier,norm=\"backward\"))\n",
    "A = B[0,0,:][ind]\n",
    "\n",
    "\n",
    "z=A*deltau**d\n",
    "X= np.pi * (v[ind]-v[0]) /deltau\n",
    "\n",
    "\n",
    "plt.plot(X , z)\n",
    "plt.plot(h,cov)"
   ]
  }
 ],
 "metadata": {
  "kernelspec": {
   "display_name": "Python 3",
   "language": "python",
   "name": "python3"
  },
  "language_info": {
   "codemirror_mode": {
    "name": "ipython",
    "version": 3
   },
   "file_extension": ".py",
   "mimetype": "text/x-python",
   "name": "python",
   "nbconvert_exporter": "python",
   "pygments_lexer": "ipython3",
   "version": "3.8.5"
  }
 },
 "nbformat": 4,
 "nbformat_minor": 5
}
