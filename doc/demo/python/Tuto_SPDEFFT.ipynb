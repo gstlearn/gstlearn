{
 "cells": [
  {
   "cell_type": "code",
   "execution_count": null,
   "id": "d99199bd",
   "metadata": {},
   "outputs": [],
   "source": [
    "import numpy as np\n",
    "import gstlearn as gl\n",
    "from scipy.special import gamma\n",
    "\n",
    "scale = 6.\n",
    "param = 1\n",
    "\n",
    "kappa = 1./scale\n",
    "kappa2 = kappa**2"
   ]
  },
  {
   "cell_type": "markdown",
   "id": "2f16f29c",
   "metadata": {},
   "source": [
    "$g(\\xi) = \\frac{1}{(2\\pi)^{d/2}(\\kappa^2 + |\\xi|^2)^{\\alpha/2}}$"
   ]
  },
  {
   "cell_type": "code",
   "execution_count": null,
   "id": "c752d90a",
   "metadata": {},
   "outputs": [],
   "source": [
    "model = gl.Model.createFromParam(gl.ECov.BESSEL_K,range = scale,param = param,flagRange=False)"
   ]
  },
  {
   "cell_type": "code",
   "execution_count": null,
   "id": "170ba7da",
   "metadata": {},
   "outputs": [],
   "source": [
    "model"
   ]
  },
  {
   "cell_type": "code",
   "execution_count": null,
   "id": "46388278",
   "metadata": {},
   "outputs": [],
   "source": [
    "import matplotlib.pyplot as plt\n",
    "import gstlearn as gl\n",
    "\n",
    "rangev = 3.5 * model.getCova(0).getRange()\n",
    "h = np.linspace(0,rangev,100)\n",
    "points = [gl.SpacePoint([0.,i]) for i in h]\n",
    "cov = [model.eval(0,0,points[0],i) for i in points]\n",
    "plt.plot(h,cov)\n",
    "plt.show()"
   ]
  },
  {
   "cell_type": "code",
   "execution_count": null,
   "id": "16a6cfd2",
   "metadata": {},
   "outputs": [],
   "source": [
    "def correc(kappa,alpha,d=2):\n",
    "    return gamma(alpha-d/2)/ (gamma(alpha)*(4*np.pi)**(d/2)*kappa**(2*alpha-d))\n",
    "    \n",
    "correc(1,2)"
   ]
  },
  {
   "cell_type": "code",
   "execution_count": null,
   "id": "37eb9184",
   "metadata": {},
   "outputs": [],
   "source": [
    "d = 2\n",
    "alpha = param+d/2\n",
    "\n",
    "N = 2**8\n",
    "a= np.pi * (N-1) / np.max(h) \n",
    "ind = np.arange(0,int(N/2),2)\n",
    "v = np.linspace(-1.,1.,N)\n",
    "u = a/2 * v\n",
    "deltau=a/(N-1)\n",
    "\n",
    "normxi = np.array([i**2 + j**2 for i in u for j in u]).reshape((len(u),len(u)))\n",
    "\n",
    "fourier = 1./((2*np.pi)**d*(kappa2+normxi)**alpha)*1./correc(kappa,param+d/2,d)\n",
    "\n",
    "B = np.real(np.fft.fftn(fourier,norm=\"backward\"))\n",
    "A = B[0,:][ind]\n",
    "\n",
    "\n",
    "covZ=A*deltau**d\n",
    "X= np.pi * (v[ind]-v[0]) /deltau\n",
    "\n",
    "\n",
    "plt.plot(X , covZ)\n",
    "plt.plot(h,cov)"
   ]
  },
  {
   "cell_type": "code",
   "execution_count": null,
   "id": "6e12071d",
   "metadata": {},
   "outputs": [],
   "source": [
    "d = 3\n",
    "alpha = param + d/2\n",
    "N = 2**7\n",
    "a= np.pi * (N-1) / np.max(h) \n",
    "ind = np.arange(0,int(N/2),2)\n",
    "v = np.linspace(-1.,1.,N)\n",
    "u = a/2 * v\n",
    "deltau=a/(N-1)\n",
    "\n",
    "normxi = np.array([i**2 + j**2 + k**2 for i in u for j in u for k in u]).reshape((len(u),len(u),len(u)))\n",
    "\n",
    "fourier = 1./((2*np.pi)**d*(kappa2+normxi)**alpha)*1./correc(kappa,alpha,d)\n",
    "\n",
    "B = np.real(np.fft.fftn(fourier,norm=\"backward\"))\n",
    "A = B[0,0,:][ind]\n",
    "\n",
    "\n",
    "z=A*deltau**d\n",
    "X= np.pi * (v[ind]-v[0]) /deltau\n",
    "\n",
    "\n",
    "plt.plot(X , z)\n",
    "plt.plot(h,cov)"
   ]
  }
 ],
 "metadata": {
  "kernelspec": {
   "display_name": "Python 3 (ipykernel)",
   "language": "python",
   "name": "python3"
  },
  "language_info": {
   "codemirror_mode": {
    "name": "ipython",
    "version": 3
   },
   "file_extension": ".py",
   "mimetype": "text/x-python",
   "name": "python",
   "nbconvert_exporter": "python",
   "pygments_lexer": "ipython3",
   "version": "3.10.2"
  }
 },
 "nbformat": 4,
 "nbformat_minor": 5
}
