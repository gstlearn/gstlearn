{
 "cells": [
  {
   "cell_type": "code",
   "execution_count": 8,
   "id": "d99199bd",
   "metadata": {},
   "outputs": [],
   "source": [
    "import numpy as np\n",
    "import gstlearn as gl\n",
    "from scipy.special import gamma\n",
    "\n",
    "scale = 6.\n",
    "param = 2.\n",
    "\n",
    "kappa = 1./scale\n",
    "kappa2 = kappa**2"
   ]
  },
  {
   "cell_type": "markdown",
   "id": "2f16f29c",
   "metadata": {},
   "source": [
    "$g(\\xi) = \\frac{1}{(2\\pi)^{d/2}(\\kappa^2 + |\\xi|^2)^{\\alpha/2}}$"
   ]
  },
  {
   "cell_type": "code",
   "execution_count": 9,
   "id": "c752d90a",
   "metadata": {},
   "outputs": [],
   "source": [
    "model = gl.Model.createFromParam(gl.ECov.BESSEL_K,range = scale,param = param,flagRange=False)"
   ]
  },
  {
   "cell_type": "code",
   "execution_count": 10,
   "id": "170ba7da",
   "metadata": {},
   "outputs": [
    {
     "data": {
      "text/plain": [
       "\n",
       "Model characteristics\n",
       "=====================\n",
       "Space dimension              = 2\n",
       "Number of variable(s)        = 1\n",
       "Number of basic structure(s) = 1\n",
       "Number of drift function(s)  = 0\n",
       "Number of drift equation(s)  = 0\n",
       "\n",
       "Covariance Part\n",
       "---------------\n",
       "K-Bessel (Third Parameter = 2)\n",
       "- Sill         =      1.000\n",
       "- Range        =     29.394\n",
       "- Theo. Range  =      6.000\n",
       "Total Sill     =      1.000"
      ]
     },
     "execution_count": 10,
     "metadata": {},
     "output_type": "execute_result"
    }
   ],
   "source": [
    "model"
   ]
  },
  {
   "cell_type": "code",
   "execution_count": 19,
   "id": "46388278",
   "metadata": {},
   "outputs": [
    {
     "data": {
      "image/png": "[encoded data removed]",
      "text/plain": [
       "<Figure size 432x288 with 1 Axes>"
      ]
     },
     "metadata": {
      "needs_background": "light"
     },
     "output_type": "display_data"
    }
   ],
   "source": [
    "import matplotlib.pyplot as plt\n",
    "import gstlearn as gl\n",
    "\n",
    "rangev = 5 * model.getCova(0).getRange()\n",
    "h = np.linspace(0,rangev,100)\n",
    "points = [gl.SpacePoint([0.,i]) for i in h]\n",
    "cov = [model.eval(0,0,points[0],i) for i in points]\n",
    "plt.plot(h,cov)\n",
    "plt.show()"
   ]
  },
  {
   "cell_type": "code",
   "execution_count": 20,
   "id": "16a6cfd2",
   "metadata": {},
   "outputs": [
    {
     "data": {
      "text/plain": [
       "0.07957747154594767"
      ]
     },
     "execution_count": 20,
     "metadata": {},
     "output_type": "execute_result"
    }
   ],
   "source": [
    "def correc(kappa,alpha,d=2):\n",
    "    return gamma(alpha-d/2)/ (gamma(alpha)*(4*np.pi)**(d/2)*kappa**(2*alpha-d))\n",
    "    \n",
    "correc(1,2)"
   ]
  },
  {
   "cell_type": "code",
   "execution_count": 21,
   "id": "37eb9184",
   "metadata": {},
   "outputs": [
    {
     "data": {
      "text/plain": [
       "[<matplotlib.lines.Line2D at 0x7fa96f564ac0>]"
      ]
     },
     "execution_count": 21,
     "metadata": {},
     "output_type": "execute_result"
    },
    {
     "data": {
      "image/png": "[encoded data removed]",
      "text/plain": [
       "<Figure size 432x288 with 1 Axes>"
      ]
     },
     "metadata": {
      "needs_background": "light"
     },
     "output_type": "display_data"
    }
   ],
   "source": [
    "d = 2\n",
    "alpha = param+d/2\n",
    "\n",
    "N = 2**8\n",
    "a= np.pi * (N-1) / np.max(h) \n",
    "ind = np.arange(0,int(N/2),2)\n",
    "v = np.linspace(-1.,1.,N)\n",
    "u = a/2 * v\n",
    "deltau=a/(N-1)\n",
    "\n",
    "normxi = np.array([i**2 + j**2 for i in u for j in u]).reshape((len(u),len(u)))\n",
    "\n",
    "fourier = 1./((2*np.pi)**d*(kappa2+normxi)**alpha)*1./correc(kappa,param+d/2,d)\n",
    "\n",
    "B = np.real(np.fft.fftn(fourier,norm=\"backward\"))\n",
    "A = B[0,:][ind]\n",
    "\n",
    "\n",
    "covZ=A*deltau**d\n",
    "X= np.pi * (v[ind]-v[0]) /deltau\n",
    "\n",
    "\n",
    "plt.plot(X , covZ)\n",
    "plt.plot(h,cov)"
   ]
  },
  {
   "cell_type": "code",
   "execution_count": 22,
   "id": "6e12071d",
   "metadata": {},
   "outputs": [
    {
     "data": {
      "text/plain": [
       "[<matplotlib.lines.Line2D at 0x7fa96f5ac940>]"
      ]
     },
     "execution_count": 22,
     "metadata": {},
     "output_type": "execute_result"
    },
    {
     "data": {
      "image/png": "[encoded data removed]",
      "text/plain": [
       "<Figure size 432x288 with 1 Axes>"
      ]
     },
     "metadata": {
      "needs_background": "light"
     },
     "output_type": "display_data"
    }
   ],
   "source": [
    "d = 3\n",
    "alpha = param + d/2\n",
    "N = 2**7\n",
    "a= np.pi * (N-1) / np.max(h) \n",
    "ind = np.arange(0,int(N/2),2)\n",
    "v = np.linspace(-1.,1.,N)\n",
    "u = a/2 * v\n",
    "deltau=a/(N-1)\n",
    "\n",
    "normxi = np.array([i**2 + j**2 + k**2 for i in u for j in u for k in u]).reshape((len(u),len(u),len(u)))\n",
    "\n",
    "fourier = 1./((2*np.pi)**d*(kappa2+normxi)**alpha)*1./correc(kappa,alpha,d)\n",
    "\n",
    "B = np.real(np.fft.fftn(fourier,norm=\"backward\"))\n",
    "A = B[0,0,:][ind]\n",
    "\n",
    "\n",
    "z=A*deltau**d\n",
    "X= np.pi * (v[ind]-v[0]) /deltau\n",
    "\n",
    "\n",
    "plt.plot(X , z)\n",
    "plt.plot(h,cov)"
   ]
  },
  {
   "cell_type": "code",
   "execution_count": 23,
   "id": "7a4f86cf",
   "metadata": {},
   "outputs": [
    {
     "data": {
      "text/plain": [
       "array([  0.        ,   4.62895699,   9.25791399,  13.88687098,\n",
       "        18.51582798,  23.14478497,  27.77374197,  32.40269896,\n",
       "        37.03165595,  41.66061295,  46.28956994,  50.91852694,\n",
       "        55.54748393,  60.17644093,  64.80539792,  69.43435491,\n",
       "        74.06331191,  78.6922689 ,  83.3212259 ,  87.95018289,\n",
       "        92.57913988,  97.20809688, 101.83705387, 106.46601087,\n",
       "       111.09496786, 115.72392486, 120.35288185, 124.98183884,\n",
       "       129.61079584, 134.23975283, 138.86870983, 143.49766682])"
      ]
     },
     "execution_count": 23,
     "metadata": {},
     "output_type": "execute_result"
    }
   ],
   "source": []
  },
  {
   "cell_type": "code",
   "execution_count": null,
   "id": "d364c913",
   "metadata": {},
   "outputs": [],
   "source": []
  }
 ],
 "metadata": {
  "kernelspec": {
   "display_name": "Python 3 (ipykernel)",
   "language": "python",
   "name": "python3"
  },
  "language_info": {
   "codemirror_mode": {
    "name": "ipython",
    "version": 3
   },
   "file_extension": ".py",
   "mimetype": "text/x-python",
   "name": "python",
   "nbconvert_exporter": "python",
   "pygments_lexer": "ipython3",
   "version": "3.10.2"
  }
 },
 "nbformat": 4,
 "nbformat_minor": 5
}
