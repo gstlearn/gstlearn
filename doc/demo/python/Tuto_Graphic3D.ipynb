{
 "cells": [
  {
   "cell_type": "markdown",
   "id": "4739b27a",
   "metadata": {},
   "source": [
    "# Plot 3-D"
   ]
  },
  {
   "cell_type": "markdown",
   "id": "931e554c",
   "metadata": {},
   "source": [
    "<!-- SUMMARY: Presentation of the graphic facility to produce information in 3-D, either on a Sphere or in R3 Euclidean space -->\n",
    "\n",
    "<!-- CATEGORY: Tools_for_Python_environment -->"
   ]
  },
  {
   "cell_type": "code",
   "execution_count": null,
   "id": "2f48f884",
   "metadata": {},
   "outputs": [],
   "source": [
    "import numpy as np     \n",
    "import plotly.graph_objects as go\n",
    "import gstlearn as gl \n",
    "import gstlearn.plot3D as gop\n",
    "import gstlearn.document as gdoc\n",
    "import IPython\n",
    "import os\n",
    "from numpy import pi, cos, sin\n",
    "\n",
    "gdoc.setNoScroll()"
   ]
  },
  {
   "cell_type": "markdown",
   "id": "b8162298",
   "metadata": {},
   "source": [
    "## On the Sphere"
   ]
  },
  {
   "cell_type": "markdown",
   "id": "bc5d2125",
   "metadata": {},
   "source": [
    "Definition of the Meshing"
   ]
  },
  {
   "cell_type": "code",
   "execution_count": null,
   "id": "6b1df600",
   "metadata": {},
   "outputs": [],
   "source": [
    "gl.defineDefaultSpace(gl.ESpaceType.SN)\n",
    "mesh = gl.MeshSphericalExt()\n",
    "err = mesh.resetFromDb(None,None,triswitch = \"-r5\",verbose=False)"
   ]
  },
  {
   "cell_type": "markdown",
   "id": "daaed140",
   "metadata": {},
   "source": [
    "Display a white skin around the meshing"
   ]
  },
  {
   "cell_type": "code",
   "execution_count": null,
   "id": "cc96a7b1",
   "metadata": {},
   "outputs": [],
   "source": [
    "blank = gop.SurfaceOnMesh(mesh, opacity=1)"
   ]
  },
  {
   "cell_type": "code",
   "execution_count": null,
   "id": "b91e0e79",
   "metadata": {},
   "outputs": [],
   "source": [
    "fig = go.Figure(data = [blank])\n",
    "fig.update_scenes(xaxis_visible=False, yaxis_visible=False, zaxis_visible=False )\n",
    "f = fig.show()"
   ]
  },
  {
   "cell_type": "markdown",
   "id": "d1d9292e",
   "metadata": {},
   "source": [
    "We overlay the meshing"
   ]
  },
  {
   "cell_type": "code",
   "execution_count": null,
   "id": "16ec069f",
   "metadata": {},
   "outputs": [],
   "source": [
    "meshing = gop.Meshing(mesh)"
   ]
  },
  {
   "cell_type": "code",
   "execution_count": null,
   "id": "169a4a1a",
   "metadata": {},
   "outputs": [],
   "source": [
    "fig = go.Figure(data = [blank, meshing])\n",
    "fig.update_scenes(xaxis_visible=False, yaxis_visible=False, zaxis_visible=False )\n",
    "f = fig.show()"
   ]
  },
  {
   "cell_type": "markdown",
   "id": "52f5c154",
   "metadata": {},
   "source": [
    "Drawing a polygon (we use the one containing the land boundaries)"
   ]
  },
  {
   "cell_type": "code",
   "execution_count": null,
   "id": "2b82c666",
   "metadata": {},
   "outputs": [],
   "source": [
    "name = gdoc.loadData(\"boundaries\", \"world.poly\")\n",
    "poly = gl.Polygons.createFromNF(name)\n",
    "poly.display()"
   ]
  },
  {
   "cell_type": "code",
   "execution_count": null,
   "id": "f6799f5d",
   "metadata": {},
   "outputs": [],
   "source": [
    "boundaries = gop.PolygonOnSphere(poly)\n",
    "equator    = gop.Equator(width=5)\n",
    "meridians  = gop.Meridians(angle=20,color='blue')\n",
    "parallels  = gop.Parallels(angle=30,color='red')\n",
    "pole       = gop.Pole()\n",
    "poleaxis   = gop.PolarAxis()"
   ]
  },
  {
   "cell_type": "code",
   "execution_count": null,
   "id": "07b3f819",
   "metadata": {},
   "outputs": [],
   "source": [
    "fig = go.Figure(data = [blank,boundaries,equator,meridians,parallels,pole,poleaxis])\n",
    "fig.update_scenes(xaxis_visible=False, yaxis_visible=False, zaxis_visible=False )\n",
    "f = fig.show()"
   ]
  },
  {
   "cell_type": "markdown",
   "id": "4f9c2043",
   "metadata": {},
   "source": [
    "Representing a function on the skin of the earth together with other decoration. The function is the result of a non-conditional simulation performed with SPDE on the Sphere."
   ]
  },
  {
   "cell_type": "code",
   "execution_count": null,
   "id": "788da804",
   "metadata": {},
   "outputs": [],
   "source": [
    "model = gl.Model.createFromParam(gl.ECov.MATERN,range=1500,param=1)\n",
    "S = gl.ShiftOpMatrix(mesh,model.getCovAniso(0))\n",
    "Q = gl.PrecisionOpMatrix(S,model.getCovAniso(0))\n",
    "result = Q.simulateOne()"
   ]
  },
  {
   "cell_type": "code",
   "execution_count": null,
   "id": "0e35e8c8",
   "metadata": {},
   "outputs": [],
   "source": [
    "simu = gop.SurfaceOnMesh(mesh, intensity=result, opacity=1)"
   ]
  },
  {
   "cell_type": "code",
   "execution_count": null,
   "id": "b945841e",
   "metadata": {},
   "outputs": [],
   "source": [
    "fig = go.Figure(data = [simu,boundaries,equator,meridians,parallels,pole,poleaxis])\n",
    "fig.update_scenes(xaxis_visible=False, yaxis_visible=False, zaxis_visible=False )\n",
    "f = fig.show()"
   ]
  },
  {
   "cell_type": "markdown",
   "id": "e9705116",
   "metadata": {},
   "source": [
    "## 3D in General"
   ]
  },
  {
   "cell_type": "markdown",
   "id": "90c9448a",
   "metadata": {},
   "source": [
    "We define the space dimension"
   ]
  },
  {
   "cell_type": "code",
   "execution_count": null,
   "id": "d0d29fe7",
   "metadata": {},
   "outputs": [],
   "source": [
    "ndim = 3\n",
    "gl.defineDefaultSpace(gl.ESpaceType.RN, ndim)"
   ]
  },
  {
   "cell_type": "markdown",
   "id": "012a01f7",
   "metadata": {},
   "source": [
    "Defining the output grid"
   ]
  },
  {
   "cell_type": "code",
   "execution_count": null,
   "id": "a26ec9d4",
   "metadata": {},
   "outputs": [],
   "source": [
    "nx = [61,81,61]\n",
    "dx = [0.1, 0.1, 0.1]\n",
    "x0 = [-3., -4., -6.]\n",
    "grid = gl.DbGrid.create(nx=nx, dx=dx, x0=x0)\n",
    "x = grid.getOneCoordinate(0)\n",
    "y = grid.getOneCoordinate(1)\n",
    "z = grid.getOneCoordinate(2)\n",
    "val = x*x + y*y + z*z\n",
    "grid.addColumns(val,\"Data\",gl.ELoc.Z)\n",
    "glimits = grid.getRange(\"Data\")"
   ]
  },
  {
   "cell_type": "markdown",
   "id": "51129c09",
   "metadata": {},
   "source": [
    "Defining a Data Set with Gradient and Tangent components"
   ]
  },
  {
   "cell_type": "code",
   "execution_count": null,
   "id": "2719177f",
   "metadata": {},
   "outputs": [],
   "source": [
    "nech = 5\n",
    "coormin = grid.getCoorMinimum()\n",
    "coormax = grid.getCoorMaximum()\n",
    "db = gl.Db.createFromBox(nech, coormin, coormax)\n",
    "np.random.seed(123)\n",
    "\n",
    "# Data\n",
    "uid = db.addColumns(np.random.uniform(10.,20.,nech), \"Data\", gl.ELoc.Z)\n",
    "\n",
    "# Gradient components\n",
    "uid = db.addColumns(np.random.normal(0, 1, nech),\"gx\",gl.ELoc.G,0)\n",
    "uid = db.addColumns(np.random.normal(0, 1, nech),\"gy\",gl.ELoc.G,1)\n",
    "uid = db.addColumns(np.random.normal(0, 1, nech),\"gz\",gl.ELoc.G,2)\n",
    "\n",
    "# Tangent components\n",
    "uid = db.addColumns(np.random.normal(0, 1, nech),\"tx\",gl.ELoc.TGTE,0)\n",
    "uid = db.addColumns(np.random.normal(0, 1, nech),\"ty\",gl.ELoc.TGTE,1)\n",
    "uid = db.addColumns(np.random.normal(0, 1, nech),\"tz\",gl.ELoc.TGTE,2)"
   ]
  },
  {
   "cell_type": "markdown",
   "id": "c2ad5266",
   "metadata": {},
   "source": [
    "3-D Visualization"
   ]
  },
  {
   "cell_type": "code",
   "execution_count": null,
   "id": "0af07df7",
   "metadata": {},
   "outputs": [],
   "source": [
    "levels = [5., 25.]\n",
    "surf1 = gop.IsoSurfaceOnDbGrid(grid, \"Data\", useSel=False, isomin=levels[0], isomax=levels[0])\n",
    "surf2 = gop.IsoSurfaceOnDbGrid(grid, \"Data\", useSel=False, isomin=levels[1], isomax=levels[1])\n",
    "point = gop.PointDb(db, size=5, nameColor = \"Data\")\n",
    "gradient = gop.GradientDb(db,size=0.5,colorscale='blues',sizemode='absolute')\n",
    "tangent  = gop.TangentDb(db,size=0.5,colorscale='gray',sizemode='absolute')"
   ]
  },
  {
   "cell_type": "code",
   "execution_count": null,
   "id": "4fa2bd75",
   "metadata": {},
   "outputs": [],
   "source": [
    "fig = go.Figure(data = [ surf1, surf2, point, gradient, tangent])\n",
    "f = fig.show()"
   ]
  }
 ],
 "metadata": {
  "kernelspec": {
   "display_name": "Python 3 (ipykernel)",
   "language": "python",
   "name": "python3"
  },
  "language_info": {
   "codemirror_mode": {
    "name": "ipython",
    "version": 3
   },
   "file_extension": ".py",
   "mimetype": "text/x-python",
   "name": "python",
   "nbconvert_exporter": "python",
   "pygments_lexer": "ipython3",
   "version": "3.10.5"
  },
  "toc": {
   "base_numbering": 1,
   "nav_menu": {},
   "number_sections": true,
   "sideBar": true,
   "skip_h1_title": false,
   "title_cell": "Table of Contents",
   "title_sidebar": "Contents",
   "toc_cell": false,
   "toc_position": {},
   "toc_section_display": true,
   "toc_window_display": false
  }
 },
 "nbformat": 4,
 "nbformat_minor": 5
}
