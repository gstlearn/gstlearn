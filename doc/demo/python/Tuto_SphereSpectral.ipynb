{
 "cells": [
  {
   "cell_type": "markdown",
   "id": "3c013b8a",
   "metadata": {},
   "source": [
    "# Plot boundaries on the Earth"
   ]
  },
  {
   "cell_type": "markdown",
   "id": "e1de95a8",
   "metadata": {},
   "source": [
    "Ce notebook est un résumé du notebook situé ici \n",
    "\n",
    "https://chart-studio.plotly.com/~empet/14813/heatmap-plot-on-a-spherical-map/#/\n",
    "\n",
    "et se concentre sur le traçage des frontières (plus généralement d'un polygone) sur la sphère.\n",
    "\n",
    "Il nécessite l'installation de **mpl_toolkits** qui peut être assez complexe.\n",
    "\n",
    "Sous linux, sous réserve que la librairie GEOS soit installée, il suffit d'effectuer les commandes suivantes (le dossier à télécharger est assez lourd et la procédure peut prendre quelques minutes) :"
   ]
  },
  {
   "cell_type": "raw",
   "id": "3814975a",
   "metadata": {},
   "source": [
    "wget https://github.com/matplotlib/basemap/archive/refs/tags/v1.3.3.tar.gz\n",
    "tar -xvf basemap-1.3.3.tar.gz\n",
    "cd basemap-1.3.3/packages/basemap\n",
    "python3 -m pip install ."
   ]
  },
  {
   "cell_type": "markdown",
   "id": "ad7fdc88",
   "metadata": {},
   "source": [
    "En cas de problème, voir les détails ici :\n",
    "\n",
    "https://matplotlib.org/basemap/users/installing.html .\n"
   ]
  },
  {
   "cell_type": "code",
   "execution_count": null,
   "id": "74074e61",
   "metadata": {},
   "outputs": [],
   "source": [
    "%%javascript\n",
    "IPython.OutputArea.prototype._should_scroll = function(lines) {\n",
    "return false;\n",
    "}"
   ]
  },
  {
   "cell_type": "code",
   "execution_count": null,
   "id": "4693e728",
   "metadata": {},
   "outputs": [],
   "source": [
    "import numpy as np     \n",
    "import matplotlib.pyplot as plt\n",
    "import plotly.graph_objects as go\n",
    "import IPython\n",
    "import gstlearn as gl\n",
    "import gstlearn.plot3D as gop\n",
    "import os"
   ]
  },
  {
   "cell_type": "code",
   "execution_count": null,
   "id": "e34c22c3",
   "metadata": {},
   "outputs": [],
   "source": [
    "gl.defineDefaultSpace(gl.ESpaceType.SN)\n",
    "\n",
    "mesh = gl.MeshSphericalExt()\n",
    "mesh.resetFromDb(None,None,triswitch = \"-r5\",verbose=False)\n",
    "\n",
    "model = gl.Model.createFromParam(gl.ECov.BESSEL_K,range=0.2,param=1)\n",
    "\n",
    "simu = gl.SimuSphericalParam(0,1000)\n",
    "simu.display()\n",
    "result = gl.simsph_mesh(mesh,model,simu,seed=23234,verbose=True)"
   ]
  },
  {
   "cell_type": "code",
   "execution_count": null,
   "id": "880f23a5",
   "metadata": {},
   "outputs": [],
   "source": [
    "simu = gop.SurfaceOnMesh(mesh, intensity=result, opacity=1, showlegend=True)"
   ]
  },
  {
   "cell_type": "code",
   "execution_count": null,
   "id": "c2272552",
   "metadata": {},
   "outputs": [],
   "source": [
    "!wget -q https://soft.minesparis.psl.eu/gstlearn/data/boundaries/world.poly"
   ]
  },
  {
   "cell_type": "code",
   "execution_count": null,
   "id": "7162e27c",
   "metadata": {},
   "outputs": [],
   "source": [
    "name = \"world.poly\"\n",
    "poly = gl.Polygons.createFromNF(name)\n",
    "boundaries = gop.PolygonOnSphere(poly)"
   ]
  },
  {
   "cell_type": "code",
   "execution_count": null,
   "id": "0e9e668a",
   "metadata": {},
   "outputs": [],
   "source": [
    "fig = go.Figure(data = [simu, boundaries])\n",
    "f = fig.show()"
   ]
  }
 ],
 "metadata": {
  "kernelspec": {
   "display_name": "Python 3 (ipykernel)",
   "language": "python",
   "name": "python3"
  },
  "language_info": {
   "codemirror_mode": {
    "name": "ipython",
    "version": 3
   },
   "file_extension": ".py",
   "mimetype": "text/x-python",
   "name": "python",
   "nbconvert_exporter": "python",
   "pygments_lexer": "ipython3",
   "version": "3.10.5"
  }
 },
 "nbformat": 4,
 "nbformat_minor": 5
}
