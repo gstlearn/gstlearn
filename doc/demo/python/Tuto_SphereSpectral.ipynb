{
 "cells": [
  {
   "cell_type": "markdown",
   "id": "3c013b8a",
   "metadata": {},
   "source": [
    "# Spectral Simulation on Sphere"
   ]
  },
  {
   "cell_type": "markdown",
   "id": "925fa7dc",
   "metadata": {},
   "source": [
    "<!-- SUMMARY: Simulations performed on a Sphere of the Spectral Model -->\n",
    "\n",
    "<!-- CATEGORY: Methodology -->"
   ]
  },
  {
   "cell_type": "markdown",
   "id": "e1de95a8",
   "metadata": {},
   "source": [
    "Ce notebook est un résumé du notebook situé ici \n",
    "\n",
    "https://chart-studio.plotly.com/~empet/14813/heatmap-plot-on-a-spherical-map/#/\n",
    "\n",
    "et se concentre sur le traçage des frontières (plus généralement d'un polygone) sur la sphère.\n",
    "\n",
    "Il nécessite l'installation de **mpl_toolkits** qui peut être assez complexe.\n",
    "\n",
    "Sous linux, sous réserve que la librairie GEOS soit installée, il suffit d'effectuer les commandes suivantes (le dossier à télécharger est assez lourd et la procédure peut prendre quelques minutes) :"
   ]
  },
  {
   "cell_type": "raw",
   "id": "3814975a",
   "metadata": {},
   "source": [
    "wget https://github.com/matplotlib/basemap/archive/refs/tags/v1.3.3.tar.gz\n",
    "tar -xvf basemap-1.3.3.tar.gz\n",
    "cd basemap-1.3.3/packages/basemap\n",
    "python3 -m pip install ."
   ]
  },
  {
   "cell_type": "markdown",
   "id": "ad7fdc88",
   "metadata": {},
   "source": [
    "En cas de problème, voir les détails ici :\n",
    "\n",
    "https://matplotlib.org/basemap/users/installing.html .\n"
   ]
  },
  {
   "cell_type": "code",
   "execution_count": null,
   "id": "4693e728",
   "metadata": {},
   "outputs": [],
   "source": [
    "import numpy as np     \n",
    "import matplotlib.pyplot as plt\n",
    "import plotly.graph_objects as go\n",
    "import IPython\n",
    "import gstlearn as gl\n",
    "import gstlearn.document as gdoc\n",
    "import gstlearn.plot3D as gop\n",
    "import os\n",
    "\n",
    "gdoc.setNoScroll()"
   ]
  },
  {
   "cell_type": "code",
   "execution_count": null,
   "id": "e34c22c3",
   "metadata": {},
   "outputs": [],
   "source": [
    "gl.defineDefaultSpace(gl.ESpaceType.SN)\n",
    "\n",
    "mesh = gl.MeshSphericalExt()\n",
    "mesh.resetFromDb(None,None,triswitch = \"-r5\",verbose=False)\n",
    "\n",
    "model = gl.Model.createFromParam(gl.ECov.MATERN,range=0.2,param=1)\n",
    "\n",
    "simu = gl.SimuSphericalParam(0,1000)\n",
    "simu.display()\n",
    "result = gl.simsph_mesh(mesh,model,simu,seed=23234,verbose=True)"
   ]
  },
  {
   "cell_type": "code",
   "execution_count": null,
   "id": "880f23a5",
   "metadata": {},
   "outputs": [],
   "source": [
    "simu = gop.SurfaceOnMesh(mesh, intensity=result, opacity=1, showlegend=True)"
   ]
  },
  {
   "cell_type": "code",
   "execution_count": null,
   "id": "7162e27c",
   "metadata": {},
   "outputs": [],
   "source": [
    "name = gdoc.loadData(\"boundaries\", \"world.poly\")\n",
    "poly = gl.Polygons.createFromNF(name)\n",
    "boundaries = gop.PolygonOnSphere(poly)"
   ]
  },
  {
   "cell_type": "code",
   "execution_count": null,
   "id": "0e9e668a",
   "metadata": {},
   "outputs": [],
   "source": [
    "fig = go.Figure(data = [simu, boundaries])\n",
    "f = fig.show()"
   ]
  },
  {
   "cell_type": "code",
   "execution_count": null,
   "id": "d229b01b",
   "metadata": {},
   "outputs": [],
   "source": []
  }
 ],
 "metadata": {
  "kernelspec": {
   "display_name": "Python 3 (ipykernel)",
   "language": "python",
   "name": "python3"
  },
  "language_info": {
   "codemirror_mode": {
    "name": "ipython",
    "version": 3
   },
   "file_extension": ".py",
   "mimetype": "text/x-python",
   "name": "python",
   "nbconvert_exporter": "python",
   "pygments_lexer": "ipython3",
   "version": "3.10.5"
  },
  "toc": {
   "base_numbering": 1,
   "nav_menu": {},
   "number_sections": true,
   "sideBar": true,
   "skip_h1_title": false,
   "title_cell": "Table of Contents",
   "title_sidebar": "Contents",
   "toc_cell": false,
   "toc_position": {},
   "toc_section_display": true,
   "toc_window_display": false
  }
 },
 "nbformat": 4,
 "nbformat_minor": 5
}
