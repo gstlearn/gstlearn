{
 "cells": [
  {
   "cell_type": "code",
   "execution_count": null,
   "id": "2d2687ce",
   "metadata": {},
   "outputs": [],
   "source": [
    "%%javascript\n",
    "IPython.OutputArea.prototype._should_scroll = function(lines) {\n",
    "return false;\n",
    "}"
   ]
  },
  {
   "cell_type": "code",
   "execution_count": null,
   "id": "5d8ccad9",
   "metadata": {},
   "outputs": [],
   "source": [
    "import matplotlib.pyplot as plt\n",
    "import gstlearn as gl\n",
    "import gstlearn.plot as gp\n",
    "import numpy as np\n",
    "import pandas as pd\n",
    "import scipy as sp\n",
    "from scipy import interpolate\n",
    "import os\n",
    "import urllib.request\n",
    "import tempfile"
   ]
  },
  {
   "cell_type": "code",
   "execution_count": null,
   "id": "d25fc103",
   "metadata": {},
   "outputs": [],
   "source": [
    "#!pip install --upgrade geopandas\n",
    "#!pip uninstall -y gstlearn\n",
    "#!pip install -i https://test.pypi.org/simple/ gstlearn==0.1.38"
   ]
  },
  {
   "cell_type": "code",
   "execution_count": null,
   "id": "58e860ae",
   "metadata": {},
   "outputs": [],
   "source": [
    "DIRDATA = tempfile.gettempdir()"
   ]
  },
  {
   "cell_type": "markdown",
   "id": "a707a129",
   "metadata": {},
   "source": [
    "## Creation of the data base for thickness"
   ]
  },
  {
   "cell_type": "code",
   "execution_count": null,
   "id": "b6943b84",
   "metadata": {},
   "outputs": [],
   "source": [
    "url = 'https://soft.minesparis.psl.eu/gstlearn/data/Alluvial/Oise_Thickness.csv'\n",
    "filename, head = urllib.request.urlretrieve(url)"
   ]
  },
  {
   "cell_type": "code",
   "execution_count": null,
   "id": "08698495",
   "metadata": {},
   "outputs": [],
   "source": [
    "csv = gl.CSVformat(True, 0, \";\", \",\", \"9999\")\n",
    "data = gl.Db.createFromCSV(filename, csv, False)\n",
    "data.setLocator(\"X\",gl.ELoc.X,0)\n",
    "data.setLocator(\"Y\",gl.ELoc.X,1)\n",
    "data.setLocator(\"Epaisseur\",gl.ELoc.L,0)\n",
    "data.setLocator(\"Epaisseur_1\",gl.ELoc.U,0)\n",
    "sf = gl.DbStringFormat()\n",
    "sf.setFlags(flag_stats=True) \n",
    "thickness = data.getWithinBounds(0)\n",
    "err = data.addColumns(thickness,\"Thickness\",gl.ELoc.Z)\n",
    "err = gl.db_duplicate(data)\n",
    "data.display()"
   ]
  },
  {
   "cell_type": "code",
   "execution_count": null,
   "id": "44872ea4",
   "metadata": {},
   "outputs": [],
   "source": [
    "fig,ax = gp.init()\n",
    "ax.symbol(data,name_color=\"Thickness\")\n",
    "plt.show()"
   ]
  },
  {
   "cell_type": "code",
   "execution_count": null,
   "id": "62f5b51d",
   "metadata": {},
   "outputs": [],
   "source": [
    "gp.plot(data,name_color=\"Thickness\")"
   ]
  },
  {
   "cell_type": "code",
   "execution_count": null,
   "id": "2f43c5fa",
   "metadata": {},
   "outputs": [],
   "source": [
    "plt.hist(thickness)"
   ]
  },
  {
   "cell_type": "code",
   "execution_count": null,
   "id": "d246f715",
   "metadata": {},
   "outputs": [],
   "source": [
    "data"
   ]
  },
  {
   "cell_type": "code",
   "execution_count": null,
   "id": "402eb1b5",
   "metadata": {},
   "outputs": [],
   "source": [
    "filename = os.path.join(DIRDATA,\"Oise_Data.ascii\")\n",
    "data.dumpToNF(filename)"
   ]
  },
  {
   "cell_type": "markdown",
   "id": "42c41f39",
   "metadata": {},
   "source": [
    "## Creation of the grid"
   ]
  },
  {
   "cell_type": "markdown",
   "id": "7a0b15ea",
   "metadata": {},
   "source": [
    "### 1) Creation of the polygon"
   ]
  },
  {
   "cell_type": "code",
   "execution_count": null,
   "id": "cc2676c2",
   "metadata": {},
   "outputs": [],
   "source": [
    "url = 'https://soft.minesparis.psl.eu/gstlearn/data/Alluvial/Oise_Alluvial.csv'\n",
    "fileAlluvial, head = urllib.request.urlretrieve(url)"
   ]
  },
  {
   "cell_type": "code",
   "execution_count": null,
   "id": "4fbc3e4f",
   "metadata": {},
   "outputs": [],
   "source": [
    "poly = gl.Polygons.createFromCSV(fileAlluvial, csv, False)\n",
    "poly.display()"
   ]
  },
  {
   "cell_type": "code",
   "execution_count": null,
   "id": "10963038",
   "metadata": {},
   "outputs": [],
   "source": [
    "ax = poly.plot()"
   ]
  },
  {
   "cell_type": "code",
   "execution_count": null,
   "id": "41af1869",
   "metadata": {},
   "outputs": [],
   "source": [
    "grid = gl.DbGrid.create(nx = [3300,400],dx = [50.,50.], x0 = [630000.,6865000.],angles=[40,0])"
   ]
  },
  {
   "cell_type": "code",
   "execution_count": null,
   "id": "fc521335",
   "metadata": {},
   "outputs": [],
   "source": [
    "fig, ax = gp.initGeographic()\n",
    "ax.raster(grid,\"x1\",alpha=0.3)\n",
    "ax.symbol(data)"
   ]
  },
  {
   "cell_type": "code",
   "execution_count": null,
   "id": "d18a35ec",
   "metadata": {},
   "outputs": [],
   "source": [
    "err = gl.db_polygon(grid,poly)\n",
    "grid"
   ]
  },
  {
   "cell_type": "markdown",
   "id": "7e30d366",
   "metadata": {},
   "source": [
    "### 2) Creation of angles"
   ]
  },
  {
   "cell_type": "code",
   "execution_count": null,
   "id": "a6404bb3",
   "metadata": {
    "scrolled": true
   },
   "outputs": [],
   "source": [
    "url = 'https://soft.minesparis.psl.eu/gstlearn/data/Alluvial/Oise_Centerline.csv'\n",
    "fileCenter, head = urllib.request.urlretrieve(url)\n",
    "\n",
    "## Loading Centerline data from file\n",
    "df1 = pd.read_csv (fileCenter, sep=';')\n",
    "xc = list(df1['X'])\n",
    "yc = list(df1['Y'])\n",
    "x1=xc[1:499]\n",
    "y1=yc[1:499]\n",
    "\n",
    "## Loading alluvial plain contours from file & Separate into two polylines \n",
    "df = pd.read_csv (fileAlluvial, sep=';')\n",
    "xp = list(df['X'])\n",
    "yp = list(df['Y'])\n",
    "x2=xp[1:xp.index(max(xp))]\n",
    "x3=xp[len(xp):xp.index(max(xp))+1:-1]\n",
    "y2=yp[1:xp.index(max(xp))]\n",
    "y3=yp[len(xp):xp.index(max(xp))+1:-1]\n",
    "\n",
    "## Adding supplementary control points at the edges\n",
    "# coordinates of extremes\n",
    "XA1=640000\n",
    "YA1=6875000\n",
    "XB1=740000\n",
    "YB1=6955000\n",
    "\n",
    "XA2=630000\n",
    "YA2=6890000\n",
    "XB2=735000\n",
    "YB2=6980000\n",
    "\n",
    "# Forming two supplementary vectors at the edges\n",
    "n=19\n",
    "x4= np.zeros(n)\n",
    "y4= np.zeros(n)\n",
    "x5= np.zeros(n)\n",
    "y5= np.zeros(n)\n",
    "for i in range(0,len(x4)):\n",
    "    x4[i]=(XA1+(XB1-XA1)/(n-1)*i)\n",
    "    y4[i]=(YA1+(YB1-YA1)/(n-1)*i)\n",
    "    x5[i]=(XA2+(XB2-XA2)/(n-1)*i)\n",
    "    y5[i]=(YA2+(YB2-YA2)/(n-1)*i)\n",
    "\n",
    "# Methode du gradient \n",
    "#  https://stackoverflow.com/questions/28269379/curve-curvature-in-numpy\n",
    "dx_dt1 = np.gradient(x1)\n",
    "dy_dt1 = np.gradient(y1)\n",
    "velocity = np.array([ [dx_dt1[i], dy_dt1[i]] for i in range(dx_dt1.size)])\n",
    "ds_dt1 = np.sqrt(dx_dt1 * dx_dt1 + dy_dt1 * dy_dt1)\n",
    "tangent1 = np.array([1/ds_dt1] * 2).transpose() * velocity\n",
    "\n",
    "dx_dt2 = np.gradient(x2)\n",
    "dy_dt2 = np.gradient(y2)\n",
    "velocity2 = np.array([ [dx_dt2[i], dy_dt2[i]] for i in range(dx_dt2.size)])\n",
    "ds_dt2 = np.sqrt(dx_dt2 * dx_dt2 + dy_dt2 * dy_dt2)\n",
    "tangent2 = np.array([1/ds_dt2] * 2).transpose() * velocity2\n",
    "\n",
    "dx_dt3 = np.gradient(x3)\n",
    "dy_dt3 = np.gradient(y3)\n",
    "velocity3 = np.array([ [dx_dt3[i], dy_dt3[i]] for i in range(dx_dt3.size)])\n",
    "ds_dt3 = np.sqrt(dx_dt3 * dx_dt3 + dy_dt3 * dy_dt3)\n",
    "tangent3 = np.array([1/ds_dt3] * 2).transpose() * velocity3\n",
    "\n",
    "dx_dt4 = np.gradient(x4)\n",
    "dy_dt4 = np.gradient(y4)\n",
    "velocity4 = np.array([ [dx_dt4[i], dy_dt4[i]] for i in range(dx_dt4.size)])\n",
    "ds_dt4 = np.sqrt(dx_dt4 * dx_dt4 + dy_dt4 * dy_dt4)\n",
    "tangent4 = np.array([1/ds_dt4] * 2).transpose() * velocity4\n",
    "\n",
    "dx_dt5 = np.gradient(x5)\n",
    "dy_dt5 = np.gradient(y5)\n",
    "velocity5 = np.array([ [dx_dt5[i], dy_dt5[i]] for i in range(dx_dt5.size)])\n",
    "ds_dt5 = np.sqrt(dx_dt5 * dx_dt5 + dy_dt5 * dy_dt5)\n",
    "tangent5 = np.array([1/ds_dt5] * 2).transpose() * velocity5\n",
    "    \n",
    "tangent=np.concatenate((tangent1,tangent2,tangent3,tangent4,tangent5),axis=0) \n",
    "\n",
    "x0=np.concatenate((x1,x2,x3,x4,x5),axis=0) \n",
    "y0=np.concatenate((y1,y2,y3,y4,y5),axis=0) \n",
    "u0 = tangent[:, 0]\n",
    "v0 = tangent[:, 1]\n",
    "\n",
    "\n",
    "# Visualize vectors\n",
    "fig, ax = plt.subplots(figsize = (100,100))\n",
    "plt.figure(1)\n",
    "plt.quiver(x0,y0,u0,v0)\n",
    "\n",
    "plt.plot(x0,y0,'ro')\n",
    "#plt.savefig('vectors.pdf') \n"
   ]
  },
  {
   "cell_type": "code",
   "execution_count": null,
   "id": "18fb5cc6",
   "metadata": {},
   "outputs": [],
   "source": [
    "df = pd.read_csv (fileAlluvial, sep=';')\n",
    "df"
   ]
  },
  {
   "cell_type": "code",
   "execution_count": null,
   "id": "a0ea8402",
   "metadata": {},
   "outputs": [],
   "source": [
    "# Interpolating the vectors into vector map -> https://docs.scipy.org/doc/scipy/reference/generated/scipy.interpolate.griddata.html\n",
    "\n",
    "xx = np.linspace(630000, 742000, 2240)\n",
    "yy = np.linspace(6875000, 6982200, 2144)\n",
    "xx, yy = np.meshgrid(xx, yy)\n",
    "\n",
    "u0.shape=(np.size(u0),)\n",
    "np.shape(u0)\n",
    "v0.shape=(np.size(v0),)\n",
    "np.shape(v0)\n",
    "\n",
    "points = np.transpose(np.vstack((x0, y0)))\n",
    "u_interp = interpolate.griddata(points, u0, (xx, yy), method='linear')\n",
    "v_interp = interpolate.griddata(points, v0, (xx, yy), method='linear')\n",
    "\n",
    "xx1 = np.concatenate(xx)\n",
    "yy1 = np.concatenate(yy)\n",
    "u_interp1 = np.concatenate(u_interp)\n",
    "v_interp1 = np.concatenate(v_interp)\n"
   ]
  },
  {
   "cell_type": "code",
   "execution_count": null,
   "id": "434033df",
   "metadata": {},
   "outputs": [],
   "source": [
    "#Créer une Db point avec xx, yy, u_interp, v_interp\n",
    "dbv = gl.Db()\n",
    "dbv.addColumns(xx1,\"xx\",gl.ELoc.X, 0)\n",
    "dbv.addColumns(yy1,\"yy\",gl.ELoc.X, 1)\n",
    "dbv.addColumns(u_interp1,\"u_interp\",gl.ELoc.Z, 0)\n",
    "dbv.addColumns(v_interp1,\"v_interp\",gl.ELoc.Z, 1)\n",
    "dbv.display()\n",
    "grid.setLocator(\"Pol*\")\n",
    "grid.display()"
   ]
  },
  {
   "cell_type": "code",
   "execution_count": null,
   "id": "4c419c3b",
   "metadata": {},
   "outputs": [],
   "source": [
    "#Tester la valeur retournée par migrate :\n",
    "grid.deleteColumn(\"Migr*\")\n",
    "grid.display()\n",
    "gl.migrate(dbv, grid, \"u_interp\")\n",
    "gl.migrate(dbv, grid, \"v_interp\")\n",
    "grid.setLocator(\"Migrate*\", gl.ELoc.Z)\n",
    "#grid.display(sf)"
   ]
  },
  {
   "cell_type": "code",
   "execution_count": null,
   "id": "da97fd79",
   "metadata": {},
   "outputs": [],
   "source": [
    "grid.useSel = False\n",
    "grid.setLocator(\"Polygon\")\n",
    "uid_selection=grid.addSelectionByLimit(\"*u_interp*\", gl.Limits([-10], [10]), \"vec_define\")"
   ]
  },
  {
   "cell_type": "code",
   "execution_count": null,
   "id": "194b136a",
   "metadata": {},
   "outputs": [],
   "source": [
    "xplt = grid.getColumnByLocator(gl.ELoc.X,0,useSel=True)\n",
    "yplt = grid.getColumnByLocator(gl.ELoc.X,1,useSel=True)\n",
    "uplt = grid.getColumnByLocator(gl.ELoc.Z,0,useSel=True)\n",
    "vplt = grid.getColumnByLocator(gl.ELoc.Z,1,useSel=True)"
   ]
  },
  {
   "cell_type": "code",
   "execution_count": null,
   "id": "bf001588",
   "metadata": {
    "scrolled": false
   },
   "outputs": [],
   "source": [
    "plt.figure(figsize=(200,200))\n",
    "plt.quiver(xplt, yplt, uplt, vplt, headwidth =3, width= 0.0005, scale = 200, headlength= 5,  label='Field vectors')\n",
    "plt.plot(x0,y0,'ro',markersize=10, label='Alluvial plain')\n",
    "#plt.savefig('vectorsfield.pdf')"
   ]
  },
  {
   "cell_type": "code",
   "execution_count": null,
   "id": "80cb5bb1",
   "metadata": {},
   "outputs": [],
   "source": [
    "grid"
   ]
  },
  {
   "cell_type": "code",
   "execution_count": null,
   "id": "a8444fbc",
   "metadata": {},
   "outputs": [],
   "source": [
    "fig,ax = gp.initGeographic()\n",
    "ax.raster(grid,\"*.u_interp\",alpha=0.3,useSel=False)\n",
    "ax.polygon(poly)\n",
    "ax.symbol(data)"
   ]
  },
  {
   "cell_type": "code",
   "execution_count": null,
   "id": "7954e65b",
   "metadata": {
    "scrolled": true
   },
   "outputs": [],
   "source": [
    "filename = os.path.join(DIRDATA,\"Oise_GridVector.ascii\")\n",
    "grid.dumpToNF(filename)"
   ]
  },
  {
   "cell_type": "markdown",
   "id": "5b906e54",
   "metadata": {},
   "source": [
    "# Pour Diana"
   ]
  },
  {
   "cell_type": "code",
   "execution_count": null,
   "id": "b0adac27",
   "metadata": {},
   "outputs": [],
   "source": [
    "fileSave = os.path.join(DIRDATA,\"Oise_GridVector.ascii\")\n",
    "grid = gl.DbGrid.createFromNF(fileSave)"
   ]
  },
  {
   "cell_type": "code",
   "execution_count": null,
   "id": "9e620348",
   "metadata": {},
   "outputs": [],
   "source": [
    "u = grid[\"Migrate.u_interp\"]\n",
    "v = grid[\"Migrate.v_interp\"]\n",
    "res = 0. * u\n",
    "\n",
    "for i in range(u.shape[0]):\n",
    "    res[i] = gl.GH.rotationGetAngles((u[i], v[i]))[0]\n",
    "    \n",
    "grid.deleteColumn(\"angles*\")\n",
    "grid[\"angles1\"]= res\n",
    "grid.setLocator(\"angles*\",gl.ELoc.NOSTAT)"
   ]
  },
  {
   "cell_type": "markdown",
   "id": "048a560b",
   "metadata": {},
   "source": [
    "### 3) Creation of a selection (polygon + borders by morphological dilation)"
   ]
  },
  {
   "cell_type": "code",
   "execution_count": null,
   "id": "b2b54365",
   "metadata": {},
   "outputs": [],
   "source": [
    "grid.setLocator(\"Poly*\", gl.ELoc.SEL)"
   ]
  },
  {
   "cell_type": "code",
   "execution_count": null,
   "id": "3684cb14",
   "metadata": {},
   "outputs": [],
   "source": [
    "vmin = 0.5\n",
    "vmax = 1.5\n",
    "nxy = grid.getNXs()\n",
    "image2 = gl.BImage(nxy)\n",
    "\n",
    "tab = grid.getColumn(\"Polygon\",useSel=False)\n",
    "image = gl.morpho_double2image(nxy,tab,vmin,vmax)\n",
    "localVD = gl.VectorDouble(len(tab))\n",
    "gl.morpho_dilation(0, [3,3], image, image2)\n",
    "for i in range(10):\n",
    "    gl.morpho_dilation(0, [1,1], image, image2)\n",
    "    gl.morpho_dilation(0, [1,1], image2, image)\n",
    "#gl.morpho_dilation(0, [1,1], image, image2)\n",
    "\n",
    "gl.morpho_image2double(image2, 0, 1., 0., localVD)"
   ]
  },
  {
   "cell_type": "code",
   "execution_count": null,
   "id": "dcb57649",
   "metadata": {},
   "outputs": [],
   "source": [
    "grid[\"res\"]=localVD.getVector()"
   ]
  },
  {
   "cell_type": "code",
   "execution_count": null,
   "id": "919807cf",
   "metadata": {},
   "outputs": [],
   "source": [
    "grid.setLocator(\"res\",gl.ELoc.SEL)"
   ]
  },
  {
   "cell_type": "code",
   "execution_count": null,
   "id": "ea9c83e4",
   "metadata": {},
   "outputs": [],
   "source": [
    "fig,ax = gp.initGeographic()\n",
    "ax.raster(grid,\"res\")"
   ]
  },
  {
   "cell_type": "markdown",
   "id": "bb1dc200",
   "metadata": {},
   "source": [
    "### 4) Save the result"
   ]
  },
  {
   "cell_type": "code",
   "execution_count": null,
   "id": "d3fe237d",
   "metadata": {},
   "outputs": [],
   "source": [
    "fileFinal = os.path.join(DIRDATA,\"Oise_GridVectorFinal.ascii\")\n",
    "grid.dumpToNF(fileFinal)"
   ]
  },
  {
   "cell_type": "code",
   "execution_count": null,
   "id": "3c163217",
   "metadata": {},
   "outputs": [],
   "source": []
  }
 ],
 "metadata": {
  "hide_input": false,
  "kernelspec": {
   "display_name": "Python 3 (ipykernel)",
   "language": "python",
   "name": "python3"
  },
  "language_info": {
   "codemirror_mode": {
    "name": "ipython",
    "version": 3
   },
   "file_extension": ".py",
   "mimetype": "text/x-python",
   "name": "python",
   "nbconvert_exporter": "python",
   "pygments_lexer": "ipython3",
   "version": "3.10.5"
  }
 },
 "nbformat": 4,
 "nbformat_minor": 5
}
