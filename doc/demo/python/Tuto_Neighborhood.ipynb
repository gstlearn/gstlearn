{
 "cells": [
  {
   "cell_type": "markdown",
   "metadata": {},
   "source": [
    "# Neighborhood"
   ]
  },
  {
   "cell_type": "markdown",
   "metadata": {},
   "source": [
    "<!-- SUMMARY: Definition of the Neighborhood concept. This tutorial gives hints on the parameters of the Moving Neighborhood -->\n",
    "\n",
    "<!-- CATEGORY: Basic_Objects -->"
   ]
  },
  {
   "cell_type": "markdown",
   "metadata": {},
   "source": [
    "This file is meant to demonstrate the use of gstlearn for Moving Neighborhood search"
   ]
  },
  {
   "cell_type": "code",
   "execution_count": null,
   "metadata": {},
   "outputs": [],
   "source": [
    "import numpy as np\n",
    "import pandas as pd\n",
    "import sys\n",
    "import os\n",
    "import gstlearn as gl\n",
    "import gstlearn.plot as gp\n",
    "import gstlearn.document as gdoc\n",
    "import matplotlib.pyplot as plt\n",
    "import random as rnd\n",
    "\n",
    "gdoc.setNoScroll()"
   ]
  },
  {
   "cell_type": "markdown",
   "metadata": {},
   "source": [
    "Setting some global variables"
   ]
  },
  {
   "cell_type": "code",
   "execution_count": null,
   "metadata": {},
   "outputs": [],
   "source": [
    "# Set the Global Options\n",
    "verbose = True\n",
    "flagGraphic = True\n",
    "\n",
    "# Define the Space Dimension\n",
    "ndim = 2\n",
    "gl.defineDefaultSpace(gl.ESpaceType.RN, ndim)\n",
    "\n",
    "# Set the Seed for the Random Number generator\n",
    "gl.law_set_random_seed(5584)\n",
    "rnd.seed(13155)"
   ]
  },
  {
   "cell_type": "markdown",
   "metadata": {},
   "source": [
    "In this paragraph, we generate a Poisson data set and check various neighborhoods around one specific node of a regular grid."
   ]
  },
  {
   "cell_type": "code",
   "execution_count": null,
   "metadata": {},
   "outputs": [],
   "source": [
    "dxref = 0.1\n",
    "grid = gl.DbGrid.create(nx=[10,10],dx=[dxref,dxref])\n",
    "xlim = grid.getExtrema(0)\n",
    "ylim = grid.getExtrema(1)"
   ]
  },
  {
   "cell_type": "markdown",
   "metadata": {},
   "source": [
    "## Random Point data set"
   ]
  },
  {
   "cell_type": "code",
   "execution_count": null,
   "metadata": {},
   "outputs": [],
   "source": [
    "coormin = grid.getCoorMinimum()\n",
    "coormax = grid.getCoorMaximum()\n",
    "nech = 100\n",
    "data = gl.Db.createFromBox(nech, coormin, coormax)"
   ]
  },
  {
   "cell_type": "code",
   "execution_count": null,
   "metadata": {},
   "outputs": [],
   "source": [
    "gp.setDefaultGeographic(xlim=xlim, ylim=ylim, dims=[7,7])\n",
    "cmap = gp.getColorMap(100)\n",
    "ax = data.plot()"
   ]
  },
  {
   "cell_type": "markdown",
   "metadata": {},
   "source": [
    "### Checking standard neighborhood"
   ]
  },
  {
   "cell_type": "markdown",
   "metadata": {},
   "source": [
    "Defining a standard Moving Neighborhood"
   ]
  },
  {
   "cell_type": "code",
   "execution_count": null,
   "metadata": {},
   "outputs": [],
   "source": [
    "nmini = 1\n",
    "nmaxi = 15\n",
    "radius = 0.3\n",
    "nsect = 8\n",
    "nsmax = 3\n",
    "neigh = gl.NeighMoving.create(False, nmaxi, radius, nmini, nsect, nsmax)\n",
    "neigh"
   ]
  },
  {
   "cell_type": "markdown",
   "metadata": {},
   "source": [
    "Checking the neighborhood around a central grid node"
   ]
  },
  {
   "cell_type": "code",
   "execution_count": null,
   "metadata": {},
   "outputs": [],
   "source": [
    "node = 55\n",
    "neigh.attach(data, grid)\n",
    "ranks = gl.VectorInt()\n",
    "neigh.select(node, ranks)\n",
    "\n",
    "dataSel = data.clone()\n",
    "dum = dataSel.addSelectionByRanks(ranks)"
   ]
  },
  {
   "cell_type": "code",
   "execution_count": null,
   "metadata": {
    "scrolled": true
   },
   "outputs": [],
   "source": [
    "ax = data.plot()\n",
    "ax = dataSel.plot(color='blue')\n",
    "ax.neigh(neigh, grid, node, flagCell=False)\n",
    "ax.decoration(\"Standard Neighborhood\")"
   ]
  },
  {
   "cell_type": "markdown",
   "metadata": {},
   "source": [
    "### Defining variable block extensions"
   ]
  },
  {
   "cell_type": "markdown",
   "metadata": {},
   "source": [
    "In this section, we will generate variables in the Grid which contain the cell extension: this cell extension replaces the constant value of the mesh."
   ]
  },
  {
   "cell_type": "code",
   "execution_count": null,
   "metadata": {
    "scrolled": true
   },
   "outputs": [],
   "source": [
    "nech = grid.getSampleNumber()\n",
    "mini = 0.5\n",
    "maxi = 2.5\n",
    "blx = []\n",
    "bly = []\n",
    "for i in range(nech):\n",
    "    blx.append(dxref * rnd.uniform(mini, maxi))\n",
    "    bly.append(dxref * rnd.uniform(mini, maxi))\n",
    "\n",
    "dum = grid.addColumns(blx, \"X-ext\", gl.ELoc.BLEX, 0)\n",
    "dum = grid.addColumns(bly, \"Y-ext\", gl.ELoc.BLEX, 1)"
   ]
  },
  {
   "cell_type": "markdown",
   "metadata": {},
   "source": [
    "The following display shows each block with its center and its cell extension."
   ]
  },
  {
   "cell_type": "code",
   "execution_count": null,
   "metadata": {
    "scrolled": true
   },
   "outputs": [],
   "source": [
    "ax = data.plot()\n",
    "ax.decoration(title=\"Variable Block Size\")\n",
    "\n",
    "for node in range(nech):\n",
    "    ax = gp.sample(grid.getSampleCoordinates(node))\n",
    "    ax = gp.curve(grid.getCellEdges(node))"
   ]
  },
  {
   "cell_type": "markdown",
   "metadata": {},
   "source": [
    "We choose a specific cell again and determine the standard **block** neighborhood"
   ]
  },
  {
   "cell_type": "code",
   "execution_count": null,
   "metadata": {},
   "outputs": [],
   "source": [
    "node = 56\n",
    "neigh.attach(data, grid)\n",
    "ranks = gl.VectorInt()\n",
    "neigh.select(node, ranks)\n",
    "\n",
    "dataSel = data.clone()\n",
    "dum = dataSel.addSelectionByRanks(ranks)"
   ]
  },
  {
   "cell_type": "code",
   "execution_count": null,
   "metadata": {},
   "outputs": [],
   "source": [
    "ax = data.plot()\n",
    "ax = dataSel.plot(color='blue')\n",
    "ax.neigh(neigh, grid, node, flagCell=True)\n",
    "ax.decoration(title=\"Standard Neighborhood\")"
   ]
  },
  {
   "cell_type": "markdown",
   "metadata": {},
   "source": [
    "Use the Cell neighborhood to force the selection of all samples belonging to the block"
   ]
  },
  {
   "cell_type": "code",
   "execution_count": null,
   "metadata": {},
   "outputs": [],
   "source": [
    "nmini = 1\n",
    "neigh = gl.NeighCell.create(False, nmini)\n",
    "neigh"
   ]
  },
  {
   "cell_type": "code",
   "execution_count": null,
   "metadata": {},
   "outputs": [],
   "source": [
    "node = 56\n",
    "neigh.attach(data, grid)\n",
    "ranks = gl.VectorInt()\n",
    "neigh.select(node, ranks)\n",
    "\n",
    "dataSel = data.clone()\n",
    "dum = dataSel.addSelectionByRanks(ranks)"
   ]
  },
  {
   "cell_type": "code",
   "execution_count": null,
   "metadata": {
    "scrolled": true
   },
   "outputs": [],
   "source": [
    "ax = data.plot()\n",
    "ax = dataSel.plot(color='blue')\n",
    "ax.neigh(neigh, grid, node, flagCell=True)\n",
    "ax.decoration(title=\"Neighborhood forced to the Cell\")"
   ]
  },
  {
   "cell_type": "markdown",
   "metadata": {},
   "source": [
    "## Data gathered along lines"
   ]
  },
  {
   "cell_type": "markdown",
   "metadata": {},
   "source": [
    "This chapter is meant to illustrate the specific problem when data are located along lines. \n",
    "\n",
    "We assume that the distance between lines is much larger that the distance within each line. For illustrating this case, we generate the data as the nodes of a regular 2D grid with a grid mesh which is very different along X (across line) and Y (along line). The file is ultimately converted into a Point file to make the rest of the procedure more flexible.µ"
   ]
  },
  {
   "cell_type": "code",
   "execution_count": null,
   "metadata": {},
   "outputs": [],
   "source": [
    "grid = gl.DbGrid.create(nx=[20,100], dx=[10,1])\n",
    "iuid = grid.addColumns(gl.VectorHelper.simulateUniform(grid.getSampleNumber()), \"z\", gl.ELoc.Z)\n",
    "point = gl.Db.createReduce(grid)"
   ]
  },
  {
   "cell_type": "code",
   "execution_count": null,
   "metadata": {},
   "outputs": [],
   "source": [
    "gp.setDefaultGeographic(xlim='reset',ylim='reset',dims=[14,9])\n",
    "ax = point.plot(size=2)"
   ]
  },
  {
   "cell_type": "markdown",
   "metadata": {},
   "source": [
    "Check the neighborhood search for a target located close to one line, say at coordinates [98, 50]"
   ]
  },
  {
   "cell_type": "code",
   "execution_count": null,
   "metadata": {},
   "outputs": [],
   "source": [
    "target = gl.Db.createFromOnePoint([98, 50])"
   ]
  },
  {
   "cell_type": "markdown",
   "metadata": {},
   "source": [
    "Create a standard neighborhood, say with 10 samples per neighborhood and a radius of 7."
   ]
  },
  {
   "cell_type": "code",
   "execution_count": null,
   "metadata": {
    "scrolled": true
   },
   "outputs": [],
   "source": [
    "nmini = 1\n",
    "nmaxi = 10\n",
    "radius = 7\n",
    "neigh = gl.NeighMoving.create(False, nmaxi, radius, nmini)\n",
    "neigh"
   ]
  },
  {
   "cell_type": "code",
   "execution_count": null,
   "metadata": {},
   "outputs": [],
   "source": [
    "neigh.attach(point, target)\n",
    "ranks = gl.VectorInt()\n",
    "neigh.select(0, ranks)\n",
    "\n",
    "pointSel = point.clone()\n",
    "dum = pointSel.addSelectionByRanks(ranks)"
   ]
  },
  {
   "cell_type": "code",
   "execution_count": null,
   "metadata": {},
   "outputs": [],
   "source": [
    "ax = point.plot(size=2)\n",
    "ax = pointSel.plot(color='blue')\n",
    "ax.neigh(neigh, target, 0)\n",
    "ax.decoration(\"Standard Neighborhood - Small Radius\")"
   ]
  },
  {
   "cell_type": "markdown",
   "metadata": {},
   "source": [
    "With no surprise, all samples are gathered on the closest line. This may be a problem when performing the Estimation (using Kriging) of a variable which is characterized by a First Order Random Function: as a matter of fact, the Linear System is singular if all samples are located on a single line (whatever its orientation).\n",
    "Note that in the case of a Second Order Random Function, we must avoid having samples located on a second order Variety, e.g. a circle, an ellipse or 2 lines)."
   ]
  },
  {
   "cell_type": "markdown",
   "metadata": {},
   "source": [
    "The first idea is to use the angular sectors: here we consider a new neighborhood adding this constraints when selecting the samples."
   ]
  },
  {
   "cell_type": "code",
   "execution_count": null,
   "metadata": {},
   "outputs": [],
   "source": [
    "nmini = 1\n",
    "nmaxi = 10\n",
    "radius = 7\n",
    "nsect = 8\n",
    "nsmax = 3\n",
    "neigh = gl.NeighMoving.create(False, nmaxi, radius, nmini, nsect, nsmax)\n",
    "neigh"
   ]
  },
  {
   "cell_type": "code",
   "execution_count": null,
   "metadata": {},
   "outputs": [],
   "source": [
    "neigh.attach(point, target)\n",
    "ranks = gl.VectorInt()\n",
    "neigh.select(0, ranks)\n",
    "pointSel = point.clone()\n",
    "dum = pointSel.addSelectionByRanks(ranks)"
   ]
  },
  {
   "cell_type": "code",
   "execution_count": null,
   "metadata": {},
   "outputs": [],
   "source": [
    "ax = point.plot(size=2)\n",
    "ax = pointSel.plot(color='blue')\n",
    "ax.neigh(neigh, target, 0)\n",
    "ax.decoration(\"Small Radius - Few Sectors\")"
   ]
  },
  {
   "cell_type": "markdown",
   "metadata": {},
   "source": [
    "Despite the use of angular sectors, the samples selected in the neighborhood still belong to a single line. The obvious reason is the size of the neighborhood radius which must be enlarged."
   ]
  },
  {
   "cell_type": "code",
   "execution_count": null,
   "metadata": {},
   "outputs": [],
   "source": [
    "nmini = 1\n",
    "nmaxi = 10\n",
    "radius = 20\n",
    "nsect = 8\n",
    "nsmax = 3\n",
    "neigh = gl.NeighMoving.create(False, nmaxi, radius, nmini, nsect, nsmax)\n",
    "neigh"
   ]
  },
  {
   "cell_type": "code",
   "execution_count": null,
   "metadata": {},
   "outputs": [],
   "source": [
    "neigh.attach(point, target)\n",
    "ranks = gl.VectorInt()\n",
    "neigh.select(0, ranks)\n",
    "pointSel = point.clone()\n",
    "dum = pointSel.addSelectionByRanks(ranks)"
   ]
  },
  {
   "cell_type": "code",
   "execution_count": null,
   "metadata": {},
   "outputs": [],
   "source": [
    "ax = point.plot(size=2)\n",
    "ax = pointSel.plot(color='blue')\n",
    "ax.neigh(neigh, target, 0)\n",
    "ax.decoration(\"Large Radius - Few Sectors\")"
   ]
  },
  {
   "cell_type": "markdown",
   "metadata": {},
   "source": [
    "The rule is now to consider each sector in turn and to select the sample closest to the target. This time, selected samples belong to more than a single line. The solution then is to increase the number of angular sectors so as to make it equal to the number of samples per neighborhood.\n",
    "\n",
    "In that case, we will have better tendency to reach a line located further from the target, although this is not guaranteed."
   ]
  },
  {
   "cell_type": "code",
   "execution_count": null,
   "metadata": {},
   "outputs": [],
   "source": [
    "nmini = 1\n",
    "nmaxi = 20\n",
    "radius = 20\n",
    "nsect = 20\n",
    "nsmax = 1\n",
    "neigh = gl.NeighMoving.create(False, nmaxi, radius, nmini, nsect, nsmax)\n",
    "neigh"
   ]
  },
  {
   "cell_type": "code",
   "execution_count": null,
   "metadata": {},
   "outputs": [],
   "source": [
    "neigh.attach(point, target)\n",
    "ranks = gl.VectorInt()\n",
    "neigh.select(0, ranks)\n",
    "pointSel = point.clone()\n",
    "dum = pointSel.addSelectionByRanks(ranks)"
   ]
  },
  {
   "cell_type": "code",
   "execution_count": null,
   "metadata": {
    "scrolled": true
   },
   "outputs": [],
   "source": [
    "ax = point.plot(size=2)\n",
    "ax = pointSel.plot(color='blue')\n",
    "ax.neigh(neigh, target, 0)\n",
    "ax.decoration(\"Large Radius - Many Sectors\")"
   ]
  },
  {
   "cell_type": "markdown",
   "metadata": {},
   "source": [
    "A idea could be to introduce a search ellipse (rather than a circle). The following example is the proof that this does not provide a valuable solution: it modifies the selected samples but does not extend the neighbrohood pattern."
   ]
  },
  {
   "cell_type": "code",
   "execution_count": null,
   "metadata": {},
   "outputs": [],
   "source": [
    "nmini = 1\n",
    "nmaxi = 20\n",
    "radius = 20\n",
    "nsect = 20\n",
    "nsmax = 1\n",
    "neigh = gl.NeighMoving.create(False, nmaxi, radius, nmini, nsect, nsmax, coeffs=[2,1])\n",
    "neigh"
   ]
  },
  {
   "cell_type": "code",
   "execution_count": null,
   "metadata": {},
   "outputs": [],
   "source": [
    "neigh.attach(point, target)\n",
    "ranks = gl.VectorInt()\n",
    "neigh.select(0, ranks)\n",
    "pointSel = point.clone()\n",
    "dum = pointSel.addSelectionByRanks(ranks)"
   ]
  },
  {
   "cell_type": "code",
   "execution_count": null,
   "metadata": {
    "scrolled": true
   },
   "outputs": [],
   "source": [
    "ax = point.plot(size=2)\n",
    "ax = pointSel.plot(color='blue')\n",
    "ax.neigh(neigh, target, 0)\n",
    "ax.decoration(\"Ellipse Radius - Many Sectors\")"
   ]
  },
  {
   "cell_type": "markdown",
   "metadata": {},
   "source": [
    "Obviously, to reach samples located on more remote lines, we should extend the anisotropy dramatically (in the horizontal direction). Note that this would correspond to an exaggeration which would be exactly opposite to the direction of large density of the information (vertical direction)."
   ]
  }
 ],
 "metadata": {
  "kernelspec": {
   "display_name": "Python 3 (ipykernel)",
   "language": "python",
   "name": "python3"
  },
  "language_info": {
   "codemirror_mode": {
    "name": "ipython",
    "version": 3
   },
   "file_extension": ".py",
   "mimetype": "text/x-python",
   "name": "python",
   "nbconvert_exporter": "python",
   "pygments_lexer": "ipython3",
   "version": "3.10.5"
  },
  "toc": {
   "base_numbering": 1,
   "nav_menu": {},
   "number_sections": true,
   "sideBar": true,
   "skip_h1_title": true,
   "title_cell": "Table of Contents",
   "title_sidebar": "Contents",
   "toc_cell": false,
   "toc_position": {
    "height": "calc(100% - 180px)",
    "left": "10px",
    "top": "150px",
    "width": "319px"
   },
   "toc_section_display": true,
   "toc_window_display": false
  }
 },
 "nbformat": 4,
 "nbformat_minor": 4
}
