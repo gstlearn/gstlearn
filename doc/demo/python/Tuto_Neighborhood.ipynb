{
 "cells": [
  {
   "cell_type": "markdown",
   "metadata": {},
   "source": [
    "# Neighborhood"
   ]
  },
  {
   "cell_type": "markdown",
   "metadata": {},
   "source": [
    "<!-- SUMMARY: Definition of the Neighborhood concept. This tutorial gives hints on the parameters of the Moving Neighborhood -->\n",
    "\n",
    "<!-- CATEGORY: Basic_Objects -->"
   ]
  },
  {
   "cell_type": "markdown",
   "metadata": {},
   "source": [
    "This file is meant to demonstrate the use of gstlearn for Moving Neighborhood search"
   ]
  },
  {
   "cell_type": "code",
   "execution_count": null,
   "metadata": {},
   "outputs": [],
   "source": [
    "import numpy as np\n",
    "import pandas as pd\n",
    "import sys\n",
    "import os\n",
    "import gstlearn as gl\n",
    "import gstlearn.plot as gp\n",
    "import gstlearn.document as gdoc\n",
    "import matplotlib.pyplot as plt\n",
    "import random as rnd\n",
    "\n",
    "gdoc.setNoScroll()"
   ]
  },
  {
   "cell_type": "markdown",
   "metadata": {},
   "source": [
    "Setting some global variables"
   ]
  },
  {
   "cell_type": "code",
   "execution_count": null,
   "metadata": {},
   "outputs": [],
   "source": [
    "# Set the Global Options\n",
    "verbose = True\n",
    "flagGraphic = True\n",
    "\n",
    "# Define the Space Dimension\n",
    "ndim = 2\n",
    "gl.defineDefaultSpace(gl.ESpaceType.RN, ndim)\n",
    "\n",
    "# Set the Seed for the Random Number generator\n",
    "gl.law_set_random_seed(5584)\n",
    "rnd.seed(13155)"
   ]
  },
  {
   "cell_type": "markdown",
   "metadata": {},
   "source": [
    "In this paragraph, we generate a Poisson data set and check various neighborhoods around one specific node of a regular grid."
   ]
  },
  {
   "cell_type": "code",
   "execution_count": null,
   "metadata": {},
   "outputs": [],
   "source": [
    "dxref = 0.1\n",
    "grid = gl.DbGrid.create(nx=[10,10],dx=[dxref,dxref])\n",
    "xlim = grid.getExtrema(0)\n",
    "ylim = grid.getExtrema(1)"
   ]
  },
  {
   "cell_type": "markdown",
   "metadata": {},
   "source": [
    "# Poisson Data Set"
   ]
  },
  {
   "cell_type": "code",
   "execution_count": null,
   "metadata": {},
   "outputs": [],
   "source": [
    "coormin = grid.getCoorMinimum()\n",
    "coormax = grid.getCoorMaximum()\n",
    "nech = 100\n",
    "data = gl.Db.createFromBox(nech, coormin, coormax)"
   ]
  },
  {
   "cell_type": "code",
   "execution_count": null,
   "metadata": {},
   "outputs": [],
   "source": [
    "gp.setDefaultGeographic(xlim=xlim, ylim=ylim, dims=[7,7])\n",
    "ax = data.plot()"
   ]
  },
  {
   "cell_type": "markdown",
   "metadata": {},
   "source": [
    "## Checking standard neighborhood"
   ]
  },
  {
   "cell_type": "markdown",
   "metadata": {},
   "source": [
    "Defining a standard Moving Neighborhood"
   ]
  },
  {
   "cell_type": "code",
   "execution_count": null,
   "metadata": {},
   "outputs": [],
   "source": [
    "nmini = 1\n",
    "nmaxi = 15\n",
    "radius = 0.3\n",
    "nsect = 8\n",
    "nsmax = 3\n",
    "neigh = gl.NeighMoving.create(False, nmaxi, radius, nmini, nsect, nsmax)\n",
    "neigh"
   ]
  },
  {
   "cell_type": "markdown",
   "metadata": {},
   "source": [
    "Checking the neighborhood around a central grid node"
   ]
  },
  {
   "cell_type": "code",
   "execution_count": null,
   "metadata": {},
   "outputs": [],
   "source": [
    "node = 55\n",
    "neigh.attach(data, grid)\n",
    "ranks = neigh.select(node)\n",
    "\n",
    "dataSel = data.clone()\n",
    "dum = dataSel.addSelectionByRanks(ranks)"
   ]
  },
  {
   "cell_type": "code",
   "execution_count": null,
   "metadata": {
    "scrolled": true
   },
   "outputs": [],
   "source": [
    "ax = data.plot()\n",
    "ax = dataSel.plot(color='blue')\n",
    "ax.neigh(neigh, grid, node, flagCell=True)\n",
    "ax.decoration(\"Standard Neighborhood\")"
   ]
  },
  {
   "cell_type": "markdown",
   "metadata": {},
   "source": [
    "## Defining variable block extensions"
   ]
  },
  {
   "cell_type": "markdown",
   "metadata": {},
   "source": [
    "In this section, we will generate variables in the Grid which contain the cell extension: this cell extension replaces the constant value of the mesh."
   ]
  },
  {
   "cell_type": "code",
   "execution_count": null,
   "metadata": {
    "scrolled": true
   },
   "outputs": [],
   "source": [
    "nech = grid.getSampleNumber()\n",
    "mini = 0.5\n",
    "maxi = 2.5\n",
    "blx = []\n",
    "bly = []\n",
    "for i in range(nech):\n",
    "    blx.append(dxref * rnd.uniform(mini, maxi))\n",
    "    bly.append(dxref * rnd.uniform(mini, maxi))\n",
    "\n",
    "dum = grid.addColumns(blx, \"X-ext\", gl.ELoc.BLEX, 0)\n",
    "dum = grid.addColumns(bly, \"Y-ext\", gl.ELoc.BLEX, 1)"
   ]
  },
  {
   "cell_type": "markdown",
   "metadata": {},
   "source": [
    "The following display shows each block with its center and its cell extension."
   ]
  },
  {
   "cell_type": "code",
   "execution_count": null,
   "metadata": {
    "scrolled": true
   },
   "outputs": [],
   "source": [
    "ax = data.plot()\n",
    "ax = dataSel.plot(color='blue')\n",
    "ax.decoration(title=\"Variable Block Size\")\n",
    "\n",
    "for node in range(nech):\n",
    "    ax = gp.sample(grid.getSampleCoordinates(node))\n",
    "    ax = gp.curve(grid.getCellEdges(node))"
   ]
  },
  {
   "cell_type": "markdown",
   "metadata": {},
   "source": [
    "We choose a specific cell again and determine the standard neighrbohood"
   ]
  },
  {
   "cell_type": "code",
   "execution_count": null,
   "metadata": {},
   "outputs": [],
   "source": [
    "node = 56\n",
    "neigh.attach(data, grid)\n",
    "ranks = neigh.select(node)\n",
    "\n",
    "dataSel = data.clone()\n",
    "dum = dataSel.addSelectionByRanks(ranks)"
   ]
  },
  {
   "cell_type": "code",
   "execution_count": null,
   "metadata": {},
   "outputs": [],
   "source": [
    "ax = data.plot()\n",
    "ax = dataSel.plot(color='blue')\n",
    "ax.neigh(neigh, grid, node, flagCell=True)\n",
    "ax.decoration(title=\"Standard Neighborhood\")"
   ]
  },
  {
   "cell_type": "markdown",
   "metadata": {},
   "source": [
    "Use the Cell neighborhood to force the selection of all samples belonging to the block"
   ]
  },
  {
   "cell_type": "code",
   "execution_count": null,
   "metadata": {},
   "outputs": [],
   "source": [
    "nmini = 1\n",
    "neigh = gl.NeighCell.create(False, nmini)\n",
    "neigh"
   ]
  },
  {
   "cell_type": "code",
   "execution_count": null,
   "metadata": {},
   "outputs": [],
   "source": [
    "node = 56\n",
    "neigh.attach(data, grid)\n",
    "ranks = neigh.select(node)\n",
    "\n",
    "dataSel = data.clone()\n",
    "dum = dataSel.addSelectionByRanks(ranks)"
   ]
  },
  {
   "cell_type": "code",
   "execution_count": null,
   "metadata": {},
   "outputs": [],
   "source": [
    "ax = data.plot()\n",
    "ax = dataSel.plot(color='blue')\n",
    "ax.neigh(neigh, grid, node, flagCell=True)\n",
    "ax.decoration(title=\"Neighborhood forced to the Cell\")"
   ]
  }
 ],
 "metadata": {
  "kernelspec": {
   "display_name": "Python 3 (ipykernel)",
   "language": "python",
   "name": "python3"
  },
  "language_info": {
   "codemirror_mode": {
    "name": "ipython",
    "version": 3
   },
   "file_extension": ".py",
   "mimetype": "text/x-python",
   "name": "python",
   "nbconvert_exporter": "python",
   "pygments_lexer": "ipython3",
   "version": "3.10.5"
  },
  "toc": {
   "base_numbering": 1,
   "nav_menu": {},
   "number_sections": true,
   "sideBar": true,
   "skip_h1_title": false,
   "title_cell": "Table of Contents",
   "title_sidebar": "Contents",
   "toc_cell": false,
   "toc_position": {},
   "toc_section_display": true,
   "toc_window_display": false
  }
 },
 "nbformat": 4,
 "nbformat_minor": 4
}
