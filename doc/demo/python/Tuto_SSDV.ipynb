{
 "cells": [
  {
   "cell_type": "markdown",
   "metadata": {},
   "source": [
    "# Spatial sampling density variance"
   ]
  },
  {
   "cell_type": "markdown",
   "metadata": {},
   "source": [
    "<!-- SUMMARY: Spatial sampling density variance: its calculation and usage in mining industry -->\n",
    "\n",
    "<!-- CATEGORY: Methodology -->"
   ]
  },
  {
   "cell_type": "markdown",
   "metadata": {},
   "source": [
    "## Import packages"
   ]
  },
  {
   "cell_type": "code",
   "execution_count": null,
   "metadata": {},
   "outputs": [],
   "source": [
    "import numpy as np\n",
    "import pandas as pd\n",
    "import sys\n",
    "import os\n",
    "import matplotlib.pyplot as plt\n",
    "import gstlearn as gl\n",
    "import gstlearn.plot as gp\n",
    "import gstlearn.document as gdoc\n",
    "\n",
    "gdoc.setNoScroll()"
   ]
  },
  {
   "cell_type": "markdown",
   "metadata": {},
   "source": [
    "# Introduction"
   ]
  },
  {
   "cell_type": "markdown",
   "metadata": {},
   "source": [
    "This document is meant to give some introductory information on various tools derived from the geostatistical etimation variance, which have been developed to measusre the sampling density, either for a regular sampling design or an irregular one.\n",
    "It follows the paper entitled *From the Spatial Sampling of a Deposit to Mineral Resources Classification*, from Jacques Rivoirard, Didier Renard, Felipe Celhay, David Benado, Celeste Queiroz, Leandro Jose Oliveira, and Diniz Ribeiro, presented in Geostatistics Valencia 2016."
   ]
  },
  {
   "cell_type": "markdown",
   "metadata": {},
   "source": [
    "## The concepts"
   ]
  },
  {
   "cell_type": "markdown",
   "metadata": {},
   "source": [
    "In this paper, $Z(x)$ denotes the regionalized (additive) variable. Considering a domain V, the estimation  of $Z(V)$  by inner samples of $V$ is denoted $Z(V)^*$ and the corresponding estimation variance $\\sigma_E^2 (V)$ which is calculated from the variogram as follows:\n",
    "$$\\sigma_E^2 (V)={2 \\over N} \\sum_i \\bar \\gamma(x_i,V) - {1 \\over N^2} \\sum_{ij} \\gamma(x_i,x_j) - \\bar \\gamma(V,V)$$"
   ]
  },
  {
   "cell_type": "markdown",
   "metadata": {},
   "source": [
    "The spatial sampling density variance (**ssdv**) corresponds is $$\\chi(V) = {\\sigma_E^2 (V) \\times |V|}$$. \n"
   ]
  },
  {
   "cell_type": "markdown",
   "metadata": {},
   "source": [
    "The specific volume measures the density of a spatial sampling of the variable, relatively to its mean: the smaller the specific volume, the more precise the sampling pattern:\n",
    "$$V_0 = { {\\sigma_E^2 (V) \\times |V|} \\over M^2 }$$"
   ]
  },
  {
   "cell_type": "markdown",
   "metadata": {},
   "source": [
    "The coefficient of variation for a given Volume is:\n",
    "$$CoV = \\sqrt{ V_0 \\over V}$$"
   ]
  },
  {
   "cell_type": "markdown",
   "metadata": {},
   "source": [
    "The specific area corresponding to a given CoV (area over which the mean variable has a given coefficient of variation) is:\n",
    "$$V = { V_0 \\over CoV^2 }$$"
   ]
  },
  {
   "cell_type": "markdown",
   "metadata": {},
   "source": [
    "## Application to regular sampling"
   ]
  },
  {
   "cell_type": "markdown",
   "metadata": {},
   "source": [
    "The previous concepts are be illustrated using the following example.\n",
    "\n",
    "Consider a large deposit in two dimensions, sampled with regular grid. the variable of interest is the thickness (with a mean of 10m), a sample point variance of 10, and a variogram equal to: $$1 nug(h) + 9sph(h/200m)$$\n"
   ]
  },
  {
   "cell_type": "code",
   "execution_count": null,
   "metadata": {},
   "outputs": [],
   "source": [
    "mean_10 = 10\n",
    "\n",
    "model1 = gl.Model.createFromParam(gl.ECov.NUGGET,sill=1)\n",
    "model1.addCovFromParam(gl.ECov.SPHERICAL,range=200,sill=9)\n",
    "model1"
   ]
  },
  {
   "cell_type": "markdown",
   "metadata": {},
   "source": [
    "Most of the subsequent calculations need the determination of quantities which involve extension variance, the latter being based on calulation of average variogram over a block. This operation is performed by discretization which needs to be specified explicitely:"
   ]
  },
  {
   "cell_type": "code",
   "execution_count": null,
   "metadata": {},
   "outputs": [],
   "source": [
    "ndisc = [30,30]"
   ]
  },
  {
   "cell_type": "markdown",
   "metadata": {},
   "source": [
    "The extension variance of a $100m \\times 100m$ by its center is:"
   ]
  },
  {
   "cell_type": "code",
   "execution_count": null,
   "metadata": {},
   "outputs": [],
   "source": [
    "target = gl.Db.createFromOnePoint([0,0])\n",
    "block_100 = [100, 100]\n",
    "Sigma_E = model1.extensionVariance(target, block_100, ndisc)\n",
    "print(\"Extension Variance = %1.3f\" %Sigma_E)"
   ]
  },
  {
   "cell_type": "markdown",
   "metadata": {},
   "source": [
    "Therefore, for a $100m \\times 100m$ grid, the spatial sampling density variance is:"
   ]
  },
  {
   "cell_type": "code",
   "execution_count": null,
   "metadata": {},
   "outputs": [],
   "source": [
    "ssdv = model1.samplingDensityVariance(target, block_100, ndisc)\n",
    "print(\"Spatial Sampling Density Variance = %1.2f m².m²\" %ssdv)"
   ]
  },
  {
   "cell_type": "markdown",
   "metadata": {},
   "source": [
    "The specific area (i.e. the specific volume in two dimensions) is:"
   ]
  },
  {
   "cell_type": "code",
   "execution_count": null,
   "metadata": {},
   "outputs": [],
   "source": [
    "V_100 = model1.specificVolume(target, mean_10, block_100, ndisc)\n",
    "print(\"Specific Area (case #1) = %1.2f m²\" %V_100)"
   ]
  },
  {
   "cell_type": "markdown",
   "metadata": {},
   "source": [
    "If the grid is now a $50m \\times 50m$, the specific volume becomes:"
   ]
  },
  {
   "cell_type": "code",
   "execution_count": null,
   "metadata": {},
   "outputs": [],
   "source": [
    "block_50 = [50, 50]\n",
    "V_50 = model1.specificVolume(target, mean_10, block_50, ndisc)\n",
    "print(\"Specific Area (small block) = %1.2f m²\" %V_50)"
   ]
  },
  {
   "cell_type": "markdown",
   "metadata": {},
   "source": [
    "Another issue is whether the initial $100m \\times 100m$ grid is better, or not, than a $70m \\times 70m$ sampling in a similar deposit, where the thickness has a mean of 8 and a variogram equal to $$6 nug(h) + 6sph(h/200m)$$"
   ]
  },
  {
   "cell_type": "code",
   "execution_count": null,
   "metadata": {},
   "outputs": [],
   "source": [
    "mean_8 = 8\n",
    "\n",
    "model2 = gl.Model.createFromParam(gl.ECov.NUGGET,sill=6)\n",
    "model2.addCovFromParam(gl.ECov.SPHERICAL,range=200,sill=6)\n",
    "model2"
   ]
  },
  {
   "cell_type": "code",
   "execution_count": null,
   "metadata": {},
   "outputs": [],
   "source": [
    "block_70 = [70, 70]\n",
    "V_70 = model2.specificVolume(target, mean_8, block_70, ndisc)\n",
    "print(\"Specific Area (case #2) = %1.2f m²\" %V_70)"
   ]
  },
  {
   "cell_type": "markdown",
   "metadata": {},
   "source": [
    "We can finally characterize resources given an assumption on the production volume (or more exactly the\n",
    "ore + waste volume to be extracted). For instance, a specific volume (3) of 6000 m3 gives a CoV of:"
   ]
  },
  {
   "cell_type": "code",
   "execution_count": null,
   "metadata": {},
   "outputs": [],
   "source": [
    "Volume = 6000\n",
    "CoV = 100 * model1.coefficientOfVariation(target, Volume, mean_10, block_100, ndisc)\n",
    "print(\"Coefficient of Variation = %1.2f\" %CoV)"
   ]
  },
  {
   "cell_type": "markdown",
   "metadata": {},
   "source": [
    "Conversely we can define the specific volume to be mined in order to ensure a given CoV.\n",
    "For instance we can deduce that the 5% CoV area (area over which the mean thickness\n",
    "has a coefficient of variation of 5%) must practically reach 200,000 m2, while it is\n",
    "only108,000 m2 in the first case"
   ]
  },
  {
   "cell_type": "code",
   "execution_count": null,
   "metadata": {},
   "outputs": [],
   "source": [
    "cov_5 = 0.05\n",
    "Vol1 = model1.specificVolumeFromCoV(target, cov_5, mean_10, block_100, ndisc)\n",
    "print(\"Specific area (case #1) = %1.2f m²\" %Vol1)\n",
    "Vol2 = model2.specificVolumeFromCoV(target, cov_5, mean_8, block_70, ndisc)\n",
    "print(\"Specific area (case #2) = %1.2f m²\" %Vol2)"
   ]
  }
 ],
 "metadata": {
  "kernelspec": {
   "display_name": "Python 3 (ipykernel)",
   "language": "python",
   "name": "python3"
  },
  "language_info": {
   "codemirror_mode": {
    "name": "ipython",
    "version": 3
   },
   "file_extension": ".py",
   "mimetype": "text/x-python",
   "name": "python",
   "nbconvert_exporter": "python",
   "pygments_lexer": "ipython3",
   "version": "3.10.12"
  },
  "toc": {
   "base_numbering": 1,
   "nav_menu": {},
   "number_sections": true,
   "sideBar": true,
   "skip_h1_title": false,
   "title_cell": "Table of Contents",
   "title_sidebar": "Contents",
   "toc_cell": false,
   "toc_position": {},
   "toc_section_display": true,
   "toc_window_display": false
  }
 },
 "nbformat": 4,
 "nbformat_minor": 4
}
