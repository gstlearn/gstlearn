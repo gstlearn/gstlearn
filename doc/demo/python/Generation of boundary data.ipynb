{
 "cells": [
  {
   "cell_type": "markdown",
   "id": "33e71689",
   "metadata": {},
   "source": [
    "# Plot boundaries on the Earth"
   ]
  },
  {
   "cell_type": "markdown",
   "id": "9f260bbe",
   "metadata": {},
   "source": [
    "Ce notebook est un résumé du notebook situé ici \n",
    "\n",
    "https://chart-studio.plotly.com/~empet/14813/heatmap-plot-on-a-spherical-map/#/\n",
    "\n",
    "et se concentre sur le traçage des frontières (plus généralement d'un polygone) sur la sphère.\n",
    "\n",
    "Il nécessite l'installation de **mpl_toolkits** qui peut être assez complexe.\n",
    "\n",
    "Sous linux, sous réserve que la librairie GEOS soit installée, il suffit d'effectuer les commandes suivantes (le dossier à télécharger est assez lourd et la procédure peut prendre quelques minutes) :"
   ]
  },
  {
   "cell_type": "raw",
   "id": "a1381bf2",
   "metadata": {},
   "source": [
    "wget https://github.com/matplotlib/basemap/archive/refs/tags/v1.3.3.tar.gz\n",
    "tar -xvf basemap-1.3.3.tar.gz\n",
    "cd basemap-1.3.3/packages/basemap\n",
    "python3 -m pip install ."
   ]
  },
  {
   "cell_type": "markdown",
   "id": "dd1f3261",
   "metadata": {},
   "source": [
    "En cas de problème, voir les détails ici :\n",
    "\n",
    "https://matplotlib.org/basemap/users/installing.html .\n"
   ]
  },
  {
   "cell_type": "code",
   "execution_count": null,
   "id": "e52b4f64",
   "metadata": {},
   "outputs": [],
   "source": [
    "import numpy as np     \n",
    "import matplotlib.pyplot as plt\n",
    "from mpl_toolkits.basemap import Basemap\n",
    "from matplotlib.path import Path\n",
    "import plotly.graph_objects as go\n",
    "import IPython\n",
    "from numpy import pi, cos, sin\n",
    "import gstlearn as gl "
   ]
  },
  {
   "cell_type": "code",
   "execution_count": null,
   "id": "13d56764",
   "metadata": {},
   "outputs": [],
   "source": [
    "\n",
    "def d2r(x):\n",
    "    return x * np.pi / 180.\n",
    "\n",
    "def mapping_map_to_sphere(lon, lat, radius=6371.):\n",
    "    #this function maps the points of coords (lon, lat) to points onto the  sphere of radius radius\n",
    "    \n",
    "    lon=np.array(lon, dtype=np.float64)\n",
    "    lat=np.array(lat, dtype=np.float64)\n",
    "    lon=d2r(lon)\n",
    "    lat=d2r(lat)\n",
    "    xs=radius*cos(lon)*cos(lat)\n",
    "    ys=radius*sin(lon)*cos(lat)\n",
    "    zs=radius*sin(lat)\n",
    "    return xs, ys, zs\n",
    "\n",
    "\n",
    "# Functions converting coastline/country polygons to lon/lat traces\n",
    "def polygons_to_traces(poly_paths, N_poly):\n",
    "    ''' \n",
    "    pos arg 1. (poly_paths): paths to polygons\n",
    "    pos arg 2. (N_poly): number of polygon to convert\n",
    "    '''\n",
    "    # init. plotting list\n",
    "    lons=[]\n",
    "    lats=[]\n",
    "\n",
    "    for i_poly in range(N_poly):\n",
    "        poly_path = poly_paths[i_poly]\n",
    "        \n",
    "        # get the Basemap coordinates of each segment\n",
    "        coords_cc = np.array(\n",
    "            [(vertex[0],vertex[1]) \n",
    "             for (vertex,code) in poly_path.iter_segments(simplify=False)]\n",
    "        )\n",
    "        \n",
    "        # convert coordinates to lon/lat by 'inverting' the Basemap projection\n",
    "        lon_cc, lat_cc = m(coords_cc[:,0],coords_cc[:,1], inverse=True)\n",
    "    \n",
    "        \n",
    "        lats.extend(lat_cc.tolist()+[None]) \n",
    "        lons.extend(lon_cc.tolist()+[None])\n",
    "        \n",
    "       \n",
    "    return lons, lats\n",
    "\n",
    "\n",
    "# Function generating coastline lon/lat \n",
    "def get_coastline_traces():\n",
    "    #poly_paths = m.drawcoastlines().get_paths() # coastline polygon paths\n",
    "    poly_paths = [Path(np.array(i)) for i in m.coastsegs]\n",
    "    N_poly = 91  # use only the 91st biggest coastlines (i.e. no rivers)\n",
    "    cc_lons, cc_lats= polygons_to_traces(poly_paths, N_poly)\n",
    "    return cc_lons, cc_lats\n",
    "\n",
    "# Function generating country lon/lat \n",
    "def get_country_traces():\n",
    "    fig= plt.figure()\n",
    "    poly_paths = m.drawcountries().get_paths() # country polygon path\n",
    "    plt.close()\n",
    "    poly_paths = [Path(np.array(i)) for i in m.cntrysegs]\n",
    "    N_poly = len(poly_paths)  # use all countries\n",
    "    country_lons, country_lats= polygons_to_traces(poly_paths, N_poly)\n",
    "    return country_lons, country_lats\n",
    "\n",
    "\n",
    "\n",
    "\n",
    "\n",
    "\n"
   ]
  },
  {
   "cell_type": "code",
   "execution_count": null,
   "id": "0cb5870d",
   "metadata": {},
   "outputs": [],
   "source": [
    "gl.variety_define(1)\n",
    "\n",
    "mesh = gl.MeshSpherical()\n",
    "mesh.reset(None,None,triswitch = \"-r5\",verbose=False)\n",
    "\n",
    "X = mesh.getCoordinates(0)\n",
    "Y = mesh.getCoordinates(1)\n",
    "\n",
    "\n"
   ]
  },
  {
   "cell_type": "code",
   "execution_count": null,
   "id": "d3d8dc28",
   "metadata": {},
   "outputs": [],
   "source": [
    "\n",
    "model = gl.Model.createFromParam(gl.ECov.BESSEL_K,range=1500,param=1) #penser à règler range dans shiftop\n",
    "S=gl.ShiftOpCs(mesh,model)\n",
    "whitenoise = gl.ut_vector_simulate_gaussian(mesh.getNApices())\n",
    "result = gl.VectorDouble(mesh.getNApices())\n",
    "Q = gl.PrecisionOpCs(S,model.getCova(0),gl.EPowerPT.MINUSHALF,verbose=True)\n",
    "Q.eval(whitenoise,result)\n",
    "\n",
    "\n",
    "db = gl.Db.create()\n",
    "db[\"long\"]=X\n",
    "db[\"lat\"]=Y\n",
    "db.setLocators([\"long\",\"lat\"],gl.ELoc.X)\n"
   ]
  },
  {
   "cell_type": "code",
   "execution_count": null,
   "id": "39937c01",
   "metadata": {},
   "outputs": [],
   "source": [
    "\n",
    "meshes = np.array(mesh.getMeshes()).reshape([mesh.getNMeshes(),3])-1\n",
    "xs,ys,zs = mapping_map_to_sphere(db[\"long\"][:,0],db[\"lat\"][:,0])\n",
    "\n",
    "\n",
    "cscale = [[0.0, '#313695'],\n",
    " [0.07692307692307693, '#3a67af'],\n",
    " [0.15384615384615385, '#5994c5'],\n",
    " [0.23076923076923078, '#84bbd8'],\n",
    " [0.3076923076923077, '#afdbea'],\n",
    " [0.38461538461538464, '#d8eff5'],\n",
    " [0.46153846153846156, '#d6ffe1'],\n",
    " [0.5384615384615384, '#fef4ac'],\n",
    " [0.6153846153846154, '#fed987'],\n",
    " [0.6923076923076923, '#fdb264'],\n",
    " [0.7692307692307693, '#f78249'],\n",
    " [0.8461538461538461, '#e75435'],\n",
    " [0.9230769230769231, '#cc2727'],\n",
    " [1.0, '#a50026']]\n",
    "\n",
    "surf = go.Mesh3d(\n",
    "        x=xs,\n",
    "        y=ys,\n",
    "        z=zs,\n",
    "        colorbar_title='z',\n",
    "        colorscale=cscale,\n",
    "        # Intensity of each vertex, which will be interpolated and color-coded\n",
    "        intensity=np.array(result),\n",
    "        # i, j and k give the vertices of triangles\n",
    "        # here we represent the 4 triangles of the tetrahedron surface\n",
    "        i=meshes[:,0],\n",
    "        j=meshes[:,1],\n",
    "        k=meshes[:,2],\n",
    "        name='y',\n",
    "        showscale=True\n",
    "    )"
   ]
  },
  {
   "cell_type": "code",
   "execution_count": null,
   "id": "84d55761",
   "metadata": {},
   "outputs": [],
   "source": [
    "m = Basemap() \n",
    "\n",
    "\n",
    "\n",
    "# Get list of of coastline, country, and state lon/lat \n",
    "\n",
    "cc_lons, cc_lats=get_coastline_traces()\n",
    "country_lons, country_lats=get_country_traces()\n",
    "\n",
    "#concatenate the lon/lat for coastlines and country boundaries:\n",
    "lons=cc_lons+[None]+country_lons\n",
    "lats=cc_lats+[None]+country_lats\n",
    "\n",
    "xs, ys, zs=mapping_map_to_sphere(np.array(lons),np.array(lats), radius=6371*1.01)# here the radius is slightly greater than 1 \n",
    "                                                         #to ensure lines visibility; otherwise (with radius=1)\n",
    "                                                         # some lines are hidden by contours colors\n",
    "\n",
    "\n",
    "boundaries=dict(type='scatter3d',\n",
    "               x=xs,\n",
    "               y=ys,\n",
    "               z=zs,\n",
    "               mode='lines',\n",
    "               line=dict(color='black', width=1)\n",
    "              )\n",
    "\n",
    "fig = go.Figure(data = [surf,boundaries])\n",
    "fig.show()"
   ]
  },
  {
   "cell_type": "code",
   "execution_count": null,
   "id": "70885dc2",
   "metadata": {},
   "outputs": [],
   "source": [
    "u = np.where([i==None for i in lons])[0]\n",
    "u = np.insert(u,0,-1)\n",
    "long  = [lons[u[i]+1:u[i+1]] for i in range(len(u)-1)]\n",
    "lat =  [lats[u[i]+1:u[i+1]] for i in range(len(u)-1)]"
   ]
  },
  {
   "cell_type": "code",
   "execution_count": null,
   "id": "855e064c",
   "metadata": {},
   "outputs": [],
   "source": [
    "P = gl.Polygons()\n",
    "p = []\n",
    "for i,ind in enumerate(zip(long,lat)):\n",
    "    if(len(ind[0])>0):\n",
    "        v = gl.PolySet.create()\n",
    "        v.setX(ind[0])\n",
    "        v.setY(ind[1])\n",
    "        p += [v]\n",
    "        P.addPolySet(v)\n",
    "        \n",
    "P.dumpToNF(\"../../../doc/data/boundaries/world.poly\")"
   ]
  },
  {
   "cell_type": "markdown",
   "id": "0ad94534",
   "metadata": {},
   "source": [
    "## Test "
   ]
  },
  {
   "cell_type": "code",
   "execution_count": null,
   "id": "96f1ba78",
   "metadata": {},
   "outputs": [],
   "source": [
    "poly = gl.Polygons.createFromNF(\"../../../doc/data/boundaries/world.poly\")"
   ]
  },
  {
   "cell_type": "code",
   "execution_count": null,
   "id": "c1240c9b",
   "metadata": {},
   "outputs": [],
   "source": [
    "#poly = P\n",
    "#poly = gl.Polygons.createFromNF(\"../../../doc/data/boundaries/world.poly\")\n",
    "poly = P\n",
    "X = list()\n",
    "Y = list()\n",
    "\n",
    "for i in range(P.getPolySetNumber()):\n",
    "    a = list(P.getX(i))\n",
    "    b = list(P.getY(i))\n",
    "    #a.pop()\n",
    "    #b.pop()\n",
    "    X.extend(a + [None])\n",
    "    Y.extend(b + [None])\n",
    "    \n",
    "X = np.array(X)\n",
    "Y = np.array(Y)\n",
    "\n",
    "#xs,ys,zs = mapping_map_to_sphere(X,Y)"
   ]
  },
  {
   "cell_type": "code",
   "execution_count": null,
   "id": "d7afc7f3",
   "metadata": {},
   "outputs": [],
   "source": [
    "xs, ys, zs=mapping_map_to_sphere(np.array(X),np.array(Y), radius=6371*1.01)# here the radius is slightly greater than 1 \n",
    "                                                         #to ensure lines visibility; otherwise (with radius=1)\n",
    "                                                         # some lines are hidden by contours colors\n",
    "\n",
    "\n",
    "boundaries=dict(type='scatter3d',\n",
    "               x=xs,\n",
    "               y=ys,\n",
    "               z=zs,\n",
    "               mode='lines',\n",
    "               line=dict(color='black', width=1)\n",
    "              )\n",
    "\n",
    "fig = go.Figure(data = [boundaries])\n",
    "fig.show()"
   ]
  },
  {
   "cell_type": "code",
   "execution_count": null,
   "id": "fce40c27",
   "metadata": {},
   "outputs": [],
   "source": [
    "import gstlearn as gl\n"
   ]
  },
  {
   "cell_type": "code",
   "execution_count": null,
   "id": "a44511e7",
   "metadata": {},
   "outputs": [],
   "source": [
    "A = gl.MatrixRectangular(2,3)\n",
    "A.setValues()"
   ]
  },
  {
   "cell_type": "code",
   "execution_count": null,
   "id": "8bf8f04a",
   "metadata": {},
   "outputs": [],
   "source": []
  },
  {
   "cell_type": "code",
   "execution_count": null,
   "id": "08fb7caf",
   "metadata": {},
   "outputs": [],
   "source": [
    "matS = S.getS()\n",
    "import scipy as sc\n",
    "from scipy.sparse import *\n"
   ]
  },
  {
   "cell_type": "code",
   "execution_count": null,
   "id": "13ba684f",
   "metadata": {},
   "outputs": [],
   "source": []
  },
  {
   "cell_type": "code",
   "execution_count": null,
   "id": "7eaeadcc",
   "metadata": {},
   "outputs": [],
   "source": [
    "Bmat.toarray()[:,0][np.where(Bmat.toarray()[:,0]!=0)[0]]"
   ]
  },
  {
   "cell_type": "code",
   "execution_count": null,
   "id": "6ed139fc",
   "metadata": {},
   "outputs": [],
   "source": [
    "Btr = gl.csToTriplet(matS)\n",
    "Bmat=sc.sparse.csc_matrix((np.array(Btr.values), (np.array(Btr.rows), np.array(Btr.cols))),\n",
    "                          shape=(Btr.nrows,Btr.ncols))"
   ]
  }
 ],
 "metadata": {
  "kernelspec": {
   "display_name": "Python 3 (ipykernel)",
   "language": "python",
   "name": "python3"
  },
  "language_info": {
   "codemirror_mode": {
    "name": "ipython",
    "version": 3
   },
   "file_extension": ".py",
   "mimetype": "text/x-python",
   "name": "python",
   "nbconvert_exporter": "python",
   "pygments_lexer": "ipython3",
   "version": "3.10.2"
  }
 },
 "nbformat": 4,
 "nbformat_minor": 5
}
