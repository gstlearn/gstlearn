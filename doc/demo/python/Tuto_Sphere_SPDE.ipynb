{
 "cells": [
  {
   "cell_type": "markdown",
   "id": "361d81f5",
   "metadata": {},
   "source": [
    "# SPDE simulation on sphere\n",
    "\n",
    "The aim of this tutorial is to show how to use gstlearn to simulate the solution of \n",
    "\n",
    "$$(\\kappa^2-\\Delta_{\\mathcal{S}_R})^{\\alpha/2}Z = \\sigma\\mathcal{W}$$\n",
    "\n",
    "on the sphere $\\mathcal{S}_R$ of radius $R$.\n",
    "\n",
    "- $\\Delta_{{\\mathcal{S}_R}}$ is the Laplace-Beltrami operator, i.e, it acts on each point of the sphere as the usual Laplacian on the tangent plane at this point. \n",
    "\n",
    "- $\\kappa$ is the inverse of the scale parameter\n",
    "\n",
    "- $\\alpha \\geq 2$ is an integer describing the smoothness of the solution.\n",
    "\n",
    "- $\\mathcal{W}$ is a Gaussian white-noise suitably normalized such as $\\sigma^2$ is the variance of the solution.\n",
    "\n",
    "In this notebook, we will define the covariance of Matérn on the sphere, as the covariance of the solution of this SPDE (other extensions of the Matérn function are possible). By analogy with the Euclidian case, its smoothness parameter will be defined by $\\nu = \\alpha -1$. To compute the covariance function with respect on the geodetic distance, one have to use a decomposition on the Legendre polynomial (see below)."
   ]
  },
  {
   "cell_type": "code",
   "execution_count": null,
   "id": "88b50efe",
   "metadata": {},
   "outputs": [],
   "source": [
    "import gstlearn as gl\n",
    "\n",
    "import numpy as np           \n",
    "from numpy import pi, cos, sin\n",
    "\n",
    "# Plot packages \n",
    "\n",
    "import gstlearn.plot as gp\n",
    "import matplotlib.pyplot as plt\n",
    "import plotly.graph_objects as go\n",
    "import IPython"
   ]
  },
  {
   "cell_type": "markdown",
   "id": "a7fb667a",
   "metadata": {},
   "source": [
    "### Parametrization"
   ]
  },
  {
   "cell_type": "code",
   "execution_count": null,
   "id": "6588f4a5",
   "metadata": {},
   "outputs": [],
   "source": [
    "#Sphere radius\n",
    "    \n",
    "R = 10.\n",
    "\n",
    "gl.variety_define(1,R)\n",
    "\n",
    "# Smoothness parameter\n",
    "nu = 1 \n",
    "\n",
    "#Scale parameter \n",
    "#For convenien,ce, it is defined as the proportion of the radius\n",
    "\n",
    "ratioRange = 0.2  \n",
    "scale = R * ratioRange\n",
    "# sill \n",
    "sill = 2. \n"
   ]
  },
  {
   "cell_type": "markdown",
   "id": "832a9951",
   "metadata": {},
   "source": [
    "### Meshing"
   ]
  },
  {
   "cell_type": "code",
   "execution_count": null,
   "id": "f8a37930",
   "metadata": {},
   "outputs": [],
   "source": [
    "mesh = gl.MeshSpherical()\n",
    "err = mesh.reset(None,None,triswitch = \"-r5\",verbose=False)"
   ]
  },
  {
   "cell_type": "code",
   "execution_count": null,
   "id": "2c799130",
   "metadata": {},
   "outputs": [],
   "source": [
    "model = gl.Model.createFromParam(type=gl.ECov.BESSEL_K,\n",
    "                                 range = scale,\n",
    "                                 sill = sill,\n",
    "                                 param=nu,\n",
    "                                 flagRange= False)\n",
    "model"
   ]
  },
  {
   "cell_type": "markdown",
   "id": "46818788",
   "metadata": {},
   "source": [
    "### Precision matrix"
   ]
  },
  {
   "cell_type": "code",
   "execution_count": null,
   "id": "ac62e1fd",
   "metadata": {},
   "outputs": [],
   "source": [
    "Q = gl.PrecisionOp(mesh,model)"
   ]
  },
  {
   "cell_type": "markdown",
   "id": "d1298329",
   "metadata": {},
   "source": [
    "### Simulation "
   ]
  },
  {
   "cell_type": "code",
   "execution_count": null,
   "id": "68ff97d6",
   "metadata": {},
   "outputs": [],
   "source": [
    "result = np.array(Q.simulate()[0])"
   ]
  },
  {
   "cell_type": "markdown",
   "id": "8d945cb0",
   "metadata": {},
   "source": [
    "### Display the realization\n",
    " "
   ]
  },
  {
   "cell_type": "code",
   "execution_count": null,
   "id": "e421174b",
   "metadata": {},
   "outputs": [],
   "source": [
    "X = mesh.getCoordinates(0)\n",
    "Y = mesh.getCoordinates(1)\n",
    "\n",
    "coords = np.array(gl.util_convert_longlat(X,Y,dilate=0.99))\n",
    "\n",
    "meshes = np.array(mesh.getMeshes()).reshape([mesh.getNMeshes(),3])-1\n",
    "\n",
    "cscale = [[0.0, '#313695'],\n",
    " [0.07692307692307693, '#3a67af'],\n",
    " [0.15384615384615385, '#5994c5'],\n",
    " [0.23076923076923078, '#84bbd8'],\n",
    " [0.3076923076923077, '#afdbea'],\n",
    " [0.38461538461538464, '#d8eff5'],\n",
    " [0.46153846153846156, '#d6ffe1'],\n",
    " [0.5384615384615384, '#fef4ac'],\n",
    " [0.6153846153846154, '#fed987'],\n",
    " [0.6923076923076923, '#fdb264'],\n",
    " [0.7692307692307693, '#f78249'],\n",
    " [0.8461538461538461, '#e75435'],\n",
    " [0.9230769230769231, '#cc2727'],\n",
    " [1.0, '#a50026']]\n",
    "\n",
    "\n",
    "fig = go.Figure(data=[\n",
    "    go.Mesh3d(\n",
    "        x=coords[0,:],\n",
    "        y=coords[1,:],\n",
    "        z=coords[2,:],\n",
    "        colorbar_title='z',\n",
    "        colorscale=cscale,\n",
    "        # Intensity of each vertex, which will be interpolated and color-coded\n",
    "        intensity=result,\n",
    "        # i, j and k give the vertices of triangles\n",
    "        # here we represent the 4 triangles of the tetrahedron surface\n",
    "        i=meshes[:,0],\n",
    "        j=meshes[:,1],\n",
    "        k=meshes[:,2],\n",
    "        name='y',\n",
    "        showscale=True\n",
    "    )\n",
    "])\n",
    "\n",
    "fig.show()"
   ]
  },
  {
   "cell_type": "markdown",
   "id": "0874c46f",
   "metadata": {},
   "source": [
    "### Compute covariance (of discretized solution)\n",
    "\n",
    "We use the fact that $\\Sigma = Q^{-1}$ and solve $Qx = e_j$ for an arbitrary index $j$."
   ]
  },
  {
   "cell_type": "code",
   "execution_count": null,
   "id": "253da280",
   "metadata": {},
   "outputs": [],
   "source": [
    "long = np.array(mesh.getCoordinates(0))\n",
    "lat = np.array(mesh.getCoordinates(1))\n",
    "indClose = np.where(np.abs(lat)<=.5)[0]\n",
    "ind0 = int(indClose[0])\n",
    "##\n",
    "covDiscr = np.array(Q.evalCov(ind0))\n",
    "##\n",
    "covDiscrClose = covDiscr[indClose]\n",
    "deltaLong = np.abs(long[indClose]-long[ind0])/180 * np.pi\n",
    "deltaLong[deltaLong> np.pi] = 2 * np.pi - deltaLong[deltaLong> np.pi] \n",
    "covDiscrClose = covDiscrClose[np.argsort(deltaLong)]\n",
    "deltaLong = R * np.sort(deltaLong)"
   ]
  },
  {
   "cell_type": "markdown",
   "id": "1b1dacbb",
   "metadata": {},
   "source": [
    "### Variogram of the realization\n",
    "\n",
    "The empirical variogram is computed by using the great-circle distance."
   ]
  },
  {
   "cell_type": "code",
   "execution_count": null,
   "id": "de5ae1aa",
   "metadata": {
    "scrolled": true
   },
   "outputs": [],
   "source": [
    "npas = 50 # number of discretization points\n",
    "dpas = 0.04 # lag with respect to the unit sphere (it will be multiplied\n",
    "# by R in the creation of the VarioParam.\n",
    "\n",
    "nsample = 4000\n",
    "#sub-sampling to reduce computational burden\n",
    "\n",
    "ind = np.random.choice(mesh.getNApices(),size=nsample,replace=False)\n",
    "\n",
    "#Creation of the db\n",
    "\n",
    "dbdat = gl.Db.create()\n",
    "dbdat[\"x\"] = np.array(X)[ind]\n",
    "dbdat[\"y\"] = np.array(Y)[ind]\n",
    "dbdat[\"z\"] = np.array(result)[ind]\n",
    "dbdat.setLocators([\"x\",\"y\"],gl.ELoc.X)\n",
    "dbdat.setLocators([\"z\"],gl.ELoc.Z)\n",
    "\n",
    "#Variogram \n",
    "\n",
    "vp = gl.VarioParam.createOmniDirection(npas=npas,dpas=dpas * R)\n",
    "vario = gl.Vario.create(vp,dbdat)\n",
    "vario.compute(gl.ECalcVario.VARIOGRAM)"
   ]
  },
  {
   "cell_type": "markdown",
   "id": "55c1b68d",
   "metadata": {},
   "source": [
    "### Theoretical covariance function"
   ]
  },
  {
   "cell_type": "markdown",
   "id": "dddb4d09",
   "metadata": {},
   "source": [
    "The covariance between two points with great-circle distance $d$  on the sphere of radius $R$ is given by\n",
    "$$C(d) = \\frac{\\sigma^2}{\\sum_{i=0}^\\infty f(i)}\\sum_{i=0}^\\infty f(i) P_i\\left(\\cos \\frac{d}{R}\\right)$$\n",
    "\n",
    "where the $P_i$'s  are the Legendre polynomials computed with the following reccurence formula\n",
    "\n",
    "$$P_0(x) = 1.$$\n",
    "\n",
    "$$P_1(x) = x$$\n",
    "\n",
    "$$P_{n+1}(x)=\\frac{(2n+1)xP_n(x) - n P_{n-1}(x)}{n+1}$$\n",
    "\n",
    "For $n\\geq 0$, $$f(n) = \\frac{2 (n + 1)}{ (R^2\\kappa^2 + n ( n + 1))^\\alpha}$$\n",
    "\n",
    "For numerical computations, the sums are truncated at **N**."
   ]
  },
  {
   "cell_type": "markdown",
   "id": "eb7e0638",
   "metadata": {},
   "source": [
    "### Evaluation "
   ]
  },
  {
   "cell_type": "code",
   "execution_count": null,
   "id": "98b6420c",
   "metadata": {},
   "outputs": [],
   "source": [
    "ndisc = 100 # number of discretization steps for the covariance \n",
    "N = 50 # size of the decomposition\n",
    "\n",
    "hnorm = np.linspace(0,npas * dpas,ndisc)\n",
    "ax=gp.vario(vario,end_plot=False,label=\"vario1\")\n",
    "a=model.getCova(0).getCova()\n",
    "uu = [a.evalCovOnSphere(i,scale/R,N) for i in hnorm]\n",
    "uu = np.array(uu)/uu[0] #Renormation\n",
    "ax = plt.plot(R * hnorm, sill - sill * uu,label = \"Theoretical covariance\")\n",
    "plt.plot(deltaLong,sill - covDiscrClose,\"--\",label = \"Discretized model\",)\n",
    "ax = plt.legend()"
   ]
  }
 ],
 "metadata": {
  "kernelspec": {
   "display_name": "Python 3 (ipykernel)",
   "language": "python",
   "name": "python3"
  },
  "language_info": {
   "codemirror_mode": {
    "name": "ipython",
    "version": 3
   },
   "file_extension": ".py",
   "mimetype": "text/x-python",
   "name": "python",
   "nbconvert_exporter": "python",
   "pygments_lexer": "ipython3",
   "version": "3.10.2"
  }
 },
 "nbformat": 4,
 "nbformat_minor": 5
}
