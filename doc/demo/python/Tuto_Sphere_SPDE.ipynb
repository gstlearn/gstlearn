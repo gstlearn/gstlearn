{
 "cells": [
  {
   "cell_type": "markdown",
   "id": "b5690ffe",
   "metadata": {},
   "source": [
    "# SPDE simulation on sphere\n",
    "\n",
    "*by N. Desassis and D. Renard*\n",
    "\n",
    "The aim of this tutorial is to show how to use gstlearn to simulate the solution of \n",
    "\n",
    "$$(\\kappa^2-\\Delta_{\\mathcal{S}_R})^{\\alpha/2}Z = \\sigma\\mathcal{W}$$\n",
    "\n",
    "on the sphere $\\mathcal{S}_R$ of radius $R$.\n",
    "\n",
    "- $\\Delta_{{\\mathcal{S}_R}}$ is the Laplace-Beltrami operator, i.e, it acts on each point of the sphere as the usual Laplacian on the tangent plane at this point. \n",
    "\n",
    "- $\\kappa$ is the inverse of the scale parameter\n",
    "\n",
    "- $\\alpha \\geq 2$ is an integer describing the smoothness of the solution.\n",
    "\n",
    "- $\\mathcal{W}$ is a Gaussian white-noise suitably normalized such as $\\sigma^2$ is the variance of the solution.\n",
    "\n",
    "In this notebook, we will define the covariance of Matérn on the sphere, as the covariance of the solution of this SPDE (other extensions of the Matérn function are possible). By analogy with the Euclidian case, its smoothness parameter will be defined by $\\nu = \\alpha -1$. To compute the covariance function with respect on the geodetic distance, one have to use a decomposition on the Legendre polynomial (see below).\n",
    "\n",
    "We also treat the more general case\n",
    "$$P^{1/2}(-\\Delta_{\\mathcal{S}_R})Z = \\sigma\\mathcal{W}$$\n",
    "\n",
    "where $P$ is a polynom positive on $\\mathbb{R}^+$"
   ]
  },
  {
   "cell_type": "code",
   "execution_count": null,
   "id": "d9cffada",
   "metadata": {},
   "outputs": [],
   "source": [
    "import gstlearn as gl\n",
    "\n",
    "import numpy as np           \n",
    "\n",
    "# Plot packages \n",
    "\n",
    "import gstlearn.plot as gp\n",
    "import gstlearn.plot3D as gop\n",
    "import matplotlib.pyplot as plt\n",
    "import plotly.graph_objects as go\n",
    "import IPython"
   ]
  },
  {
   "cell_type": "code",
   "execution_count": null,
   "id": "f3390a1b",
   "metadata": {},
   "outputs": [],
   "source": [
    "# Markov (if False, Matérn covariance will be used)\n",
    "Markov = True\n"
   ]
  },
  {
   "cell_type": "markdown",
   "id": "c0d6cf28",
   "metadata": {},
   "source": [
    "### Parametrization"
   ]
  },
  {
   "cell_type": "code",
   "execution_count": null,
   "id": "774fdbd9",
   "metadata": {},
   "outputs": [],
   "source": [
    "#Sphere radius\n",
    "    \n",
    "R = 12.\n",
    "\n",
    "gl.variety_define(1,R)\n",
    "\n",
    "\n",
    "#Scale parameter \n",
    "#For convenien,ce, it is defined as the proportion of the radius\n",
    "\n",
    "ratioRange = 0.2\n",
    "scale = R * ratioRange\n",
    "\n",
    "# sill \n",
    "\n",
    "sill = 2. \n",
    "\n",
    "# Smoothness parameter (for Matérn case)\n",
    "\n",
    "nu = 1 \n",
    "\n",
    "# Markov coefficients (for Markov case)\n",
    "\n",
    "coeffs = [1,-1/scale,.5/scale**2]\n"
   ]
  },
  {
   "cell_type": "markdown",
   "id": "802d696e",
   "metadata": {},
   "source": [
    "### Meshing"
   ]
  },
  {
   "cell_type": "code",
   "execution_count": null,
   "id": "74381340",
   "metadata": {},
   "outputs": [],
   "source": [
    "mesh = gl.MeshSpherical()\n",
    "err = mesh.reset(None,None,triswitch = \"-r5\",verbose=False)"
   ]
  },
  {
   "cell_type": "markdown",
   "id": "88a4318f",
   "metadata": {},
   "source": [
    "### Covariance model\n",
    "\n",
    "The covariance model is Markov or Matérn."
   ]
  },
  {
   "cell_type": "code",
   "execution_count": null,
   "id": "0dc0df3a",
   "metadata": {},
   "outputs": [],
   "source": [
    "if Markov : \n",
    "    model = gl.Model.createFromParam(type=gl.ECov.MARKOV,\n",
    "                                 range = scale,\n",
    "                                 sill = sill,\n",
    "                                 flagRange= False)\n",
    "    model.getCova(0).setMarkovCoeffs(coeffs)\n",
    "    \n",
    "else :\n",
    "\n",
    "    model = gl.Model.createFromParam(type=gl.ECov.BESSEL_K,\n",
    "                                 range = scale,\n",
    "                                 sill = sill,\n",
    "                                 param=nu,\n",
    "                                 flagRange= False)\n",
    "\n"
   ]
  },
  {
   "cell_type": "markdown",
   "id": "0f1d698d",
   "metadata": {},
   "source": [
    "### Precision matrix"
   ]
  },
  {
   "cell_type": "code",
   "execution_count": null,
   "id": "6dde8232",
   "metadata": {},
   "outputs": [],
   "source": [
    "Q = gl.PrecisionOp(mesh,model)"
   ]
  },
  {
   "cell_type": "markdown",
   "id": "4075fd1e",
   "metadata": {},
   "source": [
    "### Simulation "
   ]
  },
  {
   "cell_type": "code",
   "execution_count": null,
   "id": "1e099914",
   "metadata": {},
   "outputs": [],
   "source": [
    "result = np.array(Q.simulate()[0])"
   ]
  },
  {
   "cell_type": "markdown",
   "id": "7c7475f6",
   "metadata": {},
   "source": [
    "### Display the realization\n",
    " "
   ]
  },
  {
   "cell_type": "code",
   "execution_count": null,
   "id": "f4845d70",
   "metadata": {},
   "outputs": [],
   "source": [
    "surface = gop.SurfaceOnMesh(mesh, result)\n",
    "fig = go.Figure(data=[ surface ])\n",
    "fig.show()"
   ]
  },
  {
   "cell_type": "markdown",
   "id": "8f27fad9",
   "metadata": {},
   "source": [
    "### Compute covariance (of discretized solution)\n",
    "\n",
    "We use the fact that $\\Sigma = Q^{-1}$ and solve $Qx = e_j$ for an arbitrary index $j$."
   ]
  },
  {
   "cell_type": "markdown",
   "id": "6fff9f85",
   "metadata": {},
   "source": [
    "**Get the distances**"
   ]
  },
  {
   "cell_type": "code",
   "execution_count": null,
   "id": "714290cb",
   "metadata": {},
   "outputs": [],
   "source": [
    "ind0 = 12\n",
    "distances = np.array(mesh.getDistances(ind0))"
   ]
  },
  {
   "cell_type": "markdown",
   "id": "26ffd3ef",
   "metadata": {},
   "source": [
    "**Compute the covariances**"
   ]
  },
  {
   "cell_type": "code",
   "execution_count": null,
   "id": "2b406e5c",
   "metadata": {},
   "outputs": [],
   "source": [
    "covDiscr = np.array(Q.evalCov(ind0))"
   ]
  },
  {
   "cell_type": "markdown",
   "id": "4196d371",
   "metadata": {},
   "source": [
    "**Sort for the plot**"
   ]
  },
  {
   "cell_type": "code",
   "execution_count": null,
   "id": "6579db6f",
   "metadata": {},
   "outputs": [],
   "source": [
    "covDiscrClose = covDiscr[np.argsort(distances)]\n",
    "deltaLong =  np.sort(distances)"
   ]
  },
  {
   "cell_type": "markdown",
   "id": "fda1a2b2",
   "metadata": {},
   "source": [
    "**Display the result**"
   ]
  },
  {
   "cell_type": "code",
   "execution_count": null,
   "id": "3cc2b78b",
   "metadata": {},
   "outputs": [],
   "source": [
    "plt.plot(deltaLong,covDiscrClose,\"--\",label = \"Discretized covariance\")\n",
    "ax = plt.legend()"
   ]
  },
  {
   "cell_type": "markdown",
   "id": "c85738a4",
   "metadata": {},
   "source": [
    "### Variogram of the realization\n",
    "\n",
    "The empirical variogram is computed by using the great-circle distance."
   ]
  },
  {
   "cell_type": "code",
   "execution_count": null,
   "id": "3f3cd1ac",
   "metadata": {
    "scrolled": true
   },
   "outputs": [],
   "source": [
    "npas = 50 # number of discretization points\n",
    "dpas = 0.04 # lag with respect to the unit sphere (it will be multiplied\n",
    "# by R in the creation of the VarioParam.\n",
    "\n",
    "nsample = 4000\n",
    "#sub-sampling to reduce computational burden\n",
    "\n",
    "ind = np.random.choice(mesh.getNApices(),size=nsample,replace=False)\n",
    "\n",
    "#Creation of the db\n",
    "X = mesh.getCoordinates(0)\n",
    "Y = mesh.getCoordinates(1)\n",
    "\n",
    "dbdat = gl.Db.create()\n",
    "dbdat[\"x\"] = np.array(X)[ind]\n",
    "dbdat[\"y\"] = np.array(Y)[ind]\n",
    "dbdat[\"simu\"] = np.array(result)[ind]\n",
    "dbdat.setLocators([\"x\",\"y\"],gl.ELoc.X)\n",
    "dbdat.setLocators([\"simu\"],gl.ELoc.Z)\n",
    "\n",
    "#Variogram \n",
    "\n",
    "vp = gl.VarioParam.createOmniDirection(npas=npas,dpas=dpas * R)\n",
    "vario = gl.Vario.create(vp,dbdat)\n",
    "ax = vario.compute(gl.ECalcVario.VARIOGRAM)"
   ]
  },
  {
   "cell_type": "code",
   "execution_count": null,
   "id": "97c3dca8",
   "metadata": {},
   "outputs": [],
   "source": [
    "ax = gp.vario(vario,end_plot=False,label = \"Empirical variogram\")\n",
    "ax = plt.legend()"
   ]
  },
  {
   "cell_type": "markdown",
   "id": "f5d69f8e",
   "metadata": {},
   "source": [
    "### Theoretical covariance function"
   ]
  },
  {
   "cell_type": "markdown",
   "id": "264788f2",
   "metadata": {},
   "source": [
    "The covariance between two points with great-circle distance $d$  on the sphere of radius $R$ is given by\n",
    "$$C(d) = \\frac{\\sigma^2}{\\sum_{i=0}^\\infty f(i)}\\sum_{i=0}^\\infty f(i) P_i\\left(\\cos \\frac{d}{R}\\right)$$\n",
    "\n",
    "where the $P_i$'s  are the Legendre polynomials computed with the following reccurence formula\n",
    "\n",
    "$$P_0(x) = 1.$$\n",
    "\n",
    "$$P_1(x) = x$$\n",
    "\n",
    "$$P_{n+1}(x)=\\frac{(2n+1)xP_n(x) - n P_{n-1}(x)}{n+1}$$\n",
    "\n",
    "For $n\\geq 0$, $$f(n) = \\frac{2 (n + 1)}{ (R^2\\kappa^2 + n ( n + 1))^\\alpha}$$\n",
    "\n",
    "For numerical computations, the sums are truncated at **N**.\n",
    "\n",
    "For more details on the covariances on sphere, see \n",
    "[Lantuejoul, Freulon and Renard (2019)](https://link.springer.com/content/pdf/10.1007/s11004-019-09799-4.pdf)\n"
   ]
  },
  {
   "cell_type": "markdown",
   "id": "4305cf29",
   "metadata": {},
   "source": [
    "### Evaluation "
   ]
  },
  {
   "cell_type": "code",
   "execution_count": null,
   "id": "afc89ed4",
   "metadata": {},
   "outputs": [],
   "source": [
    "ndisc = 100 # number of discretization steps for the covariance \n",
    "N = 20 # size of the decomposition\n",
    "\n",
    "h = np.linspace(0,np.max(deltaLong),ndisc)\n",
    "ax=gp.vario(vario,end_plot=False,label = \"Empirical variogram\")\n",
    "\n",
    "a=model.getCova(0)\n",
    "uu = np.array([a.evalCovOnSphere(i,N) for i in h])\n",
    "ax = plt.plot(h, sill - uu,label = \"Theoretical variogram\")\n",
    "plt.plot(deltaLong,covDiscrClose[0] - covDiscrClose,\"--\",label = \"Discretized model\",)\n",
    "ax = plt.legend()"
   ]
  },
  {
   "cell_type": "markdown",
   "id": "122de5b6",
   "metadata": {},
   "source": [
    "There is a slight difference between the theoretical variogram and the one obtained from the SPDE discretization due to a numerical error on the variance introduced by the discretization. The comparison of the covariance shows that this numerical error is rather small :"
   ]
  },
  {
   "cell_type": "code",
   "execution_count": null,
   "id": "78812f6a",
   "metadata": {},
   "outputs": [],
   "source": [
    "ax = plt.plot(h, uu,label = \"Theoretical covariance\")\n",
    "plt.plot(deltaLong, covDiscrClose,\"--\",label = \"Discretized model\")\n",
    "ax=plt.legend()"
   ]
  }
 ],
 "metadata": {
  "kernelspec": {
   "display_name": "Python 3 (ipykernel)",
   "language": "python",
   "name": "python3"
  },
  "language_info": {
   "codemirror_mode": {
    "name": "ipython",
    "version": 3
   },
   "file_extension": ".py",
   "mimetype": "text/x-python",
   "name": "python",
   "nbconvert_exporter": "python",
   "pygments_lexer": "ipython3",
   "version": "3.10.2"
  }
 },
 "nbformat": 4,
 "nbformat_minor": 5
}
