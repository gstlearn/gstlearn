{
 "cells": [
  {
   "cell_type": "markdown",
   "id": "361d81f5",
   "metadata": {},
   "source": [
    "# SPDE simulation on sphere"
   ]
  },
  {
   "cell_type": "code",
   "execution_count": null,
   "id": "88b50efe",
   "metadata": {},
   "outputs": [],
   "source": [
    "import numpy as np           \n",
    "import matplotlib.pyplot as plt\n",
    "import plotly.graph_objects as go\n",
    "import IPython\n",
    "import scipy as sc\n",
    "import gstlearn as gl\n",
    "import gstlearn.plot as gp\n",
    "from numpy import pi, cos, sin\n",
    "import scipy as sc\n",
    "from scipy.sparse.linalg import spsolve"
   ]
  },
  {
   "cell_type": "markdown",
   "id": "a7fb667a",
   "metadata": {},
   "source": [
    "## Parametrization"
   ]
  },
  {
   "cell_type": "code",
   "execution_count": null,
   "id": "6588f4a5",
   "metadata": {},
   "outputs": [],
   "source": [
    "R = 1. #Sphere radius\n",
    "\n",
    "gl.variety_define(1,R)\n",
    "\n",
    "ratioRange = 0.1  #Scale parameter (proportion of the radius)\n",
    "param = 2 # parameter of the Matérn\n",
    "sill = 2. # sill \n"
   ]
  },
  {
   "cell_type": "markdown",
   "id": "832a9951",
   "metadata": {},
   "source": [
    "## Meshing"
   ]
  },
  {
   "cell_type": "code",
   "execution_count": null,
   "id": "f8a37930",
   "metadata": {},
   "outputs": [],
   "source": [
    "mesh = gl.MeshSpherical()\n",
    "err = mesh.reset(None,None,triswitch = \"-r5\",verbose=False)"
   ]
  },
  {
   "cell_type": "code",
   "execution_count": null,
   "id": "2c799130",
   "metadata": {},
   "outputs": [],
   "source": [
    "model = gl.Model.createFromParam(type=gl.ECov.BESSEL_K,range = R * ratioRange,\n",
    "                                   sill = sill,\n",
    "                                   param=param,\n",
    "                                   flagRange= False)\n",
    "model"
   ]
  },
  {
   "cell_type": "markdown",
   "id": "46818788",
   "metadata": {},
   "source": [
    "## Shift Operator and Precision matrix"
   ]
  },
  {
   "cell_type": "code",
   "execution_count": null,
   "id": "ac62e1fd",
   "metadata": {},
   "outputs": [],
   "source": [
    "S=gl.ShiftOpCs(mesh,model)\n",
    "Q = gl.PrecisionOpCs(S,model.getCova(0),gl.EPowerPT.MINUSHALF)"
   ]
  },
  {
   "cell_type": "markdown",
   "id": "d1298329",
   "metadata": {},
   "source": [
    "## Simulation "
   ]
  },
  {
   "cell_type": "code",
   "execution_count": null,
   "id": "68ff97d6",
   "metadata": {},
   "outputs": [],
   "source": [
    "whitenoise = gl.ut_vector_simulate_gaussian(mesh.getNApices())\n",
    "result = gl.VectorDouble(mesh.getNApices())\n",
    "Q.eval(whitenoise,result)"
   ]
  },
  {
   "cell_type": "markdown",
   "id": "8d945cb0",
   "metadata": {},
   "source": [
    "## Display the realization\n",
    " "
   ]
  },
  {
   "cell_type": "code",
   "execution_count": null,
   "id": "e421174b",
   "metadata": {},
   "outputs": [],
   "source": [
    "X = mesh.getCoordinates(0)\n",
    "Y = mesh.getCoordinates(1)\n",
    "\n",
    "coords = np.array(gl.util_convert_longlat(X,Y,dilate=0.99))\n",
    "\n",
    "meshes = np.array(mesh.getMeshes()).reshape([mesh.getNMeshes(),3])-1\n",
    "\n",
    "cscale = [[0.0, '#313695'],\n",
    " [0.07692307692307693, '#3a67af'],\n",
    " [0.15384615384615385, '#5994c5'],\n",
    " [0.23076923076923078, '#84bbd8'],\n",
    " [0.3076923076923077, '#afdbea'],\n",
    " [0.38461538461538464, '#d8eff5'],\n",
    " [0.46153846153846156, '#d6ffe1'],\n",
    " [0.5384615384615384, '#fef4ac'],\n",
    " [0.6153846153846154, '#fed987'],\n",
    " [0.6923076923076923, '#fdb264'],\n",
    " [0.7692307692307693, '#f78249'],\n",
    " [0.8461538461538461, '#e75435'],\n",
    " [0.9230769230769231, '#cc2727'],\n",
    " [1.0, '#a50026']]\n",
    "\n",
    "\n",
    "fig = go.Figure(data=[\n",
    "    go.Mesh3d(\n",
    "        x=coords[0,:],\n",
    "        y=coords[1,:],\n",
    "        z=coords[2,:],\n",
    "        colorbar_title='z',\n",
    "        colorscale=cscale,\n",
    "        # Intensity of each vertex, which will be interpolated and color-coded\n",
    "        intensity=np.array(result),\n",
    "        # i, j and k give the vertices of triangles\n",
    "        # here we represent the 4 triangles of the tetrahedron surface\n",
    "        i=meshes[:,0],\n",
    "        j=meshes[:,1],\n",
    "        k=meshes[:,2],\n",
    "        name='y',\n",
    "        showscale=True\n",
    "    )\n",
    "])\n",
    "\n",
    "fig.show()"
   ]
  },
  {
   "cell_type": "markdown",
   "id": "0874c46f",
   "metadata": {},
   "source": [
    "## Compute variance (of discretized solution)\n",
    "\n",
    "We use the fact that $\\Sigma = Q^{-1}$ and solve $Qx = e_1$. \n",
    "The resulting **x[0]** is the variance of the discretized model for the first point of the meshing."
   ]
  },
  {
   "cell_type": "code",
   "execution_count": null,
   "id": "6f582dde",
   "metadata": {},
   "outputs": [],
   "source": [
    "\n",
    "Qt = gl.csToTriplet(Q.getQ())\n",
    "Qmat=sc.sparse.csc_matrix((np.array(Qt.values), (np.array(Qt.rows), np.array(Qt.cols))),\n",
    "                          shape=(Qt.nrows,Qt.ncols))\n",
    "\n",
    "spsolve(Qmat,np.eye(Qmat.shape[0],1))[0]\n"
   ]
  },
  {
   "cell_type": "markdown",
   "id": "1b1dacbb",
   "metadata": {},
   "source": [
    "## Compute Variogram of the realization"
   ]
  },
  {
   "cell_type": "code",
   "execution_count": null,
   "id": "de5ae1aa",
   "metadata": {
    "scrolled": true
   },
   "outputs": [],
   "source": [
    "npas = 50 # number of discretization points\n",
    "dpas = 0.04 # lag with respect to the unit sphere (it will be multiplied\n",
    "# by R in the creation of the VarioParam.\n",
    "\n",
    "nsample = 4000\n",
    "#sub-sampling to reduce computational burden\n",
    "\n",
    "ind = np.random.choice(mesh.getNApices(),size=nsample,replace=False)\n",
    "\n",
    "#Creation of the db\n",
    "\n",
    "dbdat = gl.Db.create()\n",
    "dbdat[\"x\"] = np.array(X)[ind]\n",
    "dbdat[\"y\"] = np.array(Y)[ind]\n",
    "dbdat[\"z\"] = np.array(result)[ind]\n",
    "dbdat.setLocators([\"x\",\"y\"],gl.ELoc.X)\n",
    "dbdat.setLocators([\"z\"],gl.ELoc.Z)\n",
    "\n",
    "#Variogram \n",
    "\n",
    "vp = gl.VarioParam.createOmniDirection(npas=npas,dpas=dpas * R)\n",
    "vario = gl.Vario.create(vp,dbdat)\n",
    "vario.compute(gl.ECalcVario.VARIOGRAM)\n",
    "\n",
    "ax=gp.plot(vario)"
   ]
  },
  {
   "cell_type": "markdown",
   "id": "55c1b68d",
   "metadata": {},
   "source": [
    "## Theoretical covariance function"
   ]
  },
  {
   "cell_type": "markdown",
   "id": "dddb4d09",
   "metadata": {},
   "source": [
    "This function compute the covariance function on the sphere for a given array **h** and a spectrum $f$.\n",
    "\n",
    "The covariance between two points with great-circle distance $\\alpha$  on the unit sphere is given by\n",
    "$$C(\\alpha) = \\sum_{i=0}^n f(i) P_i(\\cos \\alpha)$$\n",
    "\n",
    "where the $P_i$'s  are the Legendre polynomials computed with the following reccurence formula\n",
    "\n",
    "$$P_0(x) = 1.$$\n",
    "\n",
    "$$P_1(x) = x$$\n",
    "\n",
    "$$P_{n+1}(x)=\\frac{(2n+1)xP_n(x) - n P_{n-1}(x)}{n+1}$$\n",
    "\n",
    "The sum is truncated at **N**. Assuming that **h[0] = 0**, the result is divided by **C(0)** if **normalize = True**."
   ]
  },
  {
   "cell_type": "code",
   "execution_count": null,
   "id": "a7eb4e42",
   "metadata": {},
   "outputs": [],
   "source": [
    "model.getCova(0).getCova().evalCovOnSphere(0)"
   ]
  },
  {
   "cell_type": "code",
   "execution_count": null,
   "id": "d5b58efe",
   "metadata": {},
   "outputs": [],
   "source": [
    "def computeCov(h,f, N = 100 , normalize = True):\n",
    "    s = 0.\n",
    "    u0 = np.ones_like(h)\n",
    "    u1 = h.copy()\n",
    "    for i in range(1,N):\n",
    "        u2 = 1/(i+1) * ((2*i+1) * h * u1 - i * u0)\n",
    "        s += f(i-1) * u0\n",
    "        u0 = u1\n",
    "        u1 = u2\n",
    "    if normalize:\n",
    "        s/=s[0]\n",
    "    return s\n"
   ]
  },
  {
   "cell_type": "markdown",
   "id": "39d8394a",
   "metadata": {},
   "source": [
    "The following class provides the spectrum of the Matern covariance function on the sphere."
   ]
  },
  {
   "cell_type": "code",
   "execution_count": null,
   "id": "f14d138d",
   "metadata": {},
   "outputs": [],
   "source": [
    "\n",
    "class Matern :\n",
    "    def __init__(self,cova):\n",
    "        self.kappa2 = 1./cova.getScales()[0]**2\n",
    "        self.alpha = cova.getParam()+1\n",
    "    def eval(self,n) :\n",
    "        return (2.*n+1)/(self.kappa2 + n * (n+1))**self.alpha\n",
    "\n"
   ]
  },
  {
   "cell_type": "markdown",
   "id": "eb7e0638",
   "metadata": {},
   "source": [
    "## Evaluation "
   ]
  },
  {
   "cell_type": "code",
   "execution_count": null,
   "id": "98b6420c",
   "metadata": {},
   "outputs": [],
   "source": [
    "ndisc = 100 # number of discretization steps for the covariance \n",
    "npoly = 50 # size of the decomposition\n",
    "matern = Matern(model.getCova(0))\n",
    "\n",
    "hnorm = np.linspace(0,npas * dpas,ndisc)\n",
    "hval = R * hnorm\n",
    "CosH = np.cos(hnorm)\n",
    "res = computeCov(CosH,matern.eval,npoly)\n",
    "\n",
    "ax=gp.vario(vario,end_plot=False)\n",
    "ax = plt.plot(hval,sill - sill * res)"
   ]
  }
 ],
 "metadata": {
  "kernelspec": {
   "display_name": "Python 3 (ipykernel)",
   "language": "python",
   "name": "python3"
  },
  "language_info": {
   "codemirror_mode": {
    "name": "ipython",
    "version": 3
   },
   "file_extension": ".py",
   "mimetype": "text/x-python",
   "name": "python",
   "nbconvert_exporter": "python",
   "pygments_lexer": "ipython3",
   "version": "3.10.2"
  }
 },
 "nbformat": 4,
 "nbformat_minor": 5
}
