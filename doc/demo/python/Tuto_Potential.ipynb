{
 "cells": [
  {
   "cell_type": "markdown",
   "metadata": {},
   "source": [
    "# Tutorial for Potential Model"
   ]
  },
  {
   "cell_type": "markdown",
   "metadata": {},
   "source": [
    "This file is meant to demonstrate the use of gstlearn for Potential Model. "
   ]
  },
  {
   "cell_type": "code",
   "execution_count": null,
   "metadata": {},
   "outputs": [],
   "source": [
    "%%javascript\n",
    "IPython.OutputArea.prototype._should_scroll = function(lines) {\n",
    "return false;\n",
    "}"
   ]
  },
  {
   "cell_type": "code",
   "execution_count": null,
   "metadata": {},
   "outputs": [],
   "source": [
    "import numpy as np\n",
    "import pandas as pd\n",
    "import sys\n",
    "import os\n",
    "import gstlearn as gl\n",
    "import gstlearn.plot as gp\n",
    "import gstlearn.plot3D as gop\n",
    "import matplotlib.pyplot as plt\n",
    "import plotly.graph_objects as go"
   ]
  },
  {
   "cell_type": "markdown",
   "metadata": {},
   "source": [
    "# Case in 1-D"
   ]
  },
  {
   "cell_type": "markdown",
   "metadata": {},
   "source": [
    "## Defining the Information"
   ]
  },
  {
   "cell_type": "markdown",
   "metadata": {},
   "source": [
    "Setting some global variables"
   ]
  },
  {
   "cell_type": "code",
   "execution_count": null,
   "metadata": {},
   "outputs": [],
   "source": [
    "ndim = 1\n",
    "gl.defineDefaultSpace(gl.ESpaceType.RN, ndim)"
   ]
  },
  {
   "cell_type": "markdown",
   "metadata": {},
   "source": [
    "Defining the data points used as controls"
   ]
  },
  {
   "cell_type": "markdown",
   "metadata": {},
   "source": [
    "The set of iso-potential data points. Each datum is characterized by its coordinate and an indicator of the set to which it belongs."
   ]
  },
  {
   "cell_type": "code",
   "execution_count": null,
   "metadata": {},
   "outputs": [],
   "source": [
    "tabiso = [30., 1.,\n",
    "         80., 1.,\n",
    "         60., 1.,\n",
    "         40., 2.,\n",
    "         50., 2.]\n",
    "dbiso1D = gl.Db.createFromSamples(5, gl.ELoadBy.SAMPLE, tabiso, [\"x\", \"iso\"], [\"x1\", \"layer\"])"
   ]
  },
  {
   "cell_type": "markdown",
   "metadata": {},
   "source": [
    "The Gradient information"
   ]
  },
  {
   "cell_type": "code",
   "execution_count": null,
   "metadata": {},
   "outputs": [],
   "source": [
    "tabgrd = [0., 1.]\n",
    "dbgrd1D= gl.Db.createFromSamples(1, gl.ELoadBy.SAMPLE, tabgrd, [\"x\", \"g\"], [\"x1\", \"g1\"])"
   ]
  },
  {
   "cell_type": "markdown",
   "metadata": {},
   "source": [
    "The 1-D grid covering the field of estimation"
   ]
  },
  {
   "cell_type": "code",
   "execution_count": null,
   "metadata": {},
   "outputs": [],
   "source": [
    "nx = [100]\n",
    "grid1D = gl.DbGrid.create(nx)"
   ]
  },
  {
   "cell_type": "markdown",
   "metadata": {},
   "source": [
    "The Model is composed of a Gaussian Covariance with a scale 20. The model must be turned into a Gradient model."
   ]
  },
  {
   "cell_type": "code",
   "execution_count": null,
   "metadata": {},
   "outputs": [],
   "source": [
    "range = gl.CovAniso.scale2range(gl.ECov.GAUSSIAN, 20.)\n",
    "model = gl.Model.createFromParam(gl.ECov.GAUSSIAN, range)\n",
    "model.switchToGradient()"
   ]
  },
  {
   "cell_type": "markdown",
   "metadata": {},
   "source": [
    "The Neighborhood (although parametrized) should be Unique"
   ]
  },
  {
   "cell_type": "code",
   "execution_count": null,
   "metadata": {},
   "outputs": [],
   "source": [
    "neighU = gl.NeighUnique.create()"
   ]
  },
  {
   "cell_type": "markdown",
   "metadata": {},
   "source": [
    "## Launching the Estimation"
   ]
  },
  {
   "cell_type": "markdown",
   "metadata": {},
   "source": [
    "We launch the calculation of the Potential on the nodes of the grid. The use of OptDbg statement is maintained for spying the process when estimating a target node in particular (-1 stands for no control)."
   ]
  },
  {
   "cell_type": "code",
   "execution_count": null,
   "metadata": {
    "scrolled": true
   },
   "outputs": [],
   "source": [
    "gl.OptDbg.setReference(-1)\n",
    "gl.potential_kriging(dbiso1D, dbgrd1D, None, grid1D, model, neighU, \n",
    "                     flag_pot=True, flag_grad=True, flag_save_data=True, verbose=False)\n",
    "gl.OptDbg.setReference(-1)"
   ]
  },
  {
   "cell_type": "markdown",
   "metadata": {},
   "source": [
    "Graphic representation"
   ]
  },
  {
   "cell_type": "code",
   "execution_count": null,
   "metadata": {},
   "outputs": [],
   "source": [
    "ax = gp.grid1D(grid1D,name=\"Potential\")\n",
    "ax.geometry(dims=[10,6], aspect='auto')\n",
    "ax = gp.point(dbiso1D, coorY_name=\"Potential\", name_color=\"iso\", size=100, \n",
    "              flagLegendSymbol=False, flagGradient=True)\n",
    "hl = plt.hlines(dbiso1D.getColumn(\"Potential\"),0.,100.)"
   ]
  },
  {
   "cell_type": "markdown",
   "metadata": {},
   "source": [
    "# Case in 2-D"
   ]
  },
  {
   "cell_type": "markdown",
   "metadata": {},
   "source": [
    "# Defining the Information"
   ]
  },
  {
   "cell_type": "markdown",
   "metadata": {},
   "source": [
    "We define the space dimension"
   ]
  },
  {
   "cell_type": "code",
   "execution_count": null,
   "metadata": {},
   "outputs": [],
   "source": [
    "ndim = 2\n",
    "gl.defineDefaultSpace(gl.ESpaceType.RN, ndim)"
   ]
  },
  {
   "cell_type": "markdown",
   "metadata": {},
   "source": [
    "Defining the Iso-Potential information"
   ]
  },
  {
   "cell_type": "code",
   "execution_count": null,
   "metadata": {},
   "outputs": [],
   "source": [
    "tabiso = [ 7., 6., 1.,\n",
    "          5., 6., 1.,\n",
    "          6., 5., 1.,\n",
    "          3., 6., 2.,\n",
    "          7., 7., 2.,\n",
    "          8., 3., 2.,\n",
    "          8., 1., 3.,\n",
    "          7., 9., 3.,\n",
    "          10., 5., 3.,\n",
    "          3., 1., 3.]\n",
    "dbiso2D = gl.Db.createFromSamples(10, gl.ELoadBy.SAMPLE, tabiso,[\"x\",\"y\",\"iso\"],[\"x1\",\"x2\",\"layer\"])"
   ]
  },
  {
   "cell_type": "markdown",
   "metadata": {},
   "source": [
    "Defining the Gradient information"
   ]
  },
  {
   "cell_type": "code",
   "execution_count": null,
   "metadata": {},
   "outputs": [],
   "source": [
    "tabgrd = [ 1., 6., 1., 0.,\n",
    "         9., 2., -1., 1.,\n",
    "         7., 8., 0., -1 ]\n",
    "dbgrd2D = gl.Db.createFromSamples(3, gl.ELoadBy.SAMPLE, tabgrd,[\"x\",\"y\",\"gx\",\"gy\"],[\"x1\",\"x2\",\"g1\",\"g2\"])"
   ]
  },
  {
   "cell_type": "markdown",
   "metadata": {},
   "source": [
    "Defining the Tangent information"
   ]
  },
  {
   "cell_type": "code",
   "execution_count": null,
   "metadata": {},
   "outputs": [],
   "source": [
    "tabtgt = [ 3., 7., 1., 0.,\n",
    "          9., 7., 0.5, -0.5 ]\n",
    "dbtgt2D = gl.Db.createFromSamples(2, gl.ELoadBy.SAMPLE, tabtgt, [\"x\",\"y\",\"tx\",\"ty\"],[\"x1\",\"x2\",\"tangent1\",\"tangent2\"])"
   ]
  },
  {
   "cell_type": "markdown",
   "metadata": {},
   "source": [
    "Defining the output grid"
   ]
  },
  {
   "cell_type": "code",
   "execution_count": null,
   "metadata": {},
   "outputs": [],
   "source": [
    "nx = [101,101]\n",
    "dx = [0.1, 0.1]\n",
    "grid2D = gl.DbGrid.create(nx, dx)"
   ]
  },
  {
   "cell_type": "markdown",
   "metadata": {},
   "source": [
    "Defining the Model and turn it into a Gradient Model"
   ]
  },
  {
   "cell_type": "code",
   "execution_count": null,
   "metadata": {},
   "outputs": [],
   "source": [
    "model = gl.Model.createFromParam(gl.ECov.CUBIC, 8.)\n",
    "model.switchToGradient()\n",
    "model.display()"
   ]
  },
  {
   "cell_type": "markdown",
   "metadata": {},
   "source": [
    "Defining the Neighborhood"
   ]
  },
  {
   "cell_type": "code",
   "execution_count": null,
   "metadata": {},
   "outputs": [],
   "source": [
    "neighU = gl.NeighUnique.create()"
   ]
  },
  {
   "cell_type": "markdown",
   "metadata": {},
   "source": [
    "## Launching the estimation"
   ]
  },
  {
   "cell_type": "code",
   "execution_count": null,
   "metadata": {
    "scrolled": false
   },
   "outputs": [],
   "source": [
    "err = gl.potential_kriging(dbiso2D, dbgrd2D, dbtgt2D, grid2D, model, neighU,\n",
    "                           flag_pot = True, flag_save_data = True, verbose = False)"
   ]
  },
  {
   "cell_type": "markdown",
   "metadata": {},
   "source": [
    "Visualization"
   ]
  },
  {
   "cell_type": "code",
   "execution_count": null,
   "metadata": {},
   "outputs": [],
   "source": [
    "grid2D"
   ]
  },
  {
   "cell_type": "code",
   "execution_count": null,
   "metadata": {},
   "outputs": [],
   "source": [
    "gp.setDefaultGeographic(dims=[8,8], aspect='auto')\n",
    "ax = grid2D.plot()\n",
    "\n",
    "ax = dbiso2D.plot(name_color=\"iso\", size=100)\n",
    "levels = np.unique(np.round(dbiso2D.getColumn(\"Potential\"),4))\n",
    "ax = grid2D.plot(name_contour=\"Potential\", levels=levels, colors='red')\n",
    "\n",
    "ax = dbgrd2D.plot(flagGradient=True, colorGradient='black', scaleGradient=5)\n",
    "levels = np.unique(np.round(dbgrd2D.getColumn(\"Potential\"),4))\n",
    "ax = grid2D.plot(name_contour=\"Potential\", levels=levels, colors=\"black\")\n",
    "\n",
    "ax = dbtgt2D.plot(flagTangent=True, colorTangent='blue', scaleTangent=10)\n",
    "levels = np.unique(np.round(dbtgt2D.getColumn(\"Potential\"),4))\n",
    "ax = grid2D.plot(name_contour=\"Potential\", levels=levels, colors=\"blue\")"
   ]
  },
  {
   "cell_type": "markdown",
   "metadata": {},
   "source": [
    "# Case in 3-D"
   ]
  },
  {
   "cell_type": "markdown",
   "metadata": {},
   "source": [
    "## Defining the Information"
   ]
  },
  {
   "cell_type": "markdown",
   "metadata": {},
   "source": [
    "We define the space dimension"
   ]
  },
  {
   "cell_type": "code",
   "execution_count": null,
   "metadata": {},
   "outputs": [],
   "source": [
    "ndim = 3\n",
    "gl.defineDefaultSpace(gl.ESpaceType.RN, ndim)"
   ]
  },
  {
   "cell_type": "markdown",
   "metadata": {},
   "source": [
    "Defining the Iso-Potential information"
   ]
  },
  {
   "cell_type": "code",
   "execution_count": null,
   "metadata": {},
   "outputs": [],
   "source": [
    "tabiso = [ 0.,  8.,  0., 1.,\n",
    "           0., 12., -8., 1.,\n",
    "           5.,  0.,  0., 1.,\n",
    "          -5.,  0.,  0., 1.,\n",
    "           0., 10., -5., 1.,\n",
    "           0.,  5.,-12., 1.,\n",
    "           4.,  0.,  0., 2.,\n",
    "          -4.,  0.,  0., 2.,\n",
    "           0.,  0., -6., 2.]\n",
    "dbiso3D = gl.Db.createFromSamples(9, gl.ELoadBy.SAMPLE, tabiso,[\"x\",\"y\",\"z\",\"iso\"],[\"x1\",\"x2\",\"x3\",\"layer\"])"
   ]
  },
  {
   "cell_type": "markdown",
   "metadata": {},
   "source": [
    "Defining the Gradient information"
   ]
  },
  {
   "cell_type": "code",
   "execution_count": null,
   "metadata": {},
   "outputs": [],
   "source": [
    "tabgrd = [ 5., 0., 0., -1.,  0., 0.,\n",
    "          -5., 0., 0.,  1.,  0., 0.,\n",
    "           0., 8., 0.,  0., -1., 0.,\n",
    "           0., 5., 0.,  0., -1., 0.,\n",
    "           4., 0., 0., -1.,  0., 0.,\n",
    "          -4., 0., 0.,  1.,  0., 0.]\n",
    "dbgrd3D = gl.Db.createFromSamples(6, gl.ELoadBy.SAMPLE, tabgrd,[\"x\",\"y\",\"z\",\"gx\",\"gy\",\"gz\"],\n",
    "                                [\"x1\",\"x2\",\"x3\",\"g1\",\"g2\",\"g3\"])"
   ]
  },
  {
   "cell_type": "markdown",
   "metadata": {},
   "source": [
    "Defining the Tangent information"
   ]
  },
  {
   "cell_type": "code",
   "execution_count": null,
   "metadata": {},
   "outputs": [],
   "source": [
    "tabtgt = [ 0., 10.,  -5., 0., -1., 1.,\n",
    "           0.,  5., -11., 0.,  1., 0.,\n",
    "           0.,  0.,  -6., 0.,  1., 0.]\n",
    "dbtgt3D = gl.Db.createFromSamples(3, gl.ELoadBy.SAMPLE, tabtgt, [\"x\",\"y\",\"z\",\"tx\",\"ty\",\"tz\"],\n",
    "                                [\"x1\",\"x2\",\"x3\",\"tangent1\",\"tangent2\",\"tangent3\"])"
   ]
  },
  {
   "cell_type": "markdown",
   "metadata": {},
   "source": [
    "Defining the output grid"
   ]
  },
  {
   "cell_type": "code",
   "execution_count": null,
   "metadata": {},
   "outputs": [],
   "source": [
    "nx = [61,81,61]\n",
    "dx = [0.2, 0.2, 0.2]\n",
    "x0 = [-6., 0., -12.]\n",
    "grid3D = gl.DbGrid.create(nx=nx, dx=dx, x0=x0)"
   ]
  },
  {
   "cell_type": "markdown",
   "metadata": {},
   "source": [
    "Defining the Model (as IRF-1) and turn it into a Gradient Model"
   ]
  },
  {
   "cell_type": "code",
   "execution_count": null,
   "metadata": {},
   "outputs": [],
   "source": [
    "model = gl.Model.createFromEnvironment(1, ndim)\n",
    "model.addCovFromParam(gl.ECov.CUBIC, range=10.)\n",
    "model.setDriftIRF(1)\n",
    "model.switchToGradient()\n",
    "model.display()"
   ]
  },
  {
   "cell_type": "markdown",
   "metadata": {},
   "source": [
    "Defining the Neighborhood"
   ]
  },
  {
   "cell_type": "code",
   "execution_count": null,
   "metadata": {},
   "outputs": [],
   "source": [
    "neighU = gl.NeighUnique.create()"
   ]
  },
  {
   "cell_type": "markdown",
   "metadata": {},
   "source": [
    "## Launching the estimation"
   ]
  },
  {
   "cell_type": "code",
   "execution_count": null,
   "metadata": {},
   "outputs": [],
   "source": [
    "err = gl.potential_kriging(dbiso3D, dbgrd3D, dbtgt3D, grid3D, model, neighU,\n",
    "                           flag_pot = True, flag_save_data = True, verbose = False)\n",
    "dbiso3D.display()"
   ]
  },
  {
   "cell_type": "markdown",
   "metadata": {},
   "source": [
    "3-D Visualization"
   ]
  },
  {
   "cell_type": "code",
   "execution_count": null,
   "metadata": {
    "scrolled": true
   },
   "outputs": [],
   "source": [
    "levels = np.unique(np.round(dbiso3D.getColumn(\"Potential\"),4))\n",
    "\n",
    "data = [gop.IsoSurfaceOnDbGrid(grid3D, \"Potential\", useSel=False, \n",
    "                            isomin=levels[0], isomax=levels[0]),\n",
    "        gop.PointDb(dbiso3D, name_color=\"Potential\")\n",
    "       ]\n",
    "fig = go.Figure(data=data)\n",
    "f = fig.show()"
   ]
  }
 ],
 "metadata": {
  "kernelspec": {
   "display_name": "Python 3 (ipykernel)",
   "language": "python",
   "name": "python3"
  },
  "language_info": {
   "codemirror_mode": {
    "name": "ipython",
    "version": 3
   },
   "file_extension": ".py",
   "mimetype": "text/x-python",
   "name": "python",
   "nbconvert_exporter": "python",
   "pygments_lexer": "ipython3",
   "version": "3.10.5"
  }
 },
 "nbformat": 4,
 "nbformat_minor": 4
}
