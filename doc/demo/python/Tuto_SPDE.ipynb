{
 "cells": [
  {
   "cell_type": "markdown",
   "id": "1d199513",
   "metadata": {},
   "source": [
    "# Stochastic Partial Derivative Equations"
   ]
  },
  {
   "cell_type": "markdown",
   "id": "c4aad7f3",
   "metadata": {},
   "source": [
    "<!-- SUMMARY: Estimation and Simulations performed in the framework of SPDE -->\n",
    "\n",
    "<!-- CATEGORY: SPDE -->"
   ]
  },
  {
   "cell_type": "markdown",
   "id": "0f59d245",
   "metadata": {},
   "source": [
    "In this tutorial, we show how to use the API SPDE"
   ]
  },
  {
   "cell_type": "code",
   "execution_count": null,
   "id": "4cfa42a1",
   "metadata": {},
   "outputs": [],
   "source": [
    "import gstlearn as gl\n",
    "import gstlearn.plot as gp\n",
    "import gstlearn.document as gdoc\n",
    "import numpy as np\n",
    "import matplotlib.pyplot as plt\n",
    "\n",
    "from sksparse.cholmod import cholesky\n",
    "import scipy as sc\n",
    "from scipy.sparse import *\n",
    "from scipy.sparse.linalg import *\n",
    "import numpy as np\n",
    "\n",
    "gdoc.setNoScroll()"
   ]
  },
  {
   "cell_type": "markdown",
   "id": "c8e2a9b2",
   "metadata": {},
   "source": [
    "## Parameters"
   ]
  },
  {
   "cell_type": "code",
   "execution_count": null,
   "id": "fca5c6d6",
   "metadata": {},
   "outputs": [],
   "source": [
    "# Data\n",
    "np.random.seed(123)\n",
    "ndat = 1000\n",
    "\n",
    "# Model\n",
    "rangev = 0.2\n",
    "sill = 1.\n",
    "nugget = 0.1\n",
    "\n",
    "# Grid \n",
    "nx = [50,50]\n",
    "dx = [0.02,0.02]\n",
    "x0 = [0,0]\n",
    "\n",
    "#Grid meshing\n",
    "nxm = [75,75]\n",
    "dxm = [0.02,0.02]\n",
    "x0m = [-0.25,-0.25]\n",
    "\n",
    "dbfmt = gl.DbStringFormat.createFromFlags(flag_stats=True, names=[\"spde*\"])"
   ]
  },
  {
   "cell_type": "markdown",
   "id": "ea5cb8d9",
   "metadata": {},
   "source": [
    "### Grid and Meshing"
   ]
  },
  {
   "cell_type": "code",
   "execution_count": null,
   "id": "3424411c",
   "metadata": {},
   "outputs": [],
   "source": [
    "grid = gl.DbGrid.create(nx,dx,x0)\n",
    "gridExt = gl.DbGrid.create(nxm,dxm,x0m)\n",
    "mesh = gl.MeshETurbo(gridExt)"
   ]
  },
  {
   "cell_type": "markdown",
   "id": "3df357b2",
   "metadata": {},
   "source": [
    "### Model"
   ]
  },
  {
   "cell_type": "code",
   "execution_count": null,
   "id": "c49a2252",
   "metadata": {},
   "outputs": [],
   "source": [
    "model = gl.Model.createFromParam(gl.ECov.MATERN,param=1,range=rangev,sill=sill)\n",
    "model.addCovFromParam(gl.ECov.NUGGET,sill=nugget)"
   ]
  },
  {
   "cell_type": "markdown",
   "id": "100e5da3",
   "metadata": {},
   "source": [
    "### Data"
   ]
  },
  {
   "cell_type": "code",
   "execution_count": null,
   "id": "6bdf63ea",
   "metadata": {},
   "outputs": [],
   "source": [
    "dat = gl.Db.create()\n",
    "dat[\"x\"] = np.random.uniform(size=ndat)\n",
    "dat[\"y\"] = np.random.uniform(size=ndat)\n",
    "dat.setLocators([\"x\",\"y\"],gl.ELoc.X)"
   ]
  },
  {
   "cell_type": "markdown",
   "id": "0e788667",
   "metadata": {},
   "source": [
    "## SPDE non-conditional simulation"
   ]
  },
  {
   "cell_type": "markdown",
   "id": "b9d56d8f",
   "metadata": {},
   "source": [
    "### Grid query"
   ]
  },
  {
   "cell_type": "code",
   "execution_count": null,
   "id": "c0320d13",
   "metadata": {},
   "outputs": [],
   "source": [
    "spde = gl.SPDE(model,grid,None,gl.ESPDECalcMode.SIMUNONCOND)\n",
    "gl.law_set_random_seed(131351)\n",
    "iuid = spde.compute(grid)\n",
    "grid.display(dbfmt)"
   ]
  },
  {
   "cell_type": "code",
   "execution_count": null,
   "id": "478a06bf",
   "metadata": {},
   "outputs": [],
   "source": [
    "gp.plot(grid)\n",
    "gp.decoration(title=\"Non Conditional Simulation\")"
   ]
  },
  {
   "cell_type": "markdown",
   "id": "a6255a4d",
   "metadata": {},
   "source": [
    "### Data query"
   ]
  },
  {
   "cell_type": "code",
   "execution_count": null,
   "id": "411570e2",
   "metadata": {},
   "outputs": [],
   "source": [
    "gl.law_set_random_seed(131351)\n",
    "iuid = spde.compute(dat)\n",
    "dat.display(dbfmt)"
   ]
  },
  {
   "cell_type": "markdown",
   "id": "00a64dea",
   "metadata": {},
   "source": [
    "## Kriging"
   ]
  },
  {
   "cell_type": "code",
   "execution_count": null,
   "id": "fa26231f",
   "metadata": {},
   "outputs": [],
   "source": [
    "spdeRes = gl.SPDE(model,grid,dat,gl.ESPDECalcMode.KRIGING,mesh,1)\n",
    "iuid = spdeRes.compute(grid)\n",
    "grid.display(dbfmt)"
   ]
  },
  {
   "cell_type": "code",
   "execution_count": null,
   "id": "35531a29",
   "metadata": {},
   "outputs": [],
   "source": [
    "gp.plot(grid)\n",
    "gp.decoration(title=\"Estimation\")"
   ]
  },
  {
   "cell_type": "markdown",
   "id": "ef01a345",
   "metadata": {},
   "source": [
    "## Manually"
   ]
  },
  {
   "cell_type": "markdown",
   "id": "ca0e9c5e",
   "metadata": {},
   "source": [
    "### Projection Matrix: mesh to grid"
   ]
  },
  {
   "cell_type": "code",
   "execution_count": null,
   "id": "4ed428eb",
   "metadata": {},
   "outputs": [],
   "source": [
    "Pglg = gl.ProjMatrix(grid,mesh)\n",
    "Aprojg = Pglg.toTL()"
   ]
  },
  {
   "cell_type": "markdown",
   "id": "871a92ef",
   "metadata": {},
   "source": [
    "### Simulation"
   ]
  },
  {
   "cell_type": "code",
   "execution_count": null,
   "id": "4eb29fbb",
   "metadata": {},
   "outputs": [],
   "source": [
    "Q = spdeRes.getPrecisionOpMatrix().getQ().toTL()\n",
    "cholQ = cholesky(Q)"
   ]
  },
  {
   "cell_type": "code",
   "execution_count": null,
   "id": "e46fc400",
   "metadata": {},
   "outputs": [],
   "source": [
    "u = np.random.normal(size = Q.shape[0])\n",
    "gridExt[\"simuManual\"] = cholQ.apply_Pt(cholQ.solve_Lt(1./np.sqrt(cholQ.D())*u))\n",
    "gridExt.addSelection((gridExt[\"x1\"]>0) & (gridExt[\"x2\"]>0) & (gridExt[\"x1\"]<1.) & (gridExt[\"x2\"]<1.))\n",
    "\n",
    "res = gp.plot(gridExt, \"simuManual\",useSel=False)\n",
    "print(f\"Variance = {round(np.var(gridExt['simuManual'][np.where(gridExt['NewSel']==1)]),4)}\")"
   ]
  },
  {
   "cell_type": "markdown",
   "id": "59102aef",
   "metadata": {},
   "source": [
    "### Kriging"
   ]
  },
  {
   "cell_type": "code",
   "execution_count": null,
   "id": "9aef0050",
   "metadata": {},
   "outputs": [],
   "source": [
    "Pgl = gl.ProjMatrix(dat,mesh)\n",
    "Aproj = Pgl.toTL()\n",
    "\n",
    "Qop = Q + 1/nugget * Aproj.T @ Aproj\n",
    "cholQop =  cholesky(Qop)\n",
    "\n",
    "kriging = cholQop.solve_A(Aproj.T @ (dat[\"spde*\"]/nugget))"
   ]
  },
  {
   "cell_type": "code",
   "execution_count": null,
   "id": "74ee03fc",
   "metadata": {},
   "outputs": [],
   "source": [
    "grid[\"manually\"] = Aprojg @ kriging"
   ]
  },
  {
   "cell_type": "code",
   "execution_count": null,
   "id": "b17ccffd",
   "metadata": {},
   "outputs": [],
   "source": [
    "ax = plt.scatter(grid[\"manually\"],grid[\"*estim\"],s=1)\n",
    "p = plt.plot([-3,3],[-3,3],c=\"r\")"
   ]
  },
  {
   "cell_type": "markdown",
   "id": "98d771e1",
   "metadata": {},
   "source": [
    "## Likelihood\n",
    "\n",
    "Manually with Cholesky vs. matrix-free approach with SPDE api."
   ]
  },
  {
   "cell_type": "code",
   "execution_count": null,
   "id": "dfaa0853",
   "metadata": {},
   "outputs": [],
   "source": [
    "def solveMat(cholQop,x):\n",
    "    return cholQop.solve_A(x)\n",
    "\n",
    "def invSigma(sigma2,Aproj,cholQop,x):\n",
    "    return 1./sigma2 * (x - 1./sigma2 * Aproj @ solveMat(cholQop, Aproj.T @ x))\n",
    "\n",
    "def detQ(cholQ):\n",
    "    return cholQ.logdet()\n",
    "\n",
    "x = dat[\"spde\"]\n",
    "ones = np.ones_like(x)\n",
    "invSigmaOnes = invSigma(nugget,Aproj,cholQop,ones)\n",
    "mu  = np.sum(x * invSigmaOnes)/np.sum( ones * invSigmaOnes) \n",
    "quad = np.sum((x-mu)*invSigma(nugget,Aproj,cholQop,x-mu))\n",
    "logdet = len(x) * np.log(nugget) - detQ(cholQ) + detQ(cholQop)\n",
    "\n",
    "print(f\"logdet_chol = {round(logdet,4)}\")\n",
    "print(f\"quad_chol = {round(quad,4)}\")\n",
    "print(f\"like_chol = {round(-0.5 * (quad + logdet + len(x) * np.log(2. * np.pi)),4)}\")"
   ]
  },
  {
   "cell_type": "code",
   "execution_count": null,
   "id": "e26ef7b1",
   "metadata": {},
   "outputs": [],
   "source": [
    "a_quad = spdeRes.computeQuad()\n",
    "print(f\"-> Relative difference quadratic = {round(100*(a_quad-quad)/quad,2)}%\")"
   ]
  },
  {
   "cell_type": "code",
   "execution_count": null,
   "id": "1d68b6b9",
   "metadata": {
    "scrolled": true
   },
   "outputs": [],
   "source": [
    "pcm = spdeRes.getPrecisionKrig()\n",
    "a_op = detQ(cholQop)\n",
    "b_op = pcm.computeLogDetOp(1)\n",
    "print(f\"log_det_op_chol = {round(a_op,4)}\")\n",
    "print(f\"log_det_op_api = {round(b_op,4)}\")\n",
    "print(f\"-> Relative difference = {round(100*(b_op-a_op)/a_op, 2)}%\")"
   ]
  },
  {
   "cell_type": "code",
   "execution_count": null,
   "id": "b403f1a6",
   "metadata": {},
   "outputs": [],
   "source": [
    "a_one = detQ(cholQ)\n",
    "b_one = pcm.computeLogDetQ(10)\n",
    "print(f\"log_det_Q_chol = {round(a_one,4)}\")\n",
    "print(f\"log_det_Q_api = {round(b_one,4)}\")\n",
    "print(f\"-> Relative difference = {round(100*(b_one-a_one)/a_one,2)}%\")"
   ]
  },
  {
   "cell_type": "code",
   "execution_count": null,
   "id": "7c119072",
   "metadata": {},
   "outputs": [],
   "source": [
    "a = -0.5 * (quad + logdet + len(x) * np.log(2. * np.pi))\n",
    "print(f\"likelihood api = {round(a,4)}\")\n",
    "\n",
    "model.setDriftIRF()\n",
    "spdeLL = gl.SPDE(model,grid,dat,gl.ESPDECalcMode.KRIGING,mesh,1)\n",
    "b = spdeLL.computeLogLikelihood(100)\n",
    "print(f\"likelihood_chol = {round(b,4)}\")\n",
    "print(f\"-> Relative Difference = {round(100*(b-a)/a,2)}%\")"
   ]
  },
  {
   "cell_type": "code",
   "execution_count": null,
   "id": "bc0ac030",
   "metadata": {},
   "outputs": [],
   "source": [
    "b2 = gl.logLikelihoodSPDE(dat,model,None,mesh,1)\n",
    "print(f\"likelihood by API {round(b2,4)}\")"
   ]
  }
 ],
 "metadata": {
  "kernelspec": {
   "display_name": "Python 3",
   "language": "python",
   "name": "python3"
  },
  "language_info": {
   "codemirror_mode": {
    "name": "ipython",
    "version": 3
   },
   "file_extension": ".py",
   "mimetype": "text/x-python",
   "name": "python",
   "nbconvert_exporter": "python",
   "pygments_lexer": "ipython3",
   "version": "3.10.5"
  },
  "toc": {
   "base_numbering": 1,
   "nav_menu": {},
   "number_sections": true,
   "sideBar": true,
   "skip_h1_title": true,
   "title_cell": "Table of Contents",
   "title_sidebar": "Contents",
   "toc_cell": false,
   "toc_position": {
    "height": "calc(100% - 180px)",
    "left": "10px",
    "top": "150px",
    "width": "302.6px"
   },
   "toc_section_display": true,
   "toc_window_display": false
  }
 },
 "nbformat": 4,
 "nbformat_minor": 5
}
