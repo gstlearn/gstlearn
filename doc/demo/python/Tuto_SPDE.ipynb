{
 "cells": [
  {
   "cell_type": "markdown",
   "id": "339358ce",
   "metadata": {},
   "source": [
    "# SPDE\n",
    "\n",
    "In this tutorial, we show how to use the API SPDE."
   ]
  },
  {
   "cell_type": "code",
   "execution_count": null,
   "id": "98da11c4",
   "metadata": {},
   "outputs": [],
   "source": [
    "import gstlearn as gl\n",
    "import gstlearn.plot as gp\n",
    "import numpy as np\n",
    "import matplotlib.pyplot as plt\n",
    "\n",
    "from sksparse.cholmod import cholesky\n",
    "import scipy as sc\n",
    "from scipy.sparse import *\n",
    "from scipy.sparse.linalg import *\n",
    "import numpy as np\n",
    "\n",
    "\n",
    "dat = gl.Db.create()\n",
    "ndat = 1000\n",
    "rangev = 0.2\n",
    "sill = 1.\n",
    "nugget = 0.1\n",
    "\n",
    "np.random.seed(123)\n",
    "dat[\"x\"] = np.random.uniform(size=ndat)\n",
    "dat[\"y\"] = np.random.uniform(size=ndat)\n",
    "dat.setLocators([\"x\",\"y\"],gl.ELoc.X)\n",
    "\n",
    "grid = gl.DbGrid.create([50,50],[0.02,0.02],[0,0])\n",
    "gridExt = gl.DbGrid.create([75,75],[0.02,0.02],[-0.25,-0.25])\n",
    "mesh = gl.MeshETurbo(gridExt)\n",
    "model = gl.Model.createFromParam(gl.ECov.BESSEL_K,param=1,range=rangev,sill=sill)\n",
    "model.addCovFromParam(gl.ECov.NUGGET,sill=nugget)\n",
    "\n",
    "spde = gl.SPDE()\n",
    "spde.init(model,grid,None,gl.ESPDECalcMode.SIMUNONCOND)\n"
   ]
  },
  {
   "cell_type": "code",
   "execution_count": null,
   "id": "329e67b0",
   "metadata": {},
   "outputs": [],
   "source": [
    "spde.compute()\n",
    "iuid = spde.query(dat)\n",
    "iuid = spde.query(grid)"
   ]
  },
  {
   "cell_type": "code",
   "execution_count": null,
   "id": "8f862c3c",
   "metadata": {},
   "outputs": [],
   "source": [
    "ax = gp.grid(grid,title=\"Non Conditional Simulation\")"
   ]
  },
  {
   "cell_type": "code",
   "execution_count": null,
   "id": "7518ce3d",
   "metadata": {},
   "outputs": [],
   "source": [
    "spdeRes = gl.SPDE()\n",
    "spdeRes.init(model,grid,dat,gl.ESPDECalcMode.KRIGING,mesh)\n",
    "spdeRes.compute()"
   ]
  },
  {
   "cell_type": "code",
   "execution_count": null,
   "id": "1b1d89b9",
   "metadata": {
    "scrolled": true
   },
   "outputs": [],
   "source": [
    "iuid = spdeRes.query(grid)\n",
    "ax = gp.grid(grid, title=\"Estimation\")"
   ]
  },
  {
   "cell_type": "code",
   "execution_count": null,
   "id": "37043937",
   "metadata": {},
   "outputs": [],
   "source": [
    "Qtr = gl.csToTriplet(spdeRes.getPrecisionOp().getQ())\n",
    "Pgl = gl.ProjMatrix(dat,mesh)\n",
    "Apgl = Pgl.getAproj()\n",
    "Atr = gl.csToTriplet(Apgl)\n",
    "Q = sc.sparse.csc_matrix((np.array(Qtr.values), (np.array(Qtr.rows), np.array(Qtr.cols))))\n",
    "Aproj = sc.sparse.csc_matrix((np.array(Atr.values), (np.array(Atr.rows), np.array(Atr.cols))),\n",
    "                         shape=(Atr.nrows,Atr.ncols))\n",
    "\n",
    "cholQ=cholesky(Q)\n",
    "u = np.random.normal(size = Q.shape[0])\n",
    "b = Q @ u\n",
    "print(np.max(np.abs(cholQ.solve_A(b) - u)))\n",
    "\n",
    "\n",
    "Qop = Q + 1/nugget * Aproj.T @ Aproj\n",
    "cholQop =  cholesky(Qop)"
   ]
  },
  {
   "cell_type": "code",
   "execution_count": null,
   "id": "ee9551b0",
   "metadata": {},
   "outputs": [],
   "source": [
    "def solveMat(cholQop,x):\n",
    "    return cholQop.solve_A(x)\n",
    "\n",
    "def invSigma(sigma2,Aproj,cholQop,x):\n",
    "    return 1./sigma2 * (x - 1./sigma2 * Aproj @ solveMat(cholQop, Aproj.T @ x))\n",
    "\n",
    "def detQ(cholQ):\n",
    "    return cholQ.logdet()\n",
    "\n",
    "x = dat[\"spde.simu\"]\n",
    "ones = np.ones_like(x)\n",
    "invSigmaOnes = invSigma(nugget,Aproj,cholQop,ones)\n",
    "mu  = np.sum(x * invSigmaOnes)/np.sum( ones * invSigmaOnes) \n",
    "quad = np.sum((x-mu)*invSigma(nugget,Aproj,cholQop,x-mu))\n",
    "logdet = len(x) * np.log(nugget) - detQ(cholQ) + detQ(cholQop)\n",
    "\n",
    "print(\"logdet_chol\",logdet)\n",
    "print(\"quad_chol\",quad)\n",
    "print(\"like_chol\",-0.5 * (quad + logdet))"
   ]
  },
  {
   "cell_type": "code",
   "execution_count": null,
   "id": "bdc7f3c2",
   "metadata": {},
   "outputs": [],
   "source": [
    "pcm = spdeRes.getPrecisionKriging()\n",
    "a = pcm.computeLogDetOp(1,0)\n",
    "b = detQ(cholQop)\n",
    "print(a)\n",
    "print(b)\n",
    "print((b-a)/a)"
   ]
  },
  {
   "cell_type": "code",
   "execution_count": null,
   "id": "ba9e42a8",
   "metadata": {},
   "outputs": [],
   "source": [
    "a = detQ(cholQ)\n",
    "b = pcm.computeLogDetQ(10,0)\n",
    "print(a)\n",
    "print(b)\n",
    "print((b-a)/a)"
   ]
  },
  {
   "cell_type": "code",
   "execution_count": null,
   "id": "8a0e7847",
   "metadata": {},
   "outputs": [],
   "source": [
    "a = spdeRes.computeLogLike(10,0)\n",
    "b = -0.5 * (quad + logdet)\n",
    "print(a)\n",
    "print(b)\n",
    "print((b-a)/b)"
   ]
  },
  {
   "cell_type": "code",
   "execution_count": null,
   "id": "cdbe6bd5",
   "metadata": {},
   "outputs": [],
   "source": [
    "pm = spdeRes.getPrecisionKriging()\n",
    "x =[np.random.uniform(size=mesh.getNApices())]\n",
    "y = gl.VectorVectorDouble()\n",
    "y.push_back(gl.VectorDouble(mesh.getNApices()))\n",
    "z = gl.VectorVectorDouble()\n",
    "z.push_back(gl.VectorDouble(mesh.getNApices()))\n",
    "pm.evalDirect(x,y)\n",
    "pm.evalInverse(y,z)\n",
    "#np.max(x[0]-z[0])"
   ]
  },
  {
   "cell_type": "code",
   "execution_count": null,
   "id": "4633c12a",
   "metadata": {},
   "outputs": [],
   "source": [
    "ax = gp.plot(dat, size=2, aspect=1, figsize=[6,6])"
   ]
  },
  {
   "cell_type": "code",
   "execution_count": null,
   "id": "805a2e2b",
   "metadata": {},
   "outputs": [],
   "source": [
    "dat"
   ]
  },
  {
   "cell_type": "code",
   "execution_count": null,
   "id": "406a17f1",
   "metadata": {},
   "outputs": [],
   "source": [
    "spdeRes = gl.SPDE()\n",
    "spdeRes.init(model,grid,dat,gl.ESPDECalcMode.KRIGING,mesh)\n",
    "spdeRes.compute()\n",
    "spdeRes.query(grid)\n",
    "spdeRes.computeQuad()"
   ]
  },
  {
   "cell_type": "code",
   "execution_count": null,
   "id": "e83ccc5a",
   "metadata": {
    "scrolled": true
   },
   "outputs": [],
   "source": [
    "gp.plot(grid, aspect=1, figsize=[6,6])"
   ]
  },
  {
   "cell_type": "code",
   "execution_count": null,
   "id": "67553520",
   "metadata": {},
   "outputs": [],
   "source": [
    "from scipy.optimize import minimize\n",
    "mesh = gl.MeshETurbo(gridExt)\n",
    "class storage :\n",
    "    def __init__(self):\n",
    "        pass\n",
    "            \n",
    "    def f(self,x) :\n",
    "        print(x**2)\n",
    "        self.model = gl.Model.createFromParam(gl.ECov.BESSEL_K,param=1,\n",
    "                                              range=x[0]**2,\n",
    "                                              sill=x[1]**2)\n",
    "        self.model.addCovFromParam(gl.ECov.NUGGET,sill=x[2]**2)\n",
    "        self.spde = gl.SPDE()\n",
    "        self.spde.init(self.model,grid,dat,gl.ESPDECalcMode.KRIGING,mesh)\n",
    "        self.spde.compute()\n",
    "        res = -self.spde.computeLogLike(10,12134)\n",
    "        print(res)\n",
    "        return res\n",
    "    \n",
    "    def fchol(self,x):\n",
    "        self.model = gl.Model.createFromParam(gl.ECov.BESSEL_K,param=1,\n",
    "                                              range=x[0]**2,\n",
    "                                              sill=x[1]**2)\n",
    "        self.model.addCovFromParam(gl.ECov.NUGGET,sill=x[2]**2)\n",
    "        self.spde = gl.SPDE()\n",
    "        self.spde.init(self.model,grid,dat,gl.ESPDECalcMode.KRIGING,mesh)\n",
    "        self.spde.compute()\n",
    "        Qtr = gl.csToTriplet(self.spde.getPrecisionOp().getQ())\n",
    "        Pgl = gl.ProjMatrix(dat,mesh)\n",
    "        Apgl = Pgl.getAproj()\n",
    "        Atr = gl.csToTriplet(Apgl)\n",
    "        Q = sc.sparse.csc_matrix((np.array(Qtr.values), (np.array(Qtr.rows), np.array(Qtr.cols))))\n",
    "        Aproj = sc.sparse.csc_matrix((np.array(Atr.values), (np.array(Atr.rows), np.array(Atr.cols))),\n",
    "                         shape=(Atr.nrows,Atr.ncols))\n",
    "        cholQ=cholesky(Q)\n",
    "        Qop = Q + 1/nugget * Aproj.T @ Aproj\n",
    "        cholQop =  cholesky(Qop)\n",
    "        x = dat[\"spde.simu\"]\n",
    "        ones = np.ones_like(x)\n",
    "        invSigmaOnes = invSigma(nugget,Aproj,cholQop,ones)\n",
    "        mu  = np.sum(x * invSigmaOnes)/np.sum( ones * invSigmaOnes) \n",
    "        quad = np.sum((x-mu)*invSigma(nugget,Aproj,cholQop,x-mu))\n",
    "        logdet = len(x) * np.log(nugget) - detQ(cholQ) + detQ(cholQop)\n",
    "        ones = np.ones_like(x)\n",
    "        invSigmaOnes = invSigma(nugget,Aproj,cholQop,ones)\n",
    "        mu  = np.sum(x * invSigmaOnes)/np.sum( ones * invSigmaOnes) \n",
    "        quad = np.sum((x-mu)*invSigma(nugget,Aproj,cholQop,x-mu))\n",
    "        logdet = len(x) * np.log(nugget) - detQ(cholQ) + detQ(cholQop)\n",
    "        return  0.5 * (logdet + quad)"
   ]
  },
  {
   "cell_type": "code",
   "execution_count": null,
   "id": "18e30d6e",
   "metadata": {},
   "outputs": [],
   "source": [
    "A = storage()\n",
    "trueParams = np.array([np.sqrt(rangev),np.sqrt(sill),np.sqrt(nugget)])\n",
    "print(trueParams**2)\n",
    "A.f(trueParams)"
   ]
  },
  {
   "cell_type": "code",
   "execution_count": null,
   "id": "54b713a1",
   "metadata": {},
   "outputs": [],
   "source": [
    "def cb(xk):\n",
    "    print(\"-----------------------------------------------------\")\n",
    "    print(xk**2)\n",
    "    \n",
    "    \n",
    "#paramsInit = np.sqrt([0.5,0.5,0.5])\n",
    "#res = minimize(A.f, paramsInit,callback=cb,method=\"BFGS\")\n"
   ]
  },
  {
   "cell_type": "code",
   "execution_count": null,
   "id": "4c803c2d",
   "metadata": {},
   "outputs": [],
   "source": [
    "trueParams\n",
    "\n",
    "u = np.linspace(np.sqrt(0.5),np.sqrt(1.5),20)\n",
    "res = [A.f(np.array([trueParams[0],i,trueParams[2]])) for i in u]\n",
    "res2 = [A.fchol(np.array([trueParams[0],i,trueParams[2]])) for i in u]\n"
   ]
  },
  {
   "cell_type": "code",
   "execution_count": null,
   "id": "18d20b16",
   "metadata": {},
   "outputs": [],
   "source": [
    "ax=plt.plot(u,-np.array(res2))\n",
    "ax=plt.plot(u,-np.array(res))\n",
    "\n",
    "#plt.vlines(1,-400,500)\n",
    "print(u[np.argmin(res2)]**2)\n",
    "print(u[np.argmin(res)]**2)"
   ]
  },
  {
   "cell_type": "code",
   "execution_count": null,
   "id": "b62cc693",
   "metadata": {},
   "outputs": [],
   "source": [
    "# Vraisemblance 2D dans les 2 cas\n"
   ]
  }
 ],
 "metadata": {
  "kernelspec": {
   "display_name": "Python 3 (ipykernel)",
   "language": "python",
   "name": "python3"
  },
  "language_info": {
   "codemirror_mode": {
    "name": "ipython",
    "version": 3
   },
   "file_extension": ".py",
   "mimetype": "text/x-python",
   "name": "python",
   "nbconvert_exporter": "python",
   "pygments_lexer": "ipython3",
   "version": "3.10.5"
  }
 },
 "nbformat": 4,
 "nbformat_minor": 5
}
