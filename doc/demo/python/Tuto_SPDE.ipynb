{
 "cells": [
  {
   "cell_type": "markdown",
   "id": "339358ce",
   "metadata": {},
   "source": [
    "# Stochastic Partial Derivative Equations"
   ]
  },
  {
   "cell_type": "markdown",
   "id": "f3440bb9",
   "metadata": {},
   "source": [
    "<!-- SUMMARY: Estimation and Simulations performed in the framework of SPDE -->\n",
    "\n",
    "<!-- CATEGORY: SPDE -->"
   ]
  },
  {
   "cell_type": "markdown",
   "id": "469a563f",
   "metadata": {},
   "source": [
    "In this tutorial, we show how to use the API SPDE"
   ]
  },
  {
   "cell_type": "code",
   "execution_count": 1,
   "id": "d2771b33",
   "metadata": {},
   "outputs": [
    {
     "data": {
      "application/javascript": [
       "\n",
       "IPython.OutputArea.prototype._should_scroll = function(lines) {\n",
       "    return false;\n",
       "}\n"
      ],
      "text/plain": [
       "<IPython.core.display.Javascript object>"
      ]
     },
     "metadata": {},
     "output_type": "display_data"
    }
   ],
   "source": [
    "import gstlearn as gl\n",
    "import gstlearn.plot as gp\n",
    "import gstlearn.document as gdoc\n",
    "import numpy as np\n",
    "import matplotlib.pyplot as plt\n",
    "\n",
    "from sksparse.cholmod import cholesky\n",
    "import scipy as sc\n",
    "from scipy.sparse import *\n",
    "from scipy.sparse.linalg import *\n",
    "import numpy as np\n",
    "\n",
    "gdoc.setNoScroll()\n"
   ]
  },
  {
   "cell_type": "markdown",
   "id": "193c573c",
   "metadata": {},
   "source": [
    "## Parameters"
   ]
  },
  {
   "cell_type": "code",
   "execution_count": 2,
   "id": "ab06aaa0",
   "metadata": {},
   "outputs": [],
   "source": [
    "# Data\n",
    "np.random.seed(123)\n",
    "ndat = 1000\n",
    "\n",
    "# Model\n",
    "rangev = 0.2\n",
    "sill = 1.\n",
    "nugget = 0.1\n",
    "\n",
    "# Grid \n",
    "nx = [50,50]\n",
    "dx = [0.02,0.02]\n",
    "x0 = [0,0]\n",
    "\n",
    "#Grid meshing\n",
    "nxm = [75,75]\n",
    "dxm = [0.02,0.02]\n",
    "x0m = [-0.25,-0.25]\n",
    "\n",
    "dbfmt = gl.DbStringFormat.createFromFlags(flag_stats=True, names=[\"spde*\"])"
   ]
  },
  {
   "cell_type": "markdown",
   "id": "519e68ee",
   "metadata": {},
   "source": [
    "### Grid and Meshing"
   ]
  },
  {
   "cell_type": "code",
   "execution_count": 3,
   "id": "7e38054d",
   "metadata": {},
   "outputs": [],
   "source": [
    "grid = gl.DbGrid.create(nx,dx,x0)\n",
    "gridExt = gl.DbGrid.create(nxm,dxm,x0m)\n",
    "mesh = gl.MeshETurbo(gridExt)"
   ]
  },
  {
   "cell_type": "markdown",
   "id": "663d65d6",
   "metadata": {},
   "source": [
    "### Model"
   ]
  },
  {
   "cell_type": "code",
   "execution_count": 4,
   "id": "689de4c0",
   "metadata": {},
   "outputs": [],
   "source": [
    "model = gl.Model.createFromParam(gl.ECov.BESSEL_K,param=1,range=rangev,sill=sill)\n",
    "model.addCovFromParam(gl.ECov.NUGGET,sill=nugget)"
   ]
  },
  {
   "cell_type": "markdown",
   "id": "cb600beb",
   "metadata": {},
   "source": [
    "### Data"
   ]
  },
  {
   "cell_type": "code",
   "execution_count": 5,
   "id": "d62946c9",
   "metadata": {},
   "outputs": [],
   "source": [
    "dat = gl.Db.create()\n",
    "dat[\"x\"] = np.random.uniform(size=ndat)\n",
    "dat[\"y\"] = np.random.uniform(size=ndat)\n",
    "dat.setLocators([\"x\",\"y\"],gl.ELoc.X)"
   ]
  },
  {
   "cell_type": "markdown",
   "id": "63d3b975",
   "metadata": {},
   "source": [
    "## SPDE non-conditional simulation"
   ]
  },
  {
   "cell_type": "markdown",
   "id": "201e7a2a",
   "metadata": {},
   "source": [
    "### Grid query"
   ]
  },
  {
   "cell_type": "code",
   "execution_count": 6,
   "id": "00301a71",
   "metadata": {},
   "outputs": [
    {
     "name": "stdout",
     "output_type": "stream",
     "text": [
      "\n",
      "Data Base Grid Characteristics\n",
      "==============================\n",
      "\n",
      "Data Base Summary\n",
      "-----------------\n",
      "File is organized as a regular grid\n",
      "Space dimension              = 2\n",
      "Number of Columns            = 4\n",
      "Total number of samples      = 2500\n",
      "\n",
      "Grid characteristics:\n",
      "---------------------\n",
      "Origin :      0.000     0.000\n",
      "Mesh   :      0.020     0.020\n",
      "Number :         50        50\n",
      "\n",
      "Data Base Statistics\n",
      "--------------------\n",
      "4 - Name spde - Locator z1\n",
      " Nb of data          =       2500\n",
      " Nb of active values =       2500\n",
      " Minimum value       =     -3.342\n",
      " Maximum value       =      3.300\n",
      " Mean value          =     -0.121\n",
      " Standard Deviation  =      1.007\n",
      " Variance            =      1.014\n",
      "\n",
      "Variables\n",
      "---------\n",
      "Column = 0 - Name = rank - Locator = NA\n",
      "Column = 1 - Name = x1 - Locator = x1\n",
      "Column = 2 - Name = x2 - Locator = x2\n",
      "Column = 3 - Name = spde - Locator = z1\n",
      " "
     ]
    }
   ],
   "source": [
    "spde = gl.SPDE(model,grid,None,gl.ESPDECalcMode.SIMUNONCOND)\n",
    "iuid = spde.compute(grid)\n",
    "grid.display(dbfmt)"
   ]
  },
  {
   "cell_type": "code",
   "execution_count": 7,
   "id": "8f862c3c",
   "metadata": {
    "scrolled": true
   },
   "outputs": [
    {
     "data": {
      "image/png": "[encoded data removed]",
      "text/plain": [
       "<Figure size 576x576 with 1 Axes>"
      ]
     },
     "metadata": {
      "needs_background": "light"
     },
     "output_type": "display_data"
    }
   ],
   "source": [
    "ax = grid.plot()\n",
    "ax.decoration(title=\"Non Conditional Simulation\")"
   ]
  },
  {
   "cell_type": "markdown",
   "id": "3702c31a",
   "metadata": {},
   "source": [
    "### Data query"
   ]
  },
  {
   "cell_type": "code",
   "execution_count": 8,
   "id": "98da11c4",
   "metadata": {},
   "outputs": [
    {
     "name": "stdout",
     "output_type": "stream",
     "text": [
      "\n",
      "Data Base Characteristics\n",
      "=========================\n",
      "\n",
      "Data Base Summary\n",
      "-----------------\n",
      "File is organized as a set of isolated points\n",
      "Space dimension              = 2\n",
      "Number of Columns            = 3\n",
      "Total number of samples      = 1000\n",
      "\n",
      "Data Base Statistics\n",
      "--------------------\n",
      "3 - Name spde - Locator z1\n",
      " Nb of data          =       1000\n",
      " Nb of active values =       1000\n",
      " Minimum value       =     -2.993\n",
      " Maximum value       =      2.428\n",
      " Mean value          =     -0.157\n",
      " Standard Deviation  =      1.014\n",
      " Variance            =      1.028\n",
      "\n",
      "Variables\n",
      "---------\n",
      "Column = 0 - Name = x - Locator = x1\n",
      "Column = 1 - Name = y - Locator = x2\n",
      "Column = 2 - Name = spde - Locator = z1\n",
      " "
     ]
    }
   ],
   "source": [
    "iuid = spde.compute(dat)\n",
    "dat.display(dbfmt)"
   ]
  },
  {
   "cell_type": "markdown",
   "id": "7c5ea763",
   "metadata": {},
   "source": [
    "## Kriging"
   ]
  },
  {
   "cell_type": "code",
   "execution_count": 9,
   "id": "7518ce3d",
   "metadata": {},
   "outputs": [
    {
     "name": "stdout",
     "output_type": "stream",
     "text": [
      "\n",
      "Data Base Grid Characteristics\n",
      "==============================\n",
      "\n",
      "Data Base Summary\n",
      "-----------------\n",
      "File is organized as a regular grid\n",
      "Space dimension              = 2\n",
      "Number of Columns            = 5\n",
      "Total number of samples      = 2500\n",
      "\n",
      "Grid characteristics:\n",
      "---------------------\n",
      "Origin :      0.000     0.000\n",
      "Mesh   :      0.020     0.020\n",
      "Number :         50        50\n",
      "\n",
      "Data Base Statistics\n",
      "--------------------\n",
      "4 - Name spde - Locator NA\n",
      " Nb of data          =       2500\n",
      " Nb of active values =       2500\n",
      " Minimum value       =     -3.342\n",
      " Maximum value       =      3.300\n",
      " Mean value          =     -0.121\n",
      " Standard Deviation  =      1.007\n",
      " Variance            =      1.014\n",
      "5 - Name spde.spde.estim - Locator z1\n",
      " Nb of data          =       2500\n",
      " Nb of active values =       2500\n",
      " Minimum value       =     -2.554\n",
      " Maximum value       =      2.026\n",
      " Mean value          =     -0.137\n",
      " Standard Deviation  =      0.885\n",
      " Variance            =      0.784\n",
      "\n",
      "Variables\n",
      "---------\n",
      "Column = 0 - Name = rank - Locator = NA\n",
      "Column = 1 - Name = x1 - Locator = x1\n",
      "Column = 2 - Name = x2 - Locator = x2\n",
      "Column = 3 - Name = spde - Locator = NA\n",
      "Column = 4 - Name = spde.spde.estim - Locator = z1\n",
      " "
     ]
    }
   ],
   "source": [
    "spdeRes = gl.SPDE(model,grid,dat,gl.ESPDECalcMode.KRIGING,mesh,1)\n",
    "iuid = spdeRes.compute(grid)\n",
    "grid.display(dbfmt)"
   ]
  },
  {
   "cell_type": "code",
   "execution_count": 10,
   "id": "1b1d89b9",
   "metadata": {},
   "outputs": [
    {
     "data": {
      "image/png": "[encoded data removed]",
      "text/plain": [
       "<Figure size 576x576 with 1 Axes>"
      ]
     },
     "metadata": {
      "needs_background": "light"
     },
     "output_type": "display_data"
    }
   ],
   "source": [
    "ax = grid.plot()\n",
    "ax.decoration(title=\"Estimation\")"
   ]
  },
  {
   "cell_type": "markdown",
   "id": "adaa66b1",
   "metadata": {},
   "source": [
    "## Manually"
   ]
  },
  {
   "cell_type": "markdown",
   "id": "b27a032e",
   "metadata": {},
   "source": [
    "### Projection Matrix: mesh to grid"
   ]
  },
  {
   "cell_type": "code",
   "execution_count": 11,
   "id": "50c0c289",
   "metadata": {},
   "outputs": [],
   "source": [
    "Pglg = gl.ProjMatrix(grid,mesh)\n",
    "Aprojg = Pglg.toTL()"
   ]
  },
  {
   "cell_type": "markdown",
   "id": "a831c33c",
   "metadata": {},
   "source": [
    "### Simulation"
   ]
  },
  {
   "cell_type": "code",
   "execution_count": 12,
   "id": "9ef360f9",
   "metadata": {},
   "outputs": [],
   "source": [
    "Q = spdeRes.getPrecisionOpCs().getQ().toTL()\n",
    "cholQ = cholesky(Q)"
   ]
  },
  {
   "cell_type": "code",
   "execution_count": 13,
   "id": "aa54046a",
   "metadata": {
    "scrolled": false
   },
   "outputs": [
    {
     "name": "stdout",
     "output_type": "stream",
     "text": [
      "Variance = 1.1733\n"
     ]
    },
    {
     "data": {
      "image/png": "[encoded data removed]",
      "text/plain": [
       "<Figure size 576x576 with 1 Axes>"
      ]
     },
     "metadata": {
      "needs_background": "light"
     },
     "output_type": "display_data"
    }
   ],
   "source": [
    "u = np.random.normal(size = Q.shape[0])\n",
    "gridExt[\"simuManual\"] = cholQ.apply_Pt(cholQ.solve_Lt(1./np.sqrt(cholQ.D())*u))\n",
    "gridExt.addSelection((gridExt[\"x1\"]>0) & (gridExt[\"x2\"]>0) & (gridExt[\"x1\"]<1.) & (gridExt[\"x2\"]<1.))\n",
    "ax = gridExt.plot(\"simuManual\",useSel=False)\n",
    "print(\"Variance =\",round(np.var(gridExt[\"simuManual\"][np.where(gridExt[\"NewSel\"]==1)]),4))"
   ]
  },
  {
   "cell_type": "markdown",
   "id": "ad5357e9",
   "metadata": {},
   "source": [
    "### Kriging"
   ]
  },
  {
   "cell_type": "code",
   "execution_count": 14,
   "id": "37043937",
   "metadata": {},
   "outputs": [],
   "source": [
    "Pgl = gl.ProjMatrix(dat,mesh)\n",
    "Aproj = Pgl.toTL()\n",
    "\n",
    "Qop = Q + 1/nugget * Aproj.T @ Aproj\n",
    "cholQop =  cholesky(Qop)\n",
    "\n",
    "kriging = cholQop.solve_A(Aproj.T @ (dat[\"spde*\"]/nugget))"
   ]
  },
  {
   "cell_type": "code",
   "execution_count": 15,
   "id": "2a72da56",
   "metadata": {},
   "outputs": [],
   "source": [
    "grid[\"manually\"] = Aprojg @ kriging"
   ]
  },
  {
   "cell_type": "code",
   "execution_count": 16,
   "id": "f2974b31",
   "metadata": {},
   "outputs": [
    {
     "data": {
      "image/png": "[encoded data removed]",
      "text/plain": [
       "<Figure size 432x288 with 1 Axes>"
      ]
     },
     "metadata": {
      "needs_background": "light"
     },
     "output_type": "display_data"
    }
   ],
   "source": [
    "ax = plt.scatter(grid[\"manually\"],grid[\"*estim\"],s=1)\n",
    "p = plt.plot([-3,3],[-3,3],c=\"r\")"
   ]
  },
  {
   "cell_type": "markdown",
   "id": "dd86da83",
   "metadata": {},
   "source": [
    "## Likelihood\n",
    "\n",
    "Manually with Cholesky vs. matrix-free approach with SPDE api."
   ]
  },
  {
   "cell_type": "code",
   "execution_count": 17,
   "id": "ee9551b0",
   "metadata": {
    "scrolled": false
   },
   "outputs": [
    {
     "name": "stdout",
     "output_type": "stream",
     "text": [
      "logdet_chol -1261.3613\n",
      "quad_chol 1118.4871\n",
      "like_chol 71.4371\n"
     ]
    }
   ],
   "source": [
    "def solveMat(cholQop,x):\n",
    "    return cholQop.solve_A(x)\n",
    "\n",
    "def invSigma(sigma2,Aproj,cholQop,x):\n",
    "    return 1./sigma2 * (x - 1./sigma2 * Aproj @ solveMat(cholQop, Aproj.T @ x))\n",
    "\n",
    "def detQ(cholQ):\n",
    "    return cholQ.logdet()\n",
    "\n",
    "x = dat[\"spde\"]\n",
    "ones = np.ones_like(x)\n",
    "invSigmaOnes = invSigma(nugget,Aproj,cholQop,ones)\n",
    "mu  = np.sum(x * invSigmaOnes)/np.sum( ones * invSigmaOnes) \n",
    "quad = np.sum((x-mu)*invSigma(nugget,Aproj,cholQop,x-mu))\n",
    "logdet = len(x) * np.log(nugget) - detQ(cholQ) + detQ(cholQop)\n",
    "\n",
    "print(\"logdet_chol\",round(logdet,4))\n",
    "print(\"quad_chol\",round(quad,4))\n",
    "print(\"like_chol\",round(-0.5 * (quad + logdet),4))"
   ]
  },
  {
   "cell_type": "code",
   "execution_count": 18,
   "id": "1d1d34c4",
   "metadata": {},
   "outputs": [
    {
     "name": "stdout",
     "output_type": "stream",
     "text": [
      "-> Relative difference quadratic = 0.01 %\n"
     ]
    }
   ],
   "source": [
    "a_quad = spdeRes.computeQuad()\n",
    "print(\"-> Relative difference quadratic =\",round(100*(a_quad-quad)/quad,2),\"%\")"
   ]
  },
  {
   "cell_type": "code",
   "execution_count": 19,
   "id": "bdc7f3c2",
   "metadata": {},
   "outputs": [
    {
     "name": "stdout",
     "output_type": "stream",
     "text": [
      "log_det_op_chol 12296.9389\n",
      "log_det_op_api 12296.9389\n",
      "-> Relative difference = 0.0 %\n"
     ]
    }
   ],
   "source": [
    "pcm = spdeRes.getPrecisionKrig()\n",
    "a_op = detQ(cholQop)\n",
    "b_op = pcm.computeLogDetOp(1,0)\n",
    "print(\"log_det_op_chol\",round(a_op,4))\n",
    "print(\"log_det_op_api\",round(b_op,4))\n",
    "print(\"-> Relative difference =\",round(100*(b_op-a_op)/a_op, 2),\"%\")"
   ]
  },
  {
   "cell_type": "code",
   "execution_count": 20,
   "id": "ba9e42a8",
   "metadata": {},
   "outputs": [
    {
     "name": "stdout",
     "output_type": "stream",
     "text": [
      "log_det_Q_chol 11255.7151\n",
      "log_det_Q_api 11255.7151\n",
      "-> Relative difference = 0.0 %\n"
     ]
    }
   ],
   "source": [
    "a_one = detQ(cholQ)\n",
    "b_one = pcm.computeLogDetQ(10,0)\n",
    "print(\"log_det_Q_chol\",round(a_one,4))\n",
    "print(\"log_det_Q_api\",round(b_one,4))\n",
    "print(\"-> Relative difference =\",round(100*(b_one-a_one)/a_one,2),\"%\")"
   ]
  },
  {
   "cell_type": "code",
   "execution_count": 21,
   "id": "8a0e7847",
   "metadata": {},
   "outputs": [
    {
     "name": "stdout",
     "output_type": "stream",
     "text": [
      "likelihood api 71.4371\n",
      "likelihood_chol 71.3714\n",
      "-> Relative Difference = -0.09 %\n"
     ]
    }
   ],
   "source": [
    "a = -0.5 * (quad + logdet)\n",
    "b = spdeRes.computeLogLike(100,0)\n",
    "print(\"likelihood api\",round(a,4))\n",
    "print(\"likelihood_chol\",round(b,4))\n",
    "print(\"-> Relative Difference =\",round(100*(b-a)/a,2),\"%\")"
   ]
  },
  {
   "cell_type": "code",
   "execution_count": 22,
   "id": "bc35a04c",
   "metadata": {},
   "outputs": [
    {
     "data": {
      "text/plain": [
       "\n",
       "Data Base Grid Characteristics\n",
       "==============================\n",
       "\n",
       "Data Base Summary\n",
       "-----------------\n",
       "File is organized as a regular grid\n",
       "Space dimension              = 2\n",
       "Number of Columns            = 6\n",
       "Total number of samples      = 2500\n",
       "\n",
       "Grid characteristics:\n",
       "---------------------\n",
       "Origin :      0.000     0.000\n",
       "Mesh   :      0.020     0.020\n",
       "Number :         50        50\n",
       "\n",
       "Variables\n",
       "---------\n",
       "Column = 0 - Name = rank - Locator = NA\n",
       "Column = 1 - Name = x1 - Locator = x1\n",
       "Column = 2 - Name = x2 - Locator = x2\n",
       "Column = 3 - Name = spde - Locator = NA\n",
       "Column = 4 - Name = spde.spde.estim - Locator = z1\n",
       "Column = 5 - Name = manually - Locator = NA"
      ]
     },
     "execution_count": 22,
     "metadata": {},
     "output_type": "execute_result"
    }
   ],
   "source": [
    "grid"
   ]
  },
  {
   "cell_type": "code",
   "execution_count": 23,
   "id": "492607bc",
   "metadata": {},
   "outputs": [
    {
     "name": "stdout",
     "output_type": "stream",
     "text": [
      "71.4370723012239\n"
     ]
    }
   ],
   "source": [
    "model.setDriftIRF()\n",
    "spdeLL = gl.SPDE(model,grid,dat,gl.ESPDECalcMode.KRIGING,mesh,1)\n",
    "iuid = spdeLL.compute(grid)\n",
    "b1 = spdeLL.computeLogLike(100,0)\n",
    "print(b1)"
   ]
  },
  {
   "cell_type": "code",
   "execution_count": 24,
   "id": "d66770c7",
   "metadata": {},
   "outputs": [
    {
     "data": {
      "text/plain": [
       "\n",
       "Data Base Grid Characteristics\n",
       "==============================\n",
       "\n",
       "Data Base Summary\n",
       "-----------------\n",
       "File is organized as a regular grid\n",
       "Space dimension              = 2\n",
       "Number of Columns            = 7\n",
       "Total number of samples      = 2500\n",
       "\n",
       "Grid characteristics:\n",
       "---------------------\n",
       "Origin :      0.000     0.000\n",
       "Mesh   :      0.020     0.020\n",
       "Number :         50        50\n",
       "\n",
       "Variables\n",
       "---------\n",
       "Column = 0 - Name = rank - Locator = NA\n",
       "Column = 1 - Name = x1 - Locator = x1\n",
       "Column = 2 - Name = x2 - Locator = x2\n",
       "Column = 3 - Name = spde - Locator = NA\n",
       "Column = 4 - Name = spde.spde.estim - Locator = NA\n",
       "Column = 5 - Name = manually - Locator = NA\n",
       "Column = 6 - Name = spde.spde.estim.1 - Locator = z1"
      ]
     },
     "execution_count": 24,
     "metadata": {},
     "output_type": "execute_result"
    }
   ],
   "source": [
    "grid"
   ]
  },
  {
   "cell_type": "code",
   "execution_count": null,
   "id": "a1f55839",
   "metadata": {},
   "outputs": [],
   "source": []
  }
 ],
 "metadata": {
  "kernelspec": {
   "display_name": "Python 3 (ipykernel)",
   "language": "python",
   "name": "python3"
  },
  "language_info": {
   "codemirror_mode": {
    "name": "ipython",
    "version": 3
   },
   "file_extension": ".py",
   "mimetype": "text/x-python",
   "name": "python",
   "nbconvert_exporter": "python",
   "pygments_lexer": "ipython3",
   "version": "3.10.5"
  },
  "toc": {
   "base_numbering": 1,
   "nav_menu": {},
   "number_sections": true,
   "sideBar": true,
   "skip_h1_title": true,
   "title_cell": "Table of Contents",
   "title_sidebar": "Contents",
   "toc_cell": false,
   "toc_position": {
    "height": "calc(100% - 180px)",
    "left": "10px",
    "top": "150px",
    "width": "302.6px"
   },
   "toc_section_display": true,
   "toc_window_display": false
  }
 },
 "nbformat": 4,
 "nbformat_minor": 5
}
