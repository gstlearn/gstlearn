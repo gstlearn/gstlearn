{
 "cells": [
  {
   "cell_type": "markdown",
   "id": "17a695d4",
   "metadata": {},
   "source": [
    "# Stochastic Partial Derivative Equations"
   ]
  },
  {
   "cell_type": "markdown",
   "id": "4d2cfe64",
   "metadata": {},
   "source": [
    "<!-- SUMMARY: Estimation and Simulations performed in the framework of SPDE -->\n",
    "\n",
    "<!-- CATEGORY: SPDE -->"
   ]
  },
  {
   "cell_type": "markdown",
   "id": "ca84ed42",
   "metadata": {},
   "source": [
    "In this tutorial, we show how to use the SPDE. We compare some calculations performed *by hand* with the results obtained through gstlearn API interfaces. Note that we also consider (probably temporarily) the Old interface (instantiating the SPDE class and performing subsequent calculations within this class) and the new interface where individual functions are designed for Kriging, Simulating and calculating LogLikelihood."
   ]
  },
  {
   "cell_type": "code",
   "execution_count": null,
   "id": "c97c2d16",
   "metadata": {},
   "outputs": [],
   "source": [
    "import gstlearn as gl\n",
    "import gstlearn.plot as gp\n",
    "import gstlearn.document as gdoc\n",
    "import numpy as np\n",
    "import matplotlib.pyplot as plt\n",
    "\n",
    "from sksparse.cholmod import cholesky\n",
    "import scipy as sc\n",
    "from scipy.sparse import *\n",
    "from scipy.sparse.linalg import *\n",
    "import numpy as np\n",
    "\n",
    "gdoc.setNoScroll()"
   ]
  },
  {
   "cell_type": "markdown",
   "id": "9233b6cf",
   "metadata": {},
   "source": [
    "## Parameters"
   ]
  },
  {
   "cell_type": "code",
   "execution_count": null,
   "id": "fbbfc56f",
   "metadata": {},
   "outputs": [],
   "source": [
    "# Data\n",
    "np.random.seed(123)\n",
    "ndat = 1000\n",
    "\n",
    "# Model\n",
    "rangev = 0.2\n",
    "sill = 1.\n",
    "nugget = 0.1\n",
    "\n",
    "# Grid \n",
    "nx = [50,50]\n",
    "dx = [0.02,0.02]\n",
    "x0 = [0,0]\n",
    "\n",
    "#Grid meshing\n",
    "nxm = [75,75]\n",
    "dxm = [0.02,0.02]\n",
    "x0m = [-0.25,-0.25]\n",
    "\n",
    "dbfmt = gl.DbStringFormat.createFromFlags(flag_stats=True, names=[\"spde*\"])"
   ]
  },
  {
   "cell_type": "markdown",
   "id": "4c097809",
   "metadata": {},
   "source": [
    "### Grid and Meshing"
   ]
  },
  {
   "cell_type": "code",
   "execution_count": null,
   "id": "42336100",
   "metadata": {},
   "outputs": [],
   "source": [
    "grid = gl.DbGrid.create(nx,dx,x0)\n",
    "gridExt = gl.DbGrid.create(nxm,dxm,x0m)\n",
    "mesh = gl.MeshETurbo(gridExt)"
   ]
  },
  {
   "cell_type": "markdown",
   "id": "7d34edee",
   "metadata": {},
   "source": [
    "### Model"
   ]
  },
  {
   "cell_type": "code",
   "execution_count": null,
   "id": "a797b73e",
   "metadata": {},
   "outputs": [],
   "source": [
    "model = gl.Model.createFromParam(gl.ECov.MATERN,param=1,range=rangev,sill=sill)\n",
    "model.addCovFromParam(gl.ECov.NUGGET,sill=nugget)\n",
    "model.setDriftIRF()"
   ]
  },
  {
   "cell_type": "code",
   "execution_count": null,
   "id": "824fd686",
   "metadata": {},
   "outputs": [],
   "source": [
    "model"
   ]
  },
  {
   "cell_type": "markdown",
   "id": "8ee82980",
   "metadata": {},
   "source": [
    "### Data"
   ]
  },
  {
   "cell_type": "code",
   "execution_count": null,
   "id": "e9ba497b",
   "metadata": {},
   "outputs": [],
   "source": [
    "dat = gl.Db.create()\n",
    "dat[\"x\"] = np.random.uniform(size=ndat)\n",
    "dat[\"y\"] = np.random.uniform(size=ndat)\n",
    "dat.setLocators([\"x\",\"y\"],gl.ELoc.X)"
   ]
  },
  {
   "cell_type": "markdown",
   "id": "5e82dfce",
   "metadata": {},
   "source": [
    "## SPDE non-conditional simulation"
   ]
  },
  {
   "cell_type": "markdown",
   "id": "76c09c62",
   "metadata": {},
   "source": [
    "### Grid query"
   ]
  },
  {
   "cell_type": "code",
   "execution_count": null,
   "id": "6811ad69",
   "metadata": {},
   "outputs": [],
   "source": [
    "spde = gl.SPDE(model,grid,None,gl.ESPDECalcMode.SIMUNONCOND)\n",
    "gl.law_set_random_seed(131351)\n",
    "iuid = spde.compute(grid)\n",
    "grid.display(dbfmt)"
   ]
  },
  {
   "cell_type": "code",
   "execution_count": null,
   "id": "76c417bb",
   "metadata": {},
   "outputs": [],
   "source": [
    "gp.init(figsize=[7,7],flagEqual=True)\n",
    "gp.raster(grid)\n",
    "gp.decoration(title=\"Non Conditional Simulation\")"
   ]
  },
  {
   "cell_type": "markdown",
   "id": "bd19591e",
   "metadata": {},
   "source": [
    "### Data query"
   ]
  },
  {
   "cell_type": "code",
   "execution_count": null,
   "id": "57e2c56a",
   "metadata": {},
   "outputs": [],
   "source": [
    "gl.law_set_random_seed(131351)\n",
    "iuid = spde.compute(dat)\n",
    "dat.display(dbfmt)"
   ]
  },
  {
   "cell_type": "markdown",
   "id": "ee38a05c",
   "metadata": {},
   "source": [
    "## Kriging"
   ]
  },
  {
   "cell_type": "code",
   "execution_count": null,
   "id": "0c878184",
   "metadata": {},
   "outputs": [],
   "source": [
    "spdeRes = gl.SPDE(model,grid,dat,gl.ESPDECalcMode.KRIGING,mesh,1)\n",
    "iuid = spdeRes.compute(grid)\n",
    "grid.display(dbfmt)"
   ]
  },
  {
   "cell_type": "code",
   "execution_count": null,
   "id": "610e7332",
   "metadata": {},
   "outputs": [],
   "source": [
    "gp.init(figsize=[7,7],flagEqual=True)\n",
    "gp.raster(grid)\n",
    "gp.symbol(dat, c='black')\n",
    "gp.decoration(title=\"Estimation\")"
   ]
  },
  {
   "cell_type": "markdown",
   "id": "e9823724",
   "metadata": {},
   "source": [
    "## Manually"
   ]
  },
  {
   "cell_type": "markdown",
   "id": "4b79cf3a",
   "metadata": {},
   "source": [
    "### Projection Matrix: mesh to grid"
   ]
  },
  {
   "cell_type": "code",
   "execution_count": null,
   "id": "b4ab0314",
   "metadata": {},
   "outputs": [],
   "source": [
    "Pglg = gl.ProjMatrix(grid,mesh)\n",
    "Aprojg = Pglg.toTL()"
   ]
  },
  {
   "cell_type": "markdown",
   "id": "3d7bde89",
   "metadata": {},
   "source": [
    "### Simulation"
   ]
  },
  {
   "cell_type": "code",
   "execution_count": null,
   "id": "de7c2413",
   "metadata": {},
   "outputs": [],
   "source": [
    "Q = spdeRes.getPrecisionOpMatrix().getQ().toTL()\n",
    "cholQ = cholesky(Q)"
   ]
  },
  {
   "cell_type": "code",
   "execution_count": null,
   "id": "55ce93d5",
   "metadata": {},
   "outputs": [],
   "source": [
    "u = np.random.normal(size = Q.shape[0])\n",
    "gridExt[\"simuManual\"] = cholQ.apply_Pt(cholQ.solve_Lt(1./np.sqrt(cholQ.D())*u))\n",
    "gridExt.addSelection((gridExt[\"x1\"]>0) & (gridExt[\"x2\"]>0) & (gridExt[\"x1\"]<1.) & (gridExt[\"x2\"]<1.))\n",
    "\n",
    "gp.init(figsize=[7,7],flagEqual=True)\n",
    "gp.raster(gridExt, \"simuManual\", useSel=False)\n",
    "gp.decoration(title=\"Simulation (manual)\")\n",
    "print(f\"Variance = {round(np.var(gridExt['simuManual'][np.where(gridExt['NewSel']==1)]),4)}\")"
   ]
  },
  {
   "cell_type": "markdown",
   "id": "797868fb",
   "metadata": {},
   "source": [
    "### Kriging"
   ]
  },
  {
   "cell_type": "code",
   "execution_count": null,
   "id": "1b90e0cf",
   "metadata": {},
   "outputs": [],
   "source": [
    "Pgl = gl.ProjMatrix(dat,mesh)\n",
    "Aproj = Pgl.toTL()\n",
    "\n",
    "Qop = Q + 1/nugget * Aproj.T @ Aproj\n",
    "cholQop =  cholesky(Qop)\n",
    "\n",
    "kriging = cholQop.solve_A(Aproj.T @ (dat[\"spde*\"]/nugget))\n",
    "grid[\"manually\"] = Aprojg @ kriging"
   ]
  },
  {
   "cell_type": "code",
   "execution_count": null,
   "id": "f529fad7",
   "metadata": {},
   "outputs": [],
   "source": [
    "ax = plt.scatter(grid[\"manually\"],grid[\"*estim\"],s=1)\n",
    "p = plt.plot([-3,3],[-3,3],c=\"r\")"
   ]
  },
  {
   "cell_type": "markdown",
   "id": "e5720944",
   "metadata": {},
   "source": [
    "## Likelihood\n",
    "\n",
    "Manually with Cholesky vs. matrix-free approach with SPDE api."
   ]
  },
  {
   "cell_type": "code",
   "execution_count": null,
   "id": "1f64827a",
   "metadata": {
    "scrolled": false
   },
   "outputs": [],
   "source": [
    "def solveMat(cholQop,x):\n",
    "    return cholQop.solve_A(x)\n",
    "\n",
    "def invSigma(sigma2,Aproj,cholQop,x):\n",
    "    return 1./sigma2 * (x - 1./sigma2 * Aproj @ solveMat(cholQop, Aproj.T @ x))\n",
    "\n",
    "def detQ(cholQ):\n",
    "    return cholQ.logdet()\n",
    "\n",
    "x = dat[\"spde\"]\n",
    "ones = np.ones_like(x)\n",
    "invSigmaOnes = invSigma(nugget,Aproj,cholQop,ones)\n",
    "mu  = np.sum(x * invSigmaOnes) / np.sum(ones * invSigmaOnes) \n",
    "nMC = 100\n",
    "print(f\"Value for MU = {round(mu,4)}\")"
   ]
  },
  {
   "cell_type": "code",
   "execution_count": null,
   "id": "a153d7ae",
   "metadata": {},
   "outputs": [],
   "source": [
    "a_quad = np.sum((x-mu)*invSigma(nugget,Aproj,cholQop,x-mu))\n",
    "b_quad = spdeRes.computeQuad()\n",
    "print(f\"Quadratic (manual)  = {round(a_quad,4)}\")\n",
    "print(f\"Quadratic (api-old) = {round(b_quad,4)}\")\n",
    "print(f\"-> Relative difference quadratic = {round(100*(b_quad - a_quad) / a_quad,2)}%\")"
   ]
  },
  {
   "cell_type": "code",
   "execution_count": null,
   "id": "aa1439f2",
   "metadata": {
    "scrolled": true
   },
   "outputs": [],
   "source": [
    "a_op = detQ(cholQop)\n",
    "b_op = spdeRes.getPrecisionKrig().computeLogDetOp(1)\n",
    "print(f\"log_det_op (manual)  = {round(a_op,4)}\")\n",
    "print(f\"log_det_op (api-old) = {round(b_op,4)}\")\n",
    "print(f\"-> Relative difference = {round(100*(b_op-a_op)/a_op, 2)}%\")"
   ]
  },
  {
   "cell_type": "code",
   "execution_count": null,
   "id": "7126a6a7",
   "metadata": {
    "scrolled": true
   },
   "outputs": [],
   "source": [
    "a_one = detQ(cholQ)\n",
    "b_one = spdeRes.getPrecisionKrig().computeLogDetQ(10)\n",
    "print(f\"log_det_Q (manual)  = {round(a_one,4)}\")\n",
    "print(f\"log_det_Q (api-old) = {round(b_one,4)}\")\n",
    "print(f\"-> Relative difference = {round(100*(b_one-a_one)/a_one,2)}%\")"
   ]
  },
  {
   "cell_type": "markdown",
   "id": "8efb37c4",
   "metadata": {},
   "source": [
    "### Comparing the different outputs"
   ]
  },
  {
   "cell_type": "markdown",
   "id": "0349d016",
   "metadata": {},
   "source": [
    "- Manual calculation"
   ]
  },
  {
   "cell_type": "code",
   "execution_count": null,
   "id": "759588df",
   "metadata": {},
   "outputs": [],
   "source": [
    "logdetnoise = len(x) * np.log(nugget)\n",
    "logdet = a_op - a_one + logdetnoise\n",
    "a = -0.5 * (a_quad + logdet + len(x) * np.log(2. * np.pi))\n",
    "print(\"Likelihood calculation (manual):\")\n",
    "print(f\"log_det_op      = {round(a_op,4)}\")\n",
    "print(f\"log_det_Q       = {round(a_one,4)}\")\n",
    "print(f\"log_det_Noise   = {round(logdetnoise,4)}\")\n",
    "print(f\"log_determinant = {round(logdet,4)}\")\n",
    "print(f\"Quadratic term  = {round(a_quad,4)}\")\n",
    "print(f\"-> Likelihood (manual) = {round(a,4)}\")"
   ]
  },
  {
   "cell_type": "markdown",
   "id": "546e3d37",
   "metadata": {},
   "source": [
    "- Using the old API "
   ]
  },
  {
   "cell_type": "code",
   "execution_count": null,
   "id": "87182a8b",
   "metadata": {},
   "outputs": [],
   "source": [
    "spdeLL = gl.SPDE(model,grid,dat,gl.ESPDECalcMode.KRIGING,mesh,1)\n",
    "b = spdeLL.computeLogLikelihood(nMC, verbose=True)\n",
    "print(f\"-> likelihood (api-old) = {round(b,4)}\")"
   ]
  },
  {
   "cell_type": "markdown",
   "id": "2bae51b9",
   "metadata": {},
   "source": [
    "- Using the new API (we use the same 'mesh' as for the manual case to obtain the same results)."
   ]
  },
  {
   "cell_type": "code",
   "execution_count": null,
   "id": "984e1420",
   "metadata": {
    "scrolled": true
   },
   "outputs": [],
   "source": [
    "useCholesky = 1\n",
    "params = gl.SPDEParam.create(nMC=nMC)\n",
    "meshes = [mesh]\n",
    "b2 = gl.logLikelihoodSPDE(dat,model,useCholesky=useCholesky, meshes=meshes, params=params, verbose=True)\n",
    "print(f\"-> likelihood (api-new) cholesky=1 {round(b2,4)}\")"
   ]
  },
  {
   "cell_type": "code",
   "execution_count": null,
   "id": "a0a87db5",
   "metadata": {},
   "outputs": [],
   "source": [
    "useCholesky = 0\n",
    "b2 = gl.logLikelihoodSPDE(dat,model,useCholesky=useCholesky, meshes=meshes, params=params, verbose=True)\n",
    "print(f\"-> likelihood by New API with cholesky=0 {round(b2,4)}\")"
   ]
  }
 ],
 "metadata": {
  "kernelspec": {
   "display_name": "Python 3 (ipykernel)",
   "language": "python",
   "name": "python3"
  },
  "language_info": {
   "codemirror_mode": {
    "name": "ipython",
    "version": 3
   },
   "file_extension": ".py",
   "mimetype": "text/x-python",
   "name": "python",
   "nbconvert_exporter": "python",
   "pygments_lexer": "ipython3",
   "version": "3.10.5"
  },
  "toc": {
   "base_numbering": 1,
   "nav_menu": {},
   "number_sections": true,
   "sideBar": true,
   "skip_h1_title": true,
   "title_cell": "Table of Contents",
   "title_sidebar": "Contents",
   "toc_cell": false,
   "toc_position": {
    "height": "calc(100% - 180px)",
    "left": "10px",
    "top": "150px",
    "width": "302.6px"
   },
   "toc_section_display": true,
   "toc_window_display": false
  }
 },
 "nbformat": 4,
 "nbformat_minor": 5
}
