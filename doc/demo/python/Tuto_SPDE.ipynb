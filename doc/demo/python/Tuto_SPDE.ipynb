{
 "cells": [
  {
   "cell_type": "markdown",
   "id": "1186e9cf",
   "metadata": {},
   "source": [
    "# Stochastic Partial Derivative Equations"
   ]
  },
  {
   "cell_type": "markdown",
   "id": "f9faf89c",
   "metadata": {},
   "source": [
    "<!-- SUMMARY: Estimation and Simulations performed in the framework of SPDE -->\n",
    "\n",
    "<!-- CATEGORY: SPDE -->"
   ]
  },
  {
   "cell_type": "markdown",
   "id": "80de7daa",
   "metadata": {},
   "source": [
    "In this tutorial, we show how to use the API SPDE"
   ]
  },
  {
   "cell_type": "code",
   "execution_count": null,
   "id": "a879e8cf",
   "metadata": {},
   "outputs": [],
   "source": [
    "import gstlearn as gl\n",
    "import gstlearn.plot as gp\n",
    "import gstlearn.document as gdoc\n",
    "import numpy as np\n",
    "import matplotlib.pyplot as plt\n",
    "\n",
    "from sksparse.cholmod import cholesky\n",
    "import scipy as sc\n",
    "from scipy.sparse import *\n",
    "from scipy.sparse.linalg import *\n",
    "import numpy as np\n",
    "\n",
    "gdoc.setNoScroll()"
   ]
  },
  {
   "cell_type": "markdown",
   "id": "95dd9d48",
   "metadata": {},
   "source": [
    "## Parameters"
   ]
  },
  {
   "cell_type": "code",
   "execution_count": null,
   "id": "c505e22a",
   "metadata": {},
   "outputs": [],
   "source": [
    "# Data\n",
    "np.random.seed(123)\n",
    "ndat = 1000\n",
    "\n",
    "# Model\n",
    "rangev = 0.2\n",
    "sill = 1.\n",
    "nugget = 0.1\n",
    "\n",
    "# Grid \n",
    "nx = [50,50]\n",
    "dx = [0.02,0.02]\n",
    "x0 = [0,0]\n",
    "\n",
    "#Grid meshing\n",
    "nxm = [75,75]\n",
    "dxm = [0.02,0.02]\n",
    "x0m = [-0.25,-0.25]\n",
    "\n",
    "dbfmt = gl.DbStringFormat.createFromFlags(flag_stats=True, names=[\"spde*\"])"
   ]
  },
  {
   "cell_type": "markdown",
   "id": "a8db5eee",
   "metadata": {},
   "source": [
    "### Grid and Meshing"
   ]
  },
  {
   "cell_type": "code",
   "execution_count": null,
   "id": "9e548e43",
   "metadata": {},
   "outputs": [],
   "source": [
    "grid = gl.DbGrid.create(nx,dx,x0)\n",
    "gridExt = gl.DbGrid.create(nxm,dxm,x0m)\n",
    "mesh = gl.MeshETurbo(gridExt)"
   ]
  },
  {
   "cell_type": "markdown",
   "id": "124d147a",
   "metadata": {},
   "source": [
    "### Model"
   ]
  },
  {
   "cell_type": "code",
   "execution_count": null,
   "id": "6ef90d2a",
   "metadata": {},
   "outputs": [],
   "source": [
    "model = gl.Model.createFromParam(gl.ECov.MATERN,param=1,range=rangev,sill=sill)\n",
    "model.addCovFromParam(gl.ECov.NUGGET,sill=nugget)"
   ]
  },
  {
   "cell_type": "markdown",
   "id": "f3c82752",
   "metadata": {},
   "source": [
    "### Data"
   ]
  },
  {
   "cell_type": "code",
   "execution_count": null,
   "id": "2c0387cb",
   "metadata": {},
   "outputs": [],
   "source": [
    "dat = gl.Db.create()\n",
    "dat[\"x\"] = np.random.uniform(size=ndat)\n",
    "dat[\"y\"] = np.random.uniform(size=ndat)\n",
    "dat.setLocators([\"x\",\"y\"],gl.ELoc.X)"
   ]
  },
  {
   "cell_type": "markdown",
   "id": "db803459",
   "metadata": {},
   "source": [
    "## SPDE non-conditional simulation"
   ]
  },
  {
   "cell_type": "markdown",
   "id": "e94f5ea2",
   "metadata": {},
   "source": [
    "### Grid query"
   ]
  },
  {
   "cell_type": "code",
   "execution_count": null,
   "id": "3598edd3",
   "metadata": {},
   "outputs": [],
   "source": [
    "spde = gl.SPDE(model,grid,None,gl.ESPDECalcMode.SIMUNONCOND)\n",
    "gl.law_set_random_seed(131351)\n",
    "iuid = spde.compute(grid)\n",
    "grid.display(dbfmt)"
   ]
  },
  {
   "cell_type": "code",
   "execution_count": null,
   "id": "5c5ceeba",
   "metadata": {},
   "outputs": [],
   "source": [
    "gp.plot(grid)\n",
    "gp.decoration(title=\"Non Conditional Simulation\")"
   ]
  },
  {
   "cell_type": "markdown",
   "id": "02b33802",
   "metadata": {},
   "source": [
    "### Data query"
   ]
  },
  {
   "cell_type": "code",
   "execution_count": null,
   "id": "16980e6d",
   "metadata": {},
   "outputs": [],
   "source": [
    "gl.law_set_random_seed(131351)\n",
    "iuid = spde.compute(dat)\n",
    "dat.display(dbfmt)"
   ]
  },
  {
   "cell_type": "markdown",
   "id": "70107578",
   "metadata": {},
   "source": [
    "## Kriging"
   ]
  },
  {
   "cell_type": "code",
   "execution_count": null,
   "id": "32578b46",
   "metadata": {},
   "outputs": [],
   "source": [
    "spdeRes = gl.SPDE(model,grid,dat,gl.ESPDECalcMode.KRIGING,mesh,1)\n",
    "iuid = spdeRes.compute(grid)\n",
    "grid.display(dbfmt)"
   ]
  },
  {
   "cell_type": "code",
   "execution_count": null,
   "id": "b15aa93d",
   "metadata": {},
   "outputs": [],
   "source": [
    "gp.plot(grid)\n",
    "gp.decoration(title=\"Estimation\")"
   ]
  },
  {
   "cell_type": "markdown",
   "id": "64a4129c",
   "metadata": {},
   "source": [
    "## Manually"
   ]
  },
  {
   "cell_type": "markdown",
   "id": "6cdaed88",
   "metadata": {},
   "source": [
    "### Projection Matrix: mesh to grid"
   ]
  },
  {
   "cell_type": "code",
   "execution_count": null,
   "id": "f4957800",
   "metadata": {},
   "outputs": [],
   "source": [
    "Pglg = gl.ProjMatrix(grid,mesh)\n",
    "Aprojg = Pglg.toTL()"
   ]
  },
  {
   "cell_type": "markdown",
   "id": "31d5eaf8",
   "metadata": {},
   "source": [
    "### Simulation"
   ]
  },
  {
   "cell_type": "code",
   "execution_count": null,
   "id": "7840a651",
   "metadata": {},
   "outputs": [],
   "source": [
    "Q = spdeRes.getPrecisionOpMatrix().getQ().toTL()\n",
    "cholQ = cholesky(Q)"
   ]
  },
  {
   "cell_type": "code",
   "execution_count": null,
   "id": "7b1866a7",
   "metadata": {},
   "outputs": [],
   "source": [
    "u = np.random.normal(size = Q.shape[0])\n",
    "gridExt[\"simuManual\"] = cholQ.apply_Pt(cholQ.solve_Lt(1./np.sqrt(cholQ.D())*u))\n",
    "gridExt.addSelection((gridExt[\"x1\"]>0) & (gridExt[\"x2\"]>0) & (gridExt[\"x1\"]<1.) & (gridExt[\"x2\"]<1.))\n",
    "\n",
    "res = gp.plot(gridExt, \"simuManual\",useSel=False)\n",
    "print(f\"Variance = {round(np.var(gridExt['simuManual'][np.where(gridExt['NewSel']==1)]),4)}\")"
   ]
  },
  {
   "cell_type": "markdown",
   "id": "74939e73",
   "metadata": {},
   "source": [
    "### Kriging"
   ]
  },
  {
   "cell_type": "code",
   "execution_count": null,
   "id": "302f3c4e",
   "metadata": {},
   "outputs": [],
   "source": [
    "Pgl = gl.ProjMatrix(dat,mesh)\n",
    "Aproj = Pgl.toTL()\n",
    "\n",
    "Qop = Q + 1/nugget * Aproj.T @ Aproj\n",
    "cholQop =  cholesky(Qop)\n",
    "\n",
    "kriging = cholQop.solve_A(Aproj.T @ (dat[\"spde*\"]/nugget))"
   ]
  },
  {
   "cell_type": "code",
   "execution_count": null,
   "id": "a84d225c",
   "metadata": {},
   "outputs": [],
   "source": [
    "grid[\"manually\"] = Aprojg @ kriging"
   ]
  },
  {
   "cell_type": "code",
   "execution_count": null,
   "id": "f9eefc3a",
   "metadata": {},
   "outputs": [],
   "source": [
    "ax = plt.scatter(grid[\"manually\"],grid[\"*estim\"],s=1)\n",
    "p = plt.plot([-3,3],[-3,3],c=\"r\")"
   ]
  },
  {
   "cell_type": "markdown",
   "id": "dedd0db2",
   "metadata": {},
   "source": [
    "## Likelihood\n",
    "\n",
    "Manually with Cholesky vs. matrix-free approach with SPDE api."
   ]
  },
  {
   "cell_type": "code",
   "execution_count": null,
   "id": "c1bd30de",
   "metadata": {},
   "outputs": [],
   "source": [
    "def solveMat(cholQop,x):\n",
    "    return cholQop.solve_A(x)\n",
    "\n",
    "def invSigma(sigma2,Aproj,cholQop,x):\n",
    "    return 1./sigma2 * (x - 1./sigma2 * Aproj @ solveMat(cholQop, Aproj.T @ x))\n",
    "\n",
    "def detQ(cholQ):\n",
    "    return cholQ.logdet()\n",
    "\n",
    "x = dat[\"spde\"]\n",
    "ones = np.ones_like(x)\n",
    "invSigmaOnes = invSigma(nugget,Aproj,cholQop,ones)\n",
    "mu  = np.sum(x * invSigmaOnes)/np.sum( ones * invSigmaOnes) \n",
    "quad = np.sum((x-mu)*invSigma(nugget,Aproj,cholQop,x-mu))\n",
    "logdetnoise = len(x) * np.log(nugget)\n",
    "logdetQ = detQ(cholQ)\n",
    "logdetQop = detQ(cholQop)\n",
    "logdet = logdetnoise - logdetQ + logdetQop\n",
    "\n",
    "print(f\"logdet(noise) = {round(logdetnoise,4)}\")\n",
    "print(f\"logdet(Q) = {round(logdetQ,4)}\")\n",
    "print(f\"logdet(QOp) = {round(logdetQop,4)}\")\n",
    "\n",
    "print(f\"logdet_chol = {round(logdet,4)}\")\n",
    "print(f\"quad_chol = {round(quad,4)}\")\n",
    "print(f\"like_chol = {round(-0.5 * (quad + logdet + len(x) * np.log(2. * np.pi)),4)}\")"
   ]
  },
  {
   "cell_type": "code",
   "execution_count": null,
   "id": "9659f7af",
   "metadata": {},
   "outputs": [],
   "source": [
    "a_quad = spdeRes.computeQuad()\n",
    "print(f\"-> Relative difference quadratic = {round(100*(a_quad-quad)/quad,2)}%\")"
   ]
  },
  {
   "cell_type": "code",
   "execution_count": null,
   "id": "d354d495",
   "metadata": {
    "scrolled": true
   },
   "outputs": [],
   "source": [
    "pcm = spdeRes.getPrecisionKrig()\n",
    "a_op = detQ(cholQop)\n",
    "b_op = pcm.computeLogDetOp(1)\n",
    "print(f\"log_det_op_chol = {round(a_op,4)}\")\n",
    "print(f\"log_det_op_api = {round(b_op,4)}\")\n",
    "print(f\"-> Relative difference = {round(100*(b_op-a_op)/a_op, 2)}%\")"
   ]
  },
  {
   "cell_type": "code",
   "execution_count": null,
   "id": "242921cb",
   "metadata": {},
   "outputs": [],
   "source": [
    "a_one = detQ(cholQ)\n",
    "b_one = pcm.computeLogDetQ(10)\n",
    "print(f\"log_det_Q_chol = {round(a_one,4)}\")\n",
    "print(f\"log_det_Q_api = {round(b_one,4)}\")\n",
    "print(f\"-> Relative difference = {round(100*(b_one-a_one)/a_one,2)}%\")"
   ]
  },
  {
   "cell_type": "code",
   "execution_count": null,
   "id": "a29b9617",
   "metadata": {},
   "outputs": [],
   "source": [
    "a = -0.5 * (quad + logdet + len(x) * np.log(2. * np.pi))\n",
    "print(f\"likelihood api = {round(a,4)}\")\n",
    "\n",
    "model.setDriftIRF()\n",
    "spdeLL = gl.SPDE(model,grid,dat,gl.ESPDECalcMode.KRIGING,mesh,1)\n",
    "b = spdeLL.computeLogLikelihood(100)\n",
    "print(f\"likelihood_chol = {round(b,4)}\")\n",
    "print(f\"-> Relative Difference = {round(100*(b-a)/a,2)}%\")"
   ]
  },
  {
   "cell_type": "code",
   "execution_count": null,
   "id": "d54ef33b",
   "metadata": {},
   "outputs": [],
   "source": [
    "useCholesky = 1\n",
    "b2 = gl.logLikelihoodSPDE(dat,model,None,mesh,useCholesky=useCholesky)\n",
    "print(f\"likelihood by Old API with cholesky=1 {round(b2,4)}\")"
   ]
  },
  {
   "cell_type": "code",
   "execution_count": null,
   "id": "7311fedc",
   "metadata": {},
   "outputs": [],
   "source": [
    "b2 = gl.logLikelihoodSPDENew(dat,model,useCholesky=useCholesky, verbose=True)\n",
    "print(f\"likelihood by New API with cholesky=1 {round(b2,4)}\")"
   ]
  },
  {
   "cell_type": "code",
   "execution_count": null,
   "id": "7722f029",
   "metadata": {},
   "outputs": [],
   "source": [
    "useCholesky = 0\n",
    "#b2 = gl.logLikelihoodSPDE(dat,model,None,mesh,useCholesky=useCholesky)\n",
    "#print(f\"likelihood by Old API with cholesky=0 {round(b2,4)}\")"
   ]
  },
  {
   "cell_type": "code",
   "execution_count": null,
   "id": "d02064a2",
   "metadata": {},
   "outputs": [],
   "source": [
    "useCholesky = 0\n",
    "b2 = gl.logLikelihoodSPDENew(dat,model,useCholesky=useCholesky, verbose=True)\n",
    "print(f\"likelihood by New API with cholesky=0 {round(b2,4)}\")"
   ]
  },
  {
   "cell_type": "code",
   "execution_count": null,
   "id": "fb9fcf66",
   "metadata": {},
   "outputs": [],
   "source": []
  }
 ],
 "metadata": {
  "kernelspec": {
   "display_name": "Python 3 (ipykernel)",
   "language": "python",
   "name": "python3"
  },
  "language_info": {
   "codemirror_mode": {
    "name": "ipython",
    "version": 3
   },
   "file_extension": ".py",
   "mimetype": "text/x-python",
   "name": "python",
   "nbconvert_exporter": "python",
   "pygments_lexer": "ipython3",
   "version": "3.10.5"
  },
  "toc": {
   "base_numbering": 1,
   "nav_menu": {},
   "number_sections": true,
   "sideBar": true,
   "skip_h1_title": true,
   "title_cell": "Table of Contents",
   "title_sidebar": "Contents",
   "toc_cell": false,
   "toc_position": {
    "height": "calc(100% - 180px)",
    "left": "10px",
    "top": "150px",
    "width": "302.6px"
   },
   "toc_section_display": true,
   "toc_window_display": false
  }
 },
 "nbformat": 4,
 "nbformat_minor": 5
}
