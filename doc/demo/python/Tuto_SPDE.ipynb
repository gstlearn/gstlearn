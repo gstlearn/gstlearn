{
 "cells": [
  {
   "cell_type": "markdown",
   "id": "339358ce",
   "metadata": {},
   "source": [
    "# SPDE\n",
    "\n",
    "In this tutorial, we show how to use the API SPDE."
   ]
  },
  {
   "cell_type": "code",
   "execution_count": null,
   "id": "c9ed62ca",
   "metadata": {},
   "outputs": [],
   "source": [
    "import gstlearn as gl\n",
    "import gstlearn.plot as gp\n",
    "import numpy as np\n",
    "import matplotlib.pyplot as plt"
   ]
  },
  {
   "cell_type": "code",
   "execution_count": null,
   "id": "f47fb384",
   "metadata": {},
   "outputs": [],
   "source": [
    "AA=gl.AFunction()\n",
    "AA.eval(5)"
   ]
  },
  {
   "cell_type": "code",
   "execution_count": null,
   "id": "fd145b67",
   "metadata": {},
   "outputs": [],
   "source": [
    "\n",
    "class Myfunc(gl.AFunction):\n",
    "    def __init__(self):\n",
    "        pass\n",
    "    def eval(self,x):\n",
    "        return np.log(x)\n",
    "    \n",
    "a=Myfunc()\n",
    "plt.plot(np.array([a.eval(i) for i in range(1,130)]))\n",
    "\n",
    "ch = gl.Chebychev()\n",
    "#ch.fit2(a,1,130)\n",
    "Myfunc.__bases__"
   ]
  },
  {
   "cell_type": "code",
   "execution_count": null,
   "id": "98da11c4",
   "metadata": {},
   "outputs": [],
   "source": [
    "dat = gl.Db.create()\n",
    "ndat = 1000\n",
    "np.random.seed(123)\n",
    "dat[\"x\"] = np.random.uniform(size=ndat)\n",
    "dat[\"y\"] = np.random.uniform(size=ndat)\n",
    "dat[\"Z\"] = np.random.normal(size=ndat)\n",
    "dat.setLocators([\"x\",\"y\"],gl.ELoc.X)\n",
    "dat.setLocators([\"Z\"],gl.ELoc.Z)\n",
    "\n",
    "grid = gl.DbGrid.create([150,150],[0.01,0.01],[-0.25,-0.25])\n",
    "model = gl.Model.createFromParam(gl.ECov.BESSEL_K,param=1,range=0.2)\n",
    "\n",
    "spde = gl.SPDE()\n",
    "spde.init(model,grid,dat,gl.ESPDECalcMode.KRIGING)\n",
    "        "
   ]
  },
  {
   "cell_type": "code",
   "execution_count": null,
   "id": "406a17f1",
   "metadata": {},
   "outputs": [],
   "source": [
    "spde.compute()"
   ]
  },
  {
   "cell_type": "code",
   "execution_count": null,
   "id": "d0675fd0",
   "metadata": {},
   "outputs": [],
   "source": [
    "spde.query(grid)"
   ]
  },
  {
   "cell_type": "code",
   "execution_count": null,
   "id": "f8ef0881",
   "metadata": {},
   "outputs": [],
   "source": [
    "gp.plot(grid)"
   ]
  },
  {
   "cell_type": "code",
   "execution_count": null,
   "id": "e4a7e551",
   "metadata": {},
   "outputs": [],
   "source": [
    "spde.computeLogDet(1,2244)"
   ]
  }
 ],
 "metadata": {
  "kernelspec": {
   "display_name": "Python 3 (ipykernel)",
   "language": "python",
   "name": "python3"
  },
  "language_info": {
   "codemirror_mode": {
    "name": "ipython",
    "version": 3
   },
   "file_extension": ".py",
   "mimetype": "text/x-python",
   "name": "python",
   "nbconvert_exporter": "python",
   "pygments_lexer": "ipython3",
   "version": "3.10.2"
  }
 },
 "nbformat": 4,
 "nbformat_minor": 5
}
