{
 "cells": [
  {
   "cell_type": "markdown",
   "id": "339358ce",
   "metadata": {},
   "source": [
    "# SPDE\n",
    "\n",
    "In this tutorial, we show how to use the API SPDE."
   ]
  },
  {
   "cell_type": "code",
   "execution_count": null,
   "id": "2d817b69",
   "metadata": {},
   "outputs": [],
   "source": [
    "import gstlearn as gl\n",
    "import gstlearn.plot as gp\n",
    "import numpy as np\n",
    "import matplotlib.pyplot as plt\n",
    "\n",
    "from sksparse.cholmod import cholesky\n",
    "import scipy as sc\n",
    "from scipy.sparse import *\n",
    "from scipy.sparse.linalg import *\n",
    "import numpy as np"
   ]
  },
  {
   "cell_type": "code",
   "execution_count": null,
   "id": "4408224d",
   "metadata": {},
   "outputs": [],
   "source": [
    "# Data\n",
    "np.random.seed(123)\n",
    "ndat = 1000\n",
    "\n",
    "# Model\n",
    "\n",
    "rangev = 0.2\n",
    "sill = 1.\n",
    "nugget = 0.1\n",
    "\n",
    "# Grid \n",
    "nx = [50,50]\n",
    "dx = [0.02,0.02]\n",
    "x0 = [0,0]\n",
    "\n",
    "#Grid meshing\n",
    "\n",
    "nxm = [75,75]\n",
    "dxm = [0.02,0.02]\n",
    "x0m = [-0.25,-0.25]"
   ]
  },
  {
   "cell_type": "markdown",
   "id": "4b821808",
   "metadata": {},
   "source": [
    "### Grids definition"
   ]
  },
  {
   "cell_type": "code",
   "execution_count": null,
   "id": "e77ede81",
   "metadata": {},
   "outputs": [],
   "source": [
    "grid = gl.DbGrid.create(nx,dx,x0)\n",
    "gridExt = gl.DbGrid.create(nxm,dxm,x0m)\n",
    "mesh = gl.MeshETurbo(gridExt)"
   ]
  },
  {
   "cell_type": "markdown",
   "id": "81f9f216",
   "metadata": {},
   "source": [
    "### Model definition"
   ]
  },
  {
   "cell_type": "code",
   "execution_count": null,
   "id": "86ecc08a",
   "metadata": {},
   "outputs": [],
   "source": [
    "model = gl.Model.createFromParam(gl.ECov.BESSEL_K,param=1,range=rangev,sill=sill)\n",
    "model.addCovFromParam(gl.ECov.NUGGET,sill=nugget)"
   ]
  },
  {
   "cell_type": "markdown",
   "id": "99f08ee1",
   "metadata": {},
   "source": [
    "### SPDE simulation"
   ]
  },
  {
   "cell_type": "code",
   "execution_count": null,
   "id": "f203a0e5",
   "metadata": {},
   "outputs": [],
   "source": [
    "spde = gl.SPDE()\n",
    "spde.init(model,grid,None,gl.ESPDECalcMode.SIMUNONCOND)\n",
    "spde.compute()"
   ]
  },
  {
   "cell_type": "markdown",
   "id": "9bb3dcdb",
   "metadata": {},
   "source": [
    "### Grid query"
   ]
  },
  {
   "cell_type": "code",
   "execution_count": null,
   "id": "329e67b0",
   "metadata": {},
   "outputs": [],
   "source": [
    "iuid = spde.query(grid)"
   ]
  },
  {
   "cell_type": "code",
   "execution_count": null,
   "id": "8f862c3c",
   "metadata": {},
   "outputs": [],
   "source": [
    "ax = gp.grid(grid,title=\"Non Conditional Simulation\")"
   ]
  },
  {
   "cell_type": "markdown",
   "id": "92ef8434",
   "metadata": {},
   "source": [
    "### Data query"
   ]
  },
  {
   "cell_type": "code",
   "execution_count": null,
   "id": "98da11c4",
   "metadata": {},
   "outputs": [],
   "source": [
    "dat = gl.Db.create()\n",
    "dat[\"x\"] = np.random.uniform(size=ndat)\n",
    "dat[\"y\"] = np.random.uniform(size=ndat)\n",
    "dat.setLocators([\"x\",\"y\"],gl.ELoc.X)\n",
    "iuid = spde.query(dat)"
   ]
  },
  {
   "cell_type": "markdown",
   "id": "4bb0e9e6",
   "metadata": {},
   "source": [
    "### Kriging"
   ]
  },
  {
   "cell_type": "code",
   "execution_count": null,
   "id": "7518ce3d",
   "metadata": {},
   "outputs": [],
   "source": [
    "spdeRes = gl.SPDE()\n",
    "spdeRes.init(model,grid,dat,gl.ESPDECalcMode.KRIGING,mesh)\n",
    "spdeRes.compute()"
   ]
  },
  {
   "cell_type": "code",
   "execution_count": null,
   "id": "1b1d89b9",
   "metadata": {},
   "outputs": [],
   "source": [
    "iuid = spdeRes.query(grid)\n",
    "ax = gp.grid(grid, title=\"Estimation\")"
   ]
  },
  {
   "cell_type": "markdown",
   "id": "6fa2ead2",
   "metadata": {},
   "source": [
    "## Manually"
   ]
  },
  {
   "cell_type": "markdown",
   "id": "32ddd826",
   "metadata": {},
   "source": [
    "### Aproj mesh to grid"
   ]
  },
  {
   "cell_type": "code",
   "execution_count": null,
   "id": "4ea4a857",
   "metadata": {},
   "outputs": [],
   "source": [
    "Pglg = gl.ProjMatrix(grid,mesh)\n",
    "Apglg = Pglg.getAproj()\n",
    "Atrg = gl.csToTriplet(Apglg)\n",
    "Aprojg = sc.sparse.csc_matrix((np.array(Atrg.values), (np.array(Atrg.rows), np.array(Atrg.cols))),\n",
    "                         shape=(Atrg.nrows,Atrg.ncols))"
   ]
  },
  {
   "cell_type": "markdown",
   "id": "88a36b56",
   "metadata": {},
   "source": [
    "### Simulation"
   ]
  },
  {
   "cell_type": "code",
   "execution_count": null,
   "id": "b4e343ae",
   "metadata": {},
   "outputs": [],
   "source": [
    "Qtr = gl.csToTriplet(spdeRes.getPrecisionOp().getQ())\n",
    "Q = sc.sparse.csc_matrix((np.array(Qtr.values), (np.array(Qtr.rows), np.array(Qtr.cols))))\n",
    "cholQ =  cholesky(Q)\n"
   ]
  },
  {
   "cell_type": "code",
   "execution_count": null,
   "id": "30a954f0",
   "metadata": {
    "scrolled": true
   },
   "outputs": [],
   "source": [
    "u = np.random.normal(size = Q.shape[0])\n",
    "gridExt[\"simuManual\"] = cholQ.apply_Pt(cholQ.solve_Lt(1./np.sqrt(cholQ.D())*u))\n",
    "gridExt.addSelection((gridExt[\"x1\"]>0) & (gridExt[\"x2\"]>0) & (gridExt[\"x1\"]<1.) & (gridExt[\"x2\"]<1.))\n",
    "gp.grid(gridExt,\"simuManual\",usesel=False)\n",
    "np.var(gridExt[\"simuManual\"][np.where(gridExt[\"NewSel\"]==1)])"
   ]
  },
  {
   "cell_type": "markdown",
   "id": "230e4860",
   "metadata": {},
   "source": [
    "### Kriging"
   ]
  },
  {
   "cell_type": "code",
   "execution_count": null,
   "id": "37043937",
   "metadata": {},
   "outputs": [],
   "source": [
    "Pgl = gl.ProjMatrix(dat,mesh)\n",
    "Apgl = Pgl.getAproj()\n",
    "Atr = gl.csToTriplet(Apgl)\n",
    "Aproj = sc.sparse.csc_matrix((np.array(Atr.values), (np.array(Atr.rows), np.array(Atr.cols))),\n",
    "                         shape=(Atr.nrows,Atr.ncols))\n",
    "\n",
    "\n",
    "\n",
    "Qop = Q + 1/nugget * Aproj.T @ Aproj\n",
    "cholQop =  cholesky(Qop)\n",
    "\n",
    "kriging = cholQop.solve_A(Aproj.T @ (dat[\"spde*\"]/nugget))"
   ]
  },
  {
   "cell_type": "code",
   "execution_count": null,
   "id": "34e908c4",
   "metadata": {},
   "outputs": [],
   "source": [
    "grid[\"manually\"] = Aprojg @ kriging"
   ]
  },
  {
   "cell_type": "code",
   "execution_count": null,
   "id": "18ff5e4b",
   "metadata": {},
   "outputs": [],
   "source": [
    "ax = plt.scatter(grid[\"manually\"],grid[\"*kriging\"],s=1)\n",
    "plt.plot([-3,3],[-3,3],c=\"r\")"
   ]
  },
  {
   "cell_type": "markdown",
   "id": "e54184be",
   "metadata": {},
   "source": [
    "## Likelihood\n",
    "\n",
    "Manually with Cholesky vs. matrix-free approach with SPDE api."
   ]
  },
  {
   "cell_type": "code",
   "execution_count": null,
   "id": "ee9551b0",
   "metadata": {},
   "outputs": [],
   "source": [
    "def solveMat(cholQop,x):\n",
    "    return cholQop.solve_A(x)\n",
    "\n",
    "def invSigma(sigma2,Aproj,cholQop,x):\n",
    "    return 1./sigma2 * (x - 1./sigma2 * Aproj @ solveMat(cholQop, Aproj.T @ x))\n",
    "\n",
    "def detQ(cholQ):\n",
    "    return cholQ.logdet()\n",
    "\n",
    "x = dat[\"spde.simu\"]\n",
    "ones = np.ones_like(x)\n",
    "invSigmaOnes = invSigma(nugget,Aproj,cholQop,ones)\n",
    "mu  = np.sum(x * invSigmaOnes)/np.sum( ones * invSigmaOnes) \n",
    "quad = np.sum((x-mu)*invSigma(nugget,Aproj,cholQop,x-mu))\n",
    "logdet = len(x) * np.log(nugget) - detQ(cholQ) + detQ(cholQop)\n",
    "\n",
    "print(\"logdet_chol\",logdet)\n",
    "print(\"quad_chol\",quad)\n",
    "print(\"like_chol\",-0.5 * (quad + logdet))"
   ]
  },
  {
   "cell_type": "code",
   "execution_count": null,
   "id": "84519128",
   "metadata": {},
   "outputs": [],
   "source": [
    "a = spdeRes.computeQuad()\n",
    "print(\"relative difference quadratic\",(a-quad)/quad)"
   ]
  },
  {
   "cell_type": "code",
   "execution_count": null,
   "id": "bdc7f3c2",
   "metadata": {},
   "outputs": [],
   "source": [
    "pcm = spdeRes.getPrecisionKriging()\n",
    "a = detQ(cholQop)\n",
    "b = pcm.computeLogDetOp(1,0)\n",
    "print(\"log_det_op_chol\",a)\n",
    "print(\"log_det_op_api\",b)\n",
    "print(\"relative difference\",(b-a)/a)"
   ]
  },
  {
   "cell_type": "code",
   "execution_count": null,
   "id": "ba9e42a8",
   "metadata": {},
   "outputs": [],
   "source": [
    "a = detQ(cholQ)\n",
    "b = pcm.computeLogDetQ(10,0)\n",
    "print(\"log_det_Q_chol\",a)\n",
    "print(\"log_det_Q_api\",b)\n",
    "print(\"relative difference\",(b-a)/a)"
   ]
  },
  {
   "cell_type": "code",
   "execution_count": null,
   "id": "8a0e7847",
   "metadata": {},
   "outputs": [],
   "source": [
    "a = -0.5 * (quad + logdet)\n",
    "b = spdeRes.computeLogLike(100,0)\n",
    "print(\"likelihood api\",a)\n",
    "print(\"likelihood_chol\",b)\n",
    "print((b-a)/a)"
   ]
  }
 ],
 "metadata": {
  "kernelspec": {
   "display_name": "Python 3 (ipykernel)",
   "language": "python",
   "name": "python3"
  },
  "language_info": {
   "codemirror_mode": {
    "name": "ipython",
    "version": 3
   },
   "file_extension": ".py",
   "mimetype": "text/x-python",
   "name": "python",
   "nbconvert_exporter": "python",
   "pygments_lexer": "ipython3",
   "version": "3.10.2"
  }
 },
 "nbformat": 4,
 "nbformat_minor": 5
}
