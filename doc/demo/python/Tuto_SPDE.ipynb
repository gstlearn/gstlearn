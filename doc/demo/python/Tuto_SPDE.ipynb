{
 "cells": [
  {
   "cell_type": "markdown",
   "id": "339358ce",
   "metadata": {},
   "source": [
    "# SPDE\n",
    "\n",
    "In this tutorial, we show how to use the API SPDE."
   ]
  },
  {
   "cell_type": "code",
   "execution_count": null,
   "id": "c9ed62ca",
   "metadata": {},
   "outputs": [],
   "source": [
    "import gstlearn as gl\n",
    "import gstlearn.plot as gp\n",
    "import numpy as np\n",
    "import matplotlib.pyplot as plt"
   ]
  },
  {
   "cell_type": "code",
   "execution_count": null,
   "id": "b708b077",
   "metadata": {},
   "outputs": [],
   "source": [
    "AA=gl.AFunction()\n",
    "AA.eval(5)"
   ]
  },
  {
   "cell_type": "code",
   "execution_count": null,
   "id": "c0cfb783",
   "metadata": {},
   "outputs": [],
   "source": [
    "\n",
    "class Myfunc(gl.AFunction):\n",
    "    def __init__(self):\n",
    "        pass\n",
    "    def eval(self,x):\n",
    "        return np.log(x)\n",
    "    \n",
    "a=Myfunc()\n",
    "plt.plot(np.array([a.eval(i) for i in range(1,130)]))\n",
    "\n",
    "ch = gl.Chebychev()\n",
    "#ch.fit2(a,1,130)\n",
    "Myfunc.__bases__"
   ]
  },
  {
   "cell_type": "code",
   "execution_count": null,
   "id": "98da11c4",
   "metadata": {},
   "outputs": [],
   "source": [
    "dat = gl.Db.create()\n",
    "ndat = 2\n",
    "np.random.seed(123)\n",
    "dat[\"x\"] = np.random.uniform(size=ndat)\n",
    "dat[\"y\"] = np.random.uniform(size=ndat)\n",
    "dat[\"Z\"] = np.random.normal(size=ndat)\n",
    "dat.setLocators([\"x\",\"y\"],gl.ELoc.X)\n",
    "dat.setLocators([\"Z\"],gl.ELoc.Z)\n",
    "\n",
    "grid = gl.DbGrid.create([150,150],[0.01,0.01],[-0.25,-0.25])\n",
    "model = gl.Model.createFromParam(gl.ECov.BESSEL_K,param=1,range=0.5,sill=0.5)\n",
    "model.addCovFromParam(gl.ECov.NUGGET,sill=0.3)\n",
    "\n",
    "spde = gl.SPDE()\n",
    "spde.init(model,grid,dat,gl.ESPDECalcMode.KRIGING)\n",
    "        "
   ]
  },
  {
   "cell_type": "code",
   "execution_count": null,
   "id": "406a17f1",
   "metadata": {},
   "outputs": [],
   "source": [
    "spde.compute()"
   ]
  },
  {
   "cell_type": "code",
   "execution_count": null,
   "id": "d0675fd0",
   "metadata": {},
   "outputs": [],
   "source": [
    "spde.query(grid)"
   ]
  },
  {
   "cell_type": "code",
   "execution_count": null,
   "id": "e83ccc5a",
   "metadata": {},
   "outputs": [],
   "source": [
    "gp.plot(grid)"
   ]
  },
  {
   "cell_type": "code",
   "execution_count": null,
   "id": "54b713a1",
   "metadata": {},
   "outputs": [],
   "source": [
    "spde.computeLogDet(10,0)"
   ]
  },
  {
   "cell_type": "code",
   "execution_count": null,
   "id": "f500c65f",
   "metadata": {},
   "outputs": [],
   "source": [
    "Q = spde.getPrecisionOp(0)\n",
    "print(Q.computeLogDet(2,0))\n",
    "Q.getPolyCoeffs(gl.EPowerPT.ONE)"
   ]
  },
  {
   "cell_type": "code",
   "execution_count": null,
   "id": "8c6a5ddb",
   "metadata": {},
   "outputs": [],
   "source": [
    "#S = Q.getShiftOp()\n",
    "#u = np.linspace(0,S.getMaxEigenValue(),100)\n",
    "#(2*(1 + 2 * u + u**2)).max()"
   ]
  },
  {
   "cell_type": "code",
   "execution_count": null,
   "id": "908cb60c",
   "metadata": {},
   "outputs": [],
   "source": [
    "pmc = spde.getPrecisionKriging()\n",
    "cheb = gl.Chebychev()\n",
    "pmc.preparePoly(cheb)\n",
    "cheb.display()"
   ]
  },
  {
   "cell_type": "code",
   "execution_count": null,
   "id": "6bf8b33a",
   "metadata": {},
   "outputs": [],
   "source": [
    "u = np.linspace(1,23635,200)\n",
    "y = np.array([cheb.eval(i) for i in u])\n",
    "y0 = np.array([np.log(i) for i in u])\n",
    "plt.plot(u,y)\n",
    "plt.plot(u,y0,\"--\")\n",
    "plt.plot((y**2-y0**2)/(y0**2+1e-2))\n",
    "np.max((y-y0)**2)"
   ]
  },
  {
   "cell_type": "code",
   "execution_count": null,
   "id": "31df4a96",
   "metadata": {},
   "outputs": [],
   "source": [
    "co = cheb.getCoeffs()"
   ]
  },
  {
   "cell_type": "code",
   "execution_count": null,
   "id": "6d81292c",
   "metadata": {},
   "outputs": [],
   "source": [
    "xc = -1\n",
    "y0 = 0\n"
   ]
  },
  {
   "cell_type": "code",
   "execution_count": null,
   "id": "dcb20e50",
   "metadata": {},
   "outputs": [],
   "source": [
    "N = 580\n",
    "a = cheb.getA()\n",
    "b = cheb.getB()\n",
    "x = 2.0\n",
    "y0 = np.log(x)\n",
    "xc = 2. * (x - a) / (b- a) -1\n",
    "\n",
    "y = co[0] + co[1] * xc\n",
    "Tm2 = 1\n",
    "Tm1 = xc\n",
    "print(y)\n",
    "for i in range(2,N):\n",
    "    Tx = 2 * Tm1 * xc - Tm2\n",
    "    y += co[i] * Tx\n",
    "    Tm2 = Tm1\n",
    "    Tm1 = Tx\n",
    "\n",
    "print(np.abs((y**2-y0**2)))"
   ]
  },
  {
   "cell_type": "code",
   "execution_count": null,
   "id": "b253c243",
   "metadata": {},
   "outputs": [],
   "source": [
    "y"
   ]
  },
  {
   "cell_type": "code",
   "execution_count": null,
   "id": "5c11dbc7",
   "metadata": {},
   "outputs": [],
   "source": []
  }
 ],
 "metadata": {
  "kernelspec": {
   "display_name": "Python 3 (ipykernel)",
   "language": "python",
   "name": "python3"
  },
  "language_info": {
   "codemirror_mode": {
    "name": "ipython",
    "version": 3
   },
   "file_extension": ".py",
   "mimetype": "text/x-python",
   "name": "python",
   "nbconvert_exporter": "python",
   "pygments_lexer": "ipython3",
   "version": "3.10.2"
  }
 },
 "nbformat": 4,
 "nbformat_minor": 5
}
