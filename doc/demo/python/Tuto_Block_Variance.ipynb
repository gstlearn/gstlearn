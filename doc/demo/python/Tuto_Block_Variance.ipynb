{
 "cells": [
  {
   "cell_type": "markdown",
   "id": "d3b3a2d4",
   "metadata": {},
   "source": [
    "# Block variances"
   ]
  },
  {
   "cell_type": "code",
   "execution_count": null,
   "id": "62bdadf2",
   "metadata": {
    "code_folding": []
   },
   "outputs": [],
   "source": [
    "import gstlearn as gl\n",
    "import gstlearn.plot as gp\n",
    "import gstlearn.widgets as gw\n",
    "import gstlearn.document as gdoc\n",
    "\n",
    "import matplotlib.pyplot as plt\n",
    "import ipywidgets as widgets\n",
    "from ipywidgets import HBox, VBox\n",
    "import numpy as np\n",
    "import matplotlib.pyplot as plt\n",
    "from IPython.display import display\n",
    "from IPython.display import Markdown\n",
    "\n",
    "%matplotlib inline\n",
    "%matplotlib notebook\n",
    "\n",
    "import math"
   ]
  },
  {
   "cell_type": "markdown",
   "id": "50bf6073",
   "metadata": {},
   "source": [
    "We define a set of internal functions used in this script"
   ]
  },
  {
   "cell_type": "code",
   "execution_count": null,
   "id": "2e69d4c3",
   "metadata": {
    "code_folding": []
   },
   "outputs": [],
   "source": [
    "### Functions\n",
    "def params(nc):\n",
    "    sill = 1\n",
    "    ndisc = 20\n",
    "    dx = dy = 120 / nc \n",
    "    return sill,ndisc,dx,dy\n",
    "\n",
    "def simulate(rangev,nc):\n",
    "    sill,_,_,_ = params(nc) \n",
    "    model = gl.Model.createFromParam(gl.ECov.EXPONENTIAL,range = rangev, sill = sill)\n",
    "    db = gl.DbGrid.create(nx = [120,120],dx = [1,1])\n",
    "    gl.simtub(None,db,model,nbtuba=1000)\n",
    "    return db,model\n",
    "\n",
    "def coarsifyF(db,nc):\n",
    "    dbc = db.coarsify(nmult=[nc,nc])\n",
    "    gl.dbStatisticsOnGrid(db,dbc,gl.EStatOption.MEAN)\n",
    "    return dbc\n",
    "\n",
    "def computeVar(nc,sto):\n",
    "    sto.dbc = coarsifyF(sto.db,nc)\n",
    "    sill,ndisc,dx,dy = params(nc)\n",
    "    deltaVarTheo = sill - sto.model.evalCvv(sto.dbc.getDXs(),ndisc=[ndisc,ndisc])\n",
    "    deltaVarEmp = np.var(sto.db[\"Simu\"])-np.var(sto.dbc[\"Stats*\"])\n",
    "    return deltaVarTheo,deltaVarEmp\n",
    "\n",
    "def plotVar(nc,sto):\n",
    "    ax[0].cla()\n",
    "    ax[1].cla()\n",
    "    \n",
    "    sill,ndisc,dx,dy = params(nc)\n",
    "    db  = sto.db\n",
    "    dbc = sto.dbc\n",
    "    \n",
    "    ax[0].raster(db,\"*Simu\")\n",
    "    ax[0].axes.axis(\"off\")\n",
    "    ax[0].decoration(title=\"Z(x)\")\n",
    "    ax[0].cell(dbc, color='black', linewidth=0.5)\n",
    "    \n",
    "    ax[1].raster(dbc,\"Stats*\")\n",
    "    ax[1].axes.axis(\"off\")\n",
    "    ax[1].decoration(title=\"Z(v)\")\n",
    "    ax[1].cell(dbc, color='black', linewidth=0.5)\n",
    "\n",
    "def divisorGenerator(n):\n",
    "    large_divisors = []\n",
    "    for i in range(1, int(math.sqrt(n) + 1)):\n",
    "        if n % i == 0:\n",
    "            yield i\n",
    "            if i*i != n:\n",
    "                large_divisors.append(n / i)\n",
    "    for divisor in reversed(large_divisors):\n",
    "        yield int(divisor)\n",
    "\n",
    "class store :\n",
    "    def __init__(self,rangev,nc):\n",
    "        self.db,self.model = simulate(rangev,nc)\n",
    "        self.dbc = coarsifyF(self.db,nc)"
   ]
  },
  {
   "cell_type": "markdown",
   "id": "1ff1dfe7",
   "metadata": {},
   "source": [
    "##  Calculate the block variance"
   ]
  },
  {
   "cell_type": "markdown",
   "id": "70ac3648",
   "metadata": {},
   "source": [
    "This paragraph is concerned with the variance reduction when calculated on different block supports. \n",
    "We start by simulating a random variable on a fine grid, which will be considered as the **point support**. \n",
    "This simulation is performed with a given covariance model.\n",
    "\n",
    "Starting from this point-support grid, we define a new grid of coarse cells (exact multiples of the point nodes). For each cell, the value is obtained as the average of the values of the nodes which belong to this cell. Therefore we obtain a grid of the initial random variables, upscaled to the cell support.\n",
    "\n",
    "Then we compute the (dispersion) variance of the variable over the cells in two different ways:\n",
    "\n",
    "- experimentally from the values per cell\n",
    "- in the model: as derived from the model after a change of support (the next paragraph gives the formulae for these calculations)"
   ]
  },
  {
   "cell_type": "code",
   "execution_count": null,
   "id": "6eea8386",
   "metadata": {},
   "outputs": [],
   "source": [
    "Markdown(gdoc.loadDoc(\"Cvv.md\"))"
   ]
  },
  {
   "cell_type": "code",
   "execution_count": null,
   "id": "b7d8799c",
   "metadata": {},
   "outputs": [],
   "source": [
    "# The Model\n",
    "model = gl.Model.createFromParam(gl.ECov.EXPONENTIAL,range = 10)\n",
    "\n",
    "# The target block\n",
    "v = [5,5]\n",
    "\n",
    "# The discretization\n",
    "ndisc = [20,20] "
   ]
  },
  {
   "cell_type": "markdown",
   "id": "07c4120d",
   "metadata": {},
   "source": [
    "Then, we just have to compute "
   ]
  },
  {
   "cell_type": "code",
   "execution_count": null,
   "id": "72570259",
   "metadata": {},
   "outputs": [],
   "source": [
    "Cvv = model.evalCvv(v,ndisc)\n",
    "print(\"Cvv = \" + str(round(Cvv,2)))"
   ]
  },
  {
   "cell_type": "markdown",
   "id": "dadc82cb",
   "metadata": {},
   "source": [
    "To compute $$\\bar{\\gamma}(v,v) = C(0) - \\bar{C}(v,v)$$"
   ]
  },
  {
   "cell_type": "markdown",
   "id": "9b37eb96",
   "metadata": {},
   "source": [
    "We can simply do"
   ]
  },
  {
   "cell_type": "code",
   "execution_count": null,
   "id": "5e093720",
   "metadata": {},
   "outputs": [],
   "source": [
    "calc = gl.CovCalcMode()\n",
    "calc.setAsVario(asVario = True)\n",
    "gammavv = model.evalCvv(v,ndisc,mode =calc)\n",
    "print(\"Gammavv = \" + str(round(gammavv,2)))"
   ]
  },
  {
   "cell_type": "markdown",
   "id": "c7b9fd11",
   "metadata": {},
   "source": [
    "## Variance reduction"
   ]
  },
  {
   "cell_type": "code",
   "execution_count": null,
   "id": "9d104c3b",
   "metadata": {},
   "outputs": [],
   "source": [
    "Markdown(gdoc.loadDoc(\"Variance_Reduction.md\"))"
   ]
  },
  {
   "cell_type": "code",
   "execution_count": null,
   "id": "2d27922b",
   "metadata": {
    "code_folding": []
   },
   "outputs": [],
   "source": [
    "nc = 10\n",
    "rangev = 20\n",
    "sto = store(rangev,nc)\n",
    "\n",
    "vals = list(divisorGenerator(120))\n",
    "nci = np.where(np.array(vals)==nc)[0][0]\n",
    "\n",
    "def updateVar(nc,sto):\n",
    "    a1,a2 = computeVar(nc,sto)\n",
    "    varTheoW.value = str(round(a1,2))\n",
    "    varEmpW.value =  str(round(a2,2))\n",
    "    \n",
    "def sliderRangeEventhandler(change):\n",
    "    sto.db,sto.model = simulate(change.new,sliderNc.value)\n",
    "    updateVar(vals[sliderNc.value],sto)\n",
    "    plotVar(vals[sliderNc.value],sto)\n",
    "    \n",
    "def sliderNcEventhandler(change):\n",
    "    nc = vals[change.new]\n",
    "    updateVar(nc,sto)\n",
    "    plotVar(nc,sto)\n",
    "    \n",
    "sliderRange = gw.sliderFloat(title='Range',mini=1,maxi=50,value=rangev,\n",
    "                             eventhandler=sliderRangeEventhandler)\n",
    "sliderNc    = gw.sliderInt(title='Coarsify',mini=1,maxi=len(vals)-2,value=vals[nci],\n",
    "                           eventhandler=sliderNcEventhandler)\n",
    "varEmpW     = gw.text(title='Empirical')\n",
    "varTheoW    = gw.text(title='Theoretical')\n",
    "\n",
    "display(sliderRange)\n",
    "display(widgets.HBox([sliderNc]))\n",
    "display(widgets.HBox([varEmpW, varTheoW]))\n",
    "\n",
    "fig,ax = plt.subplots(1,2,figsize=(8,4))\n",
    "updateVar(nc,sto)\n",
    "plotVar(nc,sto)"
   ]
  }
 ],
 "metadata": {
  "hide_input": false,
  "kernelspec": {
   "display_name": "Python 3 (ipykernel)",
   "language": "python",
   "name": "python3"
  },
  "language_info": {
   "codemirror_mode": {
    "name": "ipython",
    "version": 3
   },
   "file_extension": ".py",
   "mimetype": "text/x-python",
   "name": "python",
   "nbconvert_exporter": "python",
   "pygments_lexer": "ipython3",
   "version": "3.10.5"
  },
  "toc": {
   "base_numbering": 1,
   "nav_menu": {},
   "number_sections": true,
   "sideBar": true,
   "skip_h1_title": false,
   "title_cell": "Table of Contents",
   "title_sidebar": "Contents",
   "toc_cell": false,
   "toc_position": {
    "height": "calc(100% - 180px)",
    "left": "10px",
    "top": "150px",
    "width": "284.2px"
   },
   "toc_section_display": true,
   "toc_window_display": true
  }
 },
 "nbformat": 4,
 "nbformat_minor": 5
}
