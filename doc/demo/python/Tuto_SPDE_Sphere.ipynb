{
 "cells": [
  {
   "cell_type": "markdown",
   "id": "9f23e477",
   "metadata": {},
   "source": [
    "# SPDE simulation on sphere\n",
    "\n",
    "*by N. Desassis and D. Renard*"
   ]
  },
  {
   "cell_type": "code",
   "execution_count": null,
   "id": "4ca932bc",
   "metadata": {},
   "outputs": [],
   "source": [
    "%%javascript\n",
    "IPython.OutputArea.prototype._should_scroll = function(lines) {\n",
    "return false;\n",
    "}"
   ]
  },
  {
   "cell_type": "markdown",
   "id": "84691420",
   "metadata": {},
   "source": [
    "The aim of this tutorial is to show how to use gstlearn to simulate the solution of \n",
    "\n",
    "$$(\\kappa^2-\\Delta_{\\mathcal{S}_R})^{\\alpha/2}Z = \\sigma\\mathcal{W}$$\n",
    "\n",
    "on the sphere $\\mathcal{S}_R$ of radius $R$.\n",
    "\n",
    "- $\\Delta_{{\\mathcal{S}_R}}$ is the Laplace-Beltrami operator, i.e, it acts on each point of the sphere as the usual Laplacian on the tangent plane at this point. \n",
    "\n",
    "- $\\kappa$ is the inverse of the scale parameter\n",
    "\n",
    "- $\\alpha \\geq 2$ is an integer describing the smoothness of the solution.\n",
    "\n",
    "- $\\mathcal{W}$ is a Gaussian white-noise suitably normalized such as $\\sigma^2$ is the variance of the solution.\n",
    "\n",
    "In this notebook, we will define the covariance of Matérn on the sphere, as the covariance of the solution of this SPDE (other extensions of the Matérn function are possible). By analogy with the Euclidian case, its smoothness parameter will be defined by $\\nu = \\alpha -1$. To compute the covariance function with respect on the geodetic distance, one have to use a decomposition on the Legendre polynomial (see below).\n",
    "\n",
    "We also treat the more general case\n",
    "$$P^{1/2}(-\\Delta_{\\mathcal{S}_R})Z = \\sigma\\mathcal{W}$$\n",
    "\n",
    "where $P$ is a polynom positive on $\\mathbb{R}^+$"
   ]
  },
  {
   "cell_type": "code",
   "execution_count": null,
   "id": "5d0478d7",
   "metadata": {},
   "outputs": [],
   "source": [
    "import gstlearn as gl\n",
    "\n",
    "import numpy as np           \n",
    "\n",
    "# Plot packages \n",
    "\n",
    "import gstlearn.plot as gp\n",
    "import gstlearn.plot3D as gop\n",
    "import matplotlib.pyplot as plt\n",
    "import plotly.graph_objects as go\n",
    "import IPython"
   ]
  },
  {
   "cell_type": "code",
   "execution_count": null,
   "id": "afd1ad28",
   "metadata": {},
   "outputs": [],
   "source": [
    "# Markov (if False, Matérn covariance will be used)\n",
    "Markov = False"
   ]
  },
  {
   "cell_type": "markdown",
   "id": "0682fd60",
   "metadata": {},
   "source": [
    "### Parametrization"
   ]
  },
  {
   "cell_type": "code",
   "execution_count": null,
   "id": "7957a558",
   "metadata": {},
   "outputs": [],
   "source": [
    "#Sphere radius\n",
    "R = gl.EARTH_RADIUS\n",
    "gl.defineDefaultSpace(gl.ESpaceType.SN)\n",
    "\n",
    "#Scale parameter (for convenience, it is defined as the proportion of the radius)\n",
    "ratioRange = 0.2\n",
    "scale = R * ratioRange\n",
    "\n",
    "# sill \n",
    "sill = 2. \n",
    "\n",
    "# Smoothness parameter (for Matérn case)\n",
    "nu = 1\n",
    "\n",
    "# Markov coefficients (for Markov case)\n",
    "coeffs = [1,-1/scale,.5/scale**2]"
   ]
  },
  {
   "cell_type": "markdown",
   "id": "77214ede",
   "metadata": {},
   "source": [
    "### Meshing"
   ]
  },
  {
   "cell_type": "code",
   "execution_count": null,
   "id": "4279a1bc",
   "metadata": {},
   "outputs": [],
   "source": [
    "mesh = gl.MeshSphericalExt()\n",
    "err = mesh.resetFromDb(None,None,triswitch = \"-r5\",verbose=False)"
   ]
  },
  {
   "cell_type": "markdown",
   "id": "90c2b9bd",
   "metadata": {},
   "source": [
    "Sampling Db creation"
   ]
  },
  {
   "cell_type": "code",
   "execution_count": null,
   "id": "bd009fda",
   "metadata": {},
   "outputs": [],
   "source": [
    "nsample = 4000\n",
    "#sub-sampling to reduce computational burden\n",
    "np.random.seed(123)\n",
    "ind = np.random.choice(mesh.getNApices(),size=nsample,replace=False)\n",
    "\n",
    "#Creation of the db\n",
    "X = mesh.getCoordinates(0)\n",
    "Y = mesh.getCoordinates(1)\n",
    "\n",
    "dbdat = gl.Db.create()\n",
    "dbdat[\"x\"] = np.array(X)[ind]\n",
    "dbdat[\"y\"] = np.array(Y)[ind]\n",
    "dbdat.setLocators([\"x\",\"y\"],gl.ELoc.X)"
   ]
  },
  {
   "cell_type": "markdown",
   "id": "dd53f938",
   "metadata": {},
   "source": [
    "### Covariance model\n",
    "\n",
    "The covariance model is Markov or Matérn."
   ]
  },
  {
   "cell_type": "code",
   "execution_count": null,
   "id": "7094ab9c",
   "metadata": {},
   "outputs": [],
   "source": [
    "if Markov : \n",
    "    model = gl.Model.createFromParam(type=gl.ECov.MARKOV,\n",
    "                                 range = scale,\n",
    "                                 sill = sill,\n",
    "                                 flagRange= False)\n",
    "    model.getCova(0).setMarkovCoeffs(coeffs)\n",
    "    \n",
    "else :\n",
    "\n",
    "    model = gl.Model.createFromParam(type=gl.ECov.BESSEL_K,\n",
    "                                 range = scale,\n",
    "                                 sill = sill,\n",
    "                                 param=nu,\n",
    "                                 flagRange= False)"
   ]
  },
  {
   "cell_type": "markdown",
   "id": "99f09929",
   "metadata": {},
   "source": [
    "### Precision matrix"
   ]
  },
  {
   "cell_type": "code",
   "execution_count": null,
   "id": "18b211b3",
   "metadata": {},
   "outputs": [],
   "source": [
    "Q = gl.PrecisionOp(mesh,model)"
   ]
  },
  {
   "cell_type": "markdown",
   "id": "7ae44395",
   "metadata": {},
   "source": [
    "### Simulation "
   ]
  },
  {
   "cell_type": "code",
   "execution_count": null,
   "id": "2bfff6ee",
   "metadata": {},
   "outputs": [],
   "source": [
    "result = np.array(Q.simulate()[0])"
   ]
  },
  {
   "cell_type": "markdown",
   "id": "53fc6433",
   "metadata": {},
   "source": [
    "### Display the realization\n",
    " "
   ]
  },
  {
   "cell_type": "code",
   "execution_count": null,
   "id": "18bc46b5",
   "metadata": {
    "scrolled": true
   },
   "outputs": [],
   "source": [
    "surface = gop.SurfaceOnMesh(mesh, result,opacity=1)\n",
    "fig = go.Figure(data=[ surface ])\n",
    "fig.update_scenes(xaxis_visible=False, yaxis_visible=False,zaxis_visible=False )\n",
    "f = fig.show()"
   ]
  },
  {
   "cell_type": "markdown",
   "id": "adaddb06",
   "metadata": {},
   "source": [
    "### Compute covariance (of discretized solution)\n",
    "\n",
    "We use the fact that $\\Sigma = Q^{-1}$ and solve $Qx = e_j$ for an arbitrary index $j$."
   ]
  },
  {
   "cell_type": "markdown",
   "id": "e29fddb6",
   "metadata": {},
   "source": [
    "**Get the distances**"
   ]
  },
  {
   "cell_type": "code",
   "execution_count": null,
   "id": "ebf143cf",
   "metadata": {},
   "outputs": [],
   "source": [
    "ind0 = 12\n",
    "distances = np.array(mesh.getDistances(ind0))"
   ]
  },
  {
   "cell_type": "markdown",
   "id": "a1d192d9",
   "metadata": {},
   "source": [
    "**Compute the covariances**"
   ]
  },
  {
   "cell_type": "code",
   "execution_count": null,
   "id": "3239f257",
   "metadata": {},
   "outputs": [],
   "source": [
    "covDiscr = np.array(Q.evalCov(ind0))"
   ]
  },
  {
   "cell_type": "markdown",
   "id": "d9fe429b",
   "metadata": {},
   "source": [
    "**Sort for the plot**"
   ]
  },
  {
   "cell_type": "code",
   "execution_count": null,
   "id": "a3715af3",
   "metadata": {},
   "outputs": [],
   "source": [
    "covDiscrClose = covDiscr[np.argsort(distances)]\n",
    "deltaLong =  np.sort(distances)"
   ]
  },
  {
   "cell_type": "markdown",
   "id": "531dcf9c",
   "metadata": {},
   "source": [
    "**Display the result**"
   ]
  },
  {
   "cell_type": "code",
   "execution_count": null,
   "id": "85ddec0b",
   "metadata": {},
   "outputs": [],
   "source": [
    "plt.plot(deltaLong,covDiscrClose,\"--\",label = \"Discretized covariance\")\n",
    "ax = plt.legend()"
   ]
  },
  {
   "cell_type": "markdown",
   "id": "a959f624",
   "metadata": {},
   "source": [
    "### Variogram of the realization\n",
    "\n",
    "The empirical variogram is computed by using the great-circle distance."
   ]
  },
  {
   "cell_type": "code",
   "execution_count": null,
   "id": "dc87c6f6",
   "metadata": {
    "scrolled": false
   },
   "outputs": [],
   "source": [
    "npas = 50 # number of discretization points\n",
    "dpas = 0.04 # lag with respect to the unit sphere (it will be multiplied\n",
    "# by R in the creation of the VarioParam.\n",
    "\n",
    "dbdat[\"simu\"] = np.array(result)[ind]\n",
    "dbdat.setLocators([\"simu\"],gl.ELoc.Z)\n",
    "\n",
    "#Variogram \n",
    "\n",
    "vp = gl.VarioParam.createOmniDirection(npas=npas,dpas=dpas * R)\n",
    "vario = gl.Vario.create(vp,dbdat)\n",
    "ax = vario.compute(gl.ECalcVario.VARIOGRAM)\n",
    "#vario.display()"
   ]
  },
  {
   "cell_type": "code",
   "execution_count": null,
   "id": "31fbc3f1",
   "metadata": {},
   "outputs": [],
   "source": [
    "ax = vario.plot(label = \"Empirical Variogram\")\n",
    "ax = plt.legend()"
   ]
  },
  {
   "cell_type": "markdown",
   "id": "3f5697e3",
   "metadata": {},
   "source": [
    "### Theoretical covariance function"
   ]
  },
  {
   "cell_type": "markdown",
   "id": "2b7e412a",
   "metadata": {},
   "source": [
    "The covariance between two points with great-circle distance $d$  on the sphere of radius $R$ is given by\n",
    "$$C(d) = \\frac{\\sigma^2}{\\sum_{i=0}^\\infty f(i)}\\sum_{i=0}^\\infty f(i) P_i\\left(\\cos \\frac{d}{R}\\right)$$\n",
    "\n",
    "where the $P_i$'s  are the Legendre polynomials computed with the following reccurence formula\n",
    "\n",
    "$$P_0(x) = 1.$$\n",
    "\n",
    "$$P_1(x) = x$$\n",
    "\n",
    "$$P_{n+1}(x)=\\frac{(2n+1)xP_n(x) - n P_{n-1}(x)}{n+1}$$\n",
    "\n",
    "For $n\\geq 0$, $$f(n) = \\frac{2 (n + 1)}{ (R^2\\kappa^2 + n ( n + 1))^\\alpha}$$\n",
    "\n",
    "For numerical computations, the sums are truncated at **N**.\n",
    "\n",
    "For more details on the covariances on sphere, see \n",
    "[Lantuejoul, Freulon and Renard (2019)](https://link.springer.com/content/pdf/10.1007/s11004-019-09799-4.pdf)\n"
   ]
  },
  {
   "cell_type": "markdown",
   "id": "068e35cd",
   "metadata": {},
   "source": [
    "### Evaluation "
   ]
  },
  {
   "cell_type": "code",
   "execution_count": null,
   "id": "34ddb2e3",
   "metadata": {},
   "outputs": [],
   "source": [
    "ndisc = 100 # number of discretization steps for the covariance \n",
    "N = 20 # size of the decomposition\n",
    "\n",
    "h = np.linspace(0,np.max(deltaLong),ndisc)\n",
    "ax = vario.plot(label = \"Empirical Variogram\")\n",
    "a = model.getCova(0)\n",
    "uu = np.array([a.evalCovOnSphere(i,N) for i in h])\n",
    "ax = plt.plot(h, sill - uu,label = \"Theoretical Variogram\")\n",
    "plt.plot(deltaLong,covDiscrClose[0] - covDiscrClose,\"--\",label = \"Discretized model\")\n",
    "ax = plt.legend()"
   ]
  },
  {
   "cell_type": "markdown",
   "id": "91f80dc2",
   "metadata": {},
   "source": [
    "There is a slight difference between the theoretical variogram and the one obtained from the SPDE discretization due to a numerical error on the variance introduced by the discretization. The comparison of the covariance shows that this numerical error is rather small :"
   ]
  },
  {
   "cell_type": "code",
   "execution_count": null,
   "id": "484526ee",
   "metadata": {},
   "outputs": [],
   "source": [
    "h = np.linspace(0,np.max(deltaLong),ndisc)\n",
    "vario = gl.Vario.create(vp,dbdat)\n",
    "ax = vario.compute(gl.ECalcVario.COVARIANCE)\n",
    "#ax = gp.variogram(vario,label = \"Empirical Covariance\")\n",
    "ax = plt.plot(h, uu,label = \"Theoretical Covariance\")\n",
    "plt.plot(deltaLong,covDiscrClose,\"--\",label = \"Discretized model\")\n",
    "ax = plt.legend()\n",
    "plt.show()"
   ]
  },
  {
   "cell_type": "markdown",
   "id": "1ae04f0b",
   "metadata": {},
   "source": [
    "Kriging"
   ]
  },
  {
   "cell_type": "code",
   "execution_count": null,
   "id": "6d536133",
   "metadata": {},
   "outputs": [],
   "source": [
    "#TODO : optimize\n",
    "#proj = gl.ProjMatrix(dbdat, mesh)"
   ]
  },
  {
   "cell_type": "code",
   "execution_count": null,
   "id": "550fd894",
   "metadata": {},
   "outputs": [],
   "source": []
  }
 ],
 "metadata": {
  "kernelspec": {
   "display_name": "Python 3 (ipykernel)",
   "language": "python",
   "name": "python3"
  },
  "language_info": {
   "codemirror_mode": {
    "name": "ipython",
    "version": 3
   },
   "file_extension": ".py",
   "mimetype": "text/x-python",
   "name": "python",
   "nbconvert_exporter": "python",
   "pygments_lexer": "ipython3",
   "version": "3.10.5"
  }
 },
 "nbformat": 4,
 "nbformat_minor": 5
}
