{
 "cells": [
  {
   "cell_type": "markdown",
   "id": "5c2d19ae",
   "metadata": {},
   "source": [
    "# SPDE simulation on a sphere"
   ]
  },
  {
   "cell_type": "markdown",
   "id": "e4253056",
   "metadata": {},
   "source": [
    "<!-- SUMMARY: Simulations performed on a Sphere, treated in the SPDE formalism -->\n",
    "\n",
    "<!-- CATEGORY: SPDE -->"
   ]
  },
  {
   "cell_type": "code",
   "execution_count": null,
   "id": "c2097ee5",
   "metadata": {},
   "outputs": [],
   "source": [
    "import gstlearn as gl\n",
    "import gstlearn.plot as gp\n",
    "import gstlearn.document as gdoc\n",
    "import gstlearn.plot3D as gop\n",
    "import numpy as np \n",
    "import matplotlib.pyplot as plt\n",
    "import plotly.graph_objects as go\n",
    "import IPython\n",
    "from IPython.display import Markdown\n",
    "gdoc.setNoScroll()"
   ]
  },
  {
   "cell_type": "code",
   "execution_count": null,
   "id": "39a3087f",
   "metadata": {},
   "outputs": [],
   "source": [
    "Markdown(gdoc.loadDoc(\"SPDE_Sphere.md\"))"
   ]
  },
  {
   "cell_type": "code",
   "execution_count": null,
   "id": "ec7d463d",
   "metadata": {},
   "outputs": [],
   "source": [
    "# Markov (if False, Matérn covariance will be used)\n",
    "Markov = True"
   ]
  },
  {
   "cell_type": "markdown",
   "id": "b5ab997c",
   "metadata": {},
   "source": [
    "### Parametrization"
   ]
  },
  {
   "cell_type": "code",
   "execution_count": null,
   "id": "56d3af1d",
   "metadata": {},
   "outputs": [],
   "source": [
    "#Sphere radius\n",
    "R = gl.EARTH_RADIUS\n",
    "gl.defineDefaultSpace(gl.ESpaceType.SN,param=R)\n",
    "\n",
    "#Scale parameter (for convenience, it is defined as the proportion of the radius)\n",
    "ratioRange = 0.2\n",
    "scale = R * ratioRange\n",
    "\n",
    "# sill \n",
    "sill = 2. \n",
    "\n",
    "# Smoothness parameter (for Matérn case)\n",
    "nu = 2\n",
    "\n",
    "# Markov coefficients (for Markov case)\n",
    "coeffs = [1,-1,.5]"
   ]
  },
  {
   "cell_type": "markdown",
   "id": "d278914c",
   "metadata": {},
   "source": [
    "### Meshing"
   ]
  },
  {
   "cell_type": "code",
   "execution_count": null,
   "id": "6ab990c1",
   "metadata": {},
   "outputs": [],
   "source": [
    "mesh = gl.MeshSphericalExt()\n",
    "err = mesh.resetFromDb(None,None,triswitch = \"-r5\",verbose=False)"
   ]
  },
  {
   "cell_type": "markdown",
   "id": "5085a1f9",
   "metadata": {},
   "source": [
    "Sampling Db creation"
   ]
  },
  {
   "cell_type": "code",
   "execution_count": null,
   "id": "6b6d7764",
   "metadata": {},
   "outputs": [],
   "source": [
    "nsample = 4000\n",
    "#sub-sampling to reduce computational burden\n",
    "np.random.seed(123)\n",
    "ind = np.random.choice(mesh.getNApices(),size=nsample,replace=False)\n",
    "\n",
    "#Creation of the db\n",
    "X = mesh.getCoordinatesPerApex(0)\n",
    "Y = mesh.getCoordinatesPerApex(1)\n",
    "\n",
    "dbdat = gl.Db.create()\n",
    "dbdat[\"x\"] = np.array(X)[ind]\n",
    "dbdat[\"y\"] = np.array(Y)[ind]\n",
    "dbdat.setLocators([\"x\",\"y\"],gl.ELoc.X)\n",
    "\n",
    "varsize = np.ones(nsample)\n",
    "iuid = dbdat.addColumns(varsize, \"sizes\")\n",
    "varcolor = np.ones(nsample)\n",
    "iuid = dbdat.addColumns(varcolor, \"colors\")"
   ]
  },
  {
   "cell_type": "markdown",
   "id": "67b54f0d",
   "metadata": {},
   "source": [
    "### Covariance model\n",
    "\n",
    "The covariance model is Markov or Matérn."
   ]
  },
  {
   "cell_type": "code",
   "execution_count": null,
   "id": "98abbaae",
   "metadata": {},
   "outputs": [],
   "source": [
    "if Markov : \n",
    "    model = gl.Model.createFromParam(type=gl.ECov.MARKOV,\n",
    "                                 range = scale,\n",
    "                                 sill = sill,\n",
    "                                 flagRange= False)\n",
    "    model.setMarkovCoeffs(0, coeffs)\n",
    "    \n",
    "else :\n",
    "\n",
    "    model = gl.Model.createFromParam(type=gl.ECov.MATERN,\n",
    "                                 range = scale,\n",
    "                                 sill = sill,\n",
    "                                 param=nu,\n",
    "                                 flagRange= False)"
   ]
  },
  {
   "cell_type": "markdown",
   "id": "6b237588",
   "metadata": {},
   "source": [
    "### Precision matrix"
   ]
  },
  {
   "cell_type": "code",
   "execution_count": null,
   "id": "db94d8ea",
   "metadata": {},
   "outputs": [],
   "source": [
    "Q = gl.PrecisionOp(mesh,model.getCovAniso(0))"
   ]
  },
  {
   "cell_type": "markdown",
   "id": "a0caa7b9",
   "metadata": {},
   "source": [
    "### Simulation "
   ]
  },
  {
   "cell_type": "code",
   "execution_count": null,
   "id": "cc2de978",
   "metadata": {},
   "outputs": [],
   "source": [
    "result = np.array(Q.simulateOne())"
   ]
  },
  {
   "cell_type": "markdown",
   "id": "ea41267c",
   "metadata": {},
   "source": [
    "### Display the realization\n",
    " "
   ]
  },
  {
   "cell_type": "code",
   "execution_count": null,
   "id": "9dcc2533",
   "metadata": {
    "scrolled": true
   },
   "outputs": [],
   "source": [
    "surface = gop.SurfaceOnMesh(mesh, result,opacity=1)\n",
    "fig = go.Figure(data=[ surface ])\n",
    "fig.update_scenes(xaxis_visible=False, yaxis_visible=False,zaxis_visible=False )\n",
    "f = fig.show()"
   ]
  },
  {
   "cell_type": "markdown",
   "id": "ce7e627d",
   "metadata": {},
   "source": [
    "### Compute covariance (of discretized solution)\n",
    "\n",
    "We use the fact that $\\Sigma = Q^{-1}$ and solve $Qx = e_j$ for an arbitrary index $j$."
   ]
  },
  {
   "cell_type": "markdown",
   "id": "6c9287c4",
   "metadata": {},
   "source": [
    "**Get the distances**"
   ]
  },
  {
   "cell_type": "code",
   "execution_count": null,
   "id": "98f690a1",
   "metadata": {},
   "outputs": [],
   "source": [
    "ind0 = 12\n",
    "distances = np.array(mesh.getDistances(ind0))"
   ]
  },
  {
   "cell_type": "markdown",
   "id": "a0f09107",
   "metadata": {},
   "source": [
    "**Compute the covariances**"
   ]
  },
  {
   "cell_type": "code",
   "execution_count": null,
   "id": "b4068090",
   "metadata": {},
   "outputs": [],
   "source": [
    "covDiscr = np.array(Q.computeCov(ind0))"
   ]
  },
  {
   "cell_type": "markdown",
   "id": "7813cdc0",
   "metadata": {},
   "source": [
    "**Sort for the plot**"
   ]
  },
  {
   "cell_type": "code",
   "execution_count": null,
   "id": "08ef92c5",
   "metadata": {},
   "outputs": [],
   "source": [
    "covDiscrClose = covDiscr[np.argsort(distances)]\n",
    "deltaLong =  np.sort(distances)\n",
    "print(f\"Discretized Covariance = {round(covDiscrClose[0],4)}\")"
   ]
  },
  {
   "cell_type": "markdown",
   "id": "69f8c201",
   "metadata": {},
   "source": [
    "**Display the result**"
   ]
  },
  {
   "cell_type": "code",
   "execution_count": null,
   "id": "e2821ad2",
   "metadata": {},
   "outputs": [],
   "source": [
    "plt.plot(deltaLong,covDiscrClose,\"--\",label = \"Discretized covariance\")\n",
    "ax = plt.legend()\n",
    "print(f\"Discretized variance = {round(covDiscrClose[0],4)}\")"
   ]
  },
  {
   "cell_type": "markdown",
   "id": "1e98ef76",
   "metadata": {},
   "source": [
    "### Variogram of the realization\n",
    "\n",
    "The empirical variogram is computed by using the great-circle distance."
   ]
  },
  {
   "cell_type": "code",
   "execution_count": null,
   "id": "6b09942a",
   "metadata": {},
   "outputs": [],
   "source": [
    "nlag = 50 # number of discretization points\n",
    "dlag = 0.04 # lag with respect to the unit sphere (it will be multiplied\n",
    "# by R in the creation of the VarioParam.\n",
    "\n",
    "dbdat[\"simu\"] = np.array(result)[ind]\n",
    "dbdat.setLocators([\"simu\"],gl.ELoc.Z)\n",
    "\n",
    "#Variogram \n",
    "\n",
    "vp = gl.VarioParam.createOmniDirection(nlag=nlag,dlag=dlag * R)\n",
    "vario = gl.Vario.create(vp)\n",
    "ax = vario.compute(dbdat,gl.ECalcVario.VARIOGRAM)\n",
    "#vario.display()"
   ]
  },
  {
   "cell_type": "code",
   "execution_count": null,
   "id": "1dd05b25",
   "metadata": {},
   "outputs": [],
   "source": [
    "res = gp.plot(vario, label = \"Empirical Variogram\", flagLegend=True)"
   ]
  },
  {
   "cell_type": "markdown",
   "id": "78e06dcf",
   "metadata": {},
   "source": [
    "### Theoretical covariance function"
   ]
  },
  {
   "cell_type": "code",
   "execution_count": null,
   "id": "9376427a",
   "metadata": {},
   "outputs": [],
   "source": [
    "Markdown(gdoc.loadDoc(\"Covariance_Sphere.md\"))"
   ]
  },
  {
   "cell_type": "markdown",
   "id": "4ec461a3",
   "metadata": {},
   "source": [
    "### Evaluation "
   ]
  },
  {
   "cell_type": "code",
   "execution_count": null,
   "id": "7f6ec598",
   "metadata": {},
   "outputs": [],
   "source": [
    "ndisc = 100 # number of discretization steps for the covariance \n",
    "N = 20 # size of the decomposition\n",
    "\n",
    "h = np.linspace(0,np.max(deltaLong),ndisc)\n",
    "a = model.getCovAniso(0)\n",
    "uu = np.array([a.evalCovOnSphere(i,N) for i in h]) # modif dR\n",
    "\n",
    "gp.plot(vario, label = \"Empirical Variogram\", flagLegend=True)\n",
    "plt.plot(h, sill - uu,label = \"Theoretical Variogram\")\n",
    "plt.plot(deltaLong,covDiscrClose[0] - covDiscrClose,\"--\",label = \"Discretized model\")\n",
    "plt.show()"
   ]
  },
  {
   "cell_type": "markdown",
   "id": "4dd718c6",
   "metadata": {},
   "source": [
    "There is a slight difference between the theoretical variogram and the one obtained from the SPDE discretization due to a numerical error on the variance introduced by the discretization. The comparison of the covariance shows that this numerical error is rather small :"
   ]
  },
  {
   "cell_type": "code",
   "execution_count": null,
   "id": "b141cd96",
   "metadata": {
    "scrolled": true
   },
   "outputs": [],
   "source": [
    "h = np.linspace(0,np.max(deltaLong),ndisc)\n",
    "vario = gl.Vario.create(vp)\n",
    "\n",
    "ax = vario.compute(dbdat,gl.ECalcVario.COVARIANCE)\n",
    "#ax = gp.variogram(vario,label = \"Empirical Covariance\")\n",
    "ax = plt.plot(h, uu, label = \"Theoretical Covariance\")\n",
    "plt.plot(deltaLong,covDiscrClose,\"--\",label = \"Discretized model\")\n",
    "ax = plt.legend()\n",
    "plt.show()\n",
    "\n",
    "print(f\"Theoretical variance = {round(uu[0],4)}\")"
   ]
  },
  {
   "cell_type": "markdown",
   "id": "a94c42b6",
   "metadata": {},
   "source": [
    "## Kriging"
   ]
  },
  {
   "cell_type": "markdown",
   "id": "e8c04d03",
   "metadata": {},
   "source": [
    "Plotting the mesh and the data"
   ]
  },
  {
   "cell_type": "code",
   "execution_count": null,
   "id": "9d28df7a",
   "metadata": {},
   "outputs": [],
   "source": [
    "dbdat"
   ]
  },
  {
   "cell_type": "code",
   "execution_count": null,
   "id": "8a7acc19",
   "metadata": {},
   "outputs": [],
   "source": [
    "mesh = gl.MeshSphericalExt()\n",
    "err = mesh.resetFromDb(None,None,triswitch = \"-r2\",verbose=False)\n",
    "\n",
    "point = gop.PointDb(dbdat, size=1, nameColor = \"simu\", fromLongLat=True)\n",
    "blank = gop.SurfaceOnMesh(mesh, opacity=1)\n",
    "meshing = gop.Meshing(mesh)\n",
    "\n",
    "fig = go.Figure(data = [blank, meshing, point])\n",
    "fig.update_scenes(xaxis_visible=False, yaxis_visible=False, zaxis_visible=False )\n",
    "f = fig.show()"
   ]
  },
  {
   "cell_type": "code",
   "execution_count": null,
   "id": "da201d22",
   "metadata": {},
   "outputs": [],
   "source": [
    "ball = gl.Ball(mesh);\n",
    "ball.display();"
   ]
  },
  {
   "cell_type": "markdown",
   "id": "0ce5c83f",
   "metadata": {},
   "source": [
    "Highlight One sample and check the closest meshes"
   ]
  },
  {
   "cell_type": "code",
   "execution_count": null,
   "id": "30cf9b7c",
   "metadata": {
    "scrolled": true
   },
   "outputs": [],
   "source": [
    "point = gop.PointDb(dbdat, size=1, nameColor = \"simu\", fromLongLat=True)\n",
    "blank = gop.SurfaceOnMesh(mesh, opacity=1)\n",
    "meshing = gop.Meshing(mesh)\n",
    "\n",
    "fig = go.Figure(data = [blank, meshing, point])\n",
    "fig.update_scenes(xaxis_visible=False, yaxis_visible=False, zaxis_visible=False )\n",
    "f = fig.show()"
   ]
  },
  {
   "cell_type": "code",
   "execution_count": null,
   "id": "71cd4b7b",
   "metadata": {},
   "outputs": [],
   "source": [
    "def highlight(sample = 0, verbose = False):\n",
    "    if verbose:\n",
    "        print(\"Rank of the Target sample =\", sample)\n",
    "        \n",
    "    target = dbdat.getSampleCoordinates(sample)\n",
    "    if verbose:\n",
    "        print(\"Target = \",target)\n",
    "        \n",
    "    mymesh = ball.queryClosest(target)\n",
    "    if verbose:\n",
    "        print(\"Rank of the Target Mesh = \", mymesh)\n",
    "\n",
    "    veclon = mesh.getCoordinatesPerMesh(mymesh, 0)\n",
    "    veclat = mesh.getCoordinatesPerMesh(mymesh, 1)\n",
    "    if verbose:\n",
    "        print(\"Longitude = \", veclon)\n",
    "        print(\"Latitude  = \", veclat)\n",
    "    \n",
    "    return veclon, veclat"
   ]
  },
  {
   "cell_type": "code",
   "execution_count": null,
   "id": "ec70771c",
   "metadata": {},
   "outputs": [],
   "source": [
    "mysample = 5\n",
    "veclon, veclat = highlight(mysample)\n",
    "dbdat.setValue(\"sizes\", mysample, 12)\n",
    "dbdat.setValue(\"colors\", mysample, 1)\n",
    "point   = gop.PointDb(dbdat, nameSize = \"sizes\", nameColor = \"colors\", fromLongLat=True)\n",
    "blank   = gop.SurfaceOnMesh(mesh, opacity=1,)\n",
    "meshing = gop.Meshing(mesh)\n",
    "scatter = gop.ScatterOnSphere(veclon, veclat, mode=\"markers\", m_color='black', m_size=2)\n",
    "\n",
    "fig = go.Figure(data = [blank, point, meshing, scatter])\n",
    "fig.update_scenes(xaxis_visible=False, yaxis_visible=False, zaxis_visible=False )\n",
    "f = fig.show()\n",
    "\n",
    "dbdat.setValue(\"sizes\", mysample, 1)\n",
    "dbdat.setValue(\"colors\", mysample, 1)"
   ]
  },
  {
   "cell_type": "code",
   "execution_count": null,
   "id": "c7475752",
   "metadata": {
    "scrolled": true
   },
   "outputs": [],
   "source": [
    "Aproj = gl.ProjMatrix(dbdat, mesh)\n",
    "Aproj.dumpVerticesUsed(30) # Dump the weights for the first samples"
   ]
  }
 ],
 "metadata": {
  "kernelspec": {
   "display_name": "Python 3 (ipykernel)",
   "language": "python",
   "name": "python3"
  },
  "language_info": {
   "codemirror_mode": {
    "name": "ipython",
    "version": 3
   },
   "file_extension": ".py",
   "mimetype": "text/x-python",
   "name": "python",
   "nbconvert_exporter": "python",
   "pygments_lexer": "ipython3",
   "version": "3.10.5"
  },
  "toc": {
   "base_numbering": 1,
   "nav_menu": {},
   "number_sections": true,
   "sideBar": true,
   "skip_h1_title": false,
   "title_cell": "Table of Contents",
   "title_sidebar": "Contents",
   "toc_cell": false,
   "toc_position": {},
   "toc_section_display": true,
   "toc_window_display": false
  }
 },
 "nbformat": 4,
 "nbformat_minor": 5
}
