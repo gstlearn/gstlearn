{
 "cells": [
  {
   "cell_type": "markdown",
   "id": "9f23e477",
   "metadata": {},
   "source": [
    "# SPDE simulation on a sphere"
   ]
  },
  {
   "cell_type": "markdown",
   "id": "beb8af48",
   "metadata": {},
   "source": [
    "<!-- SUMMARY: Simulations performed on a Sphere, treated in the SPDE formalism -->\n",
    "\n",
    "<!-- CATEGORY: SPDE -->"
   ]
  },
  {
   "cell_type": "code",
   "execution_count": null,
   "id": "5d0478d7",
   "metadata": {},
   "outputs": [],
   "source": [
    "import gstlearn as gl\n",
    "import gstlearn.plot as gp\n",
    "import gstlearn.document as gdoc\n",
    "import gstlearn.plot3D as gop\n",
    "import numpy as np \n",
    "import matplotlib.pyplot as plt\n",
    "import plotly.graph_objects as go\n",
    "import IPython\n",
    "from IPython.display import Markdown\n",
    "\n",
    "gdoc.setNoScroll()"
   ]
  },
  {
   "cell_type": "code",
   "execution_count": null,
   "id": "fd67c43d",
   "metadata": {},
   "outputs": [],
   "source": [
    "Markdown(gdoc.loadDoc(\"SPDE_Sphere.md\"))"
   ]
  },
  {
   "cell_type": "code",
   "execution_count": null,
   "id": "afd1ad28",
   "metadata": {},
   "outputs": [],
   "source": [
    "# Markov (if False, Matérn covariance will be used)\n",
    "Markov = True"
   ]
  },
  {
   "cell_type": "markdown",
   "id": "0682fd60",
   "metadata": {},
   "source": [
    "### Parametrization"
   ]
  },
  {
   "cell_type": "code",
   "execution_count": null,
   "id": "7957a558",
   "metadata": {},
   "outputs": [],
   "source": [
    "#Sphere radius\n",
    "R = gl.EARTH_RADIUS\n",
    "gl.defineDefaultSpace(gl.ESpaceType.SN,param=R)\n",
    "\n",
    "#Scale parameter (for convenience, it is defined as the proportion of the radius)\n",
    "ratioRange = 0.2\n",
    "scale = R * ratioRange\n",
    "\n",
    "# sill \n",
    "sill = 2. \n",
    "\n",
    "# Smoothness parameter (for Matérn case)\n",
    "nu = 2\n",
    "\n",
    "# Markov coefficients (for Markov case)\n",
    "coeffs = [1,-1,.5]"
   ]
  },
  {
   "cell_type": "markdown",
   "id": "77214ede",
   "metadata": {},
   "source": [
    "### Meshing"
   ]
  },
  {
   "cell_type": "code",
   "execution_count": null,
   "id": "4279a1bc",
   "metadata": {},
   "outputs": [],
   "source": [
    "mesh = gl.MeshSphericalExt()\n",
    "err = mesh.resetFromDb(None,None,triswitch = \"-r5\",verbose=False)"
   ]
  },
  {
   "cell_type": "markdown",
   "id": "90c2b9bd",
   "metadata": {},
   "source": [
    "Sampling Db creation"
   ]
  },
  {
   "cell_type": "code",
   "execution_count": null,
   "id": "bd009fda",
   "metadata": {},
   "outputs": [],
   "source": [
    "nsample = 4000\n",
    "#sub-sampling to reduce computational burden\n",
    "np.random.seed(123)\n",
    "ind = np.random.choice(mesh.getNApices(),size=nsample,replace=False)\n",
    "\n",
    "#Creation of the db\n",
    "X = mesh.getCoordinates(0)\n",
    "Y = mesh.getCoordinates(1)\n",
    "\n",
    "dbdat = gl.Db.create()\n",
    "dbdat[\"x\"] = np.array(X)[ind]\n",
    "dbdat[\"y\"] = np.array(Y)[ind]\n",
    "dbdat.setLocators([\"x\",\"y\"],gl.ELoc.X)"
   ]
  },
  {
   "cell_type": "markdown",
   "id": "dd53f938",
   "metadata": {},
   "source": [
    "### Covariance model\n",
    "\n",
    "The covariance model is Markov or Matérn."
   ]
  },
  {
   "cell_type": "code",
   "execution_count": null,
   "id": "7094ab9c",
   "metadata": {},
   "outputs": [],
   "source": [
    "if Markov : \n",
    "    model = gl.Model.createFromParam(type=gl.ECov.MARKOV,\n",
    "                                 range = scale,\n",
    "                                 sill = sill,\n",
    "                                 flagRange= False)\n",
    "    model.getCova(0).setMarkovCoeffs(coeffs)\n",
    "    \n",
    "else :\n",
    "\n",
    "    model = gl.Model.createFromParam(type=gl.ECov.BESSEL_K,\n",
    "                                 range = scale,\n",
    "                                 sill = sill,\n",
    "                                 param=nu,\n",
    "                                 flagRange= False)"
   ]
  },
  {
   "cell_type": "markdown",
   "id": "99f09929",
   "metadata": {},
   "source": [
    "### Precision matrix"
   ]
  },
  {
   "cell_type": "code",
   "execution_count": null,
   "id": "18b211b3",
   "metadata": {},
   "outputs": [],
   "source": [
    "Q = gl.PrecisionOp(mesh,model)"
   ]
  },
  {
   "cell_type": "markdown",
   "id": "7ae44395",
   "metadata": {},
   "source": [
    "### Simulation "
   ]
  },
  {
   "cell_type": "code",
   "execution_count": null,
   "id": "2bfff6ee",
   "metadata": {},
   "outputs": [],
   "source": [
    "result = np.array(Q.simulate()[0])"
   ]
  },
  {
   "cell_type": "markdown",
   "id": "53fc6433",
   "metadata": {},
   "source": [
    "### Display the realization\n",
    " "
   ]
  },
  {
   "cell_type": "code",
   "execution_count": null,
   "id": "18bc46b5",
   "metadata": {
    "scrolled": true
   },
   "outputs": [],
   "source": [
    "surface = gop.SurfaceOnMesh(mesh, result,opacity=1)\n",
    "fig = go.Figure(data=[ surface ])\n",
    "fig.update_scenes(xaxis_visible=False, yaxis_visible=False,zaxis_visible=False )\n",
    "f = fig.show()"
   ]
  },
  {
   "cell_type": "markdown",
   "id": "adaddb06",
   "metadata": {},
   "source": [
    "### Compute covariance (of discretized solution)\n",
    "\n",
    "We use the fact that $\\Sigma = Q^{-1}$ and solve $Qx = e_j$ for an arbitrary index $j$."
   ]
  },
  {
   "cell_type": "markdown",
   "id": "e29fddb6",
   "metadata": {},
   "source": [
    "**Get the distances**"
   ]
  },
  {
   "cell_type": "code",
   "execution_count": null,
   "id": "ebf143cf",
   "metadata": {},
   "outputs": [],
   "source": [
    "ind0 = 12\n",
    "distances = np.array(mesh.getDistances(ind0))"
   ]
  },
  {
   "cell_type": "markdown",
   "id": "a1d192d9",
   "metadata": {},
   "source": [
    "**Compute the covariances**"
   ]
  },
  {
   "cell_type": "code",
   "execution_count": null,
   "id": "3239f257",
   "metadata": {},
   "outputs": [],
   "source": [
    "covDiscr = np.array(Q.evalCov(ind0))"
   ]
  },
  {
   "cell_type": "markdown",
   "id": "d9fe429b",
   "metadata": {},
   "source": [
    "**Sort for the plot**"
   ]
  },
  {
   "cell_type": "code",
   "execution_count": null,
   "id": "a3715af3",
   "metadata": {},
   "outputs": [],
   "source": [
    "covDiscrClose = covDiscr[np.argsort(distances)]\n",
    "deltaLong =  np.sort(distances)"
   ]
  },
  {
   "cell_type": "markdown",
   "id": "531dcf9c",
   "metadata": {},
   "source": [
    "**Display the result**"
   ]
  },
  {
   "cell_type": "code",
   "execution_count": null,
   "id": "85ddec0b",
   "metadata": {},
   "outputs": [],
   "source": [
    "plt.plot(deltaLong,covDiscrClose,\"--\",label = \"Discretized covariance\")\n",
    "ax = plt.legend()"
   ]
  },
  {
   "cell_type": "markdown",
   "id": "a959f624",
   "metadata": {},
   "source": [
    "### Variogram of the realization\n",
    "\n",
    "The empirical variogram is computed by using the great-circle distance."
   ]
  },
  {
   "cell_type": "code",
   "execution_count": null,
   "id": "dc87c6f6",
   "metadata": {
    "scrolled": false
   },
   "outputs": [],
   "source": [
    "npas = 50 # number of discretization points\n",
    "dpas = 0.04 # lag with respect to the unit sphere (it will be multiplied\n",
    "# by R in the creation of the VarioParam.\n",
    "\n",
    "dbdat[\"simu\"] = np.array(result)[ind]\n",
    "dbdat.setLocators([\"simu\"],gl.ELoc.Z)\n",
    "\n",
    "#Variogram \n",
    "\n",
    "vp = gl.VarioParam.createOmniDirection(npas=npas,dpas=dpas * R)\n",
    "vario = gl.Vario.create(vp)\n",
    "ax = vario.compute(dbdat,gl.ECalcVario.VARIOGRAM)\n",
    "#vario.display()"
   ]
  },
  {
   "cell_type": "code",
   "execution_count": null,
   "id": "31fbc3f1",
   "metadata": {},
   "outputs": [],
   "source": [
    "ax = vario.plot(label = \"Empirical Variogram\")\n",
    "ax = plt.legend()"
   ]
  },
  {
   "cell_type": "markdown",
   "id": "3f5697e3",
   "metadata": {},
   "source": [
    "### Theoretical covariance function"
   ]
  },
  {
   "cell_type": "code",
   "execution_count": null,
   "id": "397b5b70",
   "metadata": {},
   "outputs": [],
   "source": [
    "Markdown(gdoc.loadDoc(\"Covariance_Sphere.md\"))"
   ]
  },
  {
   "cell_type": "markdown",
   "id": "068e35cd",
   "metadata": {},
   "source": [
    "### Evaluation "
   ]
  },
  {
   "cell_type": "code",
   "execution_count": null,
   "id": "34ddb2e3",
   "metadata": {},
   "outputs": [],
   "source": [
    "ndisc = 100 # number of discretization steps for the covariance \n",
    "N = 20 # size of the decomposition\n",
    "\n",
    "h = np.linspace(0,np.max(deltaLong),ndisc)\n",
    "ax = vario.plot(label = \"Empirical Variogram\")\n",
    "a = model.getCova(0)\n",
    "uu = np.array([a.evalCovOnSphere(i,N) for i in h]) # modif dR\n",
    "ax = plt.plot(h, sill - uu,label = \"Theoretical Variogram\")\n",
    "plt.plot(deltaLong,covDiscrClose[0] - covDiscrClose,\"--\",label = \"Discretized model\")\n",
    "ax = plt.legend()"
   ]
  },
  {
   "cell_type": "markdown",
   "id": "91f80dc2",
   "metadata": {},
   "source": [
    "There is a slight difference between the theoretical variogram and the one obtained from the SPDE discretization due to a numerical error on the variance introduced by the discretization. The comparison of the covariance shows that this numerical error is rather small :"
   ]
  },
  {
   "cell_type": "code",
   "execution_count": null,
   "id": "484526ee",
   "metadata": {
    "scrolled": true
   },
   "outputs": [],
   "source": [
    "h = np.linspace(0,np.max(deltaLong),ndisc)\n",
    "vario = gl.Vario.create(vp)\n",
    "ax = vario.compute(dbdat,gl.ECalcVario.COVARIANCE)\n",
    "#ax = gp.variogram(vario,label = \"Empirical Covariance\")\n",
    "ax = plt.plot(h, uu,label = \"Theoretical Covariance\")\n",
    "plt.plot(deltaLong,covDiscrClose,\"--\",label = \"Discretized model\")\n",
    "ax = plt.legend()\n",
    "plt.show()"
   ]
  },
  {
   "cell_type": "code",
   "execution_count": null,
   "id": "19e37855",
   "metadata": {
    "scrolled": false
   },
   "outputs": [],
   "source": [
    "h = np.linspace(0,np.max(deltaLong),ndisc)\n",
    "#vario = gl.Vario.create(vp,dbdat)\n",
    "#ax = vario.compute(gl.ECalcVario.COVARIANCE)\n",
    "#ax = gp.variogram(vario,label = \"Empirical Covariance\")\n",
    "#ax = plt.plot(h, uu,label = \"Theoretical Covariance\")\n",
    "plt.plot(deltaLong,covDiscrClose,\"--\",label = \"Discretized model\")\n",
    "ax = plt.legend()\n",
    "plt.show()"
   ]
  },
  {
   "cell_type": "markdown",
   "id": "1ae04f0b",
   "metadata": {},
   "source": [
    "Kriging"
   ]
  }
 ],
 "metadata": {
  "kernelspec": {
   "display_name": "Python 3 (ipykernel)",
   "language": "python",
   "name": "python3"
  },
  "language_info": {
   "codemirror_mode": {
    "name": "ipython",
    "version": 3
   },
   "file_extension": ".py",
   "mimetype": "text/x-python",
   "name": "python",
   "nbconvert_exporter": "python",
   "pygments_lexer": "ipython3",
   "version": "3.10.5"
  },
  "toc": {
   "base_numbering": 1,
   "nav_menu": {},
   "number_sections": true,
   "sideBar": true,
   "skip_h1_title": false,
   "title_cell": "Table of Contents",
   "title_sidebar": "Contents",
   "toc_cell": false,
   "toc_position": {},
   "toc_section_display": true,
   "toc_window_display": false
  }
 },
 "nbformat": 4,
 "nbformat_minor": 5
}
