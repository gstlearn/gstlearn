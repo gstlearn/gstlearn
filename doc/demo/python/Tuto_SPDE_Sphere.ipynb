{
 "cells": [
  {
   "cell_type": "markdown",
   "id": "1a57639e",
   "metadata": {},
   "source": [
    "# SPDE simulation on a sphere"
   ]
  },
  {
   "cell_type": "markdown",
   "id": "1d486862",
   "metadata": {},
   "source": [
    "<!-- SUMMARY: Simulations performed on a Sphere, treated in the SPDE formalism -->\n",
    "\n",
    "<!-- CATEGORY: SPDE -->"
   ]
  },
  {
   "cell_type": "code",
   "execution_count": null,
   "id": "8d70614c",
   "metadata": {},
   "outputs": [],
   "source": [
    "import gstlearn as gl\n",
    "import gstlearn.plot as gp\n",
    "import gstlearn.document as gdoc\n",
    "import gstlearn.plot3D as gop\n",
    "import numpy as np \n",
    "import matplotlib.pyplot as plt\n",
    "import plotly.graph_objects as go\n",
    "import IPython\n",
    "from IPython.display import Markdown\n",
    "gdoc.setNoScroll()"
   ]
  },
  {
   "cell_type": "code",
   "execution_count": null,
   "id": "8c30c18c",
   "metadata": {},
   "outputs": [],
   "source": [
    "Markdown(gdoc.loadDoc(\"SPDE_Sphere.md\"))"
   ]
  },
  {
   "cell_type": "code",
   "execution_count": null,
   "id": "4fb6ead3",
   "metadata": {},
   "outputs": [],
   "source": [
    "# Markov (if False, Matérn covariance will be used)\n",
    "Markov = True"
   ]
  },
  {
   "cell_type": "markdown",
   "id": "55a0ec38",
   "metadata": {},
   "source": [
    "### Parametrization"
   ]
  },
  {
   "cell_type": "code",
   "execution_count": null,
   "id": "6b784819",
   "metadata": {},
   "outputs": [],
   "source": [
    "#Sphere radius\n",
    "R = gl.EARTH_RADIUS\n",
    "gl.defineDefaultSpace(gl.ESpaceType.SN,param=R)\n",
    "\n",
    "#Scale parameter (for convenience, it is defined as the proportion of the radius)\n",
    "ratioRange = 0.2\n",
    "scale = R * ratioRange\n",
    "\n",
    "# sill \n",
    "sill = 2. \n",
    "\n",
    "# Smoothness parameter (for Matérn case)\n",
    "nu = 2\n",
    "\n",
    "# Markov coefficients (for Markov case)\n",
    "coeffs = [1,-1,.5]"
   ]
  },
  {
   "cell_type": "markdown",
   "id": "33ab99b1",
   "metadata": {},
   "source": [
    "### Meshing"
   ]
  },
  {
   "cell_type": "code",
   "execution_count": null,
   "id": "6ca10b43",
   "metadata": {},
   "outputs": [],
   "source": [
    "mesh = gl.MeshSphericalExt()\n",
    "err = mesh.resetFromDb(None,None,triswitch = \"-r5\",verbose=False)"
   ]
  },
  {
   "cell_type": "markdown",
   "id": "4c9af358",
   "metadata": {},
   "source": [
    "Sampling Db creation"
   ]
  },
  {
   "cell_type": "code",
   "execution_count": null,
   "id": "d7533a29",
   "metadata": {},
   "outputs": [],
   "source": [
    "nsample = 4000\n",
    "#sub-sampling to reduce computational burden\n",
    "np.random.seed(123)\n",
    "ind = np.random.choice(mesh.getNApices(),size=nsample,replace=False)\n",
    "\n",
    "#Creation of the db\n",
    "X = mesh.getCoordinatesPerApex(0)\n",
    "Y = mesh.getCoordinatesPerApex(1)\n",
    "\n",
    "dbdat = gl.Db.create()\n",
    "dbdat[\"x\"] = np.array(X)[ind]\n",
    "dbdat[\"y\"] = np.array(Y)[ind]\n",
    "dbdat.setLocators([\"x\",\"y\"],gl.ELoc.X)"
   ]
  },
  {
   "cell_type": "markdown",
   "id": "b992078b",
   "metadata": {},
   "source": [
    "### Covariance model\n",
    "\n",
    "The covariance model is Markov or Matérn."
   ]
  },
  {
   "cell_type": "code",
   "execution_count": null,
   "id": "fe9712e0",
   "metadata": {},
   "outputs": [],
   "source": [
    "if Markov : \n",
    "    model = gl.Model.createFromParam(type=gl.ECov.MARKOV,\n",
    "                                 range = scale,\n",
    "                                 sill = sill,\n",
    "                                 flagRange= False)\n",
    "    model.setMarkovCoeffs(0, coeffs)\n",
    "    \n",
    "else :\n",
    "\n",
    "    model = gl.Model.createFromParam(type=gl.ECov.MATERN,\n",
    "                                 range = scale,\n",
    "                                 sill = sill,\n",
    "                                 param=nu,\n",
    "                                 flagRange= False)"
   ]
  },
  {
   "cell_type": "markdown",
   "id": "e4b7c86b",
   "metadata": {},
   "source": [
    "### Precision matrix"
   ]
  },
  {
   "cell_type": "code",
   "execution_count": null,
   "id": "d4abf232",
   "metadata": {},
   "outputs": [],
   "source": [
    "Q = gl.PrecisionOp(mesh,model.getCovAniso(0))"
   ]
  },
  {
   "cell_type": "markdown",
   "id": "1c4a6373",
   "metadata": {},
   "source": [
    "### Simulation "
   ]
  },
  {
   "cell_type": "code",
   "execution_count": null,
   "id": "72562cee",
   "metadata": {},
   "outputs": [],
   "source": [
    "result = np.array(Q.simulateOne())"
   ]
  },
  {
   "cell_type": "markdown",
   "id": "517e054b",
   "metadata": {},
   "source": [
    "### Display the realization\n",
    " "
   ]
  },
  {
   "cell_type": "code",
   "execution_count": null,
   "id": "cfee27df",
   "metadata": {
    "scrolled": true
   },
   "outputs": [],
   "source": [
    "surface = gop.SurfaceOnMesh(mesh, result,opacity=1)\n",
    "fig = go.Figure(data=[ surface ])\n",
    "fig.update_scenes(xaxis_visible=False, yaxis_visible=False,zaxis_visible=False )\n",
    "f = fig.show()"
   ]
  },
  {
   "cell_type": "markdown",
   "id": "998e87ac",
   "metadata": {},
   "source": [
    "### Compute covariance (of discretized solution)\n",
    "\n",
    "We use the fact that $\\Sigma = Q^{-1}$ and solve $Qx = e_j$ for an arbitrary index $j$."
   ]
  },
  {
   "cell_type": "markdown",
   "id": "ff2e9a86",
   "metadata": {},
   "source": [
    "**Get the distances**"
   ]
  },
  {
   "cell_type": "code",
   "execution_count": null,
   "id": "258473ef",
   "metadata": {},
   "outputs": [],
   "source": [
    "ind0 = 12\n",
    "distances = np.array(mesh.getDistances(ind0))"
   ]
  },
  {
   "cell_type": "markdown",
   "id": "b809eea5",
   "metadata": {},
   "source": [
    "**Compute the covariances**"
   ]
  },
  {
   "cell_type": "code",
   "execution_count": null,
   "id": "13811f83",
   "metadata": {},
   "outputs": [],
   "source": [
    "covDiscr = np.array(Q.computeCov(ind0))"
   ]
  },
  {
   "cell_type": "markdown",
   "id": "64ea71f7",
   "metadata": {},
   "source": [
    "**Sort for the plot**"
   ]
  },
  {
   "cell_type": "code",
   "execution_count": null,
   "id": "5daff8e2",
   "metadata": {},
   "outputs": [],
   "source": [
    "covDiscrClose = covDiscr[np.argsort(distances)]\n",
    "deltaLong =  np.sort(distances)\n",
    "print(f\"Discretized Covariance = {round(covDiscrClose[0],4)}\")"
   ]
  },
  {
   "cell_type": "markdown",
   "id": "3cd3f266",
   "metadata": {},
   "source": [
    "**Display the result**"
   ]
  },
  {
   "cell_type": "code",
   "execution_count": null,
   "id": "625efa81",
   "metadata": {},
   "outputs": [],
   "source": [
    "plt.plot(deltaLong,covDiscrClose,\"--\",label = \"Discretized covariance\")\n",
    "ax = plt.legend()\n",
    "print(f\"Discretized variance = {round(covDiscrClose[0],4)}\")"
   ]
  },
  {
   "cell_type": "markdown",
   "id": "a00ad8bd",
   "metadata": {},
   "source": [
    "### Variogram of the realization\n",
    "\n",
    "The empirical variogram is computed by using the great-circle distance."
   ]
  },
  {
   "cell_type": "code",
   "execution_count": null,
   "id": "157949e0",
   "metadata": {},
   "outputs": [],
   "source": [
    "nlag = 50 # number of discretization points\n",
    "dlag = 0.04 # lag with respect to the unit sphere (it will be multiplied\n",
    "# by R in the creation of the VarioParam.\n",
    "\n",
    "dbdat[\"simu\"] = np.array(result)[ind]\n",
    "dbdat.setLocators([\"simu\"],gl.ELoc.Z)\n",
    "\n",
    "#Variogram \n",
    "\n",
    "vp = gl.VarioParam.createOmniDirection(nlag=nlag,dlag=dlag * R)\n",
    "vario = gl.Vario.create(vp)\n",
    "ax = vario.compute(dbdat,gl.ECalcVario.VARIOGRAM)\n",
    "#vario.display()"
   ]
  },
  {
   "cell_type": "code",
   "execution_count": null,
   "id": "d76447d0",
   "metadata": {},
   "outputs": [],
   "source": [
    "res = gp.plot(vario, label = \"Empirical Variogram\", flagLegend=True)"
   ]
  },
  {
   "cell_type": "markdown",
   "id": "05c4f495",
   "metadata": {},
   "source": [
    "### Theoretical covariance function"
   ]
  },
  {
   "cell_type": "code",
   "execution_count": null,
   "id": "983c4903",
   "metadata": {},
   "outputs": [],
   "source": [
    "Markdown(gdoc.loadDoc(\"Covariance_Sphere.md\"))"
   ]
  },
  {
   "cell_type": "markdown",
   "id": "2fa742e3",
   "metadata": {},
   "source": [
    "### Evaluation "
   ]
  },
  {
   "cell_type": "code",
   "execution_count": null,
   "id": "b614da87",
   "metadata": {},
   "outputs": [],
   "source": [
    "ndisc = 100 # number of discretization steps for the covariance \n",
    "N = 20 # size of the decomposition\n",
    "\n",
    "h = np.linspace(0,np.max(deltaLong),ndisc)\n",
    "a = model.getCovAniso(0)\n",
    "uu = np.array([a.evalCovOnSphere(i,N) for i in h]) # modif dR\n",
    "\n",
    "gp.plot(vario, label = \"Empirical Variogram\", flagLegend=True)\n",
    "plt.plot(h, sill - uu,label = \"Theoretical Variogram\")\n",
    "plt.plot(deltaLong,covDiscrClose[0] - covDiscrClose,\"--\",label = \"Discretized model\")\n",
    "plt.show()"
   ]
  },
  {
   "cell_type": "markdown",
   "id": "6eae2368",
   "metadata": {},
   "source": [
    "There is a slight difference between the theoretical variogram and the one obtained from the SPDE discretization due to a numerical error on the variance introduced by the discretization. The comparison of the covariance shows that this numerical error is rather small :"
   ]
  },
  {
   "cell_type": "code",
   "execution_count": null,
   "id": "064c451b",
   "metadata": {},
   "outputs": [],
   "source": [
    "h = np.linspace(0,np.max(deltaLong),ndisc)\n",
    "vario = gl.Vario.create(vp)\n",
    "\n",
    "ax = vario.compute(dbdat,gl.ECalcVario.COVARIANCE)\n",
    "#ax = gp.variogram(vario,label = \"Empirical Covariance\")\n",
    "ax = plt.plot(h, uu, label = \"Theoretical Covariance\")\n",
    "plt.plot(deltaLong,covDiscrClose,\"--\",label = \"Discretized model\")\n",
    "ax = plt.legend()\n",
    "plt.show()"
   ]
  },
  {
   "cell_type": "code",
   "execution_count": null,
   "id": "f47eefb4",
   "metadata": {},
   "outputs": [],
   "source": [
    "h = np.linspace(0,np.max(deltaLong),ndisc)\n",
    "ax = plt.plot(h, uu,label = \"Theoretical Covariance\")\n",
    "ax = plt.legend()\n",
    "plt.show()\n",
    "print(r\"Theoretical variance\",uu[0])"
   ]
  },
  {
   "cell_type": "code",
   "execution_count": null,
   "id": "9042270a",
   "metadata": {
    "scrolled": true
   },
   "outputs": [],
   "source": [
    "h = np.linspace(0,np.max(deltaLong),ndisc)\n",
    "#vario = gl.Vario.create(vp,dbdat)\n",
    "#ax = vario.compute(gl.ECalcVario.COVARIANCE)\n",
    "#ax = gp.variogram(vario,label = \"Empirical Covariance\")\n",
    "#ax = plt.plot(h, uu,label = \"Theoretical Covariance\")\n",
    "plt.plot(deltaLong,covDiscrClose,\"--\",label = \"Discretized model\")\n",
    "ax = plt.legend()\n",
    "plt.show()"
   ]
  }
 ],
 "metadata": {
  "kernelspec": {
   "display_name": "Python 3 (ipykernel)",
   "language": "python",
   "name": "python3"
  },
  "language_info": {
   "codemirror_mode": {
    "name": "ipython",
    "version": 3
   },
   "file_extension": ".py",
   "mimetype": "text/x-python",
   "name": "python",
   "nbconvert_exporter": "python",
   "pygments_lexer": "ipython3",
   "version": "3.10.5"
  },
  "toc": {
   "base_numbering": 1,
   "nav_menu": {},
   "number_sections": true,
   "sideBar": true,
   "skip_h1_title": false,
   "title_cell": "Table of Contents",
   "title_sidebar": "Contents",
   "toc_cell": false,
   "toc_position": {},
   "toc_section_display": true,
   "toc_window_display": false
  }
 },
 "nbformat": 4,
 "nbformat_minor": 5
}
