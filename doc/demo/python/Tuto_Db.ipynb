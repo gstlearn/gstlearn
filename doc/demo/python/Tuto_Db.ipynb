{
 "cells": [
  {
   "cell_type": "markdown",
   "metadata": {},
   "source": [
    "# Data Base management (Db)"
   ]
  },
  {
   "cell_type": "code",
   "execution_count": null,
   "metadata": {},
   "outputs": [],
   "source": []
  },
  {
   "cell_type": "markdown",
   "metadata": {},
   "source": [
    "<!-- SUMMARY: Management of the Data Base internal to gstlearn Library (Db)  -->\n",
    "\n",
    "<!-- CATEGORY: Data_Base_Management -->"
   ]
  },
  {
   "cell_type": "markdown",
   "metadata": {},
   "source": [
    "## Import packages"
   ]
  },
  {
   "cell_type": "code",
   "execution_count": null,
   "metadata": {},
   "outputs": [],
   "source": [
    "import numpy as np\n",
    "import pandas as pd\n",
    "import sys\n",
    "import os\n",
    "import matplotlib.pyplot as plt\n",
    "import gstlearn as gl\n",
    "import gstlearn.plot as gp\n",
    "import gstlearn.document as gdoc\n",
    "\n",
    "gdoc.setNoScroll()"
   ]
  },
  {
   "cell_type": "markdown",
   "metadata": {},
   "source": [
    "Global variables"
   ]
  },
  {
   "cell_type": "code",
   "execution_count": null,
   "metadata": {},
   "outputs": [],
   "source": [
    "gl.OptCst.define(gl.ECst.NTCOL,6)\n",
    "gl.law_set_random_seed(13414)"
   ]
  },
  {
   "cell_type": "markdown",
   "metadata": {},
   "source": [
    "## Defining a Data set"
   ]
  },
  {
   "cell_type": "markdown",
   "metadata": {},
   "source": [
    "The data is defined by simulating samples at random within a given box. This study is performed in 2-D but this is not considered as a limitation."
   ]
  },
  {
   "cell_type": "code",
   "execution_count": null,
   "metadata": {},
   "outputs": [],
   "source": [
    "nech = 500\n",
    "mydb = gl.Db.createFromBox(nech, [0,0], [100, 100])\n",
    "mydb"
   ]
  },
  {
   "cell_type": "markdown",
   "metadata": {},
   "source": [
    "Displaying the Data set"
   ]
  },
  {
   "cell_type": "code",
   "execution_count": null,
   "metadata": {},
   "outputs": [],
   "source": [
    "ax = mydb.plot()"
   ]
  },
  {
   "cell_type": "markdown",
   "metadata": {},
   "source": [
    "We now define a vector of 0-1 integer values at random again, according to a Bernoulli distribution with a probability of 0.2. This vector is added to the Data Base."
   ]
  },
  {
   "cell_type": "code",
   "execution_count": null,
   "metadata": {},
   "outputs": [],
   "source": [
    "sel = gl.VectorHelper.simulateBernoulli(nech, 0.2)\n",
    "gl.VectorHelper.displayStats(\"Statistics on the Selection vector\",sel)\n",
    "iuid = mydb.addColumns(sel,\"sel\")"
   ]
  },
  {
   "cell_type": "code",
   "execution_count": null,
   "metadata": {},
   "outputs": [],
   "source": [
    "dbfmt = gl.DbStringFormat.createFromFlags(flag_stats=True, names=[\"sel\"])\n",
    "mydb.display(dbfmt)"
   ]
  },
  {
   "cell_type": "code",
   "execution_count": null,
   "metadata": {},
   "outputs": [],
   "source": [
    "ax = mydb.plot(nameColor=\"sel\")"
   ]
  },
  {
   "cell_type": "markdown",
   "metadata": {},
   "source": [
    "## Extracting a new Data Base upon ranks"
   ]
  },
  {
   "cell_type": "markdown",
   "metadata": {},
   "source": [
    "We demonstrate the possibility to extract a Data Base by specifying the selected ranks of an Input Data Base."
   ]
  },
  {
   "cell_type": "code",
   "execution_count": null,
   "metadata": {},
   "outputs": [],
   "source": [
    "ranks = gl.VectorHelper.sampleRanks(mydb.getSampleNumber(), proportion=0.2)\n",
    "print(\"Number of selected samples =\", len(ranks))"
   ]
  },
  {
   "cell_type": "code",
   "execution_count": null,
   "metadata": {},
   "outputs": [],
   "source": [
    "mydbred1 = gl.Db.createReduce(mydb, ranks=ranks)"
   ]
  },
  {
   "cell_type": "code",
   "execution_count": null,
   "metadata": {},
   "outputs": [],
   "source": [
    "ax = mydbred1.plot()\n",
    "ax.decoration(title=\"Extraction by Ranks\")"
   ]
  },
  {
   "cell_type": "markdown",
   "metadata": {},
   "source": [
    "## Extracting a new Data Base upon selection"
   ]
  },
  {
   "cell_type": "markdown",
   "metadata": {},
   "source": [
    "We now create turn the variable 'sel' into a selection and createa new data set which is restricted to the only active samples"
   ]
  },
  {
   "cell_type": "code",
   "execution_count": null,
   "metadata": {},
   "outputs": [],
   "source": [
    "mydb.setLocator('sel', gl.ELoc.SEL)\n",
    "mydbred2 = gl.Db.createReduce(mydb)\n",
    "mydbred2"
   ]
  },
  {
   "cell_type": "code",
   "execution_count": null,
   "metadata": {},
   "outputs": [],
   "source": [
    "ax = mydbred2.plot()\n",
    "ax.decoration(title=\"Extraction by Selection\")"
   ]
  },
  {
   "cell_type": "markdown",
   "metadata": {},
   "source": [
    "# Defining a Line Data set"
   ]
  },
  {
   "cell_type": "markdown",
   "metadata": {},
   "source": [
    "The data is defined in 2-D as a set of lines at random. The number of lines is provided. Each line contains a number of samples drawn at random."
   ]
  },
  {
   "cell_type": "code",
   "execution_count": null,
   "metadata": {},
   "outputs": [],
   "source": [
    "mydb = gl.DbLine.createFillRandom(ndim=2, nbline=10, nperline=30, delta=[1,-1])"
   ]
  },
  {
   "cell_type": "markdown",
   "metadata": {},
   "source": [
    "Understanding the contents of the DbLine file created randomly"
   ]
  },
  {
   "cell_type": "code",
   "execution_count": null,
   "metadata": {},
   "outputs": [],
   "source": [
    "mydb.display()"
   ]
  },
  {
   "cell_type": "markdown",
   "metadata": {},
   "source": [
    "Displaying the Line Data set"
   ]
  },
  {
   "cell_type": "code",
   "execution_count": null,
   "metadata": {},
   "outputs": [],
   "source": [
    "ax = mydb.plot(flagSample=True, flagAnnotateHeader=True)"
   ]
  },
  {
   "cell_type": "markdown",
   "metadata": {},
   "source": [
    "# Defining an Oriented Graph Data Set"
   ]
  },
  {
   "cell_type": "markdown",
   "metadata": {},
   "source": [
    "The data is defined in 2-D as a set of samples which are joined by arcs in order to form a Graph."
   ]
  },
  {
   "cell_type": "code",
   "execution_count": null,
   "metadata": {},
   "outputs": [],
   "source": [
    "x1  = np.array([ 0., 1., 2., 3., 4., 5., 6., 2., 3., 4., 5., 6., 7., 3., 4., 2., 3., 4., 0., 5., 7.])\n",
    "x2  = np.array([ 0., 0., 0., 0., 0., 0., 0., 1., 1., 1., 1., 1., 1., 2., 2., 3., 3., 3., 4., 5., 4.])\n",
    "z1  = np.array([1.2,2.5,3.6,1.4,0.3,0.2,8.2,0.3,3.2,1.2,0.4,0.1,0.3,3.2,4.5,1.2,5.2,1.2,1.1,2.2,3.3])\n",
    "tab = np.concatenate((x1, x2, z1))\n",
    "nech = len(x1)\n",
    "\n",
    "arcs = gl.MatrixSparse(nech,nech)\n",
    "arcs.setValue( 0, 1, gl.law_uniform());\n",
    "arcs.setValue( 1, 2, gl.law_uniform());\n",
    "arcs.setValue( 2, 3, gl.law_uniform());\n",
    "arcs.setValue( 3, 4, gl.law_uniform());\n",
    "arcs.setValue( 4, 5, gl.law_uniform());\n",
    "arcs.setValue( 5, 6, gl.law_uniform());\n",
    "arcs.setValue( 2, 7, gl.law_uniform());\n",
    "arcs.setValue( 7, 8, gl.law_uniform());\n",
    "arcs.setValue( 8, 9, gl.law_uniform());\n",
    "arcs.setValue( 9,10, gl.law_uniform());\n",
    "arcs.setValue(10,11, gl.law_uniform());\n",
    "arcs.setValue(11,12, gl.law_uniform());\n",
    "arcs.setValue( 8,13, gl.law_uniform());\n",
    "arcs.setValue(13,14, gl.law_uniform());\n",
    "arcs.setValue(14,11, gl.law_uniform());\n",
    "arcs.setValue( 7,15, gl.law_uniform());\n",
    "arcs.setValue(15,16, gl.law_uniform());\n",
    "arcs.setValue(16,17, gl.law_uniform());\n",
    "\n",
    "dbgraphO = gl.DbGraphO.createFromMatrix(nech, gl.ELoadBy.COLUMN, tab, arcs,\n",
    "                                        [\"x1\", \"x2\", \"z1\"], [\"x1\", \"x2\", \"z1\"])"
   ]
  },
  {
   "cell_type": "code",
   "execution_count": null,
   "metadata": {},
   "outputs": [],
   "source": [
    "gl.OptCst.define(gl.ECst.NTROW,-1)\n",
    "gl.OptCst.define(gl.ECst.NTCOL,-1)\n",
    "dbgraphO.display()"
   ]
  },
  {
   "cell_type": "code",
   "execution_count": null,
   "metadata": {},
   "outputs": [],
   "source": [
    "ax = dbgraphO.plot(flagSample=True, flagAnnotate=True)\n",
    "ax = dbgraphO.point(nameSize=\"z1\")"
   ]
  },
  {
   "cell_type": "markdown",
   "metadata": {},
   "source": [
    "# Defining an Turbo Meshing Data Set"
   ]
  },
  {
   "cell_type": "code",
   "execution_count": null,
   "metadata": {},
   "outputs": [],
   "source": [
    "nx = [12,15]\n",
    "dx = [1.3, 1.1]\n",
    "tab = np.ones(12*15)\n",
    "dbmesh = gl.DbMeshTurbo(nx,dx,gl.VectorDouble(),gl.VectorDouble(),\n",
    "                        gl.ELoadBy.SAMPLE,tab,[\"var\"],[\"z1\"])\n",
    "dbmesh"
   ]
  },
  {
   "cell_type": "code",
   "execution_count": null,
   "metadata": {},
   "outputs": [],
   "source": [
    "ax = dbmesh.plot()\n",
    "ax = dbmesh.point()"
   ]
  },
  {
   "cell_type": "markdown",
   "metadata": {},
   "source": [
    "The next chunk is meant to demonstrate that the 'DbMesh' can be used as a standard 'DbGrid', in particular for adding new fields to the Data Base."
   ]
  },
  {
   "cell_type": "code",
   "execution_count": null,
   "metadata": {},
   "outputs": [],
   "source": [
    "dbmesh.addColumnsByConstant(1, 5., \"NewVar\", gl.ELoc.V)\n",
    "dbmesh"
   ]
  }
 ],
 "metadata": {
  "kernelspec": {
   "display_name": "Python 3 (ipykernel)",
   "language": "python",
   "name": "python3"
  },
  "language_info": {
   "codemirror_mode": {
    "name": "ipython",
    "version": 3
   },
   "file_extension": ".py",
   "mimetype": "text/x-python",
   "name": "python",
   "nbconvert_exporter": "python",
   "pygments_lexer": "ipython3",
   "version": "3.10.5"
  },
  "toc": {
   "base_numbering": 1,
   "nav_menu": {},
   "number_sections": true,
   "sideBar": true,
   "skip_h1_title": false,
   "title_cell": "Table of Contents",
   "title_sidebar": "Contents",
   "toc_cell": false,
   "toc_position": {},
   "toc_section_display": true,
   "toc_window_display": false
  }
 },
 "nbformat": 4,
 "nbformat_minor": 4
}
