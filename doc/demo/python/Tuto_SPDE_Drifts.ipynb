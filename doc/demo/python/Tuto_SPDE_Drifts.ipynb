{
 "cells": [
  {
   "cell_type": "markdown",
   "id": "c18989e6",
   "metadata": {},
   "source": [
    "# Python version of test_SPDEDRIFT.cpp"
   ]
  },
  {
   "cell_type": "code",
   "execution_count": null,
   "id": "b3dac2e2",
   "metadata": {},
   "outputs": [],
   "source": [
    "import gstlearn as gl\n",
    "import matplotlib.pyplot as plt\n",
    "import gstlearn.plot as gp\n",
    "import os \n",
    "\n",
    "path = os.path.join(os.pardir,os.pardir,\"data\",\"Scotland\")                  \n",
    "verbose = False;\n",
    "flagSPDE = True;\n",
    "ndim = 2;\n",
    "\n",
    "filename = os.path.join(path,\"temperatures.ascii\")\n",
    "temperatures = gl.Db.createFromNF(filename,verbose);\n",
    "temperatures.setLocator(\"January_temp\", gl.ELoc.Z);\n",
    "\n",
    "#temperatures.display();\n",
    "\n",
    "\n",
    "filename = os.path.join(path,\"grid.ascii\")\n",
    "\n",
    "grid = gl.DbGrid.createFromNF(filename,verbose);\n",
    "#grid.display();\n",
    "\n",
    "filename = os.path.join(path,\"model.ascii\")\n",
    "model = gl.Model.createFromNF(filename,verbose);\n",
    "\n",
    "model.display();\n",
    "\n",
    "filename = os.path.join(path,\"vario.ascii\")\n",
    "vario = gl.Vario.createFromNF(filename,verbose);\n",
    "\n",
    "#vario.display();\n",
    "\n",
    "structs = [gl.ECov.NUGGET,gl.ECov.BESSEL_K];\n",
    "consNug = gl.ConsItem.define(gl.EConsElem.SILL,0,0,0, gl.EConsType.UPPER,0.1);\n",
    "consParam = gl.ConsItem.define(gl.EConsElem.PARAM,1, 0, 0, gl.EConsType.EQUAL,1.);\n",
    "constraints = gl.Constraints()\n",
    "constraints.addItem(consNug);\n",
    "constraints.addItem(consParam);\n",
    "\n",
    "opt = gl.Option_AutoFit()\n",
    "gl.OptDbg.define(gl.EDbg.CONVERGE);\n",
    "model.fit(vario,structs,False,opt,constraints);\n",
    "#model.display();\n",
    "\n",
    "spde = gl.SPDE()\n",
    "spde.init(model,grid,temperatures,gl.ESPDECalcMode.KRIGING);\n",
    "coeffs = spde.getCoeffs();\n",
    "spde.compute();\n",
    "spde.query(grid);"
   ]
  },
  {
   "cell_type": "code",
   "execution_count": null,
   "id": "c3550af3",
   "metadata": {
    "scrolled": true
   },
   "outputs": [],
   "source": [
    "ax = gp.grid(grid,usesel=True,figsize=[7,7])"
   ]
  },
  {
   "cell_type": "code",
   "execution_count": null,
   "id": "4b2e66bc",
   "metadata": {},
   "outputs": [],
   "source": [
    "neighU = gl.NeighUnique.create(ndim, False);\n",
    "gl.kriging(temperatures, grid, model, neighU);"
   ]
  },
  {
   "cell_type": "code",
   "execution_count": null,
   "id": "30ef550e",
   "metadata": {},
   "outputs": [],
   "source": [
    "plt.scatter(grid[\"spde*\"],grid[\"*estim\"],s=1)\n",
    "plt.plot([-6,4],[-6,4])"
   ]
  },
  {
   "cell_type": "code",
   "execution_count": null,
   "id": "c8200320",
   "metadata": {},
   "outputs": [],
   "source": [
    "model"
   ]
  },
  {
   "cell_type": "code",
   "execution_count": null,
   "id": "57d05b03",
   "metadata": {},
   "outputs": [],
   "source": [
    "grid"
   ]
  },
  {
   "cell_type": "code",
   "execution_count": null,
   "id": "6a119acf",
   "metadata": {},
   "outputs": [],
   "source": [
    "gp.plot(grid,\"*estim\",figsize=[7,7])"
   ]
  }
 ],
 "metadata": {
  "kernelspec": {
   "display_name": "Python 3 (ipykernel)",
   "language": "python",
   "name": "python3"
  },
  "language_info": {
   "codemirror_mode": {
    "name": "ipython",
    "version": 3
   },
   "file_extension": ".py",
   "mimetype": "text/x-python",
   "name": "python",
   "nbconvert_exporter": "python",
   "pygments_lexer": "ipython3",
   "version": "3.10.5"
  }
 },
 "nbformat": 4,
 "nbformat_minor": 5
}
