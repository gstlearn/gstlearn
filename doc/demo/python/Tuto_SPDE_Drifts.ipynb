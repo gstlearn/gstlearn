{
 "cells": [
  {
   "cell_type": "markdown",
   "id": "c18989e6",
   "metadata": {},
   "source": [
    "# Python version of test_SPDEDRIFT.cpp"
   ]
  },
  {
   "cell_type": "code",
   "execution_count": null,
   "id": "b3dac2e2",
   "metadata": {},
   "outputs": [],
   "source": [
    "import gstlearn as gl\n",
    "import matplotlib.pyplot as plt\n",
    "import gstlearn.plot as gp\n",
    "import os \n",
    "\n",
    "verbose = False\n",
    "flagSPDE = True\n",
    "ndim = 2"
   ]
  },
  {
   "cell_type": "code",
   "execution_count": null,
   "id": "constant-desktop",
   "metadata": {},
   "outputs": [],
   "source": [
    "filename = os.path.join(os.getenv('GSTLEARN_DATA'), \"Scotland\", \"temperatures.ascii\")\n",
    "temperatures = gl.Db.createFromNF(filename,verbose)\n",
    "temperatures.setLocator(\"January_temp\", gl.ELoc.Z)\n",
    "temperatures.display()\n",
    "gp.point(temperatures,\"January_temp\")"
   ]
  },
  {
   "cell_type": "code",
   "execution_count": null,
   "id": "traditional-phase",
   "metadata": {},
   "outputs": [],
   "source": [
    "filename = os.path.join(os.getenv('GSTLEARN_DATA'), \"Scotland\", \"grid.ascii\")\n",
    "grid = gl.DbGrid.createFromNF(filename,verbose)\n",
    "grid.display()\n",
    "gp.grid(grid,\"Elevation\")"
   ]
  },
  {
   "cell_type": "markdown",
   "id": "certified-helping",
   "metadata": {},
   "source": [
    "Calculate the variogram"
   ]
  },
  {
   "cell_type": "code",
   "execution_count": null,
   "id": "fancy-manitoba",
   "metadata": {},
   "outputs": [],
   "source": [
    "v = gl.VarioParam()\n",
    "dir1 = gl.DirParam(2,18,25)\n",
    "v.addDir(dir1)\n",
    "vario = gl.Vario(v,temperatures)\n",
    "md = gl.Model.createFromDb(temperatures)\n",
    "md.addDrift(gl.Drift1(md.getContext()))\n",
    "md.addDrift(gl.DriftF(md.getContext()))\n",
    "vario.compute(model=md)\n",
    "vario.display()\n",
    "ax=gp.vario(vario)"
   ]
  },
  {
   "cell_type": "markdown",
   "id": "delayed-spouse",
   "metadata": {},
   "source": [
    "Load the (same) variogram from a neutral file"
   ]
  },
  {
   "cell_type": "code",
   "execution_count": null,
   "id": "contained-windows",
   "metadata": {},
   "outputs": [],
   "source": [
    "filename = os.path.join(os.getenv('GSTLEARN_DATA'), \"Scotland\", \"vario.ascii\")\n",
    "vario = gl.Vario.createFromNF(filename,verbose)\n",
    "vario.display()\n",
    "gp.vario(vario)"
   ]
  },
  {
   "cell_type": "markdown",
   "id": "civilian-surprise",
   "metadata": {},
   "source": [
    "Fit the variogram of residuals in a model having drifts"
   ]
  },
  {
   "cell_type": "code",
   "execution_count": null,
   "id": "surrounded-kazakhstan",
   "metadata": {},
   "outputs": [],
   "source": [
    "model = gl.Model.createFromDb(temperatures)\n",
    "model.setDriftList(md.getDriftList())\n",
    "\n",
    "structs = [gl.ECov.NUGGET,gl.ECov.BESSEL_K,gl.ECov.BESSEL_K]\n",
    "structs = [gl.ECov.NUGGET,gl.ECov.BESSEL_K]\n",
    "\n",
    "consNug = gl.ConsItem.define(gl.EConsElem.SILL,0, type = gl.EConsType.UPPER,value = 0.1)\n",
    "\n",
    "cons1P = gl.ConsItem.define(gl.EConsElem.PARAM,1, type = gl.EConsType.EQUAL,value = 1)\n",
    "cons1Rm = gl.ConsItem.define(gl.EConsElem.RANGE,1, type = gl.EConsType.LOWER,value = 100)\n",
    "cons1RM = gl.ConsItem.define(gl.EConsElem.RANGE,1, type = gl.EConsType.UPPER,value = 350)\n",
    "\n",
    "cons2P = gl.ConsItem.define(gl.EConsElem.PARAM,2, type = gl.EConsType.EQUAL,value = 2)\n",
    "cons2Rm = gl.ConsItem.define(gl.EConsElem.RANGE,2, type = gl.EConsType.LOWER,value = 100)\n",
    "cons2RM = gl.ConsItem.define(gl.EConsElem.RANGE,2, type = gl.EConsType.UPPER,value = 400)\n",
    "\n",
    "a = gl.Constraints()\n",
    "a.addItem(consNug)\n",
    "a.addItem(cons1P)\n",
    "a.addItem(cons1Rm)\n",
    "a.addItem(cons1RM)\n",
    "a.addItem(cons2P)\n",
    "a.addItem(cons2Rm)\n",
    "a.addItem(cons2RM)\n",
    "\n",
    "err = model.fit(vario,structs,constraints=a)\n",
    "model.display()\n",
    "ax = gp.varmod(vario,model,title=\"Vario of the residuals\")"
   ]
  },
  {
   "cell_type": "markdown",
   "id": "violent-retreat",
   "metadata": {},
   "source": [
    "Reload the (same) model from a neutral file"
   ]
  },
  {
   "cell_type": "code",
   "execution_count": null,
   "id": "ranging-builder",
   "metadata": {},
   "outputs": [],
   "source": [
    "filename = os.path.join(os.getenv('GSTLEARN_DATA'), \"Scotland\", \"model.ascii\")\n",
    "model = gl.Model.createFromNF(filename,verbose)\n",
    "model.display()\n",
    "ax = gp.varmod(vario,model,title=\"Vario of the residuals\")"
   ]
  },
  {
   "cell_type": "code",
   "execution_count": null,
   "id": "spatial-publicity",
   "metadata": {},
   "outputs": [],
   "source": [
    "spde = gl.SPDE(model,grid,temperatures,gl.ESPDECalcMode.KRIGING)\n",
    "coeffs = spde.getCoeffs()\n",
    "ax = gp.correlation(temperatures, \"Elevation\", \"*temp\", asPoint=True)\n",
    "if len(coeffs)>1:\n",
    "    plt.plot([0,400], [coeffs[0],coeffs[0]+coeffs[1]*400])"
   ]
  },
  {
   "cell_type": "code",
   "execution_count": null,
   "id": "unique-rotation",
   "metadata": {},
   "outputs": [],
   "source": [
    "spde.compute()\n",
    "spde.query(grid)\n",
    "ax = gp.grid(grid,usesel=True,figsize=[7,7])"
   ]
  },
  {
   "cell_type": "code",
   "execution_count": null,
   "id": "4b2e66bc",
   "metadata": {},
   "outputs": [],
   "source": [
    "neighU = gl.NeighUnique.create(ndim, False);\n",
    "gl.kriging(temperatures, grid, model, neighU);\n",
    "ax = gp.grid(grid,usesel=True,figsize=[7,7])"
   ]
  },
  {
   "cell_type": "code",
   "execution_count": null,
   "id": "30ef550e",
   "metadata": {},
   "outputs": [],
   "source": [
    "ax = gp.correlation(grid,\"*estim\",\"spde*\",asPoint=True, diagLine=True)"
   ]
  }
 ],
 "metadata": {
  "kernelspec": {
   "display_name": "Python 3 (ipykernel)",
   "language": "python",
   "name": "python3"
  },
  "language_info": {
   "codemirror_mode": {
    "name": "ipython",
    "version": 3
   },
   "file_extension": ".py",
   "mimetype": "text/x-python",
   "name": "python",
   "nbconvert_exporter": "python",
   "pygments_lexer": "ipython3",
   "version": "3.9.2"
  }
 },
 "nbformat": 4,
 "nbformat_minor": 5
}
