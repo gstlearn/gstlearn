{
 "cells": [
  {
   "cell_type": "markdown",
   "metadata": {},
   "source": [
    "Python version of test_SPDEDRIFT.cpp"
   ]
  },
  {
   "cell_type": "code",
   "execution_count": null,
   "metadata": {},
   "outputs": [],
   "source": [
    "import gstlearn as gl\n",
    "import matplotlib.pyplot as plt\n",
    "import gstlearn.plot as gp\n",
    "import os \n",
    "\n",
    "path = os.path.join(os.pardir,os.pardir,\"data\",\"Scotland\")                  \n",
    "verbose = False;\n",
    "flagSPDE = True;\n",
    "ndim = 2;\n",
    "\n",
    "filename = os.path.join(path,\"temperatures.ascii\")\n",
    "temperatures = gl.Db.createFromNF(filename,verbose);\n",
    "temperatures.setLocator(\"January_temp\", gl.ELoc.Z);\n",
    "\n",
    "#temperatures.display();\n",
    "\n",
    "\n",
    "filename = os.path.join(path,\"grid.ascii\")\n",
    "\n",
    "grid = gl.DbGrid.createFromNF(filename,verbose);\n",
    "#grid.display();\n",
    "\n",
    "filename = os.path.join(path,\"model.ascii\")\n",
    "model = gl.Model.createFromNF(filename,verbose);\n",
    "\n",
    "#model.display();\n",
    "\n",
    "filename = os.path.join(path,\"vario.ascii\")\n",
    "vario = gl.Vario.createFromNF(filename,verbose);\n",
    "\n",
    "#vario.display();\n",
    "\n",
    "structs = [gl.ECov.NUGGET,gl.ECov.BESSEL_K];\n",
    "consNug = gl.ConsItem.define(gl.EConsElem.SILL,0,0,0, gl.EConsType.UPPER,0.1);\n",
    "consParam = gl.ConsItem.define(gl.EConsElem.PARAM,1, 0, 0, gl.EConsType.EQUAL,1.);\n",
    "constraints = gl.Constraints()\n",
    "constraints.addItem(consNug);\n",
    "constraints.addItem(consParam);\n",
    "\n",
    "opt = gl.Option_AutoFit()\n",
    "gl.OptDbg.define(gl.EDbg.CONVERGE);\n",
    "model.fit(vario,structs,False,opt,constraints);\n",
    "#model.display();\n",
    "\n",
    "spde = gl.SPDE()\n",
    "spde.init(model,grid,temperatures,gl.ESPDECalcMode.KRIGING);\n",
    "coeffs = spde.getCoeffs();\n",
    "spde.compute();\n",
    "spde.query(grid);"
   ]
  },
  {
   "cell_type": "code",
   "execution_count": null,
   "metadata": {},
   "outputs": [],
   "source": [
    "ax = gp.grid(grid,usesel=True)"
   ]
  },
  {
   "cell_type": "code",
   "execution_count": null,
   "metadata": {},
   "outputs": [],
   "source": [
    "neighU = gl.NeighUnique.create(ndim, False);\n",
    "gl.kriging(temperatures, grid, model, neighU);"
   ]
  },
  {
   "cell_type": "code",
   "execution_count": null,
   "metadata": {},
   "outputs": [],
   "source": [
    "plt.scatter(grid[\"spde*\"],grid[\"*estim\"],s=1)\n",
    "plt.plot([-6,4],[-6,4])"
   ]
  },
  {
   "cell_type": "code",
   "execution_count": null,
   "metadata": {},
   "outputs": [],
   "source": []
  }
 ],
 "metadata": {
  "kernelspec": {
   "display_name": "Python 3",
   "language": "python",
   "name": "python3"
  },
  "language_info": {
   "codemirror_mode": {
    "name": "ipython",
    "version": 3
   },
   "file_extension": ".py",
   "mimetype": "text/x-python",
   "name": "python",
   "nbconvert_exporter": "python",
   "pygments_lexer": "ipython3",
   "version": "3.8.5"
  }
 },
 "nbformat": 4,
 "nbformat_minor": 5
}
