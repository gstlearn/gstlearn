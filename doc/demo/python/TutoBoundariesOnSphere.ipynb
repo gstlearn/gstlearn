{
 "cells": [
  {
   "cell_type": "markdown",
   "id": "33e71689",
   "metadata": {},
   "source": [
    "# Plot boundaries on the Earth"
   ]
  },
  {
   "cell_type": "markdown",
   "id": "9f260bbe",
   "metadata": {},
   "source": [
    "Ce notebook est un résumé du notebook situé ici \n",
    "\n",
    "https://chart-studio.plotly.com/~empet/14813/heatmap-plot-on-a-spherical-map/#/\n",
    "\n",
    "et se concentre sur le traçage des frontières (plus généralement d'un polygone) sur la sphère.\n",
    "\n",
    "Il nécessite l'installation de **mpl_toolkits** qui peut être assez complexe.\n",
    "\n",
    "Sous linux, sous réserve que la librairie GEOS soit installée, il suffit d'effectuer les commandes suivantes (le dossier à télécharger est assez lourd et la procédure peut prendre quelques minutes) :"
   ]
  },
  {
   "cell_type": "raw",
   "id": "a1381bf2",
   "metadata": {},
   "source": [
    "wget https://github.com/matplotlib/basemap/archive/refs/tags/v1.3.3.tar.gz\n",
    "tar -xvf basemap-1.3.3.tar.gz\n",
    "cd basemap-1.3.3/packages/basemap\n",
    "python3 -m pip install ."
   ]
  },
  {
   "cell_type": "markdown",
   "id": "dd1f3261",
   "metadata": {},
   "source": [
    "En cas de problème, voir les détails ici :\n",
    "\n",
    "https://matplotlib.org/basemap/users/installing.html .\n"
   ]
  },
  {
   "cell_type": "code",
   "execution_count": null,
   "id": "e52b4f64",
   "metadata": {},
   "outputs": [],
   "source": [
    "import numpy as np           \n",
    "from mpl_toolkits.basemap import Basemap\n",
    "import plotly.graph_objects as go\n",
    "import IPython\n",
    "from numpy import pi, cos, sin\n",
    "import matplotlib.pyplot as plt"
   ]
  },
  {
   "cell_type": "code",
   "execution_count": null,
   "id": "13d56764",
   "metadata": {},
   "outputs": [],
   "source": [
    "\n",
    "def d2r(x):\n",
    "    return x * np.pi / 180.\n",
    "\n",
    "def mapping_map_to_sphere(lon, lat, radius=6371.):\n",
    "    #this function maps the points of coords (lon, lat) to points onto the  sphere of radius radius\n",
    "    \n",
    "    lon=np.array(lon, dtype=np.float64)\n",
    "    lat=np.array(lat, dtype=np.float64)\n",
    "    lon=d2r(lon)\n",
    "    lat=d2r(lat)\n",
    "    xs=radius*cos(lon)*cos(lat)\n",
    "    ys=radius*sin(lon)*cos(lat)\n",
    "    zs=radius*sin(lat)\n",
    "    return xs, ys, zs\n",
    "\n",
    "\n",
    "# Functions converting coastline/country polygons to lon/lat traces\n",
    "def polygons_to_traces(poly_paths, N_poly):\n",
    "    ''' \n",
    "    pos arg 1. (poly_paths): paths to polygons\n",
    "    pos arg 2. (N_poly): number of polygon to convert\n",
    "    '''\n",
    "    # init. plotting list\n",
    "    lons=[]\n",
    "    lats=[]\n",
    "\n",
    "    for i_poly in range(N_poly):\n",
    "        poly_path = poly_paths[i_poly]\n",
    "        \n",
    "        # get the Basemap coordinates of each segment\n",
    "        coords_cc = np.array(\n",
    "            [(vertex[0],vertex[1]) \n",
    "             for (vertex,code) in poly_path.iter_segments(simplify=False)]\n",
    "        )\n",
    "        \n",
    "        # convert coordinates to lon/lat by 'inverting' the Basemap projection\n",
    "        lon_cc, lat_cc = m(coords_cc[:,0],coords_cc[:,1], inverse=True)\n",
    "    \n",
    "        \n",
    "        lats.extend(lat_cc.tolist()+[None]) \n",
    "        lons.extend(lon_cc.tolist()+[None])\n",
    "        \n",
    "       \n",
    "    return lons, lats\n",
    "\n",
    "\n",
    "# Function generating coastline lon/lat \n",
    "def get_coastline_traces():\n",
    "    poly_paths = m.drawcoastlines().get_paths() # coastline polygon paths\n",
    "    N_poly = 91  # use only the 91st biggest coastlines (i.e. no rivers)\n",
    "    cc_lons, cc_lats= polygons_to_traces(poly_paths, N_poly)\n",
    "    return cc_lons, cc_lats\n",
    "\n",
    "# Function generating country lon/lat \n",
    "def get_country_traces():\n",
    "    poly_paths = m.drawcountries().get_paths() # country polygon paths\n",
    "    N_poly = len(poly_paths)  # use all countries\n",
    "    country_lons, country_lats= polygons_to_traces(poly_paths, N_poly)\n",
    "    return country_lons, country_lats\n",
    "\n",
    "\n",
    "\n",
    "\n",
    "\n",
    "\n"
   ]
  },
  {
   "cell_type": "code",
   "execution_count": null,
   "id": "98868fa9",
   "metadata": {},
   "outputs": [],
   "source": [
    "# Make shortcut to Basemap object, \n",
    "# not specifying projection type for this example\n",
    "m = Basemap() \n",
    "\n",
    "\n",
    "\n",
    "# Get list of of coastline, country, and state lon/lat \n",
    "\n",
    "plt.figure()\n",
    "cc_lons, cc_lats=get_coastline_traces()\n",
    "country_lons, country_lats=get_country_traces()\n",
    "plt.close()\n",
    "#concatenate the lon/lat for coastlines and country boundaries:\n",
    "lons=cc_lons+[None]+country_lons\n",
    "lats=cc_lats+[None]+country_lats\n",
    "\n",
    "\n",
    "xs, ys, zs=mapping_map_to_sphere(np.array(lons),np.array(lats), radius=6371.)# here the radius is slightly greater than 1 \n",
    "                                                         #to ensure lines visibility; otherwise (with radius=1)\n",
    "                                                         # some lines are hidden by contours colors\n",
    "\n",
    "        \n",
    "boundaries=dict(type='scatter3d',\n",
    "               x=xs,\n",
    "               y=ys,\n",
    "               z=zs,\n",
    "               mode='lines',\n",
    "               line=dict(color='black', width=1)\n",
    "              )\n",
    "\n",
    "fig = go.Figure(data = [boundaries]\n",
    "               )\n",
    "fig.show()"
   ]
  }
 ],
 "metadata": {
  "kernelspec": {
   "display_name": "Python 3 (ipykernel)",
   "language": "python",
   "name": "python3"
  },
  "language_info": {
   "codemirror_mode": {
    "name": "ipython",
    "version": 3
   },
   "file_extension": ".py",
   "mimetype": "text/x-python",
   "name": "python",
   "nbconvert_exporter": "python",
   "pygments_lexer": "ipython3",
   "version": "3.10.2"
  }
 },
 "nbformat": 4,
 "nbformat_minor": 5
}
