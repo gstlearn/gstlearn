{
 "cells": [
  {
   "cell_type": "markdown",
   "id": "339358ce",
   "metadata": {},
   "source": [
    "# SPDE\n",
    "\n",
    "In this tutorial, we show how the use of SPDE for Varying Anisotropy in the Simulation process"
   ]
  },
  {
   "cell_type": "code",
   "execution_count": null,
   "id": "51f42d23",
   "metadata": {},
   "outputs": [],
   "source": [
    "import gstlearn as gl\n",
    "import gstlearn.plot as gp\n",
    "import numpy as np\n",
    "import matplotlib.pyplot as plt\n",
    "import numpy as np\n",
    "import random\n",
    "import math"
   ]
  },
  {
   "cell_type": "markdown",
   "id": "d9308826",
   "metadata": {},
   "source": [
    "Defining some global parameters"
   ]
  },
  {
   "cell_type": "code",
   "execution_count": null,
   "id": "99935481",
   "metadata": {},
   "outputs": [],
   "source": [
    "#Extension of the simulation grid\n",
    "nxmax = 500 \n",
    "nymax = 200\n",
    "\n",
    "#Well Definition\n",
    "nwell = 6\n",
    "vlag  = 3\n",
    "\n",
    "#Anisotropy ratio \n",
    "ratio=1.5\n",
    "range=150\n",
    "\n",
    "#Some seeds\n",
    "seed1  = 34556643\n",
    "seed2  = 244212\n",
    "seednc = 432432\n",
    "seedw  = 2432145\n",
    "\n",
    "# Color Scale\n",
    "zlim = [-1.6, 2.5]\n",
    "\n",
    "nostatKeys = [\"A\",\"R2\"]"
   ]
  },
  {
   "cell_type": "markdown",
   "id": "f0aba64f",
   "metadata": {},
   "source": [
    "Internal function"
   ]
  },
  {
   "cell_type": "code",
   "execution_count": null,
   "id": "82a8cdbf",
   "metadata": {},
   "outputs": [],
   "source": [
    "def make_well(db,res,nwell=nwell,vlag=vlag,seed=seedw):\n",
    "  nxmax = res.getNX(0)\n",
    "  indexes = gl.VectorHelper.sampleRanks(ntotal=nxmax, number=nwell, seed=seed, optSort=1)\n",
    "    \n",
    "  x1 = np.ones(0)\n",
    "  x2 = np.ones(0)\n",
    "  for i in indexes:\n",
    "    bot = math.ceil(db[i,\"W1\"])\n",
    "    top = math.floor(db[i,\"W2\"])\n",
    "    temp = np.arange(bot, top, step=vlag)\n",
    "    x1 = np.concatenate((x1, i * np.ones(len(temp), dtype=int) + 0.2))\n",
    "    x2 = np.concatenate((x2, temp))\n",
    "\n",
    "  db_sample = gl.Db.createFromSamples(len(x1),gl.ELoadBy.COLUMN,np.concatenate((x1,x2)))\n",
    "  db_sample.setName(\"New.1\",\"x1\")\n",
    "  db_sample.setName(\"New.2\",\"x2\")\n",
    "  db_sample.setLocator(\"x1\",gl.ELoc.X,0)\n",
    "  db_sample.setLocator(\"x2\",gl.ELoc.X,1)\n",
    "  err = gl.migrate(res, db_sample, \"*simu*\")\n",
    "  return db_sample"
   ]
  },
  {
   "cell_type": "markdown",
   "id": "54b0db68",
   "metadata": {},
   "source": [
    "Simulating the layer boundaries"
   ]
  },
  {
   "cell_type": "code",
   "execution_count": null,
   "id": "6a251c5e",
   "metadata": {
    "scrolled": true
   },
   "outputs": [],
   "source": [
    "db = gl.DbGrid.create(nx=nxmax)\n",
    "model = gl.Model.createFromParam(gl.ECov.GAUSSIAN,range=200,space=gl.SpaceRN(1))\n",
    "err = gl.simtub(None,dbout=db,model=model,nbtuba=1000,seed=seed1,namconv=gl.NamingConvention(\"W1\"))\n",
    "err = gl.simtub(None,dbout=db,model=model,nbtuba=1000,seed=seed2,namconv=gl.NamingConvention(\"W2\"))\n",
    "db[\"W1\"]=db[\"W1\"]-min(db[\"W1\"])\n",
    "db[\"W2\"]=db[\"W2\"]-min(db[\"W2\"])\n",
    "db[\"W2\"]=db[\"W1\"]+db[\"W2\"]+1\n",
    "db[\"W1\"]=nymax*db[\"W1\"]/max(db[\"W2\"])\n",
    "db[\"W2\"]=nymax*db[\"W2\"]/max(db[\"W2\"])"
   ]
  },
  {
   "cell_type": "markdown",
   "id": "124f45f1",
   "metadata": {},
   "source": [
    "Plotting the limits of the layer"
   ]
  },
  {
   "cell_type": "code",
   "execution_count": null,
   "id": "09470194",
   "metadata": {},
   "outputs": [],
   "source": [
    "ax = gp.grid1D(db,\"W1\", color=\"blue\", title=\"Layer limits\")\n",
    "ax = gp.grid1D(db,\"W2\", color=\"green\", ax=ax)"
   ]
  },
  {
   "cell_type": "markdown",
   "id": "78546c21",
   "metadata": {},
   "source": [
    "Creation of the varying anisotropy (\"directed\" by the two layers)"
   ]
  },
  {
   "cell_type": "code",
   "execution_count": null,
   "id": "2bc89d4c",
   "metadata": {},
   "outputs": [],
   "source": [
    "model = gl.Model.createFromParam(gl.ECov.BESSEL_K,range=range,param=1,space=gl.SpaceRN(2))\n",
    "dbgrid = gl.DbGrid.create([nxmax,nymax])\n",
    "ind = (dbgrid[\"x1\"]).reshape(1,-1)[0].astype(int)\n",
    "dbgrid[\"sel\"] = (dbgrid[\"x2\"] > db[ind,\"W1\"]) & (dbgrid[\"x2\"] < db[ind,\"W2\"])\n",
    "anglesi = np.arctan(db[\"W1\"][1:]-db[\"W1\"][:-1])/np.pi*180\n",
    "angless = np.arctan(db[\"W2\"][1:]-db[\"W2\"][:-1])/np.pi*180\n",
    "anglesi = np.insert(anglesi, 0, anglesi[0])\n",
    "angless = np.insert(angless, 0, angless[0])\n",
    "\n",
    "aniso = (dbgrid[\"x2\"]-db[ind,\"W1\"]) / (db[ind,\"W2\"]-db[ind,\"W1\"])\n",
    "aniso = anglesi[ind] + aniso * (angless[ind]-anglesi[ind])\n",
    "ratio = ratio*(db[ind,\"W2\"]-db[ind,\"W1\"])/max(db[\"W2\"]-db[\"W1\"])\n",
    "\n",
    "dbgrid.addColumns(aniso,\"aniso\")\n",
    "dbgrid.addColumns(ratio,\"ratio\")\n",
    "dbgrid.setLocator(\"sel\",gl.ELoc.SEL)\n",
    "dbgrid.setLocators([\"aniso\",\"ratio\"],gl.ELoc.NOSTAT)"
   ]
  },
  {
   "cell_type": "code",
   "execution_count": null,
   "id": "f6269390",
   "metadata": {},
   "outputs": [],
   "source": [
    "ax = gp.grid(dbgrid,name=\"aniso\",title=\"Anisotropy Angle\")\n",
    "ax = gp.grid(dbgrid,name=\"ratio\",title=\"Anisotropy Ratio\")"
   ]
  },
  {
   "cell_type": "markdown",
   "id": "a5487028",
   "metadata": {},
   "source": [
    "Display the anisotropy maps (on a coarser grid)"
   ]
  },
  {
   "cell_type": "markdown",
   "id": "62af87fa",
   "metadata": {},
   "source": [
    "Creating the Meshing "
   ]
  },
  {
   "cell_type": "code",
   "execution_count": null,
   "id": "38c7fd43",
   "metadata": {},
   "outputs": [],
   "source": [
    "mesh = gl.MeshETurbo.createFromGrid(dbgrid, mode=0)"
   ]
  },
  {
   "cell_type": "markdown",
   "id": "eea29422",
   "metadata": {},
   "source": [
    "Assigning non-stationarity to the Model"
   ]
  },
  {
   "cell_type": "code",
   "execution_count": null,
   "id": "9336b08c",
   "metadata": {},
   "outputs": [],
   "source": [
    "dbcoarse = dbgrid.coarsify([20,20])\n",
    "nostat = gl.NoStatArray(nostatKeys, dbcoarse)\n",
    "err = model.addNoStat(nostat)"
   ]
  },
  {
   "cell_type": "code",
   "execution_count": null,
   "id": "46f17673",
   "metadata": {},
   "outputs": [],
   "source": [
    "ax = gp.modelOnGrid(model, dbcoarse, scale=50)\n",
    "ax = gp.grid1D(db,\"W1\", color=\"blue\", ax=ax, title=\"Layer limits\")\n",
    "ax = gp.grid1D(db,\"W2\", color=\"green\", ax=ax)"
   ]
  },
  {
   "cell_type": "code",
   "execution_count": null,
   "id": "edb9b0f6",
   "metadata": {},
   "outputs": [],
   "source": [
    "nostat = gl.NoStatArray(nostatKeys, dbgrid)\n",
    "err = model.addNoStat(nostat)"
   ]
  },
  {
   "cell_type": "markdown",
   "id": "528cf55e",
   "metadata": {},
   "source": [
    "## Non conditional simulation"
   ]
  },
  {
   "cell_type": "code",
   "execution_count": null,
   "id": "81b4a0fc",
   "metadata": {
    "scrolled": true
   },
   "outputs": [],
   "source": [
    "spdeRes = gl.SPDE()\n",
    "spdeRes.init(model=model,field=dbgrid,calc=gl.ESPDECalcMode.SIMUNONCOND, mesh=mesh)\n",
    "spdeRes.compute()"
   ]
  },
  {
   "cell_type": "markdown",
   "id": "8ba18a66",
   "metadata": {},
   "source": [
    "Process the simulation on the output grid and visualize the result (the resulting variable is stored in rank 'iuid' and name 'spde.simu'."
   ]
  },
  {
   "cell_type": "code",
   "execution_count": null,
   "id": "eefc8a5b",
   "metadata": {},
   "outputs": [],
   "source": [
    "iuid = spdeRes.query(dbgrid)\n",
    "ax = gp.grid(dbgrid, name=\"spde.simu\", title=\"Non conditional Simulation\")"
   ]
  },
  {
   "cell_type": "markdown",
   "id": "a5dae7c0",
   "metadata": {},
   "source": [
    "## Kriging"
   ]
  },
  {
   "cell_type": "markdown",
   "id": "cac146f1",
   "metadata": {},
   "source": [
    "Creating a set of fictitious wells (extracted from the non-conditional simulation)"
   ]
  },
  {
   "cell_type": "code",
   "execution_count": null,
   "id": "eb039b7f",
   "metadata": {
    "scrolled": true
   },
   "outputs": [],
   "source": [
    "db_sample = make_well(db,dbgrid,nwell=nwell,vlag=vlag,seed=seedw)"
   ]
  },
  {
   "cell_type": "code",
   "execution_count": null,
   "id": "8319bc4b",
   "metadata": {},
   "outputs": [],
   "source": [
    "ax = gp.grid1D(db,\"W1\", color=\"blue\", title=\"Layer limits\")\n",
    "ax = gp.grid1D(db,\"W2\", color=\"green\", ax=ax)\n",
    "ax = gp.point(db_sample, coorY_name=\"x2\", ax=ax)"
   ]
  },
  {
   "cell_type": "code",
   "execution_count": null,
   "id": "7518ce3d",
   "metadata": {},
   "outputs": [],
   "source": [
    "spdeRes = gl.SPDE()\n",
    "spdeRes.init(model=model,field=dbgrid,data=db_sample,calc=gl.ESPDECalcMode.KRIGING,mesh=mesh)\n",
    "spdeRes.compute()"
   ]
  },
  {
   "cell_type": "code",
   "execution_count": null,
   "id": "ccec93a6",
   "metadata": {},
   "outputs": [],
   "source": [
    "iuid = spdeRes.query(dbgrid, namconv=gl.NamingConvention(\"spde\",False))\n",
    "ax = gp.grid(dbgrid, name=\"spde.kriging\", title=\"Kriging\")"
   ]
  },
  {
   "cell_type": "markdown",
   "id": "e343fed5",
   "metadata": {},
   "source": [
    "## Conditional Simulation"
   ]
  },
  {
   "cell_type": "code",
   "execution_count": null,
   "id": "524760d1",
   "metadata": {},
   "outputs": [],
   "source": [
    "spdeRes = gl.SPDE()\n",
    "spdeRes.init(model=model,field=dbgrid,data=db_sample,calc=gl.ESPDECalcMode.SIMUCOND,mesh=mesh)\n",
    "spdeRes.compute()"
   ]
  },
  {
   "cell_type": "code",
   "execution_count": null,
   "id": "4c7ddcb5",
   "metadata": {
    "scrolled": true
   },
   "outputs": [],
   "source": [
    "iuid = spdeRes.query(dbgrid, namconv=gl.NamingConvention(\"spde\",False))\n",
    "ax = gp.grid(dbgrid, name=\"spde.condSimu\", title=\"Conditional Simulation\")"
   ]
  },
  {
   "cell_type": "code",
   "execution_count": null,
   "id": "14eb92d2",
   "metadata": {},
   "outputs": [],
   "source": [
    "ax = gp.correlation(dbgrid,\"spde.simu\",\"spde.condSimu\")"
   ]
  },
  {
   "cell_type": "code",
   "execution_count": null,
   "id": "cc7bf6ea",
   "metadata": {},
   "outputs": [],
   "source": []
  }
 ],
 "metadata": {
  "kernelspec": {
   "display_name": "Python 3 (ipykernel)",
   "language": "python",
   "name": "python3"
  },
  "language_info": {
   "codemirror_mode": {
    "name": "ipython",
    "version": 3
   },
   "file_extension": ".py",
   "mimetype": "text/x-python",
   "name": "python",
   "nbconvert_exporter": "python",
   "pygments_lexer": "ipython3",
   "version": "3.10.5"
  }
 },
 "nbformat": 4,
 "nbformat_minor": 5
}
