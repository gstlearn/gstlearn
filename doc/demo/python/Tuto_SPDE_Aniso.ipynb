{
 "cells": [
  {
   "cell_type": "markdown",
   "id": "339358ce",
   "metadata": {},
   "source": [
    "# SPDE\n",
    "\n",
    "In this tutorial, we show how the use of SPDE for Varying Anisotropy in the Simulation process"
   ]
  },
  {
   "cell_type": "code",
   "execution_count": null,
   "id": "51f42d23",
   "metadata": {},
   "outputs": [],
   "source": [
    "import gstlearn as gl\n",
    "import gstlearn.plot as gp\n",
    "import numpy as np\n",
    "import matplotlib.pyplot as plt\n",
    "import numpy as np"
   ]
  },
  {
   "cell_type": "markdown",
   "id": "d9308826",
   "metadata": {},
   "source": [
    "Defining some global parameters"
   ]
  },
  {
   "cell_type": "code",
   "execution_count": null,
   "id": "99935481",
   "metadata": {},
   "outputs": [],
   "source": [
    "#Extension of the simulation grid\n",
    "nxmax = 500 \n",
    "nymax = 200\n",
    "\n",
    "#Well Definition\n",
    "nwell = 6\n",
    "pas   = 3\n",
    "\n",
    "#Anisotropy ratio \n",
    "ratio=1.5\n",
    "range=150\n",
    "\n",
    "#Some seeds\n",
    "seed1  = 34556643\n",
    "seed2  = 244212\n",
    "seednc = 432432\n",
    "seedw  = 2432145\n",
    "\n",
    "# Color Scale\n",
    "zlim = [-1.6, 2.5]\n",
    "\n",
    "nostatKeys = [\"A\",\"R2\"]"
   ]
  },
  {
   "cell_type": "markdown",
   "id": "f0aba64f",
   "metadata": {},
   "source": [
    "Internal function"
   ]
  },
  {
   "cell_type": "code",
   "execution_count": null,
   "id": "82a8cdbf",
   "metadata": {},
   "outputs": [],
   "source": [
    "def make_well(res,nwell=nwell,pas=pas,seed=seedw):\n",
    "  set.seed(seedw)\n",
    "  nxmax = res.nx[2]\n",
    "  indexes=unique(sample(nxmax,nwell))\n",
    "  x1=NULL\n",
    "  x2=NULL\n",
    "  for i in indexes:\n",
    "    temp=range(ceiling(db[i,3]), floor(db[i,4]))\n",
    "    temp=temp[1:floor(length(temp)/pas)*pas]\n",
    "    x1=c(x1,rep(i,length(temp))) + 0.2\n",
    "    x2=c(x2,temp)\n",
    "\n",
    "  res = db.locate(res,4,\"sel\")\n",
    "  db.sample = db.create(x1=x1,x2=x2)\n",
    "  db.sample = migrate(res,db.sample,7)\n",
    "  db.sample"
   ]
  },
  {
   "cell_type": "markdown",
   "id": "54b0db68",
   "metadata": {},
   "source": [
    "Simulating the layer boundaries"
   ]
  },
  {
   "cell_type": "code",
   "execution_count": null,
   "id": "6a251c5e",
   "metadata": {
    "scrolled": true
   },
   "outputs": [],
   "source": [
    "db = gl.DbGrid.create(nx=nxmax)\n",
    "model = gl.Model.createFromParam(gl.ECov.GAUSSIAN,range=200,space=gl.SpaceRN(1))\n",
    "err = gl.simtub(None,dbout=db,model=model,nbtuba=1000,seed=seed1,namconv=gl.NamingConvention(\"W1\"))\n",
    "err = gl.simtub(None,dbout=db,model=model,nbtuba=1000,seed=seed2,namconv=gl.NamingConvention(\"W2\"))\n",
    "db[\"W1\"]=db[\"W1\"]-min(db[\"W1\"])\n",
    "db[\"W2\"]=db[\"W2\"]-min(db[\"W2\"])\n",
    "db[\"W2\"]=db[\"W1\"]+db[\"W2\"]+1\n",
    "db[\"W1\"]=nymax*db[\"W1\"]/max(db[\"W2\"])\n",
    "db[\"W2\"]=nymax*db[\"W2\"]/max(db[\"W2\"])"
   ]
  },
  {
   "cell_type": "markdown",
   "id": "124f45f1",
   "metadata": {},
   "source": [
    "Plotting the limits of the layer"
   ]
  },
  {
   "cell_type": "code",
   "execution_count": null,
   "id": "09470194",
   "metadata": {},
   "outputs": [],
   "source": [
    "ax = gp.grid1D(db,\"W1\", color=\"blue\", title=\"Layer limits\")\n",
    "ax = gp.grid1D(db,\"W2\", color=\"green\", ax=ax)"
   ]
  },
  {
   "cell_type": "markdown",
   "id": "78546c21",
   "metadata": {},
   "source": [
    "Creation of the varying anisotropy (\"directed\" by the two layers)"
   ]
  },
  {
   "cell_type": "code",
   "execution_count": null,
   "id": "2bc89d4c",
   "metadata": {},
   "outputs": [],
   "source": [
    "model = gl.Model.createFromParam(gl.ECov.BESSEL_K,range=range,param=1,space=gl.SpaceRN(2))\n",
    "dbsim = gl.DbGrid.create([nxmax,nymax])\n",
    "ind = (dbsim[\"x1\"]).reshape(1,-1)[0].astype(int)\n",
    "dbsim[\"sel\"] = (dbsim[\"x2\"] > db[ind,\"W1\"]) & (dbsim[\"x2\"] < db[ind,\"W2\"])\n",
    "anglesi = np.arctan(db[\"W1\"][1:]-db[\"W1\"][:-1])/np.pi*180\n",
    "angless = np.arctan(db[\"W2\"][1:]-db[\"W2\"][:-1])/np.pi*180\n",
    "anglesi = np.insert(anglesi, 0, anglesi[0])\n",
    "angless = np.insert(angless, 0, angless[0])\n",
    "\n",
    "aniso = np.divide(dbsim[\"x2\"]-db[ind,\"W1\"], db[ind,\"W2\"]-db[ind,\"W1\"])\n",
    "aniso = anglesi[ind] + np.multiply(aniso[0], angless[ind]-anglesi[ind])\n",
    "ratio = ratio*(db[ind,\"W2\"]-db[ind,\"W1\"])/max(db[\"W2\"]-db[\"W1\"])\n",
    "\n",
    "dbsim.addColumns(aniso,\"aniso\")\n",
    "dbsim.addColumns(ratio,\"ratio\")\n",
    "dbsim.setLocator(\"sel\",gl.ELoc.SEL)\n",
    "dbsim.setLocators([\"aniso\",\"ratio\"],gl.ELoc.NOSTAT)"
   ]
  },
  {
   "cell_type": "code",
   "execution_count": null,
   "id": "f6269390",
   "metadata": {},
   "outputs": [],
   "source": [
    "ax = gp.grid(dbsim,name=\"aniso\",title=\"Anisotropy Angle\")\n",
    "ax = gp.grid(dbsim,name=\"ratio\",title=\"Anisotropy Ratio\")"
   ]
  },
  {
   "cell_type": "markdown",
   "id": "a5487028",
   "metadata": {},
   "source": [
    "Display the anisotropy maps (on a coarser grid)"
   ]
  },
  {
   "cell_type": "code",
   "execution_count": null,
   "id": "46f17673",
   "metadata": {},
   "outputs": [],
   "source": [
    "#display.model(dbsim,model)\n",
    "#display.layer(db)"
   ]
  },
  {
   "cell_type": "markdown",
   "id": "62af87fa",
   "metadata": {},
   "source": [
    "Non-conditional simulations"
   ]
  },
  {
   "cell_type": "code",
   "execution_count": null,
   "id": "edb9b0f6",
   "metadata": {},
   "outputs": [],
   "source": [
    "mesh = gl.MeshETurbo(dbsim)\n",
    "nostat = gl.NoStatArray(nostatKeys, dbsim)\n",
    "err = model.addNoStat(nostat)"
   ]
  },
  {
   "cell_type": "code",
   "execution_count": null,
   "id": "81b4a0fc",
   "metadata": {},
   "outputs": [],
   "source": [
    "spde = gl.SPDE()\n",
    "spde.init(model,dbsim,None,gl.ESPDECalcMode.SIMUNONCOND, mesh)\n",
    "spde.compute()\n",
    "iuid = spde.query(dbsim)"
   ]
  },
  {
   "cell_type": "code",
   "execution_count": null,
   "id": "eefc8a5b",
   "metadata": {},
   "outputs": [],
   "source": [
    "ax = gp.grid(dbsim)"
   ]
  },
  {
   "cell_type": "code",
   "execution_count": null,
   "id": "7518ce3d",
   "metadata": {},
   "outputs": [],
   "source": [
    "#spdeRes = gl.SPDE()\n",
    "#spdeRes.init(model,grid,dat,gl.ESPDECalcMode.KRIGING,mesh)\n",
    "#spdeRes.compute()"
   ]
  }
 ],
 "metadata": {
  "kernelspec": {
   "display_name": "Python 3 (ipykernel)",
   "language": "python",
   "name": "python3"
  },
  "language_info": {
   "codemirror_mode": {
    "name": "ipython",
    "version": 3
   },
   "file_extension": ".py",
   "mimetype": "text/x-python",
   "name": "python",
   "nbconvert_exporter": "python",
   "pygments_lexer": "ipython3",
   "version": "3.9.2"
  }
 },
 "nbformat": 4,
 "nbformat_minor": 5
}
