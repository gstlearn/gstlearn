{
 "cells": [
  {
   "cell_type": "markdown",
   "id": "3fa2069d",
   "metadata": {},
   "source": [
    "# SPDE\n",
    "\n",
    "In this tutorial, we show how the use of SPDE for Varying Anisotropy in the Simulation process"
   ]
  },
  {
   "cell_type": "code",
   "execution_count": null,
   "id": "d0ee0b1c",
   "metadata": {},
   "outputs": [],
   "source": [
    "import gstlearn as gl\n",
    "import gstlearn.plot as gp\n",
    "import gstlearn.document as gdoc\n",
    "import numpy as np\n",
    "import matplotlib.pyplot as plt\n",
    "import numpy as np\n",
    "import random\n",
    "import math\n",
    "\n",
    "gdoc.setNoScroll()"
   ]
  },
  {
   "cell_type": "markdown",
   "id": "e76efa50",
   "metadata": {},
   "source": [
    "Defining some global parameters"
   ]
  },
  {
   "cell_type": "code",
   "execution_count": null,
   "id": "92b7ea5d",
   "metadata": {},
   "outputs": [],
   "source": [
    "#Extension of the simulation grid\n",
    "nxmax = 500 \n",
    "nymax = 200\n",
    "\n",
    "#Well Definition\n",
    "nwell = 6\n",
    "vlag  = 3\n",
    "\n",
    "#Anisotropy ratio \n",
    "ratio=1.5          \n",
    "range=150\n",
    "\n",
    "#Some seeds\n",
    "seed1  = 34556643\n",
    "seed2  = 244212\n",
    "seednc = 432432\n",
    "seedw  = 2432145\n",
    "\n",
    "# Color Scale\n",
    "zlim = [-1.6, 2.5]"
   ]
  },
  {
   "cell_type": "markdown",
   "id": "fda6a2d1",
   "metadata": {},
   "source": [
    "Internal function"
   ]
  },
  {
   "cell_type": "code",
   "execution_count": null,
   "id": "153e6ad5",
   "metadata": {},
   "outputs": [],
   "source": [
    "def make_well(db,res,nwell=nwell,vlag=vlag,seed=seedw):\n",
    "  nxmax = res.getNX(0)\n",
    "  indexes = gl.VectorHelper.sampleRanks(ntotal=nxmax, number=nwell, seed=seed, optSort=1)\n",
    "    \n",
    "  x1 = np.ones(0)\n",
    "  x2 = np.ones(0)\n",
    "  for i in indexes:\n",
    "    bot = math.ceil(db[i,\"W1\"][0])\n",
    "    top = math.floor(db[i,\"W2\"][0])\n",
    "    temp = np.arange(bot, top, step=vlag)\n",
    "    x1 = np.concatenate((x1, i * np.ones(len(temp), dtype=int) + 0.2))\n",
    "    x2 = np.concatenate((x2, temp))\n",
    "\n",
    "  db_sample = gl.Db.createFromSamples(len(x1),gl.ELoadBy.COLUMN,np.concatenate((x1,x2)))\n",
    "  db_sample.setName(\"New.1\",\"x1\")\n",
    "  db_sample.setName(\"New.2\",\"x2\")\n",
    "  db_sample.setLocator(\"x1\",gl.ELoc.X,0)\n",
    "  db_sample.setLocator(\"x2\",gl.ELoc.X,1)\n",
    "  err = gl.migrate(res, db_sample, \"*simu*\")\n",
    "  return db_sample"
   ]
  },
  {
   "cell_type": "markdown",
   "id": "833f09e7",
   "metadata": {},
   "source": [
    "Simulating the layer boundaries"
   ]
  },
  {
   "cell_type": "code",
   "execution_count": null,
   "id": "31a38733",
   "metadata": {
    "scrolled": true
   },
   "outputs": [],
   "source": [
    "db = gl.DbGrid.create(nx=nxmax)\n",
    "model = gl.Model.createFromParam(gl.ECov.GAUSSIAN,range=200,space=gl.SpaceRN.create(1))\n",
    "err = gl.simtub(None,dbout=db,model=model,nbtuba=1000,seed=seed1,namconv=gl.NamingConvention(\"W1\"))\n",
    "err = gl.simtub(None,dbout=db,model=model,nbtuba=1000,seed=seed2,namconv=gl.NamingConvention(\"W2\"))\n",
    "db[\"W1\"]=db[\"W1\"]-min(db[\"W1\"])\n",
    "db[\"W2\"]=db[\"W2\"]-min(db[\"W2\"])\n",
    "db[\"W2\"]=db[\"W1\"]+db[\"W2\"]+1\n",
    "db[\"W1\"]=nymax*db[\"W1\"]/max(db[\"W2\"])\n",
    "db[\"W2\"]=nymax*db[\"W2\"]/max(db[\"W2\"])\n",
    "db.display()"
   ]
  },
  {
   "cell_type": "markdown",
   "id": "f47451de",
   "metadata": {},
   "source": [
    "Plotting the limits of the layer"
   ]
  },
  {
   "cell_type": "code",
   "execution_count": null,
   "id": "37a450cc",
   "metadata": {},
   "outputs": [],
   "source": [
    "gp.grid1D(db,name=\"W1\", color=\"blue\")\n",
    "gp.grid1D(db,name=\"W2\", color=\"green\")\n",
    "gp.decoration(title=\"Layer limits\")"
   ]
  },
  {
   "cell_type": "markdown",
   "id": "138c55f7",
   "metadata": {},
   "source": [
    "Creation of the varying anisotropy (\"directed\" by the two layers)"
   ]
  },
  {
   "cell_type": "code",
   "execution_count": null,
   "id": "244ebd4a",
   "metadata": {},
   "outputs": [],
   "source": [
    "model = gl.Model.createFromParam(gl.ECov.MATERN,range=range,param=1,space=gl.SpaceRN.create(2))\n",
    "dbgrid = gl.DbGrid.create([nxmax,nymax])\n",
    "ind = (dbgrid[\"x1\"]).reshape(1,-1)[0].astype(int)\n",
    "dbgrid[\"sel\"] = (dbgrid[\"x2\"] > db[ind,\"W1\"]) & (dbgrid[\"x2\"] < db[ind,\"W2\"])\n",
    "anglesi = np.arctan(db[\"W1\"][1:]-db[\"W1\"][:-1])/np.pi*180\n",
    "angless = np.arctan(db[\"W2\"][1:]-db[\"W2\"][:-1])/np.pi*180\n",
    "anglesi = np.insert(anglesi, 0, anglesi[0])\n",
    "angless = np.insert(angless, 0, angless[0])\n",
    "\n",
    "aniso = (dbgrid[\"x2\"]-db[ind,\"W1\"]) / (db[ind,\"W2\"]-db[ind,\"W1\"])\n",
    "aniso = anglesi[ind] + aniso * (angless[ind]-anglesi[ind])\n",
    "ratio = ratio*(db[ind,\"W2\"]-db[ind,\"W1\"])/max(db[\"W2\"]-db[\"W1\"])\n",
    "\n",
    "dbgrid.addColumns(aniso,\"aniso\")\n",
    "dbgrid.addColumns(ratio,\"ratio\")\n",
    "dbgrid.setLocator(\"sel\",gl.ELoc.SEL)\n",
    "\n",
    "dbgrid.display()"
   ]
  },
  {
   "cell_type": "code",
   "execution_count": null,
   "id": "30d1ba75",
   "metadata": {},
   "outputs": [],
   "source": [
    "gp.plot(dbgrid,\"aniso\")\n",
    "gp.decoration(title=\"Anisotropy Angle\")"
   ]
  },
  {
   "cell_type": "code",
   "execution_count": null,
   "id": "f7818baa",
   "metadata": {},
   "outputs": [],
   "source": [
    "gp.plot(dbgrid,\"ratio\")\n",
    "gp.decoration(title=\"Anisotropy Ratio\")"
   ]
  },
  {
   "cell_type": "markdown",
   "id": "4f173598",
   "metadata": {},
   "source": [
    "Display the anisotropy maps (on a coarser grid)"
   ]
  },
  {
   "cell_type": "markdown",
   "id": "4faf0327",
   "metadata": {},
   "source": [
    "Creating the Meshing "
   ]
  },
  {
   "cell_type": "code",
   "execution_count": null,
   "id": "25f37412",
   "metadata": {},
   "outputs": [],
   "source": [
    "mesh = gl.MeshETurbo.createFromGrid(dbgrid, mode=0)"
   ]
  },
  {
   "cell_type": "markdown",
   "id": "eab61957",
   "metadata": {},
   "source": [
    "Assigning non-stationarity to the Model"
   ]
  },
  {
   "cell_type": "code",
   "execution_count": null,
   "id": "9e686e8c",
   "metadata": {},
   "outputs": [],
   "source": [
    "dbcoarse = dbgrid.coarsify([20,20])\n",
    "err = model.getCovAniso(0).makeAngleNoStatDb(\"aniso\",0,dbgrid)\n",
    "err = model.getCovAniso(0).makeRangeNoStatDb(\"ratio\",1)\n",
    "model.display()"
   ]
  },
  {
   "cell_type": "code",
   "execution_count": null,
   "id": "af3affbc",
   "metadata": {},
   "outputs": [],
   "source": [
    "gp.covaOnGrid(model.getCovAniso(0), db=dbcoarse, scale=50, flagOrtho=False)\n",
    "gp.grid1D(db,name=\"W1\", color=\"blue\")\n",
    "gp.grid1D(db,name=\"W2\", color=\"green\")\n",
    "gp.decoration(title=\"Layer limits\")"
   ]
  },
  {
   "cell_type": "markdown",
   "id": "933ecc6e",
   "metadata": {},
   "source": [
    "## Non conditional simulation"
   ]
  },
  {
   "cell_type": "markdown",
   "id": "27e463bb",
   "metadata": {},
   "source": [
    "Process the simulation on the output grid and visualize the result (the resulting variable is stored in rank 'iuid' and name 'spde.simu'."
   ]
  },
  {
   "cell_type": "code",
   "execution_count": null,
   "id": "26daf667",
   "metadata": {
    "scrolled": true
   },
   "outputs": [],
   "source": [
    "spdeRes = gl.SPDE(model=model,domain=dbgrid,calcul=gl.ESPDECalcMode.SIMUNONCOND, mesh=mesh)\n",
    "err = spdeRes.compute(dbgrid, namconv=gl.NamingConvention(\"spde.simu\",False))"
   ]
  },
  {
   "cell_type": "code",
   "execution_count": null,
   "id": "ddbcf5b7",
   "metadata": {},
   "outputs": [],
   "source": [
    "gp.plot(dbgrid, \"spde.simu\", flagLegend=True)\n",
    "gp.decoration(title=\"Non conditional Simulation\")"
   ]
  },
  {
   "cell_type": "markdown",
   "id": "8858fd59",
   "metadata": {},
   "source": [
    "## Kriging"
   ]
  },
  {
   "cell_type": "markdown",
   "id": "860f1bdb",
   "metadata": {},
   "source": [
    "Creating a set of fictitious wells (extracted from the non-conditional simulation)"
   ]
  },
  {
   "cell_type": "code",
   "execution_count": null,
   "id": "c62df2ee",
   "metadata": {
    "scrolled": true
   },
   "outputs": [],
   "source": [
    "db_sample = make_well(db,dbgrid,nwell=nwell,vlag=vlag,seed=seedw)"
   ]
  },
  {
   "cell_type": "code",
   "execution_count": null,
   "id": "5bc66230",
   "metadata": {},
   "outputs": [],
   "source": [
    "gp.grid1D(db,name=\"W1\", color=\"blue\")\n",
    "gp.grid1D(db,name=\"W2\", color=\"green\")\n",
    "gp.symbol(db_sample, nameCoorY=\"x2\")\n",
    "gp.decoration(title=\"Layer limits\")"
   ]
  },
  {
   "cell_type": "code",
   "execution_count": null,
   "id": "b81b1f70",
   "metadata": {},
   "outputs": [],
   "source": [
    "#spdeRes.setNIterMax(5000)\n",
    "spdeRes = gl.SPDE(model=model,domain=dbgrid,data=db_sample,calcul=gl.ESPDECalcMode.KRIGING,mesh=mesh)\n",
    "err = spdeRes.compute(dbgrid, namconv=gl.NamingConvention(\"spde.kriging\",False,False))"
   ]
  },
  {
   "cell_type": "code",
   "execution_count": null,
   "id": "cfa66839",
   "metadata": {
    "scrolled": true
   },
   "outputs": [],
   "source": [
    "gp.grid1D(db,name=\"W1\", color=\"blue\")\n",
    "gp.grid1D(db,name=\"W2\", color=\"green\")\n",
    "gp.plot(dbgrid, \"spde.kriging\")\n",
    "gp.symbol(db_sample, nameCoorY=\"x2\")\n",
    "gp.decoration(title=\"Kriging\")"
   ]
  },
  {
   "cell_type": "markdown",
   "id": "7a1636a1",
   "metadata": {},
   "source": [
    "## Conditional Simulation"
   ]
  },
  {
   "cell_type": "code",
   "execution_count": null,
   "id": "f3f0cf43",
   "metadata": {},
   "outputs": [],
   "source": [
    "spdeRes = gl.SPDE(model=model,domain=dbgrid,data=db_sample,calcul=gl.ESPDECalcMode.SIMUCOND,mesh=mesh)\n",
    "err = spdeRes.compute(dbgrid, namconv=gl.NamingConvention(\"spde.condSimu\",False,False))"
   ]
  },
  {
   "cell_type": "code",
   "execution_count": null,
   "id": "bbe8ac08",
   "metadata": {
    "scrolled": false
   },
   "outputs": [],
   "source": [
    "gp.grid1D(db,name=\"W1\", color=\"blue\")\n",
    "gp.grid1D(db,name=\"W2\", color=\"green\")\n",
    "gp.plot(dbgrid, \"spde.condSimu\")\n",
    "gp.symbol(db_sample, nameCoorY=\"x2\")\n",
    "gp.decoration(title=\"Conditional Simulation\")"
   ]
  }
 ],
 "metadata": {
  "kernelspec": {
   "display_name": "Python 3 (ipykernel)",
   "language": "python",
   "name": "python3"
  },
  "language_info": {
   "codemirror_mode": {
    "name": "ipython",
    "version": 3
   },
   "file_extension": ".py",
   "mimetype": "text/x-python",
   "name": "python",
   "nbconvert_exporter": "python",
   "pygments_lexer": "ipython3",
   "version": "3.10.5"
  },
  "toc": {
   "base_numbering": 1,
   "nav_menu": {},
   "number_sections": true,
   "sideBar": true,
   "skip_h1_title": false,
   "title_cell": "Table of Contents",
   "title_sidebar": "Contents",
   "toc_cell": false,
   "toc_position": {},
   "toc_section_display": true,
   "toc_window_display": false
  }
 },
 "nbformat": 4,
 "nbformat_minor": 5
}
