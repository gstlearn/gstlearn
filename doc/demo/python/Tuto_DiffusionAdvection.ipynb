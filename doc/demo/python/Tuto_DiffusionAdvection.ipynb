{
 "cells": [
  {
   "cell_type": "markdown",
   "id": "b094e469",
   "metadata": {},
   "source": [
    "# Diffusion Advection"
   ]
  },
  {
   "cell_type": "markdown",
   "id": "d60aee35",
   "metadata": {},
   "source": [
    "<!-- SUMMARY: Simulation of a Diffusion-Advection Model  -->\n",
    "\n",
    "<!-- KEYWORDS: simulation spatio-temporal -->"
   ]
  },
  {
   "cell_type": "code",
   "execution_count": null,
   "id": "2c7f1220",
   "metadata": {},
   "outputs": [],
   "source": [
    "import gstlearn as gl\n",
    "import numpy as np\n",
    "import matplotlib.pyplot as plt"
   ]
  },
  {
   "cell_type": "code",
   "execution_count": null,
   "id": "c188dcbd",
   "metadata": {},
   "outputs": [],
   "source": [
    "cov = gl.CovDiffusionAdvection()\n",
    "\n",
    "vel = [0.,0]\n",
    "scaleTime = 0.2\n",
    "sigma2 = 3\n",
    "p1 = 1\n",
    "p2 = 1\n",
    "scale = 2\n",
    "ctxt = gl.CovContext()\n",
    "cova1 = gl.CovAniso.createIsotropic(type=gl.ECov.BESSEL_K,\n",
    "                                    range = scale, \n",
    "                                    param =p1, flagRange= False,\n",
    "                                    ctxt=ctxt)\n",
    "cova2 = gl.CovAniso.createIsotropic(type=gl.ECov.BESSEL_K,\n",
    "                                    range = scale, \n",
    "                                    param =p2, \n",
    "                                    flagRange= False,ctxt=ctxt)\n",
    "\n",
    "cova1 = None\n",
    "   \n",
    "cov = gl.CovDiffusionAdvection.create(cova1,cova2,scaleTime,vel,sigma2)\n",
    "covprod = cov.getSpatialTrace()\n",
    "covprod.display()"
   ]
  },
  {
   "cell_type": "code",
   "execution_count": null,
   "id": "b82e9b9d",
   "metadata": {},
   "outputs": [],
   "source": [
    "cov.getSpatialTrace().getMarkovCoeffs()"
   ]
  },
  {
   "cell_type": "code",
   "execution_count": null,
   "id": "bdd3d666",
   "metadata": {},
   "outputs": [],
   "source": [
    "cov.getGlobalCorrec()"
   ]
  },
  {
   "cell_type": "markdown",
   "id": "7ab24ee4",
   "metadata": {},
   "source": [
    "### Spatial Trace"
   ]
  },
  {
   "cell_type": "code",
   "execution_count": null,
   "id": "c178049c",
   "metadata": {},
   "outputs": [],
   "source": [
    "mH1 = 50\n",
    "mH2 = 50\n",
    "N=2**8\n",
    "result = np.array(cov.evalCovFFT([mH1,mH2],0,N).getValues()).reshape(N,N)\n",
    "trace= np.array(covprod.evalCovFFT([mH1,mH2],N).getValues()).reshape(N,N)"
   ]
  },
  {
   "cell_type": "code",
   "execution_count": null,
   "id": "7e05d220",
   "metadata": {},
   "outputs": [],
   "source": [
    "plt.imshow(result,extent = [-mH1,mH1,-mH2,mH2])\n",
    "plt.colorbar()\n",
    "plt.show()\n",
    "plt.imshow(trace,extent = [-mH1,mH1,-mH2,mH2])\n",
    "c = plt.colorbar()"
   ]
  },
  {
   "cell_type": "code",
   "execution_count": null,
   "id": "c3a8f6ef",
   "metadata": {},
   "outputs": [],
   "source": [
    "X1 = np.linspace(-mH1,mH1,N) \n",
    "X2 = np.linspace(-mH2,mH2,N) \n",
    "\n",
    "plt.plot(X1,trace[int(N/2),:],label = \"Trace\")\n",
    "plt.plot(X1,result[int(N/2),:],\"--\",label=\"FFT\")\n",
    "l = plt.legend()\n"
   ]
  },
  {
   "cell_type": "code",
   "execution_count": null,
   "id": "b3898c8c",
   "metadata": {},
   "outputs": [],
   "source": [
    "\n",
    "N=2**7\n",
    "\n",
    "ntimes = 40\n",
    "restime = np.zeros(shape=ntimes)\n",
    "result = np.zeros(shape = (N*N,ntimes))\n",
    "times = np.arange(ntimes) * 0.5\n",
    "for it,time in enumerate(times):\n",
    "    result[:,it] = np.array(cov.evalCovFFT([mH1,mH2],time,N).getValues())\n",
    "    restime[it] = result[:,it].reshape(N,N)[int(N/2),int(N/2)]"
   ]
  },
  {
   "cell_type": "code",
   "execution_count": null,
   "id": "cc2091aa",
   "metadata": {},
   "outputs": [],
   "source": [
    "fig, axs = plt.subplots(nrows=4,ncols=5, figsize=(10,5))\n",
    "k = 0\n",
    "for i in range(4) : \n",
    "    for j in range(5):\n",
    "        pt = axs[i,j].imshow(result[:,k].reshape(N,N),origin = \"lower\",extent = [-mH1,mH1,-mH2,mH2])\n",
    "        pt.set_clim([result.min(),result.max()])\n",
    "        k+=1\n"
   ]
  },
  {
   "cell_type": "markdown",
   "id": "36cd06bd",
   "metadata": {},
   "source": [
    "### Temporal covariance"
   ]
  },
  {
   "cell_type": "code",
   "execution_count": null,
   "id": "b76f5271",
   "metadata": {},
   "outputs": [],
   "source": [
    "plt.plot(times,restime,label = \"FFT\")\n",
    "if cova1 is None and np.sum(vel) == 0:\n",
    "    plt.plot(times,sigma2 * np.exp(-times*scaleTime),\"--\",label = \"Theoretical\")\n",
    "\n",
    "#plt.ylim((0,restime.max()))\n",
    "ax = plt.legend()"
   ]
  }
 ],
 "metadata": {
  "kernelspec": {
   "display_name": "Python 3 (ipykernel)",
   "language": "python",
   "name": "python3"
  },
  "language_info": {
   "codemirror_mode": {
    "name": "ipython",
    "version": 3
   },
   "file_extension": ".py",
   "mimetype": "text/x-python",
   "name": "python",
   "nbconvert_exporter": "python",
   "pygments_lexer": "ipython3",
   "version": "3.10.5"
  },
  "toc": {
   "base_numbering": 1,
   "nav_menu": {},
   "number_sections": true,
   "sideBar": true,
   "skip_h1_title": false,
   "title_cell": "Table of Contents",
   "title_sidebar": "Contents",
   "toc_cell": false,
   "toc_position": {},
   "toc_section_display": true,
   "toc_window_display": false
  }
 },
 "nbformat": 4,
 "nbformat_minor": 5
}
