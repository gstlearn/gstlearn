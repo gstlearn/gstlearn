{
 "cells": [
  {
   "cell_type": "code",
   "execution_count": null,
   "metadata": {},
   "outputs": [],
   "source": [
    "import gstlearn as gl\n",
    "import numpy as np\n",
    "import matplotlib.pyplot as plt"
   ]
  },
  {
   "cell_type": "code",
   "execution_count": null,
   "metadata": {},
   "outputs": [],
   "source": [
    "cov = gl.CovDiffusionAdvection()\n",
    "\n",
    "scale=1\n",
    "vel = gl.VectorDouble(2)\n",
    "vel[0] = 0\n",
    "vel[1] = 5\n",
    "scaleTime = 0.9\n",
    "sigma2 = 1\n",
    "p1 = 1\n",
    "p2 = 1\n",
    "\n",
    "ctxt = gl.CovContext()\n",
    "cova1 = gl.CovAniso.createIsotropic(type=gl.ECov.BESSEL_K,range = scale, param =p1, flagRange= False,ctxt=ctxt)\n",
    "cova2 = gl.CovAniso.createIsotropic(type=gl.ECov.BESSEL_K,range = scale, param =p2, flagRange= False,ctxt=ctxt)\n",
    "\n",
    "#cova2 = None\n",
    "\n",
    "covP = p1 +1\n",
    "if cova1 is None:\n",
    "    covP = p2 +1\n",
    "else :\n",
    "    if cova2 is not None:\n",
    "        covP = (p1 + 1 + p2 +1)\n",
    "covP-= 1\n",
    "        \n",
    "covprod = gl.CovAniso.createIsotropic(type=gl.ECov.BESSEL_K,range = scale, param =covP, flagRange= False,ctxt=ctxt)\n",
    "cov = gl.CovDiffusionAdvection.create(cova1,cova2,scaleTime,vel,sigma2)\n"
   ]
  },
  {
   "cell_type": "markdown",
   "metadata": {},
   "source": [
    "### Spatial Trace"
   ]
  },
  {
   "cell_type": "code",
   "execution_count": null,
   "metadata": {},
   "outputs": [],
   "source": [
    "nx1 = 40\n",
    "nx2 = 40\n",
    "N=2**7\n",
    "result = np.array(cov.evalCovFFT([nx1,nx2],0,N).getValues()).reshape(N,N)"
   ]
  },
  {
   "cell_type": "code",
   "execution_count": null,
   "metadata": {},
   "outputs": [],
   "source": [
    "plt.imshow(result,extent = [-nx1,nx1,-nx2,nx2])\n",
    "plt.colorbar()"
   ]
  },
  {
   "cell_type": "code",
   "execution_count": null,
   "metadata": {},
   "outputs": [],
   "source": [
    "mH1 = nx1\n",
    "mH2 = nx2\n",
    "\n",
    "X1 = np.linspace(-mH1,mH1,N) \n",
    "X2 = np.linspace(-mH2,mH2,N) \n",
    "covM = [0.5*covprod.eval(0,0,gl.SpacePoint([0,0]),gl.SpacePoint([0,i])) for i in X1]\n",
    "plt.plot(X1,covM,label = \"Covariance\")\n",
    "plt.plot(X1,result[int(N/2),:],label=\"FFT\")\n",
    "plt.legend()\n"
   ]
  },
  {
   "cell_type": "code",
   "execution_count": null,
   "metadata": {},
   "outputs": [],
   "source": [
    "nx1 = 30\n",
    "nx2 = 30\n",
    "N=2**8\n",
    "\n",
    "ntimes = 20\n",
    "restime = np.zeros(shape=ntimes)\n",
    "result = np.zeros(shape = (N*N,ntimes))\n",
    "times = np.arange(ntimes) * 0.5\n",
    "for it,time in enumerate(times):\n",
    "    result[:,it] = np.array(cov.evalCovFFT([nx1,nx2],time,N).getValues())\n",
    "    restime[it] = result[:,it].reshape(N,N)[int(N/2),int(N/2)]"
   ]
  },
  {
   "cell_type": "code",
   "execution_count": null,
   "metadata": {},
   "outputs": [],
   "source": [
    "fig, axs = plt.subplots(nrows=4,ncols=5, figsize=(10,5))\n",
    "k = 0\n",
    "for i in range(4) : \n",
    "    for j in range(5):\n",
    "        pt = axs[i,j].imshow(result[:,k].reshape(N,N))\n",
    "        pt.set_clim([result.min(),result.max()])\n",
    "        k+=1\n"
   ]
  },
  {
   "cell_type": "code",
   "execution_count": null,
   "metadata": {},
   "outputs": [],
   "source": [
    "plt.plot(times,restime,label = \"FFT\")\n",
    "if cova1 is None :\n",
    "    plt.plot(times,0.5*np.exp(-times*scaleTime),\"--\",label = \"Theoretical\")\n",
    "plt.legend()"
   ]
  },
  {
   "cell_type": "code",
   "execution_count": null,
   "metadata": {},
   "outputs": [],
   "source": []
  }
 ],
 "metadata": {
  "kernelspec": {
   "display_name": "Python 3",
   "language": "python",
   "name": "python3"
  },
  "language_info": {
   "codemirror_mode": {
    "name": "ipython",
    "version": 3
   },
   "file_extension": ".py",
   "mimetype": "text/x-python",
   "name": "python",
   "nbconvert_exporter": "python",
   "pygments_lexer": "ipython3",
   "version": "3.8.5"
  }
 },
 "nbformat": 4,
 "nbformat_minor": 5
}
