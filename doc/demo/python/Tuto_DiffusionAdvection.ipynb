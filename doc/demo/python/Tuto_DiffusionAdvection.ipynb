{
 "cells": [
  {
   "cell_type": "code",
   "execution_count": null,
   "id": "2c7f1220",
   "metadata": {},
   "outputs": [],
   "source": [
    "import gstlearn as gl\n",
    "import numpy as np\n",
    "import matplotlib.pyplot as plt"
   ]
  },
  {
   "cell_type": "code",
   "execution_count": null,
   "id": "c188dcbd",
   "metadata": {},
   "outputs": [],
   "source": [
    "cov = gl.CovDiffusionAdvection()\n",
    "\n",
    "vel = gl.VectorDouble(2)\n",
    "vel[0] = 3\n",
    "vel[1] = 2\n",
    "scaleTime = 0.5\n",
    "sigma2 = 3\n",
    "p1 = 2\n",
    "p2 = 2\n",
    "scale = 2\n",
    "ctxt = gl.CovContext()\n",
    "cova1 = gl.CovAniso.createIsotropic(type=gl.ECov.BESSEL_K,range = scale, param =p1, flagRange= False,ctxt=ctxt)\n",
    "cova2 = gl.CovAniso.createIsotropic(type=gl.ECov.BESSEL_K,range = scale, param =p2, flagRange= False,ctxt=ctxt)\n",
    "\n",
    "#cova1 = None\n",
    "   \n",
    "cov = gl.CovDiffusionAdvection.create(cova1,cova2,scaleTime,vel,sigma2)\n",
    "covprod = cov.getSpatialTrace()"
   ]
  },
  {
   "cell_type": "code",
   "execution_count": null,
   "id": "b82e9b9d",
   "metadata": {},
   "outputs": [],
   "source": [
    "cov.getSpatialTrace().getMarkovCoeffs()"
   ]
  },
  {
   "cell_type": "code",
   "execution_count": null,
   "id": "bdd3d666",
   "metadata": {},
   "outputs": [],
   "source": [
    "cov.getGlobalCorrec()"
   ]
  },
  {
   "cell_type": "markdown",
   "id": "7ab24ee4",
   "metadata": {},
   "source": [
    "### Spatial Trace"
   ]
  },
  {
   "cell_type": "code",
   "execution_count": null,
   "id": "c178049c",
   "metadata": {},
   "outputs": [],
   "source": [
    "mH1 = 50\n",
    "mH2 = 50\n",
    "N=2**8\n",
    "result = np.array(cov.evalCovFFT([mH1,mH2],0,N).getValues()).reshape(N,N)\n",
    "trace= np.array(covprod.evalCovFFT([mH1,mH2],N).getValues()).reshape(N,N)\n"
   ]
  },
  {
   "cell_type": "code",
   "execution_count": null,
   "id": "7e05d220",
   "metadata": {},
   "outputs": [],
   "source": [
    "plt.imshow(result,extent = [-mH1,mH1,-mH2,mH2])\n",
    "plt.colorbar()\n",
    "plt.show()\n",
    "plt.imshow(trace,extent = [-mH1,mH1,-mH2,mH2])\n",
    "plt.colorbar()"
   ]
  },
  {
   "cell_type": "code",
   "execution_count": null,
   "id": "c3a8f6ef",
   "metadata": {},
   "outputs": [],
   "source": [
    "X1 = np.linspace(-mH1,mH1,N) \n",
    "X2 = np.linspace(-mH2,mH2,N) \n",
    "\n",
    "plt.plot(X1,trace[int(N/2),:],label = \"Trace\")\n",
    "plt.plot(X1,result[int(N/2),:],\"--\",label=\"FFT\")\n",
    "plt.legend()\n"
   ]
  },
  {
   "cell_type": "code",
   "execution_count": null,
   "id": "b3898c8c",
   "metadata": {},
   "outputs": [],
   "source": [
    "\n",
    "N=2**7\n",
    "\n",
    "ntimes = 40\n",
    "restime = np.zeros(shape=ntimes)\n",
    "result = np.zeros(shape = (N*N,ntimes))\n",
    "times = np.arange(ntimes) * 0.5\n",
    "for it,time in enumerate(times):\n",
    "    result[:,it] = np.array(cov.evalCovFFT([mH1,mH2],time,N).getValues())\n",
    "    restime[it] = result[:,it].reshape(N,N)[int(N/2),int(N/2)]"
   ]
  },
  {
   "cell_type": "code",
   "execution_count": null,
   "id": "cc2091aa",
   "metadata": {},
   "outputs": [],
   "source": [
    "fig, axs = plt.subplots(nrows=4,ncols=5, figsize=(10,5))\n",
    "k = 0\n",
    "for i in range(4) : \n",
    "    for j in range(5):\n",
    "        pt = axs[i,j].imshow(result[:,k].reshape(N,N),origin = \"lower\",extent = [-mH1,mH1,-mH2,mH2])\n",
    "        pt.set_clim([result.min(),result.max()])\n",
    "        k+=1\n"
   ]
  },
  {
   "cell_type": "markdown",
   "id": "36cd06bd",
   "metadata": {},
   "source": [
    "### Temporal covariance"
   ]
  },
  {
   "cell_type": "code",
   "execution_count": null,
   "id": "b76f5271",
   "metadata": {},
   "outputs": [],
   "source": [
    "plt.plot(times,restime,label = \"FFT\")\n",
    "if cova1 is None :\n",
    "    plt.plot(times,sigma2 * np.exp(-times*scaleTime),\"--\",label = \"Theoretical\")\n",
    "\n",
    "#plt.ylim((0,restime.max()))\n",
    "plt.legend()"
   ]
  },
  {
   "cell_type": "code",
   "execution_count": null,
   "id": "64bbe735",
   "metadata": {},
   "outputs": [],
   "source": []
  }
 ],
 "metadata": {
  "kernelspec": {
   "display_name": "Python 3 (ipykernel)",
   "language": "python",
   "name": "python3"
  },
  "language_info": {
   "codemirror_mode": {
    "name": "ipython",
    "version": 3
   },
   "file_extension": ".py",
   "mimetype": "text/x-python",
   "name": "python",
   "nbconvert_exporter": "python",
   "pygments_lexer": "ipython3",
   "version": "3.10.2"
  }
 },
 "nbformat": 4,
 "nbformat_minor": 5
}
