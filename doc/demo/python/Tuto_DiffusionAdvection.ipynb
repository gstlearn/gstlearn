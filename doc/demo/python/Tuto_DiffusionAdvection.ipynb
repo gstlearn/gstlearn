{
 "cells": [
  {
   "cell_type": "code",
   "execution_count": null,
   "id": "c5ee983f",
   "metadata": {},
   "outputs": [],
   "source": [
    "import gstlearn as gl\n",
    "import numpy as np\n",
    "import matplotlib.pyplot as plt"
   ]
  },
  {
   "cell_type": "code",
   "execution_count": null,
   "id": "fc10dd96",
   "metadata": {},
   "outputs": [],
   "source": [
    "cov = gl.CovDiffusionAdvection()\n",
    "\n",
    "scale=1\n",
    "vel = gl.VectorDouble(2)\n",
    "vel[0] = 0\n",
    "vel[1] = 1\n",
    "scaleTime = 0.9\n",
    "sigma2 = 1\n",
    "p1 = 1\n",
    "p2 = 1\n",
    "\n",
    "ctxt = gl.CovContext()\n",
    "cova1 = gl.CovAniso.createIsotropic(type=gl.ECov.BESSEL_K,range = scale, param =p1, flagRange= False,ctxt=ctxt)\n",
    "cova2 = gl.CovAniso.createIsotropic(type=gl.ECov.BESSEL_K,range = scale, param =p2, flagRange= False,ctxt=ctxt)\n",
    "\n",
    "cova2=None\n",
    "\n",
    "covP = p1 +1\n",
    "if cova1 is None:\n",
    "    covP = p2 +1\n",
    "else :\n",
    "    if cova2 is not None:\n",
    "        covP = (p1 + 1 + p2 +1)\n",
    "covP-= 1\n",
    "        \n",
    "covprod = gl.CovAniso.createIsotropic(type=gl.ECov.BESSEL_K,range = scale, param =covP, flagRange= False,ctxt=ctxt)\n",
    "cov = gl.CovDiffusionAdvection.create(cova1,cova2,scaleTime,vel,sigma2)\n"
   ]
  },
  {
   "cell_type": "code",
   "execution_count": null,
   "id": "d13074f4",
   "metadata": {},
   "outputs": [],
   "source": []
  },
  {
   "cell_type": "markdown",
   "id": "08f850ee",
   "metadata": {},
   "source": [
    "### Spatial Trace"
   ]
  },
  {
   "cell_type": "code",
   "execution_count": null,
   "id": "dc8eb126",
   "metadata": {},
   "outputs": [],
   "source": [
    "nx1 = 40\n",
    "nx2 = 40\n",
    "N=2**7\n",
    "result = np.array(cov.evalCovFFT([nx1,nx2],0,N).getValues()).reshape(N,N)"
   ]
  },
  {
   "cell_type": "code",
   "execution_count": null,
   "id": "7210d1a0",
   "metadata": {},
   "outputs": [],
   "source": [
    "plt.imshow(result,extent = [-nx1,nx1,-nx2,nx2])\n",
    "plt.colorbar()"
   ]
  },
  {
   "cell_type": "code",
   "execution_count": null,
   "id": "91ae8d80",
   "metadata": {},
   "outputs": [],
   "source": [
    "mH1 = nx1\n",
    "mH2 = nx2\n",
    "\n",
    "X1 = np.linspace(-mH1,mH1,N) \n",
    "X2 = np.linspace(-mH2,mH2,N) \n",
    "covM = [0.5*covprod.eval(0,0,gl.SpacePoint([0,0]),gl.SpacePoint([0,i])) for i in X1]\n",
    "plt.plot(X1,covM,label = \"Covariance\")\n",
    "plt.plot(X1,result[int(N/2),:],label=\"FFT\")\n",
    "plt.legend()\n"
   ]
  },
  {
   "cell_type": "code",
   "execution_count": null,
   "id": "ad2116b6",
   "metadata": {},
   "outputs": [],
   "source": [
    "nx1 = 10\n",
    "nx2 = 10\n",
    "N=2**8\n",
    "\n",
    "ntimes = 40\n",
    "restime = np.zeros(shape=ntimes)\n",
    "result = np.zeros(shape = (N*N,ntimes))\n",
    "times = np.arange(ntimes) * 0.7\n",
    "for it,time in enumerate(times):\n",
    "    result[:,it] = correc * np.array(cov.evalCovFFT([nx1,nx2],time,N).getValues())\n",
    "    restime[it] = result[:,it].reshape(N,N)[int(N/2),int(N/2)]"
   ]
  },
  {
   "cell_type": "code",
   "execution_count": null,
   "id": "fcba4d6e",
   "metadata": {},
   "outputs": [],
   "source": [
    "fig, axs = plt.subplots(nrows=2,ncols=5, figsize=(10,5))\n",
    "k = 0\n",
    "for i in range(2) : \n",
    "    for j in range(5):\n",
    "        pt = axs[i,j].imshow(result[:,k].reshape(N,N))\n",
    "        pt.set_clim([result.min(),result.max()])\n",
    "        k+=1\n"
   ]
  },
  {
   "cell_type": "code",
   "execution_count": null,
   "id": "4fb6f9fe",
   "metadata": {},
   "outputs": [],
   "source": [
    "plt.plot(times,restime,label = \"FFT\")\n",
    "if cova1 is None :\n",
    "    plt.plot(times,0.5*np.exp(-times*scaleTime),\"--\",label = \"Theoretical\")\n",
    "plt.legend()"
   ]
  }
 ],
 "metadata": {
  "kernelspec": {
   "display_name": "Python 3 (ipykernel)",
   "language": "python",
   "name": "python3"
  },
  "language_info": {
   "codemirror_mode": {
    "name": "ipython",
    "version": 3
   },
   "file_extension": ".py",
   "mimetype": "text/x-python",
   "name": "python",
   "nbconvert_exporter": "python",
   "pygments_lexer": "ipython3",
   "version": "3.10.2"
  }
 },
 "nbformat": 4,
 "nbformat_minor": 5
}
