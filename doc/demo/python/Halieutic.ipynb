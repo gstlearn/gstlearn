{
 "cells": [
  {
   "cell_type": "markdown",
   "id": "b8deb68f",
   "metadata": {},
   "source": [
    "# Halieutique"
   ]
  },
  {
   "cell_type": "markdown",
   "id": "8b06a74a",
   "metadata": {},
   "source": [
    "<!-- SUMMARY: Données du groupe de travail CIEM WGACEGG: densités acoustiques (NASC) d'anchois et de sardine par unité d'échantillonnage de 1 mille nautique de long, observées au printemps 2018 et 2021. -->\n",
    "\n",
    "<!-- CATEGORY: Case_Studies -->"
   ]
  },
  {
   "cell_type": "code",
   "execution_count": null,
   "id": "76622c76",
   "metadata": {},
   "outputs": [],
   "source": [
    "import pandas as pd\n",
    "import numpy as np\n",
    "import matplotlib.pyplot as plt\n",
    "import gstlearn as gl\n",
    "import gstlearn.plot as gp\n",
    "import gstlearn.document as gdoc\n",
    "import os\n",
    "import geopandas as gpd\n",
    "from shapely.geometry import Polygon"
   ]
  },
  {
   "cell_type": "markdown",
   "id": "b45d03a2",
   "metadata": {},
   "source": [
    "Le jeu de données du groupe de travail CIEM WGACEGG: densités acoustiques (NASC) d'anchois et de sardine par unité d'échantillonnage de 1 mille nautique de long, observées au printemps 2018 et 2021.\n",
    "\n",
    "Description des colonnes : \n",
    "- survey : campagne\n",
    "- year : année\n",
    "- time : date/heure enregistrement donnée\n",
    "- x : longitude en ° décimal WGS84\n",
    "- y : latitude en ° décimal WGS84\n",
    "- NASC : densité acoustique en m2.MN-2\n",
    "- sp : espèce anchois = \"ENGR-ENC\"\n",
    "- sardine =\"SARD-PIL\"\n",
    "\n",
    "Pour plus d'infos sur l'origine de ces données : Doray, M., Van Der Kooij, J., Boyra, G. (Eds.), 2021. ICES Survey Protocols - Manual for acoustic surveys coordinated under the ICES Working Group on Acoustic and Egg Surveys for Small Pelagic Fish (WGACEGG). https://doi.org/10.17895/ICES.PUB.7462."
   ]
  },
  {
   "cell_type": "markdown",
   "id": "299befa4",
   "metadata": {},
   "source": [
    "Lecture du fichier de données"
   ]
  },
  {
   "cell_type": "code",
   "execution_count": null,
   "id": "01e99407",
   "metadata": {},
   "outputs": [],
   "source": [
    "file_csv = gdoc.loadData(\"halieutic\", \"AC-SPRING-IBBB-NASC_ANE-PIL_2018-2021.csv\")\n",
    "rawDat = pd.read_csv(file_csv,sep=\";\")\n",
    "rawDat.head()"
   ]
  },
  {
   "cell_type": "markdown",
   "id": "14608c93",
   "metadata": {},
   "source": [
    "Creation de la base de données"
   ]
  },
  {
   "cell_type": "code",
   "execution_count": null,
   "id": "205b84ff",
   "metadata": {},
   "outputs": [],
   "source": [
    "dbDat = gl.Db()\n",
    "for field in [\"year\",\"x\",\"y\",\"NASC\"] :\n",
    "    dbDat[field] = rawDat[field]"
   ]
  },
  {
   "cell_type": "code",
   "execution_count": null,
   "id": "8fb9a1f2",
   "metadata": {},
   "outputs": [],
   "source": [
    "dbDat.setLocators([\"x\",\"y\"],gl.ELoc.X)\n",
    "dbDat.setLocator(\"NASC\",gl.ELoc.Z)"
   ]
  },
  {
   "cell_type": "markdown",
   "id": "4ae1c873",
   "metadata": {},
   "source": [
    "Conversion des coordonnées"
   ]
  },
  {
   "cell_type": "code",
   "execution_count": null,
   "id": "aff1d7b8",
   "metadata": {},
   "outputs": [],
   "source": [
    "crsFrom=\"EPSG:4326\"\n",
    "crsTo=\"EPSG:2154\"\n",
    "a = gpd.points_from_xy(dbDat[\"x\"], dbDat[\"y\"], crs=crsFrom)\n",
    "a = a.to_crs(crsTo)\n",
    "dbDat[\"x\"] = a.x\n",
    "dbDat[\"y\"] = a.y"
   ]
  },
  {
   "cell_type": "markdown",
   "id": "f8909486",
   "metadata": {},
   "source": [
    "Lecture du Polygone"
   ]
  },
  {
   "cell_type": "code",
   "execution_count": null,
   "id": "e7cdf821",
   "metadata": {},
   "outputs": [],
   "source": [
    "file_csv = gdoc.loadData(\"halieutic\", \"WGACEGGspringPolygon.csv\")\n",
    "csv = gl.CSVformat(True, 0, \";\", \".\")\n",
    "poly = gl.Polygons.createFromCSV(file_csv, csv)"
   ]
  },
  {
   "cell_type": "markdown",
   "id": "91fd037b",
   "metadata": {},
   "source": [
    "Conversion des coordonnées"
   ]
  },
  {
   "cell_type": "code",
   "execution_count": null,
   "id": "bf9aac53",
   "metadata": {},
   "outputs": [],
   "source": [
    "crsFrom=\"EPSG:4326\"\n",
    "crsTo=\"EPSG:2154\"\n",
    "a = gpd.points_from_xy(poly.getX(0), poly.getY(0), crs=crsFrom)\n",
    "a = a.to_crs(crsTo)\n",
    "poly.setX(0,a.x)\n",
    "poly.setY(0,a.y)"
   ]
  },
  {
   "cell_type": "markdown",
   "id": "b81fcf4d",
   "metadata": {},
   "source": [
    "Lectures des traits de côte."
   ]
  },
  {
   "cell_type": "code",
   "execution_count": null,
   "id": "690e5e9c",
   "metadata": {
    "scrolled": true
   },
   "outputs": [],
   "source": [
    "# Suppression des warnings\n",
    "import warnings\n",
    "warnings.filterwarnings(\"ignore\", category=FutureWarning) \n",
    "warnings.filterwarnings(\"ignore\", category=RuntimeWarning) \n",
    "# Frontières des pays du monde dans un geopandaframe\n",
    "world = gpd.read_file(gpd.datasets.get_path('naturalearth_lowres')) # Warning\n",
    "# Voir https://github.com/geopandas/geopandas/issues/2751\n",
    "# Alternative:\n",
    "#import geodatasets as gda\n",
    "#world = gpd.read_file(gda.get_path('naturalearth.land'))\n",
    "# Focus sur le Portugal\n",
    "minx=(-10,36)\n",
    "miny=(-1,36)\n",
    "maxx=(-1,49)\n",
    "maxy=(-10,49)\n",
    "polyGpd = Polygon([minx, miny, maxx, maxy])\n",
    "world['geometry'] = world.geometry.intersection(polyGpd) # Warning"
   ]
  },
  {
   "cell_type": "markdown",
   "id": "a2466cc8",
   "metadata": {},
   "source": [
    "Conversion des coordonnées"
   ]
  },
  {
   "cell_type": "code",
   "execution_count": null,
   "id": "39d9835c",
   "metadata": {},
   "outputs": [],
   "source": [
    "crsTo=\"EPSG:2154\"\n",
    "world = world.to_crs(crsTo)"
   ]
  },
  {
   "cell_type": "markdown",
   "id": "180ff67c",
   "metadata": {},
   "source": [
    "Affichage des traits de côtes où l'on ajoute les points de données et le polygon utilisant la même CRS."
   ]
  },
  {
   "cell_type": "code",
   "execution_count": null,
   "id": "2f9e2d07",
   "metadata": {},
   "outputs": [],
   "source": [
    "ax = world.plot(figsize=[10,10])\n",
    "ax = ax.gstpoint(dbDat,size=1)\n",
    "ax = ax.polygon(poly)"
   ]
  }
 ],
 "metadata": {
  "kernelspec": {
   "display_name": "Python 3 (ipykernel)",
   "language": "python",
   "name": "python3"
  },
  "language_info": {
   "codemirror_mode": {
    "name": "ipython",
    "version": 3
   },
   "file_extension": ".py",
   "mimetype": "text/x-python",
   "name": "python",
   "nbconvert_exporter": "python",
   "pygments_lexer": "ipython3",
   "version": "3.10.5"
  },
  "toc": {
   "base_numbering": 1,
   "nav_menu": {},
   "number_sections": true,
   "sideBar": true,
   "skip_h1_title": false,
   "title_cell": "Table of Contents",
   "title_sidebar": "Contents",
   "toc_cell": false,
   "toc_position": {},
   "toc_section_display": true,
   "toc_window_display": false
  }
 },
 "nbformat": 4,
 "nbformat_minor": 5
}
