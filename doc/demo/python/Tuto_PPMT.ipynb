{
 "cells": [
  {
   "cell_type": "markdown",
   "metadata": {},
   "source": [
    "# PPMT Method"
   ]
  },
  {
   "cell_type": "code",
   "execution_count": null,
   "metadata": {},
   "outputs": [],
   "source": [
    "%%javascript\n",
    "IPython.OutputArea.prototype._should_scroll = function(lines) {\n",
    "return false;\n",
    "}"
   ]
  },
  {
   "cell_type": "code",
   "execution_count": null,
   "metadata": {},
   "outputs": [],
   "source": [
    "import pandas as pd\n",
    "import numpy as np\n",
    "import matplotlib.pyplot as plt\n",
    "import gstlearn as gl\n",
    "import gstlearn.plot as gp\n",
    "import gstlearn.proj as gpd\n",
    "import os"
   ]
  },
  {
   "cell_type": "markdown",
   "metadata": {},
   "source": [
    "## Initialization"
   ]
  },
  {
   "cell_type": "markdown",
   "metadata": {},
   "source": [
    "Simulation of a Reference data set on a Grid"
   ]
  },
  {
   "cell_type": "code",
   "execution_count": null,
   "metadata": {},
   "outputs": [],
   "source": [
    "grd = gl.DbGrid.create(x0=[0.0,0.0], dx=[0.01,0.01], nx=[100,100])\n",
    "\n",
    "# Simulate two independent Gaussian Random variables\n",
    "model1 = gl.Model.createFromParam(gl.ECov.GAUSSIAN, range=0.2, sill=1.0)\n",
    "err = gl.simtub(None, dbout = grd, model = model1, nbsimu = 1)\n",
    "grd.setName(\"Simu\",\"Y1\")\n",
    "\n",
    "model2 = gl.Model.createFromParam(gl.ECov.EXPONENTIAL, range=0.1, sill=1.0)\n",
    "err = gl.simtub(None, dbout = grd, model = model2, nbsimu = 1)\n",
    "grd.setName(\"Simu\",\"Y2\")\n",
    "\n",
    "# Non linear transform\n",
    "grd[\"Z\"] = grd[\"Y1\"] * grd[\"Y1\"] + 0.5 * grd[\"Y1\"] + 0.2 * grd[\"Y2\"]"
   ]
  },
  {
   "cell_type": "code",
   "execution_count": null,
   "metadata": {},
   "outputs": [],
   "source": [
    "grd[\"Y1.NS\"] = gl.VH.normalScore(grd[\"Y1\"])\n",
    "grd[\"Z.NS\"] = gl.VH.normalScore(grd[\"Z\"])"
   ]
  },
  {
   "cell_type": "code",
   "execution_count": null,
   "metadata": {
    "scrolled": true
   },
   "outputs": [],
   "source": [
    "grd.deleteColumns([\"Y1\",\"Y2\",\"Z\"])\n",
    "grd.setName(\"Y1.NS\",\"Y1\")\n",
    "grd.setName(\"Z.NS\",\"Y2\")"
   ]
  },
  {
   "cell_type": "code",
   "execution_count": null,
   "metadata": {},
   "outputs": [],
   "source": [
    "ax = grd.plot(\"Y1\")"
   ]
  },
  {
   "cell_type": "code",
   "execution_count": null,
   "metadata": {},
   "outputs": [],
   "source": [
    "ax = gp.histogram(grd,name=\"Y1\",bins=30)"
   ]
  },
  {
   "cell_type": "code",
   "execution_count": null,
   "metadata": {},
   "outputs": [],
   "source": [
    "ax = grd.plot(\"Y2\")"
   ]
  },
  {
   "cell_type": "code",
   "execution_count": null,
   "metadata": {},
   "outputs": [],
   "source": [
    "ax = gp.histogram(grd,name=\"Y2\", bins=30)"
   ]
  },
  {
   "cell_type": "code",
   "execution_count": null,
   "metadata": {
    "scrolled": false
   },
   "outputs": [],
   "source": [
    "ax = gp.correlation(grd,namex=\"Y1\",namey=\"Y2\",diagLine=True, bins=50)"
   ]
  },
  {
   "cell_type": "markdown",
   "metadata": {},
   "source": [
    "Lognormal transformation"
   ]
  },
  {
   "cell_type": "code",
   "execution_count": null,
   "metadata": {},
   "outputs": [],
   "source": [
    "m_1 = 1.0; sigma_1 = 0.25\n",
    "m_2 = 0.5; sigma_2 = 0.5\n",
    "grd[\"Z1\"] = m_1 * np.exp(sigma_1 * grd[\"Y1\"] - 1/2 * sigma_1 * sigma_1 )\n",
    "grd[\"Z2\"] = m_2 * np.exp(sigma_2 * grd[\"Y2\"] - 1/2 * sigma_2 * sigma_2 )"
   ]
  },
  {
   "cell_type": "code",
   "execution_count": null,
   "metadata": {
    "scrolled": true
   },
   "outputs": [],
   "source": [
    "ax = gp.correlation(grd, namex = \"Z1\", namey = \"Z2\", diagLine=True, bins=50)"
   ]
  },
  {
   "cell_type": "code",
   "execution_count": null,
   "metadata": {
    "scrolled": true
   },
   "outputs": [],
   "source": [
    "dum = grd.statistics([\"Z*\",\"Y*\"],opers=gl.EStatOption.fromKeys([\"MINI\",\"MAXI\",\"MEAN\",\"STDV\"]))"
   ]
  },
  {
   "cell_type": "code",
   "execution_count": null,
   "metadata": {},
   "outputs": [],
   "source": [
    "ax = grd.plot(\"Z1\")"
   ]
  },
  {
   "cell_type": "code",
   "execution_count": null,
   "metadata": {
    "scrolled": true
   },
   "outputs": [],
   "source": [
    "ax = gp.histogram(grd, name=\"Z1\", bins=30)"
   ]
  },
  {
   "cell_type": "code",
   "execution_count": null,
   "metadata": {
    "scrolled": true
   },
   "outputs": [],
   "source": [
    "ax = grd.plot(\"Z2\")"
   ]
  },
  {
   "cell_type": "code",
   "execution_count": null,
   "metadata": {
    "scrolled": true
   },
   "outputs": [],
   "source": [
    "ax = gp.histogram(grd, name=\"Z2\", bins=30)"
   ]
  },
  {
   "cell_type": "markdown",
   "metadata": {},
   "source": [
    "## Extraction of a data set"
   ]
  },
  {
   "cell_type": "code",
   "execution_count": null,
   "metadata": {},
   "outputs": [],
   "source": [
    "nump  = 500\n",
    "data = gl.Db.createSamplingDb(grd, number=nump, names = [\"x1\", \"x2\", \"Z1\", \"Z2\"])"
   ]
  },
  {
   "cell_type": "code",
   "execution_count": null,
   "metadata": {
    "scrolled": false
   },
   "outputs": [],
   "source": [
    "ax = grd.plot(\"Z1\")\n",
    "ax = data.plot(color=\"yellow\",ax=ax)"
   ]
  },
  {
   "cell_type": "markdown",
   "metadata": {},
   "source": [
    "Normal score"
   ]
  },
  {
   "cell_type": "code",
   "execution_count": null,
   "metadata": {},
   "outputs": [],
   "source": [
    "data[\"Z1.NS\"] = gl.VH.normalScore(data[\"Z1\"])\n",
    "data[\"Z2.NS\"] = gl.VH.normalScore(data[\"Z2\"])\n",
    "data.setName(\"Z1.NS\",\"Y1\")\n",
    "data.setName(\"Z2.NS\",\"Y2\")"
   ]
  },
  {
   "cell_type": "code",
   "execution_count": null,
   "metadata": {
    "scrolled": true
   },
   "outputs": [],
   "source": [
    "dum = data.statistics([\"Z*\",\"Y*\"],opers=gl.EStatOption.fromKeys([\"MINI\",\"MAXI\",\"MEAN\",\"STDV\"]))"
   ]
  },
  {
   "cell_type": "code",
   "execution_count": null,
   "metadata": {
    "scrolled": true
   },
   "outputs": [],
   "source": [
    "ax = gp.histogram(data, name=\"Z1\", color=\"orange\", bins=30)"
   ]
  },
  {
   "cell_type": "code",
   "execution_count": null,
   "metadata": {
    "scrolled": true
   },
   "outputs": [],
   "source": [
    "ax = gp.histogram(data, name= \"Z2\", color=\"skyblue\", bins=30)"
   ]
  },
  {
   "cell_type": "code",
   "execution_count": null,
   "metadata": {},
   "outputs": [],
   "source": [
    "ax = gp.correlation(data, namex=\"Z1\", namey=\"Z2\", diagLine=True, asPoint=True)"
   ]
  },
  {
   "cell_type": "code",
   "execution_count": null,
   "metadata": {
    "scrolled": false
   },
   "outputs": [],
   "source": [
    "ax = gp.correlation(data, namex = \"Y1\", namey = \"Y2\", diagLine=True, asPoint=True)"
   ]
  },
  {
   "cell_type": "code",
   "execution_count": null,
   "metadata": {},
   "outputs": [],
   "source": [
    "probas = np.arange(1,101) / (100 + 1)\n",
    "q1 = gl.VH.quantiles(data[\"Y1\"], probas)\n",
    "q2 = gl.VH.qnormVec(probas)\n",
    "ax = gp.curve(q2, q1, marker='o')\n",
    "ax.decoration(title=\"Q-Q Plot - First Initial Variable\",\n",
    "              xlabel = \"Theoretical quantiles\", ylabel = \"Experimental quantiles\")"
   ]
  },
  {
   "cell_type": "code",
   "execution_count": null,
   "metadata": {},
   "outputs": [],
   "source": [
    "probas = np.arange(1,101) / (100 + 1)\n",
    "q1 = gl.VH.quantiles(data[\"Y2\"], probas)\n",
    "q2 = gl.VH.qnormVec(probas)\n",
    "ax = gp.curve(q2, q1, marker='o')\n",
    "ax.decoration(title=\"Q-Q Plot - Second Initial Variable\",\n",
    "              xlabel = \"Theoretical quantiles\", ylabel = \"Experimental quantiles\")"
   ]
  },
  {
   "cell_type": "code",
   "execution_count": null,
   "metadata": {
    "scrolled": false
   },
   "outputs": [],
   "source": [
    "dum = data.statistics([\"Y*\"],opers=gl.EStatOption.fromKeys([\"MINI\",\"MAXI\",\"MEAN\",\"STDV\"]))"
   ]
  },
  {
   "cell_type": "markdown",
   "metadata": {},
   "source": [
    "## Implementing PPMT"
   ]
  },
  {
   "cell_type": "markdown",
   "metadata": {},
   "source": [
    "Launching PPMT and fitting it on the vector of Input data"
   ]
  },
  {
   "cell_type": "code",
   "execution_count": null,
   "metadata": {
    "scrolled": true
   },
   "outputs": [],
   "source": [
    "ppmt = gl.PPMT.create(ndir=10, flagPreprocessing = False, methodDir = gl.EDirGen.VDC, methodTrans = gl.EGaussInv.HMT)\n",
    "err = ppmt.fit(data, [\"Y*\"], flagStoreInDb = True, niter = 100, namconv=gl.NamingConvention(\"U\"))"
   ]
  },
  {
   "cell_type": "markdown",
   "metadata": {},
   "source": [
    "Evolution of the Index"
   ]
  },
  {
   "cell_type": "code",
   "execution_count": null,
   "metadata": {},
   "outputs": [],
   "source": [
    "ln_index = ppmt.getSerieScore(True)\n",
    "ax = gp.curve(ln_index, icas=2, marker='o')"
   ]
  },
  {
   "cell_type": "markdown",
   "metadata": {},
   "source": [
    "Final results (non correlated variables)"
   ]
  },
  {
   "cell_type": "code",
   "execution_count": null,
   "metadata": {},
   "outputs": [],
   "source": [
    "dum = data.statistics([\"U.*\"],opers=gl.EStatOption.fromKeys([\"MINI\",\"MAXI\",\"MEAN\",\"STDV\"]))"
   ]
  },
  {
   "cell_type": "markdown",
   "metadata": {},
   "source": [
    "Transformed Gaussian variables"
   ]
  },
  {
   "cell_type": "code",
   "execution_count": null,
   "metadata": {},
   "outputs": [],
   "source": [
    "probas = np.arange(1,101) / (100 + 1)\n",
    "q1 = gl.VH.quantiles(data[\"U.Y1\"], probas)\n",
    "q2 = gl.VH.qnormVec(probas)\n",
    "ax = gp.curve(q2, q1, marker='o')\n",
    "ax.decoration(title = \"Q-Q Plot - First variable of PPMT\",\n",
    "              xlabel = \"Theoretical quantiles\", ylabel = \"Experimental quantiles\")"
   ]
  },
  {
   "cell_type": "code",
   "execution_count": null,
   "metadata": {},
   "outputs": [],
   "source": [
    "probas = np.arange(1,101) / (100 + 1)\n",
    "q1 = gl.VH.quantiles(data[\"U.Y2\"],probas)\n",
    "q2 = gl.VH.qnormVec(probas)\n",
    "ax = gp.curve(q2, q1, marker='o')\n",
    "ax.decoration(title = \"Q-Q Plot - Second variable of PPMT\",\n",
    "              xlabel = \"Theoretical quantiles\", ylabel = \"Experimental quantiles\")"
   ]
  },
  {
   "cell_type": "code",
   "execution_count": null,
   "metadata": {},
   "outputs": [],
   "source": [
    "ax = gp.correlation(data, namex=\"U.Y1\", namey=\"U.Y2\", asPoint=True)\n",
    "ax.decoration(title = \"Final variable\")"
   ]
  },
  {
   "cell_type": "code",
   "execution_count": null,
   "metadata": {},
   "outputs": [],
   "source": [
    "ax = gp.histogram(data, name=\"U.Y1\", bins=30)\n",
    "ax.decoration(title=\"First variable of PPMT\")"
   ]
  },
  {
   "cell_type": "code",
   "execution_count": null,
   "metadata": {},
   "outputs": [],
   "source": [
    "ax = gp.histogram(data, name=\"U.Y2\", bins=30)\n",
    "ax.decoration(title=\"Second variable of PPMT\")"
   ]
  },
  {
   "cell_type": "code",
   "execution_count": null,
   "metadata": {},
   "outputs": [],
   "source": [
    "err = ppmt.gaussianToRaw(data, [\"U*\"], namconv=gl.NamingConvention(\"V\"))"
   ]
  },
  {
   "cell_type": "code",
   "execution_count": null,
   "metadata": {},
   "outputs": [],
   "source": [
    "ax = gp.correlation(data, namex=\"Y1\", namey=\"V.U.Y1\", asPoint=True)\n",
    "ax.decoration(title = \"First variable\")"
   ]
  },
  {
   "cell_type": "code",
   "execution_count": null,
   "metadata": {},
   "outputs": [],
   "source": [
    "ax = gp.correlation(data, namex=\"Y2\", namey=\"V.U.Y2\", asPoint=True)\n",
    "ax.decoration(title = \"Second variable\")"
   ]
  }
 ],
 "metadata": {
  "celltoolbar": "Format de la Cellule Texte Brut",
  "kernelspec": {
   "display_name": "Python 3 (ipykernel)",
   "language": "python",
   "name": "python3"
  },
  "language_info": {
   "codemirror_mode": {
    "name": "ipython",
    "version": 3
   },
   "file_extension": ".py",
   "mimetype": "text/x-python",
   "name": "python",
   "nbconvert_exporter": "python",
   "pygments_lexer": "ipython3",
   "version": "3.10.5"
  },
  "widgets": {
   "application/vnd.jupyter.widget-state+json": {
    "state": {},
    "version_major": 2,
    "version_minor": 0
   }
  }
 },
 "nbformat": 4,
 "nbformat_minor": 4
}
