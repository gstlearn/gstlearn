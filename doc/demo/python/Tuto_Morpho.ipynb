{
 "cells": [
  {
   "cell_type": "markdown",
   "metadata": {},
   "source": [
    "# Tutorial for Mathematical Morphology"
   ]
  },
  {
   "cell_type": "markdown",
   "metadata": {},
   "source": [
    "This file is meant to demonstrate the use of gstlearn for Morphological Operations"
   ]
  },
  {
   "cell_type": "code",
   "execution_count": null,
   "metadata": {},
   "outputs": [],
   "source": [
    "import numpy as np\n",
    "import pandas as pd\n",
    "import sys\n",
    "import os\n",
    "import gstlearn as gl\n",
    "import gstlearn.plot as gp\n",
    "import matplotlib.pyplot as plt"
   ]
  },
  {
   "cell_type": "markdown",
   "metadata": {},
   "source": [
    "Setting some global variables"
   ]
  },
  {
   "cell_type": "code",
   "execution_count": null,
   "metadata": {},
   "outputs": [],
   "source": [
    "# Set the Global Options\n",
    "verbose = True\n",
    "flagGraphic = True\n",
    "\n",
    "# Define the Space Dimension\n",
    "ndim = 2\n",
    "gl.ASpaceObject_defineDefaultSpace(gl.ESpaceType.SPACE_RN, ndim)\n",
    "\n",
    "# Set the Seed for the Random Number generator\n",
    "gl.law_set_random_seed(5584)"
   ]
  },
  {
   "cell_type": "code",
   "execution_count": null,
   "metadata": {},
   "outputs": [],
   "source": [
    "nx = ny = 100\n",
    "nxy = [nx,ny]\n",
    "ntotal = nx * ny\n",
    "dx = dy = 0.01"
   ]
  },
  {
   "cell_type": "markdown",
   "metadata": {},
   "source": [
    "In several usages, we will need a VectorDouble dimensionned to the total number of pixels. This is created next."
   ]
  },
  {
   "cell_type": "code",
   "execution_count": null,
   "metadata": {},
   "outputs": [],
   "source": [
    "localVD = gl.VectorDouble(ntotal)"
   ]
  },
  {
   "cell_type": "markdown",
   "metadata": {},
   "source": [
    "Generating an initial square grid covering a 1 by 1 surface (100 meshes along each direction)."
   ]
  },
  {
   "cell_type": "code",
   "execution_count": null,
   "metadata": {
    "scrolled": false
   },
   "outputs": [],
   "source": [
    "grid = gl.DbGrid.create(nxy, [dx,dy])\n",
    "model = gl.Model_createFromParam(gl.ECov.CUBIC, 0.1, 1.)\n",
    "gl.simtub(None, grid, model)\n",
    "if verbose:\n",
    "    grid.display()\n",
    "if flagGraphic:\n",
    "    ax = gp.grid(grid,title=\"Initial Data Set\")"
   ]
  },
  {
   "cell_type": "markdown",
   "metadata": {},
   "source": [
    "## Basic operations"
   ]
  },
  {
   "cell_type": "markdown",
   "metadata": {},
   "source": [
    "We retreive the newly simulated variable (called *Simu*) from the *grid* Db into a local Vector (called *tab*). This vector is then transformed by thresholding and loaded into an image object (called *image*). This object is very efficient as each pixel is stored into a single *bit*. A second Image object (called *image2*) is created and will be used in subsequent diadic operations."
   ]
  },
  {
   "cell_type": "code",
   "execution_count": null,
   "metadata": {},
   "outputs": [],
   "source": [
    "vmin = -1\n",
    "vmax = +1\n",
    "image2 = gl.BImage(nxy)\n",
    "tab = grid.getColumn(\"Simu\")\n",
    "image = gl.morpho_double2image(nxy,tab,vmin,vmax)"
   ]
  },
  {
   "cell_type": "code",
   "execution_count": null,
   "metadata": {},
   "outputs": [],
   "source": [
    "volume = gl.morpho_count(image)\n",
    "print(\"Grain Volume =\",volume, \" /\",ntotal,\"(pixels)\\n\")"
   ]
  },
  {
   "cell_type": "markdown",
   "metadata": {},
   "source": [
    "For visualization (and i the current version), we must first convert the image into a vector and load it into a grid."
   ]
  },
  {
   "cell_type": "code",
   "execution_count": null,
   "metadata": {},
   "outputs": [],
   "source": [
    "if flagGraphic:\n",
    "    gl.morpho_image2double(image, 0, 1., 0., localVD)\n",
    "    iuid = grid.addColumns(localVD,\"Initial Image\",gl.ELoc.Z)\n",
    "    ax = gp.grid(grid)"
   ]
  },
  {
   "cell_type": "markdown",
   "metadata": {},
   "source": [
    "The next step interchanges grain and pore"
   ]
  },
  {
   "cell_type": "code",
   "execution_count": null,
   "metadata": {},
   "outputs": [],
   "source": [
    "gl.morpho_negation(image, image2)"
   ]
  },
  {
   "cell_type": "code",
   "execution_count": null,
   "metadata": {
    "scrolled": true
   },
   "outputs": [],
   "source": [
    "if flagGraphic:\n",
    "    gl.morpho_image2double(image2, 0, 1., 0., localVD)\n",
    "    iuid = grid.addColumns(localVD,\"Negative Image\",gl.ELoc.Z)\n",
    "    ax = gp.grid(grid)"
   ]
  },
  {
   "cell_type": "markdown",
   "metadata": {},
   "source": [
    "## Basic Mophological Image transformations"
   ]
  },
  {
   "cell_type": "markdown",
   "metadata": {},
   "source": [
    "We start with the initial image and perform an erosion. The second argument defines the type of structuring element: either Cross (0) or Block (1)"
   ]
  },
  {
   "cell_type": "code",
   "execution_count": null,
   "metadata": {},
   "outputs": [],
   "source": [
    "gl.morpho_erosion(0, [1,1], image, image2)\n",
    "\n",
    "if flagGraphic:\n",
    "    gl.morpho_image2double(image2, 0, 1., 0., localVD)\n",
    "    iuid = grid.addColumns(localVD,\"Erosion - Cross\",gl.ELoc.Z)\n",
    "    ax = gp.grid(grid)"
   ]
  },
  {
   "cell_type": "markdown",
   "metadata": {},
   "source": [
    "We check the result of ersosion when choosing the Block structuring element"
   ]
  },
  {
   "cell_type": "code",
   "execution_count": null,
   "metadata": {
    "scrolled": true
   },
   "outputs": [],
   "source": [
    "gl.morpho_erosion(1, [1,1], image, image2)\n",
    "\n",
    "if flagGraphic:\n",
    "    gl.morpho_image2double(image2, 0, 1., 0., localVD)\n",
    "    iuid = grid.addColumns(localVD,\"Erosion - Block\",gl.ELoc.Z)\n",
    "    ax = gp.grid(grid)"
   ]
  },
  {
   "cell_type": "markdown",
   "metadata": {},
   "source": [
    "We now perform the dilation of the Initial image (only the Cross structuring element will be used in the next paragraphs)"
   ]
  },
  {
   "cell_type": "code",
   "execution_count": null,
   "metadata": {},
   "outputs": [],
   "source": [
    "gl.morpho_dilation(0, [1,1], image, image2)\n",
    "\n",
    "if flagGraphic:\n",
    "    gl.morpho_image2double(image2, 0, 1., 0., localVD)\n",
    "    iuid = grid.addColumns(localVD,\"Dilation - Cross\",gl.ELoc.Z)\n",
    "    ax = gp.grid(grid)"
   ]
  },
  {
   "cell_type": "markdown",
   "metadata": {},
   "source": [
    "Combining the elementary operations (Erosion and Dilation), we can perform directly an opening"
   ]
  },
  {
   "cell_type": "code",
   "execution_count": null,
   "metadata": {},
   "outputs": [],
   "source": [
    "gl.morpho_opening(0, [1,1], image, image2)\n",
    "\n",
    "if flagGraphic:\n",
    "    gl.morpho_image2double(image2, 0, 1., 0., localVD)\n",
    "    iuid = grid.addColumns(localVD,\"Opening - Cross\",gl.ELoc.Z)\n",
    "    ax = gp.grid(grid)"
   ]
  },
  {
   "cell_type": "markdown",
   "metadata": {},
   "source": [
    "And the closing"
   ]
  },
  {
   "cell_type": "code",
   "execution_count": null,
   "metadata": {},
   "outputs": [],
   "source": [
    "gl.morpho_closing(0, [1,1], image, image2)\n",
    "\n",
    "if flagGraphic:\n",
    "    gl.morpho_image2double(image2, 0, 1., 0., localVD)\n",
    "    iuid = grid.addColumns(localVD,\"Closing - Cross\",gl.ELoc.Z)\n",
    "    ax = gp.grid(grid)"
   ]
  },
  {
   "cell_type": "markdown",
   "metadata": {},
   "source": [
    "## Connected components"
   ]
  },
  {
   "cell_type": "markdown",
   "metadata": {},
   "source": [
    "Starting from the Initial image, we now wish to determine the connected components"
   ]
  },
  {
   "cell_type": "code",
   "execution_count": null,
   "metadata": {},
   "outputs": [],
   "source": [
    "gl.morpho_negation(image, image)\n",
    "\n",
    "if flagGraphic:\n",
    "    gl.morpho_image2double(image, 0, 1., 0., localVD)\n",
    "    iuid = grid.addColumns(localVD,\"Staring For CC\",gl.ELoc.Z)\n",
    "    ax = gp.grid(grid)"
   ]
  },
  {
   "cell_type": "code",
   "execution_count": null,
   "metadata": {},
   "outputs": [],
   "source": [
    "ncomp = gl.morpho_labelling(0, 0, image, gl.TEST, localVD)\n",
    "print(\"Number of connected components =\", ncomp,\"\\n\")\n",
    "\n",
    "if flagGraphic:\n",
    "    iuid = grid.addColumns(localVD,\"Connect Components by Rank\",gl.ELoc.Z)\n",
    "    ax = gp.grid(grid)"
   ]
  },
  {
   "cell_type": "code",
   "execution_count": null,
   "metadata": {
    "scrolled": true
   },
   "outputs": [],
   "source": [
    "ncomp = gl.morpho_labelling(0, 1, image, gl.TEST, localVD)\n",
    "print(\"Number of connected components =\", ncomp,\"\\n\")\n",
    "\n",
    "if flagGraphic:\n",
    "    iuid = grid.addColumns(localVD,\"Connect Components by Volume\",gl.ELoc.Z)\n",
    "    ax = gp.grid(grid)"
   ]
  },
  {
   "cell_type": "markdown",
   "metadata": {},
   "source": [
    "## Some shortcuts"
   ]
  },
  {
   "cell_type": "markdown",
   "metadata": {},
   "source": [
    "The procedure is made easier for basic morphological operations, using directly the method *dbMorpho*. This method operates from a variable stored in a Db (organized as a Grid) and returns the result in the same Db."
   ]
  },
  {
   "cell_type": "code",
   "execution_count": null,
   "metadata": {
    "scrolled": true
   },
   "outputs": [],
   "source": [
    "grid.setLocator(\"Simu\",gl.ELoc.Z)\n",
    "dum = grid.dbMorpho(gl.EMorpho.NEGATION,-1.,1.)\n",
    "\n",
    "if flagGraphic:\n",
    "    ax = gp.grid(grid)"
   ]
  },
  {
   "cell_type": "code",
   "execution_count": null,
   "metadata": {
    "scrolled": true
   },
   "outputs": [],
   "source": [
    "grid.setLocator(\"Simu\",gl.ELoc.Z)\n",
    "dum = grid.dbMorpho(gl.EMorpho.CC,-1.,1.,verbose=True)\n",
    "\n",
    "if flagGraphic:\n",
    "    ax = gp.grid(grid)"
   ]
  },
  {
   "cell_type": "code",
   "execution_count": null,
   "metadata": {},
   "outputs": [],
   "source": [
    "grid.setLocator(\"Simu\",gl.ELoc.Z)\n",
    "dum = grid.dbMorpho(gl.EMorpho.CCSIZE,-1.,1.,verbose=True)\n",
    "\n",
    "if flagGraphic:\n",
    "    ax = gp.grid(grid)"
   ]
  },
  {
   "cell_type": "markdown",
   "metadata": {},
   "source": [
    "## Testing the Bitmap Image printout"
   ]
  },
  {
   "cell_type": "code",
   "execution_count": null,
   "metadata": {},
   "outputs": [],
   "source": [
    "nx = 10\n",
    "ny = 12\n",
    "nxy = [nx,ny]\n",
    "localVD = gl.VectorDouble(nx * ny)\n",
    "grid = gl.DbGrid.create(nxy)\n",
    "model = gl.Model_createFromParam(gl.ECov.CUBIC, 6, 1.)\n",
    "gl.simtub(None, grid, model)\n",
    "if flagGraphic:\n",
    "    ax = gp.grid(grid,title=\"Initial Data Set\")"
   ]
  },
  {
   "cell_type": "code",
   "execution_count": null,
   "metadata": {},
   "outputs": [],
   "source": [
    "vmin = -1\n",
    "vmax = +1\n",
    "image2 = gl.BImage(nxy)\n",
    "tab = grid.getColumn(\"Simu\")\n",
    "image = gl.morpho_double2image(nxy,tab,vmin,vmax)\n",
    "\n",
    "gl.morpho_image2double(image, 0, 1., 0., localVD)\n",
    "iuid = grid.addColumns(localVD,\"Initial Image\",gl.ELoc.Z)\n",
    "ax = gp.grid(grid)"
   ]
  },
  {
   "cell_type": "code",
   "execution_count": null,
   "metadata": {
    "scrolled": true
   },
   "outputs": [],
   "source": [
    "image"
   ]
  },
  {
   "cell_type": "code",
   "execution_count": null,
   "metadata": {},
   "outputs": [],
   "source": [
    "bstrfmt = gl.BImageStringFormat('+','.',[2,3])\n",
    "image.display(bstrfmt)"
   ]
  }
 ],
 "metadata": {
  "kernelspec": {
   "display_name": "Python 3 (ipykernel)",
   "language": "python",
   "name": "python3"
  },
  "language_info": {
   "codemirror_mode": {
    "name": "ipython",
    "version": 3
   },
   "file_extension": ".py",
   "mimetype": "text/x-python",
   "name": "python",
   "nbconvert_exporter": "python",
   "pygments_lexer": "ipython3",
   "version": "3.10.5"
  }
 },
 "nbformat": 4,
 "nbformat_minor": 4
}
