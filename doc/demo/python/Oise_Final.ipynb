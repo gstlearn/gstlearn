{
 "cells": [
  {
   "cell_type": "code",
   "execution_count": 1,
   "id": "5d8ccad9",
   "metadata": {},
   "outputs": [
    {
     "data": {
      "application/javascript": [
       "\n",
       "IPython.OutputArea.prototype._should_scroll = function(lines) {\n",
       "    return false;\n",
       "}\n"
      ],
      "text/plain": [
       "<IPython.core.display.Javascript object>"
      ]
     },
     "metadata": {},
     "output_type": "display_data"
    }
   ],
   "source": [
    "import matplotlib.pyplot as plt\n",
    "import gstlearn as gl\n",
    "import gstlearn.plot as gp\n",
    "import gstlearn.document as gdoc\n",
    "import numpy as np\n",
    "import pandas as pd\n",
    "import scipy as sp\n",
    "from scipy import interpolate\n",
    "import os\n",
    "import urllib.request\n",
    "import tempfile\n",
    "\n",
    "gdoc.setNoScroll()"
   ]
  },
  {
   "cell_type": "markdown",
   "id": "a707a129",
   "metadata": {},
   "source": [
    "## Creation of the data base for thickness"
   ]
  },
  {
   "cell_type": "code",
   "execution_count": 2,
   "id": "0bee28ae",
   "metadata": {},
   "outputs": [
    {
     "data": {
      "text/plain": [
       "\n",
       "Data Base Characteristics\n",
       "=========================\n",
       "\n",
       "Data Base Summary\n",
       "-----------------\n",
       "File is organized as a set of isolated points\n",
       "Space dimension              = 1\n",
       "Number of Columns            = 5\n",
       "Total number of samples      = 2470\n",
       "\n",
       "Variables\n",
       "---------\n",
       "Column = 0 - Name = rank - Locator = NA\n",
       "Column = 1 - Name = X - Locator = x1\n",
       "Column = 2 - Name = Y - Locator = NA\n",
       "Column = 3 - Name = Z - Locator = NA\n",
       "Column = 4 - Name = Z_1 - Locator = z1"
      ]
     },
     "execution_count": 2,
     "metadata": {},
     "output_type": "execute_result"
    }
   ],
   "source": [
    "# Use either Oise_Thickness.csv, Oise_Thickness_withSides.csv or Oise_Ztop500.csv\n",
    "# Data files are available here: https://soft.mines-paristech.fr/gstlearn/data-latest/Alluvial\n",
    "filename = gdoc.loadData(\"Alluvial\", \"Oise_Ztop500.csv\")\n",
    "csv = gl.CSVformat(True, 0, \";\", \",\", \"9999\")\n",
    "data = gl.Db.createFromCSV(filename, csv, False)\n",
    "data"
   ]
  },
  {
   "cell_type": "code",
   "execution_count": 3,
   "id": "08698495",
   "metadata": {},
   "outputs": [
    {
     "data": {
      "text/plain": [
       "\n",
       "Data Base Characteristics\n",
       "=========================\n",
       "\n",
       "Data Base Summary\n",
       "-----------------\n",
       "File is organized as a set of isolated points\n",
       "Space dimension              = 2\n",
       "Number of Columns            = 7\n",
       "Total number of samples      = 2470\n",
       "Number of active samples     = 2470\n",
       "\n",
       "Variables\n",
       "---------\n",
       "Column = 0 - Name = rank - Locator = NA\n",
       "Column = 1 - Name = X - Locator = x1\n",
       "Column = 2 - Name = Y - Locator = x2\n",
       "Column = 3 - Name = Z - Locator = lower1\n",
       "Column = 4 - Name = Z_1 - Locator = upper1\n",
       "Column = 5 - Name = Elev - Locator = z1\n",
       "Column = 6 - Name = Duplicate - Locator = sel"
      ]
     },
     "execution_count": 3,
     "metadata": {},
     "output_type": "execute_result"
    }
   ],
   "source": [
    "data.setLocator(\"X\",gl.ELoc.X,0)\n",
    "data.setLocator(\"Y\",gl.ELoc.X,1)\n",
    "data.setLocator(\"Z\",gl.ELoc.L,0)\n",
    "data.setLocator(\"Z_1\",gl.ELoc.U,0)\n",
    "sf = gl.DbStringFormat()\n",
    "sf.setFlags(flag_stats=True) \n",
    "thickness = data.getWithinBounds(0)\n",
    "err = data.addColumns(thickness,\"Elev\",gl.ELoc.Z)\n",
    "err = gl.DbHelper.db_duplicate(data)\n",
    "data"
   ]
  },
  {
   "cell_type": "code",
   "execution_count": 4,
   "id": "62f5b51d",
   "metadata": {},
   "outputs": [
    {
     "data": {
      "text/plain": [
       "<matplotlib.collections.PathCollection at 0x7f4c2c703220>"
      ]
     },
     "execution_count": 4,
     "metadata": {},
     "output_type": "execute_result"
    },
    {
     "data": {
      "image/png": "[encoded data removed]",
      "text/plain": [
       "<Figure size 432x288 with 1 Axes>"
      ]
     },
     "metadata": {
      "needs_background": "light"
     },
     "output_type": "display_data"
    }
   ],
   "source": [
    "plt.scatter(data.getColumn(\"X\"), data.getColumn(\"Y\"), c=data.getColumn(\"Elev\"))"
   ]
  },
  {
   "cell_type": "code",
   "execution_count": 5,
   "id": "2f43c5fa",
   "metadata": {},
   "outputs": [
    {
     "data": {
      "text/plain": [
       "(array([120., 787., 658., 447., 198., 118.,  63.,  51.,  22.,   6.]),\n",
       " array([ 16. ,  24.4,  32.8,  41.2,  49.6,  58. ,  66.4,  74.8,  83.2,\n",
       "         91.6, 100. ]),\n",
       " <BarContainer object of 10 artists>)"
      ]
     },
     "execution_count": 5,
     "metadata": {},
     "output_type": "execute_result"
    },
    {
     "data": {
      "image/png": "[encoded data removed]",
      "text/plain": [
       "<Figure size 432x288 with 1 Axes>"
      ]
     },
     "metadata": {
      "needs_background": "light"
     },
     "output_type": "display_data"
    }
   ],
   "source": [
    "plt.hist(thickness)"
   ]
  },
  {
   "cell_type": "code",
   "execution_count": 6,
   "id": "402eb1b5",
   "metadata": {},
   "outputs": [],
   "source": [
    "#data.dumpToNF(\"Oise_Data_Elev500.ascii\")"
   ]
  },
  {
   "cell_type": "markdown",
   "id": "42c41f39",
   "metadata": {},
   "source": [
    "## Creation of the grid"
   ]
  },
  {
   "cell_type": "markdown",
   "id": "7a0b15ea",
   "metadata": {},
   "source": [
    "### 1) Creation of the polygon"
   ]
  },
  {
   "cell_type": "code",
   "execution_count": 7,
   "id": "4fbc3e4f",
   "metadata": {
    "scrolled": true
   },
   "outputs": [
    {
     "data": {
      "image/png": "[encoded data removed]",
      "text/plain": [
       "<Figure size 576x576 with 1 Axes>"
      ]
     },
     "metadata": {
      "needs_background": "light"
     },
     "output_type": "display_data"
    }
   ],
   "source": [
    "# Data files are available here: https://soft.mines-paristech.fr/gstlearn/data-latest/Alluvial\n",
    "filename = gdoc.loadData(\"Alluvial\", \"Oise_Shapefile_AlluvialPlain.csv\")\n",
    "poly = gl.Polygons.createFromCSV(filename, csv, False)\n",
    "ax = poly.plot()"
   ]
  },
  {
   "cell_type": "code",
   "execution_count": 8,
   "id": "41af1869",
   "metadata": {},
   "outputs": [],
   "source": [
    "grid = gl.DbGrid.create(nx = [3300,400],dx = [50.,50.], x0 = [630000.,6865000.],angles=[40,0])"
   ]
  },
  {
   "cell_type": "code",
   "execution_count": 9,
   "id": "fc521335",
   "metadata": {},
   "outputs": [
    {
     "data": {
      "text/plain": [
       "<matplotlib.collections.PathCollection at 0x7f4c2836c970>"
      ]
     },
     "execution_count": 9,
     "metadata": {},
     "output_type": "execute_result"
    },
    {
     "data": {
      "image/png": "[encoded data removed]",
      "text/plain": [
       "<Figure size 576x576 with 1 Axes>"
      ]
     },
     "metadata": {
      "needs_background": "light"
     },
     "output_type": "display_data"
    }
   ],
   "source": [
    "fig, ax = gp.initGeographic()\n",
    "ax.raster(grid,\"x1\",alpha=0.3)\n",
    "ax.symbol(data)"
   ]
  },
  {
   "cell_type": "code",
   "execution_count": 10,
   "id": "d18a35ec",
   "metadata": {},
   "outputs": [
    {
     "data": {
      "text/plain": [
       "\n",
       "Data Base Grid Characteristics\n",
       "==============================\n",
       "\n",
       "Data Base Summary\n",
       "-----------------\n",
       "File is organized as a regular grid\n",
       "Space dimension              = 2\n",
       "Number of Columns            = 4\n",
       "Total number of samples      = 1320000\n",
       "Number of active samples     = 138248\n",
       "\n",
       "Grid characteristics:\n",
       "---------------------\n",
       "Origin : 630000.0006865000.000\n",
       "Mesh   :     50.000    50.000\n",
       "Number :       3300       400\n",
       "Rotation Angles        =     40.000     0.000\n",
       "Direct Rotation Matrix\n",
       "               [,  0]    [,  1]\n",
       "     [  0,]     0.766    -0.643\n",
       "     [  1,]     0.643     0.766\n",
       "Inverse Rotation Matrix\n",
       "               [,  0]    [,  1]\n",
       "     [  0,]     0.766     0.643\n",
       "     [  1,]    -0.643     0.766\n",
       "\n",
       "Variables\n",
       "---------\n",
       "Column = 0 - Name = rank - Locator = NA\n",
       "Column = 1 - Name = x1 - Locator = x1\n",
       "Column = 2 - Name = x2 - Locator = x2\n",
       "Column = 3 - Name = Polygon - Locator = sel"
      ]
     },
     "execution_count": 10,
     "metadata": {},
     "output_type": "execute_result"
    }
   ],
   "source": [
    "err = gl.db_polygon(grid,poly)\n",
    "grid"
   ]
  },
  {
   "cell_type": "markdown",
   "id": "7e30d366",
   "metadata": {},
   "source": [
    "### 2) Creation of angles"
   ]
  },
  {
   "cell_type": "code",
   "execution_count": 11,
   "id": "a6404bb3",
   "metadata": {},
   "outputs": [],
   "source": [
    "# Data files are available here: https://soft.mines-paristech.fr/gstlearn/data-latest/Alluvial\n",
    "filename = gdoc.loadData(\"Alluvial\", \"Oise_Shapefile_Centerline.csv\")\n",
    "## Loading Centerline data from file\n",
    "df1 = pd.read_csv (filename, sep=';')\n",
    "xc = list(df1['X'])\n",
    "yc = list(df1['Y'])\n",
    "x1=xc[1:499]\n",
    "y1=yc[1:499]\n",
    "\n",
    "# Data files are available here: https://soft.mines-paristech.fr/gstlearn/data-latest/Alluvial\n",
    "filename = gdoc.loadData(\"Alluvial\", \"Oise_Shapefile_AlluvialPlain.csv\")\n",
    "## Loading alluvial plain contours from file & Separate into two polylines \n",
    "df = pd.read_csv (filename, sep=';')\n",
    "xp = list(df['X'])\n",
    "yp = list(df['Y'])\n",
    "x2=xp[1:xp.index(max(xp))]\n",
    "x3=xp[len(xp):xp.index(max(xp))+1:-1]\n",
    "y2=yp[1:xp.index(max(xp))]\n",
    "y3=yp[len(xp):xp.index(max(xp))+1:-1]\n",
    "\n",
    "## Adding supplementary control points at the edges\n",
    "# coordinates of extremes\n",
    "XA1=640000\n",
    "YA1=6875000\n",
    "XB1=740000\n",
    "YB1=6955000\n",
    "\n",
    "XA2=630000\n",
    "YA2=6890000\n",
    "XB2=735000\n",
    "YB2=6980000\n",
    "\n",
    "# Forming two supplementary vectors at the edges\n",
    "n=19\n",
    "x4= np.zeros(n)\n",
    "y4= np.zeros(n)\n",
    "x5= np.zeros(n)\n",
    "y5= np.zeros(n)\n",
    "for i in range(0,len(x4)):\n",
    "    x4[i]=(XA1+(XB1-XA1)/(n-1)*i)\n",
    "    y4[i]=(YA1+(YB1-YA1)/(n-1)*i)\n",
    "    x5[i]=(XA2+(XB2-XA2)/(n-1)*i)\n",
    "    y5[i]=(YA2+(YB2-YA2)/(n-1)*i)"
   ]
  },
  {
   "cell_type": "code",
   "execution_count": 12,
   "id": "fcd6eb62-2cef-4971-aae0-da06ef4c6649",
   "metadata": {},
   "outputs": [],
   "source": [
    "# Gradient method\n",
    "#  https://stackoverflow.com/questions/28269379/curve-curvature-in-numpy\n",
    "dx_dt1 = np.gradient(x1)\n",
    "dy_dt1 = np.gradient(y1)\n",
    "velocity = np.array([ [dx_dt1[i], dy_dt1[i]] for i in range(dx_dt1.size)])\n",
    "ds_dt1 = np.sqrt(dx_dt1 * dx_dt1 + dy_dt1 * dy_dt1)\n",
    "tangent1 = np.array([1/ds_dt1] * 2).transpose() * velocity\n",
    "\n",
    "dx_dt2 = np.gradient(x2)\n",
    "dy_dt2 = np.gradient(y2)\n",
    "velocity2 = np.array([ [dx_dt2[i], dy_dt2[i]] for i in range(dx_dt2.size)])\n",
    "ds_dt2 = np.sqrt(dx_dt2 * dx_dt2 + dy_dt2 * dy_dt2)\n",
    "tangent2 = np.array([1/ds_dt2] * 2).transpose() * velocity2\n",
    "\n",
    "dx_dt3 = np.gradient(x3)\n",
    "dy_dt3 = np.gradient(y3)\n",
    "velocity3 = np.array([ [dx_dt3[i], dy_dt3[i]] for i in range(dx_dt3.size)])\n",
    "ds_dt3 = np.sqrt(dx_dt3 * dx_dt3 + dy_dt3 * dy_dt3)\n",
    "tangent3 = np.array([1/ds_dt3] * 2).transpose() * velocity3\n",
    "\n",
    "dx_dt4 = np.gradient(x4)\n",
    "dy_dt4 = np.gradient(y4)\n",
    "velocity4 = np.array([ [dx_dt4[i], dy_dt4[i]] for i in range(dx_dt4.size)])\n",
    "ds_dt4 = np.sqrt(dx_dt4 * dx_dt4 + dy_dt4 * dy_dt4)\n",
    "tangent4 = np.array([1/ds_dt4] * 2).transpose() * velocity4\n",
    "\n",
    "dx_dt5 = np.gradient(x5)\n",
    "dy_dt5 = np.gradient(y5)\n",
    "velocity5 = np.array([ [dx_dt5[i], dy_dt5[i]] for i in range(dx_dt5.size)])\n",
    "ds_dt5 = np.sqrt(dx_dt5 * dx_dt5 + dy_dt5 * dy_dt5)\n",
    "tangent5 = np.array([1/ds_dt5] * 2).transpose() * velocity5\n",
    "    \n",
    "tangent=np.concatenate((tangent1,tangent2,tangent3,tangent4,tangent5),axis=0) \n",
    "\n",
    "x0=np.concatenate((x1,x2,x3,x4,x5),axis=0) \n",
    "y0=np.concatenate((y1,y2,y3,y4,y5),axis=0) \n",
    "u0 = tangent[:, 0]\n",
    "v0 = tangent[:, 1]"
   ]
  },
  {
   "cell_type": "code",
   "execution_count": 13,
   "id": "81bb39bf-9993-4b7d-91b6-c9326c555b49",
   "metadata": {},
   "outputs": [
    {
     "data": {
      "text/plain": [
       "(array([ 23.,  11.,   8.,  36., 238., 545., 700., 270.,  98.,  41.]),\n",
       " array([-178.33971763, -142.50574587, -106.6717741 ,  -70.83780234,\n",
       "         -35.00383058,    0.83014118,   36.66411295,   72.49808471,\n",
       "         108.33205647,  144.16602824,  180.        ]),\n",
       " <BarContainer object of 10 artists>)"
      ]
     },
     "execution_count": 13,
     "metadata": {},
     "output_type": "execute_result"
    },
    {
     "data": {
      "image/png": "[encoded data removed]",
      "text/plain": [
       "<Figure size 432x288 with 1 Axes>"
      ]
     },
     "metadata": {
      "needs_background": "light"
     },
     "output_type": "display_data"
    }
   ],
   "source": [
    "# Numpy arctan2 Method\n",
    "angles = np.arctan2(v0, u0) * 180 / np.pi\n",
    "plt.hist(angles)"
   ]
  },
  {
   "cell_type": "code",
   "execution_count": 14,
   "id": "a0ea8402",
   "metadata": {},
   "outputs": [],
   "source": [
    "# Interpolating the angles into angles map -> https://docs.scipy.org/doc/scipy/reference/generated/scipy.interpolate.griddata.html\n",
    "\n",
    "xx = np.linspace(630000, 742000, 2240)\n",
    "yy = np.linspace(6875000, 6982200, 2144)\n",
    "xx, yy = np.meshgrid(xx, yy)\n",
    "\n",
    "angles.shape=(np.size(angles),)\n",
    "np.shape(angles)\n",
    "\n",
    "points = np.transpose(np.vstack((x0, y0)))\n",
    "angles_interp = interpolate.griddata(points, angles, (xx, yy), method='linear')\n",
    "\n",
    "xx1 = np.concatenate(xx)\n",
    "yy1 = np.concatenate(yy)\n",
    "angles_interp1 = np.concatenate(angles_interp)"
   ]
  },
  {
   "cell_type": "code",
   "execution_count": 15,
   "id": "434033df",
   "metadata": {},
   "outputs": [
    {
     "name": "stdout",
     "output_type": "stream",
     "text": [
      "\n",
      "Data Base Characteristics\n",
      "=========================\n",
      "\n",
      "Data Base Summary\n",
      "-----------------\n",
      "File is organized as a set of isolated points\n",
      "Space dimension              = 2\n",
      "Number of Columns            = 3\n",
      "Total number of samples      = 4802560\n",
      "\n",
      "Variables\n",
      "---------\n",
      "Column = 0 - Name = xx - Locator = x1\n",
      "Column = 1 - Name = yy - Locator = x2\n",
      "Column = 2 - Name = angles_interp - Locator = z1\n",
      " \n",
      "Data Base Grid Characteristics\n",
      "==============================\n",
      "\n",
      "Data Base Summary\n",
      "-----------------\n",
      "File is organized as a regular grid\n",
      "Space dimension              = 2\n",
      "Number of Columns            = 4\n",
      "Total number of samples      = 1320000\n",
      "\n",
      "Grid characteristics:\n",
      "---------------------\n",
      "Origin : 630000.0006865000.000\n",
      "Mesh   :     50.000    50.000\n",
      "Number :       3300       400\n",
      "Rotation Angles        =     40.000     0.000\n",
      "Direct Rotation Matrix\n",
      "               [,  0]    [,  1]\n",
      "     [  0,]     0.766    -0.643\n",
      "     [  1,]     0.643     0.766\n",
      "Inverse Rotation Matrix\n",
      "               [,  0]    [,  1]\n",
      "     [  0,]     0.766     0.643\n",
      "     [  1,]    -0.643     0.766\n",
      "\n",
      "Variables\n",
      "---------\n",
      "Column = 0 - Name = rank - Locator = NA\n",
      "Column = 1 - Name = x1 - Locator = x1\n",
      "Column = 2 - Name = x2 - Locator = x2\n",
      "Column = 3 - Name = Polygon - Locator = NA\n",
      " "
     ]
    }
   ],
   "source": [
    "#Create a point Db point using xx, yy, angles_interp\n",
    "dbv = gl.Db()\n",
    "dbv.addColumns(xx1,\"xx\",gl.ELoc.X, 0)\n",
    "dbv.addColumns(yy1,\"yy\",gl.ELoc.X, 1)\n",
    "dbv.addColumns(angles_interp1,\"angles_interp\",gl.ELoc.Z, 0)\n",
    "dbv.display()\n",
    "grid.setLocator(\"Pol*\")\n",
    "grid.display()"
   ]
  },
  {
   "cell_type": "code",
   "execution_count": 16,
   "id": "4c419c3b",
   "metadata": {},
   "outputs": [
    {
     "name": "stdout",
     "output_type": "stream",
     "text": [
      "\n",
      "Data Base Grid Characteristics\n",
      "==============================\n",
      "\n",
      "Data Base Summary\n",
      "-----------------\n",
      "File is organized as a regular grid\n",
      "Space dimension              = 2\n",
      "Number of Columns            = 5\n",
      "Total number of samples      = 1320000\n",
      "\n",
      "Grid characteristics:\n",
      "---------------------\n",
      "Origin : 630000.0006865000.000\n",
      "Mesh   :     50.000    50.000\n",
      "Number :       3300       400\n",
      "Rotation Angles        =     40.000     0.000\n",
      "Direct Rotation Matrix\n",
      "               [,  0]    [,  1]\n",
      "     [  0,]     0.766    -0.643\n",
      "     [  1,]     0.643     0.766\n",
      "Inverse Rotation Matrix\n",
      "               [,  0]    [,  1]\n",
      "     [  0,]     0.766     0.643\n",
      "     [  1,]    -0.643     0.766\n",
      "\n",
      "Variables\n",
      "---------\n",
      "Column = 0 - Name = rank - Locator = NA\n",
      "Column = 1 - Name = x1 - Locator = x1\n",
      "Column = 2 - Name = x2 - Locator = x2\n",
      "Column = 3 - Name = Polygon - Locator = NA\n",
      "Column = 4 - Name = Migrate.angles_interp - Locator = z1\n",
      " "
     ]
    }
   ],
   "source": [
    "#Tester la valeur retournée par migrate :\n",
    "grid.deleteColumn(\"Migr*\")\n",
    "gl.migrateMulti(dbv, grid, [\"angles_interp\"])\n",
    "grid.setLocator(\"Migrate*\", gl.ELoc.Z)\n",
    "grid.display()"
   ]
  },
  {
   "cell_type": "code",
   "execution_count": 17,
   "id": "da97fd79",
   "metadata": {},
   "outputs": [],
   "source": [
    "grid.useSel = False\n",
    "grid.setLocator(\"Polygon\")\n",
    "uid_selection=grid.addSelectionByLimit(\"*angles_interp*\", gl.Limits([-10], [10]), \"angle_define\")"
   ]
  },
  {
   "cell_type": "code",
   "execution_count": 18,
   "id": "194b136a",
   "metadata": {},
   "outputs": [],
   "source": [
    "xplt = grid.getColumnByLocator(gl.ELoc.X,0,useSel=True)\n",
    "yplt = grid.getColumnByLocator(gl.ELoc.X,1,useSel=True)\n",
    "aplt = grid.getColumnByLocator(gl.ELoc.Z,0,useSel=True)"
   ]
  },
  {
   "cell_type": "markdown",
   "id": "048a560b",
   "metadata": {},
   "source": [
    "### 3) Creation of a selection (polygon + borders by morphological dilation)"
   ]
  },
  {
   "cell_type": "code",
   "execution_count": 19,
   "id": "b2b54365",
   "metadata": {},
   "outputs": [],
   "source": [
    "grid.setLocator(\"Poly*\", gl.ELoc.SEL)"
   ]
  },
  {
   "cell_type": "code",
   "execution_count": 20,
   "id": "3684cb14",
   "metadata": {},
   "outputs": [],
   "source": [
    "vmin = 0.5\n",
    "vmax = 1.5\n",
    "nxy = grid.getNXs()\n",
    "image2 = gl.BImage(nxy)\n",
    "\n",
    "tab = grid.getColumn(\"Polygon\",useSel=False)\n",
    "image = gl.morpho_double2image(nxy,tab,vmin,vmax)\n",
    "localVD = gl.VectorDouble(len(tab))\n",
    "gl.morpho_dilation(0, [3,3], image, image2)\n",
    "for i in range(10):\n",
    "    gl.morpho_dilation(0, [1,1], image, image2)\n",
    "    gl.morpho_dilation(0, [1,1], image2, image)\n",
    "#gl.morpho_dilation(0, [1,1], image, image2)\n",
    "\n",
    "gl.morpho_image2double(image2, 0, 1., 0., localVD)"
   ]
  },
  {
   "cell_type": "code",
   "execution_count": 21,
   "id": "dcb57649",
   "metadata": {},
   "outputs": [],
   "source": [
    "grid[\"res\"]=localVD.getVector()"
   ]
  },
  {
   "cell_type": "code",
   "execution_count": 22,
   "id": "919807cf",
   "metadata": {},
   "outputs": [
    {
     "data": {
      "text/plain": [
       "\n",
       "Data Base Grid Characteristics\n",
       "==============================\n",
       "\n",
       "Data Base Summary\n",
       "-----------------\n",
       "File is organized as a regular grid\n",
       "Space dimension              = 2\n",
       "Number of Columns            = 7\n",
       "Total number of samples      = 1320000\n",
       "Number of active samples     = 278129\n",
       "\n",
       "Grid characteristics:\n",
       "---------------------\n",
       "Origin : 630000.0006865000.000\n",
       "Mesh   :     50.000    50.000\n",
       "Number :       3300       400\n",
       "Rotation Angles        =     40.000     0.000\n",
       "Direct Rotation Matrix\n",
       "               [,  0]    [,  1]\n",
       "     [  0,]     0.766    -0.643\n",
       "     [  1,]     0.643     0.766\n",
       "Inverse Rotation Matrix\n",
       "               [,  0]    [,  1]\n",
       "     [  0,]     0.766     0.643\n",
       "     [  1,]    -0.643     0.766\n",
       "\n",
       "Variables\n",
       "---------\n",
       "Column = 0 - Name = rank - Locator = NA\n",
       "Column = 1 - Name = x1 - Locator = x1\n",
       "Column = 2 - Name = x2 - Locator = x2\n",
       "Column = 3 - Name = Polygon - Locator = NA\n",
       "Column = 4 - Name = Migrate.angles_interp - Locator = z1\n",
       "Column = 5 - Name = angle_define - Locator = NA\n",
       "Column = 6 - Name = res - Locator = sel"
      ]
     },
     "execution_count": 22,
     "metadata": {},
     "output_type": "execute_result"
    }
   ],
   "source": [
    "grid.setLocator(\"res\",gl.ELoc.SEL)\n",
    "grid"
   ]
  },
  {
   "cell_type": "code",
   "execution_count": 23,
   "id": "ea9c83e4",
   "metadata": {},
   "outputs": [
    {
     "data": {
      "text/plain": [
       "<matplotlib.collections.QuadMesh at 0x7f4c2a1ad030>"
      ]
     },
     "execution_count": 23,
     "metadata": {},
     "output_type": "execute_result"
    },
    {
     "data": {
      "image/png": "[encoded data removed]",
      "text/plain": [
       "<Figure size 576x576 with 2 Axes>"
      ]
     },
     "metadata": {
      "needs_background": "light"
     },
     "output_type": "display_data"
    }
   ],
   "source": [
    "gp.raster(grid,\"Migrate.angles_interp\",cmap=\"turbo\", flagLegend = True)"
   ]
  },
  {
   "cell_type": "markdown",
   "id": "bb1dc200",
   "metadata": {},
   "source": [
    "### 4) Save the result"
   ]
  },
  {
   "cell_type": "code",
   "execution_count": 24,
   "id": "d3fe237d",
   "metadata": {},
   "outputs": [],
   "source": [
    "#grid.dumpToNF(\"Oise_GridAnglesModifFinal.ascii\")"
   ]
  },
  {
   "cell_type": "markdown",
   "id": "502c0f24-c9c0-4ede-855f-9402c66a137a",
   "metadata": {},
   "source": [
    "# Start Kriging here once data is properly saved"
   ]
  },
  {
   "cell_type": "code",
   "execution_count": 25,
   "id": "bc887f3c-9e96-4f74-ba79-3f8d460e2035",
   "metadata": {
    "scrolled": false
   },
   "outputs": [
    {
     "data": {
      "text/plain": [
       "\n",
       "Data Base Grid Characteristics\n",
       "==============================\n",
       "\n",
       "Data Base Summary\n",
       "-----------------\n",
       "File is organized as a regular grid\n",
       "Space dimension              = 2\n",
       "Number of Columns            = 7\n",
       "Total number of samples      = 1320000\n",
       "Number of active samples     = 278129\n",
       "\n",
       "Grid characteristics:\n",
       "---------------------\n",
       "Origin : 630000.0006865000.000\n",
       "Mesh   :     50.000    50.000\n",
       "Number :       3300       400\n",
       "Rotation Angles        =     40.000     0.000\n",
       "Direct Rotation Matrix\n",
       "               [,  0]    [,  1]\n",
       "     [  0,]     0.766    -0.643\n",
       "     [  1,]     0.643     0.766\n",
       "Inverse Rotation Matrix\n",
       "               [,  0]    [,  1]\n",
       "     [  0,]     0.766     0.643\n",
       "     [  1,]    -0.643     0.766\n",
       "\n",
       "Variables\n",
       "---------\n",
       "Column = 0 - Name = rank - Locator = NA\n",
       "Column = 1 - Name = x1 - Locator = x1\n",
       "Column = 2 - Name = x2 - Locator = x2\n",
       "Column = 3 - Name = Polygon - Locator = NA\n",
       "Column = 4 - Name = Migrate.angles_interp - Locator = z1\n",
       "Column = 5 - Name = angle_define - Locator = NA\n",
       "Column = 6 - Name = res - Locator = sel"
      ]
     },
     "execution_count": 25,
     "metadata": {},
     "output_type": "execute_result"
    }
   ],
   "source": [
    "#grid = gl.DbGrid.createFromNF(\"Oise_GridAnglesModifFinal.ascii\")\n",
    "grid"
   ]
  },
  {
   "cell_type": "code",
   "execution_count": 26,
   "id": "3236797f-24b9-4b78-9dfe-990776d3cb8e",
   "metadata": {},
   "outputs": [],
   "source": [
    "# Modify the ranges to 8000, 800 if wished\n",
    "ranges = [2000,200]\n",
    "#If old method is set to True, a classical SPDE kriging will be used\n",
    "oldMethod = False"
   ]
  },
  {
   "cell_type": "code",
   "execution_count": 27,
   "id": "0da867f2-8d58-4e0a-a78f-71b7afcdd582",
   "metadata": {},
   "outputs": [
    {
     "name": "stdout",
     "output_type": "stream",
     "text": [
      "Current directory is /home/fors/Projets/gstlearn/gstlearn/doc/demo/python\n",
      "./Oise_Data_ThicknessSides.ascii not found...\n",
      "./doc/data/Alluvial/Oise_Data_ThicknessSides.ascii not found...\n",
      "../../data/Alluvial/Oise_Data_ThicknessSides.ascii found... Full path is /home/fors/Projets/gstlearn/gstlearn/doc/data/Alluvial/Oise_Data_ThicknessSides.ascii\n"
     ]
    },
    {
     "data": {
      "text/plain": [
       "\n",
       "Data Base Characteristics\n",
       "=========================\n",
       "\n",
       "Data Base Summary\n",
       "-----------------\n",
       "File is organized as a set of isolated points\n",
       "Space dimension              = 2\n",
       "Number of Columns            = 7\n",
       "Total number of samples      = 2334\n",
       "Number of active samples     = 2319\n",
       "\n",
       "Variables\n",
       "---------\n",
       "Column = 0 - Name = rank - Locator = NA\n",
       "Column = 1 - Name = X - Locator = x1\n",
       "Column = 2 - Name = Y - Locator = x2\n",
       "Column = 3 - Name = Thickness - Locator = lower1\n",
       "Column = 4 - Name = Thickness_1 - Locator = upper1\n",
       "Column = 5 - Name = ThicknessSides - Locator = z1\n",
       "Column = 6 - Name = Duplicate - Locator = sel"
      ]
     },
     "execution_count": 27,
     "metadata": {},
     "output_type": "execute_result"
    }
   ],
   "source": [
    "# Load data, use either with or without the sides; For the top of the alluvial plain use \"Oise_Data_Elev500.ascii\"\n",
    "# Data files are available here: https://soft.mines-paristech.fr/gstlearn/data-latest/Alluvial\n",
    "filename = gdoc.loadData(\"Alluvial\", \"Oise_Data_ThicknessSides.ascii\")\n",
    "data = gl.Db.createFromNF(filename)\n",
    "data"
   ]
  },
  {
   "cell_type": "code",
   "execution_count": 28,
   "id": "594a12b7-fc31-4db9-a8fc-ee474ac97fdb",
   "metadata": {},
   "outputs": [
    {
     "data": {
      "text/plain": [
       "\n",
       "Data Base Characteristics\n",
       "=========================\n",
       "\n",
       "Data Base Summary\n",
       "-----------------\n",
       "File is organized as a set of isolated points\n",
       "Space dimension              = 2\n",
       "Number of Columns            = 8\n",
       "Total number of samples      = 2334\n",
       "Number of active samples     = 1010\n",
       "\n",
       "Variables\n",
       "---------\n",
       "Column = 0 - Name = rank - Locator = NA\n",
       "Column = 1 - Name = X - Locator = x1\n",
       "Column = 2 - Name = Y - Locator = x2\n",
       "Column = 3 - Name = Thickness - Locator = lower1\n",
       "Column = 4 - Name = Thickness_1 - Locator = upper1\n",
       "Column = 5 - Name = ThicknessSides - Locator = z1\n",
       "Column = 6 - Name = Duplicate - Locator = NA\n",
       "Column = 7 - Name = selVario - Locator = sel"
      ]
     },
     "execution_count": 28,
     "metadata": {},
     "output_type": "execute_result"
    }
   ],
   "source": [
    "# Selection to calculate variogram only on non-zero values\n",
    "data[\"selVario\"]=(data[\"Duplicate\"]*(data[\"ThicknessSides\"]>0))\n",
    "data.setLocators([\"selVario\"],gl.ELoc.SEL)\n",
    "data"
   ]
  },
  {
   "cell_type": "code",
   "execution_count": null,
   "id": "2437f7d0-f922-4b5e-bfe3-727ba78c1541",
   "metadata": {},
   "outputs": [],
   "source": [
    "myVarioParamBidir = gl.VarioParam()\n",
    "mydir = gl.DirParam(40,800.,0.5,45.,0,0,np.nan,np.nan,0.,[],[1,1])\n",
    "myVarioParamBidir.addDir(mydir)\n",
    "mydir = gl.DirParam(20,400.,0.5,45.,0,0,np.nan,np.nan,0.,[],[-1,1])\n",
    "myVarioParamBidir.addDir(mydir)\n",
    "myVarioBidir = gl.Vario(myVarioParamBidir)\n",
    "err = myVarioBidir.compute(data,gl.ECalcVario.VARIOGRAM)\n",
    "myVarioBidir.display()\n",
    "ax = gp.varmod(myVarioBidir,idir=0)\n",
    "ax.decoration(title=\"Bi-directional Variogram for thickness(45°)\")\n",
    "ax = gp.varmod(myVarioBidir,idir=1)\n",
    "ax.decoration(title=\"Bi-directional Variogram for thickness(45/135°)\")"
   ]
  },
  {
   "cell_type": "code",
   "execution_count": null,
   "id": "0efa00ac-4539-486c-b0a2-a13ac49f78c5",
   "metadata": {},
   "outputs": [],
   "source": [
    "model = gl.Model.createFromDb(data)\n",
    "\n",
    "structs = [gl.ECov.NUGGET,gl.ECov.BESSEL_K]\n",
    "cons1P = gl.ConsItem.define(gl.EConsElem.PARAM,1, type = gl.EConsType.EQUAL,value = 1)\n",
    "\n",
    "a = gl.Constraints()\n",
    "a.addItem(cons1P)\n",
    "\n",
    "err = model.fit(myVarioBidir,structs,constraints=a)\n",
    "model.display()\n",
    "ax = gp.varmod(myVarioBidir,model,idir=0)\n",
    "ax = gp.varmod(myVarioBidir,model,idir=1)\n",
    "plt.show()\n",
    "\n",
    "#model.setMean(100)\n",
    "model.display()"
   ]
  },
  {
   "cell_type": "code",
   "execution_count": null,
   "id": "29d4d8e2-c3de-4984-a045-3c489f56b2e2",
   "metadata": {},
   "outputs": [],
   "source": [
    "data.setLocators([\"Duplicate\"],gl.ELoc.SEL)"
   ]
  },
  {
   "cell_type": "code",
   "execution_count": null,
   "id": "df03aa9c-5a5e-48c9-81b5-0e5805dfb1c9",
   "metadata": {},
   "outputs": [],
   "source": [
    "if not oldMethod :\n",
    "    model = gl.Model.createFromDb(data)\n",
    "    covBessel = gl.CovAniso.createAnisotropic(type = gl.ECov.BESSEL_K,ranges=ranges,sill=4.7,param=1,ctxt=model.getContext())\n",
    "    covNugget = gl.CovAniso.createIsotropic(type = gl.ECov.NUGGET,sill=2.2,ctxt=model.getContext(),range=1)\n",
    "    model.addCov(covNugget)\n",
    "    model.addCov(covBessel)"
   ]
  },
  {
   "cell_type": "code",
   "execution_count": null,
   "id": "7d08eee1-68eb-4385-9ecb-740efe7ce55c",
   "metadata": {},
   "outputs": [],
   "source": [
    "grid.setLocator(\"Polygon.*\", gl.ELoc.SEL)"
   ]
  },
  {
   "cell_type": "code",
   "execution_count": null,
   "id": "490d5965-66c9-45b1-81c9-d8bd41ed4b62",
   "metadata": {},
   "outputs": [],
   "source": [
    "model.setDriftIRF(order = 0)\n",
    "model"
   ]
  },
  {
   "cell_type": "code",
   "execution_count": null,
   "id": "a69f7a19-550d-4220-879b-06231cfa4cc5",
   "metadata": {},
   "outputs": [],
   "source": [
    "if not oldMethod:\n",
    "    grid.setLocator(\"Migrate.angles_interp\",gl.ELoc.NOSTAT)\n",
    "    nostat = gl.NoStatArray([\"M2A\"],grid)\n",
    "    model.addNoStat(nostat)"
   ]
  },
  {
   "cell_type": "code",
   "execution_count": null,
   "id": "f7438779-09c5-4506-8fef-d732edb031d8",
   "metadata": {},
   "outputs": [],
   "source": [
    "data.setLocators([\"ThicknessNosides\"],gl.ELoc.Z,cleanSameLocator=True)"
   ]
  },
  {
   "cell_type": "code",
   "execution_count": null,
   "id": "068dc3f7-f7df-4f01-a550-a3870fdfc964",
   "metadata": {},
   "outputs": [],
   "source": [
    "# Basic SPDE simulation \n",
    "spde = gl.SPDE(model,grid,data,gl.ESPDECalcMode.KRIGING)\n",
    "uid_result= spde.compute(grid)"
   ]
  },
  {
   "cell_type": "code",
   "execution_count": null,
   "id": "cd0795b2-4595-4c75-b356-e2ac4307e169",
   "metadata": {},
   "outputs": [],
   "source": [
    "#Plot kriging\n",
    "plt.figure(figsize=[20,12])\n",
    "gp.raster(grid,\"spde.ThicknessSides.estim\",cmap=\"turbo\", flagLegend = True)"
   ]
  },
  {
   "cell_type": "markdown",
   "id": "dde5f873-706a-4c20-b044-4afc94e89e63",
   "metadata": {},
   "source": [
    "# Save the current grid, which can be loaded again at the start of kriging (cell #26)"
   ]
  },
  {
   "cell_type": "code",
   "execution_count": null,
   "id": "f7f3dcb0-7a40-452b-b669-e46786d3a047",
   "metadata": {},
   "outputs": [],
   "source": [
    "# modify the grid according to your wishes\n",
    "#grid[\"Old_Variable\"]=grid[\"New_variable\"]\n",
    "#grid.deleteColumn(\"TheVariableYouWant\")\n",
    "#grid[\"BedrockElevation\"]=grid[\"PlainElevation\"]-grid[\"AlluviumThickness\"]"
   ]
  },
  {
   "cell_type": "code",
   "execution_count": null,
   "id": "ae7bc763-6e88-43ed-829c-8d94308b6132",
   "metadata": {},
   "outputs": [],
   "source": [
    "#Save the grid\n",
    "#grid.dumpToNF(\"Oise_KrigingResults_Thickness.ascii\")"
   ]
  },
  {
   "cell_type": "markdown",
   "id": "5e433118-62fc-4dab-8319-9d9b89848180",
   "metadata": {},
   "source": [
    "# Uncertainties estimation based on standard deviation"
   ]
  },
  {
   "cell_type": "code",
   "execution_count": null,
   "id": "fc86fac7-cef7-4ea4-8057-a9ebb3b27d95",
   "metadata": {},
   "outputs": [],
   "source": [
    "# Calculation of n simulations to estimate standard deviation (best is to change to nbsimu=100)\n",
    "error=gl.simulateSPDE(data,grid,model,nbsimu=10)"
   ]
  },
  {
   "cell_type": "code",
   "execution_count": null,
   "id": "c5c38291-bf8b-4b2e-97eb-aa1befc487f8",
   "metadata": {},
   "outputs": [],
   "source": [
    "# Calculation of Stdv by hand: gl.EStatOption.STDV in the future\n",
    "grid[\"MeanSimu\"]=grid[\"SimuSPDE.Thickness*\"].mean(1)\n",
    "grid[\"StdevSimu\"]=np.zeros(grid[\"SimuSPDE.Thickness*\"].shape[0])\n",
    "nc=grid[\"SimuSPDE.Thickness*\"].shape[1]\n",
    "for i in range(nc):\n",
    "    grid[\"StdevSimu\"]+=((grid[\"SimuSPDE.Thickness*\"][:,i]-grid[\"MeanSimu\"])**2)/nc\n",
    "grid[\"StdevSimu\"]=grid[\"StdevSimu\"]**0.5"
   ]
  },
  {
   "cell_type": "code",
   "execution_count": null,
   "id": "b181c7b2",
   "metadata": {},
   "outputs": [],
   "source": []
  }
 ],
 "metadata": {
  "hide_input": false,
  "kernelspec": {
   "display_name": "Python 3 (ipykernel)",
   "language": "python",
   "name": "python3"
  },
  "language_info": {
   "codemirror_mode": {
    "name": "ipython",
    "version": 3
   },
   "file_extension": ".py",
   "mimetype": "text/x-python",
   "name": "python",
   "nbconvert_exporter": "python",
   "pygments_lexer": "ipython3",
   "version": "3.10.12"
  },
  "toc": {
   "base_numbering": 1,
   "nav_menu": {},
   "number_sections": true,
   "sideBar": true,
   "skip_h1_title": false,
   "title_cell": "Table of Contents",
   "title_sidebar": "Contents",
   "toc_cell": false,
   "toc_position": {},
   "toc_section_display": true,
   "toc_window_display": false
  }
 },
 "nbformat": 4,
 "nbformat_minor": 5
}
