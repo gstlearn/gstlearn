{
 "cells": [
  {
   "cell_type": "code",
   "execution_count": null,
   "id": "928bf7a3",
   "metadata": {},
   "outputs": [],
   "source": [
    "import matplotlib.pyplot as plt\n",
    "import gstlearn as gl\n",
    "import gstlearn.plot as gp\n",
    "import gstlearn.document as gdoc\n",
    "import numpy as np\n",
    "import pandas as pd\n",
    "import scipy as sp\n",
    "from scipy import interpolate\n",
    "import os\n",
    "import urllib.request\n",
    "import tempfile\n",
    "\n",
    "gdoc.setNoScroll()"
   ]
  },
  {
   "cell_type": "markdown",
   "id": "91f85c1b",
   "metadata": {},
   "source": [
    "## Creation of the data base for thickness"
   ]
  },
  {
   "cell_type": "code",
   "execution_count": null,
   "id": "05a58d31",
   "metadata": {},
   "outputs": [],
   "source": [
    "# Use either Oise_Thickness.csv, Oise_Thickness_withSides.csv or Oise_Ztop500.csv\n",
    "# Data files are available here: https://soft.mines-paristech.fr/gstlearn/data-latest/Alluvial\n",
    "filename = gdoc.loadData(\"Alluvial\", \"Oise_Ztop500.csv\")\n",
    "csv = gl.CSVformat(True, 0, \";\", \",\", \"9999\")\n",
    "data = gl.Db.createFromCSV(filename, csv, False)\n",
    "data"
   ]
  },
  {
   "cell_type": "code",
   "execution_count": null,
   "id": "034ae5a5",
   "metadata": {},
   "outputs": [],
   "source": [
    "data.setLocator(\"X\",gl.ELoc.X,0)\n",
    "data.setLocator(\"Y\",gl.ELoc.X,1)\n",
    "data.setLocator(\"Z\",gl.ELoc.L,0)\n",
    "data.setLocator(\"Z_1\",gl.ELoc.U,0)\n",
    "sf = gl.DbStringFormat()\n",
    "sf.setFlags(flag_stats=True) \n",
    "thickness = data.getWithinBounds(0)\n",
    "err = data.addColumns(thickness,\"Elev\",gl.ELoc.Z)\n",
    "err = gl.DbHelper.db_duplicate(data)\n",
    "data"
   ]
  },
  {
   "cell_type": "code",
   "execution_count": null,
   "id": "46290996",
   "metadata": {},
   "outputs": [],
   "source": [
    "res = plt.scatter(data.getColumn(\"X\"), data.getColumn(\"Y\"), c=data.getColumn(\"Elev\"))"
   ]
  },
  {
   "cell_type": "code",
   "execution_count": null,
   "id": "006487f8",
   "metadata": {},
   "outputs": [],
   "source": [
    "res = plt.hist(thickness)"
   ]
  },
  {
   "cell_type": "code",
   "execution_count": null,
   "id": "b1dc3444",
   "metadata": {},
   "outputs": [],
   "source": [
    "#data.dumpToNF(\"Oise_Data_Elev500.ascii\")"
   ]
  },
  {
   "cell_type": "markdown",
   "id": "e7f59bb9",
   "metadata": {},
   "source": [
    "## Creation of the grid"
   ]
  },
  {
   "cell_type": "markdown",
   "id": "2b1059dc",
   "metadata": {},
   "source": [
    "### 1) Creation of the polygon"
   ]
  },
  {
   "cell_type": "code",
   "execution_count": null,
   "id": "41cd2244",
   "metadata": {},
   "outputs": [],
   "source": [
    "# Data files are available here: https://soft.mines-paristech.fr/gstlearn/data-latest/Alluvial\n",
    "filename = gdoc.loadData(\"Alluvial\", \"Oise_Shapefile_AlluvialPlain.csv\")\n",
    "poly = gl.Polygons.createFromCSV(filename, csv, False)\n",
    "ax = gp.plot(poly)"
   ]
  },
  {
   "cell_type": "code",
   "execution_count": null,
   "id": "c9753b48",
   "metadata": {},
   "outputs": [],
   "source": [
    "grid = gl.DbGrid.create(nx = [3300,400],dx = [50.,50.], x0 = [630000.,6865000.],angles=[40,0])"
   ]
  },
  {
   "cell_type": "code",
   "execution_count": null,
   "id": "7d98a6a8",
   "metadata": {},
   "outputs": [],
   "source": [
    "fig, ax = gp.init()\n",
    "ax.raster(grid,\"x1\",alpha=0.3)\n",
    "ax.symbol(data)\n",
    "gp.close()"
   ]
  },
  {
   "cell_type": "code",
   "execution_count": null,
   "id": "af84e032",
   "metadata": {},
   "outputs": [],
   "source": [
    "err = gl.db_polygon(grid,poly)\n",
    "grid"
   ]
  },
  {
   "cell_type": "markdown",
   "id": "99ef5a3d",
   "metadata": {},
   "source": [
    "### 2) Creation of angles"
   ]
  },
  {
   "cell_type": "code",
   "execution_count": null,
   "id": "86aec485",
   "metadata": {},
   "outputs": [],
   "source": [
    "# Data files are available here: https://soft.mines-paristech.fr/gstlearn/data-latest/Alluvial\n",
    "filename = gdoc.loadData(\"Alluvial\", \"Oise_Shapefile_Centerline.csv\")\n",
    "## Loading Centerline data from file\n",
    "df1 = pd.read_csv (filename, sep=';')\n",
    "xc = list(df1['X'])\n",
    "yc = list(df1['Y'])\n",
    "x1=xc[1:499]\n",
    "y1=yc[1:499]\n",
    "\n",
    "# Data files are available here: https://soft.mines-paristech.fr/gstlearn/data-latest/Alluvial\n",
    "filename = gdoc.loadData(\"Alluvial\", \"Oise_Shapefile_AlluvialPlain.csv\")\n",
    "## Loading alluvial plain contours from file & Separate into two polylines \n",
    "df = pd.read_csv (filename, sep=';')\n",
    "xp = list(df['X'])\n",
    "yp = list(df['Y'])\n",
    "x2=xp[1:xp.index(max(xp))]\n",
    "x3=xp[len(xp):xp.index(max(xp))+1:-1]\n",
    "y2=yp[1:xp.index(max(xp))]\n",
    "y3=yp[len(xp):xp.index(max(xp))+1:-1]\n",
    "\n",
    "## Adding supplementary control points at the edges\n",
    "# coordinates of extremes\n",
    "XA1=640000\n",
    "YA1=6875000\n",
    "XB1=740000\n",
    "YB1=6955000\n",
    "\n",
    "XA2=630000\n",
    "YA2=6890000\n",
    "XB2=735000\n",
    "YB2=6980000\n",
    "\n",
    "# Forming two supplementary vectors at the edges\n",
    "n=19\n",
    "x4= np.zeros(n)\n",
    "y4= np.zeros(n)\n",
    "x5= np.zeros(n)\n",
    "y5= np.zeros(n)\n",
    "for i in range(0,len(x4)):\n",
    "    x4[i]=(XA1+(XB1-XA1)/(n-1)*i)\n",
    "    y4[i]=(YA1+(YB1-YA1)/(n-1)*i)\n",
    "    x5[i]=(XA2+(XB2-XA2)/(n-1)*i)\n",
    "    y5[i]=(YA2+(YB2-YA2)/(n-1)*i)"
   ]
  },
  {
   "cell_type": "code",
   "execution_count": null,
   "id": "e1bb30d0",
   "metadata": {},
   "outputs": [],
   "source": [
    "# Gradient method\n",
    "#  https://stackoverflow.com/questions/28269379/curve-curvature-in-numpy\n",
    "dx_dt1 = np.gradient(x1)\n",
    "dy_dt1 = np.gradient(y1)\n",
    "velocity = np.array([ [dx_dt1[i], dy_dt1[i]] for i in range(dx_dt1.size)])\n",
    "ds_dt1 = np.sqrt(dx_dt1 * dx_dt1 + dy_dt1 * dy_dt1)\n",
    "tangent1 = np.array([1/ds_dt1] * 2).transpose() * velocity\n",
    "\n",
    "dx_dt2 = np.gradient(x2)\n",
    "dy_dt2 = np.gradient(y2)\n",
    "velocity2 = np.array([ [dx_dt2[i], dy_dt2[i]] for i in range(dx_dt2.size)])\n",
    "ds_dt2 = np.sqrt(dx_dt2 * dx_dt2 + dy_dt2 * dy_dt2)\n",
    "tangent2 = np.array([1/ds_dt2] * 2).transpose() * velocity2\n",
    "\n",
    "dx_dt3 = np.gradient(x3)\n",
    "dy_dt3 = np.gradient(y3)\n",
    "velocity3 = np.array([ [dx_dt3[i], dy_dt3[i]] for i in range(dx_dt3.size)])\n",
    "ds_dt3 = np.sqrt(dx_dt3 * dx_dt3 + dy_dt3 * dy_dt3)\n",
    "tangent3 = np.array([1/ds_dt3] * 2).transpose() * velocity3\n",
    "\n",
    "dx_dt4 = np.gradient(x4)\n",
    "dy_dt4 = np.gradient(y4)\n",
    "velocity4 = np.array([ [dx_dt4[i], dy_dt4[i]] for i in range(dx_dt4.size)])\n",
    "ds_dt4 = np.sqrt(dx_dt4 * dx_dt4 + dy_dt4 * dy_dt4)\n",
    "tangent4 = np.array([1/ds_dt4] * 2).transpose() * velocity4\n",
    "\n",
    "dx_dt5 = np.gradient(x5)\n",
    "dy_dt5 = np.gradient(y5)\n",
    "velocity5 = np.array([ [dx_dt5[i], dy_dt5[i]] for i in range(dx_dt5.size)])\n",
    "ds_dt5 = np.sqrt(dx_dt5 * dx_dt5 + dy_dt5 * dy_dt5)\n",
    "tangent5 = np.array([1/ds_dt5] * 2).transpose() * velocity5\n",
    "    \n",
    "tangent=np.concatenate((tangent1,tangent2,tangent3,tangent4,tangent5),axis=0) \n",
    "\n",
    "x0=np.concatenate((x1,x2,x3,x4,x5),axis=0) \n",
    "y0=np.concatenate((y1,y2,y3,y4,y5),axis=0) \n",
    "u0 = tangent[:, 0]\n",
    "v0 = tangent[:, 1]"
   ]
  },
  {
   "cell_type": "code",
   "execution_count": null,
   "id": "7704ff51",
   "metadata": {},
   "outputs": [],
   "source": [
    "# Numpy arctan2 Method\n",
    "angles = np.arctan2(v0, u0) * 180 / np.pi\n",
    "res = plt.hist(angles)"
   ]
  },
  {
   "cell_type": "code",
   "execution_count": null,
   "id": "3327ebe4",
   "metadata": {},
   "outputs": [],
   "source": [
    "# Interpolating the angles into angles map -> https://docs.scipy.org/doc/scipy/reference/generated/scipy.interpolate.griddata.html\n",
    "xx = np.linspace(630000, 742000, 2240)\n",
    "yy = np.linspace(6875000, 6982200, 2144)\n",
    "xx, yy = np.meshgrid(xx, yy)\n",
    "\n",
    "angles.shape=(np.size(angles),)\n",
    "np.shape(angles)\n",
    "\n",
    "points = np.transpose(np.vstack((x0, y0)))\n",
    "angles_interp = interpolate.griddata(points, angles, (xx, yy), method='linear')\n",
    "\n",
    "xx1 = np.concatenate(xx)\n",
    "yy1 = np.concatenate(yy)\n",
    "angles_interp1 = np.concatenate(angles_interp)"
   ]
  },
  {
   "cell_type": "code",
   "execution_count": null,
   "id": "c94ce062",
   "metadata": {},
   "outputs": [],
   "source": [
    "#Create a point Db point using xx, yy, angles_interp\n",
    "dbv = gl.Db()\n",
    "dbv.addColumns(xx1,\"xx\",gl.ELoc.X, 0)\n",
    "dbv.addColumns(yy1,\"yy\",gl.ELoc.X, 1)\n",
    "dbv.addColumns(angles_interp1,\"angles_interp\",gl.ELoc.Z, 0)\n",
    "dbv.display()\n",
    "grid.setLocator(\"Pol*\")\n",
    "grid.display()"
   ]
  },
  {
   "cell_type": "code",
   "execution_count": null,
   "id": "d280adaa",
   "metadata": {},
   "outputs": [],
   "source": [
    "#Tester la valeur retournée par migrate :\n",
    "grid.deleteColumn(\"Migr*\")\n",
    "gl.migrateMulti(dbv, grid, [\"angles_interp\"])\n",
    "grid.setLocator(\"Migrate*\", gl.ELoc.Z)\n",
    "grid.display()"
   ]
  },
  {
   "cell_type": "code",
   "execution_count": null,
   "id": "c487d10b",
   "metadata": {},
   "outputs": [],
   "source": [
    "grid.useSel = False\n",
    "grid.setLocator(\"Polygon\")\n",
    "uid_selection=grid.addSelectionByLimit(\"*angles_interp*\", gl.Limits([-10], [10]), \"angle_define\")"
   ]
  },
  {
   "cell_type": "code",
   "execution_count": null,
   "id": "d4700179",
   "metadata": {},
   "outputs": [],
   "source": [
    "xplt = grid.getColumnByLocator(gl.ELoc.X,0,useSel=True)\n",
    "yplt = grid.getColumnByLocator(gl.ELoc.X,1,useSel=True)\n",
    "aplt = grid.getColumnByLocator(gl.ELoc.Z,0,useSel=True)"
   ]
  },
  {
   "cell_type": "markdown",
   "id": "2a34acb1",
   "metadata": {},
   "source": [
    "### 3) Creation of a selection (polygon + borders by morphological dilation)"
   ]
  },
  {
   "cell_type": "code",
   "execution_count": null,
   "id": "414d32e0",
   "metadata": {},
   "outputs": [],
   "source": [
    "grid.setLocator(\"Poly*\", gl.ELoc.SEL)"
   ]
  },
  {
   "cell_type": "code",
   "execution_count": null,
   "id": "d7fdd839",
   "metadata": {},
   "outputs": [],
   "source": [
    "vmin = 0.5\n",
    "vmax = 1.5\n",
    "nxy = grid.getNXs()\n",
    "image2 = gl.BImage(nxy)\n",
    "\n",
    "tab = grid.getColumn(\"Polygon\",useSel=False)\n",
    "image = gl.morpho_double2image(nxy,tab,vmin,vmax)\n",
    "localVD = gl.VectorDouble(len(tab))\n",
    "gl.morpho_dilation(0, [3,3], image, image2)\n",
    "for i in range(10):\n",
    "    gl.morpho_dilation(0, [1,1], image, image2)\n",
    "    gl.morpho_dilation(0, [1,1], image2, image)\n",
    "#gl.morpho_dilation(0, [1,1], image, image2)\n",
    "\n",
    "gl.morpho_image2double(image2, 0, 1., 0., localVD)"
   ]
  },
  {
   "cell_type": "code",
   "execution_count": null,
   "id": "7e95db22",
   "metadata": {},
   "outputs": [],
   "source": [
    "grid[\"res\"]=localVD.getVector()"
   ]
  },
  {
   "cell_type": "code",
   "execution_count": null,
   "id": "8835ef08",
   "metadata": {},
   "outputs": [],
   "source": [
    "grid.setLocator(\"res\",gl.ELoc.SEL)\n",
    "grid"
   ]
  },
  {
   "cell_type": "code",
   "execution_count": null,
   "id": "1c1393ec",
   "metadata": {},
   "outputs": [],
   "source": [
    "res = gp.raster(grid,\"Migrate.angles_interp\",cmap=\"turbo\", flagLegend = True)"
   ]
  },
  {
   "cell_type": "markdown",
   "id": "91c8d3fe",
   "metadata": {},
   "source": [
    "### 4) Save the result"
   ]
  },
  {
   "cell_type": "code",
   "execution_count": null,
   "id": "c39b3375",
   "metadata": {},
   "outputs": [],
   "source": [
    "#grid.dumpToNF(\"Oise_GridAnglesModifFinal.ascii\")"
   ]
  },
  {
   "cell_type": "markdown",
   "id": "00d32777",
   "metadata": {},
   "source": [
    "# Start Kriging here once data is properly saved"
   ]
  },
  {
   "cell_type": "code",
   "execution_count": null,
   "id": "32f6b2a0",
   "metadata": {},
   "outputs": [],
   "source": [
    "#grid = gl.DbGrid.createFromNF(\"Oise_GridAnglesModifFinal.ascii\")\n",
    "grid"
   ]
  },
  {
   "cell_type": "code",
   "execution_count": null,
   "id": "29bf5db7",
   "metadata": {},
   "outputs": [],
   "source": [
    "# Modify the ranges to 8000, 800 if wished\n",
    "ranges = [2000,200]\n",
    "#If old method is set to True, a classical SPDE kriging will be used\n",
    "oldMethod = False"
   ]
  },
  {
   "cell_type": "code",
   "execution_count": null,
   "id": "74d43c28",
   "metadata": {},
   "outputs": [],
   "source": [
    "# Load data, use either with or without the sides; For the top of the alluvial plain use \"Oise_Data_Elev500.ascii\"\n",
    "# Data files are available here: https://soft.mines-paristech.fr/gstlearn/data-latest/Alluvial\n",
    "filename = gdoc.loadData(\"Alluvial\", \"Oise_Data_ThicknessSides.ascii\")\n",
    "data = gl.Db.createFromNF(filename)\n",
    "data"
   ]
  },
  {
   "cell_type": "code",
   "execution_count": null,
   "id": "431750f4",
   "metadata": {},
   "outputs": [],
   "source": [
    "# Selection to calculate variogram only on non-zero values\n",
    "data[\"selVario\"]=(data[\"Duplicate\"]*(data[\"ThicknessSides\"]>0))\n",
    "data.setLocators([\"selVario\"],gl.ELoc.SEL)\n",
    "data"
   ]
  },
  {
   "cell_type": "code",
   "execution_count": null,
   "id": "d8ef7ef8",
   "metadata": {},
   "outputs": [],
   "source": [
    "myVarioParamBidir = gl.VarioParam()\n",
    "mydir = gl.DirParam(40,800.,0.5,45.,0,0,np.nan,np.nan,0.,[],[1,1])\n",
    "myVarioParamBidir.addDir(mydir)\n",
    "mydir = gl.DirParam(20,400.,0.5,45.,0,0,np.nan,np.nan,0.,[],[-1,1])\n",
    "myVarioParamBidir.addDir(mydir)\n",
    "myVarioBidir = gl.Vario(myVarioParamBidir)\n",
    "err = myVarioBidir.compute(data,gl.ECalcVario.VARIOGRAM)\n",
    "myVarioBidir.display()\n",
    "ax = gp.varmod(myVarioBidir,idir=0)\n",
    "ax.decoration(title=\"Bi-directional Variogram for thickness(45°)\")\n",
    "ax = gp.varmod(myVarioBidir,idir=1)\n",
    "ax.decoration(title=\"Bi-directional Variogram for thickness(45/135°)\")"
   ]
  },
  {
   "cell_type": "code",
   "execution_count": null,
   "id": "0bbe29f9",
   "metadata": {},
   "outputs": [],
   "source": [
    "model = gl.Model.createFromDb(data)\n",
    "\n",
    "structs = [gl.ECov.NUGGET,gl.ECov.MATERN]\n",
    "cons1P = gl.ConsItem.define(gl.EConsElem.PARAM,1, type = gl.EConsType.EQUAL,value = 1)\n",
    "\n",
    "a = gl.Constraints()\n",
    "a.addItem(cons1P)\n",
    "\n",
    "err = model.fit(myVarioBidir,structs,constraints=a)\n",
    "model.display()\n",
    "ax = gp.varmod(myVarioBidir,model,idir=0)\n",
    "ax = gp.varmod(myVarioBidir,model,idir=1)\n",
    "plt.show()\n",
    "\n",
    "#model.setMean(100)\n",
    "model.display()"
   ]
  },
  {
   "cell_type": "code",
   "execution_count": null,
   "id": "58334f68",
   "metadata": {},
   "outputs": [],
   "source": [
    "data.setLocators([\"Duplicate\"],gl.ELoc.SEL)"
   ]
  },
  {
   "cell_type": "code",
   "execution_count": null,
   "id": "52bc2396",
   "metadata": {},
   "outputs": [],
   "source": [
    "if not oldMethod :\n",
    "    model = gl.Model.createFromDb(data)\n",
    "    covMatern = gl.CovAniso.createAnisotropic(type = gl.ECov.MATERN,ranges=ranges,sill=4.7,param=1,ctxt=model.getContext())\n",
    "    covNugget = gl.CovAniso.createIsotropic(type = gl.ECov.NUGGET,sill=2.2,ctxt=model.getContext(),range=1)\n",
    "    model.addCov(covNugget)\n",
    "    model.addCov(covMatern)"
   ]
  },
  {
   "cell_type": "code",
   "execution_count": null,
   "id": "0539ba98",
   "metadata": {},
   "outputs": [],
   "source": [
    "grid.setLocator(\"Polygon.*\", gl.ELoc.SEL)"
   ]
  },
  {
   "cell_type": "code",
   "execution_count": null,
   "id": "e4086506",
   "metadata": {},
   "outputs": [],
   "source": [
    "model.setDriftIRF(order = 0)\n",
    "model"
   ]
  },
  {
   "cell_type": "code",
   "execution_count": null,
   "id": "b2387056",
   "metadata": {},
   "outputs": [],
   "source": [
    "if not oldMethod:\n",
    "    model.getCovAniso(1).makeAngleNoStatDb(\"Migrate.angles_interp\",0,grid)"
   ]
  },
  {
   "cell_type": "code",
   "execution_count": null,
   "id": "50ba9f6b",
   "metadata": {},
   "outputs": [],
   "source": [
    "data.setLocators([\"ThicknessNosides\"],gl.ELoc.Z,cleanSameLocator=True)"
   ]
  },
  {
   "cell_type": "code",
   "execution_count": null,
   "id": "97b46bb5",
   "metadata": {},
   "outputs": [],
   "source": [
    "# Basic SPDE simulation \n",
    "spde = gl.SPDE(model,grid,data,gl.ESPDECalcMode.KRIGING)\n",
    "uid_result= spde.compute(grid)"
   ]
  },
  {
   "cell_type": "code",
   "execution_count": null,
   "id": "7fa6125c",
   "metadata": {},
   "outputs": [],
   "source": [
    "#Plot kriging\n",
    "fig, ax = gp.init(figsize=(20,12))\n",
    "gp.raster(grid,\"spde.ThicknessSides.estim\",cmap=\"turbo\", flagLegend = True)\n",
    "gp.close()"
   ]
  },
  {
   "cell_type": "markdown",
   "id": "1231547b",
   "metadata": {},
   "source": [
    "# Save the current grid, which can be loaded again at the start of kriging (cell #26)"
   ]
  },
  {
   "cell_type": "code",
   "execution_count": null,
   "id": "4046176c",
   "metadata": {},
   "outputs": [],
   "source": [
    "# modify the grid according to your wishes\n",
    "#grid[\"Old_Variable\"]=grid[\"New_variable\"]\n",
    "#grid.deleteColumn(\"TheVariableYouWant\")\n",
    "#grid[\"BedrockElevation\"]=grid[\"PlainElevation\"]-grid[\"AlluviumThickness\"]"
   ]
  },
  {
   "cell_type": "code",
   "execution_count": null,
   "id": "c8329ce3",
   "metadata": {},
   "outputs": [],
   "source": [
    "#Save the grid\n",
    "#grid.dumpToNF(\"Oise_KrigingResults_Thickness.ascii\")"
   ]
  },
  {
   "cell_type": "markdown",
   "id": "639f0698",
   "metadata": {},
   "source": [
    "# Uncertainties estimation based on standard deviation"
   ]
  },
  {
   "cell_type": "code",
   "execution_count": null,
   "id": "43032497",
   "metadata": {},
   "outputs": [],
   "source": [
    "# Calculation of n simulations to estimate standard deviation (best is to change to nbsimu=100)\n",
    "error=gl.simulateSPDE(data,grid,model,nbsimu=10)"
   ]
  },
  {
   "cell_type": "code",
   "execution_count": null,
   "id": "61297493",
   "metadata": {},
   "outputs": [],
   "source": [
    "# Calculation of Stdv by hand: gl.EStatOption.STDV in the future\n",
    "grid[\"MeanSimu\"]=grid[\"SimuSPDE.Thickness*\"].mean(1)\n",
    "grid[\"StdevSimu\"]=np.zeros(grid[\"SimuSPDE.Thickness*\"].shape[0])\n",
    "nc=grid[\"SimuSPDE.Thickness*\"].shape[1]\n",
    "for i in range(nc):\n",
    "    grid[\"StdevSimu\"]+=((grid[\"SimuSPDE.Thickness*\"][:,i]-grid[\"MeanSimu\"])**2)/nc\n",
    "grid[\"StdevSimu\"]=grid[\"StdevSimu\"]**0.5"
   ]
  }
 ],
 "metadata": {
  "hide_input": false,
  "kernelspec": {
   "display_name": "Python 3 (ipykernel)",
   "language": "python",
   "name": "python3"
  },
  "language_info": {
   "codemirror_mode": {
    "name": "ipython",
    "version": 3
   },
   "file_extension": ".py",
   "mimetype": "text/x-python",
   "name": "python",
   "nbconvert_exporter": "python",
   "pygments_lexer": "ipython3",
   "version": "3.10.5"
  },
  "toc": {
   "base_numbering": 1,
   "nav_menu": {},
   "number_sections": true,
   "sideBar": true,
   "skip_h1_title": false,
   "title_cell": "Table of Contents",
   "title_sidebar": "Contents",
   "toc_cell": false,
   "toc_position": {},
   "toc_section_display": true,
   "toc_window_display": false
  }
 },
 "nbformat": 4,
 "nbformat_minor": 5
}
