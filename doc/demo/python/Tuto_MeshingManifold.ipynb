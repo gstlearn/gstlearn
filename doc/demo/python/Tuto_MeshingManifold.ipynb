{
 "cells": [
  {
   "cell_type": "code",
   "execution_count": null,
   "id": "0856d4c8",
   "metadata": {},
   "outputs": [],
   "source": [
    "import numpy as np\n",
    "import os\n",
    "import pandas as pd\n",
    "import plotly.graph_objects as go\n",
    "import IPython\n",
    "path = os.path.join(\"../../data/Meshings/\")"
   ]
  },
  {
   "cell_type": "code",
   "execution_count": null,
   "id": "e921294c",
   "metadata": {},
   "outputs": [],
   "source": [
    "triangles = np.load(os.path.join(path,\"cow_mesh.npy\"))\n",
    "points = pd.read_csv(os.path.join(path,\"cow_points.txt\"),header=None,sep=\" \").values"
   ]
  },
  {
   "cell_type": "code",
   "execution_count": null,
   "id": "bd86afee",
   "metadata": {},
   "outputs": [],
   "source": [
    "points3d=dict(type='scatter3d',\n",
    "               x=points[:,0],\n",
    "               y=points[:,1],\n",
    "               z=points[:,2],\n",
    "               line=dict(color=None, width=.1),\n",
    "               marker_size = 1\n",
    "              )\n",
    "\n",
    "fig = go.Figure(data = [points3d])\n",
    "fig.show()"
   ]
  },
  {
   "cell_type": "code",
   "execution_count": null,
   "id": "db2e9ee1",
   "metadata": {},
   "outputs": [],
   "source": [
    "fig = go.Figure(data=[\n",
    "    go.Mesh3d(\n",
    "        x=points[:,0],\n",
    "        y=points[:,1],\n",
    "        z=points[:,2],\n",
    "        colorbar_title='z',\n",
    "        #colorscale=cscale,\n",
    "        # Intensity of each vertex, which will be interpolated and color-coded\n",
    "        intensity= points[:,0],\n",
    "        # i, j and k give the vertices of triangles\n",
    "        # here we represent the 4 triangles of the tetrahedron surface\n",
    "        i=triangles[:,0],\n",
    "        j=triangles[:,1],\n",
    "        k=triangles[:,2],\n",
    "    )\n",
    "])\n",
    "\n",
    "fig.show()"
   ]
  },
  {
   "cell_type": "code",
   "execution_count": null,
   "id": "65432914",
   "metadata": {},
   "outputs": [],
   "source": []
  }
 ],
 "metadata": {
  "kernelspec": {
   "display_name": "Python 3 (ipykernel)",
   "language": "python",
   "name": "python3"
  },
  "language_info": {
   "codemirror_mode": {
    "name": "ipython",
    "version": 3
   },
   "file_extension": ".py",
   "mimetype": "text/x-python",
   "name": "python",
   "nbconvert_exporter": "python",
   "pygments_lexer": "ipython3",
   "version": "3.10.5"
  }
 },
 "nbformat": 4,
 "nbformat_minor": 5
}
