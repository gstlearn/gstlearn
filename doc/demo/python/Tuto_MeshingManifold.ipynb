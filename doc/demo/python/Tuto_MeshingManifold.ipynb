{
 "cells": [
  {
   "cell_type": "markdown",
   "id": "12468c63",
   "metadata": {},
   "source": [
    "# Meshing on a Manifold"
   ]
  },
  {
   "cell_type": "markdown",
   "id": "7d5a0b17",
   "metadata": {},
   "source": [
    "<!-- SUMMARY: Generalization of the Meshing expanded to the case of any manifold. -->\n",
    "\n",
    "<!-- CATEGORY: Meshing_Technique -->"
   ]
  },
  {
   "cell_type": "code",
   "execution_count": 1,
   "id": "0856d4c8",
   "metadata": {},
   "outputs": [],
   "source": [
    "import numpy as np\n",
    "import os\n",
    "import pandas as pd\n",
    "import gstlearn as gl\n",
    "import gstlearn.document as gdoc\n",
    "import plotly.graph_objects as go\n",
    "import gstlearn.plot3D as gop\n",
    "import IPython"
   ]
  },
  {
   "cell_type": "code",
   "execution_count": 2,
   "id": "131e50cf",
   "metadata": {},
   "outputs": [],
   "source": [
    "filetri = gdoc.loadData(\"Meshings\", \"cow_mesh.txt\")\n",
    "filepts = gdoc.loadData(\"Meshings\", \"cow_points.txt\")"
   ]
  },
  {
   "cell_type": "code",
   "execution_count": 3,
   "id": "10cec750",
   "metadata": {},
   "outputs": [],
   "source": [
    "csv = gl.CSVformat(False, 0, ' ', '.')"
   ]
  },
  {
   "cell_type": "code",
   "execution_count": 4,
   "id": "e921294c",
   "metadata": {},
   "outputs": [],
   "source": [
    "triangles = pd.read_csv(filetri,header=None,sep=\" \").values\n",
    "points = pd.read_csv(filepts,header=None,sep=\" \").values"
   ]
  },
  {
   "cell_type": "code",
   "execution_count": 5,
   "id": "978624f0",
   "metadata": {},
   "outputs": [],
   "source": [
    "cow = gop.Scatter(points[:,0],points[:,1],points[:,2],mode='markers',m_size=0.3)"
   ]
  },
  {
   "cell_type": "code",
   "execution_count": null,
   "id": "d1317374",
   "metadata": {},
   "outputs": [],
   "source": [
    "fig = go.Figure(data = [cow])\n",
    "fig = fig.update_scenes(xaxis_visible=False, yaxis_visible=False, zaxis_visible=False )\n",
    "fig = fig.show()"
   ]
  },
  {
   "cell_type": "code",
   "execution_count": 7,
   "id": "e77a24b9",
   "metadata": {},
   "outputs": [],
   "source": [
    "simu = gop.ScatterOnMesh(points, triangles)\n",
    "simu['x'].tolist()\n",
    "simu['y'].tolist()\n",
    "simu['z'].tolist()"
   ]
  },
  {
   "cell_type": "code",
   "execution_count": null,
   "id": "15b5d42f",
   "metadata": {},
   "outputs": [],
   "source": [
    "fig = go.Figure(data = [simu])\n",
    "fig = fig.update_scenes(xaxis_visible=False, yaxis_visible=False, zaxis_visible=False )\n",
    "fig = fig.show()"
   ]
  },
  {
   "cell_type": "code",
   "execution_count": null,
   "id": "b57cf887",
   "metadata": {},
   "outputs": [],
   "source": []
  }
 ],
 "metadata": {
  "kernelspec": {
   "display_name": "Python 3 (ipykernel)",
   "language": "python",
   "name": "python3"
  },
  "language_info": {
   "codemirror_mode": {
    "name": "ipython",
    "version": 3
   },
   "file_extension": ".py",
   "mimetype": "text/x-python",
   "name": "python",
   "nbconvert_exporter": "python",
   "pygments_lexer": "ipython3",
   "version": "3.10.5"
  },
  "toc": {
   "base_numbering": 1,
   "nav_menu": {},
   "number_sections": true,
   "sideBar": true,
   "skip_h1_title": false,
   "title_cell": "Table of Contents",
   "title_sidebar": "Contents",
   "toc_cell": false,
   "toc_position": {},
   "toc_section_display": true,
   "toc_window_display": false
  }
 },
 "nbformat": 4,
 "nbformat_minor": 5
}
