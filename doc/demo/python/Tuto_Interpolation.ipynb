{
 "cells": [
  {
   "cell_type": "markdown",
   "metadata": {},
   "source": [
    "# Interpolations"
   ]
  },
  {
   "cell_type": "markdown",
   "metadata": {},
   "source": [
    "<!-- SUMMARY: Various interpolations from a set of Points to the nodes of a regular Grid.  -->\n",
    "\n",
    "<!-- CATEGORY: Methodology -->"
   ]
  },
  {
   "cell_type": "markdown",
   "metadata": {},
   "source": [
    "This Tutorial is meant to give some hints about using Interpolation methods in gstlearn"
   ]
  },
  {
   "cell_type": "code",
   "execution_count": null,
   "metadata": {},
   "outputs": [],
   "source": [
    "import numpy as np\n",
    "import pandas as pd\n",
    "import sys\n",
    "import os\n",
    "import gstlearn as gl\n",
    "import gstlearn.plot as gp\n",
    "import matplotlib.pyplot as plt"
   ]
  },
  {
   "cell_type": "markdown",
   "metadata": {},
   "source": [
    "Setting some global variables"
   ]
  },
  {
   "cell_type": "code",
   "execution_count": null,
   "metadata": {},
   "outputs": [],
   "source": [
    "# Set the Global Options\n",
    "verbose = True\n",
    "flagGraphic = True\n",
    "\n",
    "# Define the Space Dimension\n",
    "ndim = 2\n",
    "gl.defineDefaultSpace(gl.ESpaceType.RN, ndim)\n",
    "\n",
    "# Set the Seed for the Random Number generator\n",
    "gl.law_set_random_seed(32131)"
   ]
  },
  {
   "cell_type": "markdown",
   "metadata": {},
   "source": [
    "Generating an initial square grid covering a 1 by 1 surface (100 meshes along each direction)."
   ]
  },
  {
   "cell_type": "code",
   "execution_count": null,
   "metadata": {},
   "outputs": [],
   "source": [
    "grid = gl.DbGrid.create([100,100], [0.01,0.01])"
   ]
  },
  {
   "cell_type": "markdown",
   "metadata": {},
   "source": [
    "Creating a Data Set. The set is generated using a non-conditional geostatistical simulation (performed using the Turning Bands method). This simulation is first performed on the grid which is then sampled to constitute the Point Data Set."
   ]
  },
  {
   "cell_type": "code",
   "execution_count": null,
   "metadata": {},
   "outputs": [],
   "source": [
    "model = gl.Model.createFromParam(gl.ECov.EXPONENTIAL, 0.1, 1.)\n",
    "gl.simtub(None, grid, model)\n",
    "if verbose:\n",
    "    grid.display()\n",
    "    \n",
    "np = 100\n",
    "data = gl.Db.createSamplingDb(grid, 0., np, [\"x1\",\"x2\",\"Simu\"])\n",
    "if verbose:\n",
    "    data.display()"
   ]
  },
  {
   "cell_type": "code",
   "execution_count": null,
   "metadata": {},
   "outputs": [],
   "source": [
    "if flagGraphic:\n",
    "    ax = data.plot()\n",
    "    ax.decoration(title=\"Data Set\")\n",
    "    ax.geometry(xlim=[0,1],ylim=[0,1])"
   ]
  },
  {
   "cell_type": "markdown",
   "metadata": {},
   "source": [
    "## Interpolation using Moving Average technique"
   ]
  },
  {
   "cell_type": "markdown",
   "metadata": {},
   "source": [
    "In this paragraph, we experiment an interpolation based on Moving average technique. We need to define a Moving Neighborhood first"
   ]
  },
  {
   "cell_type": "code",
   "execution_count": null,
   "metadata": {},
   "outputs": [],
   "source": [
    "nmini = 5\n",
    "nmaxi = 5\n",
    "radius = 0.2\n",
    "neigh = gl.NeighMoving.create(False, nmaxi, radius, nmini)\n",
    "neigh.display()"
   ]
  },
  {
   "cell_type": "code",
   "execution_count": null,
   "metadata": {},
   "outputs": [],
   "source": [
    "gl.movingAverage(data, grid, neigh)\n",
    "if verbose:\n",
    "    grid.display()"
   ]
  },
  {
   "cell_type": "code",
   "execution_count": null,
   "metadata": {},
   "outputs": [],
   "source": [
    "if flagGraphic:\n",
    "    ax = grid.plot()\n",
    "    ax.decoration(title=\"Moving Average\")"
   ]
  },
  {
   "cell_type": "markdown",
   "metadata": {},
   "source": [
    "## Interpolation using Inverse Distance technique"
   ]
  },
  {
   "cell_type": "markdown",
   "metadata": {},
   "source": [
    "In this paragraph, we experiment an interpolation based on Inverse Distance technique. We use the squared distance weighting function (default option)."
   ]
  },
  {
   "cell_type": "code",
   "execution_count": null,
   "metadata": {},
   "outputs": [],
   "source": [
    "gl.inverseDistance(data, grid)\n",
    "if verbose:\n",
    "    grid.display()"
   ]
  },
  {
   "cell_type": "code",
   "execution_count": null,
   "metadata": {},
   "outputs": [],
   "source": [
    "if flagGraphic:\n",
    "    ax = grid.plot()\n",
    "    ax.decoration(title=\"Inverse Squared Distance\")"
   ]
  },
  {
   "cell_type": "markdown",
   "metadata": {},
   "source": [
    "## Least Square Polynomial Fit"
   ]
  },
  {
   "cell_type": "markdown",
   "metadata": {},
   "source": [
    "In this paragraph, we experiment an interpolation based on Least Square Polynomial Fit technique. We use a polynomial of degree 1, fitted locally (on the samples neighboring the target grid node). Note that a bigger neighborhood had to be defined (more than 5 samples per neighborhood)"
   ]
  },
  {
   "cell_type": "code",
   "execution_count": null,
   "metadata": {},
   "outputs": [],
   "source": [
    "nmini = 5\n",
    "nmaxi = 10\n",
    "radius = 0.5\n",
    "neigh = gl.NeighMoving.create(False, nmaxi, radius, nmini)\n",
    "neigh.display()"
   ]
  },
  {
   "cell_type": "code",
   "execution_count": null,
   "metadata": {},
   "outputs": [],
   "source": [
    "gl.leastSquares(data, grid, neigh, 1)\n",
    "if verbose:\n",
    "    grid.display()"
   ]
  },
  {
   "cell_type": "code",
   "execution_count": null,
   "metadata": {},
   "outputs": [],
   "source": [
    "if flagGraphic:\n",
    "    ax = grid.plot()\n",
    "    ax.decoration(title=\"Least Squares Polynomial Fit\")"
   ]
  },
  {
   "cell_type": "code",
   "execution_count": null,
   "metadata": {},
   "outputs": [],
   "source": []
  }
 ],
 "metadata": {
  "kernelspec": {
   "display_name": "Python 3 (ipykernel)",
   "language": "python",
   "name": "python3"
  },
  "language_info": {
   "codemirror_mode": {
    "name": "ipython",
    "version": 3
   },
   "file_extension": ".py",
   "mimetype": "text/x-python",
   "name": "python",
   "nbconvert_exporter": "python",
   "pygments_lexer": "ipython3",
   "version": "3.10.5"
  },
  "toc": {
   "base_numbering": 1,
   "nav_menu": {},
   "number_sections": true,
   "sideBar": true,
   "skip_h1_title": false,
   "title_cell": "Table of Contents",
   "title_sidebar": "Contents",
   "toc_cell": false,
   "toc_position": {},
   "toc_section_display": true,
   "toc_window_display": false
  }
 },
 "nbformat": 4,
 "nbformat_minor": 4
}
