{
 "cells": [
  {
   "cell_type": "markdown",
   "id": "5a1f9e8f",
   "metadata": {},
   "source": [
    "# Polygons"
   ]
  },
  {
   "cell_type": "markdown",
   "id": "01c1ae07",
   "metadata": {},
   "source": [
    "<!-- SUMMARY: Tutorial to demonstrate the use of a Polygon: established as the Convex Hull of data; after dilation -->\n",
    "\n",
    "<!-- CATEGORY: Basic_Objects -->"
   ]
  },
  {
   "cell_type": "markdown",
   "id": "e6707fd9",
   "metadata": {},
   "source": [
    "This case study reads information from the gstlearn repository. It is meant to show the possibilities on Polygons."
   ]
  },
  {
   "cell_type": "code",
   "execution_count": null,
   "id": "36f5de09",
   "metadata": {},
   "outputs": [],
   "source": [
    "import os\n",
    "import matplotlib.pyplot as plt\n",
    "import gstlearn as gl\n",
    "import gstlearn.plot as gp\n",
    "import gstlearn.document as gdoc\n",
    "import numpy as np\n",
    "import scipy as sp\n",
    "from scipy import interpolate\n",
    "\n",
    "gdoc.setNoScroll()"
   ]
  },
  {
   "cell_type": "markdown",
   "id": "8e997890",
   "metadata": {},
   "source": [
    "We read the contents of the Polygon definition from a CSV file."
   ]
  },
  {
   "cell_type": "code",
   "execution_count": null,
   "id": "47478042",
   "metadata": {},
   "outputs": [],
   "source": [
    "filename = gdoc.loadData(\"Alluvial\", \"Seine_Alluvial.csv\")\n",
    "csv = gl.CSVformat(False, 0, \";\", \",\", \"9999\")\n",
    "poly = gl.Polygons.createFromCSV(filename, csv, False)"
   ]
  },
  {
   "cell_type": "code",
   "execution_count": null,
   "id": "259bb4a3",
   "metadata": {},
   "outputs": [],
   "source": [
    "ax = poly.plot()\n",
    "ax.decoration(title=\"Polygon\")"
   ]
  },
  {
   "cell_type": "markdown",
   "id": "1ddb8f4f",
   "metadata": {},
   "source": [
    "The current polygon contains a large number of vertices."
   ]
  },
  {
   "cell_type": "code",
   "execution_count": null,
   "id": "60e37e8f",
   "metadata": {},
   "outputs": [],
   "source": [
    "poly.display(gl.AStringFormat(2))"
   ]
  },
  {
   "cell_type": "markdown",
   "id": "18c62b7f",
   "metadata": {},
   "source": [
    "We define a rotated grid which contains the whole alluvial plain."
   ]
  },
  {
   "cell_type": "code",
   "execution_count": null,
   "id": "a2acd8a5",
   "metadata": {},
   "outputs": [],
   "source": [
    "grid = gl.DbGrid()\n",
    "err = grid.reset([4000,3500],[100,100],[480000,6650000])"
   ]
  },
  {
   "cell_type": "code",
   "execution_count": null,
   "id": "b1d02b9c",
   "metadata": {},
   "outputs": [],
   "source": [
    "ax = grid.plot(alpha=0.3)\n",
    "ax = poly.plot()\n",
    "ax.decoration(title=\"Polygon in its alluvial plain\")"
   ]
  },
  {
   "cell_type": "markdown",
   "id": "675f794c",
   "metadata": {},
   "source": [
    "Reduce the complexity of the Polygon"
   ]
  },
  {
   "cell_type": "code",
   "execution_count": null,
   "id": "bbf786ce",
   "metadata": {},
   "outputs": [],
   "source": [
    "newpoly = poly.reduceComplexity(3000)\n",
    "newpoly.display(gl.AStringFormat(2))"
   ]
  },
  {
   "cell_type": "code",
   "execution_count": null,
   "id": "e9bd56ce",
   "metadata": {},
   "outputs": [],
   "source": [
    "ax = grid.plot(alpha=0.3)\n",
    "ax = newpoly.plot()\n",
    "ax = poly.plot(edgecolor='red')\n",
    "ax.decoration(title=\"(Simplified) Polygon in its alluvial plain\")"
   ]
  },
  {
   "cell_type": "markdown",
   "id": "7851a0aa",
   "metadata": {},
   "source": [
    "Use the simplified polygon to perform a coarse selection. At the same time, dilate this selected area in order to recover the initial space as much as possible."
   ]
  },
  {
   "cell_type": "code",
   "execution_count": null,
   "id": "18d5bf06",
   "metadata": {},
   "outputs": [],
   "source": [
    "err = gl.db_polygon(grid,newpoly,\n",
    "                   namconv = gl.NamingConvention(\"Coarse\",True, True, True, gl.ELoc.SEL))\n",
    "print(\"Number of active grid nodes =\",grid.getSampleNumber(True))"
   ]
  },
  {
   "cell_type": "code",
   "execution_count": null,
   "id": "b3e7a6e6",
   "metadata": {},
   "outputs": [],
   "source": [
    "grid.setLocator(\"Coarse\",gl.ELoc.Z)\n",
    "err = grid.morpho(gl.EMorpho.DILATION, option=1, radius = [30,30])\n",
    "grid.setLocator(\"Morpho*\",gl.ELoc.SEL)\n",
    "print(\"Number of active grid nodes =\",grid.getSampleNumber(True))"
   ]
  },
  {
   "cell_type": "code",
   "execution_count": null,
   "id": "3e428242",
   "metadata": {},
   "outputs": [],
   "source": [
    "ax = grid.plot(alpha=0.3)\n",
    "ax = newpoly.plot()\n",
    "ax = poly.plot(edgecolor='red')\n",
    "ax.decoration(title=\"(Simplified) Polygon in its dilated selection\")"
   ]
  }
 ],
 "metadata": {
  "kernelspec": {
   "display_name": "Python 3 (ipykernel)",
   "language": "python",
   "name": "python3"
  },
  "language_info": {
   "codemirror_mode": {
    "name": "ipython",
    "version": 3
   },
   "file_extension": ".py",
   "mimetype": "text/x-python",
   "name": "python",
   "nbconvert_exporter": "python",
   "pygments_lexer": "ipython3",
   "version": "3.10.5"
  },
  "toc": {
   "base_numbering": 1,
   "nav_menu": {},
   "number_sections": true,
   "sideBar": true,
   "skip_h1_title": false,
   "title_cell": "Table of Contents",
   "title_sidebar": "Contents",
   "toc_cell": false,
   "toc_position": {},
   "toc_section_display": true,
   "toc_window_display": false
  }
 },
 "nbformat": 4,
 "nbformat_minor": 5
}
