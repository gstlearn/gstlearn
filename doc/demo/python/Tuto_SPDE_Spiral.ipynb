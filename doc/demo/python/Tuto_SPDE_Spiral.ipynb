{
 "cells": [
  {
   "cell_type": "markdown",
   "id": "dcb98282",
   "metadata": {},
   "source": [
    "# SPDE for Spiral Anisotropy"
   ]
  },
  {
   "cell_type": "markdown",
   "id": "1234b33e",
   "metadata": {},
   "source": [
    "<!-- SUMMARY: Estimation and Simulations performed with a non-stationary anisotropy of the covariance (spiral form), treated in the SPDE formalism -->\n",
    "\n",
    "<!-- CATEGORY: SPDE -->"
   ]
  },
  {
   "cell_type": "markdown",
   "id": "abbf8ac0",
   "metadata": {},
   "source": [
    "In this tutorial, we show how the use of SPDE for Varying Anisotropy when this Anisotropy must follow a Spiral shape (defined as an external function)"
   ]
  },
  {
   "cell_type": "code",
   "execution_count": null,
   "id": "aea2002c",
   "metadata": {},
   "outputs": [],
   "source": [
    "import gstlearn as gl\n",
    "import gstlearn.plot as gp\n",
    "import gstlearn.document as gdoc\n",
    "import numpy as np\n",
    "import numpy as np\n",
    "import random\n",
    "import math\n",
    "\n",
    "gdoc.setNoScroll()"
   ]
  },
  {
   "cell_type": "markdown",
   "id": "c4c1ed8d",
   "metadata": {},
   "source": [
    "Defining the Model as a single Matern structure. This function is defined as anisotropic: we clearly specify the extension of the ranges in the two main directions. The angle does not have to be defined here: it will be overwritten later as the non-stationary parameter.\n",
    "Note that it is essential to define the short range of the anisotropy ellipsoid first (for the definition of angle as defined in the Spiral function used as a function)... otherwise future results will represent the shape otabined as the *orthogonal* of the spirale."
   ]
  },
  {
   "cell_type": "code",
   "execution_count": null,
   "id": "0eeb98fa",
   "metadata": {},
   "outputs": [],
   "source": [
    "model = gl.Model.createFromParam(gl.ECov.MATERN, 1., 1., 1., [4.,45.])"
   ]
  },
  {
   "cell_type": "markdown",
   "id": "6ba984f8",
   "metadata": {},
   "source": [
    "A Spiral function is defined and attached to the Model: this is a manner to update the Model by transforming the anisotropy angle as the *unique* non-stationary parameter."
   ]
  },
  {
   "cell_type": "code",
   "execution_count": null,
   "id": "3dce8aef",
   "metadata": {},
   "outputs": [],
   "source": [
    "spirale = gl.FunctionalSpirale(0., -1.4, 1., 1., 50., 50.)\n",
    "cova = model.getCovAniso(0)\n",
    "cova.makeAngleNoStatFunctional(spirale)"
   ]
  },
  {
   "cell_type": "markdown",
   "id": "6b39ebc3",
   "metadata": {},
   "source": [
    "A visualisation of the non-stationarity can be otanined in the following paragraph. The angle is represented at each node of a grid. For better legibility the grid is defined as a coarse grid."
   ]
  },
  {
   "cell_type": "code",
   "execution_count": null,
   "id": "43f92d7e",
   "metadata": {},
   "outputs": [],
   "source": [
    "coarse = gl.DbGrid.create([26,26],[4.,4.])\n",
    "res = gp.covaOnGrid(cova, coarse, scale=2000)"
   ]
  },
  {
   "cell_type": "markdown",
   "id": "dd394ccd",
   "metadata": {},
   "source": [
    "Creating a output grid"
   ]
  },
  {
   "cell_type": "code",
   "execution_count": null,
   "id": "de95af3a",
   "metadata": {},
   "outputs": [],
   "source": [
    "grid = gl.DbGrid.create([101,101],[1.,1.]) "
   ]
  },
  {
   "cell_type": "markdown",
   "id": "ee4e0768",
   "metadata": {},
   "source": [
    "Perform several non-conditional simulations on the grid, using the Model and the non-stationarity."
   ]
  },
  {
   "cell_type": "code",
   "execution_count": null,
   "id": "70c3650a",
   "metadata": {},
   "outputs": [],
   "source": [
    "nbsimu = 4\n",
    "iuid = gl.simulateSPDE(None,grid,model,None,nbsimu)\n",
    "grid"
   ]
  },
  {
   "cell_type": "markdown",
   "id": "d505ed83",
   "metadata": {},
   "source": [
    "We represent the non-conditional simulations"
   ]
  },
  {
   "cell_type": "code",
   "execution_count": null,
   "id": "dd242fe1",
   "metadata": {},
   "outputs": [],
   "source": [
    "vmin = -4\n",
    "vmax = +4\n",
    "fig, ax = gp.init(2, 2, figsize=(16,12))\n",
    "ax[0,0].raster(grid,name=\"SimuSPDE.1\", useSel=False, vmin=vmin, vmax=vmax)\n",
    "ax[0,1].raster(grid,name=\"SimuSPDE.2\", useSel=False, vmin=vmin, vmax=vmax)\n",
    "ax[1,0].raster(grid,name=\"SimuSPDE.3\", useSel=False, vmin=vmin, vmax=vmax)\n",
    "ax[1,1].raster(grid,name=\"SimuSPDE.4\", useSel=False, vmin=vmin, vmax=vmax)\n",
    "fig.subplots_adjust(right=0.7)"
   ]
  },
  {
   "cell_type": "markdown",
   "id": "ad119be5",
   "metadata": {},
   "source": [
    "Extracting a set of nodes randomly located in order to create a data file which will serve as conditioning. The data is extracted from the first non-conditional simulation."
   ]
  },
  {
   "cell_type": "code",
   "execution_count": null,
   "id": "75c881cf",
   "metadata": {},
   "outputs": [],
   "source": [
    "data = gl.Db.createSamplingDb(grid, number=100, names=[\"x1\", \"x2\", \"SimuSPDE.1\"])\n",
    "data.setName(\"SimuSPDE.1\", \"data\")\n",
    "data"
   ]
  },
  {
   "cell_type": "code",
   "execution_count": null,
   "id": "6803f570",
   "metadata": {},
   "outputs": [],
   "source": [
    "res = gp.plot(data, nameColor=\"data\")"
   ]
  },
  {
   "cell_type": "markdown",
   "id": "e2707fd9",
   "metadata": {},
   "source": [
    "Use the previous data set (and the non-stationary Model) in order to perform an estimation"
   ]
  },
  {
   "cell_type": "code",
   "execution_count": null,
   "id": "a86b3f0c",
   "metadata": {},
   "outputs": [],
   "source": [
    "iuid = gl.krigingSPDE(data,grid,model)\n",
    "grid"
   ]
  },
  {
   "cell_type": "markdown",
   "id": "2b5e39e5",
   "metadata": {},
   "source": [
    "Representing the Estimation obtained on the Grid"
   ]
  },
  {
   "cell_type": "code",
   "execution_count": null,
   "id": "196b3bef",
   "metadata": {},
   "outputs": [],
   "source": [
    "res = gp.plot(grid, \"KrigingSPDE.data.estim\")"
   ]
  },
  {
   "cell_type": "markdown",
   "id": "e906a777",
   "metadata": {},
   "source": [
    "Performing several conditional simulation"
   ]
  },
  {
   "cell_type": "code",
   "execution_count": null,
   "id": "72e73217",
   "metadata": {},
   "outputs": [],
   "source": [
    "nbsimu = 4\n",
    "iuid = gl.simulateSPDE(data,grid,model,None,nbsimu, namconv=gl.NamingConvention(\"CondSimu\"))\n",
    "grid"
   ]
  },
  {
   "cell_type": "markdown",
   "id": "1356250a",
   "metadata": {},
   "source": [
    "Representing the conditional simulations"
   ]
  },
  {
   "cell_type": "code",
   "execution_count": null,
   "id": "1d8a52f4",
   "metadata": {},
   "outputs": [],
   "source": [
    "vmin = -4\n",
    "vmax = +4\n",
    "fig, ax = gp.init(2,2,figsize=(16,12))\n",
    "ax[0,0].raster(grid,name=\"CondSimu.*.1\", useSel=False, vmin=vmin, vmax=vmax)\n",
    "ax[0,1].raster(grid,name=\"CondSimu.*.2\", useSel=False, vmin=vmin, vmax=vmax)\n",
    "ax[1,0].raster(grid,name=\"CondSimu.*.3\", useSel=False, vmin=vmin, vmax=vmax)\n",
    "ax[1,1].raster(grid,name=\"CondSimu.*.4\", useSel=False, vmin=vmin, vmax=vmax)\n",
    "\n",
    "fig.subplots_adjust(right=0.7)"
   ]
  },
  {
   "cell_type": "code",
   "execution_count": null,
   "id": "d8c2d37b",
   "metadata": {},
   "outputs": [],
   "source": [
    "model"
   ]
  }
 ],
 "metadata": {
  "kernelspec": {
   "display_name": "Python 3 (ipykernel)",
   "language": "python",
   "name": "python3"
  },
  "language_info": {
   "codemirror_mode": {
    "name": "ipython",
    "version": 3
   },
   "file_extension": ".py",
   "mimetype": "text/x-python",
   "name": "python",
   "nbconvert_exporter": "python",
   "pygments_lexer": "ipython3",
   "version": "3.10.5"
  },
  "toc": {
   "base_numbering": 1,
   "nav_menu": {},
   "number_sections": true,
   "sideBar": true,
   "skip_h1_title": false,
   "title_cell": "Table of Contents",
   "title_sidebar": "Contents",
   "toc_cell": false,
   "toc_position": {},
   "toc_section_display": true,
   "toc_window_display": false
  }
 },
 "nbformat": 4,
 "nbformat_minor": 5
}
