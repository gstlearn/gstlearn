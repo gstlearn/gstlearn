{
 "cells": [
  {
   "cell_type": "markdown",
   "id": "d230fa8f",
   "metadata": {},
   "source": [
    "# SPDE for Spiral Anisotropy"
   ]
  },
  {
   "cell_type": "markdown",
   "id": "728509bd",
   "metadata": {},
   "source": [
    "<!-- SUMMARY: Estimation and Simulations performed with a non-stationary anisotropy of the covariance (spiral form), treated in the SPDE formalism -->\n",
    "\n",
    "<!-- CATEGORY: SPDE -->"
   ]
  },
  {
   "cell_type": "markdown",
   "id": "d0734a3e",
   "metadata": {},
   "source": [
    "In this tutorial, we show how the use of SPDE for Varying Anisotropy when this Anisotropy must follow a Spiral shape (defined as an external function)"
   ]
  },
  {
   "cell_type": "code",
   "execution_count": null,
   "id": "c4edccdd",
   "metadata": {},
   "outputs": [],
   "source": [
    "import gstlearn as gl\n",
    "import gstlearn.plot as gp\n",
    "import gstlearn.document as gdoc\n",
    "import numpy as np\n",
    "import matplotlib.pyplot as plt\n",
    "import numpy as np\n",
    "import random\n",
    "import math\n",
    "\n",
    "gdoc.setNoScroll()"
   ]
  },
  {
   "cell_type": "markdown",
   "id": "4b6afe0f",
   "metadata": {},
   "source": [
    "Defining the Model as a single Matern structure. This function is defined as anisotropic: we clearly specify the extension of the ranges in the two main directions. The angle does not have to be defined here: it will be overwritten later as the non-stationary parameter.\n",
    "Note that it is essential to define the short range of the anisotropy ellipsoid first (for the definition of angle as defined in the Spiral function used as a function)... otherwise future results will represent the shape otabined as the *orthogonal* of the spirale."
   ]
  },
  {
   "cell_type": "code",
   "execution_count": null,
   "id": "31bf23d6",
   "metadata": {},
   "outputs": [],
   "source": [
    "model = gl.Model.createFromParam(gl.ECov.MATERN, 1., 1., 1., [4.,45.])"
   ]
  },
  {
   "cell_type": "markdown",
   "id": "94acda80",
   "metadata": {},
   "source": [
    "A Spiral function is defined and attached to the Model: this is a manner to update the Model by transforming the anisotropy angle as the *unique* non-stationary parameter."
   ]
  },
  {
   "cell_type": "code",
   "execution_count": null,
   "id": "9eef28a5",
   "metadata": {},
   "outputs": [],
   "source": [
    "spirale = gl.FunctionalSpirale(0., -1.4, 1., 1., 50., 50.)\n",
    "cova = model.getCovAniso(0)\n",
    "cova.makeAngleNoStatFunctional(spirale)"
   ]
  },
  {
   "cell_type": "markdown",
   "id": "6b354572",
   "metadata": {},
   "source": [
    "A visualisation of the non-stationarity can be otanined in the following paragraph. The angle is represented at each node of a grid. For better legibility the grid is defined as a coarse grid."
   ]
  },
  {
   "cell_type": "code",
   "execution_count": null,
   "id": "a71ba1b8",
   "metadata": {},
   "outputs": [],
   "source": [
    "coarse = gl.DbGrid.create([26,26],[4.,4.])\n",
    "res = gp.covaOnGrid(cova, coarse, scale=2000)"
   ]
  },
  {
   "cell_type": "markdown",
   "id": "f53411a2",
   "metadata": {},
   "source": [
    "Creating a output grid"
   ]
  },
  {
   "cell_type": "code",
   "execution_count": null,
   "id": "be9f4da2",
   "metadata": {},
   "outputs": [],
   "source": [
    "grid = gl.DbGrid.create([101,101],[1.,1.]) "
   ]
  },
  {
   "cell_type": "markdown",
   "id": "7dd373ae",
   "metadata": {},
   "source": [
    "Perform several non-conditional simulations on the grid, using the Model and the non-stationarity."
   ]
  },
  {
   "cell_type": "code",
   "execution_count": null,
   "id": "8c9e297a",
   "metadata": {},
   "outputs": [],
   "source": [
    "nbsimu = 4\n",
    "iuid = gl.simulateSPDE(None,grid,model,None,nbsimu)\n",
    "grid"
   ]
  },
  {
   "cell_type": "markdown",
   "id": "25c17fba",
   "metadata": {},
   "source": [
    "We represent the non-conditional simulations"
   ]
  },
  {
   "cell_type": "code",
   "execution_count": null,
   "id": "996aa5ce",
   "metadata": {},
   "outputs": [],
   "source": [
    "vmin = -4\n",
    "vmax = +4\n",
    "fig, ax = plt.subplots(2, 2, figsize=(16,12))\n",
    "ax[0,0].raster(grid,name=\"SimuSPDE.1\", useSel=False, vmin=vmin, vmax=vmax)\n",
    "ax[0,1].raster(grid,name=\"SimuSPDE.2\", useSel=False, vmin=vmin, vmax=vmax)\n",
    "ax[1,0].raster(grid,name=\"SimuSPDE.3\", useSel=False, vmin=vmin, vmax=vmax)\n",
    "ax[1,1].raster(grid,name=\"SimuSPDE.4\", useSel=False, vmin=vmin, vmax=vmax)\n",
    "fig.subplots_adjust(right=0.7)"
   ]
  },
  {
   "cell_type": "markdown",
   "id": "96113d84",
   "metadata": {},
   "source": [
    "Extracting a set of nodes randomly located in order to create a data file which will serve as conditioning. The data is extracted from the first non-conditional simulation."
   ]
  },
  {
   "cell_type": "code",
   "execution_count": null,
   "id": "a70ac43b",
   "metadata": {},
   "outputs": [],
   "source": [
    "data = gl.Db.createSamplingDb(grid, number=100, names=[\"x1\", \"x2\", \"SimuSPDE.1\"])\n",
    "data.setName(\"SimuSPDE.1\", \"data\")\n",
    "data"
   ]
  },
  {
   "cell_type": "code",
   "execution_count": null,
   "id": "ec05d194",
   "metadata": {},
   "outputs": [],
   "source": [
    "res = gp.plot(data, nameColor=\"data\")"
   ]
  },
  {
   "cell_type": "markdown",
   "id": "bf45b602",
   "metadata": {},
   "source": [
    "Use the previous data set (and the non-stationary Model) in order to perform an estimation"
   ]
  },
  {
   "cell_type": "code",
   "execution_count": null,
   "id": "b6f06ebe",
   "metadata": {},
   "outputs": [],
   "source": [
    "iuid = gl.krigingSPDE(data,grid,model)\n",
    "grid"
   ]
  },
  {
   "cell_type": "markdown",
   "id": "8aea4e28",
   "metadata": {},
   "source": [
    "Representing the Estimation obtained on the Grid"
   ]
  },
  {
   "cell_type": "code",
   "execution_count": null,
   "id": "cfb3a5ac",
   "metadata": {},
   "outputs": [],
   "source": [
    "res = gp.plot(grid, \"KrigingSPDE.data.estim\")"
   ]
  },
  {
   "cell_type": "markdown",
   "id": "260e5303",
   "metadata": {},
   "source": [
    "Performing several conditional simulation"
   ]
  },
  {
   "cell_type": "code",
   "execution_count": null,
   "id": "712da168",
   "metadata": {},
   "outputs": [],
   "source": [
    "nbsimu = 4\n",
    "iuid = gl.simulateSPDE(data,grid,model,None,nbsimu, namconv=gl.NamingConvention(\"CondSimu\"))\n",
    "grid"
   ]
  },
  {
   "cell_type": "markdown",
   "id": "bcadf7d6",
   "metadata": {},
   "source": [
    "Representing the conditional simulations"
   ]
  },
  {
   "cell_type": "code",
   "execution_count": null,
   "id": "0c24915b",
   "metadata": {},
   "outputs": [],
   "source": [
    "vmin = -4\n",
    "vmax = +4\n",
    "fig, ax = plt.subplots(2,2,figsize=(16,12))\n",
    "ax[0,0].raster(grid,name=\"CondSimu.*.1\", useSel=False, vmin=vmin, vmax=vmax)\n",
    "ax[0,1].raster(grid,name=\"CondSimu.*.2\", useSel=False, vmin=vmin, vmax=vmax)\n",
    "ax[1,0].raster(grid,name=\"CondSimu.*.3\", useSel=False, vmin=vmin, vmax=vmax)\n",
    "ax[1,1].raster(grid,name=\"CondSimu.*.4\", useSel=False, vmin=vmin, vmax=vmax)\n",
    "\n",
    "fig.subplots_adjust(right=0.7)"
   ]
  },
  {
   "cell_type": "code",
   "execution_count": null,
   "id": "a782f2de",
   "metadata": {},
   "outputs": [],
   "source": [
    "model"
   ]
  }
 ],
 "metadata": {
  "kernelspec": {
   "display_name": "Python 3 (ipykernel)",
   "language": "python",
   "name": "python3"
  },
  "language_info": {
   "codemirror_mode": {
    "name": "ipython",
    "version": 3
   },
   "file_extension": ".py",
   "mimetype": "text/x-python",
   "name": "python",
   "nbconvert_exporter": "python",
   "pygments_lexer": "ipython3",
   "version": "3.10.5"
  },
  "toc": {
   "base_numbering": 1,
   "nav_menu": {},
   "number_sections": true,
   "sideBar": true,
   "skip_h1_title": false,
   "title_cell": "Table of Contents",
   "title_sidebar": "Contents",
   "toc_cell": false,
   "toc_position": {},
   "toc_section_display": true,
   "toc_window_display": false
  }
 },
 "nbformat": 4,
 "nbformat_minor": 5
}
