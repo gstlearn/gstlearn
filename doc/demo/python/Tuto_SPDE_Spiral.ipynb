{
 "cells": [
  {
   "cell_type": "markdown",
   "id": "339358ce",
   "metadata": {},
   "source": [
    "# SPDE for Spiral Anisotropy"
   ]
  },
  {
   "cell_type": "markdown",
   "id": "377539c1",
   "metadata": {},
   "source": [
    "<!-- SUMMARY: Estimation and Simulations performed with a non-stationary anisotropy of the covariance (spiral form), treated in the SPDE formalism -->\n",
    "\n",
    "<!-- CATEGORY: SPDE -->"
   ]
  },
  {
   "cell_type": "markdown",
   "id": "ab7ecda2",
   "metadata": {},
   "source": [
    "In this tutorial, we show how the use of SPDE for Varying Anisotropy when this Anisotropy must follow a Spiral shape (defined as an external function)"
   ]
  },
  {
   "cell_type": "code",
   "execution_count": 1,
   "id": "51f42d23",
   "metadata": {},
   "outputs": [
    {
     "data": {
      "application/javascript": "\nIPython.OutputArea.prototype._should_scroll = function(lines) {\n    return false;\n}\n",
      "text/plain": [
       "<IPython.core.display.Javascript object>"
      ]
     },
     "metadata": {},
     "output_type": "display_data"
    }
   ],
   "source": [
    "import gstlearn as gl\n",
    "import gstlearn.plot as gp\n",
    "import gstlearn.document as gdoc\n",
    "import numpy as np\n",
    "import matplotlib.pyplot as plt\n",
    "import numpy as np\n",
    "import random\n",
    "import math\n",
    "\n",
    "gdoc.setNoScroll()"
   ]
  },
  {
   "cell_type": "markdown",
   "id": "f0aba64f",
   "metadata": {},
   "source": [
    "Defining the Model as a single Bessel structure. This function is defined as anisotropic: we clearly specify the extension of the ranges in the two main directions. The angle does not have to be defined here: it will be overwritten later as the non-stationary parameter.\n",
    "Note that it is essential to define the short range of the anisotropy ellipsoid first (for the definition of angle as defined in the Spiral function used as a function)... otherwise future results will represent the shape otabined as the *orthogonal* of the spirale."
   ]
  },
  {
   "cell_type": "code",
   "execution_count": 2,
   "id": "400c72c6",
   "metadata": {},
   "outputs": [],
   "source": [
    "model = gl.Model.createFromParam(gl.ECov.MATERN, 1., 1., 1., [4.,45.])"
   ]
  },
  {
   "cell_type": "markdown",
   "id": "11d0c699",
   "metadata": {},
   "source": [
    "A Spiral function is defined and attached to the Model: this is a manner to update the Model by transforming the anisotropy angle as the *unique* non-stationary parameter."
   ]
  },
  {
   "cell_type": "code",
   "execution_count": 3,
   "id": "dff52330",
   "metadata": {},
   "outputs": [
    {
     "name": "stdout",
     "output_type": "stream",
     "text": [
      "\n",
      "Model characteristics\n",
      "=====================\n",
      "Space dimension              = 2\n",
      "Number of variable(s)        = 1\n",
      "Number of basic structure(s) = 1\n",
      "Number of drift function(s)  = 0\n",
      "Number of drift equation(s)  = 0\n",
      "\n",
      "Covariance Part\n",
      "---------------\n",
      "K-Bessel (Third Parameter = 1)\n",
      "- Sill         =      1.000\n",
      "- Ranges       =      4.000    45.000\n",
      "- Theo. Ranges =      1.155    12.990\n",
      "Total Sill     =      1.000\n",
      "Known Mean(s)     0.000\n"
     ]
    }
   ],
   "source": [
    "spirale = gl.FunctionalSpirale(0., -1.4, 1., 1., 50., 50.)\n",
    "nostat = gl.NoStatFunctional(spirale)\n",
    "model.addNoStat(nostat)\n",
    "model.display()"
   ]
  },
  {
   "cell_type": "markdown",
   "id": "4b9e0283",
   "metadata": {},
   "source": [
    "A visualisation of the non-stationarity can be otanined in the following paragraph. The angle is represented at each node of a grid. For better legibility the grid is defined as a coarse grid."
   ]
  },
  {
   "cell_type": "code",
   "execution_count": 4,
   "id": "11244ff4",
   "metadata": {},
   "outputs": [
    {
     "name": "stdout",
     "output_type": "stream",
     "text": [
      "No variable name corresponding to your criterion\n",
      "No variable name corresponding to your criterion\n",
      "No variable name corresponding to your criterion\n"
     ]
    },
    {
     "data": {
      "image/png": "[encoded data removed]",
      "text/plain": [
       "<Figure size 576x576 with 1 Axes>"
      ]
     },
     "metadata": {
      "needs_background": "light"
     },
     "output_type": "display_data"
    }
   ],
   "source": [
    "coarse = gl.DbGrid.create([26,26],[4.,4.])\n",
    "ax = gp.modelOnGrid(model, coarse, scale=2000)"
   ]
  },
  {
   "cell_type": "markdown",
   "id": "36ebf4f7",
   "metadata": {},
   "source": [
    "Creating a output grid"
   ]
  },
  {
   "cell_type": "code",
   "execution_count": null,
   "id": "0f59c350",
   "metadata": {},
   "outputs": [],
   "source": [
    "grid = gl.DbGrid.create([101,101],[1.,1.]) "
   ]
  },
  {
   "cell_type": "markdown",
   "id": "f7777058",
   "metadata": {},
   "source": [
    "Perform several non-conditional simulations on the grid, using the Model and the non-stationarity."
   ]
  },
  {
   "cell_type": "code",
   "execution_count": null,
   "id": "46e6b5b3",
   "metadata": {},
   "outputs": [],
   "source": [
    "nbsimu = 4\n",
    "iuid = gl.simulateSPDE(None,grid,model,nbsimu)\n",
    "grid"
   ]
  },
  {
   "cell_type": "markdown",
   "id": "1eb4d8af",
   "metadata": {},
   "source": [
    "We represent the non-conditional simulations"
   ]
  },
  {
   "cell_type": "code",
   "execution_count": null,
   "id": "02f41314",
   "metadata": {},
   "outputs": [],
   "source": [
    "fig = plt.figure(figsize=(16,12))\n",
    "vmin = -4\n",
    "vmax = +4\n",
    "ax1 = fig.add_subplot(2,2,1)\n",
    "ax1.raster(grid,name=\"SimuSPDE.1\", useSel=False, flagLegend = False, vmin=vmin, vmax=vmax)\n",
    "ax2 = fig.add_subplot(2,2,2)\n",
    "ax2.raster(grid,name=\"SimuSPDE.2\", useSel=False, flagLegend = False, vmin=vmin, vmax=vmax)\n",
    "ax3 = fig.add_subplot(2,2,3)\n",
    "ax3.raster(grid,name=\"SimuSPDE.3\", useSel=False, flagLegend = False, vmin=vmin, vmax=vmax)\n",
    "ax4 = fig.add_subplot(2,2,4)\n",
    "ax4.raster(grid,name=\"SimuSPDE.4\", useSel=False, flagLegend = False, vmin=vmin, vmax=vmax)\n",
    "\n",
    "fig.subplots_adjust(right=0.7)"
   ]
  },
  {
   "cell_type": "markdown",
   "id": "55e654f3",
   "metadata": {},
   "source": [
    "Extracting a set of nodes randomly located in order to create a data file which will serve as conditioning. The data is extracted from the first non-conditional simulation."
   ]
  },
  {
   "cell_type": "code",
   "execution_count": null,
   "id": "b8068b4a",
   "metadata": {},
   "outputs": [],
   "source": [
    "data = gl.Db.createSamplingDb(grid, number=100, names=[\"x1\", \"x2\", \"SimuSPDE.1\"])\n",
    "data.setName(\"SimuSPDE.1\", \"data\")\n",
    "data"
   ]
  },
  {
   "cell_type": "code",
   "execution_count": null,
   "id": "b6badc8b",
   "metadata": {},
   "outputs": [],
   "source": [
    "gp.plot(data, nameColor=\"data\")"
   ]
  },
  {
   "cell_type": "markdown",
   "id": "82d40c17",
   "metadata": {},
   "source": [
    "Use the previous data set (and the non-stationary Model) in order to perform an estimation"
   ]
  },
  {
   "cell_type": "code",
   "execution_count": null,
   "id": "bcd9a0ba",
   "metadata": {},
   "outputs": [],
   "source": [
    "iuid = gl.krigingSPDE(data,grid,model)\n",
    "grid"
   ]
  },
  {
   "cell_type": "markdown",
   "id": "7596c935",
   "metadata": {},
   "source": [
    "Representing the Estimation obtained on the Grid"
   ]
  },
  {
   "cell_type": "code",
   "execution_count": null,
   "id": "b8ca5359",
   "metadata": {},
   "outputs": [],
   "source": [
    "gp.plot(grid, \"KrigingSPDE.data.estim\")"
   ]
  },
  {
   "cell_type": "markdown",
   "id": "4899d04a",
   "metadata": {},
   "source": [
    "Performing several conditional simulation"
   ]
  },
  {
   "cell_type": "code",
   "execution_count": null,
   "id": "b2f87e6d",
   "metadata": {},
   "outputs": [],
   "source": [
    "nbsimu = 4\n",
    "iuid = gl.simulateSPDE(data,grid,model,nbsimu, namconv=gl.NamingConvention(\"CondSimu\"))\n",
    "grid"
   ]
  },
  {
   "cell_type": "markdown",
   "id": "1a8efeff",
   "metadata": {},
   "source": [
    "Representing the conditional simulations"
   ]
  },
  {
   "cell_type": "code",
   "execution_count": null,
   "id": "92e066d9",
   "metadata": {},
   "outputs": [],
   "source": [
    "fig = plt.figure(figsize=(16,12))\n",
    "vmin = -4\n",
    "vmax = +4\n",
    "ax1 = fig.add_subplot(2,2,1)\n",
    "ax1.raster(grid,name=\"CondSimu.*.1\", useSel=False, flagLegend = False, vmin=vmin, vmax=vmax)\n",
    "ax2 = fig.add_subplot(2,2,2)\n",
    "ax2.raster(grid,name=\"CondSimu.*.2\", useSel=False, flagLegend = False, vmin=vmin, vmax=vmax)\n",
    "ax3 = fig.add_subplot(2,2,3)\n",
    "ax3.raster(grid,name=\"CondSimu.*.3\", useSel=False, flagLegend = False, vmin=vmin, vmax=vmax)\n",
    "ax4 = fig.add_subplot(2,2,4)\n",
    "ax4.raster(grid,name=\"CondSimu.*.4\", useSel=False, flagLegend = False, vmin=vmin, vmax=vmax)\n",
    "\n",
    "fig.subplots_adjust(right=0.7)"
   ]
  }
 ],
 "metadata": {
  "kernelspec": {
   "display_name": "Python 3 (ipykernel)",
   "language": "python",
   "name": "python3"
  },
  "language_info": {
   "codemirror_mode": {
    "name": "ipython",
    "version": 3
   },
   "file_extension": ".py",
   "mimetype": "text/x-python",
   "name": "python",
   "nbconvert_exporter": "python",
   "pygments_lexer": "ipython3",
   "version": "3.10.5"
  },
  "toc": {
   "base_numbering": 1,
   "nav_menu": {},
   "number_sections": true,
   "sideBar": true,
   "skip_h1_title": false,
   "title_cell": "Table of Contents",
   "title_sidebar": "Contents",
   "toc_cell": false,
   "toc_position": {},
   "toc_section_display": true,
   "toc_window_display": false
  }
 },
 "nbformat": 4,
 "nbformat_minor": 5
}
