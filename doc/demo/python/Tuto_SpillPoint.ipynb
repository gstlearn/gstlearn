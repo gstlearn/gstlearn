{
 "cells": [
  {
   "cell_type": "markdown",
   "metadata": {},
   "source": [
    "# Learning about Spill Point algorithm"
   ]
  },
  {
   "cell_type": "markdown",
   "metadata": {},
   "source": [
    "<!-- SUMMARY: Calculate the Spill Point on a Surface -->\n",
    "\n",
    "<!-- CATEGORY: Data_Base_Management -->"
   ]
  },
  {
   "cell_type": "markdown",
   "metadata": {},
   "source": [
    "This Tutorial is meant to give some hints about using Spill Point method in gstlearn"
   ]
  },
  {
   "cell_type": "code",
   "execution_count": null,
   "metadata": {},
   "outputs": [],
   "source": [
    "%%javascript\n",
    "IPython.OutputArea.prototype._should_scroll = function(lines) {\n",
    "    return false;\n",
    "}"
   ]
  },
  {
   "cell_type": "markdown",
   "metadata": {},
   "source": [
    "## Import packages"
   ]
  },
  {
   "cell_type": "code",
   "execution_count": null,
   "metadata": {},
   "outputs": [],
   "source": [
    "import numpy as np\n",
    "import pandas as pd\n",
    "import sys\n",
    "import os\n",
    "import matplotlib.pyplot as plt\n",
    "import gstlearn as gl\n",
    "import gstlearn.plot as gp"
   ]
  },
  {
   "cell_type": "markdown",
   "metadata": {},
   "source": [
    "Setting some global variables"
   ]
  },
  {
   "cell_type": "code",
   "execution_count": null,
   "metadata": {},
   "outputs": [],
   "source": [
    "# Define the Space Dimension\n",
    "ndim = 2\n",
    "gl.defineDefaultSpace(gl.ESpaceType.RN, ndim)\n",
    "\n",
    "# Set the Seed for the Random Number generator\n",
    "gl.law_set_random_seed(32131)"
   ]
  },
  {
   "cell_type": "markdown",
   "metadata": {},
   "source": [
    "Generating an initial square grid covering a 1.5 by 1 surface (100 meshes along each direction)"
   ]
  },
  {
   "cell_type": "code",
   "execution_count": null,
   "metadata": {},
   "outputs": [],
   "source": [
    "#grid = gl.DbGrid.create([150,100], [0.01,0.01])\n",
    "grid = gl.DbGrid.create([50,20], [0.05,0.05])\n",
    "uid = grid.addColumnsByConstant(valinit=0., radix=\"Data\")"
   ]
  },
  {
   "cell_type": "markdown",
   "metadata": {},
   "source": [
    "Creating a Data Set. The set is generated using a non-conditional geostatistical simulation (performed using the Turning Bands method). This simulation is first performed on the grid which is then sampled to constitute the Point Data Set."
   ]
  },
  {
   "cell_type": "code",
   "execution_count": null,
   "metadata": {},
   "outputs": [],
   "source": [
    "model = gl.Model.createFromParam(gl.ECov.CUBIC, range=0.3)\n",
    "err = gl.simtub(None, grid, model, namconv=gl.NamingConvention(\"Topo\",False, False))"
   ]
  },
  {
   "cell_type": "markdown",
   "metadata": {},
   "source": [
    "Add some constraining information"
   ]
  },
  {
   "cell_type": "code",
   "execution_count": null,
   "metadata": {},
   "outputs": [],
   "source": [
    "print(\"Data INSIDE Reservoir\")\n",
    "coorYES = np.array([[1.7, 0.8], [1.35, 0.65]])\n",
    "for i in range(coorYES.shape[0]):\n",
    "    grid.setValue(\"Data\",grid.coordinateToRank(coorYES[i]),2)\n",
    "    print(\"- Coordinates =\", coorYES[i], \"- Indices =\", grid.coordinateToIndices(coorYES[i]))\n",
    "\n",
    "print(\"Data OUTSIDE Reservoir\")\n",
    "#coorNO = np.array([])\n",
    "coorNO = np.array([[0.5, 0.2]])\n",
    "for i in range(coorNO.shape[0]):\n",
    "    grid.setValue(\"Data\",grid.coordinateToRank(coorNO[i]),1)\n",
    "    print(\"- Coordinates =\", coorNO[i], \"- Indices =\", grid.coordinateToIndices(coorNO[i]))"
   ]
  },
  {
   "cell_type": "markdown",
   "metadata": {},
   "source": [
    "We display the contents of the simulated variable which will serve as Topography, as well as the constraining information"
   ]
  },
  {
   "cell_type": "code",
   "execution_count": null,
   "metadata": {
    "scrolled": true
   },
   "outputs": [],
   "source": [
    "ax = grid.plot(nameRaster=\"Topo\")\n",
    "if len(coorYES) > 0:\n",
    "    ax = gp.sample(coorYES.transpose(),color='white')\n",
    "if len(coorNO) > 0:\n",
    "    ax = gp.sample(coorNO.transpose(),color='pink')\n",
    "ax.decoration(title=\"Topography\")"
   ]
  },
  {
   "cell_type": "markdown",
   "metadata": {},
   "source": [
    "Launch the Spill Point algorithm"
   ]
  },
  {
   "cell_type": "code",
   "execution_count": null,
   "metadata": {},
   "outputs": [],
   "source": [
    "res = gl.spillPoint(grid, \"Topo\", \"Data\", option=1, flag_up=True, verbose_step=2)\n",
    "spill = grid.indicesToCoordinate([res.ix0, res.iy0])"
   ]
  },
  {
   "cell_type": "code",
   "execution_count": null,
   "metadata": {},
   "outputs": [],
   "source": [
    "ax = grid.plot(nameRaster=\"Spill\")\n",
    "if len(coorYES) > 0:\n",
    "    ax = gp.sample(coorYES.transpose(),color='white')\n",
    "if len(coorNO) > 0:\n",
    "    ax = gp.sample(coorNO.transpose(),color='pink')\n",
    "ax = gp.sample(spill, color=\"blue\")\n",
    "ax.decoration(title=\"Spill Point Information\")"
   ]
  },
  {
   "cell_type": "code",
   "execution_count": null,
   "metadata": {},
   "outputs": [],
   "source": [
    "ax = gp.raster(grid,name=\"Topo\")\n",
    "ax = gp.isoline(grid,name=\"Topo\", levels=[res.h])\n",
    "if len(coorYES) > 0:\n",
    "    ax = gp.sample(coorYES.transpose(),color='white')\n",
    "if len(coorNO) > 0:\n",
    "    ax = gp.sample(coorNO.transpose(),color='pink')\n",
    "ax = gp.sample(spill, color=\"blue\")\n",
    "ax.decoration(title=\"Topography\")"
   ]
  },
  {
   "cell_type": "code",
   "execution_count": null,
   "metadata": {},
   "outputs": [],
   "source": [
    "dbfmt = gl.DbStringFormat.createFromFlags(flag_resume=False, flag_stats=True, flag_vars=False, \n",
    "                                          flag_extend=False, names=[\"Topo\",\"Spill\"])\n",
    "grid.display(dbfmt)"
   ]
  },
  {
   "cell_type": "code",
   "execution_count": null,
   "metadata": {},
   "outputs": [],
   "source": []
  }
 ],
 "metadata": {
  "kernelspec": {
   "display_name": "Python 3 (ipykernel)",
   "language": "python",
   "name": "python3"
  },
  "language_info": {
   "codemirror_mode": {
    "name": "ipython",
    "version": 3
   },
   "file_extension": ".py",
   "mimetype": "text/x-python",
   "name": "python",
   "nbconvert_exporter": "python",
   "pygments_lexer": "ipython3",
   "version": "3.10.5"
  },
  "toc": {
   "base_numbering": 1,
   "nav_menu": {},
   "number_sections": true,
   "sideBar": true,
   "skip_h1_title": false,
   "title_cell": "Table of Contents",
   "title_sidebar": "Contents",
   "toc_cell": false,
   "toc_position": {},
   "toc_section_display": true,
   "toc_window_display": false
  }
 },
 "nbformat": 4,
 "nbformat_minor": 4
}
