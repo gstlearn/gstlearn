{
 "cells": [
  {
   "cell_type": "markdown",
   "metadata": {},
   "source": [
    "# Tutorial for Potential Model"
   ]
  },
  {
   "cell_type": "markdown",
   "metadata": {},
   "source": [
    "This file is meant to demonstrate the use of gstlearn for Potential Model. It is exploited on an example in 1-D."
   ]
  },
  {
   "cell_type": "code",
   "execution_count": 1,
   "metadata": {},
   "outputs": [],
   "source": [
    "import numpy as np\n",
    "import pandas as pd\n",
    "import sys\n",
    "import os\n",
    "import gstlearn as gl\n",
    "import gstlearn.plot as gp\n",
    "import matplotlib.pyplot as plt"
   ]
  },
  {
   "cell_type": "markdown",
   "metadata": {},
   "source": [
    "## Defining the Information"
   ]
  },
  {
   "cell_type": "markdown",
   "metadata": {},
   "source": [
    "Setting some global variables"
   ]
  },
  {
   "cell_type": "code",
   "execution_count": 2,
   "metadata": {},
   "outputs": [],
   "source": [
    "# Define the Space Dimension\n",
    "ndim = 1\n",
    "gl.ASpaceObject_defineDefaultSpace(gl.ESpaceType.SPACE_RN, ndim)"
   ]
  },
  {
   "cell_type": "markdown",
   "metadata": {},
   "source": [
    "Defining the data points used as controls"
   ]
  },
  {
   "cell_type": "markdown",
   "metadata": {},
   "source": [
    "The set of iso-potential data points. Each datum is characterized by its coordinate and an indicator of the set to which it belongs."
   ]
  },
  {
   "cell_type": "code",
   "execution_count": 3,
   "metadata": {},
   "outputs": [],
   "source": [
    "tabiso = [30., 1.,\n",
    "         80., 1.,\n",
    "          60., 1.,\n",
    "         40., 2.,\n",
    "         50., 2.]\n",
    "dbiso = gl.Db.createFromSamples(5, gl.ELoadBy.SAMPLE, tabiso, [\"x\", \"iso\"], [\"x1\", \"layer\"])"
   ]
  },
  {
   "cell_type": "markdown",
   "metadata": {},
   "source": [
    "The Gradient information"
   ]
  },
  {
   "cell_type": "code",
   "execution_count": 4,
   "metadata": {},
   "outputs": [],
   "source": [
    "tabgrd = [0., 1.]\n",
    "dbgrd = gl.Db.createFromSamples(1, gl.ELoadBy.SAMPLE, tabgrd, [\"x\", \"g\"], [\"x1\", \"g1\"])"
   ]
  },
  {
   "cell_type": "markdown",
   "metadata": {},
   "source": [
    "The 2-D grid covering the field of estimation"
   ]
  },
  {
   "cell_type": "code",
   "execution_count": 5,
   "metadata": {},
   "outputs": [],
   "source": [
    "nx = [100]\n",
    "grid = gl.DbGrid.create(nx)"
   ]
  },
  {
   "cell_type": "markdown",
   "metadata": {},
   "source": [
    "The Model is composed of a Gaussian Covariance with a scale 20. The model must be turned into a Gradient model."
   ]
  },
  {
   "cell_type": "code",
   "execution_count": 6,
   "metadata": {},
   "outputs": [],
   "source": [
    "range = gl.CovAniso.scale2range(gl.ECov.GAUSSIAN, 20.)\n",
    "model = gl.Model.createFromParam(gl.ECov.GAUSSIAN, range)\n",
    "model.switchToGradient()"
   ]
  },
  {
   "cell_type": "markdown",
   "metadata": {},
   "source": [
    "The Neighborhood (although parametrized) should be Unique"
   ]
  },
  {
   "cell_type": "code",
   "execution_count": 7,
   "metadata": {},
   "outputs": [],
   "source": [
    "neighU = gl.NeighUnique.create(ndim)"
   ]
  },
  {
   "cell_type": "markdown",
   "metadata": {},
   "source": [
    "## Launching the Estimation"
   ]
  },
  {
   "cell_type": "markdown",
   "metadata": {},
   "source": [
    "We launch the calculation of the Potential on the nodes of the grid. The use of OptDbg statement is maintained for spying the process when estimating a target node in particular (-1 stands for no control)."
   ]
  },
  {
   "cell_type": "code",
   "execution_count": 8,
   "metadata": {
    "scrolled": true
   },
   "outputs": [
    {
     "name": "stdout",
     "output_type": "stream",
     "text": [
      "\n",
      " Environment summary\n",
      " ===================\n",
      " Space dimension         = 1\n",
      " Number of Iso-Potential = 2\n",
      " Number of Gradients     = 1\n",
      " Number of Tangents      = 0\n",
      " Number of Isovalues     = 4\n",
      " Order of the drift      = 0\n",
      " Number of Drifts        = 0\n",
      " Number of Ext. Drifts   = 0\n",
      " Number of Equations     = 3\n",
      " \n",
      " Information completed at Data Points\n",
      " ====================================\n",
      " \n",
      " Iso-Potential Information\n",
      " -------------------------\n",
      "  1 - 1 - Coor =  30.000000  - Pot* =   0.00000  - Grad* =     0.35795 \n",
      "  1 - 2 - Coor =  80.000000  - Pot* =   0.00000  - Grad* =    -0.00649 \n",
      "  2 - 1 - Coor =  40.000000  - Pot* =  -2.06321  - Grad* =     0.07248 \n",
      "  2 - 2 - Coor =  50.000000  - Pot* =  -2.06321  - Grad* =    -0.04751 \n",
      " \n",
      " Gradient Information\n",
      " --------------------\n",
      "   1 - Coor =  0.000000  - Pot* =  -0.16746  - Grad* =     1.00000 \n",
      " "
     ]
    }
   ],
   "source": [
    "gl.OptDbg.setReference(-1)\n",
    "gl.potential_kriging(dbiso, dbgrd, None, grid, model, neighU, \n",
    "                     flag_pot=True, flag_grad=True, flag_save_data=True, verbose=True)\n",
    "gl.OptDbg.setReference(-1)"
   ]
  },
  {
   "cell_type": "markdown",
   "metadata": {},
   "source": [
    "In order to overlay the information from the Iso-Potential file onto the Potential on the Grid represented as a section (vertical axis is the Potential axis), we must modify the locator of 'dbiso' (the Potential becomes the second coordinate)"
   ]
  },
  {
   "cell_type": "code",
   "execution_count": 9,
   "metadata": {},
   "outputs": [
    {
     "data": {
      "text/plain": [
       "\n",
       "Data Base Characteristics\n",
       "=========================\n",
       "\n",
       "Data Base Summary\n",
       "-----------------\n",
       "File is organized as a set of isolated points\n",
       "Space dimension              = 2\n",
       "Number of Columns            = 5\n",
       "Maximum Number of UIDs       = 5\n",
       "Total number of samples      = 4\n",
       "\n",
       "Variables\n",
       "---------\n",
       "Column = 0 - Name = rank - Locator = NA\n",
       "Column = 1 - Name = x - Locator = x1\n",
       "Column = 2 - Name = iso - Locator = layer\n",
       "Column = 3 - Name = Potential - Locator = x2\n",
       "Column = 4 - Name = Gradients - Locator = g1"
      ]
     },
     "execution_count": 9,
     "metadata": {},
     "output_type": "execute_result"
    }
   ],
   "source": [
    "dbiso.setLocator(\"Potential\",gl.ELoc.X,1)\n",
    "dbiso"
   ]
  },
  {
   "cell_type": "code",
   "execution_count": 10,
   "metadata": {},
   "outputs": [
    {
     "data": {
      "text/plain": [
       "<matplotlib.collections.LineCollection at 0x7ffa73b84760>"
      ]
     },
     "execution_count": 10,
     "metadata": {},
     "output_type": "execute_result"
    },
    {
     "data": {
      "image/png": "[encoded data removed]",
      "text/plain": [
       "<Figure size 720x432 with 1 Axes>"
      ]
     },
     "metadata": {
      "needs_background": "light"
     },
     "output_type": "display_data"
    }
   ],
   "source": [
    "ax = gp.grid1D(grid,figsize=[10,6])\n",
    "ax = gp.point(dbiso, color_name=\"iso\", ax=ax, aspect=None, size=100, flagColorBar=False)\n",
    "plt.hlines(dbiso.getColumn(\"Potential\"),0.,100.)"
   ]
  },
  {
   "cell_type": "code",
   "execution_count": null,
   "metadata": {},
   "outputs": [],
   "source": []
  }
 ],
 "metadata": {
  "kernelspec": {
   "display_name": "Python 3 (ipykernel)",
   "language": "python",
   "name": "python3"
  },
  "language_info": {
   "codemirror_mode": {
    "name": "ipython",
    "version": 3
   },
   "file_extension": ".py",
   "mimetype": "text/x-python",
   "name": "python",
   "nbconvert_exporter": "python",
   "pygments_lexer": "ipython3",
   "version": "3.10.5"
  }
 },
 "nbformat": 4,
 "nbformat_minor": 4
}
