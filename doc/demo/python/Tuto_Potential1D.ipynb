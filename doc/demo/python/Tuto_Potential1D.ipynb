{
 "cells": [
  {
   "cell_type": "markdown",
   "metadata": {},
   "source": [
    "# Tutorial for Potential Model"
   ]
  },
  {
   "cell_type": "markdown",
   "metadata": {},
   "source": [
    "This file is meant to demonstrate the use of gstlearn for Potential Model. It is exploited on an example in 1-D."
   ]
  },
  {
   "cell_type": "code",
   "execution_count": null,
   "metadata": {},
   "outputs": [],
   "source": [
    "import numpy as np\n",
    "import pandas as pd\n",
    "import sys\n",
    "import os\n",
    "import gstlearn as gl\n",
    "import gstlearn.plot as gp\n",
    "import matplotlib.pyplot as plt"
   ]
  },
  {
   "cell_type": "markdown",
   "metadata": {},
   "source": [
    "Setting some global variables"
   ]
  },
  {
   "cell_type": "code",
   "execution_count": null,
   "metadata": {},
   "outputs": [],
   "source": [
    "# Define the Space Dimension\n",
    "ndim = 1\n",
    "gl.ASpaceObject_defineDefaultSpace(gl.ESpaceType.SPACE_RN, ndim)"
   ]
  },
  {
   "cell_type": "markdown",
   "metadata": {},
   "source": [
    "Defining the data points used as controls"
   ]
  },
  {
   "cell_type": "markdown",
   "metadata": {},
   "source": [
    "The set of iso-potential data points. Each datum is characterized by its coordinate and an indicator of the set to which it belongs."
   ]
  },
  {
   "cell_type": "code",
   "execution_count": null,
   "metadata": {},
   "outputs": [],
   "source": [
    "tabiso = [30., 1.,\n",
    "         80., 1.,\n",
    "         40., 2.,\n",
    "         50., 2.]\n",
    "dbiso = gl.Db.createFromSamples(4, gl.ELoadBy.SAMPLE, tabiso, [\"x\", \"iso\"], [\"x1\", \"layer\"])"
   ]
  },
  {
   "cell_type": "markdown",
   "metadata": {},
   "source": [
    "The Gradient information"
   ]
  },
  {
   "cell_type": "code",
   "execution_count": null,
   "metadata": {},
   "outputs": [],
   "source": [
    "tabgrd = [0., 1.]\n",
    "dbgrd = gl.Db.createFromSamples(1, gl.ELoadBy.SAMPLE, tabgrd, [\"x\", \"g\"], [\"x1\", \"g1\"])"
   ]
  },
  {
   "cell_type": "markdown",
   "metadata": {},
   "source": [
    "The &6D grid covering the field of estimation"
   ]
  },
  {
   "cell_type": "code",
   "execution_count": null,
   "metadata": {},
   "outputs": [],
   "source": [
    "nx = [100]\n",
    "grid = gl.DbGrid.create(nx)"
   ]
  },
  {
   "cell_type": "markdown",
   "metadata": {},
   "source": [
    "The Model is composed of a Gaussian Covariance with a scale 20. The model must be turned into a Gradient model."
   ]
  },
  {
   "cell_type": "code",
   "execution_count": null,
   "metadata": {},
   "outputs": [],
   "source": [
    "range = gl.CovAniso.scale2range(gl.ECov.GAUSSIAN, 20.)\n",
    "model = gl.Model.createFromParam(gl.ECov.GAUSSIAN, range)\n",
    "model.switchToGradient()"
   ]
  },
  {
   "cell_type": "markdown",
   "metadata": {},
   "source": [
    "The Neighborhood (although parametrized) should be Unique"
   ]
  },
  {
   "cell_type": "code",
   "execution_count": null,
   "metadata": {},
   "outputs": [],
   "source": [
    "neighU = gl.NeighUnique.create(ndim)"
   ]
  },
  {
   "cell_type": "markdown",
   "metadata": {},
   "source": [
    "## Launching the Estimation"
   ]
  },
  {
   "cell_type": "markdown",
   "metadata": {},
   "source": [
    "We launch the calculation of the Potential on the nodes of the grid. The use of OptDbg statement is maintained for spying the process when estimating a target node in particular (-1 stands for no control)."
   ]
  },
  {
   "cell_type": "code",
   "execution_count": null,
   "metadata": {
    "scrolled": true
   },
   "outputs": [],
   "source": [
    "gl.OptDbg.setReference(-1)\n",
    "gl.potential_kriging(dbiso, dbgrd, None, grid, model, neighU, \n",
    "                     flag_pot=True, flag_grad=True, flag_save_data=True, verbose=True)\n",
    "gl.OptDbg.setReference(-1)"
   ]
  },
  {
   "cell_type": "markdown",
   "metadata": {},
   "source": [
    "In order to overlay the information from the Iso-Potential file onto the Potential on the Grid represented as a section (vertical axis is the Potential axis), we must modify the locator of 'dbiso' (the Potential becomes the second coordinate)"
   ]
  },
  {
   "cell_type": "code",
   "execution_count": null,
   "metadata": {},
   "outputs": [],
   "source": [
    "dbiso.setLocator(\"Potential\",gl.ELoc.X,1)\n",
    "dbiso"
   ]
  },
  {
   "cell_type": "code",
   "execution_count": null,
   "metadata": {},
   "outputs": [],
   "source": [
    "ax = gp.grid1D(grid,figsize=[10,6])\n",
    "ax = gp.point(dbiso, color_name=\"iso\", ax=ax, aspect=None, size=100, flagColorBar=False)\n",
    "plt.hlines(dbiso.getColumn(\"Potential\"),0.,100.)"
   ]
  },
  {
   "cell_type": "code",
   "execution_count": null,
   "metadata": {},
   "outputs": [],
   "source": []
  }
 ],
 "metadata": {
  "kernelspec": {
   "display_name": "Python 3 (ipykernel)",
   "language": "python",
   "name": "python3"
  },
  "language_info": {
   "codemirror_mode": {
    "name": "ipython",
    "version": 3
   },
   "file_extension": ".py",
   "mimetype": "text/x-python",
   "name": "python",
   "nbconvert_exporter": "python",
   "pygments_lexer": "ipython3",
   "version": "3.10.5"
  }
 },
 "nbformat": 4,
 "nbformat_minor": 4
}
