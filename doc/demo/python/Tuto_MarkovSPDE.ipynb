{
 "cells": [
  {
   "cell_type": "markdown",
   "id": "523d57ed",
   "metadata": {},
   "source": [
    "# Markovian simulation"
   ]
  },
  {
   "cell_type": "code",
   "execution_count": null,
   "id": "092be204",
   "metadata": {},
   "outputs": [],
   "source": [
    "import gstlearn as gl\n",
    "import gstlearn.plot as gp\n",
    "import numpy as np\n",
    "import matplotlib.pyplot as plt"
   ]
  },
  {
   "cell_type": "code",
   "execution_count": null,
   "id": "0f5a72dd",
   "metadata": {},
   "outputs": [],
   "source": [
    "dx = [1./10,1./10]\n",
    "nx = [300,300]"
   ]
  },
  {
   "cell_type": "code",
   "execution_count": null,
   "id": "54d50000",
   "metadata": {},
   "outputs": [],
   "source": [
    "db = gl.DbGrid.create(nx, dx)"
   ]
  },
  {
   "cell_type": "code",
   "execution_count": null,
   "id": "1877ec75",
   "metadata": {},
   "outputs": [],
   "source": [
    "import gstlearn as gl\n",
    "import gstlearn.plot as gp\n",
    "import numpy as np\n",
    "import matplotlib.pyplot as plt\n",
    "scale = 1\n",
    "mesh = gl.MeshETurbo(nx,dx)\n",
    "model = gl.Model.createFromParam(gl.ECov.MARKOV,range=1.,sill=1,flagRange=False)\n",
    "#model = gl.Model.createFromParam(gl.ECov.BESSEL_K,param=1,range=scale,sill=1,flagRange=False)\n",
    "\n",
    "cova = model.getCova(0)\n",
    "cova.setMarkovCoeffs([1,-0.3*scale,-1.5*scale**2,2*scale**3,0,1*scale**5])\n",
    "Q = gl.PrecisionOp(mesh,model)\n"
   ]
  },
  {
   "cell_type": "code",
   "execution_count": null,
   "id": "e7c55ae5",
   "metadata": {},
   "outputs": [],
   "source": [
    "indx = int(nx[0]/2)\n",
    "indy = int(nx[1]/2)\n",
    "ind = indy + nx[1] * indx\n",
    "covy = np.array(Q.evalCov(ind)).reshape(nx)\n",
    "plt.plot(covy[indx,indy:(indy+nx[1])])"
   ]
  },
  {
   "cell_type": "code",
   "execution_count": null,
   "id": "2a5a7a94",
   "metadata": {},
   "outputs": [],
   "source": [
    "dbg = gl.DbGrid.create(nx,dx)\n",
    "x = Q.simulate()[0]\n",
    "dbg[\"simu\"]=x\n",
    "gp.plot(dbg)"
   ]
  },
  {
   "cell_type": "code",
   "execution_count": null,
   "id": "37fba2e3",
   "metadata": {},
   "outputs": [],
   "source": [
    "N = 2**8\n",
    "nx1 = 20\n",
    "nx2 = 30\n",
    "result = np.array(cova.evalCovFFT([nx1,nx2],N).getValues())\n",
    "res = np.array(result).reshape((N,N))\n",
    "\n",
    "mH1 = nx1\n",
    "mH2 = nx2\n",
    "\n",
    "X1 = np.linspace(-mH1,mH1,N) \n",
    "X2 = np.linspace(-mH2,mH2,N) \n",
    "plt.imshow(res,extent = [-nx1,nx1,-nx2,nx2])\n",
    "plt.colorbar()"
   ]
  },
  {
   "cell_type": "code",
   "execution_count": null,
   "id": "40bbd383",
   "metadata": {},
   "outputs": [],
   "source": [
    "plt.plot(X1 , res[int(N/2),:],label=\"FFT\")\n",
    "\n",
    "uu = covy[indx,indy:(indy+100)]\n",
    "plt.plot(np.arange(len(uu))*dx[0],uu,\"--\",label = \"Discretized covariance\")\n",
    "ax = plt.legend()"
   ]
  }
 ],
 "metadata": {
  "kernelspec": {
   "display_name": "Python 3 (ipykernel)",
   "language": "python",
   "name": "python3"
  },
  "language_info": {
   "codemirror_mode": {
    "name": "ipython",
    "version": 3
   },
   "file_extension": ".py",
   "mimetype": "text/x-python",
   "name": "python",
   "nbconvert_exporter": "python",
   "pygments_lexer": "ipython3",
   "version": "3.10.2"
  }
 },
 "nbformat": 4,
 "nbformat_minor": 5
}
