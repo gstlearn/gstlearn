{
 "cells": [
  {
   "cell_type": "markdown",
   "id": "523d57ed",
   "metadata": {},
   "source": [
    "# Markovian simulation"
   ]
  },
  {
   "cell_type": "code",
   "execution_count": null,
   "id": "092be204",
   "metadata": {},
   "outputs": [],
   "source": [
    "import gstlearn as gl\n",
    "import gstlearn.plot as gp\n",
    "import numpy as np\n",
    "import matplotlib.pyplot as plt"
   ]
  },
  {
   "cell_type": "code",
   "execution_count": null,
   "id": "0f5a72dd",
   "metadata": {},
   "outputs": [],
   "source": [
    "Markov = True"
   ]
  },
  {
   "cell_type": "code",
   "execution_count": null,
   "id": "54d50000",
   "metadata": {},
   "outputs": [],
   "source": [
    "dx = [1./5,1./5]\n",
    "nx = [200,200]\n",
    "db = gl.DbGrid.create(nx, dx)"
   ]
  },
  {
   "cell_type": "code",
   "execution_count": null,
   "id": "1877ec75",
   "metadata": {},
   "outputs": [],
   "source": [
    "import gstlearn as gl\n",
    "import gstlearn.plot as gp\n",
    "import numpy as np\n",
    "import matplotlib.pyplot as plt\n",
    "scale = 1.\n",
    "sill = 2.\n",
    "param=2\n",
    "mesh = gl.MeshETurbo(nx,dx)\n",
    "\n",
    "if Markov :\n",
    "    model = gl.Model.createFromParam(gl.ECov.MARKOV,range=scale,sill=sill,flagRange=False)\n",
    "    cova = model.getCova(0)\n",
    "    cova.setMarkovCoeffs([1,-0.5*scale,-0.1*scale**2,1*scale**3])\n",
    "\n",
    "else :\n",
    "    model = gl.Model.createFromParam(gl.ECov.BESSEL_K,param=param,range=scale,sill=sill,flagRange=False)\n"
   ]
  },
  {
   "cell_type": "code",
   "execution_count": null,
   "id": "c0a399ae",
   "metadata": {},
   "outputs": [],
   "source": [
    "model"
   ]
  },
  {
   "cell_type": "code",
   "execution_count": null,
   "id": "51a0cdc1",
   "metadata": {},
   "outputs": [],
   "source": [
    "Q = gl.PrecisionOp(mesh,model)"
   ]
  },
  {
   "cell_type": "code",
   "execution_count": null,
   "id": "4123bac6",
   "metadata": {},
   "outputs": [],
   "source": [
    "cova = model.getCova(0)\n",
    "cova.getMarkovCoeffs()"
   ]
  },
  {
   "cell_type": "code",
   "execution_count": null,
   "id": "c7dd77a8",
   "metadata": {},
   "outputs": [],
   "source": [
    "cova.getCorrec()"
   ]
  },
  {
   "cell_type": "code",
   "execution_count": null,
   "id": "e0af9a83",
   "metadata": {},
   "outputs": [],
   "source": [
    "indx = int(nx[0]/2)\n",
    "indy = int(nx[1]/2)\n",
    "ind = indy + nx[1] * indx\n",
    "covy = np.array(Q.evalCov(ind)).reshape(nx)"
   ]
  },
  {
   "cell_type": "code",
   "execution_count": null,
   "id": "94f54758",
   "metadata": {},
   "outputs": [],
   "source": [
    "xx = np.arange(len(covy)/2)*dx[0]\n",
    "if not Markov :\n",
    "    covM = [model.eval(0,0,gl.SpacePoint([0,0]),gl.SpacePoint([0,i])) for i in xx]\n",
    "    plt.plot(xx,covM,label = \"Covariance\")\n",
    "plt.plot(xx,covy[indx,indy:(indy+nx[1])],label = \"discretized\")#/covy[indx,indx])\n",
    "covy[indx,indx]\n",
    "ax = plt.legend()"
   ]
  },
  {
   "cell_type": "code",
   "execution_count": null,
   "id": "2a5a7a94",
   "metadata": {},
   "outputs": [],
   "source": [
    "dbg = gl.DbGrid.create(nx,dx)\n",
    "x = Q.simulate()[0]\n",
    "dbg[\"simu\"]=x\n",
    "gp.plot(dbg)"
   ]
  },
  {
   "cell_type": "code",
   "execution_count": null,
   "id": "47750cf7",
   "metadata": {},
   "outputs": [],
   "source": [
    "N = 2**8\n",
    "nx1 = 20\n",
    "nx2 = 30\n",
    "cova = model.getCova(0)\n",
    "result = np.array(cova.evalCovFFT([nx1,nx2],N).getValues())\n",
    "res = np.array(result).reshape((N,N))\n",
    "\n",
    "mH1 = nx1\n",
    "mH2 = nx2\n",
    "\n",
    "X1 = np.linspace(-mH1,mH1,N) \n",
    "X2 = np.linspace(-mH2,mH2,N) \n",
    "plt.imshow(res,extent = [-nx1,nx1,-nx2,nx2])\n",
    "plt.colorbar()"
   ]
  },
  {
   "cell_type": "code",
   "execution_count": null,
   "id": "5d7e5672",
   "metadata": {
    "scrolled": true
   },
   "outputs": [],
   "source": [
    "plt.plot(X1 , res[int(N/2),:],label=\"FFT\")\n",
    "\n",
    "uu = covy[indx,indy:(indy+100)]\n",
    "plt.plot(np.arange(len(uu))*dx[0],uu,\"--\",label = \"Discretized covariance\")\n",
    "ax = plt.legend()"
   ]
  }
 ],
 "metadata": {
  "kernelspec": {
   "display_name": "Python 3 (ipykernel)",
   "language": "python",
   "name": "python3"
  },
  "language_info": {
   "codemirror_mode": {
    "name": "ipython",
    "version": 3
   },
   "file_extension": ".py",
   "mimetype": "text/x-python",
   "name": "python",
   "nbconvert_exporter": "python",
   "pygments_lexer": "ipython3",
   "version": "3.10.2"
  }
 },
 "nbformat": 4,
 "nbformat_minor": 5
}
