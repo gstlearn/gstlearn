{
 "cells": [
  {
   "cell_type": "markdown",
   "id": "523d57ed",
   "metadata": {},
   "source": [
    "# Markovian simulation"
   ]
  },
  {
   "cell_type": "code",
   "execution_count": null,
   "id": "092be204",
   "metadata": {},
   "outputs": [],
   "source": [
    "import gstlearn as gl\n",
    "import gstlearn.plot as gp\n",
    "import numpy as np\n",
    "import matplotlib.pyplot as plt"
   ]
  },
  {
   "cell_type": "code",
   "execution_count": null,
   "id": "0f5a72dd",
   "metadata": {},
   "outputs": [],
   "source": [
    "dx = [1./10,1./10]\n",
    "nx = [300,300]"
   ]
  },
  {
   "cell_type": "code",
   "execution_count": null,
   "id": "54d50000",
   "metadata": {},
   "outputs": [],
   "source": [
    "db = gl.DbGrid.create(nx, dx)"
   ]
  },
  {
   "cell_type": "code",
   "execution_count": null,
   "id": "1877ec75",
   "metadata": {},
   "outputs": [],
   "source": [
    "import gstlearn as gl\n",
    "import gstlearn.plot as gp\n",
    "import numpy as np\n",
    "import matplotlib.pyplot as plt\n",
    "scale = 1\n",
    "mesh = gl.MeshETurbo(nx,dx)\n",
    "model = gl.Model.createFromParam(gl.ECov.MARKOV,range=scale,sill=1,flagRange=False)\n",
    "#model = gl.Model.createFromParam(gl.ECov.BESSEL_K,param=1,range=scale,sill=1,flagRange=False)\n",
    "\n",
    "cova = model.getCova(0)\n",
    "cova.setMarkovCoeffs([1,-1,0.5])\n",
    "Q = gl.PrecisionOp(mesh,model)\n"
   ]
  },
  {
   "cell_type": "code",
   "execution_count": null,
   "id": "491fa5c1",
   "metadata": {},
   "outputs": [],
   "source": [
    "\n",
    "#poly = gl.ClassicalPolynomial([1,2.,1])\n",
    "#Q.setPolynomialFromPoly(poly)"
   ]
  },
  {
   "cell_type": "code",
   "execution_count": null,
   "id": "61b823e7",
   "metadata": {},
   "outputs": [],
   "source": [
    "indx = int(nx[0]/2)\n",
    "indy = int(nx[1]/2)\n",
    "ind = indy + nx[1] * indx\n",
    "cov = np.array(Q.evalCov(ind)).reshape(nx)\n",
    "plt.plot(cov[indx,indy:(indy+nx[1])])"
   ]
  },
  {
   "cell_type": "code",
   "execution_count": null,
   "id": "2a5a7a94",
   "metadata": {},
   "outputs": [],
   "source": [
    "dbg = gl.DbGrid.create(nx,dx)\n",
    "x = Q.simulate()[0]\n",
    "dbg[\"simu\"]=x\n",
    "gp.plot(dbg)"
   ]
  },
  {
   "cell_type": "code",
   "execution_count": null,
   "id": "dc2504de",
   "metadata": {},
   "outputs": [],
   "source": [
    "coeffs = np.array(poly.getCoeffs())\n",
    "for  i in range(len(coeffs)):\n",
    "    coeffs[i]*= 1#/scale**(2*i)\n",
    "coeffs"
   ]
  },
  {
   "cell_type": "code",
   "execution_count": null,
   "id": "b21fb224",
   "metadata": {},
   "outputs": [],
   "source": [
    "d = 2\n",
    "N = 2**7\n",
    "a= np.pi * (N-1) * dx[0] #3 x la portée\n",
    "ind = np.arange(0,int(N/2),2)\n",
    "v = np.linspace(-1.,1.,N)\n",
    "u = a/2 * v\n",
    "deltau=a/(N-1)\n",
    "normxi = np.array([i**2 + j**2 for i in u for j in u])#.reshape((len(u),len(u)))\n",
    "\n",
    "#fourier = 1./((2*np.pi)**d*(coeffs[0] + coeffs[1] * normxi + coeffs[2] * normxi**2))\n",
    "fourier = 1./(2*np.pi)**d * np.array([model.getCova(0).evalSpectrum(i) for i in normxi.reshape(-1)])\n",
    "# Préparation pour gstlearn\n",
    "# On met la matrice dans un vector double\n",
    "f = fourier.reshape(-1)\n",
    "ve = gl.VectorDouble(f.shape[0])\n",
    "for i in range(ve.size()):\n",
    "    ve[i]=f[i]\n",
    "im = gl.VectorDouble()\n",
    "gl.FFTn(2,[N,N],ve,im)\n",
    "\n",
    "# Reformatage des sorties \n",
    "w=np.array(ve).reshape((len(u),len(u)))\n",
    "\n",
    "#################################\n",
    "A = w[0,:][ind]\n",
    "covZ=A*deltau**d\n",
    "X= np.pi * (v[ind]-v[0]) /deltau\n",
    "\n",
    "plt.plot(X , covZ)\n",
    "uu = cov[indx,indy:(indy+100)]\n",
    "plt.plot(np.arange(len(uu))*dx[0],uu)"
   ]
  },
  {
   "cell_type": "code",
   "execution_count": null,
   "id": "41717f2a",
   "metadata": {},
   "outputs": [],
   "source": [
    "from IPython.display import display, Latex\n",
    "print(model.getCova(0).getFormula())\n",
    "display(Latex('$%s$'%model.getCova(0).getFormula()))"
   ]
  }
 ],
 "metadata": {
  "kernelspec": {
   "display_name": "Python 3 (ipykernel)",
   "language": "python",
   "name": "python3"
  },
  "language_info": {
   "codemirror_mode": {
    "name": "ipython",
    "version": 3
   },
   "file_extension": ".py",
   "mimetype": "text/x-python",
   "name": "python",
   "nbconvert_exporter": "python",
   "pygments_lexer": "ipython3",
   "version": "3.10.2"
  }
 },
 "nbformat": 4,
 "nbformat_minor": 5
}
