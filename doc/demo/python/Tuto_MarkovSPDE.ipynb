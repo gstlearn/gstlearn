{
 "cells": [
  {
   "cell_type": "markdown",
   "id": "523d57ed",
   "metadata": {},
   "source": [
    "# Markovian simulation"
   ]
  },
  {
   "cell_type": "code",
   "execution_count": null,
   "id": "092be204",
   "metadata": {},
   "outputs": [],
   "source": [
    "import gstlearn as gl\n",
    "import gstlearn.plot as gp\n",
    "import numpy as np\n",
    "import matplotlib.pyplot as plt"
   ]
  },
  {
   "cell_type": "code",
   "execution_count": null,
   "id": "54d50000",
   "metadata": {},
   "outputs": [],
   "source": [
    "db = gl.DbGrid.create(nx = [100,100])"
   ]
  },
  {
   "cell_type": "code",
   "execution_count": null,
   "id": "1877ec75",
   "metadata": {},
   "outputs": [],
   "source": [
    "mesh = gl.MeshETurbo([200,200])\n",
    "model = gl.Model.createFromParam(gl.ECov.BESSEL_K,param=1,range=5,flagRange=False)\n",
    "Q = gl.PrecisionOp(mesh,model)"
   ]
  },
  {
   "cell_type": "code",
   "execution_count": null,
   "id": "491fa5c1",
   "metadata": {},
   "outputs": [],
   "source": [
    "\n",
    "poly = gl.ClassicalPolynomial([1,-1.,0.3])\n",
    "Q.setPolynomialFromPoly(poly)"
   ]
  },
  {
   "cell_type": "code",
   "execution_count": null,
   "id": "b66643b3",
   "metadata": {},
   "outputs": [],
   "source": [
    "indx = 100\n",
    "indy = 100\n",
    "ind = indy + 200 * indx\n",
    "cov = np.array(Q.evalCov(ind)).reshape([200,200])\n",
    "plt.plot(cov[indx,indy:(indy+100)])"
   ]
  },
  {
   "cell_type": "code",
   "execution_count": null,
   "id": "2a5a7a94",
   "metadata": {},
   "outputs": [],
   "source": [
    "dbg = gl.DbGrid.create([200,200])\n",
    "x = Q.simulate()[0]\n",
    "dbg[\"simu\"]=x\n",
    "gp.plot(dbg)"
   ]
  },
  {
   "cell_type": "code",
   "execution_count": null,
   "id": "cee5bd28",
   "metadata": {},
   "outputs": [],
   "source": [
    "indx = 100\n",
    "indy = 100\n",
    "ind = indy + 200 * indx\n",
    "cov = np.array(Q.evalCov(ind)).reshape([200,200])\n",
    "plt.plot(cov[indx,indy:(indy+100)])"
   ]
  },
  {
   "cell_type": "code",
   "execution_count": null,
   "id": "b21fb224",
   "metadata": {},
   "outputs": [],
   "source": []
  }
 ],
 "metadata": {
  "kernelspec": {
   "display_name": "Python 3 (ipykernel)",
   "language": "python",
   "name": "python3"
  },
  "language_info": {
   "codemirror_mode": {
    "name": "ipython",
    "version": 3
   },
   "file_extension": ".py",
   "mimetype": "text/x-python",
   "name": "python",
   "nbconvert_exporter": "python",
   "pygments_lexer": "ipython3",
   "version": "3.10.2"
  }
 },
 "nbformat": 4,
 "nbformat_minor": 5
}
