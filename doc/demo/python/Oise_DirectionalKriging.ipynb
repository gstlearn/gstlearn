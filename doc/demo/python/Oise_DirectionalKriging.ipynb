{
 "cells": [
  {
   "cell_type": "markdown",
   "id": "350063f6",
   "metadata": {},
   "source": [
    "# Set up"
   ]
  },
  {
   "cell_type": "code",
   "execution_count": null,
   "id": "2d2687ce",
   "metadata": {},
   "outputs": [],
   "source": [
    "%%javascript\n",
    "IPython.OutputArea.prototype._should_scroll = function(lines) {\n",
    "return false;\n",
    "}"
   ]
  },
  {
   "cell_type": "code",
   "execution_count": null,
   "id": "5d8ccad9",
   "metadata": {},
   "outputs": [],
   "source": [
    "import matplotlib.pyplot as plt\n",
    "import gstlearn as gl\n",
    "import gstlearn.plot as gp\n",
    "import numpy as np\n",
    "import pandas as pd\n",
    "import scipy as sp\n",
    "from scipy import interpolate\n",
    "import os\n",
    "import urllib.request"
   ]
  },
  {
   "cell_type": "code",
   "execution_count": null,
   "id": "d25fc103",
   "metadata": {},
   "outputs": [],
   "source": [
    "#!pip install gstlearn\n",
    "#!pip uninstall -y gstlearn\n",
    "#!pip3 install numpy --upgrade"
   ]
  },
  {
   "cell_type": "markdown",
   "id": "1cd76ae1",
   "metadata": {},
   "source": [
    "# Load Data"
   ]
  },
  {
   "cell_type": "code",
   "execution_count": null,
   "id": "ea9d6463",
   "metadata": {},
   "outputs": [],
   "source": [
    "url = 'https://soft.minesparis.psl.eu/gstlearn/data/Alluvial/Oise_GridVectorFinal.ascii'\n",
    "filename, head = urllib.request.urlretrieve(url)\n",
    "grid = gl.DbGrid.createFromNF(filename)\n",
    "grid"
   ]
  },
  {
   "cell_type": "code",
   "execution_count": null,
   "id": "4b73b33b",
   "metadata": {},
   "outputs": [],
   "source": [
    "ranges = [500,10000]\n",
    "oldMethod = False"
   ]
  },
  {
   "cell_type": "code",
   "execution_count": null,
   "id": "15ba053a",
   "metadata": {},
   "outputs": [],
   "source": [
    "url = 'https://soft.minesparis.psl.eu/gstlearn/data/Alluvial/Oise_Data.ascii'\n",
    "filename, head = urllib.request.urlretrieve(url)\n",
    "data = gl.Db.createFromNF(filename)\n",
    "data"
   ]
  },
  {
   "cell_type": "markdown",
   "id": "cd56b00a",
   "metadata": {},
   "source": [
    "# Krigeage SPDE"
   ]
  },
  {
   "cell_type": "code",
   "execution_count": null,
   "id": "4a0d522e",
   "metadata": {},
   "outputs": [],
   "source": [
    "myVarioParamBidir = gl.VarioParam()\n",
    "mydir = gl.DirParam(40,800.,0.5,45.,0,0,np.nan,np.nan,0.,[],[1,1])\n",
    "myVarioParamBidir.addDir(mydir)\n",
    "mydir = gl.DirParam(20,400.,0.5,45.,0,0,np.nan,np.nan,0.,[],[-1,1])\n",
    "myVarioParamBidir.addDir(mydir)\n",
    "myVarioBidir = gl.Vario(myVarioParamBidir,data)\n",
    "err = myVarioBidir.compute(gl.ECalcVario.VARIOGRAM)\n",
    "myVarioBidir.display()\n",
    "ax = gp.varmod(myVarioBidir,idir=0)\n",
    "ax.decoration(title=\"Bi-directional Variogram for thickness(45°)\")\n",
    "ax = gp.varmod(myVarioBidir,idir=1)\n",
    "ax.decoration(title=\"Bi-directional Variogram for thickness(45/135°)\")"
   ]
  },
  {
   "cell_type": "code",
   "execution_count": null,
   "id": "7b3bc0a0",
   "metadata": {},
   "outputs": [],
   "source": [
    "model = gl.Model.createFromDb(data)\n",
    "\n",
    "\n",
    "structs = [gl.ECov.NUGGET,gl.ECov.BESSEL_K]\n",
    "\n",
    "#consNug = gl.ConsItem.define(gl.EConsElem.SILL,0, type = gl.EConsType.UPPER,value = 0.1)\n",
    "\n",
    "cons1P = gl.ConsItem.define(gl.EConsElem.PARAM,1, type = gl.EConsType.EQUAL,value = 1)\n",
    "#cons1Rm = gl.ConsItem.define(gl.EConsElem.RANGE,1, type = gl.EConsType.LOWER,value = 100)\n",
    "#cons1RM = gl.ConsItem.define(gl.EConsElem.RANGE,1, type = gl.EConsType.UPPER,value = 350)\n",
    "\n",
    "#cons2P = gl.ConsItem.define(gl.EConsElem.PARAM,2, type = gl.EConsType.EQUAL,value = 2)\n",
    "#cons2Rm = gl.ConsItem.define(gl.EConsElem.RANGE,2, type = gl.EConsType.LOWER,value = 100)\n",
    "#cons2RM = gl.ConsItem.define(gl.EConsElem.RANGE,2, type = gl.EConsType.UPPER,value = 400)\n",
    "\n",
    "a = gl.Constraints()\n",
    "#a.addItem(consNug)\n",
    "a.addItem(cons1P)\n",
    "#a.addItem(cons1Rm)\n",
    "#a.addItem(cons1RM)\n",
    "#a.addItem(cons2P)\n",
    "#a.addItem(cons2Rm)\n",
    "#a.addItem(cons2RM)\n",
    "\n",
    "err = model.fit(myVarioBidir,structs,constraints=a)\n",
    "\n",
    "\n",
    "#err = model.fit(myVarioBidir,[gl.ECov.NUGGET,gl.ECov.BESSEL_K,gl.ECov.BESSEL_K], False)\n",
    "\n",
    "model.display()\n",
    "ax = gp.varmod(myVarioBidir,model,idir=0)\n",
    "ax = gp.varmod(myVarioBidir,model,idir=1)"
   ]
  },
  {
   "cell_type": "code",
   "execution_count": null,
   "id": "42b0ee3d",
   "metadata": {},
   "outputs": [],
   "source": [
    "if not oldMethod :\n",
    "    model = gl.Model.createFromDb(data)\n",
    "    covBessel = gl.CovAniso.createAnisotropic(type = gl.ECov.BESSEL_K,ranges=ranges,sill=4.7,param=1,ctxt=model.getContext())\n",
    "    covNugget = gl.CovAniso.createIsotropic(type = gl.ECov.NUGGET,sill=2.2,ctxt=model.getContext(),range=1)\n",
    "    model.addCov(covNugget)\n",
    "    model.addCov(covBessel)\n"
   ]
  },
  {
   "cell_type": "code",
   "execution_count": null,
   "id": "b2b54365",
   "metadata": {},
   "outputs": [],
   "source": [
    "grid.setLocator(\"Poly*\", gl.ELoc.SEL)\n",
    "#grid.setLocator(\"Poly*\",gl.ELoc.UNKNOWN)"
   ]
  },
  {
   "cell_type": "code",
   "execution_count": null,
   "id": "acca3141",
   "metadata": {},
   "outputs": [],
   "source": [
    "model.setDriftIRF(order = 0)\n",
    "model"
   ]
  },
  {
   "cell_type": "code",
   "execution_count": null,
   "id": "13e1c724",
   "metadata": {},
   "outputs": [],
   "source": [
    "u = grid[\"Migrate.u_interp\"]\n",
    "v = grid[\"Migrate.v_interp\"]\n",
    "res = 0. * u\n",
    "for i in range(u.shape[0]):\n",
    "    codir = gl.VectorDouble()\n",
    "    codir.push_back(u[i])\n",
    "    codir.push_back(v[i])\n",
    "    res[i] = gl.GH.rotationGetAngles(codir)[0]\n",
    "    "
   ]
  },
  {
   "cell_type": "code",
   "execution_count": null,
   "id": "67b237a9",
   "metadata": {},
   "outputs": [],
   "source": [
    "grid.deleteColumn(\"angles*\")\n",
    "if not oldMethod:\n",
    "    grid[\"angles1\"]= res\n",
    "    grid.setLocator(\"angles*\",gl.ELoc.NOSTAT)\n",
    "    nostat = gl.NoStatArray([\"M2A\"],grid)\n",
    "    model.addNoStat(nostat)"
   ]
  },
  {
   "cell_type": "code",
   "execution_count": null,
   "id": "214022e9",
   "metadata": {},
   "outputs": [],
   "source": [
    "grid.deleteColumns([\"spde*\"])"
   ]
  },
  {
   "cell_type": "code",
   "execution_count": null,
   "id": "92ad5791",
   "metadata": {},
   "outputs": [],
   "source": [
    "spde = gl.SPDE(model,grid,data,gl.ESPDECalcMode.KRIGING)"
   ]
  },
  {
   "cell_type": "code",
   "execution_count": null,
   "id": "abfbbdb7",
   "metadata": {
    "scrolled": true
   },
   "outputs": [],
   "source": [
    "uid_result= spde.compute(grid)\n",
    "grid"
   ]
  },
  {
   "cell_type": "code",
   "execution_count": null,
   "id": "3cc2a897",
   "metadata": {
    "scrolled": true
   },
   "outputs": [],
   "source": [
    "#fig,ax = gp.initGeographic()\n",
    "#ax.raster(grid,\"spde*kriging\",cmap=\"gnuplot2\", flagLegend = True)\n",
    "plt.figure(figsize=[20,12])\n",
    "gp.raster(grid,\"spde.Thickness*estim\",cmap=\"gnuplot2\", flagLegend = True)"
   ]
  },
  {
   "cell_type": "markdown",
   "id": "58f40dd6",
   "metadata": {},
   "source": [
    " # Prepare Export to ArcGIS"
   ]
  },
  {
   "cell_type": "code",
   "execution_count": null,
   "id": "31e3d266",
   "metadata": {},
   "outputs": [],
   "source": [
    "#Kriging data to new grid\n",
    "#raster = gl.DbGrid()\n",
    "#raster.reset([2400,2600],[50,50],[625000,6870000],[0,0])\n",
    "#gl.migrate(grid, raster, \"spde.Thickness.kriging\",2,[100,100],True)"
   ]
  },
  {
   "cell_type": "code",
   "execution_count": null,
   "id": "5ba7a6d6",
   "metadata": {},
   "outputs": [],
   "source": [
    "# Export Kriging grid to Ascii for Raster format => raster.gridwrite.format(\"arcgis\",\"filename.txt\")\n",
    "#Kri=raster.getColumn(\"Migrate.spde.Thickness.kriging\")\n",
    "#len(Kri)\n",
    "#KriG= np.array(Kri)\n",
    "#KriG = np.where(KriG > 1000, -999999, KriG)\n",
    "#KriG= np.where(KriG==0, -999999, KriG) \n",
    "#np.savetxt(\"filename.txt\", KriG)"
   ]
  }
 ],
 "metadata": {
  "kernelspec": {
   "display_name": "Python 3 (ipykernel)",
   "language": "python",
   "name": "python3"
  },
  "language_info": {
   "codemirror_mode": {
    "name": "ipython",
    "version": 3
   },
   "file_extension": ".py",
   "mimetype": "text/x-python",
   "name": "python",
   "nbconvert_exporter": "python",
   "pygments_lexer": "ipython3",
   "version": "3.10.5"
  },
  "toc": {
   "base_numbering": 1,
   "nav_menu": {},
   "number_sections": true,
   "sideBar": true,
   "skip_h1_title": false,
   "title_cell": "Table of Contents",
   "title_sidebar": "Contents",
   "toc_cell": false,
   "toc_position": {},
   "toc_section_display": true,
   "toc_window_display": false
  }
 },
 "nbformat": 4,
 "nbformat_minor": 5
}
