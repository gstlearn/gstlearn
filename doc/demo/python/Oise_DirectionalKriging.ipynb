{
 "cells": [
  {
   "cell_type": "markdown",
   "id": "350063f6",
   "metadata": {},
   "source": [
    "# Set up"
   ]
  },
  {
   "cell_type": "code",
   "execution_count": 104,
   "id": "2d2687ce",
   "metadata": {},
   "outputs": [
    {
     "data": {
      "application/javascript": [
       "IPython.OutputArea.prototype._should_scroll = function(lines) {\n",
       "return false;\n",
       "}\n"
      ],
      "text/plain": [
       "<IPython.core.display.Javascript object>"
      ]
     },
     "metadata": {},
     "output_type": "display_data"
    }
   ],
   "source": [
    "%%javascript\n",
    "IPython.OutputArea.prototype._should_scroll = function(lines) {\n",
    "return false;\n",
    "}"
   ]
  },
  {
   "cell_type": "code",
   "execution_count": 105,
   "id": "5d8ccad9",
   "metadata": {},
   "outputs": [],
   "source": [
    "import matplotlib.pyplot as plt\n",
    "import gstlearn as gl\n",
    "import gstlearn.plot as gp\n",
    "import numpy as np\n",
    "import pandas as pd\n",
    "import scipy as sp\n",
    "from scipy import interpolate\n",
    "import os\n",
    "import urllib.request"
   ]
  },
  {
   "cell_type": "code",
   "execution_count": 106,
   "id": "d25fc103",
   "metadata": {},
   "outputs": [],
   "source": [
    "#!pip install -i https://test.pypi.org/simple/ gstlearn\n",
    "#!pip uninstall -y gstlearn\n",
    "#!pip3 install numpy --upgrade"
   ]
  },
  {
   "cell_type": "markdown",
   "id": "1cd76ae1",
   "metadata": {},
   "source": [
    "# Load Data"
   ]
  },
  {
   "cell_type": "code",
   "execution_count": 108,
   "id": "ea9d6463",
   "metadata": {},
   "outputs": [
    {
     "data": {
      "text/plain": [
       "\n",
       "Data Base Grid Characteristics\n",
       "==============================\n",
       "\n",
       "Data Base Summary\n",
       "-----------------\n",
       "File is organized as a regular grid\n",
       "Space dimension              = 2\n",
       "Number of Columns            = 9\n",
       "Maximum Number of UIDs       = 9\n",
       "Total number of samples      = 1320000\n",
       "Number of active samples     = 278129\n",
       "\n",
       "Grid characteristics:\n",
       "---------------------\n",
       "Origin : 630000.0006865000.000\n",
       "Mesh   :     50.000    50.000\n",
       "Number :       3300       400\n",
       "Rotation Angles        =     40.000     0.000\n",
       "Direct Rotation Matrix\n",
       "               [,  0]    [,  1]\n",
       "     [  0,]     0.766    -0.643\n",
       "     [  1,]     0.643     0.766\n",
       "Inverse Rotation Matrix\n",
       "               [,  0]    [,  1]\n",
       "     [  0,]     0.766     0.643\n",
       "     [  1,]    -0.643     0.766\n",
       "\n",
       "Variables\n",
       "---------\n",
       "Column = 0 - Name = rank - Locator = NA\n",
       "Column = 1 - Name = x1 - Locator = x1\n",
       "Column = 2 - Name = x2 - Locator = x2\n",
       "Column = 3 - Name = Polygon - Locator = NA\n",
       "Column = 4 - Name = Migrate.u_interp - Locator = z1\n",
       "Column = 5 - Name = Migrate.v_interp - Locator = z2\n",
       "Column = 6 - Name = vec_define - Locator = NA\n",
       "Column = 7 - Name = angles1 - Locator = nostat1\n",
       "Column = 8 - Name = res - Locator = sel"
      ]
     },
     "execution_count": 108,
     "metadata": {},
     "output_type": "execute_result"
    }
   ],
   "source": [
    "url = 'https://soft.minesparis.psl.eu/gstlearn/data/Alluvial/Oise_GridVectorFinal.ascii'\n",
    "filename, head = urllib.request.urlretrieve(url)\n",
    "grid = gl.DbGrid.createFromNF(filename)\n",
    "grid"
   ]
  },
  {
   "cell_type": "code",
   "execution_count": 109,
   "id": "4b73b33b",
   "metadata": {},
   "outputs": [],
   "source": [
    "ranges = [500,10000]\n",
    "oldMethod = False"
   ]
  },
  {
   "cell_type": "code",
   "execution_count": 110,
   "id": "15ba053a",
   "metadata": {},
   "outputs": [
    {
     "data": {
      "text/plain": [
       "\n",
       "Data Base Characteristics\n",
       "=========================\n",
       "\n",
       "Data Base Summary\n",
       "-----------------\n",
       "File is organized as a set of isolated points\n",
       "Space dimension              = 2\n",
       "Number of Columns            = 7\n",
       "Maximum Number of UIDs       = 7\n",
       "Total number of samples      = 1022\n",
       "Number of active samples     = 1007\n",
       "\n",
       "Variables\n",
       "---------\n",
       "Column = 0 - Name = rank - Locator = NA\n",
       "Column = 1 - Name = X - Locator = x1\n",
       "Column = 2 - Name = Y - Locator = x2\n",
       "Column = 3 - Name = Epaisseur - Locator = lower1\n",
       "Column = 4 - Name = Epaisseur_1 - Locator = upper1\n",
       "Column = 5 - Name = Thickness - Locator = z1\n",
       "Column = 6 - Name = Duplicate - Locator = sel"
      ]
     },
     "execution_count": 110,
     "metadata": {},
     "output_type": "execute_result"
    }
   ],
   "source": [
    "url = 'https://soft.minesparis.psl.eu/gstlearn/data/Alluvial/Oise_Data.ascii'\n",
    "filename, head = urllib.request.urlretrieve(url)\n",
    "data = gl.Db.createFromNF(filename)\n",
    "data"
   ]
  },
  {
   "cell_type": "markdown",
   "id": "cd56b00a",
   "metadata": {},
   "source": [
    "# Krigeage SPDE"
   ]
  },
  {
   "cell_type": "code",
   "execution_count": 111,
   "id": "4a0d522e",
   "metadata": {},
   "outputs": [
    {
     "name": "stdout",
     "output_type": "stream",
     "text": [
      "\n",
      "Variogram characteristics\n",
      "=========================\n",
      "Number of variable(s)       = 1\n",
      "Number of direction(s)      = 2\n",
      "Space dimension             = 2\n",
      "Variance-Covariance Matrix     8.308\n",
      "\n",
      "Direction #1\n",
      "------------\n",
      "Number of lags              = 40\n",
      "Direction coefficients      =      1.000     1.000\n",
      "Direction angles (degrees)  =     45.000     0.000\n",
      "Tolerance on direction      =     45.000 (degrees)\n",
      "Calculation lag             =    800.000\n",
      "Tolerance on distance       =     50.000 (Percent of the lag value)\n",
      "\n",
      "For variable 1\n",
      "      Rank    Npairs  Distance     Value\n",
      "         0  1490.000   223.076     4.288\n",
      "         1  4135.000   817.513     6.027\n",
      "         2  4998.000  1597.587     5.765\n",
      "         3  5136.000  2402.372     7.172\n",
      "         4  4916.000  3203.179     7.076\n",
      "         5  5370.000  3996.268     6.865\n",
      "         6  5948.000  4804.243     6.811\n",
      "         7  5990.000  5607.329     6.236\n",
      "         8  5883.000  6392.169     6.132\n",
      "         9  5766.000  7198.769     7.205\n",
      "        10  5597.000  8003.510     6.703\n",
      "        11  4787.000  8802.057     7.668\n",
      "        12  5403.000  9590.324     6.747\n",
      "        13  5078.000 10419.574     6.709\n",
      "        14  5653.000 11189.885     6.865\n",
      "        15  6134.000 12008.161     6.501\n",
      "        16  5399.000 12774.078     6.778\n",
      "        17  4853.000 13605.558     6.502\n",
      "        18  4516.000 14393.275     6.467\n",
      "        19  4757.000 15204.141     6.521\n",
      "        20  4609.000 16000.765     5.898\n",
      "        21  4440.000 16792.781     6.951\n",
      "        22  4748.000 17616.270     7.334\n",
      "        23  6281.000 18422.038     7.215\n",
      "        24  5730.000 19188.968     7.037\n",
      "        25  5347.000 19996.444     6.630\n",
      "        26  5141.000 20791.941     7.823\n",
      "        27  5458.000 21593.393     7.906\n",
      "        28  4791.000 22407.613     7.568\n",
      "        29  5377.000 23190.787     9.347\n",
      "        30  4959.000 24009.942     7.417\n",
      "        31  5189.000 24797.152     7.993\n",
      "        32  5187.000 25608.299     7.774\n",
      "        33  5398.000 26409.517     8.090\n",
      "        34  4921.000 27190.774     7.407\n",
      "        35  4706.000 27991.019     7.817\n",
      "        36  4497.000 28793.891     7.413\n",
      "        37  5282.000 29647.849     7.006\n",
      "        38  5399.000 30398.721     7.503\n",
      "        39  6070.000 31199.474     7.760\n",
      "\n",
      "Direction #2\n",
      "------------\n",
      "Number of lags              = 20\n",
      "Direction coefficients      =     -1.000     1.000\n",
      "Direction angles (degrees)  =    135.000     0.000\n",
      "Tolerance on direction      =     45.000 (degrees)\n",
      "Calculation lag             =    400.000\n",
      "Tolerance on distance       =     50.000 (Percent of the lag value)\n",
      "\n",
      "For variable 1\n",
      "      Rank    Npairs  Distance     Value\n",
      "         0   594.000   119.131     2.777\n",
      "         1  1399.000   393.836     4.535\n",
      "         2  1453.000   793.785     6.290\n",
      "         3  1224.000  1196.400     6.529\n",
      "         4  1032.000  1596.868     7.385\n",
      "         5   858.000  1983.161     7.192\n",
      "         6   697.000  2404.699     7.787\n",
      "         7   675.000  2794.542     7.751\n",
      "         8   419.000  3189.263     8.768\n",
      "         9   354.000  3597.904    11.252\n",
      "        10   339.000  3996.583     9.995\n",
      "        11   260.000  4402.766     7.896\n",
      "        12   232.000  4792.850     7.453\n",
      "        13   177.000  5178.782     7.800\n",
      "        14   172.000  5586.833     6.960\n",
      "        15   100.000  5978.383     9.960\n",
      "        16    89.000  6394.625     9.218\n",
      "        17    55.000  6800.319     5.859\n",
      "        18    30.000  7199.585     9.574\n",
      "        19    39.000  7641.196     4.828\n",
      " "
     ]
    },
    {
     "data": {
      "image/png": "[encoded data removed]",
      "text/plain": [
       "<Figure size 360x360 with 1 Axes>"
      ]
     },
     "metadata": {
      "needs_background": "light"
     },
     "output_type": "display_data"
    }
   ],
   "source": [
    "myVarioParamBidir = gl.VarioParam()\n",
    "mydir = gl.DirParam(40,800.,0.5,45.,0,0,np.nan,np.nan,0.,[],[1,1])\n",
    "myVarioParamBidir.addDir(mydir)\n",
    "mydir = gl.DirParam(20,400.,0.5,45.,0,0,np.nan,np.nan,0.,[],[-1,1])\n",
    "myVarioParamBidir.addDir(mydir)\n",
    "myVarioBidir = gl.Vario(myVarioParamBidir,data)\n",
    "err = myVarioBidir.compute(gl.ECalcVario.VARIOGRAM)\n",
    "myVarioBidir.display()\n",
    "ax = gp.varmod(myVarioBidir,idir=0)\n",
    "ax.decoration(title=\"Bi-directional Variogram for thickness(45°)\")\n",
    "ax = gp.varmod(myVarioBidir,idir=1)\n",
    "ax.decoration(title=\"Bi-directional Variogram for thickness(45/135°)\")"
   ]
  },
  {
   "cell_type": "code",
   "execution_count": 112,
   "id": "7b3bc0a0",
   "metadata": {},
   "outputs": [
    {
     "name": "stdout",
     "output_type": "stream",
     "text": [
      "\n",
      "Model characteristics\n",
      "=====================\n",
      "Space dimension              = 2\n",
      "Number of variable(s)        = 1\n",
      "Number of basic structure(s) = 2\n",
      "Number of drift function(s)  = 0\n",
      "Number of drift equation(s)  = 0\n",
      "\n",
      "Covariance Part\n",
      "---------------\n",
      "Nugget Effect\n",
      "- Sill         =      2.215\n",
      "K-Bessel (Third Parameter = 1)\n",
      "- Sill         =      4.700\n",
      "- Ranges       =   1046.558  1497.411\n",
      "- Theo. Ranges =    302.115   432.265\n",
      "- Angles       =     45.000     0.000\n",
      "- Rotation Matrix\n",
      "               [,  0]    [,  1]\n",
      "     [  0,]     0.707    -0.707\n",
      "     [  1,]     0.707     0.707\n",
      "Total Sill     =      6.915\n",
      " "
     ]
    },
    {
     "data": {
      "image/png": "[encoded data removed]",
      "text/plain": [
       "<Figure size 360x360 with 1 Axes>"
      ]
     },
     "metadata": {
      "needs_background": "light"
     },
     "output_type": "display_data"
    }
   ],
   "source": [
    "model = gl.Model.createFromDb(data)\n",
    "\n",
    "\n",
    "structs = [gl.ECov.NUGGET,gl.ECov.BESSEL_K]\n",
    "\n",
    "#consNug = gl.ConsItem.define(gl.EConsElem.SILL,0, type = gl.EConsType.UPPER,value = 0.1)\n",
    "\n",
    "cons1P = gl.ConsItem.define(gl.EConsElem.PARAM,1, type = gl.EConsType.EQUAL,value = 1)\n",
    "#cons1Rm = gl.ConsItem.define(gl.EConsElem.RANGE,1, type = gl.EConsType.LOWER,value = 100)\n",
    "#cons1RM = gl.ConsItem.define(gl.EConsElem.RANGE,1, type = gl.EConsType.UPPER,value = 350)\n",
    "\n",
    "#cons2P = gl.ConsItem.define(gl.EConsElem.PARAM,2, type = gl.EConsType.EQUAL,value = 2)\n",
    "#cons2Rm = gl.ConsItem.define(gl.EConsElem.RANGE,2, type = gl.EConsType.LOWER,value = 100)\n",
    "#cons2RM = gl.ConsItem.define(gl.EConsElem.RANGE,2, type = gl.EConsType.UPPER,value = 400)\n",
    "\n",
    "a = gl.Constraints()\n",
    "#a.addItem(consNug)\n",
    "a.addItem(cons1P)\n",
    "#a.addItem(cons1Rm)\n",
    "#a.addItem(cons1RM)\n",
    "#a.addItem(cons2P)\n",
    "#a.addItem(cons2Rm)\n",
    "#a.addItem(cons2RM)\n",
    "\n",
    "err = model.fit(myVarioBidir,structs,constraints=a)\n",
    "\n",
    "\n",
    "#err = model.fit(myVarioBidir,[gl.ECov.NUGGET,gl.ECov.BESSEL_K,gl.ECov.BESSEL_K], False)\n",
    "\n",
    "model.display()\n",
    "ax = gp.varmod(myVarioBidir,model,idir=0)\n",
    "ax = gp.varmod(myVarioBidir,model,idir=1)"
   ]
  },
  {
   "cell_type": "code",
   "execution_count": 113,
   "id": "42b0ee3d",
   "metadata": {},
   "outputs": [],
   "source": [
    "if not oldMethod :\n",
    "    model = gl.Model.createFromDb(data)\n",
    "    covBessel = gl.CovAniso.createAnisotropic(type = gl.ECov.BESSEL_K,ranges=ranges,sill=4.7,param=1,ctxt=model.getContext())\n",
    "    covNugget = gl.CovAniso.createIsotropic(type = gl.ECov.NUGGET,sill=2.2,ctxt=model.getContext(),range=1)\n",
    "    model.addCov(covNugget)\n",
    "    model.addCov(covBessel)\n"
   ]
  },
  {
   "cell_type": "code",
   "execution_count": 114,
   "id": "b2b54365",
   "metadata": {},
   "outputs": [],
   "source": [
    "grid.setLocator(\"Poly*\", gl.ELoc.SEL)\n",
    "#grid.setLocator(\"Poly*\",gl.ELoc.UNKNOWN)"
   ]
  },
  {
   "cell_type": "code",
   "execution_count": 115,
   "id": "acca3141",
   "metadata": {},
   "outputs": [
    {
     "data": {
      "text/plain": [
       "\n",
       "Model characteristics\n",
       "=====================\n",
       "Space dimension              = 2\n",
       "Number of variable(s)        = 1\n",
       "Number of basic structure(s) = 2\n",
       "Number of drift function(s)  = 1\n",
       "Number of drift equation(s)  = 1\n",
       "\n",
       "Covariance Part\n",
       "---------------\n",
       "Nugget Effect\n",
       "- Sill         =      2.200\n",
       "K-Bessel (Third Parameter = 1)\n",
       "- Sill         =      4.700\n",
       "- Ranges       =    500.000 10000.000\n",
       "- Theo. Ranges =    144.338  2886.751\n",
       "Total Sill     =      6.900\n",
       "\n",
       "Drift Part\n",
       "----------\n",
       "Universality Condition"
      ]
     },
     "execution_count": 115,
     "metadata": {},
     "output_type": "execute_result"
    }
   ],
   "source": [
    "model.setDriftIRF(order = 0)\n",
    "model"
   ]
  },
  {
   "cell_type": "code",
   "execution_count": 116,
   "id": "13e1c724",
   "metadata": {},
   "outputs": [],
   "source": [
    "u = grid[\"Migrate.u_interp\"]\n",
    "v = grid[\"Migrate.v_interp\"]\n",
    "res = 0. * u\n",
    "for i in range(u.shape[0]):\n",
    "    codir = gl.VectorDouble()\n",
    "    codir.push_back(u[i])\n",
    "    codir.push_back(v[i])\n",
    "    res[i] = gl.GH.rotationGetAngles(codir)[0]\n",
    "    "
   ]
  },
  {
   "cell_type": "code",
   "execution_count": 117,
   "id": "67b237a9",
   "metadata": {},
   "outputs": [],
   "source": [
    "grid.deleteColumn(\"angles*\")\n",
    "if not oldMethod:\n",
    "    grid[\"angles1\"]= res\n",
    "    grid.setLocator(\"angles*\",gl.ELoc.NOSTAT)\n",
    "    nostat = gl.NoStatArray([\"M2A\"],grid)\n",
    "    model.addNoStat(nostat)"
   ]
  },
  {
   "cell_type": "code",
   "execution_count": 118,
   "id": "214022e9",
   "metadata": {},
   "outputs": [],
   "source": [
    "grid.deleteColumns([\"spde*\"])\n"
   ]
  },
  {
   "cell_type": "code",
   "execution_count": 119,
   "id": "0759d0f1",
   "metadata": {},
   "outputs": [
    {
     "data": {
      "text/plain": [
       "\n",
       "Data Base Characteristics\n",
       "=========================\n",
       "\n",
       "Data Base Summary\n",
       "-----------------\n",
       "File is organized as a set of isolated points\n",
       "Space dimension              = 2\n",
       "Number of Columns            = 7\n",
       "Maximum Number of UIDs       = 7\n",
       "Total number of samples      = 1022\n",
       "Number of active samples     = 1007\n",
       "\n",
       "Variables\n",
       "---------\n",
       "Column = 0 - Name = rank - Locator = NA\n",
       "Column = 1 - Name = X - Locator = x1\n",
       "Column = 2 - Name = Y - Locator = x2\n",
       "Column = 3 - Name = Epaisseur - Locator = lower1\n",
       "Column = 4 - Name = Epaisseur_1 - Locator = upper1\n",
       "Column = 5 - Name = Thickness - Locator = z1\n",
       "Column = 6 - Name = Duplicate - Locator = sel"
      ]
     },
     "execution_count": 119,
     "metadata": {},
     "output_type": "execute_result"
    }
   ],
   "source": [
    "data"
   ]
  },
  {
   "cell_type": "code",
   "execution_count": 120,
   "id": "92ad5791",
   "metadata": {},
   "outputs": [],
   "source": [
    "spde = gl.SPDE(model,grid,data,gl.ESPDECalcMode.KRIGING)"
   ]
  },
  {
   "cell_type": "code",
   "execution_count": 121,
   "id": "c5d1d4a2",
   "metadata": {},
   "outputs": [],
   "source": [
    "spde.compute()"
   ]
  },
  {
   "cell_type": "code",
   "execution_count": 122,
   "id": "abfbbdb7",
   "metadata": {
    "scrolled": true
   },
   "outputs": [
    {
     "data": {
      "text/plain": [
       "\n",
       "Data Base Grid Characteristics\n",
       "==============================\n",
       "\n",
       "Data Base Summary\n",
       "-----------------\n",
       "File is organized as a regular grid\n",
       "Space dimension              = 2\n",
       "Number of Columns            = 10\n",
       "Maximum Number of UIDs       = 11\n",
       "Total number of samples      = 1320000\n",
       "Number of active samples     = 138248\n",
       "\n",
       "Grid characteristics:\n",
       "---------------------\n",
       "Origin : 630000.0006865000.000\n",
       "Mesh   :     50.000    50.000\n",
       "Number :       3300       400\n",
       "Rotation Angles        =     40.000     0.000\n",
       "Direct Rotation Matrix\n",
       "               [,  0]    [,  1]\n",
       "     [  0,]     0.766    -0.643\n",
       "     [  1,]     0.643     0.766\n",
       "Inverse Rotation Matrix\n",
       "               [,  0]    [,  1]\n",
       "     [  0,]     0.766     0.643\n",
       "     [  1,]    -0.643     0.766\n",
       "\n",
       "Variables\n",
       "---------\n",
       "Column = 0 - Name = rank - Locator = NA\n",
       "Column = 1 - Name = x1 - Locator = x1\n",
       "Column = 2 - Name = x2 - Locator = x2\n",
       "Column = 3 - Name = Polygon - Locator = sel\n",
       "Column = 4 - Name = Migrate.u_interp - Locator = NA\n",
       "Column = 5 - Name = Migrate.v_interp - Locator = NA\n",
       "Column = 6 - Name = vec_define - Locator = NA\n",
       "Column = 7 - Name = res - Locator = NA\n",
       "Column = 8 - Name = angles1 - Locator = nostat1\n",
       "Column = 9 - Name = spde.Thickness.kriging - Locator = z1"
      ]
     },
     "execution_count": 122,
     "metadata": {},
     "output_type": "execute_result"
    }
   ],
   "source": [
    "uid_result= spde.query(grid)\n",
    "grid"
   ]
  },
  {
   "cell_type": "code",
   "execution_count": 127,
   "id": "3cc2a897",
   "metadata": {
    "scrolled": true
   },
   "outputs": [
    {
     "data": {
      "text/plain": [
       "<matplotlib.collections.QuadMesh at 0x7fb1380422f0>"
      ]
     },
     "execution_count": 127,
     "metadata": {},
     "output_type": "execute_result"
    },
    {
     "data": {
      "image/png": "[encoded data removed]",
      "text/plain": [
       "<Figure size 1440x864 with 2 Axes>"
      ]
     },
     "metadata": {
      "needs_background": "light"
     },
     "output_type": "display_data"
    }
   ],
   "source": [
    "#fig,ax = gp.initGeographic()\n",
    "#ax.raster(grid,\"spde*kriging\",cmap=\"gnuplot2\", flagLegend = True)\n",
    "plt.figure(figsize=[20,12])\n",
    "gp.raster(grid,\"spde*kriging\",cmap=\"gnuplot2\", flagLegend = True)"
   ]
  },
  {
   "cell_type": "markdown",
   "id": "58f40dd6",
   "metadata": {},
   "source": [
    " # Prepare Export to ArcGIS"
   ]
  },
  {
   "cell_type": "code",
   "execution_count": 124,
   "id": "31e3d266",
   "metadata": {},
   "outputs": [],
   "source": [
    "#Kriging data to new grid\n",
    "#raster = gl.DbGrid()\n",
    "#raster.reset([2400,2600],[50,50],[625000,6870000],[0,0])\n",
    "#gl.migrate(grid, raster, \"spde.Thickness.kriging\",2,[100,100],True)"
   ]
  },
  {
   "cell_type": "code",
   "execution_count": 125,
   "id": "5ba7a6d6",
   "metadata": {},
   "outputs": [],
   "source": [
    "# Export Kriging grid to Ascii for Raster format => raster.gridwrite.format(\"arcgis\",\"filename.txt\")\n",
    "#Kri=raster.getColumn(\"Migrate.spde.Thickness.kriging\")\n",
    "#len(Kri)\n",
    "#KriG= np.array(Kri)\n",
    "#KriG = np.where(KriG > 1000, -999999, KriG)\n",
    "#KriG= np.where(KriG==0, -999999, KriG) \n",
    "#np.savetxt(\"filename.txt\", KriG)"
   ]
  }
 ],
 "metadata": {
  "kernelspec": {
   "display_name": "Python 3 (ipykernel)",
   "language": "python",
   "name": "python3"
  },
  "language_info": {
   "codemirror_mode": {
    "name": "ipython",
    "version": 3
   },
   "file_extension": ".py",
   "mimetype": "text/x-python",
   "name": "python",
   "nbconvert_exporter": "python",
   "pygments_lexer": "ipython3",
   "version": "3.10.12"
  }
 },
 "nbformat": 4,
 "nbformat_minor": 5
}
