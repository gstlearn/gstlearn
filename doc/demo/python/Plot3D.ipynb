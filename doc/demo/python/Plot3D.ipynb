{
 "cells": [
  {
   "cell_type": "code",
   "execution_count": null,
   "id": "a9105a33",
   "metadata": {},
   "outputs": [],
   "source": [
    "import numpy as np\n",
    "import plotly.graph_objects as go\n",
    "import IPython\n",
    "import gstlearn as gl\n",
    "import gstlearn.plot as gp\n",
    "import matplotlib.pyplot as plt\n",
    "\n",
    "#https://nbviewer.org/github/empet/Plotly-plots/blob/master/Plotly-Slice-in-volumetric-data.ipynb"
   ]
  },
  {
   "cell_type": "markdown",
   "id": "525d263c",
   "metadata": {},
   "source": [
    "# Simulation avec gstlearn"
   ]
  },
  {
   "cell_type": "code",
   "execution_count": null,
   "id": "ce214e83",
   "metadata": {},
   "outputs": [],
   "source": [
    "model = gl.Model.createFromParam(gl.ECov.BESSEL_K,param=0.5,range=50,space=gl.SpaceRN(3))\n",
    "grid = gl.DbGrid.create(nx = [100,100,100])\n",
    "gl.simtub(None,dbout=grid,model=model)"
   ]
  },
  {
   "cell_type": "code",
   "execution_count": null,
   "id": "11df21f4",
   "metadata": {},
   "outputs": [],
   "source": [
    "def get_the_slice(x,y,z, surfacecolor):\n",
    "    return go.Surface(x=x,\n",
    "                      y=y,\n",
    "                      z=z,\n",
    "                      surfacecolor=surfacecolor,\n",
    "                      coloraxis='coloraxis')\n",
    "\n"
   ]
  },
  {
   "cell_type": "code",
   "execution_count": null,
   "id": "a609aea7",
   "metadata": {},
   "outputs": [],
   "source": [
    "def get_lims_colors(surfacecolor):# color limits for a slice\n",
    "    return np.min(surfacecolor), np.max(surfacecolor)\n"
   ]
  },
  {
   "cell_type": "code",
   "execution_count": null,
   "id": "2f4c99a9",
   "metadata": {},
   "outputs": [],
   "source": [
    "def return_slice(grid,name,indSlice,pos = 0,usesel=False):\n",
    "    \n",
    "    useback = grid.useSel\n",
    "    grid.useSel = usesel\n",
    "    res = grid[name].reshape(grid.getNXs())\n",
    "    nx = grid.getNX(0)\n",
    "    ny = grid.getNX(1)\n",
    "    nz = grid.getNX(2)\n",
    "\n",
    "    rangeX = grid.getExtrema(0,usesel)\n",
    "    rangeY = grid.getExtrema(1,usesel)\n",
    "    rangeZ = grid.getExtrema(2,usesel)\n",
    "    \n",
    "    if pos == 0 :\n",
    "        y = grid.getGridAxis(1)\n",
    "        z = grid.getGridAxis(2)\n",
    "        y,z = np.meshgrid(y,z)\n",
    "        x = grid.getGridAxis(0)[indSlice] * np.ones(y.shape)\n",
    "        surfcolor = res[indSlice,:,:].T\n",
    "       \n",
    "        \n",
    "    if pos == 1 :\n",
    "        x = grid.getGridAxis(0)\n",
    "        z = grid.getGridAxis(2)\n",
    "        x, z = np.meshgrid(x,z)\n",
    "        y = grid.getGridAxis(1)[indSlice] * np.ones(x.shape)\n",
    "        surfcolor = res[:,indSlice,:].T\n",
    "\n",
    "    \n",
    "    if pos == 2 :\n",
    "        x = grid.getGridAxis(0)\n",
    "        y = grid.getGridAxis(1)\n",
    "        x, y = np.meshgrid(x,y)\n",
    "        z = grid.getGridAxis(2)[indSlice] * np.ones(x.shape)\n",
    "        surfcolor = res[:,:,indSlice].T\n",
    "    \n",
    "    sliceRes = get_the_slice(x, y, z, surfcolor)\n",
    "    \n",
    "    grid.useSel = useback\n",
    "    \n",
    "    return sliceRes"
   ]
  },
  {
   "cell_type": "code",
   "execution_count": null,
   "id": "5b053bae",
   "metadata": {},
   "outputs": [],
   "source": [
    "def colorax(vmin, vmax):\n",
    "    return dict(cmin=vmin,\n",
    "                cmax=vmax)\n"
   ]
  },
  {
   "cell_type": "code",
   "execution_count": null,
   "id": "66c53815",
   "metadata": {},
   "outputs": [],
   "source": [
    "res = grid[\"Simu\"].reshape(grid.getNXs())\n",
    "sminz, smaxz = get_lims_colors(res)\n",
    "data = [return_slice(grid,\"Simu\",12),\n",
    "        return_slice(grid,\"Simu\",22),\n",
    "        return_slice(grid,\"Simu\",22,1)\n",
    "       ]\n",
    "fig1 = go.Figure(data=data)\n",
    "\n",
    "\n",
    "\n",
    "fig1.update_layout(\n",
    "         title_text='Slices in volumetric data', \n",
    "         title_x=0.5,\n",
    "         width=700,\n",
    "         height=700,\n",
    "         scene_zaxis_range=grid.getExtrema(0,False),\n",
    "         scene_xaxis_range=grid.getExtrema(1,False),\n",
    "         scene_yaxis_range=grid.getExtrema(2,False),\n",
    "         coloraxis=dict(colorscale='BrBG',\n",
    "                        colorbar_thickness=25,\n",
    "                        colorbar_len=0.75,\n",
    "                        **colorax(sminz, smaxz)))            \n",
    "      \n",
    "#fig1.show()  "
   ]
  },
  {
   "cell_type": "code",
   "execution_count": null,
   "id": "44ab486c",
   "metadata": {},
   "outputs": [],
   "source": [
    "plt.imshow(res[:,36,:],cmap='BrBG',norm=plt.Normalize(sminz,smaxz))"
   ]
  },
  {
   "cell_type": "code",
   "execution_count": null,
   "id": "2016d6c8",
   "metadata": {},
   "outputs": [],
   "source": []
  }
 ],
 "metadata": {
  "kernelspec": {
   "display_name": "Python 3 (ipykernel)",
   "language": "python",
   "name": "python3"
  },
  "language_info": {
   "codemirror_mode": {
    "name": "ipython",
    "version": 3
   },
   "file_extension": ".py",
   "mimetype": "text/x-python",
   "name": "python",
   "nbconvert_exporter": "python",
   "pygments_lexer": "ipython3",
   "version": "3.10.2"
  }
 },
 "nbformat": 4,
 "nbformat_minor": 5
}
