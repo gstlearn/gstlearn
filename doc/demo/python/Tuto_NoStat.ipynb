{
 "cells": [
  {
   "cell_type": "markdown",
   "metadata": {},
   "source": [
    "# Non stationary covariances"
   ]
  },
  {
   "cell_type": "markdown",
   "metadata": {},
   "source": [
    "This tutorial aims to show how to handle non stationary covariances for kriging, covariance evaluation, and SPDE approach.\n",
    "\n",
    "For the covariance based approach (used in the gstlearn function **kriging**) the covariance formulas can be obtain in [this monograph](http://www-personal.umich.edu/~jizhu/jizhu/covar/Stein-Summary.pdf) of M. Stein.\n",
    "\n",
    "For the SPDE approach, a detailed material can be obtained in the [Phd thesis](https://pastel.hal.science/tel-02499376v1/document) of M. Pereira.\n",
    "\n",
    "In **gstlearn**, there are two ways to specify the non stationary covariance :\n",
    "* by providing maps of parameters through a Db which covers the domain\n",
    "* by providing a function (**AFunctional** structure of gstlearn)\n",
    "\n",
    "We will explain the two approaches.\n",
    "\n",
    "We first create a reference model."
   ]
  },
  {
   "cell_type": "code",
   "execution_count": 1,
   "metadata": {},
   "outputs": [],
   "source": [
    "import gstlearn as gl\n",
    "import numpy as np\n",
    "\n",
    "model =gl.Model.createFromParam(gl.ECov.MATERN,range=10,param=1, sill = 2)"
   ]
  },
  {
   "cell_type": "markdown",
   "metadata": {},
   "source": [
    "We extract the **CovAniso** structure"
   ]
  },
  {
   "cell_type": "code",
   "execution_count": 2,
   "metadata": {},
   "outputs": [
    {
     "data": {
      "text/plain": [
       "Matern (Third Parameter = 1)\n",
       "- Sill         =      2.000\n",
       "- Range        =     10.000\n",
       "- Theo. Range  =      2.887"
      ]
     },
     "execution_count": 2,
     "metadata": {},
     "output_type": "execute_result"
    }
   ],
   "source": [
    "cova = model.getCova(0)\n",
    "cova"
   ]
  },
  {
   "cell_type": "markdown",
   "metadata": {},
   "source": [
    "We start by the first approach (non-stationarity defined through a **Db**).\n",
    "\n",
    "We define a **Db** of parameters named **grid1** for which we fill some columns of values (arbitrary in this tutorial)."
   ]
  },
  {
   "cell_type": "code",
   "execution_count": 3,
   "metadata": {},
   "outputs": [],
   "source": [
    "grid1 = gl.DbGrid.create([10,10])\n",
    "grid1[\"param1\"] = 2 * grid1[\"x1\"] +12\n",
    "grid1[\"param2\"] = 2 * grid1[\"x2\"] +5"
   ]
  },
  {
   "cell_type": "markdown",
   "metadata": {},
   "source": [
    "Then we can make the different parameters of the covariance non stationary by first attaching the **Db** and then providing the column name of the non stationary parameter. For instance:"
   ]
  },
  {
   "cell_type": "code",
   "execution_count": 4,
   "metadata": {},
   "outputs": [
    {
     "name": "stdout",
     "output_type": "stream",
     "text": [
      "Matern (Third Parameter = 1)\n",
      "- Sill         =      2.000\n",
      "- Range        =     10.000\n",
      "- Theo. Range  =      2.887\n",
      "\n",
      "Non-Stationary Parameters\n",
      "-------------------------\n",
      "1 - Range      : IDir=2\n",
      "2 - Angle      : IdAngle=1\n"
     ]
    }
   ],
   "source": [
    "cova.attachNoStatDb(grid1)\n",
    "cova.makeAngleNoStatDb(\"param1\")\n",
    "cova.makeRangeNoStatDb(\"param2\",1) #Range parameter in the second direction\n",
    "cova.display()"
   ]
  },
  {
   "cell_type": "markdown",
   "metadata": {},
   "source": [
    "Another way of doing this, is to specify the **Db** when you give the specification of the parameter. In that case, you don't need to explicitely attach a **Db** with **attachDbNoStat**."
   ]
  },
  {
   "cell_type": "code",
   "execution_count": 5,
   "metadata": {},
   "outputs": [
    {
     "name": "stdout",
     "output_type": "stream",
     "text": [
      "Matern (Third Parameter = 1)\n",
      "- Sill         =      2.000\n",
      "- Range        =     10.000\n",
      "- Theo. Range  =      2.887\n",
      "\n",
      "Non-Stationary Parameters\n",
      "-------------------------\n",
      "1 - Range      : IDir=2\n",
      "2 - Angle      : IdAngle=1\n"
     ]
    }
   ],
   "source": [
    "model =gl.Model.createFromParam(gl.ECov.MATERN,range=10,param=1, sill = 2)\n",
    "cova = model.getCova(0)\n",
    "cova.makeAngleNoStatDb(\"param1\",db = grid1)\n",
    "cova.makeRangeNoStatDb(\"param2\",1)\n",
    "cova.display()"
   ]
  },
  {
   "cell_type": "markdown",
   "metadata": {},
   "source": [
    "In that case, **grid1** is recorded as the reference **Db** for the next parameters.\n",
    "\n",
    "You can even have different **Db** for different parameters."
   ]
  },
  {
   "cell_type": "code",
   "execution_count": 6,
   "metadata": {},
   "outputs": [
    {
     "name": "stdout",
     "output_type": "stream",
     "text": [
      "Matern (Third Parameter = 1)\n",
      "- Sill         =      2.000\n",
      "- Range        =     10.000\n",
      "- Theo. Range  =      2.887\n",
      "\n",
      "Non-Stationary Parameters\n",
      "-------------------------\n",
      "1 - Sill       : Ivar=0 Jvar=0\n",
      "2 - Range      : IDir=2\n",
      "3 - Angle      : IdAngle=1\n"
     ]
    }
   ],
   "source": [
    "\n",
    "grid2 = gl.DbGrid.create([10,10])\n",
    "grid2[\"paramnew\"] = 3 * grid2[\"x2\"] +24\n",
    "\n",
    "cova.makeSillNoStatDb(\"paramnew\",db = grid2)\n",
    "cova.display()"
   ]
  },
  {
   "cell_type": "markdown",
   "metadata": {},
   "source": [
    "But the reference **Db** is the first one which has been attached (by **attachNoStatDb** or by the first parameter specification)"
   ]
  },
  {
   "cell_type": "code",
   "execution_count": 7,
   "metadata": {},
   "outputs": [
    {
     "name": "stdout",
     "output_type": "stream",
     "text": [
      "No variable name corresponding to your criterion\n",
      "You have to specified a name of a column of the reference Db\n"
     ]
    }
   ],
   "source": [
    "cova.makeRangeNoStatDb(\"paramnew\")"
   ]
  },
  {
   "cell_type": "markdown",
   "metadata": {},
   "source": [
    "Of course, you have to provide a **Db** to be allowed to give a specification:"
   ]
  },
  {
   "cell_type": "code",
   "execution_count": 8,
   "metadata": {},
   "outputs": [
    {
     "name": "stdout",
     "output_type": "stream",
     "text": [
      "You have to define a Db (with attachNoStatDb or by specifying a Db here)\n",
      "Matern (Third Parameter = 1)\n",
      "- Sill         =      2.000\n",
      "- Range        =     10.000\n",
      "- Theo. Range  =      2.887\n"
     ]
    }
   ],
   "source": [
    "model =gl.Model.createFromParam(gl.ECov.MATERN,range=10,param=1, sill = 2)\n",
    "cova = model.getCova(0)\n",
    "cova.makeAngleNoStatDb(\"param1\")\n",
    "cova.display()"
   ]
  },
  {
   "cell_type": "markdown",
   "metadata": {},
   "source": [
    "If you give several specifications for a given parameter, you have a warning message and the last specification is kept."
   ]
  },
  {
   "cell_type": "code",
   "execution_count": 9,
   "metadata": {},
   "outputs": [
    {
     "name": "stdout",
     "output_type": "stream",
     "text": [
      "Warning, this non stationarity was already specified. It has been replaced\n",
      "with the new specifications.\n"
     ]
    }
   ],
   "source": [
    "model =gl.Model.createFromParam(gl.ECov.MATERN,range=10,param=1, sill = 2)\n",
    "cova = model.getCova(0)\n",
    "cova.makeAngleNoStatDb(\"param1\",db = grid1)\n",
    "cova.makeAngleNoStatDb(\"param2\")"
   ]
  },
  {
   "cell_type": "markdown",
   "metadata": {},
   "source": [
    "You can specify the non stationarity by using the scale instead of the practical range."
   ]
  },
  {
   "cell_type": "code",
   "execution_count": 10,
   "metadata": {},
   "outputs": [
    {
     "name": "stdout",
     "output_type": "stream",
     "text": [
      "Matern (Third Parameter = 1)\n",
      "- Sill         =      2.000\n",
      "- Range        =     10.000\n",
      "- Theo. Range  =      2.887\n",
      "\n",
      "Non-Stationary Parameters\n",
      "-------------------------\n",
      "1 - Scale      : IDir=1\n"
     ]
    }
   ],
   "source": [
    "model =gl.Model.createFromParam(gl.ECov.MATERN,range=10,param=1, sill = 2)\n",
    "cova = model.getCova(0)\n",
    "cova.makeScaleNoStatDb(\"param1\",db = grid1)\n",
    "cova.display()"
   ]
  },
  {
   "cell_type": "markdown",
   "metadata": {},
   "source": [
    "Same king of message if you specify the range after having specified the scale (for the same direction)."
   ]
  },
  {
   "cell_type": "code",
   "execution_count": 11,
   "metadata": {},
   "outputs": [
    {
     "name": "stdout",
     "output_type": "stream",
     "text": [
      "Warning, you gave a non-stationary specification for the range\n",
      "but it was already given for the scale.\n",
      "The new specification has replaced the previous one.\n",
      "Matern (Third Parameter = 1)\n",
      "- Sill         =      2.000\n",
      "- Range        =     10.000\n",
      "- Theo. Range  =      2.887\n",
      "\n",
      "Non-Stationary Parameters\n",
      "-------------------------\n",
      "1 - Range      : IDir=1\n"
     ]
    }
   ],
   "source": [
    "model =gl.Model.createFromParam(gl.ECov.MATERN,range=10,param=1, sill = 2)\n",
    "cova = model.getCova(0)\n",
    "cova.makeScaleNoStatDb(\"param1\",db = grid1)\n",
    "cova.makeRangeNoStatDb(\"param1\",db = grid1)\n",
    "cova.display()"
   ]
  },
  {
   "cell_type": "markdown",
   "metadata": {},
   "source": [
    "You can't work in scale for one dimension and in range for another one:"
   ]
  },
  {
   "cell_type": "code",
   "execution_count": 12,
   "metadata": {},
   "outputs": [
    {
     "name": "stdout",
     "output_type": "stream",
     "text": [
      "You try to specify non stationarities for range whereas\n",
      "you had already specified one for the scale in another dimension.\n",
      "It is invalid\n",
      "Matern (Third Parameter = 1)\n",
      "- Sill         =      2.000\n",
      "- Range        =     10.000\n",
      "- Theo. Range  =      2.887\n",
      "\n",
      "Non-Stationary Parameters\n",
      "-------------------------\n",
      "1 - Scale      : IDir=1\n"
     ]
    }
   ],
   "source": [
    "model =gl.Model.createFromParam(gl.ECov.MATERN,range=10,param=1, sill = 2)\n",
    "cova = model.getCova(0)\n",
    "cova.makeScaleNoStatDb(\"param1\",0,db = grid1)\n",
    "cova.makeRangeNoStatDb(\"param1\",1,db = grid1)\n",
    "cova.display()"
   ]
  },
  {
   "cell_type": "markdown",
   "metadata": {},
   "source": [
    "You can make back a parameter stationary"
   ]
  },
  {
   "cell_type": "code",
   "execution_count": 13,
   "metadata": {},
   "outputs": [
    {
     "name": "stdout",
     "output_type": "stream",
     "text": [
      "Matern (Third Parameter = 1)\n",
      "- Sill         =      2.000\n",
      "- Range        =     10.000\n",
      "- Theo. Range  =      2.887\n"
     ]
    }
   ],
   "source": [
    "model =gl.Model.createFromParam(gl.ECov.MATERN,range=10,param=1, sill = 2)\n",
    "cova = model.getCova(0)\n",
    "cova.makeScaleNoStatDb(\"param1\",0,db = grid1)\n",
    "cova.makeScaleStationary(0)\n",
    "cova.display()"
   ]
  },
  {
   "cell_type": "markdown",
   "metadata": {},
   "source": [
    "If you make a range stationary whereas the non-stationarity was previously defined for scale, the parameter is made stationary as well."
   ]
  },
  {
   "cell_type": "code",
   "execution_count": 14,
   "metadata": {},
   "outputs": [
    {
     "name": "stdout",
     "output_type": "stream",
     "text": [
      "Matern (Third Parameter = 1)\n",
      "- Sill         =      2.000\n",
      "- Range        =     10.000\n",
      "- Theo. Range  =      2.887\n"
     ]
    }
   ],
   "source": [
    "model =gl.Model.createFromParam(gl.ECov.MATERN,range=10,param=1, sill = 2)\n",
    "cova = model.getCova(0)\n",
    "cova.makeScaleNoStatDb(\"param1\",0,db = grid1)\n",
    "cova.makeRangeStationary(0)\n",
    "cova.display()"
   ]
  },
  {
   "cell_type": "markdown",
   "metadata": {},
   "source": [
    "You can clear all the non-stationarity specifications."
   ]
  },
  {
   "cell_type": "code",
   "execution_count": 15,
   "metadata": {},
   "outputs": [
    {
     "name": "stdout",
     "output_type": "stream",
     "text": [
      "All the sills are already stationary!\n",
      "Matern (Third Parameter = 1)\n",
      "- Sill         =      2.000\n",
      "- Range        =     10.000\n",
      "- Theo. Range  =      2.887\n"
     ]
    }
   ],
   "source": [
    "model =gl.Model.createFromParam(gl.ECov.MATERN,range=10,param=1, sill = 2)\n",
    "cova = model.getCova(0)\n",
    "cova.makeScaleNoStatDb(\"param1\",0,db = grid1)\n",
    "cova.makeAngleNoStatDb(\"param1\",0,db = grid1)\n",
    "cova.makeStationary()\n",
    "cova.display()"
   ]
  },
  {
   "cell_type": "markdown",
   "metadata": {},
   "source": [
    "The non-stationarity is transfered when you clone your **CovAniso**"
   ]
  },
  {
   "cell_type": "code",
   "execution_count": null,
   "metadata": {},
   "outputs": [],
   "source": [
    "model =gl.Model.createFromParam(gl.ECov.MATERN,range=10,param=1, sill = 2)\n",
    "cova = model.getCova(0)\n",
    "cova.makeScaleNoStatDb(\"param1\",0,db = grid1)\n",
    "cova.makeAngleNoStatDb(\"param1\",0,db = grid1)\n",
    "cova2 = cova.clone()\n",
    "cova2.display()"
   ]
  },
  {
   "cell_type": "markdown",
   "metadata": {},
   "source": [
    "You can specify non-stationarities for the terms of the sill matrix in the multivariate setting:"
   ]
  },
  {
   "cell_type": "code",
   "execution_count": null,
   "metadata": {},
   "outputs": [],
   "source": [
    "model =gl.Model.createFromParam(gl.ECov.MATERN,range=10,param=1, \n",
    "                                sills = np.array([[2.,1.],[1.,3.]]))\n",
    "cova = model.getCova(0)\n",
    "cova.makeSillNoStatDb(\"param1\",0,1,db = grid1)\n",
    "cova.display()"
   ]
  },
  {
   "cell_type": "markdown",
   "metadata": {},
   "source": [
    "### Non stationarity by a function"
   ]
  },
  {
   "cell_type": "markdown",
   "metadata": {},
   "source": [
    "To understand how to play with a function, let's have a look on a part of the **AFunctional** C++ class of the gstlearn library."
   ]
  },
  {
   "cell_type": "raw",
   "metadata": {
    "vscode": {
     "languageId": "raw"
    }
   },
   "source": [
    "class AFunctional\n",
    "{\n",
    "public:\n",
    "AFunctional(int ndim);\n",
    "...\n",
    "virtual double getFunctionValue(const VectorDouble& pos) const = 0;\n",
    "VectorDouble getFunctionValues(const Db *db, bool useSel = true) const;\n",
    "\n",
    "private:\n",
    "  int _ndim;\n",
    "};"
   ]
  },
  {
   "cell_type": "markdown",
   "metadata": {
    "vscode": {
     "languageId": "raw"
    }
   },
   "source": [
    "We can see that the class is built by using an integer (the space dimension), and that there is mainly to methods.\n",
    "The first one is pure virtual, that means that the users who want to create a class which inherits from **AFunctional** have to implement this method. The aim of this method is to give the value at a given position (**pos**) specified through a vector of dimension **_ndim**. "
   ]
  },
  {
   "cell_type": "markdown",
   "metadata": {},
   "source": [
    "Here is an example of class in python to inherit from the **AFunctional** class."
   ]
  },
  {
   "cell_type": "code",
   "execution_count": 18,
   "metadata": {},
   "outputs": [],
   "source": [
    "class MyFunction(gl.AFunctional):\n",
    "    def __init__(self,ndim):\n",
    "        super(MyFunction,self).__init__(ndim)\n",
    "        pass\n",
    "    \n",
    "    def getFunctionValue(self, coords):\n",
    "        return coords[0] + 1"
   ]
  },
  {
   "cell_type": "markdown",
   "metadata": {},
   "source": [
    "You can then instantiate an object from the class **MyFunction** and use it to define non stationarity:"
   ]
  },
  {
   "cell_type": "code",
   "execution_count": null,
   "metadata": {},
   "outputs": [],
   "source": [
    "myfunc = MyFunction(2)\n",
    "\n",
    "model =gl.Model.createFromParam(gl.ECov.MATERN,range=10,param=1, \n",
    "                                sills = np.array([[2.,1.],[1.,3.]]))\n",
    "cova = model.getCova(0)\n",
    "cova.makeSillNoStatFunctional(myfunc,0,1)\n",
    "cova.display()\n"
   ]
  },
  {
   "cell_type": "markdown",
   "metadata": {},
   "source": [
    "You can even mix different types of non-stationarities (with **AFunctional** and with **NoStatDb**):"
   ]
  },
  {
   "cell_type": "code",
   "execution_count": null,
   "metadata": {},
   "outputs": [],
   "source": [
    "model =gl.Model.createFromParam(gl.ECov.MATERN,range=10,param=1, \n",
    "                                sills = np.array([[2.,1.],[1.,3.]]))\n",
    "cova = model.getCova(0)\n",
    "cova.makeSillNoStatDb(\"param1\",0,0,grid1)\n",
    "cova.makeSillNoStatFunctional(myfunc,0,1)\n",
    "cova.makeSillNoStatDb(\"param1\",1,1,grid1)\n",
    "cova.display()"
   ]
  }
 ],
 "metadata": {
  "kernelspec": {
   "display_name": "Python 3",
   "language": "python",
   "name": "python3"
  },
  "language_info": {
   "codemirror_mode": {
    "name": "ipython",
    "version": 3
   },
   "file_extension": ".py",
   "mimetype": "text/x-python",
   "name": "python",
   "nbconvert_exporter": "python",
   "pygments_lexer": "ipython3",
   "version": "3.10.12"
  }
 },
 "nbformat": 4,
 "nbformat_minor": 2
}
