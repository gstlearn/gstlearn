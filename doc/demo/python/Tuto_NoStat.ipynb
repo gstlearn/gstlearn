{
 "cells": [
  {
   "cell_type": "markdown",
   "metadata": {},
   "source": [
    "# Non stationary covariances"
   ]
  },
  {
   "cell_type": "markdown",
   "metadata": {},
   "source": [
    "This tutorial aims to show how to handle non stationary covariances for kriging, covariance evaluation, and SPDE approach.\n",
    "\n",
    "For the covariance based approach (used in the gstlearn function **kriging**) the covariance formulas can be obtain in [this monograph](http://www-personal.umich.edu/~jizhu/jizhu/covar/Stein-Summary.pdf) of M. Stein.\n",
    "\n",
    "For the SPDE approach, a detailed material can be obtained in the [Phd thesis](https://pastel.hal.science/tel-02499376v1/document) of M. Pereira.\n",
    "\n",
    "In **gstlearn**, there are two ways to specify the non stationary covariance :\n",
    "* by providing maps of parameters through a Db which covers the domain\n",
    "* by providing a function (**AFunctional** structure of gstlearn)\n",
    "\n",
    "In this tutorial, the two approaches are presented.\n",
    "\n",
    "Note that **gstlearn** offer a great flexibility to handle non-stationarities with a Db. Each parameter can have its own Db.\n",
    "But this flexibility as a price in term of memory footprint since for security reason, the Db is duplicated for each parameter. That's why we also propose a more high-level interface at the end of this tutorial which is recommended to use when all the non stationarity information is contained in the same Db.\n",
    "\n",
    "We first create a reference model."
   ]
  },
  {
   "cell_type": "code",
   "execution_count": null,
   "metadata": {},
   "outputs": [],
   "source": [
    "import gstlearn as gl\n",
    "import numpy as np\n",
    "\n",
    "model =gl.Model.createFromParam(gl.ECov.MATERN,range=10,param=1, sill = 2)"
   ]
  },
  {
   "cell_type": "markdown",
   "metadata": {},
   "source": [
    "We extract the **CovAniso** structure"
   ]
  },
  {
   "cell_type": "code",
   "execution_count": null,
   "metadata": {},
   "outputs": [],
   "source": [
    "cova = model.getCovAniso(0)\n",
    "cova"
   ]
  },
  {
   "cell_type": "markdown",
   "metadata": {},
   "source": [
    "We start by the first approach (non-stationarity defined through a **Db**).\n",
    "\n",
    "We define a **Db** of parameters named **grid1** for which we fill some columns of values (arbitrary in this tutorial)."
   ]
  },
  {
   "cell_type": "code",
   "execution_count": null,
   "metadata": {},
   "outputs": [],
   "source": [
    "grid1 = gl.DbGrid.create([10,10])\n",
    "grid1[\"param1\"] = 2 * grid1[\"x1\"] +12\n",
    "grid1[\"param2\"] = 2 * grid1[\"x2\"] +5"
   ]
  },
  {
   "cell_type": "markdown",
   "metadata": {},
   "source": [
    "Then we can make the different parameters of the covariance non stationary by first attaching the **Db** and then providing the column name of the non stationary parameter. For instance:"
   ]
  },
  {
   "cell_type": "code",
   "execution_count": null,
   "metadata": {},
   "outputs": [],
   "source": [
    "cova.attachNoStatDb(grid1)\n",
    "cova.makeAngleNoStatDb(\"param1\")\n",
    "cova.makeRangeNoStatDb(\"param2\",1) #Range parameter in the second direction\n",
    "cova.display()"
   ]
  },
  {
   "cell_type": "markdown",
   "metadata": {},
   "source": [
    "Another way of doing this, is to specify the **Db** when you give the specification of the parameter. In that case, you don't need to explicitely attach a **Db** with **attachDbNoStat**."
   ]
  },
  {
   "cell_type": "code",
   "execution_count": null,
   "metadata": {},
   "outputs": [],
   "source": [
    "model =gl.Model.createFromParam(gl.ECov.MATERN,range=10,param=1, sill = 2)\n",
    "cova = model.getCovAniso(0)\n",
    "cova.makeAngleNoStatDb(\"param1\",db = grid1)\n",
    "cova.makeRangeNoStatDb(\"param2\",1)\n",
    "cova.display()"
   ]
  },
  {
   "cell_type": "markdown",
   "metadata": {},
   "source": [
    "In that case, **grid1** is recorded as the reference **Db** for the next parameters.\n",
    "\n",
    "You can even have different **Db** for different parameters."
   ]
  },
  {
   "cell_type": "code",
   "execution_count": null,
   "metadata": {},
   "outputs": [],
   "source": [
    "\n",
    "grid2 = gl.DbGrid.create([10,10])\n",
    "grid2[\"paramnew\"] = 3 * grid2[\"x2\"] +24\n",
    "\n",
    "cova.makeSillNoStatDb(\"paramnew\",db = grid2)\n",
    "cova.display()"
   ]
  },
  {
   "cell_type": "markdown",
   "metadata": {},
   "source": [
    "But the reference **Db** is the first one which has been attached (by **attachNoStatDb** or by the first parameter specification)"
   ]
  },
  {
   "cell_type": "code",
   "execution_count": null,
   "metadata": {},
   "outputs": [],
   "source": [
    "cova.makeRangeNoStatDb(\"paramnew\")"
   ]
  },
  {
   "cell_type": "markdown",
   "metadata": {},
   "source": [
    "Of course, you have to provide a **Db** to be allowed to give a specification:"
   ]
  },
  {
   "cell_type": "code",
   "execution_count": null,
   "metadata": {},
   "outputs": [],
   "source": [
    "model =gl.Model.createFromParam(gl.ECov.MATERN,range=10,param=1, sill = 2)\n",
    "cova = model.getCovAniso(0)\n",
    "cova.makeAngleNoStatDb(\"param1\")\n",
    "cova.display()"
   ]
  },
  {
   "cell_type": "markdown",
   "metadata": {},
   "source": [
    "If you give several specifications for a given parameter, you have a warning message and the last specification is kept."
   ]
  },
  {
   "cell_type": "code",
   "execution_count": null,
   "metadata": {},
   "outputs": [],
   "source": [
    "model =gl.Model.createFromParam(gl.ECov.MATERN,range=10,param=1, sill = 2)\n",
    "cova = model.getCovAniso(0)\n",
    "cova.makeAngleNoStatDb(\"param1\",db = grid1)\n",
    "cova.makeAngleNoStatDb(\"param2\")"
   ]
  },
  {
   "cell_type": "markdown",
   "metadata": {},
   "source": [
    "You can specify the non stationarity by using the scale instead of the practical range."
   ]
  },
  {
   "cell_type": "code",
   "execution_count": null,
   "metadata": {},
   "outputs": [],
   "source": [
    "model =gl.Model.createFromParam(gl.ECov.MATERN,range=10,param=1, sill = 2)\n",
    "cova = model.getCovAniso(0)\n",
    "cova.makeScaleNoStatDb(\"param1\",db = grid1)\n",
    "cova.display()"
   ]
  },
  {
   "cell_type": "markdown",
   "metadata": {},
   "source": [
    "Same king of message if you specify the range after having specified the scale (for the same direction)."
   ]
  },
  {
   "cell_type": "code",
   "execution_count": null,
   "metadata": {},
   "outputs": [],
   "source": [
    "model =gl.Model.createFromParam(gl.ECov.MATERN,range=10,param=1, sill = 2)\n",
    "cova = model.getCovAniso(0)\n",
    "cova.makeScaleNoStatDb(\"param1\",db = grid1)\n",
    "cova.makeRangeNoStatDb(\"param1\",db = grid1)\n",
    "cova.display()"
   ]
  },
  {
   "cell_type": "markdown",
   "metadata": {},
   "source": [
    "You can't work in scale for one dimension and in range for another one:"
   ]
  },
  {
   "cell_type": "code",
   "execution_count": null,
   "metadata": {},
   "outputs": [],
   "source": [
    "model =gl.Model.createFromParam(gl.ECov.MATERN,range=10,param=1, sill = 2)\n",
    "cova = model.getCovAniso(0)\n",
    "cova.makeScaleNoStatDb(\"param1\",0,db = grid1)\n",
    "cova.makeRangeNoStatDb(\"param1\",1,db = grid1)\n",
    "cova.display()"
   ]
  },
  {
   "cell_type": "markdown",
   "metadata": {},
   "source": [
    "You can make back a parameter stationary"
   ]
  },
  {
   "cell_type": "code",
   "execution_count": null,
   "metadata": {},
   "outputs": [],
   "source": [
    "model =gl.Model.createFromParam(gl.ECov.MATERN,range=10,param=1, sill = 2)\n",
    "cova = model.getCovAniso(0)\n",
    "cova.makeScaleNoStatDb(\"param1\",0,db = grid1)\n",
    "cova.makeScaleStationary(0)\n",
    "cova.display()"
   ]
  },
  {
   "cell_type": "markdown",
   "metadata": {},
   "source": [
    "If you make a range stationary whereas the non-stationarity was previously defined for scale, the parameter is made stationary as well."
   ]
  },
  {
   "cell_type": "code",
   "execution_count": null,
   "metadata": {},
   "outputs": [],
   "source": [
    "model =gl.Model.createFromParam(gl.ECov.MATERN,range=10,param=1, sill = 2)\n",
    "cova = model.getCovAniso(0)\n",
    "cova.makeScaleNoStatDb(\"param1\",0,db = grid1)\n",
    "cova.makeRangeStationary(0)\n",
    "cova.display()"
   ]
  },
  {
   "cell_type": "markdown",
   "metadata": {},
   "source": [
    "You can clear all the non-stationarity specifications."
   ]
  },
  {
   "cell_type": "code",
   "execution_count": null,
   "metadata": {},
   "outputs": [],
   "source": [
    "model =gl.Model.createFromParam(gl.ECov.MATERN,range=10,param=1, sill = 2)\n",
    "cova = model.getCovAniso(0)\n",
    "cova.makeScaleNoStatDb(\"param1\",0,db = grid1)\n",
    "cova.makeAngleNoStatDb(\"param1\",0,db = grid1)\n",
    "cova.makeStationary()\n",
    "cova.display()"
   ]
  },
  {
   "cell_type": "markdown",
   "metadata": {},
   "source": [
    "The non-stationarity is transfered when you clone your **CovAniso**"
   ]
  },
  {
   "cell_type": "code",
   "execution_count": null,
   "metadata": {},
   "outputs": [],
   "source": [
    "model =gl.Model.createFromParam(gl.ECov.MATERN,range=10,param=1, sill = 2)\n",
    "cova = model.getCovAniso(0)\n",
    "cova.makeScaleNoStatDb(\"param1\",0,db = grid1)\n",
    "cova.makeAngleNoStatDb(\"param1\",0,db = grid1)\n",
    "cova2 = cova.clone()\n",
    "cova2.display()"
   ]
  },
  {
   "cell_type": "markdown",
   "metadata": {},
   "source": [
    "You can specify non-stationarities for the terms of the sill matrix in the multivariate setting:"
   ]
  },
  {
   "cell_type": "code",
   "execution_count": null,
   "metadata": {},
   "outputs": [],
   "source": [
    "model =gl.Model.createFromParam(gl.ECov.MATERN,range=10,param=1, \n",
    "                                sills = np.array([[2.,1.],[1.,3.]]))\n",
    "cova = model.getCovAniso(0)\n",
    "cova.makeSillNoStatDb(\"param1\",0,1,db = grid1)\n",
    "cova.display()"
   ]
  },
  {
   "cell_type": "markdown",
   "metadata": {},
   "source": [
    "### Non stationarity by a function"
   ]
  },
  {
   "cell_type": "markdown",
   "metadata": {},
   "source": [
    "To understand how to play with a function, let's have a look on a part of the **AFunctional** C++ class of the gstlearn library."
   ]
  },
  {
   "cell_type": "raw",
   "metadata": {
    "vscode": {
     "languageId": "raw"
    }
   },
   "source": [
    "class AFunctional\n",
    "{\n",
    "public:\n",
    "AFunctional(int ndim);\n",
    "...\n",
    "virtual double getFunctionValue(const VectorDouble& pos) const = 0;\n",
    "VectorDouble getFunctionValues(const Db *db, bool useSel = true) const;\n",
    "\n",
    "private:\n",
    "  int _ndim;\n",
    "};"
   ]
  },
  {
   "cell_type": "markdown",
   "metadata": {
    "vscode": {
     "languageId": "raw"
    }
   },
   "source": [
    "We can see that the class is built by using an integer (the space dimension), and that there is mainly to methods.\n",
    "The first one is pure virtual, that means that the users who want to create a class which inherits from **AFunctional** have to implement this method. The aim of this method is to give the value at a given position (**pos**) specified through a vector of dimension **_ndim**. "
   ]
  },
  {
   "cell_type": "markdown",
   "metadata": {},
   "source": [
    "Here is an example of class in python to inherit from the **AFunctional** class."
   ]
  },
  {
   "cell_type": "code",
   "execution_count": null,
   "metadata": {},
   "outputs": [],
   "source": [
    "class MyFunction(gl.AFunctional):\n",
    "    def __init__(self,ndim):\n",
    "        super(MyFunction,self).__init__(ndim)\n",
    "        pass\n",
    "    \n",
    "    def getFunctionValue(self, coords):\n",
    "        return coords[0] + 1"
   ]
  },
  {
   "cell_type": "markdown",
   "metadata": {},
   "source": [
    "You can then instantiate an object from the class **MyFunction** and use it to define non stationarity:"
   ]
  },
  {
   "cell_type": "code",
   "execution_count": null,
   "metadata": {},
   "outputs": [],
   "source": [
    "myfunc = MyFunction(2)\n",
    "\n",
    "model =gl.Model.createFromParam(gl.ECov.MATERN,range=10,param=1, \n",
    "                                sills = np.array([[2.,1.],[1.,3.]]))\n",
    "cova = model.getCovAniso(0)\n",
    "cova.makeSillNoStatFunctional(myfunc,0,1)\n",
    "cova.display()\n"
   ]
  },
  {
   "cell_type": "markdown",
   "metadata": {},
   "source": [
    "You can even mix different types of non-stationarities (with **AFunctional** and with **NoStatDb**):"
   ]
  },
  {
   "cell_type": "code",
   "execution_count": null,
   "metadata": {},
   "outputs": [],
   "source": [
    "model =gl.Model.createFromParam(gl.ECov.MATERN,range=10,param=1, \n",
    "                                sills = np.array([[2.,1.],[1.,3.]]))\n",
    "cova = model.getCovAniso(0)\n",
    "cova.makeSillNoStatDb(\"param1\",0,0,grid1)\n",
    "cova.makeSillNoStatFunctional(myfunc,0,1)\n",
    "cova.makeSillNoStatDb(\"param1\",1,1,grid1)\n",
    "cova.display()"
   ]
  },
  {
   "cell_type": "markdown",
   "metadata": {},
   "source": [
    "### High-level interface \n",
    "\n",
    "When all the non-stationarity information is contained in the same Db, we suggest to attach this Db to the ACov object (which can be done through the Model) and then to use the functions of the global Covariance model (which assume a common non-stationarity Db) by indicating the index of the CovAniso object.\n",
    "\n",
    "Let's first remind how to set the non-stationarity specification of two basic structure of the same model with the highly flexible approach:\n"
   ]
  },
  {
   "cell_type": "code",
   "execution_count": null,
   "metadata": {},
   "outputs": [],
   "source": [
    "model =gl.Model.createFromParam(gl.ECov.MATERN,range=10,param=1)\n",
    "model.addCovFromParam(gl.ECov.MATERN,range=1,param=2)\n",
    "cova = model.getCovAniso(0)\n",
    "cova.makeSillNoStatDb(\"param1\",0,0,grid1)\n",
    "cova = model.getCovAniso(1)\n",
    "cova.makeSillNoStatDb(\"param1\",0,0,grid1)\n",
    "model"
   ]
  },
  {
   "cell_type": "markdown",
   "metadata": {},
   "source": [
    "Now, the recommended way (which avoid to duplicate two times the Db)"
   ]
  },
  {
   "cell_type": "code",
   "execution_count": null,
   "metadata": {},
   "outputs": [],
   "source": [
    "model =gl.Model.createFromParam(gl.ECov.MATERN,range=10,param=1)\n",
    "model.addCovFromParam(gl.ECov.MATERN,range=1,param=2)\n",
    "model.attachNoStatDb(grid1)\n",
    "model.makeSillNoStatDb(0,\"param1\")\n",
    "model.makeSillNoStatDb(1,\"param1\")\n",
    "model"
   ]
  },
  {
   "cell_type": "markdown",
   "metadata": {},
   "source": [
    "Note that with the high-level interface, it is not possible to specify the Db in methods \"make...NoStatDb\". You have to attach it first by \"attachNoStatDb\"."
   ]
  }
 ],
 "metadata": {
  "kernelspec": {
   "display_name": "Python 3",
   "language": "python",
   "name": "python3"
  },
  "language_info": {
   "codemirror_mode": {
    "name": "ipython",
    "version": 3
   },
   "file_extension": ".py",
   "mimetype": "text/x-python",
   "name": "python",
   "nbconvert_exporter": "python",
   "pygments_lexer": "ipython3",
   "version": "3.10.12"
  }
 },
 "nbformat": 4,
 "nbformat_minor": 4
}
