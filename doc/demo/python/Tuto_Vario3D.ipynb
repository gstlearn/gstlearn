{
 "cells": [
  {
   "cell_type": "markdown",
   "metadata": {},
   "source": [
    "# Variograms in 3-D"
   ]
  },
  {
   "cell_type": "markdown",
   "metadata": {},
   "source": [
    "<!-- SUMMARY: Example of definition, calculation and visualization of variogram calculate in 3-D -->\n",
    "\n",
    "<!-- CATEGORY: Methodology -->"
   ]
  },
  {
   "cell_type": "markdown",
   "metadata": {},
   "source": [
    "This file is meant to demonstrate the use of gstlearn for calculating variograms on 3-D Data."
   ]
  },
  {
   "cell_type": "code",
   "execution_count": null,
   "metadata": {},
   "outputs": [],
   "source": [
    "%%javascript\n",
    "IPython.OutputArea.prototype._should_scroll = function(lines) {\n",
    "return false;\n",
    "}"
   ]
  },
  {
   "cell_type": "code",
   "execution_count": null,
   "metadata": {},
   "outputs": [],
   "source": [
    "import numpy as np\n",
    "import sys\n",
    "import os\n",
    "import gstlearn as gl\n",
    "import gstlearn.plot as gp\n",
    "import gstlearn.plot3D as gop\n",
    "import matplotlib.pyplot as plt\n",
    "import plotly.graph_objects as go"
   ]
  },
  {
   "cell_type": "markdown",
   "metadata": {},
   "source": [
    "We define the space dimension"
   ]
  },
  {
   "cell_type": "code",
   "execution_count": null,
   "metadata": {},
   "outputs": [],
   "source": [
    "ndim = 3\n",
    "gl.defineDefaultSpace(gl.ESpaceType.RN, ndim)\n",
    "np.random.seed(3131)"
   ]
  },
  {
   "cell_type": "markdown",
   "metadata": {},
   "source": [
    "Defining the 2D location of well headers"
   ]
  },
  {
   "cell_type": "code",
   "execution_count": null,
   "metadata": {},
   "outputs": [],
   "source": [
    "nwells = 10\n",
    "nvert = 15\n",
    "nsamples = nwells * nvert\n",
    "colar = np.random.uniform(size = (nwells,2))\n",
    "z = np.random.uniform(size=nvert)\n",
    "z = np.cumsum(z) / 10\n",
    "a = np.zeros(shape=(nsamples,4))\n",
    "for i in range(nwells):\n",
    "    ind = np.arange(nvert)+nvert*i\n",
    "    a[ind,0:2] = colar[i,:]\n",
    "    a[ind,2] = z\n",
    "for i in range(nsamples):\n",
    "    a[i,3] = np.random.uniform()"
   ]
  },
  {
   "cell_type": "markdown",
   "metadata": {},
   "source": [
    "Loading this array of values in a Data Base"
   ]
  },
  {
   "cell_type": "code",
   "execution_count": null,
   "metadata": {
    "scrolled": true
   },
   "outputs": [],
   "source": [
    "db = gl.Db.createFromSamples(nsamples, tab=a.flatten(), names=[\"X\",\"Y\",\"Z\",\"value\"],\n",
    "                             locatorNames=[\"x1\",\"x2\",\"x3\",\"z1\"])\n",
    "db"
   ]
  },
  {
   "cell_type": "code",
   "execution_count": null,
   "metadata": {},
   "outputs": [],
   "source": [
    "db.getExtremas()"
   ]
  },
  {
   "cell_type": "markdown",
   "metadata": {},
   "source": [
    "## Defining a omnidirectional variogram"
   ]
  },
  {
   "cell_type": "code",
   "execution_count": null,
   "metadata": {},
   "outputs": [],
   "source": [
    "varioparam = gl.VarioParam.createOmniDirection(npas=10, dpas=0.1)\n",
    "vario = gl.Vario.computeFromDb(varioparam, db)"
   ]
  },
  {
   "cell_type": "code",
   "execution_count": null,
   "metadata": {},
   "outputs": [],
   "source": [
    "vario"
   ]
  },
  {
   "cell_type": "code",
   "execution_count": null,
   "metadata": {},
   "outputs": [],
   "source": [
    "ax = gp.variogram(vario)\n",
    "ax.decoration(title=\"OmniDirectional variogram\")"
   ]
  },
  {
   "cell_type": "markdown",
   "metadata": {},
   "source": [
    "## Directional variogram"
   ]
  },
  {
   "cell_type": "markdown",
   "metadata": {},
   "source": [
    "### Vertical and omnidirectional in horizontal plane"
   ]
  },
  {
   "cell_type": "markdown",
   "metadata": {},
   "source": [
    "We create a vertical direction and one horizontal direction. Note that:\n",
    "\n",
    "- we use a fine angular tolerance for calulation of the vertical direction\n",
    "- we use a bench selection for the horizontal calculation to avoid mixing information from samples to far away vertically."
   ]
  },
  {
   "cell_type": "code",
   "execution_count": null,
   "metadata": {},
   "outputs": [],
   "source": [
    "varioparam = gl.VarioParam()\n",
    "\n",
    "# Omnidirection in horizontal plane\n",
    "dirhor = gl.DirParam.create(npas=10, dpas=0.1, tolang=90, bench=1)\n",
    "varioparam.addDir(dirhor)\n",
    "\n",
    "# Vertical direction\n",
    "dirvert = gl.DirParam.create(npas=10, dpas=0.1, tolang=0.001, codir=[0,0,1])\n",
    "varioparam.addDir(dirvert)\n",
    "\n",
    "# Calculate the variogram in several directions\n",
    "vario = gl.Vario.computeFromDb(varioparam, db)"
   ]
  },
  {
   "cell_type": "code",
   "execution_count": null,
   "metadata": {},
   "outputs": [],
   "source": [
    "vario"
   ]
  },
  {
   "cell_type": "code",
   "execution_count": null,
   "metadata": {},
   "outputs": [],
   "source": [
    "ax = gp.variogram(vario, idir=-1, flagLegend=True)\n",
    "ax.decoration(title=\"Directional variogram\")"
   ]
  },
  {
   "cell_type": "markdown",
   "metadata": {},
   "source": [
    "### Vertical and several directions in horizontal plane"
   ]
  },
  {
   "cell_type": "code",
   "execution_count": null,
   "metadata": {},
   "outputs": [],
   "source": [
    "varioparam = gl.VarioParam()\n",
    "\n",
    "# First direction in horizontal plane\n",
    "dirhor1 = gl.DirParam.create(npas=10, dpas=0.1, tolang=45, bench=1, codir=[1,0,0])\n",
    "varioparam.addDir(dirhor1)\n",
    "\n",
    "# Second direction in horizontal plane\n",
    "dirhor2 = gl.DirParam.create(npas=10, dpas=0.1, tolang=45, bench=1, codir=[0,1,0])\n",
    "varioparam.addDir(dirhor2)\n",
    "\n",
    "# Vertical direction\n",
    "dirvert = gl.DirParam.create(npas=10, dpas=0.1, tolang=0.001, codir=[0,0,1])\n",
    "varioparam.addDir(dirvert)\n",
    "\n",
    "# Calculate the variogram in several directions\n",
    "vario = gl.Vario.computeFromDb(varioparam, db)"
   ]
  },
  {
   "cell_type": "code",
   "execution_count": null,
   "metadata": {},
   "outputs": [],
   "source": [
    "ax = gp.variogram(vario, idir=-1, flagLegend=True)\n",
    "ax.decoration(title=\"Directional variogram\")"
   ]
  }
 ],
 "metadata": {
  "kernelspec": {
   "display_name": "Python 3 (ipykernel)",
   "language": "python",
   "name": "python3"
  },
  "language_info": {
   "codemirror_mode": {
    "name": "ipython",
    "version": 3
   },
   "file_extension": ".py",
   "mimetype": "text/x-python",
   "name": "python",
   "nbconvert_exporter": "python",
   "pygments_lexer": "ipython3",
   "version": "3.10.5"
  },
  "toc": {
   "base_numbering": 1,
   "nav_menu": {},
   "number_sections": true,
   "sideBar": true,
   "skip_h1_title": false,
   "title_cell": "Table of Contents",
   "title_sidebar": "Contents",
   "toc_cell": false,
   "toc_position": {},
   "toc_section_display": true,
   "toc_window_display": false
  }
 },
 "nbformat": 4,
 "nbformat_minor": 4
}
