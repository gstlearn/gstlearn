{
 "cells": [
  {
   "cell_type": "markdown",
   "metadata": {},
   "source": [
    "# Standard 2-D case study"
   ]
  },
  {
   "cell_type": "markdown",
   "metadata": {},
   "source": [
    "<!-- SUMMARY: Standard workflow on a 2-D data set. Performs variography and modeling, estimation and simulation, in a monovariate and bivariate cases.  -->\n",
    "\n",
    "<!-- CATEGORY: Case_Studies -->"
   ]
  },
  {
   "cell_type": "markdown",
   "metadata": {},
   "source": [
    "## Import packages"
   ]
  },
  {
   "cell_type": "code",
   "execution_count": 1,
   "metadata": {},
   "outputs": [],
   "source": [
    "import numpy as np\n",
    "import pandas as pd\n",
    "import sys\n",
    "import os\n",
    "import matplotlib.pyplot as plt\n",
    "import gstlearn as gl\n",
    "import gstlearn.plot as gp\n",
    "import gstlearn.document as gdoc"
   ]
  },
  {
   "cell_type": "markdown",
   "metadata": {},
   "source": [
    "Global variables"
   ]
  },
  {
   "cell_type": "code",
   "execution_count": 2,
   "metadata": {},
   "outputs": [
    {
     "data": {
      "application/javascript": [
       "\n",
       "IPython.OutputArea.prototype._should_scroll = function(lines) {\n",
       "    return false;\n",
       "}\n"
      ],
      "text/plain": [
       "<IPython.core.display.Javascript object>"
      ]
     },
     "metadata": {},
     "output_type": "display_data"
    }
   ],
   "source": [
    "verbose  = True\n",
    "graphics = True\n",
    "gl.OptCst.define(gl.ECst.NTCOL,6)\n",
    "gdoc.setNoScroll()"
   ]
  },
  {
   "cell_type": "markdown",
   "metadata": {},
   "source": [
    "## Reading data"
   ]
  },
  {
   "cell_type": "markdown",
   "metadata": {},
   "source": [
    "The data are stored in a CSV format in the file called Pollution.dat "
   ]
  },
  {
   "cell_type": "code",
   "execution_count": 3,
   "metadata": {
    "scrolled": true
   },
   "outputs": [
    {
     "name": "stdout",
     "output_type": "stream",
     "text": [
      "\n",
      "Data Base Characteristics\n",
      "=========================\n",
      "\n",
      "Data Base Summary\n",
      "-----------------\n",
      "File is organized as a set of isolated points\n",
      "Space dimension              = 2\n",
      "Number of Columns            = 5\n",
      "Total number of samples      = 102\n",
      "\n",
      "Data Base Extension\n",
      "-------------------\n",
      "Coor #1 - Min =    109.850 - Max =    143.010 - Ext = 33.16\n",
      "Coor #2 - Min =    483.660 - Max =    513.040 - Ext = 29.38\n",
      "\n",
      "Variables\n",
      "---------\n",
      "Column = 0 - Name = rank - Locator = NA\n",
      "Column = 1 - Name = X - Locator = x1\n",
      "Column = 2 - Name = Y - Locator = x2\n",
      "Column = 3 - Name = Zn - Locator = z1\n",
      "Column = 4 - Name = Pb - Locator = p1\n",
      " "
     ]
    }
   ],
   "source": [
    "filepath = gdoc.loadData(\"Pollution\", \"Pollution.dat\")\n",
    "mydb = gl.Db.createFromCSV(filepath,gl.CSVformat())\n",
    "mydb.setLocators([\"X\",\"Y\"],gl.ELoc.X)\n",
    "mydb.setLocator(\"Zn\",gl.ELoc.Z)\n",
    "if verbose:\n",
    "    dbfmt = gl.DbStringFormat()\n",
    "    dbfmt.setFlags(flag_resume=True, flag_vars=True, flag_extend=True) \n",
    "    mydb.display(dbfmt)"
   ]
  },
  {
   "cell_type": "markdown",
   "metadata": {},
   "source": [
    "Accessing to the variable names"
   ]
  },
  {
   "cell_type": "code",
   "execution_count": 4,
   "metadata": {
    "scrolled": true
   },
   "outputs": [
    {
     "name": "stdout",
     "output_type": "stream",
     "text": [
      "List of all variable names = ('rank', 'X', 'Y', 'Zn', 'Pb')\n"
     ]
    }
   ],
   "source": [
    "print(\"List of all variable names =\",mydb.getAllNames())"
   ]
  },
  {
   "cell_type": "markdown",
   "metadata": {},
   "source": [
    "Extracting the vector containing the Zn variable in order to perform a selection"
   ]
  },
  {
   "cell_type": "code",
   "execution_count": 5,
   "metadata": {
    "scrolled": true
   },
   "outputs": [
    {
     "name": "stdout",
     "output_type": "stream",
     "text": [
      "\n",
      "Data Base Characteristics\n",
      "=========================\n",
      "\n",
      "Data Base Summary\n",
      "-----------------\n",
      "File is organized as a set of isolated points\n",
      "Space dimension              = 2\n",
      "Number of Columns            = 6\n",
      "Total number of samples      = 102\n",
      "Number of active samples     = 99\n",
      "\n",
      "Data Base Statistics\n",
      "--------------------\n",
      "1 - Name rank - Locator NA\n",
      " Nb of data          =        102\n",
      " Nb of active values =         99\n",
      " Minimum value       =      1.000\n",
      " Maximum value       =    102.000\n",
      " Mean value          =     51.808\n",
      " Standard Deviation  =     29.114\n",
      " Variance            =    847.650\n",
      "2 - Name X - Locator x1\n",
      " Nb of data          =        102\n",
      " Nb of active values =         99\n",
      " Minimum value       =    109.850\n",
      " Maximum value       =    143.010\n",
      " Mean value          =    119.924\n",
      " Standard Deviation  =      6.549\n",
      " Variance            =     42.890\n",
      "3 - Name Y - Locator x2\n",
      " Nb of data          =        102\n",
      " Nb of active values =         99\n",
      " Minimum value       =    483.660\n",
      " Maximum value       =    513.040\n",
      " Mean value          =    498.622\n",
      " Standard Deviation  =      8.000\n",
      " Variance            =     64.001\n",
      "4 - Name Zn - Locator NA\n",
      " Nb of data          =        102\n",
      " Nb of active values =         99\n",
      " Minimum value       =      1.090\n",
      " Maximum value       =     12.100\n",
      " Mean value          =      2.881\n",
      " Standard Deviation  =      1.667\n",
      " Variance            =      2.779\n",
      "5 - Name Pb - Locator z1\n",
      " Nb of data          =        102\n",
      " Nb of active values =         99\n",
      " Minimum value       =      3.000\n",
      " Maximum value       =     12.700\n",
      " Mean value          =      5.658\n",
      " Standard Deviation  =      1.697\n",
      " Variance            =      2.881\n",
      "6 - Name sel - Locator sel\n",
      " Nb of data          =        102\n",
      " Nb of active values =         99\n",
      " Minimum value       =      1.000\n",
      " Maximum value       =      1.000\n",
      " Mean value          =      1.000\n",
      " Standard Deviation  =      0.000\n",
      " Variance            =      0.000\n",
      "\n",
      "Variables\n",
      "---------\n",
      "Column = 0 - Name = rank - Locator = NA\n",
      "Column = 1 - Name = X - Locator = x1\n",
      "Column = 2 - Name = Y - Locator = x2\n",
      "Column = 3 - Name = Zn - Locator = NA\n",
      "Column = 4 - Name = Pb - Locator = z1\n",
      "Column = 5 - Name = sel - Locator = sel\n",
      " "
     ]
    }
   ],
   "source": [
    "tabZn = mydb.getColumn('Zn') # equivalent to mydb[\"Zn\"] or mydb[3]\n",
    "selZn = tabZn < 20\n",
    "mydb.addSelection(selZn,'sel')\n",
    "mydb.setLocator('Pb',gl.ELoc.Z)\n",
    "dbfmt = gl.DbStringFormat.createFromFlags(flag_stats=True)\n",
    "if verbose:\n",
    "    mydb.display(dbfmt)"
   ]
  },
  {
   "cell_type": "markdown",
   "metadata": {},
   "source": [
    "Display my Data (with samples represented by color and size)"
   ]
  },
  {
   "cell_type": "code",
   "execution_count": 6,
   "metadata": {},
   "outputs": [
    {
     "data": {
      "image/png": "[encoded data removed]",
      "text/plain": [
       "<Figure size 576x576 with 1 Axes>"
      ]
     },
     "metadata": {
      "needs_background": "light"
     },
     "output_type": "display_data"
    }
   ],
   "source": [
    "if graphics:\n",
    "    ax = mydb.plot(nameColor=\"Pb\")\n",
    "    ax.decoration(title=\"Data Set\")"
   ]
  },
  {
   "cell_type": "markdown",
   "metadata": {},
   "source": [
    "## Variograms\n",
    "\n",
    "We first define the geometry of the variogram calculations"
   ]
  },
  {
   "cell_type": "code",
   "execution_count": 7,
   "metadata": {},
   "outputs": [],
   "source": [
    "myVarioParamOmni = gl.VarioParam()\n",
    "mydir = gl.DirParam.create(npas=10, dpas=1.)\n",
    "myVarioParamOmni.addDir(mydir)"
   ]
  },
  {
   "cell_type": "markdown",
   "metadata": {},
   "source": [
    "We use the variogram definition in order to calculate the variogram cloud."
   ]
  },
  {
   "cell_type": "code",
   "execution_count": 8,
   "metadata": {
    "scrolled": true
   },
   "outputs": [],
   "source": [
    "dbcloud = gl.db_vcloud(mydb, myVarioParamOmni)"
   ]
  },
  {
   "cell_type": "markdown",
   "metadata": {},
   "source": [
    "We recall that the Variogram cloud is calculated by filling an underlying grid where each cell is painted according to the number of pairs at the given distance and given variability. Representing the variogram cloud"
   ]
  },
  {
   "cell_type": "code",
   "execution_count": 9,
   "metadata": {},
   "outputs": [
    {
     "data": {
      "image/png": "[encoded data removed]",
      "text/plain": [
       "<Figure size 576x576 with 1 Axes>"
      ]
     },
     "metadata": {
      "needs_background": "light"
     },
     "output_type": "display_data"
    }
   ],
   "source": [
    "if graphics:\n",
    "    ax = dbcloud.plot(\"Cloud*\")\n",
    "    ax.decoration(title=\"Variogram Cloud\")"
   ]
  },
  {
   "cell_type": "markdown",
   "metadata": {},
   "source": [
    "Calculating the experimental omni-directional variogram"
   ]
  },
  {
   "cell_type": "code",
   "execution_count": 10,
   "metadata": {
    "scrolled": true
   },
   "outputs": [
    {
     "name": "stdout",
     "output_type": "stream",
     "text": [
      "\n",
      "Variogram characteristics\n",
      "=========================\n",
      "Number of variable(s)       = 1\n",
      "Number of direction(s)      = 1\n",
      "Space dimension             = 2\n",
      "Variance-Covariance Matrix     2.881\n",
      "\n",
      "Direction #1\n",
      "------------\n",
      "Number of lags              = 10\n",
      "Direction coefficients      =      1.000     0.000\n",
      "Direction angles (degrees)  =      0.000     0.000\n",
      "Tolerance on direction      =     90.000 (degrees)\n",
      "Calculation lag             =      1.000\n",
      "Tolerance on distance       =     50.000 (Percent of the lag value)\n",
      "\n",
      "For variable 1\n",
      "      Rank    Npairs  Distance     Value\n",
      "         0     3.000     0.389     0.462\n",
      "         1   123.000     1.081     1.495\n",
      "         2   183.000     2.038     1.620\n",
      "         3   205.000     3.006     2.526\n",
      "         4   231.000     4.013     2.240\n",
      "         5   229.000     5.036     2.524\n",
      "         6   198.000     5.962     2.396\n",
      "         7   187.000     7.000     2.708\n",
      "         8   204.000     7.996     2.772\n",
      "         9   184.000     8.990     2.868\n",
      " "
     ]
    }
   ],
   "source": [
    "myVarioOmni = gl.Vario(myVarioParamOmni)\n",
    "err = myVarioOmni.compute(mydb, gl.ECalcVario.VARIOGRAM)\n",
    "if verbose:\n",
    "    myVarioOmni.display()"
   ]
  },
  {
   "cell_type": "markdown",
   "metadata": {},
   "source": [
    "The variogram is represented graphically for a quick check"
   ]
  },
  {
   "cell_type": "code",
   "execution_count": 11,
   "metadata": {
    "scrolled": false
   },
   "outputs": [
    {
     "data": {
      "image/png": "[encoded data removed]",
      "text/plain": [
       "<Figure size 360x360 with 1 Axes>"
      ]
     },
     "metadata": {
      "needs_background": "light"
     },
     "output_type": "display_data"
    }
   ],
   "source": [
    "if graphics:\n",
    "    ax = myVarioOmni.plot()\n",
    "    ax.decoration(title=\"Omni-directional Variogram for Pb\")"
   ]
  },
  {
   "cell_type": "markdown",
   "metadata": {},
   "source": [
    "Calculate a variogram in several directions"
   ]
  },
  {
   "cell_type": "code",
   "execution_count": 12,
   "metadata": {
    "scrolled": true
   },
   "outputs": [
    {
     "name": "stdout",
     "output_type": "stream",
     "text": [
      "\n",
      "Variogram characteristics\n",
      "=========================\n",
      "Number of variable(s)       = 1\n",
      "Number of direction(s)      = 4\n",
      "Space dimension             = 2\n",
      "Variance-Covariance Matrix     2.881\n",
      "\n",
      "Direction #1\n",
      "------------\n",
      "Number of lags              = 10\n",
      "Direction coefficients      =      1.000     0.000\n",
      "Direction angles (degrees)  =      0.000     0.000\n",
      "Tolerance on direction      =     22.500 (degrees)\n",
      "Calculation lag             =      1.000\n",
      "Tolerance on distance       =     50.000 (Percent of the lag value)\n",
      "\n",
      "For variable 1\n",
      "      Rank    Npairs  Distance     Value\n",
      "         0     1.000     0.410     0.180\n",
      "         1    29.000     1.094     1.634\n",
      "         2    47.000     2.079     1.415\n",
      "         3    53.000     3.003     2.824\n",
      "         4    63.000     3.999     2.348\n",
      "         5    66.000     5.035     2.319\n",
      "         6    60.000     5.978     3.115\n",
      "         7    52.000     7.045     2.746\n",
      "         8    52.000     8.020     3.927\n",
      "         9    37.000     8.980     2.554\n",
      "\n",
      "Direction #2\n",
      "------------\n",
      "Number of lags              = 10\n",
      "Direction coefficients      =      0.707     0.707\n",
      "Direction angles (degrees)  =     45.000     0.000\n",
      "Tolerance on direction      =     22.500 (degrees)\n",
      "Calculation lag             =      1.000\n",
      "Tolerance on distance       =     50.000 (Percent of the lag value)\n",
      "\n",
      "For variable 1\n",
      "      Rank    Npairs  Distance     Value\n",
      "         0     1.000     0.344     0.080\n",
      "         1    31.000     1.051     1.113\n",
      "         2    50.000     1.960     1.890\n",
      "         3    62.000     2.999     2.443\n",
      "         4    58.000     4.014     2.701\n",
      "         5    51.000     5.016     2.702\n",
      "         6    36.000     5.999     1.833\n",
      "         7    37.000     7.015     2.130\n",
      "         8    50.000     7.997     2.060\n",
      "         9    53.000     8.995     2.381\n",
      "\n",
      "Direction #3\n",
      "------------\n",
      "Number of lags              = 10\n",
      "Direction coefficients      =      0.000     1.000\n",
      "Direction angles (degrees)  =     90.000     0.000\n",
      "Tolerance on direction      =     22.500 (degrees)\n",
      "Calculation lag             =      1.000\n",
      "Tolerance on distance       =     50.000 (Percent of the lag value)\n",
      "\n",
      "For variable 1\n",
      "      Rank    Npairs  Distance     Value\n",
      "         1    32.000     1.149     1.631\n",
      "         2    39.000     2.080     1.670\n",
      "         3    39.000     2.979     2.511\n",
      "         4    48.000     4.012     2.120\n",
      "         5    51.000     5.029     3.055\n",
      "         6    47.000     5.939     2.856\n",
      "         7    49.000     6.965     2.386\n",
      "         8    42.000     7.952     2.708\n",
      "         9    41.000     9.018     2.320\n",
      "\n",
      "Direction #4\n",
      "------------\n",
      "Number of lags              = 10\n",
      "Direction coefficients      =     -0.707     0.707\n",
      "Direction angles (degrees)  =    135.000     0.000\n",
      "Tolerance on direction      =     22.500 (degrees)\n",
      "Calculation lag             =      1.000\n",
      "Tolerance on distance       =     50.000 (Percent of the lag value)\n",
      "\n",
      "For variable 1\n",
      "      Rank    Npairs  Distance     Value\n",
      "         0     1.000     0.411     1.125\n",
      "         1    31.000     1.028     1.606\n",
      "         2    47.000     2.044     1.496\n",
      "         3    51.000     3.040     2.330\n",
      "         4    62.000     4.028     1.791\n",
      "         5    61.000     5.058     2.155\n",
      "         6    55.000     5.939     1.587\n",
      "         7    49.000     6.975     3.425\n",
      "         8    60.000     8.004     2.408\n",
      "         9    53.000     8.972     3.996\n",
      " "
     ]
    }
   ],
   "source": [
    "myvarioParam = gl.VarioParam()\n",
    "mydirs = gl.DirParam.createMultiple(4, 10, 1.)\n",
    "myvarioParam.addMultiDirs(mydirs)\n",
    "myvario = gl.Vario(myvarioParam)\n",
    "myvario.compute(mydb,gl.ECalcVario.VARIOGRAM)\n",
    "if verbose:\n",
    "    myvario.display()"
   ]
  },
  {
   "cell_type": "code",
   "execution_count": 13,
   "metadata": {
    "scrolled": false
   },
   "outputs": [
    {
     "data": {
      "image/png": "[encoded data removed]",
      "text/plain": [
       "<Figure size 360x360 with 1 Axes>"
      ]
     },
     "metadata": {
      "needs_background": "light"
     },
     "output_type": "display_data"
    }
   ],
   "source": [
    "if graphics:\n",
    "    ax = myvario.plot(idir=-1)\n",
    "    ax.decoration(title=\"Multi-Directional Variogram of Pb\")"
   ]
  },
  {
   "cell_type": "markdown",
   "metadata": {},
   "source": [
    "Calculating the Variogram Map"
   ]
  },
  {
   "cell_type": "code",
   "execution_count": 14,
   "metadata": {},
   "outputs": [
    {
     "name": "stdout",
     "output_type": "stream",
     "text": [
      "\n",
      "Data Base Grid Characteristics\n",
      "==============================\n",
      "\n",
      "Data Base Summary\n",
      "-----------------\n",
      "File is organized as a regular grid\n",
      "Space dimension              = 2\n",
      "Number of Columns            = 5\n",
      "Total number of samples      = 1681\n",
      "\n",
      "Grid characteristics:\n",
      "---------------------\n",
      "Origin :    -33.160   -29.380\n",
      "Mesh   :      1.658     1.469\n",
      "Number :         41        41\n",
      "\n",
      "Variables\n",
      "---------\n",
      "Column = 0 - Name = rank - Locator = NA\n",
      "Column = 1 - Name = x1 - Locator = x1\n",
      "Column = 2 - Name = x2 - Locator = x2\n",
      "Column = 3 - Name = VMAP.Pb.Var - Locator = z1\n",
      "Column = 4 - Name = VMAP.Pb.Nb - Locator = NA\n",
      " "
     ]
    }
   ],
   "source": [
    "myvmap = gl.db_vmap(mydb,gl.ECalcVario.VARIOGRAM,[20,20])\n",
    "if verbose:\n",
    "    myvmap.display()"
   ]
  },
  {
   "cell_type": "code",
   "execution_count": 15,
   "metadata": {
    "scrolled": true
   },
   "outputs": [
    {
     "data": {
      "image/png": "[encoded data removed]",
      "text/plain": [
       "<Figure size 576x576 with 1 Axes>"
      ]
     },
     "metadata": {
      "needs_background": "light"
     },
     "output_type": "display_data"
    }
   ],
   "source": [
    "if graphics:\n",
    "    ax = myvmap.plot(nameRaster=\"*Var\")\n",
    "    ax.decoration(title=\"Variogram Map\")"
   ]
  },
  {
   "cell_type": "markdown",
   "metadata": {},
   "source": [
    "## Model\n",
    "\n",
    "Fitting a Model. We call the Automatic Fitting procedure providing the list of covariance functions to be tested."
   ]
  },
  {
   "cell_type": "code",
   "execution_count": 16,
   "metadata": {},
   "outputs": [],
   "source": [
    "mymodel = gl.Model.createFromDb(mydb)\n",
    "err = mymodel.fit(myvario,[gl.ECov.EXPONENTIAL,gl.ECov.SPHERICAL])"
   ]
  },
  {
   "cell_type": "markdown",
   "metadata": {},
   "source": [
    "Visualizing the resulting model, overlaid on the experimental variogram"
   ]
  },
  {
   "cell_type": "code",
   "execution_count": 17,
   "metadata": {},
   "outputs": [
    {
     "data": {
      "image/png": "[encoded data removed]",
      "text/plain": [
       "<Figure size 360x360 with 1 Axes>"
      ]
     },
     "metadata": {
      "needs_background": "light"
     },
     "output_type": "display_data"
    }
   ],
   "source": [
    "if graphics:\n",
    "    ax = gp.varmod(myvario,mymodel)\n",
    "    ax.decoration(title=\"Model for Pb\")"
   ]
  },
  {
   "cell_type": "markdown",
   "metadata": {},
   "source": [
    "### Model with equality constraints \n",
    "\n",
    "We can impose some constraints on the parameters during the fit. For instance here, we impose an equality constraint on the range (range = 1)."
   ]
  },
  {
   "cell_type": "code",
   "execution_count": 18,
   "metadata": {
    "scrolled": true
   },
   "outputs": [
    {
     "data": {
      "text/plain": [
       "\n",
       "Model characteristics\n",
       "=====================\n",
       "Space dimension              = 2\n",
       "Number of variable(s)        = 1\n",
       "Number of basic structure(s) = 1\n",
       "Number of drift function(s)  = 0\n",
       "Number of drift equation(s)  = 0\n",
       "\n",
       "Covariance Part\n",
       "---------------\n",
       "Spherical\n",
       "- Sill         =      2.101\n",
       "- Range        =      1.000\n",
       "Total Sill     =      2.101\n",
       "Known Mean(s)     0.000"
      ]
     },
     "execution_count": 18,
     "metadata": {},
     "output_type": "execute_result"
    }
   ],
   "source": [
    "myModelConstrained = gl.Model.createFromDb(mydb)\n",
    "constr = gl.Constraints()\n",
    "paramid = gl.CovParamId(0,0,gl.EConsElem.RANGE,0,0)\n",
    "constr.addItem(gl.ConsItem(paramid,gl.EConsType.EQUAL,1.))\n",
    "err = myModelConstrained.fit(myVarioOmni,[gl.ECov.SPHERICAL],constr)\n",
    "if (err > 0): print(\"Error while fitting the model\")\n",
    "myModelConstrained"
   ]
  },
  {
   "cell_type": "markdown",
   "metadata": {},
   "source": [
    "We can impose inequality constraints by using **EConsType.LOWER** or **EConsType.UPPER**."
   ]
  },
  {
   "cell_type": "markdown",
   "metadata": {},
   "source": [
    "## Adding a drift"
   ]
  },
  {
   "cell_type": "code",
   "execution_count": 19,
   "metadata": {
    "scrolled": true
   },
   "outputs": [
    {
     "name": "stdout",
     "output_type": "stream",
     "text": [
      "\n",
      "Model characteristics\n",
      "=====================\n",
      "Space dimension              = 2\n",
      "Number of variable(s)        = 1\n",
      "Number of basic structure(s) = 2\n",
      "Number of drift function(s)  = 1\n",
      "Number of drift equation(s)  = 1\n",
      "\n",
      "Covariance Part\n",
      "---------------\n",
      "Exponential\n",
      "- Sill         =      1.035\n",
      "- Ranges       =      1.786     0.366\n",
      "- Theo. Ranges =      0.596     0.122\n",
      "- Angles       =     45.023     0.000\n",
      "- Rotation Matrix\n",
      "               [,  0]    [,  1]\n",
      "     [  0,]     0.707    -0.707\n",
      "     [  1,]     0.707     0.707\n",
      "Spherical\n",
      "- Sill         =      1.621\n",
      "- Ranges       =      7.051     5.132\n",
      "- Angles       =    136.897     0.000\n",
      "- Rotation Matrix\n",
      "               [,  0]    [,  1]\n",
      "     [  0,]    -0.730    -0.683\n",
      "     [  1,]     0.683    -0.730\n",
      "Total Sill     =      2.656\n",
      "\n",
      "Drift Part\n",
      "----------\n",
      "Universality_Condition\n",
      " "
     ]
    }
   ],
   "source": [
    "mymodel.setDriftIRF()\n",
    "if verbose:\n",
    "    mymodel.display()"
   ]
  },
  {
   "cell_type": "markdown",
   "metadata": {},
   "source": [
    "## Defining the Neighborhood\n",
    "\n",
    "We initiate a Neigborhood (Moving with a small number of samples for Demonstration)"
   ]
  },
  {
   "cell_type": "code",
   "execution_count": 20,
   "metadata": {
    "scrolled": true
   },
   "outputs": [
    {
     "name": "stdout",
     "output_type": "stream",
     "text": [
      "\n",
      "Moving Neighborhood\n",
      "===================\n",
      "Minimum number of samples           = 1\n",
      "Maximum number of samples           = 6\n",
      "Maximum horizontal distance         = 10\n",
      " "
     ]
    }
   ],
   "source": [
    "myneigh = gl.NeighMoving.create(flag_xvalid=False,nmaxi=6,radius=10)\n",
    "if verbose:\n",
    "    myneigh.display()"
   ]
  },
  {
   "cell_type": "markdown",
   "metadata": {},
   "source": [
    "## Checking the Moving Neighborhood\n",
    "\n",
    "We must first create a Grid which covers the area of interest"
   ]
  },
  {
   "cell_type": "code",
   "execution_count": 21,
   "metadata": {},
   "outputs": [
    {
     "name": "stdout",
     "output_type": "stream",
     "text": [
      "\n",
      "Data Base Grid Characteristics\n",
      "==============================\n",
      "\n",
      "Data Base Summary\n",
      "-----------------\n",
      "File is organized as a regular grid\n",
      "Space dimension              = 2\n",
      "Number of Columns            = 2\n",
      "Total number of samples      = 5100\n",
      "\n",
      "Grid characteristics:\n",
      "---------------------\n",
      "Origin :    107.850   481.660\n",
      "Mesh   :      0.500     0.500\n",
      "Number :         75        68\n",
      "\n",
      "Variables\n",
      "---------\n",
      "Column = 0 - Name = x1 - Locator = x1\n",
      "Column = 1 - Name = x2 - Locator = x2\n",
      " "
     ]
    }
   ],
   "source": [
    "mygrid = gl.DbGrid.createCoveringDb(mydb,[],[0.5,0.5],[],[2,2])\n",
    "if verbose:\n",
    "    mygrid.display()"
   ]
  },
  {
   "cell_type": "markdown",
   "metadata": {},
   "source": [
    "We can now test the neighborhood characteristics for each node of the previously defined grid."
   ]
  },
  {
   "cell_type": "code",
   "execution_count": 22,
   "metadata": {},
   "outputs": [
    {
     "name": "stdout",
     "output_type": "stream",
     "text": [
      "\n",
      "Data Base Grid Characteristics\n",
      "==============================\n",
      "\n",
      "Data Base Summary\n",
      "-----------------\n",
      "File is organized as a regular grid\n",
      "Space dimension              = 2\n",
      "Number of Columns            = 7\n",
      "Total number of samples      = 5100\n",
      "\n",
      "Grid characteristics:\n",
      "---------------------\n",
      "Origin :    107.850   481.660\n",
      "Mesh   :      0.500     0.500\n",
      "Number :         75        68\n",
      "\n",
      "Variables\n",
      "---------\n",
      "Column = 0 - Name = x1 - Locator = x1\n",
      "Column = 1 - Name = x2 - Locator = x2\n",
      "Column = 2 - Name = Neigh.Pb.Number - Locator = NA\n",
      "Column = 3 - Name = Neigh.Pb.MaxDist - Locator = NA\n",
      "Column = 4 - Name = Neigh.Pb.MinDist - Locator = NA\n",
      "Column = 5 - Name = Neigh.Pb.NbNESect - Locator = NA\n",
      "Column = 6 - Name = Neigh.Pb.NbCESect - Locator = z1\n",
      " "
     ]
    }
   ],
   "source": [
    "err = gl.test_neigh(mydb,mygrid,mymodel,myneigh)\n",
    "if (err > 0): print(\"Error while running test_neigh\")\n",
    "if verbose:\n",
    "    mygrid.display()"
   ]
  },
  {
   "cell_type": "markdown",
   "metadata": {},
   "source": [
    "We can visualize some of the newly created variables, such as:\n",
    "\n",
    "\n",
    "- the number of points per neighborhood"
   ]
  },
  {
   "cell_type": "code",
   "execution_count": 23,
   "metadata": {
    "scrolled": true
   },
   "outputs": [
    {
     "data": {
      "image/png": "[encoded data removed]",
      "text/plain": [
       "<Figure size 576x576 with 1 Axes>"
      ]
     },
     "metadata": {
      "needs_background": "light"
     },
     "output_type": "display_data"
    }
   ],
   "source": [
    "if graphics:\n",
    "    ax = mygrid.plot(nameRaster=\"Neigh*Number\")\n",
    "    ax.decoration(title=\"Number of Samples per Neighborhood\")"
   ]
  },
  {
   "cell_type": "markdown",
   "metadata": {},
   "source": [
    "- the one giving the maximum distance per neighborhood"
   ]
  },
  {
   "cell_type": "code",
   "execution_count": 24,
   "metadata": {},
   "outputs": [
    {
     "data": {
      "image/png": "[encoded data removed]",
      "text/plain": [
       "<Figure size 576x576 with 1 Axes>"
      ]
     },
     "metadata": {
      "needs_background": "light"
     },
     "output_type": "display_data"
    }
   ],
   "source": [
    "if graphics:\n",
    "    ax=mygrid.plot(nameRaster=\"Neigh*MaxDist\")\n",
    "    ax.decoration(title=\"Maximum Distance per Neighborhood\")"
   ]
  },
  {
   "cell_type": "markdown",
   "metadata": {},
   "source": [
    "## Cross-validation\n",
    "\n",
    "We can now process the cross-validation step"
   ]
  },
  {
   "cell_type": "code",
   "execution_count": 25,
   "metadata": {
    "scrolled": false
   },
   "outputs": [
    {
     "name": "stdout",
     "output_type": "stream",
     "text": [
      "\n",
      "Data Base Characteristics\n",
      "=========================\n",
      "\n",
      "Data Base Summary\n",
      "-----------------\n",
      "File is organized as a set of isolated points\n",
      "Space dimension              = 2\n",
      "Number of Columns            = 8\n",
      "Total number of samples      = 102\n",
      "Number of active samples     = 99\n",
      "\n",
      "Variables\n",
      "---------\n",
      "Column = 0 - Name = rank - Locator = NA\n",
      "Column = 1 - Name = X - Locator = x1\n",
      "Column = 2 - Name = Y - Locator = x2\n",
      "Column = 3 - Name = Zn - Locator = NA\n",
      "Column = 4 - Name = Pb - Locator = NA\n",
      "Column = 5 - Name = sel - Locator = sel\n",
      "Column = 6 - Name = Xvalid.Pb.esterr - Locator = z1\n",
      "Column = 7 - Name = Xvalid.Pb.stderr - Locator = NA\n",
      " "
     ]
    }
   ],
   "source": [
    "err = gl.xvalid(mydb,mymodel,myneigh)\n",
    "if (err > 0): print(\"Error while running xvalid\")\n",
    "if verbose:\n",
    "    mydb.display()"
   ]
  },
  {
   "cell_type": "code",
   "execution_count": 26,
   "metadata": {},
   "outputs": [
    {
     "data": {
      "image/png": "[encoded data removed]",
      "text/plain": [
       "<Figure size 360x360 with 1 Axes>"
      ]
     },
     "metadata": {
      "needs_background": "light"
     },
     "output_type": "display_data"
    }
   ],
   "source": [
    "if graphics:\n",
    "    gp.histogram(mydb,name=\"Xvalid.Pb.stderr\",bins=50,range=(-4,3))"
   ]
  },
  {
   "cell_type": "markdown",
   "metadata": {},
   "source": [
    "## Estimation by Kriging\n",
    "\n",
    "We now perform the Estimation by Ordinary Kriging. The Neighborhood is changed into a Unique Neighborhood."
   ]
  },
  {
   "cell_type": "code",
   "execution_count": null,
   "metadata": {},
   "outputs": [],
   "source": [
    "mydb.setLocator(\"Pb\",gl.ELoc.Z)\n",
    "myneigh = gl.NeighUnique.create()\n",
    "err = gl.kriging(mydb,mygrid,mymodel,myneigh)\n",
    "if (err > 0): print(\"Error while running kriging\")\n",
    "if verbose:\n",
    "    mygrid.display(dbfmt)"
   ]
  },
  {
   "cell_type": "markdown",
   "metadata": {},
   "source": [
    "Visualizing the results"
   ]
  },
  {
   "cell_type": "code",
   "execution_count": null,
   "metadata": {},
   "outputs": [],
   "source": [
    "if graphics:\n",
    "    ax = mygrid.plot(nameRaster=\"Kriging.Pb.estim\")\n",
    "    ax = mydb.plot(nameColor=\"Pb\")\n",
    "    ax.decoration(title=\"Estimate of Pb\")"
   ]
  },
  {
   "cell_type": "code",
   "execution_count": null,
   "metadata": {
    "scrolled": true
   },
   "outputs": [],
   "source": [
    "if graphics:\n",
    "    ax = mygrid.plot(nameRaster=\"Kriging.Pb.stdev\")\n",
    "    ax = mydb.plot(nameColor=\"Pb\")\n",
    "    ax.decoration(title=\"St. Deviation of Pb\")"
   ]
  },
  {
   "cell_type": "markdown",
   "metadata": {},
   "source": [
    "## Simulations\n",
    "\n",
    "We must first transform the Data into Gaussian"
   ]
  },
  {
   "cell_type": "code",
   "execution_count": null,
   "metadata": {},
   "outputs": [],
   "source": [
    "myanamPb = gl.AnamHermite(30)\n",
    "myanamPb.fitFromLocator(mydb)\n",
    "if verbose:\n",
    "    myanamPb.display()"
   ]
  },
  {
   "cell_type": "markdown",
   "metadata": {},
   "source": [
    "We can produce the Gaussian Anamorphosis graphically within its definition domain."
   ]
  },
  {
   "cell_type": "code",
   "execution_count": null,
   "metadata": {},
   "outputs": [],
   "source": [
    "if graphics:\n",
    "    gp.anam(myanamPb)"
   ]
  },
  {
   "cell_type": "markdown",
   "metadata": {},
   "source": [
    "The next step consists in translating the target variable ('Pb') into its Gaussian transform"
   ]
  },
  {
   "cell_type": "code",
   "execution_count": null,
   "metadata": {},
   "outputs": [],
   "source": [
    "mydb.setLocator(\"Pb\",gl.ELoc.Z)\n",
    "err = myanamPb.rawToGaussianByLocator(mydb)\n",
    "if verbose:\n",
    "    mydb.display()"
   ]
  },
  {
   "cell_type": "markdown",
   "metadata": {},
   "source": [
    "We quickly calculate experimental (omni-directional) variograms of the gaussian variable (locater Z) using the already defined directions"
   ]
  },
  {
   "cell_type": "code",
   "execution_count": null,
   "metadata": {},
   "outputs": [],
   "source": [
    "myvarioParam = gl.VarioParam()\n",
    "mydir = gl.DirParam(10,1.)\n",
    "myvarioParam.addDir(mydir)\n",
    "myVario = gl.Vario(myvarioParam)\n",
    "err = myvario.compute(mydb,gl.ECalcVario.VARIOGRAM)"
   ]
  },
  {
   "cell_type": "markdown",
   "metadata": {},
   "source": [
    "We fit the model by automatic fit (with the constraints that the total sill be equal to 1)."
   ]
  },
  {
   "cell_type": "code",
   "execution_count": null,
   "metadata": {
    "scrolled": false
   },
   "outputs": [],
   "source": [
    "mymodelG = gl.Model.createFromDb(mydb)\n",
    "err = mymodelG.fit(myvario,[gl.ECov.EXPONENTIAL])\n",
    "if graphics:\n",
    "    ax = gp.varmod(myvario,mymodelG)\n",
    "    ax.decoration(title=\"Model for Gaussian Pb\")"
   ]
  },
  {
   "cell_type": "markdown",
   "metadata": {},
   "source": [
    "We perform a set of 10 conditional simulations using the Turning Bands Method."
   ]
  },
  {
   "cell_type": "code",
   "execution_count": null,
   "metadata": {
    "scrolled": true
   },
   "outputs": [],
   "source": [
    "err = gl.simtub(mydb,mygrid,mymodel,myneigh,10)\n",
    "if verbose:\n",
    "    mygrid.display()"
   ]
  },
  {
   "cell_type": "markdown",
   "metadata": {},
   "source": [
    "Some statistics on the Conditional simulations in Gaussian scale"
   ]
  },
  {
   "cell_type": "code",
   "execution_count": null,
   "metadata": {},
   "outputs": [],
   "source": [
    "mygrid.deleteColumn(\"Stats.*\")\n",
    "mygrid.statisticsBySample([\"Simu.Y.*\"],[gl.EStatOption.MINI,\n",
    "                                gl.EStatOption.MAXI,\n",
    "                                gl.EStatOption.MEAN,\n",
    "                                gl.EStatOption.STDV],\n",
    "                                True)\n",
    "if verbose:\n",
    "    dbfmt = gl.DbStringFormat()\n",
    "    dbfmt.setFlags(flag_resume=True, flag_stats=True) \n",
    "    mygrid.display(dbfmt)"
   ]
  },
  {
   "cell_type": "markdown",
   "metadata": {},
   "source": [
    "We visualize a conditional simulation in Gaussian scale"
   ]
  },
  {
   "cell_type": "code",
   "execution_count": null,
   "metadata": {},
   "outputs": [],
   "source": [
    "if graphics:\n",
    "    ax = mygrid.plot(nameRaster=\"Simu.Y.Pb.1\")\n",
    "    ax = mydb.plot(nameColor=\"Pb\")\n",
    "    ax.decoration(title=\"One Simulation of Pb in Gaussian Scale\")"
   ]
  },
  {
   "cell_type": "markdown",
   "metadata": {},
   "source": [
    "We turn the Gaussian conditional simulations into Raw scale (using the Anamorphosis back transform) and get rid of the Gaussian conditional simulations."
   ]
  },
  {
   "cell_type": "code",
   "execution_count": null,
   "metadata": {
    "scrolled": true
   },
   "outputs": [],
   "source": [
    "myanamPb.gaussianToRaw(mygrid,\"Simu.Y.*\")\n",
    "mygrid.deleteColumn(\"Simu.Y.*\")\n",
    "mygrid.deleteColumn(\"Stats.*\")\n",
    "if verbose:\n",
    "    mygrid.display()"
   ]
  },
  {
   "cell_type": "markdown",
   "metadata": {},
   "source": [
    "We calculate some statistics on the Conditional Simulations in Raw scale."
   ]
  },
  {
   "cell_type": "code",
   "execution_count": null,
   "metadata": {
    "scrolled": true
   },
   "outputs": [],
   "source": [
    "mygrid.deleteColumn(\"Stats.*\")\n",
    "mygrid.statisticsBySample([\"Z.Simu.*\"],[gl.EStatOption.MINI, \n",
    "                                gl.EStatOption.MAXI,\n",
    "                                gl.EStatOption.MEAN,\n",
    "                                gl.EStatOption.STDV],\n",
    "                  True)\n",
    "if verbose:\n",
    "    dbfmt = gl.DbStringFormat()\n",
    "    dbfmt.setFlags(flag_resume=True, flag_stats=True) \n",
    "    mygrid.display(dbfmt)"
   ]
  },
  {
   "cell_type": "markdown",
   "metadata": {},
   "source": [
    "We visualize a Conditional Simulation in Raw Scale"
   ]
  },
  {
   "cell_type": "code",
   "execution_count": null,
   "metadata": {
    "scrolled": true
   },
   "outputs": [],
   "source": [
    "if graphics:\n",
    "    ax = mygrid.plot(nameRaster=\"Z.Simu.Y.Pb.1\")\n",
    "    ax = mydb.plot(nameColor=\"Pb\")\n",
    "    ax.decoration(title=\"One simulation of Pb in Raw Scale\")"
   ]
  },
  {
   "cell_type": "markdown",
   "metadata": {},
   "source": [
    "Let us now average the conditional simulations in order to have a comparison with the estimation by kriging."
   ]
  },
  {
   "cell_type": "code",
   "execution_count": null,
   "metadata": {
    "scrolled": true
   },
   "outputs": [],
   "source": [
    "mygrid.deleteColumn(\"Stats.*\")\n",
    "mygrid.statisticsBySample([\"Z.Simu.*\"],[gl.EStatOption.MEAN],True)\n",
    "if verbose:\n",
    "    dbfmt = gl.DbStringFormat()\n",
    "    dbfmt.setFlags(flag_resume=True, flag_stats=True) \n",
    "    mygrid.display(dbfmt)"
   ]
  },
  {
   "cell_type": "markdown",
   "metadata": {},
   "source": [
    "Displaying the average of the Conditional Simulations"
   ]
  },
  {
   "cell_type": "code",
   "execution_count": null,
   "metadata": {
    "scrolled": true
   },
   "outputs": [],
   "source": [
    "if graphics:\n",
    "    ax = mygrid.plot(nameRaster=\"Stats*MEAN\")\n",
    "    ax = mydb.plot(nameColor=\"Pb\")\n",
    "    ax.decoration(title=\"Mean of Pb simulations\")"
   ]
  },
  {
   "cell_type": "markdown",
   "metadata": {},
   "source": [
    "## Multivariate case\n",
    "\n",
    "The Gaussian transform of the Pb variable has already been calculated. It suffices to perform the Gaussian transform of the Zn variable"
   ]
  },
  {
   "cell_type": "code",
   "execution_count": null,
   "metadata": {
    "scrolled": false
   },
   "outputs": [],
   "source": [
    "mydb.setLocator(\"Zn\",gl.ELoc.Z)\n",
    "myanamZn = gl.AnamHermite(30)\n",
    "myanamZn.fitFromLocator(mydb)\n",
    "if verbose:\n",
    "    myanamZn.display()"
   ]
  },
  {
   "cell_type": "code",
   "execution_count": null,
   "metadata": {},
   "outputs": [],
   "source": [
    "if graphics:\n",
    "    gp.anam(myanamZn)"
   ]
  },
  {
   "cell_type": "markdown",
   "metadata": {},
   "source": [
    "We convert the raw data into its Gaussian equivalent"
   ]
  },
  {
   "cell_type": "code",
   "execution_count": null,
   "metadata": {},
   "outputs": [],
   "source": [
    "mydb.setLocator(\"Zn\",gl.ELoc.Z)\n",
    "err = myanamZn.rawToGaussianByLocator(mydb)\n",
    "if verbose:\n",
    "    mydb.display()"
   ]
  },
  {
   "cell_type": "markdown",
   "metadata": {},
   "source": [
    "We now perform the multivariate variogram calculation"
   ]
  },
  {
   "cell_type": "code",
   "execution_count": null,
   "metadata": {
    "scrolled": true
   },
   "outputs": [],
   "source": [
    "mydb.setLocators([\"Y.Pb\",\"Y.Zn\"],gl.ELoc.Z)\n",
    "myvario = gl.Vario(myvarioParam)\n",
    "err = myvario.compute(mydb,gl.ECalcVario.VARIOGRAM)\n",
    "mymodelM = gl.Model.createFromDb(mydb)\n",
    "err = mymodelM.fit(myvario,[gl.ECov.EXPONENTIAL])\n",
    "if graphics:\n",
    "    axs = gp.varmod(myvario,mymodelM)\n",
    "    gp.decoration(axs,title=\"Multivariate Model\")\n",
    "    gp.geometry(axs,dims=[5,5])"
   ]
  },
  {
   "cell_type": "markdown",
   "metadata": {},
   "source": [
    "We perform 10 bivariate conditional simulations (deleting the previous monovariate simulation outcomes first for better legibility)"
   ]
  },
  {
   "cell_type": "code",
   "execution_count": null,
   "metadata": {},
   "outputs": [],
   "source": [
    "mygrid.deleteColumn(\"Z.Simu*\")\n",
    "err = gl.simtub(mydb,mygrid,mymodelM,myneigh,nbsimu=10)\n",
    "if verbose:\n",
    "    mygrid.display()"
   ]
  },
  {
   "cell_type": "markdown",
   "metadata": {},
   "source": [
    "We back-transform each set of simulation outcomes using its own Gaussian Anamorphosis function. Finally we delete the Gaussian variables and ask for the statistics on the simulated variables in the Raw Scale."
   ]
  },
  {
   "cell_type": "code",
   "execution_count": null,
   "metadata": {
    "scrolled": true
   },
   "outputs": [],
   "source": [
    "err = myanamZn.gaussianToRaw(mygrid,\"Simu.Y.Zn*\")\n",
    "err = myanamPb.gaussianToRaw(mygrid,\"Simu.Y.Pb*\")\n",
    "mygrid.deleteColumn(\"Simu.Y*\")\n",
    "mygrid.deleteColumn(\"Stats.*\")\n",
    "mygrid.statisticsBySample([\"Z.Simu.*\"],[gl.EStatOption.MINI,\n",
    "                                gl.EStatOption.MAXI,\n",
    "                                gl.EStatOption.MEAN,\n",
    "                                gl.EStatOption.STDV],\n",
    "                    True)\n",
    "if verbose:\n",
    "    dbfmt = gl.DbStringFormat()\n",
    "    dbfmt.setFlags(flag_resume=True, flag_stats=True) \n",
    "    mygrid.display(dbfmt)"
   ]
  },
  {
   "cell_type": "markdown",
   "metadata": {},
   "source": [
    "## Categorical Variable\n",
    "\n",
    "We compare the initial variable 'Pb' with a set of disjoint intervals. The 'Pb' values varying from 3 to 12.7, we consider three classes:\n",
    "- values below 4\n",
    "- values between 4 and 6\n",
    "- values above 6\n",
    "\n",
    "\n",
    "We first build the indicators for each class"
   ]
  },
  {
   "cell_type": "code",
   "execution_count": null,
   "metadata": {},
   "outputs": [],
   "source": [
    "limits = gl.Limits([np.nan, 4., 6., np.nan])\n",
    "if verbose:\n",
    "    limits.display()"
   ]
  },
  {
   "cell_type": "markdown",
   "metadata": {},
   "source": [
    "We apply the set of limits previously defined in order to transform the input variable into Indicators of the different classes."
   ]
  },
  {
   "cell_type": "code",
   "execution_count": null,
   "metadata": {
    "scrolled": false
   },
   "outputs": [],
   "source": [
    "err = limits.toIndicator(mydb,\"Pb\")\n",
    "if verbose:\n",
    "    mydb.display()"
   ]
  },
  {
   "cell_type": "markdown",
   "metadata": {},
   "source": [
    "We calculate the variogram of the Indicators for future use"
   ]
  },
  {
   "cell_type": "code",
   "execution_count": null,
   "metadata": {},
   "outputs": [],
   "source": [
    "myvarioindParam = gl.VarioParam()\n",
    "myvarioindParam.addDir(mydir)\n",
    "myvarioInd = gl.Vario(myvarioindParam)\n",
    "err = myvarioInd.compute(mydb,gl.ECalcVario.VARIOGRAM)\n",
    "if verbose:\n",
    "    myvarioInd.display()"
   ]
  },
  {
   "cell_type": "code",
   "execution_count": null,
   "metadata": {},
   "outputs": [],
   "source": [
    "ax = gp.varmod(myvarioInd)\n",
    "gp.geometry(ax,dims=[4,4])"
   ]
  },
  {
   "cell_type": "markdown",
   "metadata": {},
   "source": [
    "Then we build a categorical variable which gives the index of the class to which each sample belongs"
   ]
  },
  {
   "cell_type": "code",
   "execution_count": null,
   "metadata": {
    "scrolled": false
   },
   "outputs": [],
   "source": [
    "err = limits.toCategory(mydb,\"Pb\")\n",
    "if verbose:\n",
    "    dbfmt = gl.DbStringFormat()\n",
    "    dbfmt.setFlags(flag_stats=True)\n",
    "    dbfmt.setNames([\"Category*\"])\n",
    "    dbfmt.setMode(2)\n",
    "    mydb.display(dbfmt)"
   ]
  },
  {
   "cell_type": "code",
   "execution_count": null,
   "metadata": {},
   "outputs": [],
   "source": []
  }
 ],
 "metadata": {
  "kernelspec": {
   "display_name": "Python 3 (ipykernel)",
   "language": "python",
   "name": "python3"
  },
  "language_info": {
   "codemirror_mode": {
    "name": "ipython",
    "version": 3
   },
   "file_extension": ".py",
   "mimetype": "text/x-python",
   "name": "python",
   "nbconvert_exporter": "python",
   "pygments_lexer": "ipython3",
   "version": "3.10.5"
  },
  "toc": {
   "base_numbering": 1,
   "nav_menu": {},
   "number_sections": true,
   "sideBar": true,
   "skip_h1_title": false,
   "title_cell": "Table of Contents",
   "title_sidebar": "Contents",
   "toc_cell": false,
   "toc_position": {},
   "toc_section_display": true,
   "toc_window_display": false
  }
 },
 "nbformat": 4,
 "nbformat_minor": 4
}
