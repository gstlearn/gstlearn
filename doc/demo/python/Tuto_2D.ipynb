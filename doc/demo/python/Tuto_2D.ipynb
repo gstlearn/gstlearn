{
 "cells": [
  {
   "cell_type": "markdown",
   "metadata": {},
   "source": [
    "# Demonstration of gstlearn for a 2-D case study"
   ]
  },
  {
   "cell_type": "code",
   "execution_count": 1,
   "metadata": {},
   "outputs": [
    {
     "data": {
      "application/javascript": [
       "IPython.OutputArea.prototype._should_scroll = function(lines) {\n",
       "    return false;\n",
       "}\n"
      ],
      "text/plain": [
       "<IPython.core.display.Javascript object>"
      ]
     },
     "metadata": {},
     "output_type": "display_data"
    }
   ],
   "source": [
    "%%javascript\n",
    "IPython.OutputArea.prototype._should_scroll = function(lines) {\n",
    "    return false;\n",
    "}"
   ]
  },
  {
   "cell_type": "markdown",
   "metadata": {},
   "source": [
    "## Import packages"
   ]
  },
  {
   "cell_type": "code",
   "execution_count": 2,
   "metadata": {},
   "outputs": [],
   "source": [
    "import numpy as np\n",
    "import pandas as pd\n",
    "import sys\n",
    "import os\n",
    "import matplotlib.pyplot as plt\n",
    "import gstlearn as gl\n",
    "import gstlearn.plot as gp"
   ]
  },
  {
   "cell_type": "markdown",
   "metadata": {},
   "source": [
    "Global variables"
   ]
  },
  {
   "cell_type": "code",
   "execution_count": 3,
   "metadata": {},
   "outputs": [],
   "source": [
    "verbose  = True\n",
    "graphics = True\n",
    "gl.OptCst.define(gl.ECst.NTCOL,6)"
   ]
  },
  {
   "cell_type": "markdown",
   "metadata": {},
   "source": [
    "## Reading data"
   ]
  },
  {
   "cell_type": "markdown",
   "metadata": {},
   "source": [
    "The data are stored in a CSV format in the file called Pollution.dat "
   ]
  },
  {
   "cell_type": "code",
   "execution_count": 4,
   "metadata": {
    "scrolled": false
   },
   "outputs": [
    {
     "name": "stdout",
     "output_type": "stream",
     "text": [
      "\n",
      "Data Base Characteristics\n",
      "=========================\n",
      "\n",
      "Data Base Summary\n",
      "-----------------\n",
      "File is organized as a set of isolated points\n",
      "Space dimension              = 2\n",
      "Number of Columns            = 5\n",
      "Maximum Number of UIDs       = 5\n",
      "Total number of samples      = 102\n",
      "\n",
      "Data Base Extension\n",
      "-------------------\n",
      "Coor #1 - Min =    109.850 - Max =    143.010 - Ext = 33.16\n",
      "Coor #2 - Min =    483.660 - Max =    513.040 - Ext = 29.38\n",
      "\n",
      "Variables\n",
      "---------\n",
      "Column = 0 - Name = rank - Locator = NA\n",
      "Column = 1 - Name = X - Locator = x1\n",
      "Column = 2 - Name = Y - Locator = x2\n",
      "Column = 3 - Name = Zn - Locator = z1\n",
      "Column = 4 - Name = Pb - Locator = p1\n",
      " "
     ]
    }
   ],
   "source": [
    "dataDir = os.path.join(os.path.pardir,os.path.pardir,\"data\",\"Pollution\")\n",
    "filepath = os.path.join(dataDir,\"Pollution.dat\")\n",
    "mydb = gl.Db.createFromCSV(filepath,gl.CSVformat())\n",
    "err = mydb.setLocators([\"X\",\"Y\"],gl.ELoc.X)\n",
    "err = mydb.setLocator(\"Zn\",gl.ELoc.Z)\n",
    "if verbose:\n",
    "    dbfmt = gl.DbStringFormat()\n",
    "    dbfmt.setParams(gl.FLAG_RESUME | gl.FLAG_EXTEND | gl.FLAG_VARS) \n",
    "    mydb.display(dbfmt)"
   ]
  },
  {
   "cell_type": "markdown",
   "metadata": {},
   "source": [
    "Accessing to the variable names"
   ]
  },
  {
   "cell_type": "code",
   "execution_count": 5,
   "metadata": {
    "scrolled": true
   },
   "outputs": [
    {
     "name": "stdout",
     "output_type": "stream",
     "text": [
      "List of all variable names = ('rank', 'X', 'Y', 'Zn', 'Pb')\n"
     ]
    }
   ],
   "source": [
    "print(\"List of all variable names =\",mydb.getAllNames())"
   ]
  },
  {
   "cell_type": "markdown",
   "metadata": {},
   "source": [
    "Extracting the vector containing the Zn variable in order to perform a selection"
   ]
  },
  {
   "cell_type": "code",
   "execution_count": 6,
   "metadata": {
    "scrolled": true
   },
   "outputs": [
    {
     "name": "stdout",
     "output_type": "stream",
     "text": [
      "\n",
      "Data Base Characteristics\n",
      "=========================\n",
      "\n",
      "Data Base Summary\n",
      "-----------------\n",
      "File is organized as a set of isolated points\n",
      "Space dimension              = 2\n",
      "Number of Columns            = 6\n",
      "Maximum Number of UIDs       = 6\n",
      "Total number of samples      = 102\n",
      "Number of active samples     = 99\n",
      "\n",
      "Variables\n",
      "---------\n",
      "Column = 0 - Name = rank - Locator = NA\n",
      "Column = 1 - Name = X - Locator = x1\n",
      "Column = 2 - Name = Y - Locator = x2\n",
      "Column = 3 - Name = Zn - Locator = NA\n",
      "Column = 4 - Name = Pb - Locator = z1\n",
      "Column = 5 - Name = sel - Locator = sel\n",
      " "
     ]
    }
   ],
   "source": [
    "tabZn = mydb.getColumn('Zn')\n",
    "selZn = (np.asarray(tabZn) < 20).astype(float)\n",
    "mydb.addSelection(tuple(selZn),'sel')\n",
    "mydb.setLocator('Pb',gl.ELoc.Z)\n",
    "if verbose:\n",
    "    mydb.display()"
   ]
  },
  {
   "cell_type": "markdown",
   "metadata": {},
   "source": [
    "Display my Data (with samples represented by color and size)"
   ]
  },
  {
   "cell_type": "code",
   "execution_count": 7,
   "metadata": {},
   "outputs": [
    {
     "data": {
      "image/png": "[encoded data removed]",
      "text/plain": [
       "<Figure size 432x288 with 2 Axes>"
      ]
     },
     "metadata": {
      "needs_background": "light"
     },
     "output_type": "display_data"
    }
   ],
   "source": [
    "if graphics:\n",
    "    ax = gp.point(mydb,color_name=\"Pb\",title=\"Data Set\")"
   ]
  },
  {
   "cell_type": "markdown",
   "metadata": {},
   "source": [
    "## Variograms\n",
    "\n",
    "We first define the geometry of the variogram calculations"
   ]
  },
  {
   "cell_type": "code",
   "execution_count": 8,
   "metadata": {},
   "outputs": [],
   "source": [
    "myVarioParamOmni = gl.VarioParam()\n",
    "mydir = gl.DirParam(2,10,1.)\n",
    "myVarioParamOmni.addDir(mydir)"
   ]
  },
  {
   "cell_type": "markdown",
   "metadata": {},
   "source": [
    "We use the variogram definition in order to calculate the variogram cloud."
   ]
  },
  {
   "cell_type": "code",
   "execution_count": 9,
   "metadata": {
    "scrolled": true
   },
   "outputs": [],
   "source": [
    "dbcloud = gl.db_variogram_cloud(mydb, myVarioParamOmni)"
   ]
  },
  {
   "cell_type": "markdown",
   "metadata": {},
   "source": [
    "We recall that the Variogram cloud is calculated by filling an underlying grid where each cell is painted according to the number of pairs at the given distance and given variability. Representing the variogram cloud"
   ]
  },
  {
   "cell_type": "code",
   "execution_count": 10,
   "metadata": {},
   "outputs": [
    {
     "data": {
      "image/png": "[encoded data removed]",
      "text/plain": [
       "<Figure size 432x288 with 2 Axes>"
      ]
     },
     "metadata": {
      "needs_background": "light"
     },
     "output_type": "display_data"
    }
   ],
   "source": [
    "if graphics:\n",
    "    gp.grid(dbcloud,\"Cloud*\",title=\"Variogram Cloud\")"
   ]
  },
  {
   "cell_type": "markdown",
   "metadata": {},
   "source": [
    "Calculating the experimental omni-directional variogram"
   ]
  },
  {
   "cell_type": "code",
   "execution_count": 11,
   "metadata": {
    "scrolled": true
   },
   "outputs": [
    {
     "name": "stdout",
     "output_type": "stream",
     "text": [
      "\n",
      "Variogram characteristics\n",
      "=========================\n",
      "Number of variable(s)       = 1\n",
      "Number of direction(s)      = 1\n",
      "Space dimension             = 2\n",
      "Variance-Covariance Matrix     2.881\n",
      "\n",
      "Direction #1\n",
      "------------\n",
      "Number of lags              = 10\n",
      "Direction coefficients      =      1.000     0.000\n",
      "Direction angles (degrees)  =      0.000     0.000\n",
      "Tolerance on direction      =     90.000 (degrees)\n",
      "Calculation lag             =      1.000\n",
      "Tolerance on distance       =     50.000 (Percent of the lag value)\n",
      "\n",
      "For variable 1\n",
      "      Rank    Npairs  Distance     Value\n",
      "         0     3.000     0.389     0.462\n",
      "         1   123.000     1.081     1.495\n",
      "         2   183.000     2.038     1.620\n",
      "         3   205.000     3.006     2.526\n",
      "         4   231.000     4.013     2.240\n",
      "         5   229.000     5.036     2.524\n",
      "         6   198.000     5.962     2.396\n",
      "         7   187.000     7.000     2.708\n",
      "         8   204.000     7.996     2.772\n",
      "         9   184.000     8.990     2.868\n",
      " "
     ]
    }
   ],
   "source": [
    "myVarioOmni = gl.Vario(myVarioParamOmni,mydb)\n",
    "err = myVarioOmni.compute(gl.ECalcVario.VARIOGRAM)\n",
    "if verbose:\n",
    "    myVarioOmni.display()"
   ]
  },
  {
   "cell_type": "markdown",
   "metadata": {},
   "source": [
    "The variogram is represented graphically for a quick check"
   ]
  },
  {
   "cell_type": "code",
   "execution_count": 12,
   "metadata": {
    "scrolled": false
   },
   "outputs": [
    {
     "data": {
      "image/png": "[encoded data removed]",
      "text/plain": [
       "<Figure size 432x288 with 1 Axes>"
      ]
     },
     "metadata": {
      "needs_background": "light"
     },
     "output_type": "display_data"
    }
   ],
   "source": [
    "if graphics:\n",
    "    axs = gp.varmod(myVarioOmni,title=\"Omni-directional Variogram for Pb\")"
   ]
  },
  {
   "cell_type": "markdown",
   "metadata": {},
   "source": [
    "Calculate a variogram in several directions"
   ]
  },
  {
   "cell_type": "code",
   "execution_count": 13,
   "metadata": {
    "scrolled": true
   },
   "outputs": [
    {
     "name": "stdout",
     "output_type": "stream",
     "text": [
      "\n",
      "Variogram characteristics\n",
      "=========================\n",
      "Number of variable(s)       = 1\n",
      "Number of direction(s)      = 4\n",
      "Space dimension             = 2\n",
      "Variance-Covariance Matrix     2.881\n",
      "\n",
      "Direction #1\n",
      "------------\n",
      "Number of lags              = 10\n",
      "Direction coefficients      =      1.000     0.000\n",
      "Direction angles (degrees)  =      0.000     0.000\n",
      "Tolerance on direction      =     22.500 (degrees)\n",
      "Calculation lag             =      1.000\n",
      "Tolerance on distance       =     50.000 (Percent of the lag value)\n",
      "\n",
      "For variable 1\n",
      "      Rank    Npairs  Distance     Value\n",
      "         0     1.000     0.410     0.180\n",
      "         1    29.000     1.094     1.634\n",
      "         2    47.000     2.079     1.415\n",
      "         3    53.000     3.003     2.824\n",
      "         4    63.000     3.999     2.348\n",
      "         5    66.000     5.035     2.319\n",
      "         6    60.000     5.978     3.115\n",
      "         7    52.000     7.045     2.746\n",
      "         8    52.000     8.020     3.927\n",
      "         9    37.000     8.980     2.554\n",
      "\n",
      "Direction #2\n",
      "------------\n",
      "Number of lags              = 10\n",
      "Direction coefficients      =      0.707     0.707\n",
      "Direction angles (degrees)  =     45.000     0.000\n",
      "Tolerance on direction      =     22.500 (degrees)\n",
      "Calculation lag             =      1.000\n",
      "Tolerance on distance       =     50.000 (Percent of the lag value)\n",
      "\n",
      "For variable 1\n",
      "      Rank    Npairs  Distance     Value\n",
      "         0     1.000     0.344     0.080\n",
      "         1    31.000     1.051     1.113\n",
      "         2    50.000     1.960     1.890\n",
      "         3    62.000     2.999     2.443\n",
      "         4    58.000     4.014     2.701\n",
      "         5    51.000     5.016     2.702\n",
      "         6    36.000     5.999     1.833\n",
      "         7    37.000     7.015     2.130\n",
      "         8    50.000     7.997     2.060\n",
      "         9    53.000     8.995     2.381\n",
      "\n",
      "Direction #3\n",
      "------------\n",
      "Number of lags              = 10\n",
      "Direction coefficients      =      0.000     1.000\n",
      "Direction angles (degrees)  =     90.000     0.000\n",
      "Tolerance on direction      =     22.500 (degrees)\n",
      "Calculation lag             =      1.000\n",
      "Tolerance on distance       =     50.000 (Percent of the lag value)\n",
      "\n",
      "For variable 1\n",
      "      Rank    Npairs  Distance     Value\n",
      "         1    32.000     1.149     1.631\n",
      "         2    39.000     2.080     1.670\n",
      "         3    39.000     2.979     2.511\n",
      "         4    48.000     4.012     2.120\n",
      "         5    51.000     5.029     3.055\n",
      "         6    47.000     5.939     2.856\n",
      "         7    49.000     6.965     2.386\n",
      "         8    42.000     7.952     2.708\n",
      "         9    41.000     9.018     2.320\n",
      "\n",
      "Direction #4\n",
      "------------\n",
      "Number of lags              = 10\n",
      "Direction coefficients      =     -0.707     0.707\n",
      "Direction angles (degrees)  =    135.000     0.000\n",
      "Tolerance on direction      =     22.500 (degrees)\n",
      "Calculation lag             =      1.000\n",
      "Tolerance on distance       =     50.000 (Percent of the lag value)\n",
      "\n",
      "For variable 1\n",
      "      Rank    Npairs  Distance     Value\n",
      "         0     1.000     0.411     1.125\n",
      "         1    31.000     1.028     1.606\n",
      "         2    47.000     2.044     1.496\n",
      "         3    51.000     3.040     2.330\n",
      "         4    62.000     4.028     1.791\n",
      "         5    61.000     5.058     2.155\n",
      "         6    55.000     5.939     1.587\n",
      "         7    49.000     6.975     3.425\n",
      "         8    60.000     8.004     2.408\n",
      "         9    53.000     8.972     3.996\n",
      " "
     ]
    }
   ],
   "source": [
    "myvarioParam = gl.VarioParam()\n",
    "mydirs = gl.DirParam.createMultiple(2, 4, 10, 1.)\n",
    "myvarioParam.addMultiDirs(mydirs)\n",
    "myvario = gl.Vario(myvarioParam,mydb)\n",
    "myvario.compute(gl.ECalcVario.VARIOGRAM)\n",
    "if verbose:\n",
    "    myvario.display()"
   ]
  },
  {
   "cell_type": "code",
   "execution_count": 14,
   "metadata": {
    "scrolled": false
   },
   "outputs": [
    {
     "data": {
      "image/png": "[encoded data removed]",
      "text/plain": [
       "<Figure size 432x288 with 1 Axes>"
      ]
     },
     "metadata": {
      "needs_background": "light"
     },
     "output_type": "display_data"
    }
   ],
   "source": [
    "if graphics:\n",
    "    axs = gp.varmod(myvario,title=\"Multi-Directional Variogram of Pb\")"
   ]
  },
  {
   "cell_type": "markdown",
   "metadata": {},
   "source": [
    "Calculating the Variogram Map"
   ]
  },
  {
   "cell_type": "code",
   "execution_count": 15,
   "metadata": {},
   "outputs": [
    {
     "name": "stdout",
     "output_type": "stream",
     "text": [
      "\n",
      "Data Base Grid Characteristics\n",
      "==============================\n",
      "\n",
      "Data Base Summary\n",
      "-----------------\n",
      "File is organized as a regular grid\n",
      "Space dimension              = 2\n",
      "Number of Columns            = 5\n",
      "Maximum Number of UIDs       = 5\n",
      "Total number of samples      = 1681\n",
      "\n",
      "Grid characteristics:\n",
      "---------------------\n",
      "Origin :    -33.160   -29.380\n",
      "Mesh   :      1.658     1.469\n",
      "Number :         41        41\n",
      "\n",
      "Variables\n",
      "---------\n",
      "Column = 0 - Name = rank - Locator = NA\n",
      "Column = 1 - Name = x1 - Locator = x1\n",
      "Column = 2 - Name = x2 - Locator = x2\n",
      "Column = 3 - Name = VMAP.Pb.Var - Locator = z1\n",
      "Column = 4 - Name = VMAP.Pb.Nb - Locator = NA\n",
      " "
     ]
    }
   ],
   "source": [
    "myvmap = gl.db_vmap_compute(mydb,gl.ECalcVario.VARIOGRAM,[20,20])\n",
    "if verbose:\n",
    "    myvmap.display()"
   ]
  },
  {
   "cell_type": "code",
   "execution_count": 16,
   "metadata": {
    "scrolled": true
   },
   "outputs": [
    {
     "data": {
      "image/png": "[encoded data removed]",
      "text/plain": [
       "<Figure size 432x288 with 2 Axes>"
      ]
     },
     "metadata": {
      "needs_background": "light"
     },
     "output_type": "display_data"
    }
   ],
   "source": [
    "if graphics:\n",
    "    gp.grid(myvmap,\"*Var\",title=\"Variogram Map\")"
   ]
  },
  {
   "cell_type": "markdown",
   "metadata": {},
   "source": [
    "## Model\n",
    "\n",
    "Fitting a Model. We call the Automatic Fitting procedure providing the list of covariance functions to be tested."
   ]
  },
  {
   "cell_type": "code",
   "execution_count": 17,
   "metadata": {},
   "outputs": [],
   "source": [
    "mymodel = gl.Model.createFromDb(mydb)\n",
    "err = mymodel.fit(myvario,[gl.ECov.EXPONENTIAL,gl.ECov.SPHERICAL])"
   ]
  },
  {
   "cell_type": "markdown",
   "metadata": {},
   "source": [
    "Visualizing the resulting model, overlaid on the experimental variogram"
   ]
  },
  {
   "cell_type": "code",
   "execution_count": 18,
   "metadata": {},
   "outputs": [
    {
     "data": {
      "image/png": "[encoded data removed]",
      "text/plain": [
       "<Figure size 432x288 with 1 Axes>"
      ]
     },
     "metadata": {
      "needs_background": "light"
     },
     "output_type": "display_data"
    }
   ],
   "source": [
    "if graphics:\n",
    "    axs = gp.varmod(myvario,mymodel,title=\"Model for Pb\")"
   ]
  },
  {
   "cell_type": "markdown",
   "metadata": {},
   "source": [
    "### Model with equality constraints \n",
    "\n",
    "We can impose some constraints on the parameters during the fit. For instance here, we impose an equality constraint on the range (range = 1)."
   ]
  },
  {
   "cell_type": "code",
   "execution_count": 19,
   "metadata": {
    "scrolled": true
   },
   "outputs": [
    {
     "data": {
      "text/plain": [
       "\n",
       "Model characteristics\n",
       "=====================\n",
       "Space dimension              = 2\n",
       "Number of variable(s)        = 1\n",
       "Number of basic structure(s) = 1\n",
       "Number of drift function(s)  = 0\n",
       "Number of drift equation(s)  = 0\n",
       "\n",
       "Covariance Part\n",
       "---------------\n",
       "Spherical\n",
       "- Sill         =      2.101\n",
       "- Range        =      1.000\n",
       "Total Sill     =      2.101"
      ]
     },
     "execution_count": 19,
     "metadata": {},
     "output_type": "execute_result"
    }
   ],
   "source": [
    "myModelConstrained = gl.Model.createFromDb(mydb)\n",
    "constr = gl.Constraints()\n",
    "paramid = gl.CovParamId(0,0,gl.EConsElem.RANGE,0,0)\n",
    "constr.addItem(gl.ConsItem(paramid,gl.EConsType.EQUAL,1.))\n",
    "opt = gl.Option_AutoFit()\n",
    "err = myModelConstrained.fit(myVarioOmni,[gl.ECov.SPHERICAL],False,opt,constr)\n",
    "myModelConstrained"
   ]
  },
  {
   "cell_type": "markdown",
   "metadata": {},
   "source": [
    "We can impose inequality constraints by using **EConsType.LOWER** or **EConsType.UPPER**."
   ]
  },
  {
   "cell_type": "markdown",
   "metadata": {},
   "source": [
    "## Adding a drift"
   ]
  },
  {
   "cell_type": "code",
   "execution_count": 20,
   "metadata": {
    "scrolled": true
   },
   "outputs": [
    {
     "name": "stdout",
     "output_type": "stream",
     "text": [
      "\n",
      "Model characteristics\n",
      "=====================\n",
      "Space dimension              = 2\n",
      "Number of variable(s)        = 1\n",
      "Number of basic structure(s) = 2\n",
      "Number of drift function(s)  = 1\n",
      "Number of drift equation(s)  = 1\n",
      "\n",
      "Covariance Part\n",
      "---------------\n",
      "Exponential\n",
      "- Sill         =      1.035\n",
      "- Ranges       =      1.786     0.366\n",
      "- Theo. Ranges =      0.596     0.122\n",
      "- Angles       =    405.023     0.000\n",
      "- Rotation Matrix\n",
      "               [,  0]    [,  1]\n",
      "     [  0,]     0.707    -0.707\n",
      "     [  1,]     0.707     0.707\n",
      "Spherical\n",
      "- Sill         =      1.621\n",
      "- Ranges       =      7.051     5.132\n",
      "- Angles       =   1576.897     0.000\n",
      "- Rotation Matrix\n",
      "               [,  0]    [,  1]\n",
      "     [  0,]    -0.730    -0.683\n",
      "     [  1,]     0.683    -0.730\n",
      "Total Sill     =      2.656\n",
      "\n",
      "Drift Part\n",
      "----------\n",
      "Universality Condition\n",
      " "
     ]
    }
   ],
   "source": [
    "mymodel.addDrift(gl.Drift1(mymodel.getContext()))\n",
    "if verbose:\n",
    "    mymodel.display()"
   ]
  },
  {
   "cell_type": "markdown",
   "metadata": {},
   "source": [
    "## Defining the Neighborhood\n",
    "\n",
    "We initiate a Neigborhood (Moving with a small number of samples for Demonstration)"
   ]
  },
  {
   "cell_type": "code",
   "execution_count": 21,
   "metadata": {
    "scrolled": true
   },
   "outputs": [
    {
     "name": "stdout",
     "output_type": "stream",
     "text": [
      "\n",
      "Moving Neighborhood\n",
      "===================\n",
      "Space dimension = 2\n",
      "Minimum number of samples           = 1\n",
      "Maximum number of samples           = 6\n",
      "Maximum horizontal distance         = 10\n",
      " "
     ]
    }
   ],
   "source": [
    "myneigh = gl.NeighMoving.create(ndim=2,flag_xvalid=False,nmaxi=6,radius=10)\n",
    "if verbose:\n",
    "    myneigh.display()"
   ]
  },
  {
   "cell_type": "markdown",
   "metadata": {},
   "source": [
    "## Checking the Moving Neighborhood\n",
    "\n",
    "We must first create a Grid which covers the area of interest"
   ]
  },
  {
   "cell_type": "code",
   "execution_count": 22,
   "metadata": {},
   "outputs": [
    {
     "name": "stdout",
     "output_type": "stream",
     "text": [
      "\n",
      "Data Base Grid Characteristics\n",
      "==============================\n",
      "\n",
      "Data Base Summary\n",
      "-----------------\n",
      "File is organized as a regular grid\n",
      "Space dimension              = 2\n",
      "Number of Columns            = 2\n",
      "Maximum Number of UIDs       = 2\n",
      "Total number of samples      = 5760\n",
      "\n",
      "Grid characteristics:\n",
      "---------------------\n",
      "Origin :    107.850   481.660\n",
      "Mesh   :      0.500     0.500\n",
      "Number :         80        72\n",
      "\n",
      "Variables\n",
      "---------\n",
      "Column = 0 - Name = x1 - Locator = x1\n",
      "Column = 1 - Name = x2 - Locator = x2\n",
      " "
     ]
    }
   ],
   "source": [
    "mygrid = gl.DbGrid.createCoveringDb(mydb,[],[0.5,0.5],[],[2,2])\n",
    "if verbose:\n",
    "    mygrid.display()"
   ]
  },
  {
   "cell_type": "markdown",
   "metadata": {},
   "source": [
    "We can now test the neighborhood characteristics for each node of the previously defined grid."
   ]
  },
  {
   "cell_type": "code",
   "execution_count": 23,
   "metadata": {},
   "outputs": [
    {
     "name": "stdout",
     "output_type": "stream",
     "text": [
      "\n",
      "Data Base Grid Characteristics\n",
      "==============================\n",
      "\n",
      "Data Base Summary\n",
      "-----------------\n",
      "File is organized as a regular grid\n",
      "Space dimension              = 2\n",
      "Number of Columns            = 7\n",
      "Maximum Number of UIDs       = 7\n",
      "Total number of samples      = 5760\n",
      "\n",
      "Grid characteristics:\n",
      "---------------------\n",
      "Origin :    107.850   481.660\n",
      "Mesh   :      0.500     0.500\n",
      "Number :         80        72\n",
      "\n",
      "Variables\n",
      "---------\n",
      "Column = 0 - Name = x1 - Locator = x1\n",
      "Column = 1 - Name = x2 - Locator = x2\n",
      "Column = 2 - Name = Neigh.Number - Locator = z1\n",
      "Column = 3 - Name = Neigh.MaxDist - Locator = z2\n",
      "Column = 4 - Name = Neigh.MinDist - Locator = z3\n",
      "Column = 5 - Name = Neigh.NbNESect - Locator = z4\n",
      "Column = 6 - Name = Neigh.NbCESect - Locator = z5\n",
      " "
     ]
    }
   ],
   "source": [
    "err = gl.test_neigh(mydb,mygrid,mymodel,myneigh)\n",
    "if verbose:\n",
    "    mygrid.display()"
   ]
  },
  {
   "cell_type": "markdown",
   "metadata": {},
   "source": [
    "We can visualize some of the newly created variables, such as:\n",
    "\n",
    "\n",
    "- the number of points per neighborhood"
   ]
  },
  {
   "cell_type": "code",
   "execution_count": 24,
   "metadata": {
    "scrolled": true
   },
   "outputs": [
    {
     "data": {
      "image/png": "[encoded data removed]",
      "text/plain": [
       "<Figure size 432x288 with 2 Axes>"
      ]
     },
     "metadata": {
      "needs_background": "light"
     },
     "output_type": "display_data"
    }
   ],
   "source": [
    "if graphics:\n",
    "    gp.grid(mygrid,\"Neigh*Number\",title=\"Number of Samples per Neighborhood\")"
   ]
  },
  {
   "cell_type": "markdown",
   "metadata": {},
   "source": [
    "- the one giving the maximum distance per neighborhood"
   ]
  },
  {
   "cell_type": "code",
   "execution_count": 25,
   "metadata": {},
   "outputs": [
    {
     "data": {
      "image/png": "[encoded data removed]",
      "text/plain": [
       "<Figure size 432x288 with 2 Axes>"
      ]
     },
     "metadata": {
      "needs_background": "light"
     },
     "output_type": "display_data"
    }
   ],
   "source": [
    "if graphics:\n",
    "    gp.grid(mygrid,\"Neigh*MaxDist\",title=\"Maximum Distance per Neighborhood\")"
   ]
  },
  {
   "cell_type": "markdown",
   "metadata": {},
   "source": [
    "## Cross-validation\n",
    "\n",
    "We can now process the cross-validation step"
   ]
  },
  {
   "cell_type": "code",
   "execution_count": 26,
   "metadata": {
    "scrolled": true
   },
   "outputs": [
    {
     "name": "stdout",
     "output_type": "stream",
     "text": [
      "\n",
      "Data Base Characteristics\n",
      "=========================\n",
      "\n",
      "Data Base Summary\n",
      "-----------------\n",
      "File is organized as a set of isolated points\n",
      "Space dimension              = 2\n",
      "Number of Columns            = 8\n",
      "Maximum Number of UIDs       = 8\n",
      "Total number of samples      = 102\n",
      "Number of active samples     = 99\n",
      "\n",
      "Variables\n",
      "---------\n",
      "Column = 0 - Name = rank - Locator = NA\n",
      "Column = 1 - Name = X - Locator = x1\n",
      "Column = 2 - Name = Y - Locator = x2\n",
      "Column = 3 - Name = Zn - Locator = NA\n",
      "Column = 4 - Name = Pb - Locator = NA\n",
      "Column = 5 - Name = sel - Locator = sel\n",
      "Column = 6 - Name = Xvalid.Pb.esterr - Locator = z1\n",
      "Column = 7 - Name = Xvalid.Pb.stderr - Locator = NA\n",
      " "
     ]
    }
   ],
   "source": [
    "err = gl.xvalid(mydb,mymodel,myneigh)\n",
    "if verbose:\n",
    "    mydb.display()"
   ]
  },
  {
   "cell_type": "code",
   "execution_count": 27,
   "metadata": {},
   "outputs": [
    {
     "data": {
      "image/png": "[encoded data removed]",
      "text/plain": [
       "<Figure size 432x288 with 1 Axes>"
      ]
     },
     "metadata": {
      "needs_background": "light"
     },
     "output_type": "display_data"
    }
   ],
   "source": [
    "if graphics:\n",
    "    ax = gp.hist(mydb,\"Xvalid.Pb.stderr\")"
   ]
  },
  {
   "cell_type": "markdown",
   "metadata": {},
   "source": [
    "## Estimation by Kriging\n",
    "\n",
    "We now perform the Estimation by Ordinary Kriging. The Neighborhood is changed into a Unique Neighborhood."
   ]
  },
  {
   "cell_type": "code",
   "execution_count": 28,
   "metadata": {},
   "outputs": [
    {
     "name": "stdout",
     "output_type": "stream",
     "text": [
      "\n",
      "Data Base Grid Characteristics\n",
      "==============================\n",
      "\n",
      "Data Base Summary\n",
      "-----------------\n",
      "File is organized as a regular grid\n",
      "Space dimension              = 2\n",
      "Number of Columns            = 9\n",
      "Maximum Number of UIDs       = 9\n",
      "Total number of samples      = 5760\n",
      "\n",
      "Grid characteristics:\n",
      "---------------------\n",
      "Origin :    107.850   481.660\n",
      "Mesh   :      0.500     0.500\n",
      "Number :         80        72\n",
      "\n",
      "Variables\n",
      "---------\n",
      "Column = 0 - Name = x1 - Locator = x1\n",
      "Column = 1 - Name = x2 - Locator = x2\n",
      "Column = 2 - Name = Neigh.Number - Locator = NA\n",
      "Column = 3 - Name = Neigh.MaxDist - Locator = NA\n",
      "Column = 4 - Name = Neigh.MinDist - Locator = NA\n",
      "Column = 5 - Name = Neigh.NbNESect - Locator = NA\n",
      "Column = 6 - Name = Neigh.NbCESect - Locator = NA\n",
      "Column = 7 - Name = Kriging.Pb.estim - Locator = z1\n",
      "Column = 8 - Name = Kriging.Pb.stdev - Locator = NA\n",
      " "
     ]
    }
   ],
   "source": [
    "mydb.setLocator(\"Pb\",gl.ELoc.Z)\n",
    "myneigh = gl.NeighUnique.create(2)\n",
    "err = gl.kriging(mydb,mygrid,mymodel,myneigh)\n",
    "if verbose:\n",
    "    mygrid.display()"
   ]
  },
  {
   "cell_type": "markdown",
   "metadata": {},
   "source": [
    "Visualizing the results"
   ]
  },
  {
   "cell_type": "code",
   "execution_count": 29,
   "metadata": {},
   "outputs": [
    {
     "data": {
      "image/png": "[encoded data removed]",
      "text/plain": [
       "<Figure size 432x288 with 3 Axes>"
      ]
     },
     "metadata": {
      "needs_background": "light"
     },
     "output_type": "display_data"
    }
   ],
   "source": [
    "if graphics:\n",
    "    ax = gp.grid(mygrid,\"Kriging.Pb.estim\")\n",
    "    ax = gp.point(mydb,\"Pb\",title=\"Estimate of Pb\",ax=ax)"
   ]
  },
  {
   "cell_type": "code",
   "execution_count": 30,
   "metadata": {
    "scrolled": false
   },
   "outputs": [
    {
     "data": {
      "image/png": "[encoded data removed]",
      "text/plain": [
       "<Figure size 432x288 with 3 Axes>"
      ]
     },
     "metadata": {
      "needs_background": "light"
     },
     "output_type": "display_data"
    }
   ],
   "source": [
    "if graphics:\n",
    "    ax = gp.grid(mygrid,\"Kriging.Pb.stdev\")\n",
    "    ax = gp.point(mydb,\"Pb\",title=\"St. Deviation of Pb\",ax=ax)"
   ]
  },
  {
   "cell_type": "markdown",
   "metadata": {},
   "source": [
    "## Simulations\n",
    "\n",
    "We must first transform the Data into Gaussian"
   ]
  },
  {
   "cell_type": "code",
   "execution_count": 31,
   "metadata": {},
   "outputs": [
    {
     "name": "stdout",
     "output_type": "stream",
     "text": [
      "\n",
      "Hermitian Anamorphosis\n",
      "----------------------\n",
      "Minimum absolute value for Y  = -2.7\n",
      "Maximum absolute value for Y  = 2.6\n",
      "Minimum absolute value for Z  = 3.0029\n",
      "Maximum absolute value for Z  = 12.9777\n",
      "Minimum practical value for Y = -2.7\n",
      "Maximum practical value for Y = 2.6\n",
      "Minimum practical value for Z = 3.0029\n",
      "Maximum practical value for Z = 12.9777\n",
      "Mean                          = 5.65758\n",
      "Variance                      = 2.86296\n",
      "Number of Hermite polynomials = 30\n",
      "Normalized coefficients for Hermite polynomials\n",
      "               [,  0]    [,  1]    [,  2]    [,  3]    [,  4]    [,  5]    [,  6]\n",
      "     [  0,]     5.658    -1.625     0.440    -0.069    -0.017     0.082    -0.061\n",
      "     [  7,]     0.001     0.036    -0.044     0.004     0.047    -0.030    -0.029\n",
      "     [ 14,]     0.037     0.007    -0.031     0.010     0.018    -0.019    -0.003\n",
      "     [ 21,]     0.019    -0.010    -0.014     0.019     0.006    -0.023     0.004\n",
      "     [ 28,]     0.022    -0.013\n",
      " "
     ]
    }
   ],
   "source": [
    "myanamPb = gl.AnamHermite(30)\n",
    "myanamPb.fit(mydb)\n",
    "if verbose:\n",
    "    myanamPb.display()"
   ]
  },
  {
   "cell_type": "markdown",
   "metadata": {},
   "source": [
    "We can produce the Gaussian Anamorphosis graphically within its definition domain."
   ]
  },
  {
   "cell_type": "code",
   "execution_count": 32,
   "metadata": {},
   "outputs": [
    {
     "data": {
      "image/png": "[encoded data removed]",
      "text/plain": [
       "<Figure size 432x288 with 1 Axes>"
      ]
     },
     "metadata": {
      "needs_background": "light"
     },
     "output_type": "display_data"
    }
   ],
   "source": [
    "if graphics:\n",
    "    ax = gp.anam(myanamPb)"
   ]
  },
  {
   "cell_type": "markdown",
   "metadata": {},
   "source": [
    "The next step consists in translating the target variable ('Pb') into its Gaussian transform"
   ]
  },
  {
   "cell_type": "code",
   "execution_count": null,
   "metadata": {},
   "outputs": [],
   "source": [
    "mydb.setLocator(\"Pb\",gl.ELoc.Z)\n",
    "err = myanamPb.RawToGaussian(mydb)\n",
    "if verbose:\n",
    "    mydb.display()"
   ]
  },
  {
   "cell_type": "markdown",
   "metadata": {},
   "source": [
    "We quickly calculate experimental (omni-directional) variograms using the already defined directions"
   ]
  },
  {
   "cell_type": "code",
   "execution_count": null,
   "metadata": {},
   "outputs": [],
   "source": [
    "myvarioParam = gl.VarioParam()\n",
    "mydir = gl.DirParam(2,10,1.)\n",
    "myvarioParam.addDir(mydir)\n",
    "myVario = gl.Vario(myvarioParam,mydb)\n",
    "err = myvario.compute(gl.ECalcVario.VARIOGRAM)"
   ]
  },
  {
   "cell_type": "markdown",
   "metadata": {},
   "source": [
    "We fit the model by automatic fit (with the constraints that the total sill be equal to 1)."
   ]
  },
  {
   "cell_type": "code",
   "execution_count": null,
   "metadata": {
    "scrolled": true
   },
   "outputs": [],
   "source": [
    "mymodelG = gl.Model.createFromDb(mydb)\n",
    "err = mymodelG.fit(myvario,[gl.ECov.EXPONENTIAL])\n",
    "if graphics:\n",
    "    ax = gp.varmod(myvario,mymodelG,title=\"Model for Gaussian Pb\")"
   ]
  },
  {
   "cell_type": "markdown",
   "metadata": {},
   "source": [
    "We perform a set of 10 conditional simulations using the Turning Bands Method."
   ]
  },
  {
   "cell_type": "code",
   "execution_count": null,
   "metadata": {
    "scrolled": true
   },
   "outputs": [],
   "source": [
    "err = gl.simtub(mydb,mygrid,mymodel,myneigh,10)\n",
    "if verbose:\n",
    "    mygrid.display()"
   ]
  },
  {
   "cell_type": "markdown",
   "metadata": {},
   "source": [
    "Some statistics on the Conditional simulations in Gaussian scale"
   ]
  },
  {
   "cell_type": "code",
   "execution_count": null,
   "metadata": {},
   "outputs": [],
   "source": [
    "if verbose:\n",
    "    err = mygrid.statistics([\"Simu.Y.*\"],[\"mini\",\"maxi\",\"mean\",\"stdv\"],True,True,True)"
   ]
  },
  {
   "cell_type": "markdown",
   "metadata": {},
   "source": [
    "We visualize a conditional simulation in Gaussian scale"
   ]
  },
  {
   "cell_type": "code",
   "execution_count": null,
   "metadata": {},
   "outputs": [],
   "source": [
    "if graphics:\n",
    "    ax = gp.grid(mygrid,\"Simu.Y.Pb.1\")\n",
    "    ax = gp.point(mydb,\"Pb\",title=\"One Simulation of Pb in Gaussian Scale\",ax=ax)"
   ]
  },
  {
   "cell_type": "markdown",
   "metadata": {},
   "source": [
    "We turn the Gaussian conditional simulations into Raw scale (using the Anamorphosis back transform) and get rid of the Gaussian conditional simulations."
   ]
  },
  {
   "cell_type": "code",
   "execution_count": null,
   "metadata": {
    "scrolled": true
   },
   "outputs": [],
   "source": [
    "myanamPb.GaussianToRaw(mygrid,\"Simu.Y.*\")\n",
    "mygrid.deleteColumn(\"Simu.Y.*\")\n",
    "if verbose:\n",
    "    mygrid.display()"
   ]
  },
  {
   "cell_type": "markdown",
   "metadata": {},
   "source": [
    "We calculate some statistics on the Conditional Simulations in Raw scale."
   ]
  },
  {
   "cell_type": "code",
   "execution_count": null,
   "metadata": {},
   "outputs": [],
   "source": [
    "if verbose:\n",
    "    err = mygrid.statistics([\"Z.Simu.*\"],[\"mini\",\"maxi\",\"mean\",\"stdv\"],True,True,True)"
   ]
  },
  {
   "cell_type": "markdown",
   "metadata": {},
   "source": [
    "We visualize a Conditional Simulation in Raw Scale"
   ]
  },
  {
   "cell_type": "code",
   "execution_count": null,
   "metadata": {
    "scrolled": true
   },
   "outputs": [],
   "source": [
    "if graphics:\n",
    "    ax = gp.grid(mygrid,\"Z.Simu.Y.Pb.1\")\n",
    "    ax = gp.point(mydb,\"Pb\",title=\"One simulation of Pb in Raw Scale\", ax=ax)"
   ]
  },
  {
   "cell_type": "markdown",
   "metadata": {},
   "source": [
    "Let us now average the conditional simulations in order to have a comparison with the estimation by kriging."
   ]
  },
  {
   "cell_type": "code",
   "execution_count": null,
   "metadata": {
    "scrolled": true
   },
   "outputs": [],
   "source": [
    "err = mygrid.statistics([\"Z.Simu.*\"],[\"Mean\"],True,False,False)\n",
    "if verbose:\n",
    "    mygrid.display()"
   ]
  },
  {
   "cell_type": "markdown",
   "metadata": {},
   "source": [
    "Displaying the average of the Conditional Simulations"
   ]
  },
  {
   "cell_type": "code",
   "execution_count": null,
   "metadata": {
    "scrolled": true
   },
   "outputs": [],
   "source": [
    "if graphics:\n",
    "    ax = gp.grid(mygrid,\"Stats*Mean\")\n",
    "    ax = gp.point(mydb,\"Pb\",title=\"Mean of Pb simulations\",ax=ax)"
   ]
  },
  {
   "cell_type": "markdown",
   "metadata": {},
   "source": [
    "## Multivariate case\n",
    "\n",
    "The Gaussian transform of the Pb variable has already been calculated. It suffices to perform the Gaussian transform of the Zn variable"
   ]
  },
  {
   "cell_type": "code",
   "execution_count": null,
   "metadata": {
    "scrolled": false
   },
   "outputs": [],
   "source": [
    "mydb.setLocator(\"Zn\",gl.ELoc.Z)\n",
    "myanamZn = gl.AnamHermite(30)\n",
    "myanamZn.fit(mydb)\n",
    "if verbose:\n",
    "    myanamZn.display()"
   ]
  },
  {
   "cell_type": "code",
   "execution_count": null,
   "metadata": {},
   "outputs": [],
   "source": [
    "if graphics:\n",
    "    res = myanamZn.sample()\n",
    "    ax = gp.XY(res.getY(),res.getZ(),xlim=res.getAylim(),ylim=res.getAzlim(),title=\"Gaussian Anamorphosis for Zn\")"
   ]
  },
  {
   "cell_type": "markdown",
   "metadata": {},
   "source": [
    "We convert the raw data into its Gaussian equivalent"
   ]
  },
  {
   "cell_type": "code",
   "execution_count": null,
   "metadata": {},
   "outputs": [],
   "source": [
    "mydb.setLocator(\"Zn\",gl.ELoc.Z)\n",
    "err = myanamZn.RawToGaussian(mydb)\n",
    "if verbose:\n",
    "    mydb.display()"
   ]
  },
  {
   "cell_type": "markdown",
   "metadata": {},
   "source": [
    "We now perform the multivariate variogram caculation"
   ]
  },
  {
   "cell_type": "code",
   "execution_count": null,
   "metadata": {
    "scrolled": true
   },
   "outputs": [],
   "source": [
    "mydb.setLocators([\"Y.Pb\",\"Y.Zn\"],gl.ELoc.Z)\n",
    "myvario = gl.Vario(myvarioParam,mydb)\n",
    "err = myvario.compute(gl.ECalcVario.VARIOGRAM)\n",
    "mymodelM = gl.Model.createFromDb(mydb)\n",
    "err = mymodelM.fit(myvario,[gl.ECov.EXPONENTIAL])\n",
    "if graphics:\n",
    "    ax = gp.varmod(myvario,mymodelM,title=\"Multivariate Model\",figsize=[5,5])"
   ]
  },
  {
   "cell_type": "markdown",
   "metadata": {},
   "source": [
    "We perform 10 bivariate conditional simulations (deleting the previous monovariate simulation outcomes first for better legibility)"
   ]
  },
  {
   "cell_type": "code",
   "execution_count": null,
   "metadata": {},
   "outputs": [],
   "source": [
    "mygrid.deleteColumn(\"Z.Simu*\")\n",
    "err = gl.simtub(mydb,mygrid,mymodelM,myneigh,10)\n",
    "if verbose:\n",
    "    mygrid.display()"
   ]
  },
  {
   "cell_type": "markdown",
   "metadata": {},
   "source": [
    "We back-transform each set of simulation outcomes using its own Gaussian Anamorphosis function. Finally we delete the Gaussian variables and ask for the statistics on the simulated variables in the Raw Scale."
   ]
  },
  {
   "cell_type": "code",
   "execution_count": null,
   "metadata": {
    "scrolled": true
   },
   "outputs": [],
   "source": [
    "err = myanamZn.GaussianToRaw(mygrid,\"Simu.Y.Zn*\")\n",
    "err = myanamPb.GaussianToRaw(mygrid,\"Simu.Y.Pb*\")\n",
    "mygrid.deleteColumn(\"Simu.Y*\")\n",
    "if verbose:\n",
    "    err = mygrid.statistics([\"Z.Simu.*\"],[\"mini\",\"maxi\",\"mean\",\"stdv\"],True,True,True)"
   ]
  },
  {
   "cell_type": "markdown",
   "metadata": {},
   "source": [
    "## Categorical Variable\n",
    "\n",
    "We compare the initial variable 'Pb' with a set of disjoint intervals. The 'Pb' values varying from 3 to 12.7, we consider three classes:\n",
    "- values below 4\n",
    "- values between 4 and 6\n",
    "- values above 6\n",
    "\n",
    "\n",
    "We first build the indicators for each class"
   ]
  },
  {
   "cell_type": "code",
   "execution_count": null,
   "metadata": {},
   "outputs": [],
   "source": [
    "limits = gl.Limits([gl.TEST, 4., 6., gl.TEST])\n",
    "if verbose:\n",
    "    limits.display()"
   ]
  },
  {
   "cell_type": "markdown",
   "metadata": {},
   "source": [
    "We apply the set of limits previously defined in order to transform the input variable into Indicators of the different classes."
   ]
  },
  {
   "cell_type": "code",
   "execution_count": null,
   "metadata": {
    "scrolled": false
   },
   "outputs": [],
   "source": [
    "err = limits.toIndicator(mydb,\"Pb\")\n",
    "if verbose:\n",
    "    mydb.display()"
   ]
  },
  {
   "cell_type": "markdown",
   "metadata": {},
   "source": [
    "We calculate the variogram of the Indicators for future use"
   ]
  },
  {
   "cell_type": "code",
   "execution_count": null,
   "metadata": {},
   "outputs": [],
   "source": [
    "myvarioindParam = gl.VarioParam()\n",
    "myvarioindParam.addDir(mydir)\n",
    "myvarioInd = gl.Vario(myvarioindParam,mydb)\n",
    "err = myvarioInd.compute(gl.ECalcVario.VARIOGRAM)\n",
    "if verbose:\n",
    "    myvarioInd.display()"
   ]
  },
  {
   "cell_type": "code",
   "execution_count": null,
   "metadata": {},
   "outputs": [],
   "source": [
    "ax = gp.varmod(myvarioInd)"
   ]
  },
  {
   "cell_type": "markdown",
   "metadata": {},
   "source": [
    "Then we build a categorical variable which gives the index of the class to which each sample belongs"
   ]
  },
  {
   "cell_type": "code",
   "execution_count": null,
   "metadata": {
    "scrolled": true
   },
   "outputs": [],
   "source": [
    "err = limits.toCategory(mydb,\"Pb\")\n",
    "if verbose:\n",
    "    dbfmt = gl.DbStringFormat()\n",
    "    dbfmt.setParams(gl.FLAG_STATS)\n",
    "    dbfmt.setNames([\"Category*\"])\n",
    "    dbfmt.setMode(2)\n",
    "    mydb.display(dbfmt)"
   ]
  },
  {
   "cell_type": "code",
   "execution_count": null,
   "metadata": {},
   "outputs": [],
   "source": []
  }
 ],
 "metadata": {
  "kernelspec": {
   "display_name": "Python 3",
   "language": "python",
   "name": "python3"
  },
  "language_info": {
   "codemirror_mode": {
    "name": "ipython",
    "version": 3
   },
   "file_extension": ".py",
   "mimetype": "text/x-python",
   "name": "python",
   "nbconvert_exporter": "python",
   "pygments_lexer": "ipython3",
   "version": "3.8.5"
  }
 },
 "nbformat": 4,
 "nbformat_minor": 4
}
