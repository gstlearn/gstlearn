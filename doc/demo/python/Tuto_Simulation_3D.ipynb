{
 "cells": [
  {
   "cell_type": "code",
   "execution_count": null,
   "metadata": {},
   "outputs": [],
   "source": [
    "import numpy as np\n",
    "import plotly.graph_objects as go\n",
    "import IPython\n",
    "import gstlearn as gl\n",
    "import gstlearn.plot as gp\n",
    "import gstlearn.plot3D as gop\n",
    "import matplotlib.pyplot as plt\n",
    "#https://nbviewer.org/github/empet/Plotly-plots/blob/master/Plotly-Slice-in-volumetric-data.ipynb"
   ]
  },
  {
   "cell_type": "markdown",
   "metadata": {},
   "source": [
    "# Simulation avec gstlearn"
   ]
  },
  {
   "cell_type": "code",
   "execution_count": null,
   "metadata": {},
   "outputs": [],
   "source": [
    "model = gl.Model.createFromParam(gl.ECov.BESSEL_K,param=0.5,range=50,space=gl.SpaceRN(3))\n",
    "#grid = gl.DbGrid.create(nx = [100,100,100])\n",
    "grid = gl.DbGrid.create(nx = [40,30,20])\n",
    "iuid = gl.simtub(None,dbout=grid,model=model)"
   ]
  },
  {
   "cell_type": "code",
   "execution_count": null,
   "metadata": {},
   "outputs": [],
   "source": [
    "def get_lims_colors(surfacecolor):# color limits for a slice\n",
    "    return np.min(surfacecolor), np.max(surfacecolor)"
   ]
  },
  {
   "cell_type": "code",
   "execution_count": null,
   "metadata": {},
   "outputs": [],
   "source": [
    "def colorax(vmin, vmax):\n",
    "    return dict(cmin=vmin,\n",
    "                cmax=vmax)"
   ]
  },
  {
   "cell_type": "code",
   "execution_count": null,
   "metadata": {},
   "outputs": [],
   "source": [
    "res = grid[\"Simu\"].reshape(grid.getNXs())\n",
    "sminz, smaxz = get_lims_colors(res)\n",
    "data = [gop.SliceOnDbGrid3D(grid,\"Simu\",0,12),\n",
    "        gop.SliceOnDbGrid3D(grid,\"Simu\",2,11),\n",
    "        gop.SliceOnDbGrid3D(grid,\"Simu\",1,3)\n",
    "       ]\n",
    "fig1 = go.Figure(data=data)\n",
    "fig1.show()  "
   ]
  },
  {
   "cell_type": "code",
   "execution_count": null,
   "metadata": {},
   "outputs": [],
   "source": [
    "nxs = np.flip(np.array(grid.getNXs()))\n",
    "res = grid[\"Simu\"].reshape(nxs)\n",
    "plt.imshow(res[:,1,:],cmap='BrBG',norm=plt.Normalize(sminz,smaxz))"
   ]
  },
  {
   "cell_type": "code",
   "execution_count": null,
   "metadata": {},
   "outputs": [],
   "source": [
    "gp.grid(grid,\"Simu\",posx=0,posy=2)"
   ]
  },
  {
   "cell_type": "code",
   "execution_count": null,
   "metadata": {},
   "outputs": [],
   "source": []
  }
 ],
 "metadata": {
  "kernelspec": {
   "display_name": "Python 3",
   "language": "python",
   "name": "python3"
  },
  "language_info": {
   "codemirror_mode": {
    "name": "ipython",
    "version": 3
   },
   "file_extension": ".py",
   "mimetype": "text/x-python",
   "name": "python",
   "nbconvert_exporter": "python",
   "pygments_lexer": "ipython3",
   "version": "3.8.5"
  }
 },
 "nbformat": 4,
 "nbformat_minor": 5
}
