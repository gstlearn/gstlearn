{
 "cells": [
  {
   "cell_type": "code",
   "execution_count": null,
   "metadata": {},
   "outputs": [],
   "source": [
    "import numpy as np\n",
    "import plotly.graph_objects as go\n",
    "import IPython\n",
    "import gstlearn as gl\n",
    "import gstlearn.plot as gp\n",
    "import gstlearn.plot3D as gop\n",
    "import matplotlib.pyplot as plt\n",
    "\n",
    "#https://nbviewer.org/github/empet/Plotly-plots/blob/master/Plotly-Slice-in-volumetric-data.ipynb"
   ]
  },
  {
   "cell_type": "markdown",
   "metadata": {},
   "source": [
    "# Simulation avec gstlearn"
   ]
  },
  {
   "cell_type": "code",
   "execution_count": null,
   "metadata": {},
   "outputs": [],
   "source": [
    "model = gl.Model.createFromParam(gl.ECov.BESSEL_K,param=0.5,range=50,space=gl.SpaceRN(3))\n",
    "#grid = gl.DbGrid.create(nx = [100,100,100])\n",
    "grid = gl.DbGrid.create(nx = [40,30,20])\n",
    "iuid = gl.simtub(None,dbout=grid,model=model)"
   ]
  },
  {
   "cell_type": "code",
   "execution_count": null,
   "metadata": {},
   "outputs": [],
   "source": [
    "def get_lims_colors(surfacecolor):# color limits for a slice\n",
    "    return np.min(surfacecolor), np.max(surfacecolor)"
   ]
  },
  {
   "cell_type": "code",
   "execution_count": null,
   "metadata": {},
   "outputs": [],
   "source": [
    "def colorax(vmin, vmax):\n",
    "    return dict(cmin=vmin,\n",
    "                cmax=vmax)"
   ]
  },
  {
   "cell_type": "code",
   "execution_count": null,
   "metadata": {},
   "outputs": [],
   "source": [
    "res = grid[\"Simu\"].reshape(grid.getNXs())\n",
    "sminz, smaxz = get_lims_colors(res)\n",
    "data = [gop.SliceOnDbGrid3D(grid,\"Simu\",0,12),\n",
    "        gop.SliceOnDbGrid3D(grid,\"Simu\",2,11),\n",
    "        gop.SliceOnDbGrid3D(grid,\"Simu\",1,3)\n",
    "       ]\n",
    "fig1 = go.Figure(data=data)\n",
    "\n",
    "#fig1.update_layout(\n",
    "#         title_text='Slices in volumetric data', \n",
    "#         title_x=0.5,\n",
    "#         width=700,\n",
    "#         height=700,\n",
    "#         scene_zaxis_range=grid.getExtrema(0,False),\n",
    "#         scene_xaxis_range=grid.getExtrema(1,False),\n",
    "#         scene_yaxis_range=grid.getExtrema(2,False),\n",
    "#         coloraxis=dict(colorscale='BrBG',\n",
    "#                        colorbar_thickness=25,\n",
    "#                        colorbar_len=0.75,\n",
    "#                        **colorax(sminz, smaxz))            \n",
    "#)     \n",
    "fig1.show()  "
   ]
  },
  {
   "cell_type": "code",
   "execution_count": null,
   "metadata": {},
   "outputs": [],
   "source": [
    "plt.imshow(res[:,36,:],cmap='BrBG',norm=plt.Normalize(sminz,smaxz))"
   ]
  },
  {
   "cell_type": "code",
   "execution_count": null,
   "metadata": {},
   "outputs": [],
   "source": []
  }
 ],
 "metadata": {
  "kernelspec": {
   "display_name": "Python 3",
   "language": "python",
   "name": "python3"
  },
  "language_info": {
   "codemirror_mode": {
    "name": "ipython",
    "version": 3
   },
   "file_extension": ".py",
   "mimetype": "text/x-python",
   "name": "python",
   "nbconvert_exporter": "python",
   "pygments_lexer": "ipython3",
   "version": "3.8.5"
  }
 },
 "nbformat": 4,
 "nbformat_minor": 5
}
