{
 "cells": [
  {
   "cell_type": "code",
   "execution_count": null,
   "id": "1373a48d",
   "metadata": {},
   "outputs": [],
   "source": [
    "import numpy as np\n",
    "import plotly.graph_objects as go\n",
    "import IPython\n",
    "import gstlearn as gl\n",
    "import gstlearn.plot as gp\n",
    "import matplotlib.pyplot as plt\n",
    "\n",
    "#https://nbviewer.org/github/empet/Plotly-plots/blob/master/Plotly-Slice-in-volumetric-data.ipynb"
   ]
  },
  {
   "cell_type": "markdown",
   "id": "7d551677",
   "metadata": {},
   "source": [
    "# Simulation avec gstlearn"
   ]
  },
  {
   "cell_type": "code",
   "execution_count": null,
   "id": "26cd9d79",
   "metadata": {},
   "outputs": [],
   "source": [
    "model = gl.Model.createFromParam(gl.ECov.BESSEL_K,param=0.5,range=50,space=gl.SpaceRN(3))\n",
    "grid = gl.DbGrid.create(nx = [100,100,100])\n",
    "iuid = gl.simtub(None,dbout=grid,model=model)"
   ]
  },
  {
   "cell_type": "code",
   "execution_count": null,
   "id": "5f622c45",
   "metadata": {},
   "outputs": [],
   "source": [
    "def get_lims_colors(surfacecolor):# color limits for a slice\n",
    "    return np.min(surfacecolor), np.max(surfacecolor)"
   ]
  },
  {
   "cell_type": "code",
   "execution_count": null,
   "id": "d87a07cb",
   "metadata": {},
   "outputs": [],
   "source": [
    "def return_slice(grid,name,indSlice,pos = 0,usesel=False):\n",
    "    \n",
    "    shape = list(grid.getNXs())\n",
    "    shape.pop(pos)\n",
    "    vect = grid.getSlice(\"Simu\", pos, indSlice, usesel)\n",
    "    x = np.array(vect[0]).reshape(shape)\n",
    "    y = np.array(vect[1]).reshape(shape)\n",
    "    z = np.array(vect[2]).reshape(shape)\n",
    "    surfacecolor = np.array(vect[3]).reshape(shape)\n",
    "    \n",
    "    return go.Surface(x=x,\n",
    "                      y=y,\n",
    "                      z=z,\n",
    "                      surfacecolor=surfacecolor,\n",
    "                      coloraxis='coloraxis')"
   ]
  },
  {
   "cell_type": "code",
   "execution_count": null,
   "id": "a6f6b4b5",
   "metadata": {},
   "outputs": [],
   "source": [
    "def colorax(vmin, vmax):\n",
    "    return dict(cmin=vmin,\n",
    "                cmax=vmax)"
   ]
  },
  {
   "cell_type": "code",
   "execution_count": null,
   "id": "36a40a3a",
   "metadata": {},
   "outputs": [],
   "source": [
    "res = grid[\"Simu\"].reshape(grid.getNXs())\n",
    "sminz, smaxz = get_lims_colors(res)\n",
    "data = [return_slice(grid,\"Simu\",12),\n",
    "        return_slice(grid,\"Simu\",22,2),\n",
    "        return_slice(grid,\"Simu\",22,1)\n",
    "       ]\n",
    "fig1 = go.Figure(data=data)\n",
    "\n",
    "fig1.update_layout(\n",
    "         title_text='Slices in volumetric data', \n",
    "         title_x=0.5,\n",
    "         width=700,\n",
    "         height=700,\n",
    "         scene_zaxis_range=grid.getExtrema(0,False),\n",
    "         scene_xaxis_range=grid.getExtrema(1,False),\n",
    "         scene_yaxis_range=grid.getExtrema(2,False),\n",
    "         coloraxis=dict(colorscale='BrBG',\n",
    "                        colorbar_thickness=25,\n",
    "                        colorbar_len=0.75,\n",
    "                        **colorax(sminz, smaxz)))            \n",
    "      \n",
    "#fig1.show()  "
   ]
  },
  {
   "cell_type": "code",
   "execution_count": null,
   "id": "eb25f7db",
   "metadata": {},
   "outputs": [],
   "source": [
    "plt.imshow(res[:,36,:],cmap='BrBG',norm=plt.Normalize(sminz,smaxz))"
   ]
  }
 ],
 "metadata": {
  "kernelspec": {
   "display_name": "Python 3 (ipykernel)",
   "language": "python",
   "name": "python3"
  },
  "language_info": {
   "codemirror_mode": {
    "name": "ipython",
    "version": 3
   },
   "file_extension": ".py",
   "mimetype": "text/x-python",
   "name": "python",
   "nbconvert_exporter": "python",
   "pygments_lexer": "ipython3",
   "version": "3.10.2"
  }
 },
 "nbformat": 4,
 "nbformat_minor": 5
}
