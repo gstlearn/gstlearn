{
 "cells": [
  {
   "cell_type": "markdown",
   "id": "1e974a14",
   "metadata": {},
   "source": [
    "# Simulations in 3-D"
   ]
  },
  {
   "cell_type": "markdown",
   "id": "91ce29d9",
   "metadata": {},
   "source": [
    "<!-- SUMMARY: Simulations on a 3-D grid. Visualization in Fence Diagram -->\n",
    "\n",
    "<!-- CATEGORY: Methodology -->"
   ]
  },
  {
   "cell_type": "code",
   "execution_count": 1,
   "id": "b2a96fdc",
   "metadata": {},
   "outputs": [],
   "source": [
    "import numpy as np\n",
    "import plotly.graph_objects as go\n",
    "import IPython\n",
    "import gstlearn as gl\n",
    "import gstlearn.plot as gp\n",
    "import gstlearn.plot3D as gop\n",
    "import matplotlib.pyplot as plt"
   ]
  },
  {
   "cell_type": "code",
   "execution_count": null,
   "id": "ef0e082b",
   "metadata": {},
   "outputs": [],
   "source": [
    "model = gl.Model.createFromParam(gl.ECov.MATERN,param=0.5,range=50,space=gl.SpaceRN.create(3))\n",
    "grid = gl.DbGrid.create(nx = [40,30,20])\n",
    "iuid = gl.simtub(None,dbout=grid,model=model)\n",
    "grid.display()"
   ]
  },
  {
   "cell_type": "code",
   "execution_count": 4,
   "id": "bfda5872",
   "metadata": {},
   "outputs": [],
   "source": [
    "def get_lims_colors(surfacecolor):# color limits for a slice\n",
    "    return np.min(surfacecolor), np.max(surfacecolor)"
   ]
  },
  {
   "cell_type": "code",
   "execution_count": 5,
   "id": "8a9b572c",
   "metadata": {},
   "outputs": [],
   "source": [
    "def colorax(vmin, vmax):\n",
    "    return dict(cmin=vmin,\n",
    "                cmax=vmax)"
   ]
  },
  {
   "cell_type": "code",
   "execution_count": null,
   "id": "9ca5c17b",
   "metadata": {},
   "outputs": [],
   "source": [
    "res = grid[\"Simu\"].reshape(grid.getNXs())\n",
    "sminz, smaxz = get_lims_colors(res)\n",
    "data = [gop.SliceOnDbGrid(grid,\"Simu\",0,12),\n",
    "        gop.SliceOnDbGrid(grid,\"Simu\",2,11),\n",
    "        gop.SliceOnDbGrid(grid,\"Simu\",1,3)\n",
    "       ]\n",
    "fig1 = go.Figure(data=data)\n",
    "f = fig1.show()  "
   ]
  },
  {
   "cell_type": "code",
   "execution_count": null,
   "id": "e6d78552",
   "metadata": {},
   "outputs": [],
   "source": [
    "ax = grid.plot(\"Simu\",posX=0,posY=2)\n",
    "ax.geometry(dims=[7,7])"
   ]
  }
 ],
 "metadata": {
  "kernelspec": {
   "display_name": "Python 3 (ipykernel)",
   "language": "python",
   "name": "python3"
  },
  "language_info": {
   "codemirror_mode": {
    "name": "ipython",
    "version": 3
   },
   "file_extension": ".py",
   "mimetype": "text/x-python",
   "name": "python",
   "nbconvert_exporter": "python",
   "pygments_lexer": "ipython3",
   "version": "3.10.12"
  },
  "toc": {
   "base_numbering": 1,
   "nav_menu": {},
   "number_sections": true,
   "sideBar": true,
   "skip_h1_title": false,
   "title_cell": "Table of Contents",
   "title_sidebar": "Contents",
   "toc_cell": false,
   "toc_position": {},
   "toc_section_display": true,
   "toc_window_display": false
  }
 },
 "nbformat": 4,
 "nbformat_minor": 5
}
