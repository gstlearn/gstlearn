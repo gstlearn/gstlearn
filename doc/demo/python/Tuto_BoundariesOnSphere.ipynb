{
 "cells": [
  {
   "cell_type": "markdown",
   "metadata": {},
   "source": [
    "# Plot boundaries on the Earth"
   ]
  },
  {
   "cell_type": "markdown",
   "metadata": {},
   "source": [
    "Ce notebook est un résumé du notebook situé ici \n",
    "\n",
    "https://chart-studio.plotly.com/~empet/14813/heatmap-plot-on-a-spherical-map/#/\n",
    "\n",
    "et se concentre sur le traçage des frontières (plus généralement d'un polygone) sur la sphère.\n",
    "\n",
    "Il nécessite l'installation de **mpl_toolkits** qui peut être assez complexe.\n",
    "\n",
    "Sous linux, sous réserve que la librairie GEOS soit installée, il suffit d'effectuer les commandes suivantes (le dossier à télécharger est assez lourd et la procédure peut prendre quelques minutes) :"
   ]
  },
  {
   "cell_type": "raw",
   "metadata": {},
   "source": [
    "wget https://github.com/matplotlib/basemap/archive/refs/tags/v1.3.3.tar.gz\n",
    "tar -xvf basemap-1.3.3.tar.gz\n",
    "cd basemap-1.3.3/packages/basemap\n",
    "python3 -m pip install ."
   ]
  },
  {
   "cell_type": "markdown",
   "metadata": {},
   "source": [
    "En cas de problème, voir les détails ici :\n",
    "\n",
    "https://matplotlib.org/basemap/users/installing.html .\n"
   ]
  },
  {
   "cell_type": "code",
   "execution_count": 1,
   "metadata": {},
   "outputs": [
    {
     "ename": "ModuleNotFoundError",
     "evalue": "No module named 'mpl_toolkits.basemap'",
     "output_type": "error",
     "traceback": [
      "\u001b[0;31m---------------------------------------------------------------------------\u001b[0m",
      "\u001b[0;31mModuleNotFoundError\u001b[0m                       Traceback (most recent call last)",
      "\u001b[0;32m<ipython-input-1-db3d7b775d69>\u001b[0m in \u001b[0;36m<module>\u001b[0;34m\u001b[0m\n\u001b[1;32m      1\u001b[0m \u001b[0;32mimport\u001b[0m \u001b[0mnumpy\u001b[0m \u001b[0;32mas\u001b[0m \u001b[0mnp\u001b[0m\u001b[0;34m\u001b[0m\u001b[0;34m\u001b[0m\u001b[0m\n\u001b[0;32m----> 2\u001b[0;31m \u001b[0;32mfrom\u001b[0m \u001b[0mmpl_toolkits\u001b[0m\u001b[0;34m.\u001b[0m\u001b[0mbasemap\u001b[0m \u001b[0;32mimport\u001b[0m \u001b[0mBasemap\u001b[0m\u001b[0;34m\u001b[0m\u001b[0;34m\u001b[0m\u001b[0m\n\u001b[0m\u001b[1;32m      3\u001b[0m \u001b[0;32mimport\u001b[0m \u001b[0mplotly\u001b[0m\u001b[0;34m.\u001b[0m\u001b[0mgraph_objects\u001b[0m \u001b[0;32mas\u001b[0m \u001b[0mgo\u001b[0m\u001b[0;34m\u001b[0m\u001b[0;34m\u001b[0m\u001b[0m\n\u001b[1;32m      4\u001b[0m \u001b[0;32mimport\u001b[0m \u001b[0mIPython\u001b[0m\u001b[0;34m\u001b[0m\u001b[0;34m\u001b[0m\u001b[0m\n\u001b[1;32m      5\u001b[0m \u001b[0;32mfrom\u001b[0m \u001b[0mnumpy\u001b[0m \u001b[0;32mimport\u001b[0m \u001b[0mpi\u001b[0m\u001b[0;34m,\u001b[0m \u001b[0mcos\u001b[0m\u001b[0;34m,\u001b[0m \u001b[0msin\u001b[0m\u001b[0;34m\u001b[0m\u001b[0;34m\u001b[0m\u001b[0m\n",
      "\u001b[0;31mModuleNotFoundError\u001b[0m: No module named 'mpl_toolkits.basemap'"
     ]
    }
   ],
   "source": [
    "import numpy as np           \n",
    "from mpl_toolkits.basemap import Basemap\n",
    "import plotly.graph_objects as go\n",
    "import IPython\n",
    "from numpy import pi, cos, sin\n",
    "import matplotlib.pyplot as plt"
   ]
  },
  {
   "cell_type": "code",
   "execution_count": 2,
   "metadata": {},
   "outputs": [],
   "source": [
    "\n",
    "def d2r(x):\n",
    "    return x * np.pi / 180.\n",
    "\n",
    "def mapping_map_to_sphere(lon, lat, radius=6371.):\n",
    "    #this function maps the points of coords (lon, lat) to points onto the  sphere of radius radius\n",
    "    \n",
    "    lon=np.array(lon, dtype=np.float64)\n",
    "    lat=np.array(lat, dtype=np.float64)\n",
    "    lon=d2r(lon)\n",
    "    lat=d2r(lat)\n",
    "    xs=radius*cos(lon)*cos(lat)\n",
    "    ys=radius*sin(lon)*cos(lat)\n",
    "    zs=radius*sin(lat)\n",
    "    return xs, ys, zs\n",
    "\n",
    "# Functions converting coastline/country polygons to lon/lat traces\n",
    "def polygons_to_traces(poly_paths, N_poly):\n",
    "    ''' \n",
    "    pos arg 1. (poly_paths): paths to polygons\n",
    "    pos arg 2. (N_poly): number of polygon to convert\n",
    "    '''\n",
    "    # init. plotting list\n",
    "    lons=[]\n",
    "    lats=[]\n",
    "\n",
    "    for i_poly in range(N_poly):\n",
    "        poly_path = poly_paths[i_poly]\n",
    "        \n",
    "        # get the Basemap coordinates of each segment\n",
    "        coords_cc = np.array(\n",
    "            [(vertex[0],vertex[1]) \n",
    "             for (vertex,code) in poly_path.iter_segments(simplify=False)]\n",
    "        )\n",
    "        \n",
    "        # convert coordinates to lon/lat by 'inverting' the Basemap projection\n",
    "        lon_cc, lat_cc = m(coords_cc[:,0],coords_cc[:,1], inverse=True)\n",
    "    \n",
    "        \n",
    "        lats.extend(lat_cc.tolist()+[None]) \n",
    "        lons.extend(lon_cc.tolist()+[None])\n",
    "               \n",
    "    return lons, lats\n",
    "\n",
    "# Function generating coastline lon/lat \n",
    "def get_coastline_traces():\n",
    "    poly_paths = m.drawcoastlines().get_paths() # coastline polygon paths\n",
    "    N_poly = 91  # use only the 91st biggest coastlines (i.e. no rivers)\n",
    "    cc_lons, cc_lats= polygons_to_traces(poly_paths, N_poly)\n",
    "    return cc_lons, cc_lats\n",
    "\n",
    "# Function generating country lon/lat \n",
    "def get_country_traces():\n",
    "    poly_paths = m.drawcountries().get_paths() # country polygon paths\n",
    "    N_poly = len(poly_paths)  # use all countries\n",
    "    country_lons, country_lats= polygons_to_traces(poly_paths, N_poly)\n",
    "    return country_lons, country_lats\n"
   ]
  },
  {
   "cell_type": "code",
   "execution_count": 4,
   "metadata": {
    "scrolled": true
   },
   "outputs": [
    {
     "ename": "NameError",
     "evalue": "name 'Basemap' is not defined",
     "output_type": "error",
     "traceback": [
      "\u001b[0;31m---------------------------------------------------------------------------\u001b[0m",
      "\u001b[0;31mNameError\u001b[0m                                 Traceback (most recent call last)",
      "\u001b[0;32m<ipython-input-4-922590d824a9>\u001b[0m in \u001b[0;36m<module>\u001b[0;34m\u001b[0m\n\u001b[1;32m      1\u001b[0m \u001b[0;31m# Make shortcut to Basemap object,\u001b[0m\u001b[0;34m\u001b[0m\u001b[0;34m\u001b[0m\u001b[0;34m\u001b[0m\u001b[0m\n\u001b[1;32m      2\u001b[0m \u001b[0;31m# not specifying projection type for this example\u001b[0m\u001b[0;34m\u001b[0m\u001b[0;34m\u001b[0m\u001b[0;34m\u001b[0m\u001b[0m\n\u001b[0;32m----> 3\u001b[0;31m \u001b[0mm\u001b[0m \u001b[0;34m=\u001b[0m \u001b[0mBasemap\u001b[0m\u001b[0;34m(\u001b[0m\u001b[0;34m)\u001b[0m\u001b[0;34m\u001b[0m\u001b[0;34m\u001b[0m\u001b[0m\n\u001b[0m\u001b[1;32m      4\u001b[0m \u001b[0;34m\u001b[0m\u001b[0m\n\u001b[1;32m      5\u001b[0m \u001b[0;31m# Get list of of coastline, country, and state lon/lat\u001b[0m\u001b[0;34m\u001b[0m\u001b[0;34m\u001b[0m\u001b[0;34m\u001b[0m\u001b[0m\n",
      "\u001b[0;31mNameError\u001b[0m: name 'Basemap' is not defined"
     ]
    }
   ],
   "source": [
    "# Make shortcut to Basemap object, \n",
    "# not specifying projection type for this example\n",
    "m = Basemap() \n",
    "\n",
    "# Get list of of coastline, country, and state lon/lat \n",
    "\n",
    "plt.figure()\n",
    "cc_lons, cc_lats=get_coastline_traces()\n",
    "country_lons, country_lats=get_country_traces()\n",
    "plt.close()\n",
    "#concatenate the lon/lat for coastlines and country boundaries:\n",
    "lons=cc_lons+[None]+country_lons\n",
    "lats=cc_lats+[None]+country_lats\n",
    "\n",
    "# Here the radius is slightly greater than the radius of earth\n",
    "# to ensure lines visibility; otherwise some lines are hidden by contours colors\n",
    "xs, ys, zs = mapping_map_to_sphere(np.array(lons),np.array(lats), radius=6371.)\n",
    "        \n",
    "boundaries=dict(type='scatter3d',\n",
    "               x=xs,\n",
    "               y=ys,\n",
    "               z=zs,\n",
    "               mode='lines',\n",
    "               line=dict(color='black', width=1)\n",
    "              )\n",
    "\n",
    "fig = go.Figure(data = [boundaries]\n",
    "               )\n",
    "fig.show()"
   ]
  },
  {
   "cell_type": "code",
   "execution_count": null,
   "metadata": {},
   "outputs": [],
   "source": []
  }
 ],
 "metadata": {
  "kernelspec": {
   "display_name": "Python 3",
   "language": "python",
   "name": "python3"
  },
  "language_info": {
   "codemirror_mode": {
    "name": "ipython",
    "version": 3
   },
   "file_extension": ".py",
   "mimetype": "text/x-python",
   "name": "python",
   "nbconvert_exporter": "python",
   "pygments_lexer": "ipython3",
   "version": "3.8.5"
  }
 },
 "nbformat": 4,
 "nbformat_minor": 5
}
