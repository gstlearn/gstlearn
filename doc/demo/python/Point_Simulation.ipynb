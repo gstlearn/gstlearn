{
 "cells": [
  {
   "cell_type": "markdown",
   "id": "2a99c1c5",
   "metadata": {},
   "source": [
    "# Point Process"
   ]
  },
  {
   "cell_type": "markdown",
   "id": "43d8f8f8",
   "metadata": {},
   "source": [
    "<!-- SUMMARY: Several mechanisms for generating Point Process  -->\n",
    "\n",
    "<!-- CATEGORY: Basic_Objects -->"
   ]
  },
  {
   "cell_type": "code",
   "execution_count": null,
   "id": "e6dcc83c",
   "metadata": {},
   "outputs": [],
   "source": [
    "import numpy as np\n",
    "import gstlearn as gl\n",
    "import gstlearn.plot as gp\n",
    "import matplotlib.pyplot as plt"
   ]
  },
  {
   "cell_type": "markdown",
   "id": "120d3cdf",
   "metadata": {},
   "source": [
    "This file provides some illustration of the generation of sets of Points.\n",
    "We can create the set of Points which covers a Box (in any space dimension). \n",
    "For sake of demonstration, this is demonstrated in 2-D."
   ]
  },
  {
   "cell_type": "markdown",
   "id": "5fc72073",
   "metadata": {},
   "source": [
    "We can create the set by drawing samples at random within the Box extension"
   ]
  },
  {
   "cell_type": "code",
   "execution_count": null,
   "id": "f62b47b1",
   "metadata": {},
   "outputs": [],
   "source": [
    "nech = 1000\n",
    "db = gl.Db.createFromBox(nech,[0,0],[100,100],4324);\n",
    "ax = gp.plot(db,s=5)\n",
    "gp.decoration(title=\"Uniform Poisson\")\n",
    "print(f\"The number of samples = {db.getNSample()}\")"
   ]
  },
  {
   "cell_type": "markdown",
   "id": "2044da6b",
   "metadata": {},
   "source": [
    "We now generate a positive Regionalized variable over a grid that will serve as a density."
   ]
  },
  {
   "cell_type": "code",
   "execution_count": null,
   "id": "5c4eda24",
   "metadata": {},
   "outputs": [],
   "source": [
    "# Creating a Grid\n",
    "grid = gl.DbGrid.create(nx=[100,100])\n",
    "\n",
    "# Creating the isotropic Model\n",
    "m = gl.Model.createFromParam(gl.ECov.MATERN,range=20,param=2)\n",
    "\n",
    "# Simulating a Gaussian variable using an isotropic Model then turn positive (exponentiation)\n",
    "gl.simtub(None,grid,m,nbtuba=400)\n",
    "a = grid[\"Simu\"]\n",
    "a[np.where(a < 0)[0]] = 0\n",
    "grid[\"Simu\"] = a\n",
    "ax = gp.plot(grid)\n",
    "gp.decoration(title=\"Density variable\")"
   ]
  },
  {
   "cell_type": "markdown",
   "id": "32ac611e",
   "metadata": {},
   "source": [
    "Now we define the set of Points according to different models. The first one is according to Poisson process (i.e. points randomly located within a Box."
   ]
  },
  {
   "cell_type": "code",
   "execution_count": null,
   "id": "aa5cd1a1",
   "metadata": {},
   "outputs": [],
   "source": [
    "db = gl.Db.createFromDbGrid(nech,grid,4324)\n",
    "ax = gp.plot(db, s=5)\n",
    "gp.decoration(title=\"Regionalized Poisson\")\n",
    "print(f\"Number of samples = {db.getNSample()}\")"
   ]
  },
  {
   "cell_type": "markdown",
   "id": "fc682319",
   "metadata": {},
   "source": [
    "We now try the repulsion on the Uniform Poisson"
   ]
  },
  {
   "cell_type": "code",
   "execution_count": null,
   "id": "1b9cfa9e",
   "metadata": {},
   "outputs": [],
   "source": [
    "db = gl.Db.createFromBox(nech,[0,0],[100,100],seed=43243,flag_exact=True,flag_repulsion=True,range=5.,beta=100);\n",
    "ax = gp.plot(db, s=5)\n",
    "gp.decoration(title=\"Uniform Poisson with Repulsion\")\n",
    "print(f\"The number of samples = {db.getNSample()}\")"
   ]
  },
  {
   "cell_type": "markdown",
   "id": "321c3e3b",
   "metadata": {},
   "source": [
    "Combining the repulsion with the regionalized Poisson internsity"
   ]
  },
  {
   "cell_type": "code",
   "execution_count": null,
   "id": "9e31c994",
   "metadata": {},
   "outputs": [],
   "source": [
    "db = gl.Db.createFromDbGrid(nech,grid,seed=43243,flag_exact=True,flag_repulsion=True,range=5.,beta=100)\n",
    "ax = gp.plot(db, s=5)\n",
    "gp.decoration(title=\"Regionalized Poisson with Repulsion\")\n",
    "print(f\"Number of samples = {db.getNSample()}\")"
   ]
  }
 ],
 "metadata": {
  "kernelspec": {
   "display_name": "Python 3 (ipykernel)",
   "language": "python",
   "name": "python3"
  },
  "language_info": {
   "codemirror_mode": {
    "name": "ipython",
    "version": 3
   },
   "file_extension": ".py",
   "mimetype": "text/x-python",
   "name": "python",
   "nbconvert_exporter": "python",
   "pygments_lexer": "ipython3",
   "version": "3.10.5"
  },
  "toc": {
   "base_numbering": 1,
   "nav_menu": {},
   "number_sections": true,
   "sideBar": true,
   "skip_h1_title": false,
   "title_cell": "Table of Contents",
   "title_sidebar": "Contents",
   "toc_cell": false,
   "toc_position": {},
   "toc_section_display": true,
   "toc_window_display": false
  }
 },
 "nbformat": 4,
 "nbformat_minor": 5
}
