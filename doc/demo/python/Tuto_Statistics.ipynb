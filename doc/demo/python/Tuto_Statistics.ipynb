{
 "cells": [
  {
   "cell_type": "markdown",
   "metadata": {},
   "source": [
    "# Demonstration of the Statistics procedure in gstlearn"
   ]
  },
  {
   "cell_type": "markdown",
   "metadata": {},
   "source": [
    "This file demonstrates the use of Statistics functions performed on a Point and a Grids (in 2-D."
   ]
  },
  {
   "cell_type": "code",
   "execution_count": null,
   "metadata": {},
   "outputs": [],
   "source": [
    "%%javascript\n",
    "IPython.OutputArea.prototype._should_scroll = function(lines) {\n",
    "    return false;\n",
    "}"
   ]
  },
  {
   "cell_type": "markdown",
   "metadata": {},
   "source": [
    "## Import packages"
   ]
  },
  {
   "cell_type": "code",
   "execution_count": null,
   "metadata": {},
   "outputs": [],
   "source": [
    "import numpy as np\n",
    "import pandas as pd\n",
    "import sys\n",
    "import os\n",
    "import matplotlib.pyplot as plt\n",
    "import gstlearn as gl\n",
    "import gstlearn.plot as gp"
   ]
  },
  {
   "cell_type": "markdown",
   "metadata": {},
   "source": [
    "Defining the Grid file called *grid*. The grid contains three variables with values generated randomly (called \"SG_i\")"
   ]
  },
  {
   "cell_type": "code",
   "execution_count": null,
   "metadata": {
    "scrolled": true
   },
   "outputs": [],
   "source": [
    "grid = gl.DbGrid.create(nx=[150,100])\n",
    "ngrid = grid.getSampleNumber()\n",
    "grid.addColumns(gl.VectorHelper.simulateGaussian(ngrid),\"SG1\",gl.ELoc.Z)\n",
    "grid.addColumns(gl.VectorHelper.simulateGaussian(ngrid),\"SG2\",gl.ELoc.Z)\n",
    "grid.addColumns(gl.VectorHelper.simulateGaussian(ngrid),\"SG3\",gl.ELoc.Z)\n",
    "grid"
   ]
  },
  {
   "cell_type": "markdown",
   "metadata": {},
   "source": [
    "Defining a Point data base called *data*, covering the grid(s) extension. The data base contains three variables generated randomly (called \"SD_i\")"
   ]
  },
  {
   "cell_type": "code",
   "execution_count": null,
   "metadata": {
    "scrolled": true
   },
   "outputs": [],
   "source": [
    "nech = 100\n",
    "data = gl.Db.createFromBox(nech, grid.getCoorMinimum(), grid.getCoorMaximum())\n",
    "data.addColumns(gl.VectorHelper.simulateGaussian(nech),\"SD1\",gl.ELoc.Z)\n",
    "data.addColumns(gl.VectorHelper.simulateGaussian(nech),\"SD2\",gl.ELoc.Z)\n",
    "data.addColumns(gl.VectorHelper.simulateGaussian(nech),\"SD3\",gl.ELoc.Z)\n",
    "data"
   ]
  },
  {
   "cell_type": "markdown",
   "metadata": {},
   "source": [
    "The following plot displays the variable *SG1* from the Grid Data Base (in color scale) and the variable *SD1* from the Point Data Base (in proportional symbols)."
   ]
  },
  {
   "cell_type": "code",
   "execution_count": null,
   "metadata": {
    "scrolled": true
   },
   "outputs": [],
   "source": [
    "ax = grid.plot(\"SG1\")\n",
    "ax = data.plot(color=\"white\")\n",
    "ax.decoration(title=\"Data\")"
   ]
  },
  {
   "cell_type": "markdown",
   "metadata": {},
   "source": [
    "Note that in all subsequent tests, we will have to specify a set of statistical operations. This list is defined once for all and specified using *fromKeys* utility to make the script more legible."
   ]
  },
  {
   "cell_type": "code",
   "execution_count": null,
   "metadata": {},
   "outputs": [],
   "source": [
    "opers = gl.EStatOption.fromKeys([\"NUM\", \"MEAN\", \"STDV\"])"
   ]
  },
  {
   "cell_type": "markdown",
   "metadata": {},
   "source": [
    "In the next paragraph, we calculate some monovariate statistics on the variables contained in the Point Data Base. For all methods, several calls are available, depending on:\n",
    "- how the target variables are specified\n",
    "- how the results are produced"
   ]
  },
  {
   "cell_type": "code",
   "execution_count": null,
   "metadata": {
    "scrolled": true
   },
   "outputs": [],
   "source": [
    "gl.dbStatisticsMonoT(data, [\"SD*\"], opers = opers)"
   ]
  },
  {
   "cell_type": "markdown",
   "metadata": {},
   "source": [
    "The next command produces the correlation matrix of the selected variables."
   ]
  },
  {
   "cell_type": "code",
   "execution_count": null,
   "metadata": {
    "scrolled": true
   },
   "outputs": [],
   "source": [
    "gl.dbStatisticsCorrelT(data, [\"SD*\"])"
   ]
  },
  {
   "cell_type": "markdown",
   "metadata": {},
   "source": [
    "The following command prints the statistics on the selected variables (including the correlation matrix)."
   ]
  },
  {
   "cell_type": "code",
   "execution_count": null,
   "metadata": {},
   "outputs": [],
   "source": [
    "gl.dbStatisticsPrint(data, [\"SD*\"], opers=opers, flagCorrel=True)"
   ]
  },
  {
   "cell_type": "markdown",
   "metadata": {},
   "source": [
    "The following command provides an array containaing the evaluation of a given Statistical calculation for a set of variables contained in a Db.\n",
    "\n",
    "If 'flagMono' is set to False, this satistics is calculated for each variable in turn. Otherwise this statistics is calculated on each variable, based on the only samples where one of the other variables is defined. In that case, the dimension of the output is equal to the squzre of the number of target variables.\n",
    "\n",
    "In our case, there will be no difference in the contents of these two outputs as the data set if Isotopic."
   ]
  },
  {
   "cell_type": "code",
   "execution_count": null,
   "metadata": {},
   "outputs": [],
   "source": [
    "gl.dbStatisticsMulti(data, [\"SD*\"], gl.EStatOption.MEAN,  flagMono = True)"
   ]
  },
  {
   "cell_type": "code",
   "execution_count": null,
   "metadata": {},
   "outputs": [],
   "source": [
    "gl.dbStatisticsMulti(data, [\"SD*\"], gl.EStatOption.MEAN,  flagMono = False)"
   ]
  },
  {
   "cell_type": "markdown",
   "metadata": {},
   "source": [
    "## Using the Grid"
   ]
  },
  {
   "cell_type": "markdown",
   "metadata": {},
   "source": [
    "We now calculate the statistics of the data contained in the Point Db, per cell of the output DbGrid. This function returns the results as an array of values (which has the dimension of the number of cells of the output Grid).\n",
    "\n",
    "For those calculations, we will consider a coarse grid overlaying the initial grid, but with meshes obtained as multiples of the initial one."
   ]
  },
  {
   "cell_type": "code",
   "execution_count": null,
   "metadata": {},
   "outputs": [],
   "source": [
    "gridC = grid.coarsify([5,5])\n",
    "gridC"
   ]
  },
  {
   "cell_type": "code",
   "execution_count": null,
   "metadata": {
    "scrolled": true
   },
   "outputs": [],
   "source": [
    "tab = gl.dbStatisticsPerCell(data, gridC, gl.EStatOption.MEAN, \"SD1\")\n",
    "iuid = gridC.addColumns(tab, \"Mean.SD1\", gl.ELoc.Z)"
   ]
  },
  {
   "cell_type": "code",
   "execution_count": null,
   "metadata": {},
   "outputs": [],
   "source": [
    "ax = gridC.plot(\"Mean.SD1\")"
   ]
  },
  {
   "cell_type": "markdown",
   "metadata": {},
   "source": [
    "If may be more handy to store the statistic (say the *Mean*) directly as new variables in the output Grid File. These calculations will be performed for each input variable (Z_Locator) in the input file."
   ]
  },
  {
   "cell_type": "code",
   "execution_count": null,
   "metadata": {},
   "outputs": [],
   "source": [
    "data.setLocators([\"SD*\"],gl.ELoc.Z)\n",
    "err = gl.dbStatisticsOnGrid(data, gridC, gl.EStatOption.MEAN)"
   ]
  },
  {
   "cell_type": "markdown",
   "metadata": {},
   "source": [
    "Obviously the results for the first variable, is similar to the previous calculation (as demonstrated using the scatter plot). But the statistics for the other variables have been calculated simultaneously."
   ]
  },
  {
   "cell_type": "code",
   "execution_count": null,
   "metadata": {},
   "outputs": [],
   "source": [
    "ax = gp.correlation(gridC,namex=\"Mean.SD1\",namey=\"Stats.SD1\", bins=100)"
   ]
  },
  {
   "cell_type": "markdown",
   "metadata": {},
   "source": [
    "More interesting is the ability to dilate the size of the cell while performing the calculations. Here, each grid node is dilated with a *ring* extension of 2: the initial node extension is multiplied by 5. So very few cells have no data included in their dilated dimension."
   ]
  },
  {
   "cell_type": "code",
   "execution_count": null,
   "metadata": {},
   "outputs": [],
   "source": [
    "err = gl.dbStatisticsOnGrid(data, gridC, gl.EStatOption.MEAN, radius=2, \n",
    "                            namconv=gl.NamingConvention(\"Stats.Dilate\"))"
   ]
  },
  {
   "cell_type": "code",
   "execution_count": null,
   "metadata": {
    "scrolled": true
   },
   "outputs": [],
   "source": [
    "ax = gridC.plot(\"Stats.Dilate.SD1\")"
   ]
  },
  {
   "cell_type": "markdown",
   "metadata": {},
   "source": [
    "This same feature cab be used to calculate the dispersion variance of blocks (say the cells of the fine grid) whitin panels (say the cells of the coarse grid)."
   ]
  },
  {
   "cell_type": "code",
   "execution_count": null,
   "metadata": {},
   "outputs": [],
   "source": [
    "grid.setLocator(\"SG1\",gl.ELoc.Z, cleanSameLocator=True)\n",
    "err = gl.dbStatisticsOnGrid(grid, gridC, gl.EStatOption.VAR, radius=2, \n",
    "                            namconv=gl.NamingConvention(\"Var.Disp\"))"
   ]
  },
  {
   "cell_type": "code",
   "execution_count": null,
   "metadata": {},
   "outputs": [],
   "source": [
    "ax = gridC.plot(\"Var.Disp.SG1\")\n",
    "ax.decoration(title=\"Dispersion Variance of blocks into panels\")"
   ]
  }
 ],
 "metadata": {
  "kernelspec": {
   "display_name": "Python 3 (ipykernel)",
   "language": "python",
   "name": "python3"
  },
  "language_info": {
   "codemirror_mode": {
    "name": "ipython",
    "version": 3
   },
   "file_extension": ".py",
   "mimetype": "text/x-python",
   "name": "python",
   "nbconvert_exporter": "python",
   "pygments_lexer": "ipython3",
   "version": "3.10.5"
  }
 },
 "nbformat": 4,
 "nbformat_minor": 4
}
