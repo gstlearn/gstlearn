{
 "cells": [
  {
   "cell_type": "markdown",
   "id": "25b4b116",
   "metadata": {},
   "source": [
    "# Plot 3-D"
   ]
  },
  {
   "cell_type": "markdown",
   "id": "88cd2295",
   "metadata": {},
   "source": [
    "<!-- SUMMARY: Presentation of the graphic facility to produce information in 3-D, either on a Sphere or in R3 Euclidean space -->\n",
    "\n",
    "<!-- KEYWORDS: db meshing plot -->"
   ]
  },
  {
   "cell_type": "code",
   "execution_count": null,
   "id": "580ee272",
   "metadata": {},
   "outputs": [],
   "source": [
    "%%javascript\n",
    "IPython.OutputArea.prototype._should_scroll = function(lines) {\n",
    "return false;\n",
    "}"
   ]
  },
  {
   "cell_type": "code",
   "execution_count": null,
   "id": "f00d6d02",
   "metadata": {},
   "outputs": [],
   "source": [
    "import numpy as np     \n",
    "import plotly.graph_objects as go\n",
    "import gstlearn.plot3D as gop\n",
    "import IPython\n",
    "import os\n",
    "import urllib.request\n",
    "from numpy import pi, cos, sin\n",
    "import gstlearn as gl "
   ]
  },
  {
   "cell_type": "markdown",
   "id": "890fe8f2",
   "metadata": {},
   "source": [
    "## On the Sphere"
   ]
  },
  {
   "cell_type": "markdown",
   "id": "d0a6c214",
   "metadata": {},
   "source": [
    "Definition of the Meshing"
   ]
  },
  {
   "cell_type": "code",
   "execution_count": null,
   "id": "680e1748",
   "metadata": {
    "scrolled": true
   },
   "outputs": [],
   "source": [
    "gl.defineDefaultSpace(gl.ESpaceType.SN)\n",
    "mesh = gl.MeshSphericalExt()\n",
    "err = mesh.resetFromDb(None,None,triswitch = \"-r4\",verbose=False)"
   ]
  },
  {
   "cell_type": "markdown",
   "id": "f6f2fe15",
   "metadata": {},
   "source": [
    "Display a white skin around the meshing"
   ]
  },
  {
   "cell_type": "code",
   "execution_count": null,
   "id": "f072565f",
   "metadata": {},
   "outputs": [],
   "source": [
    "blank = gop.SurfaceOnMesh(mesh, opacity=1)"
   ]
  },
  {
   "cell_type": "code",
   "execution_count": null,
   "id": "495f453f",
   "metadata": {
    "scrolled": false
   },
   "outputs": [],
   "source": [
    "fig = go.Figure(data = [blank])\n",
    "fig.update_scenes(xaxis_visible=False, yaxis_visible=False, zaxis_visible=False )\n",
    "f = fig.show()"
   ]
  },
  {
   "cell_type": "markdown",
   "id": "d3b77631",
   "metadata": {},
   "source": [
    "We overlay the meshing"
   ]
  },
  {
   "cell_type": "code",
   "execution_count": null,
   "id": "9f94d888",
   "metadata": {
    "scrolled": true
   },
   "outputs": [],
   "source": [
    "meshing = gop.Meshing(mesh)"
   ]
  },
  {
   "cell_type": "code",
   "execution_count": null,
   "id": "b3fe29fa",
   "metadata": {
    "scrolled": true
   },
   "outputs": [],
   "source": [
    "fig = go.Figure(data = [blank, meshing])\n",
    "fig.update_scenes(xaxis_visible=False, yaxis_visible=False, zaxis_visible=False )\n",
    "f = fig.show()"
   ]
  },
  {
   "cell_type": "markdown",
   "id": "154af311",
   "metadata": {},
   "source": [
    "Drawing a polygon (we use the one containing the land boundaries)"
   ]
  },
  {
   "cell_type": "code",
   "execution_count": null,
   "id": "baa243c2",
   "metadata": {},
   "outputs": [],
   "source": [
    "url = 'https://soft.minesparis.psl.eu/gstlearn/data/boundaries/world.poly'\n",
    "name, head = urllib.request.urlretrieve(url)\n",
    "poly = gl.Polygons.createFromNF(name)\n",
    "poly.display()"
   ]
  },
  {
   "cell_type": "code",
   "execution_count": null,
   "id": "fde13282",
   "metadata": {
    "scrolled": false
   },
   "outputs": [],
   "source": [
    "boundaries = gop.PolygonOnSphere(poly)\n",
    "equator    = gop.Equator(width=5)\n",
    "meridians  = gop.Meridians(angle=20,color='blue')\n",
    "parallels  = gop.Parallels(angle=30,color='red')\n",
    "pole       = gop.Pole()\n",
    "poleaxis   = gop.PolarAxis()"
   ]
  },
  {
   "cell_type": "code",
   "execution_count": null,
   "id": "e35062a0",
   "metadata": {
    "scrolled": true
   },
   "outputs": [],
   "source": [
    "fig = go.Figure(data = [blank,boundaries,equator,meridians,parallels,pole,poleaxis])\n",
    "fig.update_scenes(xaxis_visible=False, yaxis_visible=False, zaxis_visible=False )\n",
    "f = fig.show()"
   ]
  },
  {
   "cell_type": "markdown",
   "id": "439932a8",
   "metadata": {},
   "source": [
    "Representing a function on the skin of the earth together with other decoration. The function is the result of a non-conditional simulation performed with SPDE on the Sphere."
   ]
  },
  {
   "cell_type": "code",
   "execution_count": null,
   "id": "2f97d6ad",
   "metadata": {},
   "outputs": [],
   "source": [
    "model = gl.Model.createFromParam(gl.ECov.BESSEL_K,range=1500,param=1)\n",
    "S = gl.ShiftOpCs(mesh,model)\n",
    "Q = gl.PrecisionOpCs(S,model.getCova(0))\n",
    "result = Q.simulateOne()"
   ]
  },
  {
   "cell_type": "code",
   "execution_count": null,
   "id": "bf4659c9",
   "metadata": {},
   "outputs": [],
   "source": [
    "simu = gop.SurfaceOnMesh(mesh, intensity=result, opacity=1)"
   ]
  },
  {
   "cell_type": "code",
   "execution_count": null,
   "id": "89052197",
   "metadata": {},
   "outputs": [],
   "source": [
    "fig = go.Figure(data = [simu,boundaries,equator,meridians,parallels,pole,poleaxis])\n",
    "fig.update_scenes(xaxis_visible=False, yaxis_visible=False, zaxis_visible=False )\n",
    "f = fig.show()"
   ]
  },
  {
   "cell_type": "markdown",
   "id": "56decf9d",
   "metadata": {},
   "source": [
    "## 3D in General"
   ]
  },
  {
   "cell_type": "markdown",
   "id": "470b3e49",
   "metadata": {},
   "source": [
    "We define the space dimension"
   ]
  },
  {
   "cell_type": "code",
   "execution_count": null,
   "id": "eb24773b",
   "metadata": {},
   "outputs": [],
   "source": [
    "ndim = 3\n",
    "gl.defineDefaultSpace(gl.ESpaceType.RN, ndim)"
   ]
  },
  {
   "cell_type": "markdown",
   "id": "f0cd1c6a",
   "metadata": {},
   "source": [
    "Defining the output grid"
   ]
  },
  {
   "cell_type": "code",
   "execution_count": null,
   "id": "a7011c24",
   "metadata": {},
   "outputs": [],
   "source": [
    "nx = [61,81,61]\n",
    "dx = [0.1, 0.1, 0.1]\n",
    "x0 = [-3., -4., -6.]\n",
    "grid = gl.DbGrid.create(nx=nx, dx=dx, x0=x0)\n",
    "x = grid.getCoordinates(0)\n",
    "y = grid.getCoordinates(1)\n",
    "z = grid.getCoordinates(2)\n",
    "val = x*x + y*y + z*z\n",
    "grid.addColumns(val,\"Data\",gl.ELoc.Z)\n",
    "glimits = grid.getRange(\"Data\")"
   ]
  },
  {
   "cell_type": "markdown",
   "id": "7966fdd6",
   "metadata": {},
   "source": [
    "Defining a Data Set with Gradient and Tangent components"
   ]
  },
  {
   "cell_type": "code",
   "execution_count": null,
   "id": "9ff7be8e",
   "metadata": {},
   "outputs": [],
   "source": [
    "nech = 5\n",
    "coormin = grid.getCoorMinimum()\n",
    "coormax = grid.getCoorMaximum()\n",
    "db = gl.Db.createFromBox(nech, coormin, coormax)\n",
    "np.random.seed(123)\n",
    "\n",
    "# Data\n",
    "uid = db.addColumns(np.random.uniform(10.,20.,nech), \"Data\", gl.ELoc.Z)\n",
    "\n",
    "# Gradient components\n",
    "uid = db.addColumns(np.random.normal(0, 1, nech),\"gx\",gl.ELoc.G,0)\n",
    "uid = db.addColumns(np.random.normal(0, 1, nech),\"gy\",gl.ELoc.G,1)\n",
    "uid = db.addColumns(np.random.normal(0, 1, nech),\"gz\",gl.ELoc.G,2)\n",
    "\n",
    "# Tangent components\n",
    "uid = db.addColumns(np.random.normal(0, 1, nech),\"tx\",gl.ELoc.TGTE,0)\n",
    "uid = db.addColumns(np.random.normal(0, 1, nech),\"ty\",gl.ELoc.TGTE,1)\n",
    "uid = db.addColumns(np.random.normal(0, 1, nech),\"tz\",gl.ELoc.TGTE,2)"
   ]
  },
  {
   "cell_type": "markdown",
   "id": "1f6bc6d0",
   "metadata": {},
   "source": [
    "3-D Visualization"
   ]
  },
  {
   "cell_type": "code",
   "execution_count": null,
   "id": "f747f55e",
   "metadata": {
    "scrolled": true
   },
   "outputs": [],
   "source": [
    "levels = [5., 25.]\n",
    "surf1 = gop.IsoSurfaceOnDbGrid(grid, \"Data\", useSel=False, isomin=levels[0], isomax=levels[0])\n",
    "surf2 = gop.IsoSurfaceOnDbGrid(grid, \"Data\", useSel=False, isomin=levels[1], isomax=levels[1])\n",
    "point = gop.PointDb(db, size=5, nameColor = \"Data\")\n",
    "gradient = gop.GradientDb(db,size=0.5,colorscale='blues',sizemode='absolute')\n",
    "tangent  = gop.TangentDb(db,size=0.5,colorscale='gray',sizemode='absolute')"
   ]
  },
  {
   "cell_type": "code",
   "execution_count": null,
   "id": "3fccace5",
   "metadata": {
    "scrolled": true
   },
   "outputs": [],
   "source": [
    "fig = go.Figure(data = [ surf1, surf2, point, gradient, tangent])\n",
    "f = fig.show()"
   ]
  }
 ],
 "metadata": {
  "kernelspec": {
   "display_name": "Python 3 (ipykernel)",
   "language": "python",
   "name": "python3"
  },
  "language_info": {
   "codemirror_mode": {
    "name": "ipython",
    "version": 3
   },
   "file_extension": ".py",
   "mimetype": "text/x-python",
   "name": "python",
   "nbconvert_exporter": "python",
   "pygments_lexer": "ipython3",
   "version": "3.10.5"
  },
  "toc": {
   "base_numbering": 1,
   "nav_menu": {},
   "number_sections": true,
   "sideBar": true,
   "skip_h1_title": false,
   "title_cell": "Table of Contents",
   "title_sidebar": "Contents",
   "toc_cell": false,
   "toc_position": {},
   "toc_section_display": true,
   "toc_window_display": false
  }
 },
 "nbformat": 4,
 "nbformat_minor": 5
}
