{
 "cells": [
  {
   "cell_type": "markdown",
   "id": "33e71689",
   "metadata": {},
   "source": [
    "# Plot meshing and boundaries on the Earth"
   ]
  },
  {
   "cell_type": "code",
   "execution_count": null,
   "id": "e52b4f64",
   "metadata": {},
   "outputs": [],
   "source": [
    "import numpy as np     \n",
    "import plotly.graph_objects as go\n",
    "import IPython\n",
    "from numpy import pi, cos, sin\n",
    "import gstlearn as gl "
   ]
  },
  {
   "cell_type": "markdown",
   "id": "631dc089",
   "metadata": {},
   "source": [
    "Functions to convert long lat into 3d coordinates :"
   ]
  },
  {
   "cell_type": "markdown",
   "id": "82d1942e",
   "metadata": {},
   "source": [
    "The first step is to create a meshing and a white skin on this meshing."
   ]
  },
  {
   "cell_type": "code",
   "execution_count": null,
   "id": "a2122e81",
   "metadata": {},
   "outputs": [],
   "source": [
    "gl.variety_define(1)\n",
    "\n",
    "mesh = gl.MeshSpherical()\n",
    "mesh.reset(None,None,triswitch = \"-r4\",verbose=False)\n",
    "\n",
    "X = mesh.getCoordinates(0)\n",
    "Y = mesh.getCoordinates(1)\n",
    "\n",
    "bl = np.array(gl.util_convert_longlat(X,Y,dilate=0.99))\n",
    "             \n",
    "\n",
    "meshes = np.array(mesh.getMeshes()).reshape([mesh.getNMeshes(),3])-1\n",
    "\n",
    "mesh.getMeshes()\n",
    "\n",
    "blank = go.Mesh3d(\n",
    "        x=bl[0,:],\n",
    "        y=bl[1,:],\n",
    "        z=bl[2,:],\n",
    "        colorbar_title='z',\n",
    "        # Intensity of each vertex, which will be interpolated and color-coded\n",
    "        intensity=np.zeros(shape=bl[0,:].shape[0]),\n",
    "        # i, j and k give the vertices of triangles\n",
    "        # here we represent the 4 triangles of the tetrahedron surface\n",
    "        i=meshes[:,0],\n",
    "        j=meshes[:,1],\n",
    "        k=meshes[:,2],\n",
    "        name='y',\n",
    "        showscale=False\n",
    "    )\n",
    "\n"
   ]
  },
  {
   "cell_type": "markdown",
   "id": "b0299ec3",
   "metadata": {},
   "source": [
    "Then we build the vectors of coordinates of each triangle. We can use the gstlearn function **AMesh::getEmbeddedCoordinatesPerMesh**"
   ]
  },
  {
   "cell_type": "code",
   "execution_count": null,
   "id": "622ff514",
   "metadata": {},
   "outputs": [],
   "source": [
    "x = list()\n",
    "y = list()\n",
    "z = list()\n",
    "for i in range(mesh.getNMeshes()):\n",
    "    a = np.array(mesh.getEmbeddedCoordinatesPerMesh(i))\n",
    "    x.extend(a[:,0].tolist() + [None])\n",
    "    y.extend(a[:,1].tolist() + [None])\n",
    "    z.extend(a[:,2].tolist() + [None])\n",
    "\n",
    "x = np.array(x)\n",
    "y = np.array(y)\n",
    "z = np.array(z)"
   ]
  },
  {
   "cell_type": "markdown",
   "id": "9c95a4a8",
   "metadata": {},
   "source": [
    "Now we plot the meshing on the white skin"
   ]
  },
  {
   "cell_type": "code",
   "execution_count": null,
   "id": "efb02918",
   "metadata": {},
   "outputs": [],
   "source": [
    "meshing=dict(type='scatter3d',\n",
    "               x=x,\n",
    "               y=y,\n",
    "               z=z,\n",
    "               mode='lines',\n",
    "               line=dict(color='black', width=1)\n",
    "              )\n",
    "\n",
    "fig = go.Figure(data = [blank,meshing]\n",
    "               )\n",
    "fig.show()"
   ]
  },
  {
   "cell_type": "markdown",
   "id": "a1a928f2",
   "metadata": {},
   "source": [
    "## Draw from a polygon of gstlearn"
   ]
  },
  {
   "cell_type": "code",
   "execution_count": null,
   "id": "13d56764",
   "metadata": {},
   "outputs": [],
   "source": [
    "\n",
    "def d2r(x):\n",
    "    return x * np.pi / 180.\n",
    "\n",
    "def mapping_map_to_sphere(lon, lat, radius=6371.):\n",
    "    #this function maps the points of coords (lon, lat) to points onto the  sphere of radius radius\n",
    "    \n",
    "    lon=np.array(lon, dtype=np.float64)\n",
    "    lat=np.array(lat, dtype=np.float64)\n",
    "    lon=d2r(lon)\n",
    "    lat=d2r(lat)\n",
    "    xs=radius*cos(lon)*cos(lat)\n",
    "    ys=radius*sin(lon)*cos(lat)\n",
    "    zs=radius*sin(lat)\n",
    "    return xs, ys, zs\n"
   ]
  },
  {
   "cell_type": "code",
   "execution_count": null,
   "id": "bb535f33",
   "metadata": {},
   "outputs": [],
   "source": [
    "poly = gl.Polygons.createFromNF(\"../../../doc/data/boundaries/world.poly\")"
   ]
  },
  {
   "cell_type": "code",
   "execution_count": null,
   "id": "671ebff5",
   "metadata": {},
   "outputs": [],
   "source": [
    "X = list()\n",
    "Y = list()\n",
    "\n",
    "for i in range(poly.getPolySetNumber()):\n",
    "    a = list(poly.getX(i))\n",
    "    b = list(poly.getY(i))\n",
    "    X.extend(a + [None])\n",
    "    Y.extend(b + [None])\n",
    "    \n",
    "X = np.array(X)\n",
    "Y = np.array(Y)\n",
    "\n",
    "xs,ys,zs = mapping_map_to_sphere(np.array(X),np.array(Y),6371*1.0)"
   ]
  },
  {
   "cell_type": "code",
   "execution_count": null,
   "id": "84d55761",
   "metadata": {},
   "outputs": [],
   "source": [
    "boundaries=dict(type='scatter3d',\n",
    "               x=xs,\n",
    "               y=ys,\n",
    "               z=zs,\n",
    "               mode='lines',\n",
    "               line=dict(color='black', width=1)\n",
    "              )\n",
    "\n",
    "fig = go.Figure(data = [blank,boundaries])\n",
    "fig.show()"
   ]
  }
 ],
 "metadata": {
  "kernelspec": {
   "display_name": "Python 3 (ipykernel)",
   "language": "python",
   "name": "python3"
  },
  "language_info": {
   "codemirror_mode": {
    "name": "ipython",
    "version": 3
   },
   "file_extension": ".py",
   "mimetype": "text/x-python",
   "name": "python",
   "nbconvert_exporter": "python",
   "pygments_lexer": "ipython3",
   "version": "3.10.2"
  }
 },
 "nbformat": 4,
 "nbformat_minor": 5
}
