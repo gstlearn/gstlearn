{
 "cells": [
  {
   "cell_type": "markdown",
   "id": "34f1d590",
   "metadata": {},
   "source": [
    "# Plot meshing and boundaries on the Earth"
   ]
  },
  {
   "cell_type": "code",
   "execution_count": null,
   "id": "f10c98d9",
   "metadata": {},
   "outputs": [],
   "source": [
    "import numpy as np     \n",
    "import plotly.graph_objects as go\n",
    "import gstlearn.plot3D as gop\n",
    "import IPython\n",
    "from numpy import pi, cos, sin\n",
    "import gstlearn as gl "
   ]
  },
  {
   "cell_type": "markdown",
   "id": "d63110ab",
   "metadata": {},
   "source": [
    "Definition of the Meshing"
   ]
  },
  {
   "cell_type": "code",
   "execution_count": null,
   "id": "f29d8f11",
   "metadata": {
    "scrolled": true
   },
   "outputs": [],
   "source": [
    "gl.variety_define(1)\n",
    "\n",
    "mesh = gl.MeshSpherical()\n",
    "mesh.reset(None,None,triswitch = \"-r4\",verbose=False)"
   ]
  },
  {
   "cell_type": "markdown",
   "id": "53eade3a",
   "metadata": {},
   "source": [
    "Display a white skin around the meshing"
   ]
  },
  {
   "cell_type": "code",
   "execution_count": null,
   "id": "54dd1b0f",
   "metadata": {},
   "outputs": [],
   "source": [
    "blank = gop.SurfaceOnMesh(mesh)"
   ]
  },
  {
   "cell_type": "code",
   "execution_count": null,
   "id": "ae821b59",
   "metadata": {
    "scrolled": true
   },
   "outputs": [],
   "source": [
    "fig = go.Figure(data = [blank])\n",
    "fig.show()"
   ]
  },
  {
   "cell_type": "markdown",
   "id": "4f6c10ac",
   "metadata": {},
   "source": [
    "We overlay the meshing"
   ]
  },
  {
   "cell_type": "code",
   "execution_count": null,
   "id": "f9244328",
   "metadata": {
    "scrolled": true
   },
   "outputs": [],
   "source": [
    "meshing = gop.Meshing(mesh)"
   ]
  },
  {
   "cell_type": "code",
   "execution_count": null,
   "id": "9fc30747",
   "metadata": {
    "scrolled": true
   },
   "outputs": [],
   "source": [
    "fig = go.Figure(data = [blank, meshing])\n",
    "fig.show()"
   ]
  },
  {
   "cell_type": "markdown",
   "id": "f84d68b7",
   "metadata": {},
   "source": [
    "Drawing a polygon (we use the one containing the land boundaries)"
   ]
  },
  {
   "cell_type": "code",
   "execution_count": null,
   "id": "633c7baf",
   "metadata": {},
   "outputs": [],
   "source": [
    "poly = gl.Polygons.createFromNF(\"../../../doc/data/boundaries/world.poly\")"
   ]
  },
  {
   "cell_type": "code",
   "execution_count": null,
   "id": "5a917b05",
   "metadata": {
    "scrolled": false
   },
   "outputs": [],
   "source": [
    "boundaries = gop.PolygonOnSphere(poly)\n",
    "equator = gop.Equator(width=5)\n",
    "meridians = gop.Meridians(angle=20,color='blue')\n",
    "parallels = gop.Parallels(angle=30,color='red')\n",
    "pole = gop.Pole()\n",
    "poleaxis = gop.PolarAxis()"
   ]
  },
  {
   "cell_type": "code",
   "execution_count": null,
   "id": "c648fc8f",
   "metadata": {
    "scrolled": true
   },
   "outputs": [],
   "source": [
    "fig = go.Figure(data = [blank,boundaries,equator,meridians,parallels,pole,poleaxis])\n",
    "fig.show()"
   ]
  }
 ],
 "metadata": {
  "kernelspec": {
   "display_name": "Python 3 (ipykernel)",
   "language": "python",
   "name": "python3"
  },
  "language_info": {
   "codemirror_mode": {
    "name": "ipython",
    "version": 3
   },
   "file_extension": ".py",
   "mimetype": "text/x-python",
   "name": "python",
   "nbconvert_exporter": "python",
   "pygments_lexer": "ipython3",
   "version": "3.10.2"
  }
 },
 "nbformat": 4,
 "nbformat_minor": 5
}
