{
 "cells": [
  {
   "cell_type": "markdown",
<<<<<<< HEAD
   "id": "25b4b116",
=======
   "id": "210077d2",
>>>>>>> f835d2fcd3720e40c07bc43a89a9398ee093de39
   "metadata": {},
   "source": [
    "# Plot meshing and boundaries on the Earth"
   ]
  },
  {
   "cell_type": "code",
   "execution_count": null,
<<<<<<< HEAD
   "id": "f00d6d02",
=======
   "id": "4d45aa20",
>>>>>>> f835d2fcd3720e40c07bc43a89a9398ee093de39
   "metadata": {},
   "outputs": [],
   "source": [
    "import numpy as np     \n",
    "import plotly.graph_objects as go\n",
    "import gstlearn.plot3D as gop\n",
    "import IPython\n",
    "import os\n",
    "from numpy import pi, cos, sin\n",
    "import gstlearn as gl "
   ]
  },
  {
   "cell_type": "markdown",
<<<<<<< HEAD
   "id": "d0a6c214",
=======
   "id": "18664d5b",
>>>>>>> f835d2fcd3720e40c07bc43a89a9398ee093de39
   "metadata": {},
   "source": [
    "Definition of the Meshing"
   ]
  },
  {
   "cell_type": "code",
   "execution_count": null,
<<<<<<< HEAD
   "id": "680e1748",
=======
   "id": "5c253100",
>>>>>>> f835d2fcd3720e40c07bc43a89a9398ee093de39
   "metadata": {
    "scrolled": true
   },
   "outputs": [],
   "source": [
    "gl.variety_define(1)\n",
    "\n",
    "mesh = gl.MeshSpherical()\n",
    "err = mesh.reset(None,None,triswitch = \"-r4\",verbose=False)"
   ]
  },
  {
   "cell_type": "markdown",
<<<<<<< HEAD
   "id": "f6f2fe15",
=======
   "id": "2a1ff778",
>>>>>>> f835d2fcd3720e40c07bc43a89a9398ee093de39
   "metadata": {},
   "source": [
    "Display a white skin around the meshing"
   ]
  },
  {
   "cell_type": "code",
   "execution_count": null,
<<<<<<< HEAD
   "id": "f072565f",
=======
   "id": "5ba2299b",
>>>>>>> f835d2fcd3720e40c07bc43a89a9398ee093de39
   "metadata": {},
   "outputs": [],
   "source": [
    "blank = gop.SurfaceOnMesh(mesh)"
   ]
  },
  {
   "cell_type": "code",
   "execution_count": null,
<<<<<<< HEAD
   "id": "495f453f",
=======
   "id": "9fcea236",
>>>>>>> f835d2fcd3720e40c07bc43a89a9398ee093de39
   "metadata": {
    "scrolled": true
   },
   "outputs": [],
   "source": [
    "fig = go.Figure(data = [blank])\n",
    "fig.update_scenes(xaxis_visible=False, yaxis_visible=False,zaxis_visible=False )\n",
    "fig.show()"
   ]
  },
  {
   "cell_type": "markdown",
<<<<<<< HEAD
   "id": "d3b77631",
=======
   "id": "71599e58",
>>>>>>> f835d2fcd3720e40c07bc43a89a9398ee093de39
   "metadata": {},
   "source": [
    "We overlay the meshing"
   ]
  },
  {
   "cell_type": "code",
   "execution_count": null,
<<<<<<< HEAD
   "id": "9f94d888",
=======
   "id": "ade7f868",
>>>>>>> f835d2fcd3720e40c07bc43a89a9398ee093de39
   "metadata": {
    "scrolled": true
   },
   "outputs": [],
   "source": [
    "meshing = gop.Meshing(mesh)"
   ]
  },
  {
   "cell_type": "code",
   "execution_count": null,
<<<<<<< HEAD
   "id": "b3fe29fa",
=======
   "id": "219acb48",
>>>>>>> f835d2fcd3720e40c07bc43a89a9398ee093de39
   "metadata": {
    "scrolled": true
   },
   "outputs": [],
   "source": [
    "fig = go.Figure(data = [blank, meshing])\n",
    "fig.update_scenes(xaxis_visible=False, yaxis_visible=False,zaxis_visible=False )\n",
    "fig.show()"
   ]
  },
  {
   "cell_type": "markdown",
<<<<<<< HEAD
   "id": "154af311",
=======
   "id": "17b7f946",
>>>>>>> f835d2fcd3720e40c07bc43a89a9398ee093de39
   "metadata": {},
   "source": [
    "Drawing a polygon (we use the one containing the land boundaries)"
   ]
  },
  {
   "cell_type": "code",
   "execution_count": null,
<<<<<<< HEAD
   "id": "baa243c2",
=======
   "id": "07f78a30",
>>>>>>> f835d2fcd3720e40c07bc43a89a9398ee093de39
   "metadata": {},
   "outputs": [],
   "source": [
    "name = os.path.join(os.getenv('GSTLEARN_DATA'), \"boundaries\", \"world.poly\")\n",
    "print(name)\n",
    "poly = gl.Polygons.createFromNF(name)"
   ]
  },
  {
   "cell_type": "code",
   "execution_count": null,
<<<<<<< HEAD
   "id": "83780152",
=======
   "id": "02707c65",
>>>>>>> f835d2fcd3720e40c07bc43a89a9398ee093de39
   "metadata": {},
   "outputs": [],
   "source": [
    "name"
   ]
  },
  {
   "cell_type": "code",
   "execution_count": null,
<<<<<<< HEAD
   "id": "fde13282",
=======
   "id": "2c416744",
>>>>>>> f835d2fcd3720e40c07bc43a89a9398ee093de39
   "metadata": {
    "scrolled": false
   },
   "outputs": [],
   "source": [
    "boundaries = gop.PolygonOnSphere(poly)\n",
    "equator = gop.Equator(width=5)\n",
    "meridians = gop.Meridians(angle=20,color='blue')\n",
    "parallels = gop.Parallels(angle=30,color='red')\n",
    "pole = gop.Pole()\n",
    "poleaxis = gop.PolarAxis()"
   ]
  },
  {
   "cell_type": "code",
   "execution_count": null,
<<<<<<< HEAD
   "id": "e35062a0",
=======
   "id": "7a2bcf2e",
>>>>>>> f835d2fcd3720e40c07bc43a89a9398ee093de39
   "metadata": {
    "scrolled": true
   },
   "outputs": [],
   "source": [
    "fig = go.Figure(data = [blank,boundaries,equator,meridians,parallels,pole,poleaxis])\n",
    "fig.show()"
   ]
  }
 ],
 "metadata": {
  "kernelspec": {
   "display_name": "Python 3 (ipykernel)",
   "language": "python",
   "name": "python3"
  },
  "language_info": {
   "codemirror_mode": {
    "name": "ipython",
    "version": 3
   },
   "file_extension": ".py",
   "mimetype": "text/x-python",
   "name": "python",
   "nbconvert_exporter": "python",
   "pygments_lexer": "ipython3",
<<<<<<< HEAD
   "version": "3.10.2"
=======
   "version": "3.10.5"
>>>>>>> f835d2fcd3720e40c07bc43a89a9398ee093de39
  }
 },
 "nbformat": 4,
 "nbformat_minor": 5
}
