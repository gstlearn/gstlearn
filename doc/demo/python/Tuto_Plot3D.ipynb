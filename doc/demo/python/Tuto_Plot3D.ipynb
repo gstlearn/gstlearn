{
 "cells": [
  {
   "cell_type": "markdown",
   "id": "a2c410e2",
   "metadata": {},
   "source": [
    "# Plot meshing and boundaries on the Earth"
   ]
  },
  {
   "cell_type": "code",
   "execution_count": null,
   "id": "7ffba6a1",
   "metadata": {},
   "outputs": [],
   "source": [
    "import numpy as np     \n",
    "import plotly.graph_objects as go\n",
    "import IPython\n",
    "from numpy import pi, cos, sin\n",
    "import gstlearn as gl "
   ]
  },
  {
   "cell_type": "markdown",
   "id": "779a2b57",
   "metadata": {},
   "source": [
    "The first step is to create a meshing and a white skin on this meshing."
   ]
  },
  {
   "cell_type": "code",
   "execution_count": null,
   "id": "02caf43f",
   "metadata": {},
   "outputs": [],
   "source": [
    "gl.variety_define(1)\n",
    "\n",
    "mesh = gl.MeshSpherical()\n",
    "mesh.reset(None,None,triswitch = \"-r4\",verbose=False)\n",
    "\n",
    "X = mesh.getCoordinates(0)\n",
    "Y = mesh.getCoordinates(1)\n",
    "\n",
    "db = gl.Db.create()\n",
    "db[\"long\"]=X\n",
    "db[\"lat\"]=Y\n",
    "\n",
    "\n",
    "bl = np.array(gl.util_convert_longlat(db[\"long\"][:,0],db[\"lat\"][:,0],\n",
    "              dilate=0.99,radius=6371)\n",
    "             )\n",
    "\n",
    "\n",
    "meshes = np.array(mesh.getMeshes()).reshape([mesh.getNMeshes(),3])-1\n",
    "\n",
    "blank = go.Mesh3d(\n",
    "        x=bl[0,:],\n",
    "        y=bl[1,:],\n",
    "        z=bl[2,:],\n",
    "        colorbar_title='z',\n",
    "        # Intensity of each vertex, which will be interpolated and color-coded\n",
    "        intensity=np.zeros(shape=bl[0,:].shape[0]),\n",
    "        # i, j and k give the vertices of triangles\n",
    "        # here we represent the 4 triangles of the tetrahedron surface\n",
    "        i=meshes[:,0],\n",
    "        j=meshes[:,1],\n",
    "        k=meshes[:,2],\n",
    "        name='y',\n",
    "        showscale=False\n",
    "    )\n"
   ]
  },
  {
   "cell_type": "markdown",
   "id": "c628cfa8",
   "metadata": {},
   "source": [
    "Then we build the vectors of coordinates of each triangle. We can use the gstlearn function **AMesh::getEmbeddedCoordinatesPerMesh**"
   ]
  },
  {
   "cell_type": "code",
   "execution_count": null,
   "id": "6c9979f9",
   "metadata": {},
   "outputs": [],
   "source": [
    "x = list()\n",
    "y = list()\n",
    "z = list()\n",
    "for i in range(mesh.getNMeshes()):\n",
    "    a = np.array(mesh.getEmbeddedCoordinatesPerMesh(i))\n",
    "    x.extend(a[:,0].tolist() + [None])\n",
    "    y.extend(a[:,1].tolist() + [None])\n",
    "    z.extend(a[:,2].tolist() + [None])\n",
    "\n",
    "x = np.array(x)\n",
    "y = np.array(y)\n",
    "z = np.array(z)"
   ]
  },
  {
   "cell_type": "markdown",
   "id": "c9ad9ec1",
   "metadata": {},
   "source": [
    "Now we plot the meshing on the white skin"
   ]
  },
  {
   "cell_type": "code",
   "execution_count": null,
   "id": "7eae216d",
   "metadata": {},
   "outputs": [],
   "source": [
    "meshing=dict(type='scatter3d',\n",
    "               x=x,\n",
    "               y=y,\n",
    "               z=z,\n",
    "               mode='lines',\n",
    "               line=dict(color='black', width=1)\n",
    "              )\n",
    "\n",
    "fig = go.Figure(data = [blank,meshing]\n",
    "               )\n",
    "fig.show()"
   ]
  },
  {
   "cell_type": "markdown",
   "id": "4eb21c09",
   "metadata": {},
   "source": [
    "## Draw from a polygon of gstlearn"
   ]
  },
  {
   "cell_type": "code",
   "execution_count": null,
   "id": "021b1552",
   "metadata": {},
   "outputs": [],
   "source": [
    "poly = gl.Polygons.createFromNF(\"../../../doc/data/boundaries/world.poly\")"
   ]
  },
  {
   "cell_type": "code",
   "execution_count": null,
   "id": "05ffbcf2",
   "metadata": {},
   "outputs": [],
   "source": [
    "X = list()\n",
    "Y = list()\n",
    "\n",
    "for i in range(poly.getPolySetNumber()):\n",
    "    a = list(poly.getX(i))\n",
    "    a.pop()\n",
    "    b = list(poly.getY(i))\n",
    "    b.pop()\n",
    "    X.extend(a + [None])\n",
    "    Y.extend(b + [None])\n",
    "    \n",
    "X = np.array(X)\n",
    "Y = np.array(Y)\n",
    "\n",
    "X[np.where(X==None)[0]]=gl.TEST\n",
    "Y[np.where(Y==None)[0]]=gl.TEST\n",
    "bound = np.array(gl.util_convert_longlat(X,Y,1.,6371))\n",
    "\n",
    "#xs,ys,zs = mapping_map_to_sphere(np.array(X),np.array(Y),6371*1.01)"
   ]
  },
  {
   "cell_type": "code",
   "execution_count": null,
   "id": "c690dc9f",
   "metadata": {},
   "outputs": [],
   "source": [
    "boundaries=dict(type='scatter3d',\n",
    "               x=bound[0,:],\n",
    "               y=bound[1,:],\n",
    "               z=bound[2,:],\n",
    "               mode='lines',\n",
    "               line=dict(color='black', width=1)\n",
    "              )\n",
    "\n",
    "fig = go.Figure(data = [blank,boundaries])\n",
    "fig.show()"
   ]
  }
 ],
 "metadata": {
  "kernelspec": {
   "display_name": "Python 3 (ipykernel)",
   "language": "python",
   "name": "python3"
  },
  "language_info": {
   "codemirror_mode": {
    "name": "ipython",
    "version": 3
   },
   "file_extension": ".py",
   "mimetype": "text/x-python",
   "name": "python",
   "nbconvert_exporter": "python",
   "pygments_lexer": "ipython3",
   "version": "3.10.2"
  }
 },
 "nbformat": 4,
 "nbformat_minor": 5
}
