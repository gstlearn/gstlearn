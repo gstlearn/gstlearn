{
 "cells": [
  {
   "cell_type": "markdown",
   "id": "25b4b116",
   "metadata": {},
   "source": [
    "# Plot meshing and boundaries on the Earth"
   ]
  },
  {
   "cell_type": "code",
   "execution_count": null,
   "id": "f00d6d02",
   "metadata": {},
   "outputs": [],
   "source": [
    "import numpy as np     \n",
    "import plotly.graph_objects as go\n",
    "import gstlearn.plot3D as gop\n",
    "import IPython\n",
    "import os\n",
    "from numpy import pi, cos, sin\n",
    "import gstlearn as gl "
   ]
  },
  {
   "cell_type": "markdown",
   "id": "d0a6c214",
   "metadata": {},
   "source": [
    "Definition of the Meshing"
   ]
  },
  {
   "cell_type": "code",
   "execution_count": null,
   "id": "680e1748",
   "metadata": {
    "scrolled": true
   },
   "outputs": [],
   "source": [
    "gl.ASpaceObject_defineDefaultSpace(gl.ESpaceType.SPACE_SN)\n",
    "mesh = gl.MeshSpherical()\n",
    "err = mesh.reset(None,None,triswitch = \"-r4\",verbose=False)"
   ]
  },
  {
   "cell_type": "markdown",
   "id": "f6f2fe15",
   "metadata": {},
   "source": [
    "Display a white skin around the meshing"
   ]
  },
  {
   "cell_type": "code",
   "execution_count": null,
   "id": "f072565f",
   "metadata": {},
   "outputs": [],
   "source": [
    "blank = gop.SurfaceOnMesh(mesh)"
   ]
  },
  {
   "cell_type": "code",
   "execution_count": null,
   "id": "495f453f",
   "metadata": {
    "scrolled": true
   },
   "outputs": [],
   "source": [
    "fig = go.Figure(data = [blank])\n",
    "fig.update_scenes(xaxis_visible=False, yaxis_visible=False,zaxis_visible=False )\n",
    "fig.show()"
   ]
  },
  {
   "cell_type": "markdown",
   "id": "d3b77631",
   "metadata": {},
   "source": [
    "We overlay the meshing"
   ]
  },
  {
   "cell_type": "code",
   "execution_count": null,
   "id": "9f94d888",
   "metadata": {
    "scrolled": true
   },
   "outputs": [],
   "source": [
    "meshing = gop.Meshing(mesh)"
   ]
  },
  {
   "cell_type": "code",
   "execution_count": null,
   "id": "b3fe29fa",
   "metadata": {
    "scrolled": true
   },
   "outputs": [],
   "source": [
    "fig = go.Figure(data = [blank, meshing])\n",
    "fig.update_scenes(xaxis_visible=False, yaxis_visible=False,zaxis_visible=False )\n",
    "fig.show()"
   ]
  },
  {
   "cell_type": "markdown",
   "id": "154af311",
   "metadata": {},
   "source": [
    "Drawing a polygon (we use the one containing the land boundaries)"
   ]
  },
  {
   "cell_type": "code",
   "execution_count": null,
   "id": "baa243c2",
   "metadata": {},
   "outputs": [],
   "source": [
    "name = os.path.join(os.getenv('GSTLEARN_DATA'), \"boundaries\", \"world.poly\")\n",
    "poly = gl.Polygons.createFromNF(name)"
   ]
  },
  {
   "cell_type": "code",
   "execution_count": null,
   "id": "fde13282",
   "metadata": {
    "scrolled": false
   },
   "outputs": [],
   "source": [
    "boundaries = gop.PolygonOnSphere(poly)\n",
    "equator = gop.Equator(width=5)\n",
    "meridians = gop.Meridians(angle=20,color='blue')\n",
    "parallels = gop.Parallels(angle=30,color='red')\n",
    "pole = gop.Pole()\n",
    "poleaxis = gop.PolarAxis()"
   ]
  },
  {
   "cell_type": "code",
   "execution_count": null,
   "id": "e35062a0",
   "metadata": {
    "scrolled": true
   },
   "outputs": [],
   "source": [
    "fig = go.Figure(data = [blank,boundaries,equator,meridians,parallels,pole,poleaxis])\n",
    "fig.show()"
   ]
  }
 ],
 "metadata": {
  "kernelspec": {
   "display_name": "Python 3 (ipykernel)",
   "language": "python",
   "name": "python3"
  },
  "language_info": {
   "codemirror_mode": {
    "name": "ipython",
    "version": 3
   },
   "file_extension": ".py",
   "mimetype": "text/x-python",
   "name": "python",
   "nbconvert_exporter": "python",
   "pygments_lexer": "ipython3",
   "version": "3.10.2"
  }
 },
 "nbformat": 4,
 "nbformat_minor": 5
}
