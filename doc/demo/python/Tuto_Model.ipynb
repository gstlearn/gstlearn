{
 "cells": [
  {
   "cell_type": "markdown",
   "id": "4078cbe9",
   "metadata": {},
   "source": [
    "# Model Definition"
   ]
  },
  {
   "cell_type": "code",
   "execution_count": null,
   "id": "a24c7d36",
   "metadata": {},
   "outputs": [],
   "source": [
    "import gstlearn as gl\n",
    "import gstlearn.plot as gp\n",
    "import gstlearn.widgets as gw\n",
    "import gstlearn.document as gdoc\n",
    "import numpy as np\n",
    "import os\n",
    "import matplotlib.pyplot as plt\n",
    "import pandas as pd\n",
    "from scipy.spatial import distance_matrix\n",
    "from IPython.display import Markdown\n",
    "\n",
    "%matplotlib inline\n",
    "%matplotlib notebook\n",
    "\n",
    "gdoc.setNoScroll()"
   ]
  },
  {
   "cell_type": "markdown",
   "id": "6262d6bc",
   "metadata": {},
   "source": [
    "We create the Dictionary of the available basic structures in gstlearn: we concentrate on the only ones that can be simulated using the Turning Bands method"
   ]
  },
  {
   "cell_type": "code",
   "execution_count": null,
   "id": "07ca4f10",
   "metadata": {},
   "outputs": [],
   "source": [
    "modelList = gl.CovHelper.getAllCovariances(flagSimtub = True)\n",
    "models = dict()\n",
    "for rank in range(len(modelList)):\n",
    "    loctype = gl.ECov.fromKey(modelList[rank])\n",
    "    locname = gl.ECov.getDescr(loctype)\n",
    "    models[locname] = loctype"
   ]
  },
  {
   "cell_type": "code",
   "execution_count": null,
   "id": "34339a79",
   "metadata": {},
   "outputs": [],
   "source": [
    "modelList"
   ]
  },
  {
   "cell_type": "code",
   "execution_count": null,
   "id": "5bd20c4c",
   "metadata": {},
   "outputs": [],
   "source": [
    "model = gl.Model.createFromParam(gl.ECov.SPHERICAL,range=2,sill=3)"
   ]
  },
  {
   "cell_type": "markdown",
   "id": "f81f12d5",
   "metadata": {},
   "source": [
    "Defining the visualization function"
   ]
  },
  {
   "cell_type": "code",
   "execution_count": null,
   "id": "6a233a1d",
   "metadata": {},
   "outputs": [],
   "source": [
    "def plotModel(axs, model, n=50, ymax=1.4):\n",
    "    \n",
    "    # Calculate the Grids\n",
    "    dbp = gl.DbGrid.create(nx=[1,1],x0=[n,n])\n",
    "    db  = gl.DbGrid.create(nx=[2*n,2*n])\n",
    "    gl.simtub(None,db,model,nbtuba=1000)\n",
    "    db[\"model\"] = 1 - model.evalCovMatrix(db,dbp).toTL()\n",
    "    sill   = model.getSill(0,0,0)\n",
    "    \n",
    "    # Calculate the experimental variogram \n",
    "    varioparam = gl.VarioParam.createMultipleFromGrid(db, 50)\n",
    "    vario  = gl.Vario.computeFromDb(varioparam, db)\n",
    "\n",
    "    # Draw the Theoretical variogram Map \n",
    "    axs[0][0].clear()\n",
    "    axs[0][0].raster(db,\"model\")\n",
    "    axs[0][0].decoration(title=\"Model\")\n",
    "    \n",
    "    # Draw one simulation\n",
    "    axs[0][1].clear()\n",
    "    axs[0][1].raster(db,\"*Simu\")\n",
    "    axs[0][1].decoration(title=\"Simulation\")\n",
    "    \n",
    "    # Draw the Model\n",
    "    axs[1][0].clear()\n",
    "    axs[1][0].model(model,hmax=70,codir=[1,0],c=\"red\")\n",
    "    axs[1][0].model(model,hmax=70,codir=[0,1],c=\"black\")\n",
    "    axs[1][0].geometry(xlim=[0,None])\n",
    "    axs[1][0].geometry(ylim=[0,sill*ymax])\n",
    "    axs[1][0].decoration(title=\"Variogram Model\")\n",
    "    \n",
    "    # Draw the experimental variograms in the two main Grid directions\n",
    "    axs[1][1].clear()\n",
    "    axs[1][1].variogram(vario,idir=0,color=\"red\")\n",
    "    axs[1][1].variogram(vario,idir=1,color=\"black\")\n",
    "    axs[1][1].geometry(xlim=[0,None])\n",
    "    axs[1][1].geometry(ylim=[0,sill*ymax])\n",
    "    axs[1][1].decoration(title=\"Experimental Variogram\")\n",
    "    \n",
    "    # Delete the newly created variables on the grid\n",
    "    db.deleteColumn(\"model\")\n",
    "    db.deleteColumn(\"*Simu\")\n",
    "    \n",
    "    plt.show()"
   ]
  },
  {
   "cell_type": "markdown",
   "id": "55e0461d",
   "metadata": {},
   "source": [
    "## Sensitivity of Model parameters"
   ]
  },
  {
   "cell_type": "code",
   "execution_count": null,
   "id": "708a94d0",
   "metadata": {},
   "outputs": [],
   "source": [
    "def myCallBack(model):\n",
    "    plotModel(axs, model)"
   ]
  },
  {
   "cell_type": "code",
   "execution_count": null,
   "id": "f4b83e13",
   "metadata": {
    "code_folding": [],
    "slideshow": {
     "slide_type": "slide"
    }
   },
   "outputs": [],
   "source": [
    "objectModel = gw.WModel(models, myCallBack, defrank=2)\n",
    "\n",
    "display(objectModel)\n",
    "\n",
    "fig, axs = plt.subplots(2,2,figsize=(7,7))\n",
    "plotModel(axs, model)"
   ]
  },
  {
   "cell_type": "markdown",
   "id": "ac5eef8b",
   "metadata": {},
   "source": [
    "## Creating a Model with drift"
   ]
  },
  {
   "cell_type": "markdown",
   "id": "de902598",
   "metadata": {},
   "source": [
    "We consider building a Model of a 2-D Random Variable by pieces.\n",
    "\n",
    "We first define the covariance part (nested structures with a Nugget Effect and an isotropic Spherical scheme); then we add some drift conditions (first order Random Function)."
   ]
  },
  {
   "cell_type": "code",
   "execution_count": null,
   "id": "4ae7057c",
   "metadata": {},
   "outputs": [],
   "source": [
    "# Creating an empty Model\n",
    "model = gl.Model()\n",
    "\n",
    "# Adding the covariance elements\n",
    "model.addCovFromParam(type=gl.ECov.NUGGET, sill=2)\n",
    "model.addCovFromParam(type=gl.ECov.SPHERICAL, range=10, sill=3)\n",
    "\n",
    "# Adding the drift items\n",
    "model.addDrift(gl.DriftM())\n",
    "model.addDrift(gl.DriftM([1]))\n",
    "model.addDrift(gl.DriftM([0,1]))\n",
    "\n",
    "model"
   ]
  },
  {
   "cell_type": "code",
   "execution_count": null,
   "id": "97de35b5",
   "metadata": {},
   "outputs": [],
   "source": []
  }
 ],
 "metadata": {
  "celltoolbar": "Format de la Cellule Texte Brut",
  "hide_input": false,
  "kernelspec": {
   "display_name": "Python 3 (ipykernel)",
   "language": "python",
   "name": "python3"
  },
  "language_info": {
   "codemirror_mode": {
    "name": "ipython",
    "version": 3
   },
   "file_extension": ".py",
   "mimetype": "text/x-python",
   "name": "python",
   "nbconvert_exporter": "python",
   "pygments_lexer": "ipython3",
   "version": "3.10.5"
  },
  "toc": {
   "base_numbering": 1,
   "nav_menu": {},
   "number_sections": true,
   "sideBar": true,
   "skip_h1_title": true,
   "title_cell": "Table of Contents",
   "title_sidebar": "Contents",
   "toc_cell": false,
   "toc_position": {
    "height": "calc(100% - 180px)",
    "left": "10px",
    "top": "150px",
    "width": "313px"
   },
   "toc_section_display": true,
   "toc_window_display": true
  },
  "widgets": {
   "application/vnd.jupyter.widget-state+json": {
    "state": {},
    "version_major": 2,
    "version_minor": 0
   }
  }
 },
 "nbformat": 4,
 "nbformat_minor": 5
}
