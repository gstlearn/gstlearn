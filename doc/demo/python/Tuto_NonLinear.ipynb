{
 "cells": [
  {
   "cell_type": "markdown",
   "id": "bc59f96d",
   "metadata": {},
   "source": [
    "# Non-Linear Geostatistics"
   ]
  },
  {
   "cell_type": "markdown",
   "id": "ed8b80f3",
   "metadata": {},
   "source": [
    "This case study is meant to demonstrate how to use *gstlearn* for non-linear geostatistics."
   ]
  },
  {
   "cell_type": "code",
   "execution_count": 1,
   "id": "9289c006",
   "metadata": {},
   "outputs": [],
   "source": [
    "import gstlearn as gl\n",
    "import gstlearn.plot as gp\n",
    "import matplotlib.pyplot as plt\n",
    "import numpy as np"
   ]
  },
  {
   "cell_type": "markdown",
   "id": "d446a018",
   "metadata": {},
   "source": [
    "Global parameters"
   ]
  },
  {
   "cell_type": "code",
   "execution_count": 2,
   "id": "24768947",
   "metadata": {},
   "outputs": [],
   "source": [
    "# Set the Seed for the Random Number generator\n",
    "gl.law_set_random_seed(32131)\n",
    "\n",
    "# Define the Space Dimension\n",
    "ndim = 2\n",
    "gl.ASpaceObject_defineDefaultSpace(gl.ESpaceType.SPACE_RN, ndim)\n",
    "\n",
    "# Defining the format for dumping statistics of variables in a Db\n",
    "dbfmt = gl.DbStringFormat()\n",
    "dbfmt.setFlags(flag_resume=True,flag_vars=False,flag_locator=True)\n",
    "\n",
    "# Defining global options\n",
    "flagDebugCalculations = True\n",
    "flagPerformGraphics = True"
   ]
  },
  {
   "cell_type": "markdown",
   "id": "22bbf5b8",
   "metadata": {},
   "source": [
    "Setting the trace: this option alloes dumping all the elements to check calculations when the rank of the target is equal to 1 (first block, first panel, ...). This option is important for debugging but it creates lots of printout."
   ]
  },
  {
   "cell_type": "code",
   "execution_count": 3,
   "id": "3ec565d7",
   "metadata": {},
   "outputs": [],
   "source": [
    "if flagDebugCalculations:\n",
    "    gl.OptDbg_setReference(1)"
   ]
  },
  {
   "cell_type": "markdown",
   "id": "2d8c5a50",
   "metadata": {},
   "source": [
    "Defining color scales common to all future representations of estimated quantities:"
   ]
  },
  {
   "cell_type": "code",
   "execution_count": 4,
   "id": "a350eff9",
   "metadata": {},
   "outputs": [],
   "source": [
    "ZEstMin = -3.\n",
    "ZEstMax = +3.\n",
    "TEstMin = 0.\n",
    "TEstMax = 1.\n",
    "TStdMin = 0.\n",
    "TStdMax = 1.\n",
    "QEstMin = 0.\n",
    "QEstMax = 3.\n",
    "QStdMin = 0.\n",
    "QStdMax = 2."
   ]
  },
  {
   "cell_type": "markdown",
   "id": "a99fb195",
   "metadata": {},
   "source": [
    "Generate initial grid"
   ]
  },
  {
   "cell_type": "code",
   "execution_count": 5,
   "id": "6127b2bc",
   "metadata": {
    "scrolled": true
   },
   "outputs": [
    {
     "name": "stdout",
     "output_type": "stream",
     "text": [
      "\n",
      "Data Base Grid Characteristics\n",
      "==============================\n",
      "\n",
      "Data Base Summary\n",
      "-----------------\n",
      "File is organized as a regular grid\n",
      "Space dimension              = 2\n",
      "Number of Columns            = 3\n",
      "Maximum Number of UIDs       = 3\n",
      "Total number of samples      = 10000\n",
      "\n",
      "Grid characteristics:\n",
      "---------------------\n",
      "Origin :      0.000     0.000\n",
      "Mesh   :      0.010     0.010\n",
      "Number :        100       100\n",
      "\n",
      "Variables\n",
      "---------\n",
      "Column = 0 - Name = rank - Locator = NA\n",
      "Column = 1 - Name = x1 - Locator = x1\n",
      "Column = 2 - Name = x2 - Locator = x2\n",
      " "
     ]
    }
   ],
   "source": [
    "grid = gl.DbGrid.create([100,100], [0.01,0.01])\n",
    "grid.display()"
   ]
  },
  {
   "cell_type": "markdown",
   "id": "7b5c1995",
   "metadata": {},
   "source": [
    "Create grid of Panels covering the entiere simulated area"
   ]
  },
  {
   "cell_type": "code",
   "execution_count": 6,
   "id": "8ecb74d0",
   "metadata": {},
   "outputs": [],
   "source": [
    "dx_P = 0.25\n",
    "panel = gl.DbGrid.createCoveringDb(grid,dcell=[dx_P,dx_P])"
   ]
  },
  {
   "cell_type": "markdown",
   "id": "9d8a009b",
   "metadata": {},
   "source": [
    "Discretization with a grid of blocks which cover the simulated area"
   ]
  },
  {
   "cell_type": "code",
   "execution_count": 7,
   "id": "84a6414b",
   "metadata": {
    "scrolled": true
   },
   "outputs": [
    {
     "name": "stdout",
     "output_type": "stream",
     "text": [
      "\n",
      "Data Base Grid Characteristics\n",
      "==============================\n",
      "\n",
      "Data Base Summary\n",
      "-----------------\n",
      "File is organized as a regular grid\n",
      "Space dimension              = 2\n",
      "Number of Columns            = 2\n",
      "Maximum Number of UIDs       = 2\n",
      "Total number of samples      = 441\n",
      "\n",
      "Grid characteristics:\n",
      "---------------------\n",
      "Origin :      0.000     0.000\n",
      "Mesh   :      0.050     0.050\n",
      "Number :         21        21\n",
      "\n",
      "Variables\n",
      "---------\n",
      "Column = 0 - Name = x1 - Locator = x1\n",
      "Column = 1 - Name = x2 - Locator = x2\n",
      " "
     ]
    }
   ],
   "source": [
    "nx_B = 5\n",
    "dx_B = dx_P / nx_B\n",
    "blocs = gl.DbGrid.createCoveringDb(grid,dcell=[dx_B,dx_B])\n",
    "blocs.display()"
   ]
  },
  {
   "cell_type": "markdown",
   "id": "2b2d1434",
   "metadata": {},
   "source": [
    "Simulation of the Data"
   ]
  },
  {
   "cell_type": "code",
   "execution_count": 8,
   "id": "22140245",
   "metadata": {
    "scrolled": true
   },
   "outputs": [
    {
     "name": "stdout",
     "output_type": "stream",
     "text": [
      "\n",
      "Data Base Grid Characteristics\n",
      "==============================\n",
      "\n",
      "Data Base Summary\n",
      "-----------------\n",
      "File is organized as a regular grid\n",
      "Space dimension              = 2\n",
      "Number of Columns            = 4\n",
      "Maximum Number of UIDs       = 4\n",
      "Total number of samples      = 10000\n",
      "\n",
      "Grid characteristics:\n",
      "---------------------\n",
      "Origin :      0.000     0.000\n",
      "Mesh   :      0.010     0.010\n",
      "Number :        100       100\n",
      "\n",
      "Variables\n",
      "---------\n",
      "Column = 0 - Name = rank - Locator = NA\n",
      "Column = 1 - Name = x1 - Locator = x1\n",
      "Column = 2 - Name = x2 - Locator = x2\n",
      "Column = 3 - Name = Y - Locator = z1\n",
      " "
     ]
    }
   ],
   "source": [
    "model_init = gl.Model_createFromParam(gl.ECov.EXPONENTIAL, range=0.1, sill=1.)\n",
    "gl.simtub(None, grid, model_init)\n",
    "grid.setName(\"Simu\", \"Y\")\n",
    "grid.display()"
   ]
  },
  {
   "cell_type": "markdown",
   "id": "485ddf66",
   "metadata": {},
   "source": [
    "Non-linear transform"
   ]
  },
  {
   "cell_type": "code",
   "execution_count": 9,
   "id": "ae419324",
   "metadata": {
    "scrolled": false
   },
   "outputs": [],
   "source": [
    "m_Z = 1.5\n",
    "s_Z = 0.5\n",
    "Zval = np.array(grid.getColumn(\"Y\"))\n",
    "for i in range(grid.getSampleNumber()):\n",
    "    Zval[i] = m_Z * np.exp(s_Z * Zval[i] - 0.5 * s_Z * s_Z)\n",
    "iuid = grid.addColumns(Zval, \"Z\")"
   ]
  },
  {
   "cell_type": "code",
   "execution_count": 10,
   "id": "aa81ac33",
   "metadata": {},
   "outputs": [
    {
     "data": {
      "image/png": "[encoded data removed]",
      "text/plain": [
       "<Figure size 432x288 with 2 Axes>"
      ]
     },
     "metadata": {
      "needs_background": "light"
     },
     "output_type": "display_data"
    }
   ],
   "source": [
    "if flagPerformGraphics:\n",
    "    ax = gp.grid(grid, name=\"Z\")"
   ]
  },
  {
   "cell_type": "markdown",
   "id": "d8b2998a",
   "metadata": {},
   "source": [
    "Data extraction"
   ]
  },
  {
   "cell_type": "code",
   "execution_count": 11,
   "id": "ffd1bd6a",
   "metadata": {
    "scrolled": false
   },
   "outputs": [
    {
     "name": "stdout",
     "output_type": "stream",
     "text": [
      "\n",
      "Data Base Characteristics\n",
      "=========================\n",
      "\n",
      "Data Base Summary\n",
      "-----------------\n",
      "File is organized as a set of isolated points\n",
      "Space dimension              = 2\n",
      "Number of Columns            = 4\n",
      "Maximum Number of UIDs       = 4\n",
      "Total number of samples      = 500\n",
      "\n",
      "List of unsorted UIDs\n",
      "---------------------\n",
      "Maximum number of positions = 4\n",
      "Number of Columns           = 4\n",
      "UID = 0 1 2 3 \n",
      "\n",
      "\n",
      "List of locators\n",
      "----------------\n",
      "1 - Locator: x\n",
      "- Attributes = 0 1 \n",
      "- Columns    = 0 1 \n",
      "2 - Locator: z\n",
      "- Attributes = 3 \n",
      "- Columns    = 3 \n",
      "\n",
      " "
     ]
    }
   ],
   "source": [
    "np = 500\n",
    "data = gl.Db_createSamplingDb(grid, number=np, names=[\"x1\",\"x2\",\"Y\",\"Z\"])\n",
    "data.setLocator(\"Z\", gl.ELoc.Z)\n",
    "data.display(dbfmt)"
   ]
  },
  {
   "cell_type": "code",
   "execution_count": 12,
   "id": "69080c96",
   "metadata": {},
   "outputs": [
    {
     "data": {
      "image/png": "[encoded data removed]",
      "text/plain": [
       "<Figure size 432x288 with 1 Axes>"
      ]
     },
     "metadata": {
      "needs_background": "light"
     },
     "output_type": "display_data"
    }
   ],
   "source": [
    "if flagPerformGraphics:\n",
    "    ax = gp.point(data, color_name=\"Z\", size_name=\"Z\", flagColorBar=False, flagSizeLegend=False)"
   ]
  },
  {
   "cell_type": "markdown",
   "id": "97bf280f",
   "metadata": {},
   "source": [
    "Gaussian Anamorphosis with 10 coefficients"
   ]
  },
  {
   "cell_type": "code",
   "execution_count": 13,
   "id": "3b75744d",
   "metadata": {
    "scrolled": false
   },
   "outputs": [
    {
     "name": "stdout",
     "output_type": "stream",
     "text": [
      "\n",
      "Hermitian Anamorphosis\n",
      "----------------------\n",
      "Minimum absolute value for Y  = -2.8\n",
      "Maximum absolute value for Y  = 3.1\n",
      "Minimum absolute value for Z  = 0.354599\n",
      "Maximum absolute value for Z  = 7.05246\n",
      "Minimum practical value for Y = -2.8\n",
      "Maximum practical value for Y = 3.1\n",
      "Minimum practical value for Z = 0.354599\n",
      "Maximum practical value for Z = 7.05246\n",
      "Mean                          = 1.56826\n",
      "Variance                      = 0.709296\n",
      "Number of Hermite polynomials = 20\n",
      "Normalized coefficients for Hermite polynomials\n",
      "               [,  0]    [,  1]    [,  2]    [,  3]    [,  4]    [,  5]    [,  6]\n",
      "     [  0,]     1.568    -0.782     0.292    -0.086     0.018     0.016    -0.033\n",
      "     [  7,]     0.025     0.001    -0.022     0.018     0.004    -0.019     0.011\n",
      "     [ 14,]     0.011    -0.016    -0.002     0.015    -0.005    -0.010\n",
      " "
     ]
    }
   ],
   "source": [
    "anam = gl.AnamHermite.create(nbpoly=20)\n",
    "anam.fit(data)\n",
    "anam.display()"
   ]
  },
  {
   "cell_type": "code",
   "execution_count": 14,
   "id": "9a0095d0",
   "metadata": {},
   "outputs": [
    {
     "data": {
      "image/png": "[encoded data removed]",
      "text/plain": [
       "<Figure size 432x288 with 1 Axes>"
      ]
     },
     "metadata": {
      "needs_background": "light"
     },
     "output_type": "display_data"
    }
   ],
   "source": [
    "if flagPerformGraphics:\n",
    "    ax = gp.anam(anam)"
   ]
  },
  {
   "cell_type": "markdown",
   "id": "1de68a64",
   "metadata": {},
   "source": [
    "Selectivity: We focus on Tonnage (T) and Metal Quantity (Q) for 2 cutoffs (0 and 0.5)"
   ]
  },
  {
   "cell_type": "code",
   "execution_count": 15,
   "id": "db1cee45",
   "metadata": {},
   "outputs": [],
   "source": [
    "selectivity = gl.Selectivity_createByCodes([gl.ESelectivity.Q, gl.ESelectivity.T], zcuts=[0., 0.5], \n",
    "                                           flag_est=True, flag_std=True)"
   ]
  },
  {
   "cell_type": "markdown",
   "id": "3b38e1fd",
   "metadata": {},
   "source": [
    "Global experimental selectivity, calculated form the experimental Data Set"
   ]
  },
  {
   "cell_type": "code",
   "execution_count": 16,
   "id": "d938f1a7",
   "metadata": {},
   "outputs": [
    {
     "data": {
      "text/plain": [
       "\n",
       "Table contents\n",
       "--------------\n",
       "- Number of Rows    = 2\n",
       "- Number of Columns = 7\n",
       "\n",
       "      Z-Cut      T-Est      Q-Est      B-Est      M-Est      T-Std      Q-Std\n",
       "      0.000      1.000      1.568      1.568      1.568        N/A        N/A\n",
       "      0.500      0.988      1.563      1.069      1.582        N/A        N/A"
      ]
     },
     "execution_count": 16,
     "metadata": {},
     "output_type": "execute_result"
    }
   ],
   "source": [
    "selectivity.eval(data)"
   ]
  },
  {
   "cell_type": "markdown",
   "id": "6691e2bf",
   "metadata": {},
   "source": [
    "Selectivity in the model, derived from the parameters contained in the Anamorphosis"
   ]
  },
  {
   "cell_type": "code",
   "execution_count": 17,
   "id": "cdee0855",
   "metadata": {
    "scrolled": true
   },
   "outputs": [
    {
     "data": {
      "text/plain": [
       "\n",
       "Table contents\n",
       "--------------\n",
       "- Number of Rows    = 2\n",
       "- Number of Columns = 7\n",
       "\n",
       "      Z-Cut      T-Est      Q-Est      B-Est      M-Est      T-Std      Q-Std\n",
       "      0.000      1.000      1.568      1.568      1.568        N/A        N/A\n",
       "      0.500      0.988      1.563      1.069      1.582        N/A        N/A"
      ]
     },
     "execution_count": 17,
     "metadata": {},
     "output_type": "execute_result"
    }
   ],
   "source": [
    "selectivity.eval(anam)"
   ]
  },
  {
   "cell_type": "markdown",
   "id": "66d8aff4",
   "metadata": {},
   "source": [
    "Define the variogram calculation parameters: omni-directional variogram calculated in 2-D pace, with 10 lags of 0.025."
   ]
  },
  {
   "cell_type": "code",
   "execution_count": 18,
   "id": "7c1e636a",
   "metadata": {},
   "outputs": [],
   "source": [
    "varioparam = gl.VarioParam_createOmniDirection(ndim=ndim, npas=10, dpas=0.025)"
   ]
  },
  {
   "cell_type": "markdown",
   "id": "a0b92493",
   "metadata": {},
   "source": [
    "Calculate the variogram of the raw variable"
   ]
  },
  {
   "cell_type": "code",
   "execution_count": 19,
   "id": "2297fd40",
   "metadata": {
    "scrolled": false
   },
   "outputs": [],
   "source": [
    "vario_raw = gl.Vario_computeFromDb(varioparam, db=data)"
   ]
  },
  {
   "cell_type": "markdown",
   "id": "493290fb",
   "metadata": {},
   "source": [
    "Fitting the Model on the Raw variable"
   ]
  },
  {
   "cell_type": "code",
   "execution_count": 20,
   "id": "1c735f4b",
   "metadata": {
    "scrolled": true
   },
   "outputs": [
    {
     "name": "stdout",
     "output_type": "stream",
     "text": [
      "\n",
      "Model characteristics\n",
      "=====================\n",
      "Space dimension              = 2\n",
      "Number of variable(s)        = 1\n",
      "Number of basic structure(s) = 1\n",
      "Number of drift function(s)  = 0\n",
      "Number of drift equation(s)  = 0\n",
      "\n",
      "Covariance Part\n",
      "---------------\n",
      "Spherical\n",
      "- Sill         =      0.673\n",
      "- Range        =      0.076\n",
      "Total Sill     =      0.673\n",
      " "
     ]
    }
   ],
   "source": [
    "model_raw = gl.Model_createFromEnvironment(nvar=1, ndim=ndim)\n",
    "model_raw.fit(vario_raw)\n",
    "model_raw.display()"
   ]
  },
  {
   "cell_type": "code",
   "execution_count": 21,
   "id": "022daa38",
   "metadata": {},
   "outputs": [
    {
     "data": {
      "image/png": "[encoded data removed]",
      "text/plain": [
       "<Figure size 432x288 with 1 Axes>"
      ]
     },
     "metadata": {
      "needs_background": "light"
     },
     "output_type": "display_data"
    }
   ],
   "source": [
    "if flagPerformGraphics:\n",
    "    ax = gp.varmod(vario_raw, model_raw)"
   ]
  },
  {
   "cell_type": "markdown",
   "id": "a3be29c9",
   "metadata": {},
   "source": [
    "Transform Data into Gaussian variable"
   ]
  },
  {
   "cell_type": "code",
   "execution_count": 22,
   "id": "c70bead0",
   "metadata": {},
   "outputs": [
    {
     "name": "stdout",
     "output_type": "stream",
     "text": [
      "\n",
      "Data Base Characteristics\n",
      "=========================\n",
      "\n",
      "Data Base Summary\n",
      "-----------------\n",
      "File is organized as a set of isolated points\n",
      "Space dimension              = 2\n",
      "Number of Columns            = 5\n",
      "Maximum Number of UIDs       = 5\n",
      "Total number of samples      = 500\n",
      "\n",
      "Variables\n",
      "---------\n",
      "Column = 0 - Name = x1 - Locator = x1\n",
      "Column = 1 - Name = x2 - Locator = x2\n",
      "Column = 2 - Name = Y - Locator = NA\n",
      "Column = 3 - Name = Z - Locator = NA\n",
      "Column = 4 - Name = Gauss.Z - Locator = z1\n",
      " "
     ]
    }
   ],
   "source": [
    "gl.RawToGaussianByLocator(data, anam=anam)\n",
    "data.setName(\"Y.Z\",\"Gauss.Z\")\n",
    "data.display()"
   ]
  },
  {
   "cell_type": "markdown",
   "id": "5e86fe59",
   "metadata": {},
   "source": [
    "Calculate the variogram of the Gaussian variable"
   ]
  },
  {
   "cell_type": "code",
   "execution_count": 23,
   "id": "822c4386",
   "metadata": {
    "scrolled": true
   },
   "outputs": [],
   "source": [
    "vario = gl.Vario_computeFromDb(varioparam, data)"
   ]
  },
  {
   "cell_type": "markdown",
   "id": "9d77c178",
   "metadata": {},
   "source": [
    "Fitting the Model on the Gaussian transformed variable (under the constraint that the sill must be equal to 1)"
   ]
  },
  {
   "cell_type": "code",
   "execution_count": 24,
   "id": "fd24467a",
   "metadata": {
    "scrolled": true
   },
   "outputs": [
    {
     "data": {
      "text/plain": [
       "\n",
       "Model characteristics\n",
       "=====================\n",
       "Space dimension              = 2\n",
       "Number of variable(s)        = 1\n",
       "Number of basic structure(s) = 2\n",
       "Number of drift function(s)  = 0\n",
       "Number of drift equation(s)  = 0\n",
       "\n",
       "Covariance Part\n",
       "---------------\n",
       "Exponential\n",
       "- Sill         =      0.829\n",
       "- Range        =      0.101\n",
       "- Theo. Range  =      0.034\n",
       "Exponential\n",
       "- Sill         =      0.171\n",
       "- Range        =      0.273\n",
       "- Theo. Range  =      0.091\n",
       "Total Sill     =      1.000"
      ]
     },
     "execution_count": 24,
     "metadata": {},
     "output_type": "execute_result"
    }
   ],
   "source": [
    "model = gl.Model(1, ndim)\n",
    "constraints = gl.Constraints(1.)\n",
    "model.fit(vario, [gl.ECov.EXPONENTIAL, gl.ECov.EXPONENTIAL], \n",
    "          mauto=gl.Option_AutoFit(), constraints=constraints)\n",
    "model"
   ]
  },
  {
   "cell_type": "code",
   "execution_count": 25,
   "id": "6b0af10e",
   "metadata": {},
   "outputs": [
    {
     "data": {
      "image/png": "[encoded data removed]",
      "text/plain": [
       "<Figure size 432x288 with 1 Axes>"
      ]
     },
     "metadata": {
      "needs_background": "light"
     },
     "output_type": "display_data"
    }
   ],
   "source": [
    "if flagPerformGraphics:\n",
    "    ax = gp.varmod(vario, model)"
   ]
  },
  {
   "cell_type": "markdown",
   "id": "433ca6fe",
   "metadata": {},
   "source": [
    "Creating a Moving Neighborhood"
   ]
  },
  {
   "cell_type": "code",
   "execution_count": 26,
   "id": "de9b5461",
   "metadata": {
    "scrolled": true
   },
   "outputs": [
    {
     "data": {
      "text/plain": [
       "\n",
       "Moving Neighborhood\n",
       "===================\n",
       "Space dimension = 2\n",
       "Minimum number of samples           = 5\n",
       "Maximum number of samples           = 5\n",
       "Maximum horizontal distance         = 1"
      ]
     },
     "execution_count": 26,
     "metadata": {},
     "output_type": "execute_result"
    }
   ],
   "source": [
    "nmini = 5\n",
    "nmaxi = 5\n",
    "radius = 1.\n",
    "neigh = gl.NeighMoving_create(ndim=ndim, nmaxi=nmaxi, radius=radius, nmini=nmini)\n",
    "neigh"
   ]
  },
  {
   "cell_type": "markdown",
   "id": "15719a48",
   "metadata": {},
   "source": [
    "## ====== Conditional Expectation ======"
   ]
  },
  {
   "cell_type": "markdown",
   "id": "ded68548",
   "metadata": {},
   "source": [
    "Estimating the Gaussian Variable on the nodes of the Blocks"
   ]
  },
  {
   "cell_type": "code",
   "execution_count": 27,
   "id": "ddfa0c72",
   "metadata": {
    "scrolled": true
   },
   "outputs": [
    {
     "name": "stdout",
     "output_type": "stream",
     "text": [
      "\n",
      " Target location\n",
      " ---------------\n",
      " Sample #1 (from 441)\n",
      " Coordinate #1 = 0.000000\n",
      " Coordinate #2 = 0.000000\n",
      " \n",
      " Data selected in neighborhood\n",
      " -----------------------------\n",
      "        Rank      Sample          x1          x2      Sector \n",
      "           1          23       0.000       0.110           1 \n",
      "           2         222       0.050       0.060           1 \n",
      "           3         310       0.050       0.080           1 \n",
      "           4         400       0.010       0.000           1 \n",
      "           5         481       0.050       0.030           1 \n",
      " \n",
      " LHS of Kriging matrix (compressed)\n",
      " ==================================\n",
      " Number of active samples    = 5\n",
      " Total number of equations   = 5\n",
      " Reduced number of equations = 5\n",
      " \n",
      "        Rank                       1           2           3           4           5 \n",
      "                    Flag           1           2           3           4           5 \n",
      "           1           1       1.000       0.181       0.238       0.083       0.112 \n",
      "           2           2       0.181       1.000       0.596       0.176       0.465 \n",
      "           3           3       0.238       0.596       1.000       0.123       0.288 \n",
      "           4           4       0.083       0.176       0.123       1.000       0.288 \n",
      "           5           5       0.112       0.465       0.288       0.288       1.000 \n",
      " \n",
      " RHS of Kriging matrix (compressed)\n",
      " ==================================\n",
      " Number of active samples    = 5\n",
      " Total number of equations   = 5\n",
      " Reduced number of equations = 5\n",
      " Number of right-hand sides  = 1\n",
      " Punctual Estimation\n",
      " \n",
      "        Rank        Flag           1 \n",
      "           1           1       0.083 \n",
      "           2           2       0.155 \n",
      "           3           3       0.112 \n",
      "           4           4       0.770 \n",
      "           5           5       0.238 \n",
      " \n",
      " (Co-) Kriging weights\n",
      " =====================\n",
      "        Rank          x1          x2        Data         Z1* \n",
      "           1       0.000       0.110      -1.940       0.016 \n",
      "           2       0.050       0.060       0.165       0.010 \n",
      "           3       0.050       0.080       1.157       0.005 \n",
      "           4       0.010       0.000      -1.158       0.763 \n",
      "           5       0.050       0.030      -0.872       0.010 \n",
      " Sum of weights                                     0.805 \n",
      " \n",
      " (Co-) Kriging results\n",
      " =====================\n",
      " Target Sample = 1\n",
      " Variable Z1 \n",
      "  - Estimate  =       -0.917 \n",
      "  - Std. Dev. =        0.637 \n",
      "  - Variance  =        0.406 \n",
      "  - Cov(h=0)  =        1.000 \n",
      " "
     ]
    }
   ],
   "source": [
    "data.setLocator(\"Gauss.Z\",gl.ELoc.Z)\n",
    "dummy = gl.kriging(data, blocs, model, neigh, calcul=gl.EKrigOpt.PONCTUAL,\n",
    "        namconv=gl.NamingConvention(\"G_PTS\"))"
   ]
  },
  {
   "cell_type": "code",
   "execution_count": 28,
   "id": "9f3434f6",
   "metadata": {},
   "outputs": [
    {
     "data": {
      "image/png": "[encoded data removed]",
      "text/plain": [
       "<Figure size 432x288 with 2 Axes>"
      ]
     },
     "metadata": {
      "needs_background": "light"
     },
     "output_type": "display_data"
    }
   ],
   "source": [
    "if flagPerformGraphics:\n",
    "    ax = gp.grid(blocs, vmin=ZEstMin, vmax=ZEstMax)"
   ]
  },
  {
   "cell_type": "markdown",
   "id": "1e2ab321",
   "metadata": {},
   "source": [
    "Calculating the Conditional Expectation on blocks"
   ]
  },
  {
   "cell_type": "code",
   "execution_count": 29,
   "id": "28527c80",
   "metadata": {
    "scrolled": false
   },
   "outputs": [],
   "source": [
    "dummy = gl.ConditionalExpectation(blocs, anam, selectivity, \n",
    "                                  name_est=\"G_PTS*estim\", name_std=\"G_PTS*stdev\", \n",
    "                                  namconv = gl.NamingConvention(\"PTS_Recovery\", False))"
   ]
  },
  {
   "cell_type": "code",
   "execution_count": 30,
   "id": "7bbcd695",
   "metadata": {
    "scrolled": true
   },
   "outputs": [
    {
     "data": {
      "image/png": "[encoded data removed]",
      "text/plain": [
       "<Figure size 648x1296 with 4 Axes>"
      ]
     },
     "metadata": {
      "needs_background": "light"
     },
     "output_type": "display_data"
    }
   ],
   "source": [
    "axs = gp.grids(blocs, \"PTS_Recovery.Q-Est*\",figsize=[9,9], vmin=QEstMin, vmax=QEstMax)"
   ]
  },
  {
   "cell_type": "code",
   "execution_count": 31,
   "id": "06c94eed",
   "metadata": {},
   "outputs": [
    {
     "data": {
      "image/png": "[encoded data removed]",
      "text/plain": [
       "<Figure size 648x1296 with 4 Axes>"
      ]
     },
     "metadata": {
      "needs_background": "light"
     },
     "output_type": "display_data"
    }
   ],
   "source": [
    "axs = gp.grids(blocs, \"PTS_Recovery.Q-Std*\",figsize=[9,9], vmin=QStdMin, vmax=QStdMax)"
   ]
  },
  {
   "cell_type": "code",
   "execution_count": 32,
   "id": "1afac002",
   "metadata": {
    "scrolled": true
   },
   "outputs": [
    {
     "data": {
      "image/png": "[encoded data removed]",
      "text/plain": [
       "<Figure size 648x1296 with 4 Axes>"
      ]
     },
     "metadata": {
      "needs_background": "light"
     },
     "output_type": "display_data"
    }
   ],
   "source": [
    "axs = gp.grids(blocs, \"PTS_Recovery.T-Est*\",figsize=[9,9], vmin=TEstMin, vmax=TEstMax)"
   ]
  },
  {
   "cell_type": "code",
   "execution_count": 33,
   "id": "26f03842",
   "metadata": {},
   "outputs": [
    {
     "data": {
      "image/png": "[encoded data removed]",
      "text/plain": [
       "<Figure size 648x1296 with 4 Axes>"
      ]
     },
     "metadata": {
      "needs_background": "light"
     },
     "output_type": "display_data"
    }
   ],
   "source": [
    "axs = gp.grids(blocs, \"PTS_Recovery.T-Std*\",figsize=[9,9], vmin=TStdMin, vmax=TStdMax)"
   ]
  },
  {
   "cell_type": "markdown",
   "id": "8a8c00d7",
   "metadata": {},
   "source": [
    "## ====== Point Disjunctive Kriging ======"
   ]
  },
  {
   "cell_type": "markdown",
   "id": "665abf30",
   "metadata": {},
   "source": [
    "Attach the Anamorphosis to the Model"
   ]
  },
  {
   "cell_type": "code",
   "execution_count": 34,
   "id": "fd65f764",
   "metadata": {},
   "outputs": [],
   "source": [
    "dummy = model.setAnam(anam)"
   ]
  },
  {
   "cell_type": "markdown",
   "id": "ac92903f",
   "metadata": {},
   "source": [
    "Computing the Point factors"
   ]
  },
  {
   "cell_type": "code",
   "execution_count": 35,
   "id": "2e52850d",
   "metadata": {},
   "outputs": [],
   "source": [
    "nfactor = 3\n",
    "dummy = gl.RawToFactor(data, anam, nfactor)"
   ]
  },
  {
   "cell_type": "markdown",
   "id": "2aeec739",
   "metadata": {},
   "source": [
    "Simple Point Kriging over the blocks"
   ]
  },
  {
   "cell_type": "code",
   "execution_count": 36,
   "id": "b940527c",
   "metadata": {
    "scrolled": true
   },
   "outputs": [
    {
     "name": "stdout",
     "output_type": "stream",
     "text": [
      "\n",
      "Processing Factor 1 / 3\n",
      " \n",
      " Target location\n",
      " ---------------\n",
      " Sample #1 (from 441)\n",
      " Coordinate #1 = 0.000000\n",
      " Coordinate #2 = 0.000000\n",
      " \n",
      " Data selected in neighborhood\n",
      " -----------------------------\n",
      "        Rank      Sample          x1          x2      Sector \n",
      "           1          23       0.000       0.110           1 \n",
      "           2         222       0.050       0.060           1 \n",
      "           3         310       0.050       0.080           1 \n",
      "           4         400       0.010       0.000           1 \n",
      "           5         481       0.050       0.030           1 \n",
      " \n",
      " LHS of Kriging matrix (compressed)\n",
      " ==================================\n",
      " Number of active samples    = 5\n",
      " Total number of equations   = 5\n",
      " Reduced number of equations = 5\n",
      " \n",
      "        Rank                       1           2           3           4           5 \n",
      "                    Flag           1           2           3           4           5 \n",
      "           1           1       1.000       0.181       0.238       0.083       0.112 \n",
      "           2           2       0.181       1.000       0.596       0.176       0.465 \n",
      "           3           3       0.238       0.596       1.000       0.123       0.288 \n",
      "           4           4       0.083       0.176       0.123       1.000       0.288 \n",
      "           5           5       0.112       0.465       0.288       0.288       1.000 \n",
      " \n",
      " RHS of Kriging matrix (compressed)\n",
      " ==================================\n",
      " Number of active samples    = 5\n",
      " Total number of equations   = 5\n",
      " Reduced number of equations = 5\n",
      " Number of right-hand sides  = 1\n",
      " Punctual Estimation\n",
      " \n",
      "        Rank        Flag           1 \n",
      "           1           1       0.083 \n",
      "           2           2       0.155 \n",
      "           3           3       0.112 \n",
      "           4           4       0.770 \n",
      "           5           5       0.238 \n",
      " \n",
      " (Co-) Kriging weights\n",
      " =====================\n",
      "        Rank          x1          x2        Data         Z1* \n",
      "           1       0.000       0.110       1.940       0.016 \n",
      "           2       0.050       0.060      -0.165       0.010 \n",
      "           3       0.050       0.080      -1.157       0.005 \n",
      "           4       0.010       0.000       1.158       0.763 \n",
      "           5       0.050       0.030       0.872       0.010 \n",
      " Sum of weights                                     0.805 \n",
      " \n",
      " (Co-) Kriging results\n",
      " =====================\n",
      " Target Sample = 1\n",
      " Variable Z1 \n",
      "  - Estimate  =        0.917 \n",
      "  - Std. Dev. =        0.637 \n",
      "  - Variance  =        0.406 \n",
      "  - Cov(h=0)  =        1.000 \n",
      " \n",
      "Processing Factor 2 / 3\n",
      " \n",
      " Target location\n",
      " ---------------\n",
      " Sample #1 (from 441)\n",
      " Coordinate #1 = 0.000000\n",
      " Coordinate #2 = 0.000000\n",
      " \n",
      " LHS of Kriging matrix (compressed)\n",
      " ==================================\n",
      " Number of active samples    = 5\n",
      " Total number of equations   = 5\n",
      " Reduced number of equations = 5\n",
      " \n",
      "        Rank                       1           2           3           4           5 \n",
      "                    Flag           1           2           3           4           5 \n",
      "           1           1       1.000       0.033       0.057       0.007       0.012 \n",
      "           2           2       0.033       1.000       0.356       0.031       0.216 \n",
      "           3           3       0.057       0.356       1.000       0.015       0.083 \n",
      "           4           4       0.007       0.031       0.015       1.000       0.083 \n",
      "           5           5       0.012       0.216       0.083       0.083       1.000 \n",
      " \n",
      " RHS of Kriging matrix (compressed)\n",
      " ==================================\n",
      " Number of active samples    = 5\n",
      " Total number of equations   = 5\n",
      " Reduced number of equations = 5\n",
      " Number of right-hand sides  = 1\n",
      " Punctual Estimation\n",
      " \n",
      "        Rank        Flag           1 \n",
      "           1           1       0.007 \n",
      "           2           2       0.024 \n",
      "           3           3       0.012 \n",
      "           4           4       0.593 \n",
      "           5           5       0.057 \n",
      " \n",
      " (Co-) Kriging weights\n",
      " =====================\n",
      "        Rank          x1          x2        Data         Z1* \n",
      "           1       0.000       0.110       1.953       0.003 \n",
      "           2       0.050       0.060      -0.688       0.004 \n",
      "           3       0.050       0.080       0.239       0.002 \n",
      "           4       0.010       0.000       0.241       0.592 \n",
      "           5       0.050       0.030      -0.169       0.007 \n",
      " Sum of weights                                     0.607 \n",
      " \n",
      " (Co-) Kriging results\n",
      " =====================\n",
      " Target Sample = 1\n",
      " Variable Z1 \n",
      "  - Estimate  =        0.145 \n",
      "  - Std. Dev. =        0.805 \n",
      "  - Variance  =        0.648 \n",
      "  - Cov(h=0)  =        1.000 \n",
      " \n",
      "Processing Factor 3 / 3\n",
      " \n",
      " Target location\n",
      " ---------------\n",
      " Sample #1 (from 441)\n",
      " Coordinate #1 = 0.000000\n",
      " Coordinate #2 = 0.000000\n",
      " \n",
      " LHS of Kriging matrix (compressed)\n",
      " ==================================\n",
      " Number of active samples    = 5\n",
      " Total number of equations   = 5\n",
      " Reduced number of equations = 5\n",
      " \n",
      "        Rank                       1           2           3           4           5 \n",
      "                    Flag           1           2           3           4           5 \n",
      "           1           1       1.000       0.006       0.014       0.001       0.001 \n",
      "           2           2       0.006       1.000       0.212       0.005       0.100 \n",
      "           3           3       0.014       0.212       1.000       0.002       0.024 \n",
      "           4           4       0.001       0.005       0.002       1.000       0.024 \n",
      "           5           5       0.001       0.100       0.024       0.024       1.000 \n",
      " \n",
      " RHS of Kriging matrix (compressed)\n",
      " ==================================\n",
      " Number of active samples    = 5\n",
      " Total number of equations   = 5\n",
      " Reduced number of equations = 5\n",
      " Number of right-hand sides  = 1\n",
      " Punctual Estimation\n",
      " \n",
      "        Rank        Flag           1 \n",
      "           1           1       0.001 \n",
      "           2           2       0.004 \n",
      "           3           3       0.001 \n",
      "           4           4       0.457 \n",
      "           5           5       0.014 \n",
      " \n",
      " (Co-) Kriging weights\n",
      " =====================\n",
      "        Rank          x1          x2        Data         Z1* \n",
      "           1       0.000       0.110       0.604       0.000 \n",
      "           2       0.050       0.060       0.200       0.001 \n",
      "           3       0.050       0.080       0.785       0.000 \n",
      "           4       0.010       0.000      -0.784       0.457 \n",
      "           5       0.050       0.030      -0.797       0.003 \n",
      " Sum of weights                                     0.461 \n",
      " \n",
      " (Co-) Kriging results\n",
      " =====================\n",
      " Target Sample = 1\n",
      " Variable Z1 \n",
      "  - Estimate  =       -0.360 \n",
      "  - Std. Dev. =        0.890 \n",
      "  - Variance  =        0.791 \n",
      "  - Cov(h=0)  =        1.000 \n",
      " \n",
      "Data Base Grid Characteristics\n",
      "==============================\n",
      "\n",
      "Data Base Summary\n",
      "-----------------\n",
      "File is organized as a regular grid\n",
      "Space dimension              = 2\n",
      "Number of Columns            = 18\n",
      "Maximum Number of UIDs       = 18\n",
      "Total number of samples      = 441\n",
      "\n",
      "Grid characteristics:\n",
      "---------------------\n",
      "Origin :      0.000     0.000\n",
      "Mesh   :      0.050     0.050\n",
      "Number :         21        21\n",
      "\n",
      "Variables\n",
      "---------\n",
      "Column = 0 - Name = x1 - Locator = x1\n",
      "Column = 1 - Name = x2 - Locator = x2\n",
      "Column = 2 - Name = G_PTS.Gauss.Z.estim - Locator = NA\n",
      "Column = 3 - Name = G_PTS.Gauss.Z.stdev - Locator = NA\n",
      "Column = 4 - Name = PTS_Recovery.T-Est-0 - Locator = NA\n",
      "Column = 5 - Name = PTS_Recovery.T-Est-0.5 - Locator = NA\n",
      "Column = 6 - Name = PTS_Recovery.T-Std-0 - Locator = NA\n",
      "Column = 7 - Name = PTS_Recovery.T-Std-0.5 - Locator = NA\n",
      "Column = 8 - Name = PTS_Recovery.Q-Est-0 - Locator = NA\n",
      "Column = 9 - Name = PTS_Recovery.Q-Est-0.5 - Locator = NA\n",
      "Column = 10 - Name = PTS_Recovery.Q-Std-0 - Locator = NA\n",
      "Column = 11 - Name = PTS_Recovery.Q-Std-0.5 - Locator = NA\n",
      "Column = 12 - Name = DK_Pts.Factor.Gauss.Z.1.estim - Locator = z1\n",
      "Column = 13 - Name = DK_Pts.Factor.Gauss.Z.2.estim - Locator = z2\n",
      "Column = 14 - Name = DK_Pts.Factor.Gauss.Z.3.estim - Locator = z3\n",
      "Column = 15 - Name = DK_Pts.Factor.Gauss.Z.1.stdev - Locator = NA\n",
      "Column = 16 - Name = DK_Pts.Factor.Gauss.Z.2.stdev - Locator = NA\n",
      "Column = 17 - Name = DK_Pts.Factor.Gauss.Z.3.stdev - Locator = NA\n",
      " "
     ]
    }
   ],
   "source": [
    "dummy = gl.DisjunctiveKriging(data, blocs, model, neigh, calcul=gl.EKrigOpt.PONCTUAL,\n",
    "                              namconv = gl.NamingConvention(\"DK_Pts\"))\n",
    "blocs.display()"
   ]
  },
  {
   "cell_type": "code",
   "execution_count": 37,
   "id": "f85d7bf5",
   "metadata": {
    "scrolled": false
   },
   "outputs": [
    {
     "data": {
      "image/png": "[encoded data removed]",
      "text/plain": [
       "<Figure size 1080x3240 with 6 Axes>"
      ]
     },
     "metadata": {
      "needs_background": "light"
     },
     "output_type": "display_data"
    }
   ],
   "source": [
    "axs = gp.grids(blocs,names=\"DK_Pts*estim\",figsize=[15,15])"
   ]
  },
  {
   "cell_type": "code",
   "execution_count": 38,
   "id": "40f21c26",
   "metadata": {},
   "outputs": [
    {
     "data": {
      "image/png": "[encoded data removed]",
      "text/plain": [
       "<Figure size 1080x3240 with 6 Axes>"
      ]
     },
     "metadata": {
      "needs_background": "light"
     },
     "output_type": "display_data"
    }
   ],
   "source": [
    "axs = gp.grids(blocs,names=\"DK_Pts*stdev\",figsize=[15,15])"
   ]
  },
  {
   "cell_type": "markdown",
   "id": "3291a81a",
   "metadata": {},
   "source": [
    "Simple Block Kriging over the blocks"
   ]
  },
  {
   "cell_type": "code",
   "execution_count": 39,
   "id": "bb6f21e8",
   "metadata": {
    "scrolled": true
   },
   "outputs": [
    {
     "name": "stdout",
     "output_type": "stream",
     "text": [
      "\n",
      "Processing Factor 1 / 3\n",
      " \n",
      " Target location\n",
      " ---------------\n",
      " Sample #1 (from 441)\n",
      " Coordinate #1 = 0.000000\n",
      " Coordinate #2 = 0.000000\n",
      " \n",
      " Data selected in neighborhood\n",
      " -----------------------------\n",
      "        Rank      Sample          x1          x2      Sector \n",
      "           1          23       0.000       0.110           1 \n",
      "           2         222       0.050       0.060           1 \n",
      "           3         310       0.050       0.080           1 \n",
      "           4         400       0.010       0.000           1 \n",
      "           5         481       0.050       0.030           1 \n",
      " \n",
      " LHS of Kriging matrix (compressed)\n",
      " ==================================\n",
      " Number of active samples    = 5\n",
      " Total number of equations   = 5\n",
      " Reduced number of equations = 5\n",
      " \n",
      "        Rank                       1           2           3           4           5 \n",
      "                    Flag           1           2           3           4           5 \n",
      "           1           1       1.000       0.181       0.238       0.083       0.112 \n",
      "           2           2       0.181       1.000       0.596       0.176       0.465 \n",
      "           3           3       0.238       0.596       1.000       0.123       0.288 \n",
      "           4           4       0.083       0.176       0.123       1.000       0.288 \n",
      "           5           5       0.112       0.465       0.288       0.288       1.000 \n",
      " \n",
      " RHS of Kriging matrix (compressed)\n",
      " ==================================\n",
      " Number of active samples    = 5\n",
      " Total number of equations   = 5\n",
      " Reduced number of equations = 5\n",
      " Number of right-hand sides  = 1\n",
      " Block Estimation : Discretization =  5  x  5 \n",
      " \n",
      "        Rank        Flag           1 \n",
      "           1           1       0.085 \n",
      "           2           2       0.159 \n",
      "           3           3       0.115 \n",
      "           4           4       0.606 \n",
      "           5           5       0.243 \n",
      " \n",
      " (Co-) Kriging weights\n",
      " =====================\n",
      "        Rank          x1          x2       Size1       Size2        Data         Z1* \n",
      "           1       0.000       0.110       0.050       0.050       1.940       0.025 \n",
      "           2       0.050       0.060       0.050       0.050      -0.165       0.019 \n",
      "           3       0.050       0.080       0.050       0.050      -1.157       0.008 \n",
      "           4       0.010       0.000       0.050       0.050       1.158       0.581 \n",
      "           5       0.050       0.030       0.050       0.050       0.872       0.062 \n",
      " Sum of weights                                                           0.695 \n",
      " \n",
      " (Co-) Kriging results\n",
      " =====================\n",
      " Target Sample = 1\n",
      " Variable Z1 \n",
      "  - Estimate  =        0.763 \n",
      "  - Std. Dev. =        0.410 \n",
      "  - Variance  =        0.168 \n",
      "  - Cov(h=0)  =        0.541 \n",
      " \n",
      "Processing Factor 2 / 3\n",
      " \n",
      " Target location\n",
      " ---------------\n",
      " Sample #1 (from 441)\n",
      " Coordinate #1 = 0.000000\n",
      " Coordinate #2 = 0.000000\n",
      " \n",
      " LHS of Kriging matrix (compressed)\n",
      " ==================================\n",
      " Number of active samples    = 5\n",
      " Total number of equations   = 5\n",
      " Reduced number of equations = 5\n",
      " \n",
      "        Rank                       1           2           3           4           5 \n",
      "                    Flag           1           2           3           4           5 \n",
      "           1           1       1.000       0.033       0.057       0.007       0.012 \n",
      "           2           2       0.033       1.000       0.356       0.031       0.216 \n",
      "           3           3       0.057       0.356       1.000       0.015       0.083 \n",
      "           4           4       0.007       0.031       0.015       1.000       0.083 \n",
      "           5           5       0.012       0.216       0.083       0.083       1.000 \n",
      " \n",
      " RHS of Kriging matrix (compressed)\n",
      " ==================================\n",
      " Number of active samples    = 5\n",
      " Total number of equations   = 5\n",
      " Reduced number of equations = 5\n",
      " Number of right-hand sides  = 1\n",
      " Block Estimation : Discretization =  5  x  5 \n",
      " \n",
      "        Rank        Flag           1 \n",
      "           1           1       0.008 \n",
      "           2           2       0.028 \n",
      "           3           3       0.014 \n",
      "           4           4       0.386 \n",
      "           5           5       0.066 \n",
      " \n",
      " (Co-) Kriging weights\n",
      " =====================\n",
      "        Rank          x1          x2       Size1       Size2        Data         Z1* \n",
      "           1       0.000       0.110       0.050       0.050       1.953       0.004 \n",
      "           2       0.050       0.060       0.050       0.050      -0.688       0.008 \n",
      "           3       0.050       0.080       0.050       0.050       0.239       0.003 \n",
      "           4       0.010       0.000       0.050       0.050       0.241       0.383 \n",
      "           5       0.050       0.030       0.050       0.050      -0.169       0.032 \n",
      " Sum of weights                                                           0.430 \n",
      " \n",
      " (Co-) Kriging results\n",
      " =====================\n",
      " Target Sample = 1\n",
      " Variable Z1 \n",
      "  - Estimate  =        0.091 \n",
      "  - Std. Dev. =        0.411 \n",
      "  - Variance  =        0.169 \n",
      "  - Cov(h=0)  =        0.320 \n",
      " \n",
      "Processing Factor 3 / 3\n",
      " \n",
      " Target location\n",
      " ---------------\n",
      " Sample #1 (from 441)\n",
      " Coordinate #1 = 0.000000\n",
      " Coordinate #2 = 0.000000\n",
      " \n",
      " LHS of Kriging matrix (compressed)\n",
      " ==================================\n",
      " Number of active samples    = 5\n",
      " Total number of equations   = 5\n",
      " Reduced number of equations = 5\n",
      " \n",
      "        Rank                       1           2           3           4           5 \n",
      "                    Flag           1           2           3           4           5 \n",
      "           1           1       1.000       0.006       0.014       0.001       0.001 \n",
      "           2           2       0.006       1.000       0.212       0.005       0.100 \n",
      "           3           3       0.014       0.212       1.000       0.002       0.024 \n",
      "           4           4       0.001       0.005       0.002       1.000       0.024 \n",
      "           5           5       0.001       0.100       0.024       0.024       1.000 \n",
      " \n",
      " RHS of Kriging matrix (compressed)\n",
      " ==================================\n",
      " Number of active samples    = 5\n",
      " Total number of equations   = 5\n",
      " Reduced number of equations = 5\n",
      " Number of right-hand sides  = 1\n",
      " Block Estimation : Discretization =  5  x  5 \n",
      " \n",
      "        Rank        Flag           1 \n",
      "           1           1       0.001 \n",
      "           2           2       0.005 \n",
      "           3           3       0.002 \n",
      "           4           4       0.260 \n",
      "           5           5       0.019 \n",
      " \n",
      " (Co-) Kriging weights\n",
      " =====================\n",
      "        Rank          x1          x2       Size1       Size2        Data         Z1* \n",
      "           1       0.000       0.110       0.050       0.050       0.604       0.001 \n",
      "           2       0.050       0.060       0.050       0.050       0.200       0.002 \n",
      "           3       0.050       0.080       0.050       0.050       0.785       0.001 \n",
      "           4       0.010       0.000       0.050       0.050      -0.784       0.259 \n",
      "           5       0.050       0.030       0.050       0.050      -0.797       0.013 \n",
      " Sum of weights                                                           0.276 \n",
      " \n",
      " (Co-) Kriging results\n",
      " =====================\n",
      " Target Sample = 1\n",
      " Variable Z1 \n",
      "  - Estimate  =       -0.213 \n",
      "  - Std. Dev. =        0.369 \n",
      "  - Variance  =        0.136 \n",
      "  - Cov(h=0)  =        0.204 \n",
      " \n",
      "Data Base Grid Characteristics\n",
      "==============================\n",
      "\n",
      "Data Base Summary\n",
      "-----------------\n",
      "File is organized as a regular grid\n",
      "Space dimension              = 2\n",
      "Number of Columns            = 24\n",
      "Maximum Number of UIDs       = 24\n",
      "Total number of samples      = 441\n",
      "\n",
      "Grid characteristics:\n",
      "---------------------\n",
      "Origin :      0.000     0.000\n",
      "Mesh   :      0.050     0.050\n",
      "Number :         21        21\n",
      "\n",
      "Variables\n",
      "---------\n",
      "Column = 0 - Name = x1 - Locator = x1\n",
      "Column = 1 - Name = x2 - Locator = x2\n",
      "Column = 2 - Name = G_PTS.Gauss.Z.estim - Locator = NA\n",
      "Column = 3 - Name = G_PTS.Gauss.Z.stdev - Locator = NA\n",
      "Column = 4 - Name = PTS_Recovery.T-Est-0 - Locator = NA\n",
      "Column = 5 - Name = PTS_Recovery.T-Est-0.5 - Locator = NA\n",
      "Column = 6 - Name = PTS_Recovery.T-Std-0 - Locator = NA\n",
      "Column = 7 - Name = PTS_Recovery.T-Std-0.5 - Locator = NA\n",
      "Column = 8 - Name = PTS_Recovery.Q-Est-0 - Locator = NA\n",
      "Column = 9 - Name = PTS_Recovery.Q-Est-0.5 - Locator = NA\n",
      "Column = 10 - Name = PTS_Recovery.Q-Std-0 - Locator = NA\n",
      "Column = 11 - Name = PTS_Recovery.Q-Std-0.5 - Locator = NA\n",
      "Column = 12 - Name = DK_Pts.Factor.Gauss.Z.1.estim - Locator = NA\n",
      "Column = 13 - Name = DK_Pts.Factor.Gauss.Z.2.estim - Locator = NA\n",
      "Column = 14 - Name = DK_Pts.Factor.Gauss.Z.3.estim - Locator = NA\n",
      "Column = 15 - Name = DK_Pts.Factor.Gauss.Z.1.stdev - Locator = NA\n",
      "Column = 16 - Name = DK_Pts.Factor.Gauss.Z.2.stdev - Locator = NA\n",
      "Column = 17 - Name = DK_Pts.Factor.Gauss.Z.3.stdev - Locator = NA\n",
      "Column = 18 - Name = DK_Blk.Factor.Gauss.Z.1.estim - Locator = z1\n",
      "Column = 19 - Name = DK_Blk.Factor.Gauss.Z.2.estim - Locator = z2\n",
      "Column = 20 - Name = DK_Blk.Factor.Gauss.Z.3.estim - Locator = z3\n",
      "Column = 21 - Name = DK_Blk.Factor.Gauss.Z.1.stdev - Locator = NA\n",
      "Column = 22 - Name = DK_Blk.Factor.Gauss.Z.2.stdev - Locator = NA\n",
      "Column = 23 - Name = DK_Blk.Factor.Gauss.Z.3.stdev - Locator = NA\n",
      " "
     ]
    }
   ],
   "source": [
    "ndisc_B = [5,5]\n",
    "dummy = gl.DisjunctiveKriging(data, blocs, model, neigh, \n",
    "                              calcul=gl.EKrigOpt.BLOCK, ndisc=ndisc_B, \n",
    "                              namconv = gl.NamingConvention(\"DK_Blk\"))\n",
    "blocs.display()"
   ]
  },
  {
   "cell_type": "code",
   "execution_count": 40,
   "id": "a095bc13",
   "metadata": {
    "scrolled": false
   },
   "outputs": [
    {
     "data": {
      "image/png": "[encoded data removed]",
      "text/plain": [
       "<Figure size 1080x3240 with 6 Axes>"
      ]
     },
     "metadata": {
      "needs_background": "light"
     },
     "output_type": "display_data"
    }
   ],
   "source": [
    "axs = gp.grids(blocs,names=\"DK_Blk*estim\",figsize=[15,15])"
   ]
  },
  {
   "cell_type": "code",
   "execution_count": 41,
   "id": "eb31e9f9",
   "metadata": {},
   "outputs": [
    {
     "data": {
      "image/png": "[encoded data removed]",
      "text/plain": [
       "<Figure size 1080x3240 with 6 Axes>"
      ]
     },
     "metadata": {
      "needs_background": "light"
     },
     "output_type": "display_data"
    }
   ],
   "source": [
    "axs = gp.grids(blocs,names=\"DK_Blk*stdev\",figsize=[15,15])"
   ]
  },
  {
   "cell_type": "markdown",
   "id": "6e33fe6c",
   "metadata": {},
   "source": [
    "Comparing Point and Block estimations and standard deviation of Estimation errors (this comparison is performed on the results of the first factor only)."
   ]
  },
  {
   "cell_type": "code",
   "execution_count": 42,
   "id": "e995991d",
   "metadata": {
    "scrolled": true
   },
   "outputs": [
    {
     "data": {
      "image/png": "[encoded data removed]",
      "text/plain": [
       "<Figure size 432x288 with 1 Axes>"
      ]
     },
     "metadata": {
      "needs_background": "light"
     },
     "output_type": "display_data"
    }
   ],
   "source": [
    "if flagPerformGraphics:\n",
    "    ax = gp.correlation(blocs, \"DK_Pts*1.estim\", \"DK_Blk*1.estim\")"
   ]
  },
  {
   "cell_type": "code",
   "execution_count": 43,
   "id": "a9487646",
   "metadata": {
    "scrolled": true
   },
   "outputs": [
    {
     "data": {
      "image/png": "[encoded data removed]",
      "text/plain": [
       "<Figure size 432x288 with 1 Axes>"
      ]
     },
     "metadata": {
      "needs_background": "light"
     },
     "output_type": "display_data"
    }
   ],
   "source": [
    "if flagPerformGraphics:\n",
    "    ax = gp.correlation(blocs, \"DK_Pts*1.stdev\", \"DK_Blk*1.stdev\")"
   ]
  },
  {
   "cell_type": "markdown",
   "id": "758695dc",
   "metadata": {},
   "source": [
    "Simple Block Kriging over the panel(s)"
   ]
  },
  {
   "cell_type": "code",
   "execution_count": null,
   "id": "7c3a3e03",
   "metadata": {},
   "outputs": [],
   "source": [
    "ndisc_P = [10,10]\n",
    "dummy = gl.DisjunctiveKriging(data, panel, model, neigh, gl.EKrigOpt.BLOCK, ndisc_P,\n",
    "                              True, True, gl.NamingConvention(\"DK_Blk\"))\n",
    "panel.display()"
   ]
  },
  {
   "cell_type": "code",
   "execution_count": null,
   "id": "a8c6859b",
   "metadata": {
    "scrolled": false
   },
   "outputs": [],
   "source": [
    "axs = gp.grids(panel,names=\"DK_Blk*estim\",figsize=[15,15])"
   ]
  },
  {
   "cell_type": "code",
   "execution_count": null,
   "id": "b9e30edf",
   "metadata": {},
   "outputs": [],
   "source": [
    "axs = gp.grids(panel,names=\"DK_Blk*stdev\",figsize=[15,15])"
   ]
  },
  {
   "cell_type": "markdown",
   "id": "9c665147",
   "metadata": {},
   "source": [
    "## ===== Uniform Conditioning ====="
   ]
  },
  {
   "cell_type": "markdown",
   "id": "f27878b8",
   "metadata": {},
   "source": [
    "Calculate the Mean covariance over block"
   ]
  },
  {
   "cell_type": "code",
   "execution_count": null,
   "id": "3740d0fb",
   "metadata": {},
   "outputs": [],
   "source": [
    "cvv_Z = model_raw.evalCvv(blocs.getDXs(), ndisc=ndisc_B)"
   ]
  },
  {
   "cell_type": "markdown",
   "id": "6d40447d",
   "metadata": {},
   "source": [
    "Perform the Point Kriging of the Raw Variable"
   ]
  },
  {
   "cell_type": "code",
   "execution_count": null,
   "id": "a4135e6c",
   "metadata": {
    "scrolled": false
   },
   "outputs": [],
   "source": [
    "data.clearLocators(gl.ELoc.Z)\n",
    "data.setLocator(\"Z\",gl.ELoc.Z)\n",
    "dummy = gl.kriging(data, blocs, model, neigh, gl.EKrigOpt.PONCTUAL,\n",
    "                   True, True, False, gl.VectorInt(), gl.VectorInt(),\n",
    "                   gl.VectorVectorDouble(), gl.NamingConvention(\"Z_PTS\"))\n",
    "blocs.display()"
   ]
  },
  {
   "cell_type": "code",
   "execution_count": null,
   "id": "c61d4350",
   "metadata": {
    "scrolled": true
   },
   "outputs": [],
   "source": [
    "axs = gp.grids(blocs,names=\"Z_PTS*\",figsize=[9,9])"
   ]
  },
  {
   "cell_type": "markdown",
   "id": "a997a5f4",
   "metadata": {},
   "source": [
    "Perform the Uniform Conditioning over Blocks"
   ]
  },
  {
   "cell_type": "code",
   "execution_count": null,
   "id": "fe1cf783",
   "metadata": {
    "scrolled": false
   },
   "outputs": [],
   "source": [
    "dummy = gl.UniformConditioning(blocs, anam, selectivity,\n",
    "                               \"Z_PTS*estim\", \"Z_PTS*stdev\", cvv_Z, False,\n",
    "                               gl.NamingConvention(\"UC\",False))\n",
    "blocs.display()\n",
    "data.setLocator(\"Gauss.Z\",gl.ELoc.Z)"
   ]
  },
  {
   "cell_type": "code",
   "execution_count": null,
   "id": "3188cee9",
   "metadata": {},
   "outputs": [],
   "source": [
    "axs = gp.grids(blocs, \"UC.Q*\",figsize=[4,4])"
   ]
  },
  {
   "cell_type": "code",
   "execution_count": null,
   "id": "bb41b10b",
   "metadata": {},
   "outputs": [],
   "source": [
    "axs = gp.grids(blocs, \"UC.T*\",figsize=[4,4])"
   ]
  },
  {
   "cell_type": "markdown",
   "id": "0ca47583",
   "metadata": {},
   "source": [
    "## ===== Block Disjunctive Kriging (DGM-1) ====="
   ]
  },
  {
   "cell_type": "markdown",
   "id": "c8b24a95",
   "metadata": {},
   "source": [
    "Calculate the change of support coefficient"
   ]
  },
  {
   "cell_type": "code",
   "execution_count": null,
   "id": "b1711f95",
   "metadata": {
    "scrolled": true
   },
   "outputs": [],
   "source": [
    "r1 = anam.evalSupportCoefficient(1, model, blocs.getDXs(), ndisc_B)"
   ]
  },
  {
   "cell_type": "markdown",
   "id": "53caa5cc",
   "metadata": {},
   "source": [
    "Update the Model with Block anamorphosis"
   ]
  },
  {
   "cell_type": "code",
   "execution_count": null,
   "id": "0c5742e4",
   "metadata": {},
   "outputs": [],
   "source": [
    "anam_b1 = anam.clone()\n",
    "anam_b1.setRCoef(r1)"
   ]
  },
  {
   "cell_type": "markdown",
   "id": "d95e0b2e",
   "metadata": {},
   "source": [
    "Regularization of the point model by the block support"
   ]
  },
  {
   "cell_type": "code",
   "execution_count": null,
   "id": "d583eaeb",
   "metadata": {},
   "outputs": [],
   "source": [
    "vario_b1_Z = gl.Vario_createRegularizeFromModel(model, varioparam, blocs.getDXs(),\n",
    "                                                 ndisc_B, blocs.getAngles())\n",
    "cvv = model.evalCvv(blocs.getDXs(), ndisc_B)\n",
    "vario_b1_Y = gl.Vario_createTransformZToY(vario_b1_Z, anam, cvv)"
   ]
  },
  {
   "cell_type": "code",
   "execution_count": null,
   "id": "23eecfed",
   "metadata": {},
   "outputs": [],
   "source": [
    "if flagPerformGraphics:\n",
    "    ax = gp.vario(vario_b1_Z)"
   ]
  },
  {
   "cell_type": "markdown",
   "id": "9290f780",
   "metadata": {},
   "source": [
    "Fitting the regularized model on the point Gaussian variable"
   ]
  },
  {
   "cell_type": "code",
   "execution_count": null,
   "id": "78c41f4d",
   "metadata": {},
   "outputs": [],
   "source": [
    "model_b1_Y = gl.Model(1, ndim)\n",
    "constraints.setConstantSillValue(1)\n",
    "dummy = model_b1_Y.fit(vario_b1_Y, gl.ECov.fromValues([4,1]), False,\n",
    "                       gl.Option_AutoFit(), constraints)"
   ]
  },
  {
   "cell_type": "code",
   "execution_count": null,
   "id": "ddeaf4d9",
   "metadata": {},
   "outputs": [],
   "source": [
    "ax = gp.varmod(vario_b1_Y, model_b1_Y)"
   ]
  },
  {
   "cell_type": "markdown",
   "id": "00b02569",
   "metadata": {},
   "source": [
    "Update the Model with Block Anamorphosis"
   ]
  },
  {
   "cell_type": "code",
   "execution_count": null,
   "id": "4c66187a",
   "metadata": {
    "scrolled": true
   },
   "outputs": [],
   "source": [
    "model_b1_Y.setAnam(anam_b1)\n",
    "model_b1_Y.display()"
   ]
  },
  {
   "cell_type": "markdown",
   "id": "25ae4ea5",
   "metadata": {},
   "source": [
    "Simple Point Kriging over the blocs(s) with Model with Change of Support"
   ]
  },
  {
   "cell_type": "code",
   "execution_count": null,
   "id": "8e7cf99f",
   "metadata": {
    "scrolled": false
   },
   "outputs": [],
   "source": [
    "dummy = gl.DisjunctiveKriging(data, blocs, model_b1_Y, neigh, gl.EKrigOpt.PONCTUAL,\n",
    "                              gl.VectorInt(), True, True,\n",
    "                              gl.NamingConvention(\"DK_DGM1\"))\n",
    "blocs.display()"
   ]
  },
  {
   "cell_type": "code",
   "execution_count": null,
   "id": "c2296b46",
   "metadata": {},
   "outputs": [],
   "source": [
    "axs = gp.grids(blocs, names=\"DK_DGM1*\", figsize=[9,9])"
   ]
  },
  {
   "cell_type": "markdown",
   "id": "648dc069",
   "metadata": {},
   "source": [
    "Simple Point Kriging over the panel(s) with Model with Change of Support"
   ]
  },
  {
   "cell_type": "code",
   "execution_count": null,
   "id": "052198ec",
   "metadata": {
    "scrolled": true
   },
   "outputs": [],
   "source": [
    "dummy = gl.DisjunctiveKriging(data, panel, model_b1_Y, neigh, gl.EKrigOpt.BLOCK,\n",
    "                              [nx_B, nx_B], True, True,\n",
    "                              gl.NamingConvention(\"DK_DGM1\"))\n",
    "panel.display()"
   ]
  },
  {
   "cell_type": "code",
   "execution_count": null,
   "id": "6533073b",
   "metadata": {},
   "outputs": [],
   "source": [
    "axs = gp.grids(panel, names=\"DK_DGM1*\", figsize=[9,9])"
   ]
  },
  {
   "cell_type": "markdown",
   "id": "1f72177b",
   "metadata": {},
   "source": [
    "## ===== Block Disjunctive Kriging (DGM-2) ====="
   ]
  },
  {
   "cell_type": "markdown",
   "id": "7a5954bf",
   "metadata": {},
   "source": [
    "Calculate the change of support coefficient"
   ]
  },
  {
   "cell_type": "code",
   "execution_count": null,
   "id": "9d74e4e7",
   "metadata": {
    "scrolled": true
   },
   "outputs": [],
   "source": [
    "r2 = anam.evalSupportCoefficient(2, model, blocs.getDXs(), ndisc_B)"
   ]
  },
  {
   "cell_type": "markdown",
   "id": "ccb3c4b4",
   "metadata": {},
   "source": [
    "Update the Model with Block anamorphosis"
   ]
  },
  {
   "cell_type": "code",
   "execution_count": null,
   "id": "ffd17b7b",
   "metadata": {},
   "outputs": [],
   "source": [
    "anam_b2 = anam.clone()\n",
    "anam_b2.setRCoef(r2)"
   ]
  },
  {
   "cell_type": "markdown",
   "id": "03b45152",
   "metadata": {},
   "source": [
    "Regularization of the point model by the block support"
   ]
  },
  {
   "cell_type": "code",
   "execution_count": null,
   "id": "150be094",
   "metadata": {},
   "outputs": [],
   "source": [
    "vario_b2_Y = gl.Vario_createRegularizeFromModel(model, varioparam, blocs.getDXs(),\n",
    "                                                ndisc_B, blocs.getAngles())"
   ]
  },
  {
   "cell_type": "code",
   "execution_count": null,
   "id": "f4c91a69",
   "metadata": {},
   "outputs": [],
   "source": [
    "ax = gp.vario(vario_b2_Y)"
   ]
  },
  {
   "cell_type": "markdown",
   "id": "a5c63dd6",
   "metadata": {},
   "source": [
    "Fitting the regularized model on the point Gaussian variable"
   ]
  },
  {
   "cell_type": "code",
   "execution_count": null,
   "id": "acbaa1b2",
   "metadata": {},
   "outputs": [],
   "source": [
    "model_b2_Y = gl.Model(1, ndim)\n",
    "constraints.setConstantSillValue(r2 * r2)\n",
    "dummy = model_b2_Y.fit(vario_b2_Y, gl.ECov.fromValues([4,1]), False,\n",
    "                       gl.Option_AutoFit(), constraints)"
   ]
  },
  {
   "cell_type": "code",
   "execution_count": null,
   "id": "287e3d8c",
   "metadata": {},
   "outputs": [],
   "source": [
    "ax = gp.varmod(vario_b2_Y, model_b2_Y)"
   ]
  },
  {
   "cell_type": "markdown",
   "id": "816bae3e",
   "metadata": {},
   "source": [
    "Normalization of the block model to a total sill equal to 1.0"
   ]
  },
  {
   "cell_type": "code",
   "execution_count": null,
   "id": "a86a7c32",
   "metadata": {
    "scrolled": false
   },
   "outputs": [],
   "source": [
    "model_b2_Y.normalize(1.0)\n",
    "model_b2_Y.display()"
   ]
  },
  {
   "cell_type": "code",
   "execution_count": null,
   "id": "b375db45",
   "metadata": {},
   "outputs": [],
   "source": [
    "ax = gp.model(model_b2_Y, hmax=vario_b2_Y.getHmax())"
   ]
  },
  {
   "cell_type": "markdown",
   "id": "a19d4db0",
   "metadata": {},
   "source": [
    "Update the Model with Block anamorphosis"
   ]
  },
  {
   "cell_type": "code",
   "execution_count": null,
   "id": "4a86fec5",
   "metadata": {
    "scrolled": true
   },
   "outputs": [],
   "source": [
    "model_b2_Y.setAnam(anam_b2)\n",
    "model_b2_Y.display()"
   ]
  },
  {
   "cell_type": "markdown",
   "id": "0313025d",
   "metadata": {},
   "source": [
    "Simple Point Kriging over the blocs(s) with Model with Change of Support"
   ]
  },
  {
   "cell_type": "code",
   "execution_count": null,
   "id": "a8eeb140",
   "metadata": {
    "scrolled": true
   },
   "outputs": [],
   "source": [
    "dummy = gl.DisjunctiveKriging(data, blocs, model_b2_Y, neigh, gl.EKrigOpt.PONCTUAL,\n",
    "                              gl.VectorInt(), True, True,\n",
    "                              gl.NamingConvention(\"DK_DGM2\"))\n",
    "blocs.display()"
   ]
  },
  {
   "cell_type": "code",
   "execution_count": null,
   "id": "8b58ac13",
   "metadata": {},
   "outputs": [],
   "source": [
    "axs = gp.grids(blocs, names=\"DK_DGM2*\", figsize=[9,9])"
   ]
  },
  {
   "cell_type": "markdown",
   "id": "4a70d7e4",
   "metadata": {},
   "source": [
    "Simple Point Kriging over the panel(s) with Model with Change of Support"
   ]
  },
  {
   "cell_type": "code",
   "execution_count": null,
   "id": "13772b4b",
   "metadata": {
    "scrolled": false
   },
   "outputs": [],
   "source": [
    "dummy = gl.DisjunctiveKriging(data, panel, model_b2_Y, neigh, gl.EKrigOpt.BLOCK,\n",
    "                              [nx_B, nx_B], True, True,\n",
    "                              gl.NamingConvention(\"DK_DGM2\"))\n",
    "panel.display()"
   ]
  },
  {
   "cell_type": "code",
   "execution_count": null,
   "id": "b22a6b39",
   "metadata": {},
   "outputs": [],
   "source": [
    "axs = gp.grids(panel, names=\"DK_DGM2*\", figsize=[9,9])"
   ]
  },
  {
   "cell_type": "markdown",
   "id": "2c79a348",
   "metadata": {},
   "source": [
    "## ===== Selectivity Function ====="
   ]
  },
  {
   "cell_type": "code",
   "execution_count": null,
   "id": "654dbbcf",
   "metadata": {
    "scrolled": true
   },
   "outputs": [],
   "source": [
    "gl.FactorToSelectivity(blocs, anam, selectivity, blocs.getNames(\"DK_Pts*estim\"),\n",
    "                       blocs.getNames(\"DK_Pts*stdev\"), gl.NamingConvention(\"DK_Pts_Sel\", False))\n",
    "blocs.display()"
   ]
  },
  {
   "cell_type": "code",
   "execution_count": null,
   "id": "372edaa8",
   "metadata": {},
   "outputs": [],
   "source": [
    "axs = gp.grids(blocs, \"DK_Pts_Sel.T*\",figsize=[4,4])"
   ]
  },
  {
   "cell_type": "code",
   "execution_count": null,
   "id": "fe134698",
   "metadata": {},
   "outputs": [],
   "source": [
    "axs = gp.grids(blocs, \"DK_Pts_Sel.Q*\",figsize=[4,4])"
   ]
  },
  {
   "cell_type": "code",
   "execution_count": null,
   "id": "190a20cd",
   "metadata": {},
   "outputs": [],
   "source": []
  }
 ],
 "metadata": {
  "kernelspec": {
   "display_name": "Python 3 (ipykernel)",
   "language": "python",
   "name": "python3"
  },
  "language_info": {
   "codemirror_mode": {
    "name": "ipython",
    "version": 3
   },
   "file_extension": ".py",
   "mimetype": "text/x-python",
   "name": "python",
   "nbconvert_exporter": "python",
   "pygments_lexer": "ipython3",
   "version": "3.10.5"
  }
 },
 "nbformat": 4,
 "nbformat_minor": 5
}
