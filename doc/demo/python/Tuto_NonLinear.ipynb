{
 "cells": [
  {
   "cell_type": "markdown",
   "id": "bc59f96d",
   "metadata": {},
   "source": [
    "# Non-Linear Geostatistics"
   ]
  },
  {
   "cell_type": "markdown",
   "id": "ed8b80f3",
   "metadata": {},
   "source": [
    "This case study is meant to demonstrate how to use *gstlearn* for non-linear geostatistics."
   ]
  },
  {
   "cell_type": "code",
   "execution_count": null,
   "id": "eb3350c7",
   "metadata": {},
   "outputs": [],
   "source": [
    "%%javascript\n",
    "IPython.OutputArea.prototype._should_scroll = function(lines) {\n",
    "return false;\n",
    "}"
   ]
  },
  {
   "cell_type": "code",
   "execution_count": null,
   "id": "9289c006",
   "metadata": {},
   "outputs": [],
   "source": [
    "import gstlearn as gl\n",
    "import gstlearn.plot as gp\n",
    "import matplotlib.pyplot as plt\n",
    "import numpy as np"
   ]
  },
  {
   "cell_type": "markdown",
   "id": "d446a018",
   "metadata": {},
   "source": [
    "Global parameters"
   ]
  },
  {
   "cell_type": "code",
   "execution_count": null,
   "id": "24768947",
   "metadata": {},
   "outputs": [],
   "source": [
    "# Set the Seed for the Random Number generator\n",
    "gl.law_set_random_seed(32131)\n",
    "\n",
    "# Define the Space Dimension\n",
    "ndim = 2\n",
    "gl.defineDefaultSpace(gl.ESpaceType.RN, ndim)\n",
    "\n",
    "# Defining the format for dumping statistics of variables in a Db\n",
    "dbfmt = gl.DbStringFormat()\n",
    "dbfmt.setFlags(flag_resume=True,flag_vars=False,flag_locator=True)\n",
    "\n",
    "# Defining global options\n",
    "flagDebugCalculations = True\n",
    "flagPerformGraphics = True"
   ]
  },
  {
   "cell_type": "markdown",
   "id": "22bbf5b8",
   "metadata": {},
   "source": [
    "Setting the trace: this option alloes dumping all the elements to check calculations when the rank of the target is equal to 1 (first block, first panel, ...). This option is important for debugging but it creates lots of printout."
   ]
  },
  {
   "cell_type": "code",
   "execution_count": null,
   "id": "3ec565d7",
   "metadata": {},
   "outputs": [],
   "source": [
    "if flagDebugCalculations:\n",
    "    gl.OptDbg.setReference(1)"
   ]
  },
  {
   "cell_type": "markdown",
   "id": "2d8c5a50",
   "metadata": {},
   "source": [
    "Defining color scales common to all future representations of estimated quantities:"
   ]
  },
  {
   "cell_type": "code",
   "execution_count": null,
   "id": "a350eff9",
   "metadata": {},
   "outputs": [],
   "source": [
    "ZEstMin = -3.\n",
    "ZEstMax = +3.\n",
    "TEstMin = 0.\n",
    "TEstMax = 1.\n",
    "TStdMin = 0.\n",
    "TStdMax = 1.\n",
    "QEstMin = 0.\n",
    "QEstMax = 3.\n",
    "QStdMin = 0.\n",
    "QStdMax = 2."
   ]
  },
  {
   "cell_type": "markdown",
   "id": "a99fb195",
   "metadata": {},
   "source": [
    "Generate initial grid"
   ]
  },
  {
   "cell_type": "code",
   "execution_count": null,
   "id": "6127b2bc",
   "metadata": {
    "scrolled": true
   },
   "outputs": [],
   "source": [
    "grid = gl.DbGrid.create([100,100], [0.01,0.01])\n",
    "grid.display()"
   ]
  },
  {
   "cell_type": "markdown",
   "id": "7b5c1995",
   "metadata": {},
   "source": [
    "Create grid of Panels covering the entiere simulated area"
   ]
  },
  {
   "cell_type": "code",
   "execution_count": null,
   "id": "8ecb74d0",
   "metadata": {},
   "outputs": [],
   "source": [
    "dx_P = 0.25\n",
    "panel = gl.DbGrid.createCoveringDb(grid,dcell=[dx_P,dx_P])"
   ]
  },
  {
   "cell_type": "markdown",
   "id": "9d8a009b",
   "metadata": {},
   "source": [
    "Discretization with a grid of blocks which cover the simulated area"
   ]
  },
  {
   "cell_type": "code",
   "execution_count": null,
   "id": "84a6414b",
   "metadata": {
    "scrolled": true
   },
   "outputs": [],
   "source": [
    "nx_B = 5\n",
    "dx_B = dx_P / nx_B\n",
    "blocs = gl.DbGrid.createCoveringDb(grid,dcell=[dx_B,dx_B])\n",
    "blocs.display()"
   ]
  },
  {
   "cell_type": "markdown",
   "id": "2b2d1434",
   "metadata": {},
   "source": [
    "Simulation of the Data"
   ]
  },
  {
   "cell_type": "code",
   "execution_count": null,
   "id": "22140245",
   "metadata": {
    "scrolled": true
   },
   "outputs": [],
   "source": [
    "model_init = gl.Model.createFromParam(gl.ECov.EXPONENTIAL, range=0.1, sill=1.)\n",
    "gl.simtub(None, grid, model_init)\n",
    "grid.setName(\"Simu\", \"Y\")\n",
    "grid.display()"
   ]
  },
  {
   "cell_type": "markdown",
   "id": "485ddf66",
   "metadata": {},
   "source": [
    "Non-linear transform"
   ]
  },
  {
   "cell_type": "code",
   "execution_count": null,
   "id": "ae419324",
   "metadata": {
    "scrolled": false
   },
   "outputs": [],
   "source": [
    "m_Z = 1.5\n",
    "s_Z = 0.5\n",
    "Zval = np.array(grid.getColumn(\"Y\"))\n",
    "for i in range(grid.getSampleNumber()):\n",
    "    Zval[i] = m_Z * np.exp(s_Z * Zval[i] - 0.5 * s_Z * s_Z)\n",
    "iuid = grid.addColumns(Zval, \"Z\")"
   ]
  },
  {
   "cell_type": "code",
   "execution_count": null,
   "id": "aa81ac33",
   "metadata": {},
   "outputs": [],
   "source": [
    "if flagPerformGraphics:\n",
    "    ax = gp.grid(grid, name=\"Z\", aspect=1)"
   ]
  },
  {
   "cell_type": "markdown",
   "id": "d8b2998a",
   "metadata": {},
   "source": [
    "Data extraction"
   ]
  },
  {
   "cell_type": "code",
   "execution_count": null,
   "id": "ffd1bd6a",
   "metadata": {
    "scrolled": false
   },
   "outputs": [],
   "source": [
    "np = 500\n",
    "data = gl.Db.createSamplingDb(grid, number=np, names=[\"x1\",\"x2\",\"Y\",\"Z\"])\n",
    "data.setLocator(\"Z\", gl.ELoc.Z)\n",
    "data.display(dbfmt)"
   ]
  },
  {
   "cell_type": "code",
   "execution_count": null,
   "id": "69080c96",
   "metadata": {},
   "outputs": [],
   "source": [
    "if flagPerformGraphics:\n",
    "    ax = gp.point(data, color_name=\"Z\", size_name=\"Z\", \n",
    "                  flagColorBar=False, flagSizeLegend=False, aspect=1)"
   ]
  },
  {
   "cell_type": "markdown",
   "id": "97bf280f",
   "metadata": {},
   "source": [
    "Gaussian Anamorphosis with 10 coefficients"
   ]
  },
  {
   "cell_type": "code",
   "execution_count": null,
   "id": "3b75744d",
   "metadata": {
    "scrolled": false
   },
   "outputs": [],
   "source": [
    "anam = gl.AnamHermite.create(nbpoly=20)\n",
    "anam.fitFromLocator(data)\n",
    "anam.display()"
   ]
  },
  {
   "cell_type": "code",
   "execution_count": null,
   "id": "9a0095d0",
   "metadata": {},
   "outputs": [],
   "source": [
    "if flagPerformGraphics:\n",
    "    ax = gp.anam(anam)"
   ]
  },
  {
   "cell_type": "markdown",
   "id": "1de68a64",
   "metadata": {},
   "source": [
    "Selectivity: We focus on Tonnage (T) and Metal Quantity (Q) for 2 cutoffs (0 and 0.5)"
   ]
  },
  {
   "cell_type": "code",
   "execution_count": null,
   "id": "64861063",
   "metadata": {},
   "outputs": [],
   "source": [
    "selectivity = gl.Selectivity_createByCodes([gl.ESelectivity.Q, gl.ESelectivity.T], zcuts=[0., 0.5], \n",
    "                                           flag_est=True, flag_std=True)"
   ]
  },
  {
   "cell_type": "markdown",
   "id": "3b38e1fd",
   "metadata": {},
   "source": [
    "Global experimental selectivity, calculated form the experimental Data Set"
   ]
  },
  {
   "cell_type": "code",
   "execution_count": null,
   "id": "ba56a85d",
   "metadata": {},
   "outputs": [],
   "source": [
    "selectivity.eval(data)"
   ]
  },
  {
   "cell_type": "markdown",
   "id": "6691e2bf",
   "metadata": {},
   "source": [
    "Selectivity in the model, derived from the parameters contained in the Anamorphosis"
   ]
  },
  {
   "cell_type": "code",
   "execution_count": null,
   "id": "cdee0855",
   "metadata": {
    "scrolled": true
   },
   "outputs": [],
   "source": [
    "selectivity.eval(anam)"
   ]
  },
  {
   "cell_type": "markdown",
   "id": "66d8aff4",
   "metadata": {},
   "source": [
    "Define the variogram calculation parameters: omni-directional variogram calculated in 2-D pace, with 10 lags of 0.025."
   ]
  },
  {
   "cell_type": "code",
   "execution_count": null,
   "id": "7c1e636a",
   "metadata": {},
   "outputs": [],
   "source": [
    "varioparam = gl.VarioParam_createOmniDirection(npas=10, dpas=0.025)"
   ]
  },
  {
   "cell_type": "markdown",
   "id": "a0b92493",
   "metadata": {},
   "source": [
    "Calculate the variogram of the raw variable"
   ]
  },
  {
   "cell_type": "code",
   "execution_count": null,
   "id": "2297fd40",
   "metadata": {
    "scrolled": false
   },
   "outputs": [],
   "source": [
    "vario_raw = gl.Vario_computeFromDb(varioparam, db=data)"
   ]
  },
  {
   "cell_type": "markdown",
   "id": "493290fb",
   "metadata": {},
   "source": [
    "Fitting the Model on the Raw variable"
   ]
  },
  {
   "cell_type": "code",
   "execution_count": null,
   "id": "1c735f4b",
   "metadata": {
    "scrolled": true
   },
   "outputs": [],
   "source": [
    "model_raw = gl.Model_createFromEnvironment(nvar=1, ndim=ndim)\n",
    "model_raw.fit(vario_raw)\n",
    "model_raw.display()"
   ]
  },
  {
   "cell_type": "code",
   "execution_count": null,
   "id": "022daa38",
   "metadata": {},
   "outputs": [],
   "source": [
    "if flagPerformGraphics:\n",
    "    ax = gp.varmod(vario_raw, model_raw)"
   ]
  },
  {
   "cell_type": "markdown",
   "id": "a3be29c9",
   "metadata": {},
   "source": [
    "Transform Data into Gaussian variable"
   ]
  },
  {
   "cell_type": "code",
   "execution_count": null,
   "id": "c70bead0",
   "metadata": {},
   "outputs": [],
   "source": [
    "gl.RawToGaussianByLocator(data, anam=anam)\n",
    "data.setName(\"Y.Z\",\"Gauss.Z\")\n",
    "data.display()"
   ]
  },
  {
   "cell_type": "markdown",
   "id": "5e86fe59",
   "metadata": {},
   "source": [
    "Calculate the variogram of the Gaussian variable"
   ]
  },
  {
   "cell_type": "code",
   "execution_count": null,
   "id": "822c4386",
   "metadata": {
    "scrolled": true
   },
   "outputs": [],
   "source": [
    "vario = gl.Vario_computeFromDb(varioparam, data)"
   ]
  },
  {
   "cell_type": "markdown",
   "id": "9d77c178",
   "metadata": {},
   "source": [
    "Fitting the Model on the Gaussian transformed variable (under the constraint that the sill must be equal to 1)"
   ]
  },
  {
   "cell_type": "code",
   "execution_count": null,
   "id": "fd24467a",
   "metadata": {
    "scrolled": true
   },
   "outputs": [],
   "source": [
    "model = gl.Model(1, ndim)\n",
    "constraints = gl.Constraints(1.)\n",
    "model.fit(vario, [gl.ECov.EXPONENTIAL, gl.ECov.EXPONENTIAL], \n",
    "          mauto=gl.Option_AutoFit(), constraints=constraints)\n",
    "model"
   ]
  },
  {
   "cell_type": "code",
   "execution_count": null,
   "id": "6b0af10e",
   "metadata": {},
   "outputs": [],
   "source": [
    "if flagPerformGraphics:\n",
    "    ax = gp.varmod(vario, model)"
   ]
  },
  {
   "cell_type": "markdown",
   "id": "433ca6fe",
   "metadata": {},
   "source": [
    "Creating a Moving Neighborhood"
   ]
  },
  {
   "cell_type": "code",
   "execution_count": null,
   "id": "de9b5461",
   "metadata": {
    "scrolled": true
   },
   "outputs": [],
   "source": [
    "nmini = 5\n",
    "nmaxi = 5\n",
    "radius = 1.\n",
    "neigh = gl.NeighMoving.create(nmaxi=nmaxi, radius=radius, nmini=nmini)\n",
    "neigh"
   ]
  },
  {
   "cell_type": "markdown",
   "id": "15719a48",
   "metadata": {},
   "source": [
    "## ====== Conditional Expectation ======"
   ]
  },
  {
   "cell_type": "markdown",
   "id": "ded68548",
   "metadata": {},
   "source": [
    "Estimating the Gaussian Variable on the nodes of the Blocks"
   ]
  },
  {
   "cell_type": "code",
   "execution_count": null,
   "id": "ddfa0c72",
   "metadata": {
    "scrolled": true
   },
   "outputs": [],
   "source": [
    "data.setLocator(\"Gauss.Z\",gl.ELoc.Z)\n",
    "dummy = gl.kriging(data, blocs, model, neigh, calcul=gl.EKrigOpt.PONCTUAL,\n",
    "        namconv=gl.NamingConvention(\"G_PTS\"))"
   ]
  },
  {
   "cell_type": "code",
   "execution_count": null,
   "id": "9f3434f6",
   "metadata": {},
   "outputs": [],
   "source": [
    "if flagPerformGraphics:\n",
    "    ax = gp.grid(blocs, vmin=ZEstMin, vmax=ZEstMax, aspect=1)"
   ]
  },
  {
   "cell_type": "markdown",
   "id": "1e2ab321",
   "metadata": {},
   "source": [
    "Calculating the Conditional Expectation on blocks"
   ]
  },
  {
   "cell_type": "code",
   "execution_count": null,
   "id": "28527c80",
   "metadata": {
    "scrolled": false
   },
   "outputs": [],
   "source": [
    "dummy = gl.ConditionalExpectation(blocs, anam, selectivity, \n",
    "                                  name_est=\"G_PTS*estim\", name_std=\"G_PTS*stdev\", \n",
    "                                  namconv = gl.NamingConvention(\"PTS_Recovery\", False))"
   ]
  },
  {
   "cell_type": "code",
   "execution_count": null,
   "id": "971bd991",
   "metadata": {},
   "outputs": [],
   "source": [
    "blocs"
   ]
  },
  {
   "cell_type": "code",
   "execution_count": null,
   "id": "7bbcd695",
   "metadata": {
    "scrolled": true
   },
   "outputs": [],
   "source": [
    "axs = gp.grids(blocs, \"PTS_Recovery.Q-estim*\",figsize=[9,9], aspect=1,\n",
    "               vmin=QEstMin, vmax=QEstMax)"
   ]
  },
  {
   "cell_type": "code",
   "execution_count": null,
   "id": "06c94eed",
   "metadata": {},
   "outputs": [],
   "source": [
    "axs = gp.grids(blocs, \"PTS_Recovery.Q-stdev*\",figsize=[9,9], aspect=1,\n",
    "               vmin=QStdMin, vmax=QStdMax)"
   ]
  },
  {
   "cell_type": "code",
   "execution_count": null,
   "id": "1afac002",
   "metadata": {
    "scrolled": true
   },
   "outputs": [],
   "source": [
    "axs = gp.grids(blocs, \"PTS_Recovery.T-estim*\",figsize=[9,9], aspect=1,\n",
    "               vmin=TEstMin, vmax=TEstMax)"
   ]
  },
  {
   "cell_type": "code",
   "execution_count": null,
   "id": "26f03842",
   "metadata": {},
   "outputs": [],
   "source": [
    "axs = gp.grids(blocs, \"PTS_Recovery.T-stdev*\",figsize=[9,9], aspect=1,\n",
    "               vmin=TStdMin, vmax=TStdMax)"
   ]
  },
  {
   "cell_type": "markdown",
   "id": "8a8c00d7",
   "metadata": {},
   "source": [
    "## ====== Point Disjunctive Kriging ======"
   ]
  },
  {
   "cell_type": "markdown",
   "id": "665abf30",
   "metadata": {},
   "source": [
    "Attach the Anamorphosis to the Model"
   ]
  },
  {
   "cell_type": "code",
   "execution_count": null,
   "id": "fd65f764",
   "metadata": {},
   "outputs": [],
   "source": [
    "dummy = model.setAnam(anam)"
   ]
  },
  {
   "cell_type": "markdown",
   "id": "ac92903f",
   "metadata": {},
   "source": [
    "Computing the Point factors"
   ]
  },
  {
   "cell_type": "code",
   "execution_count": null,
   "id": "2e52850d",
   "metadata": {},
   "outputs": [],
   "source": [
    "nfactor = 3\n",
    "dummy = gl.RawToFactor(data, anam, nfactor)"
   ]
  },
  {
   "cell_type": "markdown",
   "id": "2aeec739",
   "metadata": {},
   "source": [
    "Simple Point Kriging over the blocks"
   ]
  },
  {
   "cell_type": "code",
   "execution_count": null,
   "id": "b940527c",
   "metadata": {
    "scrolled": true
   },
   "outputs": [],
   "source": [
    "dummy = gl.DisjunctiveKriging(data, blocs, model, neigh, calcul=gl.EKrigOpt.PONCTUAL,\n",
    "                              namconv = gl.NamingConvention(\"DK_Pts\"))\n",
    "blocs.display()"
   ]
  },
  {
   "cell_type": "code",
   "execution_count": null,
   "id": "f85d7bf5",
   "metadata": {
    "scrolled": false
   },
   "outputs": [],
   "source": [
    "axs = gp.grids(blocs,names=\"DK_Pts*estim\",figsize=[15,15], aspect=1)"
   ]
  },
  {
   "cell_type": "code",
   "execution_count": null,
   "id": "40f21c26",
   "metadata": {},
   "outputs": [],
   "source": [
    "axs = gp.grids(blocs,names=\"DK_Pts*stdev\",figsize=[15,15], aspect=1)"
   ]
  },
  {
   "cell_type": "markdown",
   "id": "3291a81a",
   "metadata": {},
   "source": [
    "Simple Block Kriging over the blocks"
   ]
  },
  {
   "cell_type": "code",
   "execution_count": null,
   "id": "bb6f21e8",
   "metadata": {
    "scrolled": true
   },
   "outputs": [],
   "source": [
    "ndisc_B = [5,5]\n",
    "dummy = gl.DisjunctiveKriging(data, blocs, model, neigh, \n",
    "                              calcul=gl.EKrigOpt.BLOCK, ndisc=ndisc_B, \n",
    "                              namconv = gl.NamingConvention(\"DK_Blk\"))\n",
    "blocs.display()"
   ]
  },
  {
   "cell_type": "code",
   "execution_count": null,
   "id": "a095bc13",
   "metadata": {
    "scrolled": false
   },
   "outputs": [],
   "source": [
    "axs = gp.grids(blocs,names=\"DK_Blk*estim\",figsize=[15,15], aspect=1)"
   ]
  },
  {
   "cell_type": "code",
   "execution_count": null,
   "id": "eb31e9f9",
   "metadata": {},
   "outputs": [],
   "source": [
    "axs = gp.grids(blocs,names=\"DK_Blk*stdev\",figsize=[15,15], aspect=1)"
   ]
  },
  {
   "cell_type": "markdown",
   "id": "6e33fe6c",
   "metadata": {},
   "source": [
    "Comparing Point and Block estimations and standard deviation of Estimation errors (this comparison is performed on the results of the first factor only)."
   ]
  },
  {
   "cell_type": "code",
   "execution_count": null,
   "id": "e995991d",
   "metadata": {
    "scrolled": true
   },
   "outputs": [],
   "source": [
    "if flagPerformGraphics:\n",
    "    ax = gp.correlation(blocs, \"DK_Pts*1.estim\", \"DK_Blk*1.estim\")"
   ]
  },
  {
   "cell_type": "code",
   "execution_count": null,
   "id": "a9487646",
   "metadata": {
    "scrolled": true
   },
   "outputs": [],
   "source": [
    "if flagPerformGraphics:\n",
    "    ax = gp.correlation(blocs, \"DK_Pts*1.stdev\", \"DK_Blk*1.stdev\")"
   ]
  },
  {
   "cell_type": "markdown",
   "id": "758695dc",
   "metadata": {},
   "source": [
    "Simple Block Kriging over the panel(s)"
   ]
  },
  {
   "cell_type": "code",
   "execution_count": null,
   "id": "7c3a3e03",
   "metadata": {},
   "outputs": [],
   "source": [
    "ndisc_P = [10,10]\n",
    "dummy = gl.DisjunctiveKriging(data, panel, model, neigh, \n",
    "                              calcul=gl.EKrigOpt.BLOCK, ndisc=ndisc_P,\n",
    "                              namconv=gl.NamingConvention(\"DK_Blk\"))\n",
    "panel.display()"
   ]
  },
  {
   "cell_type": "code",
   "execution_count": null,
   "id": "a8c6859b",
   "metadata": {
    "scrolled": false
   },
   "outputs": [],
   "source": [
    "axs = gp.grids(panel,names=\"DK_Blk*estim\",figsize=[15,15], aspect=1)"
   ]
  },
  {
   "cell_type": "code",
   "execution_count": null,
   "id": "b9e30edf",
   "metadata": {},
   "outputs": [],
   "source": [
    "axs = gp.grids(panel,names=\"DK_Blk*stdev\",figsize=[15,15], aspect=1)"
   ]
  },
  {
   "cell_type": "markdown",
   "id": "9c665147",
   "metadata": {},
   "source": [
    "## ===== Uniform Conditioning ====="
   ]
  },
  {
   "cell_type": "markdown",
   "id": "f27878b8",
   "metadata": {},
   "source": [
    "Calculate the Mean covariance over block"
   ]
  },
  {
   "cell_type": "code",
   "execution_count": null,
   "id": "3740d0fb",
   "metadata": {},
   "outputs": [],
   "source": [
    "cvv_Z = model_raw.evalCvv(blocs.getDXs(), ndisc=ndisc_B)"
   ]
  },
  {
   "cell_type": "markdown",
   "id": "6d40447d",
   "metadata": {},
   "source": [
    "Perform the Point Kriging of the Raw Variable"
   ]
  },
  {
   "cell_type": "code",
   "execution_count": null,
   "id": "a4135e6c",
   "metadata": {
    "scrolled": false
   },
   "outputs": [],
   "source": [
    "data.clearLocators(gl.ELoc.Z)\n",
    "data.setLocator(\"Z\",gl.ELoc.Z)\n",
    "dummy = gl.kriging(data, blocs, model, neigh, calcul=gl.EKrigOpt.PONCTUAL,\n",
    "                   namconv=gl.NamingConvention(\"Z_PTS\"))\n",
    "blocs.display()"
   ]
  },
  {
   "cell_type": "code",
   "execution_count": null,
   "id": "c61d4350",
   "metadata": {
    "scrolled": true
   },
   "outputs": [],
   "source": [
    "axs = gp.grids(blocs,names=\"Z_PTS*\",figsize=[9,9], aspect=1)"
   ]
  },
  {
   "cell_type": "markdown",
   "id": "a997a5f4",
   "metadata": {},
   "source": [
    "Perform the Uniform Conditioning over Blocks"
   ]
  },
  {
   "cell_type": "code",
   "execution_count": null,
   "id": "fe1cf783",
   "metadata": {
    "scrolled": false
   },
   "outputs": [],
   "source": [
    "dummy = gl.UniformConditioning(blocs, anam, selectivity,\n",
    "                               names_est=\"Z_PTS*estim\", names_std=\"Z_PTS*stdev\", cvv=cvv_Z, \n",
    "                               namconv = gl.NamingConvention(\"UC\",False))\n",
    "blocs.display()\n",
    "data.setLocator(\"Gauss.Z\",gl.ELoc.Z)"
   ]
  },
  {
   "cell_type": "code",
   "execution_count": null,
   "id": "3188cee9",
   "metadata": {},
   "outputs": [],
   "source": [
    "axs = gp.grids(blocs, \"UC.Q*\",figsize=[9,9], aspect=1)"
   ]
  },
  {
   "cell_type": "code",
   "execution_count": null,
   "id": "bb41b10b",
   "metadata": {},
   "outputs": [],
   "source": [
    "axs = gp.grids(blocs, \"UC.T*\",figsize=[6,6], aspect=1)"
   ]
  },
  {
   "cell_type": "markdown",
   "id": "0ca47583",
   "metadata": {},
   "source": [
    "## ===== Block Disjunctive Kriging (DGM-1) ====="
   ]
  },
  {
   "cell_type": "markdown",
   "id": "c8b24a95",
   "metadata": {},
   "source": [
    "Calculate the change of support coefficient"
   ]
  },
  {
   "cell_type": "code",
   "execution_count": null,
   "id": "b1711f95",
   "metadata": {
    "scrolled": true
   },
   "outputs": [],
   "source": [
    "r1 = anam.evalSupportCoefficient(1, model, dxs=blocs.getDXs(), ndisc=ndisc_B)"
   ]
  },
  {
   "cell_type": "markdown",
   "id": "53caa5cc",
   "metadata": {},
   "source": [
    "Update the Model with Block anamorphosis"
   ]
  },
  {
   "cell_type": "code",
   "execution_count": null,
   "id": "0c5742e4",
   "metadata": {},
   "outputs": [],
   "source": [
    "anam_b1 = anam.clone()\n",
    "anam_b1.setRCoef(r1)"
   ]
  },
  {
   "cell_type": "markdown",
   "id": "d95e0b2e",
   "metadata": {},
   "source": [
    "Regularization of the point model by the block support"
   ]
  },
  {
   "cell_type": "code",
   "execution_count": null,
   "id": "d583eaeb",
   "metadata": {},
   "outputs": [],
   "source": [
    "vario_b1_Z = gl.Vario_createRegularizeFromModel(model, varioparam, \n",
    "                                                ext=blocs.getDXs(),\n",
    "                                                ndisc=ndisc_B, \n",
    "                                                angles=blocs.getAngles())\n",
    "cvv = model.evalCvv(blocs.getDXs(), ndisc_B)\n",
    "vario_b1_Y = gl.Vario_createTransformZToY(vario_b1_Z, anam, cvv)"
   ]
  },
  {
   "cell_type": "code",
   "execution_count": null,
   "id": "23eecfed",
   "metadata": {},
   "outputs": [],
   "source": [
    "if flagPerformGraphics:\n",
    "    ax = gp.vario(vario_b1_Z)"
   ]
  },
  {
   "cell_type": "markdown",
   "id": "9290f780",
   "metadata": {},
   "source": [
    "Fitting the regularized model on the point Gaussian variable"
   ]
  },
  {
   "cell_type": "code",
   "execution_count": null,
   "id": "78c41f4d",
   "metadata": {},
   "outputs": [],
   "source": [
    "model_b1_Y = gl.Model(1, ndim)\n",
    "constraints.setConstantSillValue(1)\n",
    "dummy = model_b1_Y.fit(vario_b1_Y, types=[gl.ECov.CUBIC, gl.ECov.EXPONENTIAL],\n",
    "                       mauto=gl.Option_AutoFit(), constraints=constraints)"
   ]
  },
  {
   "cell_type": "code",
   "execution_count": null,
   "id": "ddeaf4d9",
   "metadata": {},
   "outputs": [],
   "source": [
    "ax = gp.varmod(vario_b1_Y, model_b1_Y)"
   ]
  },
  {
   "cell_type": "markdown",
   "id": "00b02569",
   "metadata": {},
   "source": [
    "Update the Model with Block Anamorphosis"
   ]
  },
  {
   "cell_type": "code",
   "execution_count": null,
   "id": "4c66187a",
   "metadata": {
    "scrolled": true
   },
   "outputs": [],
   "source": [
    "model_b1_Y.setAnam(anam_b1)\n",
    "model_b1_Y.display()"
   ]
  },
  {
   "cell_type": "markdown",
   "id": "25ae4ea5",
   "metadata": {},
   "source": [
    "Simple Point Kriging over the blocs(s) with Model with Change of Support"
   ]
  },
  {
   "cell_type": "code",
   "execution_count": null,
   "id": "8e7cf99f",
   "metadata": {
    "scrolled": false
   },
   "outputs": [],
   "source": [
    "dummy = gl.DisjunctiveKriging(data, blocs, model_b1_Y, neigh, gl.EKrigOpt.PONCTUAL,\n",
    "                              [], True, True,\n",
    "                              gl.NamingConvention(\"DK_DGM1\"))\n",
    "blocs.display()"
   ]
  },
  {
   "cell_type": "code",
   "execution_count": null,
   "id": "c2296b46",
   "metadata": {},
   "outputs": [],
   "source": [
    "axs = gp.grids(blocs, names=\"DK_DGM1*\", figsize=[9,9], aspect=1)"
   ]
  },
  {
   "cell_type": "markdown",
   "id": "648dc069",
   "metadata": {},
   "source": [
    "Simple Point Kriging over the panel(s) with Model with Change of Support"
   ]
  },
  {
   "cell_type": "code",
   "execution_count": null,
   "id": "052198ec",
   "metadata": {
    "scrolled": true
   },
   "outputs": [],
   "source": [
    "dummy = gl.DisjunctiveKriging(data, panel, model_b1_Y, neigh, \n",
    "                              calcul=gl.EKrigOpt.BLOCK, ndisc=[nx_B, nx_B], \n",
    "                              namconv=gl.NamingConvention(\"DK_DGM1\"))\n",
    "panel.display()"
   ]
  },
  {
   "cell_type": "code",
   "execution_count": null,
   "id": "6533073b",
   "metadata": {},
   "outputs": [],
   "source": [
    "axs = gp.grids(panel, names=\"DK_DGM1*\", figsize=[9,9], aspect=1)"
   ]
  },
  {
   "cell_type": "markdown",
   "id": "1f72177b",
   "metadata": {},
   "source": [
    "## ===== Block Disjunctive Kriging (DGM-2) ====="
   ]
  },
  {
   "cell_type": "markdown",
   "id": "7a5954bf",
   "metadata": {},
   "source": [
    "Calculate the change of support coefficient"
   ]
  },
  {
   "cell_type": "code",
   "execution_count": null,
   "id": "9d74e4e7",
   "metadata": {
    "scrolled": true
   },
   "outputs": [],
   "source": [
    "r2 = anam.evalSupportCoefficient(2, model, dxs=blocs.getDXs(), ndisc=ndisc_B)"
   ]
  },
  {
   "cell_type": "markdown",
   "id": "ccb3c4b4",
   "metadata": {},
   "source": [
    "Update the Model with Block anamorphosis"
   ]
  },
  {
   "cell_type": "code",
   "execution_count": null,
   "id": "ffd17b7b",
   "metadata": {},
   "outputs": [],
   "source": [
    "anam_b2 = anam.clone()\n",
    "anam_b2.setRCoef(r2)"
   ]
  },
  {
   "cell_type": "markdown",
   "id": "03b45152",
   "metadata": {},
   "source": [
    "Regularization of the point model by the block support"
   ]
  },
  {
   "cell_type": "code",
   "execution_count": null,
   "id": "150be094",
   "metadata": {},
   "outputs": [],
   "source": [
    "vario_b2_Y = gl.Vario_createRegularizeFromModel(model, varioparam, \n",
    "                                                ext = blocs.getDXs(),\n",
    "                                                ndisc = ndisc_B, \n",
    "                                                angles = blocs.getAngles())"
   ]
  },
  {
   "cell_type": "code",
   "execution_count": null,
   "id": "f4c91a69",
   "metadata": {},
   "outputs": [],
   "source": [
    "ax = gp.vario(vario_b2_Y)"
   ]
  },
  {
   "cell_type": "markdown",
   "id": "a5c63dd6",
   "metadata": {},
   "source": [
    "Fitting the regularized model on the point Gaussian variable"
   ]
  },
  {
   "cell_type": "code",
   "execution_count": null,
   "id": "acbaa1b2",
   "metadata": {},
   "outputs": [],
   "source": [
    "model_b2_Y = gl.Model(1, ndim)\n",
    "constraints.setConstantSillValue(r2 * r2)\n",
    "dummy = model_b2_Y.fit(vario_b2_Y, types=[gl.ECov.CUBIC, gl.ECov.EXPONENTIAL], \n",
    "                       mauto = gl.Option_AutoFit(), constraints = constraints)"
   ]
  },
  {
   "cell_type": "code",
   "execution_count": null,
   "id": "287e3d8c",
   "metadata": {},
   "outputs": [],
   "source": [
    "ax = gp.varmod(vario_b2_Y, model_b2_Y)"
   ]
  },
  {
   "cell_type": "markdown",
   "id": "816bae3e",
   "metadata": {},
   "source": [
    "Normalization of the block model to a total sill equal to 1.0"
   ]
  },
  {
   "cell_type": "code",
   "execution_count": null,
   "id": "a86a7c32",
   "metadata": {
    "scrolled": false
   },
   "outputs": [],
   "source": [
    "model_b2_Y.normalize(1.0)\n",
    "model_b2_Y.display()"
   ]
  },
  {
   "cell_type": "code",
   "execution_count": null,
   "id": "b375db45",
   "metadata": {},
   "outputs": [],
   "source": [
    "ax = gp.model(model_b2_Y, hmax=vario_b2_Y.getHmax())"
   ]
  },
  {
   "cell_type": "markdown",
   "id": "a19d4db0",
   "metadata": {},
   "source": [
    "Update the Model with Block anamorphosis"
   ]
  },
  {
   "cell_type": "code",
   "execution_count": null,
   "id": "4a86fec5",
   "metadata": {
    "scrolled": true
   },
   "outputs": [],
   "source": [
    "model_b2_Y.setAnam(anam_b2)\n",
    "model_b2_Y.display()"
   ]
  },
  {
   "cell_type": "markdown",
   "id": "0313025d",
   "metadata": {},
   "source": [
    "Simple Point Kriging over the blocs(s) with Model with Change of Support"
   ]
  },
  {
   "cell_type": "code",
   "execution_count": null,
   "id": "a8eeb140",
   "metadata": {
    "scrolled": true
   },
   "outputs": [],
   "source": [
    "dummy = gl.DisjunctiveKriging(data, blocs, model_b2_Y, neigh, calcul=gl.EKrigOpt.PONCTUAL,\n",
    "                              namconv=gl.NamingConvention(\"DK_DGM2\"))\n",
    "blocs.display()"
   ]
  },
  {
   "cell_type": "code",
   "execution_count": null,
   "id": "8b58ac13",
   "metadata": {},
   "outputs": [],
   "source": [
    "axs = gp.grids(blocs, names=\"DK_DGM2*\", figsize=[9,9], aspect=1)"
   ]
  },
  {
   "cell_type": "markdown",
   "id": "4a70d7e4",
   "metadata": {},
   "source": [
    "Simple Point Kriging over the panel(s) with Model with Change of Support"
   ]
  },
  {
   "cell_type": "code",
   "execution_count": null,
   "id": "13772b4b",
   "metadata": {
    "scrolled": false
   },
   "outputs": [],
   "source": [
    "dummy = gl.DisjunctiveKriging(data, panel, model_b2_Y, neigh, \n",
    "                              calcul=gl.EKrigOpt.BLOCK, ndisc=[nx_B, nx_B],\n",
    "                              namconv=gl.NamingConvention(\"DK_DGM2\"))\n",
    "panel.display()"
   ]
  },
  {
   "cell_type": "code",
   "execution_count": null,
   "id": "b22a6b39",
   "metadata": {},
   "outputs": [],
   "source": [
    "axs = gp.grids(panel, names=\"DK_DGM2*\", figsize=[9,9], aspect=1)"
   ]
  },
  {
   "cell_type": "markdown",
   "id": "2c79a348",
   "metadata": {},
   "source": [
    "## ===== Selectivity Function ====="
   ]
  },
  {
   "cell_type": "code",
   "execution_count": null,
   "id": "654dbbcf",
   "metadata": {
    "scrolled": true
   },
   "outputs": [],
   "source": [
    "gl.FactorToSelectivity(blocs, anam, selectivity, \n",
    "                       names_est = blocs.getNames(\"DK_Pts*estim\"),\n",
    "                       names_std = blocs.getNames(\"DK_Pts*stdev\"), \n",
    "                       namconv=gl.NamingConvention(\"DK_Pts_Sel\", False))\n",
    "blocs.display()"
   ]
  },
  {
   "cell_type": "code",
   "execution_count": null,
   "id": "372edaa8",
   "metadata": {},
   "outputs": [],
   "source": [
    "axs = gp.grids(blocs, \"DK_Pts_Sel.T*\",figsize=[6,6], aspect=1)"
   ]
  },
  {
   "cell_type": "code",
   "execution_count": null,
   "id": "fe134698",
   "metadata": {},
   "outputs": [],
   "source": [
    "axs = gp.grids(blocs, \"DK_Pts_Sel.Q*\",figsize=[6,6], aspect=1)"
   ]
  }
 ],
 "metadata": {
  "kernelspec": {
   "display_name": "Python 3 (ipykernel)",
   "language": "python",
   "name": "python3"
  },
  "language_info": {
   "codemirror_mode": {
    "name": "ipython",
    "version": 3
   },
   "file_extension": ".py",
   "mimetype": "text/x-python",
   "name": "python",
   "nbconvert_exporter": "python",
   "pygments_lexer": "ipython3",
   "version": "3.10.5"
  }
 },
 "nbformat": 4,
 "nbformat_minor": 5
}
