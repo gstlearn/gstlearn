{
 "cells": [
  {
   "cell_type": "markdown",
   "id": "2fe8d77f",
   "metadata": {},
   "source": [
    "# Empirical Variography"
   ]
  },
  {
   "cell_type": "markdown",
   "id": "7f531de5",
   "metadata": {},
   "source": [
    "<!-- SUMMARY: This script is part of the course designed for ERAMET. It presents the Variography. -->\n",
    "\n",
    "<!-- CATEGORY: Courses -->"
   ]
  },
  {
   "cell_type": "markdown",
   "id": "24b30d51",
   "metadata": {},
   "source": [
    "In this notebook, we will study how to perform the variography of a single variable.\n",
    "\n",
    "We will discover:\n",
    "* the variogram cloud\n",
    "* the omnidirectional variogram\n",
    "* the variogram map\n",
    "* the directional variogram"
   ]
  },
  {
   "cell_type": "code",
   "execution_count": null,
   "id": "9304ff4b",
   "metadata": {
    "code_folding": []
   },
   "outputs": [],
   "source": [
    "import gstlearn as gl\n",
    "import gstlearn.plot as gp\n",
    "import gstlearn.widgets as gw\n",
    "import gstlearn.document as gdoc\n",
    "import ipywidgets as widgets\n",
    "import numpy as np\n",
    "import os\n",
    "import matplotlib.pyplot as plt\n",
    "import pandas as pd\n",
    "from scipy.spatial import distance_matrix\n",
    "from IPython.display import Markdown\n",
    "\n",
    "%matplotlib inline\n",
    "%matplotlib notebook\n",
    "\n",
    "gdoc.setNoScroll()\n",
    "\n",
    "figsize=(6,6)"
   ]
  },
  {
   "cell_type": "markdown",
   "id": "e5cc6ea2",
   "metadata": {
    "slideshow": {
     "slide_type": "slide"
    }
   },
   "source": [
    "## Read the db"
   ]
  },
  {
   "cell_type": "markdown",
   "id": "7710d992",
   "metadata": {},
   "source": [
    "Here we restore the db which as been created in the first [notebook](FirstSteps.ipynb)."
   ]
  },
  {
   "cell_type": "code",
   "execution_count": null,
   "id": "2f3d4026",
   "metadata": {
    "jupyter": {
     "source_hidden": true
    },
    "slideshow": {
     "slide_type": "slide"
    },
    "tags": []
   },
   "outputs": [],
   "source": [
    "temp_nf = gdoc.loadData(\"Scotland\", \"Scotland_Temperatures.NF\")\n",
    "db = gl.Db.createFromNF(temp_nf)\n",
    "db"
   ]
  },
  {
   "cell_type": "markdown",
   "id": "8dea3239",
   "metadata": {},
   "source": [
    "## Some functions and constant values"
   ]
  },
  {
   "cell_type": "markdown",
   "id": "3d4030c3",
   "metadata": {},
   "source": [
    "- Reference parameters"
   ]
  },
  {
   "cell_type": "code",
   "execution_count": null,
   "id": "4b3a1c1a",
   "metadata": {
    "code_folding": [],
    "jupyter": {
     "source_hidden": true
    },
    "tags": []
   },
   "outputs": [],
   "source": [
    "nlag_ref = 10  # Total number of lags\n",
    "lag_ref = 70 # Value for the lag\n",
    "tol_ref = 50 # Tolerane on distance (in percentage of the lag)\n",
    "angle_ref = 125\n",
    "tolangle_ref = 20\n",
    "lagindex_ref = 4 # Index of a particular lag\n",
    "cylrad_ref = 50 # Extension of the radius of the cylinder search"
   ]
  },
  {
   "cell_type": "markdown",
   "id": "2e4eeaaf",
   "metadata": {},
   "source": [
    "- Global parameters"
   ]
  },
  {
   "cell_type": "code",
   "execution_count": null,
   "id": "7b328553",
   "metadata": {},
   "outputs": [],
   "source": [
    "nlag = nlag_ref\n",
    "lag = lag_ref\n",
    "tol = tol_ref\n",
    "lagindex = lagindex_ref\n",
    "angle = angle_ref\n",
    "tolangle = tolangle_ref\n",
    "cylrad = cylrad_ref\n",
    "\n",
    "flagCloud = True\n",
    "flagOneLag = True\n",
    "flagValues = False\n",
    "flagLimitVariance = False\n",
    "flagDirectional = False\n",
    "flagCylinder = False\n",
    "\n",
    "caseFigure = 1"
   ]
  },
  {
   "cell_type": "markdown",
   "id": "2a1f45c5",
   "metadata": {},
   "source": [
    "- Calculation functions"
   ]
  },
  {
   "cell_type": "code",
   "execution_count": null,
   "id": "0347e41d",
   "metadata": {
    "code_folding": [],
    "jupyter": {
     "source_hidden": true
    },
    "tags": []
   },
   "outputs": [],
   "source": [
    "def getSelectedPairs(varioparam,db,lagindex):\n",
    "    selected = gl.buildDbFromVarioParam(db,varioparam)\n",
    "    ind = np.where(selected[\"Lag\"]==lagindex)\n",
    "    s1 = selected[\"Sample-1\"][ind]\n",
    "    s2 = selected[\"Sample-2\"][ind]\n",
    "    vect = db.getIncrements(s1, s2)\n",
    "    return vect[0],vect[1]\n",
    "\n",
    "# Function to average within ]mini,maxi]\n",
    "def average(dist,gamma,mini,maxi) :\n",
    "    ind = np.logical_and(dist>mini,dist<=maxi)  #Check if the distances are in ]mini,maxi]\n",
    "    if sum(ind) > 0:\n",
    "        hh = np.mean(dist[ind]) #Compute the means of distance for pairs in ]mini,maxi]\n",
    "        gg = np.mean(gamma[ind]) #Compute the means of gamma for pairs in ]mini,maxi]\n",
    "        nbpairs = np.sum(ind)/2 # Count the number of pairs between ]mini,maxi]\n",
    "    else:\n",
    "        hh = np.nan\n",
    "        gg = np.nan\n",
    "        nbpairs = 0\n",
    "    return nbpairs,hh,gg\n",
    "\n",
    "def omnivario(nlag,lag,tol):\n",
    "    HH = []\n",
    "    GG = []\n",
    "    NB = []\n",
    "\n",
    "    #Loop over the lag \n",
    "    for i in range(nlag):\n",
    "\n",
    "        # Compute the minimum and maximum distances for the lag i\n",
    "        mini, center, maxi = gp.lagDefine(i, lag, tol)\n",
    "        nbpairs,hh,gg=average(dist,gamma,mini, maxi)\n",
    "    \n",
    "        #Storage\n",
    "        HH+=[hh]\n",
    "        GG+=[gg]\n",
    "        NB+=[nbpairs]\n",
    "    \n",
    "    return HH,GG,NB"
   ]
  },
  {
   "cell_type": "markdown",
   "id": "200a3b45",
   "metadata": {},
   "source": [
    "- Event functions (triggered by the widgets) as well as functions for resetting the global parameters to their default values."
   ]
  },
  {
   "cell_type": "code",
   "execution_count": null,
   "id": "8953a9b5",
   "metadata": {},
   "outputs": [],
   "source": [
    "def sliderLagIndexEventhandler(change):\n",
    "    global lagindex\n",
    "    lagindex = change.new\n",
    "    drawFigure(ax)\n",
    "    \n",
    "def sliderLagEventhandler(change):\n",
    "    global lag\n",
    "    lag = change.new\n",
    "    drawFigure(ax)\n",
    "    \n",
    "def sliderTolEventhandler(change):\n",
    "    global tol\n",
    "    tol = change.new\n",
    "    drawFigure(ax)\n",
    "    \n",
    "def sliderAngleEventhandler(change):\n",
    "    global angle\n",
    "    angle = change.new\n",
    "    drawFigure(ax)\n",
    "    \n",
    "def sliderTolAngleEventhandler(change):\n",
    "    global tolangle\n",
    "    tolangle = change.new\n",
    "    drawFigure(ax)\n",
    "    \n",
    "def sliderCylinderEventhandler(change):\n",
    "    global cylrad\n",
    "    cylrad = change.new\n",
    "    drawFigure(ax)\n",
    "    \n",
    "def reset1D(flagCloud_arg, flagOneLag_arg, flagValues_arg, flagLimitVariance_arg):\n",
    "    global nlag, lag, tol, lagindex\n",
    "    nlag = nlag_ref\n",
    "    lag = lag_ref\n",
    "    tol = tol_ref\n",
    "    lagindex = lagindex_ref\n",
    "    \n",
    "    global flagCloud, flagOneLag, flagValues, flagLimitVariance\n",
    "    flagCloud = flagCloud_arg\n",
    "    flagOneLag = flagOneLag_arg\n",
    "    flagValues = flagValues_arg\n",
    "    flagLimitVariance = flagLimitVariance_arg\n",
    "    \n",
    "    global caseFigure\n",
    "    caseFigure = 1\n",
    "    \n",
    "def reset2D(flagOneLag_arg=True, flagDirectional_arg=False, flagCylinder_arg=False):\n",
    "    global nlag, lag, tol, lagindex, angle, tolangle, cylrad\n",
    "    nlag = nlag_ref\n",
    "    lag = lag_ref\n",
    "    tol = tol_ref\n",
    "    lagindex = lagindex_ref\n",
    "    angle = angle_ref\n",
    "    tolangle = tolangle_ref\n",
    "    cylrad = cylrad_ref\n",
    "    \n",
    "    global flagOneLag, flagDirectional, flagCylinder\n",
    "    flagOneLag = flagOneLag_arg\n",
    "    flagDirectional = flagDirectional_arg\n",
    "    flagCylinder = flagCylinder_arg\n",
    "    \n",
    "    global caseFigure\n",
    "    caseFigure = 2"
   ]
  },
  {
   "cell_type": "markdown",
   "id": "e1376ea6",
   "metadata": {},
   "source": [
    "- Graphical functions"
   ]
  },
  {
   "cell_type": "code",
   "execution_count": null,
   "id": "fedaf1b8",
   "metadata": {
    "code_folding": [],
    "jupyter": {
     "source_hidden": true
    },
    "tags": []
   },
   "outputs": [],
   "source": [
    "# Draw one lag (lower, upper and center locations)\n",
    "def drawOneLag(ax, i, lag, tol=0):\n",
    "    mini, center, maxi = gp.lagDefine(i, lag, tol)\n",
    "    \n",
    "    ax.axvline(x = center, ymin = 0.,c=\"red\")\n",
    "    if tol>0:\n",
    "        if i>0:\n",
    "            ax.axvline(x = mini, ymin = 0.,c=\"green\")\n",
    "        ax.axvline(x = maxi, ymin = 0.,c=\"green\")\n",
    "        \n",
    "# Draw the variogram cloud\n",
    "def drawCloud(ax, dist, gamma, s=1, flagHist = False):\n",
    "    if flagHist:\n",
    "        ax.hist2d(dist,gamma,bins=50)\n",
    "    else:\n",
    "        ax.scatter(dist, gamma, s)\n",
    "    \n",
    "# Draw all lag centers (in black)\n",
    "def drawAllLagCenters(ax, nlag=nlag_ref, lag=lag_ref):\n",
    "    for i in range(nlag):\n",
    "        mini, center, maxi = gp.lagDefine(i, lag, 0.)\n",
    "        ax.axvline(x = center, ymin = 0.,c=\"black\")\n",
    "            \n",
    "# Draw the variance (dashed line)\n",
    "def drawVariance(ax):\n",
    "    ax.axhline(y = variance, color = 'black', linestyle = 'dashed')\n",
    "    \n",
    "# Draw the average value for one lag\n",
    "def drawAverage(ax, i, lag=lag_ref, tol=tol_ref):\n",
    "    mini, center, maxi = gp.lagDefine(i, lag, tol)\n",
    "    nbpairs,hh,gg=average(dist,gamma,mini, maxi)\n",
    "    ax.scatter(hh,gg)\n",
    "    ax.text(hh,gg,int(nbpairs))\n",
    "\n",
    "def drawGrid(vmap,ax):\n",
    "    mx = np.min(vmap[\"x1\"])-vmap.getDX(0)/2\n",
    "    Mx = np.max(vmap[\"x1\"])+vmap.getDX(0)/2\n",
    "    my = np.min(vmap[\"x2\"])-vmap.getDX(1)/2\n",
    "    My = np.max(vmap[\"x2\"])+vmap.getDX(1)/2\n",
    "\n",
    "    for i in range(vmap.getNX(0)+1):\n",
    "        x = vmap.getX0(0)+(i-0.5) * vmap.getDX(0)\n",
    "        ax.plot([x,x],[my,My], color = 'black',linewidth=0.5)\n",
    "    for i in range(vmap.getNX(1)+1):\n",
    "        y = vmap.getX0(1)+(i-0.5) * vmap.getDX(1)\n",
    "        ax.plot([mx,Mx],[y,y], color = 'black',linewidth=0.5)\n",
    "        \n",
    "def drawFigure1D(ax):\n",
    "    ax.cla()\n",
    "    \n",
    "    if flagCloud:\n",
    "        drawCloud(ax, dist, gamma)\n",
    "    if flagOneLag:\n",
    "        if flagValues:\n",
    "            drawAverage(ax, lagindex, lag, tol)\n",
    "            drawOneLag(ax, lagindex, lag, tol)\n",
    "        else:\n",
    "            drawAllLagCenters(ax, nlag, lag)\n",
    "            drawOneLag(ax, lagindex, lag, tol)\n",
    "    else:\n",
    "        HH,GG,NB = omnivario(nlag,lag,tol)\n",
    "        for i in range(nlag):\n",
    "            plt.scatter(HH[i],GG[i],c=\"black\")\n",
    "            plt.text(HH[i],GG[i],int(NB[i]))\n",
    "        plt.plot(HH,GG, '--')\n",
    "    \n",
    "    drawVariance(ax)\n",
    "    \n",
    "    if flagLimitVariance:\n",
    "        plt.ylim([0,variance * 2])\n",
    "        \n",
    "    plt.gca().set_adjustable(\"box\")\n",
    "    plt.gca().set_xlim(left=0)\n",
    "    plt.gca().set_ylim(bottom=0)\n",
    "        \n",
    "def drawFigure2D(ax):\n",
    "    ax.cla()\n",
    "\n",
    "    if flagDirectional:\n",
    "        if flagCylinder:\n",
    "            direction = gl.DirParam.create(nlag,lag,tol,tolangle,angle2D = angle, cylrad=cylrad)\n",
    "        else:\n",
    "            direction = gl.DirParam.create(nlag,lag,tol,tolangle,angle2D = angle)\n",
    "        varioParam = gl.VarioParam()\n",
    "        varioParam.addDir(direction)\n",
    "    else:\n",
    "        varioParam = gl.VarioParam.createOmniDirection(nlag,lag,tol)\n",
    "\n",
    "    plt.scatter(deltaX,deltaY,s=.08,c='blue',label=\"Unselected pairs\")\n",
    "    plt.scatter(0,0)\n",
    "    xs,ys = getSelectedPairs(varioParam,db,lagindex)\n",
    "    plt.scatter(xs,ys,s=.08,label=\"Selected pairs\",c='yellow')\n",
    "\n",
    "    if flagOneLag:\n",
    "        mini, center, maxi = gp.lagDefine(lagindex, lag, tol)\n",
    "        gp.drawCircles(mini, maxi,True)\n",
    "    else:\n",
    "        for i in range(nlag):\n",
    "            mini, center, maxi = gp.lagDefine(i, lag, tol)\n",
    "            xs,ys = getSelectedPairs(varioParam,db,i)\n",
    "            plt.scatter(xs,ys,s=.08,label=\"Selected pairs\",c='yellow')\n",
    "            gp.drawCircles(mini, maxi)\n",
    "\n",
    "    if flagDirectional:\n",
    "        gp.drawDir(angle,         \"black\")\n",
    "        gp.drawDir(angle+tolangle,\"red\")\n",
    "        gp.drawDir(angle-tolangle,\"red\")\n",
    "\n",
    "    if flagCylinder:\n",
    "        gp.drawCylrad(angle,cylrad,col=\"purple\")\n",
    "    \n",
    "    plt.axis(\"equal\")\n",
    "    plt.gca().set_adjustable(\"box\")\n",
    "    plt.gca().set_xlim(left=-500, right=500)\n",
    "    plt.gca().set_ylim(bottom=-500, top=500)\n",
    "\n",
    "def drawFigure(ax):\n",
    "    if caseFigure == 1:\n",
    "        drawFigure1D(ax)\n",
    "    else:\n",
    "        drawFigure2D(ax)"
   ]
  },
  {
   "cell_type": "markdown",
   "id": "5eff5176",
   "metadata": {},
   "source": [
    "## Omnidirectional "
   ]
  },
  {
   "cell_type": "markdown",
   "id": "da83e063",
   "metadata": {},
   "source": [
    "### Variogram cloud"
   ]
  },
  {
   "cell_type": "code",
   "execution_count": null,
   "id": "0c6aa50a",
   "metadata": {},
   "outputs": [],
   "source": [
    "Markdown(gdoc.loadDoc(\"Variogram_Cloud.md\"))"
   ]
  },
  {
   "cell_type": "markdown",
   "id": "e226d410",
   "metadata": {},
   "source": [
    "Compute the exhaustive variogram cloud"
   ]
  },
  {
   "cell_type": "code",
   "execution_count": null,
   "id": "6e4a5da3",
   "metadata": {},
   "outputs": [],
   "source": [
    "# Retrieve Coordinates and Variable from db\n",
    "zp = db[\"*temp\"]\n",
    "    \n",
    "# Reduce to defined samples\n",
    "ind = np.argwhere(np.invert(np.isnan(zp)))\n",
    "ztab = np.atleast_2d(zp[ind].reshape(-1,))\n",
    "\n",
    "#Matrix of coordinates\n",
    "xtab = db[\"Longitude\"][ind].reshape(-1,)\n",
    "ytab = db[\"Latitude\"][ind].reshape(-1,)\n",
    "coords = np.array([xtab,ytab]).T\n",
    "\n",
    "# Matrix of distance flattened in a vector\n",
    "dist = distance_matrix(coords,coords).reshape(-1,) \n",
    "\n",
    "#Matrix of gamma_{ij} flattened in a vector \n",
    "gamma = 0.5 * (ztab-ztab.T).reshape(-1,)**2\n",
    "\n",
    "variance = np.var(ztab)"
   ]
  },
  {
   "cell_type": "markdown",
   "id": "d101ee53",
   "metadata": {},
   "source": [
    "The next figure represents the data set (restricted to the only samples where the target variable is defined)"
   ]
  },
  {
   "cell_type": "code",
   "execution_count": null,
   "id": "4ce7cb96",
   "metadata": {},
   "outputs": [],
   "source": [
    "fig,ax=plt.subplots(1,1,figsize=figsize)\n",
    "ax.scatter(xtab,ytab,s=5)\n",
    "ax.axis(\"equal\");"
   ]
  },
  {
   "cell_type": "markdown",
   "id": "2ee07d27",
   "metadata": {},
   "source": [
    "Plot the variogram cloud together with the experimental variance (dashed horizontal line)"
   ]
  },
  {
   "cell_type": "code",
   "execution_count": null,
   "id": "639be38b",
   "metadata": {},
   "outputs": [],
   "source": [
    "fig, ax = plt.subplots(1,1,figsize=figsize)\n",
    "drawCloud(ax, dist, gamma)\n",
    "drawVariance(ax)\n",
    "ax.set_adjustable(\"box\")\n",
    "ax.set_xlim(left=0)\n",
    "ax.set_ylim(bottom=0)"
   ]
  },
  {
   "cell_type": "markdown",
   "id": "6025749c",
   "metadata": {},
   "source": [
    "In order to have a more visible scatter plot, the plot is subdivided into small cells and the numbers of pairs falling in each cell are displayed. The vertical scale has been reduced voluntarily as the number of pairs tends to be very small for large variability values. "
   ]
  },
  {
   "cell_type": "code",
   "execution_count": null,
   "id": "bfb0ab3d",
   "metadata": {
    "code_folding": []
   },
   "outputs": [],
   "source": [
    "fig, ax = plt.subplots(1,1,figsize=figsize)\n",
    "drawCloud(ax, dist, gamma, flagHist=True)\n",
    "drawVariance(ax)\n",
    "ax.set_adjustable(\"box\")\n",
    "ax.set_xlim(left=0)\n",
    "ax.set_ylim(bottom=0, top=5)"
   ]
  },
  {
   "cell_type": "markdown",
   "id": "e4d4ccb7",
   "metadata": {},
   "source": [
    "### Empirical variogram"
   ]
  },
  {
   "cell_type": "markdown",
   "id": "051099fe",
   "metadata": {},
   "source": [
    "Split the variogram cloud into several lags"
   ]
  },
  {
   "cell_type": "code",
   "execution_count": null,
   "id": "1c3a926c",
   "metadata": {
    "code_folding": [],
    "jupyter": {
     "source_hidden": true
    },
    "tags": []
   },
   "outputs": [],
   "source": [
    "fig, ax = plt.subplots(1,1,figsize=figsize)\n",
    "drawCloud(ax, dist, gamma)\n",
    "drawAllLagCenters(ax)\n",
    "ax.set_adjustable(\"box\")\n",
    "ax.set_xlim(left=0)\n",
    "ax.set_ylim(bottom=0)"
   ]
  },
  {
   "cell_type": "markdown",
   "id": "2a69b845",
   "metadata": {},
   "source": [
    "In the following paragraph, you can play with the lag index, the lag size and the tolerance parameter"
   ]
  },
  {
   "cell_type": "code",
   "execution_count": null,
   "id": "dc82741d",
   "metadata": {
    "code_folding": [],
    "jupyter": {
     "outputs_hidden": true
    },
    "tags": []
   },
   "outputs": [],
   "source": [
    "widgetLagIndex = gw.sliderInt(title='Lag Index',\n",
    "                              value=lagindex_ref, mini=0, maxi=nlag_ref,\n",
    "                              eventhandler=sliderLagIndexEventhandler)\n",
    "widgetLag      = gw.sliderFloat(title='Lag Size',\n",
    "                               value = lag_ref, mini=5, maxi=200,\n",
    "                               eventhandler=sliderLagEventhandler)\n",
    "widgetTol      = gw.sliderFloat(title='Tolerance',\n",
    "                               value = tol_ref, mini=0, maxi=99,\n",
    "                               eventhandler=sliderTolEventhandler)\n",
    "\n",
    "widgetLagAndTol = widgets.HBox([ widgetLag, widgetTol])\n",
    "\n",
    "display(widgetLagAndTol)\n",
    "display(widgetLagIndex)\n",
    "\n",
    "reset1D(flagCloud_arg=True, flagOneLag_arg=True, flagValues_arg=False, flagLimitVariance_arg=False)\n",
    "fig, ax = plt.subplots(1,1,figsize=figsize)\n",
    "drawFigure(ax)"
   ]
  },
  {
   "cell_type": "markdown",
   "id": "ceb7414d",
   "metadata": {},
   "source": [
    "Note that with a tolerance of 50\\%, all the pairs (below the user maximum distance) are selected exactly once."
   ]
  },
  {
   "cell_type": "markdown",
   "id": "c951f4ba",
   "metadata": {},
   "source": [
    "### Average per lag"
   ]
  },
  {
   "cell_type": "markdown",
   "id": "2b88cd12",
   "metadata": {},
   "source": [
    "For each lag, we average all the values between the two bounds (average of distances \n",
    "$d_{ij}$, average of $\\gamma_{ij}$) and we count the number of selected pairs.\n",
    "\n"
   ]
  },
  {
   "cell_type": "code",
   "execution_count": null,
   "id": "121f5893",
   "metadata": {},
   "outputs": [],
   "source": [
    "widgetLagIndex = gw.sliderInt(title='Lag Index',\n",
    "                              value=lagindex_ref, mini=0, maxi=nlag_ref,\n",
    "                              eventhandler=sliderLagIndexEventhandler)\n",
    "widgetLag      = gw.sliderFloat(title='Lag Size',\n",
    "                               value = lag_ref, mini=5, maxi=200,\n",
    "                               eventhandler=sliderLagEventhandler)\n",
    "widgetTol     = gw.sliderFloat(title='Tolerance',\n",
    "                               value = tol_ref, mini=0, maxi=99,\n",
    "                               eventhandler=sliderTolEventhandler)\n",
    "widgetLagAndTol = widgets.HBox([ widgetLag, widgetTol])\n",
    "\n",
    "display(widgetLagAndTol)\n",
    "display(widgetLagIndex)\n",
    "\n",
    "reset1D(flagCloud_arg=True, flagOneLag_arg=True, flagValues_arg=True, flagLimitVariance_arg = False)\n",
    "fig, ax = plt.subplots(1,1,figsize=figsize)\n",
    "drawFigure(ax)"
   ]
  },
  {
   "cell_type": "markdown",
   "id": "ab0d0ea3",
   "metadata": {},
   "source": [
    "Loop to calculate the average for all lags"
   ]
  },
  {
   "cell_type": "code",
   "execution_count": null,
   "id": "c2b36194",
   "metadata": {},
   "outputs": [],
   "source": [
    "widgetLag     = gw.sliderFloat(title='Lag Size',\n",
    "                               value = lag_ref, mini=5, maxi=200,\n",
    "                               eventhandler=sliderLagEventhandler)\n",
    "widgetTol     = gw.sliderFloat(title='Tolerance',\n",
    "                               value = tol_ref, mini=0, maxi=99,\n",
    "                               eventhandler=sliderTolEventhandler)\n",
    "widgetLagAndTol = widgets.HBox([ widgetLag, widgetTol])\n",
    "\n",
    "display(widgetLagAndTol)\n",
    "\n",
    "reset1D(flagCloud_arg=False, flagOneLag_arg=False, flagValues_arg=True, flagLimitVariance_arg = True)\n",
    "fig, ax = plt.subplots(1,1,figsize=figsize)\n",
    "drawFigure(ax)"
   ]
  },
  {
   "cell_type": "markdown",
   "id": "5da1d62c",
   "metadata": {},
   "source": [
    "Let's collect the result in a table."
   ]
  },
  {
   "cell_type": "code",
   "execution_count": null,
   "id": "1e68d5ac",
   "metadata": {
    "code_folding": [],
    "jupyter": {
     "source_hidden": true
    },
    "tags": []
   },
   "outputs": [],
   "source": [
    "HH,GG,NB = omnivario(nlag_ref,lag_ref,tol_ref)\n",
    "\n",
    "dd=pd.DataFrame(np.vstack((np.array(NB),np.round(HH,3),np.round(GG,3))).T)\n",
    "dd.columns = [\"Npairs\",\"Distance\",\"Value\"]\n",
    "dd"
   ]
  },
  {
   "cell_type": "markdown",
   "id": "c5b1be80",
   "metadata": {},
   "source": [
    "## Directional variography"
   ]
  },
  {
   "cell_type": "markdown",
   "id": "3a5ec4d6",
   "metadata": {},
   "source": [
    "To obtain an empirical variogram (omnidirectional), the computations (selection of pairs) were based on the distance matrix between all the pairs. For directional quantities one have to consider $d$ matrices (where $d$ is the dimension of the space) storing the coordinates of the separating vectors between all the pairs of points. Then the computations (variogram maps, direcional variograms, ...) are based on conditions on these vectors. "
   ]
  },
  {
   "cell_type": "markdown",
   "id": "baebb3b1",
   "metadata": {},
   "source": [
    "First, we represent the base map and a segment (in red) between to specific points."
   ]
  },
  {
   "cell_type": "code",
   "execution_count": null,
   "id": "37a1df79",
   "metadata": {
    "code_folding": [],
    "jupyter": {
     "source_hidden": true
    },
    "tags": [
     "hide-cell"
    ]
   },
   "outputs": [],
   "source": [
    "#Get 2 random locations (ranked 1 and 100)\n",
    "ind = [1,100]\n",
    "\n",
    "fig,ax=plt.subplots(1,2,figsize=figsize)\n",
    "ax[0].scatter(xtab,ytab,s=1)\n",
    "a = ax[0].axis(\"equal\")\n",
    "\n",
    "ax[1].scatter(xtab,ytab,s=1)\n",
    "ax[1].plot(xtab[ind],ytab[ind],c=\"r\")\n",
    "a = ax[1].axis(\"equal\")"
   ]
  },
  {
   "cell_type": "markdown",
   "id": "5587f3a5",
   "metadata": {},
   "source": [
    "On the next graphic, we represent all the vectors of separation between the locations.\n",
    "\n",
    "More precisely, on the following figure (left), we put one of the point on the origin and we represent the second point  relatively. We join them by a segment (to keep the idea of vector).\n",
    "\n",
    "If we inverse the roles of each point we obtain another point and another segment.\n",
    "\n",
    "Then we repeat the process for all the pairs of points (without drawing the segments). We obtain the right figure."
   ]
  },
  {
   "cell_type": "code",
   "execution_count": null,
   "id": "22b3337a",
   "metadata": {
    "code_folding": [],
    "jupyter": {
     "source_hidden": true
    },
    "tags": []
   },
   "outputs": [],
   "source": [
    "#Compute vectors\n",
    "deltaX = np.atleast_2d(xtab)-np.atleast_2d(xtab).T\n",
    "deltaY = np.atleast_2d(ytab)-np.atleast_2d(ytab).T\n",
    "dindx  = deltaX[ind[0],:][ind[1]]\n",
    "dindy  = deltaY[ind[0],:][ind[1]]\n",
    "deltax = deltaX.reshape(-1,)\n",
    "deltaY = deltaY.reshape(-1,)"
   ]
  },
  {
   "cell_type": "code",
   "execution_count": null,
   "id": "bf053e8e",
   "metadata": {
    "code_folding": [],
    "jupyter": {
     "source_hidden": true
    },
    "tags": []
   },
   "outputs": [],
   "source": [
    "#Display the result\n",
    "fig, ax = plt.subplots(1,2,figsize=figsize)\n",
    "\n",
    "ax[0].scatter(deltaX,deltaY,s=.0)\n",
    "ax[0].plot([0,dindx],[0,dindy],c=\"r\")\n",
    "ax[0].plot([0,-dindx],[0,-dindy],c=\"black\")\n",
    "ax[0].scatter(0,0)\n",
    "ax[0].axis(\"equal\")\n",
    "ax[0].set_adjustable(\"box\")\n",
    "ax[0].set_xlim(left=-500, right=500)\n",
    "ax[0].set_ylim(bottom=-500, top=500)\n",
    "\n",
    "ax[1].scatter(deltaX,deltaY,s=.01)\n",
    "ax[1].plot([0,dindx],[0,dindy],c=\"r\")\n",
    "ax[1].plot([0,-dindx],[0,-dindy],c=\"black\")\n",
    "ax[1].axis(\"equal\")\n",
    "ax[1].set_adjustable(\"box\")\n",
    "ax[1].set_xlim(left=-500, right=500)\n",
    "ax[1].set_ylim(bottom=-500, top=500)"
   ]
  },
  {
   "cell_type": "markdown",
   "id": "b599992c",
   "metadata": {},
   "source": [
    "### Variogram Map"
   ]
  },
  {
   "cell_type": "markdown",
   "id": "c33bacc3",
   "metadata": {},
   "source": [
    "The variogram map is an exploratory tool which can be useful to detect anisotropies.\n",
    "\n",
    "Instead of averaging the $d_{ij}$ and the $\\gamma_{ij}$ with respect to the distance separating the locations (as in the omni-directional variogram), in the variogram map, it is averaged based on conditions on each coordinates of the separating vectors.\n",
    "\n",
    "More precisely, we average over cells of a predefined grid as illustrated below. \n",
    "\n",
    "Note that it is useful to consider the number of pairs in each cell to assess the quality of the result. "
   ]
  },
  {
   "cell_type": "markdown",
   "id": "7fe34300",
   "metadata": {},
   "source": [
    "With **gstlearn**, we just have to specify the input *Db*, the calcul mode (here variogram), and the number of cells of the grid (here [20,20])."
   ]
  },
  {
   "cell_type": "code",
   "execution_count": null,
   "id": "a0f6fc38",
   "metadata": {
    "jupyter": {
     "source_hidden": true
    },
    "tags": []
   },
   "outputs": [],
   "source": [
    "vmap = gl.db_vmap(db,gl.ECalcVario.VARIOGRAM,[20,20])\n",
    "vmap"
   ]
  },
  {
   "cell_type": "markdown",
   "id": "594ca8ab",
   "metadata": {},
   "source": [
    "Now, let's illustrate the process."
   ]
  },
  {
   "cell_type": "code",
   "execution_count": null,
   "id": "b8fca7ad",
   "metadata": {},
   "outputs": [],
   "source": [
    "fig, ax = plt.subplots(2,2,figsize=figsize)\n",
    "\n",
    "ax[0][0].scatter(deltaX,deltaY,s=.01)\n",
    "ax[0][0].scatter(0,0)\n",
    "ax[0][0].axis(\"equal\")\n",
    "ax[0][0].set_adjustable(\"box\")\n",
    "ax[0][0].set_xlim(left=-500, right=500)\n",
    "ax[0][0].set_ylim(bottom=-500, top=500)\n",
    "\n",
    "ax[0][1].scatter(deltaX,deltaY,s=.01)\n",
    "drawGrid(vmap,ax[0][1])\n",
    "ax[0][1].scatter(0,0)\n",
    "ax[0][1].axis(\"equal\")\n",
    "ax[0][1].set_adjustable(\"box\")\n",
    "ax[0][1].set_xlim(left=-500, right=500)\n",
    "ax[0][1].set_ylim(bottom=-500, top=500)\n",
    "\n",
    "ax[1][0].raster(vmap,name=\"*.Var\",flagLegend=True)\n",
    "drawGrid(vmap,ax[1][0])\n",
    "ax[1][0].decoration(title='Variogram')\n",
    "ax[1][0].axis(\"equal\")\n",
    "ax[1][0].set_adjustable(\"box\")\n",
    "ax[1][0].set_xlim(left=-500, right=500)\n",
    "ax[1][0].set_ylim(bottom=-500, top=500)\n",
    "\n",
    "ax[1][1].raster(vmap,\"*.Nb\",flagLegend=True)\n",
    "drawGrid(vmap,ax[1][1])\n",
    "ax[1][1].decoration(title=\"Number of pairs\")\n",
    "ax[1][1].axis(\"equal\")\n",
    "ax[1][1].set_adjustable(\"box\")\n",
    "ax[1][1].set_xlim(left=-500, right=500)\n",
    "ax[1][1].set_ylim(bottom=-500, top=500)\n",
    "\n",
    "plt.show()"
   ]
  },
  {
   "cell_type": "markdown",
   "id": "dce810e7",
   "metadata": {},
   "source": [
    "### Directional variograms"
   ]
  },
  {
   "cell_type": "markdown",
   "id": "03581753",
   "metadata": {},
   "source": [
    "The variogram map is not really robust as the number of pairs in each cell can be small.\n",
    "\n",
    "So, we will consider directional variogram which is a more robust tool. The idea is to choose a direction and then to consider (for a given lag distance) all the pairs with direction \"close\" to this direction."
   ]
  },
  {
   "cell_type": "markdown",
   "id": "2ba429bd",
   "metadata": {},
   "source": [
    "First, we start to illustrate with the omnidirectional case.\n",
    "\n",
    "In this case, only the distance between locations is considered to select the pairs at a given lag. "
   ]
  },
  {
   "cell_type": "code",
   "execution_count": null,
   "id": "c1c3683b",
   "metadata": {
    "code_folding": [],
    "tags": []
   },
   "outputs": [],
   "source": [
    "widgetLagIndex = gw.sliderInt(title='Lag Index',\n",
    "                              value=lagindex_ref, mini=0, maxi=nlag_ref,\n",
    "                              eventhandler=sliderLagIndexEventhandler)\n",
    "\n",
    "display(widgetLagIndex)\n",
    "\n",
    "reset2D(flagOneLag_arg=True, flagDirectional_arg=False, flagCylinder_arg=False)\n",
    "fig, ax = plt.subplots(1,1,figsize=figsize)\n",
    "drawFigure(ax)"
   ]
  },
  {
   "cell_type": "markdown",
   "id": "6be898f5",
   "metadata": {},
   "source": [
    "We can also define a direction in particular (defined by its angle) as well as the angular tolerance."
   ]
  },
  {
   "cell_type": "code",
   "execution_count": null,
   "id": "5b0cf739",
   "metadata": {
    "code_folding": [],
    "jupyter": {
     "source_hidden": true
    },
    "tags": []
   },
   "outputs": [],
   "source": [
    "widgetAngle = gw.sliderInt(title='Angle',\n",
    "                              value=angle_ref, mini=0, maxi=360,\n",
    "                              eventhandler=sliderAngleEventhandler)\n",
    "widgetTolAngle = gw.sliderInt(title='Tol. Angle',\n",
    "                              value=tolangle_ref, mini=0, maxi=90,\n",
    "                              eventhandler=sliderTolAngleEventhandler)\n",
    "widgetLagIndex = gw.sliderInt(title='Lag Index',\n",
    "                              value=lagindex_ref, mini=0, maxi=nlag_ref,\n",
    "                              eventhandler=sliderLagIndexEventhandler)\n",
    "widgetAngleAndTol = widgets.HBox([widgetAngle, widgetTolAngle])\n",
    "\n",
    "display(widgetAngleAndTol)\n",
    "display(widgetLagIndex)\n",
    "\n",
    "reset2D(flagOneLag_arg=True, flagDirectional_arg=True, flagCylinder_arg=False)\n",
    "fig, ax = plt.subplots(1,1,figsize=figsize)\n",
    "drawFigure(ax)"
   ]
  },
  {
   "cell_type": "markdown",
   "id": "1c8f8ee5",
   "metadata": {},
   "source": [
    "We can avoid to be too far from the principal direction by adding a third constraint (cylrad)."
   ]
  },
  {
   "cell_type": "code",
   "execution_count": null,
   "id": "f62fb733",
   "metadata": {
    "code_folding": [],
    "tags": []
   },
   "outputs": [],
   "source": [
    "widgetAngle = gw.sliderInt(title='Angle',\n",
    "                              value=angle_ref, mini=0, maxi=360,\n",
    "                              eventhandler=sliderAngleEventhandler)\n",
    "widgetTolAngle = gw.sliderInt(title='Tol. Angle',\n",
    "                              value=tolangle_ref, mini=0, maxi=90,\n",
    "                              eventhandler=sliderTolAngleEventhandler)\n",
    "widgetCylinder = gw.sliderInt(title='Cylinder',\n",
    "                              value=cylrad_ref, mini=0, maxi=100,\n",
    "                              eventhandler=sliderCylinderEventhandler)\n",
    "widgetLagIndex = gw.sliderInt(title='Lag Index',\n",
    "                              value=lagindex_ref, mini=0, maxi=nlag_ref,\n",
    "                              eventhandler=sliderLagIndexEventhandler)\n",
    "widgetAngleAndTolAndCyl = widgets.HBox([widgetAngle, widgetTolAngle, widgetCylinder])\n",
    "\n",
    "display(widgetAngleAndTolAndCyl)\n",
    "display(widgetLagIndex)\n",
    "\n",
    "reset2D(flagOneLag_arg=True, flagDirectional_arg=True, flagCylinder_arg=True)\n",
    "fig, ax = plt.subplots(1,1,figsize=figsize)\n",
    "drawFigure(ax)"
   ]
  },
  {
   "cell_type": "markdown",
   "id": "c27c86f7",
   "metadata": {},
   "source": [
    "Then we repeat the process to get the variogram for all lags of a direction."
   ]
  },
  {
   "cell_type": "code",
   "execution_count": null,
   "id": "d9dc15d9",
   "metadata": {
    "code_folding": [],
    "jupyter": {
     "source_hidden": true
    },
    "tags": []
   },
   "outputs": [],
   "source": [
    "widgetAngle = gw.sliderInt(title='Angle',\n",
    "                              value=angle_ref, mini=0, maxi=360,\n",
    "                              eventhandler=sliderAngleEventhandler)\n",
    "widgetTolAngle = gw.sliderInt(title='Tol. Angle',\n",
    "                              value=tolangle_ref, mini=0, maxi=90,\n",
    "                              eventhandler=sliderTolAngleEventhandler)\n",
    "widgetCylinder = gw.sliderInt(title='Cylinder',\n",
    "                              value=cylrad_ref, mini=0, maxi=100,\n",
    "                              eventhandler=sliderCylinderEventhandler)\n",
    "widgetAngleAndTolAndCyl = widgets.HBox([widgetAngle, widgetTolAngle, widgetCylinder])\n",
    "\n",
    "display(widgetAngleAndTolAndCyl)\n",
    "\n",
    "reset2D(flagOneLag_arg=False, flagDirectional_arg=True, flagCylinder_arg=True)\n",
    "fig, ax = plt.subplots(1,1,figsize=figsize)\n",
    "drawFigure(ax)"
   ]
  },
  {
   "cell_type": "markdown",
   "id": "c2fdf853",
   "metadata": {},
   "source": [
    "Then we can compute the empirical variogram."
   ]
  },
  {
   "cell_type": "code",
   "execution_count": null,
   "id": "240c1498",
   "metadata": {
    "jupyter": {
     "source_hidden": true
    }
   },
   "outputs": [],
   "source": [
    "direction1 = gl.DirParam.create(nlag_ref,lag_ref,tol_ref,\n",
    "                                tolangle_ref,angle2D = angle_ref, cylrad=cylrad_ref)\n",
    "varioParamDir = gl.VarioParam()\n",
    "varioParamDir.addDir(direction1)\n",
    "varioexpDir = gl.Vario.computeFromDb(varioParamDir,db)\n",
    "\n",
    "fig, ax = plt.subplots(1,1,figsize=figsize)\n",
    "ax.variogram(varioexpDir, showPairs=True)\n",
    "ax.decoration(title=\"Experimental Variogram (first direction)\")\n",
    "plt.show()"
   ]
  },
  {
   "cell_type": "markdown",
   "id": "dc2597f9",
   "metadata": {},
   "source": [
    "Let's compute in another direction (orthogonal to the first one)"
   ]
  },
  {
   "cell_type": "code",
   "execution_count": null,
   "id": "6b52ce6f",
   "metadata": {},
   "outputs": [],
   "source": [
    "direction2 = gl.DirParam.create(nlag_ref,lag_ref,tol_ref,\n",
    "                                tolangle_ref,angle2D = angle_ref+90, cylrad=cylrad_ref)\n",
    "varioParamDir = gl.VarioParam()\n",
    "varioParamDir.addDir(direction2)\n",
    "varioexpDir = gl.Vario.computeFromDb(varioParamDir,db)\n",
    "\n",
    "fig, ax = plt.subplots(1,1,figsize=figsize)\n",
    "ax.variogram(varioexpDir, showPairs=True)\n",
    "ax.decoration(title=\"Experimental Variogram (second direction)\")\n",
    "plt.show()"
   ]
  },
  {
   "cell_type": "code",
   "execution_count": null,
   "id": "97cc26c5",
   "metadata": {},
   "outputs": [],
   "source": [
    "# Construct a VarioParm with both directions\n",
    "varioParamDir = gl.VarioParam()\n",
    "varioParamDir.addDir(direction1)\n",
    "varioParamDir.addDir(direction2)\n",
    "\n",
    "# Compute the experimental variogram with two calculation directions\n",
    "varioexpDir = gl.Vario.computeFromDb(varioParamDir,db)\n",
    "\n",
    "# Display the experimental variogram\n",
    "fig, ax = plt.subplots(1,1,figsize=figsize)\n",
    "ax.variogram(varioexpDir, idir=-1, showPairs=True)\n",
    "ax.decoration(title=\"Experimental Variogram (both directions)\")\n",
    "plt.show()"
   ]
  }
 ],
 "metadata": {
  "celltoolbar": "Format de la Cellule Texte Brut",
  "hide_input": false,
  "kernelspec": {
   "display_name": "Python 3 (ipykernel)",
   "language": "python",
   "name": "python3"
  },
  "language_info": {
   "codemirror_mode": {
    "name": "ipython",
    "version": 3
   },
   "file_extension": ".py",
   "mimetype": "text/x-python",
   "name": "python",
   "nbconvert_exporter": "python",
   "pygments_lexer": "ipython3",
   "version": "3.10.5"
  },
  "toc": {
   "base_numbering": 1,
   "nav_menu": {},
   "number_sections": true,
   "sideBar": true,
   "skip_h1_title": true,
   "title_cell": "Table of Contents",
   "title_sidebar": "Contents",
   "toc_cell": false,
   "toc_position": {
    "height": "calc(100% - 180px)",
    "left": "10px",
    "top": "150px",
    "width": "263.4px"
   },
   "toc_section_display": true,
   "toc_window_display": false
  }
 },
 "nbformat": 4,
 "nbformat_minor": 5
}
