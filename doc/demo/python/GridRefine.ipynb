{
 "cells": [
  {
   "cell_type": "markdown",
   "id": "7718c2a8",
   "metadata": {},
   "source": [
    "# Grid Refinement"
   ]
  },
  {
   "cell_type": "markdown",
   "id": "ed8b80f3",
   "metadata": {},
   "source": [
    "This case study is meant to demonstrate how to use *gstlearn* for coarseining or refining Grids (stored as DbGrid)."
   ]
  },
  {
   "cell_type": "code",
   "execution_count": null,
   "id": "9289c006",
   "metadata": {},
   "outputs": [],
   "source": [
    "import gstlearn as gl\n",
    "import gstlearn.plot as gp\n",
    "import matplotlib.pyplot as plt\n",
    "import numpy as np"
   ]
  },
  {
   "cell_type": "markdown",
   "id": "d446a018",
   "metadata": {},
   "source": [
    "Global parameters"
   ]
  },
  {
   "cell_type": "code",
   "execution_count": null,
   "id": "24768947",
   "metadata": {},
   "outputs": [],
   "source": [
    "ndim = 2\n",
    "gl.ASpaceObject_defineDefaultSpace(gl.ESpaceType.SPACE_RN, ndim)"
   ]
  },
  {
   "cell_type": "markdown",
   "id": "a99fb195",
   "metadata": {},
   "source": [
    "Generate initial grid"
   ]
  },
  {
   "cell_type": "code",
   "execution_count": null,
   "id": "6127b2bc",
   "metadata": {
    "scrolled": true
   },
   "outputs": [],
   "source": [
    "grid = gl.DbGrid.create([100,100], [0.01,0.01])"
   ]
  },
  {
   "cell_type": "raw",
   "id": "d7459d83",
   "metadata": {},
   "source": [
    "Creating the Data: they consist of one constant field, a simulated one, followed by two other constant fields. Only the simulated field as a Locator assigned."
   ]
  },
  {
   "cell_type": "code",
   "execution_count": null,
   "id": "22140245",
   "metadata": {
    "scrolled": true
   },
   "outputs": [],
   "source": [
    "iatt = grid.addColumnsByConstant(1,1.2,\"Bidon1\")\n",
    "model_init = gl.Model_createFromParam(gl.ECov.EXPONENTIAL, 0.1, 1.)\n",
    "iatt = gl.simtub(None, grid, model_init)\n",
    "iatt = grid.addColumnsByConstant(2,1.2,\"Bidon2\")"
   ]
  },
  {
   "cell_type": "code",
   "execution_count": null,
   "id": "d3c91a82",
   "metadata": {},
   "outputs": [],
   "source": [
    "grid.display()"
   ]
  },
  {
   "cell_type": "code",
   "execution_count": null,
   "id": "9058e038",
   "metadata": {
    "scrolled": true
   },
   "outputs": [],
   "source": [
    "ax = gp.grid(grid)"
   ]
  },
  {
   "cell_type": "markdown",
   "id": "2050bc68",
   "metadata": {},
   "source": [
    "A new grid is created, coarser than the initial one"
   ]
  },
  {
   "cell_type": "code",
   "execution_count": null,
   "id": "f66cf5bb",
   "metadata": {},
   "outputs": [],
   "source": [
    "nmult = [3,3]\n",
    "gridCoarse = grid.coarsify(nmult)"
   ]
  },
  {
   "cell_type": "code",
   "execution_count": null,
   "id": "9957d5ac",
   "metadata": {},
   "outputs": [],
   "source": [
    "gridCoarse"
   ]
  },
  {
   "cell_type": "code",
   "execution_count": null,
   "id": "d6a718d2",
   "metadata": {},
   "outputs": [],
   "source": [
    "ax = gp.grid(gridCoarse)"
   ]
  },
  {
   "cell_type": "markdown",
   "id": "ea55c170",
   "metadata": {},
   "source": [
    "Another finer grid is created, starting from the Coarse grid."
   ]
  },
  {
   "cell_type": "code",
   "execution_count": null,
   "id": "1fb8f2b7",
   "metadata": {},
   "outputs": [],
   "source": [
    "gridFine = gridCoarse.refine(nmult)"
   ]
  },
  {
   "cell_type": "code",
   "execution_count": null,
   "id": "ddec2be7",
   "metadata": {},
   "outputs": [],
   "source": [
    "gridFine"
   ]
  },
  {
   "cell_type": "code",
   "execution_count": null,
   "id": "489a2784",
   "metadata": {},
   "outputs": [],
   "source": [
    "ax = gp.grid(gridFine)"
   ]
  }
 ],
 "metadata": {
  "kernelspec": {
   "display_name": "Python 3 (ipykernel)",
   "language": "python",
   "name": "python3"
  },
  "language_info": {
   "codemirror_mode": {
    "name": "ipython",
    "version": 3
   },
   "file_extension": ".py",
   "mimetype": "text/x-python",
   "name": "python",
   "nbconvert_exporter": "python",
   "pygments_lexer": "ipython3",
   "version": "3.10.5"
  }
 },
 "nbformat": 4,
 "nbformat_minor": 5
}
