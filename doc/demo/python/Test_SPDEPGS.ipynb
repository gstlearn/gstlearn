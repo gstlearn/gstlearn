{
 "cells": [
  {
   "cell_type": "markdown",
   "id": "8a9fb05a",
   "metadata": {},
   "source": [
    "# Pluri-Gaussian"
   ]
  },
  {
   "cell_type": "markdown",
   "id": "cf3a82f5",
   "metadata": {},
   "source": [
    "<!-- SUMMARY: Pluri-Gaussian simulations performed in 2D -->\n",
    "\n",
    "<!-- CATEGORY: Methodology -->"
   ]
  },
  {
   "cell_type": "code",
   "execution_count": null,
   "id": "909516e7",
   "metadata": {},
   "outputs": [],
   "source": [
    "import pandas as pd\n",
    "import numpy as np\n",
    "import matplotlib.pyplot as plt\n",
    "import gstlearn as gl\n",
    "import gstlearn.plot as gp\n",
    "import gstlearn.document as gdoc\n",
    "import os\n",
    "\n",
    "gdoc.setNoScroll()"
   ]
  },
  {
   "cell_type": "markdown",
   "id": "9e882ae7",
   "metadata": {},
   "source": [
    "## Prepare the basic gstlearn objects\n",
    "\n",
    "Initial objects are located in a specific Directory which is defined in the next Container operation. Note that his operation will modify automatically all the names of the Files retreived using Serialize / Deserialize operation (not when reading using CSV). Also note that the Container name must be ended using a \"/\" (as its serves as a Directory)."
   ]
  },
  {
   "cell_type": "code",
   "execution_count": null,
   "id": "3d868d77",
   "metadata": {},
   "outputs": [],
   "source": [
    "ndim = 2\n",
    "gl.defineDefaultSpace(gl.ESpaceType.RN,ndim)"
   ]
  },
  {
   "cell_type": "markdown",
   "id": "787d69b0",
   "metadata": {},
   "source": [
    "### Load the data file\n",
    "\n",
    "This Load is performed starting from a CSV file."
   ]
  },
  {
   "cell_type": "code",
   "execution_count": null,
   "id": "2e63af8b",
   "metadata": {},
   "outputs": [],
   "source": [
    "filename = gdoc.loadData(\"BRGM\", \"Nitrates_LANU.csv\")\n",
    "datCat = pd.read_csv(filename,sep=\";\")\n",
    "datCat.head()"
   ]
  },
  {
   "cell_type": "markdown",
   "id": "3d1a2895",
   "metadata": {},
   "source": [
    "### Loading polygon from a file\n",
    "\n",
    "The polygon is created by deserializing the Neutral Polygon File"
   ]
  },
  {
   "cell_type": "code",
   "execution_count": null,
   "id": "ccd18153",
   "metadata": {},
   "outputs": [],
   "source": [
    "filename = gdoc.loadData(\"BRGM\", \"poly_LANU.ascii\")\n",
    "poly = gl.Polygons.createFromNF(filename)\n",
    "poly"
   ]
  },
  {
   "cell_type": "markdown",
   "id": "39fb403b",
   "metadata": {},
   "source": [
    "### Creation of the gstlearn data base "
   ]
  },
  {
   "cell_type": "code",
   "execution_count": null,
   "id": "c33cf67a",
   "metadata": {},
   "outputs": [],
   "source": [
    "dat = gl.Db()\n",
    "fields = [\"X\",\"Y\",\"LANU\"]\n",
    "dat[fields] = datCat[fields].values"
   ]
  },
  {
   "cell_type": "markdown",
   "id": "176fc64a",
   "metadata": {},
   "source": [
    "###  Specification of the role of each variable (named \"locators\" in gstlearn)"
   ]
  },
  {
   "cell_type": "code",
   "execution_count": null,
   "id": "ee01cc6f",
   "metadata": {},
   "outputs": [],
   "source": [
    "dat.setLocators([\"X\",\"Y\"],gl.ELoc.X) #Coordinates\n",
    "dat.setLocator(\"LANU\",gl.ELoc.Z) #Variable of interest\n",
    "dat"
   ]
  },
  {
   "cell_type": "markdown",
   "id": "02b00030",
   "metadata": {},
   "source": [
    "### Creation of the output grid\n",
    "\n",
    "The output grid will contain 47 x 101 nodes. It is built to cover the data file plus an extension of 10000 x 10000."
   ]
  },
  {
   "cell_type": "code",
   "execution_count": null,
   "id": "3d5bb307",
   "metadata": {},
   "outputs": [],
   "source": [
    "Result = gl.DbGrid.createCoveringDb(dat,[47,101],[],[],[50000,50000])"
   ]
  },
  {
   "cell_type": "markdown",
   "id": "40fa9706",
   "metadata": {},
   "source": [
    "### Add a selection (mask the cells outside the polygon)"
   ]
  },
  {
   "cell_type": "markdown",
   "id": "99ca11d5",
   "metadata": {},
   "source": [
    "The initial selection (based on the application of the Polygon to the grid data base) must be dilated in order to avoid edge effect."
   ]
  },
  {
   "cell_type": "code",
   "execution_count": null,
   "id": "dab8c7ff",
   "metadata": {},
   "outputs": [],
   "source": [
    "gl.db_polygon(Result,poly)\n",
    "Result.setLocator(\"Polygon\",gl.ELoc.Z)\n",
    "Result.morpho(gl.EMorpho.DILATION,0.5,1.5,option=0,verbose=False,radius=[1,1])\n",
    "Result[\"Polygon\"] = Result[\"Morpho.Polygon.*\"]\n",
    "Result.deleteColumn(\"Morpho.Polygon.*\")\n",
    "Result.setLocator(\"Polygon\",gl.ELoc.SEL)"
   ]
  },
  {
   "cell_type": "code",
   "execution_count": null,
   "id": "a7e22a9e",
   "metadata": {},
   "outputs": [],
   "source": [
    "ax = Result.plot(nameRaster=\"Polygon\",useSel=False,flagLegendRaster=False)\n",
    "ax.gstpoint(dat,nameColor=\"LANU\",size=2)\n",
    "ax.polygon(poly,linewidth=1,edgecolor=\"r\")\n",
    "ax.geometry(dims=[10,10])\n",
    "ax.decoration(title=\"Initial information\")"
   ]
  },
  {
   "cell_type": "markdown",
   "id": "c347ccd8",
   "metadata": {},
   "source": [
    "## Computation of the proportions"
   ]
  },
  {
   "cell_type": "markdown",
   "id": "4728122b",
   "metadata": {},
   "source": [
    "### Compute global proportions (for information)"
   ]
  },
  {
   "cell_type": "code",
   "execution_count": null,
   "id": "13268790",
   "metadata": {},
   "outputs": [],
   "source": [
    "propGlob = gl.dbStatisticsFacies(dat)\n",
    "ncat = len(propGlob)\n",
    "for i in range(ncat):\n",
    "    print(\"Proportion of facies \"+str(i+1),\"=\",propGlob[i])"
   ]
  },
  {
   "cell_type": "markdown",
   "id": "63ba2132",
   "metadata": {},
   "source": [
    "### Compute local proportions\n",
    "\n",
    "The next parts will be simplified in a future dedicated API"
   ]
  },
  {
   "cell_type": "markdown",
   "id": "108e343b",
   "metadata": {},
   "source": [
    "**2.2.1 Creation of the spatial regularization model for proportions**"
   ]
  },
  {
   "cell_type": "code",
   "execution_count": null,
   "id": "47bd8127",
   "metadata": {},
   "outputs": [],
   "source": [
    "model = gl.Model.createFromDb(Result)\n",
    "cova = gl.CovAniso.createIsotropic(model.getContext(),gl.ECov.MATERN,range=50000.,param=2.,sill=1.,) \n",
    "model.addCov(cova)"
   ]
  },
  {
   "cell_type": "code",
   "execution_count": null,
   "id": "adcf8bae",
   "metadata": {},
   "outputs": [],
   "source": [
    "err = gl.db_proportion_estimate(dat,Result,model)"
   ]
  },
  {
   "cell_type": "code",
   "execution_count": null,
   "id": "96b97af1",
   "metadata": {},
   "outputs": [],
   "source": [
    "dbfmt = gl.DbStringFormat()\n",
    "dbfmt.setFlags(flag_stats=True)\n",
    "dbfmt.setNames([\"Prop.*\"])\n",
    "Result.display(dbfmt)"
   ]
  },
  {
   "cell_type": "markdown",
   "id": "1081dc01",
   "metadata": {},
   "source": [
    "### Display the results"
   ]
  },
  {
   "cell_type": "code",
   "execution_count": null,
   "id": "cd886eb3",
   "metadata": {},
   "outputs": [],
   "source": [
    "for i in range(ncat):\n",
    "    fig, ax = plt.subplots()\n",
    "    ax = Result.plot(nameRaster=\"Prop.\"+str(i+1))\n",
    "    ax.decoration(title=\"Proportion Facies #\"+str(i+1))\n",
    "    ax.geometry(dims=[10,10], aspect=1)\n",
    "    ax.gstpoint(dat,nameColor=\"LANU\",size=2,color=\"black\")\n",
    "    dat.addSelectionByLimit(\"LANU\",gl.Limits((i+1,i+1)),\"SelPoint\")\n",
    "    ax.gstpoint(dat,nameColor=\"LANU\",size=0.8,color=\"red\")\n",
    "    dat.deleteColumn(\"SelPoint\")\n",
    "    ax.polygon(poly,linewidth=1,edgecolor=\"r\")"
   ]
  },
  {
   "cell_type": "markdown",
   "id": "6e4e9ce7",
   "metadata": {},
   "source": [
    "Creating the environment to infer the Rule. It uses a variogram calculated over very few lags close to the origin."
   ]
  },
  {
   "cell_type": "code",
   "execution_count": null,
   "id": "b970a787",
   "metadata": {},
   "outputs": [],
   "source": [
    "varioParam = gl.VarioParam()\n",
    "dirparam = gl.DirParam.create(nlag = 2, dpas=100)\n",
    "varioParam.addDir(dirparam);\n",
    "ruleprop = gl.RuleProp.createFromDb(Result);\n",
    "ruleprop.fit(dat, varioParam, 1);\n",
    "ngrf = ruleprop.getRule().getNGRF()\n",
    "print(\"Number of GRF =\",ngrf)"
   ]
  },
  {
   "cell_type": "code",
   "execution_count": null,
   "id": "e7bfb087",
   "metadata": {},
   "outputs": [],
   "source": [
    "ax=ruleprop.getRule().plot()"
   ]
  },
  {
   "cell_type": "code",
   "execution_count": null,
   "id": "f11343ac",
   "metadata": {},
   "outputs": [],
   "source": [
    "dirparam = gl.DirParam.create(nlag = 19, dpas=1000)\n",
    "covparam = gl.VarioParam();\n",
    "covparam.addDir(dirparam);\n",
    "cov = gl.variogram_pgs(dat,covparam,ruleprop);"
   ]
  },
  {
   "cell_type": "code",
   "execution_count": null,
   "id": "6ddd8b0b",
   "metadata": {},
   "outputs": [],
   "source": [
    "cov.display()"
   ]
  },
  {
   "cell_type": "markdown",
   "id": "e9bc4fce",
   "metadata": {},
   "source": [
    "We extract the experimental variograms of each GRF."
   ]
  },
  {
   "cell_type": "code",
   "execution_count": null,
   "id": "c1e1072c",
   "metadata": {},
   "outputs": [],
   "source": [
    "vario1 = gl.Vario.createReduce(cov,[0],[],True)\n",
    "if ngrf > 1:\n",
    "    vario2 = gl.Vario(cov)\n",
    "    vario2.resetReduce([1],[],True)"
   ]
  },
  {
   "cell_type": "code",
   "execution_count": null,
   "id": "602ff680",
   "metadata": {},
   "outputs": [],
   "source": [
    "vario1.display()\n",
    "if ngrf > 1:\n",
    "    vario2.display()"
   ]
  },
  {
   "cell_type": "markdown",
   "id": "0f017f0c",
   "metadata": {},
   "source": [
    "We now fit the model of each GRF considered as independent. \n",
    "\n",
    "The fit is performed under the constraint that the sill should be 1."
   ]
  },
  {
   "cell_type": "code",
   "execution_count": null,
   "id": "96206c9e",
   "metadata": {},
   "outputs": [],
   "source": [
    "ctxt = gl.CovContext(1,2) # use default space\n",
    "constraints = gl.Constraints()\n",
    "constraints.setConstantSillValue(1.)\n",
    "covs  = [gl.ECov.MATERN]\n",
    "\n",
    "modelPGS1 = gl.Model(ctxt)\n",
    "modelPGS1.fit(vario1,covs,constraints)\n",
    "modelPGS1.display()\n",
    "\n",
    "if ngrf > 1:\n",
    "    modelPGS2 = gl.Model(ctxt)\n",
    "    modelPGS2.fit(vario2,covs,constraints)\n",
    "    modelPGS2.display()\n",
    "else:\n",
    "    modelPGS2 = None"
   ]
  },
  {
   "cell_type": "markdown",
   "id": "76d060f6",
   "metadata": {},
   "source": [
    "For each GRF, we can plot the experimental variogram as well as the fitted model."
   ]
  },
  {
   "cell_type": "code",
   "execution_count": null,
   "id": "d2bd2107",
   "metadata": {},
   "outputs": [],
   "source": [
    "ax = gp.varmod(vario1,modelPGS1)\n",
    "if ngrf > 1:\n",
    "    ax = gp.varmod(vario2,modelPGS2)"
   ]
  },
  {
   "cell_type": "markdown",
   "id": "b6ef440c",
   "metadata": {},
   "source": [
    "In this paragraph, we compare the experimental indicator variogram to the one derived from the Model of the underlying GRFs."
   ]
  },
  {
   "cell_type": "code",
   "execution_count": null,
   "id": "cae06798",
   "metadata": {},
   "outputs": [],
   "source": [
    "dirparamindic = gl.DirParam.create(nlag=19, dpas=1000)\n",
    "varioparamindic = gl.VarioParam()\n",
    "varioparamindic.addDir(dirparamindic)\n",
    "varioindic = gl.Vario(varioparamindic)\n",
    "err = varioindic.computeIndic(dat)"
   ]
  },
  {
   "cell_type": "code",
   "execution_count": null,
   "id": "3a928634",
   "metadata": {},
   "outputs": [],
   "source": [
    "varioindic2 = gl.model_pgs(dat, varioparamindic, ruleprop, modelPGS1, modelPGS2);"
   ]
  },
  {
   "cell_type": "code",
   "execution_count": null,
   "id": "049d2aa2",
   "metadata": {},
   "outputs": [],
   "source": [
    "axs = gp.varmod(varioindic,varioLinestyle='solid')\n",
    "gp.geometry(axs,dims=[10,10])\n",
    "axs = gp.varmod(varioindic2,varioLinestyle='dashed',axsOld=axs)"
   ]
  },
  {
   "cell_type": "code",
   "execution_count": null,
   "id": "03eb447a",
   "metadata": {},
   "outputs": [],
   "source": [
    "neigh = gl.NeighUnique.create()\n",
    "err = gl.simpgs(dat,Result,ruleprop,modelPGS1,modelPGS2,neigh)"
   ]
  },
  {
   "cell_type": "code",
   "execution_count": null,
   "id": "5fd7ec05",
   "metadata": {},
   "outputs": [],
   "source": [
    "ax = Result.plot()\n",
    "ax.geometry(dims=[10,10])"
   ]
  }
 ],
 "metadata": {
  "kernelspec": {
   "display_name": "Python 3",
   "language": "python",
   "name": "python3"
  },
  "language_info": {
   "codemirror_mode": {
    "name": "ipython",
    "version": 3
   },
   "file_extension": ".py",
   "mimetype": "text/x-python",
   "name": "python",
   "nbconvert_exporter": "python",
   "pygments_lexer": "ipython3",
   "version": "3.10.5"
  },
  "toc": {
   "base_numbering": 1,
   "nav_menu": {},
   "number_sections": true,
   "sideBar": true,
   "skip_h1_title": false,
   "title_cell": "Table of Contents",
   "title_sidebar": "Contents",
   "toc_cell": false,
   "toc_position": {},
   "toc_section_display": true,
   "toc_window_display": false
  }
 },
 "nbformat": 4,
 "nbformat_minor": 5
}
