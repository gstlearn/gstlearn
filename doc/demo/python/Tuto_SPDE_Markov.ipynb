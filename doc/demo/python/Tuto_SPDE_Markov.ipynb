{
 "cells": [
  {
   "cell_type": "markdown",
   "id": "31a6f889",
   "metadata": {},
   "source": [
    "# SPDE for Markovian Model"
   ]
  },
  {
   "cell_type": "markdown",
   "id": "724701d3",
   "metadata": {},
   "source": [
    "<!-- SUMMARY: Simulations with a Markovian Model, treated in the SPDE formalism -->\n",
    "\n",
    "<!-- CATEGORY: SPDE -->"
   ]
  },
  {
   "cell_type": "code",
   "execution_count": 1,
   "id": "781ed94c",
   "metadata": {},
   "outputs": [],
   "source": [
    "import gstlearn as gl\n",
    "import gstlearn.plot as gp\n",
    "import numpy as np\n",
    "import matplotlib.pyplot as plt"
   ]
  },
  {
   "cell_type": "code",
   "execution_count": 2,
   "id": "645fdb6b",
   "metadata": {},
   "outputs": [],
   "source": [
    "Markov = True"
   ]
  },
  {
   "cell_type": "code",
   "execution_count": 3,
   "id": "bb8fd775",
   "metadata": {},
   "outputs": [],
   "source": [
    "dx = [.5,.5]\n",
    "nx = [400,400]\n",
    "db = gl.DbGrid.create(nx, dx)"
   ]
  },
  {
   "cell_type": "code",
   "execution_count": 4,
   "id": "61913da3",
   "metadata": {},
   "outputs": [],
   "source": [
    "mesh = gl.MeshETurbo(nx,dx)"
   ]
  },
  {
   "cell_type": "code",
   "execution_count": null,
   "id": "2edd326e",
   "metadata": {},
   "outputs": [],
   "source": [
    "scale = 1\n",
    "sill  = 5.\n",
    "param = 2.\n",
    "\n",
    "ranges = [1.8 * scale, 1. * scale]\n",
    "angles = [30.,0]\n",
    "if Markov :\n",
    "    model = gl.Model.createFromParam(gl.ECov.MARKOV, ranges=ranges, angles = angles,\n",
    "                                     sill=sill, flagRange=False)\n",
    "    cova = model.getCova(0)\n",
    "    cova.setMarkovCoeffsBySquaredPolynomials([1,-1.5],[1,-1],0.001)\n",
    "    #coeffs = np.array(cova.getMarkovCoeffs())\n",
    "    #for i in range(len(coeffs)):\n",
    "    #    coeffs[i]*= scale**(2*i)\n",
    "    #cova.setMarkovCoeffs(coeffs)\n",
    "else :\n",
    "    model = gl.Model.createFromParam(gl.ECov.MATERN, param=param,\n",
    "                                     ranges=ranges, sill=sill,\n",
    "                                     angles =angles, flagRange=False)\n",
    "    \n",
    "model"
   ]
  },
  {
   "cell_type": "code",
   "execution_count": 6,
   "id": "24937d5d",
   "metadata": {},
   "outputs": [],
   "source": [
    "Q = gl.PrecisionOp(mesh,model.getCova(0))"
   ]
  },
  {
   "cell_type": "code",
   "execution_count": 7,
   "id": "58fc1b47",
   "metadata": {},
   "outputs": [],
   "source": [
    "indx = int(nx[0]/2)\n",
    "indy = int(nx[1]/2)\n",
    "ind = indy + nx[1] * indx\n",
    "covy = np.array(Q.evalCov(ind)).reshape(nx)"
   ]
  },
  {
   "cell_type": "code",
   "execution_count": null,
   "id": "78bce9be",
   "metadata": {},
   "outputs": [],
   "source": [
    "xx = np.arange(len(covy)/2)*dx[0]\n",
    "if not Markov :\n",
    "    covM = [model.eval(gl.SpacePoint([0,0]),gl.SpacePoint([i,0])) for i in xx]\n",
    "    plt.plot(xx,covM,\"--\",label = \"Covariance\")\n",
    "plt.plot(xx,covy[indx,indy:(indy+nx[1])],label = \"discretized\")#/covy[indx,indx])\n",
    "covy[indx,indx]\n",
    "ax = plt.legend()\n",
    "plt.show()\n",
    "i = plt.imshow(covy.reshape(nx),origin = \"lower\")"
   ]
  },
  {
   "cell_type": "code",
   "execution_count": null,
   "id": "4bf54b65",
   "metadata": {},
   "outputs": [],
   "source": [
    "dbg = gl.DbGrid.create(nx,dx)\n",
    "x = Q.simulateOne()\n",
    "dbg[\"simu\"]=x\n",
    "gp.plot(dbg)"
   ]
  },
  {
   "cell_type": "code",
   "execution_count": null,
   "id": "b6284443",
   "metadata": {},
   "outputs": [],
   "source": [
    "N = 2**8\n",
    "cova = model.getCova(0)\n",
    "mH1 = 3.5 * np.max(cova.getRanges())\n",
    "mH2 = 3.5 * np.max(cova.getRanges())\n",
    "\n",
    "result = np.array(cova.evalCovFFT([mH1,mH2],N).getValues())\n",
    "res = np.array(result).reshape((N,N))\n",
    "\n",
    "i = plt.imshow(res,extent = [-mH1,mH1,-mH2,mH2],origin = \"lower\")\n",
    "c = plt.colorbar()"
   ]
  },
  {
   "cell_type": "code",
   "execution_count": null,
   "id": "fccb6950",
   "metadata": {},
   "outputs": [],
   "source": [
    "X1 = np.linspace(-mH1,mH1,N) \n",
    "X2 = np.linspace(-mH2,mH2,N) \n",
    "plt.plot(X1 , res[int(N/2),:], label=\"FFT\")\n",
    "\n",
    "uu = covy[indx,indy:(indy+100)]\n",
    "plt.plot(np.arange(len(uu))*dx[0],uu,\"--\",label = \"Discretized covariance\")\n",
    "ax = plt.legend()"
   ]
  },
  {
   "cell_type": "code",
   "execution_count": null,
   "id": "ebb7bcef",
   "metadata": {},
   "outputs": [],
   "source": [
    "print(round(res[int(N/2),int(N/2)]/uu[0],3))"
   ]
  }
 ],
 "metadata": {
  "kernelspec": {
   "display_name": "Python 3",
   "language": "python",
   "name": "python3"
  },
  "language_info": {
   "codemirror_mode": {
    "name": "ipython",
    "version": 3
   },
   "file_extension": ".py",
   "mimetype": "text/x-python",
   "name": "python",
   "nbconvert_exporter": "python",
   "pygments_lexer": "ipython3",
   "version": "3.10.5"
  },
  "toc": {
   "base_numbering": 1,
   "nav_menu": {},
   "number_sections": true,
   "sideBar": true,
   "skip_h1_title": false,
   "title_cell": "Table of Contents",
   "title_sidebar": "Contents",
   "toc_cell": false,
   "toc_position": {},
   "toc_section_display": true,
   "toc_window_display": false
  }
 },
 "nbformat": 4,
 "nbformat_minor": 5
}
