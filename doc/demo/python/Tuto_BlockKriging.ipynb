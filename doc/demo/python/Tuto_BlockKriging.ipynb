{
 "cells": [
  {
   "cell_type": "markdown",
   "metadata": {},
   "source": [
    "# Point & Block Kriging"
   ]
  },
  {
   "cell_type": "markdown",
   "metadata": {},
   "source": [
    "<!-- SUMMARY: Implementations of Kriging for various targets: for Points, for regular blocks, for irregular blocks-->\n",
    "\n",
    "<!-- CATEGORY: Methodology -->"
   ]
  },
  {
   "cell_type": "markdown",
   "metadata": {},
   "source": [
    "This chapter describes the difference between Point Kriging, Regular Block Kriging and Irregular Block Kriging. It is delonstrated on a simulated 2-D data set."
   ]
  },
  {
   "cell_type": "markdown",
   "metadata": {},
   "source": [
    "## Import packages"
   ]
  },
  {
   "cell_type": "code",
   "execution_count": null,
   "metadata": {},
   "outputs": [],
   "source": [
    "import numpy as np\n",
    "import pandas as pd\n",
    "import sys\n",
    "import os\n",
    "import matplotlib.pyplot as plt\n",
    "import gstlearn as gl\n",
    "import gstlearn.plot as gp\n",
    "import gstlearn.document as gdoc\n",
    "\n",
    "gdoc.setNoScroll()"
   ]
  },
  {
   "cell_type": "markdown",
   "metadata": {},
   "source": [
    "# Creating the environmenet"
   ]
  },
  {
   "cell_type": "markdown",
   "metadata": {},
   "source": [
    "We create a regular grid"
   ]
  },
  {
   "cell_type": "code",
   "execution_count": null,
   "metadata": {},
   "outputs": [],
   "source": [
    "grid = gl.DbGrid.create(nx=[20,15],dx=[10.,10.])\n",
    "ncell = grid.getSampleNumber()\n",
    "grid"
   ]
  },
  {
   "cell_type": "markdown",
   "metadata": {},
   "source": [
    "We create a Data Base of randomly located samples within a field covering the grid extension."
   ]
  },
  {
   "cell_type": "code",
   "execution_count": null,
   "metadata": {},
   "outputs": [],
   "source": [
    "coormin = grid.getCoorMinimum()\n",
    "coormax = grid.getCoorMaximum()\n",
    "nech = 100\n",
    "data = gl.Db.createFromBox(nech, coormin, coormax)"
   ]
  },
  {
   "cell_type": "markdown",
   "metadata": {},
   "source": [
    "We create a Model composed of a Nugget Effect and a Spherical components. This Model is used to simulate a variable at the sample locations."
   ]
  },
  {
   "cell_type": "code",
   "execution_count": null,
   "metadata": {},
   "outputs": [],
   "source": [
    "model = gl.Model()\n",
    "model.addCovFromParam(gl.ECov.NUGGET, sill = 0.3)\n",
    "model.addCovFromParam(gl.ECov.SPHERICAL, range=40., sill=0.7)\n",
    "err = gl.simtub(None, dbout=data, model=model)\n",
    "data"
   ]
  },
  {
   "cell_type": "markdown",
   "metadata": {},
   "source": [
    "We define a Neighborhood. On purpose, this neighborhood is small (10 data maximum) to produce legible printouts."
   ]
  },
  {
   "cell_type": "code",
   "execution_count": null,
   "metadata": {},
   "outputs": [],
   "source": [
    "nmini = 1\n",
    "nmaxi = 10\n",
    "radius = 30.\n",
    "nsect = 8\n",
    "nsmax = 3\n",
    "neigh = gl.NeighMoving.create(nmaxi=nmaxi, radius=radius, nmini=nmini, nsect=nsect, nsmax=nsmax)\n",
    "neigh"
   ]
  },
  {
   "cell_type": "markdown",
   "metadata": {},
   "source": [
    "# Point Kriging"
   ]
  },
  {
   "cell_type": "code",
   "execution_count": null,
   "metadata": {},
   "outputs": [],
   "source": [
    "err = gl.kriging(data, grid, model, neigh, \n",
    "                 namconv=gl.NamingConvention(\"Point_Kriging\"))"
   ]
  },
  {
   "cell_type": "markdown",
   "metadata": {},
   "source": [
    "Two newly created variables have been added to the output Data Base (*grid*):\n",
    "- one for the estimation (called *Point_Kriging.Simu.estim*)\n",
    "- one for the standard deviation of the estimation error (called *Point_Kriging.simu.stdev*)\n",
    "\n",
    "These two variables are stored as a consequance of the argument *flag_est* and *flag_std* which are not explicitely specified, but which are both defaulted to *True*."
   ]
  },
  {
   "cell_type": "code",
   "execution_count": null,
   "metadata": {},
   "outputs": [],
   "source": [
    "grid"
   ]
  },
  {
   "cell_type": "markdown",
   "metadata": {},
   "source": [
    "Displaying the maps of the Point Estimation and the corresponding Standard Deviation of Estimation errors. Note that the estimation is performed at the nodes of the grid (center of each grid cell)... evan if the block *raster* is performed."
   ]
  },
  {
   "cell_type": "code",
   "execution_count": null,
   "metadata": {},
   "outputs": [],
   "source": [
    "ax = grid.plot(\"Point_Kriging*estim\")\n",
    "ax = data.plot(color=\"white\")\n",
    "ax.decoration(title=\"Point Kriging\")"
   ]
  },
  {
   "cell_type": "code",
   "execution_count": null,
   "metadata": {},
   "outputs": [],
   "source": [
    "ax = grid.plot(\"Point_Kriging*stdev\")\n",
    "ax = data.plot(color=\"white\")\n",
    "ax.decoration(title=\"Error for Point Kriging\")"
   ]
  },
  {
   "cell_type": "markdown",
   "metadata": {},
   "source": [
    "To better visualize the differences alongst the different kriging, we focus on a target grid cell (or node) and print out all the information used during the Kriging procedure. We focus on the **node** "
   ]
  },
  {
   "cell_type": "code",
   "execution_count": null,
   "metadata": {},
   "outputs": [],
   "source": [
    "node = 155\n",
    "err = gl.krigtest(data, grid, model, neigh, node, calcul=gl.EKrigOpt.POINT)"
   ]
  },
  {
   "cell_type": "markdown",
   "metadata": {},
   "source": [
    "## Standard Block Kriging"
   ]
  },
  {
   "cell_type": "markdown",
   "metadata": {},
   "source": [
    "We perform an estimation of the average value of the variable over the cells (of the previous grid)."
   ]
  },
  {
   "cell_type": "code",
   "execution_count": null,
   "metadata": {},
   "outputs": [],
   "source": [
    "ndiscs = [5,5]\n",
    "err = gl.kriging(data, grid, model, neigh, calcul=gl.EKrigOpt.BLOCK, ndiscs=ndiscs,\n",
    "                namconv=gl.NamingConvention(\"Block_Kriging\"))"
   ]
  },
  {
   "cell_type": "markdown",
   "metadata": {},
   "source": [
    "The output Db now contains the two additional variables *Block_Kriging.Simu.estim* and *Block_Kriging.Simu.stdev*."
   ]
  },
  {
   "cell_type": "code",
   "execution_count": null,
   "metadata": {},
   "outputs": [],
   "source": [
    "grid"
   ]
  },
  {
   "cell_type": "markdown",
   "metadata": {},
   "source": [
    "Displaying the maps of the Point Estimation and the corresponding Standard Deviation of Estimation errors"
   ]
  },
  {
   "cell_type": "code",
   "execution_count": null,
   "metadata": {},
   "outputs": [],
   "source": [
    "ax = grid.plot(\"Block_Kriging*estim\")\n",
    "ax = data.plot(color=\"white\")\n",
    "ax.decoration(title=\"Block Kriging\")"
   ]
  },
  {
   "cell_type": "code",
   "execution_count": null,
   "metadata": {},
   "outputs": [],
   "source": [
    "ax = grid.plot(\"Block_Kriging*stdev\")\n",
    "ax = data.plot(color=\"white\")\n",
    "ax.decoration(title=\"Error for Block Kriging\")"
   ]
  },
  {
   "cell_type": "markdown",
   "metadata": {},
   "source": [
    "We do not see too much difference between estimations, due to the small dimension of the grid cells, as it is demonstrated in the following scatter plot."
   ]
  },
  {
   "cell_type": "code",
   "execution_count": null,
   "metadata": {},
   "outputs": [],
   "source": [
    "ax = gp.correlation(grid, namex=\"Point_Kriging*estim\", namey=\"Block_Kriging*estim\", bins=100)\n",
    "ax.decoration(title=\"Estimation\", xlabel=\"Point\", ylabel=\"Block\")"
   ]
  },
  {
   "cell_type": "code",
   "execution_count": null,
   "metadata": {},
   "outputs": [],
   "source": [
    "ax = gp.correlation(grid, namex=\"Point_Kriging*stdev\", namey=\"Block_Kriging*stdev\", bins=100)\n",
    "ax.decoration(title=\"St. Dev.\", xlabel=\"Point\", ylabel=\"Block\")"
   ]
  },
  {
   "cell_type": "markdown",
   "metadata": {},
   "source": [
    "We check our reference target cell again. Remember that here the target is the average over the cell. In the final part of the printout, we clearly see the value of the cell extension i.e. 10 (important for future comparison)."
   ]
  },
  {
   "cell_type": "code",
   "execution_count": null,
   "metadata": {},
   "outputs": [],
   "source": [
    "err = gl.krigtest(data, grid, model, neigh, node, calcul=gl.EKrigOpt.BLOCK, ndiscs=ndiscs)"
   ]
  },
  {
   "cell_type": "markdown",
   "metadata": {},
   "source": [
    "## Irregular Block Kriging"
   ]
  },
  {
   "cell_type": "markdown",
   "metadata": {},
   "source": [
    "Now we add two vectors in the Target Grid data base, which will contain the cell extension (variable per cell). Nevertheless, here, the cell extension is set to a constant value (for simplicity sake): this value (35) is different from the grid mesh (10). The variable block extension is assigned the locator *BLEX*."
   ]
  },
  {
   "cell_type": "code",
   "execution_count": null,
   "metadata": {},
   "outputs": [],
   "source": [
    "size = 35.\n",
    "iuid = grid.addColumnsByConstant(1, size, \"X-ext\", gl.ELoc.BLEX, 0)\n",
    "iuid = grid.addColumnsByConstant(1, size, \"Y-ext\", gl.ELoc.BLEX, 1)"
   ]
  },
  {
   "cell_type": "code",
   "execution_count": null,
   "metadata": {},
   "outputs": [],
   "source": [
    "err = gl.krigcell(data, grid, model, neigh, ndiscs=ndiscs,\n",
    "                  namconv=gl.NamingConvention(\"Irregular_Kriging\"))"
   ]
  },
  {
   "cell_type": "markdown",
   "metadata": {},
   "source": [
    "The two newly created results are added to the output data base *grid* with the radix *Irregular_Kriging\"."
   ]
  },
  {
   "cell_type": "code",
   "execution_count": null,
   "metadata": {},
   "outputs": [],
   "source": [
    "grid"
   ]
  },
  {
   "cell_type": "markdown",
   "metadata": {},
   "source": [
    "Graphic display of the new resulting maps."
   ]
  },
  {
   "cell_type": "code",
   "execution_count": null,
   "metadata": {},
   "outputs": [],
   "source": [
    "ax = grid.plot(\"Irregular_Kriging*estim\")\n",
    "ax = data.plot(color=\"white\")\n",
    "ax.decoration(title=\"Block Kriging\")"
   ]
  },
  {
   "cell_type": "code",
   "execution_count": null,
   "metadata": {},
   "outputs": [],
   "source": [
    "ax = grid.plot(\"Irregular_Kriging*stdev\")\n",
    "ax = data.plot(color=\"white\")\n",
    "ax.decoration(title=\"Error for Block Kriging\")"
   ]
  },
  {
   "cell_type": "markdown",
   "metadata": {},
   "source": [
    "Comparison between standard Block Kriging and the Block Kriging with Irregular block size"
   ]
  },
  {
   "cell_type": "code",
   "execution_count": null,
   "metadata": {},
   "outputs": [],
   "source": [
    "ax = gp.correlation(grid, namex=\"Block_Kriging*estim\", namey=\"Irregular_Kriging*estim\", bins=100)\n",
    "ax.decoration(title=\"Estimation\", xlabel=\"Regular Block\", ylabel=\"Irregular Block\")"
   ]
  },
  {
   "cell_type": "code",
   "execution_count": null,
   "metadata": {},
   "outputs": [],
   "source": [
    "ax = gp.correlation(grid, namex=\"Block_Kriging*stdev\", namey=\"Irregular_Kriging*stdev\", bins=100)\n",
    "ax.decoration(title=\"St. Dev.\", xlabel=\"Regular Block\", ylabel=\"Irregular Block\")"
   ]
  },
  {
   "cell_type": "markdown",
   "metadata": {},
   "source": [
    "We can now focus on our target block. Note that, unlike inn the case of regular block Kriging, the extension of the cell is now *35*."
   ]
  },
  {
   "cell_type": "code",
   "execution_count": null,
   "metadata": {},
   "outputs": [],
   "source": [
    "err = gl.krigtest(data, grid, model, neigh, node, calcul=gl.EKrigOpt.BLOCK, ndiscs=ndiscs,\n",
    "                 flagPerCell = True)"
   ]
  }
 ],
 "metadata": {
  "kernelspec": {
   "display_name": "Python 3 (ipykernel)",
   "language": "python",
   "name": "python3"
  },
  "language_info": {
   "codemirror_mode": {
    "name": "ipython",
    "version": 3
   },
   "file_extension": ".py",
   "mimetype": "text/x-python",
   "name": "python",
   "nbconvert_exporter": "python",
   "pygments_lexer": "ipython3",
   "version": "3.10.5"
  },
  "toc": {
   "base_numbering": 1,
   "nav_menu": {},
   "number_sections": true,
   "sideBar": true,
   "skip_h1_title": false,
   "title_cell": "Table of Contents",
   "title_sidebar": "Contents",
   "toc_cell": false,
   "toc_position": {},
   "toc_section_display": true,
   "toc_window_display": false
  }
 },
 "nbformat": 4,
 "nbformat_minor": 4
}
