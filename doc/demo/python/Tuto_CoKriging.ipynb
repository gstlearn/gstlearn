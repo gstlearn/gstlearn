{
 "cells": [
  {
   "cell_type": "markdown",
   "id": "6bf2f306",
   "metadata": {},
   "source": [
    "# Comparing Kriging and CoKriging"
   ]
  },
  {
   "cell_type": "markdown",
   "id": "483617bb",
   "metadata": {},
   "source": [
    "<!-- SUMMARY: The Simulation post-processing is illustrated through an Upscaling capability -->\n",
    "\n",
    "<!-- CATEGORY: Data_Base_Management -->"
   ]
  },
  {
   "cell_type": "markdown",
   "id": "6c6ebfba",
   "metadata": {},
   "source": [
    "This test s meant to demonstrate the use of CoKriging in Heterotopic case. A second part also demonstrates the various cases of CoKriging simplifications, I;E; when Cokriging of several variables simplifies into one or several Kriging of each variable individually."
   ]
  },
  {
   "cell_type": "code",
   "execution_count": null,
   "id": "c95d2a4e",
   "metadata": {},
   "outputs": [],
   "source": [
    "import gstlearn as gl\n",
    "import gstlearn.plot as gp\n",
    "import gstlearn.document as gdoc\n",
    "import numpy as np\n",
    "import matplotlib.pyplot as plt\n",
    "import gstlearn.plot as gp\n",
    "import scipy.sparse as sc\n",
    "\n",
    "gdoc.setNoScroll()"
   ]
  },
  {
   "cell_type": "markdown",
   "id": "24e41b2a",
   "metadata": {},
   "source": [
    "## CoKriging vs. Kriging in 2-D"
   ]
  },
  {
   "cell_type": "markdown",
   "id": "adff712a",
   "metadata": {},
   "source": [
    "We create a grid and two models"
   ]
  },
  {
   "cell_type": "code",
   "execution_count": null,
   "id": "a32df92d",
   "metadata": {},
   "outputs": [],
   "source": [
    "grid = gl.DbGrid.create(nx=[300,200])\n",
    "modelC = gl.Model.createFromParam(gl.ECov.CUBIC,range=40)\n",
    "modelE = gl.Model.createFromParam(gl.ECov.EXPONENTIAL,range=20)"
   ]
  },
  {
   "cell_type": "code",
   "execution_count": null,
   "id": "76fb96b8",
   "metadata": {
    "scrolled": true
   },
   "outputs": [],
   "source": [
    "ax = gp.model(modelC) \n",
    "ax.decoration(title=\"Cubic Model\")"
   ]
  },
  {
   "cell_type": "code",
   "execution_count": null,
   "id": "b1475e1c",
   "metadata": {},
   "outputs": [],
   "source": [
    "ax = gp.model(modelE)\n",
    "ax.decoration(title=\"Exponential Model\")"
   ]
  },
  {
   "cell_type": "markdown",
   "id": "5606f6e0",
   "metadata": {},
   "source": [
    "### Working on exhaustive grids"
   ]
  },
  {
   "cell_type": "markdown",
   "id": "35b46655",
   "metadata": {},
   "source": [
    "We simulate two underlying GRFs exhaustively on the grid"
   ]
  },
  {
   "cell_type": "code",
   "execution_count": null,
   "id": "e1d2c246",
   "metadata": {},
   "outputs": [],
   "source": [
    "err = gl.simtub(None,grid,modelC)\n",
    "grid.setName(\"Simu\", \"S1\")\n",
    "err = gl.simtub(None,grid,modelE)\n",
    "grid.setName(\"Simu\", \"S2\")"
   ]
  },
  {
   "cell_type": "code",
   "execution_count": null,
   "id": "abfd1c47",
   "metadata": {},
   "outputs": [],
   "source": [
    "fig = plt.figure(figsize=(12,4))\n",
    "ax1 = fig.add_subplot(1,2,1)\n",
    "ax1 = gp.raster(grid,name=\"S1\")\n",
    "ax2 = fig.add_subplot(1,2,2)\n",
    "ax2 = gp.raster(grid,name=\"S2\")\n",
    "fig.decoration(title=\"Factors\")"
   ]
  },
  {
   "cell_type": "markdown",
   "id": "2a9a7cfb",
   "metadata": {},
   "source": [
    "Calculating the variograms on the two Factors benefiting from the Grid organization. We can check that they are point-wise and spatially independent."
   ]
  },
  {
   "cell_type": "code",
   "execution_count": null,
   "id": "338989b1",
   "metadata": {},
   "outputs": [],
   "source": [
    "grid.setLocators([\"S*\"],gl.ELoc.Z)\n",
    "\n",
    "nlag=40\n",
    "varioParamG = gl.VarioParam.createMultipleFromGrid(grid,nlag)\n",
    "vario = gl.Vario.computeFromDb(varioParamG, grid)\n",
    "\n",
    "axs = gp.varmod(vario)\n",
    "gp.decoration(axs, title=\"Model for Factors\")"
   ]
  },
  {
   "cell_type": "code",
   "execution_count": null,
   "id": "b17b72b3",
   "metadata": {},
   "outputs": [],
   "source": [
    "ax = gp.correlation(grid, \"S1\", \"S2\", bins=100, cmin=1)\n",
    "ax.decoration(title=\"Scatter Plot between Factors\")"
   ]
  },
  {
   "cell_type": "markdown",
   "id": "d0dba5c0",
   "metadata": {},
   "source": [
    "We define an internal function that generates two variables obtained as mixtures of the two underlying factors"
   ]
  },
  {
   "cell_type": "code",
   "execution_count": null,
   "id": "59f1335a",
   "metadata": {},
   "outputs": [],
   "source": [
    "def variable_generate(grid, c1, c2):\n",
    "  grid[\"Z1\"] = c1[0] * grid[\"S1\"] + c1[1] * grid[\"S2\"]\n",
    "  grid[\"Z2\"] = c2[0] * grid[\"S1\"] + c2[1] * grid[\"S2\"]\n",
    "  grid.setLocators([\"Z*\"],gl.ELoc.Z)"
   ]
  },
  {
   "cell_type": "markdown",
   "id": "7dfea8dc",
   "metadata": {},
   "source": [
    "Create the two variables of interest"
   ]
  },
  {
   "cell_type": "code",
   "execution_count": null,
   "id": "0a550100",
   "metadata": {},
   "outputs": [],
   "source": [
    "c1 = [3,1]\n",
    "c2 = [1,2]\n",
    "variable_generate(grid,c1,c2)"
   ]
  },
  {
   "cell_type": "code",
   "execution_count": null,
   "id": "8a42608f",
   "metadata": {},
   "outputs": [],
   "source": [
    "fig = plt.figure(figsize=(12,4))\n",
    "ax1 = fig.add_subplot(1,2,1)\n",
    "ax1 = gp.raster(grid,name=\"Z1\")\n",
    "ax2 = fig.add_subplot(1,2,2)\n",
    "ax2 = gp.raster(grid,name=\"Z2\")\n",
    "fig.decoration(title=\"Variables\")"
   ]
  },
  {
   "cell_type": "code",
   "execution_count": null,
   "id": "c1389f23",
   "metadata": {},
   "outputs": [],
   "source": [
    "grid.setLocators([\"Z*\"],gl.ELoc.Z)\n",
    "\n",
    "nlag=40\n",
    "varioParamG = gl.VarioParam.createMultipleFromGrid(grid,nlag)\n",
    "vario = gl.Vario.computeFromDb(varioParamG, grid)\n",
    "\n",
    "axs = gp.varmod(vario)\n",
    "gp.decoration(axs, title=\"Model for Variables\")"
   ]
  },
  {
   "cell_type": "code",
   "execution_count": null,
   "id": "8895f52a",
   "metadata": {},
   "outputs": [],
   "source": [
    "ax = gp.correlation(grid, \"Z1\", \"Z2\", bins=100, cmin=1)\n",
    "ax.decoration(title=\"Scatter Plot between Variables\")"
   ]
  },
  {
   "cell_type": "markdown",
   "id": "d656b128",
   "metadata": {},
   "source": [
    "### Sampling"
   ]
  },
  {
   "cell_type": "markdown",
   "id": "c3eeb78d",
   "metadata": {},
   "source": [
    "This is performed by setting a threshold to be applied on a Uniform variable. "
   ]
  },
  {
   "cell_type": "code",
   "execution_count": null,
   "id": "c3313a3f",
   "metadata": {},
   "outputs": [],
   "source": [
    "grid[\"uniform\"] = gl.VectorHelper.simulateUniform(grid.getSampleNumber())"
   ]
  },
  {
   "cell_type": "code",
   "execution_count": null,
   "id": "3ea7f018",
   "metadata": {},
   "outputs": [],
   "source": [
    "def masking(grid, thresh1, thresh2):\n",
    "    m1 = grid[\"uniform\"] < thresh1\n",
    "    grid[m1, \"Z1\"] = np.nan\n",
    "    m2 = grid[\"uniform\"] < thresh2\n",
    "    grid[m2, \"Z2\"] = np.nan\n",
    "    \n",
    "    mm = grid[\"uniform\"] > min(thresh1, thresh2)\n",
    "    grid[\"sel\"] = mm*1\n",
    "    grid.setLocator(\"sel\", gl.ELoc.SEL)\n",
    "    data = gl.Db.createReduce(grid)\n",
    "    return data"
   ]
  },
  {
   "cell_type": "markdown",
   "id": "f776f94d",
   "metadata": {},
   "source": [
    "Sample the exhaustive grid and create and Heteropic data set"
   ]
  },
  {
   "cell_type": "code",
   "execution_count": null,
   "id": "8ff674f1",
   "metadata": {},
   "outputs": [],
   "source": [
    "data = masking(grid, 0.999,0.998)"
   ]
  },
  {
   "cell_type": "markdown",
   "id": "9d0b9972",
   "metadata": {},
   "source": [
    "We represent the heterotopic (nested) data set: in red where Z2 is informed and in black when Z1 is informed."
   ]
  },
  {
   "cell_type": "code",
   "execution_count": null,
   "id": "96418b0e",
   "metadata": {
    "scrolled": true
   },
   "outputs": [],
   "source": [
    "ax = gp.symbol(data, nameSize=\"Z2\", flagCst=True, s=50)\n",
    "ax = gp.symbol(data, nameSize=\"Z1\", flagCst=True, s=20, c=\"black\")"
   ]
  },
  {
   "cell_type": "markdown",
   "id": "5dbbeeb3",
   "metadata": {},
   "source": [
    "Calculating the simple and cross variograms based on these samples and fit them"
   ]
  },
  {
   "cell_type": "code",
   "execution_count": null,
   "id": "a969d7da",
   "metadata": {},
   "outputs": [],
   "source": [
    "data.setLocators([\"Z*\"],gl.ELoc.Z)\n",
    "\n",
    "nlag = 15\n",
    "dlag = 10\n",
    "varioParamS = gl.VarioParam.createOmniDirection(nlag, dlag)\n",
    "vario = gl.Vario.computeFromDb(varioParamS, data)\n",
    "\n",
    "model = gl.Model()\n",
    "err = model.fit(vario, types=[gl.ECov.EXPONENTIAL, gl.ECov.SPHERICAL])\n",
    "axs = gp.varmod(vario, model)\n",
    "gp.decoration(axs, title=\"Model for (sampled) Variables\")"
   ]
  },
  {
   "cell_type": "markdown",
   "id": "78fad069",
   "metadata": {},
   "source": [
    "### Performing Kriging and CoKriging"
   ]
  },
  {
   "cell_type": "markdown",
   "id": "e7f3ee6e",
   "metadata": {},
   "source": [
    "The main variable is the variable *Z1* and the auxiliary variable is *Z2*.\n",
    "All subsequent estimations will be performed in Unique Neighborhood in the initial Grid (where the selection must be discarded beforehand)."
   ]
  },
  {
   "cell_type": "code",
   "execution_count": null,
   "id": "e6b4842c",
   "metadata": {},
   "outputs": [],
   "source": [
    "neigh = gl.NeighUnique()\n",
    "grid.clearSelection()"
   ]
  },
  {
   "cell_type": "markdown",
   "id": "8d105eaf",
   "metadata": {},
   "source": [
    "#### Considering Z1 as the main variable"
   ]
  },
  {
   "cell_type": "markdown",
   "id": "4f42be32",
   "metadata": {},
   "source": [
    "When performing Kriging of *Z1*, the model of this variable is directly extracted from the bivariate model. This makes sense as *Z1* corresponds to the one with less samples."
   ]
  },
  {
   "cell_type": "markdown",
   "id": "8a8ef432",
   "metadata": {},
   "source": [
    "##### Kriging"
   ]
  },
  {
   "cell_type": "code",
   "execution_count": null,
   "id": "39e8c003",
   "metadata": {},
   "outputs": [],
   "source": [
    "data.setLocator(\"Z1\",gl.ELoc.Z,cleanSameLocator=True)\n",
    "vario.mono = gl.Vario.createReduce(vario,[0],gl.VectorInt())\n",
    "model.mono = gl.Model.createReduce(model,[0])\n",
    "ax = gp.varmod(vario.mono, model.mono)"
   ]
  },
  {
   "cell_type": "code",
   "execution_count": null,
   "id": "b57080f6",
   "metadata": {},
   "outputs": [],
   "source": [
    "err = gl.kriging(data,grid,model.mono,neigh,namconv=gl.NamingConvention(\"Kriging\"))\n",
    "est1min = -5.20\n",
    "est1max = +6.28\n",
    "std1max = +2.48"
   ]
  },
  {
   "cell_type": "code",
   "execution_count": null,
   "id": "bdd6a80e",
   "metadata": {},
   "outputs": [],
   "source": [
    "fig = plt.figure(figsize=(12,4))\n",
    "ax1 = fig.add_subplot(1,2,1)\n",
    "ax1 = gp.raster(grid,name=\"Kriging.Z1.estim\", vmin=est1min, vmax=est1max)\n",
    "ax1 = gp.symbol(data, nameSize=\"Z1\", flagCst=True, s=20, c=\"white\")\n",
    "ax2 = fig.add_subplot(1,2,2)\n",
    "ax2 = gp.raster(grid,name=\"Kriging.Z1.stdev\", vmin=0, vmax=std1max)\n",
    "ax2 = gp.symbol(data, nameSize=\"Z1\", flagCst=True, s=20, c=\"white\")\n",
    "fig.decoration(title=\"Kriging\")"
   ]
  },
  {
   "cell_type": "markdown",
   "id": "2b8ef97e",
   "metadata": {},
   "source": [
    "##### CoKriging"
   ]
  },
  {
   "cell_type": "code",
   "execution_count": null,
   "id": "dcd562ef",
   "metadata": {},
   "outputs": [],
   "source": [
    "data.setLocators([\"Z1\",\"Z2\"],gl.ELoc.Z)"
   ]
  },
  {
   "cell_type": "code",
   "execution_count": null,
   "id": "f20c26ac",
   "metadata": {},
   "outputs": [],
   "source": [
    "err = gl.kriging(data,grid,model,neigh,namconv=gl.NamingConvention(\"CoKriging\"))"
   ]
  },
  {
   "cell_type": "code",
   "execution_count": null,
   "id": "0e8dd711",
   "metadata": {},
   "outputs": [],
   "source": [
    "fig = plt.figure(figsize=(12,4))\n",
    "ax1 = fig.add_subplot(1,2,1)\n",
    "ax1 = gp.raster(grid,name=\"CoKriging.Z1.estim\", vmin=est1min, vmax=est1max)\n",
    "ax1 = gp.symbol(data, nameSize=\"Z2\", flagCst=True, s=50, c=\"white\")\n",
    "ax1 = gp.symbol(data, nameSize=\"Z1\", flagCst=True, s=20, c=\"black\")\n",
    "ax2 = fig.add_subplot(1,2,2)\n",
    "ax2 = gp.raster(grid,name=\"CoKriging.Z1.stdev\", vmin=0, vmax=std1max)\n",
    "ax2 = gp.symbol(data, nameSize=\"Z2\", flagCst=True, s=50, c=\"white\")\n",
    "ax2 = gp.symbol(data, nameSize=\"Z1\", flagCst=True, s=20, c=\"black\")\n",
    "fig.decoration(title=\"CoKriging\")"
   ]
  },
  {
   "cell_type": "markdown",
   "id": "c7286167",
   "metadata": {},
   "source": [
    "Comparing CoKriging and Kriging on the main variable Z1"
   ]
  },
  {
   "cell_type": "code",
   "execution_count": null,
   "id": "2eebcb64",
   "metadata": {
    "scrolled": true
   },
   "outputs": [],
   "source": [
    "fig = plt.figure(figsize=(11,5))\n",
    "ax1 = fig.add_subplot(1,2,1)\n",
    "ax1 = gp.correlation(grid,\"Kriging.Z1.estim\",\"CoKriging.Z1.estim\",bins=100, cmin=1,\n",
    "                   diagLine=True, diagColor=\"yellow\", flagSameAxes=True)\n",
    "ax2 = fig.add_subplot(1,2,2)\n",
    "ax2 = gp.correlation(grid,\"Kriging.Z1.stdev\",\"CoKriging.Z1.stdev\",bins=100, cmin=1,\n",
    "                   diagLine=True, diagColor=\"black\", flagSameAxes=True)\n",
    "fig.decoration(title=\"Comparing CoKriging and Kriging\")"
   ]
  },
  {
   "cell_type": "markdown",
   "id": "cddabb21",
   "metadata": {},
   "source": [
    "#### Considering Z2 as the main variable"
   ]
  },
  {
   "cell_type": "markdown",
   "id": "8a70d248",
   "metadata": {},
   "source": [
    "This time, we consider *Z2* as the target variable."
   ]
  },
  {
   "cell_type": "code",
   "execution_count": null,
   "id": "c1a7b83e",
   "metadata": {
    "scrolled": true
   },
   "outputs": [],
   "source": [
    "data.setLocator(\"Z2\",gl.ELoc.Z,cleanSameLocator=True)\n",
    "vario.mono = gl.Vario.createReduce(vario,[1],gl.VectorInt())\n",
    "model.mono = gl.Model.createReduce(model,[1])\n",
    "ax = gp.varmod(vario.mono, model.mono)"
   ]
  },
  {
   "cell_type": "code",
   "execution_count": null,
   "id": "90926412",
   "metadata": {},
   "outputs": [],
   "source": [
    "err = gl.kriging(data,grid,model.mono,neigh,namconv=gl.NamingConvention(\"Kriging\"))\n",
    "est2min = -5.47\n",
    "est2max = +4.16\n",
    "std2max = +1.92"
   ]
  },
  {
   "cell_type": "code",
   "execution_count": null,
   "id": "1d8ff4f3",
   "metadata": {
    "scrolled": false
   },
   "outputs": [],
   "source": [
    "fig = plt.figure(figsize=(11,5))\n",
    "ax1 = fig.add_subplot(1,2,1)\n",
    "ax1 = gp.raster(grid,name=\"Kriging.Z2.estim\", vmin=est2min, vmax=est2max)\n",
    "ax1 = gp.symbol(data, nameSize=\"Z2\", flagCst=True, s=20, c=\"white\")\n",
    "ax2 = fig.add_subplot(1,2,2)\n",
    "ax2 = gp.raster(grid,name=\"Kriging.Z2.stdev\", vmin=0, vmax=std2max)\n",
    "ax2 = gp.symbol(data, nameSize=\"Z2\", flagCst=True, s=20, c=\"white\")\n",
    "fig.decoration(title=\"Kriging\")"
   ]
  },
  {
   "cell_type": "markdown",
   "id": "ae038732",
   "metadata": {},
   "source": [
    "Comparing CoKriging of Z2 (using Z1 as an auxiliary variable) to the Kriging of Z2."
   ]
  },
  {
   "cell_type": "code",
   "execution_count": null,
   "id": "0bbbda87",
   "metadata": {
    "scrolled": true
   },
   "outputs": [],
   "source": [
    "fig = plt.figure(figsize=(11,5))\n",
    "ax1 = fig.add_subplot(1,2,1)\n",
    "ax1 = gp.correlation(grid,\"Kriging.Z2.estim\",\"CoKriging.Z2.estim\",bins=100, cmin=1,\n",
    "                   diagLine=True, diagColor=\"yellow\", flagSameAxes=True)\n",
    "ax2 = fig.add_subplot(1,2,2)\n",
    "ax2 = gp.correlation(grid,\"Kriging.Z2.stdev\",\"CoKriging.Z2.stdev\",bins=100, cmin=1,\n",
    "                   diagLine=True, diagColor=\"black\", flagSameAxes=True)\n",
    "fig.decoration(title=\"Comparing CoKriging and Kriging\")"
   ]
  },
  {
   "cell_type": "markdown",
   "id": "d21da355",
   "metadata": {},
   "source": [
    "As expected, the improvement in using Z1 as secondary variable is minor as it does not provide any information at samples where Z2 is not informed. Nevertheless, it still carries additional information: this is implies an improvement ... unless CoKriging presents some simplification, i.e.:\n",
    "- the variables are spatially uncorrelated\n",
    "- the variables are intrinsically correlated\n",
    "- the variables correspond to a Markov model\n",
    "\n",
    "None of these options are present in the current Model."
   ]
  },
  {
   "cell_type": "markdown",
   "id": "f60e61f0",
   "metadata": {},
   "source": [
    "## CoKriging simplifications"
   ]
  },
  {
   "cell_type": "markdown",
   "id": "6ca6a1ae",
   "metadata": {},
   "source": [
    "This simple test demonstrates the different simplifications of the cokriging. \n",
    "\n",
    "The minimum data set is composed of 2 variables defined at 2 data samples."
   ]
  },
  {
   "cell_type": "code",
   "execution_count": null,
   "id": "7e33b486",
   "metadata": {},
   "outputs": [],
   "source": [
    "data = gl.Db.create()\n",
    "data[\"x1\"] = [-10,15]\n",
    "data[\"x2\"] = [  0, 0]\n",
    "data[\"z1\"] = [ -1, 2]\n",
    "data[\"z2\"] = [  3, 5]\n",
    "data.setLocators([\"x1\",\"x2\"], gl.ELoc.X)\n",
    "data.setLocators([\"z1\",\"z2\"], gl.ELoc.Z)\n",
    "\n",
    "target = gl.DbGrid.create(nx=[1,1])\n",
    "\n",
    "neigh = gl.NeighUnique()\n"
   ]
  },
  {
   "cell_type": "markdown",
   "id": "772a5eb7",
   "metadata": {},
   "source": [
    "We define a standard workflow that will be performed for different Models."
   ]
  },
  {
   "cell_type": "code",
   "execution_count": null,
   "id": "06197792",
   "metadata": {},
   "outputs": [],
   "source": [
    "def test_kriging(model, title, flagShort=True):\n",
    "    if not flagShort:\n",
    "        gl.OptDbg.setReference(1)\n",
    "    \n",
    "    # Kriging the variables individually\n",
    "    print(\"====================================================\")\n",
    "    print(\"Kriging Variable #1\")\n",
    "    print(\"====================================================\")\n",
    "    data1 = data.clone()\n",
    "    data1.setLocator(\"z1\",gl.ELoc.Z)\n",
    "    model1 = gl.Model.createReduce(model,[0])\n",
    "    if flagShort:\n",
    "        result = gl.krigtest(data1,target,model1,neigh)\n",
    "        print(result.wgt)\n",
    "    else:\n",
    "        err = gl.kriging(data1,target,model1,neigh,\n",
    "                        namconv=gl.NamingConvention(title + \"_K\"))\n",
    "    \n",
    "    print(\"====================================================\")\n",
    "    print(\"Kriging Variable #2\")\n",
    "    print(\"====================================================\")\n",
    "    data2 = data.clone()\n",
    "    data2.setLocator(\"z2\",gl.ELoc.Z)\n",
    "    model2 = gl.Model.createReduce(model,[1])\n",
    "    if flagShort:\n",
    "        result = gl.krigtest(data2,target,model2,neigh)\n",
    "        print(result.wgt)\n",
    "    else:\n",
    "        err = gl.kriging(data2,target,model2,neigh,\n",
    "                         namconv=gl.NamingConvention(title + \"_K\"))\n",
    "    \n",
    "    # CoKriging\n",
    "    print(\"====================================================\")\n",
    "    print(\"CoKriging\")\n",
    "    print(\"====================================================\")\n",
    "    if flagShort:\n",
    "        result = gl.krigtest(data,target,model,neigh)\n",
    "        print(result.wgt)\n",
    "    else:\n",
    "        err = gl.kriging(data,target,model,neigh,\n",
    "                         namconv=gl.NamingConvention(title + \"_COK\"))\n",
    "        \n",
    "    gl.OptDbg.setReference(0)"
   ]
  },
  {
   "cell_type": "markdown",
   "id": "971e074d",
   "metadata": {},
   "source": [
    "### Variables spatially independent"
   ]
  },
  {
   "cell_type": "markdown",
   "id": "c850f559",
   "metadata": {},
   "source": [
    "Define a Model with spatially independent variables"
   ]
  },
  {
   "cell_type": "code",
   "execution_count": null,
   "id": "5dd0f3e5",
   "metadata": {},
   "outputs": [],
   "source": [
    "model = gl.Model.createFromParam(gl.ECov.SPHERICAL, range=30, sills=[1,0,0,1])\n",
    "print(model)"
   ]
  },
  {
   "cell_type": "markdown",
   "id": "10e73d7a",
   "metadata": {},
   "source": [
    "Perform CoKriging and Krigings\n",
    "\n",
    "For the estimation of the single target site of the output grid, we ask for the whole display of the calculations: we will essentially pay attention to the set of weights."
   ]
  },
  {
   "cell_type": "code",
   "execution_count": null,
   "id": "c6405acd",
   "metadata": {},
   "outputs": [],
   "source": [
    "test_kriging(model , \"No_Correlation\", flagShort=False)"
   ]
  },
  {
   "cell_type": "markdown",
   "id": "3ab09ad4",
   "metadata": {},
   "source": [
    "For the next comparison, we will focus on the set of weights only."
   ]
  },
  {
   "cell_type": "code",
   "execution_count": null,
   "id": "12227dfb",
   "metadata": {},
   "outputs": [],
   "source": [
    "test_kriging(model , \"No_Correlation\")"
   ]
  },
  {
   "cell_type": "markdown",
   "id": "51421fc6",
   "metadata": {},
   "source": [
    "### Intrinsic Correlation"
   ]
  },
  {
   "cell_type": "markdown",
   "id": "f9177804",
   "metadata": {},
   "source": [
    "Define a Model with Intrinsic Correlation"
   ]
  },
  {
   "cell_type": "code",
   "execution_count": null,
   "id": "ca11f2b3",
   "metadata": {},
   "outputs": [],
   "source": [
    "model = gl.Model(2,2)\n",
    "model.addCovFromParam(gl.ECov.NUGGET,sills=[8,-2,-2,5])\n",
    "model.addCovFromParam(gl.ECov.SPHERICAL,range=20,sills=[32,-8,-8,20])\n",
    "print(model)"
   ]
  },
  {
   "cell_type": "markdown",
   "id": "58afd36b",
   "metadata": {},
   "source": [
    "Perform CoKriging and Krigings"
   ]
  },
  {
   "cell_type": "code",
   "execution_count": null,
   "id": "778f439c",
   "metadata": {},
   "outputs": [],
   "source": [
    "test_kriging(model, \"Intrinsic_Correlation\")"
   ]
  },
  {
   "cell_type": "markdown",
   "id": "3a1f99bd",
   "metadata": {},
   "source": [
    "### Markov Model"
   ]
  },
  {
   "cell_type": "code",
   "execution_count": null,
   "id": "a10822b2",
   "metadata": {
    "scrolled": true
   },
   "outputs": [],
   "source": [
    "model = gl.Model(2,2)\n",
    "model.addCovFromParam(gl.ECov.CUBIC,range=50,sills=[1,2,2,4])\n",
    "model.addCovFromParam(gl.ECov.SPHERICAL,range=20,sills=[0,0,0,9])\n",
    "print(model)"
   ]
  },
  {
   "cell_type": "markdown",
   "id": "3fdc0e38",
   "metadata": {},
   "source": [
    "Perform CoKriging and Krigings"
   ]
  },
  {
   "cell_type": "code",
   "execution_count": null,
   "id": "3ae91cd4",
   "metadata": {},
   "outputs": [],
   "source": [
    "test_kriging(model, \"Markov_COK\")"
   ]
  }
 ],
 "metadata": {
  "kernelspec": {
   "display_name": "Python 3 (ipykernel)",
   "language": "python",
   "name": "python3"
  },
  "language_info": {
   "codemirror_mode": {
    "name": "ipython",
    "version": 3
   },
   "file_extension": ".py",
   "mimetype": "text/x-python",
   "name": "python",
   "nbconvert_exporter": "python",
   "pygments_lexer": "ipython3",
   "version": "3.10.5"
  },
  "toc": {
   "base_numbering": 1,
   "nav_menu": {},
   "number_sections": true,
   "sideBar": true,
   "skip_h1_title": true,
   "title_cell": "Table of Contents",
   "title_sidebar": "Contents",
   "toc_cell": false,
   "toc_position": {
    "height": "calc(100% - 180px)",
    "left": "10px",
    "top": "150px",
    "width": "188.267px"
   },
   "toc_section_display": true,
   "toc_window_display": false
  }
 },
 "nbformat": 4,
 "nbformat_minor": 5
}
