{
 "cells": [
  {
   "cell_type": "markdown",
   "id": "401108d8",
   "metadata": {},
   "source": [
    "# Comparing Kriging and CoKriging"
   ]
  },
  {
   "cell_type": "markdown",
   "id": "990b6faa",
   "metadata": {},
   "source": [
    "<!-- SUMMARY: The Simulation post-processing is illustrated through an Upscaling capability -->\n",
    "\n",
    "<!-- CATEGORY: Data_Base_Management -->"
   ]
  },
  {
   "cell_type": "markdown",
   "id": "03a5c299",
   "metadata": {},
   "source": [
    "These tests mean to demonstrate the use of CoKriging in Heterotopic case. A second part also demonstrates the various cases of CoKriging simplifications, i.e. when Cokriging of several variables simplifies into one or several Kriging of each variable individually."
   ]
  },
  {
   "cell_type": "code",
   "execution_count": null,
   "id": "b45f25ab",
   "metadata": {},
   "outputs": [],
   "source": [
    "import gstlearn as gl\n",
    "import gstlearn.plot as gp\n",
    "import gstlearn.document as gdoc\n",
    "import numpy as np\n",
    "import gstlearn.plot as gp\n",
    "import scipy.sparse as sc\n",
    "\n",
    "gdoc.setNoScroll()"
   ]
  },
  {
   "cell_type": "markdown",
   "id": "d40e9875",
   "metadata": {},
   "source": [
    "## CoKriging vs. Kriging in 2-D"
   ]
  },
  {
   "cell_type": "markdown",
   "id": "65dfe6fe",
   "metadata": {},
   "source": [
    "We create a grid and two models"
   ]
  },
  {
   "cell_type": "code",
   "execution_count": null,
   "id": "f12485bf",
   "metadata": {},
   "outputs": [],
   "source": [
    "grid = gl.DbGrid.create(nx=[300,200])\n",
    "modelC = gl.Model.createFromParam(gl.ECov.CUBIC,range=40)\n",
    "modelE = gl.Model.createFromParam(gl.ECov.EXPONENTIAL,range=20)"
   ]
  },
  {
   "cell_type": "code",
   "execution_count": null,
   "id": "a8d4d561",
   "metadata": {
    "scrolled": true
   },
   "outputs": [],
   "source": [
    "ax = gp.model(modelC) \n",
    "ax.decoration(title=\"Cubic Model\")"
   ]
  },
  {
   "cell_type": "code",
   "execution_count": null,
   "id": "7f321c16",
   "metadata": {},
   "outputs": [],
   "source": [
    "ax = gp.model(modelE)\n",
    "ax.decoration(title=\"Exponential Model\")"
   ]
  },
  {
   "cell_type": "markdown",
   "id": "21eb031b",
   "metadata": {},
   "source": [
    "### Working on exhaustive grids"
   ]
  },
  {
   "cell_type": "markdown",
   "id": "4bfb92c3",
   "metadata": {},
   "source": [
    "We simulate two underlying GRFs exhaustively on the grid"
   ]
  },
  {
   "cell_type": "code",
   "execution_count": null,
   "id": "a83e1dbc",
   "metadata": {},
   "outputs": [],
   "source": [
    "err = gl.simtub(None,grid,modelC)\n",
    "grid.setName(\"Simu\", \"S1\")\n",
    "err = gl.simtub(None,grid,modelE)\n",
    "grid.setName(\"Simu\", \"S2\")"
   ]
  },
  {
   "cell_type": "code",
   "execution_count": null,
   "id": "bf10d2de",
   "metadata": {},
   "outputs": [],
   "source": [
    "fig, ax = gp.init(1,2,figsize=(12,4), flagEqual=True)\n",
    "ax[0].raster(grid,name=\"S1\")\n",
    "ax[1].raster(grid,name=\"S2\")\n",
    "fig.decoration(title=\"Factors\")"
   ]
  },
  {
   "cell_type": "markdown",
   "id": "c8d4c19a",
   "metadata": {},
   "source": [
    "Calculating the variograms on the two Factors benefiting from the Grid organization. We can check that they are point-wise and spatially independent."
   ]
  },
  {
   "cell_type": "code",
   "execution_count": null,
   "id": "abefc5a6",
   "metadata": {},
   "outputs": [],
   "source": [
    "grid.setLocators([\"S*\"],gl.ELoc.Z)\n",
    "\n",
    "nlag=40\n",
    "varioParamG = gl.VarioParam.createMultipleFromGrid(grid,nlag)\n",
    "vario = gl.Vario.computeFromDb(varioParamG, grid)\n",
    "\n",
    "gp.varmod(vario)\n",
    "gp.decoration(title=\"Model for Factors\")"
   ]
  },
  {
   "cell_type": "code",
   "execution_count": null,
   "id": "a09a3409",
   "metadata": {},
   "outputs": [],
   "source": [
    "gp.correlation(grid, \"S1\", \"S2\", bins=100, cmin=1)\n",
    "gp.decoration(title=\"Scatter Plot between Factors\")"
   ]
  },
  {
   "cell_type": "markdown",
   "id": "8fd72477",
   "metadata": {},
   "source": [
    "We define an internal function that generates two variables obtained as mixtures of the two underlying factors"
   ]
  },
  {
   "cell_type": "code",
   "execution_count": null,
   "id": "ecf2af93",
   "metadata": {},
   "outputs": [],
   "source": [
    "def variable_generate(grid, c1, c2):\n",
    "  grid[\"Z1\"] = c1[0] * grid[\"S1\"] + c1[1] * grid[\"S2\"]\n",
    "  grid[\"Z2\"] = c2[0] * grid[\"S1\"] + c2[1] * grid[\"S2\"]\n",
    "  grid.setLocators([\"Z*\"],gl.ELoc.Z)"
   ]
  },
  {
   "cell_type": "markdown",
   "id": "1607dfab",
   "metadata": {},
   "source": [
    "Create the two variables of interest"
   ]
  },
  {
   "cell_type": "code",
   "execution_count": null,
   "id": "694e4151",
   "metadata": {},
   "outputs": [],
   "source": [
    "c1 = [3,1]\n",
    "c2 = [1,2]\n",
    "variable_generate(grid,c1,c2)"
   ]
  },
  {
   "cell_type": "code",
   "execution_count": null,
   "id": "b3b40c08",
   "metadata": {},
   "outputs": [],
   "source": [
    "fig, ax = gp.init(1,2,figsize=(12,4), flagEqual=True)\n",
    "ax[0].raster(grid,name=\"Z1\")\n",
    "ax[1].raster(grid,name=\"Z2\")\n",
    "fig.decoration(title=\"Variables\")"
   ]
  },
  {
   "cell_type": "code",
   "execution_count": null,
   "id": "74b32c5c",
   "metadata": {},
   "outputs": [],
   "source": [
    "grid.setLocators([\"Z*\"],gl.ELoc.Z)\n",
    "\n",
    "nlag=40\n",
    "varioParamG = gl.VarioParam.createMultipleFromGrid(grid,nlag)\n",
    "vario = gl.Vario.computeFromDb(varioParamG, grid)\n",
    "\n",
    "gp.varmod(vario)\n",
    "gp.decoration(title=\"Model for Variables\")"
   ]
  },
  {
   "cell_type": "code",
   "execution_count": null,
   "id": "982bdba5",
   "metadata": {},
   "outputs": [],
   "source": [
    "gp.correlation(grid, \"Z1\", \"Z2\", bins=100, cmin=1)\n",
    "gp.decoration(title=\"Scatter Plot between Variables\")"
   ]
  },
  {
   "cell_type": "markdown",
   "id": "56421b5a",
   "metadata": {},
   "source": [
    "### Sampling"
   ]
  },
  {
   "cell_type": "markdown",
   "id": "c29ae52c",
   "metadata": {},
   "source": [
    "This is performed by setting a threshold to be applied on a Uniform variable. "
   ]
  },
  {
   "cell_type": "code",
   "execution_count": null,
   "id": "993371dc",
   "metadata": {},
   "outputs": [],
   "source": [
    "grid[\"uniform\"] = gl.VectorHelper.simulateUniform(grid.getNSample())"
   ]
  },
  {
   "cell_type": "code",
   "execution_count": null,
   "id": "5a6e5b70",
   "metadata": {},
   "outputs": [],
   "source": [
    "def masking(grid, thresh1, thresh2):\n",
    "    m1 = grid[\"uniform\"] < thresh1\n",
    "    grid[m1, \"Z1\"] = np.nan\n",
    "    m2 = grid[\"uniform\"] < thresh2\n",
    "    grid[m2, \"Z2\"] = np.nan\n",
    "    \n",
    "    mm = grid[\"uniform\"] > min(thresh1, thresh2)\n",
    "    grid[\"sel\"] = mm*1\n",
    "    grid.setLocator(\"sel\", gl.ELoc.SEL)\n",
    "    data = gl.Db.createReduce(grid)\n",
    "    return data"
   ]
  },
  {
   "cell_type": "markdown",
   "id": "53f7a19a",
   "metadata": {},
   "source": [
    "Sample the exhaustive grid and create and Heteropic data set"
   ]
  },
  {
   "cell_type": "code",
   "execution_count": null,
   "id": "b9ec8ce7",
   "metadata": {},
   "outputs": [],
   "source": [
    "data = masking(grid, 0.999,0.998)"
   ]
  },
  {
   "cell_type": "markdown",
   "id": "ef57da4e",
   "metadata": {},
   "source": [
    "We represent the heterotopic (nested) data set: in red where Z2 is informed and in black when Z1 is informed."
   ]
  },
  {
   "cell_type": "code",
   "execution_count": null,
   "id": "bf12c03d",
   "metadata": {
    "scrolled": true
   },
   "outputs": [],
   "source": [
    "gp.symbol(data, nameSize=\"Z2\", flagCst=True, s=50, c=\"red\")\n",
    "gp.symbol(data, nameSize=\"Z1\", flagCst=True, s=20, c=\"black\")\n",
    "gp.close()"
   ]
  },
  {
   "cell_type": "markdown",
   "id": "e6ee2d34",
   "metadata": {},
   "source": [
    "Calculating the simple and cross variograms based on these samples and fit them"
   ]
  },
  {
   "cell_type": "code",
   "execution_count": null,
   "id": "0324f068",
   "metadata": {},
   "outputs": [],
   "source": [
    "data.setLocators([\"Z*\"],gl.ELoc.Z)\n",
    "\n",
    "nlag = 15\n",
    "dlag = 10\n",
    "varioParamS = gl.VarioParam.createOmniDirection(nlag, dlag)\n",
    "vario = gl.Vario.computeFromDb(varioParamS, data)\n",
    "\n",
    "model = gl.Model()\n",
    "err = model.fit(vario, types=[gl.ECov.EXPONENTIAL, gl.ECov.SPHERICAL])\n",
    "\n",
    "gp.varmod(vario, model)\n",
    "gp.decoration(title=\"Model for (sampled) Variables\")"
   ]
  },
  {
   "cell_type": "markdown",
   "id": "8e1e130a",
   "metadata": {},
   "source": [
    "### Performing Kriging and CoKriging"
   ]
  },
  {
   "cell_type": "markdown",
   "id": "090c85e8",
   "metadata": {},
   "source": [
    "The main variable is the variable *Z1* and the auxiliary variable is *Z2*.\n",
    "All subsequent estimations will be performed in Unique Neighborhood in the initial Grid (where the selection must be discarded beforehand)."
   ]
  },
  {
   "cell_type": "code",
   "execution_count": null,
   "id": "4e7bdafa",
   "metadata": {},
   "outputs": [],
   "source": [
    "neigh = gl.NeighUnique()\n",
    "grid.clearSelection()"
   ]
  },
  {
   "cell_type": "markdown",
   "id": "770bf67e",
   "metadata": {},
   "source": [
    "#### Considering Z1 as the main variable"
   ]
  },
  {
   "cell_type": "markdown",
   "id": "61eb8d62",
   "metadata": {},
   "source": [
    "When performing Kriging of *Z1*, the model of this variable is directly extracted from the bivariate model. This makes sense as *Z1* corresponds to the one with less samples."
   ]
  },
  {
   "cell_type": "markdown",
   "id": "fd95d288",
   "metadata": {},
   "source": [
    "##### Kriging"
   ]
  },
  {
   "cell_type": "code",
   "execution_count": null,
   "id": "526cf1c9",
   "metadata": {},
   "outputs": [],
   "source": [
    "data.setLocator(\"Z1\",gl.ELoc.Z,cleanSameLocator=True)\n",
    "vario.mono = gl.Vario.createReduce(vario,[0],gl.VectorInt())\n",
    "model.mono = gl.Model.createReduce(model,[0])\n",
    "res = gp.varmod(vario.mono, model.mono)"
   ]
  },
  {
   "cell_type": "code",
   "execution_count": null,
   "id": "1544d623",
   "metadata": {},
   "outputs": [],
   "source": [
    "err = gl.kriging(data,grid,model.mono,neigh,namconv=gl.NamingConvention(\"Kriging\"))\n",
    "est1min = -5.20\n",
    "est1max = +6.28\n",
    "std1max = +2.48"
   ]
  },
  {
   "cell_type": "code",
   "execution_count": null,
   "id": "aa4a6cd9",
   "metadata": {},
   "outputs": [],
   "source": [
    "fig, ax = gp.init(1,2,figsize=(12,4), flagEqual=True)\n",
    "ax[0].raster(grid,name=\"Kriging.Z1.estim\", vmin=est1min, vmax=est1max)\n",
    "ax[0].symbol(data, nameSize=\"Z1\", flagCst=True, s=20, c=\"white\")\n",
    "ax[1].raster(grid,name=\"Kriging.Z1.stdev\", vmin=0, vmax=std1max)\n",
    "ax[1].symbol(data, nameSize=\"Z1\", flagCst=True, s=20, c=\"white\")\n",
    "fig.decoration(title=\"Kriging\")"
   ]
  },
  {
   "cell_type": "markdown",
   "id": "14704834",
   "metadata": {},
   "source": [
    "##### CoKriging"
   ]
  },
  {
   "cell_type": "code",
   "execution_count": null,
   "id": "8dff0103",
   "metadata": {},
   "outputs": [],
   "source": [
    "data.setLocators([\"Z1\",\"Z2\"],gl.ELoc.Z)"
   ]
  },
  {
   "cell_type": "code",
   "execution_count": null,
   "id": "a8cfc8ac",
   "metadata": {},
   "outputs": [],
   "source": [
    "err = gl.kriging(data,grid,model,neigh,namconv=gl.NamingConvention(\"CoKriging\"))"
   ]
  },
  {
   "cell_type": "code",
   "execution_count": null,
   "id": "2c7fe90d",
   "metadata": {},
   "outputs": [],
   "source": [
    "fig, ax = gp.init(1,2, figsize=(12,4), flagEqual=True)\n",
    "ax[0].raster(grid,name=\"CoKriging.Z1.estim\", vmin=est1min, vmax=est1max)\n",
    "ax[0].symbol(data, nameSize=\"Z2\", flagCst=True, s=50, c=\"white\")\n",
    "ax[0].symbol(data, nameSize=\"Z1\", flagCst=True, s=20, c=\"black\")\n",
    "ax[1].raster(grid,name=\"CoKriging.Z1.stdev\", vmin=0, vmax=std1max)\n",
    "ax[1].symbol(data, nameSize=\"Z2\", flagCst=True, s=50, c=\"white\")\n",
    "ax[1].symbol(data, nameSize=\"Z1\", flagCst=True, s=20, c=\"black\")\n",
    "fig.decoration(title=\"CoKriging\")"
   ]
  },
  {
   "cell_type": "markdown",
   "id": "0c783aa2",
   "metadata": {},
   "source": [
    "Comparing CoKriging and Kriging on the main variable Z1"
   ]
  },
  {
   "cell_type": "code",
   "execution_count": null,
   "id": "81001c06",
   "metadata": {
    "scrolled": true
   },
   "outputs": [],
   "source": [
    "fig, ax = gp.init(1,2, figsize=(11,5), flagEqual=True)\n",
    "ax[0].correlation(grid,\"Kriging.Z1.estim\",\"CoKriging.Z1.estim\",bins=100, cmin=1,\n",
    "                   diagLine=True, diagColor=\"yellow\", flagSameAxes=True)\n",
    "ax[1].correlation(grid,\"Kriging.Z1.stdev\",\"CoKriging.Z1.stdev\",bins=100, cmin=1,\n",
    "                   diagLine=True, diagColor=\"black\", flagSameAxes=True)\n",
    "fig.decoration(title=\"Comparing CoKriging and Kriging\")"
   ]
  },
  {
   "cell_type": "markdown",
   "id": "b5918ca9",
   "metadata": {},
   "source": [
    "#### Considering Z2 as the main variable"
   ]
  },
  {
   "cell_type": "markdown",
   "id": "b38ec4b1",
   "metadata": {},
   "source": [
    "This time, we consider *Z2* as the target variable."
   ]
  },
  {
   "cell_type": "code",
   "execution_count": null,
   "id": "ad9ac45b",
   "metadata": {
    "scrolled": true
   },
   "outputs": [],
   "source": [
    "data.setLocator(\"Z2\",gl.ELoc.Z,cleanSameLocator=True)\n",
    "vario.mono = gl.Vario.createReduce(vario,[1],gl.VectorInt())\n",
    "model.mono = gl.Model.createReduce(model,[1])\n",
    "\n",
    "res = gp.varmod(vario.mono, model.mono)"
   ]
  },
  {
   "cell_type": "code",
   "execution_count": null,
   "id": "44b4efc1",
   "metadata": {},
   "outputs": [],
   "source": [
    "err = gl.kriging(data,grid,model.mono,neigh,namconv=gl.NamingConvention(\"Kriging\"))\n",
    "est2min = -5.47\n",
    "est2max = +4.16\n",
    "std2max = +1.92"
   ]
  },
  {
   "cell_type": "code",
   "execution_count": null,
   "id": "7288151f",
   "metadata": {},
   "outputs": [],
   "source": [
    "fig, ax = gp.init(1,2, figsize=(11,5), flagEqual=True)\n",
    "ax[0].raster(grid,name=\"Kriging.Z2.estim\", vmin=est2min, vmax=est2max)\n",
    "ax[0].symbol(data, nameSize=\"Z2\", flagCst=True, s=20, c=\"white\")\n",
    "ax[1].raster(grid,name=\"Kriging.Z2.stdev\", vmin=0, vmax=std2max)\n",
    "ax[1].symbol(data, nameSize=\"Z2\", flagCst=True, s=20, c=\"white\")\n",
    "fig.decoration(title=\"Kriging\")"
   ]
  },
  {
   "cell_type": "markdown",
   "id": "7e05d190",
   "metadata": {},
   "source": [
    "Comparing CoKriging of Z2 (using Z1 as an auxiliary variable) to the Kriging of Z2."
   ]
  },
  {
   "cell_type": "code",
   "execution_count": null,
   "id": "b1b72883",
   "metadata": {
    "scrolled": true
   },
   "outputs": [],
   "source": [
    "fig, ax = gp.init(1,2,figsize=(11,5), flagEqual=True)\n",
    "ax[0].correlation(grid,\"Kriging.Z2.estim\",\"CoKriging.Z2.estim\",bins=100, cmin=1,\n",
    "                   diagLine=True, diagColor=\"yellow\", flagSameAxes=True)\n",
    "ax[1].correlation(grid,\"Kriging.Z2.stdev\",\"CoKriging.Z2.stdev\",bins=100, cmin=1,\n",
    "                   diagLine=True, diagColor=\"black\", flagSameAxes=True)\n",
    "fig.decoration(title=\"Comparing CoKriging and Kriging\")"
   ]
  },
  {
   "cell_type": "markdown",
   "id": "1f09d9d0",
   "metadata": {},
   "source": [
    "As expected, the improvement in using Z1 as secondary variable is minor as it does not provide any information at samples where Z2 is not informed. Nevertheless, it still carries additional information: this is implies an improvement ... unless CoKriging presents some simplification, i.e.:\n",
    "- the variables are spatially uncorrelated\n",
    "- the variables are intrinsically correlated\n",
    "- the variables correspond to a Markov model\n",
    "\n",
    "None of these options are present in the current Model."
   ]
  },
  {
   "cell_type": "markdown",
   "id": "b47dba5f",
   "metadata": {},
   "source": [
    "## CoKriging simplifications"
   ]
  },
  {
   "cell_type": "markdown",
   "id": "701abd23",
   "metadata": {},
   "source": [
    "This simple test demonstrates the different simplifications of the cokriging. \n",
    "\n",
    "The minimum data set is composed of 2 variables defined at 2 data samples."
   ]
  },
  {
   "cell_type": "code",
   "execution_count": null,
   "id": "c94981b8",
   "metadata": {},
   "outputs": [],
   "source": [
    "data = gl.Db.create()\n",
    "data[\"x1\"] = [-10,15]\n",
    "data[\"x2\"] = [  0, 0]\n",
    "data[\"z1\"] = [ -1, 2]\n",
    "data[\"z2\"] = [  3, 5]\n",
    "data.setLocators([\"x1\",\"x2\"], gl.ELoc.X)\n",
    "data.setLocators([\"z1\",\"z2\"], gl.ELoc.Z)\n",
    "\n",
    "target = gl.DbGrid.create(nx=[1,1])\n",
    "\n",
    "neigh = gl.NeighUnique()\n"
   ]
  },
  {
   "cell_type": "markdown",
   "id": "b28510f7",
   "metadata": {},
   "source": [
    "We define a standard workflow that will be performed for different Models."
   ]
  },
  {
   "cell_type": "code",
   "execution_count": null,
   "id": "eb894234",
   "metadata": {},
   "outputs": [],
   "source": [
    "def test_kriging(model, title, flagShort=True):\n",
    "    if not flagShort:\n",
    "        gl.OptDbg.setReference(1)\n",
    "    \n",
    "    # Kriging the variables individually\n",
    "    print(\"====================================================\")\n",
    "    print(\"Kriging Variable #1\")\n",
    "    print(\"====================================================\")\n",
    "    data1 = data.clone()\n",
    "    data1.setLocator(\"z1\",gl.ELoc.Z)\n",
    "    model1 = gl.Model.createReduce(model,[0])\n",
    "    if flagShort:\n",
    "        result = gl.krigtest(data1,target,model1,neigh)\n",
    "        print(result.wgt)\n",
    "    else:\n",
    "        err = gl.kriging(data1,target,model1,neigh,\n",
    "                        namconv=gl.NamingConvention(title + \"_K\"))\n",
    "    \n",
    "    print(\"====================================================\")\n",
    "    print(\"Kriging Variable #2\")\n",
    "    print(\"====================================================\")\n",
    "    data2 = data.clone()\n",
    "    data2.setLocator(\"z2\",gl.ELoc.Z)\n",
    "    model2 = gl.Model.createReduce(model,[1])\n",
    "    if flagShort:\n",
    "        result = gl.krigtest(data2,target,model2,neigh)\n",
    "        print(result.wgt)\n",
    "    else:\n",
    "        err = gl.kriging(data2,target,model2,neigh,\n",
    "                         namconv=gl.NamingConvention(title + \"_K\"))\n",
    "    \n",
    "    # CoKriging\n",
    "    print(\"====================================================\")\n",
    "    print(\"CoKriging\")\n",
    "    print(\"====================================================\")\n",
    "    if flagShort:\n",
    "        result = gl.krigtest(data,target,model,neigh)\n",
    "        print(result.wgt)\n",
    "    else:\n",
    "        err = gl.kriging(data,target,model,neigh,\n",
    "                         namconv=gl.NamingConvention(title + \"_COK\"))\n",
    "        \n",
    "    gl.OptDbg.setReference(0)"
   ]
  },
  {
   "cell_type": "markdown",
   "id": "aa16fcd5",
   "metadata": {},
   "source": [
    "### Variables spatially independent"
   ]
  },
  {
   "cell_type": "markdown",
   "id": "42506dcc",
   "metadata": {},
   "source": [
    "Define a Model with spatially independent variables"
   ]
  },
  {
   "cell_type": "code",
   "execution_count": null,
   "id": "b9d13409",
   "metadata": {},
   "outputs": [],
   "source": [
    "model = gl.Model.createFromParam(gl.ECov.SPHERICAL, range=30, sills=np.array([[1,0],[0,1]]))\n",
    "model.display()"
   ]
  },
  {
   "cell_type": "markdown",
   "id": "5291aabb",
   "metadata": {},
   "source": [
    "Perform CoKriging and Kriging\n",
    "\n",
    "For the estimation of the single target site of the output grid, we ask for the whole display of the calculations: we will essentially pay attention to the set of weights."
   ]
  },
  {
   "cell_type": "code",
   "execution_count": null,
   "id": "06826422",
   "metadata": {},
   "outputs": [],
   "source": [
    "test_kriging(model , \"No_Correlation\", flagShort=False)"
   ]
  },
  {
   "cell_type": "markdown",
   "id": "5b9771d0",
   "metadata": {},
   "source": [
    "For the next comparison, we will focus on the set of weights only."
   ]
  },
  {
   "cell_type": "code",
   "execution_count": null,
   "id": "af8d9324",
   "metadata": {},
   "outputs": [],
   "source": [
    "test_kriging(model , \"No_Correlation\")"
   ]
  },
  {
   "cell_type": "markdown",
   "id": "e5c65be0",
   "metadata": {},
   "source": [
    "### Intrinsic Correlation"
   ]
  },
  {
   "cell_type": "markdown",
   "id": "2cea254e",
   "metadata": {},
   "source": [
    "Define a Model with Intrinsic Correlation"
   ]
  },
  {
   "cell_type": "code",
   "execution_count": null,
   "id": "49bcbe1b",
   "metadata": {},
   "outputs": [],
   "source": [
    "model = gl.Model(2,2)\n",
    "model.addCovFromParam(gl.ECov.NUGGET,sills=np.array([[8,-2],[-2,5]]))\n",
    "model.addCovFromParam(gl.ECov.SPHERICAL,range=20,sills=np.array([[32,-8],[-8,20]]))\n",
    "model.display()"
   ]
  },
  {
   "cell_type": "markdown",
   "id": "0b3a7b2e",
   "metadata": {},
   "source": [
    "Perform CoKriging and Krigings"
   ]
  },
  {
   "cell_type": "code",
   "execution_count": null,
   "id": "9cc0a9cc",
   "metadata": {},
   "outputs": [],
   "source": [
    "test_kriging(model, \"Intrinsic_Correlation\")"
   ]
  },
  {
   "cell_type": "markdown",
   "id": "f35e9970",
   "metadata": {},
   "source": [
    "### Markov Model"
   ]
  },
  {
   "cell_type": "code",
   "execution_count": null,
   "id": "fe7d2371",
   "metadata": {
    "scrolled": true
   },
   "outputs": [],
   "source": [
    "model = gl.Model(2,2)\n",
    "model.addCovFromParam(gl.ECov.CUBIC,range=50,sills=np.array([[1,2],[2,4]]))\n",
    "model.addCovFromParam(gl.ECov.SPHERICAL,range=20,sills=np.array([[0,0],[0,9]]))\n",
    "model.display()"
   ]
  },
  {
   "cell_type": "markdown",
   "id": "6cdb4fe1",
   "metadata": {},
   "source": [
    "Perform CoKriging and Krigings"
   ]
  },
  {
   "cell_type": "code",
   "execution_count": null,
   "id": "308e19fb",
   "metadata": {
    "scrolled": true
   },
   "outputs": [],
   "source": [
    "test_kriging(model, \"Markov_COK\")"
   ]
  }
 ],
 "metadata": {
  "kernelspec": {
   "display_name": "Python 3 (ipykernel)",
   "language": "python",
   "name": "python3"
  },
  "language_info": {
   "codemirror_mode": {
    "name": "ipython",
    "version": 3
   },
   "file_extension": ".py",
   "mimetype": "text/x-python",
   "name": "python",
   "nbconvert_exporter": "python",
   "pygments_lexer": "ipython3",
   "version": "3.10.5"
  },
  "toc": {
   "base_numbering": 1,
   "nav_menu": {},
   "number_sections": true,
   "sideBar": true,
   "skip_h1_title": true,
   "title_cell": "Table of Contents",
   "title_sidebar": "Contents",
   "toc_cell": false,
   "toc_position": {
    "height": "calc(100% - 180px)",
    "left": "10px",
    "top": "150px",
    "width": "188.267px"
   },
   "toc_section_display": true,
   "toc_window_display": false
  }
 },
 "nbformat": 4,
 "nbformat_minor": 5
}
