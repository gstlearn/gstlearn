{
 "cells": [
  {
   "cell_type": "markdown",
   "id": "a10275e4",
   "metadata": {},
   "source": [
    "# Grid Refinement"
   ]
  },
  {
   "cell_type": "markdown",
   "id": "ca680e99",
   "metadata": {},
   "source": [
    "<!-- SUMMARY: Grid Refinement techniques and performances  -->\n",
    "\n",
    "<!-- CATEGORY: Data_Base_Management -->"
   ]
  },
  {
   "cell_type": "markdown",
   "id": "8831cc09",
   "metadata": {},
   "source": [
    "This case study is meant to demonstrate how to use *gstlearn* for coarsening or refining Grids (stored as DbGrid)."
   ]
  },
  {
   "cell_type": "code",
   "execution_count": null,
   "id": "1fe8ce32",
   "metadata": {},
   "outputs": [],
   "source": [
    "import gstlearn as gl\n",
    "import gstlearn.plot as gp\n",
    "import gstlearn.document as gdoc\n",
    "import matplotlib.pyplot as plt\n",
    "import numpy as np\n",
    "\n",
    "gdoc.setNoScroll()"
   ]
  },
  {
   "cell_type": "markdown",
   "id": "647689da",
   "metadata": {},
   "source": [
    "Global parameters"
   ]
  },
  {
   "cell_type": "code",
   "execution_count": null,
   "id": "0b54ebcb",
   "metadata": {},
   "outputs": [],
   "source": [
    "ndim = 2\n",
    "gl.defineDefaultSpace(gl.ESpaceType.RN,ndim)"
   ]
  },
  {
   "cell_type": "markdown",
   "id": "cf6fcd88",
   "metadata": {},
   "source": [
    "Generate initial grid"
   ]
  },
  {
   "cell_type": "code",
   "execution_count": null,
   "id": "923ea22e",
   "metadata": {},
   "outputs": [],
   "source": [
    "grid = gl.DbGrid.create([100,100], [0.01,0.01])"
   ]
  },
  {
   "cell_type": "raw",
   "id": "25742212",
   "metadata": {},
   "source": [
    "Creating the Data: they consist of one constant field, a simulated one, followed by two other constant fields. Only the simulated field as a Locator assigned."
   ]
  },
  {
   "cell_type": "code",
   "execution_count": null,
   "id": "05f66ee7",
   "metadata": {},
   "outputs": [],
   "source": [
    "iatt = grid.addColumnsByConstant(1,1.2,\"Bidon1\")\n",
    "model_init = gl.Model.createFromParam(gl.ECov.EXPONENTIAL, 0.1, 1.)\n",
    "iatt = gl.simtub(None, grid, model_init)\n",
    "iatt = grid.addColumnsByConstant(2,1.2,\"Bidon2\")"
   ]
  },
  {
   "cell_type": "code",
   "execution_count": null,
   "id": "eb9c356b",
   "metadata": {},
   "outputs": [],
   "source": [
    "grid.display()"
   ]
  },
  {
   "cell_type": "code",
   "execution_count": null,
   "id": "cbb260a5",
   "metadata": {},
   "outputs": [],
   "source": [
    "res = gp.plot(grid)"
   ]
  },
  {
   "cell_type": "markdown",
   "id": "33830ec8",
   "metadata": {},
   "source": [
    "A new grid is created, coarser than the initial one"
   ]
  },
  {
   "cell_type": "code",
   "execution_count": null,
   "id": "ff574f7f",
   "metadata": {},
   "outputs": [],
   "source": [
    "nmult = [3,3]\n",
    "gridCoarse = grid.coarsify(nmult)"
   ]
  },
  {
   "cell_type": "code",
   "execution_count": null,
   "id": "bb344d69",
   "metadata": {},
   "outputs": [],
   "source": [
    "gridCoarse"
   ]
  },
  {
   "cell_type": "code",
   "execution_count": null,
   "id": "14714aeb",
   "metadata": {},
   "outputs": [],
   "source": [
    "res = gp.plot(gridCoarse)"
   ]
  },
  {
   "cell_type": "markdown",
   "id": "b0947652",
   "metadata": {},
   "source": [
    "Another finer grid is created, starting from the Coarse grid."
   ]
  },
  {
   "cell_type": "code",
   "execution_count": null,
   "id": "c09e771e",
   "metadata": {},
   "outputs": [],
   "source": [
    "gridFine = gridCoarse.refine(nmult)"
   ]
  },
  {
   "cell_type": "code",
   "execution_count": null,
   "id": "6a0e728b",
   "metadata": {},
   "outputs": [],
   "source": [
    "gridFine"
   ]
  },
  {
   "cell_type": "code",
   "execution_count": null,
   "id": "bd11d9a8",
   "metadata": {},
   "outputs": [],
   "source": [
    "res = gp.plot(gridFine)"
   ]
  }
 ],
 "metadata": {
  "kernelspec": {
   "display_name": "Python 3",
   "language": "python",
   "name": "python3"
  },
  "language_info": {
   "codemirror_mode": {
    "name": "ipython",
    "version": 3
   },
   "file_extension": ".py",
   "mimetype": "text/x-python",
   "name": "python",
   "nbconvert_exporter": "python",
   "pygments_lexer": "ipython3",
   "version": "3.10.5"
  },
  "toc": {
   "base_numbering": 1,
   "nav_menu": {},
   "number_sections": true,
   "sideBar": true,
   "skip_h1_title": false,
   "title_cell": "Table of Contents",
   "title_sidebar": "Contents",
   "toc_cell": false,
   "toc_position": {},
   "toc_section_display": true,
   "toc_window_display": false
  }
 },
 "nbformat": 4,
 "nbformat_minor": 5
}
