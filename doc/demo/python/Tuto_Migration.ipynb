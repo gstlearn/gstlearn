{
 "cells": [
  {
   "cell_type": "markdown",
   "id": "7718c2a8",
   "metadata": {},
   "source": [
    "# Migrate Facility"
   ]
  },
  {
   "cell_type": "code",
   "execution_count": null,
   "id": "da029582",
   "metadata": {},
   "outputs": [],
   "source": [
    "%%javascript\n",
    "IPython.OutputArea.prototype._should_scroll = function(lines) {\n",
    "    return false;\n",
    "}"
   ]
  },
  {
   "cell_type": "markdown",
   "id": "ed8b80f3",
   "metadata": {},
   "source": [
    "This case study is meant to demonstrate how to use *gstlearn* for migrating information from Db to DbGrid and vice-versa. Note that, in order to test the whole possibilities, we add a selection to both files."
   ]
  },
  {
   "cell_type": "code",
   "execution_count": null,
   "id": "9289c006",
   "metadata": {},
   "outputs": [],
   "source": [
    "import gstlearn as gl\n",
    "import gstlearn.plot as gp\n",
    "import matplotlib.pyplot as plt\n",
    "import numpy as np"
   ]
  },
  {
   "cell_type": "markdown",
   "id": "d446a018",
   "metadata": {},
   "source": [
    "Global parameters."
   ]
  },
  {
   "cell_type": "code",
   "execution_count": null,
   "id": "24768947",
   "metadata": {},
   "outputs": [],
   "source": [
    "ndim = 2\n",
    "gl.defineDefaultSpace(gl.ESpaceType.RN,ndim)"
   ]
  },
  {
   "cell_type": "markdown",
   "id": "a99fb195",
   "metadata": {},
   "source": [
    "Generate initial data set"
   ]
  },
  {
   "cell_type": "code",
   "execution_count": null,
   "id": "feb5777f",
   "metadata": {},
   "outputs": [],
   "source": [
    "data = gl.Db.createFillRandom(ndat=20, ndim=ndim, nvar=1)\n",
    "data.addSelectionByRanks(np.arange(2,18))\n",
    "data.display()"
   ]
  },
  {
   "cell_type": "code",
   "execution_count": null,
   "id": "b83cb48d",
   "metadata": {},
   "outputs": [],
   "source": [
    "gp.plot(data, name_size=\"z\")"
   ]
  },
  {
   "cell_type": "markdown",
   "id": "510b622a",
   "metadata": {},
   "source": [
    "Create a grid, over the [0,1] x [0,1]"
   ]
  },
  {
   "cell_type": "code",
   "execution_count": null,
   "id": "0a268fc6",
   "metadata": {},
   "outputs": [],
   "source": [
    "grid = gl.DbGrid.create([50,50],dx=[0.02,0.02])\n",
    "grid.addSelectionFromDbByConvexHull(data,0.05)\n",
    "grid.display()"
   ]
  },
  {
   "cell_type": "markdown",
   "id": "a72787b1",
   "metadata": {},
   "source": [
    "Migrate the information from **data** to **grid**. The migration is limited to te cell to which each sample belongs."
   ]
  },
  {
   "cell_type": "code",
   "execution_count": null,
   "id": "0341ea2c",
   "metadata": {},
   "outputs": [],
   "source": [
    "err = gl.migrate(data, grid, \"z\", namconv=gl.NamingConvention(\"Migrate-NoFill\",False))\n",
    "ax = gp.grid(grid)\n",
    "ax = gp.plot(data)"
   ]
  },
  {
   "cell_type": "markdown",
   "id": "f74813d3",
   "metadata": {},
   "source": [
    "In this second attempt, we use the **flag_fill** option to fill the whole grid. However we compensate by specifying a maximum filling distance. Moreover we make this maximum distance anisotropic for ckecking."
   ]
  },
  {
   "cell_type": "code",
   "execution_count": null,
   "id": "db6836ba",
   "metadata": {},
   "outputs": [],
   "source": [
    "err = gl.migrate(data, grid, \"z\", flag_fill=True, dmax=[0.1,0.2], \n",
    "                 namconv=gl.NamingConvention(\"Migrate-Fill\",False))\n",
    "ax = gp.grid(grid)\n",
    "ax = gp.plot(data)"
   ]
  }
 ],
 "metadata": {
  "kernelspec": {
   "display_name": "Python 3 (ipykernel)",
   "language": "python",
   "name": "python3"
  },
  "language_info": {
   "codemirror_mode": {
    "name": "ipython",
    "version": 3
   },
   "file_extension": ".py",
   "mimetype": "text/x-python",
   "name": "python",
   "nbconvert_exporter": "python",
   "pygments_lexer": "ipython3",
   "version": "3.10.5"
  }
 },
 "nbformat": 4,
 "nbformat_minor": 5
}
