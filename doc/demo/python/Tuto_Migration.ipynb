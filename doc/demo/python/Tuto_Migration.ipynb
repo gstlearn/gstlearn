{
 "cells": [
  {
   "cell_type": "markdown",
   "id": "7718c2a8",
   "metadata": {},
   "source": [
    "# Migration Facility"
   ]
  },
  {
   "cell_type": "markdown",
   "id": "57609d7f",
   "metadata": {},
   "source": [
    "<!-- SUMMARY: Migration of one or several variables from one data organization to another. Particular use of the Ball Tree sorting. -->\n",
    "\n",
    "<!-- CATEGORY: Data_Base_Management -->"
   ]
  },
  {
   "cell_type": "markdown",
   "id": "ed8b80f3",
   "metadata": {},
   "source": [
    "This case study is meant to demonstrate how to use *gstlearn* for migrating information from Db to DbGrid and vice-versa. Note that, in order to test the whole possibilities, we add a selection to both files."
   ]
  },
  {
   "cell_type": "code",
   "execution_count": null,
   "id": "9289c006",
   "metadata": {},
   "outputs": [],
   "source": [
    "import gstlearn as gl\n",
    "import gstlearn.plot as gp\n",
    "import gstlearn.document as gdoc\n",
    "import matplotlib.pyplot as plt\n",
    "import numpy as np\n",
    "\n",
    "gdoc.setNoScroll()"
   ]
  },
  {
   "cell_type": "markdown",
   "id": "d446a018",
   "metadata": {},
   "source": [
    "Global parameters."
   ]
  },
  {
   "cell_type": "code",
   "execution_count": null,
   "id": "24768947",
   "metadata": {},
   "outputs": [],
   "source": [
    "ndim = 2\n",
    "gl.defineDefaultSpace(gl.ESpaceType.RN,ndim)"
   ]
  },
  {
   "cell_type": "markdown",
   "id": "a99fb195",
   "metadata": {},
   "source": [
    "Generate initial data set"
   ]
  },
  {
   "cell_type": "code",
   "execution_count": null,
   "id": "feb5777f",
   "metadata": {},
   "outputs": [],
   "source": [
    "data = gl.Db.createFillRandom(ndat=20, ndim=ndim, nvar=1)\n",
    "data.addSelectionByRanks(np.arange(2,18))\n",
    "data.display()"
   ]
  },
  {
   "cell_type": "code",
   "execution_count": null,
   "id": "b83cb48d",
   "metadata": {},
   "outputs": [],
   "source": [
    "gp.plot(data, nameSize=\"z\")"
   ]
  },
  {
   "cell_type": "markdown",
   "id": "510b622a",
   "metadata": {},
   "source": [
    "Create a grid, over the [0,1] x [0,1]"
   ]
  },
  {
   "cell_type": "code",
   "execution_count": null,
   "id": "0a268fc6",
   "metadata": {},
   "outputs": [],
   "source": [
    "grid = gl.DbGrid.create([50,50],dx=[0.02,0.02])\n",
    "grid.addSelectionFromDbByConvexHull(data,0.05)\n",
    "grid.display()"
   ]
  },
  {
   "cell_type": "markdown",
   "id": "a72787b1",
   "metadata": {},
   "source": [
    "Migrate the information from **data** to **grid**. The migration is limited to te cell to which each sample belongs."
   ]
  },
  {
   "cell_type": "code",
   "execution_count": null,
   "id": "0341ea2c",
   "metadata": {},
   "outputs": [],
   "source": [
    "err = gl.migrate(data, grid, \"z\", namconv=gl.NamingConvention(\"Migrate-NoFill\",False))\n",
    "ax = gp.grid(grid)\n",
    "ax = gp.plot(data)"
   ]
  },
  {
   "cell_type": "markdown",
   "id": "f74813d3",
   "metadata": {},
   "source": [
    "In this second attempt, we use the **flag_fill** option to fill the whole grid. However we compensate by specifying a maximum filling distance. Moreover we make this maximum distance anisotropic for ckecking."
   ]
  },
  {
   "cell_type": "code",
   "execution_count": null,
   "id": "db6836ba",
   "metadata": {},
   "outputs": [],
   "source": [
    "err = gl.migrate(data, grid, \"z\", flag_fill=True, dmax=[0.1,0.2], \n",
    "                 namconv=gl.NamingConvention(\"Migrate-Fill\",False))\n",
    "ax = gp.grid(grid)\n",
    "ax = gp.plot(data)"
   ]
  },
  {
   "cell_type": "markdown",
   "id": "7e29ab1c",
   "metadata": {},
   "source": [
    "## Ball Tree"
   ]
  },
  {
   "cell_type": "markdown",
   "id": "1d21ecc2",
   "metadata": {},
   "source": [
    "Ball Tree is a special algorithm which makes search much more efficient. The principle is to build a Ball Tree based on a first data set. Then, using this tree, it is easy to consider a second data base and to search for the set of samples of the first data base which are the closest neighbors of each sample of the second data base.\n",
    "\n",
    "To delonstrate this facility, we consider the case where we cannot benefit from any specific oragnization (grid for example) for any of the two data bases. Moreover (although this is a demnstration file, not a bench marking one), we consider a dense data set for better legibility"
   ]
  },
  {
   "cell_type": "code",
   "execution_count": null,
   "id": "3d0bddff",
   "metadata": {},
   "outputs": [],
   "source": [
    "ndat = 10000\n",
    "db = gl.Db.createFillRandom(ndat)\n",
    "ax = gp.point(db)\n",
    "ax.decoration(title=\"Location of samples from the First Data Base\")"
   ]
  },
  {
   "cell_type": "markdown",
   "id": "ac830fc3",
   "metadata": {},
   "source": [
    "We build the corresponding BallTree structure"
   ]
  },
  {
   "cell_type": "code",
   "execution_count": null,
   "id": "d8a05704",
   "metadata": {},
   "outputs": [],
   "source": [
    "ball = gl.Ball(db, None, 10, False, 1)"
   ]
  },
  {
   "cell_type": "markdown",
   "id": "7fc1b5f7",
   "metadata": {},
   "source": [
    "We now consider one target location and ask for the set of corresponding neighboring samples (say 10 closest samples). The target site is selected as the center of the square."
   ]
  },
  {
   "cell_type": "code",
   "execution_count": null,
   "id": "3e9784ba",
   "metadata": {},
   "outputs": [],
   "source": [
    "neigh_size = 500\n",
    "center = [0.5, 0.5]\n",
    "knn1 = ball.queryOneAsVD(gl.VectorDouble(center), neigh_size)"
   ]
  },
  {
   "cell_type": "markdown",
   "id": "721a2628",
   "metadata": {},
   "source": [
    "The returned argument is a C objet (not mapped explicitly for Pythonn ... yet). However, some (statc) functions are available to retreive the contents of this objects. We use *getIndices* which returns the vector of ranks of samples constituting the neighborhood of the target site."
   ]
  },
  {
   "cell_type": "code",
   "execution_count": null,
   "id": "e4f9d78e",
   "metadata": {},
   "outputs": [],
   "source": [
    "target = db.clone()\n",
    "target.deleteColumn(\"Selection\")\n",
    "iuid = target.addSelectionByRanks(knn1.getIndices(), \"Selection\")"
   ]
  },
  {
   "cell_type": "markdown",
   "id": "408c4a0b",
   "metadata": {},
   "source": [
    "As a consequence of the choice of the *Euclidean distance*, the set of samples neighboring the target (represented as a black square) are located within a circle centered on the target"
   ]
  },
  {
   "cell_type": "code",
   "execution_count": null,
   "id": "2130ca9d",
   "metadata": {},
   "outputs": [],
   "source": [
    "ax = gp.point(db, size=1)\n",
    "ax = gp.point(target, color=\"yellow\", flagCst=True, size=1)\n",
    "ax = gp.sample(center, marker='s')\n",
    "ax.decoration(title=\"Euclidean distance\")"
   ]
  },
  {
   "cell_type": "markdown",
   "id": "38767deb",
   "metadata": {},
   "source": [
    "We can produce a similar figure changing the distance, from Euclidean to Manhattan."
   ]
  },
  {
   "cell_type": "code",
   "execution_count": null,
   "id": "a7f0e636",
   "metadata": {},
   "outputs": [],
   "source": [
    "ball = gl.Ball(db, None, 10, False, 2)\n",
    "\n",
    "knn2 = ball.queryOneAsVD(gl.VectorDouble(center), neigh_size)\n",
    "\n",
    "target = db.clone()\n",
    "target.deleteColumn(\"Selection\")\n",
    "iuid = target.addSelectionByRanks(knn2.getIndices(), \"Selection\")"
   ]
  },
  {
   "cell_type": "markdown",
   "id": "21bafa17",
   "metadata": {},
   "source": [
    "As a consequence of the choice of the *Manhattan distance*, the set of samples neighboring the target (represented as a black square) are located within a diamond centered on the target"
   ]
  },
  {
   "cell_type": "code",
   "execution_count": null,
   "id": "4beed737",
   "metadata": {},
   "outputs": [],
   "source": [
    "ax = gp.point(db, size=1)\n",
    "ax = gp.point(target, color=\"yellow\", flagCst=True, size=1)\n",
    "ax = gp.sample(center, marker='s')\n",
    "ax.decoration(title=\"Manhattan distance\")"
   ]
  }
 ],
 "metadata": {
  "kernelspec": {
   "display_name": "Python 3 (ipykernel)",
   "language": "python",
   "name": "python3"
  },
  "language_info": {
   "codemirror_mode": {
    "name": "ipython",
    "version": 3
   },
   "file_extension": ".py",
   "mimetype": "text/x-python",
   "name": "python",
   "nbconvert_exporter": "python",
   "pygments_lexer": "ipython3",
   "version": "3.10.5"
  },
  "toc": {
   "base_numbering": 1,
   "nav_menu": {},
   "number_sections": true,
   "sideBar": true,
   "skip_h1_title": false,
   "title_cell": "Table of Contents",
   "title_sidebar": "Contents",
   "toc_cell": false,
   "toc_position": {},
   "toc_section_display": true,
   "toc_window_display": false
  }
 },
 "nbformat": 4,
 "nbformat_minor": 5
}
