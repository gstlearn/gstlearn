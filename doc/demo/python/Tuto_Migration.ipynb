{
 "cells": [
  {
   "cell_type": "markdown",
   "id": "18662d00",
   "metadata": {},
   "source": [
    "# Migration Facility"
   ]
  },
  {
   "cell_type": "markdown",
   "id": "b596d6b2",
   "metadata": {},
   "source": [
    "<!-- SUMMARY: Migration of one or several variables from one data organization to another. Particular use of the Ball Tree sorting. -->\n",
    "\n",
    "<!-- CATEGORY: Data_Base_Management -->"
   ]
  },
  {
   "cell_type": "markdown",
   "id": "2a19baea",
   "metadata": {},
   "source": [
    "This case study is meant to demonstrate how to use *gstlearn* for migrating information from Db to DbGrid and vice-versa. Note that, in order to test the whole possibilities, we add a selection to both files."
   ]
  },
  {
   "cell_type": "code",
   "execution_count": null,
   "id": "4a3a8605",
   "metadata": {},
   "outputs": [],
   "source": [
    "import gstlearn as gl\n",
    "import gstlearn.plot as gp\n",
    "import gstlearn.document as gdoc\n",
    "import matplotlib.pyplot as plt\n",
    "import numpy as np\n",
    "\n",
    "gdoc.setNoScroll()"
   ]
  },
  {
   "cell_type": "markdown",
   "id": "3f7a0ebe",
   "metadata": {},
   "source": [
    "Global parameters."
   ]
  },
  {
   "cell_type": "code",
   "execution_count": null,
   "id": "0096f006",
   "metadata": {},
   "outputs": [],
   "source": [
    "ndim = 2\n",
    "gl.defineDefaultSpace(gl.ESpaceType.RN,ndim)"
   ]
  },
  {
   "cell_type": "markdown",
   "id": "142696e9",
   "metadata": {},
   "source": [
    "Generate initial data set"
   ]
  },
  {
   "cell_type": "code",
   "execution_count": null,
   "id": "7a50e26b",
   "metadata": {},
   "outputs": [],
   "source": [
    "data = gl.Db.createFillRandom(ndat=20, ndim=ndim, nvar=1)\n",
    "data.addSelectionByRanks(np.arange(2,18))\n",
    "data.display()"
   ]
  },
  {
   "cell_type": "code",
   "execution_count": null,
   "id": "f87ae368",
   "metadata": {},
   "outputs": [],
   "source": [
    "res = gp.plot(data, nameSize=\"z\")"
   ]
  },
  {
   "cell_type": "markdown",
   "id": "fc2d284a",
   "metadata": {},
   "source": [
    "Create a grid, over the [0,1] x [0,1]"
   ]
  },
  {
   "cell_type": "code",
   "execution_count": null,
   "id": "f469f04d",
   "metadata": {},
   "outputs": [],
   "source": [
    "grid = gl.DbGrid.create([50,50],dx=[0.02,0.02])\n",
    "grid.addSelectionFromDbByConvexHull(data,0.05)\n",
    "grid.display()"
   ]
  },
  {
   "cell_type": "markdown",
   "id": "003d9bbb",
   "metadata": {},
   "source": [
    "Migrate the information from **data** to **grid**. The migration is limited to te cell to which each sample belongs."
   ]
  },
  {
   "cell_type": "code",
   "execution_count": null,
   "id": "cd841c34",
   "metadata": {},
   "outputs": [],
   "source": [
    "err = gl.migrate(data, grid, \"z\", namconv=gl.NamingConvention(\"Migrate-NoFill\",False))\n",
    "gp.raster(grid)\n",
    "gp.plot(data)\n",
    "plt.show()"
   ]
  },
  {
   "cell_type": "markdown",
   "id": "94e38ddf",
   "metadata": {},
   "source": [
    "In this second attempt, we use the **flag_fill** option to fill the whole grid. However we compensate by specifying a maximum filling distance. Moreover we make this maximum distance anisotropic for ckecking."
   ]
  },
  {
   "cell_type": "code",
   "execution_count": null,
   "id": "3f627128",
   "metadata": {},
   "outputs": [],
   "source": [
    "err = gl.migrate(data, grid, \"z\", flag_fill=True, dmax=[0.1,0.2], \n",
    "                 namconv=gl.NamingConvention(\"Migrate-Fill\",False))\n",
    "gp.raster(grid)\n",
    "gp.plot(data)\n",
    "plt.show()"
   ]
  },
  {
   "cell_type": "markdown",
   "id": "a498aa36",
   "metadata": {},
   "source": [
    "## Ball Tree"
   ]
  },
  {
   "cell_type": "markdown",
   "id": "8d23b4bf",
   "metadata": {},
   "source": [
    "Ball Tree is a special algorithm which makes search much more efficient. The principle is to build a Ball Tree based on a first data set. Then, using this tree, it is easy to consider a second data base and to search for the set of samples of the first data base which are the closest neighbors of each sample of the second data base.\n",
    "\n",
    "To delonstrate this facility, we consider the case where we cannot benefit from any specific oragnization (grid for example) for any of the two data bases. Moreover (although this is a demnstration file, not a bench marking one), we consider a dense data set for better legibility"
   ]
  },
  {
   "cell_type": "code",
   "execution_count": null,
   "id": "2d49b3cf",
   "metadata": {},
   "outputs": [],
   "source": [
    "ndat = 10000\n",
    "db = gl.Db.createFillRandom(ndat)\n",
    "\n",
    "gp.symbol(db)\n",
    "gp.decoration(title=\"Location of samples from the First Data Base\")"
   ]
  },
  {
   "cell_type": "markdown",
   "id": "04e670d4",
   "metadata": {},
   "source": [
    "We build the corresponding BallTree structure"
   ]
  },
  {
   "cell_type": "code",
   "execution_count": null,
   "id": "5cbc7a42",
   "metadata": {},
   "outputs": [],
   "source": [
    "ball = gl.Ball(db, None, None, 10, False, 1)"
   ]
  },
  {
   "cell_type": "markdown",
   "id": "07e4e04c",
   "metadata": {},
   "source": [
    "We now consider one target location and ask for the set of corresponding neighboring samples (say 10 closest samples). The target site is selected as the center of the square."
   ]
  },
  {
   "cell_type": "code",
   "execution_count": null,
   "id": "0ebb8b20",
   "metadata": {},
   "outputs": [],
   "source": [
    "neigh_size = 500\n",
    "center = [0.5, 0.5]\n",
    "knn1 = ball.queryOneAsVD(gl.VectorDouble(center), neigh_size)"
   ]
  },
  {
   "cell_type": "markdown",
   "id": "b301dbb4",
   "metadata": {},
   "source": [
    "The returned argument is a C objet (not mapped explicitly for Pythonn ... yet). However, some (statc) functions are available to retreive the contents of this objects. We use *getIndices* which returns the vector of ranks of samples constituting the neighborhood of the target site."
   ]
  },
  {
   "cell_type": "code",
   "execution_count": null,
   "id": "efe1f0fb",
   "metadata": {},
   "outputs": [],
   "source": [
    "target = db.clone()\n",
    "target.deleteColumn(\"Selection\")\n",
    "iuid = target.addSelectionByRanks(knn1.getIndices(), \"Selection\")"
   ]
  },
  {
   "cell_type": "markdown",
   "id": "6ed8d33d",
   "metadata": {},
   "source": [
    "As a consequence of the choice of the *Euclidean distance*, the set of samples neighboring the target (represented as a black square) are located within a circle centered on the target"
   ]
  },
  {
   "cell_type": "code",
   "execution_count": null,
   "id": "50cbe36d",
   "metadata": {},
   "outputs": [],
   "source": [
    "gp.symbol(db, s=1)\n",
    "gp.symbol(target, c=\"yellow\", flagCst=True, s=1)\n",
    "gp.sample(center, marker='s')\n",
    "gp.decoration(title=\"Euclidean distance\")"
   ]
  },
  {
   "cell_type": "markdown",
   "id": "442aff04",
   "metadata": {},
   "source": [
    "We can produce a similar figure changing the distance, from Euclidean to Manhattan."
   ]
  },
  {
   "cell_type": "code",
   "execution_count": null,
   "id": "fd88269d",
   "metadata": {},
   "outputs": [],
   "source": [
    "ball = gl.Ball(db, None, None, 10, False, 2)\n",
    "\n",
    "knn2 = ball.queryOneAsVD(gl.VectorDouble(center), neigh_size)\n",
    "\n",
    "target = db.clone()\n",
    "target.deleteColumn(\"Selection\")\n",
    "iuid = target.addSelectionByRanks(knn2.getIndices(), \"Selection\")"
   ]
  },
  {
   "cell_type": "markdown",
   "id": "6cface75",
   "metadata": {},
   "source": [
    "As a consequence of the choice of the *Manhattan distance*, the set of samples neighboring the target (represented as a black square) are located within a diamond centered on the target"
   ]
  },
  {
   "cell_type": "code",
   "execution_count": null,
   "id": "52cd4cc6",
   "metadata": {},
   "outputs": [],
   "source": [
    "gp.symbol(db, s=1)\n",
    "gp.symbol(target, c=\"yellow\", flagCst=True, s=1)\n",
    "gp.sample(center, marker='s')\n",
    "gp.decoration(title=\"Manhattan distance\")"
   ]
  }
 ],
 "metadata": {
  "kernelspec": {
   "display_name": "Python 3 (ipykernel)",
   "language": "python",
   "name": "python3"
  },
  "language_info": {
   "codemirror_mode": {
    "name": "ipython",
    "version": 3
   },
   "file_extension": ".py",
   "mimetype": "text/x-python",
   "name": "python",
   "nbconvert_exporter": "python",
   "pygments_lexer": "ipython3",
   "version": "3.10.5"
  },
  "toc": {
   "base_numbering": 1,
   "nav_menu": {},
   "number_sections": true,
   "sideBar": true,
   "skip_h1_title": false,
   "title_cell": "Table of Contents",
   "title_sidebar": "Contents",
   "toc_cell": false,
   "toc_position": {},
   "toc_section_display": true,
   "toc_window_display": false
  }
 },
 "nbformat": 4,
 "nbformat_minor": 5
}
