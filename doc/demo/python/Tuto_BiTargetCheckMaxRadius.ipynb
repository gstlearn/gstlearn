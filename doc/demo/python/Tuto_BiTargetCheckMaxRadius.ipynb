{
 "cells": [
  {
   "cell_type": "markdown",
   "id": "71747737",
   "metadata": {},
   "source": [
    "# Extending the gstlearn"
   ]
  },
  {
   "cell_type": "markdown",
   "id": "696fe9ac",
   "metadata": {},
   "source": [
    "The aim of this tutorial is to show how to customize the default behaviour of the **gstlearn** package. The choosen example here shows how to define your own moving neighborhood criteria."
   ]
  },
  {
   "cell_type": "code",
   "execution_count": null,
   "id": "e3ce2b31",
   "metadata": {},
   "outputs": [],
   "source": [
    "%%javascript\n",
    "IPython.OutputArea.prototype._should_scroll = function(lines) {\n",
    "    return false;\n",
    "}"
   ]
  },
  {
   "cell_type": "markdown",
   "id": "88355092",
   "metadata": {},
   "source": [
    "# Initialization"
   ]
  },
  {
   "cell_type": "code",
   "execution_count": null,
   "id": "941a7d5e",
   "metadata": {},
   "outputs": [],
   "source": [
    "import pandas as pd\n",
    "import numpy as np\n",
    "import gstlearn as gl\n",
    "import gstlearn.plot as gp\n",
    "import urllib.request"
   ]
  },
  {
   "cell_type": "code",
   "execution_count": null,
   "id": "8eb6ff71",
   "metadata": {
    "scrolled": false
   },
   "outputs": [],
   "source": [
    "url = 'https://soft.minesparis.psl.eu/gstlearn/data/Scotland/Scotland_Temperatures.csv'\n",
    "filecsv, head = urllib.request.urlretrieve(url)\n",
    "datcsv = pd.read_csv(filecsv, na_values=\"MISS\")\n",
    "datcsv"
   ]
  },
  {
   "cell_type": "markdown",
   "id": "b4de7b57",
   "metadata": {},
   "source": [
    "We create a Db and set the **locators** for the coordinates and the variable of interest. We then create a selection to mask automatically undefined values for the temperature variable."
   ]
  },
  {
   "cell_type": "code",
   "execution_count": null,
   "id": "b8bfed91",
   "metadata": {
    "scrolled": true
   },
   "outputs": [],
   "source": [
    "data = gl.Db()\n",
    "for field in datcsv.columns :\n",
    "  data[field] = datcsv[field]\n",
    "data.setLocators([\"Longitude\",\"Latitude\"], gl.ELoc.X)\n",
    "data.setLocator(\"January_temp\", gl.ELoc.Z)\n",
    "# Selection for defined values only\n",
    "data[\"TempOK\"] = ~np.isnan(data[\"January_temp\"])\n",
    "data.setLocator(\"TempOK\", gl.ELoc.SEL)\n",
    "data"
   ]
  },
  {
   "cell_type": "code",
   "execution_count": null,
   "id": "7275e5dc",
   "metadata": {
    "scrolled": true
   },
   "outputs": [],
   "source": [
    "gp.plot(data,sizmin=5,sizmax=50,flagLegendSymbol=True)"
   ]
  },
  {
   "cell_type": "markdown",
   "id": "0dd07ff9",
   "metadata": {},
   "source": [
    "We create automatically a grid data base covering all the data points. Number of node is choosen by trial/error in order to have more or less an homogeneous mesh size."
   ]
  },
  {
   "cell_type": "code",
   "execution_count": null,
   "id": "0df1e173",
   "metadata": {
    "scrolled": true
   },
   "outputs": [],
   "source": [
    "grid = gl.DbGrid.createCoveringDb(data, nx=[80,130], margin=[50,50])\n",
    "grid"
   ]
  },
  {
   "cell_type": "code",
   "execution_count": null,
   "id": "71c568b4",
   "metadata": {
    "scrolled": true
   },
   "outputs": [],
   "source": [
    "gp.plot(grid)\n",
    "gp.plot(data,sizmin=5,sizmax=50,flagLegendSymbol=True)"
   ]
  },
  {
   "cell_type": "markdown",
   "id": "454ad56e",
   "metadata": {},
   "source": [
    "# Playing with NeighMoving"
   ]
  },
  {
   "cell_type": "markdown",
   "id": "2f9b223f",
   "metadata": {},
   "source": [
    "We create a moving neighborhood definition object having only one big sector (a circle) with maximum 3 samples."
   ]
  },
  {
   "cell_type": "code",
   "execution_count": null,
   "id": "f3a29401",
   "metadata": {
    "scrolled": true
   },
   "outputs": [],
   "source": [
    "nmini = 1\n",
    "nmaxi = 3\n",
    "radius = 300 # Big radius\n",
    "nsect = 1\n",
    "neigh = gl.NeighMoving.create(False, nmaxi, radius, nmini, nsect)\n",
    "neigh"
   ]
  },
  {
   "cell_type": "markdown",
   "id": "42dfb5a4",
   "metadata": {},
   "source": [
    "We trigger the moving neighborhood algorithm applied to the target node (of the grid) which rank is 4511. We obtain three neighbors and display their ranks. "
   ]
  },
  {
   "cell_type": "code",
   "execution_count": null,
   "id": "db2bd127",
   "metadata": {},
   "outputs": [],
   "source": [
    "node = 4511\n",
    "neigh.attach(data, grid)\n",
    "ranks = neigh.select(node)\n",
    "ranks # Ranks 23, 75 and 143"
   ]
  },
  {
   "cell_type": "markdown",
   "id": "67acc1ce",
   "metadata": {},
   "source": [
    "Here is a small function using ax.neigh gstlearn function that offer the capability to display neigh results. The target node is in black and the neighbors in blue."
   ]
  },
  {
   "cell_type": "code",
   "execution_count": null,
   "id": "aa6265da",
   "metadata": {
    "scrolled": true
   },
   "outputs": [],
   "source": [
    "def show_neigh(data, grid, neigh, node, ranks):\n",
    "  ax = data.plot(name_size=\"January_temp\",sizmax=30, useSel=True)\n",
    "  if (len(ranks) > 0):\n",
    "    dataSel = data.clone()\n",
    "    dataSel.addSelectionByRanks(ranks)\n",
    "    ax = dataSel.plot(color='blue',name_size=\"January_temp\",sizmax=30)\n",
    "  ax.neigh(neigh, grid, node)\n",
    "  ax.decoration(\"Standard Neighborhood\")\n",
    "    \n",
    "show_neigh(data, grid, neigh, node, ranks)"
   ]
  },
  {
   "cell_type": "markdown",
   "id": "8b3f4b21",
   "metadata": {},
   "source": [
    "We reduce the radius of the circle so that only one neighbor will be selected."
   ]
  },
  {
   "cell_type": "code",
   "execution_count": null,
   "id": "9c11f7ad",
   "metadata": {
    "scrolled": true
   },
   "outputs": [],
   "source": [
    "nmini = 1\n",
    "nmaxi = 3\n",
    "radius = 30 # Smaller radius\n",
    "nsect = 1\n",
    "neigh = gl.NeighMoving.create(False, nmaxi, radius, nmini, nsect)\n",
    "neigh"
   ]
  },
  {
   "cell_type": "code",
   "execution_count": null,
   "id": "eab92b8c",
   "metadata": {
    "scrolled": false
   },
   "outputs": [],
   "source": [
    "node = 4511\n",
    "neigh.attach(data, grid)\n",
    "ranks = neigh.select(node)\n",
    "ranks # Only rank 143"
   ]
  },
  {
   "cell_type": "code",
   "execution_count": null,
   "id": "2be82695",
   "metadata": {},
   "outputs": [],
   "source": [
    "show_neigh(data, grid, neigh, node, ranks)"
   ]
  },
  {
   "cell_type": "markdown",
   "id": "576b28bc",
   "metadata": {},
   "source": [
    "# Extending the gstlearn"
   ]
  },
  {
   "cell_type": "markdown",
   "id": "ca8c1b85",
   "metadata": {},
   "source": [
    "In this pargraph, we want to add our own neighborhood \"checker\" by defining it in Python. We choose to mimick the maximum radius checker which is already available in the standard *NeighMoving* class.\n",
    "\n",
    "We create a new class (in Python) that inherits from the **gstlearn** C++ class named *ABiTargetCheck*. In that class, we define a member called *radius* and override two abstract methods:\n",
    " - isOK: that returns *True* if two space targets (see SpaceTarget class) are considered in the same neighborhood.\n",
    " - toString: that returns the characters string describing the class content."
   ]
  },
  {
   "cell_type": "code",
   "execution_count": null,
   "id": "e9ddce04",
   "metadata": {},
   "outputs": [],
   "source": [
    "class BiTargetCheckMaxRadius(gl.ABiTargetCheck):\n",
    "    def __init__(self, radius):\n",
    "        super(BiTargetCheckMaxRadius,self).__init__()\n",
    "        self.radius = radius\n",
    "        \n",
    "    def isOK(self,st1,st2):\n",
    "        return st1.getDistance(st2) < self.radius\n",
    "    \n",
    "    def toString(self,strfmt):\n",
    "        return \"This is my Max Radius checker: {}\".format(self.radius)\n"
   ]
  },
  {
   "cell_type": "markdown",
   "id": "1ee89187",
   "metadata": {},
   "source": [
    "Then, we recreate a NeighMoving object having a big radius (should select 3 neighbors), but we add our customized checker which indicates a small radius. Doing that, we hope that the neighborhood algorithm will select back only one sample (with rank 143)."
   ]
  },
  {
   "cell_type": "code",
   "execution_count": null,
   "id": "2065e04b",
   "metadata": {
    "scrolled": true
   },
   "outputs": [],
   "source": [
    "nmini = 1\n",
    "nmaxi = 3\n",
    "radius = 300 # Big radius\n",
    "neigh2 = gl.NeighMoving.create(False, nmaxi=nmaxi, nmini=nmini,radius=radius)\n",
    "# Prefer my own maximum radius checker!\n",
    "btc = BiTargetCheckMaxRadius(30)\n",
    "neigh2.addBiTargetCheck(btc)\n",
    "neigh2.display()"
   ]
  },
  {
   "cell_type": "code",
   "execution_count": null,
   "id": "131eb20a",
   "metadata": {
    "scrolled": true
   },
   "outputs": [],
   "source": [
    "node = 4511\n",
    "neigh2.attach(data, grid)\n",
    "ranks = neigh2.select(node)\n",
    "ranks # Should return 143"
   ]
  },
  {
   "cell_type": "markdown",
   "id": "02cdec1e",
   "metadata": {},
   "source": [
    "Here, the big ellipsoid circle is shown (default behavior) but only one sample is selected due to our customized checker."
   ]
  },
  {
   "cell_type": "code",
   "execution_count": null,
   "id": "illegal-label",
   "metadata": {},
   "outputs": [],
   "source": [
    "show_neigh(data, grid, neigh2, node, ranks)"
   ]
  },
  {
   "cell_type": "code",
   "execution_count": null,
   "id": "7f393f5e",
   "metadata": {},
   "outputs": [],
   "source": []
  }
 ],
 "metadata": {
  "kernelspec": {
   "display_name": "Python 3 (ipykernel)",
   "language": "python",
   "name": "python3"
  },
  "language_info": {
   "codemirror_mode": {
    "name": "ipython",
    "version": 3
   },
   "file_extension": ".py",
   "mimetype": "text/x-python",
   "name": "python",
   "nbconvert_exporter": "python",
   "pygments_lexer": "ipython3",
   "version": "3.10.12"
  }
 },
 "nbformat": 4,
 "nbformat_minor": 5
}
