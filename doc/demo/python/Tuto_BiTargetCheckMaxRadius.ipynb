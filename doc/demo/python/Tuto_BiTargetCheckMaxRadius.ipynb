{
 "cells": [
  {
   "cell_type": "code",
   "execution_count": null,
   "id": "e3ce2b31",
   "metadata": {},
   "outputs": [],
   "source": [
    "%%javascript\n",
    "IPython.OutputArea.prototype._should_scroll = function(lines) {\n",
    "    return false;\n",
    "}"
   ]
  },
  {
   "cell_type": "code",
   "execution_count": null,
   "id": "941a7d5e",
   "metadata": {},
   "outputs": [],
   "source": [
    "import pandas as pd\n",
    "import numpy as np\n",
    "import gstlearn as gl\n",
    "import gstlearn.plot as gp\n",
    "import urllib.request"
   ]
  },
  {
   "cell_type": "code",
   "execution_count": null,
   "id": "8eb6ff71",
   "metadata": {
    "scrolled": true
   },
   "outputs": [],
   "source": [
    "url = 'https://soft.minesparis.psl.eu/gstlearn/data/Scotland/Scotland_Temperatures.csv'\n",
    "filecsv, head = urllib.request.urlretrieve(url)\n",
    "datcsv = pd.read_csv(filecsv)\n",
    "datcsv"
   ]
  },
  {
   "cell_type": "code",
   "execution_count": null,
   "id": "1eca2bc7",
   "metadata": {},
   "outputs": [],
   "source": [
    "# Replace missing values and convert to numeric\n",
    "datcsv[\"January_temp\"].replace(\"MISS\", np.nan, inplace=True)\n",
    "datcsv = datcsv.astype(\"float64\")"
   ]
  },
  {
   "cell_type": "code",
   "execution_count": null,
   "id": "b8bfed91",
   "metadata": {
    "scrolled": true
   },
   "outputs": [],
   "source": [
    "data = gl.Db()\n",
    "data[list(datcsv.columns)] = datcsv\n",
    "data.setLocators([\"Longitude\",\"Latitude\"], gl.ELoc.X)\n",
    "data.setLocator(\"January_temp\", gl.ELoc.Z)\n",
    "data"
   ]
  },
  {
   "cell_type": "code",
   "execution_count": null,
   "id": "7275e5dc",
   "metadata": {},
   "outputs": [],
   "source": [
    "gp.plot(data)"
   ]
  },
  {
   "cell_type": "code",
   "execution_count": null,
   "id": "0df1e173",
   "metadata": {
    "scrolled": true
   },
   "outputs": [],
   "source": [
    "grid = gl.DbGrid.createCoveringDb(data, [80,130], margin=[50,50])\n",
    "grid"
   ]
  },
  {
   "cell_type": "code",
   "execution_count": null,
   "id": "71c568b4",
   "metadata": {},
   "outputs": [],
   "source": [
    "gp.plot(grid)\n",
    "gp.symbol(data)"
   ]
  },
  {
   "cell_type": "code",
   "execution_count": null,
   "id": "9c11f7ad",
   "metadata": {
    "scrolled": true
   },
   "outputs": [],
   "source": [
    "nmini = 1\n",
    "nmaxi = 3\n",
    "radius = 30\n",
    "nsect = 1\n",
    "neigh = gl.NeighMoving.create(False, nmaxi, radius, nmini, nsect)\n",
    "neigh"
   ]
  },
  {
   "cell_type": "code",
   "execution_count": null,
   "id": "eab92b8c",
   "metadata": {
    "scrolled": true
   },
   "outputs": [],
   "source": [
    "node = 4511\n",
    "neigh.attach(data, grid)\n",
    "ranks = neigh.select(node)\n",
    "ranks # Only rank 143"
   ]
  },
  {
   "cell_type": "code",
   "execution_count": null,
   "id": "aa6265da",
   "metadata": {},
   "outputs": [],
   "source": [
    "def show_neigh(data, grid, neigh, node, ranks):\n",
    "  ax = data.plot()\n",
    "  if (len(ranks) > 0):\n",
    "    dataSel = data.clone()\n",
    "    dataSel.addSelectionByRanks(ranks)\n",
    "    ax = dataSel.plot(color='blue')\n",
    "  ax.neigh(neigh, grid, node, flagCell=True)\n",
    "  ax.decoration(\"Standard Neighborhood\")\n",
    "    \n",
    "show_neigh(data, grid, neigh, node, ranks)"
   ]
  },
  {
   "cell_type": "code",
   "execution_count": null,
   "id": "e9ddce04",
   "metadata": {},
   "outputs": [],
   "source": [
    "# OPTION 1\n",
    "class BiTargetCheckMaxRadius(gl.BiTargetCheckDistance): # OK but override doesn't work\n",
    "# OPTION 2\n",
    "#class BiTargetCheckMaxRadius(gl.ABiTargetCheck): # NOK : No constructor defined - class is abstract\n",
    "    def __init__(self, r):\n",
    "        # If OPTION 1, puting the radius in __init__ below leads to select the good rank\n",
    "        super(BiTargetCheckMaxRadius,self).__init__()\n",
    "        self.r = r\n",
    "    def isOK(self,st1,st2):\n",
    "        print(\"isOk\")\n",
    "        return st1.getDistance(st2) < self.r\n",
    "    def toString(self,strfmt):\n",
    "        return \"coucou\"\n",
    "    def clone(self):\n",
    "        return self"
   ]
  },
  {
   "cell_type": "code",
   "execution_count": null,
   "id": "2065e04b",
   "metadata": {
    "scrolled": true
   },
   "outputs": [],
   "source": [
    "nmini = 1\n",
    "nmaxi = 3\n",
    "neigh2 = gl.NeighMoving.create(False, nmaxi=nmaxi, nmini=nmini)\n",
    "btc = BiTargetCheckMaxRadius(30)\n",
    "neigh2.addBiTargetCheck(btc)\n",
    "neigh2.display() # This should display the additionnal BiTargetCheck (cloning issue?)"
   ]
  },
  {
   "cell_type": "code",
   "execution_count": null,
   "id": "aec44f6e",
   "metadata": {},
   "outputs": [],
   "source": [
    "type(neigh2.getBipts(0)) # It exists !"
   ]
  },
  {
   "cell_type": "code",
   "execution_count": null,
   "id": "8c41e661",
   "metadata": {},
   "outputs": [],
   "source": [
    "btc.display() # \"coucou\" should be displayed! => NOK :-("
   ]
  },
  {
   "cell_type": "code",
   "execution_count": null,
   "id": "131eb20a",
   "metadata": {},
   "outputs": [],
   "source": [
    "node = 4511\n",
    "neigh2.attach(data, grid)\n",
    "ranks = neigh2.select(node)\n",
    "ranks # Wrong ranks"
   ]
  },
  {
   "cell_type": "code",
   "execution_count": null,
   "id": "illegal-label",
   "metadata": {},
   "outputs": [],
   "source": [
    "show_neigh(data, grid, neigh2, node, ranks)"
   ]
  },
  {
   "cell_type": "code",
   "execution_count": null,
   "id": "7f393f5e",
   "metadata": {},
   "outputs": [],
   "source": []
  }
 ],
 "metadata": {
  "kernelspec": {
   "display_name": "Python 3 (ipykernel)",
   "language": "python",
   "name": "python3"
  },
  "language_info": {
   "codemirror_mode": {
    "name": "ipython",
    "version": 3
   },
   "file_extension": ".py",
   "mimetype": "text/x-python",
   "name": "python",
   "nbconvert_exporter": "python",
   "pygments_lexer": "ipython3",
   "version": "3.10.12"
  }
 },
 "nbformat": 4,
 "nbformat_minor": 5
}
