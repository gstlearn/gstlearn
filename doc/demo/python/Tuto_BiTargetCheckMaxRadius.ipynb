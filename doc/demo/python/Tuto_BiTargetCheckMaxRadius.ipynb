{
 "cells": [
  {
   "cell_type": "code",
   "execution_count": 1,
   "id": "e3ce2b31",
   "metadata": {},
   "outputs": [
    {
     "data": {
      "application/javascript": [
       "IPython.OutputArea.prototype._should_scroll = function(lines) {\n",
       "    return false;\n",
       "}\n"
      ],
      "text/plain": [
       "<IPython.core.display.Javascript object>"
      ]
     },
     "metadata": {},
     "output_type": "display_data"
    }
   ],
   "source": [
    "%%javascript\n",
    "IPython.OutputArea.prototype._should_scroll = function(lines) {\n",
    "    return false;\n",
    "}"
   ]
  },
  {
   "cell_type": "code",
   "execution_count": 2,
   "id": "941a7d5e",
   "metadata": {},
   "outputs": [],
   "source": [
    "import pandas as pd\n",
    "import numpy as np\n",
    "import gstlearn as gl\n",
    "import gstlearn.plot as gp\n",
    "import urllib.request"
   ]
  },
  {
   "cell_type": "code",
   "execution_count": 3,
   "id": "8eb6ff71",
   "metadata": {
    "scrolled": true
   },
   "outputs": [
    {
     "data": {
      "text/html": [
       "<div>\n",
       "<style scoped>\n",
       "    .dataframe tbody tr th:only-of-type {\n",
       "        vertical-align: middle;\n",
       "    }\n",
       "\n",
       "    .dataframe tbody tr th {\n",
       "        vertical-align: top;\n",
       "    }\n",
       "\n",
       "    .dataframe thead th {\n",
       "        text-align: right;\n",
       "    }\n",
       "</style>\n",
       "<table border=\"1\" class=\"dataframe\">\n",
       "  <thead>\n",
       "    <tr style=\"text-align: right;\">\n",
       "      <th></th>\n",
       "      <th>Longitude</th>\n",
       "      <th>Latitude</th>\n",
       "      <th>Elevation</th>\n",
       "      <th>January_temp</th>\n",
       "    </tr>\n",
       "  </thead>\n",
       "  <tbody>\n",
       "    <tr>\n",
       "      <th>0</th>\n",
       "      <td>372.1</td>\n",
       "      <td>658.9</td>\n",
       "      <td>255</td>\n",
       "      <td>1.7</td>\n",
       "    </tr>\n",
       "    <tr>\n",
       "      <th>1</th>\n",
       "      <td>303.5</td>\n",
       "      <td>665.9</td>\n",
       "      <td>125</td>\n",
       "      <td>2</td>\n",
       "    </tr>\n",
       "    <tr>\n",
       "      <th>2</th>\n",
       "      <td>218.4</td>\n",
       "      <td>597.9</td>\n",
       "      <td>8</td>\n",
       "      <td>4.6</td>\n",
       "    </tr>\n",
       "    <tr>\n",
       "      <th>3</th>\n",
       "      <td>245.0</td>\n",
       "      <td>955.0</td>\n",
       "      <td>90</td>\n",
       "      <td>MISS</td>\n",
       "    </tr>\n",
       "    <tr>\n",
       "      <th>4</th>\n",
       "      <td>326.8</td>\n",
       "      <td>691.2</td>\n",
       "      <td>32</td>\n",
       "      <td>3.1</td>\n",
       "    </tr>\n",
       "    <tr>\n",
       "      <th>...</th>\n",
       "      <td>...</td>\n",
       "      <td>...</td>\n",
       "      <td>...</td>\n",
       "      <td>...</td>\n",
       "    </tr>\n",
       "    <tr>\n",
       "      <th>231</th>\n",
       "      <td>273.2</td>\n",
       "      <td>564.6</td>\n",
       "      <td>47</td>\n",
       "      <td>2.8</td>\n",
       "    </tr>\n",
       "    <tr>\n",
       "      <th>232</th>\n",
       "      <td>333.9</td>\n",
       "      <td>730.1</td>\n",
       "      <td>30</td>\n",
       "      <td>2.6</td>\n",
       "    </tr>\n",
       "    <tr>\n",
       "      <th>233</th>\n",
       "      <td>185.0</td>\n",
       "      <td>655.0</td>\n",
       "      <td>115</td>\n",
       "      <td>MISS</td>\n",
       "    </tr>\n",
       "    <tr>\n",
       "      <th>234</th>\n",
       "      <td>259.8</td>\n",
       "      <td>587.9</td>\n",
       "      <td>119</td>\n",
       "      <td>2.1</td>\n",
       "    </tr>\n",
       "    <tr>\n",
       "      <th>235</th>\n",
       "      <td>260.8</td>\n",
       "      <td>668.6</td>\n",
       "      <td>107</td>\n",
       "      <td>2.6</td>\n",
       "    </tr>\n",
       "  </tbody>\n",
       "</table>\n",
       "<p>236 rows × 4 columns</p>\n",
       "</div>"
      ],
      "text/plain": [
       "     Longitude  Latitude  Elevation January_temp\n",
       "0        372.1     658.9        255          1.7\n",
       "1        303.5     665.9        125            2\n",
       "2        218.4     597.9          8          4.6\n",
       "3        245.0     955.0         90         MISS\n",
       "4        326.8     691.2         32          3.1\n",
       "..         ...       ...        ...          ...\n",
       "231      273.2     564.6         47          2.8\n",
       "232      333.9     730.1         30          2.6\n",
       "233      185.0     655.0        115         MISS\n",
       "234      259.8     587.9        119          2.1\n",
       "235      260.8     668.6        107          2.6\n",
       "\n",
       "[236 rows x 4 columns]"
      ]
     },
     "execution_count": 3,
     "metadata": {},
     "output_type": "execute_result"
    }
   ],
   "source": [
    "url = 'https://soft.minesparis.psl.eu/gstlearn/data/Scotland/Scotland_Temperatures.csv'\n",
    "filecsv, head = urllib.request.urlretrieve(url)\n",
    "datcsv = pd.read_csv(filecsv)\n",
    "datcsv"
   ]
  },
  {
   "cell_type": "code",
   "execution_count": 4,
   "id": "1eca2bc7",
   "metadata": {},
   "outputs": [],
   "source": [
    "# Replace missing values and convert to numeric\n",
    "datcsv[\"January_temp\"].replace(\"MISS\", np.nan, inplace=True)\n",
    "datcsv = datcsv.astype(\"float64\")"
   ]
  },
  {
   "cell_type": "code",
   "execution_count": 5,
   "id": "b8bfed91",
   "metadata": {
    "scrolled": true
   },
   "outputs": [
    {
     "data": {
      "text/plain": [
       "\n",
       "Data Base Characteristics\n",
       "=========================\n",
       "\n",
       "Data Base Summary\n",
       "-----------------\n",
       "File is organized as a set of isolated points\n",
       "Space dimension              = 2\n",
       "Number of Columns            = 4\n",
       "Maximum Number of UIDs       = 4\n",
       "Total number of samples      = 236\n",
       "\n",
       "Variables\n",
       "---------\n",
       "Column = 0 - Name = Longitude - Locator = x1\n",
       "Column = 1 - Name = Latitude - Locator = x2\n",
       "Column = 2 - Name = Elevation - Locator = NA\n",
       "Column = 3 - Name = January_temp - Locator = z1"
      ]
     },
     "execution_count": 5,
     "metadata": {},
     "output_type": "execute_result"
    }
   ],
   "source": [
    "data = gl.Db()\n",
    "data[list(datcsv.columns)] = datcsv\n",
    "data.setLocators([\"Longitude\",\"Latitude\"], gl.ELoc.X)\n",
    "data.setLocator(\"January_temp\", gl.ELoc.Z)\n",
    "data"
   ]
  },
  {
   "cell_type": "code",
   "execution_count": 6,
   "id": "7275e5dc",
   "metadata": {},
   "outputs": [
    {
     "data": {
      "image/png": "[encoded data removed]",
      "text/plain": [
       "<Figure size 576x576 with 1 Axes>"
      ]
     },
     "metadata": {
      "needs_background": "light"
     },
     "output_type": "display_data"
    }
   ],
   "source": [
    "gp.plot(data)"
   ]
  },
  {
   "cell_type": "code",
   "execution_count": 7,
   "id": "0df1e173",
   "metadata": {
    "scrolled": true
   },
   "outputs": [
    {
     "data": {
      "text/plain": [
       "\n",
       "Data Base Grid Characteristics\n",
       "==============================\n",
       "\n",
       "Data Base Summary\n",
       "-----------------\n",
       "File is organized as a regular grid\n",
       "Space dimension              = 2\n",
       "Number of Columns            = 2\n",
       "Maximum Number of UIDs       = 2\n",
       "Total number of samples      = 10400\n",
       "\n",
       "Grid characteristics:\n",
       "---------------------\n",
       "Origin :     28.200   480.400\n",
       "Mesh   :      6.108     6.035\n",
       "Number :         80       130\n",
       "\n",
       "Variables\n",
       "---------\n",
       "Column = 0 - Name = x1 - Locator = x1\n",
       "Column = 1 - Name = x2 - Locator = x2"
      ]
     },
     "execution_count": 7,
     "metadata": {},
     "output_type": "execute_result"
    }
   ],
   "source": [
    "grid = gl.DbGrid.createCoveringDb(data, [80,130], margin=[50,50])\n",
    "grid"
   ]
  },
  {
   "cell_type": "code",
   "execution_count": 8,
   "id": "71c568b4",
   "metadata": {},
   "outputs": [
    {
     "data": {
      "text/plain": [
       "<matplotlib.collections.PathCollection at 0x7fb77d207190>"
      ]
     },
     "execution_count": 8,
     "metadata": {},
     "output_type": "execute_result"
    },
    {
     "data": {
      "image/png": "[encoded data removed]",
      "text/plain": [
       "<Figure size 576x576 with 1 Axes>"
      ]
     },
     "metadata": {
      "needs_background": "light"
     },
     "output_type": "display_data"
    }
   ],
   "source": [
    "gp.plot(grid)\n",
    "gp.symbol(data)"
   ]
  },
  {
   "cell_type": "code",
   "execution_count": 9,
   "id": "9c11f7ad",
   "metadata": {
    "scrolled": true
   },
   "outputs": [
    {
     "data": {
      "text/plain": [
       "\n",
       "Moving Neighborhood\n",
       "===================\n",
       "Minimum number of samples           = 1\n",
       "Maximum number of samples           = 3\n",
       "Maximum horizontal distance         = 30"
      ]
     },
     "execution_count": 9,
     "metadata": {},
     "output_type": "execute_result"
    }
   ],
   "source": [
    "nmini = 1\n",
    "nmaxi = 3\n",
    "radius = 30\n",
    "nsect = 1\n",
    "neigh = gl.NeighMoving.create(False, nmaxi, radius, nmini, nsect)\n",
    "neigh"
   ]
  },
  {
   "cell_type": "code",
   "execution_count": 10,
   "id": "eab92b8c",
   "metadata": {
    "scrolled": true
   },
   "outputs": [
    {
     "data": {
      "text/plain": [
       "array([143])"
      ]
     },
     "execution_count": 10,
     "metadata": {},
     "output_type": "execute_result"
    }
   ],
   "source": [
    "node = 4511\n",
    "neigh.attach(data, grid)\n",
    "ranks = neigh.select(node)\n",
    "ranks # Only rank 143"
   ]
  },
  {
   "cell_type": "code",
   "execution_count": 11,
   "id": "aa6265da",
   "metadata": {},
   "outputs": [
    {
     "data": {
      "image/png": "[encoded data removed]",
      "text/plain": [
       "<Figure size 576x576 with 1 Axes>"
      ]
     },
     "metadata": {
      "needs_background": "light"
     },
     "output_type": "display_data"
    }
   ],
   "source": [
    "def show_neigh(data, grid, neigh, node, ranks):\n",
    "  ax = data.plot()\n",
    "  if (len(ranks) > 0):\n",
    "    dataSel = data.clone()\n",
    "    dataSel.addSelectionByRanks(ranks)\n",
    "    ax = dataSel.plot(color='blue')\n",
    "  ax.neigh(neigh, grid, node, flagCell=True)\n",
    "  ax.decoration(\"Standard Neighborhood\")\n",
    "    \n",
    "show_neigh(data, grid, neigh, node, ranks)"
   ]
  },
  {
   "cell_type": "code",
   "execution_count": 12,
   "id": "e9ddce04",
   "metadata": {},
   "outputs": [],
   "source": [
    "class BiTargetCheckMaxRadius(gl.ABiTargetCheck):\n",
    "    def __init__(self, r):\n",
    "        super(BiTargetCheckMaxRadius,self).__init__()\n",
    "        self.r = r\n",
    "        \n",
    "    def isOK(self,st1,st2):\n",
    "        return st1.getDistance(st2) < self.r\n",
    "    \n",
    "    def toString(self,strfmt):\n",
    "        return \"This is my Max Radius checker: {}\".format(self.r)\n"
   ]
  },
  {
   "cell_type": "code",
   "execution_count": 13,
   "id": "2065e04b",
   "metadata": {
    "scrolled": true
   },
   "outputs": [
    {
     "name": "stdout",
     "output_type": "stream",
     "text": [
      "\n",
      "Moving Neighborhood\n",
      "===================\n",
      "Minimum number of samples           = 1\n",
      "Maximum number of samples           = 3\n",
      "This is my Max Radius checker: 30 "
     ]
    }
   ],
   "source": [
    "nmini = 1\n",
    "nmaxi = 3\n",
    "# No more ellipsoid radius here\n",
    "neigh2 = gl.NeighMoving.create(False, nmaxi=nmaxi, nmini=nmini)\n",
    "# Prefer my own radius checker !\n",
    "btc = BiTargetCheckMaxRadius(30)\n",
    "neigh2.addBiTargetCheck(btc)\n",
    "neigh2.display()"
   ]
  },
  {
   "cell_type": "code",
   "execution_count": 14,
   "id": "131eb20a",
   "metadata": {},
   "outputs": [
    {
     "data": {
      "text/plain": [
       "array([143])"
      ]
     },
     "execution_count": 14,
     "metadata": {},
     "output_type": "execute_result"
    }
   ],
   "source": [
    "node = 4511\n",
    "neigh2.attach(data, grid)\n",
    "ranks = neigh2.select(node)\n",
    "ranks # Should return the same ranks than before"
   ]
  },
  {
   "cell_type": "code",
   "execution_count": 15,
   "id": "illegal-label",
   "metadata": {},
   "outputs": [
    {
     "data": {
      "image/png": "[encoded data removed]",
      "text/plain": [
       "<Figure size 576x576 with 1 Axes>"
      ]
     },
     "metadata": {
      "needs_background": "light"
     },
     "output_type": "display_data"
    }
   ],
   "source": [
    "show_neigh(data, grid, neigh2, node, ranks)\n",
    "# Here, the ellipsoid circle is not shown (because we don't use the default ellipsoid radius of NeighMoving)"
   ]
  },
  {
   "cell_type": "code",
   "execution_count": null,
   "id": "7f393f5e",
   "metadata": {},
   "outputs": [],
   "source": []
  }
 ],
 "metadata": {
  "kernelspec": {
   "display_name": "Python 3 (ipykernel)",
   "language": "python",
   "name": "python3"
  },
  "language_info": {
   "codemirror_mode": {
    "name": "ipython",
    "version": 3
   },
   "file_extension": ".py",
   "mimetype": "text/x-python",
   "name": "python",
   "nbconvert_exporter": "python",
   "pygments_lexer": "ipython3",
   "version": "3.10.12"
  }
 },
 "nbformat": 4,
 "nbformat_minor": 5
}
