{
 "cells": [
  {
   "cell_type": "markdown",
   "metadata": {},
   "source": [
    "# Anamorphosis"
   ]
  },
  {
   "cell_type": "markdown",
   "metadata": {},
   "source": [
    "<!-- SUMMARY: An example for Gaussian Anamorphosis -->\n",
    "\n",
    "<!-- CATEGORY: Basic_Objects -->"
   ]
  },
  {
   "cell_type": "markdown",
   "metadata": {},
   "source": [
    "## Import packages"
   ]
  },
  {
   "cell_type": "code",
   "execution_count": 2,
   "metadata": {},
   "outputs": [
    {
     "data": {
      "application/javascript": [
       "\n",
       "IPython.OutputArea.prototype._should_scroll = function(lines) {\n",
       "    return false;\n",
       "}\n"
      ],
      "text/plain": [
       "<IPython.core.display.Javascript object>"
      ]
     },
     "metadata": {},
     "output_type": "display_data"
    }
   ],
   "source": [
    "import numpy as np\n",
    "import pandas as pd\n",
    "import sys\n",
    "import os\n",
    "import matplotlib.pyplot as plt\n",
    "import gstlearn as gl\n",
    "import gstlearn.plot as gp\n",
    "import gstlearn.document as gdoc\n",
    "\n",
    "gdoc.setNoScroll()"
   ]
  },
  {
   "cell_type": "markdown",
   "metadata": {},
   "source": [
    "## Reading data"
   ]
  },
  {
   "cell_type": "markdown",
   "metadata": {},
   "source": [
    "The data are stored in a CSV format in the file called Pollution.dat. We concentrate on the varibale named **Pb**."
   ]
  },
  {
   "cell_type": "code",
   "execution_count": 3,
   "metadata": {},
   "outputs": [
    {
     "name": "stdout",
     "output_type": "stream",
     "text": [
      "\n",
      "Data Base Characteristics\n",
      "=========================\n",
      "\n",
      "Data Base Summary\n",
      "-----------------\n",
      "File is organized as a set of isolated points\n",
      "Space dimension              = 2\n",
      "Number of Columns            = 5\n",
      "Total number of samples      = 102\n",
      "\n",
      "Data Base Extension\n",
      "-------------------\n",
      "Coor #1 - Min =    109.850 - Max =    143.010 - Ext = 33.16\n",
      "Coor #2 - Min =    483.660 - Max =    513.040 - Ext = 29.38\n",
      "\n",
      "Data Base Statistics\n",
      "--------------------\n",
      "5 - Name Pb - Locator z1\n",
      " Nb of data          =        102\n",
      " Nb of active values =        101\n",
      " Minimum value       =      3.000\n",
      " Maximum value       =     31.600\n",
      " Mean value          =      6.104\n",
      " Standard Deviation  =      3.594\n",
      " Variance            =     12.916\n",
      "\n",
      "Variables\n",
      "---------\n",
      "Column = 0 - Name = rank - Locator = NA\n",
      "Column = 1 - Name = X - Locator = x1\n",
      "Column = 2 - Name = Y - Locator = x2\n",
      "Column = 3 - Name = Zn - Locator = NA\n",
      "Column = 4 - Name = Pb - Locator = z1\n"
     ]
    }
   ],
   "source": [
    "filepath = gdoc.loadData(\"Pollution\", \"Pollution.dat\")\n",
    "mydb = gl.Db.createFromCSV(filepath,gl.CSVformat())\n",
    "mydb.setLocators([\"X\",\"Y\"],gl.ELoc.X)\n",
    "mydb.setLocator(\"Pb\",gl.ELoc.Z)\n",
    "\n",
    "dbfmt = gl.DbStringFormat.createFromFlags(flag_vars=True, flag_extend=True, flag_stats=True,\n",
    "                                         names=[\"*Pb\"]) \n",
    "mydb.display(dbfmt)"
   ]
  },
  {
   "cell_type": "markdown",
   "metadata": {},
   "source": [
    "We denote that one sample has no value defined: therefore only 101 values are available. Moreover, the following histogram shows the presence of two outliers (value above 24)."
   ]
  },
  {
   "cell_type": "code",
   "execution_count": 4,
   "metadata": {},
   "outputs": [
    {
     "data": {
      "image/png": "[encoded data removed]",
      "text/plain": [
       "<Figure size 360x360 with 1 Axes>"
      ]
     },
     "metadata": {
      "needs_background": "light"
     },
     "output_type": "display_data"
    }
   ],
   "source": [
    "ax = gp.histogram(mydb, name=\"Pb\", bins=50)\n",
    "ax.decoration(title=\"Pb (initial)\")"
   ]
  },
  {
   "cell_type": "markdown",
   "metadata": {},
   "source": [
    "We decide to mask these two outliers off. This is an opportunity to create a selection applied on the Data Base."
   ]
  },
  {
   "cell_type": "code",
   "execution_count": 5,
   "metadata": {},
   "outputs": [],
   "source": [
    "tab = mydb.getColumn(\"Pb\")\n",
    "iuid = mydb.addSelection(tab<24)"
   ]
  },
  {
   "cell_type": "code",
   "execution_count": 6,
   "metadata": {},
   "outputs": [
    {
     "data": {
      "image/png": "[encoded data removed]",
      "text/plain": [
       "<Figure size 360x360 with 1 Axes>"
      ]
     },
     "metadata": {
      "needs_background": "light"
     },
     "output_type": "display_data"
    }
   ],
   "source": [
    "ax = gp.histogram(mydb, name=\"Pb\", bins=50)\n",
    "ax.decoration(title=\"Pb after filtering the two outliers\")"
   ]
  },
  {
   "cell_type": "markdown",
   "metadata": {},
   "source": [
    "The updated statistics show that the active values of the variable Pb now vary between 3 and 12.7. Note the variance of the Pb variable is equal to 2.881 (instead of 12.9 prior to masking the outliers off)."
   ]
  },
  {
   "cell_type": "code",
   "execution_count": 7,
   "metadata": {},
   "outputs": [
    {
     "name": "stdout",
     "output_type": "stream",
     "text": [
      "\n",
      "Data Base Characteristics\n",
      "=========================\n",
      "\n",
      "Data Base Summary\n",
      "-----------------\n",
      "File is organized as a set of isolated points\n",
      "Space dimension              = 2\n",
      "Number of Columns            = 6\n",
      "Total number of samples      = 102\n",
      "Number of active samples     = 99\n",
      "\n",
      "Data Base Extension\n",
      "-------------------\n",
      "Coor #1 - Min =    109.850 - Max =    143.010 - Ext = 33.16\n",
      "Coor #2 - Min =    483.660 - Max =    513.040 - Ext = 29.38\n",
      "\n",
      "Data Base Statistics\n",
      "--------------------\n",
      "5 - Name Pb - Locator z1\n",
      " Nb of data          =        102\n",
      " Nb of active values =         99\n",
      " Minimum value       =      3.000\n",
      " Maximum value       =     12.700\n",
      " Mean value          =      5.658\n",
      " Standard Deviation  =      1.697\n",
      " Variance            =      2.881\n",
      "\n",
      "Variables\n",
      "---------\n",
      "Column = 0 - Name = rank - Locator = NA\n",
      "Column = 1 - Name = X - Locator = x1\n",
      "Column = 2 - Name = Y - Locator = x2\n",
      "Column = 3 - Name = Zn - Locator = NA\n",
      "Column = 4 - Name = Pb - Locator = z1\n",
      "Column = 5 - Name = NewSel - Locator = sel\n"
     ]
    }
   ],
   "source": [
    "mydb.display(dbfmt)"
   ]
  },
  {
   "cell_type": "code",
   "execution_count": 8,
   "metadata": {},
   "outputs": [
    {
     "data": {
      "image/png": "[encoded data removed]",
      "text/plain": [
       "<Figure size 576x576 with 1 Axes>"
      ]
     },
     "metadata": {
      "needs_background": "light"
     },
     "output_type": "display_data"
    }
   ],
   "source": [
    "ax = mydb.plot(nameColor=\"Pb\",size=50)\n",
    "ax.decoration(title=\"Data Set (Outliers have been masked off)\")\n",
    "plt.show()"
   ]
  },
  {
   "cell_type": "markdown",
   "metadata": {},
   "source": [
    "## Variograms\n",
    "\n",
    "We first define the geometry of the variogram calculations"
   ]
  },
  {
   "cell_type": "code",
   "execution_count": 9,
   "metadata": {},
   "outputs": [],
   "source": [
    "myVarioParamOmni = gl.VarioParam()\n",
    "mydir = gl.DirParam.create(npas=10, dpas=1.)\n",
    "myVarioParamOmni.addDir(mydir)"
   ]
  },
  {
   "cell_type": "markdown",
   "metadata": {},
   "source": [
    "We calculate the experimental omni-directional variogram"
   ]
  },
  {
   "cell_type": "code",
   "execution_count": 10,
   "metadata": {},
   "outputs": [],
   "source": [
    "myvario = gl.Vario(myVarioParamOmni)\n",
    "err = myvario.compute(mydb,gl.ECalcVario.VARIOGRAM)"
   ]
  },
  {
   "cell_type": "markdown",
   "metadata": {},
   "source": [
    "The variogram is represented graphically. "
   ]
  },
  {
   "cell_type": "code",
   "execution_count": 11,
   "metadata": {},
   "outputs": [
    {
     "data": {
      "image/png": "[encoded data removed]",
      "text/plain": [
       "<Figure size 360x360 with 1 Axes>"
      ]
     },
     "metadata": {
      "needs_background": "light"
     },
     "output_type": "display_data"
    }
   ],
   "source": [
    "ax = myvario.plot()\n",
    "ax.decoration(title=\"Omni-directional Variogram for Pb\")"
   ]
  },
  {
   "cell_type": "markdown",
   "metadata": {},
   "source": [
    "## Model\n",
    "\n",
    "Fitting a Model. We call the Automatic Fitting procedure providing the list of covariance functions to be tested."
   ]
  },
  {
   "cell_type": "code",
   "execution_count": 12,
   "metadata": {},
   "outputs": [],
   "source": [
    "mymodel = gl.Model.createFromDb(mydb)\n",
    "err = mymodel.fit(myvario,[gl.ECov.EXPONENTIAL,gl.ECov.SPHERICAL])"
   ]
  },
  {
   "cell_type": "markdown",
   "metadata": {},
   "source": [
    "Visualizing the resulting model, overlaid on the experimental variogram"
   ]
  },
  {
   "cell_type": "code",
   "execution_count": 13,
   "metadata": {},
   "outputs": [
    {
     "data": {
      "image/png": "[encoded data removed]",
      "text/plain": [
       "<Figure size 360x360 with 1 Axes>"
      ]
     },
     "metadata": {
      "needs_background": "light"
     },
     "output_type": "display_data"
    }
   ],
   "source": [
    "ax = gp.varmod(myvario,mymodel)\n",
    "ax.decoration(title=\"Model for Pb\")"
   ]
  },
  {
   "cell_type": "code",
   "execution_count": 14,
   "metadata": {},
   "outputs": [
    {
     "name": "stdout",
     "output_type": "stream",
     "text": [
      "\n",
      "Model characteristics\n",
      "=====================\n",
      "Space dimension              = 2\n",
      "Number of variable(s)        = 1\n",
      "Number of basic structure(s) = 2\n",
      "Number of drift function(s)  = 1\n",
      "Number of drift equation(s)  = 1\n",
      "\n",
      "Covariance Part\n",
      "---------------\n",
      "Exponential\n",
      "- Sill         =      0.966\n",
      "- Range        =      0.637\n",
      "- Theo. Range  =      0.212\n",
      "Spherical\n",
      "- Sill         =      1.670\n",
      "- Range        =      5.757\n",
      "Total Sill     =      2.637\n",
      "\n",
      "Drift Part\n",
      "----------\n",
      "Universality_Condition\n"
     ]
    }
   ],
   "source": [
    "mymodel.setDriftIRF()\n",
    "mymodel.display()"
   ]
  },
  {
   "cell_type": "markdown",
   "metadata": {},
   "source": [
    "## Empirical Anamorphosis"
   ]
  },
  {
   "cell_type": "markdown",
   "metadata": {},
   "source": [
    "We first perform the simplest Anamorphosis transform which turns the histogram of the raw variable into the histogram of a gaussian variable. This is done by **comparing** the cumulated density functions."
   ]
  },
  {
   "cell_type": "code",
   "execution_count": 15,
   "metadata": {},
   "outputs": [
    {
     "name": "stdout",
     "output_type": "stream",
     "text": [
      "\n",
      "Empirical Anamorphosis\n",
      "----------------------\n",
      "Number of discretization lags = 99\n",
      "\n",
      "Discretization Intervals\n",
      "------------------------\n",
      "          Z          Y\n",
      "      4.600     -0.583\n",
      "      4.500     -0.706\n",
      "      4.700     -0.468\n",
      "      5.400     -0.025\n",
      "      4.200     -0.954\n",
      "      5.100     -0.151\n",
      "      5.000     -0.228\n",
      "      6.200      0.468\n",
      "      6.300      0.553\n",
      "      6.200      0.496\n",
      "      6.000      0.358\n",
      "      4.900     -0.332\n",
      "      3.300     -1.881\n",
      "      3.600     -1.476\n",
      "      4.900     -0.305\n",
      "      4.400     -0.772\n",
      "      6.200      0.524\n",
      "      5.500      0.050\n",
      "      8.000      1.282\n",
      "      4.300     -0.878\n",
      "      4.700     -0.440\n",
      "      7.100      0.915\n",
      "      4.200     -0.915\n",
      "      7.200      0.994\n",
      "      8.300      1.405\n",
      "      8.000      1.341\n",
      "      4.500     -0.674\n",
      "      6.000      0.385\n",
      "      8.500      1.555\n",
      "      7.200      1.036\n",
      "      6.300      0.583\n",
      "      6.400      0.613\n",
      "      4.900     -0.279\n",
      "      3.900     -1.175\n",
      "      4.800     -0.358\n",
      "      3.400     -1.645\n",
      "      3.000     -2.326\n",
      "      3.800     -1.282\n",
      "      3.700     -1.405\n",
      "      6.800      0.806\n",
      "      6.700      0.739\n",
      "      3.500     -1.555\n",
      "      4.000     -1.126\n",
      "      4.100     -1.080\n",
      "      5.900      0.279\n",
      "      5.800      0.202\n",
      "      5.400      0.000\n",
      "      7.000      0.878\n",
      "      5.800      0.228\n",
      "      5.300     -0.075\n",
      "      4.700     -0.412\n",
      "      4.100     -1.036\n",
      "      9.100      1.881\n",
      "      9.000      1.645\n",
      "      7.600      1.175\n",
      "      6.100      0.440\n",
      "      6.000      0.412\n",
      "      6.500      0.643\n",
      "      5.000     -0.202\n",
      "      5.800      0.253\n",
      "      4.600     -0.553\n",
      "      3.700     -1.341\n",
      "      3.000     -2.054\n",
      "      6.600      0.706\n",
      "      7.100      0.954\n",
      "      6.900      0.842\n",
      "      5.900      0.305\n",
      "      5.300     -0.050\n",
      "      4.700     -0.385\n",
      "      4.600     -0.524\n",
      "      4.400     -0.739\n",
      "      4.500     -0.643\n",
      "      9.000      1.751\n",
      "      5.900      0.332\n",
      "      5.000     -0.176\n",
      "      4.300     -0.842\n",
      "      4.600     -0.496\n",
      "      5.200     -0.100\n",
      "      4.300     -0.806\n",
      "      4.100     -0.994\n",
      "      5.700      0.176\n",
      "      7.300      1.080\n",
      "      5.100     -0.126\n",
      "      4.900     -0.253\n",
      "      7.400      1.126\n",
      "      5.400      0.025\n",
      "      3.300     -1.751\n",
      "      6.700      0.772\n",
      "      4.500     -0.613\n",
      "      3.800     -1.227\n",
      "      5.600      0.151\n",
      "      6.500      0.674\n",
      "      5.500      0.075\n",
      "      8.300      1.476\n",
      "      5.500      0.100\n",
      "     11.500      2.054\n",
      "      5.500      0.126\n",
      "      7.800      1.227\n",
      "     12.700      2.326\n",
      "\n"
     ]
    }
   ],
   "source": [
    "myanamE = gl.AnamEmpirical()\n",
    "myanamE.fitFromLocator(mydb)\n",
    "myanamE.display()"
   ]
  },
  {
   "cell_type": "markdown",
   "metadata": {},
   "source": [
    "## Gaussian Anamorphosis\n",
    "\n",
    "We transform the Data into Gaussian. This requires the definition of a transform function called **Gaussian Anamophosis**. This function is expanded on a basis of Hermite polynomials: here 30 polynomials are used."
   ]
  },
  {
   "cell_type": "code",
   "execution_count": null,
   "metadata": {},
   "outputs": [],
   "source": [
    "myanam = gl.AnamHermite(30)\n",
    "myanam.fitFromLocator(mydb)\n",
    "myanam.display()"
   ]
  },
  {
   "cell_type": "markdown",
   "metadata": {},
   "source": [
    "We can produce the Gaussian Anamorphosis graphically within its definition domain."
   ]
  },
  {
   "cell_type": "code",
   "execution_count": null,
   "metadata": {},
   "outputs": [],
   "source": [
    "ax = gp.anam(myanam)\n",
    "ax.decoration(title=\"Anamorphosis\")"
   ]
  },
  {
   "cell_type": "markdown",
   "metadata": {},
   "source": [
    "The next step consists in translating the target variable ('Pb') into its Gaussian transform. We can check that the newly created variable is centered with a mean close to 0 and a variance close to 1."
   ]
  },
  {
   "cell_type": "code",
   "execution_count": null,
   "metadata": {},
   "outputs": [],
   "source": [
    "err = myanam.rawToGaussianByLocator(mydb)\n",
    "mydb.display(dbfmt)"
   ]
  },
  {
   "cell_type": "markdown",
   "metadata": {},
   "source": [
    "The histogram of the transformed values show the expected beel shape."
   ]
  },
  {
   "cell_type": "code",
   "execution_count": null,
   "metadata": {},
   "outputs": [],
   "source": [
    "ax = gp.histogram(mydb, name=\"Y.Pb\", bins=50)"
   ]
  },
  {
   "cell_type": "markdown",
   "metadata": {},
   "source": [
    "## Variogram in the Gaussian scale"
   ]
  },
  {
   "cell_type": "markdown",
   "metadata": {},
   "source": [
    "We calculate the experimental (omni-directional) variogram on the Gaussian transformed variable."
   ]
  },
  {
   "cell_type": "code",
   "execution_count": null,
   "metadata": {},
   "outputs": [],
   "source": [
    "myvarioG = gl.Vario(myVarioParamOmni)\n",
    "err = myvarioG.compute(mydb,gl.ECalcVario.VARIOGRAM)"
   ]
  },
  {
   "cell_type": "markdown",
   "metadata": {},
   "source": [
    "We fit the model by automatic fit. In some cases, it is required the resulting model to have its sill equal to 1: this constraints is added to the fitting step;"
   ]
  },
  {
   "cell_type": "code",
   "execution_count": null,
   "metadata": {},
   "outputs": [],
   "source": [
    "mymodelG = gl.Model.createFromDb(mydb)\n",
    "constr = gl.Constraints(1)\n",
    "err = mymodelG.fit(myvarioG,[gl.ECov.EXPONENTIAL], constr)\n",
    "ax = gp.varmod(myvarioG,mymodelG)\n",
    "ax.decoration(title=\"Model for Gaussian Pb\")"
   ]
  },
  {
   "cell_type": "markdown",
   "metadata": {},
   "source": [
    "## Back transform from Gaussian to Raw scale"
   ]
  },
  {
   "cell_type": "markdown",
   "metadata": {},
   "source": [
    "We turn the Gaussian values back to the Raw scale. This exercise is not very demonstrative when based on the initial data themselves: in operational framework, we use this transform to turn newly created values in the Gaussian scale (results of Simulations for example) back in the Raw scale."
   ]
  },
  {
   "cell_type": "code",
   "execution_count": null,
   "metadata": {},
   "outputs": [],
   "source": [
    "myanam.gaussianToRaw(mydb,\"Y.Pb\")\n",
    "mydb.display(dbfmt)"
   ]
  },
  {
   "cell_type": "markdown",
   "metadata": {},
   "source": [
    "The back transformation, from Gaussian to Raw scale, is performed using the Hermite polynomial expansion (with a limited number of polynomials). This is the reason why we may expect each datum not to coincide exactly with its initial value. This is demonstrated in the next correlation plot."
   ]
  },
  {
   "cell_type": "code",
   "execution_count": null,
   "metadata": {},
   "outputs": [],
   "source": [
    "ax = gp.correlation(mydb, namex=\"Pb\", namey=\"Z.Y.Pb\", asPoint=True)"
   ]
  }
 ],
 "metadata": {
  "kernelspec": {
   "display_name": "Python 3 (ipykernel)",
   "language": "python",
   "name": "python3"
  },
  "language_info": {
   "codemirror_mode": {
    "name": "ipython",
    "version": 3
   },
   "file_extension": ".py",
   "mimetype": "text/x-python",
   "name": "python",
   "nbconvert_exporter": "python",
   "pygments_lexer": "ipython3",
   "version": "3.10.5"
  },
  "toc": {
   "base_numbering": 1,
   "nav_menu": {},
   "number_sections": true,
   "sideBar": true,
   "skip_h1_title": false,
   "title_cell": "Table of Contents",
   "title_sidebar": "Contents",
   "toc_cell": false,
   "toc_position": {},
   "toc_section_display": true,
   "toc_window_display": false
  }
 },
 "nbformat": 4,
 "nbformat_minor": 4
}
