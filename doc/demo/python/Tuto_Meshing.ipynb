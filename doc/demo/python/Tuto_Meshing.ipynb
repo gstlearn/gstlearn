{
 "cells": [
  {
   "cell_type": "markdown",
   "id": "52d3c467",
   "metadata": {},
   "source": [
    "# Meshing"
   ]
  },
  {
   "cell_type": "markdown",
   "id": "7bb4b052",
   "metadata": {},
   "source": [
    "<!-- SUMMARY: Description of various meshings. Focus on the Turbo Meshing (based on an internal grid, possibly rotated) -->\n",
    "\n",
    "<!-- CATEGORY: Meshing_Technique -->"
   ]
  },
  {
   "cell_type": "code",
   "execution_count": null,
   "id": "730ffc06",
   "metadata": {},
   "outputs": [],
   "source": [
    "import numpy as np\n",
    "import os\n",
    "import pandas as pd\n",
    "import gstlearn as gl\n",
    "import gstlearn.plot as gp\n",
    "import gstlearn.document as gdoc\n",
    "\n",
    "gdoc.setNoScroll()"
   ]
  },
  {
   "cell_type": "markdown",
   "id": "0753a066",
   "metadata": {},
   "source": [
    "## Standard Meshing based on an Irregular Data Set"
   ]
  },
  {
   "cell_type": "markdown",
   "id": "589ece85",
   "metadata": {},
   "source": [
    "We construct a Meshing Standard based on a set of Data Points "
   ]
  },
  {
   "cell_type": "code",
   "execution_count": null,
   "id": "8b5a3920",
   "metadata": {},
   "outputs": [],
   "source": [
    "nech = 40\n",
    "extendmin = [0,0]\n",
    "extendmax = [150,100]\n",
    "data = gl.Db.createFromBox(nech,extendmin, extendmax)\n",
    "data"
   ]
  },
  {
   "cell_type": "code",
   "execution_count": null,
   "id": "07a371ee",
   "metadata": {},
   "outputs": [],
   "source": [
    "gp.plot(data)\n",
    "gp.decoration(title=\"Display of Data Set\")"
   ]
  },
  {
   "cell_type": "markdown",
   "id": "664aa2b6",
   "metadata": {},
   "source": [
    "Creating the Meshing"
   ]
  },
  {
   "cell_type": "markdown",
   "id": "53fcc547",
   "metadata": {},
   "source": [
    "## Turbo Meshing"
   ]
  },
  {
   "cell_type": "markdown",
   "id": "8221a1de",
   "metadata": {},
   "source": [
    "Instead we can use Turbo Meshing to cover an area, without specifically honoring each datum"
   ]
  },
  {
   "cell_type": "code",
   "execution_count": null,
   "id": "a13c8dfb",
   "metadata": {},
   "outputs": [],
   "source": [
    "mesh3 = gl.MeshETurbo()\n",
    "err = mesh3.initFromExtend(extendmin, extendmax, [5,5])\n",
    "mesh3.display()"
   ]
  },
  {
   "cell_type": "code",
   "execution_count": null,
   "id": "32020c65",
   "metadata": {},
   "outputs": [],
   "source": [
    "gp.plot(mesh3)\n",
    "gp.plot(data, c=\"black\")\n",
    "gp.decoration(title=\"Turbo Meshing on the whole area\")"
   ]
  },
  {
   "cell_type": "markdown",
   "id": "5955cc31",
   "metadata": {},
   "source": [
    "We can create a regular grid covering the same area (based on the data set)"
   ]
  },
  {
   "cell_type": "code",
   "execution_count": null,
   "id": "383095cd",
   "metadata": {},
   "outputs": [],
   "source": [
    "grid = gl.DbGrid()\n",
    "err = grid.resetCoveringDb(data, [50,50])"
   ]
  },
  {
   "cell_type": "markdown",
   "id": "92668cc0",
   "metadata": {},
   "source": [
    "Define a Polygon as the Convex hull of the data"
   ]
  },
  {
   "cell_type": "code",
   "execution_count": null,
   "id": "03623d50",
   "metadata": {},
   "outputs": [],
   "source": [
    "polygon = gl.Polygons()\n",
    "err = polygon.resetFromDb(data)"
   ]
  },
  {
   "cell_type": "markdown",
   "id": "5eededce",
   "metadata": {},
   "source": [
    "Use the Polygon to mask off some nodes of the regular grid, located too far from the data"
   ]
  },
  {
   "cell_type": "code",
   "execution_count": null,
   "id": "9617dc86",
   "metadata": {},
   "outputs": [],
   "source": [
    "err = gl.db_polygon(grid, polygon)"
   ]
  },
  {
   "cell_type": "markdown",
   "id": "611f7221",
   "metadata": {},
   "source": [
    "We create a Turbo Meshing from the grid (which contains a selection)"
   ]
  },
  {
   "cell_type": "code",
   "execution_count": null,
   "id": "711ddf6e",
   "metadata": {},
   "outputs": [],
   "source": [
    "mesh4 = gl.MeshETurbo(grid)\n",
    "mesh4.display()"
   ]
  },
  {
   "cell_type": "code",
   "execution_count": null,
   "id": "ee48d65f",
   "metadata": {},
   "outputs": [],
   "source": [
    "gp.plot(mesh4)\n",
    "gp.plot(data, c=\"black\")\n",
    "gp.plot(polygon)\n",
    "gp.decoration(title=\"Turbo Meshing restricted to the Convex Hull of Data\")"
   ]
  },
  {
   "cell_type": "markdown",
   "id": "bb9cc152",
   "metadata": {},
   "source": [
    "## Read and Write in Neutral File"
   ]
  },
  {
   "cell_type": "markdown",
   "id": "a3a884dd",
   "metadata": {},
   "source": [
    "Testing the read and write into a Neutral File (with masked meshes)"
   ]
  },
  {
   "cell_type": "code",
   "execution_count": null,
   "id": "26ab3593",
   "metadata": {},
   "outputs": [],
   "source": [
    "gl.ASerializable.setPrefixName(\"Tuto-Meshing\")\n",
    "\n",
    "err = mesh4.dumpToNF(\"Mesh_masked\")\n",
    "mesh5 = gl.MeshETurbo.createFromNF(\"Mesh_masked\")\n",
    "mesh5.display()"
   ]
  },
  {
   "cell_type": "code",
   "execution_count": null,
   "id": "1647827e",
   "metadata": {},
   "outputs": [],
   "source": [
    "mesh5.display()"
   ]
  },
  {
   "cell_type": "markdown",
   "id": "6a226490",
   "metadata": {},
   "source": [
    "## Turbo Meshing on Rotated Grid"
   ]
  },
  {
   "cell_type": "code",
   "execution_count": null,
   "id": "77108da0",
   "metadata": {},
   "outputs": [],
   "source": [
    "grid = gl.DbGrid.create(nx=[6,4], dx=[1.,5.], x0=[10.,20.], angles=[-80.,0.])\n",
    "grid.display()\n",
    "res = gp.symbol(grid,c=\"black\")"
   ]
  },
  {
   "cell_type": "code",
   "execution_count": null,
   "id": "2fb6d343",
   "metadata": {},
   "outputs": [],
   "source": [
    "model = gl.Model.createFromParam(gl.ECov.CUBIC,ranges=[10.,5.], angles=[30.,0.])\n",
    "model.display()"
   ]
  },
  {
   "cell_type": "code",
   "execution_count": null,
   "id": "776a918c",
   "metadata": {},
   "outputs": [],
   "source": [
    "mesh6 = gl.MeshETurbo()\n",
    "mesh6.initFromCova(model.getCovAniso(0),grid,ratio=10,nbExt=2,useSel=True)\n",
    "mesh6.display()"
   ]
  },
  {
   "cell_type": "code",
   "execution_count": null,
   "id": "41003783",
   "metadata": {},
   "outputs": [],
   "source": [
    "gp.plot(mesh6)\n",
    "gp.symbol(grid,c=\"black\")\n",
    "gp.decoration(title=\"Turbo Meshing for Rotated Grid\")"
   ]
  }
 ],
 "metadata": {
  "kernelspec": {
   "display_name": "Python 3",
   "language": "python",
   "name": "python3"
  },
  "language_info": {
   "codemirror_mode": {
    "name": "ipython",
    "version": 3
   },
   "file_extension": ".py",
   "mimetype": "text/x-python",
   "name": "python",
   "nbconvert_exporter": "python",
   "pygments_lexer": "ipython3",
   "version": "3.10.5"
  },
  "toc": {
   "base_numbering": 1,
   "nav_menu": {},
   "number_sections": true,
   "sideBar": true,
   "skip_h1_title": false,
   "title_cell": "Table of Contents",
   "title_sidebar": "Contents",
   "toc_cell": false,
   "toc_position": {},
   "toc_section_display": true,
   "toc_window_display": false
  }
 },
 "nbformat": 4,
 "nbformat_minor": 5
}
