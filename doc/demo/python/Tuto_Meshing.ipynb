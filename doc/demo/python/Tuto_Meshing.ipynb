{
 "cells": [
  {
   "cell_type": "markdown",
   "id": "9abeb87c",
   "metadata": {},
   "source": [
    "# Meshing"
   ]
  },
  {
   "cell_type": "markdown",
   "id": "ee948169",
   "metadata": {},
   "source": [
    "<!-- SUMMARY: Description of various meshings. Focus on the Turbo Meshing (based on an internal grid, possibly rotated) -->\n",
    "\n",
    "<!-- CATEGORY: Meshing_Technique -->"
   ]
  },
  {
   "cell_type": "code",
   "execution_count": null,
   "id": "e918ba4f",
   "metadata": {},
   "outputs": [],
   "source": [
    "import numpy as np\n",
    "import os\n",
    "import pandas as pd\n",
    "import gstlearn as gl\n",
    "import gstlearn.plot as gp\n",
    "import gstlearn.document as gdoc\n",
    "\n",
    "gdoc.setNoScroll()"
   ]
  },
  {
   "cell_type": "markdown",
   "id": "1c022bd1",
   "metadata": {},
   "source": [
    "## Standard Meshing based on an Irregular Data Set"
   ]
  },
  {
   "cell_type": "markdown",
   "id": "9b6dfcd4",
   "metadata": {},
   "source": [
    "We construct a Meshing Standard based on a set of Data Points "
   ]
  },
  {
   "cell_type": "code",
   "execution_count": null,
   "id": "152ff31c",
   "metadata": {},
   "outputs": [],
   "source": [
    "nech = 40\n",
    "extendmin = [0,0]\n",
    "extendmax = [150,100]\n",
    "data = gl.Db.createFromBox(nech,extendmin, extendmax)\n",
    "data"
   ]
  },
  {
   "cell_type": "code",
   "execution_count": null,
   "id": "74a7b9dc",
   "metadata": {},
   "outputs": [],
   "source": [
    "gp.setDefaultGeographic(dims=[7,7])\n",
    "\n",
    "ax = data.plot()\n",
    "ax.decoration(title=\"Display of Data Set\")"
   ]
  },
  {
   "cell_type": "markdown",
   "id": "df6af102",
   "metadata": {},
   "source": [
    "Creating the Meshing"
   ]
  },
  {
   "cell_type": "markdown",
   "id": "b3c95a13",
   "metadata": {},
   "source": [
    "## Turbo Meshing"
   ]
  },
  {
   "cell_type": "markdown",
   "id": "052fbd5e",
   "metadata": {},
   "source": [
    "Instead we can use Turbo Meshing to cover an area, without specifically honoring each datum"
   ]
  },
  {
   "cell_type": "code",
   "execution_count": null,
   "id": "13befe1e",
   "metadata": {},
   "outputs": [],
   "source": [
    "mesh3 = gl.MeshETurbo()\n",
    "err = mesh3.initFromExtend(extendmin, extendmax, [5,5])\n",
    "mesh3.display()"
   ]
  },
  {
   "cell_type": "code",
   "execution_count": null,
   "id": "e93243f2",
   "metadata": {},
   "outputs": [],
   "source": [
    "ax = mesh3.plot()\n",
    "ax.decoration(title=\"Turbo Meshing on the whole area\")\n",
    "ax = data.plot(color=\"black\")"
   ]
  },
  {
   "cell_type": "markdown",
   "id": "b0bc2bef",
   "metadata": {},
   "source": [
    "We can create a regular grid covering the same area (based on the data set)"
   ]
  },
  {
   "cell_type": "code",
   "execution_count": null,
   "id": "b82f98dd",
   "metadata": {},
   "outputs": [],
   "source": [
    "grid = gl.DbGrid()\n",
    "err = grid.resetCoveringDb(data, [50,50])"
   ]
  },
  {
   "cell_type": "markdown",
   "id": "a034a1f0",
   "metadata": {},
   "source": [
    "Define a Polygon as the Convex hull of the data"
   ]
  },
  {
   "cell_type": "code",
   "execution_count": null,
   "id": "ae5b3026",
   "metadata": {},
   "outputs": [],
   "source": [
    "polygon = gl.Polygons()\n",
    "err = polygon.resetFromDb(data)"
   ]
  },
  {
   "cell_type": "markdown",
   "id": "a7a8e0af",
   "metadata": {},
   "source": [
    "Use the Polygon to mask off some nodes of the regular grid, located too far from the data"
   ]
  },
  {
   "cell_type": "code",
   "execution_count": null,
   "id": "48467093",
   "metadata": {},
   "outputs": [],
   "source": [
    "err = gl.db_polygon(grid, polygon)"
   ]
  },
  {
   "cell_type": "markdown",
   "id": "d45a5cdd",
   "metadata": {},
   "source": [
    "We create a Turbo Meshing from the grid (which contains a selection)"
   ]
  },
  {
   "cell_type": "code",
   "execution_count": null,
   "id": "c621dc9e",
   "metadata": {},
   "outputs": [],
   "source": [
    "mesh4 = gl.MeshETurbo(grid)\n",
    "mesh4.display()"
   ]
  },
  {
   "cell_type": "code",
   "execution_count": null,
   "id": "fe4d68fb",
   "metadata": {},
   "outputs": [],
   "source": [
    "ax = mesh4.plot()\n",
    "ax = data.plot(color=\"black\")\n",
    "ax = polygon.plot()\n",
    "ax.decoration(title=\"Turbo Meshing restricted to the Convex Hull of Data\")"
   ]
  },
  {
   "cell_type": "markdown",
   "id": "582ece57",
   "metadata": {},
   "source": [
    "## Read and Write in Neutral File"
   ]
  },
  {
   "cell_type": "markdown",
   "id": "b85c5e0a",
   "metadata": {},
   "source": [
    "Testing the read and write into a Neutral File (with masked meshes)"
   ]
  },
  {
   "cell_type": "code",
   "execution_count": null,
   "id": "329942fb",
   "metadata": {},
   "outputs": [],
   "source": [
    "gl.ASerializable.setContainerName(True)\n",
    "gl.ASerializable.setPrefixName(\"Tuto-Meshing\")\n",
    "\n",
    "err = mesh4.dumpToNF(\"Mesh_masked\")\n",
    "mesh5 = gl.MeshETurbo.createFromNF(\"Mesh_masked\")\n",
    "mesh5.display()"
   ]
  },
  {
   "cell_type": "code",
   "execution_count": null,
   "id": "d7ffacaa",
   "metadata": {},
   "outputs": [],
   "source": [
    "mesh5.display()"
   ]
  },
  {
   "cell_type": "markdown",
   "id": "9c26822e",
   "metadata": {},
   "source": [
    "## Turbo Meshing on Rotated Grid"
   ]
  },
  {
   "cell_type": "code",
   "execution_count": null,
   "id": "524ccf48",
   "metadata": {},
   "outputs": [],
   "source": [
    "grid = gl.DbGrid.create(nx=[6,4], dx=[1.,5.], x0=[10.,20.], angles=[-80.,0.])\n",
    "grid.display()\n",
    "ax = gp.point(grid,color=\"black\")"
   ]
  },
  {
   "cell_type": "code",
   "execution_count": null,
   "id": "aa04bce8",
   "metadata": {},
   "outputs": [],
   "source": [
    "model = gl.Model.createFromParam(gl.ECov.CUBIC,ranges=[10.,5.], angles=[30.,0.])\n",
    "model.display()"
   ]
  },
  {
   "cell_type": "code",
   "execution_count": null,
   "id": "drawn-genealogy",
   "metadata": {},
   "outputs": [],
   "source": [
    "mesh6 = gl.MeshETurbo()\n",
    "mesh6.initFromCova(model.getCova(0),grid,ratio=10,nbExt=2,flagNoStatRot=False,useSel=True)\n",
    "mesh6.display()"
   ]
  },
  {
   "cell_type": "code",
   "execution_count": null,
   "id": "bibliographic-thunder",
   "metadata": {},
   "outputs": [],
   "source": [
    "ax = mesh6.plot()\n",
    "ax = gp.point(grid,color=\"black\")\n",
    "ax.decoration(title=\"Turbo Meshing for Rotated Grid\")"
   ]
  }
 ],
 "metadata": {
  "kernelspec": {
   "display_name": "Python 3",
   "language": "python",
   "name": "python3"
  },
  "language_info": {
   "codemirror_mode": {
    "name": "ipython",
    "version": 3
   },
   "file_extension": ".py",
   "mimetype": "text/x-python",
   "name": "python",
   "nbconvert_exporter": "python",
   "pygments_lexer": "ipython3",
   "version": "3.10.5"
  },
  "toc": {
   "base_numbering": 1,
   "nav_menu": {},
   "number_sections": true,
   "sideBar": true,
   "skip_h1_title": false,
   "title_cell": "Table of Contents",
   "title_sidebar": "Contents",
   "toc_cell": false,
   "toc_position": {},
   "toc_section_display": true,
   "toc_window_display": false
  }
 },
 "nbformat": 4,
 "nbformat_minor": 5
}
