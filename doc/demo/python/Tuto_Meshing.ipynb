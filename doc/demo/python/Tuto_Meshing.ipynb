{
 "cells": [
  {
   "cell_type": "markdown",
   "id": "9abeb87c",
   "metadata": {},
   "source": [
    "# Tutorial on Meshing"
   ]
  },
  {
   "cell_type": "code",
   "execution_count": null,
   "id": "e918ba4f",
   "metadata": {},
   "outputs": [],
   "source": [
    "import numpy as np\n",
    "import os\n",
    "import pandas as pd\n",
    "import gstlearn as gl\n",
    "import gstlearn.plot as gp"
   ]
  },
  {
   "cell_type": "markdown",
   "id": "9b6dfcd4",
   "metadata": {},
   "source": [
    "We construct oa Meshing Standard based on a set of Data Points "
   ]
  },
  {
   "cell_type": "code",
   "execution_count": null,
   "id": "152ff31c",
   "metadata": {},
   "outputs": [],
   "source": [
    "nech = 40\n",
    "extendmin = [0,0]\n",
    "extendmax = [150,100]\n",
    "data = gl.Db.createFromBox(nech,extendmin, extendmax)\n",
    "data"
   ]
  },
  {
   "cell_type": "code",
   "execution_count": null,
   "id": "74a7b9dc",
   "metadata": {},
   "outputs": [],
   "source": [
    "ax = gp.point(data,figsize=[7,7],title=\"Display of Data Set\")"
   ]
  },
  {
   "cell_type": "markdown",
   "id": "df6af102",
   "metadata": {},
   "source": [
    "Creating the Meshing"
   ]
  },
  {
   "cell_type": "code",
   "execution_count": null,
   "id": "7543efca",
   "metadata": {
    "scrolled": true
   },
   "outputs": [],
   "source": [
    "mesh1 = gl.MeshEStandard()\n",
    "err = mesh1.resetFromDb(data,None)\n",
    "mesh1"
   ]
  },
  {
   "cell_type": "code",
   "execution_count": null,
   "id": "4c718b98",
   "metadata": {},
   "outputs": [],
   "source": [
    "ax = gp.mesh(mesh1,figsize=[7,7],flagApex=True,title=\"Standard Meshing\")"
   ]
  },
  {
   "cell_type": "markdown",
   "id": "9f3a9d6e",
   "metadata": {},
   "source": [
    "Improving the meshing in order to avoid hugly triangles"
   ]
  },
  {
   "cell_type": "code",
   "execution_count": null,
   "id": "c2721add",
   "metadata": {},
   "outputs": [],
   "source": [
    "mesh2 = gl.MeshEStandard()\n",
    "err = mesh2.resetFromDb(data,None,triswitch=\"nqQ\")\n",
    "mesh2"
   ]
  },
  {
   "cell_type": "code",
   "execution_count": null,
   "id": "cda63ca4",
   "metadata": {},
   "outputs": [],
   "source": [
    "ax = gp.mesh(mesh2,figsize=[7,7],title=\"Refined Meshing\")\n",
    "ax = gp.point(data,color=\"black\",ax=ax)"
   ]
  },
  {
   "cell_type": "markdown",
   "id": "052fbd5e",
   "metadata": {},
   "source": [
    "Instead we can use Turbo Meshing to cover an area, without specifically honoring each datum"
   ]
  },
  {
   "cell_type": "code",
   "execution_count": null,
   "id": "13befe1e",
   "metadata": {},
   "outputs": [],
   "source": [
    "mesh3 = gl.MeshETurbo()\n",
    "err = mesh3.initFromExtend(extendmin, extendmax, [3,3])\n",
    "mesh3"
   ]
  },
  {
   "cell_type": "code",
   "execution_count": null,
   "id": "e93243f2",
   "metadata": {
    "scrolled": true
   },
   "outputs": [],
   "source": [
    "ax = gp.mesh(mesh3,figsize=[7,7],title=\"Turbo Meshing on whole area\")\n",
    "ax = gp.point(data,color=\"black\",ax=ax)"
   ]
  },
  {
   "cell_type": "markdown",
   "id": "b0bc2bef",
   "metadata": {},
   "source": [
    "We can create a regular grid covering the same area (based on the data set)"
   ]
  },
  {
   "cell_type": "code",
   "execution_count": null,
   "id": "b82f98dd",
   "metadata": {},
   "outputs": [],
   "source": [
    "grid = gl.DbGrid()\n",
    "err = grid.resetCoveringDb(data, [50,50])"
   ]
  },
  {
   "cell_type": "markdown",
   "id": "a034a1f0",
   "metadata": {},
   "source": [
    "Define a Polygon as the Convex hull of the data"
   ]
  },
  {
   "cell_type": "code",
   "execution_count": null,
   "id": "ae5b3026",
   "metadata": {},
   "outputs": [],
   "source": [
    "polygon = gl.Polygons()\n",
    "err = polygon.resetFromDb(data)"
   ]
  },
  {
   "cell_type": "markdown",
   "id": "a7a8e0af",
   "metadata": {},
   "source": [
    "Use the Polygon to mask off some nodes of the regular grid, located too far from the data"
   ]
  },
  {
   "cell_type": "code",
   "execution_count": null,
   "id": "48467093",
   "metadata": {},
   "outputs": [],
   "source": [
    "err = gl.db_polygon(grid, polygon)"
   ]
  },
  {
   "cell_type": "markdown",
   "id": "d45a5cdd",
   "metadata": {},
   "source": [
    "We create a Turbo Meshing from the grid (which contains a selection)"
   ]
  },
  {
   "cell_type": "code",
   "execution_count": null,
   "id": "c621dc9e",
   "metadata": {},
   "outputs": [],
   "source": [
    "mesh4 = gl.MeshETurbo(grid)\n",
    "mesh4"
   ]
  },
  {
   "cell_type": "code",
   "execution_count": null,
   "id": "fe4d68fb",
   "metadata": {},
   "outputs": [],
   "source": [
    "ax = gp.mesh(mesh4,figsize=[10,10],title=\"Turbo Meshing based on a Grid masked by Convex Hull of Data\")\n",
    "ax = gp.point(data,color=\"black\",ax=ax)\n",
    "ax = gp.polygon(polygon, ax=ax)"
   ]
  },
  {
   "cell_type": "markdown",
   "id": "b85c5e0a",
   "metadata": {},
   "source": [
    "Testing the read and write into a Netrual File (with masked meshes)"
   ]
  },
  {
   "cell_type": "code",
   "execution_count": null,
   "id": "329942fb",
   "metadata": {},
   "outputs": [],
   "source": [
    "gl.ASerializable.setContainerName(True)\n",
    "gl.ASerializable.setPrefixName(\"Tuto-Meshing\")\n",
    "\n",
    "err = mesh4.dumpToNF(\"Mesh_masked\")\n",
    "mesh5 = gl.MeshETurbo.createFromNF(\"Mesh_masked\")\n",
    "mesh5"
   ]
  },
  {
   "cell_type": "code",
   "execution_count": null,
   "id": "d7ffacaa",
   "metadata": {},
   "outputs": [],
   "source": [
    "mesh5"
   ]
  }
 ],
 "metadata": {
  "kernelspec": {
   "display_name": "Python 3 (ipykernel)",
   "language": "python",
   "name": "python3"
  },
  "language_info": {
   "codemirror_mode": {
    "name": "ipython",
    "version": 3
   },
   "file_extension": ".py",
   "mimetype": "text/x-python",
   "name": "python",
   "nbconvert_exporter": "python",
   "pygments_lexer": "ipython3",
   "version": "3.10.5"
  }
 },
 "nbformat": 4,
 "nbformat_minor": 5
}
