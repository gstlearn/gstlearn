{
 "cells": [
  {
   "cell_type": "markdown",
   "metadata": {},
   "source": [
    "# Demonstration of gstlearn for a 2-D case study"
   ]
  },
  {
   "cell_type": "markdown",
   "metadata": {},
   "source": [
    "This file demonstrates the use of Selectivity curves"
   ]
  },
  {
   "cell_type": "code",
   "execution_count": null,
   "metadata": {},
   "outputs": [],
   "source": [
    "%%javascript\n",
    "IPython.OutputArea.prototype._should_scroll = function(lines) {\n",
    "    return false;\n",
    "}"
   ]
  },
  {
   "cell_type": "markdown",
   "metadata": {},
   "source": [
    "## Import packages"
   ]
  },
  {
   "cell_type": "code",
   "execution_count": null,
   "metadata": {},
   "outputs": [],
   "source": [
    "import numpy as np\n",
    "import pandas as pd\n",
    "import sys\n",
    "import os\n",
    "import matplotlib.pyplot as plt\n",
    "import gstlearn as gl\n",
    "import gstlearn.plot as gp"
   ]
  },
  {
   "cell_type": "markdown",
   "metadata": {},
   "source": [
    "Reading the Grid file"
   ]
  },
  {
   "cell_type": "code",
   "execution_count": null,
   "metadata": {
    "scrolled": true
   },
   "outputs": [],
   "source": [
    "filename = os.path.join(os.getenv('GSTLEARN_DATA'), \"Selectivity\", \"Grid_100.ascii\")\n",
    "db100 = gl.DbGrid_createFromNF(filename)\n",
    "db100.display()"
   ]
  },
  {
   "cell_type": "markdown",
   "metadata": {},
   "source": [
    "Plotting the grid of samples"
   ]
  },
  {
   "cell_type": "code",
   "execution_count": null,
   "metadata": {},
   "outputs": [],
   "source": [
    "ax = gp.grid(db100,title=\"Data\",figsize=[7,7],aspect=1)"
   ]
  },
  {
   "cell_type": "code",
   "execution_count": null,
   "metadata": {},
   "outputs": [],
   "source": [
    "ax = gp.point(db100,label_name=\"z1\",title=\"Data\",figsize=[7,7],aspect=1)"
   ]
  },
  {
   "cell_type": "code",
   "execution_count": null,
   "metadata": {
    "scrolled": true
   },
   "outputs": [],
   "source": [
    "ax = gp.hist(db100, \"z1\",title=\"Data\")"
   ]
  },
  {
   "cell_type": "code",
   "execution_count": null,
   "metadata": {
    "scrolled": false
   },
   "outputs": [],
   "source": [
    "dum = db100.statistics([\"z1\"],[gl.EStatOption.MEAN, gl.EStatOption.VAR])"
   ]
  },
  {
   "cell_type": "markdown",
   "metadata": {},
   "source": [
    "Creating the grid of blocks by averaging samples 2 by 2"
   ]
  },
  {
   "cell_type": "code",
   "execution_count": null,
   "metadata": {
    "scrolled": true
   },
   "outputs": [],
   "source": [
    "db25 = gl.DbGrid.create(nx=[5,5], dx=[2,2], x0=[0.5,0.5])\n",
    "dum = gl.dbStatisticsOnGrid(db100, db25, gl.EStatOption.MEAN, namconv = gl.NamingConvention(\"\"))"
   ]
  },
  {
   "cell_type": "code",
   "execution_count": null,
   "metadata": {
    "scrolled": false
   },
   "outputs": [],
   "source": [
    "ax = gp.grid(db25,title=\"Blocks\",figsize=[7,7], aspect=1)"
   ]
  },
  {
   "cell_type": "code",
   "execution_count": null,
   "metadata": {},
   "outputs": [],
   "source": [
    "ax = gp.point(db25,label_name=\"z1\",title=\"Blocks\",figsize=[7,7], aspect=1)"
   ]
  },
  {
   "cell_type": "code",
   "execution_count": null,
   "metadata": {},
   "outputs": [],
   "source": [
    "ax = gp.hist(db25, \"z1\",title=\"Blocks\")"
   ]
  },
  {
   "cell_type": "code",
   "execution_count": null,
   "metadata": {
    "scrolled": true
   },
   "outputs": [],
   "source": [
    "dum = db25.statistics([\"z1\"],[gl.EStatOption.MEAN, gl.EStatOption.VAR])"
   ]
  },
  {
   "cell_type": "markdown",
   "metadata": {},
   "source": [
    "Creating a samping grid keeping only the upper right corner sample for each block"
   ]
  },
  {
   "cell_type": "code",
   "execution_count": null,
   "metadata": {},
   "outputs": [],
   "source": [
    "db25s = gl.DbGrid.create(nx=[5,5],dx=[2,2],x0=[0.5,0.5])\n",
    "dum = gl.migrate(db100,db25s,name=\"z1\",namconv=gl.NamingConvention(\"\",False))"
   ]
  },
  {
   "cell_type": "code",
   "execution_count": null,
   "metadata": {},
   "outputs": [],
   "source": [
    "ax = gp.grid(db25s,title=\"Sampling\",figsize=[7,7], aspect=1)"
   ]
  },
  {
   "cell_type": "code",
   "execution_count": null,
   "metadata": {
    "scrolled": false
   },
   "outputs": [],
   "source": [
    "ax = gp.point(db25s,label_name=\"z1\",title=\"Sampling\",figsize=[7,7], aspect=1)"
   ]
  },
  {
   "cell_type": "code",
   "execution_count": null,
   "metadata": {},
   "outputs": [],
   "source": [
    "dum = db25s.statistics([\"z1\"],[gl.EStatOption.MEAN, gl.EStatOption.VAR])"
   ]
  },
  {
   "cell_type": "markdown",
   "metadata": {},
   "source": [
    "## Using the Selectivity Curves"
   ]
  },
  {
   "cell_type": "markdown",
   "metadata": {},
   "source": [
    "We compare the selectivity curves between Data and Blocks:"
   ]
  },
  {
   "cell_type": "code",
   "execution_count": null,
   "metadata": {},
   "outputs": [],
   "source": [
    "selectivity = gl.Selectivity(100)\n",
    "table100 = selectivity.eval(db100, True)\n",
    "table25  = selectivity.eval(db25,  True)\n",
    "table25s = selectivity.eval(db25s, True)"
   ]
  },
  {
   "cell_type": "code",
   "execution_count": null,
   "metadata": {
    "scrolled": true
   },
   "outputs": [],
   "source": [
    "table100.getColumnNames()"
   ]
  },
  {
   "cell_type": "markdown",
   "metadata": {},
   "source": [
    "- Ore tonnage as a function of the cutoff"
   ]
  },
  {
   "cell_type": "code",
   "execution_count": null,
   "metadata": {
    "scrolled": true
   },
   "outputs": [],
   "source": [
    "ax = gp.table(table100,[1,0],color0='blue',title=\"T(z)\")\n",
    "ax = gp.table(table25,[1,0],ax=ax,color0='red')"
   ]
  },
  {
   "cell_type": "markdown",
   "metadata": {},
   "source": [
    "- Metal as a function of the cutoff"
   ]
  },
  {
   "cell_type": "code",
   "execution_count": null,
   "metadata": {
    "scrolled": true
   },
   "outputs": [],
   "source": [
    "ax = gp.table(table100,[2,0],color0='blue',title=\"Q(z)\")\n",
    "ax = gp.table(table25,[2,0],ax=ax,color0='red')"
   ]
  },
  {
   "cell_type": "markdown",
   "metadata": {},
   "source": [
    "- Recovered grade as a function of the cutoff"
   ]
  },
  {
   "cell_type": "code",
   "execution_count": null,
   "metadata": {
    "scrolled": true
   },
   "outputs": [],
   "source": [
    "ax = gp.table(table100,[4,0],color0='blue',title=\"M(z)\")\n",
    "ax = gp.table(table25,[4,0],ax=ax,color0='red')"
   ]
  },
  {
   "cell_type": "markdown",
   "metadata": {},
   "source": [
    "- Conventional Benefit as a function of the cutoff"
   ]
  },
  {
   "cell_type": "code",
   "execution_count": null,
   "metadata": {
    "scrolled": true
   },
   "outputs": [],
   "source": [
    "ax = gp.table(table100,[3,0],color0='blue',title=\"B(z)\")\n",
    "ax = gp.table(table25,[3,0],ax=ax,color0='red')"
   ]
  },
  {
   "cell_type": "markdown",
   "metadata": {},
   "source": [
    "- Metal as a function of Ore Tonnage"
   ]
  },
  {
   "cell_type": "code",
   "execution_count": null,
   "metadata": {
    "scrolled": false
   },
   "outputs": [],
   "source": [
    "ax = gp.table(table100,[2,1],color0='blue',title=\"Q(T)\")\n",
    "ax = gp.table(table25,[2,1],ax=ax,color0='red')\n",
    "ax = ax.plot([0.,1.], [0.,db100.getMean(\"z1\")], linestyle='dashed')"
   ]
  },
  {
   "cell_type": "markdown",
   "metadata": {},
   "source": [
    "# Regressions"
   ]
  },
  {
   "cell_type": "markdown",
   "metadata": {},
   "source": [
    "Display regressions"
   ]
  },
  {
   "cell_type": "markdown",
   "metadata": {},
   "source": [
    "- of block knowing sample"
   ]
  },
  {
   "cell_type": "code",
   "execution_count": null,
   "metadata": {
    "scrolled": false
   },
   "outputs": [],
   "source": [
    "ax = gp.correlation(db25,\"z1\",\"z1\",db25s, asPoint=True, diagLine=True, regrLine=True,\n",
    "                    ylabel=\"Blocks\",xlabel=\"Samples\",title=\"Block vs. Sample\")"
   ]
  },
  {
   "cell_type": "code",
   "execution_count": null,
   "metadata": {
    "scrolled": false
   },
   "outputs": [],
   "source": [
    "ax = gp.correlation(db25s,\"z1\",\"z1\",db25, asPoint=True, diagLine=True, regrLine=True,\n",
    "                    xlabel=\"Blocks\",ylabel=\"Samples\",title=\"Sample vs. Block\")"
   ]
  },
  {
   "cell_type": "markdown",
   "metadata": {},
   "source": [
    "## Comparing selectivity curves"
   ]
  },
  {
   "cell_type": "code",
   "execution_count": null,
   "metadata": {
    "scrolled": true
   },
   "outputs": [],
   "source": [
    "ax = gp.table(table100,[2,1],color0='blue',title=\"Q(T)\")\n",
    "ax = gp.table(table25,[2,1],ax=ax,color0='red')\n",
    "ax = gp.table(table25s,[2,1],ax=ax,color0='green')\n",
    "ax.plot([0.,1.], [0.,db100.getMean(\"z1\")], linestyle='dashed')\n",
    "ax.plot([0.,1.], [0.,db25s.getMean(\"z1\")], linestyle='dashed')\n",
    "plt.show()"
   ]
  }
 ],
 "metadata": {
  "kernelspec": {
   "display_name": "Python 3 (ipykernel)",
   "language": "python",
   "name": "python3"
  },
  "language_info": {
   "codemirror_mode": {
    "name": "ipython",
    "version": 3
   },
   "file_extension": ".py",
   "mimetype": "text/x-python",
   "name": "python",
   "nbconvert_exporter": "python",
   "pygments_lexer": "ipython3",
   "version": "3.10.5"
  }
 },
 "nbformat": 4,
 "nbformat_minor": 4
}
