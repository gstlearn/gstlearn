{
 "cells": [
  {
   "cell_type": "markdown",
   "metadata": {},
   "source": [
    "# Demonstration of gstlearn for a 2-D case study"
   ]
  },
  {
   "cell_type": "markdown",
   "metadata": {},
   "source": [
    "This file demonstrates the use of Selectivity curves"
   ]
  },
  {
   "cell_type": "code",
   "execution_count": null,
   "metadata": {},
   "outputs": [],
   "source": [
    "%%javascript\n",
    "IPython.OutputArea.prototype._should_scroll = function(lines) {\n",
    "    return false;\n",
    "}"
   ]
  },
  {
   "cell_type": "markdown",
   "metadata": {},
   "source": [
    "## Import packages"
   ]
  },
  {
   "cell_type": "code",
   "execution_count": null,
   "metadata": {},
   "outputs": [],
   "source": [
    "import numpy as np\n",
    "import pandas as pd\n",
    "import sys\n",
    "import os\n",
    "import matplotlib.pyplot as plt\n",
    "import gstlearn as gl\n",
    "import gstlearn.plot as gp"
   ]
  },
  {
   "cell_type": "markdown",
   "metadata": {},
   "source": [
    "Reading the Grid file"
   ]
  },
  {
   "cell_type": "code",
   "execution_count": null,
   "id": "c2272552",
   "metadata": {},
   "outputs": [],
   "source": [
    "!wget -q https://soft.minesparis.psl.eu/gstlearn/data/Selectivity/Grid_100.ascii"
   ]
  },
  {
   "cell_type": "code",
   "execution_count": null,
   "metadata": {
    "scrolled": true
   },
   "outputs": [],
   "source": [
    "filename = \"Grid_100.ascii\"\n",
    "db100 = gl.DbGrid.createFromNF(filename)\n",
    "db100.display()"
   ]
  },
  {
   "cell_type": "markdown",
   "metadata": {},
   "source": [
    "Plotting the grid of samples"
   ]
  },
  {
   "cell_type": "code",
   "execution_count": null,
   "metadata": {},
   "outputs": [],
   "source": [
    "gp.setDefaultGeographic(xlim=[-1,10],ylim=[-1,10])\n",
    "gp.printDefault()"
   ]
  },
  {
   "cell_type": "code",
   "execution_count": null,
   "metadata": {},
   "outputs": [],
   "source": [
    "fig, ax = gp.initGeographic()\n",
    "ax.raster(db100, name=\"z1\")\n",
    "ax.decoration(title=\"Data\")\n",
    "plt.show()"
   ]
  },
  {
   "cell_type": "code",
   "execution_count": null,
   "metadata": {},
   "outputs": [],
   "source": [
    "fig, ax = gp.initGeographic()\n",
    "ax.literal(db100, name=\"z1\")\n",
    "ax.decoration(title=\"Data\")\n",
    "plt.show()"
   ]
  },
  {
   "cell_type": "code",
   "execution_count": null,
   "metadata": {
    "scrolled": true
   },
   "outputs": [],
   "source": [
    "fig, ax = gp.init()\n",
    "ax.histogram(db100, name=\"z1\", bins=20)\n",
    "ax.decoration(title=\"Data\")\n",
    "plt.show()"
   ]
  },
  {
   "cell_type": "code",
   "execution_count": null,
   "metadata": {
    "scrolled": false
   },
   "outputs": [],
   "source": [
    "dum = db100.statistics([\"z1\"],[gl.EStatOption.MEAN, gl.EStatOption.VAR])"
   ]
  },
  {
   "cell_type": "markdown",
   "metadata": {},
   "source": [
    "Creating the grid of blocks by averaging samples 2 by 2"
   ]
  },
  {
   "cell_type": "code",
   "execution_count": null,
   "metadata": {
    "scrolled": true
   },
   "outputs": [],
   "source": [
    "db25 = gl.DbGrid.create(nx=[5,5], dx=[2,2], x0=[0.5,0.5])\n",
    "dum = gl.dbStatisticsOnGrid(db100, db25, gl.EStatOption.MEAN, namconv = gl.NamingConvention(\"\"))"
   ]
  },
  {
   "cell_type": "code",
   "execution_count": null,
   "metadata": {
    "scrolled": false
   },
   "outputs": [],
   "source": [
    "fig, ax = gp.initGeographic()\n",
    "ax.raster(db25, name=\"z1\")\n",
    "ax.decoration(title=\"Blocks\")\n",
    "plt.show()"
   ]
  },
  {
   "cell_type": "code",
   "execution_count": null,
   "metadata": {},
   "outputs": [],
   "source": [
    "fig, ax = gp.initGeographic()\n",
    "ax.literal(db25,name=\"z1\")\n",
    "ax.decoration(title=\"Blocks\")\n",
    "plt.show()"
   ]
  },
  {
   "cell_type": "code",
   "execution_count": null,
   "metadata": {},
   "outputs": [],
   "source": [
    "fig, ax = gp.init()\n",
    "ax.histogram(db25, name=\"z1\", bins=10)\n",
    "ax.decoration(title=\"Blocks\")\n",
    "plt.show()"
   ]
  },
  {
   "cell_type": "code",
   "execution_count": null,
   "metadata": {
    "scrolled": true
   },
   "outputs": [],
   "source": [
    "dum = db25.statistics([\"z1\"],[gl.EStatOption.MEAN, gl.EStatOption.VAR])"
   ]
  },
  {
   "cell_type": "markdown",
   "metadata": {},
   "source": [
    "Creating a samping grid keeping only the upper right corner sample for each block"
   ]
  },
  {
   "cell_type": "code",
   "execution_count": null,
   "metadata": {},
   "outputs": [],
   "source": [
    "db25s = gl.DbGrid.create(nx=[5,5],dx=[2,2],x0=[0.5,0.5])\n",
    "dum = gl.migrate(db100,db25s,name=\"z1\",namconv=gl.NamingConvention(\"\",False))"
   ]
  },
  {
   "cell_type": "code",
   "execution_count": null,
   "metadata": {},
   "outputs": [],
   "source": [
    "fig, ax = gp.initGeographic()\n",
    "ax.raster(db25s, name=\"z1\")\n",
    "ax.decoration(title=\"Sampling\")\n",
    "plt.show()"
   ]
  },
  {
   "cell_type": "code",
   "execution_count": null,
   "metadata": {
    "scrolled": false
   },
   "outputs": [],
   "source": [
    "fig, ax = gp.initGeographic()\n",
    "ax.literal(db25s,name=\"z1\")\n",
    "ax.decoration(title=\"Sampling\")\n",
    "plt.show()"
   ]
  },
  {
   "cell_type": "code",
   "execution_count": null,
   "metadata": {},
   "outputs": [],
   "source": [
    "dum = db25s.statistics([\"z1\"],[gl.EStatOption.MEAN, gl.EStatOption.VAR])"
   ]
  },
  {
   "cell_type": "markdown",
   "metadata": {},
   "source": [
    "## Using the Selectivity Curves"
   ]
  },
  {
   "cell_type": "markdown",
   "metadata": {},
   "source": [
    "We compare the selectivity curves between Data and Blocks:"
   ]
  },
  {
   "cell_type": "code",
   "execution_count": null,
   "metadata": {},
   "outputs": [],
   "source": [
    "selectivity = gl.Selectivity(100)\n",
    "table100 = selectivity.eval(db100, True)\n",
    "table25  = selectivity.eval(db25,  True)\n",
    "table25s = selectivity.eval(db25s, True)"
   ]
  },
  {
   "cell_type": "code",
   "execution_count": null,
   "metadata": {
    "scrolled": true
   },
   "outputs": [],
   "source": [
    "table100.getColumnNames()"
   ]
  },
  {
   "cell_type": "markdown",
   "metadata": {},
   "source": [
    "- Ore tonnage as a function of the cutoff"
   ]
  },
  {
   "cell_type": "code",
   "execution_count": null,
   "metadata": {
    "scrolled": true
   },
   "outputs": [],
   "source": [
    "fig, ax = gp.init()\n",
    "ax.table(table100,[1,0],color='blue')\n",
    "ax.table(table25,[1,0],color='red')\n",
    "ax.decoration(title=\"T(z)\")\n",
    "plt.show()"
   ]
  },
  {
   "cell_type": "markdown",
   "metadata": {},
   "source": [
    "- Metal as a function of the cutoff"
   ]
  },
  {
   "cell_type": "code",
   "execution_count": null,
   "metadata": {
    "scrolled": true
   },
   "outputs": [],
   "source": [
    "fig, ax = gp.init()\n",
    "ax.table(table100,[2,0],color='blue')\n",
    "ax.table(table25,[2,0],color='red')\n",
    "ax.decoration(title=\"Q(z)\")\n",
    "plt.show()"
   ]
  },
  {
   "cell_type": "markdown",
   "metadata": {},
   "source": [
    "- Recovered grade as a function of the cutoff"
   ]
  },
  {
   "cell_type": "code",
   "execution_count": null,
   "metadata": {
    "scrolled": true
   },
   "outputs": [],
   "source": [
    "fig, ax = gp.init()\n",
    "ax.table(table100,[4,0],color='blue')\n",
    "ax.table(table25,[4,0],color='red')\n",
    "ax.decoration(title=\"M(z)\")\n",
    "plt.show()"
   ]
  },
  {
   "cell_type": "markdown",
   "metadata": {},
   "source": [
    "- Conventional Benefit as a function of the cutoff"
   ]
  },
  {
   "cell_type": "code",
   "execution_count": null,
   "metadata": {
    "scrolled": true
   },
   "outputs": [],
   "source": [
    "fig, ax = gp.init()\n",
    "ax.table(table100,[3,0],color='blue')\n",
    "ax.table(table25,[3,0],color='red')\n",
    "ax.decoration(title=\"B(z)\")\n",
    "plt.show()"
   ]
  },
  {
   "cell_type": "markdown",
   "metadata": {},
   "source": [
    "- Metal as a function of Ore Tonnage"
   ]
  },
  {
   "cell_type": "code",
   "execution_count": null,
   "metadata": {
    "scrolled": false
   },
   "outputs": [],
   "source": [
    "fig, ax = gp.init()\n",
    "ax.table(table100,[2,1],color='blue')\n",
    "ax.table(table25,[2,1],color='red')\n",
    "ax.plot([0.,1.], [0.,db100.getMean(\"z1\")], linestyle='dashed')\n",
    "ax.decoration(title=\"Q(T)\")\n",
    "plt.show()"
   ]
  },
  {
   "cell_type": "markdown",
   "metadata": {},
   "source": [
    "# Regressions"
   ]
  },
  {
   "cell_type": "markdown",
   "metadata": {},
   "source": [
    "Display regressions"
   ]
  },
  {
   "cell_type": "code",
   "execution_count": null,
   "metadata": {
    "scrolled": true
   },
   "outputs": [],
   "source": [
    "fig, ax = gp.init()\n",
    "ax.correlation(db25,namex=\"z1\",namey=\"z1\",db2=db25s, asPoint=True, diagLine=True, regrLine=True)\n",
    "ax.decoration(ylabel=\"Blocks\",xlabel=\"Samples\",title=\"Block vs. Sample\")\n",
    "plt.show()"
   ]
  },
  {
   "cell_type": "code",
   "execution_count": null,
   "metadata": {
    "scrolled": false
   },
   "outputs": [],
   "source": [
    "fig, ax = gp.init()\n",
    "ax.correlation(db25s,namex=\"z1\",namey=\"z1\",db2=db25, asPoint=True, diagLine=True, regrLine=True)\n",
    "ax.decoration(xlabel=\"Blocks\",ylabel=\"Samples\",title=\"Sample vs. Block\")\n",
    "plt.show()"
   ]
  },
  {
   "cell_type": "markdown",
   "metadata": {},
   "source": [
    "## Comparing selectivity curves"
   ]
  },
  {
   "cell_type": "code",
   "execution_count": null,
   "metadata": {
    "scrolled": true
   },
   "outputs": [],
   "source": [
    "fig, ax = gp.init()\n",
    "ax.table(table100,[2,1],color='blue')\n",
    "ax.table(table25,[2,1],color='red')\n",
    "ax.table(table25s,[2,1],color='green')\n",
    "ax.plot([0.,1.], [0.,db100.getMean(\"z1\")], linestyle='dashed')\n",
    "ax.plot([0.,1.], [0.,db25s.getMean(\"z1\")], linestyle='dashed')\n",
    "ax.decoration(title=\"Q(T)\")\n",
    "plt.show()"
   ]
  }
 ],
 "metadata": {
  "kernelspec": {
   "display_name": "Python 3 (ipykernel)",
   "language": "python",
   "name": "python3"
  },
  "language_info": {
   "codemirror_mode": {
    "name": "ipython",
    "version": 3
   },
   "file_extension": ".py",
   "mimetype": "text/x-python",
   "name": "python",
   "nbconvert_exporter": "python",
   "pygments_lexer": "ipython3",
   "version": "3.10.5"
  }
 },
 "nbformat": 4,
 "nbformat_minor": 4
}
