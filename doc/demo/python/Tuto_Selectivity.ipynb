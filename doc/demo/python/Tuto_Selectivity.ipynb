{
 "cells": [
  {
   "cell_type": "markdown",
   "metadata": {},
   "source": [
    "# Selectivity curves"
   ]
  },
  {
   "cell_type": "markdown",
   "metadata": {},
   "source": [
    "<!-- SUMMARY: Calculation and visualization of experimental selectivity curves -->\n",
    "\n",
    "<!-- CATEGORY: Basic_Objects -->"
   ]
  },
  {
   "cell_type": "markdown",
   "metadata": {},
   "source": [
    "This file demonstrates the use of Selectivity curves"
   ]
  },
  {
   "cell_type": "markdown",
   "metadata": {},
   "source": [
    "## Import packages"
   ]
  },
  {
   "cell_type": "code",
   "execution_count": null,
   "metadata": {},
   "outputs": [],
   "source": [
    "import numpy as np\n",
    "import pandas as pd\n",
    "import sys\n",
    "import os\n",
    "import matplotlib.pyplot as plt\n",
    "import gstlearn as gl\n",
    "import gstlearn.plot as gp\n",
    "import gstlearn.document as gdoc\n",
    "\n",
    "gdoc.setNoScroll()"
   ]
  },
  {
   "cell_type": "markdown",
   "metadata": {},
   "source": [
    "Reading the Grid file"
   ]
  },
  {
   "cell_type": "code",
   "execution_count": null,
   "metadata": {},
   "outputs": [],
   "source": [
    "filename = gdoc.loadData(\"Selectivity\", \"Grid_100.ascii\")\n",
    "db100 = gl.DbGrid.createFromNF(filename)\n",
    "db100.display()"
   ]
  },
  {
   "cell_type": "markdown",
   "metadata": {},
   "source": [
    "Plotting the grid of samples"
   ]
  },
  {
   "cell_type": "code",
   "execution_count": null,
   "metadata": {},
   "outputs": [],
   "source": [
    "gp.raster(db100, name=\"z1\")\n",
    "gp.decoration(title=\"Data\")"
   ]
  },
  {
   "cell_type": "code",
   "execution_count": null,
   "metadata": {},
   "outputs": [],
   "source": [
    "gp.literal(db100, name=\"z1\")\n",
    "gp.decoration(title=\"Data\")"
   ]
  },
  {
   "cell_type": "code",
   "execution_count": null,
   "metadata": {},
   "outputs": [],
   "source": [
    "gp.histogram(db100, name=\"z1\", bins=20)\n",
    "gp.decoration(title=\"Data\")"
   ]
  },
  {
   "cell_type": "code",
   "execution_count": null,
   "metadata": {},
   "outputs": [],
   "source": [
    "gl.dbStatisticsMono(db100,[\"z1\"],[gl.EStatOption.MEAN, gl.EStatOption.VAR])"
   ]
  },
  {
   "cell_type": "markdown",
   "metadata": {},
   "source": [
    "Creating the grid of blocks by averaging samples 2 by 2"
   ]
  },
  {
   "cell_type": "code",
   "execution_count": null,
   "metadata": {},
   "outputs": [],
   "source": [
    "db25 = gl.DbGrid.create(nx=[5,5], dx=[2,2], x0=[0.5,0.5])\n",
    "dum = gl.dbStatisticsOnGrid(db100, db25, gl.EStatOption.MEAN, namconv = gl.NamingConvention(\"\"))"
   ]
  },
  {
   "cell_type": "code",
   "execution_count": null,
   "metadata": {},
   "outputs": [],
   "source": [
    "gp.raster(db25, name=\"z1\")\n",
    "gp.decoration(title=\"Blocks\")"
   ]
  },
  {
   "cell_type": "code",
   "execution_count": null,
   "metadata": {},
   "outputs": [],
   "source": [
    "gp.literal(db25,name=\"z1\")\n",
    "gp.decoration(title=\"Blocks\")"
   ]
  },
  {
   "cell_type": "code",
   "execution_count": null,
   "metadata": {},
   "outputs": [],
   "source": [
    "gp.histogram(db25, name=\"z1\", bins=10)\n",
    "gp.decoration(title=\"Blocks\")"
   ]
  },
  {
   "cell_type": "code",
   "execution_count": null,
   "metadata": {},
   "outputs": [],
   "source": [
    "gl.dbStatisticsMono(db25, [\"z1\"],[gl.EStatOption.MEAN, gl.EStatOption.VAR])"
   ]
  },
  {
   "cell_type": "markdown",
   "metadata": {},
   "source": [
    "Creating a samping grid keeping only the upper right corner sample for each block"
   ]
  },
  {
   "cell_type": "code",
   "execution_count": null,
   "metadata": {},
   "outputs": [],
   "source": [
    "db25s = gl.DbGrid.create(nx=[5,5],dx=[2,2],x0=[0.5,0.5])\n",
    "dum = gl.migrate(db100,db25s,name=\"z1\",namconv=gl.NamingConvention(\"\"))"
   ]
  },
  {
   "cell_type": "code",
   "execution_count": null,
   "metadata": {},
   "outputs": [],
   "source": [
    "gp.raster(db25s, name=\"z1\")\n",
    "gp.decoration(title=\"Sampling\")"
   ]
  },
  {
   "cell_type": "code",
   "execution_count": null,
   "metadata": {},
   "outputs": [],
   "source": [
    "gp.literal(db25s,name=\"z1\")\n",
    "gp.decoration(title=\"Sampling\")"
   ]
  },
  {
   "cell_type": "code",
   "execution_count": null,
   "metadata": {},
   "outputs": [],
   "source": [
    "gl.dbStatisticsMono(db25s, [\"z1\"],[gl.EStatOption.MEAN, gl.EStatOption.VAR])"
   ]
  },
  {
   "cell_type": "markdown",
   "metadata": {},
   "source": [
    "## Using the Selectivity Curves"
   ]
  },
  {
   "cell_type": "markdown",
   "metadata": {},
   "source": [
    "We compare the selectivity curves between Data and Blocks:"
   ]
  },
  {
   "cell_type": "code",
   "execution_count": null,
   "metadata": {},
   "outputs": [],
   "source": [
    "selectivity = gl.Selectivity(100)\n",
    "table100 = selectivity.eval(db100, True)\n",
    "table25  = selectivity.eval(db25,  True)\n",
    "table25s = selectivity.eval(db25s, True)"
   ]
  },
  {
   "cell_type": "code",
   "execution_count": null,
   "metadata": {},
   "outputs": [],
   "source": [
    "table100.getColumnNames()"
   ]
  },
  {
   "cell_type": "markdown",
   "metadata": {},
   "source": [
    "- Ore tonnage as a function of the cutoff"
   ]
  },
  {
   "cell_type": "code",
   "execution_count": null,
   "metadata": {},
   "outputs": [],
   "source": [
    "gp.table(table100,[1,0],color='blue')\n",
    "gp.table(table25,[1,0],color='red')\n",
    "gp.decoration(title=\"T(z)\")"
   ]
  },
  {
   "cell_type": "markdown",
   "metadata": {},
   "source": [
    "- Metal as a function of the cutoff"
   ]
  },
  {
   "cell_type": "code",
   "execution_count": null,
   "metadata": {},
   "outputs": [],
   "source": [
    "gp.table(table100,[2,0],color='blue')\n",
    "gp.table(table25,[2,0],color='red')\n",
    "gp.decoration(title=\"Q(z)\")"
   ]
  },
  {
   "cell_type": "markdown",
   "metadata": {},
   "source": [
    "- Recovered grade as a function of the cutoff"
   ]
  },
  {
   "cell_type": "code",
   "execution_count": null,
   "metadata": {},
   "outputs": [],
   "source": [
    "gp.table(table100,[4,0],color='blue')\n",
    "gp.table(table25,[4,0],color='red')\n",
    "gp.decoration(title=\"M(z)\")"
   ]
  },
  {
   "cell_type": "markdown",
   "metadata": {},
   "source": [
    "- Conventional Benefit as a function of the cutoff"
   ]
  },
  {
   "cell_type": "code",
   "execution_count": null,
   "metadata": {},
   "outputs": [],
   "source": [
    "gp.table(table100,[3,0],color='blue')\n",
    "gp.table(table25,[3,0],color='red')\n",
    "gp.decoration(title=\"B(z)\")"
   ]
  },
  {
   "cell_type": "markdown",
   "metadata": {},
   "source": [
    "- Metal as a function of Ore Tonnage"
   ]
  },
  {
   "cell_type": "code",
   "execution_count": null,
   "metadata": {},
   "outputs": [],
   "source": [
    "gp.table(table100,[2,1],color='blue')\n",
    "gp.table(table25,[2,1],color='red')\n",
    "plt.plot([0.,1.], [0.,db100.getMean(\"z1\")], linestyle='dashed')\n",
    "gp.decoration(title=\"Q(T)\")"
   ]
  },
  {
   "cell_type": "markdown",
   "metadata": {},
   "source": [
    "# Regressions"
   ]
  },
  {
   "cell_type": "markdown",
   "metadata": {},
   "source": [
    "Display regressions"
   ]
  },
  {
   "cell_type": "code",
   "execution_count": null,
   "metadata": {},
   "outputs": [],
   "source": [
    "gp.correlation(db25,namex=\"z1\",namey=\"z1\",db2=db25s, asPoint=True, diagLine=True, regrLine=True)\n",
    "gp.decoration(ylabel=\"Blocks\",xlabel=\"Samples\",title=\"Block vs. Sample\")"
   ]
  },
  {
   "cell_type": "code",
   "execution_count": null,
   "metadata": {},
   "outputs": [],
   "source": [
    "gp.correlation(db25s,namex=\"z1\",namey=\"z1\",db2=db25, asPoint=True, diagLine=True, regrLine=True)\n",
    "gp.decoration(xlabel=\"Blocks\",ylabel=\"Samples\",title=\"Sample vs. Block\")"
   ]
  },
  {
   "cell_type": "markdown",
   "metadata": {},
   "source": [
    "## Comparing selectivity curves"
   ]
  },
  {
   "cell_type": "code",
   "execution_count": null,
   "metadata": {},
   "outputs": [],
   "source": [
    "gp.table(table100,[2,1],color='blue')\n",
    "gp.table(table25,[2,1],color='red')\n",
    "gp.table(table25s,[2,1],color='green')\n",
    "plt.plot([0.,1.], [0.,db100.getMean(\"z1\")], linestyle='dashed')\n",
    "plt.plot([0.,1.], [0.,db25s.getMean(\"z1\")], linestyle='dashed')\n",
    "gp.decoration(title=\"Q(T)\")"
   ]
  }
 ],
 "metadata": {
  "kernelspec": {
   "display_name": "Python 3 (ipykernel)",
   "language": "python",
   "name": "python3"
  },
  "language_info": {
   "codemirror_mode": {
    "name": "ipython",
    "version": 3
   },
   "file_extension": ".py",
   "mimetype": "text/x-python",
   "name": "python",
   "nbconvert_exporter": "python",
   "pygments_lexer": "ipython3",
   "version": "3.10.5"
  },
  "toc": {
   "base_numbering": 1,
   "nav_menu": {},
   "number_sections": true,
   "sideBar": true,
   "skip_h1_title": false,
   "title_cell": "Table of Contents",
   "title_sidebar": "Contents",
   "toc_cell": false,
   "toc_position": {},
   "toc_section_display": true,
   "toc_window_display": false
  }
 },
 "nbformat": 4,
 "nbformat_minor": 4
}
