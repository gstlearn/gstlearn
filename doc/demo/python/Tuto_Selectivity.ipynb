{
 "cells": [
  {
   "cell_type": "markdown",
   "metadata": {},
   "source": [
    "# Demonstration of gstlearn for a 2-D case study"
   ]
  },
  {
   "cell_type": "markdown",
   "metadata": {},
   "source": [
    "This file demonstrates the use of Selectivity curves"
   ]
  },
  {
   "cell_type": "code",
   "execution_count": 1,
   "metadata": {},
   "outputs": [
    {
     "data": {
      "application/javascript": [
       "IPython.OutputArea.prototype._should_scroll = function(lines) {\n",
       "    return false;\n",
       "}\n"
      ],
      "text/plain": [
       "<IPython.core.display.Javascript object>"
      ]
     },
     "metadata": {},
     "output_type": "display_data"
    }
   ],
   "source": [
    "%%javascript\n",
    "IPython.OutputArea.prototype._should_scroll = function(lines) {\n",
    "    return false;\n",
    "}"
   ]
  },
  {
   "cell_type": "markdown",
   "metadata": {},
   "source": [
    "## Import packages"
   ]
  },
  {
   "cell_type": "code",
   "execution_count": null,
   "metadata": {},
   "outputs": [],
   "source": [
    "import numpy as np\n",
    "import pandas as pd\n",
    "import sys\n",
    "import os\n",
    "import matplotlib.pyplot as plt\n",
    "import gstlearn as gl\n",
    "import gstlearn.plot as gp"
   ]
  },
  {
   "cell_type": "markdown",
   "metadata": {},
   "source": [
    "Reading the Grid file"
   ]
  },
  {
   "cell_type": "code",
   "execution_count": null,
   "metadata": {
    "scrolled": true
   },
   "outputs": [],
   "source": [
    "filename = os.path.join(os.getenv('GSTLEARN_DATA'), \"Selectivity\", \"Grid_100.ascii\")\n",
    "db100 = gl.DbGrid.createFromNF(filename)\n",
    "db100.display()"
   ]
  },
  {
   "cell_type": "markdown",
   "metadata": {},
   "source": [
    "Plotting the grid of samples"
   ]
  },
  {
   "cell_type": "code",
   "execution_count": null,
   "metadata": {},
   "outputs": [],
   "source": [
    "gp.setDefault(dims=[7,7])\n",
    "ax = db100.plot(\"z1\")\n",
    "ax.decoration(title=\"Data\")"
   ]
  },
  {
   "cell_type": "code",
   "execution_count": null,
   "metadata": {},
   "outputs": [],
   "source": [
    "ax = gp.pointold(db=db100, name_label=\"z1\")\n",
    "ax.decoration(title=\"Data\")"
   ]
  },
  {
   "cell_type": "code",
   "execution_count": null,
   "metadata": {
    "scrolled": true
   },
   "outputs": [],
   "source": [
    "ax = gp.histold(db100, name=\"z1\", bins=20)\n",
    "ax.decoration(title=\"Data\")"
   ]
  },
  {
   "cell_type": "code",
   "execution_count": null,
   "metadata": {
    "scrolled": false
   },
   "outputs": [],
   "source": [
    "dum = db100.statistics([\"z1\"],[gl.EStatOption.MEAN, gl.EStatOption.VAR])"
   ]
  },
  {
   "cell_type": "markdown",
   "metadata": {},
   "source": [
    "Creating the grid of blocks by averaging samples 2 by 2"
   ]
  },
  {
   "cell_type": "code",
   "execution_count": null,
   "metadata": {
    "scrolled": true
   },
   "outputs": [],
   "source": [
    "db25 = gl.DbGrid.create(nx=[5,5], dx=[2,2], x0=[0.5,0.5])\n",
    "dum = gl.dbStatisticsOnGrid(db100, db25, gl.EStatOption.MEAN, namconv = gl.NamingConvention(\"\"))"
   ]
  },
  {
   "cell_type": "code",
   "execution_count": null,
   "metadata": {
    "scrolled": false
   },
   "outputs": [],
   "source": [
    "ax = db25.plot()\n",
    "ax.decoration(title=\"Blocks\")"
   ]
  },
  {
   "cell_type": "code",
   "execution_count": null,
   "metadata": {},
   "outputs": [],
   "source": [
    "ax = gp.pointold(db=db25,name_label=\"z1\")\n",
    "ax.decoration(title=\"Blocks\")"
   ]
  },
  {
   "cell_type": "code",
   "execution_count": null,
   "metadata": {},
   "outputs": [],
   "source": [
    "ax = gp.histold(db25, name=\"z1\", bins=10)\n",
    "ax.decoration(title=\"Blocks\")"
   ]
  },
  {
   "cell_type": "code",
   "execution_count": null,
   "metadata": {
    "scrolled": true
   },
   "outputs": [],
   "source": [
    "dum = db25.statistics([\"z1\"],[gl.EStatOption.MEAN, gl.EStatOption.VAR])"
   ]
  },
  {
   "cell_type": "markdown",
   "metadata": {},
   "source": [
    "Creating a samping grid keeping only the upper right corner sample for each block"
   ]
  },
  {
   "cell_type": "code",
   "execution_count": null,
   "metadata": {},
   "outputs": [],
   "source": [
    "db25s = gl.DbGrid.create(nx=[5,5],dx=[2,2],x0=[0.5,0.5])\n",
    "dum = gl.migrate(db100,db25s,name=\"z1\",namconv=gl.NamingConvention(\"\",False))"
   ]
  },
  {
   "cell_type": "code",
   "execution_count": null,
   "metadata": {},
   "outputs": [],
   "source": [
    "ax = db25s.plot()\n",
    "ax.decoration(title=\"Sampling\")"
   ]
  },
  {
   "cell_type": "code",
   "execution_count": null,
   "metadata": {
    "scrolled": false
   },
   "outputs": [],
   "source": [
    "ax = gp.pointold(db=db25s,name_label=\"z1\")\n",
    "ax.decoration(title=\"Sampling\")"
   ]
  },
  {
   "cell_type": "code",
   "execution_count": null,
   "metadata": {},
   "outputs": [],
   "source": [
    "dum = db25s.statistics([\"z1\"],[gl.EStatOption.MEAN, gl.EStatOption.VAR])"
   ]
  },
  {
   "cell_type": "markdown",
   "metadata": {},
   "source": [
    "## Using the Selectivity Curves"
   ]
  },
  {
   "cell_type": "markdown",
   "metadata": {},
   "source": [
    "We compare the selectivity curves between Data and Blocks:"
   ]
  },
  {
   "cell_type": "code",
   "execution_count": null,
   "metadata": {},
   "outputs": [],
   "source": [
    "selectivity = gl.Selectivity(100)\n",
    "table100 = selectivity.eval(db100, True)\n",
    "table25  = selectivity.eval(db25,  True)\n",
    "table25s = selectivity.eval(db25s, True)"
   ]
  },
  {
   "cell_type": "code",
   "execution_count": null,
   "metadata": {
    "scrolled": true
   },
   "outputs": [],
   "source": [
    "table100.getColumnNames()"
   ]
  },
  {
   "cell_type": "markdown",
   "metadata": {},
   "source": [
    "- Ore tonnage as a function of the cutoff"
   ]
  },
  {
   "cell_type": "code",
   "execution_count": null,
   "metadata": {
    "scrolled": true
   },
   "outputs": [],
   "source": [
    "ax = table100.plot([1,0],color='blue')\n",
    "ax = table25.plot([1,0],ax=ax,color='red')\n",
    "ax.decoration(title=\"T(z)\")"
   ]
  },
  {
   "cell_type": "markdown",
   "metadata": {},
   "source": [
    "- Metal as a function of the cutoff"
   ]
  },
  {
   "cell_type": "code",
   "execution_count": null,
   "metadata": {
    "scrolled": true
   },
   "outputs": [],
   "source": [
    "ax = table100.plot([2,0],color='blue')\n",
    "ax = table25.plot([2,0],ax=ax,color='red')\n",
    "ax.decoration(title=\"Q(z)\")"
   ]
  },
  {
   "cell_type": "markdown",
   "metadata": {},
   "source": [
    "- Recovered grade as a function of the cutoff"
   ]
  },
  {
   "cell_type": "code",
   "execution_count": null,
   "metadata": {
    "scrolled": true
   },
   "outputs": [],
   "source": [
    "ax = table100.plot([4,0],color='blue')\n",
    "ax = table25.plot([4,0],ax=ax,color='red')\n",
    "ax.decoration(title=\"M(z)\")"
   ]
  },
  {
   "cell_type": "markdown",
   "metadata": {},
   "source": [
    "- Conventional Benefit as a function of the cutoff"
   ]
  },
  {
   "cell_type": "code",
   "execution_count": null,
   "metadata": {
    "scrolled": true
   },
   "outputs": [],
   "source": [
    "ax = table100.plot([3,0],color='blue')\n",
    "ax = table25.plot([3,0],ax=ax,color='red')\n",
    "ax.decoration(title=\"B(z)\")"
   ]
  },
  {
   "cell_type": "markdown",
   "metadata": {},
   "source": [
    "- Metal as a function of Ore Tonnage"
   ]
  },
  {
   "cell_type": "code",
   "execution_count": null,
   "metadata": {
    "scrolled": false
   },
   "outputs": [],
   "source": [
    "ax = table100.plot([2,1],color='blue')\n",
    "ax = table25.plot([2,1],ax=ax,color='red')\n",
    "ax.plot([0.,1.], [0.,db100.getMean(\"z1\")], linestyle='dashed')\n",
    "ax.decoration(title=\"Q(T)\")"
   ]
  },
  {
   "cell_type": "markdown",
   "metadata": {},
   "source": [
    "# Regressions"
   ]
  },
  {
   "cell_type": "markdown",
   "metadata": {},
   "source": [
    "Display regressions"
   ]
  },
  {
   "cell_type": "code",
   "execution_count": null,
   "metadata": {
    "scrolled": true
   },
   "outputs": [],
   "source": [
    "ax = gp.correlold(db25,namex=\"z1\",namey=\"z1\",db2=db25s, asPoint=True, diagLine=True, regrLine=True)\n",
    "ax.decoration(ylabel=\"Blocks\",xlabel=\"Samples\",title=\"Block vs. Sample\")"
   ]
  },
  {
   "cell_type": "code",
   "execution_count": null,
   "metadata": {
    "scrolled": false
   },
   "outputs": [],
   "source": [
    "ax = gp.correlold(db25s,namex=\"z1\",namey=\"z1\",db2=db25, asPoint=True, diagLine=True, regrLine=True)\n",
    "ax.decoration(xlabel=\"Blocks\",ylabel=\"Samples\",title=\"Sample vs. Block\")"
   ]
  },
  {
   "cell_type": "markdown",
   "metadata": {},
   "source": [
    "## Comparing selectivity curves"
   ]
  },
  {
   "cell_type": "code",
   "execution_count": null,
   "metadata": {
    "scrolled": true
   },
   "outputs": [],
   "source": [
    "ax = table100.plot([2,1],color='blue')\n",
    "ax = table25.plot([2,1],ax=ax,color='red')\n",
    "ax = table25s.plot([2,1],ax=ax,color='green')\n",
    "ax.plot([0.,1.], [0.,db100.getMean(\"z1\")], linestyle='dashed')\n",
    "ax.plot([0.,1.], [0.,db25s.getMean(\"z1\")], linestyle='dashed')\n",
    "ax.decoration(title=\"Q(T)\")"
   ]
  },
  {
   "cell_type": "code",
   "execution_count": null,
   "metadata": {},
   "outputs": [],
   "source": []
  }
 ],
 "metadata": {
  "kernelspec": {
   "display_name": "Python 3 (ipykernel)",
   "language": "python",
   "name": "python3"
  },
  "language_info": {
   "codemirror_mode": {
    "name": "ipython",
    "version": 3
   },
   "file_extension": ".py",
   "mimetype": "text/x-python",
   "name": "python",
   "nbconvert_exporter": "python",
   "pygments_lexer": "ipython3",
   "version": "3.10.5"
  }
 },
 "nbformat": 4,
 "nbformat_minor": 4
}
