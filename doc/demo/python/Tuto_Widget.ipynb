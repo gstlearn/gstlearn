{
 "cells": [
  {
   "cell_type": "markdown",
   "id": "a56fd472",
   "metadata": {},
   "source": [
    "# Widgets"
   ]
  },
  {
   "cell_type": "markdown",
   "id": "5687d31e",
   "metadata": {},
   "source": [
    "<!-- SUMMARY: Demonstration of the use of widgets -->\n",
    "\n",
    "<!-- CATEGORY: Tool_for_Python_environment -->"
   ]
  },
  {
   "cell_type": "code",
   "execution_count": null,
   "id": "f84829cd",
   "metadata": {
    "code_folding": []
   },
   "outputs": [],
   "source": [
    "import gstlearn as gl\n",
    "import gstlearn.plot as gp\n",
    "import gstlearn.document as gdoc\n",
    "import gstlearn.widgets as gw\n",
    "\n",
    "import ipywidgets as widgets\n",
    "import numpy as np\n",
    "from IPython.display import display\n",
    "import math"
   ]
  },
  {
   "cell_type": "markdown",
   "id": "73136e97",
   "metadata": {},
   "source": [
    "The next two lines are compulsory if you want to use interactive graphics (matplotlib)"
   ]
  },
  {
   "cell_type": "code",
   "execution_count": null,
   "id": "4a97f1f6",
   "metadata": {},
   "outputs": [],
   "source": [
    "%matplotlib inline\n",
    "%matplotlib notebook"
   ]
  },
  {
   "cell_type": "markdown",
   "id": "41c99e8f",
   "metadata": {},
   "source": [
    "The next line avoids automatica scrolling of the jupyter-notebook to take place"
   ]
  },
  {
   "cell_type": "code",
   "execution_count": null,
   "id": "0f4142bd",
   "metadata": {},
   "outputs": [],
   "source": [
    "gdoc.setNoScroll()"
   ]
  },
  {
   "cell_type": "markdown",
   "id": "c83b9cac",
   "metadata": {},
   "source": [
    "## Defining the environment"
   ]
  },
  {
   "cell_type": "markdown",
   "id": "0038f66b",
   "metadata": {},
   "source": [
    "Creating the Grid which will be used for all experiments"
   ]
  },
  {
   "cell_type": "code",
   "execution_count": null,
   "id": "2eb2e11c",
   "metadata": {},
   "outputs": [],
   "source": [
    "nx = 120\n",
    "db = gl.DbGrid.create(nx = [nx,nx],dx = [1,1])"
   ]
  },
  {
   "cell_type": "markdown",
   "id": "2f4b41f2",
   "metadata": {},
   "source": [
    "Constitute the list of all available basic structures (starting from the Enum), restricted to the only ones that can be simulated using the Turning Bands method."
   ]
  },
  {
   "cell_type": "code",
   "execution_count": null,
   "id": "5e9a8a7c",
   "metadata": {},
   "outputs": [],
   "source": [
    "models = gl.CovHelper.getAllCovariances(flagSimtub = True)\n",
    "models"
   ]
  },
  {
   "cell_type": "markdown",
   "id": "a56d615f",
   "metadata": {},
   "source": [
    "Defining the default values for main parameters"
   ]
  },
  {
   "cell_type": "code",
   "execution_count": null,
   "id": "458c45ac",
   "metadata": {},
   "outputs": [],
   "source": [
    "ndat_ref = 10 # Number of samples\n",
    "flagColor_ref = False # True for color representation; False for proportional representation\n",
    "range_ref = 20  # Range of the structure\n",
    "nbtuba_ref = 200 # Number of turning bands for the simulation\n",
    "rank_ref = 1 # Rank of the basic structure (within 'models' list)\n",
    "flagTitle_ref = True # Toggle flag for representing the Title"
   ]
  },
  {
   "cell_type": "markdown",
   "id": "c70321a9",
   "metadata": {},
   "source": [
    "Defining the global parameters"
   ]
  },
  {
   "cell_type": "code",
   "execution_count": null,
   "id": "75281e37",
   "metadata": {},
   "outputs": [],
   "source": [
    "ndat = ndat_ref\n",
    "flagColor = flagColor_ref\n",
    "range = range_ref\n",
    "nbtuba = nbtuba_ref\n",
    "rank = rank_ref\n",
    "flagTitle = flagTitle_ref"
   ]
  },
  {
   "cell_type": "markdown",
   "id": "acd61b44",
   "metadata": {},
   "source": [
    "The following method resets the values of the global parameters to their default values. This method will be used in order to ensure that each chunk starts with the default values (rather than with the current valu of the global parameters)."
   ]
  },
  {
   "cell_type": "code",
   "execution_count": null,
   "id": "f01fc2bb",
   "metadata": {},
   "outputs": [],
   "source": [
    "def reset():\n",
    "    global ndat, flagColor, range, nbtuba, rank, flagTitle\n",
    "    ndat = ndat_ref\n",
    "    flagColor = flagColor_ref\n",
    "    range = range_ref\n",
    "    nbtuba = nbtuba_ref\n",
    "    rank = rank_ref\n",
    "    flagTitle = flagTitle_ref"
   ]
  },
  {
   "cell_type": "markdown",
   "id": "508c61cb",
   "metadata": {},
   "source": [
    "Performing a non-conditional simulation (with Turning Bands method) and display the results. \n",
    "\n",
    "All these operations are set in a function (called **iteration**) as it will be called recursively for demonstration sake. This function is set with all variable arguments (where arguments are set by default to their initial values°."
   ]
  },
  {
   "cell_type": "code",
   "execution_count": null,
   "id": "dd7583e2",
   "metadata": {},
   "outputs": [],
   "source": [
    "def iteration(ax):\n",
    "    type = gl.ECov.fromKey(models[rank])\n",
    "    model = gl.Model.createFromParam(type = type,range = range)\n",
    "    db.deleteColumn(\"*Simu\")\n",
    "    err = gl.simtub(None,db,model,nbtuba=nbtuba)\n",
    "    if flagTitle:\n",
    "        title = f'{type.getDescr()} {\":\"} {\"Range =\"} {range} {\"-\"} {\"Nbtuba =\"} {nbtuba}'\n",
    "    else:\n",
    "        title = \"\"\n",
    "        \n",
    "    # Graphic representation\n",
    "    ax.cla()\n",
    "    ax.raster(db,\"*Simu\")\n",
    "    ax.axes.axis(\"off\")\n",
    "    ax.decoration(title=title)\n",
    "    \n",
    "def graphicTest(ax):\n",
    "    dbpoint = gl.Db.createFillRandom(ndat, 2, 1)\n",
    "    \n",
    "    ax.cla()\n",
    "    if flagColor:\n",
    "        ax.symbol(dbpoint, nameColor = \"z\", s=100)\n",
    "    else:\n",
    "        ax.symbol(dbpoint, nameSize=\"z\")"
   ]
  },
  {
   "cell_type": "markdown",
   "id": "b335df1d",
   "metadata": {},
   "source": [
    "## Testing interactive graphics"
   ]
  },
  {
   "cell_type": "markdown",
   "id": "b230cd94",
   "metadata": {},
   "source": [
    "The first step is to test the graphic (matplotlib) in presence of widgets. Note that, in the next chunk, there is no widget involved.\n",
    "\n",
    "The graphic simply displays a set of isolated points, simulated randomly. The display is performed either using  proportional (default) or color representation."
   ]
  },
  {
   "cell_type": "code",
   "execution_count": null,
   "id": "e28613a7",
   "metadata": {},
   "outputs": [],
   "source": [
    "fig,ax = gp.init(1,1,figsize=(5,5))\n",
    "reset()\n",
    "graphicTest(ax)"
   ]
  },
  {
   "cell_type": "markdown",
   "id": "53db414d",
   "metadata": {},
   "source": [
    "In the next chunk, two widgets are involved. The information on the widgets (and their layout) will be provided in next paragraphs. There, we simply refer to the widgets and their main component: its eventHandler.\n",
    "\n",
    "The first task is to define the **eventHandler** for each widget, that is the function which is called when the widget is modified. In this action, the task is simple:\n",
    "\n",
    "- retrieve its new value\n",
    "- update the global parameters\n",
    "- trigger the figure\n",
    "\n",
    "The second task is to instantiate the widgets (use one out of those provided by *gstlearn.widgets* library for example).\n",
    "\n",
    "The last task is to instantiate the figure (using **plt.subplots** called by **gp.init** seems to be compulsory) and trigger the figure (using the global parameters).\n",
    "\n",
    "Important remark: Using global variables (as demonstrated in this example) allows modifying each parameter of the plot, while keeping the other parameters unchanged."
   ]
  },
  {
   "cell_type": "code",
   "execution_count": null,
   "id": "0aee4e52",
   "metadata": {},
   "outputs": [],
   "source": [
    "def EventNumberhandler(change):\n",
    "    global ndat\n",
    "    ndat = change.new\n",
    "    graphicTest(ax)\n",
    "\n",
    "def sliderColorEventhandler(change):\n",
    "    global flagColor\n",
    "    flagColor = change.new\n",
    "    graphicTest(ax)\n",
    "\n",
    "widgetNumber = gw.sliderInt(title='Number', value=ndat_ref, mini=1, maxi=100,\n",
    "                        eventhandler=EventNumberhandler)\n",
    "widgetColor = gw.boolean(title='Color?', value=flagColor_ref,\n",
    "                         eventhandler=sliderColorEventhandler)\n",
    "hbox = widgets.HBox([widgetNumber, widgetColor])\n",
    "\n",
    "display(hbox)\n",
    "\n",
    "fig,ax = gp.init(figsize=(5,5))\n",
    "reset()\n",
    "graphicTest(ax)"
   ]
  },
  {
   "cell_type": "markdown",
   "id": "a9df3b85",
   "metadata": {},
   "source": [
    "## Testing the Integer Slider"
   ]
  },
  {
   "cell_type": "code",
   "execution_count": null,
   "id": "e1b1fb44",
   "metadata": {},
   "outputs": [],
   "source": [
    "def sliderNbtubaEventhandler(change):\n",
    "    global nbtuba\n",
    "    nbtuba = change.new\n",
    "    iteration(ax)\n",
    "\n",
    "widgetNbtuba = gw.sliderInt(title='Nb. Bands',\n",
    "                            value=nbtuba_ref, mini=10, maxi=300,\n",
    "                            eventhandler=sliderNbtubaEventhandler)\n",
    "\n",
    "display(widgetNbtuba)\n",
    "\n",
    "fig,ax = gp.init(figsize=(5,5))\n",
    "reset()\n",
    "iteration(ax)"
   ]
  },
  {
   "cell_type": "markdown",
   "id": "0fe1c841",
   "metadata": {},
   "source": [
    "## Testing the Float Slider"
   ]
  },
  {
   "cell_type": "code",
   "execution_count": null,
   "id": "74f5ab52",
   "metadata": {},
   "outputs": [],
   "source": [
    "def sliderRangeEventhandler(change):\n",
    "    global range\n",
    "    range = change.new\n",
    "    iteration(ax)\n",
    "\n",
    "widgetRange = gw.sliderFloat(title='Range',\n",
    "                              value = range_ref, mini=5, maxi=100,\n",
    "                              eventhandler=sliderRangeEventhandler)\n",
    "\n",
    "display(widgetRange)\n",
    "\n",
    "fig,ax = gp.init(figsize=(5,5))\n",
    "reset()\n",
    "iteration(ax)"
   ]
  },
  {
   "cell_type": "markdown",
   "id": "3c077055",
   "metadata": {},
   "source": [
    "## Testing the DropDown widget"
   ]
  },
  {
   "cell_type": "code",
   "execution_count": null,
   "id": "0da32f60",
   "metadata": {},
   "outputs": [],
   "source": [
    "def sliderTypeEventhandler(change):\n",
    "    global rank\n",
    "    rank = models.index(change.new)\n",
    "    iteration(ax)\n",
    "\n",
    "widgetModelType = gw.dropDown(title='Structure', \n",
    "                              options = models, \n",
    "                              value = models[rank_ref],\n",
    "                              eventhandler=sliderTypeEventhandler)\n",
    "\n",
    "display(widgetModelType)\n",
    "\n",
    "fig,ax = gp.init(figsize=(5,5))\n",
    "reset()\n",
    "iteration(ax)"
   ]
  },
  {
   "cell_type": "markdown",
   "id": "20ac2c43",
   "metadata": {},
   "source": [
    "## Testing the Boolean widget"
   ]
  },
  {
   "cell_type": "markdown",
   "id": "4d9d3adc",
   "metadata": {},
   "source": [
    "Adding the possibility to hide the title"
   ]
  },
  {
   "cell_type": "code",
   "execution_count": null,
   "id": "bdc7d650",
   "metadata": {},
   "outputs": [],
   "source": [
    "def sliderTitleEventhandler(change):\n",
    "    global flagTitle\n",
    "    flagTitle = change.new\n",
    "    iteration(ax)\n",
    "\n",
    "widgetTitle = gw.boolean(title='Draw Title', value=True,\n",
    "                         eventhandler=sliderTitleEventhandler)\n",
    "\n",
    "display(widgetTitle)\n",
    "\n",
    "fig,ax = gp.init(figsize=(5,5))\n",
    "iteration(ax)"
   ]
  },
  {
   "cell_type": "markdown",
   "id": "118b974b",
   "metadata": {},
   "source": [
    "## Widget layout"
   ]
  },
  {
   "cell_type": "code",
   "execution_count": null,
   "id": "e7761176",
   "metadata": {},
   "outputs": [],
   "source": [
    "def sliderNbtubaEventhandler(change):\n",
    "    global nbtuba\n",
    "    nbtuba = change.new\n",
    "    iteration(ax)\n",
    "def sliderRangeEventhandler(change):\n",
    "    global range\n",
    "    range = change.new\n",
    "    iteration(ax)\n",
    "\n",
    "widgetNbtuba = gw.sliderInt(title='Nb. Bands',\n",
    "                            value=nbtuba_ref, mini=10, maxi=300,\n",
    "                            eventhandler=sliderNbtubaEventhandler)\n",
    "widgetRange = gw.sliderFloat(title='Range',\n",
    "                              value = range_ref, mini=5, maxi=100,\n",
    "                              eventhandler=sliderRangeEventhandler)\n",
    "hbox = widgets.HBox([widgetNbtuba, widgetRange])\n",
    "\n",
    "display(hbox)\n",
    "\n",
    "fig,ax = gp.init(figsize=(5,5))\n",
    "iteration(ax)"
   ]
  }
 ],
 "metadata": {
  "hide_input": false,
  "kernelspec": {
   "display_name": "Python 3 (ipykernel)",
   "language": "python",
   "name": "python3"
  },
  "language_info": {
   "codemirror_mode": {
    "name": "ipython",
    "version": 3
   },
   "file_extension": ".py",
   "mimetype": "text/x-python",
   "name": "python",
   "nbconvert_exporter": "python",
   "pygments_lexer": "ipython3",
   "version": "3.10.5"
  },
  "toc": {
   "base_numbering": 1,
   "nav_menu": {},
   "number_sections": true,
   "sideBar": true,
   "skip_h1_title": true,
   "title_cell": "Table of Contents",
   "title_sidebar": "Contents",
   "toc_cell": false,
   "toc_position": {
    "height": "calc(100% - 180px)",
    "left": "10px",
    "top": "150px",
    "width": "275.8px"
   },
   "toc_section_display": true,
   "toc_window_display": false
  }
 },
 "nbformat": 4,
 "nbformat_minor": 5
}
