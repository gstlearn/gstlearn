{
 "cells": [
  {
   "cell_type": "markdown",
   "id": "d3b3a2d4",
   "metadata": {},
   "source": [
    "# Widgets"
   ]
  },
  {
   "cell_type": "markdown",
   "id": "02585ebb",
   "metadata": {},
   "source": [
    "<!-- SUMMARY: Demonstration of the use of widgets -->\n",
    "\n",
    "<!-- CATEGORY: Tool_for_Python_environment -->"
   ]
  },
  {
   "cell_type": "code",
   "execution_count": null,
   "id": "f13f48b6",
   "metadata": {
    "code_folding": []
   },
   "outputs": [],
   "source": [
    "import gstlearn as gl\n",
    "import gstlearn.plot as gp\n",
    "import gstlearn.document as gdoc\n",
    "import gstlearn.widgets as gw\n",
    "\n",
    "import matplotlib.pyplot as plt\n",
    "import ipywidgets as widgets\n",
    "import numpy as np\n",
    "import matplotlib.pyplot as plt\n",
    "from IPython.display import display\n",
    "import math"
   ]
  },
  {
   "cell_type": "markdown",
   "id": "51718730",
   "metadata": {},
   "source": [
    "The next two lines are compulsory if you want to use interactive graphics (matplotlib)"
   ]
  },
  {
   "cell_type": "code",
   "execution_count": null,
   "id": "044c042a",
   "metadata": {},
   "outputs": [],
   "source": [
    "%matplotlib inline\n",
    "%matplotlib notebook"
   ]
  },
  {
   "cell_type": "markdown",
   "id": "f10d27b9",
   "metadata": {},
   "source": [
    "The next line avoids automatica scrolling of the jupyter-notebook to take place"
   ]
  },
  {
   "cell_type": "code",
   "execution_count": null,
   "id": "777d84bb",
   "metadata": {},
   "outputs": [],
   "source": [
    "gdoc.setNoScroll()"
   ]
  },
  {
   "cell_type": "markdown",
   "id": "736b4c5f",
   "metadata": {},
   "source": [
    "## Defining the environment"
   ]
  },
  {
   "cell_type": "markdown",
   "id": "0f4ae5e3",
   "metadata": {},
   "source": [
    "Creating the Grid which will be used for all experiments"
   ]
  },
  {
   "cell_type": "code",
   "execution_count": null,
   "id": "f0b2fcd7",
   "metadata": {},
   "outputs": [],
   "source": [
    "nx = 120\n",
    "db = gl.DbGrid.create(nx = [nx,nx],dx = [1,1])"
   ]
  },
  {
   "cell_type": "markdown",
   "id": "0c38b79a",
   "metadata": {},
   "source": [
    "Constitute the list of all available basic structures (starting from the Enum), restricted to the only ones that can be simulated using the Turning Bands method."
   ]
  },
  {
   "cell_type": "code",
   "execution_count": null,
   "id": "8047d7bf",
   "metadata": {
    "scrolled": true
   },
   "outputs": [],
   "source": [
    "models = gl.CovHelper.getAllCovariances(flagSimtub = True)\n",
    "models"
   ]
  },
  {
   "cell_type": "markdown",
   "id": "fda3073a",
   "metadata": {},
   "source": [
    "Defining the default values for main parameters"
   ]
  },
  {
   "cell_type": "code",
   "execution_count": null,
   "id": "0bdce418",
   "metadata": {},
   "outputs": [],
   "source": [
    "ndat_ref = 10 # Number of samples\n",
    "flagColor_ref = False # True for color representation; False for proportional representation\n",
    "range_ref = 20  # Range of the structure\n",
    "nbtuba_ref = 200 # Number of turning bands for the simulation\n",
    "rank_ref = 1 # Rank of the basic structure (within 'models' list)\n",
    "flagTitle_ref = True # Toggle flag for representing the Title"
   ]
  },
  {
   "cell_type": "markdown",
   "id": "cf75a67e",
   "metadata": {},
   "source": [
    "Defining the global parameters"
   ]
  },
  {
   "cell_type": "code",
   "execution_count": null,
   "id": "0fa66a31",
   "metadata": {},
   "outputs": [],
   "source": [
    "ndat = ndat_ref\n",
    "flagColor = flagColor_ref\n",
    "range = range_ref\n",
    "nbtuba = nbtuba_ref\n",
    "rank = rank_ref\n",
    "flagTitle = flagTitle_ref"
   ]
  },
  {
   "cell_type": "markdown",
   "id": "3cf6bb1e",
   "metadata": {},
   "source": [
    "The following method resets the values of the global parameters to their default values. This method will be used in order to ensure that each chunk starts with the default values (rather than with the current valu of the global parameters)."
   ]
  },
  {
   "cell_type": "code",
   "execution_count": null,
   "id": "7f0a6f02",
   "metadata": {},
   "outputs": [],
   "source": [
    "def reset():\n",
    "    global ndat, flagColor, range, nbtuba, rank, flagTitle\n",
    "    ndat = ndat_ref\n",
    "    flagColor = flagColor_ref\n",
    "    range = range_ref\n",
    "    nbtuba = nbtuba_ref\n",
    "    rank = rank_ref\n",
    "    flagTitle = flagTitle_ref"
   ]
  },
  {
   "cell_type": "markdown",
   "id": "95e0bcc8",
   "metadata": {},
   "source": [
    "Performing a non-conditional simulation (with Turning Bands method) and display the results. \n",
    "\n",
    "All these operations are set in a function (called **iteration**) as it will be called recursively for demonstration sake. This function is set with all variable arguments (where arguments are set by default to their initial values°."
   ]
  },
  {
   "cell_type": "code",
   "execution_count": null,
   "id": "dc241e3b",
   "metadata": {},
   "outputs": [],
   "source": [
    "def iteration(ax):\n",
    "    type = gl.ECov.fromKey(models[rank])\n",
    "    model = gl.Model.createFromParam(type = type,range = range)\n",
    "    db.deleteColumn(\"*Simu\")\n",
    "    err = gl.simtub(None,db,model,nbtuba=nbtuba)\n",
    "    if flagTitle:\n",
    "        title = f'{type.getDescr()} {\":\"} {\"Range =\"} {range} {\"-\"} {\"Nbtuba =\"} {nbtuba}'\n",
    "    else:\n",
    "        title = \"\"\n",
    "        \n",
    "    # Graphic representation\n",
    "    ax.cla()\n",
    "    ax.raster(db,\"*Simu\")\n",
    "    ax.axes.axis(\"off\")\n",
    "    ax.decoration(title=title)\n",
    "    \n",
    "def graphicTest(ax):\n",
    "    dbpoint = gl.Db.createFillRandom(ndat, 2, 1)\n",
    "    \n",
    "    ax.cla()\n",
    "    if flagColor:\n",
    "        ax.symbol(dbpoint, nameColor = \"z\", s=100)\n",
    "    else:\n",
    "        ax.symbol(dbpoint, nameSize=\"z\")"
   ]
  },
  {
   "cell_type": "markdown",
   "id": "cd3884cf",
   "metadata": {},
   "source": [
    "## Testing interactive graphics"
   ]
  },
  {
   "cell_type": "markdown",
   "id": "0c77d235",
   "metadata": {},
   "source": [
    "The first step is to test the graphic (matplotlib) in presence of widgets. Note that, in the next chunk, there is no widget involved.\n",
    "\n",
    "The graphic simply displays a set of isolated points, simulated randomly. The display is performed either using  proportional (default) or color representation."
   ]
  },
  {
   "cell_type": "code",
   "execution_count": null,
   "id": "f3c76a8e",
   "metadata": {
    "scrolled": false
   },
   "outputs": [],
   "source": [
    "fig,ax = plt.subplots(1,1,figsize=(5,5))\n",
    "reset()\n",
    "graphicTest(ax)"
   ]
  },
  {
   "cell_type": "markdown",
   "id": "4ec8b52c",
   "metadata": {},
   "source": [
    "In the next chunk, two widgets are involved. The information on the widgets (and their layout) will be provided in next paragraphs. There, we simply refer to the widgets and their main component: its eventHandler.\n",
    "\n",
    "The first task is to define the **eventHandler** for each widget, that is the function which is called when the widget is modified. In this action, the task is simple:\n",
    "\n",
    "- retrieve its new value\n",
    "- update the global parameters\n",
    "- trigger the figure\n",
    "\n",
    "The second task is to instantiate the widgets (use one out of those provided by *gstlearn.widgets* library for example).\n",
    "\n",
    "The last task is to instantiate the figure (using **plt.subplots** seems to be compulsory) and trigger the figure (using the global parameters).\n",
    "\n",
    "Important remark: Using global variables (as demonstrated in this example) allows modifying each parameter of the plot, while keeping the other parameters unchanged."
   ]
  },
  {
   "cell_type": "code",
   "execution_count": null,
   "id": "a95d7db6",
   "metadata": {},
   "outputs": [],
   "source": [
    "def EventNumberhandler(change):\n",
    "    global ndat\n",
    "    ndat = change.new\n",
    "    graphicTest(ax)\n",
    "\n",
    "def sliderColorEventhandler(change):\n",
    "    global flagColor\n",
    "    flagColor = change.new\n",
    "    graphicTest(ax)\n",
    "\n",
    "widgetNumber = gw.sliderInt(title='Number', value=ndat_ref, mini=1, maxi=100,\n",
    "                        eventhandler=EventNumberhandler)\n",
    "widgetColor = gw.boolean(title='Color?', value=flagColor_ref,\n",
    "                         eventhandler=sliderColorEventhandler)\n",
    "hbox = widgets.HBox([widgetNumber, widgetColor])\n",
    "\n",
    "display(hbox)\n",
    "\n",
    "fig,ax = plt.subplots(1,1,figsize=(5,5))\n",
    "reset()\n",
    "graphicTest(ax)"
   ]
  },
  {
   "cell_type": "markdown",
   "id": "6c33e213",
   "metadata": {},
   "source": [
    "## Testing the Integer Slider"
   ]
  },
  {
   "cell_type": "code",
   "execution_count": null,
   "id": "c3f1a79c",
   "metadata": {},
   "outputs": [],
   "source": [
    "def sliderNbtubaEventhandler(change):\n",
    "    global nbtuba\n",
    "    nbtuba = change.new\n",
    "    iteration(ax)\n",
    "\n",
    "widgetNbtuba = gw.sliderInt(title='Nb. Bands',\n",
    "                            value=nbtuba_ref, mini=10, maxi=300,\n",
    "                            eventhandler=sliderNbtubaEventhandler)\n",
    "\n",
    "display(widgetNbtuba)\n",
    "\n",
    "fig,ax = plt.subplots(1,1,figsize=(5,5))\n",
    "reset()\n",
    "iteration(ax)"
   ]
  },
  {
   "cell_type": "markdown",
   "id": "7849e51a",
   "metadata": {},
   "source": [
    "## Testing the Float Slider"
   ]
  },
  {
   "cell_type": "code",
   "execution_count": null,
   "id": "fd88ac7d",
   "metadata": {
    "scrolled": false
   },
   "outputs": [],
   "source": [
    "def sliderRangeEventhandler(change):\n",
    "    global range\n",
    "    range = change.new\n",
    "    iteration(ax)\n",
    "\n",
    "widgetRange = gw.sliderFloat(title='Range',\n",
    "                              value = range_ref, mini=5, maxi=100,\n",
    "                              eventhandler=sliderRangeEventhandler)\n",
    "\n",
    "display(widgetRange)\n",
    "\n",
    "fig,ax = plt.subplots(1,1,figsize=(5,5))\n",
    "reset()\n",
    "iteration(ax)"
   ]
  },
  {
   "cell_type": "markdown",
   "id": "9c2ee09a",
   "metadata": {},
   "source": [
    "## Testing the DropDown widget"
   ]
  },
  {
   "cell_type": "code",
   "execution_count": null,
   "id": "84c1e092",
   "metadata": {},
   "outputs": [],
   "source": [
    "def sliderTypeEventhandler(change):\n",
    "    global rank\n",
    "    rank = models.index(change.new)\n",
    "    iteration(ax)\n",
    "\n",
    "widgetModelType = gw.dropDown(title='Structure', \n",
    "                              options = models, \n",
    "                              value = models[rank_ref],\n",
    "                              eventhandler=sliderTypeEventhandler)\n",
    "\n",
    "display(widgetModelType)\n",
    "\n",
    "fig,ax = plt.subplots(1,1,figsize=(5,5))\n",
    "reset()\n",
    "iteration(ax)"
   ]
  },
  {
   "cell_type": "markdown",
   "id": "ab01038e",
   "metadata": {},
   "source": [
    "## Testing the Boolean widget"
   ]
  },
  {
   "cell_type": "markdown",
   "id": "6a091840",
   "metadata": {},
   "source": [
    "Adding the possibility to hide the title"
   ]
  },
  {
   "cell_type": "code",
   "execution_count": null,
   "id": "08387d3c",
   "metadata": {},
   "outputs": [],
   "source": [
    "def sliderTitleEventhandler(change):\n",
    "    global flagTitle\n",
    "    flagTitle = change.new\n",
    "    iteration(ax)\n",
    "\n",
    "widgetTitle = gw.boolean(title='Draw Title', value=True,\n",
    "                         eventhandler=sliderTitleEventhandler)\n",
    "\n",
    "display(widgetTitle)\n",
    "\n",
    "fig,ax = plt.subplots(1,1,figsize=(5,5))\n",
    "iteration(ax)"
   ]
  },
  {
   "cell_type": "markdown",
   "id": "81825d76",
   "metadata": {},
   "source": [
    "## Widget layout"
   ]
  },
  {
   "cell_type": "code",
   "execution_count": null,
   "id": "36c40d33",
   "metadata": {},
   "outputs": [],
   "source": [
    "def sliderNbtubaEventhandler(change):\n",
    "    global nbtuba\n",
    "    nbtuba = change.new\n",
    "    iteration(ax)\n",
    "def sliderRangeEventhandler(change):\n",
    "    global range\n",
    "    range = change.new\n",
    "    iteration(ax)\n",
    "\n",
    "widgetNbtuba = gw.sliderInt(title='Nb. Bands',\n",
    "                            value=nbtuba_ref, mini=10, maxi=300,\n",
    "                            eventhandler=sliderNbtubaEventhandler)\n",
    "widgetRange = gw.sliderFloat(title='Range',\n",
    "                              value = range_ref, mini=5, maxi=100,\n",
    "                              eventhandler=sliderRangeEventhandler)\n",
    "hbox = widgets.HBox([widgetNbtuba, widgetRange])\n",
    "\n",
    "display(hbox)\n",
    "\n",
    "fig,ax = plt.subplots(1,1,figsize=(5,5))\n",
    "iteration(ax)"
   ]
  }
 ],
 "metadata": {
  "hide_input": false,
  "kernelspec": {
   "display_name": "Python 3 (ipykernel)",
   "language": "python",
   "name": "python3"
  },
  "language_info": {
   "codemirror_mode": {
    "name": "ipython",
    "version": 3
   },
   "file_extension": ".py",
   "mimetype": "text/x-python",
   "name": "python",
   "nbconvert_exporter": "python",
   "pygments_lexer": "ipython3",
   "version": "3.10.5"
  },
  "toc": {
   "base_numbering": 1,
   "nav_menu": {},
   "number_sections": true,
   "sideBar": true,
   "skip_h1_title": true,
   "title_cell": "Table of Contents",
   "title_sidebar": "Contents",
   "toc_cell": false,
   "toc_position": {
    "height": "calc(100% - 180px)",
    "left": "10px",
    "top": "150px",
    "width": "275.8px"
   },
   "toc_section_display": true,
   "toc_window_display": false
  }
 },
 "nbformat": 4,
 "nbformat_minor": 5
}
