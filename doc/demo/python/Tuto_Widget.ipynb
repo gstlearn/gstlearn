{
 "cells": [
  {
   "cell_type": "markdown",
   "id": "d3b3a2d4",
   "metadata": {},
   "source": [
    "# Widgets"
   ]
  },
  {
   "cell_type": "markdown",
   "id": "02585ebb",
   "metadata": {},
   "source": [
    "<!-- SUMMARY: Demonstration of the use of widgets -->\n",
    "\n",
    "<!-- CATEGORY: Tool_for_Python_environment -->"
   ]
  },
  {
   "cell_type": "code",
   "execution_count": null,
   "id": "62bdadf2",
   "metadata": {
    "code_folding": []
   },
   "outputs": [],
   "source": [
    "import gstlearn as gl\n",
    "import gstlearn.plot as gp\n",
    "import gstlearn.document as gdoc\n",
    "import gstlearn.widgets as gw\n",
    "\n",
    "import matplotlib.pyplot as plt\n",
    "import ipywidgets as widgets\n",
    "from ipywidgets import HBox, VBox\n",
    "import numpy as np\n",
    "import matplotlib.pyplot as plt\n",
    "from IPython.display import display\n",
    "import gstlearn as gl\n",
    "%matplotlib inline\n",
    "%matplotlib notebook\n",
    "import math\n",
    "\n",
    "gdoc.setNoScroll()"
   ]
  },
  {
   "cell_type": "markdown",
   "id": "cf75a67e",
   "metadata": {},
   "source": [
    "Defining the initial values for main parameters and creating the Grid"
   ]
  },
  {
   "cell_type": "code",
   "execution_count": null,
   "id": "811357f0",
   "metadata": {},
   "outputs": [],
   "source": [
    "nx = 120\n",
    "rangeInit = 20\n",
    "nbtubaInit = 200\n",
    "basicInit = gl.ECov.EXPONENTIAL\n",
    "db = gl.DbGrid.create(nx = [nx,nx],dx = [1,1])"
   ]
  },
  {
   "cell_type": "markdown",
   "id": "0c38b79a",
   "metadata": {},
   "source": [
    "Constitute the Dictionary of all available basic structures (starting from the Enum), restricted to the only ones that can be simulated using the Turning Bands method."
   ]
  },
  {
   "cell_type": "code",
   "execution_count": null,
   "id": "8700fa6e",
   "metadata": {},
   "outputs": [],
   "source": [
    "modelList = gl.CovHelper.getAllCovariances(flagSimtub = True)\n",
    "models = dict()\n",
    "for rank in range(len(modelList)):\n",
    "    loctype = gl.ECov.fromKey(modelList[rank])\n",
    "    locname = gl.ECov.getDescr(loctype)\n",
    "    models[locname] = loctype"
   ]
  },
  {
   "cell_type": "markdown",
   "id": "95e0bcc8",
   "metadata": {},
   "source": [
    "Performing a non-conditional simulation (with Turning Bands method) and display the results. \n",
    "\n",
    "All these operations are set in a function (called **iteration**) as it will be called recursively for demonstration sake. This function is set with all variable arguments (where arguments are set by default to their initial values°."
   ]
  },
  {
   "cell_type": "code",
   "execution_count": null,
   "id": "dc241e3b",
   "metadata": {},
   "outputs": [],
   "source": [
    "def iterationPlot(ax, title):\n",
    "    ax.raster(db,\"*Simu\")\n",
    "    ax.axes.axis(\"off\")\n",
    "    ax.decoration(title=title)\n",
    "    \n",
    "def iteration(ax, basic = basicInit, range = rangeInit, nbtuba = nbtubaInit):\n",
    "    model = gl.Model.createFromParam(basic,range = range)\n",
    "    db.deleteColumn(\"*Simu\")\n",
    "    err = gl.simtub(None,db,model,nbtuba=nbtuba)\n",
    "    title = f'{basic.getDescr()} {\":\"} {\"Range =\"} {range} {\"-\"} {\"Nbtuba =\"} {nbtuba}'\n",
    "    iterationPlot(ax, title)"
   ]
  },
  {
   "cell_type": "code",
   "execution_count": null,
   "id": "f3c76a8e",
   "metadata": {
    "scrolled": true
   },
   "outputs": [],
   "source": [
    "fig,ax = plt.subplots(1,1,figsize=(5,5))\n",
    "iteration(ax)"
   ]
  },
  {
   "cell_type": "markdown",
   "id": "6c33e213",
   "metadata": {},
   "source": [
    "## Changing the number of bands (slider integer)"
   ]
  },
  {
   "cell_type": "code",
   "execution_count": null,
   "id": "c3f1a79c",
   "metadata": {},
   "outputs": [],
   "source": [
    "def sliderNbtubaEventhandler(change):\n",
    "    iteration(ax1, nbtuba=change.new)\n",
    "\n",
    "widgetNbtuba = gw.sliderInt(title='Nb. Bands',\n",
    "                            value=nbtubaInit, mini=10, maxi=1000,\n",
    "                            eventhandler=sliderNbtubaEventhandler)\n",
    "\n",
    "display(widgetNbtuba)\n",
    "\n",
    "fig,ax1 = plt.subplots(1,1,figsize=(5,5))\n",
    "iteration(ax1)"
   ]
  },
  {
   "cell_type": "markdown",
   "id": "7849e51a",
   "metadata": {},
   "source": [
    "## Changing the range (slider float)"
   ]
  },
  {
   "cell_type": "code",
   "execution_count": null,
   "id": "fd88ac7d",
   "metadata": {
    "scrolled": false
   },
   "outputs": [],
   "source": [
    "def sliderRangeEventhandler(change):\n",
    "    iteration(ax2, range=change.new)\n",
    "\n",
    "widgetRange = gw.sliderFloat(title='Range',\n",
    "                              value = rangeInit, mini=5, maxi=100,\n",
    "                              eventhandler=sliderRangeEventhandler)\n",
    "\n",
    "display(widgetRange)\n",
    "\n",
    "fig,ax2 = plt.subplots(1,1,figsize=(5,5))\n",
    "iteration(ax2)"
   ]
  },
  {
   "cell_type": "markdown",
   "id": "9c2ee09a",
   "metadata": {},
   "source": [
    "## Changing the Model type"
   ]
  },
  {
   "cell_type": "code",
   "execution_count": null,
   "id": "84c1e092",
   "metadata": {},
   "outputs": [],
   "source": [
    "def sliderTypeEventhandler(change):\n",
    "    iteration(ax3, basic=models[change.owner.value])\n",
    "\n",
    "widgetModelType = gw.dropDown(title='Basic Structure', options = models.keys(),\n",
    "                              eventhandler=sliderTypeEventhandler)\n",
    "\n",
    "display(widgetModelType)\n",
    "\n",
    "fig,ax3 = plt.subplots(1,1,figsize=(5,5))\n",
    "iteration(ax3)"
   ]
  }
 ],
 "metadata": {
  "hide_input": false,
  "kernelspec": {
   "display_name": "Python 3 (ipykernel)",
   "language": "python",
   "name": "python3"
  },
  "language_info": {
   "codemirror_mode": {
    "name": "ipython",
    "version": 3
   },
   "file_extension": ".py",
   "mimetype": "text/x-python",
   "name": "python",
   "nbconvert_exporter": "python",
   "pygments_lexer": "ipython3",
   "version": "3.10.5"
  },
  "toc": {
   "base_numbering": 1,
   "nav_menu": {},
   "number_sections": true,
   "sideBar": true,
   "skip_h1_title": false,
   "title_cell": "Table of Contents",
   "title_sidebar": "Contents",
   "toc_cell": false,
   "toc_position": {},
   "toc_section_display": true,
   "toc_window_display": false
  }
 },
 "nbformat": 4,
 "nbformat_minor": 5
}
