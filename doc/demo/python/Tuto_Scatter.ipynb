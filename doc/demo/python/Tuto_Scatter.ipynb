{
 "cells": [
  {
   "cell_type": "markdown",
   "id": "a1a30972",
   "metadata": {},
   "source": [
    "# Scatter and H-scatter plots"
   ]
  },
  {
   "cell_type": "markdown",
   "id": "f2c1a590",
   "metadata": {},
   "source": [
    "This script is meant to demonstrate the various possibilities offered by *gstlearn* and *gstlearn.plot* for calculating and representing scatter plots or h-scatter plots."
   ]
  },
  {
   "cell_type": "code",
   "execution_count": null,
   "id": "38bb5220",
   "metadata": {},
   "outputs": [],
   "source": [
    "import gstlearn as gl\n",
    "import gstlearn.plot as gp"
   ]
  },
  {
   "cell_type": "markdown",
   "id": "4169c4e6",
   "metadata": {},
   "source": [
    "We first define a data base containing (*nech*) isolated points randomly located. The samples belong to a square of mesh equal to 1."
   ]
  },
  {
   "cell_type": "code",
   "execution_count": null,
   "id": "66b5a6d9",
   "metadata": {},
   "outputs": [],
   "source": [
    "nech = 100\n",
    "db = gl.Db.createFillRandom(nech, 2, 0)\n",
    "db"
   ]
  },
  {
   "cell_type": "markdown",
   "id": "5f58c122",
   "metadata": {},
   "source": [
    "Representing the contents of the data base"
   ]
  },
  {
   "cell_type": "code",
   "execution_count": null,
   "id": "d5237cc6",
   "metadata": {},
   "outputs": [],
   "source": [
    "gp.plot(db)"
   ]
  },
  {
   "cell_type": "markdown",
   "id": "471790fc",
   "metadata": {},
   "source": [
    "We simulate two random variables linked by a joint model"
   ]
  },
  {
   "cell_type": "code",
   "execution_count": null,
   "id": "503d3980",
   "metadata": {},
   "outputs": [],
   "source": [
    "model = gl.Model(2,2)\n",
    "model.addCovFromParam(gl.ECov.EXPONENTIAL,range=0.8,sills=[2,1,1,2])\n",
    "model.addCovFromParam(gl.ECov.EXPONENTIAL,range=0.2,sills=[1.1,-1,-1,1.1])\n",
    "ax = gp.model(model, ivar=0, jvar=1, hmax=1)"
   ]
  },
  {
   "cell_type": "code",
   "execution_count": null,
   "id": "7fa56236",
   "metadata": {},
   "outputs": [],
   "source": [
    "err = gl.simtub(None,db, model)\n",
    "db"
   ]
  },
  {
   "cell_type": "markdown",
   "id": "ba35d7bf",
   "metadata": {},
   "source": [
    "## Scatter plot"
   ]
  },
  {
   "cell_type": "markdown",
   "id": "351717a1",
   "metadata": {},
   "source": [
    "In this section, we present the scatter plot, represented in two different manners.\n",
    "On each figure, we represent the first bissector (in red) and the regression line (in blue)."
   ]
  },
  {
   "cell_type": "markdown",
   "id": "ca3df6a3",
   "metadata": {},
   "source": [
    "- as a set of isolated points"
   ]
  },
  {
   "cell_type": "code",
   "execution_count": null,
   "id": "8f9304c2",
   "metadata": {},
   "outputs": [],
   "source": [
    "ax = gp.correlation(db, \"Simu.1\", \"Simu.2\", asPoint=True, \n",
    "                    bissLine=True, flagSameAxes=True, regrLine=True)"
   ]
  },
  {
   "cell_type": "markdown",
   "id": "3b779f78",
   "metadata": {},
   "source": [
    "- as cells (of a fictitious grid) painted with color representing point density"
   ]
  },
  {
   "cell_type": "code",
   "execution_count": null,
   "id": "27a4fb99",
   "metadata": {},
   "outputs": [],
   "source": [
    "ax = gp.correlation(db, \"Simu.1\", \"Simu.2\", asPoint=False, \n",
    "                    bissLine=True, flagSameAxes=True, regrLine=True, bins=20, cmin=1)"
   ]
  },
  {
   "cell_type": "markdown",
   "id": "45479366",
   "metadata": {},
   "source": [
    "## H-Scatter plot"
   ]
  },
  {
   "cell_type": "markdown",
   "id": "38226541",
   "metadata": {},
   "source": [
    "In this section, we represent samples distant by a given distance. This distance is defined using the *VarioParam* description and selecting the *lag* of interest."
   ]
  },
  {
   "cell_type": "markdown",
   "id": "91722a47",
   "metadata": {},
   "source": [
    "We first define the *VarioParam* set of calculation parameters: essentially, we define the lag and the number of lags."
   ]
  },
  {
   "cell_type": "code",
   "execution_count": null,
   "id": "1f8fa120",
   "metadata": {},
   "outputs": [],
   "source": [
    "varioparam = gl.VarioParam.createOmniDirection(npas=10, dpas=0.1)"
   ]
  },
  {
   "cell_type": "markdown",
   "id": "4e4754ad",
   "metadata": {},
   "source": [
    "We represent the H-Scatter plot:\n",
    "\n",
    "- as a set of isolated symbols"
   ]
  },
  {
   "cell_type": "code",
   "execution_count": null,
   "id": "fbe5d007",
   "metadata": {},
   "outputs": [],
   "source": [
    "ax = gp.hscatter(db, \"Simu.1\", \"Simu.2\", varioparam, ipas=8, asPoint=True, \n",
    "                 bissLine=True, flagSameAxes=True)"
   ]
  },
  {
   "cell_type": "markdown",
   "id": "49eda946",
   "metadata": {},
   "source": [
    "- as cells (of a fictitious grid) painted with color representing point density"
   ]
  },
  {
   "cell_type": "code",
   "execution_count": null,
   "id": "f21f3673",
   "metadata": {},
   "outputs": [],
   "source": [
    "ax = gp.hscatter(db, \"Simu.1\", \"Simu.2\", varioparam, ipas=1, asPoint=False, \n",
    "                    bissLine=True, flagSameAxes=True, bins=20, cmin=1)"
   ]
  }
 ],
 "metadata": {
  "kernelspec": {
   "display_name": "Python 3 (ipykernel)",
   "language": "python",
   "name": "python3"
  },
  "language_info": {
   "codemirror_mode": {
    "name": "ipython",
    "version": 3
   },
   "file_extension": ".py",
   "mimetype": "text/x-python",
   "name": "python",
   "nbconvert_exporter": "python",
   "pygments_lexer": "ipython3",
   "version": "3.10.5"
  },
  "toc": {
   "base_numbering": 1,
   "nav_menu": {},
   "number_sections": true,
   "sideBar": true,
   "skip_h1_title": false,
   "title_cell": "Table of Contents",
   "title_sidebar": "Contents",
   "toc_cell": false,
   "toc_position": {},
   "toc_section_display": true,
   "toc_window_display": false
  }
 },
 "nbformat": 4,
 "nbformat_minor": 5
}
