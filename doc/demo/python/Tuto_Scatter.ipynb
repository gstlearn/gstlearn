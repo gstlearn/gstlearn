{
 "cells": [
  {
   "cell_type": "markdown",
   "id": "83543a6f",
   "metadata": {},
   "source": [
    "# Scatter and H-scatter plots"
   ]
  },
  {
   "cell_type": "markdown",
   "id": "a2254441",
   "metadata": {},
   "source": [
    "This script is meant to demonstrate the various possibilities offered by *gstlearn* and *gstlearn.plot* for calculating and representing scatter plots or h-scatter plots."
   ]
  },
  {
   "cell_type": "code",
   "execution_count": null,
   "id": "623fe492",
   "metadata": {},
   "outputs": [],
   "source": [
    "import gstlearn as gl\n",
    "import gstlearn.plot as gp\n",
    "import numpy as np\n",
    "import matplotlib.pyplot as plt"
   ]
  },
  {
   "cell_type": "markdown",
   "id": "76336416",
   "metadata": {},
   "source": [
    "We first define a data base containing (*nech*) isolated points randomly located. The samples belong to a square of mesh equal to 1."
   ]
  },
  {
   "cell_type": "code",
   "execution_count": null,
   "id": "545d05ab",
   "metadata": {},
   "outputs": [],
   "source": [
    "nech = 100\n",
    "db = gl.Db.createFillRandom(nech, 2, 0)\n",
    "db"
   ]
  },
  {
   "cell_type": "markdown",
   "id": "84db90e8",
   "metadata": {},
   "source": [
    "Representing the contents of the data base"
   ]
  },
  {
   "cell_type": "code",
   "execution_count": null,
   "id": "c622f714",
   "metadata": {},
   "outputs": [],
   "source": [
    "res = gp.plot(db)"
   ]
  },
  {
   "cell_type": "markdown",
   "id": "a0a7f8c7",
   "metadata": {},
   "source": [
    "We simulate two random variables linked by a joint model"
   ]
  },
  {
   "cell_type": "code",
   "execution_count": null,
   "id": "5b4b5095",
   "metadata": {},
   "outputs": [],
   "source": [
    "model = gl.Model(2,2)\n",
    "model.addCovFromParam(gl.ECov.EXPONENTIAL,range=0.8,sills=np.array([[2,1],[1,2]]))\n",
    "model.addCovFromParam(gl.ECov.EXPONENTIAL,range=0.2,sills=np.array([[1.1,-1],[-1,1.1]]))"
   ]
  },
  {
   "cell_type": "code",
   "execution_count": null,
   "id": "be2a5160",
   "metadata": {
    "scrolled": true
   },
   "outputs": [],
   "source": [
    "res = gp.model(model, ivar=-1, jvar=-1, hmax=1)"
   ]
  },
  {
   "cell_type": "code",
   "execution_count": null,
   "id": "bc1d8b73",
   "metadata": {},
   "outputs": [],
   "source": [
    "err = gl.simtub(None,db, model)\n",
    "db"
   ]
  },
  {
   "cell_type": "markdown",
   "id": "64cfe3c2",
   "metadata": {},
   "source": [
    "## Scatter plot"
   ]
  },
  {
   "cell_type": "markdown",
   "id": "43fa8796",
   "metadata": {},
   "source": [
    "In this section, we present the scatter plot, represented in two different manners.\n",
    "On each figure, we represent the first bissector (in red) and the regression line (in blue)."
   ]
  },
  {
   "cell_type": "markdown",
   "id": "aed3e327",
   "metadata": {},
   "source": [
    "- as a set of isolated points"
   ]
  },
  {
   "cell_type": "code",
   "execution_count": null,
   "id": "57aeedc8",
   "metadata": {},
   "outputs": [],
   "source": [
    "ax = gp.correlation(db, \"Simu.1\", \"Simu.2\", asPoint=True, \n",
    "                    bissLine=True, flagSameAxes=True, regrLine=True)"
   ]
  },
  {
   "cell_type": "markdown",
   "id": "75150608",
   "metadata": {},
   "source": [
    "- as cells (of a fictitious grid) painted with color representing point density"
   ]
  },
  {
   "cell_type": "code",
   "execution_count": null,
   "id": "a5290dcb",
   "metadata": {},
   "outputs": [],
   "source": [
    "ax = gp.correlation(db, \"Simu.1\", \"Simu.2\", asPoint=False, \n",
    "                    bissLine=True, flagSameAxes=True, regrLine=True, bins=20, cmin=1)"
   ]
  },
  {
   "cell_type": "markdown",
   "id": "9ba74392",
   "metadata": {},
   "source": [
    "## H-Scatter plot"
   ]
  },
  {
   "cell_type": "markdown",
   "id": "1da17a17",
   "metadata": {},
   "source": [
    "In this section, we represent samples distant by a given distance. This distance is defined using the *VarioParam* description and selecting the *lag* of interest."
   ]
  },
  {
   "cell_type": "markdown",
   "id": "fd76104b",
   "metadata": {},
   "source": [
    "We first define the *VarioParam* set of calculation parameters: essentially, we define the lag and the number of lags."
   ]
  },
  {
   "cell_type": "code",
   "execution_count": null,
   "id": "d054a662",
   "metadata": {},
   "outputs": [],
   "source": [
    "varioparam = gl.VarioParam.createOmniDirection(nlag=10, dlag=0.1)"
   ]
  },
  {
   "cell_type": "markdown",
   "id": "c99c0fa4",
   "metadata": {},
   "source": [
    "We represent the H-Scatter plot:\n",
    "\n",
    "- as a set of isolated symbols"
   ]
  },
  {
   "cell_type": "code",
   "execution_count": null,
   "id": "71c33460",
   "metadata": {},
   "outputs": [],
   "source": [
    "ax = gp.hscatter(db, \"Simu.1\", \"Simu.2\", varioparam, ilag=8, asPoint=True, \n",
    "                 bissLine=True, flagSameAxes=True)"
   ]
  },
  {
   "cell_type": "markdown",
   "id": "c773d589",
   "metadata": {},
   "source": [
    "- as cells (of a fictitious grid) painted with color representing point density"
   ]
  },
  {
   "cell_type": "code",
   "execution_count": null,
   "id": "acf268c7",
   "metadata": {},
   "outputs": [],
   "source": [
    "ax = gp.hscatter(db, \"Simu.1\", \"Simu.2\", varioparam, ilag=1, asPoint=False, \n",
    "                    bissLine=True, flagSameAxes=True, bins=20, cmin=1)"
   ]
  }
 ],
 "metadata": {
  "kernelspec": {
   "display_name": "Python 3 (ipykernel)",
   "language": "python",
   "name": "python3"
  },
  "language_info": {
   "codemirror_mode": {
    "name": "ipython",
    "version": 3
   },
   "file_extension": ".py",
   "mimetype": "text/x-python",
   "name": "python",
   "nbconvert_exporter": "python",
   "pygments_lexer": "ipython3",
   "version": "3.10.5"
  },
  "toc": {
   "base_numbering": 1,
   "nav_menu": {},
   "number_sections": true,
   "sideBar": true,
   "skip_h1_title": false,
   "title_cell": "Table of Contents",
   "title_sidebar": "Contents",
   "toc_cell": false,
   "toc_position": {},
   "toc_section_display": true,
   "toc_window_display": false
  }
 },
 "nbformat": 4,
 "nbformat_minor": 5
}
