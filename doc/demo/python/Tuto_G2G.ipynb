{
 "cells": [
  {
   "cell_type": "markdown",
   "metadata": {},
   "source": [
    "# Grid To Grid manipulation"
   ]
  },
  {
   "cell_type": "markdown",
   "metadata": {},
   "source": [
    "<!-- SUMMARY: Grid to Grid transformations  -->\n",
    "\n",
    "<!-- CATEGORY: Data_Base_Management -->"
   ]
  },
  {
   "cell_type": "raw",
   "metadata": {},
   "source": [
    "This file is meant to demonstrate the use of gstlearn for performing operations on Grids"
   ]
  },
  {
   "cell_type": "code",
   "execution_count": null,
   "metadata": {},
   "outputs": [],
   "source": [
    "import numpy as np\n",
    "import pandas as pd\n",
    "import sys\n",
    "import os\n",
    "import gstlearn as gl\n",
    "import gstlearn.plot as gp\n",
    "import matplotlib.pyplot as plt"
   ]
  },
  {
   "cell_type": "markdown",
   "metadata": {},
   "source": [
    "Setting some global variables"
   ]
  },
  {
   "cell_type": "code",
   "execution_count": null,
   "metadata": {},
   "outputs": [],
   "source": [
    "# Set the Global Options\n",
    "verbose = True\n",
    "flagGraphic = True\n",
    "\n",
    "# Define the Space Dimension\n",
    "ndim = 2\n",
    "gl.defineDefaultSpace(gl.ESpaceType.RN, ndim)\n",
    "\n",
    "# Set the Seed for the Random Number generator\n",
    "gl.law_set_random_seed(5584)"
   ]
  },
  {
   "cell_type": "markdown",
   "metadata": {},
   "source": [
    "We first define a 2-D grid with 150 x 100 nodes (unit mes size)"
   ]
  },
  {
   "cell_type": "code",
   "execution_count": null,
   "metadata": {},
   "outputs": [],
   "source": [
    "nx = 150\n",
    "ny = 100\n",
    "grid = gl.DbGrid.create([nx,ny])"
   ]
  },
  {
   "cell_type": "markdown",
   "metadata": {},
   "source": [
    "On this grid we simulation (using Turning Bands method) two variables which will serve as the Top and Bottom for the next steps. For generality, we have truncated the two surfaces arbitrarily. Note taht we did not check that the Top surface is located *above* the Bottom surface, nor that the masked areas coincide."
   ]
  },
  {
   "cell_type": "code",
   "execution_count": null,
   "metadata": {},
   "outputs": [],
   "source": [
    "model = gl.Model.createFromParam(type=gl.ECov.CUBIC, range=30, sill=10.)\n",
    "err = gl.simtub(None, grid, model, None, 2)\n",
    "grid.setName(\"Simu.1\",\"Top\")\n",
    "grid.setName(\"Simu.2\",\"Bot\")\n",
    "\n",
    "grid[\"Bot\"] = grid[\"Bot\"] + 100\n",
    "grid[\"Top\"] = grid[\"Top\"] + 110\n",
    "\n",
    "replace_mask =  grid[\"Bot\"] > 105\n",
    "grid[np.where(replace_mask),\"Bot\"] = np.nan\n",
    "\n",
    "replace_mask =  grid[\"Top\"] < 105\n",
    "grid[np.where(replace_mask),\"Top\"] = np.nan"
   ]
  },
  {
   "cell_type": "code",
   "execution_count": null,
   "metadata": {},
   "outputs": [],
   "source": [
    "print(\"Range for Bottom = \",round(np.nanmin(grid[\"Bot\"]),3),round(np.nanmax(grid[\"Bot\"]),3))\n",
    "print(\"Range for Top = \",   round(np.nanmin(grid[\"Top\"]),3),round(np.nanmax(grid[\"Top\"]),3))"
   ]
  },
  {
   "cell_type": "code",
   "execution_count": null,
   "metadata": {},
   "outputs": [],
   "source": [
    "ax = grid.plot(\"Bot\")"
   ]
  },
  {
   "cell_type": "code",
   "execution_count": null,
   "metadata": {},
   "outputs": [],
   "source": [
    "ax = grid.plot(\"Top\")"
   ]
  },
  {
   "cell_type": "markdown",
   "metadata": {},
   "source": [
    "We now generate the maps of the Variable to be interpolated, with one version corresponding to the Top position and another version for the Bottom position. In order to enhance the interpolation feature, the two versions of this variable are simulated with different textures: short range at the Top and much longer range at the Top"
   ]
  },
  {
   "cell_type": "code",
   "execution_count": null,
   "metadata": {},
   "outputs": [],
   "source": [
    "model = gl.Model.createFromParam(type=gl.ECov.CUBIC, range=30, sill=10.)\n",
    "err = gl.simtub(None, grid, model)\n",
    "grid.setName(\"Simu\",\"VBot\")\n",
    "\n",
    "model = gl.Model.createFromParam(type=gl.ECov.SPHERICAL, range=10, sill=3.)\n",
    "err = gl.simtub(None, grid, model)\n",
    "grid.setName(\"Simu\",\"VTop\")"
   ]
  },
  {
   "cell_type": "code",
   "execution_count": null,
   "metadata": {},
   "outputs": [],
   "source": [
    "ax = grid.plot(\"VBot\")\n",
    "ax.decoration(title=\"Variable at Bottom Position\")"
   ]
  },
  {
   "cell_type": "code",
   "execution_count": null,
   "metadata": {},
   "outputs": [],
   "source": [
    "ax = grid.plot(\"VTop\")\n",
    "ax.decoration(title=\"Variable at Top Position\")"
   ]
  },
  {
   "cell_type": "code",
   "execution_count": null,
   "metadata": {},
   "outputs": [],
   "source": [
    "print(\"Range for Bottom = \",round(np.nanmin(grid[\"Bot\"]),3),round(np.nanmax(grid[\"Bot\"]),3))\n",
    "print(\"Range for Top = \",   round(np.nanmin(grid[\"Top\"]),3),round(np.nanmax(grid[\"Top\"]),3))"
   ]
  },
  {
   "cell_type": "markdown",
   "metadata": {},
   "source": [
    "We create a 3D grid which covers the variation of the variables Top and Bot (as simulated above), i.e. from 91 to 119."
   ]
  },
  {
   "cell_type": "code",
   "execution_count": null,
   "metadata": {},
   "outputs": [],
   "source": [
    "nx = 150\n",
    "ny = 100\n",
    "nz = 30\n",
    "g3D = gl.DbGrid.create([nx,ny,nz],x0=[0,0,91])"
   ]
  },
  {
   "cell_type": "code",
   "execution_count": null,
   "metadata": {},
   "outputs": [],
   "source": [
    "grid.setLocators([\"VBot\", \"VTop\"],gl.ELoc.Z)\n",
    "err = gl.dbg2gInterpolate(grid, g3D, [\"Top\"], [\"Bot\"])"
   ]
  },
  {
   "cell_type": "markdown",
   "metadata": {},
   "source": [
    "We obtain the following statistics on the newly created variable"
   ]
  },
  {
   "cell_type": "code",
   "execution_count": null,
   "metadata": {},
   "outputs": [],
   "source": [
    "dbfmt = gl.DbStringFormat()\n",
    "dbfmt.setFlags(flag_stats=True)\n",
    "dbfmt.setNames([\"Interpolation\"])\n",
    "g3D.display(dbfmt)"
   ]
  },
  {
   "cell_type": "markdown",
   "metadata": {},
   "source": [
    "Let us now visualize some horizontal slices of the 3-D grid."
   ]
  },
  {
   "cell_type": "code",
   "execution_count": null,
   "metadata": {},
   "outputs": [],
   "source": [
    "fig, axs = plt.subplots(2,2,figsize=(20,10))\n",
    "axs[0,0].gstgrid(g3D,corner=[0,0,10], flagLegendRaster = False)\n",
    "axs[0,0].decoration(title=\"Slice 10\")\n",
    "axs[0,1].gstgrid(g3D,corner=[0,0,13], flagLegendRaster = False)\n",
    "axs[0,1].decoration(title=\"Slice 13\")\n",
    "axs[1,0].gstgrid(g3D,corner=[0,0,16], flagLegendRaster = False)\n",
    "axs[1,0].decoration(title=\"Slice 16\")\n",
    "axs[1,1].gstgrid(g3D,corner=[0,0,20], flagLegendRaster = False)\n",
    "axs[1,1].decoration(title=\"Slice 20\")\n",
    "\n",
    "fig.subplots_adjust(right=0.7)\n",
    "cbar_ax = fig.add_axes([0.75, 0.1, 0.02, 0.75])\n",
    "\n",
    "im = axs[0,0].collections[0] # get mappable described by the colorbar\n",
    "err = fig.colorbar(im, cax = cbar_ax)"
   ]
  }
 ],
 "metadata": {
  "kernelspec": {
   "display_name": "Python 3 (ipykernel)",
   "language": "python",
   "name": "python3"
  },
  "language_info": {
   "codemirror_mode": {
    "name": "ipython",
    "version": 3
   },
   "file_extension": ".py",
   "mimetype": "text/x-python",
   "name": "python",
   "nbconvert_exporter": "python",
   "pygments_lexer": "ipython3",
   "version": "3.10.5"
  },
  "toc": {
   "base_numbering": 1,
   "nav_menu": {},
   "number_sections": true,
   "sideBar": true,
   "skip_h1_title": false,
   "title_cell": "Table of Contents",
   "title_sidebar": "Contents",
   "toc_cell": false,
   "toc_position": {},
   "toc_section_display": true,
   "toc_window_display": false
  }
 },
 "nbformat": 4,
 "nbformat_minor": 4
}
