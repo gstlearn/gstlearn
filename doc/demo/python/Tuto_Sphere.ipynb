{
 "cells": [
  {
   "cell_type": "code",
   "execution_count": null,
   "id": "3cef8d4e",
   "metadata": {},
   "outputs": [],
   "source": [
    "import numpy as np           \n",
    "\n",
    "import matplotlib.pyplot as plt\n",
    "from scipy.interpolate import griddata\n",
    "\n",
    "import plotly.graph_objects as go\n",
    "import IPython\n",
    "\n",
    "import gstlearn as gl\n",
    "from numpy import pi, cos, sin\n"
   ]
  },
  {
   "cell_type": "code",
   "execution_count": null,
   "id": "ca71ffd9",
   "metadata": {},
   "outputs": [],
   "source": [
    "def get_lims_colors(surfacecolor):# color limits for a slice\n",
    "    return np.min(surfacecolor), np.max(surfacecolor)\n",
    "\n",
    "def colorax(vmin, vmax):\n",
    "    return dict(cmin=vmin,\n",
    "                cmax=vmax)\n",
    "\n",
    "\n",
    "def mapping_map_to_sphere(lon, lat,radius=6371.):\n",
    "    #this function maps the points of coords (lon, lat) to points onto the  sphere of radius radius\n",
    "    xs=radius*np.cos(lon-np.pi)*np.cos(lat)\n",
    "    ys=radius*np.sin(lon-np.pi)*np.cos(lat)\n",
    "    zs=radius*np.sin(lat)\n",
    "    return xs, ys, zs\n",
    "\n",
    "\n",
    "def d2r(x):\n",
    "    return x * np.pi / 180.\n"
   ]
  },
  {
   "cell_type": "code",
   "execution_count": null,
   "id": "85418b9a",
   "metadata": {},
   "outputs": [],
   "source": [
    "gl.variety_define(1)\n",
    "\n",
    "mesh = gl.MeshSpherical()\n",
    "mesh.reset(None,None,triswitch = \"-r5\",verbose=False)\n",
    "\n",
    "X = mesh.getCoordinates(0)\n",
    "Y = mesh.getCoordinates(1)\n",
    "\n",
    "\n",
    "\n",
    "model = gl.Model.createFromParam(gl.ECov.BESSEL_K,range=50,param=1) #penser à règler range dans shiftop\n",
    "S=gl.ShiftOpCs(mesh,model)\n",
    "whitenoise = gl.ut_vector_simulate_gaussian(mesh.getNApices())\n",
    "result = gl.VectorDouble(mesh.getNApices())\n",
    "Q = gl.PrecisionOpCs(S,model.getCova(0),gl.EPowerPT.MINUSHALF)\n",
    "Q.eval(whitenoise,result)\n",
    "\n",
    "\n",
    "db = gl.Db.create()\n",
    "db[\"long\"]=X\n",
    "db[\"lat\"]=Y\n",
    "db.setLocators([\"long\",\"lat\"],gl.ELoc.X)"
   ]
  },
  {
   "cell_type": "code",
   "execution_count": null,
   "id": "d5cd4a0e",
   "metadata": {},
   "outputs": [],
   "source": [
    "meshes = np.array(mesh.getMeshes()).reshape([mesh.getNMeshes(),3])-1\n",
    "xs,ys,zs = mapping_map_to_sphere(d2r(db[\"long\"][:,0]),d2r(db[\"lat\"][:,0]))"
   ]
  },
  {
   "cell_type": "code",
   "execution_count": null,
   "id": "8d5aafd9",
   "metadata": {},
   "outputs": [],
   "source": [
    "\n",
    "cscale = [[0.0, '#313695'],\n",
    " [0.07692307692307693, '#3a67af'],\n",
    " [0.15384615384615385, '#5994c5'],\n",
    " [0.23076923076923078, '#84bbd8'],\n",
    " [0.3076923076923077, '#afdbea'],\n",
    " [0.38461538461538464, '#d8eff5'],\n",
    " [0.46153846153846156, '#d6ffe1'],\n",
    " [0.5384615384615384, '#fef4ac'],\n",
    " [0.6153846153846154, '#fed987'],\n",
    " [0.6923076923076923, '#fdb264'],\n",
    " [0.7692307692307693, '#f78249'],\n",
    " [0.8461538461538461, '#e75435'],\n",
    " [0.9230769230769231, '#cc2727'],\n",
    " [1.0, '#a50026']]\n",
    "\n",
    "\n",
    "fig = go.Figure(data=[\n",
    "    go.Mesh3d(\n",
    "        x=xs,\n",
    "        y=ys,\n",
    "        z=zs,\n",
    "        colorbar_title='z',\n",
    "        colorscale=cscale,\n",
    "        # Intensity of each vertex, which will be interpolated and color-coded\n",
    "        intensity=np.array(result),\n",
    "        # i, j and k give the vertices of triangles\n",
    "        # here we represent the 4 triangles of the tetrahedron surface\n",
    "        i=meshes[:,0],\n",
    "        j=meshes[:,1],\n",
    "        k=meshes[:,2],\n",
    "        name='y',\n",
    "        showscale=True\n",
    "    )\n",
    "])\n",
    "\n",
    "fig.show()"
   ]
  }
 ],
 "metadata": {
  "kernelspec": {
   "display_name": "Python 3 (ipykernel)",
   "language": "python",
   "name": "python3"
  },
  "language_info": {
   "codemirror_mode": {
    "name": "ipython",
    "version": 3
   },
   "file_extension": ".py",
   "mimetype": "text/x-python",
   "name": "python",
   "nbconvert_exporter": "python",
   "pygments_lexer": "ipython3",
   "version": "3.10.2"
  }
 },
 "nbformat": 4,
 "nbformat_minor": 5
}
