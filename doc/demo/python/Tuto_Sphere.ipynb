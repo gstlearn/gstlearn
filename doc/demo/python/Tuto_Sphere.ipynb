{
 "cells": [
  {
   "cell_type": "code",
   "execution_count": null,
   "id": "37e1c2fe",
   "metadata": {},
   "outputs": [],
   "source": [
    "\n",
    "import numpy as np           \n",
    "# installation de mpl_toolkits pour tracer des frontière (non utilisé pour le moment)\n",
    "# Si GEOS est installé de manière standard, suivre la procédure suivante sous linux\n",
    "# Télécharger les sources https://github.com/matplotlib/basemap/archive/refs/tags/v1.3.3.tar.gz\n",
    "# tar -xvf basemap-1.3.3.tar.gz\n",
    "# cd basemap-1.3.3/packages/basemap\n",
    "# python3 -m pip install .\n",
    "# En cas de problème,  voir https://matplotlib.org/basemap/users/installing.html\n",
    "# Tout ça est assez lourd\n",
    "#from mpl_toolkits.basemap import Basemap\n",
    "\n",
    "import matplotlib.pyplot as plt\n",
    "from scipy.interpolate import griddata\n",
    "\n",
    "import plotly.graph_objects as go\n",
    "import IPython\n",
    "\n",
    "import gstlearn as gl\n",
    "from numpy import pi, cos, sin\n",
    "\n",
    "\n",
    "\n"
   ]
  },
  {
   "cell_type": "markdown",
   "id": "1b3386fd",
   "metadata": {},
   "source": [
    "## Simulation"
   ]
  },
  {
   "cell_type": "code",
   "execution_count": null,
   "id": "da07d35a",
   "metadata": {},
   "outputs": [],
   "source": [
    "gl.variety_define(1,1)\n",
    "\n",
    "mesh = gl.MeshSpherical()\n",
    "mesh.reset(None,None,triswitch = \"-r5\",verbose=False)\n",
    "\n",
    "X = mesh.getCoordinates(0)\n",
    "Y = mesh.getCoordinates(1)\n",
    "\n",
    "db = gl.Db.create()\n",
    "db[\"long\"]=X\n",
    "db[\"long\"] = db[\"long\"]-180. #Attention à Mesh barycenter\n",
    "db[\"lat\"]=Y\n",
    "\n",
    "db.setLocators([\"long\",\"lat\"],gl.ELoc.X)\n",
    "\n",
    "model = gl.Model.createFromParam(gl.ECov.BESSEL_K,range=50,param=1)\n",
    "S=gl.ShiftOpCs(mesh,model)\n",
    "whitenoise = gl.ut_vector_simulate_gaussian(mesh.getNApices())\n",
    "result = gl.VectorDouble(mesh.getNApices())\n",
    "Q = gl.PrecisionOpCs(S,model.getCova(0),gl.EPowerPT.MINUSHALF)\n",
    "Q.eval(whitenoise,result)\n"
   ]
  },
  {
   "cell_type": "code",
   "execution_count": null,
   "id": "5e73b558",
   "metadata": {},
   "outputs": [],
   "source": [
    "\n",
    "def get_lims_colors(surfacecolor):# color limits for a slice\n",
    "    return np.min(surfacecolor), np.max(surfacecolor)\n",
    "\n",
    "def colorax(vmin, vmax):\n",
    "    return dict(cmin=vmin,\n",
    "                cmax=vmax)\n",
    "\n",
    "\n",
    "def mapping_map_to_sphere(lon, lat,radius=1.):\n",
    "    #this function maps the points of coords (lon, lat) to points onto the  sphere of radius radius\n",
    "    xs=radius*np.cos(lon)*np.cos(lat)\n",
    "    ys=radius*np.sin(lon)*np.cos(lat)\n",
    "    zs=radius*np.sin(lat)\n",
    "    return xs, ys, zs\n",
    "\n",
    "\n",
    "def d2r(x):\n",
    "    return x * np.pi / 180.\n"
   ]
  },
  {
   "cell_type": "code",
   "execution_count": null,
   "id": "ca90999e",
   "metadata": {},
   "outputs": [],
   "source": [
    "nlong = 200\n",
    "nlat = 100\n",
    "\n",
    "\n",
    "lon = np.linspace(-np.pi, np.pi, nlong)\n",
    "lat   = np.linspace(-np.pi/2.,np.pi/2.,  nlat)\n",
    "lon, lat = np.meshgrid(lon, lat)\n",
    "lon = lon.T\n",
    "lat = lat.T\n",
    "grd = griddata(np.stack([d2r(db[\"long\"]),d2r(db[\"lat\"])])[:,:,0].T,\n",
    "                np.array(result),\n",
    "                np.stack([lon,lat]).transpose(1,2,0).reshape(nlong*nlat,2)\n",
    "              )\n",
    "\n",
    "xs,ys,zs = mapping_map_to_sphere(lon,lat)\n",
    "sminz, smaxz = get_lims_colors(grd)\n",
    "\n",
    "cscale = [[0.0, '#313695'],\n",
    " [0.07692307692307693, '#3a67af'],\n",
    " [0.15384615384615385, '#5994c5'],\n",
    " [0.23076923076923078, '#84bbd8'],\n",
    " [0.3076923076923077, '#afdbea'],\n",
    " [0.38461538461538464, '#d8eff5'],\n",
    " [0.46153846153846156, '#d6ffe1'],\n",
    " [0.5384615384615384, '#fef4ac'],\n",
    " [0.6153846153846154, '#fed987'],\n",
    " [0.6923076923076923, '#fdb264'],\n",
    " [0.7692307692307693, '#f78249'],\n",
    " [0.8461538461538461, '#e75435'],\n",
    " [0.9230769230769231, '#cc2727'],\n",
    " [1.0, '#a50026']]\n",
    "\n",
    "fig = go.Figure(data = [go.Surface(x=xs, y=ys, z=zs, \n",
    "                 surfacecolor=grd.reshape(nlong,nlat),colorscale = cscale)]\n",
    "               )\n",
    "\n",
    "\n",
    "\n",
    "\n",
    "\n",
    "fig.update_layout(\n",
    "         title_text='Slices in volumetric data', \n",
    "         title_x=0.5,\n",
    "         width=700,\n",
    "         height=700,\n",
    "         coloraxis=dict(\n",
    "                        colorscale=cscale,\n",
    "                        colorbar_thickness=25,\n",
    "                        colorbar_len=0.75,\n",
    "                        **colorax(sminz, smaxz))\n",
    ")\n",
    "\n"
   ]
  },
  {
   "cell_type": "code",
   "execution_count": null,
   "id": "1e91bffb",
   "metadata": {},
   "outputs": [],
   "source": [
    "from matplotlib import colors\n",
    "long = db[\"long\"]\n",
    "lat = db[\"lat\"]\n",
    "xi = np.linspace(long.min(), long.max(), 100)\n",
    "yi = np.linspace(lat.min(), lat.max(), 100)\n",
    "\n",
    "X,Y = np.meshgrid(xi,yi)\n",
    "\n",
    "\n",
    "grd = griddata(np.array([db[\"long\"],db[\"lat\"]])[:,::,0].T,\n",
    "                np.array(result).T,\n",
    "                np.array([X,Y]).T,\n",
    "                method='cubic')\n"
   ]
  },
  {
   "cell_type": "code",
   "execution_count": null,
   "id": "b9cf4316",
   "metadata": {},
   "outputs": [],
   "source": [
    "plt.imshow(grd,cmap = \"seismic\")\n",
    "plt.colorbar()"
   ]
  },
  {
   "cell_type": "code",
   "execution_count": null,
   "id": "e258f492",
   "metadata": {},
   "outputs": [],
   "source": [
    "help(colors.ListedColormap)"
   ]
  }
 ],
 "metadata": {
  "kernelspec": {
   "display_name": "Python 3 (ipykernel)",
   "language": "python",
   "name": "python3"
  },
  "language_info": {
   "codemirror_mode": {
    "name": "ipython",
    "version": 3
   },
   "file_extension": ".py",
   "mimetype": "text/x-python",
   "name": "python",
   "nbconvert_exporter": "python",
   "pygments_lexer": "ipython3",
   "version": "3.10.2"
  }
 },
 "nbformat": 4,
 "nbformat_minor": 5
}
