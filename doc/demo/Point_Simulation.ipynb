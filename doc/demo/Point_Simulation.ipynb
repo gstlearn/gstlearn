{
 "cells": [
  {
   "cell_type": "code",
   "execution_count": null,
   "id": "b7ef19f7",
   "metadata": {},
   "outputs": [],
   "source": [
    "import numpy as np\n",
    "import gstlearn as gl\n",
    "import gstlearn.plot as gp\n",
    "import matplotlib.pyplot as plt"
   ]
  },
  {
   "cell_type": "markdown",
   "id": "137ab158",
   "metadata": {},
   "source": [
    "This file provides some illustration of the generation of sets of Points.\n",
    "We can create the set of Points which covers a Box (in any space dimension). \n",
    "For sake of demonstration, this is demonstrated in 2-D."
   ]
  },
  {
   "cell_type": "markdown",
   "id": "7ce16128",
   "metadata": {},
   "source": [
    "We can create the set by drawing samples at random within the Box extension"
   ]
  },
  {
   "cell_type": "code",
   "execution_count": null,
   "id": "5fb381b1",
   "metadata": {},
   "outputs": [],
   "source": [
    "nech = 1000\n",
    "db = gl.Db.createFromBox(nech,[0,0],[100,100],4324);\n",
    "gp.point(db,size=5,title=\"Uniform Poisson\")\n",
    "plt.axis(\"equal\") \n",
    "print(\"The number of samples =\",db.getSampleNumber())"
   ]
  },
  {
   "cell_type": "markdown",
   "id": "a4148fef",
   "metadata": {},
   "source": [
    "We now generate a positive Regionalized variable over a grid that will serve as a density."
   ]
  },
  {
   "cell_type": "code",
   "execution_count": null,
   "id": "f061b200",
   "metadata": {},
   "outputs": [],
   "source": [
    "# Creating a Grid\n",
    "grid = gl.DbGrid.create(nx=[100,100])\n",
    "\n",
    "# Creating the isotropic Model\n",
    "m = gl.Model()\n",
    "cov = gl.CovAniso.createIsotropic(ctxt=m.getContext(),type=gl.ECov.BESSEL_K,range=20,param=2)\n",
    "m.addCov(cov)\n",
    "\n",
    "# Simulating a Gaussian variable using an isotropic Model then turn positive (exponentiation)\n",
    "gl.simtub(None,grid,m,nbtuba=400)\n",
    "a = grid[\"Simu\"]\n",
    "a[np.where(a < 0)[0]] = 0\n",
    "grid[\"Simu\"] = a\n",
    "gp.plot(grid,title=\"Density variable\")"
   ]
  },
  {
   "cell_type": "markdown",
   "id": "d4fdcdb5",
   "metadata": {},
   "source": [
    "Now we define the set of Points according to different models. The first one is according to Poisson process (i.e. points randomly located within a Box."
   ]
  },
  {
   "cell_type": "code",
   "execution_count": null,
   "id": "9675e493",
   "metadata": {},
   "outputs": [],
   "source": [
    "db = gl.Db.createFromDbGrid(nech,grid,4324)\n",
    "gp.point(db,size=5,title=\"Regionalized Poisson\")\n",
    "plt.axis(\"equal\") \n",
    "print(\"Number of samples =\",db.getSampleNumber())"
   ]
  },
  {
   "cell_type": "markdown",
   "id": "47c772e4",
   "metadata": {},
   "source": [
    "We now try the repulsion on the Uniform Poisson"
   ]
  },
  {
   "cell_type": "code",
   "execution_count": null,
   "id": "7844ed99",
   "metadata": {},
   "outputs": [],
   "source": [
    "db = gl.Db.createFromBox(nech,[0,0],[100,100],seed=43243,flag_exact=True,flag_repulsion=True,range=5.,beta=100);\n",
    "gp.point(db,size=5,title=\"Uniform Poisson with Repulsion\")\n",
    "plt.axis(\"equal\") \n",
    "print(\"The number of samples =\",db.getSampleNumber())"
   ]
  },
  {
   "cell_type": "markdown",
   "id": "4cbdfe95",
   "metadata": {},
   "source": [
    "Combining the repulsion with the regionalized Poisson internsity"
   ]
  },
  {
   "cell_type": "code",
   "execution_count": null,
   "id": "7de03a80",
   "metadata": {},
   "outputs": [],
   "source": [
    "db = gl.Db.createFromDbGrid(nech,grid,seed=43243,flag_exact=True,flag_repulsion=True,range=5.,beta=100)\n",
    "gp.point(db,size=5,title=\"Regionalized Poisson with Repulsion\")\n",
    "plt.axis(\"equal\") \n",
    "print(\"Number of samples =\",db.getSampleNumber())"
   ]
  },
  {
   "cell_type": "code",
   "execution_count": null,
   "id": "7ffdb8bf",
   "metadata": {},
   "outputs": [],
   "source": [
    "import gstlearn.plot as gp\n",
    "\n",
    "def fa(x,y,a,b):\n",
    "    return a*x + b*y\n",
    "\n",
    "def spirale(db,a=0,b=-1.4,c=1.,d=1.,plot = False):\n",
    "    x1c = np.array(db.getColumn(\"x1\")) #getColumn ou mieux getCoords coords = workingDb.getCoords()\n",
    "    x2c = np.array(db.getColumn(\"x2\")) \n",
    "    u1=fa(x1c-50,x2c-50,a,b)\n",
    "    u2=fa(x1c-50,x2c-50,c,d)\n",
    "    shape = db.getNXs()\n",
    "    norm = np.sqrt(u1**2+u2**2)\n",
    "    ind = norm>0\n",
    "    theta = np.zeros_like(norm)\n",
    "    theta[norm>0] = np.arccos(u2[ind]/norm[ind])/np.pi*180*np.sign(u1[ind])\n",
    "    x1c=x1c.reshape(shape)\n",
    "    x2c=x2c.reshape(shape)\n",
    "    u1=u1.reshape(shape)\n",
    "    u2=u2.reshape(shape)\n",
    "    if plot:\n",
    "        plt.quiver(x1c,x2c,u1,u2)\n",
    "        plt.axis(\"equal\")\n",
    "        plt.show()\n",
    "    return theta\n",
    "\n",
    "\n",
    "# Draw a vector field\n",
    "\n",
    "# In[ ]:\n",
    "\n",
    "\n",
    "#Création de la grille de représentation\n",
    "workingDbc = gl.DbGrid.create([10,10],[10,10])\n",
    "spirale(workingDbc,plot=False);\n",
    "\n",
    "\n",
    "resultDb = gl.DbGrid.create([101,101],[1,1]) \n",
    "x1 = np.array(resultDb.getColumn(\"x1\")) #getColumn ou mieux getCoords coords = workingDb.getCoords()\n",
    "x2 = np.array(resultDb.getColumn(\"x2\")) \n",
    "theta = spirale(resultDb)\n",
    "Scale1=100*np.ones(theta.size)\n",
    "Scale2=5*np.ones(theta.size)\n",
    "iatt = resultDb.addColumns(Scale1,\"Scale1\")\n",
    "iatt = resultDb.addColumns(Scale2,\"Scale2\")\n",
    "iatt = resultDb.addColumns(theta,\"theta\")\n",
    "\n",
    "resultDb.setLocators(['theta','Scale1','Scale2'],gl.ELoc.NOSTAT)\n",
    "resultDb[\"const\"] = np.ones_like(resultDb[\"theta\"])\n",
    "resultDb.setLocator(\"const\",gl.ELoc.Z)\n",
    "gp.grid(resultDb,\"theta\")\n"
   ]
  },
  {
   "cell_type": "code",
   "execution_count": null,
   "id": "b5239cf2",
   "metadata": {},
   "outputs": [],
   "source": [
    "db = gl.Db.createFromDbGrid(1000,resultDb,seed=43243,flag_exact=True,flag_repulsion=True,range=1,beta=2000);\n",
    "gp.point(db,size=5,title=\"Uniform Poisson with Repulsion\")\n",
    "plt.axis(\"equal\") \n",
    "print(\"The number of samples =\",db.getSampleNumber())"
   ]
  },
  {
   "cell_type": "code",
   "execution_count": null,
   "id": "b70c5174",
   "metadata": {},
   "outputs": [],
   "source": []
  },
  {
   "cell_type": "code",
   "execution_count": null,
   "id": "ebfce84c",
   "metadata": {},
   "outputs": [],
   "source": []
  }
 ],
 "metadata": {
  "kernelspec": {
   "display_name": "Python 3 (ipykernel)",
   "language": "python",
   "name": "python3"
  },
  "language_info": {
   "codemirror_mode": {
    "name": "ipython",
    "version": 3
   },
   "file_extension": ".py",
   "mimetype": "text/x-python",
   "name": "python",
   "nbconvert_exporter": "python",
   "pygments_lexer": "ipython3",
   "version": "3.10.2"
  }
 },
 "nbformat": 4,
 "nbformat_minor": 5
}
