{
 "cells": [
  {
   "cell_type": "code",
   "execution_count": null,
   "metadata": {},
   "outputs": [],
   "source": [
    "import numpy as np\n",
    "import gstlearn as gl\n",
    "import gstlearn.plot as gp\n",
    "import matplotlib.pyplot as plt"
   ]
  },
  {
   "cell_type": "markdown",
   "metadata": {},
   "source": [
    "This file provides some illustration of the generation of sets of Points.\n",
    "We can create the set of Points which covers a Box (in any space dimension). \n",
    "For sake of demonstration, this is demonstrated in 2-D."
   ]
  },
  {
   "cell_type": "markdown",
   "metadata": {},
   "source": [
    "We can create the set by drawing samples at random within the Box extension"
   ]
  },
  {
   "cell_type": "code",
   "execution_count": null,
   "metadata": {},
   "outputs": [],
   "source": [
    "nech = 1000\n",
    "db = gl.Db.createFromBox(nech,[0,0],[100,100],4324);\n",
    "gp.point(db,size=5,title=\"Uniform Poisson\")\n",
    "plt.axis(\"equal\") \n",
    "print(\"The number of samples =\",db.getSampleNumber())"
   ]
  },
  {
   "cell_type": "markdown",
   "metadata": {},
   "source": [
    "We now generate a positive Regionalized variable over a grid that will serve as a density."
   ]
  },
  {
   "cell_type": "code",
   "execution_count": null,
   "metadata": {},
   "outputs": [],
   "source": [
    "# Creating a Grid\n",
    "grid = gl.DbGrid.create(nx=[100,100])\n",
    "\n",
    "# Creating the isotropic Model\n",
    "m = gl.Model()\n",
    "cov = gl.CovAniso.createIsotropic(ctxt=m.getContext(),type=gl.ECov.BESSEL_K,range=20,param=2)\n",
    "m.addCov(cov)\n",
    "\n",
    "# Simulating a Gaussian variable using an isotropic Model then turn positive (exponentiation)\n",
    "gl.simtub(None,grid,m,nbtuba=400)\n",
    "a = grid[\"Simu\"]\n",
    "a[np.where(a < 0)[0]] = 0\n",
    "grid[\"Simu\"] = a\n",
    "gp.plot(grid,title=\"Density variable\")"
   ]
  },
  {
   "cell_type": "markdown",
   "metadata": {},
   "source": [
    "Now we define the set of Points according to different models. The first one is according to Poisson process (i.e. points randomly located within a Box."
   ]
  },
  {
   "cell_type": "code",
   "execution_count": null,
   "metadata": {},
   "outputs": [],
   "source": [
    "db = gl.Db.createFromDbGrid(nech,grid,4324)\n",
    "gp.point(db,size=5,title=\"Regionalized Poisson\")\n",
    "plt.axis(\"equal\") \n",
    "print(\"Number of samples =\",db.getSampleNumber())"
   ]
  },
  {
   "cell_type": "markdown",
   "metadata": {},
   "source": [
    "We now try the repulsion on the Uniform Poisson"
   ]
  },
  {
   "cell_type": "code",
   "execution_count": null,
   "metadata": {},
   "outputs": [],
   "source": [
    "db = gl.Db.createFromBox(nech,[0,0],[100,100],seed=43243,flag_exact=True,flag_repulsion=True,range=10.,beta=0.5);\n",
    "gp.point(db,size=5,title=\"Uniform Poisson with Repulsion\")\n",
    "plt.axis(\"equal\") \n",
    "print(\"The number of samples =\",db.getSampleNumber())"
   ]
  },
  {
   "cell_type": "markdown",
   "metadata": {},
   "source": [
    "Combining the repulsion with the regionalized Poisson internsity"
   ]
  },
  {
   "cell_type": "code",
   "execution_count": null,
   "metadata": {},
   "outputs": [],
   "source": [
    "db = gl.Db.createFromDbGrid(nech,grid,seed=43243,flag_exact=True,flag_repulsion=True,range=10.,beta=0.5)\n",
    "gp.point(db,size=5,title=\"Regionalized Poisson with Repulsion\")\n",
    "plt.axis(\"equal\") \n",
    "print(\"Number of samples =\",db.getSampleNumber())"
   ]
  }
 ],
 "metadata": {
  "kernelspec": {
   "display_name": "Python 3",
   "language": "python",
   "name": "python3"
  },
  "language_info": {
   "codemirror_mode": {
    "name": "ipython",
    "version": 3
   },
   "file_extension": ".py",
   "mimetype": "text/x-python",
   "name": "python",
   "nbconvert_exporter": "python",
   "pygments_lexer": "ipython3",
   "version": "3.8.5"
  }
 },
 "nbformat": 4,
 "nbformat_minor": 5
}
