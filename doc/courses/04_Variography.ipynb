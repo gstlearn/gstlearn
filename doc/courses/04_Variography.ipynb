{
 "cells": [
  {
   "cell_type": "code",
   "execution_count": null,
   "metadata": {
    "id": "PtTRbrqHMgol"
   },
   "outputs": [],
   "source": [
    "import gstlearn as gl\n",
    "import gstlearn.plot as gp\n",
    "import os\n",
    "import requests"
   ]
  },
  {
   "cell_type": "code",
   "execution_count": null,
   "metadata": {
    "colab": {
     "base_uri": "https://localhost:8080/"
    },
    "executionInfo": {
     "elapsed": 61,
     "status": "ok",
     "timestamp": 1645002401841,
     "user": {
      "displayName": "Fab. O.",
      "photoUrl": "https://lh3.googleusercontent.com/a/default-user=s64",
      "userId": "02233562055497054720"
     },
     "user_tz": -60
    },
    "id": "TtgfCihTrLwX",
    "outputId": "646924d9-8955-47a7-9d00-9caea2428805"
   },
   "outputs": [],
   "source": [
    "url = 'http://rgeostats.free.fr/doc/Files/Scotland_Temperatures.csv'\n",
    "r = requests.get(url, allow_redirects=True)\n",
    "filepath = 'Scotland_Temperatures.csv'\n",
    "open(filepath, 'wb').write(r.content)"
   ]
  },
  {
   "cell_type": "code",
   "execution_count": null,
   "metadata": {
    "colab": {
     "base_uri": "https://localhost:8080/"
    },
    "executionInfo": {
     "elapsed": 23,
     "status": "ok",
     "timestamp": 1645005440669,
     "user": {
      "displayName": "Fab. O.",
      "photoUrl": "https://lh3.googleusercontent.com/a/default-user=s64",
      "userId": "02233562055497054720"
     },
     "user_tz": -60
    },
    "id": "SWnR0S2hrp6H",
    "outputId": "d6a7e4c4-d570-4406-89b2-3a843faf1ce8"
   },
   "outputs": [],
   "source": [
    "csvf = gl.CSVformat()\n",
    "csvf.setCharDec('.')\n",
    "mydb = gl.Db.createFromCSV(filepath, verbose = False, csv = csvf) # URL ?\n",
    "type(mydb)\n",
    "mydb"
   ]
  },
  {
   "cell_type": "code",
   "execution_count": null,
   "metadata": {
    "colab": {
     "base_uri": "https://localhost:8080/"
    },
    "executionInfo": {
     "elapsed": 52,
     "status": "ok",
     "timestamp": 1645007169448,
     "user": {
      "displayName": "Fab. O.",
      "photoUrl": "https://lh3.googleusercontent.com/a/default-user=s64",
      "userId": "02233562055497054720"
     },
     "user_tz": -60
    },
    "id": "cXK4uUZD8YEx",
    "outputId": "ed1e2ed7-c2e1-48c4-84cb-60e19d0a4e90"
   },
   "outputs": [],
   "source": [
    "#plot(cloud.calc(dat),asp=0,title=\"\")\n",
    "#varioexp = vario.calc(dat,lag=10,nlag=40)\n",
    "#class(varioexp)\n",
    "#class?vario\n",
    "#varioexp\n",
    "#plot(varioexp)\n",
    "\n",
    "# Définition des paramètres de variogramme\n",
    "myVarioParamOmni = gl.VarioParam()\n",
    "mydir = gl.DirParam(2,40,10) # TODO : Supprimer ndim (2) dans le futur\n",
    "myVarioParamOmni.addDirs(mydir)\n",
    "myVarioParamOmni.display() # TODO : Lag value is missing, Why Grid Ddirection ?"
   ]
  },
  {
   "cell_type": "code",
   "execution_count": null,
   "metadata": {
    "id": "eqpkCv3IETHY"
   },
   "outputs": [],
   "source": [
    "\n",
    "# Fonction \"old school\" pour le \"Variogram Cloud\"\n",
    "# TODO : Amélioration du message d'erreur (si pas de locator X)\n",
    "dbcloud = gl.db_variogram_cloud(mydb, myVarioParamOmni)\n"
   ]
  },
  {
   "cell_type": "code",
   "execution_count": null,
   "metadata": {
    "colab": {
     "base_uri": "https://localhost:8080/"
    },
    "executionInfo": {
     "elapsed": 12,
     "status": "ok",
     "timestamp": 1645005547038,
     "user": {
      "displayName": "Fab. O.",
      "photoUrl": "https://lh3.googleusercontent.com/a/default-user=s64",
      "userId": "02233562055497054720"
     },
     "user_tz": -60
    },
    "id": "AmwWqoVU999O",
    "outputId": "3e67d1a8-e823-46e8-a944-e812038f520d"
   },
   "outputs": [],
   "source": [
    "mydb.setLocators([\"Long*\", \"Lat*\"],gl.ELoc.X)\n",
    "mydb.setLocator(\"January_temp\",gl.ELoc.Z)\n",
    "mydb"
   ]
  },
  {
   "cell_type": "code",
   "execution_count": null,
   "metadata": {
    "colab": {
     "base_uri": "https://localhost:8080/"
    },
    "executionInfo": {
     "elapsed": 68,
     "status": "ok",
     "timestamp": 1645005854669,
     "user": {
      "displayName": "Fab. O.",
      "photoUrl": "https://lh3.googleusercontent.com/a/default-user=s64",
      "userId": "02233562055497054720"
     },
     "user_tz": -60
    },
    "id": "IdjiteCP_VIH",
    "outputId": "a9934988-9aa6-404d-a73e-e7c6852728f6"
   },
   "outputs": [],
   "source": [
    "help(gl.db_variogram_cloud)"
   ]
  },
  {
   "cell_type": "code",
   "execution_count": null,
   "metadata": {
    "colab": {
     "base_uri": "https://localhost:8080/"
    },
    "executionInfo": {
     "elapsed": 12,
     "status": "ok",
     "timestamp": 1645005558943,
     "user": {
      "displayName": "Fab. O.",
      "photoUrl": "https://lh3.googleusercontent.com/a/default-user=s64",
      "userId": "02233562055497054720"
     },
     "user_tz": -60
    },
    "id": "2nL89nU_-MVd",
    "outputId": "0dd7b781-a00c-4488-c5df-7ce7bd72d9e1"
   },
   "outputs": [],
   "source": [
    "#gp.grid(dbcloud,\"Cloud*\",title=\"Variogram Cloud\")\n",
    "dbcloud = gl.db_variogram_cloud(mydb, myVarioParamOmni)\n",
    "dbcloud\n",
    "\n",
    "# TODO : Locatoriser Z la variable Cloud.January_temp\n",
    "#"
   ]
  },
  {
   "cell_type": "code",
   "execution_count": null,
   "metadata": {
    "colab": {
     "base_uri": "https://localhost:8080/"
    },
    "executionInfo": {
     "elapsed": 20,
     "status": "ok",
     "timestamp": 1645006112405,
     "user": {
      "displayName": "Fab. O.",
      "photoUrl": "https://lh3.googleusercontent.com/a/default-user=s64",
      "userId": "02233562055497054720"
     },
     "user_tz": -60
    },
    "id": "g1KwEmTm-px0",
    "outputId": "9d6cd9ae-8713-43d8-848a-22f33f258a2a"
   },
   "outputs": [],
   "source": [
    "dbfmt = gl.DbStringFormat()\n",
    "dbfmt.setParams(gl.FLAG_VARS | gl.FLAG_STATS)\n",
    "dbcloud.display(dbfmt)"
   ]
  },
  {
   "cell_type": "code",
   "execution_count": null,
   "metadata": {
    "colab": {
     "base_uri": "https://localhost:8080/",
     "height": 86
    },
    "executionInfo": {
     "elapsed": 426,
     "status": "ok",
     "timestamp": 1645006127094,
     "user": {
      "displayName": "Fab. O.",
      "photoUrl": "https://lh3.googleusercontent.com/a/default-user=s64",
      "userId": "02233562055497054720"
     },
     "user_tz": -60
    },
    "id": "e0Lz-JGn9mJF",
    "outputId": "ffaef855-1b54-440a-ca34-0558678970ab"
   },
   "outputs": [],
   "source": [
    "gp.grid(dbcloud,\"Cloud*\",title=\"Variogram Cloud\")\n",
    "# TODO :\n",
    "# - Proposer un bon réglage des facteurs d'échelle par défaut dans gp.grid"
   ]
  },
  {
   "cell_type": "code",
   "execution_count": null,
   "metadata": {
    "colab": {
     "base_uri": "https://localhost:8080/",
     "height": 299
    },
    "executionInfo": {
     "elapsed": 618,
     "status": "ok",
     "timestamp": 1645005776076,
     "user": {
      "displayName": "Fab. O.",
      "photoUrl": "https://lh3.googleusercontent.com/a/default-user=s64",
      "userId": "02233562055497054720"
     },
     "user_tz": -60
    },
    "id": "rufVcWfO-_WK",
    "outputId": "22571b48-f8fc-4fbe-c9ef-42c4e909296e"
   },
   "outputs": [],
   "source": [
    "# Possible with points display\n",
    "gp.point(dbcloud,\"Cloud*\",title=\"Variogram Cloud\")"
   ]
  },
  {
   "cell_type": "code",
   "execution_count": null,
   "metadata": {
    "colab": {
     "base_uri": "https://localhost:8080/"
    },
    "executionInfo": {
     "elapsed": 25,
     "status": "ok",
     "timestamp": 1645006328670,
     "user": {
      "displayName": "Fab. O.",
      "photoUrl": "https://lh3.googleusercontent.com/a/default-user=s64",
      "userId": "02233562055497054720"
     },
     "user_tz": -60
    },
    "id": "dNlecWkR-cWQ",
    "outputId": "6376ca5f-593d-468a-8c81-13fb14c9fdef"
   },
   "outputs": [],
   "source": [
    "# Compute the experimental variogram\n",
    "myVarioOmni = gl.Vario(myVarioParamOmni,mydb)\n",
    "err = myVarioOmni.compute(\"vg\") # TODO : Use the ENUM \n",
    "myVarioOmni.display()\n",
    "\n",
    "# TODO : \n",
    "# - Créer un ou plusieurs raccourci createFrom???? avec des paramètres directement en arguments"
   ]
  },
  {
   "cell_type": "code",
   "execution_count": null,
   "metadata": {
    "colab": {
     "base_uri": "https://localhost:8080/"
    },
    "executionInfo": {
     "elapsed": 38,
     "status": "ok",
     "timestamp": 1645007717842,
     "user": {
      "displayName": "Fab. O.",
      "photoUrl": "https://lh3.googleusercontent.com/a/default-user=s64",
      "userId": "02233562055497054720"
     },
     "user_tz": -60
    },
    "id": "RX9dN9nlF_MV",
    "outputId": "82aadbfe-1776-410f-f8e0-e3eac4557553"
   },
   "outputs": [],
   "source": [
    "# TODO : Fix direction display\n",
    "myVarioParam2 = gl.VarioParam()\n",
    "myVarioParam2.addMultiDirs(gl.createMultiple(2, 4, 10, 1))\n",
    "myVarioParam2"
   ]
  },
  {
   "cell_type": "code",
   "execution_count": null,
   "metadata": {
    "colab": {
     "base_uri": "https://localhost:8080/"
    },
    "executionInfo": {
     "elapsed": 188,
     "status": "ok",
     "timestamp": 1645007816617,
     "user": {
      "displayName": "Fab. O.",
      "photoUrl": "https://lh3.googleusercontent.com/a/default-user=s64",
      "userId": "02233562055497054720"
     },
     "user_tz": -60
    },
    "id": "9ADQ4sZVGgB6",
    "outputId": "e0bf2835-2453-4482-8fc7-ad3fbd0d8233"
   },
   "outputs": [],
   "source": [
    "help(gl.Vario)"
   ]
  },
  {
   "cell_type": "code",
   "execution_count": null,
   "metadata": {
    "colab": {
     "base_uri": "https://localhost:8080/",
     "height": 283
    },
    "executionInfo": {
     "elapsed": 250,
     "status": "ok",
     "timestamp": 1645008754552,
     "user": {
      "displayName": "Fab. O.",
      "photoUrl": "https://lh3.googleusercontent.com/a/default-user=s64",
      "userId": "02233562055497054720"
     },
     "user_tz": -60
    },
    "id": "ZMrHhxs4BJJ6",
    "outputId": "51291586-04a4-43b2-8b80-c525d70491ff"
   },
   "outputs": [],
   "source": [
    "# TODO :\n",
    "# - Ajouter title et autre kwargs (légende, couleurs, etc...)\n",
    "# - Attention au nommage des arguments (prendre des noms différents de matplotlib pour les arguments propres à chaque fonction)\n",
    "# - Attention au passage des kwargs aux fonctions de matplotlib (et dont on aurait également besoin dans la fonction)\n",
    "# - Add number of pairs (and so on) (si on a le temps)\n",
    "axs = gp.plot(myVarioOmni)\n",
    "\n",
    "# TODO : Access by operator [] or column names ? (si on a le temps)\n",
    "# Here : 1 is the second direction !! etc...\n",
    "#myVarioOmni[1]$nlag\n",
    "#myVarioOmni[1]$gg\n",
    "# Example : Number of pairs for the first direction, and the fifth lag (si on a le temps)\n",
    "#myVarioOmni[0].Npairs[4] # TODO (better)\n",
    "myVarioOmni.getSwVec(0,0,0)[4] # Bof"
   ]
  },
  {
   "cell_type": "code",
   "execution_count": null,
   "metadata": {
    "colab": {
     "base_uri": "https://localhost:8080/",
     "height": 174
    },
    "executionInfo": {
     "elapsed": 69,
     "status": "error",
     "timestamp": 1645006482261,
     "user": {
      "displayName": "Fab. O.",
      "photoUrl": "https://lh3.googleusercontent.com/a/default-user=s64",
      "userId": "02233562055497054720"
     },
     "user_tz": -60
    },
    "id": "DiIj1WFMBhrs",
    "outputId": "970cd7e6-4b7d-4876-a3d7-b301abe8bf47"
   },
   "outputs": [],
   "source": [
    "# Should be also possible : => Done\n",
    "# TODO :\n",
    "# - Ajouter title et autre kwargs (légende, couleurs, etc...)\n",
    "myVarioOmni.plot()"
   ]
  },
  {
   "cell_type": "code",
   "execution_count": null,
   "metadata": {
    "executionInfo": {
     "elapsed": 40,
     "status": "ok",
     "timestamp": 1645008921843,
     "user": {
      "displayName": "Fab. O.",
      "photoUrl": "https://lh3.googleusercontent.com/a/default-user=s64",
      "userId": "02233562055497054720"
     },
     "user_tz": -60
    },
    "id": "B60Pb8jxBrzs"
   },
   "outputs": [],
   "source": [
    "# Create empty model customized with the space dimension from the Db\n",
    "mymodel = gl.Model.createFromDb(mydb)\n",
    "err = mymodel.fit(myVarioOmni,[gl.ECov.EXPONENTIAL,gl.ECov.SPHERICAL])"
   ]
  },
  {
   "cell_type": "code",
   "execution_count": null,
   "metadata": {
    "colab": {
     "base_uri": "https://localhost:8080/",
     "height": 265
    },
    "executionInfo": {
     "elapsed": 243,
     "status": "ok",
     "timestamp": 1645009047673,
     "user": {
      "displayName": "Fab. O.",
      "photoUrl": "https://lh3.googleusercontent.com/a/default-user=s64",
      "userId": "02233562055497054720"
     },
     "user_tz": -60
    },
    "id": "mYGa7bq4LCPh",
    "outputId": "521dd522-2727-494e-c9f5-f106c43a3b56"
   },
   "outputs": [],
   "source": [
    "ax = gp.model(mymodel)\n",
    "#gp.plot(mymodel) # TODO : error in generic function => Done"
   ]
  },
  {
   "cell_type": "code",
   "execution_count": null,
   "metadata": {
    "colab": {
     "base_uri": "https://localhost:8080/",
     "height": 265
    },
    "executionInfo": {
     "elapsed": 250,
     "status": "ok",
     "timestamp": 1645009052604,
     "user": {
      "displayName": "Fab. O.",
      "photoUrl": "https://lh3.googleusercontent.com/a/default-user=s64",
      "userId": "02233562055497054720"
     },
     "user_tz": -60
    },
    "id": "fPV-HqpVLWxg",
    "outputId": "6d427893-1cf9-4d60-e2a1-13cba4b83a02"
   },
   "outputs": [],
   "source": [
    "ax = gp.varmod(myVarioOmni,mymodel)"
   ]
  },
  {
   "cell_type": "code",
   "execution_count": null,
   "metadata": {
    "id": "H4M6XFACLYX9"
   },
   "outputs": [],
   "source": []
  }
 ],
 "metadata": {
  "colab": {
   "collapsed_sections": [],
   "name": "04_Variography.ipynb",
   "provenance": []
  },
  "kernelspec": {
   "display_name": "Python 3",
   "language": "python",
   "name": "python3"
  },
  "language_info": {
   "codemirror_mode": {
    "name": "ipython",
    "version": 3
   },
   "file_extension": ".py",
   "mimetype": "text/x-python",
   "name": "python",
   "nbconvert_exporter": "python",
   "pygments_lexer": "ipython3",
   "version": "3.8.5"
  }
 },
 "nbformat": 4,
 "nbformat_minor": 1
}
