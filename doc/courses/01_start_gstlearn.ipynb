{
  "nbformat": 4,
  "nbformat_minor": 0,
  "metadata": {
    "colab": {
      "name": "01_start_gstlearn.ipynb",
      "provenance": [],
      "collapsed_sections": []
    },
    "kernelspec": {
      "name": "python3",
      "display_name": "Python 3"
    },
    "language_info": {
      "name": "python"
    }
  },
  "cells": [
    {
      "cell_type": "code",
      "execution_count": null,
      "metadata": {
        "id": "T0ffb1mF7T9x"
      },
      "outputs": [],
      "source": [
        "import gstlearn as gl\n",
        "import gstlearn.plot as gp"
      ]
    },
    {
      "cell_type": "code",
      "source": [
        "ndim = 2\n",
        "nvar = 1\n",
        "\n",
        "# (1) Creating the grid\n",
        "db = gl.Db([100,100],[1,1]) # Keep args order (no args name)\n",
        "# (2) Future (New DbGrid class):\n",
        "# db = gl.DbGrid()\n",
        "# db.reset(nx=[100,100], x0=[12.14,10]) # args name available\n",
        "# or\n",
        "# db.setNx([100,100])\n",
        "# db.setDx([1,1])\n",
        "# (3) Could be\n",
        "# db = gl.DbGridCreate(nx=[100,100], x0=[12.14,10]) # Global function\n",
        "# (4) Could be\n",
        "# db = gl.DbGrid.create(nx=[100,100], x0=[12.14,10]) # Static function from DbGrid class\n",
        "\n",
        "# => Solution (2) always available\n",
        "# => Solution (4) is better (and use solution (2))\n",
        "\n",
        "# Display db content\n",
        "db.display()"
      ],
      "metadata": {
        "colab": {
          "base_uri": "https://localhost:8080/"
        },
        "id": "MGRlWcF59oxL",
        "outputId": "0d0f793c-9efa-4ecd-f6b9-9dd29657d7e1"
      },
      "execution_count": 23,
      "outputs": [
        {
          "output_type": "stream",
          "name": "stdout",
          "text": [
            "\n",
            "Data Base Characteristics\n",
            "=========================\n",
            "\n",
            "Data Base Summary\n",
            "-----------------\n",
            "File is organized as a regular grid\n",
            "Space dimension              = 2\n",
            "Number of fields             = 3\n",
            "Maximum Number of attributes = 3\n",
            "Total number of samples      = 10000\n",
            "\n",
            "Grid characteristics:\n",
            "---------------------\n",
            "Origin :      0.000     0.000\n",
            "Mesh   :      1.000     1.000\n",
            "Number :        100       100\n",
            "\n",
            "Variables\n",
            "---------\n",
            "Field = 1 - Name = rank - Locator = NA\n",
            "Field = 2 - Name = x1 - Locator = x1\n",
            "Field = 3 - Name = x2 - Locator = x2\n",
            " "
          ]
        }
      ]
    },
    {
      "cell_type": "code",
      "source": [
        "# (1) Building the Covariance Context\n",
        "ctxt = gl.CovContext(nvar, ndim)\n",
        "# Build the List of Covariances\n",
        "covs = gl.CovLMC(ctxt.getSpace())\n",
        "# Build the Elementary Covariances\n",
        "cov1 = gl.CovAniso(gl.ECov.GAUSSIAN, ctxt)\n",
        "cov1.setRange(30)\n",
        "covs.addCov(cov1)\n",
        "cov2 = gl.CovAniso(gl.ECov.EXPONENTIAL, ctxt)\n",
        "cov2.setRange(60)\n",
        "covs.addCov(cov2)\n",
        "# Building the Model\n",
        "model = gl.Model(ctxt)\n",
        "model.setCovList(covs)\n",
        "\n",
        "# (2) Future:\n",
        "#ctxt = gl.CovContext(nvar, ndim)\n",
        "#cov1 = gl.CovAniso.create(gl.ECov.GAUSSIAN, 30, ctxt) # => Rename CovAniso into Covariance\n",
        "#cov2 = gl.CovAniso.create(gl.ECov.EXPONENTIAL, 60, ctxt)\n",
        "#covlmc = gl.CovLMC.create([cov1, cov2])\n",
        "#modellmc = gl.Model.create(covlmc)\n",
        "\n",
        "# (3) Future bis:\n",
        "# Objectif à atteindre\n",
        "#ctxt = gl.CovContext(nvar, ndim)\n",
        "#cov1 = gl.CovAniso.create(gl.ECov.GAUSSIAN, 30, ctxt) # => Un seul constructeur\n",
        "#cov2 = gl.CovAniso.create(gl.ECov.EXPONENTIAL, 60, ctxt)\n",
        "# Puis on les combine\n",
        "#model = gl.Model.create(gl.CovLMC.create([cov1, cov2])) # Too much complicated?\n",
        "# ou\n",
        "#model = gl.Model.create(gl.addCov([cov1, cov2])) # addCov is a global function\n",
        "# Plus tard : Surchage d'opérateur '+'\n",
        "# Plus tard : Un ACov serait connectable (arbre binaire)\n",
        "# ou\n",
        "#model = gl.Model.create(gl.covProd(cov1, cov2)) # covProd is a global function\n",
        "# Attention: chaque cov peut avoir un contexte différent (car produit)\n",
        "# ou\n",
        "#model = gl.Model.create(cov1)\n",
        "\n",
        "# => Solution (3)\n",
        "\n",
        "\n",
        "# Display model content\n",
        "model.display()"
      ],
      "metadata": {
        "colab": {
          "base_uri": "https://localhost:8080/"
        },
        "id": "1NWJtFGCKGQ5",
        "outputId": "3ddb5ebe-459c-43f1-f269-6d852a823fe6"
      },
      "execution_count": 26,
      "outputs": [
        {
          "output_type": "stream",
          "name": "stdout",
          "text": [
            "\n",
            "Model characteristics\n",
            "=====================\n",
            "Space dimension              = 2\n",
            "Number of variable(s)        = 1\n",
            "Number of basic structure(s) = 2\n",
            "Number of drift function(s)  = 0\n",
            "Number of drift equation(s)  = 0\n",
            "\n",
            "Covariance Part\n",
            "---------------\n",
            "Gaussian\n",
            "- Sill         =      1.000\n",
            "- Range        =     30.000\n",
            "- Theo. Range  =     17.333\n",
            "Exponential\n",
            "- Sill         =      1.000\n",
            "- Range        =     60.000\n",
            "- Theo. Range  =     20.028\n",
            "Total Sill     =      2.000\n",
            " "
          ]
        }
      ]
    },
    {
      "cell_type": "code",
      "source": [
        "# (1) Perform turning ban simulation\n",
        "gl.simtub(dbin=None,dbout=db,model=modellmc,nbtuba=1000)\n",
        "# Plot the grid\n",
        "gp.grid(db, title=\"Check is successful!\")\n",
        "\n",
        "# (2) Future :\n",
        "#gl.simtub(dbout=db,model=modellmc,nbtuba=1000) # Fonction non conditionnelle\n",
        "#gl.simtubCond(dbin=data, dbout=db,model=model,nbtuba=1000) # Fonction conditionnelle\n",
        "\n",
        "# (3) Future bis :\n",
        "#gl.simtub(dbout=db,model=modellmc,nbtuba=1000) # valeur par dfaut partout\n",
        "#gl.simtub() # autorisé mais génère une erreur car dbout et model sont nuls\n",
        "\n",
        "# (4) Future far away :\n",
        "# Cf dossier LibGeostats (model.train, model.setCond, model.simulate, model.estimate)\n",
        "\n",
        "# => Solution (3) et plus tard solution (4)"
      ],
      "metadata": {
        "colab": {
          "base_uri": "https://localhost:8080/",
          "height": 299
        },
        "id": "o41oRcDG-gzg",
        "outputId": "1b542f34-3071-4d1c-d6bf-696a86fe9a44"
      },
      "execution_count": 30,
      "outputs": [
        {
          "output_type": "execute_result",
          "data": {
            "text/plain": [
              "<AxesSubplot:title={'center':'Check is successful!'}>"
            ]
          },
          "metadata": {},
          "execution_count": 30
        },
        {
          "output_type": "display_data",
          "data": {
            "text/plain": [
              "<Figure size 432x288 with 2 Axes>"
            ],
            "image/png": "[encoded data removed]"
          },
          "metadata": {
            "needs_background": "light"
          }
        }
      ]
    },
    {
      "cell_type": "code",
      "source": [
        ""
      ],
      "metadata": {
        "id": "B_gC_YI_J3QO"
      },
      "execution_count": null,
      "outputs": []
    }
  ]
}
