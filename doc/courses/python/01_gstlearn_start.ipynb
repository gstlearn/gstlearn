{
 "cells": [
  {
   "cell_type": "markdown",
   "id": "7718c2a8",
   "metadata": {},
   "source": [
    "# Checking installation of gstlearn for Python"
   ]
  },
  {
   "cell_type": "code",
   "execution_count": null,
   "id": "38da96f8",
   "metadata": {},
   "outputs": [],
   "source": [
    "%%javascript\n",
    "IPython.OutputArea.prototype._should_scroll = function(lines) {\n",
    "    return false;\n",
    "}"
   ]
  },
  {
   "cell_type": "code",
   "execution_count": null,
   "id": "145a5aa5",
   "metadata": {},
   "outputs": [],
   "source": [
    "import gstlearn as gl\n",
    "import gstlearn.plot as gp\n",
    "import matplotlib.pyplot as plt\n",
    "import numpy as np\n",
    "import os"
   ]
  },
  {
   "cell_type": "markdown",
   "id": "7c79b75a",
   "metadata": {},
   "source": [
    "We create a regular 2-D grid and simulate a variable using a geostatistical Model"
   ]
  },
  {
   "cell_type": "code",
   "execution_count": null,
   "id": "1fb8a4b7",
   "metadata": {},
   "outputs": [],
   "source": [
    "grid = gl.DbGrid.create(nx=[100,100])\n",
    "model = gl.Model.createFromParam(type = gl.ECov.CUBIC, range = 30)\n",
    "err = gl.simtub(None, grid, model, None, nbsimu=1, seed=13126, nbtuba = 1000)"
   ]
  },
  {
   "cell_type": "markdown",
   "id": "3fde8831",
   "metadata": {},
   "source": [
    "The simulated result is plotted"
   ]
  },
  {
   "cell_type": "code",
   "execution_count": null,
   "id": "7976a6c5",
   "metadata": {
    "scrolled": true
   },
   "outputs": [],
   "source": [
    "ax = gp.grid(grid,aspect=1)"
   ]
  },
  {
   "cell_type": "markdown",
   "id": "cc69c68a",
   "metadata": {},
   "source": [
    "If you obtained a nice looking image corresponding to the simulation result on the grid ... the installation of gstlearn is satisfactory."
   ]
  },
  {
   "cell_type": "code",
   "execution_count": null,
   "id": "beneficial-essay",
   "metadata": {},
   "outputs": [],
   "source": [
    "grid.display()"
   ]
  }
 ],
 "metadata": {
  "kernelspec": {
   "display_name": "Python 3 (ipykernel)",
   "language": "python",
   "name": "python3"
  },
  "language_info": {
   "codemirror_mode": {
    "name": "ipython",
    "version": 3
   },
   "file_extension": ".py",
   "mimetype": "text/x-python",
   "name": "python",
   "nbconvert_exporter": "python",
   "pygments_lexer": "ipython3",
   "version": "3.9.2"
  }
 },
 "nbformat": 4,
 "nbformat_minor": 5
}
