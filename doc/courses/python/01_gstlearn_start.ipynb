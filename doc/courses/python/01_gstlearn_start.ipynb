{
 "cells": [
  {
   "cell_type": "markdown",
   "id": "7718c2a8",
   "metadata": {},
   "source": [
    "# General principles of gstlearn\n",
    "\n",
    "Didier RENARD, Nicolas DESASSIS, Mike PEREIRA, Xavier FREULON, Fabien ORS"
   ]
  },
  {
   "cell_type": "markdown",
   "id": "f86c62b8",
   "metadata": {
    "toc": true
   },
   "source": [
    "<h1>Table of Contents<span class=\"tocSkip\"></span></h1>\n",
    "<div class=\"toc\"><ul class=\"toc-item\"><li><span><a href=\"#General-principles-of-gstlearn\" data-toc-modified-id=\"General-principles-of-gstlearn-1\"><span class=\"toc-item-num\">1&nbsp;&nbsp;</span>General principles of gstlearn</a></span><ul class=\"toc-item\"><li><span><a href=\"#Introduction\" data-toc-modified-id=\"Introduction-1.1\"><span class=\"toc-item-num\">1.1&nbsp;&nbsp;</span>Introduction</a></span><ul class=\"toc-item\"><li><span><a href=\"#About-C++-&amp;-Python\" data-toc-modified-id=\"About-C++-&amp;-Python-1.1.1\"><span class=\"toc-item-num\">1.1.1&nbsp;&nbsp;</span>About C++ &amp; Python</a></span></li></ul></li><li><span><a href=\"#Loading-the-package\" data-toc-modified-id=\"Loading-the-package-1.2\"><span class=\"toc-item-num\">1.2&nbsp;&nbsp;</span>Loading the package</a></span></li><li><span><a href=\"#First-code:-Create-and-display-a-database\" data-toc-modified-id=\"First-code:-Create-and-display-a-database-1.3\"><span class=\"toc-item-num\">1.3&nbsp;&nbsp;</span>First code: Create and display a database</a></span></li></ul></li></ul></div>"
   ]
  },
  {
   "cell_type": "markdown",
   "id": "cbcba3eb",
   "metadata": {},
   "source": [
    "## Introduction"
   ]
  },
  {
   "cell_type": "markdown",
   "id": "d6dfb7d9",
   "metadata": {},
   "source": [
    "The **gstlearn** Python package is a cross-platform Python package wrapping the [gstlearn C++ Library](https://gstlearn.org/). It offers to Python users **all famous Geostatistical methodologies** developed and/or invented by the Geostatistic Team of the Geosciences Research Center! It is the successor of the [RGeostats R package](http://cg.ensmp.fr/rgeostats), but in Python :-).\n",
    "\n",
    "To install the **gstlearn** Python Package, you need Python 3.8 (or higher) and the following **dependencies**. Execute the following command:"
   ]
  },
  {
   "cell_type": "code",
   "execution_count": 1,
   "id": "083d790f",
   "metadata": {},
   "outputs": [
    {
     "name": "stdout",
     "output_type": "stream",
     "text": [
      "Defaulting to user installation because normal site-packages is not writeable\n",
      "Requirement already satisfied: gstlearn in /home/fors/.local/lib/python3.10/site-packages (0.3.3)\n",
      "Requirement already satisfied: scipy in /home/fors/.local/lib/python3.10/site-packages (from gstlearn) (1.11.2)\n",
      "Requirement already satisfied: plotly in /home/fors/.local/lib/python3.10/site-packages (from gstlearn) (5.16.1)\n",
      "Requirement already satisfied: numpy in /home/fors/.local/lib/python3.10/site-packages (from gstlearn) (1.25.2)\n",
      "Requirement already satisfied: geopandas in /home/fors/.local/lib/python3.10/site-packages (from gstlearn) (0.13.0)\n",
      "Requirement already satisfied: shapely in /home/fors/.local/lib/python3.10/site-packages (from gstlearn) (2.0.1)\n",
      "Requirement already satisfied: pandas in /home/fors/.local/lib/python3.10/site-packages (from gstlearn) (2.0.3)\n",
      "Requirement already satisfied: matplotlib in /usr/lib/python3/dist-packages (from gstlearn) (3.5.1)\n",
      "Requirement already satisfied: packaging in /usr/lib/python3/dist-packages (from geopandas->gstlearn) (21.3)\n",
      "Requirement already satisfied: fiona>=1.8.19 in /home/fors/.local/lib/python3.10/site-packages (from geopandas->gstlearn) (1.9.3)\n",
      "Requirement already satisfied: pyproj>=3.0.1 in /home/fors/.local/lib/python3.10/site-packages (from geopandas->gstlearn) (3.5.0)\n",
      "Requirement already satisfied: python-dateutil>=2.8.2 in /home/fors/.local/lib/python3.10/site-packages (from pandas->gstlearn) (2.8.2)\n",
      "Requirement already satisfied: pytz>=2020.1 in /usr/lib/python3/dist-packages (from pandas->gstlearn) (2022.1)\n",
      "Requirement already satisfied: tzdata>=2022.1 in /home/fors/.local/lib/python3.10/site-packages (from pandas->gstlearn) (2023.3)\n",
      "Requirement already satisfied: tenacity>=6.2.0 in /home/fors/.local/lib/python3.10/site-packages (from plotly->gstlearn) (8.2.2)\n",
      "Requirement already satisfied: click~=8.0 in /usr/lib/python3/dist-packages (from fiona>=1.8.19->geopandas->gstlearn) (8.0.3)\n",
      "Requirement already satisfied: munch>=2.3.2 in /home/fors/.local/lib/python3.10/site-packages (from fiona>=1.8.19->geopandas->gstlearn) (2.5.0)\n",
      "Requirement already satisfied: attrs>=19.2.0 in /usr/lib/python3/dist-packages (from fiona>=1.8.19->geopandas->gstlearn) (21.2.0)\n",
      "Requirement already satisfied: cligj>=0.5 in /home/fors/.local/lib/python3.10/site-packages (from fiona>=1.8.19->geopandas->gstlearn) (0.7.2)\n",
      "Requirement already satisfied: certifi in /home/fors/.local/lib/python3.10/site-packages (from fiona>=1.8.19->geopandas->gstlearn) (2023.5.7)\n",
      "Requirement already satisfied: click-plugins>=1.0 in /home/fors/.local/lib/python3.10/site-packages (from fiona>=1.8.19->geopandas->gstlearn) (1.1.1)\n",
      "Requirement already satisfied: six>=1.5 in /usr/lib/python3/dist-packages (from python-dateutil>=2.8.2->pandas->gstlearn) (1.16.0)\n"
     ]
    }
   ],
   "source": [
    "!pip install gstlearn"
   ]
  },
  {
   "cell_type": "markdown",
   "id": "16a2d226",
   "metadata": {},
   "source": [
    "### About C++ & Python\n",
    "\n",
    "The *gstlearn* Python package is generated using SWIG [See here](https://pypi.org/project/gstlearn). We have chosen SWIG in order to mutualize the wrapper code of *gstlearn* C++ library for several different target languages.\n",
    "\n",
    "The classes and functions documentation is provided with the *gstlearn* C++ library as html files generated by Doxygen. Please, refer to *gstlearn* C++ library API [See here](https://gstlearn.org/) for more details. Only the *public* methods are exported by SWIG and must be considered in the Python package.\n",
    "\n",
    "Their is currently poor Python documentation for the *gstlearn* Python package. The user can refer to the C++ documentation and have to learn how to adapt the code into Python language following these \"conversion rules\":\n",
    "\n",
    "* C++ classes are automatically converted into Python classes. After creating an instance of a class, methods (i.e. class function) must be called using `.` applied to the instance (i.e. an object) of that class (see `db.display()` in the example below).\n",
    "\n",
    "* Static C++ methods (e.g. `createFromNF` method in `DbGrid` class) defined in a class (e.g. `DbGrid`) are renamed by joining the class name and the method name (e.g. `DbGrid.createFromNF`). Note: Static methods do not apply to object instances (e.g. `mygrid.createFromNF()` has no sense)\n",
    "\n",
    "* Static C++ variables (e.g. `X` locator) defined in a class (e.g. `ELoc` 'enum' class) must be accessed in Python using the same rules as static methods (e.g. `ELoc.X`)\n",
    "\n",
    "* All basic C++ types (`double`, `int`, `bool`, etc...) are automatically converted to/from Python native types (`float`, `int`, `bool`,...)\n",
    "\n",
    "* The C++ classes `VectorDouble`, `VectorInt`, etc...  are automatically converted to/from Python/numpy nd.array\n",
    "\n",
    "* The C++ classes `VectorVectorDouble`, `VectorVectorInt`, etc...  are automatically converted to/from Python/numpy nd.array of nd.array(s)\n",
    "\n",
    "* Some classes of the *gstlearn* C++ library have been extended in Python:\n",
    "  * Almost all classes are 'stringable' (those which inherit from `AStringable`), that means that you can type the object name in the Python console prompt and hit 'Enter' key to obtain a detailed description of the object content. The same output text is obtained using the `display` method (e.g. `mygrid.display()`)\n",
    "  * Some classes have an additional Python method named `toTL` (i.e. 'to Target Language') that permits to convert an object into the corresponding Python type. For example, the instruction `df = mygrid.toTL()` permits to create a pandas `DataFrame` from a `Db` object. In that case, the newly created `DataFrame` will contain all variables from the Db (but locators and grid parameters (for DbGrid) will be lost)\t"
   ]
  },
  {
   "cell_type": "markdown",
   "id": "024ae3ff",
   "metadata": {},
   "source": [
    "## Loading the package"
   ]
  },
  {
   "cell_type": "code",
   "execution_count": 2,
   "id": "145a5aa5",
   "metadata": {},
   "outputs": [],
   "source": [
    "import gstlearn as gl\n",
    "import gstlearn.plot as gp"
   ]
  },
  {
   "cell_type": "markdown",
   "id": "ee22dba0",
   "metadata": {},
   "source": [
    "The following code snippet only permits to prevent Jupyter from showing scrollbars in the output cells"
   ]
  },
  {
   "cell_type": "code",
   "execution_count": 3,
   "id": "38da96f8",
   "metadata": {},
   "outputs": [
    {
     "data": {
      "application/javascript": [
       "IPython.OutputArea.prototype._should_scroll = function(lines) {\n",
       "    return false;\n",
       "}\n"
      ],
      "text/plain": [
       "<IPython.core.display.Javascript object>"
      ]
     },
     "metadata": {},
     "output_type": "display_data"
    }
   ],
   "source": [
    "%%javascript\n",
    "IPython.OutputArea.prototype._should_scroll = function(lines) {\n",
    "    return false;\n",
    "}"
   ]
  },
  {
   "cell_type": "markdown",
   "id": "4b7fdc19",
   "metadata": {},
   "source": [
    "Calling the next function (*acknowledge_gstlearn*) at startup is a good practice in order to check the version of **gstlearn** you are currently running:"
   ]
  },
  {
   "cell_type": "code",
   "execution_count": 10,
   "id": "d3833c90",
   "metadata": {},
   "outputs": [],
   "source": [
    "# Uncomment and execute if needed\n",
    "#gl.acknowledge_gstlearn()"
   ]
  },
  {
   "cell_type": "markdown",
   "id": "20216bfe",
   "metadata": {},
   "source": [
    "## First code: Create and display a database"
   ]
  },
  {
   "cell_type": "markdown",
   "id": "7c79b75a",
   "metadata": {},
   "source": [
    "We create a regular 2-D grid and simulate a variable using a geostatistical Model"
   ]
  },
  {
   "cell_type": "code",
   "execution_count": 4,
   "id": "1fb8a4b7",
   "metadata": {},
   "outputs": [],
   "source": [
    "grid = gl.DbGrid.create(nx=[100,100])\n",
    "model = gl.Model.createFromParam(type = gl.ECov.CUBIC, range = 30)\n",
    "err = gl.simtub(None, grid, model, None, nbsimu=1, seed=13126, nbtuba = 1000)"
   ]
  },
  {
   "cell_type": "markdown",
   "id": "3fde8831",
   "metadata": {},
   "source": [
    "The simulated result is plotted"
   ]
  },
  {
   "cell_type": "code",
   "execution_count": 5,
   "id": "7976a6c5",
   "metadata": {
    "scrolled": true
   },
   "outputs": [
    {
     "data": {
      "image/png": "[encoded data removed]",
      "text/plain": [
       "<Figure size 576x576 with 1 Axes>"
      ]
     },
     "metadata": {
      "needs_background": "light"
     },
     "output_type": "display_data"
    }
   ],
   "source": [
    "ax = grid.plot()"
   ]
  },
  {
   "cell_type": "markdown",
   "id": "cc69c68a",
   "metadata": {},
   "source": [
    "If you obtain a nice looking image corresponding to the simulation result on the grid ... the installation of gstlearn is successfull. Here is the description of your grid database content:"
   ]
  },
  {
   "cell_type": "code",
   "execution_count": null,
   "id": "beneficial-essay",
   "metadata": {},
   "outputs": [],
   "source": [
    "grid.display()"
   ]
  },
  {
   "cell_type": "code",
   "execution_count": null,
   "id": "5b4e4b39",
   "metadata": {},
   "outputs": [],
   "source": []
  }
 ],
 "metadata": {
  "kernelspec": {
   "display_name": "Python 3 (ipykernel)",
   "language": "python",
   "name": "python3"
  },
  "language_info": {
   "codemirror_mode": {
    "name": "ipython",
    "version": 3
   },
   "file_extension": ".py",
   "mimetype": "text/x-python",
   "name": "python",
   "nbconvert_exporter": "python",
   "pygments_lexer": "ipython3",
   "version": "3.10.12"
  },
  "toc": {
   "base_numbering": 1,
   "nav_menu": {},
   "number_sections": true,
   "sideBar": true,
   "skip_h1_title": false,
   "title_cell": "Table of Contents",
   "title_sidebar": "Contents",
   "toc_cell": true,
   "toc_position": {
    "height": "calc(100% - 180px)",
    "left": "10px",
    "top": "150px",
    "width": "267.267px"
   },
   "toc_section_display": true,
   "toc_window_display": true
  }
 },
 "nbformat": 4,
 "nbformat_minor": 5
}
