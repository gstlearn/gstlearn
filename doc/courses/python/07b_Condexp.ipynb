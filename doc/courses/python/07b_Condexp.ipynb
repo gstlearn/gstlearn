{
 "cells": [
  {
   "cell_type": "markdown",
   "id": "ee1f02e4",
   "metadata": {},
   "source": [
    "# Conditional Expectation"
   ]
  },
  {
   "cell_type": "markdown",
   "id": "896fad91",
   "metadata": {},
   "source": [
    "<!-- SUMMARY: Normal transform (Gaussian anamorphosis). Deriving conditional expectation of exceeding a threshold  -->\n",
    "\n",
    "<!-- CATEGORY: Courses -->"
   ]
  },
  {
   "cell_type": "code",
   "execution_count": null,
   "id": "f5aa3488",
   "metadata": {},
   "outputs": [],
   "source": [
    "import gstlearn as gl\n",
    "import gstlearn.plot as gp\n",
    "import gstlearn.document as gdoc\n",
    "import numpy as np\n",
    "import os\n",
    "\n",
    "gdoc.setNoScroll()\n",
    "\n",
    "figsize = (10,8)"
   ]
  },
  {
   "cell_type": "code",
   "execution_count": null,
   "id": "df8814a4",
   "metadata": {},
   "outputs": [],
   "source": [
    "ndim = 2\n",
    "gl.defineDefaultSpace(gl.ESpaceType.RN, ndim);"
   ]
  },
  {
   "cell_type": "code",
   "execution_count": null,
   "id": "da47a1f3",
   "metadata": {},
   "outputs": [],
   "source": [
    "## Load observations\n",
    "temp_nf = gdoc.loadData(\"Scotland\", \"Scotland_Temperatures.NF\")\n",
    "dat = gl.Db.createFromNF(temp_nf)\n",
    "\n",
    "## Load grid\n",
    "elev_nf = gdoc.loadData(\"Scotland\", \"Scotland_Elevations.NF\")\n",
    "grid = gl.DbGrid.createFromNF(elev_nf)"
   ]
  },
  {
   "cell_type": "code",
   "execution_count": null,
   "id": "bf3f36ae",
   "metadata": {},
   "outputs": [],
   "source": [
    "unique_neigh = gl.NeighUnique.create()"
   ]
  },
  {
   "cell_type": "markdown",
   "id": "de98e4a6",
   "metadata": {},
   "source": [
    "Histogram of the raw variable (Temperature)"
   ]
  },
  {
   "cell_type": "code",
   "execution_count": null,
   "id": "281a191b",
   "metadata": {},
   "outputs": [],
   "source": [
    "gp.histogram(dat, name=\"January*\", bins=20)\n",
    "gp.decoration(title=\"Temperatures\")"
   ]
  },
  {
   "cell_type": "markdown",
   "id": "fa55af72",
   "metadata": {},
   "source": [
    "Gaussian scores"
   ]
  },
  {
   "cell_type": "code",
   "execution_count": null,
   "id": "f0ddd0df",
   "metadata": {},
   "outputs": [],
   "source": [
    "anam = gl.AnamHermite(30)\n",
    "err = anam.fitFromLocator(dat)\n",
    "err = anam.rawToGaussian(dat, \"January_temp\")"
   ]
  },
  {
   "cell_type": "code",
   "execution_count": null,
   "id": "24224d22",
   "metadata": {},
   "outputs": [],
   "source": [
    "anam.display()"
   ]
  },
  {
   "cell_type": "markdown",
   "id": "63675350",
   "metadata": {},
   "source": [
    "Plot the Gaussian scores"
   ]
  },
  {
   "cell_type": "code",
   "execution_count": null,
   "id": "6165fd11",
   "metadata": {},
   "outputs": [],
   "source": [
    "gp.sortedCurve(tabx=dat[\"Y.January_temp\"], taby=dat[\"January_temp\"])\n",
    "gp.decoration(xlabel=\"Gaussian\",ylabel=\"Raw\")"
   ]
  },
  {
   "cell_type": "markdown",
   "id": "ef0d0cb4",
   "metadata": {},
   "source": [
    "Draw the histogram of the Gaussian transformed values"
   ]
  },
  {
   "cell_type": "code",
   "execution_count": null,
   "id": "0ecf0379",
   "metadata": {},
   "outputs": [],
   "source": [
    "gp.histogram(dat, name=\"Y.January*\", bins=20)\n",
    "gp.decoration(title=\"Temperatures (Gaussian scale)\")"
   ]
  },
  {
   "cell_type": "markdown",
   "id": "6ca4754c",
   "metadata": {},
   "source": [
    "We calculate the experimental directional variogram of the gaussian scores and fit the Model (with the constraints that sill should be 1)"
   ]
  },
  {
   "cell_type": "code",
   "execution_count": null,
   "id": "fbe420f3",
   "metadata": {},
   "outputs": [],
   "source": [
    "varioparam = gl.VarioParam.createMultiple(ndir=2, nlag=40, dlag=10)\n",
    "vario_gauss2dir = gl.Vario.create(varioparam)\n",
    "err = vario_gauss2dir.compute(dat)\n",
    "\n",
    "fitmodgauss = gl.Model()\n",
    "err = fitmodgauss.fit(vario_gauss2dir, \n",
    "                types=[gl.ECov.NUGGET, gl.ECov.SPHERICAL, gl.ECov.CUBIC],\n",
    "                constraints = gl.Constraints(1))"
   ]
  },
  {
   "cell_type": "code",
   "execution_count": null,
   "id": "5205f7c9",
   "metadata": {},
   "outputs": [],
   "source": [
    "res = gp.varmod(vario_gauss2dir, fitmodgauss)"
   ]
  },
  {
   "cell_type": "code",
   "execution_count": null,
   "id": "efa8fd27",
   "metadata": {},
   "outputs": [],
   "source": [
    "neighU = gl.NeighUnique.create()"
   ]
  },
  {
   "cell_type": "markdown",
   "id": "9f0768be",
   "metadata": {},
   "source": [
    "Kriging of Gaussian scores"
   ]
  },
  {
   "cell_type": "code",
   "execution_count": null,
   "id": "5367a8a1",
   "metadata": {},
   "outputs": [],
   "source": [
    "err = gl.kriging(dat, grid, fitmodgauss, neighU)"
   ]
  },
  {
   "cell_type": "code",
   "execution_count": null,
   "id": "f2de8be5",
   "metadata": {},
   "outputs": [],
   "source": [
    "fig, ax = gp.init(figsize=figsize, flagEqual=True)\n",
    "ax.raster(grid, \"*estim\")\n",
    "ax.symbol(dat)\n",
    "ax.decoration(title=\"Kriging of Gaussian scores\")"
   ]
  },
  {
   "cell_type": "code",
   "execution_count": null,
   "id": "b179d0a5",
   "metadata": {},
   "outputs": [],
   "source": [
    "fig, ax = gp.init(figsize=figsize, flagEqual=True)\n",
    "ax.raster(grid, \"*stdev\")\n",
    "ax.symbol(dat, flagCst=True)\n",
    "ax.decoration(title=\"St. Dev. of Gaussian scores\")"
   ]
  },
  {
   "cell_type": "markdown",
   "id": "bd6148ab",
   "metadata": {},
   "source": [
    "## Conditional Expectation"
   ]
  },
  {
   "cell_type": "markdown",
   "id": "90514dd7",
   "metadata": {},
   "source": [
    "We use the Monte Carlo method with 1000 outcomes."
   ]
  },
  {
   "cell_type": "code",
   "execution_count": null,
   "id": "212f976c",
   "metadata": {},
   "outputs": [],
   "source": [
    "selectivity = gl.Selectivity.createByKeys([\"Z\"], [], flag_est=True, flag_std=True)\n",
    "err = gl.ConditionalExpectation(grid, anam, selectivity, \"K*.estim\", \"K*.stdev\", nbsimu=100,\n",
    "                                namconv=gl.NamingConvention(\"CE\",False,True,False))"
   ]
  },
  {
   "cell_type": "markdown",
   "id": "deead5be",
   "metadata": {},
   "source": [
    "Display of the Conditional Expectation"
   ]
  },
  {
   "cell_type": "code",
   "execution_count": null,
   "id": "b9862b76",
   "metadata": {},
   "outputs": [],
   "source": [
    "fig, ax = gp.init(figsize=figsize, flagEqual=True)\n",
    "ax.raster(grid, \"CE*estim\")\n",
    "ax.symbol(dat)\n",
    "ax.decoration(title = \"Conditional Expectation\")"
   ]
  },
  {
   "cell_type": "markdown",
   "id": "e24d9d4b",
   "metadata": {},
   "source": [
    "Display of the Conditional Standard Deviation"
   ]
  },
  {
   "cell_type": "code",
   "execution_count": null,
   "id": "75fa3481",
   "metadata": {},
   "outputs": [],
   "source": [
    "fig, ax = gp.init(figsize=figsize, flagEqual=True)\n",
    "ax.raster(grid, \"CE*stdev\")\n",
    "ax.symbol(dat, flagCst=True)\n",
    "ax.decoration(title=\"Conditional Standard Deviation\")"
   ]
  },
  {
   "cell_type": "markdown",
   "id": "d2843ef3",
   "metadata": {},
   "source": [
    "Conditional Probability below 0"
   ]
  },
  {
   "cell_type": "code",
   "execution_count": null,
   "id": "b6552764",
   "metadata": {},
   "outputs": [],
   "source": [
    "selectivity = gl.Selectivity.createByKeys([\"PROP\"], zcuts=[0],flag_est=True, flag_std=True)\n",
    "err = gl.ConditionalExpectation(grid, anam, selectivity, \"K*.estim\", \"K*.stdev\",\n",
    "                                namconv=gl.NamingConvention(\"CE\",False,True,False))"
   ]
  },
  {
   "cell_type": "code",
   "execution_count": null,
   "id": "a9e6f6fe",
   "metadata": {},
   "outputs": [],
   "source": [
    "fig, ax = gp.init(figsize=figsize, flagEqual=True)\n",
    "ax.raster(grid, \"CE.Proba*estim\")\n",
    "ax.symbol(dat)\n",
    "ax.decoration(title = \"Conditional Probability below 0\")"
   ]
  },
  {
   "cell_type": "markdown",
   "id": "d78de599",
   "metadata": {},
   "source": [
    "Conditional Probability above 1"
   ]
  },
  {
   "cell_type": "code",
   "execution_count": null,
   "id": "7c91d0ef",
   "metadata": {},
   "outputs": [],
   "source": [
    "selectivity = gl.Selectivity.createByKeys([\"T\"], zcuts=[1],flag_est=True, flag_std=True)\n",
    "err = gl.ConditionalExpectation(grid, anam, selectivity, \"K*.estim\", \"K*.stdev\",\n",
    "                                namconv=gl.NamingConvention(\"CE\",False,True,False))"
   ]
  },
  {
   "cell_type": "code",
   "execution_count": null,
   "id": "42bdcaaf",
   "metadata": {},
   "outputs": [],
   "source": [
    "fig, ax = gp.init(figsize=figsize, flagEqual=True)\n",
    "ax.raster(grid, \"CE.T*estim-1\")\n",
    "ax.symbol(dat)\n",
    "ax.decoration(title = \"Conditional Probability above 1\")"
   ]
  },
  {
   "cell_type": "code",
   "execution_count": null,
   "id": "66630d6d",
   "metadata": {},
   "outputs": [],
   "source": [
    "fig, ax = gp.init(figsize=figsize, flagEqual=True)\n",
    "ax.raster(grid, \"CE.T*stdev-1\")\n",
    "ax.symbol(dat, flagCst=True)\n",
    "ax.decoration(title = \"Conditional probability (Standard Deviation)\")"
   ]
  }
 ],
 "metadata": {
  "kernelspec": {
   "display_name": "Python 3 (ipykernel)",
   "language": "python",
   "name": "python3"
  },
  "language_info": {
   "codemirror_mode": {
    "name": "ipython",
    "version": 3
   },
   "file_extension": ".py",
   "mimetype": "text/x-python",
   "name": "python",
   "nbconvert_exporter": "python",
   "pygments_lexer": "ipython3",
   "version": "3.10.5"
  },
  "toc": {
   "base_numbering": 1,
   "nav_menu": {},
   "number_sections": true,
   "sideBar": true,
   "skip_h1_title": false,
   "title_cell": "Table of Contents",
   "title_sidebar": "Contents",
   "toc_cell": false,
   "toc_position": {},
   "toc_section_display": true,
   "toc_window_display": false
  }
 },
 "nbformat": 4,
 "nbformat_minor": 5
}
