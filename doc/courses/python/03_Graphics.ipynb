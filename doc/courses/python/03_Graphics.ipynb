{
 "cells": [
  {
   "cell_type": "markdown",
   "metadata": {},
   "source": [
    "# Graphics"
   ]
  },
  {
   "cell_type": "markdown",
   "metadata": {},
   "source": [
    "<!-- SUMMARY: Use the library gtlearn.plot (based on matplotlib) to visualize all the objects of gstlearn library -->\n",
    "\n",
    "<!-- CATEGORY: Courses -->"
   ]
  },
  {
   "cell_type": "markdown",
   "metadata": {},
   "source": [
    "The module gstlearn.plot contains various plot functions for gstlearn objets: DbGrid, Db, Vario, Model, Polygons... These functions are also accessible as methods of each class. For example for a grid, we could use equivalently gp.grid(mygrid,...) or mygrid.plot(...), or for more specific functions: gp.point(mygrid,...) or mygrid.plot_point(...)"
   ]
  },
  {
   "cell_type": "markdown",
   "metadata": {},
   "source": [
    "## Import packages"
   ]
  },
  {
   "cell_type": "code",
   "execution_count": null,
   "metadata": {},
   "outputs": [],
   "source": [
    "import numpy as np\n",
    "import pandas as pd\n",
    "import sys\n",
    "import os\n",
    "import matplotlib\n",
    "import matplotlib.pyplot as plt\n",
    "import gstlearn as gl\n",
    "import gstlearn.plot as gp\n",
    "import gstlearn.document as gdoc\n",
    "\n",
    "gdoc.setNoScroll()\n",
    "gl.defineDefaultSpace(gl.ESpaceType.RN, 2)"
   ]
  },
  {
   "cell_type": "markdown",
   "metadata": {},
   "source": [
    "## General principle"
   ]
  },
  {
   "cell_type": "markdown",
   "metadata": {},
   "source": [
    "The paragraph describes the deiferrent manners for calling the graphics contained in gstlearn.plot package. This is demonstrated on an example of a 2-D data set, organized as a set of isolated points (called **mydb**)\n"
   ]
  },
  {
   "cell_type": "code",
   "execution_count": null,
   "metadata": {},
   "outputs": [],
   "source": [
    "mydb = gl.Db.createFillRandom(ndat=30, nvar=3)\n",
    "mydb"
   ]
  },
  {
   "cell_type": "markdown",
   "metadata": {},
   "source": [
    "In order to illustrate the use of this extensive version which allows overlay of several layers of information, we quickly create a polygon constituted as the (dilated) convex hull of the data (this option will be used later in this document)."
   ]
  },
  {
   "cell_type": "code",
   "execution_count": null,
   "metadata": {},
   "outputs": [],
   "source": [
    "mypoly = gl.Polygons.createFromDb(mydb, dilate=0.05)"
   ]
  },
  {
   "cell_type": "markdown",
   "metadata": {},
   "source": [
    "The overlay can be handled as follows, e.g. by routing the different graphics on the same **Axis**."
   ]
  },
  {
   "cell_type": "code",
   "execution_count": null,
   "metadata": {
    "scrolled": true
   },
   "outputs": [],
   "source": [
    "fig, ax = plt.subplots()\n",
    "ax.symbol(mydb, nameSize=\"z-2\", nameColor=\"z-1\", \n",
    "                flagLegendColor=True, flagLegendSize=True)\n",
    "ax.polygon(mypoly)\n",
    "plt.show()"
   ]
  },
  {
   "cell_type": "markdown",
   "metadata": {},
   "source": [
    "### Calling the specific function"
   ]
  },
  {
   "cell_type": "markdown",
   "metadata": {},
   "source": [
    "You can also be more specific by calling a function named explicitely. This is the case for displaying the literal values attached to each sample: the method is named **literal**. \n",
    "\n",
    "Again the call to this function is covered using different syntaxes."
   ]
  },
  {
   "cell_type": "code",
   "execution_count": null,
   "metadata": {},
   "outputs": [],
   "source": [
    "dum = gp.literal(mydb, name=\"z-1\")"
   ]
  },
  {
   "cell_type": "markdown",
   "metadata": {},
   "source": [
    "Fincally the same function can be specified as a method of the class Axis"
   ]
  },
  {
   "cell_type": "code",
   "execution_count": null,
   "metadata": {},
   "outputs": [],
   "source": [
    "fix, ax = plt.subplots()\n",
    "ax.literal(mydb, name=\"z-1\")\n",
    "plt.show()"
   ]
  },
  {
   "cell_type": "markdown",
   "metadata": {},
   "source": [
    "## Model representation"
   ]
  },
  {
   "cell_type": "markdown",
   "metadata": {},
   "source": [
    "Creating a dummy Model used for simulating a random field and display it"
   ]
  },
  {
   "cell_type": "code",
   "execution_count": null,
   "metadata": {},
   "outputs": [],
   "source": [
    "mymodel = gl.Model.createFromParam(gl.ECov.CUBIC,10,1,1.5)\n",
    "cova = mymodel.getCovAniso(0)"
   ]
  },
  {
   "cell_type": "markdown",
   "metadata": {},
   "source": [
    "This first case gives the demonstration that we can combine gstlearn.plot functions with matplotlib functions. This is what is performed by representing a Model and adding some annotation.\n",
    "As an example, we wish to add the formula of the covariance represented, i.e.:"
   ]
  },
  {
   "cell_type": "code",
   "execution_count": null,
   "metadata": {},
   "outputs": [],
   "source": [
    "from IPython.display import display, Latex\n",
    "display(Latex('$%s$'%cova.getFormula()))"
   ]
  },
  {
   "cell_type": "code",
   "execution_count": null,
   "metadata": {},
   "outputs": [],
   "source": [
    "fig, ax = plt.subplots()                              \n",
    "ax.model(mymodel, flagLegend=True)                    \n",
    "ax.decoration(title=\"Cubic model\")                    \n",
    "ax.text(5,0.5,'$%s$'%cova.getFormula(),size='medium') \n",
    "plt.show()                                            "
   ]
  },
  {
   "cell_type": "markdown",
   "metadata": {},
   "source": [
    "## Grid representations"
   ]
  },
  {
   "cell_type": "markdown",
   "metadata": {},
   "source": [
    "We create a rectangular non-rotated 2-D grid, and simulate random Gaussian field (using the Model previously defined). Two simulations are generated in order to emphasize the graphic posibilities in further parts of this note."
   ]
  },
  {
   "cell_type": "code",
   "execution_count": null,
   "metadata": {},
   "outputs": [],
   "source": [
    "nx = [70,25]\n",
    "dx = [1,2]\n",
    "x0 = [-40, 20]\n",
    "mygrid = gl.DbGrid.create(nx,dx,x0)\n",
    "\n",
    "err = gl.simtub(None,mygrid,mymodel,None,2)"
   ]
  },
  {
   "cell_type": "markdown",
   "metadata": {},
   "source": [
    "Add a dummy selection to test visualization with Selection"
   ]
  },
  {
   "cell_type": "code",
   "execution_count": null,
   "metadata": {},
   "outputs": [],
   "source": [
    "mygrid[\"sel\"] = 1. - (mygrid[\"x1\"] > 0) * (mygrid[\"x1\"] < 15) * (mygrid[\"x2\"] > 40) * (mygrid[\"x2\"] < 50)\n",
    "mygrid.setLocator(\"sel\",gl.ELoc.SEL)"
   ]
  },
  {
   "cell_type": "markdown",
   "metadata": {},
   "source": [
    "### Non Rotated Grid"
   ]
  },
  {
   "cell_type": "markdown",
   "metadata": {},
   "source": [
    "We simply represent the grid (using the defaulted color scale). As no variable nor representation is explicitely specified, the default variable is represented using the default representation (i.e. raster). The default variable is the first Z-locator variable (if any) or the variable created last in the file otherwise. "
   ]
  },
  {
   "cell_type": "code",
   "execution_count": null,
   "metadata": {
    "scrolled": true
   },
   "outputs": [],
   "source": [
    "dum = gp.raster(mygrid)"
   ]
  },
  {
   "cell_type": "markdown",
   "metadata": {},
   "source": [
    "This is the opportunity to describe the mechanism for calling the functions of gstlearn.plot.\n",
    "\n",
    "We have essentially 2 possible levels of calls:"
   ]
  },
  {
   "cell_type": "markdown",
   "metadata": {},
   "source": [
    "- the most elementary one. We initiate the figure (returned argument *fig*) and the canvas (returned argument *ax*) as a **geographical** figure. Then we add a raster visualization of the first simulation. The dedicated function (**raster**) returns a description of the intended facility (here a *QuadMesh*). This enables the user to elaborate on this returned argument. This form is dedicated to expert: the form of the next paragraph should be prefered."
   ]
  },
  {
   "cell_type": "code",
   "execution_count": null,
   "metadata": {},
   "outputs": [],
   "source": [
    "res = gp.raster(mygrid, name=\"Simu.1\", flagLegend=True)"
   ]
  },
  {
   "cell_type": "markdown",
   "metadata": {},
   "source": [
    "- a second version which suits with the object-based technique. The function **raster** has been added as a method for the matplotlib.Axes object (*ax*). On this case, we also added the isovalue representation of the second simulation outcome."
   ]
  },
  {
   "cell_type": "code",
   "execution_count": null,
   "metadata": {
    "scrolled": false
   },
   "outputs": [],
   "source": [
    "fig, ax = plt.subplots(1,1)\n",
    "plt.tight_layout(pad=2)\n",
    "ax.raster(mygrid, name=\"Simu.1\", flagLegend=True)\n",
    "ax.isoline(mygrid, name=\"Simu.2\", colors=\"yellow\")\n",
    "plt.show()"
   ]
  },
  {
   "cell_type": "markdown",
   "metadata": {},
   "source": [
    "We can also choose to use a representation per grid node. As a matter of fact, we wish to represent the grid nodes as a set of points, whose size will correspond to the first simulation and whose color will correspond to the second simulation.\n",
    "In this last representation, we will also provide a title and some specific labels on axes."
   ]
  },
  {
   "cell_type": "code",
   "execution_count": null,
   "metadata": {},
   "outputs": [],
   "source": [
    "fig, ax = plt.subplots()\n",
    "ax.symbol(mygrid,nameSize=\"Simu.1\",nameColor=\"Simu.2\")\n",
    "ax.decoration(title = \"Representing Grid nodes as Points\", xlabel=\"Easting\", ylabel=\"Northing\")\n",
    "plt.show()"
   ]
  },
  {
   "cell_type": "markdown",
   "metadata": {},
   "source": [
    "We can create a specific ColorScale, containing a limited number of colors, and sampling a given reference Color Scale. \n",
    "\n",
    "For the next figure, we use the one defaulted by the system ('viridis') for sake of understanding. We simply reduce the number of colors"
   ]
  },
  {
   "cell_type": "code",
   "execution_count": null,
   "metadata": {},
   "outputs": [],
   "source": [
    "cmap = gp.getColorMap(5,'viridis')\n",
    "fig, ax = plt.subplots()\n",
    "ax.raster(mygrid, name=\"Simu.1\", cmap=cmap, flagLegend=True)\n",
    "ax.decoration(title=\"Non-conditional Simulation on Grid\")\n",
    "plt.show()"
   ]
  },
  {
   "cell_type": "markdown",
   "metadata": {},
   "source": [
    "We can also change the reference color scale (using the one defaulted by the method getColorMap for example: 'gist rainbow') and increase the number of colors"
   ]
  },
  {
   "cell_type": "code",
   "execution_count": null,
   "metadata": {},
   "outputs": [],
   "source": [
    "cmap = gp.getColorMap(100)\n",
    "fig, ax = plt.subplots()\n",
    "ax.raster(mygrid,name=\"Simu.1\",cmap=cmap)\n",
    "ax.decoration(title=\"Non-conditional Simulation on Grid (other color scale)\")\n",
    "plt.show()"
   ]
  },
  {
   "cell_type": "markdown",
   "metadata": {},
   "source": [
    "We have the same type of functions (as demonstrated for points and/or grids) for objects such as histograms of the values collected in the a data base (e.g. a simulation outcome over the grid), calling the relevant function in an object-based fashion"
   ]
  },
  {
   "cell_type": "code",
   "execution_count": null,
   "metadata": {},
   "outputs": [],
   "source": [
    "fig, ax = plt.subplots()\n",
    "ax.histogram(mygrid,name=\"Simu.1\", bins=30, color='yellow', edgecolor=\"blue\")\n",
    "plt.show()"
   ]
  },
  {
   "cell_type": "markdown",
   "metadata": {},
   "source": [
    "Representing a scatter plot between two variables stored on the same Db. Note that 'cmin' is used to avoid coloring the grid meshes where the count of samples is zero."
   ]
  },
  {
   "cell_type": "code",
   "execution_count": null,
   "metadata": {},
   "outputs": [],
   "source": [
    "fig, ax = plt.subplots()\n",
    "ax.correlation(mygrid,\"Simu.1\",\"Simu.2\", bins=50, cmin=1)\n",
    "ax.decoration(title=\"Scatter Plot between two simulations\")\n",
    "plt.show()"
   ]
  },
  {
   "cell_type": "markdown",
   "metadata": {},
   "source": [
    "### Set of Points and Polygon"
   ]
  },
  {
   "cell_type": "markdown",
   "metadata": {},
   "source": [
    "A set of points is sampled from the previous Grid and stored in a new Point Db. The number of samples if fixed to 1% of the number of grid nodes."
   ]
  },
  {
   "cell_type": "code",
   "execution_count": null,
   "metadata": {},
   "outputs": [],
   "source": [
    "mypoint = gl.Db()\n",
    "mypoint.resetSamplingDb(mygrid,0.01)\n",
    "mypoint.display()"
   ]
  },
  {
   "cell_type": "markdown",
   "metadata": {},
   "source": [
    "We create a polygon as the convex hull of the samples"
   ]
  },
  {
   "cell_type": "code",
   "execution_count": null,
   "metadata": {},
   "outputs": [],
   "source": [
    "mypoly = gl.Polygons.createFromDb(mypoint)"
   ]
  },
  {
   "cell_type": "markdown",
   "metadata": {},
   "source": [
    "We now display the points (as no variable name is mentioned, the samples are posted using a constant size and color) and the polygon on top of the grid."
   ]
  },
  {
   "cell_type": "code",
   "execution_count": null,
   "metadata": {},
   "outputs": [],
   "source": [
    "fig, ax = plt.subplots()\n",
    "ax.raster(mygrid, name=\"Simu.1\")\n",
    "ax.symbol(mypoint, c=\"black\", flagLegendSize=True, flagLegendColor=True)\n",
    "ax.polygon(mypoly,flagFace=False, edgecolor='yellow', linewidth=2)\n",
    "plt.show()"
   ]
  },
  {
   "cell_type": "markdown",
   "metadata": {},
   "source": [
    "### Rotated grid (angle = 20 degrees)"
   ]
  },
  {
   "cell_type": "markdown",
   "metadata": {},
   "source": [
    "We create the same grid as before but with a rotation of 20 degrees. Note that the rotated grid does not have any selection."
   ]
  },
  {
   "cell_type": "code",
   "execution_count": null,
   "metadata": {},
   "outputs": [],
   "source": [
    "mygridr = gl.DbGrid.create(nx,dx,x0,[20,0])\n",
    "err = gl.simtub(None,mygridr,mymodel,nbsimu=2)"
   ]
  },
  {
   "cell_type": "code",
   "execution_count": null,
   "metadata": {
    "scrolled": true
   },
   "outputs": [],
   "source": [
    "fig, ax = plt.subplots()\n",
    "ax.raster(mygridr,name=\"Simu.1\")\n",
    "plt.show()"
   ]
  },
  {
   "cell_type": "markdown",
   "metadata": {},
   "source": [
    "A new set of Points is sampled from the rotated Grid. As the same seed is used, the ranks of the selected samples within the grid are the same. Furthermore, we generate the Polygon as the convex hull of the newly created Point db."
   ]
  },
  {
   "cell_type": "code",
   "execution_count": null,
   "metadata": {},
   "outputs": [],
   "source": [
    "mypointr = gl.Db()\n",
    "mypointr.resetSamplingDb(mygridr,0.01)\n",
    "mypolyr = gl.Polygons.createFromDb(mypointr)"
   ]
  },
  {
   "cell_type": "markdown",
   "metadata": {},
   "source": [
    "We represent again the three components (grid, points and polygon) on the same view"
   ]
  },
  {
   "cell_type": "code",
   "execution_count": null,
   "metadata": {},
   "outputs": [],
   "source": [
    "fig, ax = plt.subplots()\n",
    "ax.raster(mygridr, name=\"Simu.1\")\n",
    "ax.polygon(mypolyr,flagFace=False,edgecolor='yellow')\n",
    "ax.symbol(mypointr,c=\"black\")\n",
    "plt.show()"
   ]
  },
  {
   "cell_type": "markdown",
   "metadata": {},
   "source": [
    "Let us now add a selection in order to restrict the previous representation to the only non-masked samples"
   ]
  },
  {
   "cell_type": "code",
   "execution_count": null,
   "metadata": {},
   "outputs": [],
   "source": [
    "tab = mygridr.getColumn(\"x1\")\n",
    "sel = (np.asarray(tab) < 0).astype(float)\n",
    "mygridr.addSelection(tuple(sel),'sel')\n",
    "\n",
    "fig, ax = plt.subplots()\n",
    "ax.raster(mygridr,name=\"Simu.1\",useSel=True)\n",
    "plt.show()"
   ]
  },
  {
   "cell_type": "markdown",
   "metadata": {},
   "source": [
    "## Share legend between two plots\n",
    "This paragraph is meant to present the possibility of splitting a figure in two scenes, to represent a grid in each scene (for example) and share the (same) color scale for the two scenes."
   ]
  },
  {
   "cell_type": "code",
   "execution_count": null,
   "metadata": {
    "scrolled": true
   },
   "outputs": [],
   "source": [
    "fig, ax = plt.subplots(1,2, figsize=(20,6))\n",
    "vmin = -4\n",
    "vmax = +4\n",
    "ax[0].raster(mygrid,name=\"Simu.1\", useSel=False, vmin=vmin, vmax=vmax)\n",
    "ax[1].raster(mygrid,name=\"Simu.2\", useSel=False, vmin=vmin, vmax=vmax)\n",
    "\n",
    "fig.subplots_adjust(right=0.7)\n",
    "cbar_ax = fig.add_axes([0.75, 0.1, 0.02, 0.75])\n",
    "\n",
    "im = ax[0].collections[0] # get mappable described by the colorbar\n",
    "err = fig.colorbar(im, cax = cbar_ax)\n",
    "plt.show()"
   ]
  },
  {
   "cell_type": "markdown",
   "metadata": {},
   "source": [
    "## Display points with fixed colors\n",
    "\n",
    "In this paragraph, we wish to display sample points with given colors."
   ]
  },
  {
   "cell_type": "markdown",
   "metadata": {},
   "source": []
  },
  {
   "cell_type": "markdown",
   "metadata": {},
   "source": [
    "The values at sample locations (coordinates and variable values) are provided sample per sample in array called 'tab'."
   ]
  },
  {
   "cell_type": "code",
   "execution_count": null,
   "metadata": {},
   "outputs": [],
   "source": [
    "tab = [1., 1., 1., 2., 2., 3., 3., 3., 5.]\n",
    "dat1 = gl.Db.createFromSamples(3, gl.ELoadBy.SAMPLE, tab, names=[\"x\",\"y\",\"z\"], locatorNames=[\"x1\",\"x2\",\"z\"])\n",
    "dbfmt = gl.DbStringFormat.createFromFlags(flag_resume=True, flag_array=True)\n",
    "dat1.display(dbfmt)"
   ]
  },
  {
   "cell_type": "markdown",
   "metadata": {},
   "source": [
    "We represent the samples without using any pre-specified color map. The system uses the default color scale and assigns the lowest value to be represented to the first color and the largest value to the last color.\n",
    "For all subsequent graphics, the dimensions of the non-geographical plots is fixed."
   ]
  },
  {
   "cell_type": "code",
   "execution_count": null,
   "metadata": {},
   "outputs": [],
   "source": [
    "fig, ax = plt.subplots()\n",
    "ax.symbol(dat1,nameColor=\"z\",s=200)\n",
    "plt.show()"
   ]
  },
  {
   "cell_type": "markdown",
   "metadata": {},
   "source": [
    "Representing using a given color map (based on few colors [5]). The color scale is now discrete but the system still assigns the lowest value (i.e. 1) to the first color and the largest value (i.e. 5) to the last color"
   ]
  },
  {
   "cell_type": "code",
   "execution_count": null,
   "metadata": {},
   "outputs": [],
   "source": [
    "ncol = 5\n",
    "cmap = gp.getColorMap(ncol)\n",
    "fig, ax = plt.subplots()\n",
    "ax.symbol(dat1,nameColor=\"z\",s=200,cmap=cmap)\n",
    "plt.show()"
   ]
  },
  {
   "cell_type": "markdown",
   "metadata": {},
   "source": [
    "We use a new Db where the values at first sample has been modified (from 1 to 4) while the other have been left unchanged. We use the same color scale as before. Again the lowest value (i.e. 3) is assigned to the first color and the largest value (i.e. 5) to the last color."
   ]
  },
  {
   "cell_type": "code",
   "execution_count": null,
   "metadata": {},
   "outputs": [],
   "source": [
    "tab = [1., 1., 4., 2., 2., 3., 3., 3., 5.]\n",
    "dat2 = gl.Db.createFromSamples(3, gl.ELoadBy.SAMPLE, tab, [\"x\",\"y\",\"z\"], [\"x1\",\"x2\",\"z\"])\n",
    "\n",
    "fig, ax = plt.subplots()\n",
    "ax.symbol(dat2,nameColor=\"z\",s=200,cmap=cmap)\n",
    "plt.show()"
   ]
  },
  {
   "cell_type": "markdown",
   "metadata": {},
   "source": [
    "# Superimposing figures"
   ]
  },
  {
   "cell_type": "markdown",
   "metadata": {},
   "source": [
    "In this section, we demonstrate the possibilities offered by the graphics for working with multiple figures and overlaying graphics. This is described through the use of variograms and models.\n",
    "For this reason we consider the two non-conditional simulations created earllier on the existing grid. We calculate the simple and cross variograms along the two main axes of the grid and fit a model automatically.\n",
    "Finally, we can play with the experimental variogram calculated for two variables (then refering to simple and cross-variograms), and the fitted bivariate model."
   ]
  },
  {
   "cell_type": "code",
   "execution_count": null,
   "metadata": {},
   "outputs": [],
   "source": [
    "varioparam = gl.VarioParam.createMultipleFromGrid(mygrid, nlag=10)\n",
    "vario = gl.Vario(varioparam)\n",
    "err = vario.compute(mygrid, gl.ECalcVario.VARIOGRAM)\n",
    "\n",
    "model = gl.Model()\n",
    "err = model.fit(vario,[gl.ECov.CUBIC])"
   ]
  },
  {
   "cell_type": "markdown",
   "metadata": {},
   "source": [
    "### Several ways for displaying experimental variograms"
   ]
  },
  {
   "cell_type": "markdown",
   "metadata": {},
   "source": [
    "In the next graphic, we produce the simple variogram of the first variable calculated in the first direction. Note that in all subsequent plots, we will use the same dimension for the elementary plot (which is set as a default)"
   ]
  },
  {
   "cell_type": "code",
   "execution_count": null,
   "metadata": {
    "scrolled": true
   },
   "outputs": [],
   "source": [
    "fig, ax = plt.subplots()\n",
    "ax.variogram(vario, ivar=0, jvar=0, idir=0)\n",
    "ax.decoration(title=\"First (simple) Variable - First Direction\")\n",
    "plt.show()"
   ]
  },
  {
   "cell_type": "markdown",
   "metadata": {},
   "source": [
    "In the next graphic, we produce a single figure where the variograms of the first variable calculated in the first direction (black) and the second direction (red) are overlaid. The overlay is performed manually."
   ]
  },
  {
   "cell_type": "code",
   "execution_count": null,
   "metadata": {},
   "outputs": [],
   "source": [
    "fig, ax = plt.subplots()\n",
    "ax.variogram(vario, idir=0, ivar=0, jvar=0, color=\"black\")\n",
    "ax.variogram(vario, idir=1, ivar=0, jvar=0, color='red')\n",
    "ax.decoration(title=\"First (simple) Variable - Two directions\")\n",
    "plt.show()"
   ]
  },
  {
   "cell_type": "markdown",
   "metadata": {},
   "source": [
    "In the next graphic, we produce a single graphic where the cross-variograms between first and second variables are displayed for all directions. The colors are extracted from the Color Map provided as argument (here defaulted)."
   ]
  },
  {
   "cell_type": "code",
   "execution_count": null,
   "metadata": {},
   "outputs": [],
   "source": [
    "fig, ax = plt.subplots()\n",
    "ax.variogram(vario,ivar=1,jvar=0,idir=-1, flagLegend=True)\n",
    "ax.decoration(title=\"Cross-variogram - Two directions\")\n",
    "plt.show()"
   ]
  },
  {
   "cell_type": "markdown",
   "metadata": {},
   "source": [
    "In the next figure, we draw the first direction and overlay the second direction (on purpose using two statements). Moreover we also change the dimensions of the plot."
   ]
  },
  {
   "cell_type": "code",
   "execution_count": null,
   "metadata": {},
   "outputs": [],
   "source": [
    "fig, ax = plt.subplots()\n",
    "ax.variogram(vario,idir=0,ivar=0,jvar=0,cmap=cmap)\n",
    "ax.variogram(vario,idir=1,ivar=0,jvar=0)\n",
    "ax.decoration(title=\"Overlay test\")\n",
    "plt.show()"
   ]
  },
  {
   "cell_type": "markdown",
   "metadata": {},
   "source": [
    "All graphic representations that were produced up to now were essentially performed with either a single view (or Axes). The exercise performed earlier with two view in the same figure was handled by the user, calling **subplots** facility explicaitly.\n",
    "\n",
    "In the next examples, we will directly consider a figure consituted of many views. This is the case of the multivariate variograms and/or models. In other words, we wish to call the graphic representation, providing a single multivariate variogram and let the facility create all the necessary subplots. Moreover, we want to be able to consider this set of subplots (containing the experimental variograms for example) and overlay the model.\n",
    "\n",
    "This requires using the other argument (**fig**) returned by the graphic initialization function (**gp.init**) which is called passing the expected number of rows and columns to be present in the figure. In our case, as the variogram is calculated for 2 variables, the figure should contain 2 rows and 2 columns."
   ]
  },
  {
   "cell_type": "markdown",
   "metadata": {},
   "source": [
    "Representing all simple and cross variograms for all directions. "
   ]
  },
  {
   "cell_type": "code",
   "execution_count": null,
   "metadata": {
    "scrolled": true
   },
   "outputs": [],
   "source": [
    "nv = vario.getNVar()\n",
    "fig, axs = plt.subplots(nv,nv, figsize=(8,6))\n",
    "fig.variogram(vario,ivar=-1,jvar=-1,idir=-1,cmap=cmap)\n",
    "fig.decoration(title=\"Simple and Cross Variograms in all directions\")\n",
    "plt.show()"
   ]
  },
  {
   "cell_type": "markdown",
   "metadata": {},
   "source": [
    "### Several ways for representing the Model"
   ]
  },
  {
   "cell_type": "markdown",
   "metadata": {},
   "source": [
    "Represent the Model calculated for the second variable. If the Model is not isotropic, the plot should differ per direction: as direction has not been mentionned, the first direction (of the geographic sysrtem) is used by default."
   ]
  },
  {
   "cell_type": "code",
   "execution_count": null,
   "metadata": {},
   "outputs": [],
   "source": [
    "fig, ax = plt.subplots()\n",
    "ax.model(model,ivar=1,jvar=1)\n",
    "ax.decoration(title=\"Model for the Second Variable in First Direction\")\n",
    "plt.show()"
   ]
  },
  {
   "cell_type": "markdown",
   "metadata": {},
   "source": [
    "Representing all simple and cross variograms together with the fitted model for the all directions."
   ]
  },
  {
   "cell_type": "code",
   "execution_count": null,
   "metadata": {
    "scrolled": true
   },
   "outputs": [],
   "source": [
    "nv = vario.getNVar()\n",
    "fig, axs = plt.subplots(nv,nv, figsize=(12,8))\n",
    "fig.varmod(vario=vario, model=model, cmap=cmap)\n",
    "fig.decoration(title=\"All variograms and Model\")\n",
    "plt.show()"
   ]
  },
  {
   "cell_type": "markdown",
   "metadata": {},
   "source": [
    "### Testing figure Overlay"
   ]
  },
  {
   "cell_type": "markdown",
   "metadata": {},
   "source": [
    "The next figure is meant to demonstrate the overlay possibilities. We first represent the experimental variograms for all variable (in the first direction only to be legible). Then we overlay the model ... only over the experimental simple variogram of the second variable (in dashed blue)."
   ]
  },
  {
   "cell_type": "code",
   "execution_count": null,
   "metadata": {},
   "outputs": [],
   "source": [
    "nv = vario.getNVar()\n",
    "fig, axs = plt.subplots(nv,nv)\n",
    "fig.variogram(vario=vario,idir=0,ivar=-1,jvar=-1,cmap=cmap)\n",
    "axs[1,1].model(model,ivar=1,jvar=1,hmax = vario.getHmax(),\n",
    "               linestyle = 'dashed', color='blue')\n",
    "fig.decoration(title=\"Overlay test\")\n",
    "plt.show()"
   ]
  }
 ],
 "metadata": {
  "kernelspec": {
   "display_name": "Python 3",
   "language": "python",
   "name": "python3"
  },
  "language_info": {
   "codemirror_mode": {
    "name": "ipython",
    "version": 3
   },
   "file_extension": ".py",
   "mimetype": "text/x-python",
   "name": "python",
   "nbconvert_exporter": "python",
   "pygments_lexer": "ipython3",
   "version": "3.10.5"
  },
  "toc": {
   "base_numbering": 1,
   "nav_menu": {},
   "number_sections": true,
   "sideBar": true,
   "skip_h1_title": false,
   "title_cell": "Table of Contents",
   "title_sidebar": "Contents",
   "toc_cell": false,
   "toc_position": {},
   "toc_section_display": true,
   "toc_window_display": false
  }
 },
 "nbformat": 4,
 "nbformat_minor": 4
}
