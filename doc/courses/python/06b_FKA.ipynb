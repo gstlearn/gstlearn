{
 "cells": [
  {
   "cell_type": "markdown",
   "id": "7718c2a8",
   "metadata": {},
   "source": [
    "# Factorial Kriging Analysis"
   ]
  },
  {
   "cell_type": "markdown",
   "id": "3c646825",
   "metadata": {},
   "source": [
    "<!-- SUMMARY: Filtering images using Factorial Kriging Analysis. Example on a multivariate acquisition  -->\n",
    "\n",
    "<!-- CATEGORY: Courses -->"
   ]
  },
  {
   "cell_type": "code",
   "execution_count": null,
   "id": "4a88fcd6",
   "metadata": {},
   "outputs": [],
   "source": [
    "%%javascript\n",
    "IPython.OutputArea.prototype._should_scroll = function(lines) {\n",
    "    return false;\n",
    "}"
   ]
  },
  {
   "cell_type": "code",
   "execution_count": null,
   "id": "145a5aa5",
   "metadata": {},
   "outputs": [],
   "source": [
    "import gstlearn as gl\n",
    "import gstlearn.plot as gp\n",
    "import matplotlib.pyplot as plt\n",
    "import numpy as np\n",
    "import os\n",
    "import urllib.request\n",
    "\n",
    "flagInternetAvailable = True ## Set to false if no internet"
   ]
  },
  {
   "cell_type": "markdown",
   "id": "f89f7991",
   "metadata": {},
   "source": [
    "The Grid containing the information is downloaded from the distribution.\n",
    "\n",
    "The loaded file (called **grid **) contains 3 variables:\n",
    "\n",
    "- **P** (phosphorus) which is the *variable of interest*\n",
    "- **Cr** (chromium) is an auxiliary variable\n",
    "- **Ni** (nickel) another auxiliary variable\n"
   ]
  },
  {
   "cell_type": "code",
   "execution_count": null,
   "id": "9c53f8cf",
   "metadata": {},
   "outputs": [],
   "source": [
    "fileImage='Image.ascii'\n",
    "if flagInternetAvailable:\n",
    "    fileNF, head = urllib.request.urlretrieve('https://soft.minesparis.psl.eu/gstlearn/data/FKA/'+fileImage,'./'+fileImage)\n",
    "else:\n",
    "    fileNF='./'+fileImage\n",
    "\n",
    "grid = gl.DbGrid.createFromNF(fileNF)\n",
    "ndim = 2\n",
    "gl.defineDefaultSpace(gl.ESpaceType.RN, ndim)"
   ]
  },
  {
   "cell_type": "code",
   "execution_count": null,
   "id": "56856765",
   "metadata": {
    "scrolled": true
   },
   "outputs": [],
   "source": [
    "dbfmt = gl.DbStringFormat()\n",
    "dbfmt.setFlags(flag_resume=False,flag_vars=False,flag_stats=True, names=\"P\")\n",
    "grid.display(dbfmt)"
   ]
  },
  {
   "cell_type": "markdown",
   "id": "463b47f6",
   "metadata": {},
   "source": [
    "Note that some pixels are not informed for variable **P**."
   ]
  },
  {
   "cell_type": "markdown",
   "id": "17c873ab",
   "metadata": {},
   "source": [
    "Statistics on auxiliary variables"
   ]
  },
  {
   "cell_type": "code",
   "execution_count": null,
   "id": "045e4c40",
   "metadata": {
    "scrolled": true
   },
   "outputs": [],
   "source": [
    "dbfmt.setFlags(flag_vars=False, flag_resume=True, flag_stats=True, names=[\"Cr\", \"Ni\"])\n",
    "grid.display(dbfmt)"
   ]
  },
  {
   "cell_type": "markdown",
   "id": "342af193",
   "metadata": {},
   "source": [
    "Correlation between variables"
   ]
  },
  {
   "cell_type": "code",
   "execution_count": null,
   "id": "84c71218",
   "metadata": {
    "scrolled": true
   },
   "outputs": [],
   "source": [
    "ax = gp.correlation(grid, namex=\"Cr\", namey=\"P\", bins=100)"
   ]
  },
  {
   "cell_type": "code",
   "execution_count": null,
   "id": "e2c22ff7",
   "metadata": {
    "scrolled": true
   },
   "outputs": [],
   "source": [
    "ax = gp.correlation(grid, namex=\"Ni\", namey=\"P\", bins=100)"
   ]
  },
  {
   "cell_type": "code",
   "execution_count": null,
   "id": "891ad932",
   "metadata": {
    "scrolled": true
   },
   "outputs": [],
   "source": [
    "ax = gp.correlation(grid, namex=\"Ni\", namey=\"Cr\", bins=100)"
   ]
  },
  {
   "cell_type": "markdown",
   "id": "f9f72fde",
   "metadata": {},
   "source": [
    "Using inverse square distance for completing the variable **P**"
   ]
  },
  {
   "cell_type": "code",
   "execution_count": null,
   "id": "c6e3a887",
   "metadata": {},
   "outputs": [],
   "source": [
    "grid.setLocator(\"P\", gl.ELoc.Z)\n",
    "err = gl.db_grid_fill(grid)"
   ]
  },
  {
   "cell_type": "markdown",
   "id": "38c6e4d3",
   "metadata": {},
   "source": [
    "We concentrate on the variable of interest **P** completed (**Fill.P**) in the next operations"
   ]
  },
  {
   "cell_type": "code",
   "execution_count": null,
   "id": "0689f251",
   "metadata": {
    "scrolled": false
   },
   "outputs": [],
   "source": [
    "gp.setDefaultGeographic(dims=[8,8])\n",
    "ax = grid.plot(\"Fill.P\")"
   ]
  },
  {
   "cell_type": "markdown",
   "id": "85dc159e",
   "metadata": {},
   "source": [
    "Variogram Calculation along Grid main axes"
   ]
  },
  {
   "cell_type": "code",
   "execution_count": null,
   "id": "a6de855d",
   "metadata": {
    "scrolled": true
   },
   "outputs": [],
   "source": [
    "varioparam = gl.VarioParam.createMultipleFromGrid(grid, npas=100)\n",
    "varioP = gl.Vario(varioparam, grid)\n",
    "err = varioP.compute()\n",
    "modelP = gl.Model()\n",
    "err = modelP.fit(varioP, types=[gl.ECov.NUGGET, gl.ECov.SPHERICAL, gl.ECov.POWER],\n",
    "                 optvar=gl.Option_VarioFit(True, False))\n",
    "modelP.setDriftIRF(0,0)"
   ]
  },
  {
   "cell_type": "code",
   "execution_count": null,
   "id": "bb97dc31",
   "metadata": {
    "scrolled": true
   },
   "outputs": [],
   "source": [
    "ax = gp.varmod(varioP, modelP)"
   ]
  },
  {
   "cell_type": "markdown",
   "id": "02546a4f",
   "metadata": {},
   "source": [
    "We must define the **Neighborhood**"
   ]
  },
  {
   "cell_type": "code",
   "execution_count": null,
   "id": "b622ea51",
   "metadata": {},
   "outputs": [],
   "source": [
    "neigh = gl.NeighImage([10,10])"
   ]
  },
  {
   "cell_type": "markdown",
   "id": "ebc85327",
   "metadata": {},
   "source": [
    "The **image** neighborhood is based on $(2*10+1)^2=441$ pixels (centered on the target pixel).\n",
    "\n",
    "During the estimation, only the contribution of second and third basic structures are kept (Nugget Effect is filtered out): ** Factorial Kriging Analysis**."
   ]
  },
  {
   "cell_type": "code",
   "execution_count": null,
   "id": "d408ec44",
   "metadata": {},
   "outputs": [],
   "source": [
    "modelP.setCovaFiltered(0, True)\n",
    "means = gl.dbStatisticsMono(grid,[\"Fill.P\"],[gl.EStatOption.MEAN]).getValues()\n",
    "modelP.setMeans(means)\n",
    "modelP"
   ]
  },
  {
   "cell_type": "code",
   "execution_count": null,
   "id": "657386e2",
   "metadata": {},
   "outputs": [],
   "source": [
    "err  = gl.krimage(grid,modelP,neigh,namconv=gl.NamingConvention(\"Mono\"))"
   ]
  },
  {
   "cell_type": "code",
   "execution_count": null,
   "id": "db6e77ab",
   "metadata": {
    "scrolled": true
   },
   "outputs": [],
   "source": [
    "ax = grid.plot(\"Mono*.P\")\n",
    "ax.decoration(title=\"P denoised (monovariate)\")"
   ]
  },
  {
   "cell_type": "markdown",
   "id": "3e4e6e78",
   "metadata": {},
   "source": [
    "Correlation for **P** variable between Initial image (completed) and its Filtered version (monovariate FKA)"
   ]
  },
  {
   "cell_type": "code",
   "execution_count": null,
   "id": "e1aee9ca",
   "metadata": {},
   "outputs": [],
   "source": [
    "grid"
   ]
  },
  {
   "cell_type": "code",
   "execution_count": null,
   "id": "401565f5",
   "metadata": {
    "scrolled": true
   },
   "outputs": [],
   "source": [
    "ax = gp.correlation(grid, namex=\"Fill.P\", namey=\"Mono.Fill.P\", bins=100)\n",
    "ax.decoration(xlabel=\"P Filled\",ylabel=\"P Filtered (Mono)\")"
   ]
  },
  {
   "cell_type": "markdown",
   "id": "f5256020",
   "metadata": {},
   "source": [
    "## Multivariate approach"
   ]
  },
  {
   "cell_type": "code",
   "execution_count": null,
   "id": "9fbb3ca4",
   "metadata": {},
   "outputs": [],
   "source": [
    "grid.setLocators([\"Fill.P\", \"Cr\", \"Ni\"], gl.ELoc.Z)\n",
    "\n",
    "varioM = gl.Vario(varioparam, grid)\n",
    "err = varioM.compute()\n",
    "modelM = gl.Model()\n",
    "err = modelM.fit(varioM, types=[gl.ECov.NUGGET, gl.ECov.SPHERICAL, gl.ECov.POWER],\n",
    "                 optvar=gl.Option_VarioFit(True, False))\n",
    "modelM.setDriftIRF(0,0)"
   ]
  },
  {
   "cell_type": "code",
   "execution_count": null,
   "id": "7fc3f690",
   "metadata": {
    "scrolled": true
   },
   "outputs": [],
   "source": [
    "ax = gp.varmod(varioM, modelM)"
   ]
  },
  {
   "cell_type": "markdown",
   "id": "f4f1d792",
   "metadata": {},
   "source": [
    "Printing the contents of the fitted Multivariate Mpdel"
   ]
  },
  {
   "cell_type": "code",
   "execution_count": null,
   "id": "d6401f0d",
   "metadata": {
    "scrolled": true
   },
   "outputs": [],
   "source": [
    "modelM.setCovaFiltered(0, True)\n",
    "means = gl.dbStatisticsMono(grid,[\"Fill.P\", \"Cr\", \"Ni\"],[gl.EStatOption.MEAN]).getValues()\n",
    "modelM.setMeans(means)\n",
    "modelM"
   ]
  },
  {
   "cell_type": "markdown",
   "id": "bf1d06df",
   "metadata": {},
   "source": [
    "Multivariable Factorial Kriging Analysis"
   ]
  },
  {
   "cell_type": "code",
   "execution_count": null,
   "id": "8b2acdbd",
   "metadata": {},
   "outputs": [],
   "source": [
    "err  = gl.krimage(grid,modelM,neigh,namconv=gl.NamingConvention(\"Multi\"))"
   ]
  },
  {
   "cell_type": "markdown",
   "id": "924e460b",
   "metadata": {},
   "source": [
    "Note that, using the same **neigh** as in monovariate, the dimension of the Kriging System is now $3 * 441 = 1323$"
   ]
  },
  {
   "cell_type": "code",
   "execution_count": null,
   "id": "c04e4a90",
   "metadata": {
    "scrolled": true
   },
   "outputs": [],
   "source": [
    "ax = grid.plot(\"Multi*.P\")\n",
    "ax.decoration(title=\"P denoised (multivariate)\")"
   ]
  },
  {
   "cell_type": "markdown",
   "id": "2446e058",
   "metadata": {},
   "source": [
    "Correlation for **P** variable between Initial image and its Filtered version (multivariate FKA)"
   ]
  },
  {
   "cell_type": "code",
   "execution_count": null,
   "id": "e18be44a",
   "metadata": {
    "scrolled": true
   },
   "outputs": [],
   "source": [
    "ax = gp.correlation(grid, namex=\"Fill.P\", namey=\"Multi.Fill.P\", bins=100)\n",
    "ax.decoration(xlabel=\"P Filled\",ylabel=\"P Filtered (Multi)\")"
   ]
  },
  {
   "cell_type": "markdown",
   "id": "18711729",
   "metadata": {},
   "source": [
    "Correlation for **P** filtered variable between he Monovariate and the Multivariate case"
   ]
  },
  {
   "cell_type": "code",
   "execution_count": null,
   "id": "2969173f",
   "metadata": {},
   "outputs": [],
   "source": [
    "ax = gp.correlation(grid, namex=\"Mono.Fill.P\", namey=\"Multi.Fill.P\", bins=100)\n",
    "ax.decoration(xlabel=\"P Filtered (Mono)\",ylabel=\"P Filtered (Multi)\")"
   ]
  }
 ],
 "metadata": {
  "kernelspec": {
   "display_name": "Python 3 (ipykernel)",
   "language": "python",
   "name": "python3"
  },
  "language_info": {
   "codemirror_mode": {
    "name": "ipython",
    "version": 3
   },
   "file_extension": ".py",
   "mimetype": "text/x-python",
   "name": "python",
   "nbconvert_exporter": "python",
   "pygments_lexer": "ipython3",
   "version": "3.10.5"
  },
  "toc": {
   "base_numbering": 1,
   "nav_menu": {},
   "number_sections": true,
   "sideBar": true,
   "skip_h1_title": false,
   "title_cell": "Table of Contents",
   "title_sidebar": "Contents",
   "toc_cell": false,
   "toc_position": {},
   "toc_section_display": true,
   "toc_window_display": false
  }
 },
 "nbformat": 4,
 "nbformat_minor": 5
}
