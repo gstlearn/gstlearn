{
 "cells": [
  {
   "cell_type": "markdown",
   "id": "82877edc",
   "metadata": {},
   "source": [
    "# Factorial Kriging Analysis"
   ]
  },
  {
   "cell_type": "markdown",
   "id": "ce46b51f",
   "metadata": {},
   "source": [
    "<!-- SUMMARY: Filtering images using Factorial Kriging Analysis. Example on a multivariate acquisition  -->\n",
    "\n",
    "<!-- CATEGORY: Courses -->"
   ]
  },
  {
   "cell_type": "code",
   "execution_count": null,
   "id": "56609dec",
   "metadata": {},
   "outputs": [],
   "source": [
    "import gstlearn as gl\n",
    "import gstlearn.plot as gp\n",
    "import gstlearn.document as gdoc\n",
    "import numpy as np\n",
    "import os\n",
    "\n",
    "gdoc.setNoScroll()\n",
    "gl.OptCst.define(gl.ECst.NTROW, -1)\n",
    "gl.OptCst.define(gl.ECst.NTCOL, -1)\n",
    "gl.OptCst.define(gl.ECst.NTCAR, 15)\n",
    "\n",
    "figsize=(8,8)"
   ]
  },
  {
   "cell_type": "markdown",
   "id": "e31be7b1",
   "metadata": {},
   "source": [
    "The Grid containing the information is downloaded from the distribution.\n",
    "\n",
    "The loaded file (called **grid **) contains 3 variables:\n",
    "\n",
    "- **P** (phosphorus) which is the *variable of interest*\n",
    "- **Cr** (chromium) is an auxiliary variable\n",
    "- **Ni** (nickel) another auxiliary variable\n"
   ]
  },
  {
   "cell_type": "code",
   "execution_count": null,
   "id": "d085369f",
   "metadata": {},
   "outputs": [],
   "source": [
    "fileNF = gdoc.loadData(\"FKA\", \"Image.ascii\")\n",
    "grid = gl.DbGrid.createFromNF(fileNF)\n",
    "ndim = 2\n",
    "gl.defineDefaultSpace(gl.ESpaceType.RN, ndim)"
   ]
  },
  {
   "cell_type": "code",
   "execution_count": null,
   "id": "afd38847",
   "metadata": {},
   "outputs": [],
   "source": [
    "dbfmt = gl.DbStringFormat()\n",
    "dbfmt.setFlags(flag_resume=False,flag_vars=False,flag_stats=True, names=\"P\")\n",
    "grid.display(dbfmt)"
   ]
  },
  {
   "cell_type": "markdown",
   "id": "29d4b9bb",
   "metadata": {},
   "source": [
    "Note that some pixels are not informed for variable **P**."
   ]
  },
  {
   "cell_type": "markdown",
   "id": "db6c42ad",
   "metadata": {},
   "source": [
    "Statistics on auxiliary variables"
   ]
  },
  {
   "cell_type": "code",
   "execution_count": null,
   "id": "1db2190a",
   "metadata": {},
   "outputs": [],
   "source": [
    "dbfmt.setFlags(flag_vars=False, flag_resume=True, flag_stats=True, names=[\"Cr\", \"Ni\"])\n",
    "grid.display(dbfmt)"
   ]
  },
  {
   "cell_type": "markdown",
   "id": "373921ca",
   "metadata": {},
   "source": [
    "Correlation between variables"
   ]
  },
  {
   "cell_type": "code",
   "execution_count": null,
   "id": "67efc869",
   "metadata": {},
   "outputs": [],
   "source": [
    "res = gp.correlation(grid, namex=\"Cr\", namey=\"P\", bins=100, cmin=1)"
   ]
  },
  {
   "cell_type": "code",
   "execution_count": null,
   "id": "f89f85fd",
   "metadata": {},
   "outputs": [],
   "source": [
    "res = gp.correlation(grid, namex=\"Ni\", namey=\"P\", bins=100, cmin=1)"
   ]
  },
  {
   "cell_type": "code",
   "execution_count": null,
   "id": "b827f68e",
   "metadata": {},
   "outputs": [],
   "source": [
    "res = gp.correlation(grid, namex=\"Ni\", namey=\"Cr\", bins=100, cmin=1)"
   ]
  },
  {
   "cell_type": "markdown",
   "id": "ea2d8f78",
   "metadata": {},
   "source": [
    "Using inverse square distance for completing the variable **P**"
   ]
  },
  {
   "cell_type": "code",
   "execution_count": null,
   "id": "cf3e79ae",
   "metadata": {},
   "outputs": [],
   "source": [
    "grid.setLocator(\"P\", gl.ELoc.Z)\n",
    "err = gl.DbHelper.dbgrid_filling(grid,0,13432,1)"
   ]
  },
  {
   "cell_type": "markdown",
   "id": "3d613a3d",
   "metadata": {},
   "source": [
    "We concentrate on the variable of interest **P** completed (**Fill.P**) in the next operations"
   ]
  },
  {
   "cell_type": "code",
   "execution_count": null,
   "id": "38e14f29",
   "metadata": {},
   "outputs": [],
   "source": [
    "fig, ax = gp.init(figsize=figsize, flagEqual=True)\n",
    "ax.raster(grid,\"Fill.P\")\n",
    "gp.close()"
   ]
  },
  {
   "cell_type": "markdown",
   "id": "fa92c2cd",
   "metadata": {},
   "source": [
    "Variogram Calculation along Grid main axes"
   ]
  },
  {
   "cell_type": "code",
   "execution_count": null,
   "id": "21f076bd",
   "metadata": {},
   "outputs": [],
   "source": [
    "varnames = [\"Fill.P\"]\n",
    "varioparam = gl.VarioParam.createMultipleFromGrid(grid, nlag=100)\n",
    "varioP = gl.Vario(varioparam)\n",
    "err = varioP.compute(grid)\n",
    "modelP = gl.Model()\n",
    "types = [gl.ECov.NUGGET, gl.ECov.SPHERICAL]\n",
    "err = modelP.fit(varioP, types=types, optvar=gl.Option_VarioFit(True, False))\n",
    "modelP.setDriftIRF(0,0)\n",
    "\n",
    "modelP.setCovFiltered(0, True)\n",
    "means = gl.dbStatisticsMono(grid,varnames,[gl.EStatOption.MEAN]).getValues()\n",
    "modelP.setMeans(means)\n",
    "\n",
    "modelP"
   ]
  },
  {
   "cell_type": "code",
   "execution_count": null,
   "id": "2eee6d9c",
   "metadata": {},
   "outputs": [],
   "source": [
    "res = gp.varmod(varioP, modelP)"
   ]
  },
  {
   "cell_type": "markdown",
   "id": "f6af88b6",
   "metadata": {},
   "source": [
    "We must define the **Neighborhood**"
   ]
  },
  {
   "cell_type": "code",
   "execution_count": null,
   "id": "2aca3401",
   "metadata": {},
   "outputs": [],
   "source": [
    "neigh = gl.NeighImage([5,5])"
   ]
  },
  {
   "cell_type": "markdown",
   "id": "d43cb48d",
   "metadata": {},
   "source": [
    "The **image** neighborhood is based on $(2*10+1)^2=441$ pixels (centered on the target pixel).\n",
    "\n",
    "During the estimation, only the contribution of second and third basic structures are kept (Nugget Effect is filtered out): **Factorial Kriging Analysis**."
   ]
  },
  {
   "cell_type": "code",
   "execution_count": null,
   "id": "c7b300d6",
   "metadata": {},
   "outputs": [],
   "source": [
    "err  = gl.krimage(grid,modelP,neigh,flagFFT=True, verbose=True,namconv=gl.NamingConvention(\"Mono\"))"
   ]
  },
  {
   "cell_type": "code",
   "execution_count": null,
   "id": "486ccfc7",
   "metadata": {},
   "outputs": [],
   "source": [
    "fig, ax = gp.init(1,2, figsize=figsize, flagEqual=True)\n",
    "ax[0].raster(grid,\"Fill.P\")\n",
    "ax[1].raster(grid,\"Mono*.P\")\n",
    "fig.decoration(title=\"Filtering P (monovariate)\")"
   ]
  },
  {
   "cell_type": "markdown",
   "id": "57002a94",
   "metadata": {},
   "source": [
    "Correlation for **P** variable between Initial image (completed) and its Filtered version (monovariate FKA)"
   ]
  },
  {
   "cell_type": "code",
   "execution_count": null,
   "id": "d8b2704c",
   "metadata": {},
   "outputs": [],
   "source": [
    "gp.correlation(grid, namex=\"Fill.P\", namey=\"Mono.Fill.P\", bins=100, cmin=1)\n",
    "gp.decoration(xlabel=\"P Filled\",ylabel=\"P Filtered (Mono)\")"
   ]
  },
  {
   "cell_type": "markdown",
   "id": "ec4028e9",
   "metadata": {},
   "source": [
    "## Multivariate approach"
   ]
  },
  {
   "cell_type": "markdown",
   "id": "949ff4b2",
   "metadata": {},
   "source": [
    "Having a look at the two covariables"
   ]
  },
  {
   "cell_type": "code",
   "execution_count": null,
   "id": "ffc34831",
   "metadata": {},
   "outputs": [],
   "source": [
    "fig, ax = gp.init(1,2, figsize=figsize, flagEqual=True)\n",
    "ax[0].raster(grid,\"Cr\")\n",
    "ax[1].raster(grid,\"Ni\")\n",
    "fig.decoration(title=\"Covariables\")"
   ]
  },
  {
   "cell_type": "code",
   "execution_count": null,
   "id": "7345caab",
   "metadata": {},
   "outputs": [],
   "source": [
    "varnames = [\"Fill.P\", \"Ni\", \"Cr\"]\n",
    "grid.setLocators(varnames, gl.ELoc.Z)\n",
    "\n",
    "varioM = gl.Vario(varioparam)\n",
    "err = varioM.compute(grid)\n",
    "modelM = gl.Model()\n",
    "err = modelM.fit(varioM, types=types, optvar=gl.Option_VarioFit(True, False))\n",
    "modelM.setDriftIRF(0,0)\n",
    "\n",
    "modelM.setCovFiltered(0, True)\n",
    "means = gl.dbStatisticsMono(grid,varnames,[gl.EStatOption.MEAN]).getValues()\n",
    "modelM.setMeans(means)\n",
    "modelM"
   ]
  },
  {
   "cell_type": "code",
   "execution_count": null,
   "id": "fd9662bb",
   "metadata": {},
   "outputs": [],
   "source": [
    "res = gp.varmod(varioM, modelM)"
   ]
  },
  {
   "cell_type": "markdown",
   "id": "cfbc9af6",
   "metadata": {},
   "source": [
    "Multivariable Factorial Kriging Analysis"
   ]
  },
  {
   "cell_type": "code",
   "execution_count": null,
   "id": "15402b0a",
   "metadata": {},
   "outputs": [],
   "source": [
    "err  = gl.krimage(grid,modelM,neigh,flagFFT=True,verbose=True,namconv=gl.NamingConvention(\"Multi\"))"
   ]
  },
  {
   "cell_type": "markdown",
   "id": "fb67c7c9",
   "metadata": {},
   "source": [
    "Note that, using the same **neigh** as in monovariate, the dimension of the Kriging System is now $3 * 441 = 1323$"
   ]
  },
  {
   "cell_type": "code",
   "execution_count": null,
   "id": "cc54b97b",
   "metadata": {},
   "outputs": [],
   "source": [
    "fig, ax = gp.init(1,2, figsize=figsize, flagEqual=True)\n",
    "ax[0].raster(grid,\"Mono*.P\")\n",
    "ax[1].raster(grid,\"Multi*.P\")\n",
    "fig.decoration(title=\"P filtered\")"
   ]
  },
  {
   "cell_type": "markdown",
   "id": "334af521",
   "metadata": {},
   "source": [
    "Correlation for **P** variable between Initial image and its Filtered version (multivariate FKA)"
   ]
  },
  {
   "cell_type": "code",
   "execution_count": null,
   "id": "220ba487",
   "metadata": {},
   "outputs": [],
   "source": [
    "gp.correlation(grid, namex=\"Fill.P\", namey=\"Multi.Fill.P\", bins=100, cmin=1)\n",
    "gp.decoration(xlabel=\"P Filled\",ylabel=\"P Filtered (Multi)\")"
   ]
  },
  {
   "cell_type": "markdown",
   "id": "1d9f100f",
   "metadata": {},
   "source": [
    "Correlation for **P** filtered variable between the Monovariate and the Multivariate case"
   ]
  },
  {
   "cell_type": "code",
   "execution_count": null,
   "id": "646f1214",
   "metadata": {},
   "outputs": [],
   "source": [
    "gp.correlation(grid, namex=\"Mono.Fill.P\", namey=\"Multi.Fill.P\", bins=100, cmin=1)\n",
    "gp.decoration(xlabel=\"P Filtered (Mono)\",ylabel=\"P Filtered (Multi)\")"
   ]
  }
 ],
 "metadata": {
  "kernelspec": {
   "display_name": "Python 3 (ipykernel)",
   "language": "python",
   "name": "python3"
  },
  "language_info": {
   "codemirror_mode": {
    "name": "ipython",
    "version": 3
   },
   "file_extension": ".py",
   "mimetype": "text/x-python",
   "name": "python",
   "nbconvert_exporter": "python",
   "pygments_lexer": "ipython3",
   "version": "3.10.5"
  },
  "toc": {
   "base_numbering": 1,
   "nav_menu": {},
   "number_sections": true,
   "sideBar": true,
   "skip_h1_title": false,
   "title_cell": "Table of Contents",
   "title_sidebar": "Contents",
   "toc_cell": false,
   "toc_position": {},
   "toc_section_display": true,
   "toc_window_display": false
  }
 },
 "nbformat": 4,
 "nbformat_minor": 5
}
