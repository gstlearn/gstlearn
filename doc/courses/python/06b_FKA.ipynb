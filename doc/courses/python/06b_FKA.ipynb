{
 "cells": [
  {
   "cell_type": "markdown",
   "id": "925194b0",
   "metadata": {},
   "source": [
    "# Factorial Kriging Analysis"
   ]
  },
  {
   "cell_type": "markdown",
   "id": "9a8c8a04",
   "metadata": {},
   "source": [
    "<!-- SUMMARY: Filtering images using Factorial Kriging Analysis. Example on a multivariate acquisition  -->\n",
    "\n",
    "<!-- CATEGORY: Courses -->"
   ]
  },
  {
   "cell_type": "code",
   "execution_count": null,
   "id": "35b85a28",
   "metadata": {},
   "outputs": [],
   "source": [
    "import gstlearn as gl\n",
    "import gstlearn.plot as gp\n",
    "import gstlearn.document as gdoc\n",
    "import matplotlib.pyplot as plt\n",
    "import numpy as np\n",
    "import os\n",
    "\n",
    "gdoc.setNoScroll()\n",
    "gl.OptCst.define(gl.ECst.NTROW, -1)\n",
    "gl.OptCst.define(gl.ECst.NTCOL, -1)\n",
    "gl.OptCst.define(gl.ECst.NTCAR, 15)\n",
    "\n",
    "figsize=(8,8)"
   ]
  },
  {
   "cell_type": "markdown",
   "id": "ff612394",
   "metadata": {},
   "source": [
    "The Grid containing the information is downloaded from the distribution.\n",
    "\n",
    "The loaded file (called **grid **) contains 3 variables:\n",
    "\n",
    "- **P** (phosphorus) which is the *variable of interest*\n",
    "- **Cr** (chromium) is an auxiliary variable\n",
    "- **Ni** (nickel) another auxiliary variable\n"
   ]
  },
  {
   "cell_type": "code",
   "execution_count": null,
   "id": "57f511d1",
   "metadata": {},
   "outputs": [],
   "source": [
    "fileNF = gdoc.loadData(\"FKA\", \"Image.ascii\")\n",
    "grid = gl.DbGrid.createFromNF(fileNF)\n",
    "ndim = 2\n",
    "gl.defineDefaultSpace(gl.ESpaceType.RN, ndim)"
   ]
  },
  {
   "cell_type": "code",
   "execution_count": null,
   "id": "aeec78e2",
   "metadata": {},
   "outputs": [],
   "source": [
    "dbfmt = gl.DbStringFormat()\n",
    "dbfmt.setFlags(flag_resume=False,flag_vars=False,flag_stats=True, names=\"P\")\n",
    "grid.display(dbfmt)"
   ]
  },
  {
   "cell_type": "markdown",
   "id": "b4182fab",
   "metadata": {},
   "source": [
    "Note that some pixels are not informed for variable **P**."
   ]
  },
  {
   "cell_type": "markdown",
   "id": "d8a1f0ef",
   "metadata": {},
   "source": [
    "Statistics on auxiliary variables"
   ]
  },
  {
   "cell_type": "code",
   "execution_count": null,
   "id": "0f082032",
   "metadata": {},
   "outputs": [],
   "source": [
    "dbfmt.setFlags(flag_vars=False, flag_resume=True, flag_stats=True, names=[\"Cr\", \"Ni\"])\n",
    "grid.display(dbfmt)"
   ]
  },
  {
   "cell_type": "markdown",
   "id": "7eeb7bdd",
   "metadata": {},
   "source": [
    "Correlation between variables"
   ]
  },
  {
   "cell_type": "code",
   "execution_count": null,
   "id": "66bbceec",
   "metadata": {},
   "outputs": [],
   "source": [
    "res = gp.correlation(grid, namex=\"Cr\", namey=\"P\", bins=100, cmin=1)"
   ]
  },
  {
   "cell_type": "code",
   "execution_count": null,
   "id": "69acd13b",
   "metadata": {},
   "outputs": [],
   "source": [
    "res = gp.correlation(grid, namex=\"Ni\", namey=\"P\", bins=100, cmin=1)"
   ]
  },
  {
   "cell_type": "code",
   "execution_count": null,
   "id": "2d1f9f34",
   "metadata": {},
   "outputs": [],
   "source": [
    "res = gp.correlation(grid, namex=\"Ni\", namey=\"Cr\", bins=100, cmin=1)"
   ]
  },
  {
   "cell_type": "markdown",
   "id": "d91aff02",
   "metadata": {},
   "source": [
    "Using inverse square distance for completing the variable **P**"
   ]
  },
  {
   "cell_type": "code",
   "execution_count": null,
   "id": "14bc5a38",
   "metadata": {},
   "outputs": [],
   "source": [
    "grid.setLocator(\"P\", gl.ELoc.Z)\n",
    "err = gl.DbHelper.dbgrid_filling(grid,0,13432,1)"
   ]
  },
  {
   "cell_type": "markdown",
   "id": "19f7760d",
   "metadata": {},
   "source": [
    "We concentrate on the variable of interest **P** completed (**Fill.P**) in the next operations"
   ]
  },
  {
   "cell_type": "code",
   "execution_count": null,
   "id": "3bece280",
   "metadata": {},
   "outputs": [],
   "source": [
    "fig, ax = plt.subplots(figsize=figsize)\n",
    "ax.raster(grid,\"Fill.P\")\n",
    "plt.show()"
   ]
  },
  {
   "cell_type": "markdown",
   "id": "c0efa3fb",
   "metadata": {},
   "source": [
    "Variogram Calculation along Grid main axes"
   ]
  },
  {
   "cell_type": "code",
   "execution_count": null,
   "id": "c90289ba",
   "metadata": {},
   "outputs": [],
   "source": [
    "varnames = [\"Fill.P\"]\n",
    "varioparam = gl.VarioParam.createMultipleFromGrid(grid, nlag=100)\n",
    "varioP = gl.Vario(varioparam)\n",
    "err = varioP.compute(grid)\n",
    "modelP = gl.Model()\n",
    "types = [gl.ECov.NUGGET, gl.ECov.SPHERICAL]\n",
    "err = modelP.fit(varioP, types=types, optvar=gl.Option_VarioFit(True, False))\n",
    "modelP.setDriftIRF(0,0)\n",
    "\n",
    "modelP.setCovFiltered(0, True)\n",
    "means = gl.dbStatisticsMono(grid,varnames,[gl.EStatOption.MEAN]).getValues()\n",
    "modelP.setMeans(means)\n",
    "\n",
    "modelP"
   ]
  },
  {
   "cell_type": "code",
   "execution_count": null,
   "id": "7c9d84b3",
   "metadata": {},
   "outputs": [],
   "source": [
    "res = gp.varmod(varioP, modelP)"
   ]
  },
  {
   "cell_type": "markdown",
   "id": "e16ed08b",
   "metadata": {},
   "source": [
    "We must define the **Neighborhood**"
   ]
  },
  {
   "cell_type": "code",
   "execution_count": null,
   "id": "db4fe120",
   "metadata": {},
   "outputs": [],
   "source": [
    "neigh = gl.NeighImage([5,5])"
   ]
  },
  {
   "cell_type": "markdown",
   "id": "8188052b",
   "metadata": {},
   "source": [
    "The **image** neighborhood is based on $(2*10+1)^2=441$ pixels (centered on the target pixel).\n",
    "\n",
    "During the estimation, only the contribution of second and third basic structures are kept (Nugget Effect is filtered out): **Factorial Kriging Analysis**."
   ]
  },
  {
   "cell_type": "code",
   "execution_count": null,
   "id": "aa7ca13a",
   "metadata": {},
   "outputs": [],
   "source": [
    "err  = gl.krimage(grid,modelP,neigh,flagFFT=True, verbose=True,namconv=gl.NamingConvention(\"Mono\"))"
   ]
  },
  {
   "cell_type": "code",
   "execution_count": null,
   "id": "bf83db81",
   "metadata": {},
   "outputs": [],
   "source": [
    "fig, ax = plt.subplots(1,2, figsize=figsize)\n",
    "ax[0].raster(grid,\"Fill.P\")\n",
    "ax[0].geometry(aspect=1)\n",
    "ax[1].raster(grid,\"Mono*.P\")\n",
    "ax[1].geometry(aspect=1)\n",
    "fig.decoration(title=\"Filtering P (monovariate)\")"
   ]
  },
  {
   "cell_type": "markdown",
   "id": "81195be0",
   "metadata": {},
   "source": [
    "Correlation for **P** variable between Initial image (completed) and its Filtered version (monovariate FKA)"
   ]
  },
  {
   "cell_type": "code",
   "execution_count": null,
   "id": "d2ad85ce",
   "metadata": {},
   "outputs": [],
   "source": [
    "gp.correlation(grid, namex=\"Fill.P\", namey=\"Mono.Fill.P\", bins=100, cmin=1)\n",
    "gp.decoration(xlabel=\"P Filled\",ylabel=\"P Filtered (Mono)\")"
   ]
  },
  {
   "cell_type": "markdown",
   "id": "515fcc6a",
   "metadata": {},
   "source": [
    "## Multivariate approach"
   ]
  },
  {
   "cell_type": "markdown",
   "id": "04c9144f",
   "metadata": {},
   "source": [
    "Having a look at the two covariables"
   ]
  },
  {
   "cell_type": "code",
   "execution_count": null,
   "id": "4ff72c67",
   "metadata": {},
   "outputs": [],
   "source": [
    "fig, ax = plt.subplots(1,2, figsize=figsize)\n",
    "ax[0].raster(grid,\"Cr\")\n",
    "ax[0].geometry(aspect=1)\n",
    "ax[1].raster(grid,\"Ni\")\n",
    "ax[1].geometry(aspect=1)\n",
    "fig.decoration(title=\"Covariables\")"
   ]
  },
  {
   "cell_type": "code",
   "execution_count": null,
   "id": "0d8a380c",
   "metadata": {},
   "outputs": [],
   "source": [
    "varnames = [\"Fill.P\", \"Ni\", \"Cr\"]\n",
    "grid.setLocators(varnames, gl.ELoc.Z)\n",
    "\n",
    "varioM = gl.Vario(varioparam)\n",
    "err = varioM.compute(grid)\n",
    "modelM = gl.Model()\n",
    "err = modelM.fit(varioM, types=types, optvar=gl.Option_VarioFit(True, False))\n",
    "modelM.setDriftIRF(0,0)\n",
    "\n",
    "modelM.setCovFiltered(0, True)\n",
    "means = gl.dbStatisticsMono(grid,varnames,[gl.EStatOption.MEAN]).getValues()\n",
    "modelM.setMeans(means)\n",
    "modelM"
   ]
  },
  {
   "cell_type": "code",
   "execution_count": null,
   "id": "cc4fedb3",
   "metadata": {},
   "outputs": [],
   "source": [
    "res = gp.varmod(varioM, modelM)"
   ]
  },
  {
   "cell_type": "markdown",
   "id": "a51e1b0f",
   "metadata": {},
   "source": [
    "Multivariable Factorial Kriging Analysis"
   ]
  },
  {
   "cell_type": "code",
   "execution_count": null,
   "id": "65ffcd44",
   "metadata": {},
   "outputs": [],
   "source": [
    "err  = gl.krimage(grid,modelM,neigh,flagFFT=True,verbose=True,namconv=gl.NamingConvention(\"Multi\"))"
   ]
  },
  {
   "cell_type": "markdown",
   "id": "9467b5ac",
   "metadata": {},
   "source": [
    "Note that, using the same **neigh** as in monovariate, the dimension of the Kriging System is now $3 * 441 = 1323$"
   ]
  },
  {
   "cell_type": "code",
   "execution_count": null,
   "id": "d872c052",
   "metadata": {},
   "outputs": [],
   "source": [
    "fig, ax = plt.subplots(1,2, figsize=figsize)\n",
    "ax[0].raster(grid,\"Mono*.P\")\n",
    "ax[0].geometry(aspect=1)\n",
    "ax[1].raster(grid,\"Multi*.P\")\n",
    "ax[1].geometry(aspect=1)\n",
    "fig.decoration(title=\"P filtered\")"
   ]
  },
  {
   "cell_type": "markdown",
   "id": "f1dbcb24",
   "metadata": {},
   "source": [
    "Correlation for **P** variable between Initial image and its Filtered version (multivariate FKA)"
   ]
  },
  {
   "cell_type": "code",
   "execution_count": null,
   "id": "8eff61b8",
   "metadata": {},
   "outputs": [],
   "source": [
    "gp.correlation(grid, namex=\"Fill.P\", namey=\"Multi.Fill.P\", bins=100, cmin=1)\n",
    "gp.decoration(xlabel=\"P Filled\",ylabel=\"P Filtered (Multi)\")"
   ]
  },
  {
   "cell_type": "markdown",
   "id": "264533fa",
   "metadata": {},
   "source": [
    "Correlation for **P** filtered variable between the Monovariate and the Multivariate case"
   ]
  },
  {
   "cell_type": "code",
   "execution_count": null,
   "id": "c03fa776",
   "metadata": {},
   "outputs": [],
   "source": [
    "gp.correlation(grid, namex=\"Mono.Fill.P\", namey=\"Multi.Fill.P\", bins=100, cmin=1)\n",
    "gp.decoration(xlabel=\"P Filtered (Mono)\",ylabel=\"P Filtered (Multi)\")"
   ]
  }
 ],
 "metadata": {
  "kernelspec": {
   "display_name": "Python 3 (ipykernel)",
   "language": "python",
   "name": "python3"
  },
  "language_info": {
   "codemirror_mode": {
    "name": "ipython",
    "version": 3
   },
   "file_extension": ".py",
   "mimetype": "text/x-python",
   "name": "python",
   "nbconvert_exporter": "python",
   "pygments_lexer": "ipython3",
   "version": "3.10.5"
  },
  "toc": {
   "base_numbering": 1,
   "nav_menu": {},
   "number_sections": true,
   "sideBar": true,
   "skip_h1_title": false,
   "title_cell": "Table of Contents",
   "title_sidebar": "Contents",
   "toc_cell": false,
   "toc_position": {},
   "toc_section_display": true,
   "toc_window_display": false
  }
 },
 "nbformat": 4,
 "nbformat_minor": 5
}
