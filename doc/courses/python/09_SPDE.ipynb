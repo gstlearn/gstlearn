{
 "cells": [
  {
   "cell_type": "markdown",
   "id": "c18989e6",
   "metadata": {},
   "source": [
    "# SPDE"
   ]
  },
  {
   "cell_type": "markdown",
   "id": "96c5e706",
   "metadata": {},
   "source": [
    "<!-- SUMMARY: Using Stochastic Partial Derivative Equation framework to perform Estimation (extension to the use of External Drift)  -->\n",
    "\n",
    "<!-- CATEGORY: Courses -->"
   ]
  },
  {
   "cell_type": "markdown",
   "id": "fdbdf57f",
   "metadata": {},
   "source": [
    "This document aims at demonstrating the use of SPDE for performing Estimation. It is based on Scotland Data"
   ]
  },
  {
   "cell_type": "code",
   "execution_count": null,
   "id": "b3dac2e2",
   "metadata": {},
   "outputs": [],
   "source": [
    "import gstlearn as gl\n",
    "import gstlearn.plot as gp\n",
    "import gstlearn.document as gdoc\n",
    "import matplotlib.pyplot as plt\n",
    "import os \n",
    "import numpy as np\n",
    "\n",
    "gdoc.setNoScroll()"
   ]
  },
  {
   "cell_type": "markdown",
   "id": "de51373f",
   "metadata": {},
   "source": [
    "Getting the Data Bases from the official website."
   ]
  },
  {
   "cell_type": "code",
   "execution_count": null,
   "id": "427109eb",
   "metadata": {},
   "outputs": [],
   "source": [
    "temp_nf = gdoc.loadData(\"Scotland\", \"Scotland_Temperatures.NF\")\n",
    "dat = gl.Db.createFromNF(temp_nf)"
   ]
  },
  {
   "cell_type": "markdown",
   "id": "40e24851",
   "metadata": {},
   "source": [
    "The input Data Base (called **temperatures**) contains the target variable (**January_temp**). Note that this data base also contains the elevation variable (called **Elevation**) which is assigned the locator **f** (for external drift). We finally add a selection (called **sel**) which only consider the samples where the temperature is actually calculated."
   ]
  },
  {
   "cell_type": "code",
   "execution_count": null,
   "id": "constant-desktop",
   "metadata": {},
   "outputs": [],
   "source": [
    "temperatures = gl.Db.createFromNF(temp_nf)\n",
    "temperatures.setLocator(\"January_temp\", gl.ELoc.Z)\n",
    "temperatures.setLocator(\"Elevation\",gl.ELoc.F)\n",
    "iuid = temperatures.addSelection(np.invert(np.isnan(temperatures[\"J*\"])),\"sel\")\n",
    "temperatures.display()\n",
    "ax = temperatures.plot(\"January_temp\")\n",
    "ax.decoration(title=\"Temperature data\")"
   ]
  },
  {
   "cell_type": "markdown",
   "id": "3cdee6c6",
   "metadata": {},
   "source": [
    "The output file is a grid (called **grid**). It contains an active selection (**inshore**) as well as the elevation over the field (called **Elevation**). Note that this variable is assigned the locator **f** (external drift)."
   ]
  },
  {
   "cell_type": "code",
   "execution_count": null,
   "id": "traditional-phase",
   "metadata": {},
   "outputs": [],
   "source": [
    "elev_nf = gdoc.loadData(\"Scotland\", \"Scotland_Elevations.NF\")\n",
    "grid = gl.DbGrid.createFromNF(elev_nf)\n",
    "grid.display()\n",
    "ax = grid.plot(\"Elevation\")\n",
    "ax.decoration(title=\"Elevation\")"
   ]
  },
  {
   "cell_type": "markdown",
   "id": "certified-helping",
   "metadata": {},
   "source": [
    "Calculate the omni-directional variogram of the temperature for 18 lags of 25."
   ]
  },
  {
   "cell_type": "code",
   "execution_count": null,
   "id": "43fd8d78",
   "metadata": {},
   "outputs": [],
   "source": [
    "vparam = gl.VarioParam.createOmniDirection(npas=18, dpas=25)\n",
    "vario = gl.Vario(vparam)\n",
    "vario.compute(temperatures)\n",
    "vario.display()\n",
    "ax = gp.variogram(vario)\n",
    "ax.decoration(title=\"Variogram of Temperature (Raw)\")"
   ]
  },
  {
   "cell_type": "markdown",
   "id": "688cdb68",
   "metadata": {},
   "source": [
    "We calculate the variogram (using the same calculation parameters) based on the residuals after a trend has been removed. This trend is considered as a linear combination of the external drift information."
   ]
  },
  {
   "cell_type": "code",
   "execution_count": null,
   "id": "fancy-manitoba",
   "metadata": {},
   "outputs": [],
   "source": [
    "vparam = gl.VarioParam.createOmniDirection(npas=18, dpas=25)\n",
    "vario = gl.Vario(vparam)\n",
    "md = gl.Model()\n",
    "md.setDriftIRF(order=0, nfex=1)\n",
    "vario.compute(temperatures,model=md)\n",
    "vario.display()\n",
    "ax = gp.variogram(vario)"
   ]
  },
  {
   "cell_type": "markdown",
   "id": "civilian-surprise",
   "metadata": {},
   "source": [
    "Fit the variogram of residuals in a model having drifts. Some constraints have been added during the fitting step."
   ]
  },
  {
   "cell_type": "code",
   "execution_count": null,
   "id": "surrounded-kazakhstan",
   "metadata": {},
   "outputs": [],
   "source": [
    "model = md\n",
    "\n",
    "structs = [gl.ECov.NUGGET,gl.ECov.MATERN]\n",
    "\n",
    "consNug = gl.ConsItem.define(gl.EConsElem.SILL,0, type = gl.EConsType.UPPER,value = 0.1)\n",
    "\n",
    "cons1P  = gl.ConsItem.define(gl.EConsElem.PARAM,1, type = gl.EConsType.EQUAL,value = 1)\n",
    "cons1Rm = gl.ConsItem.define(gl.EConsElem.RANGE,1, type = gl.EConsType.LOWER,value = 100)\n",
    "cons1RM = gl.ConsItem.define(gl.EConsElem.RANGE,1, type = gl.EConsType.UPPER,value = 350)\n",
    "\n",
    "a = gl.Constraints()\n",
    "a.addItem(consNug)\n",
    "a.addItem(cons1P)\n",
    "a.addItem(cons1Rm)\n",
    "a.addItem(cons1RM)\n",
    "\n",
    "err = model.fit(vario,structs,constraints=a)\n",
    "model.display()\n",
    "ax = gp.varmod(vario,model)\n",
    "ax.decoration(title=\"Vario of the residuals\")"
   ]
  },
  {
   "cell_type": "markdown",
   "id": "f21a1f2c",
   "metadata": {},
   "source": [
    "Derive the parameter of a Global Trend (composed of the Elevation as a drift function) using the SPDE formalism."
   ]
  },
  {
   "cell_type": "code",
   "execution_count": null,
   "id": "95a9b685",
   "metadata": {},
   "outputs": [],
   "source": [
    "spde = gl.SPDE(model,grid,temperatures,gl.ESPDECalcMode.KRIGING)\n",
    "coeffs = spde.getCoeffs()\n",
    "print(\"Trend coefficients:\", coeffs)"
   ]
  },
  {
   "cell_type": "markdown",
   "id": "2e44a609",
   "metadata": {},
   "source": [
    "Represent the scatter plot of the Temperature given the Elevation and add the Global Trend (calculated beforehand)"
   ]
  },
  {
   "cell_type": "code",
   "execution_count": null,
   "id": "spatial-publicity",
   "metadata": {},
   "outputs": [],
   "source": [
    "ax = gp.correlation(temperatures, namex=\"Elevation\", namey=\"*temp\", asPoint=True)\n",
    "if len(coeffs)>1:\n",
    "    plt.plot([0,400], [coeffs[0],coeffs[0]+coeffs[1]*400])"
   ]
  },
  {
   "cell_type": "markdown",
   "id": "0d29c3c1",
   "metadata": {},
   "source": [
    "We perform the Estimation in the SPDE framework (considering the Elevation as the Global Trend)"
   ]
  },
  {
   "cell_type": "code",
   "execution_count": null,
   "id": "e30f800d",
   "metadata": {},
   "outputs": [],
   "source": [
    "err = gl.krigingSPDE(temperatures, grid, model)\n",
    "ax = grid.plot(useSel=True)\n",
    "ax.decoration(title=\"Temperature (using Elevation as global Trend)\")"
   ]
  },
  {
   "cell_type": "markdown",
   "id": "803b15a9",
   "metadata": {},
   "source": [
    "We also perform the Estimation by Kriging (using Elevation as External Drift). This estimation is performed in Unique Neighborhood."
   ]
  },
  {
   "cell_type": "code",
   "execution_count": null,
   "id": "4b2e66bc",
   "metadata": {},
   "outputs": [],
   "source": [
    "neighU = gl.NeighUnique.create();\n",
    "gl.kriging(temperatures, grid, model, neighU);\n",
    "ax = grid.plot(useSel=True)\n",
    "ax.decoration(title=\"Temperature (with Elevation as External Drift)\")"
   ]
  },
  {
   "cell_type": "markdown",
   "id": "1bda6074",
   "metadata": {},
   "source": [
    "Comparing both estimates"
   ]
  },
  {
   "cell_type": "code",
   "execution_count": null,
   "id": "62cd8172",
   "metadata": {},
   "outputs": [],
   "source": [
    "grid"
   ]
  },
  {
   "cell_type": "code",
   "execution_count": null,
   "id": "30ef550e",
   "metadata": {},
   "outputs": [],
   "source": [
    "ax = gp.correlation(grid,namex=\"Kriging.January_temp.estim\",namey=\"KrigingSPDE.January_temp.estim\",\n",
    "                    asPoint=True, diagLine=True)\n",
    "ax.decoration(xlabel=\"Kriging with External Drift\", ylabel=\"SPDE Kriging\")"
   ]
  }
 ],
 "metadata": {
  "kernelspec": {
   "display_name": "Python 3 (ipykernel)",
   "language": "python",
   "name": "python3"
  },
  "language_info": {
   "codemirror_mode": {
    "name": "ipython",
    "version": 3
   },
   "file_extension": ".py",
   "mimetype": "text/x-python",
   "name": "python",
   "nbconvert_exporter": "python",
   "pygments_lexer": "ipython3",
   "version": "3.10.5"
  },
  "toc": {
   "base_numbering": 1,
   "nav_menu": {},
   "number_sections": true,
   "sideBar": true,
   "skip_h1_title": false,
   "title_cell": "Table of Contents",
   "title_sidebar": "Contents",
   "toc_cell": false,
   "toc_position": {},
   "toc_section_display": true,
   "toc_window_display": false
  }
 },
 "nbformat": 4,
 "nbformat_minor": 5
}
