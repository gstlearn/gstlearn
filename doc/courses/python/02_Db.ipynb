{
 "cells": [
  {
   "cell_type": "markdown",
   "id": "fb388936",
   "metadata": {
    "toc": true
   },
   "source": [
    "<h1>Table of Contents<span class=\"tocSkip\"></span></h1>\n",
    "<div class=\"toc\"><ul class=\"toc-item\"><li><span><a href=\"#Data-Base\" data-toc-modified-id=\"Data-Base-1\"><span class=\"toc-item-num\">1&nbsp;&nbsp;</span>Data Base</a></span></li><li><span><a href=\"#Main-classes\" data-toc-modified-id=\"Main-classes-2\"><span class=\"toc-item-num\">2&nbsp;&nbsp;</span>Main classes</a></span></li><li><span><a href=\"#Importing-External-File\" data-toc-modified-id=\"Importing-External-File-3\"><span class=\"toc-item-num\">3&nbsp;&nbsp;</span>Importing External File</a></span><ul class=\"toc-item\"><li><span><a href=\"#Loading-a-CSV-file\" data-toc-modified-id=\"Loading-a-CSV-file-3.1\"><span class=\"toc-item-num\">3.1&nbsp;&nbsp;</span>Loading a CSV file</a></span></li><li><span><a href=\"#Creating-Db-object-from-a-Pandas-frame\" data-toc-modified-id=\"Creating-Db-object-from-a-Pandas-frame-3.2\"><span class=\"toc-item-num\">3.2&nbsp;&nbsp;</span>Creating Db object from a Pandas frame</a></span></li><li><span><a href=\"#Creating-Db-object-directly-from-CSV-file\" data-toc-modified-id=\"Creating-Db-object-directly-from-CSV-file-3.3\"><span class=\"toc-item-num\">3.3&nbsp;&nbsp;</span>Creating Db object directly from CSV file</a></span></li><li><span><a href=\"#Importing-Db-File-from-a-&quot;Neutral-File&quot;\" data-toc-modified-id=\"Importing-Db-File-from-a-&quot;Neutral-File&quot;-3.4\"><span class=\"toc-item-num\">3.4&nbsp;&nbsp;</span>Importing Db File from a \"Neutral File\"</a></span></li></ul></li><li><span><a href=\"#Discovering-Db\" data-toc-modified-id=\"Discovering-Db-4\"><span class=\"toc-item-num\">4&nbsp;&nbsp;</span>Discovering Db</a></span><ul class=\"toc-item\"><li><span><a href=\"#The-Db-class\" data-toc-modified-id=\"The-Db-class-4.1\"><span class=\"toc-item-num\">4.1&nbsp;&nbsp;</span>The Db class</a></span></li><li><span><a href=\"#Assessors-for-Db-class\" data-toc-modified-id=\"Assessors-for-Db-class-4.2\"><span class=\"toc-item-num\">4.2&nbsp;&nbsp;</span>Assessors for Db class</a></span></li><li><span><a href=\"#Locators\" data-toc-modified-id=\"Locators-4.3\"><span class=\"toc-item-num\">4.3&nbsp;&nbsp;</span>Locators</a></span></li></ul></li><li><span><a href=\"#More-with-Db\" data-toc-modified-id=\"More-with-Db-5\"><span class=\"toc-item-num\">5&nbsp;&nbsp;</span>More with Db</a></span><ul class=\"toc-item\"><li><span><a href=\"#Plotting-a-Db\" data-toc-modified-id=\"Plotting-a-Db-5.1\"><span class=\"toc-item-num\">5.1&nbsp;&nbsp;</span>Plotting a Db</a></span></li><li><span><a href=\"#Grid-Data-Base\" data-toc-modified-id=\"Grid-Data-Base-5.2\"><span class=\"toc-item-num\">5.2&nbsp;&nbsp;</span>Grid Data Base</a></span></li><li><span><a href=\"#Selection\" data-toc-modified-id=\"Selection-5.3\"><span class=\"toc-item-num\">5.3&nbsp;&nbsp;</span>Selection</a></span></li><li><span><a href=\"#Final-plot\" data-toc-modified-id=\"Final-plot-5.4\"><span class=\"toc-item-num\">5.4&nbsp;&nbsp;</span>Final plot</a></span></li></ul></li></ul></div>"
   ]
  },
  {
   "cell_type": "markdown",
   "id": "7718c2a8",
   "metadata": {},
   "source": [
    "# Data Base"
   ]
  },
  {
   "cell_type": "markdown",
   "id": "9ad379a6",
   "metadata": {},
   "source": [
    "<!-- SUMMARY: Description of the Data Base (numerical). How to create a Db (from different sources), to use shortcuts (assessors), to assign roles to variables (locators).  -->\n",
    "\n",
    "<!-- CATEGORY: Courses -->"
   ]
  },
  {
   "cell_type": "markdown",
   "id": "9cf4315c",
   "metadata": {},
   "source": [
    "In this preamble, we load the **gstlearn** package."
   ]
  },
  {
   "cell_type": "code",
   "execution_count": 1,
   "id": "145a5aa5",
   "metadata": {},
   "outputs": [
    {
     "data": {
      "application/javascript": [
       "\n",
       "IPython.OutputArea.prototype._should_scroll = function(lines) {\n",
       "    return false;\n",
       "}\n"
      ],
      "text/plain": [
       "<IPython.core.display.Javascript object>"
      ]
     },
     "metadata": {},
     "output_type": "display_data"
    }
   ],
   "source": [
    "import gstlearn as gl\n",
    "import gstlearn.plot as gp\n",
    "import gstlearn.document as gdoc\n",
    "import matplotlib.pyplot as plt\n",
    "import numpy as np\n",
    "import os\n",
    "\n",
    "gdoc.setNoScroll()"
   ]
  },
  {
   "cell_type": "markdown",
   "id": "5982ec30",
   "metadata": {},
   "source": [
    "# Main classes"
   ]
  },
  {
   "cell_type": "markdown",
   "id": "8b64937c",
   "metadata": {},
   "source": [
    "This is the (non-exhaustive) list of classes (of objects) in gstlearn:\n",
    "\n",
    "* Db, DbGrid: numerical data base\n",
    "* DirParam, VarioParam and Vario: experimental variograms\n",
    "* Model: variogram model\n",
    "* Neigh: neighborhood\n",
    "* Anam: gaussian anamorphosis\n",
    "* Polygon: 2-D polygonal shapes\n",
    "* Rule: lithotype rule for thresholds used for truncated plurigaussian models"
   ]
  },
  {
   "cell_type": "markdown",
   "id": "043bb453",
   "metadata": {},
   "source": [
    "# Importing External File"
   ]
  },
  {
   "cell_type": "markdown",
   "id": "3b57e03e",
   "metadata": {},
   "source": [
    "## Loading a CSV file"
   ]
  },
  {
   "cell_type": "markdown",
   "id": "7ed1eb57",
   "metadata": {},
   "source": [
    "We start by downloading the ASCII file called *Scotland_Temperatures.csv* (organized as a CSV file) and we store it in a temporary directory and keep its path in the variable called *temp_csv*. The file is provided as a *CSV* format. We load it into a Pandas data frame (names *datcsv*) using the relevant Python command. Note that \"MISS\" keyword is used in this file to indicate a missing value. Such values will be replaced by NaN."
   ]
  },
  {
   "cell_type": "code",
   "execution_count": 2,
   "id": "54400a0b",
   "metadata": {},
   "outputs": [],
   "source": [
    "temp_csv = gdoc.loadData(\"Scotland\", \"Scotland_Temperatures.csv\")"
   ]
  },
  {
   "cell_type": "code",
   "execution_count": 3,
   "id": "9cff1c38",
   "metadata": {
    "scrolled": false
   },
   "outputs": [
    {
     "data": {
      "text/html": [
       "<div>\n",
       "<style scoped>\n",
       "    .dataframe tbody tr th:only-of-type {\n",
       "        vertical-align: middle;\n",
       "    }\n",
       "\n",
       "    .dataframe tbody tr th {\n",
       "        vertical-align: top;\n",
       "    }\n",
       "\n",
       "    .dataframe thead th {\n",
       "        text-align: right;\n",
       "    }\n",
       "</style>\n",
       "<table border=\"1\" class=\"dataframe\">\n",
       "  <thead>\n",
       "    <tr style=\"text-align: right;\">\n",
       "      <th></th>\n",
       "      <th>Longitude</th>\n",
       "      <th>Latitude</th>\n",
       "      <th>Elevation</th>\n",
       "      <th>January_temp</th>\n",
       "    </tr>\n",
       "  </thead>\n",
       "  <tbody>\n",
       "    <tr>\n",
       "      <th>0</th>\n",
       "      <td>372.1</td>\n",
       "      <td>658.9</td>\n",
       "      <td>255</td>\n",
       "      <td>1.7</td>\n",
       "    </tr>\n",
       "    <tr>\n",
       "      <th>1</th>\n",
       "      <td>303.5</td>\n",
       "      <td>665.9</td>\n",
       "      <td>125</td>\n",
       "      <td>2.0</td>\n",
       "    </tr>\n",
       "    <tr>\n",
       "      <th>2</th>\n",
       "      <td>218.4</td>\n",
       "      <td>597.9</td>\n",
       "      <td>8</td>\n",
       "      <td>4.6</td>\n",
       "    </tr>\n",
       "    <tr>\n",
       "      <th>3</th>\n",
       "      <td>245.0</td>\n",
       "      <td>955.0</td>\n",
       "      <td>90</td>\n",
       "      <td>NaN</td>\n",
       "    </tr>\n",
       "    <tr>\n",
       "      <th>4</th>\n",
       "      <td>326.8</td>\n",
       "      <td>691.2</td>\n",
       "      <td>32</td>\n",
       "      <td>3.1</td>\n",
       "    </tr>\n",
       "    <tr>\n",
       "      <th>...</th>\n",
       "      <td>...</td>\n",
       "      <td>...</td>\n",
       "      <td>...</td>\n",
       "      <td>...</td>\n",
       "    </tr>\n",
       "    <tr>\n",
       "      <th>231</th>\n",
       "      <td>273.2</td>\n",
       "      <td>564.6</td>\n",
       "      <td>47</td>\n",
       "      <td>2.8</td>\n",
       "    </tr>\n",
       "    <tr>\n",
       "      <th>232</th>\n",
       "      <td>333.9</td>\n",
       "      <td>730.1</td>\n",
       "      <td>30</td>\n",
       "      <td>2.6</td>\n",
       "    </tr>\n",
       "    <tr>\n",
       "      <th>233</th>\n",
       "      <td>185.0</td>\n",
       "      <td>655.0</td>\n",
       "      <td>115</td>\n",
       "      <td>NaN</td>\n",
       "    </tr>\n",
       "    <tr>\n",
       "      <th>234</th>\n",
       "      <td>259.8</td>\n",
       "      <td>587.9</td>\n",
       "      <td>119</td>\n",
       "      <td>2.1</td>\n",
       "    </tr>\n",
       "    <tr>\n",
       "      <th>235</th>\n",
       "      <td>260.8</td>\n",
       "      <td>668.6</td>\n",
       "      <td>107</td>\n",
       "      <td>2.6</td>\n",
       "    </tr>\n",
       "  </tbody>\n",
       "</table>\n",
       "<p>236 rows × 4 columns</p>\n",
       "</div>"
      ],
      "text/plain": [
       "     Longitude  Latitude  Elevation  January_temp\n",
       "0        372.1     658.9        255           1.7\n",
       "1        303.5     665.9        125           2.0\n",
       "2        218.4     597.9          8           4.6\n",
       "3        245.0     955.0         90           NaN\n",
       "4        326.8     691.2         32           3.1\n",
       "..         ...       ...        ...           ...\n",
       "231      273.2     564.6         47           2.8\n",
       "232      333.9     730.1         30           2.6\n",
       "233      185.0     655.0        115           NaN\n",
       "234      259.8     587.9        119           2.1\n",
       "235      260.8     668.6        107           2.6\n",
       "\n",
       "[236 rows x 4 columns]"
      ]
     },
     "execution_count": 3,
     "metadata": {},
     "output_type": "execute_result"
    }
   ],
   "source": [
    "import pandas as pd\n",
    "datcsv = pd.read_csv(temp_csv, na_values=\"MISS\")\n",
    "datcsv"
   ]
  },
  {
   "cell_type": "markdown",
   "id": "f9d291f8",
   "metadata": {},
   "source": [
    "We can check the contents of the data frame (by simply typing its name) and see that it contains four columns (respectively called *Longitude*, *Latitude*, *Elevation*, *January_temp*) and 236 rows (header line excluded)."
   ]
  },
  {
   "cell_type": "markdown",
   "id": "3a936b37",
   "metadata": {},
   "source": [
    "## Creating Db object from a Pandas frame"
   ]
  },
  {
   "cell_type": "markdown",
   "id": "f5fb9070",
   "metadata": {},
   "source": [
    "The user can then create a database of the **gstlearn** package (*Db* class) directly from the previously imported Pandas frame. Note that the only numerical columns are copied."
   ]
  },
  {
   "cell_type": "code",
   "execution_count": 4,
   "id": "2ddba4b0",
   "metadata": {},
   "outputs": [
    {
     "data": {
      "text/plain": [
       "\n",
       "Data Base Characteristics\n",
       "=========================\n",
       "\n",
       "Data Base Summary\n",
       "-----------------\n",
       "File is organized as a set of isolated points\n",
       "Space dimension              = 0\n",
       "Number of Columns            = 4\n",
       "Total number of samples      = 236\n",
       "\n",
       "Variables\n",
       "---------\n",
       "Column = 0 - Name = Longitude - Locator = NA\n",
       "Column = 1 - Name = Latitude - Locator = NA\n",
       "Column = 2 - Name = Elevation - Locator = NA\n",
       "Column = 3 - Name = January_temp - Locator = NA"
      ]
     },
     "execution_count": 4,
     "metadata": {},
     "output_type": "execute_result"
    }
   ],
   "source": [
    "dat = gl.Db_fromPanda(datcsv)\n",
    "dat"
   ]
  },
  {
   "cell_type": "markdown",
   "id": "4d88e468",
   "metadata": {},
   "source": [
    "## Creating Db object directly from CSV file"
   ]
  },
  {
   "cell_type": "markdown",
   "id": "c9e888e9",
   "metadata": {},
   "source": [
    "These operations can be performed directly by reading the CSV file again and load it directly into a Db.\n",
    "\n",
    "Note that we introduce a *CSVformat* description where we can specifiy the specificities of the file to be read, in particular we can tell how to spell the conventional value used for coding missing information."
   ]
  },
  {
   "cell_type": "code",
   "execution_count": 5,
   "id": "548371b3",
   "metadata": {
    "scrolled": true
   },
   "outputs": [
    {
     "data": {
      "text/plain": [
       "\n",
       "Data Base Characteristics\n",
       "=========================\n",
       "\n",
       "Data Base Summary\n",
       "-----------------\n",
       "File is organized as a set of isolated points\n",
       "Space dimension              = 0\n",
       "Number of Columns            = 5\n",
       "Total number of samples      = 236\n",
       "\n",
       "Variables\n",
       "---------\n",
       "Column = 0 - Name = rank - Locator = NA\n",
       "Column = 1 - Name = Longitude - Locator = NA\n",
       "Column = 2 - Name = Latitude - Locator = NA\n",
       "Column = 3 - Name = Elevation - Locator = NA\n",
       "Column = 4 - Name = January_temp - Locator = NA"
      ]
     },
     "execution_count": 5,
     "metadata": {},
     "output_type": "execute_result"
    }
   ],
   "source": [
    "csv = gl.CSVformat.create(flagHeader=True, naString = \"MISS\")\n",
    "dat = gl.Db.createFromCSV(temp_csv, csv=csv)\n",
    "dat"
   ]
  },
  {
   "cell_type": "markdown",
   "id": "f9466813",
   "metadata": {},
   "source": [
    "Note that a \"rank\" variable has been automatically added. The *rank* is always 1-based and must be distinguish from an *index* (0-based). The *rank* variable could be later useful for certain functions of the **gstlearn** package."
   ]
  },
  {
   "cell_type": "markdown",
   "id": "c7d58f76",
   "metadata": {},
   "source": [
    "## Importing Db File from a \"Neutral File\""
   ]
  },
  {
   "cell_type": "markdown",
   "id": "fd49150b",
   "metadata": {},
   "source": [
    "A last solution is to import it directly from the set of demonstration files (provided together with the package and called *temp_nf*) and stored in a specific format (Neutral file). \n",
    "\n",
    "These *NF* (or neutral file) are currently used for serialization of the gstlearn objects. They will probably be replaced in the future by a facility backuping the whole workspace in one step.\n",
    "\n",
    "Note that the contents of the Db is slightly different from the result obtained when reading from CSV. Essentially, some variables have a *Locator* field defined, some do not. This concept will be described later in this chapter and the difference can be ignored."
   ]
  },
  {
   "cell_type": "code",
   "execution_count": 6,
   "id": "1171dc3e",
   "metadata": {
    "scrolled": true
   },
   "outputs": [
    {
     "data": {
      "text/plain": [
       "\n",
       "Data Base Characteristics\n",
       "=========================\n",
       "\n",
       "Data Base Summary\n",
       "-----------------\n",
       "File is organized as a set of isolated points\n",
       "Space dimension              = 2\n",
       "Number of Columns            = 5\n",
       "Total number of samples      = 236\n",
       "\n",
       "Variables\n",
       "---------\n",
       "Column = 0 - Name = rank - Locator = NA\n",
       "Column = 1 - Name = Longitude - Locator = x1\n",
       "Column = 2 - Name = Latitude - Locator = x2\n",
       "Column = 3 - Name = Elevation - Locator = NA\n",
       "Column = 4 - Name = January_temp - Locator = z1"
      ]
     },
     "execution_count": 6,
     "metadata": {},
     "output_type": "execute_result"
    }
   ],
   "source": [
    "temp_nf = gdoc.loadData(\"Scotland\", \"Scotland_Temperatures.NF\")\n",
    "dat = gl.Db.createFromNF(temp_nf)\n",
    "dat"
   ]
  },
  {
   "cell_type": "markdown",
   "id": "9184fe0a",
   "metadata": {},
   "source": [
    "# Discovering Db"
   ]
  },
  {
   "cell_type": "markdown",
   "id": "272207dc",
   "metadata": {},
   "source": [
    "## The Db class"
   ]
  },
  {
   "cell_type": "markdown",
   "id": "1c95678f",
   "metadata": {},
   "source": [
    "*Db* objects (as all objects that inherits from *AStringable*) have a method `display` allowing to print a summary of the content of the data base. The same occurs when typing the name of the variable at the end of a cell (see above)."
   ]
  },
  {
   "cell_type": "code",
   "execution_count": 7,
   "id": "65cb4adf",
   "metadata": {
    "scrolled": true
   },
   "outputs": [
    {
     "name": "stdout",
     "output_type": "stream",
     "text": [
      "\n",
      "Data Base Characteristics\n",
      "=========================\n",
      "\n",
      "Data Base Summary\n",
      "-----------------\n",
      "File is organized as a set of isolated points\n",
      "Space dimension              = 2\n",
      "Number of Columns            = 5\n",
      "Total number of samples      = 236\n",
      "\n",
      "Variables\n",
      "---------\n",
      "Column = 0 - Name = rank - Locator = NA\n",
      "Column = 1 - Name = Longitude - Locator = x1\n",
      "Column = 2 - Name = Latitude - Locator = x2\n",
      "Column = 3 - Name = Elevation - Locator = NA\n",
      "Column = 4 - Name = January_temp - Locator = z1\n",
      " "
     ]
    }
   ],
   "source": [
    "dat.display()"
   ]
  },
  {
   "cell_type": "markdown",
   "id": "be180c3c",
   "metadata": {},
   "source": [
    "There, we can check that the 4 initial fields have been considered, in addition to a first one, automatically called *rank*, for a total of 5 columns (the information regarding *UID* will not be addressed in this chapter).\n",
    "\n",
    "We can check that each field is assigned to a numbered *Column* (0-based index). Finally the total number of samples is 236 as expected.\n",
    "\n",
    "In addition, some interesting information tells you that this data base corresponds to a 2-D dimension one: this will be described later together with the use of the *Locator* information.\n"
   ]
  },
  {
   "cell_type": "markdown",
   "id": "298b7c00",
   "metadata": {},
   "source": [
    "To get more information on the contents of the Db, it is possible to use the *DbStringFormat* option and to use use through the *display* method. There are several ways to specify the type of information that is searched for (see the documentation of this class for details): typically here we ask for statistics but restrict them to a list of variables "
   ]
  },
  {
   "cell_type": "code",
   "execution_count": 8,
   "id": "0816e8ed",
   "metadata": {
    "scrolled": true
   },
   "outputs": [
    {
     "name": "stdout",
     "output_type": "stream",
     "text": [
      "\n",
      "Data Base Characteristics\n",
      "=========================\n",
      "\n",
      "Data Base Summary\n",
      "-----------------\n",
      "File is organized as a set of isolated points\n",
      "Space dimension              = 2\n",
      "Number of Columns            = 5\n",
      "Total number of samples      = 236\n",
      "\n",
      "Data Base Statistics\n",
      "--------------------\n",
      "4 - Name Elevation - Locator NA\n",
      " Nb of data          =        236\n",
      " Nb of active values =        236\n",
      " Minimum value       =      2.000\n",
      " Maximum value       =    800.000\n",
      " Mean value          =    146.441\n",
      " Standard Deviation  =    165.138\n",
      " Variance            =  27270.713\n",
      "5 - Name January_temp - Locator z1\n",
      " Nb of data          =        236\n",
      " Nb of active values =        151\n",
      " Minimum value       =      0.600\n",
      " Maximum value       =      5.200\n",
      " Mean value          =      2.815\n",
      " Standard Deviation  =      1.010\n",
      " Variance            =      1.020\n",
      "\n",
      "Variables\n",
      "---------\n",
      "Column = 0 - Name = rank - Locator = NA\n",
      "Column = 1 - Name = Longitude - Locator = x1\n",
      "Column = 2 - Name = Latitude - Locator = x2\n",
      "Column = 3 - Name = Elevation - Locator = NA\n",
      "Column = 4 - Name = January_temp - Locator = z1\n",
      " "
     ]
    }
   ],
   "source": [
    "dbfmt = gl.DbStringFormat.createFromFlags(flag_stats=True, names=[\"Elevation\", \"January_temp\"])\n",
    "dat.display(dbfmt)"
   ]
  },
  {
   "cell_type": "markdown",
   "id": "91e998de",
   "metadata": {},
   "source": [
    "Monovariate statistics are better displayed using a single function called *dbStatisticsMono*. This function waits for a vector of enumerators of type EStatOption as statistic operators. Such vector is created using a static function called *fromKeys* which is available in all enumerators classes (i.e. inherits from *AEnum*)."
   ]
  },
  {
   "cell_type": "code",
   "execution_count": 9,
   "id": "58c56849",
   "metadata": {
    "scrolled": true
   },
   "outputs": [
    {
     "data": {
      "text/plain": [
       "                   Mean    Minimum    Maximum\n",
       "   Elevation     87.974      3.000    387.000\n",
       "January_temp      2.815      0.600      5.200"
      ]
     },
     "execution_count": 9,
     "metadata": {},
     "output_type": "execute_result"
    }
   ],
   "source": [
    "gl.dbStatisticsMono(dat,\n",
    "                     names=[\"Elevation\", \"January_temp\"],\n",
    "                     opers=gl.EStatOption.fromKeys([\"MEAN\",\"MINI\",\"MAXI\"]))"
   ]
  },
  {
   "cell_type": "markdown",
   "id": "24a61386",
   "metadata": {},
   "source": [
    "## Assessors for Db class"
   ]
  },
  {
   "cell_type": "markdown",
   "id": "6683e1f5",
   "metadata": {},
   "source": [
    "We can also consider the data base as a 2D array and use the *[  ]* assessors. The following usage shows the whole content of the data base dumped as a 2D **Numpy array**."
   ]
  },
  {
   "cell_type": "code",
   "execution_count": 10,
   "id": "a8e16536",
   "metadata": {
    "scrolled": true
   },
   "outputs": [
    {
     "data": {
      "text/plain": [
       "array([[  1. , 372.1, 658.9, 255. ,   1.7],\n",
       "       [  2. , 303.5, 665.9, 125. ,   2. ],\n",
       "       [  3. , 218.4, 597.9,   8. ,   4.6],\n",
       "       ...,\n",
       "       [234. , 185. , 655. , 115. ,   nan],\n",
       "       [235. , 259.8, 587.9, 119. ,   2.1],\n",
       "       [236. , 260.8, 668.6, 107. ,   2.6]])"
      ]
     },
     "execution_count": 10,
     "metadata": {},
     "output_type": "execute_result"
    }
   ],
   "source": [
    "dat[:]"
   ]
  },
  {
   "cell_type": "markdown",
   "id": "87ab486e",
   "metadata": {},
   "source": [
    "We can access to one or several variables. Note that the contents of the Column corresponding to the target variable (i.e. *January_temp*) is produced as a 1D **numpy array**. \n",
    "\n",
    "Also note the presence of samples with *nan* corresponding to those where the target variable is not informed (*'MISS'* in the original dataset file)."
   ]
  },
  {
   "cell_type": "code",
   "execution_count": 11,
   "id": "73a2bfc9",
   "metadata": {
    "scrolled": true
   },
   "outputs": [
    {
     "data": {
      "text/plain": [
       "array([1.7, 2. , 4.6, nan, 3.1, 3.5, 3.4, 3. , 4.9, 2.9, nan, 1.3, nan,\n",
       "       4. , 1.7, nan, 1.9, 3.3, 2.3, nan, 2.3, 2.6, nan, 2.7, 2.9, nan,\n",
       "       1. , 1.2, nan, 3.1, nan, 3.7, 2.1, 2.5, 2.9, nan, nan, nan, 3.1,\n",
       "       2.1, nan, 2.7, 3. , nan, nan, 1.8, nan, nan, 2.2, 2.9, 3.3, nan,\n",
       "       5. , 1.6, nan, 2.1, 3.2, 4.2, 1.1, nan, 2.7, 0.6, 3.2, nan, 2.5,\n",
       "       2. , 2.8, nan, 3.2, 3.2, 4.5, 3.3, 4.1, 2.2, 1.7, 4.3, 5.2, nan,\n",
       "       1.6, 3.9, 3.1, nan, 3.5, 4.7, 3.6, nan, 1.8, 1.7, nan, nan, nan,\n",
       "       nan, nan, nan, nan, 1.7, nan, 3. , 4.6, 3.9, 3.2, 1.3, nan, nan,\n",
       "       nan, 4.7, nan, 2.6, 2. , 4.7, 1.2, 2.9, 0.9, 3. , nan, 3.6, 0.7,\n",
       "       3.3, nan, nan, nan, 2.7, nan, 2.7, 2.4, nan, nan, 2. , 2.6, nan,\n",
       "       4.3, nan, nan, nan, nan, 3.1, 3.4, 3.1, 2. , 1.3, 1.9, nan, 3.3,\n",
       "       2.7, 4.4, nan, 3. , 0.9, 0.7, nan, 3.6, nan, 3.5, nan, 2.4, 1. ,\n",
       "       nan, 3.6, nan, nan, nan, nan, 3. , nan, 3.5, 4. , 3. , 3.6, nan,\n",
       "       3.2, 1.7, 2.7, 1.9, nan, nan, 4.4, 1.9, 3.3, nan, nan, 3.5, 1.7,\n",
       "       3. , nan, 2.7, nan, 1. , 3.3, nan, nan, 3.2, 3.9, nan, nan, 3. ,\n",
       "       nan, 3.8, nan, 2.8, nan, 2.9, 1.4, 2.6, 3. , nan, 2.8, 2.9, 3.6,\n",
       "       nan, 2. , 4.6, 3.7, nan, nan, 4.5, 2.7, nan, 4.7, 1.7, 1.9, 3.5,\n",
       "       nan, nan, nan, 2.1, 2.3, 3.1, nan, nan, 2. , 2.6, 2.8, 2.6, nan,\n",
       "       2.1, 2.6])"
      ]
     },
     "execution_count": 11,
     "metadata": {},
     "output_type": "execute_result"
    }
   ],
   "source": [
    "dat[\"January_temp\"]"
   ]
  },
  {
   "cell_type": "markdown",
   "id": "95657cac",
   "metadata": {},
   "source": [
    "But it can be more restrictive as in the following paragraph, where we only consider the samples 10 to 15, and only consider the variables *rank*, *Latitude*, *Elevation*. Remind that indices start from 0 to N-1. Indices slice '10:15' in Python means indices {10,11,12,13,14} (different from R) which means ranks {11,12,13,14,15}."
   ]
  },
  {
   "cell_type": "code",
   "execution_count": 12,
   "id": "9b3d78e5",
   "metadata": {
    "scrolled": false
   },
   "outputs": [
    {
     "data": {
      "text/plain": [
       "array([[ 11. , 865. ,  37. ],\n",
       "       [ 12. , 602.6, 242. ],\n",
       "       [ 13. , 835. , 295. ],\n",
       "       [ 14. , 933.2,  15. ],\n",
       "       [ 15. , 648.8, 183. ]])"
      ]
     },
     "execution_count": 12,
     "metadata": {},
     "output_type": "execute_result"
    }
   ],
   "source": [
    "dat[10:15, [\"rank\", \"Latitude\", \"Elevation\"]]"
   ]
  },
  {
   "cell_type": "markdown",
   "id": "bd0cc83c",
   "metadata": {},
   "source": [
    "We can also replace the variable *Name* by their *Column* index. Although this is not recommanded as the Column index may vary over time."
   ]
  },
  {
   "cell_type": "code",
   "execution_count": 13,
   "id": "0471d4f0",
   "metadata": {
    "scrolled": true
   },
   "outputs": [
    {
     "data": {
      "text/plain": [
       "array([[865. ,  37. ],\n",
       "       [602.6, 242. ],\n",
       "       [835. , 295. ],\n",
       "       [933.2,  15. ],\n",
       "       [648.8, 183. ]])"
      ]
     },
     "execution_count": 13,
     "metadata": {},
     "output_type": "execute_result"
    }
   ],
   "source": [
    "dat[10:15, 2:4]"
   ]
  },
  {
   "cell_type": "markdown",
   "id": "a0250251",
   "metadata": {},
   "source": [
    "A particular function is available to convert all the data base in an appropriate object of the Target Langage (here Python). A gstlearn *Db* is converted into a *Pandas frame* using **toTL**."
   ]
  },
  {
   "cell_type": "code",
   "execution_count": 14,
   "id": "80ae735a",
   "metadata": {},
   "outputs": [
    {
     "data": {
      "text/html": [
       "<div>\n",
       "<style scoped>\n",
       "    .dataframe tbody tr th:only-of-type {\n",
       "        vertical-align: middle;\n",
       "    }\n",
       "\n",
       "    .dataframe tbody tr th {\n",
       "        vertical-align: top;\n",
       "    }\n",
       "\n",
       "    .dataframe thead th {\n",
       "        text-align: right;\n",
       "    }\n",
       "</style>\n",
       "<table border=\"1\" class=\"dataframe\">\n",
       "  <thead>\n",
       "    <tr style=\"text-align: right;\">\n",
       "      <th></th>\n",
       "      <th>rank</th>\n",
       "      <th>Longitude</th>\n",
       "      <th>Latitude</th>\n",
       "      <th>Elevation</th>\n",
       "      <th>January_temp</th>\n",
       "    </tr>\n",
       "  </thead>\n",
       "  <tbody>\n",
       "    <tr>\n",
       "      <th>0</th>\n",
       "      <td>1.0</td>\n",
       "      <td>372.1</td>\n",
       "      <td>658.9</td>\n",
       "      <td>255.0</td>\n",
       "      <td>1.7</td>\n",
       "    </tr>\n",
       "    <tr>\n",
       "      <th>1</th>\n",
       "      <td>2.0</td>\n",
       "      <td>303.5</td>\n",
       "      <td>665.9</td>\n",
       "      <td>125.0</td>\n",
       "      <td>2.0</td>\n",
       "    </tr>\n",
       "    <tr>\n",
       "      <th>2</th>\n",
       "      <td>3.0</td>\n",
       "      <td>218.4</td>\n",
       "      <td>597.9</td>\n",
       "      <td>8.0</td>\n",
       "      <td>4.6</td>\n",
       "    </tr>\n",
       "    <tr>\n",
       "      <th>3</th>\n",
       "      <td>4.0</td>\n",
       "      <td>245.0</td>\n",
       "      <td>955.0</td>\n",
       "      <td>90.0</td>\n",
       "      <td>NaN</td>\n",
       "    </tr>\n",
       "    <tr>\n",
       "      <th>4</th>\n",
       "      <td>5.0</td>\n",
       "      <td>326.8</td>\n",
       "      <td>691.2</td>\n",
       "      <td>32.0</td>\n",
       "      <td>3.1</td>\n",
       "    </tr>\n",
       "    <tr>\n",
       "      <th>...</th>\n",
       "      <td>...</td>\n",
       "      <td>...</td>\n",
       "      <td>...</td>\n",
       "      <td>...</td>\n",
       "      <td>...</td>\n",
       "    </tr>\n",
       "    <tr>\n",
       "      <th>231</th>\n",
       "      <td>232.0</td>\n",
       "      <td>273.2</td>\n",
       "      <td>564.6</td>\n",
       "      <td>47.0</td>\n",
       "      <td>2.8</td>\n",
       "    </tr>\n",
       "    <tr>\n",
       "      <th>232</th>\n",
       "      <td>233.0</td>\n",
       "      <td>333.9</td>\n",
       "      <td>730.1</td>\n",
       "      <td>30.0</td>\n",
       "      <td>2.6</td>\n",
       "    </tr>\n",
       "    <tr>\n",
       "      <th>233</th>\n",
       "      <td>234.0</td>\n",
       "      <td>185.0</td>\n",
       "      <td>655.0</td>\n",
       "      <td>115.0</td>\n",
       "      <td>NaN</td>\n",
       "    </tr>\n",
       "    <tr>\n",
       "      <th>234</th>\n",
       "      <td>235.0</td>\n",
       "      <td>259.8</td>\n",
       "      <td>587.9</td>\n",
       "      <td>119.0</td>\n",
       "      <td>2.1</td>\n",
       "    </tr>\n",
       "    <tr>\n",
       "      <th>235</th>\n",
       "      <td>236.0</td>\n",
       "      <td>260.8</td>\n",
       "      <td>668.6</td>\n",
       "      <td>107.0</td>\n",
       "      <td>2.6</td>\n",
       "    </tr>\n",
       "  </tbody>\n",
       "</table>\n",
       "<p>236 rows × 5 columns</p>\n",
       "</div>"
      ],
      "text/plain": [
       "      rank  Longitude  Latitude  Elevation  January_temp\n",
       "0      1.0      372.1     658.9      255.0           1.7\n",
       "1      2.0      303.5     665.9      125.0           2.0\n",
       "2      3.0      218.4     597.9        8.0           4.6\n",
       "3      4.0      245.0     955.0       90.0           NaN\n",
       "4      5.0      326.8     691.2       32.0           3.1\n",
       "..     ...        ...       ...        ...           ...\n",
       "231  232.0      273.2     564.6       47.0           2.8\n",
       "232  233.0      333.9     730.1       30.0           2.6\n",
       "233  234.0      185.0     655.0      115.0           NaN\n",
       "234  235.0      259.8     587.9      119.0           2.1\n",
       "235  236.0      260.8     668.6      107.0           2.6\n",
       "\n",
       "[236 rows x 5 columns]"
      ]
     },
     "execution_count": 14,
     "metadata": {},
     "output_type": "execute_result"
    }
   ],
   "source": [
    "dat.toTL()"
   ]
  },
  {
   "cell_type": "markdown",
   "id": "4fef59e8",
   "metadata": {},
   "source": [
    "Please also note the feature that a variable whose name does not exist (*newvar*) in the data base, is created on the fly. Also note that variables may be specified with names referred to using traditional regexp expressions (i.e. the symbol '*' replaces any list of characters):"
   ]
  },
  {
   "cell_type": "code",
   "execution_count": 15,
   "id": "5860a18d",
   "metadata": {
    "scrolled": true
   },
   "outputs": [
    {
     "data": {
      "text/plain": [
       "\n",
       "Data Base Characteristics\n",
       "=========================\n",
       "\n",
       "Data Base Summary\n",
       "-----------------\n",
       "File is organized as a set of isolated points\n",
       "Space dimension              = 2\n",
       "Number of Columns            = 6\n",
       "Total number of samples      = 236\n",
       "\n",
       "Variables\n",
       "---------\n",
       "Column = 0 - Name = rank - Locator = NA\n",
       "Column = 1 - Name = Longitude - Locator = x1\n",
       "Column = 2 - Name = Latitude - Locator = x2\n",
       "Column = 3 - Name = Elevation - Locator = NA\n",
       "Column = 4 - Name = January_temp - Locator = z1\n",
       "Column = 5 - Name = newvar - Locator = NA"
      ]
     },
     "execution_count": 15,
     "metadata": {},
     "output_type": "execute_result"
    }
   ],
   "source": [
    "dat[\"newvar\"] = 12.3 * dat[\"Elevation\"] - 2.1 * dat[\"*temp\"]\n",
    "dat"
   ]
  },
  {
   "cell_type": "markdown",
   "id": "3e65e760",
   "metadata": {},
   "source": [
    "The user also can remove a variable from the data base by doing the following:"
   ]
  },
  {
   "cell_type": "code",
   "execution_count": 16,
   "id": "2f3f0460",
   "metadata": {},
   "outputs": [
    {
     "name": "stdout",
     "output_type": "stream",
     "text": [
      "\n",
      "Data Base Characteristics\n",
      "=========================\n",
      "\n",
      "Data Base Summary\n",
      "-----------------\n",
      "File is organized as a set of isolated points\n",
      "Space dimension              = 2\n",
      "Number of Columns            = 5\n",
      "Total number of samples      = 236\n",
      "\n",
      "Variables\n",
      "---------\n",
      "Column = 0 - Name = rank - Locator = NA\n",
      "Column = 1 - Name = Longitude - Locator = x1\n",
      "Column = 2 - Name = Latitude - Locator = x2\n",
      "Column = 3 - Name = Elevation - Locator = NA\n",
      "Column = 4 - Name = January_temp - Locator = z1\n",
      " "
     ]
    }
   ],
   "source": [
    "dat.deleteColumn(\"newvar\")\n",
    "dat.display()"
   ]
  },
  {
   "cell_type": "markdown",
   "id": "764622ff",
   "metadata": {},
   "source": [
    "## Locators"
   ]
  },
  {
   "cell_type": "markdown",
   "id": "12af8743",
   "metadata": {},
   "source": [
    "The locators are used to specify the **role** assigned to a Column for the rest of the study (unless changed further). The *locator* is characterized by its name (*Z* for a variable and *X* for a coordinate) within the Enumerator *ELoc*."
   ]
  },
  {
   "cell_type": "code",
   "execution_count": 17,
   "id": "689ad1c1",
   "metadata": {
    "scrolled": true
   },
   "outputs": [
    {
     "data": {
      "text/plain": [
       "\n",
       "Data Base Characteristics\n",
       "=========================\n",
       "\n",
       "Data Base Summary\n",
       "-----------------\n",
       "File is organized as a set of isolated points\n",
       "Space dimension              = 2\n",
       "Number of Columns            = 5\n",
       "Total number of samples      = 236\n",
       "\n",
       "Variables\n",
       "---------\n",
       "Column = 0 - Name = rank - Locator = NA\n",
       "Column = 1 - Name = Longitude - Locator = x1\n",
       "Column = 2 - Name = Latitude - Locator = x2\n",
       "Column = 3 - Name = Elevation - Locator = NA\n",
       "Column = 4 - Name = January_temp - Locator = z1"
      ]
     },
     "execution_count": 17,
     "metadata": {},
     "output_type": "execute_result"
    }
   ],
   "source": [
    "dat.setLocators([\"Longitude\",\"Latitude\"], gl.ELoc.X)\n",
    "dat.setLocator(\"January_temp\", gl.ELoc.Z)\n",
    "dat"
   ]
  },
  {
   "cell_type": "markdown",
   "id": "9307b716",
   "metadata": {},
   "source": [
    "As can be seen in the printout, variables *Latitude* and *Longitude* have been designated as coordinates (pay attention to the order) and *January_temp* is the (unique) variable of interest. Therefore any subsequent step will be performed as a monovariate 2-D process.\n",
    "\n",
    "The locator is translated into a *letter*,*number* pair for better legibility: e.g. *x1* for the first coordinate.\n",
    "\n",
    "Here are all the **roles** known by **gstlearn**:"
   ]
  },
  {
   "cell_type": "code",
   "execution_count": 18,
   "id": "5874be77",
   "metadata": {
    "scrolled": true
   },
   "outputs": [
    {
     "name": "stdout",
     "output_type": "stream",
     "text": [
      "  -1 -     UNKNOWN : Unknown locator\n",
      "    0 -           X : Coordinate\n",
      "    1 -           Z : Variable\n",
      "    2 -           V : Variance of measurement error\n",
      "    3 -           F : External Drift\n",
      "    4 -           G : Gradient component\n",
      "    5 -           L : Lower bound of an inequality\n",
      "    6 -           U : Upper bound of an inequality\n",
      "    7 -           P : Proportion\n",
      "    8 -           W : Weight\n",
      "    9 -           C : Code\n",
      "   10 -         SEL : Selection\n",
      "   11 -         DOM : Domain\n",
      "   12 -        BLEX : Block Extension\n",
      "   13 -        ADIR : Dip direction Angle\n",
      "   14 -        ADIP : Dip Angle\n",
      "   15 -        SIZE : Object height\n",
      "   16 -          BU : Fault UP termination\n",
      "   17 -          BD : Fault DOWN termination\n",
      "   18 -        TIME : Time variable\n",
      "   19 -       LAYER : Layer rank\n",
      "   20 -      NOSTAT : Non-stationary parameter\n",
      "   21 -        TGTE : Tangent\n",
      "   22 -        SIMU : Conditional or non-conditional simulations\n",
      "   23 -      FACIES : Facies simulated\n",
      "   24 -     GAUSFAC : Gaussian value for Facies\n",
      "   25 -        DATE : Date\n",
      "   26 -       RKLOW : Rank for lower bound (when discretized)\n",
      "   27 -        RKUP : Rank for upper bound (when discretized)\n",
      "   28 -         SUM : Constraints on the Sum\n",
      " "
     ]
    }
   ],
   "source": [
    "gl.ELoc.printAll()"
   ]
  },
  {
   "cell_type": "markdown",
   "id": "202f31dd",
   "metadata": {},
   "source": [
    "# More with Db"
   ]
  },
  {
   "cell_type": "markdown",
   "id": "9e7c9b1b",
   "metadata": {},
   "source": [
    "## Plotting a Db"
   ]
  },
  {
   "cell_type": "markdown",
   "id": "0fc8106f",
   "metadata": {},
   "source": [
    "Plot the contents of a Db using functions of the **gstlearn.plot** sub-package (which relies on **matplotlib**). The color option (**nameColor**) is used to represent the **january_temp** variable.\n",
    "\n",
    "Note: Non availalble values (NaN) are converted into 0 for display purpose. This behavior will be modified and tunable in future versions."
   ]
  },
  {
   "cell_type": "code",
   "execution_count": 19,
   "id": "43e80225",
   "metadata": {
    "scrolled": true
   },
   "outputs": [
    {
     "data": {
      "image/png": "[encoded data removed]",
      "text/plain": [
       "<Figure size 576x576 with 2 Axes>"
      ]
     },
     "metadata": {
      "needs_background": "light"
     },
     "output_type": "display_data"
    }
   ],
   "source": [
    "fig, ax = gp.initGeographic()\n",
    "ax.symbol(dat, nameColor=\"January_temp\", flagLegendColor=True, legendNameColor=\"Temperature\")\n",
    "ax.decoration(title=\"January Temperature\", xlabel=\"Easting\", ylabel=\"Northing\")\n",
    "plt.show()"
   ]
  },
  {
   "cell_type": "markdown",
   "id": "336cab93",
   "metadata": {},
   "source": [
    "A more elaborated graphic representation displays the samples with a symbol proportional to the Elevation (**nameSize**) and a color representing the Temperature (**nameColor**)."
   ]
  },
  {
   "cell_type": "code",
   "execution_count": 20,
   "id": "153f30dd",
   "metadata": {
    "scrolled": true
   },
   "outputs": [
    {
     "data": {
      "image/png": "[encoded data removed]",
      "text/plain": [
       "<Figure size 576x576 with 1 Axes>"
      ]
     },
     "metadata": {
      "needs_background": "light"
     },
     "output_type": "display_data"
    }
   ],
   "source": [
    "fig, ax = gp.initGeographic()\n",
    "ax.symbol(dat, nameSize=\"Elevation\", nameColor=\"*temp\", flagLegendSize=True, legendNameSize=\"Elevation\")\n",
    "ax.decoration(title=\"January Temperature\", xlabel=\"Easting\", ylabel=\"Northing\")\n",
    "plt.show()"
   ]
  },
  {
   "cell_type": "markdown",
   "id": "49729a51",
   "metadata": {},
   "source": [
    "Of course, you can use your own graphical routines (for example, a direct call to **matplotlib**) by simply accessing to the *gstlearn* data base values (using '[ ]' accessor):"
   ]
  },
  {
   "cell_type": "code",
   "execution_count": 21,
   "id": "de38b014",
   "metadata": {
    "scrolled": true
   },
   "outputs": [
    {
     "data": {
      "image/png": "[encoded data removed]",
      "text/plain": [
       "<Figure size 1440x576 with 2 Axes>"
      ]
     },
     "metadata": {
      "needs_background": "light"
     },
     "output_type": "display_data"
    }
   ],
   "source": [
    "plt.figure(figsize=(20,8))\n",
    "plt.scatter(dat[\"x1\"], dat[\"x2\"], s=20, c=dat[\"*temp\"]) # Locator or variable name is OK\n",
    "plt.title(\"January Temperatures\")\n",
    "plt.xlabel(\"Easting\")\n",
    "plt.ylabel(\"Northing\")\n",
    "plt.colorbar(label=\"Temperature (°C)\")\n",
    "plt.gca().set_aspect('equal') # Respect aspect ratio\n",
    "plt.show()"
   ]
  },
  {
   "cell_type": "markdown",
   "id": "3cda8aa6",
   "metadata": {},
   "source": [
    "## Grid Data Base"
   ]
  },
  {
   "cell_type": "markdown",
   "id": "f38e253d",
   "metadata": {},
   "source": [
    "On the same area, a terrain model is available (as a demonstration file available in the package distribution). We first download it and create the corresponding data base defined on a grid support (*DbGrid*)."
   ]
  },
  {
   "cell_type": "code",
   "execution_count": 22,
   "id": "d18200a7",
   "metadata": {
    "scrolled": false
   },
   "outputs": [
    {
     "data": {
      "text/plain": [
       "\n",
       "Data Base Grid Characteristics\n",
       "==============================\n",
       "\n",
       "Data Base Summary\n",
       "-----------------\n",
       "File is organized as a regular grid\n",
       "Space dimension              = 2\n",
       "Number of Columns            = 4\n",
       "Total number of samples      = 11097\n",
       "Number of active samples     = 3092\n",
       "\n",
       "Grid characteristics:\n",
       "---------------------\n",
       "Origin :     65.000   535.000\n",
       "Mesh   :      4.938     4.963\n",
       "Number :         81       137\n",
       "\n",
       "Variables\n",
       "---------\n",
       "Column = 0 - Name = Longitude - Locator = x1\n",
       "Column = 1 - Name = Latitude - Locator = x2\n",
       "Column = 2 - Name = Elevation - Locator = f1\n",
       "Column = 3 - Name = inshore - Locator = sel"
      ]
     },
     "execution_count": 22,
     "metadata": {},
     "output_type": "execute_result"
    }
   ],
   "source": [
    "elev_nf = gdoc.loadData(\"Scotland\", \"Scotland_Elevations.NF\")\n",
    "grid = gl.DbGrid.createFromNF(elev_nf)\n",
    "grid"
   ]
  },
  {
   "cell_type": "markdown",
   "id": "99fb83b6",
   "metadata": {},
   "source": [
    "We can check that the grid is constituted of 81 columns and 137 rows, or 11097 grid cells. We can also notice that some locators are already defined (these information are stored in the Neutral File).\n"
   ]
  },
  {
   "cell_type": "markdown",
   "id": "babd4a8e",
   "metadata": {},
   "source": [
    "## Selection"
   ]
  },
  {
   "cell_type": "markdown",
   "id": "bcf6b948",
   "metadata": {},
   "source": [
    "We can check the presence of a variable (called *inshore*) which is assigned to the *sel* locator: this corresponds to a *Selection* which acts as a binary filter: some grid cells are active and others are masked off. The count of active samples is given in the previous printout (3092). This selection remains active until the locator 'sel' is replaced or deleted (there may not be more than one selection defined at a time per data base). This is what can be seen in the following display where the *Elevation* is automatically represented **only** within the *inshore* selection.\n",
    "\n",
    "Note that any variable (having values equal to 0/1 or True/False) can be considered as a Selection: it must simply be assigned to the *sel* locator using the *setLocator* method described earlier."
   ]
  },
  {
   "cell_type": "code",
   "execution_count": 23,
   "id": "80ecb844",
   "metadata": {
    "scrolled": true
   },
   "outputs": [
    {
     "data": {
      "image/png": "[encoded data removed]",
      "text/plain": [
       "<Figure size 576x576 with 2 Axes>"
      ]
     },
     "metadata": {
      "needs_background": "light"
     },
     "output_type": "display_data"
    }
   ],
   "source": [
    "fig, ax = gp.initGeographic()\n",
    "ax.raster(grid, name=\"Elevation\", flagLegend=True)\n",
    "ax.decoration(title=\"Elevation\", xlabel=\"Easting\", ylabel=\"Northing\")\n",
    "plt.show()"
   ]
  },
  {
   "cell_type": "markdown",
   "id": "f9b57828",
   "metadata": {},
   "source": [
    "## Final plot"
   ]
  },
  {
   "cell_type": "markdown",
   "id": "03e222ca",
   "metadata": {},
   "source": [
    "On this final plot, we combine grid and point representations."
   ]
  },
  {
   "cell_type": "code",
   "execution_count": 24,
   "id": "d3dcdb28",
   "metadata": {
    "scrolled": false
   },
   "outputs": [
    {
     "data": {
      "image/png": "[encoded data removed]",
      "text/plain": [
       "<Figure size 576x576 with 2 Axes>"
      ]
     },
     "metadata": {
      "needs_background": "light"
     },
     "output_type": "display_data"
    }
   ],
   "source": [
    "fig, ax = gp.initGeographic()\n",
    "ax.raster(grid, name=\"Elevation\", flagLegend=True)\n",
    "ax.symbol(dat, nameSize=\"*temp\", flagLegendSize=True, legendNameSize=\"Temperature\", sizmin=10, sizmax=30, c=\"yellow\")\n",
    "ax.decoration(title=\"Elevation and Temperatures\", xlabel=\"Easting\", ylabel=\"Northing\")\n",
    "plt.show()"
   ]
  },
  {
   "cell_type": "code",
   "execution_count": null,
   "id": "c136af61",
   "metadata": {},
   "outputs": [],
   "source": []
  }
 ],
 "metadata": {
  "kernelspec": {
   "display_name": "Python 3 (ipykernel)",
   "language": "python",
   "name": "python3"
  },
  "language_info": {
   "codemirror_mode": {
    "name": "ipython",
    "version": 3
   },
   "file_extension": ".py",
   "mimetype": "text/x-python",
   "name": "python",
   "nbconvert_exporter": "python",
   "pygments_lexer": "ipython3",
   "version": "3.10.5"
  },
  "toc": {
   "base_numbering": 1,
   "nav_menu": {},
   "number_sections": true,
   "sideBar": true,
   "skip_h1_title": false,
   "title_cell": "Table of Contents",
   "title_sidebar": "Contents",
   "toc_cell": true,
   "toc_position": {
    "height": "calc(100% - 180px)",
    "left": "10px",
    "top": "150px",
    "width": "298.1px"
   },
   "toc_section_display": true,
   "toc_window_display": false
  }
 },
 "nbformat": 4,
 "nbformat_minor": 5
}
