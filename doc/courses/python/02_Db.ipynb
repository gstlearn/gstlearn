{
 "cells": [
  {
   "cell_type": "markdown",
   "id": "7718c2a8",
   "metadata": {},
   "source": [
    "# Using Data Base in gstlearn"
   ]
  },
  {
   "cell_type": "markdown",
   "id": "9cf4315c",
   "metadata": {},
   "source": [
    "In this preamble, we load the **gstlearn** library."
   ]
  },
  {
   "cell_type": "code",
   "execution_count": null,
   "id": "38da96f8",
   "metadata": {},
   "outputs": [],
   "source": [
    "%%javascript\n",
    "IPython.OutputArea.prototype._should_scroll = function(lines) {\n",
    "    return false;\n",
    "}"
   ]
  },
  {
   "cell_type": "code",
   "execution_count": null,
   "id": "145a5aa5",
   "metadata": {},
   "outputs": [],
   "source": [
    "import gstlearn as gl\n",
    "import gstlearn.plot as gp\n",
    "import matplotlib.pyplot as plt\n",
    "import numpy as np\n",
    "import os\n",
    "import urllib.request"
   ]
  },
  {
   "cell_type": "markdown",
   "id": "8b64937c",
   "metadata": {},
   "source": [
    "This is the (non-exhaustive) list of classes (of objects) in gstlearn:\n",
    "\n",
    "* Db, DbGrid: numerical data base\n",
    "* DirParam, VarioParam and Vario: experimental variograms\n",
    "* Model: variogram model\n",
    "* Neigh: neighborhood\n",
    "* Anam: gaussian anamorphosis\n",
    "* Polygon: 2-D polygonal shapes\n",
    "* Rule: lithotype rule for thresholds used for truncated plurigaussian models"
   ]
  },
  {
   "cell_type": "markdown",
   "id": "043bb453",
   "metadata": {},
   "source": [
    "# Importing External File"
   ]
  },
  {
   "cell_type": "markdown",
   "id": "3b57e03e",
   "metadata": {},
   "source": [
    "## Loading CSV file"
   ]
  },
  {
   "cell_type": "markdown",
   "id": "7ed1eb57",
   "metadata": {},
   "source": [
    "You should download the ASCII file called *Scotland_Temperatures.csv* (organized as a CSV file) and store it on your disk in temporary directory. In this example, the file (called *temp_csv*) is provided as a *CSV* format file. We load it into a data frame (names *datcsv*) using the relevant Python command."
   ]
  },
  {
   "cell_type": "code",
   "execution_count": null,
   "id": "54400a0b",
   "metadata": {},
   "outputs": [],
   "source": [
    "url = 'https://soft.minesparis.psl.eu/gstlearn/data/Scotland/Scotland_Temperatures.csv'\n",
    "temp_csv, head = urllib.request.urlretrieve(url)"
   ]
  },
  {
   "cell_type": "code",
   "execution_count": null,
   "id": "9cff1c38",
   "metadata": {
    "scrolled": true
   },
   "outputs": [],
   "source": [
    "import pandas as pd\n",
    "datcsv = pd.read_csv(temp_csv)\n",
    "datcsv"
   ]
  },
  {
   "cell_type": "markdown",
   "id": "f9d291f8",
   "metadata": {},
   "source": [
    "We can check the contents of the data frame (by simply typing its name) and see that it contains four columns (respectively called *Longitude*, *Latitude*, *Elevation*, *January_temp*) and 236 rows (header line excluded).\n",
    "\n",
    "Note that the last column contains several values called *MISS*: this corresponds to the absence of information."
   ]
  },
  {
   "cell_type": "markdown",
   "id": "4d88e468",
   "metadata": {},
   "source": [
    "## Creating Db File from CSV"
   ]
  },
  {
   "cell_type": "markdown",
   "id": "c9e888e9",
   "metadata": {},
   "source": [
    "We now want to load this information in order to obtain a data base of the gstlearn package (or *Db*) that will be called *dat*. This operation can be performed directly by reading the CSV file again and load it directly into a Db.\n",
    "\n",
    "Note that we introduce a *CSVformat* description where we can specifiy the specificities of the file to be read, in particular we can tell how to spell the conventional value used for coding missing information."
   ]
  },
  {
   "cell_type": "code",
   "execution_count": null,
   "id": "548371b3",
   "metadata": {
    "scrolled": false
   },
   "outputs": [],
   "source": [
    "csv = gl.CSVformat.create(flagHeader=True, naString = \"MISS\")\n",
    "dat = gl.Db.createFromCSV(temp_csv, csv=csv)\n",
    "dat"
   ]
  },
  {
   "cell_type": "markdown",
   "id": "c7d58f76",
   "metadata": {},
   "source": [
    "## Importing Db File"
   ]
  },
  {
   "cell_type": "markdown",
   "id": "fd49150b",
   "metadata": {},
   "source": [
    "A last solution is to import it directly from the set of demonstration files (provided together with the package and called *temp_nf*) and stored in a specific format (Neutral file). \n",
    "\n",
    "These *NF* (or neutral file) are currently used for serialization of the gstlearn objects. They will probably be replaced in the future by a facility backuping the whole workspace in one step.\n",
    "\n",
    "Note that the contents of the Db is slightly different from the result obtained when reading from CSV. Essentially, some variables have a *Locator* field defined, some do not. This concept will be described later in this chapter and the difference can be ignored."
   ]
  },
  {
   "cell_type": "code",
   "execution_count": null,
   "id": "1171dc3e",
   "metadata": {
    "scrolled": true
   },
   "outputs": [],
   "source": [
    "url = 'https://soft.minesparis.psl.eu/gstlearn/data/Scotland/Scotland_Temperatures.NF'\n",
    "temp_nf, head = urllib.request.urlretrieve(url)\n",
    "dat = gl.Db.createFromNF(temp_nf)\n",
    "dat"
   ]
  },
  {
   "cell_type": "markdown",
   "id": "9184fe0a",
   "metadata": {},
   "source": [
    "# Discovering Db"
   ]
  },
  {
   "cell_type": "markdown",
   "id": "272207dc",
   "metadata": {},
   "source": [
    "## The Db class"
   ]
  },
  {
   "cell_type": "markdown",
   "id": "1c95678f",
   "metadata": {},
   "source": [
    "Typing the name of the object automatically launches the **display**. It is equivalent to simply typing the name of the object (at the end of a cell in a jupyter notebook).\n"
   ]
  },
  {
   "cell_type": "code",
   "execution_count": null,
   "id": "65cb4adf",
   "metadata": {
    "scrolled": true
   },
   "outputs": [],
   "source": [
    "dat.display()"
   ]
  },
  {
   "cell_type": "markdown",
   "id": "be180c3c",
   "metadata": {},
   "source": [
    "There, we can check that the 4 initial fields have been considered, in addition to a firs one, automatically called *rank*, for a total of 5 columns (the information regarding *UID* will not be addressed in this chapter).\n",
    "\n",
    "We can check that each field is assigned to a numbered *Column*. Finally the total number of samples is 236 as expected.\n",
    "\n",
    "In addition, some interesting information tells you that this data base corresponds to a 2-D dimension one: this will be described later together with the use of the *Locator* information.\n"
   ]
  },
  {
   "cell_type": "markdown",
   "id": "298b7c00",
   "metadata": {},
   "source": [
    "To get more information on the contents of the Db, it is possible to use the *DbStringFormat* option and to use use through the *display* method. There are several ways to specify the type of information that is searched for (see the documentation of this class for details): typically here we ask for statistics but restrict them to a list of variables "
   ]
  },
  {
   "cell_type": "code",
   "execution_count": null,
   "id": "0816e8ed",
   "metadata": {
    "scrolled": true
   },
   "outputs": [],
   "source": [
    "dbfmt = gl.DbStringFormat.createFromFlags(flag_stats=True, names=[\"Elevation\", \"January_temp\"])\n",
    "dat.display(dbfmt)"
   ]
  },
  {
   "cell_type": "markdown",
   "id": "6683e1f5",
   "metadata": {},
   "source": [
    "We can also consider the data base as a data frame and use the *[  ]* assessors. The following usage show the whole contents of the data base."
   ]
  },
  {
   "cell_type": "code",
   "execution_count": null,
   "id": "a8e16536",
   "metadata": {
    "scrolled": true
   },
   "outputs": [],
   "source": [
    "dat[:]"
   ]
  },
  {
   "cell_type": "markdown",
   "id": "87ab486e",
   "metadata": {},
   "source": [
    "We can access to one or several variables. Note that the contents of the Column corresponding to the target variable (i.e. *January_temp*) is produced as a series of values (printed along a line). \n",
    "\n",
    "Also note the presence of samples with *NA* corresponding to those where the target variable is not informed."
   ]
  },
  {
   "cell_type": "code",
   "execution_count": null,
   "id": "73a2bfc9",
   "metadata": {
    "scrolled": true
   },
   "outputs": [],
   "source": [
    "dat[\"January_temp\"]"
   ]
  },
  {
   "cell_type": "markdown",
   "id": "95657cac",
   "metadata": {},
   "source": [
    "But it can be more restrictive as in the following paragraph, where we only consider the samples 10 to 15, and only consider the variables *Latitude* and *Elevation*."
   ]
  },
  {
   "cell_type": "code",
   "execution_count": null,
   "id": "9b3d78e5",
   "metadata": {
    "scrolled": false
   },
   "outputs": [],
   "source": [
    "dat[10:15, [\"Latitude\", \"Elevation\"]]"
   ]
  },
  {
   "cell_type": "markdown",
   "id": "bd0cc83c",
   "metadata": {},
   "source": [
    "We can also replace the variable *Name* by their *Column* rank. Although this is not recommanded as the Column number may vary over time."
   ]
  },
  {
   "cell_type": "code",
   "execution_count": null,
   "id": "0471d4f0",
   "metadata": {
    "scrolled": true
   },
   "outputs": [],
   "source": [
    "dat[10:15, 2:4]"
   ]
  },
  {
   "cell_type": "markdown",
   "id": "4fef59e8",
   "metadata": {},
   "source": [
    "Please also note the feature that a variable whose name does not exist (*newvar*) in the data base, is created on the fly. Also note that variables may be specified with names referred to using traditional regexp expressions (i.e. the symbol '*' replaces any list of characters):"
   ]
  },
  {
   "cell_type": "code",
   "execution_count": null,
   "id": "5860a18d",
   "metadata": {
    "scrolled": true
   },
   "outputs": [],
   "source": [
    "dat[\"newvar\"] = 12.3 * dat[\"Elevation\"] - 2.1 * dat[\"*temp\"]\n",
    "dat"
   ]
  },
  {
   "cell_type": "markdown",
   "id": "764622ff",
   "metadata": {},
   "source": [
    "## Locators"
   ]
  },
  {
   "cell_type": "markdown",
   "id": "12af8743",
   "metadata": {},
   "source": [
    "The locators are used to specify the **role** assigned to a Column for the rest of the study (unless changed further). The locator is characterized by its name (*Z* for a variable and *X* for a coordinate) within the Enumeration *ELoc* and its rank."
   ]
  },
  {
   "cell_type": "code",
   "execution_count": null,
   "id": "689ad1c1",
   "metadata": {
    "scrolled": true
   },
   "outputs": [],
   "source": [
    "dat.setLocators([\"Longitude\",\"Latitude\"], gl.ELoc.X)\n",
    "dat.setLocator(\"*temp\", gl.ELoc.Z, cleanSameLocator=True)\n",
    "dat"
   ]
  },
  {
   "cell_type": "markdown",
   "id": "9307b716",
   "metadata": {},
   "source": [
    "As can be seen in the printout, variables *Latitude* and *Longitude* have been designated as coordinates (pay attention to the order) and *January_temp* is the (unique) variable. Therefore any subsequent step will be performed as a monovariate 2-D process.\n",
    "\n",
    "The locator is translated into a *letter*,*number* pair for better legibility: e.g. *x1* for the first coordinate.\n"
   ]
  },
  {
   "cell_type": "markdown",
   "id": "9e7c9b1b",
   "metadata": {},
   "source": [
    "## Plotting a Db"
   ]
  },
  {
   "cell_type": "markdown",
   "id": "0fc8106f",
   "metadata": {},
   "source": [
    "Plot the contents of a Db using functions of the **plot.py** package. The proportional option is used to represent to **january_temp** variable."
   ]
  },
  {
   "cell_type": "code",
   "execution_count": null,
   "id": "43e80225",
   "metadata": {
    "scrolled": true
   },
   "outputs": [],
   "source": [
    "fig, ax = gp.initGeographic()\n",
    "ax.symbol(dat, name_size=\"*temp\", flagLegend=True, legendName=\"Temperature\")\n",
    "ax.decoration(title=\"My Data Base\", xlabel=\"Easting\", ylabel=\"Northing\")\n",
    "plt.show()"
   ]
  },
  {
   "cell_type": "markdown",
   "id": "336cab93",
   "metadata": {},
   "source": [
    "A more elaborated graphic representation displays the samples with a symbol proportional to the Elevation and a color representing the Temperature."
   ]
  },
  {
   "cell_type": "code",
   "execution_count": null,
   "id": "153f30dd",
   "metadata": {
    "scrolled": true
   },
   "outputs": [],
   "source": [
    "fig, ax = gp.initGeographic()\n",
    "ax.symbol(dat, name_size=\"Elevation\", name_color=\"*temp\", flagLegend=True, legendName=\"Elevation\")\n",
    "ax.decoration(title=\"My Data Base\", xlabel=\"Easting\", ylabel=\"Northing\")\n",
    "plt.show()"
   ]
  },
  {
   "cell_type": "markdown",
   "id": "3cda8aa6",
   "metadata": {},
   "source": [
    "# Grid Data Base"
   ]
  },
  {
   "cell_type": "markdown",
   "id": "f38e253d",
   "metadata": {},
   "source": [
    "On the same area, a terrain model is available (as a demonstration file available in the package distribution). We first download it as an element of a data base defined on a grid support (*DbGrid*)."
   ]
  },
  {
   "cell_type": "code",
   "execution_count": null,
   "id": "d18200a7",
   "metadata": {
    "scrolled": false
   },
   "outputs": [],
   "source": [
    "url = 'https://soft.minesparis.psl.eu/gstlearn/data/Scotland/Scotland_Elevations.NF'\n",
    "elev_nf, head = urllib.request.urlretrieve(url)\n",
    "grid = gl.DbGrid.createFromNF(elev_nf)\n",
    "grid"
   ]
  },
  {
   "cell_type": "markdown",
   "id": "99fb83b6",
   "metadata": {},
   "source": [
    "We can check that the grid is constituted of 81 columns and 137 rows, or 11097 grid cells.\n"
   ]
  },
  {
   "cell_type": "markdown",
   "id": "babd4a8e",
   "metadata": {},
   "source": [
    "## Selection"
   ]
  },
  {
   "cell_type": "markdown",
   "id": "bcf6b948",
   "metadata": {},
   "source": [
    "We can check the presence of a variable (called *inshore*) which is assigned to the *sel* locator: this corresponds to a *Selection* which acts as a binary filter: some grid cells are active and others are masked off. The count of active samples is given in the previous printout (3092). This selection remains active until it is replaced or deleted (there may not be more than one selection defined at a time per data base). This is what can be seen in the following display where we represent the *Elevation* only within the *inshore* selection.\n",
    "\n",
    "Note that any variable can be considered as a Selection: it must simply be assigned to the *sel* locator using the *setLocator* variable described earlier."
   ]
  },
  {
   "cell_type": "code",
   "execution_count": null,
   "id": "80ecb844",
   "metadata": {
    "scrolled": true
   },
   "outputs": [],
   "source": [
    "fig, ax = gp.initGeographic()\n",
    "ax.raster(grid, name=\"Elevation\")\n",
    "ax.decoration(title=\"My Grid\", xlabel=\"Easting\", ylabel=\"Northing\")\n",
    "plt.show()"
   ]
  },
  {
   "cell_type": "markdown",
   "id": "03e222ca",
   "metadata": {},
   "source": [
    "On this final plot, we combine grid and point representations."
   ]
  },
  {
   "cell_type": "code",
   "execution_count": null,
   "id": "d3dcdb28",
   "metadata": {
    "scrolled": true
   },
   "outputs": [],
   "source": [
    "fig, ax = gp.initGeographic()\n",
    "ax.raster(grid, name=\"Elevation\")\n",
    "ax.symbol(dat, name_size=\"*temp\", flagLegend=True, legendName=\"Temperature\", c=\"yellow\")\n",
    "ax.decoration(title=\"My Grid\", xlabel=\"Easting\", ylabel=\"Northing\")\n",
    "plt.show()"
   ]
  }
 ],
 "metadata": {
  "kernelspec": {
   "display_name": "Python 3 (ipykernel)",
   "language": "python",
   "name": "python3"
  },
  "language_info": {
   "codemirror_mode": {
    "name": "ipython",
    "version": 3
   },
   "file_extension": ".py",
   "mimetype": "text/x-python",
   "name": "python",
   "nbconvert_exporter": "python",
   "pygments_lexer": "ipython3",
   "version": "3.10.12"
  }
 },
 "nbformat": 4,
 "nbformat_minor": 5
}
