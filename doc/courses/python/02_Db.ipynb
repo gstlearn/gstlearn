{
 "cells": [
  {
   "cell_type": "markdown",
   "id": "5a52250a",
   "metadata": {
    "toc": true
   },
   "source": [
    "<h1>Table of Contents<span class=\"tocSkip\"></span></h1>\n",
    "<div class=\"toc\"><ul class=\"toc-item\"><li><span><a href=\"#Data-Base\" data-toc-modified-id=\"Data-Base-1\"><span class=\"toc-item-num\">1&nbsp;&nbsp;</span>Data Base</a></span></li><li><span><a href=\"#Main-classes\" data-toc-modified-id=\"Main-classes-2\"><span class=\"toc-item-num\">2&nbsp;&nbsp;</span>Main classes</a></span></li><li><span><a href=\"#Importing-External-File\" data-toc-modified-id=\"Importing-External-File-3\"><span class=\"toc-item-num\">3&nbsp;&nbsp;</span>Importing External File</a></span><ul class=\"toc-item\"><li><span><a href=\"#Loading-a-CSV-file\" data-toc-modified-id=\"Loading-a-CSV-file-3.1\"><span class=\"toc-item-num\">3.1&nbsp;&nbsp;</span>Loading a CSV file</a></span></li><li><span><a href=\"#Creating-Db-object-from-a-Pandas-frame\" data-toc-modified-id=\"Creating-Db-object-from-a-Pandas-frame-3.2\"><span class=\"toc-item-num\">3.2&nbsp;&nbsp;</span>Creating Db object from a Pandas frame</a></span></li><li><span><a href=\"#Creating-Db-object-directly-from-CSV-file\" data-toc-modified-id=\"Creating-Db-object-directly-from-CSV-file-3.3\"><span class=\"toc-item-num\">3.3&nbsp;&nbsp;</span>Creating Db object directly from CSV file</a></span></li><li><span><a href=\"#Importing-Db-File-from-a-&quot;Neutral-File&quot;\" data-toc-modified-id=\"Importing-Db-File-from-a-&quot;Neutral-File&quot;-3.4\"><span class=\"toc-item-num\">3.4&nbsp;&nbsp;</span>Importing Db File from a \"Neutral File\"</a></span></li></ul></li><li><span><a href=\"#Discovering-Db\" data-toc-modified-id=\"Discovering-Db-4\"><span class=\"toc-item-num\">4&nbsp;&nbsp;</span>Discovering Db</a></span><ul class=\"toc-item\"><li><span><a href=\"#The-Db-class\" data-toc-modified-id=\"The-Db-class-4.1\"><span class=\"toc-item-num\">4.1&nbsp;&nbsp;</span>The Db class</a></span></li><li><span><a href=\"#Assessors-for-Db-class\" data-toc-modified-id=\"Assessors-for-Db-class-4.2\"><span class=\"toc-item-num\">4.2&nbsp;&nbsp;</span>Assessors for Db class</a></span></li><li><span><a href=\"#Locators\" data-toc-modified-id=\"Locators-4.3\"><span class=\"toc-item-num\">4.3&nbsp;&nbsp;</span>Locators</a></span></li></ul></li><li><span><a href=\"#More-with-Db\" data-toc-modified-id=\"More-with-Db-5\"><span class=\"toc-item-num\">5&nbsp;&nbsp;</span>More with Db</a></span><ul class=\"toc-item\"><li><span><a href=\"#Plotting-a-Db\" data-toc-modified-id=\"Plotting-a-Db-5.1\"><span class=\"toc-item-num\">5.1&nbsp;&nbsp;</span>Plotting a Db</a></span></li><li><span><a href=\"#Grid-Data-Base\" data-toc-modified-id=\"Grid-Data-Base-5.2\"><span class=\"toc-item-num\">5.2&nbsp;&nbsp;</span>Grid Data Base</a></span></li><li><span><a href=\"#Selection\" data-toc-modified-id=\"Selection-5.3\"><span class=\"toc-item-num\">5.3&nbsp;&nbsp;</span>Selection</a></span></li><li><span><a href=\"#Final-plot\" data-toc-modified-id=\"Final-plot-5.4\"><span class=\"toc-item-num\">5.4&nbsp;&nbsp;</span>Final plot</a></span></li></ul></li></ul></div>"
   ]
  },
  {
   "cell_type": "markdown",
   "id": "4e4f851d",
   "metadata": {},
   "source": [
    "# Data Base"
   ]
  },
  {
   "cell_type": "markdown",
   "id": "c2a8adc5",
   "metadata": {},
   "source": [
    "<!-- SUMMARY: Description of the Data Base (numerical). How to create a Db (from different sources), to use shortcuts (assessors), to assign roles to variables (locators).  -->\n",
    "\n",
    "<!-- CATEGORY: Courses -->"
   ]
  },
  {
   "cell_type": "markdown",
   "id": "5980434e",
   "metadata": {},
   "source": [
    "In this preamble, we load the **gstlearn** package."
   ]
  },
  {
   "cell_type": "code",
   "execution_count": null,
   "id": "67f730fa",
   "metadata": {},
   "outputs": [],
   "source": [
    "import gstlearn as gl\n",
    "import gstlearn.plot as gp\n",
    "import gstlearn.document as gdoc\n",
    "import matplotlib.pyplot as plt\n",
    "import numpy as np\n",
    "import os\n",
    "\n",
    "gdoc.setNoScroll()"
   ]
  },
  {
   "cell_type": "markdown",
   "id": "13003d5c",
   "metadata": {},
   "source": [
    "# Main classes"
   ]
  },
  {
   "cell_type": "markdown",
   "id": "66e03a04",
   "metadata": {},
   "source": [
    "This is the (non-exhaustive) list of classes (of objects) in gstlearn:\n",
    "\n",
    "* Db, DbGrid: numerical data base\n",
    "* DirParam, VarioParam and Vario: experimental variograms\n",
    "* Model: variogram model\n",
    "* Neigh: neighborhood\n",
    "* Anam: gaussian anamorphosis\n",
    "* Polygon: 2-D polygonal shapes\n",
    "* Rule: lithotype rule for thresholds used for truncated plurigaussian models"
   ]
  },
  {
   "cell_type": "markdown",
   "id": "bd1bdcf9",
   "metadata": {},
   "source": [
    "# Importing External File"
   ]
  },
  {
   "cell_type": "markdown",
   "id": "1ab0da8d",
   "metadata": {},
   "source": [
    "## Loading a CSV file"
   ]
  },
  {
   "cell_type": "markdown",
   "id": "576b1306",
   "metadata": {},
   "source": [
    "We start by downloading the ASCII file called *Scotland_Temperatures.csv* (organized as a CSV file) and we store it in a temporary directory and keep its path in the variable called *temp_csv*. The file is provided as a *CSV* format. We load it into a Pandas data frame (names *datcsv*) using the relevant Python command. Note that \"MISS\" keyword is used in this file to indicate a missing value. Such values will be replaced by NaN."
   ]
  },
  {
   "cell_type": "code",
   "execution_count": null,
   "id": "779aaf7a",
   "metadata": {},
   "outputs": [],
   "source": [
    "temp_csv = gdoc.loadData(\"Scotland\", \"Scotland_Temperatures.csv\")"
   ]
  },
  {
   "cell_type": "code",
   "execution_count": null,
   "id": "c0d4ca3f",
   "metadata": {},
   "outputs": [],
   "source": [
    "import pandas as pd\n",
    "datcsv = pd.read_csv(temp_csv, na_values=\"MISS\")\n",
    "datcsv"
   ]
  },
  {
   "cell_type": "markdown",
   "id": "70712f08",
   "metadata": {},
   "source": [
    "We can check the contents of the data frame (by simply typing its name) and see that it contains four columns (respectively called *Longitude*, *Latitude*, *Elevation*, *January_temp*) and 236 rows (header line excluded)."
   ]
  },
  {
   "cell_type": "markdown",
   "id": "2b95e1dd",
   "metadata": {},
   "source": [
    "## Creating Db object from a Pandas frame"
   ]
  },
  {
   "cell_type": "markdown",
   "id": "f4753bf8",
   "metadata": {},
   "source": [
    "The user can then create a database of the **gstlearn** package (*Db* class) directly from the previously imported Pandas frame. Note that the only numerical columns are copied."
   ]
  },
  {
   "cell_type": "code",
   "execution_count": null,
   "id": "aa729362",
   "metadata": {},
   "outputs": [],
   "source": [
    "dat = gl.Db_fromPandas(datcsv)\n",
    "dat"
   ]
  },
  {
   "cell_type": "markdown",
   "id": "40513faa",
   "metadata": {},
   "source": [
    "## Creating Db object directly from CSV file"
   ]
  },
  {
   "cell_type": "markdown",
   "id": "0b1cfecc",
   "metadata": {},
   "source": [
    "These operations can be performed directly by reading the CSV file again and load it directly into a Db.\n",
    "\n",
    "Note that we introduce a *CSVformat* description where we can specifiy the specificities of the file to be read, in particular we can tell how to spell the conventional value used for coding missing information."
   ]
  },
  {
   "cell_type": "code",
   "execution_count": null,
   "id": "ae28254a",
   "metadata": {},
   "outputs": [],
   "source": [
    "csv = gl.CSVformat.create(flagHeader=True, naString = \"MISS\")\n",
    "dat = gl.Db.createFromCSV(temp_csv, csv=csv)\n",
    "dat"
   ]
  },
  {
   "cell_type": "markdown",
   "id": "b82af2c7",
   "metadata": {},
   "source": [
    "Note that a \"rank\" variable has been automatically added. The *rank* is always 1-based and must be distinguish from an *index* (0-based). The *rank* variable could be later useful for certain functions of the **gstlearn** package."
   ]
  },
  {
   "cell_type": "markdown",
   "id": "d8e53bd3",
   "metadata": {},
   "source": [
    "## Importing Db File from a \"Neutral File\""
   ]
  },
  {
   "cell_type": "markdown",
   "id": "fc1c4770",
   "metadata": {},
   "source": [
    "A last solution is to import it directly from the set of demonstration files (provided together with the package and called *temp_nf*) and stored in a specific format (Neutral file). \n",
    "\n",
    "These *NF* (or neutral file) are currently used for serialization of the gstlearn objects. They will probably be replaced in the future by a facility backuping the whole workspace in one step.\n",
    "\n",
    "Note that the contents of the Db is slightly different from the result obtained when reading from CSV. Essentially, some variables have a *Locator* field defined, some do not. This concept will be described later in this chapter and the difference can be ignored."
   ]
  },
  {
   "cell_type": "code",
   "execution_count": null,
   "id": "5b0d6e0e",
   "metadata": {},
   "outputs": [],
   "source": [
    "temp_nf = gdoc.loadData(\"Scotland\", \"Scotland_Temperatures.NF\")\n",
    "dat = gl.Db.createFromNF(temp_nf)\n",
    "dat"
   ]
  },
  {
   "cell_type": "markdown",
   "id": "b423f3fb",
   "metadata": {},
   "source": [
    "# Discovering Db"
   ]
  },
  {
   "cell_type": "markdown",
   "id": "92fcec5c",
   "metadata": {},
   "source": [
    "## The Db class"
   ]
  },
  {
   "cell_type": "markdown",
   "id": "6b51493a",
   "metadata": {},
   "source": [
    "*Db* objects (as all objects that inherits from *AStringable*) have a method `display` allowing to print a summary of the content of the data base. The same occurs when typing the name of the variable at the end of a cell (see above)."
   ]
  },
  {
   "cell_type": "code",
   "execution_count": null,
   "id": "92fcd4f5",
   "metadata": {},
   "outputs": [],
   "source": [
    "dat.display()"
   ]
  },
  {
   "cell_type": "markdown",
   "id": "59609d1f",
   "metadata": {},
   "source": [
    "There, we can check that the 4 initial fields have been considered, in addition to a first one, automatically called *rank*, for a total of 5 columns (the information regarding *UID* will not be addressed in this chapter).\n",
    "\n",
    "We can check that each field is assigned to a numbered *Column* (0-based index). Finally the total number of samples is 236 as expected.\n",
    "\n",
    "In addition, some interesting information tells you that this data base corresponds to a 2-D dimension one: this will be described later together with the use of the *Locator* information.\n"
   ]
  },
  {
   "cell_type": "markdown",
   "id": "fa8e52c5",
   "metadata": {},
   "source": [
    "To get more information on the contents of the Db, it is possible to use the *DbStringFormat* option and to use use through the *display* method. There are several ways to specify the type of information that is searched for (see the documentation of this class for details): typically here we ask for statistics but restrict them to a list of variables "
   ]
  },
  {
   "cell_type": "code",
   "execution_count": null,
   "id": "aa94ece5",
   "metadata": {},
   "outputs": [],
   "source": [
    "dbfmt = gl.DbStringFormat.createFromFlags(flag_stats=True, names=[\"Elevation\", \"January_temp\"])\n",
    "dat.display(dbfmt)"
   ]
  },
  {
   "cell_type": "markdown",
   "id": "b05b4743",
   "metadata": {},
   "source": [
    "Monovariate statistics are better displayed using a single function called *dbStatisticsMono*. This function waits for a vector of enumerators of type EStatOption as statistic operators. Such vector is created using a static function called *fromKeys* which is available in all enumerators classes (i.e. inherits from *AEnum*)."
   ]
  },
  {
   "cell_type": "code",
   "execution_count": null,
   "id": "871295d3",
   "metadata": {},
   "outputs": [],
   "source": [
    "gl.dbStatisticsMono(dat,\n",
    "                     names=[\"Elevation\", \"January_temp\"],\n",
    "                     opers=gl.EStatOption.fromKeys([\"MEAN\",\"MINI\",\"MAXI\"]))"
   ]
  },
  {
   "cell_type": "markdown",
   "id": "54935575",
   "metadata": {},
   "source": [
    "## Assessors for Db class"
   ]
  },
  {
   "cell_type": "markdown",
   "id": "bf000af6",
   "metadata": {},
   "source": [
    "We can also consider the data base as a 2D array and use the *[  ]* assessors. The following usage shows the whole content of the data base dumped as a 2D **Numpy array**.\n",
    "Note that the print() function is used in order to avoid spurious decoration added by the recent version of numpy"
   ]
  },
  {
   "cell_type": "code",
   "execution_count": null,
   "id": "ac8ebac7",
   "metadata": {},
   "outputs": [],
   "source": [
    "print(dat[:])"
   ]
  },
  {
   "cell_type": "markdown",
   "id": "77eb57ff",
   "metadata": {},
   "source": [
    "We can access to one or several variables. Note that the contents of the Column corresponding to the target variable (i.e. *January_temp*) is produced as a 1D **numpy array**. \n",
    "\n",
    "Also note the presence of samples with *nan* corresponding to those where the target variable is not informed (*'MISS'* in the original dataset file)."
   ]
  },
  {
   "cell_type": "code",
   "execution_count": null,
   "id": "e6b2a469",
   "metadata": {},
   "outputs": [],
   "source": [
    "dat[\"January_temp\"]"
   ]
  },
  {
   "cell_type": "markdown",
   "id": "452967ad",
   "metadata": {},
   "source": [
    "But it can be more restrictive as in the following paragraph, where we only consider the samples 10 to 15, and only consider the variables *rank*, *Latitude*, *Elevation*. Remind that indices start from 0 to N-1. Indices slice '10:15' in Python means indices {10,11,12,13,14} (different from R) which means ranks {11,12,13,14,15}."
   ]
  },
  {
   "cell_type": "code",
   "execution_count": null,
   "id": "b6d7c218",
   "metadata": {},
   "outputs": [],
   "source": [
    "dat[10:15, [\"rank\", \"Latitude\", \"Elevation\"]]"
   ]
  },
  {
   "cell_type": "markdown",
   "id": "c62db2ac",
   "metadata": {},
   "source": [
    "We can also replace the variable *Name* by their *Column* index. Although this is not recommanded as the Column index may vary over time."
   ]
  },
  {
   "cell_type": "code",
   "execution_count": null,
   "id": "124168e7",
   "metadata": {},
   "outputs": [],
   "source": [
    "dat[10:15, 2:4]"
   ]
  },
  {
   "cell_type": "markdown",
   "id": "8bab70cd",
   "metadata": {},
   "source": [
    "A particular function is available to convert all the data base in an appropriate object of the Target Langage (here Python). A gstlearn *Db* is converted into a *Pandas frame* using **toTL** (needs the `conv` optional dependency group)."
   ]
  },
  {
   "cell_type": "code",
   "execution_count": null,
   "id": "6be333a1",
   "metadata": {},
   "outputs": [],
   "source": [
    "dat.toTL()"
   ]
  },
  {
   "cell_type": "markdown",
   "id": "1cd67ba2",
   "metadata": {},
   "source": [
    "Please also note the feature that a variable whose name does not exist (*newvar*) in the data base, is created on the fly. Also note that variables may be specified with names referred to using traditional regexp expressions (i.e. the symbol '*' replaces any list of characters):"
   ]
  },
  {
   "cell_type": "code",
   "execution_count": null,
   "id": "a37d3a8b",
   "metadata": {},
   "outputs": [],
   "source": [
    "dat[\"newvar\"] = 12.3 * dat[\"Elevation\"] - 2.1 * dat[\"*temp\"]\n",
    "dat"
   ]
  },
  {
   "cell_type": "markdown",
   "id": "d872a67d",
   "metadata": {},
   "source": [
    "The user also can remove a variable from the data base by doing the following:"
   ]
  },
  {
   "cell_type": "code",
   "execution_count": null,
   "id": "c6aa0509",
   "metadata": {},
   "outputs": [],
   "source": [
    "dat.deleteColumn(\"newvar\")\n",
    "dat.display()"
   ]
  },
  {
   "cell_type": "markdown",
   "id": "600caadd",
   "metadata": {},
   "source": [
    "## Locators"
   ]
  },
  {
   "cell_type": "markdown",
   "id": "bbc572ef",
   "metadata": {},
   "source": [
    "The locators are used to specify the **role** assigned to a Column for the rest of the study (unless changed further). The *locator* is characterized by its name (*Z* for a variable and *X* for a coordinate) within the Enumerator *ELoc*."
   ]
  },
  {
   "cell_type": "code",
   "execution_count": null,
   "id": "8a271b08",
   "metadata": {},
   "outputs": [],
   "source": [
    "dat.setLocators([\"Longitude\",\"Latitude\"], gl.ELoc.X)\n",
    "dat.setLocator(\"January_temp\", gl.ELoc.Z)\n",
    "dat"
   ]
  },
  {
   "cell_type": "markdown",
   "id": "9947d0a2",
   "metadata": {},
   "source": [
    "As can be seen in the printout, variables *Latitude* and *Longitude* have been designated as coordinates (pay attention to the order) and *January_temp* is the (unique) variable of interest. Therefore any subsequent step will be performed as a monovariate 2-D process.\n",
    "\n",
    "The locator is translated into a *letter*,*number* pair for better legibility: e.g. *x1* for the first coordinate.\n",
    "\n",
    "Here are all the **roles** known by **gstlearn**:"
   ]
  },
  {
   "cell_type": "code",
   "execution_count": null,
   "id": "36ff278b",
   "metadata": {},
   "outputs": [],
   "source": [
    "gl.ELoc.printAll()"
   ]
  },
  {
   "cell_type": "markdown",
   "id": "0eb3bc72",
   "metadata": {},
   "source": [
    "# More with Db"
   ]
  },
  {
   "cell_type": "markdown",
   "id": "af850a46",
   "metadata": {},
   "source": [
    "## Plotting a Db"
   ]
  },
  {
   "cell_type": "markdown",
   "id": "eec6f4a9",
   "metadata": {},
   "source": [
    "Plot the contents of a Db using functions of the **gstlearn.plot** sub-package (which relies on **matplotlib**). The color option (**nameColor**) is used to represent the **january_temp** variable.\n",
    "\n",
    "Note: Non availalble values (NaN) are converted into 0 for display purpose. This behavior will be modified and tunable in future versions."
   ]
  },
  {
   "cell_type": "code",
   "execution_count": null,
   "id": "7d0cfa1c",
   "metadata": {
    "scrolled": true
   },
   "outputs": [],
   "source": [
    "fig, ax = gp.init()\n",
    "gp.symbol(dat, nameColor=\"January_temp\", flagLegendColor=True, legendNameColor=\"Temperature\")\n",
    "gp.decoration(title=\"January Temperature\", xlabel=\"Easting\", ylabel=\"Northing\")"
   ]
  },
  {
   "cell_type": "markdown",
   "id": "2b670885",
   "metadata": {},
   "source": [
    "A more elaborated graphic representation displays the samples with a symbol proportional to the Elevation (**nameSize**) and a color representing the Temperature (**nameColor**)."
   ]
  },
  {
   "cell_type": "code",
   "execution_count": null,
   "id": "73f6dd00",
   "metadata": {},
   "outputs": [],
   "source": [
    "fig, ax = gp.init()\n",
    "gp.symbol(dat, nameSize=\"Elevation\", nameColor=\"*temp\", flagLegendSize=True, legendNameSize=\"Elevation\")\n",
    "gp.decoration(title=\"January Temperature\", xlabel=\"Easting\", ylabel=\"Northing\")"
   ]
  },
  {
   "cell_type": "markdown",
   "id": "b0675f4a",
   "metadata": {},
   "source": [
    "Of course, you can use your own graphical routines (for example, a direct call to **matplotlib**) by simply accessing to the *gstlearn* data base values (using '[ ]' accessor):"
   ]
  },
  {
   "cell_type": "code",
   "execution_count": null,
   "id": "5191498c",
   "metadata": {},
   "outputs": [],
   "source": [
    "plt.figure(figsize=(20,8))\n",
    "plt.scatter(dat[\"x1\"], dat[\"x2\"], s=20, c=dat[\"*temp\"]) # Locator or variable name is OK\n",
    "plt.title(\"January Temperatures\")\n",
    "plt.xlabel(\"Easting\")\n",
    "plt.ylabel(\"Northing\")\n",
    "plt.colorbar(label=\"Temperature (°C)\")\n",
    "plt.gca().set_aspect('equal') # Respect aspect ratio\n",
    "plt.show()"
   ]
  },
  {
   "cell_type": "markdown",
   "id": "6ad28e40",
   "metadata": {},
   "source": [
    "## Grid Data Base"
   ]
  },
  {
   "cell_type": "markdown",
   "id": "db54dab2",
   "metadata": {},
   "source": [
    "On the same area, a terrain model is available (as a demonstration file available in the package distribution). We first download it and create the corresponding data base defined on a grid support (*DbGrid*)."
   ]
  },
  {
   "cell_type": "code",
   "execution_count": null,
   "id": "3d1edb73",
   "metadata": {},
   "outputs": [],
   "source": [
    "elev_nf = gdoc.loadData(\"Scotland\", \"Scotland_Elevations.NF\")\n",
    "grid = gl.DbGrid.createFromNF(elev_nf)\n",
    "grid"
   ]
  },
  {
   "cell_type": "markdown",
   "id": "e95cdd4d",
   "metadata": {},
   "source": [
    "We can check that the grid is constituted of 81 columns and 137 rows, or 11097 grid cells. We can also notice that some locators are already defined (these information are stored in the Neutral File).\n"
   ]
  },
  {
   "cell_type": "markdown",
   "id": "cdf38a00",
   "metadata": {},
   "source": [
    "## Selection"
   ]
  },
  {
   "cell_type": "markdown",
   "id": "743f5ee9",
   "metadata": {},
   "source": [
    "We can check the presence of a variable (called *inshore*) which is assigned to the *sel* locator: this corresponds to a *Selection* which acts as a binary filter: some grid cells are active and others are masked off. The count of active samples is given in the previous printout (3092). This selection remains active until the locator 'sel' is replaced or deleted (there may not be more than one selection defined at a time per data base). This is what can be seen in the following display where the *Elevation* is automatically represented **only** within the *inshore* selection.\n",
    "\n",
    "Note that any variable (having values equal to 0/1 or True/False) can be considered as a Selection: it must simply be assigned to the *sel* locator using the *setLocator* method described earlier."
   ]
  },
  {
   "cell_type": "code",
   "execution_count": null,
   "id": "a53c20d9",
   "metadata": {},
   "outputs": [],
   "source": [
    "fig, ax = gp.init(figsize=(6,6), flagEqual=True)\n",
    "gp.raster(grid, name=\"Elevation\", flagLegend=True)\n",
    "gp.decoration(title=\"Elevation\", xlabel=\"Easting\", ylabel=\"Northing\")"
   ]
  },
  {
   "cell_type": "markdown",
   "id": "1758b5ce",
   "metadata": {},
   "source": [
    "## Final plot"
   ]
  },
  {
   "cell_type": "markdown",
   "id": "fcccd274",
   "metadata": {},
   "source": [
    "On this final plot, we combine grid and point representations."
   ]
  },
  {
   "cell_type": "code",
   "execution_count": null,
   "id": "589e2649",
   "metadata": {},
   "outputs": [],
   "source": [
    "fig, ax = gp.init(figsize=(6,6), flagEqual=True)\n",
    "gp.raster(grid, name=\"Elevation\", flagLegend=True)\n",
    "gp.symbol(dat, nameSize=\"*temp\", flagLegendSize=True, legendNameSize=\"Temperature\", sizmin=10, sizmax=30, c=\"yellow\")\n",
    "gp.decoration(title=\"Elevation and Temperatures\", xlabel=\"Easting\", ylabel=\"Northing\")"
   ]
  }
 ],
 "metadata": {
  "kernelspec": {
   "display_name": "Python 3",
   "language": "python",
   "name": "python3"
  },
  "language_info": {
   "codemirror_mode": {
    "name": "ipython",
    "version": 3
   },
   "file_extension": ".py",
   "mimetype": "text/x-python",
   "name": "python",
   "nbconvert_exporter": "python",
   "pygments_lexer": "ipython3",
   "version": "3.10.5"
  },
  "toc": {
   "base_numbering": 1,
   "nav_menu": {},
   "number_sections": true,
   "sideBar": true,
   "skip_h1_title": false,
   "title_cell": "Table of Contents",
   "title_sidebar": "Contents",
   "toc_cell": true,
   "toc_position": {
    "height": "calc(100% - 180px)",
    "left": "10px",
    "top": "150px",
    "width": "298.1px"
   },
   "toc_section_display": true,
   "toc_window_display": false
  }
 },
 "nbformat": 4,
 "nbformat_minor": 5
}
