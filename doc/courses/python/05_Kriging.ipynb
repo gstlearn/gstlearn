{
 "cells": [
  {
   "cell_type": "markdown",
   "id": "7718c2a8",
   "metadata": {},
   "source": [
    "# Kriging"
   ]
  },
  {
   "cell_type": "markdown",
   "id": "cb68273e",
   "metadata": {},
   "source": [
    "<!-- SUMMARY: Perform estimation of a target variable using Kriging: various options (simple and ordinary). Cross-validation. -->\n",
    "\n",
    "<!-- CATEGORY: Courses -->"
   ]
  },
  {
   "cell_type": "markdown",
   "id": "9e674b30",
   "metadata": {},
   "source": [
    "## Preamble\n",
    "\n",
    "In this preamble, we load the **gstlearn** library."
   ]
  },
  {
   "cell_type": "code",
   "execution_count": null,
   "id": "145a5aa5",
   "metadata": {},
   "outputs": [],
   "source": [
    "import gstlearn as gl\n",
    "import gstlearn.plot as gp\n",
    "import gstlearn.document as gdoc\n",
    "import matplotlib.pyplot as plt\n",
    "import numpy as np\n",
    "import os\n",
    "from IPython.display import Markdown\n",
    "\n",
    "gdoc.setNoScroll()"
   ]
  },
  {
   "cell_type": "markdown",
   "id": "de45f2eb",
   "metadata": {},
   "source": [
    "Then we download the data base `dat`."
   ]
  },
  {
   "cell_type": "code",
   "execution_count": null,
   "id": "9c53f8cf",
   "metadata": {},
   "outputs": [],
   "source": [
    "temp_nf = gdoc.loadData(\"Scotland\", \"Scotland_Temperatures.NF\")\n",
    "dat = gl.Db.createFromNF(temp_nf)"
   ]
  },
  {
   "cell_type": "markdown",
   "id": "bb0a4641",
   "metadata": {},
   "source": [
    "We also create a `Db` object containing a grid covering the data points in the data base `dat`. To do so, we start by displaying the minimal and maximal coordinates of the points in `dat` using the `getExtremas()` method from the `Db` class."
   ]
  },
  {
   "cell_type": "code",
   "execution_count": null,
   "id": "23b5b12a",
   "metadata": {},
   "outputs": [],
   "source": [
    "dat.getExtremas()"
   ]
  },
  {
   "cell_type": "markdown",
   "id": "b5cca4b7",
   "metadata": {},
   "source": [
    "The first (resp. second) element of the list contains the min and max coordinates in the first (resp. second) space dimension. Based on this information, we create a grid covering all the points using the `DbGrid.create` function. We specify the coordinates of the origin (i.e. lower left corner) of the grid (argument `x0`), the step sizes in each dimension (argument `dx`) and the number of points in each dimension (argument `nx`)."
   ]
  },
  {
   "cell_type": "code",
   "execution_count": null,
   "id": "90bc6ea2",
   "metadata": {},
   "outputs": [],
   "source": [
    "grid = gl.DbGrid.create(x0=[65,530],dx=[4.94, 4.96],nx=[82,138])"
   ]
  },
  {
   "cell_type": "markdown",
   "id": "3db8cb35",
   "metadata": {},
   "source": [
    "We then print a summary of the content of the grid using the `display` method of `Db` class, which we supply with a `DbStringFormat` object specifying that we would like information about the extent of the grid (argument `flag_extend` in the `DbStringFormat_createFromFlags` function)."
   ]
  },
  {
   "cell_type": "code",
   "execution_count": null,
   "id": "4e2f3a51",
   "metadata": {},
   "outputs": [],
   "source": [
    "dbfmt = gl.DbStringFormat.createFromFlags(flag_extend=True)\n",
    "grid.display(dbfmt)"
   ]
  },
  {
   "cell_type": "markdown",
   "id": "39c84ae5",
   "metadata": {},
   "source": [
    "## Experimental Variogram and fitted Model"
   ]
  },
  {
   "cell_type": "markdown",
   "id": "c3a8fd72",
   "metadata": {},
   "source": [
    "We compute the experimental variogram **vario2dir** (in 2 directions) (cf. [Variography](./04_Variography.ipynb) for more details)."
   ]
  },
  {
   "cell_type": "code",
   "execution_count": null,
   "id": "21b790b2",
   "metadata": {},
   "outputs": [],
   "source": [
    "varioParamMulti = gl.VarioParam.createMultiple(ndir=2, nlag=15, dlag=15.)\n",
    "vario2dir = gl.Vario(varioParamMulti)\n",
    "err = vario2dir.compute(dat)"
   ]
  },
  {
   "cell_type": "markdown",
   "id": "273e0bdb",
   "metadata": {},
   "source": [
    "We then the fit a model **fitmod**"
   ]
  },
  {
   "cell_type": "code",
   "execution_count": null,
   "id": "e49ea29c",
   "metadata": {},
   "outputs": [],
   "source": [
    "fitmod = gl.Model()\n",
    "types=[gl.ECov.NUGGET, gl.ECov.EXPONENTIAL, gl.ECov.GAUSSIAN]\n",
    "err = fitmod.fit(vario2dir,types=types)"
   ]
  },
  {
   "cell_type": "code",
   "execution_count": null,
   "id": "5316abfa",
   "metadata": {},
   "outputs": [],
   "source": [
    "ax = gp.varmod(vario2dir, fitmod)"
   ]
  },
  {
   "cell_type": "markdown",
   "id": "5084a0c5",
   "metadata": {},
   "source": [
    "## Simple kriging prediction"
   ]
  },
  {
   "cell_type": "code",
   "execution_count": null,
   "id": "51ab49c1",
   "metadata": {},
   "outputs": [],
   "source": [
    "Markdown(gdoc.loadDoc(\"Kriging_Simple.md\"))"
   ]
  },
  {
   "cell_type": "markdown",
   "id": "53d8aec7",
   "metadata": {},
   "source": [
    "To perform simple kriging, we use the function called `kriging`. \n",
    "We specify:\n",
    "\n",
    "* the `Db` object containing the data points (argument `dbin`) : the variable used for kriging is the (unique) variable of the data base  with a `z` locator (i.e. it should have locator `z1` and the other variables should not have a locator starting with `z`)\n",
    "* the `Db` object containing the target points, i.e. the points where the kriging predictor will be computed (argument `dbout`)\n",
    "* the `Model` object containing the model used to define the kriging predictor (argument `model`): in particular, the mean used to define the predictor is the one set in the `Model` object\n",
    "* the type of neighborhood used in the prediction (argument `neigh`), eg. unique neighborhood (to use all the data points for each predictor) or moving neighborhood (to use only the data points in the vicinity of the target point in the prediction). This argument is defined using a \"neighborhood\" object (see example below).\n",
    "\n",
    "Additionally, it is possible to specify whether we wish to compute, at each target point, the kriging predictor (argument `flag_est`, default=`TRUE`), the kriging standard-deviation (argument `flag_std`, default=`TRUE`) and the kriging variance (argument `flag_varz`, default=`FALSE`). \n",
    "\n",
    "The `kriging` function then adds new variables to the `Db` entered in the `dbout` argument corresponding to these variables. The names of these newly created variables will start by `Kriging`, but this prefix can be changed using the `namconv` argument of the `kriging function`\n",
    "\n",
    "In the next example, we perform a simple kriging prediction (with unique neighborhood) of the variable `January_temp` in the `dat` data base,  on the grid defined in the `grid` data base. To do so, we start by selecting the variable `January_temp` in the `dat` data base (i.e. we make ensure that it is the only variable with a `z` locator)."
   ]
  },
  {
   "cell_type": "code",
   "execution_count": null,
   "id": "5a274799",
   "metadata": {},
   "outputs": [],
   "source": [
    "dat.setLocator(\"January_temp\",gl.ELoc.Z)\n",
    "dat"
   ]
  },
  {
   "cell_type": "markdown",
   "id": "2cfe5a09",
   "metadata": {},
   "source": [
    "We then create a \"neighborhood\" object corresponding to the specification of a unique neighborhood: this is done using the `NeighUnique` function."
   ]
  },
  {
   "cell_type": "code",
   "execution_count": null,
   "id": "741f5b21",
   "metadata": {},
   "outputs": [],
   "source": [
    "uniqueNeigh = gl.NeighUnique.create()"
   ]
  },
  {
   "cell_type": "markdown",
   "id": "74ab4d1f",
   "metadata": {},
   "source": [
    "We now call the `kriging` function to perform the kriging prediction. We use the model `fitmod` that we previously fitted on our data, require to compute the kriging predictor and its standard-deviation (but not its variance), and change the prefix of the newly created variables to \"SK\"."
   ]
  },
  {
   "cell_type": "code",
   "execution_count": null,
   "id": "e261d7ac",
   "metadata": {},
   "outputs": [],
   "source": [
    "err = gl.kriging(dbin=dat, dbout=grid, model=fitmod, \n",
    "              neigh=uniqueNeigh,\n",
    "              flag_est=True, flag_std=True, flag_varz=False,\n",
    "              namconv=gl.NamingConvention(\"SK\")\n",
    "              )"
   ]
  },
  {
   "cell_type": "markdown",
   "id": "eb181323",
   "metadata": {},
   "source": [
    "We see that the kriging predictor and its standard deviation have been added to the `grid` data base."
   ]
  },
  {
   "cell_type": "code",
   "execution_count": null,
   "id": "2d72e08f",
   "metadata": {},
   "outputs": [],
   "source": [
    "grid"
   ]
  },
  {
   "cell_type": "markdown",
   "id": "2d4b33f8",
   "metadata": {},
   "source": [
    "Finally, we plot the kriging prediction over the grid and the data points."
   ]
  },
  {
   "cell_type": "code",
   "execution_count": null,
   "id": "e9f6454b",
   "metadata": {},
   "outputs": [],
   "source": [
    "gp.setDefaultGeographic(dims=[8,8])\n",
    "\n",
    "fig, ax = gp.initGeographic()\n",
    "ax.raster(grid, flagLegend=True)\n",
    "ax.symbol(dat, c='black')\n",
    "ax.decoration(title=\"Simple Kriging over whole Grid\")\n",
    "plt.show()"
   ]
  },
  {
   "cell_type": "markdown",
   "id": "b6c2558b",
   "metadata": {},
   "source": [
    "By default, the plotting function plots the variable with locator `z1`, which in our case corresponds to the kriging predictor (as the `kriging` function automatically assigns the locator `z1` to it). To plot another variable, we can simply specify their name. \n",
    "\n",
    "For instance, we can plot the kriging standard deviation using the following code."
   ]
  },
  {
   "cell_type": "code",
   "execution_count": null,
   "id": "7408ae35",
   "metadata": {},
   "outputs": [],
   "source": [
    "fig, ax = gp.initGeographic()\n",
    "ax.raster(grid, name=\"SK.January_temp.stdev\", flagLegend=True)\n",
    "ax.symbol(dat, c='black')\n",
    "ax.decoration(title=\"Simple Kriging std-dev over whole Grid\")\n",
    "plt.show()"
   ]
  },
  {
   "cell_type": "markdown",
   "id": "bb7e4f8d",
   "metadata": {},
   "source": [
    "As mentioned above, the mean used in the simple kriging predictor is the one set in the `Model` object supplied in the `kriging` function. By default, this mean is zero. It can be changed using the `setMean` method of the `Model` object. \n",
    "\n",
    "For instance, considering the model `fitmod` previously fitted on the data, we can clone it (using the `clone` method), and assign it a new mean (equal to 4) as follows."
   ]
  },
  {
   "cell_type": "code",
   "execution_count": null,
   "id": "667b87fb",
   "metadata": {},
   "outputs": [],
   "source": [
    "fitmodSK = fitmod.clone()\n",
    "err = fitmodSK.setMean(mean=4)"
   ]
  },
  {
   "cell_type": "markdown",
   "id": "198d5875",
   "metadata": {},
   "source": [
    "Then, simple kriging is performed using the same command as before, but with the newly created model."
   ]
  },
  {
   "cell_type": "code",
   "execution_count": null,
   "id": "d64b48c5",
   "metadata": {},
   "outputs": [],
   "source": [
    "err = gl.kriging(dbin=dat, dbout=grid, model=fitmodSK, \n",
    "              neigh=uniqueNeigh,\n",
    "              flag_est=True, flag_std=True, flag_varz=False,\n",
    "              namconv=gl.NamingConvention(\"Mean4_SK\")\n",
    "              )"
   ]
  },
  {
   "cell_type": "markdown",
   "id": "3fa570ff",
   "metadata": {},
   "source": [
    "Finally, we plot the new kriging prediction over the grid and the data points. "
   ]
  },
  {
   "cell_type": "code",
   "execution_count": null,
   "id": "987034ab",
   "metadata": {},
   "outputs": [],
   "source": [
    "grid"
   ]
  },
  {
   "cell_type": "code",
   "execution_count": null,
   "id": "67e81984",
   "metadata": {},
   "outputs": [],
   "source": [
    "fig, ax = gp.initGeographic()\n",
    "ax.raster(grid, name=\"Mean4_SK.January_temp.estim\", flagLegend=True)\n",
    "ax.symbol(dat, c='black')\n",
    "ax.decoration(title=\"Simple Kriging over whole Grid: Mean=4\")\n",
    "plt.show()"
   ]
  },
  {
   "cell_type": "markdown",
   "id": "87f1ad5a",
   "metadata": {},
   "source": [
    "## Ordinary kriging"
   ]
  },
  {
   "cell_type": "code",
   "execution_count": null,
   "id": "54299149",
   "metadata": {},
   "outputs": [],
   "source": [
    "Markdown(gdoc.loadDoc(\"Kriging_Ordinary.md\"))"
   ]
  },
  {
   "cell_type": "markdown",
   "id": "2f9fefa7",
   "metadata": {},
   "source": [
    "In gstlearn, ordinary kriging is seen as the formulation of a kriging predictor on a model with a constant drift. Hence, to perform ordinary kriging, we use the `kriging` function with the same syntax as for simple kriging, but call it with a model that includes a constant drift. Adding a constant drift to a model is done with the `addDrift()` method. \n",
    "\n",
    "Note: Removing a drift from a model can be done using the `delDrift` method (while specifying the index of the drift we wish to remove) or using the `delAllDrifts()` (to remove all the drifts at once).\n",
    "\n",
    "Let us go back to our running example. Considering the model `fitmod` previously fitted on the data, we can clone it (using the `clone` method), and add a constant drift as follows."
   ]
  },
  {
   "cell_type": "code",
   "execution_count": null,
   "id": "1abe70c4",
   "metadata": {},
   "outputs": [],
   "source": [
    "fitmodOK = fitmod.clone()\n",
    "err = fitmodOK.addDrift(gl.DriftM())"
   ]
  },
  {
   "cell_type": "markdown",
   "id": "023e7770",
   "metadata": {},
   "source": [
    "Then, ordinary kriging is performed using the same command as before, but with the newly created model."
   ]
  },
  {
   "cell_type": "code",
   "execution_count": null,
   "id": "de6bd7e3",
   "metadata": {},
   "outputs": [],
   "source": [
    "err = gl.kriging(dbin=dat, dbout=grid, model=fitmodOK, \n",
    "              neigh=uniqueNeigh,\n",
    "              flag_est=True, flag_std=True, flag_varz=False,\n",
    "              namconv=gl.NamingConvention(\"OK\")\n",
    "              )"
   ]
  },
  {
   "cell_type": "markdown",
   "id": "7bfc01ab",
   "metadata": {},
   "source": [
    "Finally, we plot the new kriging prediction over the grid and the data points. "
   ]
  },
  {
   "cell_type": "code",
   "execution_count": null,
   "id": "15a74411",
   "metadata": {},
   "outputs": [],
   "source": [
    "fig, ax = gp.initGeographic()\n",
    "ax.raster(grid, name=\"OK.January_temp.estim\", flagLegend=True)\n",
    "ax.symbol(dat, c='black')\n",
    "ax.decoration(title=\"Ordinary Kriging over whole Grid\")\n",
    "plt.show()"
   ]
  },
  {
   "cell_type": "markdown",
   "id": "7f71a95d",
   "metadata": {},
   "source": [
    "We also plot the kriging standard deviations."
   ]
  },
  {
   "cell_type": "code",
   "execution_count": null,
   "id": "ee21a99b",
   "metadata": {},
   "outputs": [],
   "source": [
    "fig, ax = gp.initGeographic()\n",
    "ax.raster(grid, name=\"OK.January_temp.stdev\", flagLegend=True)\n",
    "ax.symbol(dat, c='black')\n",
    "ax.decoration(title=\"Ordinary Kriging std-dev over whole Grid\")\n",
    "plt.show()"
   ]
  },
  {
   "cell_type": "markdown",
   "id": "78e903a8",
   "metadata": {},
   "source": [
    "Let us compare the results from the simple and ordinary kriging predictors. To do so, we create a correlation plot between the two predictors."
   ]
  },
  {
   "cell_type": "code",
   "execution_count": null,
   "id": "7845bddd",
   "metadata": {},
   "outputs": [],
   "source": [
    "ax = gp.correlation(grid,namex=\"OK.January_temp.estim\", namey=\"SK.January_temp.estim\", \n",
    "                    bissLine=True, bins=100, flagSameAxes=True, cmin=1)\n",
    "ax.decoration(title=\"Estimation Simple vs. Ordinary\", \n",
    "              xlabel=\"Ordinary Kriging\", ylabel=\"Simple Kriging\")"
   ]
  },
  {
   "cell_type": "markdown",
   "id": "68c4e29a",
   "metadata": {},
   "source": [
    "We also compare the kriging standard-deviations obtained in both cases."
   ]
  },
  {
   "cell_type": "code",
   "execution_count": null,
   "id": "b10c4034",
   "metadata": {},
   "outputs": [],
   "source": [
    "ax = gp.correlation(grid,namex=\"OK.January_temp.stdev\", namey=\"SK.January_temp.stdev\", \n",
    "                    bissLine=True, bins=100, flagSameAxes=True, cmin=1)\n",
    "ax.decoration(title=\"Estimation Simple vs. Ordinary\", \n",
    "              xlabel=\"Ordinary Kriging\", ylabel=\"Simple Kriging\")"
   ]
  },
  {
   "cell_type": "markdown",
   "id": "23403b46",
   "metadata": {},
   "source": [
    "## Working with selections"
   ]
  },
  {
   "cell_type": "markdown",
   "id": "57518d85",
   "metadata": {},
   "source": [
    "We now load new grid. "
   ]
  },
  {
   "cell_type": "code",
   "execution_count": null,
   "id": "927b8978",
   "metadata": {},
   "outputs": [],
   "source": [
    "elev_nf = gdoc.loadData(\"Scotland\", \"Scotland_Elevations.NF\")    \n",
    "grid = gl.DbGrid.createFromNF(elev_nf)\n",
    "grid.display(dbfmt)"
   ]
  },
  {
   "cell_type": "markdown",
   "id": "df0b6823",
   "metadata": {},
   "source": [
    "This new grid data base contains a variable called `inshore`, with a locator `sel`. This indicates that this variable is a selection, i.e. a binary variable allowing to select some points, called *active cells*, in a data base (by setting them to 1, while the other points will be 0). Selections allow to restrict computations and operations made on a data base to only the active cells. For, when plotting a data base with a selection, only the active cells are represented."
   ]
  },
  {
   "cell_type": "code",
   "execution_count": null,
   "id": "993a61e3",
   "metadata": {},
   "outputs": [],
   "source": [
    "fig, ax = gp.initGeographic()\n",
    "ax.raster(grid, name=\"Longitude\", flagLegend=True)\n",
    "ax.symbol(dat, c='black')\n",
    "ax.decoration(title=\"Longitude values (restricted to the selection)\")\n",
    "plt.show()"
   ]
  },
  {
   "cell_type": "markdown",
   "id": "d2977d81",
   "metadata": {},
   "source": [
    "When calling the `kriging` function on a data base that contains a selection, the predictors are only computed on the active cells (while the other cells are left undefined)."
   ]
  },
  {
   "cell_type": "code",
   "execution_count": null,
   "id": "3449c19c",
   "metadata": {},
   "outputs": [],
   "source": [
    "err = gl.kriging(dbin=dat, dbout=grid, model=fitmodOK, neigh=uniqueNeigh,\n",
    "              flag_est=True, flag_std=True, flag_varz=False,\n",
    "              namconv=gl.NamingConvention(\"OK\"))"
   ]
  },
  {
   "cell_type": "code",
   "execution_count": null,
   "id": "7563a51a",
   "metadata": {},
   "outputs": [],
   "source": [
    "fig, ax = gp.initGeographic()\n",
    "ax.raster(grid, name=\"OK*estim\", flagLegend=True)\n",
    "ax.symbol(dat, c='black')\n",
    "ax.decoration(title=\"Estimation by Ordinary Kriging (restricted to the selection)\")\n",
    "plt.show()"
   ]
  },
  {
   "cell_type": "markdown",
   "id": "180766f6",
   "metadata": {},
   "source": [
    "## Cross-validation"
   ]
  },
  {
   "cell_type": "markdown",
   "id": "84a241c5",
   "metadata": {},
   "source": [
    "The function `xvalid` can be used to perform leave-one-out cross-validation with kriging: each point of the data base is separately predicted by kriging, using all the other points in the data base. This function is called in a similar way as the `kriging` function. We specify:\n",
    "\n",
    "* the `Db` object containing the data points on which we want to perform the cross-validation  (argument `dbin`) : once again, the variable used for the study is the (unique) variable of the data base  with a `z` locator\n",
    "* the `Model` object containing the model used to define the kriging predictor (argument `model`)\n",
    "* the type of neighborhood used in the prediction (argument `neigh`)\n",
    "* whether we wish to return, for each point, only the predictor (argument `flag_xvalid_est=-1`, returns a variable with name ending with \"estim\"), the cross-validation error defined as the difference between the predictor and the true value (argument `flag_xvalid_est=1`, returns a variable with name ending with \"esterr\") or neither (argument `flag_xvalid_est=0`)\n",
    "* whether we wish to return, for each point, only the kriging standard-deviation at each point (argument `flag_xvalid_std=-1`, returns a variable with name ending with \"stdev\"), a standardized error defined as the ratio (Cross-validation error)/(Kriging standard-deviation) (argument `flag_xvalid_std=1`, returns a variable with name ending with \"stderr\") or neither (argument `flag_xvalid_std=0`)\n",
    "\n",
    "Going back to our running example, we perform a cross-validation on our data base `dat`. In particular we ask, at each point, for the cross-validation error and for the standardized error described above. We also specify, through the `nameconv` that we do not wish to modify the current locators in the data base (otherwise, the locator `z1` is \"moved\" to the variable containing the cross-validation error)."
   ]
  },
  {
   "cell_type": "code",
   "execution_count": null,
   "id": "5f02ab24",
   "metadata": {},
   "outputs": [],
   "source": [
    "err = gl.xvalid(db=dat, model=fitmodOK, neigh=uniqueNeigh, \n",
    "             flag_xvalid_est=1, flag_xvalid_std=1,  \n",
    "             namconv=gl.NamingConvention.create(\"Xvalid\", flag_locator = False)\n",
    "            )"
   ]
  },
  {
   "cell_type": "markdown",
   "id": "fa1c1e12",
   "metadata": {},
   "source": [
    "We plot the histogram of cross-validation errors."
   ]
  },
  {
   "cell_type": "code",
   "execution_count": null,
   "id": "40226ad8",
   "metadata": {},
   "outputs": [],
   "source": [
    "ax = gp.histogram(dat,name=\"*esterr*\",bins=30,fill=\"blue\")\n",
    "ax.decoration(xlabel=\"Estimation Errors\",title=\"Cross-Validation\")"
   ]
  },
  {
   "cell_type": "markdown",
   "id": "f2ac24db",
   "metadata": {},
   "source": [
    "We plot the histogram of standardized errors."
   ]
  },
  {
   "cell_type": "code",
   "execution_count": null,
   "id": "3abaa71e",
   "metadata": {},
   "outputs": [],
   "source": [
    "ax = gp.histogram(dat,name=\"*stderr*\",bins=30,fill=\"blue\")\n",
    "ax.decoration(xlabel=\"Standardized Errors\", title=\"Cross-Validation\")"
   ]
  },
  {
   "cell_type": "markdown",
   "id": "18bda633",
   "metadata": {},
   "source": [
    "Finally, we compute a few statistics about these errors."
   ]
  },
  {
   "cell_type": "code",
   "execution_count": null,
   "id": "d2388647",
   "metadata": {},
   "outputs": [],
   "source": [
    "print(\"Mean cross-validation error:\",round(np.nanmean(dat.getColumn(\"*esterr*\")),4))\n",
    "print(\"Mean squared cross-validation error:\",round(np.nanmean(np.square(dat.getColumn(\"*esterr*\"))),4))\n",
    "print(\"Mean standardized error:\",round(np.nanmean(np.square(dat.getColumn(\"*stderr*\"))),4))"
   ]
  },
  {
   "cell_type": "markdown",
   "id": "729d0c73",
   "metadata": {},
   "source": [
    "We now plot the absolute value of the cross-validation errors at each point on top of the grid map. We use the argument `flagAbsSize = TRUE` in the `ax.symbol` function to specify that we want the size of the points to be proportional to the absolute value of the variable specified in the `nameSize` argument (here, the cross-validation errors)."
   ]
  },
  {
   "cell_type": "code",
   "execution_count": null,
   "id": "f56bb76c",
   "metadata": {},
   "outputs": [],
   "source": [
    "fig, ax = gp.initGeographic()\n",
    "ax.raster(grid, name=\"inshore\")\n",
    "ax.symbol(dat,nameSize=\"*esterr\", flagAbsSize=True, flagLegendSize=True)\n",
    "ax.decoration(title=\"Cross-Validation scores (abs. value)\")\n",
    "plt.show()"
   ]
  },
  {
   "cell_type": "markdown",
   "id": "7fc35f1d",
   "metadata": {},
   "source": [
    "## Kriging with moving neighborhood"
   ]
  },
  {
   "cell_type": "markdown",
   "id": "f00f01f5",
   "metadata": {},
   "source": [
    "Up until now, we only considered kriging with a unique neighborhood. To work with a moving neighborhood, we first need to define it by creating \"neighborhood\" object describing its characteristics. This is done using the `NeighMoving_create` function. We can specify:\n",
    "\n",
    "* a neighborhood radius (argument `radius`, default=1.234e30): note that the default radius value is taken very large so that the neighborhood radius can basically be seen as infinite if the argument is not set by the user\n",
    "* the minimum and maximum number of data points (within the specified radius) that should be included in the neighborhood (respectively through the arguments `nmini` and `nmaxi`): for a given target point, if the number of data points within the neighborhood radius is smaller that the specified minimum, then no prediction is performed at this target (it is set to undefined)\n",
    "\n",
    "For instance, to design a small Moving Neighborhood with only 1 sample per neighborhood (irregardless of its distance to the target point), we use the following command:\n"
   ]
  },
  {
   "cell_type": "code",
   "execution_count": null,
   "id": "0d82a666",
   "metadata": {},
   "outputs": [],
   "source": [
    "smallNeigh = gl.NeighMoving.create(nmini=1, nmaxi=1)"
   ]
  },
  {
   "cell_type": "markdown",
   "id": "9644ba57",
   "metadata": {},
   "source": [
    "Then, (ordinary) kriging with moving neighborhood is performed using the same commands as before, but replacing the unique neighborhood in the `neigh` argument by our custom moving neighborhood object."
   ]
  },
  {
   "cell_type": "code",
   "execution_count": null,
   "id": "8ab3bc84",
   "metadata": {},
   "outputs": [],
   "source": [
    "err = gl.kriging(dbin=dat, dbout=grid, model=fitmodOK, neigh=smallNeigh,\n",
    "              flag_est=True, flag_std=True, \n",
    "              namconv=gl.NamingConvention(\"Small\"))"
   ]
  },
  {
   "cell_type": "code",
   "execution_count": null,
   "id": "9faddb8b",
   "metadata": {},
   "outputs": [],
   "source": [
    "fig, ax = gp.initGeographic()\n",
    "ax.raster(grid, name=\"Small*estim\", flagLegend=True)\n",
    "ax.symbol(dat, c='black')\n",
    "ax.decoration(title=\"Estimation by Ordinary Kriging (Small Moving Neigh.)\")\n",
    "plt.show()"
   ]
  },
  {
   "cell_type": "markdown",
   "id": "df471d15",
   "metadata": {},
   "source": [
    "To create a moving neighborhood with radius 20 and containing between 1 and 10 points, we use the following command:"
   ]
  },
  {
   "cell_type": "code",
   "execution_count": null,
   "id": "6dd184d7",
   "metadata": {},
   "outputs": [],
   "source": [
    "movingNeigh = gl.NeighMoving.create(nmini=1, nmaxi=10, radius=20)"
   ]
  },
  {
   "cell_type": "markdown",
   "id": "8df58ea1",
   "metadata": {},
   "source": [
    "Running the Ordinary Kriging then gives:"
   ]
  },
  {
   "cell_type": "code",
   "execution_count": null,
   "id": "1547156b",
   "metadata": {},
   "outputs": [],
   "source": [
    "err = gl.kriging(dat,grid,fitmodOK,movingNeigh,\n",
    "              flag_est=True, flag_std=True, \n",
    "              namconv=gl.NamingConvention(\"Reduced\"))"
   ]
  },
  {
   "cell_type": "code",
   "execution_count": null,
   "id": "ea44f01b",
   "metadata": {},
   "outputs": [],
   "source": [
    "fig, ax = gp.initGeographic()\n",
    "ax.raster(grid, name=\"Reduced*estim\", flagLegend=True)\n",
    "ax.symbol(dat, c='black')\n",
    "ax.decoration(title=\"Estimation by Ordinary Kriging (Reduced Moving Neigh.)\")\n",
    "plt.show()"
   ]
  },
  {
   "cell_type": "markdown",
   "id": "7ef225cd",
   "metadata": {},
   "source": [
    "Note that some of the target sites are not predicted as no sample is found within their neighborhood.\n",
    "\n",
    "Let us then consider a moving neighborhood with a bigger radius (150) and containing between 1 and 10 points."
   ]
  },
  {
   "cell_type": "code",
   "execution_count": null,
   "id": "baa65b6e",
   "metadata": {},
   "outputs": [],
   "source": [
    "movingNeigh = gl.NeighMoving.create(nmini=1, nmaxi=10, radius=150)"
   ]
  },
  {
   "cell_type": "markdown",
   "id": "5a96f4f6",
   "metadata": {},
   "source": [
    "Running the Ordinary Kriging then gives:"
   ]
  },
  {
   "cell_type": "code",
   "execution_count": null,
   "id": "5711a4d8",
   "metadata": {},
   "outputs": [],
   "source": [
    "err = gl.kriging(dat,grid,fitmodOK,movingNeigh,\n",
    "              flag_est=True, flag_std=True, \n",
    "              namconv=gl.NamingConvention(\"Moving\"))"
   ]
  },
  {
   "cell_type": "code",
   "execution_count": null,
   "id": "bb77b780",
   "metadata": {},
   "outputs": [],
   "source": [
    "fig, ax = gp.initGeographic()\n",
    "ax.raster(grid, name=\"Moving*estim\", flagLegend=True)\n",
    "ax.symbol(dat, c='black')\n",
    "ax.decoration(title=\"Estimation by Ordinary Kriging (Moving Neigh.)\")\n",
    "plt.show()"
   ]
  },
  {
   "cell_type": "markdown",
   "id": "12253dac",
   "metadata": {},
   "source": [
    "And plotting the associated kriging standard-deviations gives:"
   ]
  },
  {
   "cell_type": "code",
   "execution_count": null,
   "id": "7a2e33e5",
   "metadata": {},
   "outputs": [],
   "source": [
    "fig, ax = gp.initGeographic()\n",
    "ax.raster(grid, name=\"Moving*stdev\", flagLegend=True)\n",
    "ax.symbol(dat, c='black')\n",
    "ax.decoration(title=\"St. dev. by Ordinary Kriging (Moving Neigh.)\")\n",
    "plt.show()"
   ]
  },
  {
   "cell_type": "markdown",
   "id": "46a3d37e",
   "metadata": {},
   "source": [
    "Finally, let us compare the results obtained with a unique and a moving neighborhood (through correlation plot). First, we compare the kriging predictions in both cases."
   ]
  },
  {
   "cell_type": "code",
   "execution_count": null,
   "id": "61f00d5d",
   "metadata": {},
   "outputs": [],
   "source": [
    "ax = gp.correlation(grid,namex = \"OK*estim\",namey=\"Moving*estim\", \n",
    "                    bins=100, bissLine=True, flagSameAxes=True, cmin=1)\n",
    "ax.decoration(title=\"Comparing Estimations\", xlabel=\"Unique\", ylabel=\"Moving\")"
   ]
  },
  {
   "cell_type": "markdown",
   "id": "42ced174",
   "metadata": {},
   "source": [
    "Then, we compare the kriging standard-deviations in both cases."
   ]
  },
  {
   "cell_type": "code",
   "execution_count": null,
   "id": "a580a597",
   "metadata": {},
   "outputs": [],
   "source": [
    "ax = gp.correlation(grid,namex = \"OK*stdev\",namey=\"Moving*stdev\", \n",
    "                    bins=100, bissLine=True, flagSameAxes=True, cmin=1)\n",
    "ax.decoration(title=\"Comparing St. Deviations\", xlabel=\"Unique\", ylabel=\"Moving\")"
   ]
  },
  {
   "cell_type": "code",
   "execution_count": null,
   "id": "a567a6a7",
   "metadata": {},
   "outputs": [],
   "source": []
  }
 ],
 "metadata": {
  "kernelspec": {
   "display_name": "Python 3 (ipykernel)",
   "language": "python",
   "name": "python3"
  },
  "language_info": {
   "codemirror_mode": {
    "name": "ipython",
    "version": 3
   },
   "file_extension": ".py",
   "mimetype": "text/x-python",
   "name": "python",
   "nbconvert_exporter": "python",
   "pygments_lexer": "ipython3",
   "version": "3.10.5"
  },
  "toc": {
   "base_numbering": 1,
   "nav_menu": {},
   "number_sections": true,
   "sideBar": true,
   "skip_h1_title": false,
   "title_cell": "Table of Contents",
   "title_sidebar": "Contents",
   "toc_cell": false,
   "toc_position": {},
   "toc_section_display": true,
   "toc_window_display": false
  }
 },
 "nbformat": 4,
 "nbformat_minor": 5
}
