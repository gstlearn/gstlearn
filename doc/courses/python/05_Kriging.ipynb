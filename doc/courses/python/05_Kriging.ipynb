{
 "cells": [
  {
   "cell_type": "markdown",
   "id": "7718c2a8",
   "metadata": {},
   "source": [
    "# Kriging"
   ]
  },
  {
   "cell_type": "code",
   "execution_count": null,
   "id": "4a88fcd6",
   "metadata": {},
   "outputs": [],
   "source": [
    "%%javascript\n",
    "IPython.OutputArea.prototype._should_scroll = function(lines) {\n",
    "    return false;\n",
    "}"
   ]
  },
  {
   "cell_type": "code",
   "execution_count": null,
   "id": "145a5aa5",
   "metadata": {},
   "outputs": [],
   "source": [
    "import gstlearn as gl\n",
    "import gstlearn.plot as gp\n",
    "import matplotlib.pyplot as plt\n",
    "import numpy as np\n",
    "import os"
   ]
  },
  {
   "cell_type": "markdown",
   "id": "9e674b30",
   "metadata": {},
   "source": [
    "Then we download the data base **dat**."
   ]
  },
  {
   "cell_type": "code",
   "execution_count": null,
   "id": "9c53f8cf",
   "metadata": {},
   "outputs": [],
   "source": [
    "fileNF = os.path.join(os.getenv('GSTLEARN_DATA'), \"Scotland\", \"Scotland_Temperatures.NF\")\n",
    "dat = gl.Db.createFromNF(fileNF)"
   ]
  },
  {
   "cell_type": "markdown",
   "id": "c3a8fd72",
   "metadata": {},
   "source": [
    "Calculate the experimental variogram **vario2dir** (in 2 directions)"
   ]
  },
  {
   "cell_type": "code",
   "execution_count": null,
   "id": "21b790b2",
   "metadata": {},
   "outputs": [],
   "source": [
    "varioParamMulti = gl.VarioParam.createMultiple(2, 15, 15.)\n",
    "vario2dir = gl.Vario(varioParamMulti, dat)\n",
    "err = vario2dir.compute()"
   ]
  },
  {
   "cell_type": "markdown",
   "id": "273e0bdb",
   "metadata": {},
   "source": [
    "Calculate the fitted model **fitmodOK** (add the Universality Condition)"
   ]
  },
  {
   "cell_type": "code",
   "execution_count": null,
   "id": "e49ea29c",
   "metadata": {
    "scrolled": false
   },
   "outputs": [],
   "source": [
    "fitmodOK = gl.Model()\n",
    "err = fitmodOK.fit(vario2dir,types=[gl.ECov.NUGGET, gl.ECov.EXPONENTIAL, gl.ECov.GAUSSIAN])\n",
    "err = fitmodOK.addDrift(gl.Drift1())\n",
    "ax = gp.varmod(vario2dir, fitmodOK)"
   ]
  },
  {
   "cell_type": "markdown",
   "id": "2cfe5a09",
   "metadata": {},
   "source": [
    "Define the Unique Neighborhood **unique.neigh**."
   ]
  },
  {
   "cell_type": "code",
   "execution_count": null,
   "id": "741f5b21",
   "metadata": {},
   "outputs": [],
   "source": [
    "uniqueNeigh = gl.NeighUnique.create()"
   ]
  },
  {
   "cell_type": "markdown",
   "id": "74ab4d1f",
   "metadata": {},
   "source": [
    "Get the extension of the Data:"
   ]
  },
  {
   "cell_type": "code",
   "execution_count": null,
   "id": "0ea680ef",
   "metadata": {
    "scrolled": true
   },
   "outputs": [],
   "source": [
    "dat.getExtremas()"
   ]
  },
  {
   "cell_type": "markdown",
   "id": "0f7864d6",
   "metadata": {},
   "source": [
    "Create the Target file **grid**."
   ]
  },
  {
   "cell_type": "code",
   "execution_count": null,
   "id": "375de908",
   "metadata": {
    "scrolled": true
   },
   "outputs": [],
   "source": [
    "grid = gl.DbGrid.create(x0=[65,535],dx=[4.94, 4.96],nx=[81,137])\n",
    "dbfmt = gl.DbStringFormat.createFromFlags(flag_resume=False, flag_vars=True,\n",
    "                                          flag_extend=True, flag_stats=False,\n",
    "                                          flag_array=False)\n",
    "grid.display(dbfmt)"
   ]
  },
  {
   "cell_type": "markdown",
   "id": "ff2c8171",
   "metadata": {},
   "source": [
    "Perform Ordinary Kriging"
   ]
  },
  {
   "cell_type": "code",
   "execution_count": null,
   "id": "e261d7ac",
   "metadata": {},
   "outputs": [],
   "source": [
    "err = gl.kriging(dat,grid,fitmodOK,uniqueNeigh,namconv=gl.NamingConvention(\"OK\"))"
   ]
  },
  {
   "cell_type": "markdown",
   "id": "eb181323",
   "metadata": {},
   "source": [
    "Plotting the results"
   ]
  },
  {
   "cell_type": "code",
   "execution_count": null,
   "id": "e9f6454b",
   "metadata": {
    "scrolled": true
   },
   "outputs": [],
   "source": [
    "gp.setDefaultGeographic(dims=[8,8])\n",
    "ax = grid.plot()\n",
    "ax.decoration(title=\"Ordinary Kriging over whole Grid\")"
   ]
  },
  {
   "cell_type": "markdown",
   "id": "57518d85",
   "metadata": {},
   "source": [
    "Reading the Elevation Grid"
   ]
  },
  {
   "cell_type": "code",
   "execution_count": null,
   "id": "927b8978",
   "metadata": {
    "scrolled": true
   },
   "outputs": [],
   "source": [
    "fileNF = os.path.join(os.getenv('GSTLEARN_DATA'), \"Scotland\", \"Scotland_Elevations.NF\")\n",
    "grid = gl.DbGrid.createFromNF(fileNF)\n",
    "grid.display(dbfmt)"
   ]
  },
  {
   "cell_type": "markdown",
   "id": "df0b6823",
   "metadata": {},
   "source": [
    "The output grid now contains the selection **inshore**. \n",
    "Estimation is restricted to the active cells only."
   ]
  },
  {
   "cell_type": "code",
   "execution_count": null,
   "id": "3449c19c",
   "metadata": {},
   "outputs": [],
   "source": [
    "err = gl.kriging(dat,grid,fitmodOK,uniqueNeigh,namconv=gl.NamingConvention(\"OK\"))"
   ]
  },
  {
   "cell_type": "markdown",
   "id": "2232dcac",
   "metadata": {},
   "source": [
    "Plotting the Estimation"
   ]
  },
  {
   "cell_type": "code",
   "execution_count": null,
   "id": "7563a51a",
   "metadata": {
    "scrolled": true
   },
   "outputs": [],
   "source": [
    "ax = grid.plot(\"OK*estim\")\n",
    "ax = dat.plot(name_size=\"January_temp\")\n",
    "ax.decoration(title=\"Estimation by Ordinary Kriging\")"
   ]
  },
  {
   "cell_type": "markdown",
   "id": "13d82690",
   "metadata": {},
   "source": [
    "Plotting the Standard deviation of Estimation Error"
   ]
  },
  {
   "cell_type": "code",
   "execution_count": null,
   "id": "303fec76",
   "metadata": {
    "scrolled": true
   },
   "outputs": [],
   "source": [
    "ax = grid.plot(\"OK*stdev\")\n",
    "ax = dat.plot(name_size=\"January_temp\")\n",
    "ax.decoration(title=\"St. dev. by Ordinary Kriging\")"
   ]
  },
  {
   "cell_type": "markdown",
   "id": "9b111414",
   "metadata": {},
   "source": [
    "The Model **fitmodOK** is first duplicated into **fitmodSK**. Then the Universality Condition is deleted."
   ]
  },
  {
   "cell_type": "code",
   "execution_count": null,
   "id": "b60c1d5b",
   "metadata": {},
   "outputs": [],
   "source": [
    "fitmodSK = fitmodOK.clone()\n",
    "err = fitmodSK.delDrift(0)\n",
    "err = fitmodSK.setMean(20.)"
   ]
  },
  {
   "cell_type": "markdown",
   "id": "9760c153",
   "metadata": {},
   "source": [
    "Simple Kriging is performed"
   ]
  },
  {
   "cell_type": "code",
   "execution_count": null,
   "id": "566b08eb",
   "metadata": {},
   "outputs": [],
   "source": [
    "err = gl.kriging(dat,grid,fitmodSK,uniqueNeigh, namconv=gl.NamingConvention(\"SK\"))"
   ]
  },
  {
   "cell_type": "markdown",
   "id": "010e44c1",
   "metadata": {},
   "source": [
    "Plotting the Estimation"
   ]
  },
  {
   "cell_type": "code",
   "execution_count": null,
   "id": "0eb47aef",
   "metadata": {
    "scrolled": true
   },
   "outputs": [],
   "source": [
    "ax = grid.plot(\"SK*estim\")\n",
    "ax = dat.plot(name_size=\"January_temp\")\n",
    "ax.decoration(title=\"Estimation by Simple Kriging\")"
   ]
  },
  {
   "cell_type": "markdown",
   "id": "be8e405f",
   "metadata": {},
   "source": [
    "Plotting the Standard deviation of the Estimation error"
   ]
  },
  {
   "cell_type": "code",
   "execution_count": null,
   "id": "2992b286",
   "metadata": {
    "scrolled": true
   },
   "outputs": [],
   "source": [
    "ax = grid.plot(\"SK*stdev\")\n",
    "ax = dat.plot(name_size=\"January_temp\",flagCst=True)\n",
    "ax.decoration(title=\"St. dev. by Simple Kriging\")"
   ]
  },
  {
   "cell_type": "markdown",
   "id": "e7f32c09",
   "metadata": {},
   "source": [
    "Comparing Ordinary and Simple Kriging - Estimations"
   ]
  },
  {
   "cell_type": "code",
   "execution_count": null,
   "id": "214ed6d1",
   "metadata": {
    "scrolled": true
   },
   "outputs": [],
   "source": [
    "ax = gp.correlation(grid,namex=\"OK*estim\",namey=\"SK*estim\", bissLine=True, bins=100, flagSameAxes=True)\n",
    "ax.decoration(title=\"Estimation Simple vs. Ordinary\", \n",
    "              xlabel=\"Ordinary Kriging\", ylabel=\"Simple Kriging\")"
   ]
  },
  {
   "cell_type": "markdown",
   "id": "60093a38",
   "metadata": {},
   "source": [
    "Comparing Ordinary and Simple Kriging - St. dev."
   ]
  },
  {
   "cell_type": "code",
   "execution_count": null,
   "id": "a6c328ed",
   "metadata": {
    "scrolled": true
   },
   "outputs": [],
   "source": [
    "ax = gp.correlation(grid,namex = \"OK*stdev\",namey=\"SK*stdev\", bissLine=True, bins=100,flagSameAxes=True)\n",
    "ax.decoration(title=\"St. dev. Simple vs. Ordinary\", \n",
    "              xlabel=\"Ordinary Kriging\", ylabel=\"Simple Kriging\")"
   ]
  },
  {
   "cell_type": "markdown",
   "id": "bfc7360c",
   "metadata": {},
   "source": [
    "Cross-Validation"
   ]
  },
  {
   "cell_type": "code",
   "execution_count": null,
   "id": "5f02ab24",
   "metadata": {},
   "outputs": [],
   "source": [
    "err = gl.xvalid(dat,fitmodOK,uniqueNeigh, \n",
    "                namconv=gl.NamingConvention(\"Xvalid\", True, True, False, gl.ELoc.UNKNOWN))"
   ]
  },
  {
   "cell_type": "markdown",
   "id": "fa1c1e12",
   "metadata": {},
   "source": [
    "Cross-validation - Histogram of Errors"
   ]
  },
  {
   "cell_type": "code",
   "execution_count": null,
   "id": "40226ad8",
   "metadata": {
    "scrolled": true
   },
   "outputs": [],
   "source": [
    "ax = gp.histogram(dat,name=\"*esterr*\",bins=30,fill=\"blue\")\n",
    "ax.decoration(xlabel=\"Estimation Errors\",title=\"Cross-Validation\")"
   ]
  },
  {
   "cell_type": "markdown",
   "id": "f2ac24db",
   "metadata": {},
   "source": [
    "Cross-validation - Histogram of Standardized Errors"
   ]
  },
  {
   "cell_type": "code",
   "execution_count": null,
   "id": "3abaa71e",
   "metadata": {
    "scrolled": true
   },
   "outputs": [],
   "source": [
    "ax = gp.histogram(dat,name=\"*stderr*\",bins=30,fill=\"blue\")\n",
    "ax.decoration(xlabel=\"Standardized Errors\", title=\"Cross-Validation\")"
   ]
  },
  {
   "cell_type": "markdown",
   "id": "18bda633",
   "metadata": {},
   "source": [
    "Cross-validation Scores"
   ]
  },
  {
   "cell_type": "code",
   "execution_count": null,
   "id": "d2388647",
   "metadata": {
    "scrolled": true
   },
   "outputs": [],
   "source": [
    "print(round(np.nanmean(dat.getColumn(\"*esterr*\")),4))\n",
    "print(round(np.nanmean(np.square(dat.getColumn(\"*esterr*\"))),4))\n",
    "print(round(np.nanmean(np.square(dat.getColumn(\"*stderr*\"))),4))"
   ]
  },
  {
   "cell_type": "markdown",
   "id": "e1e2b102",
   "metadata": {},
   "source": [
    "Display Errors of the Cross Validation"
   ]
  },
  {
   "cell_type": "code",
   "execution_count": null,
   "id": "740378ea",
   "metadata": {
    "scrolled": true
   },
   "outputs": [],
   "source": [
    "ax = grid.plot(\"inshore\")\n",
    "ax = dat.plot(name_size=\"*esterr\",sizmax=300)\n",
    "ax.decoration(title=\"Cross-Validation scores\")"
   ]
  },
  {
   "cell_type": "markdown",
   "id": "729d0c73",
   "metadata": {},
   "source": [
    "Display Errors of the Cross Validation (in absolute value)"
   ]
  },
  {
   "cell_type": "code",
   "execution_count": null,
   "id": "f56bb76c",
   "metadata": {
    "scrolled": true
   },
   "outputs": [],
   "source": [
    "ax = grid.plot(\"inshore\")\n",
    "ax = dat.plot(name_size=\"*esterr\",sizmax=300,flagAbsSize=True)\n",
    "ax.decoration(title=\"Cross-Validation scores (abs. value)\")"
   ]
  },
  {
   "cell_type": "markdown",
   "id": "7f7fc41a",
   "metadata": {},
   "source": [
    "We design a small Moving Neighborhood **small.neigh** with only 1 sample per neighborhood."
   ]
  },
  {
   "cell_type": "code",
   "execution_count": null,
   "id": "0d82a666",
   "metadata": {},
   "outputs": [],
   "source": [
    "smallNeigh = gl.NeighMoving.create(flag_xvalid=False, nmini=1, nmaxi=1, radius=1000000)"
   ]
  },
  {
   "cell_type": "markdown",
   "id": "9644ba57",
   "metadata": {},
   "source": [
    "We perform Ordinary Kriging"
   ]
  },
  {
   "cell_type": "code",
   "execution_count": null,
   "id": "8ab3bc84",
   "metadata": {},
   "outputs": [],
   "source": [
    "err = gl.kriging(dat,grid,fitmodOK,smallNeigh,namconv=gl.NamingConvention(\"Small\"))"
   ]
  },
  {
   "cell_type": "markdown",
   "id": "ce7faba0",
   "metadata": {},
   "source": [
    "Graphic representation"
   ]
  },
  {
   "cell_type": "code",
   "execution_count": null,
   "id": "9faddb8b",
   "metadata": {
    "scrolled": true
   },
   "outputs": [],
   "source": [
    "ax = grid.plot(\"Small*estim\")\n",
    "ax = dat.plot(name_size=\"January_temp\")\n",
    "ax.decoration(title=\"Estimation by Ordinary Kriging (Small Moving Neigh.)\")"
   ]
  },
  {
   "cell_type": "markdown",
   "id": "df471d15",
   "metadata": {},
   "source": [
    "Building a reasonable Moving Neighborhood, although with a limited extension (*radius*)"
   ]
  },
  {
   "cell_type": "code",
   "execution_count": null,
   "id": "6dd184d7",
   "metadata": {},
   "outputs": [],
   "source": [
    "movingNeigh = gl.NeighMoving.create(nmini=1, nmaxi=10, radius=20)"
   ]
  },
  {
   "cell_type": "markdown",
   "id": "8df58ea1",
   "metadata": {},
   "source": [
    "Running the Ordinary Kriging"
   ]
  },
  {
   "cell_type": "code",
   "execution_count": null,
   "id": "1547156b",
   "metadata": {},
   "outputs": [],
   "source": [
    "err = gl.kriging(dat,grid,fitmodOK,movingNeigh, namconv=gl.NamingConvention(\"Reduced\"))"
   ]
  },
  {
   "cell_type": "markdown",
   "id": "d18a1d35",
   "metadata": {},
   "source": [
    "Plotting the results"
   ]
  },
  {
   "cell_type": "code",
   "execution_count": null,
   "id": "ea44f01b",
   "metadata": {
    "scrolled": true
   },
   "outputs": [],
   "source": [
    "ax = grid.plot(\"Reduced*estim\")\n",
    "ax = dat.plot(name_size=\"January_temp\")\n",
    "ax.decoration(title=\"Estimation by Ordinary Kriging (Reduced Moving Neigh.)\")"
   ]
  },
  {
   "cell_type": "markdown",
   "id": "7ef225cd",
   "metadata": {},
   "source": [
    "Lots of target sites are not estimated as no sample is found within the neighborhood."
   ]
  },
  {
   "cell_type": "markdown",
   "id": "8c5378be",
   "metadata": {},
   "source": [
    "Building a reasonable Moving Neighborhood correctly tuned: 10 samples (maximum) selected in a radius of 150 around the target site."
   ]
  },
  {
   "cell_type": "code",
   "execution_count": null,
   "id": "baa65b6e",
   "metadata": {},
   "outputs": [],
   "source": [
    "movingNeigh = gl.NeighMoving.create(nmini=1, nmaxi=10, radius=150)"
   ]
  },
  {
   "cell_type": "markdown",
   "id": "5a96f4f6",
   "metadata": {},
   "source": [
    "Running the Ordinary Kriging"
   ]
  },
  {
   "cell_type": "code",
   "execution_count": null,
   "id": "5711a4d8",
   "metadata": {},
   "outputs": [],
   "source": [
    "err = gl.kriging(dat,grid,fitmodOK,movingNeigh, namconv=gl.NamingConvention(\"Moving\"))"
   ]
  },
  {
   "cell_type": "markdown",
   "id": "1875aacf",
   "metadata": {},
   "source": [
    "Graphic representation"
   ]
  },
  {
   "cell_type": "code",
   "execution_count": null,
   "id": "bb77b780",
   "metadata": {
    "scrolled": true
   },
   "outputs": [],
   "source": [
    "ax = grid.plot(\"Moving*estim\")\n",
    "ax = dat.plot(name_size=\"January_temp\")\n",
    "ax.decoration(title=\"Estimation by Ordinary Kriging (Moving Neigh.)\")"
   ]
  },
  {
   "cell_type": "markdown",
   "id": "12253dac",
   "metadata": {},
   "source": [
    "For the standard deviation of Estimation error"
   ]
  },
  {
   "cell_type": "code",
   "execution_count": null,
   "id": "7a2e33e5",
   "metadata": {
    "scrolled": true
   },
   "outputs": [],
   "source": [
    "ax = grid.plot(\"Moving*stdev\")\n",
    "ax = dat.plot(name_size=\"January_temp\")\n",
    "ax.decoration(title=\"St. dev. by Ordinary Kriging (Moving Neigh.)\")"
   ]
  },
  {
   "cell_type": "markdown",
   "id": "46a3d37e",
   "metadata": {},
   "source": [
    "Comparing Unique and Moving Neighborhoods: Estimations"
   ]
  },
  {
   "cell_type": "code",
   "execution_count": null,
   "id": "61f00d5d",
   "metadata": {
    "scrolled": true
   },
   "outputs": [],
   "source": [
    "ax = gp.correlation(grid,namex = \"OK*estim\",namey=\"Moving*estim\", bins=100, bissLine=True, flagSameAxes=True)\n",
    "ax.decoration(title=\"Comapring Estimations\", xlabel=\"Unique\", ylabel=\"Moving\")"
   ]
  },
  {
   "cell_type": "markdown",
   "id": "42ced174",
   "metadata": {},
   "source": [
    "Comparing Unique and Moving Neighborhoods: Standard deviations"
   ]
  },
  {
   "cell_type": "code",
   "execution_count": null,
   "id": "a580a597",
   "metadata": {},
   "outputs": [],
   "source": [
    "ax = gp.correlation(grid,namex = \"OK*stdev\",namey=\"Moving*stdev\", bins=100, bissLine=True, flagSameAxes=True)\n",
    "ax.decoration(title=\"Comparing St. Deviations\", xlabel=\"Unique\", ylabel=\"Moving\")"
   ]
  }
 ],
 "metadata": {
  "kernelspec": {
   "display_name": "Python 3 (ipykernel)",
   "language": "python",
   "name": "python3"
  },
  "language_info": {
   "codemirror_mode": {
    "name": "ipython",
    "version": 3
   },
   "file_extension": ".py",
   "mimetype": "text/x-python",
   "name": "python",
   "nbconvert_exporter": "python",
   "pygments_lexer": "ipython3",
   "version": "3.10.5"
  }
 },
 "nbformat": 4,
 "nbformat_minor": 5
}
