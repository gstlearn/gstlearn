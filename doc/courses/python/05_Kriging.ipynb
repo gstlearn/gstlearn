{
 "cells": [
  {
   "cell_type": "markdown",
   "id": "dc4cb2ff",
   "metadata": {},
   "source": [
    "# Kriging"
   ]
  },
  {
   "cell_type": "markdown",
   "id": "e1be9482",
   "metadata": {},
   "source": [
    "<!-- SUMMARY: Perform estimation of a target variable using Kriging: various options (simple and ordinary). Cross-validation. -->\n",
    "\n",
    "<!-- CATEGORY: Courses -->"
   ]
  },
  {
   "cell_type": "markdown",
   "id": "aa135dae",
   "metadata": {},
   "source": [
    "## Preamble\n",
    "\n",
    "In this preamble, we load the **gstlearn** library."
   ]
  },
  {
   "cell_type": "code",
   "execution_count": null,
   "id": "faf99805",
   "metadata": {},
   "outputs": [],
   "source": [
    "import gstlearn as gl\n",
    "import gstlearn.plot as gp\n",
    "import gstlearn.document as gdoc\n",
    "import matplotlib.pyplot as plt\n",
    "import numpy as np\n",
    "import os\n",
    "from IPython.display import Markdown\n",
    "\n",
    "gdoc.setNoScroll()\n",
    "\n",
    "figsize = (10,8)"
   ]
  },
  {
   "cell_type": "markdown",
   "id": "82972bec",
   "metadata": {},
   "source": [
    "Then we download the data base `dat`."
   ]
  },
  {
   "cell_type": "code",
   "execution_count": null,
   "id": "f5e137e2",
   "metadata": {},
   "outputs": [],
   "source": [
    "temp_nf = gdoc.loadData(\"Scotland\", \"Scotland_Temperatures.NF\")\n",
    "dat = gl.Db.createFromNF(temp_nf)"
   ]
  },
  {
   "cell_type": "markdown",
   "id": "d7d5b0cb",
   "metadata": {},
   "source": [
    "We also create a `Db` object containing a grid covering the data points in the data base `dat`. To do so, we start by displaying the minimal and maximal coordinates of the points in `dat` using the `getExtremas()` method from the `Db` class."
   ]
  },
  {
   "cell_type": "code",
   "execution_count": null,
   "id": "721c13aa",
   "metadata": {},
   "outputs": [],
   "source": [
    "dat.getExtremas()"
   ]
  },
  {
   "cell_type": "markdown",
   "id": "c4cf2aee",
   "metadata": {},
   "source": [
    "The first (resp. second) element of the list contains the min and max coordinates in the first (resp. second) space dimension. Based on this information, we create a grid covering all the points using the `DbGrid.create` function. We specify the coordinates of the origin (i.e. lower left corner) of the grid (argument `x0`), the step sizes in each dimension (argument `dx`) and the number of points in each dimension (argument `nx`)."
   ]
  },
  {
   "cell_type": "code",
   "execution_count": null,
   "id": "79b98c25",
   "metadata": {},
   "outputs": [],
   "source": [
    "grid = gl.DbGrid.create(x0=[65,530],dx=[4.94, 4.96],nx=[82,138])"
   ]
  },
  {
   "cell_type": "markdown",
   "id": "0958f307",
   "metadata": {},
   "source": [
    "We then print a summary of the content of the grid using the `display` method of `Db` class, which we supply with a `DbStringFormat` object specifying that we would like information about the extent of the grid (argument `flag_extend` in the `DbStringFormat_createFromFlags` function)."
   ]
  },
  {
   "cell_type": "code",
   "execution_count": null,
   "id": "59f02998",
   "metadata": {},
   "outputs": [],
   "source": [
    "dbfmt = gl.DbStringFormat.createFromFlags(flag_extend=True)\n",
    "grid.display(dbfmt)"
   ]
  },
  {
   "cell_type": "markdown",
   "id": "de29dd2f",
   "metadata": {},
   "source": [
    "## Experimental Variogram and fitted Model"
   ]
  },
  {
   "cell_type": "markdown",
   "id": "b3ac3956",
   "metadata": {},
   "source": [
    "We compute the experimental variogram **vario2dir** (in 2 directions) (cf. [Variography](./04_Variography.ipynb) for more details)."
   ]
  },
  {
   "cell_type": "code",
   "execution_count": null,
   "id": "0ff94b07",
   "metadata": {},
   "outputs": [],
   "source": [
    "varioParamMulti = gl.VarioParam.createMultiple(ndir=2, nlag=15, dlag=15.)\n",
    "vario2dir = gl.Vario(varioParamMulti)\n",
    "err = vario2dir.compute(dat)"
   ]
  },
  {
   "cell_type": "markdown",
   "id": "de86a441",
   "metadata": {},
   "source": [
    "We then the fit a model **fitmod**"
   ]
  },
  {
   "cell_type": "code",
   "execution_count": null,
   "id": "d91e3667",
   "metadata": {},
   "outputs": [],
   "source": [
    "fitmod = gl.Model()\n",
    "types=[gl.ECov.NUGGET, gl.ECov.EXPONENTIAL, gl.ECov.GAUSSIAN]\n",
    "err = fitmod.fit(vario2dir,types=types)"
   ]
  },
  {
   "cell_type": "code",
   "execution_count": null,
   "id": "c4421dc7",
   "metadata": {},
   "outputs": [],
   "source": [
    "res = gp.varmod(vario2dir, fitmod)"
   ]
  },
  {
   "cell_type": "markdown",
   "id": "749d4321",
   "metadata": {},
   "source": [
    "## Simple kriging prediction"
   ]
  },
  {
   "cell_type": "code",
   "execution_count": null,
   "id": "227b93ff",
   "metadata": {},
   "outputs": [],
   "source": [
    "Markdown(gdoc.loadDoc(\"Kriging_Simple.md\"))"
   ]
  },
  {
   "cell_type": "markdown",
   "id": "4ca83b5e",
   "metadata": {},
   "source": [
    "To perform simple kriging, we use the function called `kriging`. \n",
    "We specify:\n",
    "\n",
    "* the `Db` object containing the data points (argument `dbin`) : the variable used for kriging is the (unique) variable of the data base  with a `z` locator (i.e. it should have locator `z1` and the other variables should not have a locator starting with `z`)\n",
    "* the `Db` object containing the target points, i.e. the points where the kriging predictor will be computed (argument `dbout`)\n",
    "* the `Model` object containing the model used to define the kriging predictor (argument `model`): in particular, the mean used to define the predictor is the one set in the `Model` object\n",
    "* the type of neighborhood used in the prediction (argument `neigh`), eg. unique neighborhood (to use all the data points for each predictor) or moving neighborhood (to use only the data points in the vicinity of the target point in the prediction). This argument is defined using a \"neighborhood\" object (see example below).\n",
    "\n",
    "Additionally, it is possible to specify whether we wish to compute, at each target point, the kriging predictor (argument `flag_est`, default=`TRUE`), the kriging standard-deviation (argument `flag_std`, default=`TRUE`) and the kriging variance (argument `flag_varz`, default=`FALSE`). \n",
    "\n",
    "The `kriging` function then adds new variables to the `Db` entered in the `dbout` argument corresponding to these variables. The names of these newly created variables will start by `Kriging`, but this prefix can be changed using the `namconv` argument of the `kriging function`\n",
    "\n",
    "In the next example, we perform a simple kriging prediction (with unique neighborhood) of the variable `January_temp` in the `dat` data base,  on the grid defined in the `grid` data base. To do so, we start by selecting the variable `January_temp` in the `dat` data base (i.e. we make ensure that it is the only variable with a `z` locator)."
   ]
  },
  {
   "cell_type": "code",
   "execution_count": null,
   "id": "38b8be0a",
   "metadata": {},
   "outputs": [],
   "source": [
    "dat.setLocator(\"January_temp\",gl.ELoc.Z)\n",
    "dat"
   ]
  },
  {
   "cell_type": "markdown",
   "id": "a8836842",
   "metadata": {},
   "source": [
    "We then create a \"neighborhood\" object corresponding to the specification of a unique neighborhood: this is done using the `NeighUnique` function."
   ]
  },
  {
   "cell_type": "code",
   "execution_count": null,
   "id": "33bdba0d",
   "metadata": {},
   "outputs": [],
   "source": [
    "uniqueNeigh = gl.NeighUnique.create()"
   ]
  },
  {
   "cell_type": "markdown",
   "id": "8ed3f315",
   "metadata": {},
   "source": [
    "We now call the `kriging` function to perform the kriging prediction. We use the model `fitmod` that we previously fitted on our data, require to compute the kriging predictor and its standard-deviation (but not its variance), and change the prefix of the newly created variables to \"SK\"."
   ]
  },
  {
   "cell_type": "code",
   "execution_count": null,
   "id": "4f1d6f44",
   "metadata": {},
   "outputs": [],
   "source": [
    "err = gl.kriging(dbin=dat, dbout=grid, model=fitmod, \n",
    "              neigh=uniqueNeigh,\n",
    "              flag_est=True, flag_std=True, flag_varz=False,\n",
    "              namconv=gl.NamingConvention(\"SK\")\n",
    "              )"
   ]
  },
  {
   "cell_type": "markdown",
   "id": "25e6d188",
   "metadata": {},
   "source": [
    "We see that the kriging predictor and its standard deviation have been added to the `grid` data base."
   ]
  },
  {
   "cell_type": "code",
   "execution_count": null,
   "id": "4ab233f6",
   "metadata": {},
   "outputs": [],
   "source": [
    "grid"
   ]
  },
  {
   "cell_type": "markdown",
   "id": "8ef06a1d",
   "metadata": {},
   "source": [
    "Finally, we plot the kriging prediction over the grid and the data points."
   ]
  },
  {
   "cell_type": "code",
   "execution_count": null,
   "id": "47b1b2b5",
   "metadata": {},
   "outputs": [],
   "source": [
    "fig, ax = plt.subplots(figsize=figsize)\n",
    "ax.geometry(aspect=1)\n",
    "ax.raster(grid, flagLegend=True)\n",
    "ax.symbol(dat, c='black')\n",
    "ax.decoration(title=\"Simple Kriging over whole Grid\")\n",
    "plt.show()"
   ]
  },
  {
   "cell_type": "markdown",
   "id": "24b158b7",
   "metadata": {},
   "source": [
    "By default, the plotting function plots the variable with locator `z1`, which in our case corresponds to the kriging predictor (as the `kriging` function automatically assigns the locator `z1` to it). To plot another variable, we can simply specify their name. \n",
    "\n",
    "For instance, we can plot the kriging standard deviation using the following code."
   ]
  },
  {
   "cell_type": "code",
   "execution_count": null,
   "id": "8e6510ca",
   "metadata": {},
   "outputs": [],
   "source": [
    "fig, ax = plt.subplots(figsize=figsize)\n",
    "ax.geometry(aspect=1)\n",
    "ax.raster(grid, name=\"SK.January_temp.stdev\", flagLegend=True)\n",
    "ax.symbol(dat, c='black')\n",
    "ax.decoration(title=\"Simple Kriging std-dev over whole Grid\")\n",
    "plt.show()"
   ]
  },
  {
   "cell_type": "markdown",
   "id": "29ec8224",
   "metadata": {},
   "source": [
    "As mentioned above, the mean used in the simple kriging predictor is the one set in the `Model` object supplied in the `kriging` function. By default, this mean is zero. It can be changed using the `setMean` method of the `Model` object. \n",
    "\n",
    "For instance, considering the model `fitmod` previously fitted on the data, we can clone it (using the `clone` method), and assign it a new mean (equal to 4) as follows."
   ]
  },
  {
   "cell_type": "code",
   "execution_count": null,
   "id": "4f24d7bb",
   "metadata": {},
   "outputs": [],
   "source": [
    "fitmodSK = fitmod.clone()\n",
    "err = fitmodSK.setMean(mean=4)"
   ]
  },
  {
   "cell_type": "markdown",
   "id": "11fe0b24",
   "metadata": {},
   "source": [
    "Then, simple kriging is performed using the same command as before, but with the newly created model."
   ]
  },
  {
   "cell_type": "code",
   "execution_count": null,
   "id": "f43a3a4f",
   "metadata": {},
   "outputs": [],
   "source": [
    "err = gl.kriging(dbin=dat, dbout=grid, model=fitmodSK, \n",
    "              neigh=uniqueNeigh,\n",
    "              flag_est=True, flag_std=True, flag_varz=False,\n",
    "              namconv=gl.NamingConvention(\"Mean4_SK\")\n",
    "              )"
   ]
  },
  {
   "cell_type": "markdown",
   "id": "158a90bf",
   "metadata": {},
   "source": [
    "Finally, we plot the new kriging prediction over the grid and the data points. "
   ]
  },
  {
   "cell_type": "code",
   "execution_count": null,
   "id": "0bff7a9c",
   "metadata": {},
   "outputs": [],
   "source": [
    "grid"
   ]
  },
  {
   "cell_type": "code",
   "execution_count": null,
   "id": "83873478",
   "metadata": {},
   "outputs": [],
   "source": [
    "fig, ax = plt.subplots(figsize=figsize)\n",
    "ax.geometry(aspect=1)\n",
    "ax.raster(grid, name=\"Mean4_SK.January_temp.estim\", flagLegend=True)\n",
    "ax.symbol(dat, c='black')\n",
    "ax.decoration(title=\"Simple Kriging over whole Grid: Mean=4\")\n",
    "plt.show()"
   ]
  },
  {
   "cell_type": "markdown",
   "id": "9f78dbff",
   "metadata": {},
   "source": [
    "## Ordinary kriging"
   ]
  },
  {
   "cell_type": "code",
   "execution_count": null,
   "id": "1f361bca",
   "metadata": {},
   "outputs": [],
   "source": [
    "Markdown(gdoc.loadDoc(\"Kriging_Ordinary.md\"))"
   ]
  },
  {
   "cell_type": "markdown",
   "id": "816c088e",
   "metadata": {},
   "source": [
    "In gstlearn, ordinary kriging is seen as the formulation of a kriging predictor on a model with a constant drift. Hence, to perform ordinary kriging, we use the `kriging` function with the same syntax as for simple kriging, but call it with a model that includes a constant drift. Adding a constant drift to a model is done with the `addDrift()` method. \n",
    "\n",
    "Note: Removing a drift from a model can be done using the `delDrift` method (while specifying the index of the drift we wish to remove) or using the `delAllDrifts()` (to remove all the drifts at once).\n",
    "\n",
    "Let us go back to our running example. Considering the model `fitmod` previously fitted on the data, we can clone it (using the `clone` method), and add a constant drift as follows."
   ]
  },
  {
   "cell_type": "code",
   "execution_count": null,
   "id": "68924660",
   "metadata": {},
   "outputs": [],
   "source": [
    "fitmodOK = fitmod.clone()\n",
    "err = fitmodOK.addDrift(gl.DriftM())"
   ]
  },
  {
   "cell_type": "markdown",
   "id": "fcb0dcbf",
   "metadata": {},
   "source": [
    "Then, ordinary kriging is performed using the same command as before, but with the newly created model."
   ]
  },
  {
   "cell_type": "code",
   "execution_count": null,
   "id": "da73fc98",
   "metadata": {},
   "outputs": [],
   "source": [
    "err = gl.kriging(dbin=dat, dbout=grid, model=fitmodOK, \n",
    "              neigh=uniqueNeigh,\n",
    "              flag_est=True, flag_std=True, flag_varz=False,\n",
    "              namconv=gl.NamingConvention(\"OK\")\n",
    "              )"
   ]
  },
  {
   "cell_type": "markdown",
   "id": "d2851951",
   "metadata": {},
   "source": [
    "Finally, we plot the new kriging prediction over the grid and the data points. "
   ]
  },
  {
   "cell_type": "code",
   "execution_count": null,
   "id": "5e6e8ec0",
   "metadata": {},
   "outputs": [],
   "source": [
    "fig, ax = plt.subplots(figsize=figsize)\n",
    "ax.geometry(aspect=1)\n",
    "ax.raster(grid, name=\"OK.January_temp.estim\", flagLegend=True)\n",
    "ax.symbol(dat, c='black')\n",
    "ax.decoration(title=\"Ordinary Kriging over whole Grid\")\n",
    "plt.show()"
   ]
  },
  {
   "cell_type": "markdown",
   "id": "1f224c76",
   "metadata": {},
   "source": [
    "We also plot the kriging standard deviations."
   ]
  },
  {
   "cell_type": "code",
   "execution_count": null,
   "id": "797a6625",
   "metadata": {},
   "outputs": [],
   "source": [
    "fig, ax = plt.subplots(figsize=figsize)\n",
    "ax.geometry(aspect=1)\n",
    "ax.raster(grid, name=\"OK.January_temp.stdev\", flagLegend=True)\n",
    "ax.symbol(dat, c='black')\n",
    "ax.decoration(title=\"Ordinary Kriging std-dev over whole Grid\")\n",
    "plt.show()"
   ]
  },
  {
   "cell_type": "markdown",
   "id": "a11b562a",
   "metadata": {},
   "source": [
    "Let us compare the results from the simple and ordinary kriging predictors. To do so, we create a correlation plot between the two predictors."
   ]
  },
  {
   "cell_type": "code",
   "execution_count": null,
   "id": "e7c5186d",
   "metadata": {},
   "outputs": [],
   "source": [
    "gp.correlation(grid,namex=\"OK.January_temp.estim\", namey=\"SK.January_temp.estim\", \n",
    "                    bissLine=True, bins=100, flagSameAxes=True, cmin=1)\n",
    "gp.decoration(title=\"Estimation Simple vs. Ordinary\", \n",
    "              xlabel=\"Ordinary Kriging\", ylabel=\"Simple Kriging\")"
   ]
  },
  {
   "cell_type": "markdown",
   "id": "cfffb9b3",
   "metadata": {},
   "source": [
    "We also compare the kriging standard-deviations obtained in both cases."
   ]
  },
  {
   "cell_type": "code",
   "execution_count": null,
   "id": "c9f8f5df",
   "metadata": {},
   "outputs": [],
   "source": [
    "gp.correlation(grid,namex=\"OK.January_temp.stdev\", namey=\"SK.January_temp.stdev\", \n",
    "                    bissLine=True, bins=100, flagSameAxes=True, cmin=1)\n",
    "gp.decoration(title=\"Estimation Simple vs. Ordinary\", \n",
    "              xlabel=\"Ordinary Kriging\", ylabel=\"Simple Kriging\")"
   ]
  },
  {
   "cell_type": "markdown",
   "id": "990677d1",
   "metadata": {},
   "source": [
    "## Working with selections"
   ]
  },
  {
   "cell_type": "markdown",
   "id": "ce7286f4",
   "metadata": {},
   "source": [
    "We now load new grid. "
   ]
  },
  {
   "cell_type": "code",
   "execution_count": null,
   "id": "873a1e29",
   "metadata": {},
   "outputs": [],
   "source": [
    "elev_nf = gdoc.loadData(\"Scotland\", \"Scotland_Elevations.NF\")    \n",
    "grid = gl.DbGrid.createFromNF(elev_nf)\n",
    "grid.display(dbfmt)"
   ]
  },
  {
   "cell_type": "markdown",
   "id": "b9990903",
   "metadata": {},
   "source": [
    "This new grid data base contains a variable called `inshore`, with a locator `sel`. This indicates that this variable is a selection, i.e. a binary variable allowing to select some points, called *active cells*, in a data base (by setting them to 1, while the other points will be 0). Selections allow to restrict computations and operations made on a data base to only the active cells. For, when plotting a data base with a selection, only the active cells are represented."
   ]
  },
  {
   "cell_type": "code",
   "execution_count": null,
   "id": "6c5e904f",
   "metadata": {},
   "outputs": [],
   "source": [
    "fig, ax = plt.subplots(figsize=figsize)\n",
    "ax.geometry(aspect=1)\n",
    "ax.raster(grid, name=\"Longitude\", flagLegend=True)\n",
    "ax.symbol(dat, c='black')\n",
    "ax.decoration(title=\"Longitude values (restricted to the selection)\")\n",
    "plt.show()"
   ]
  },
  {
   "cell_type": "markdown",
   "id": "b69fd0b3",
   "metadata": {},
   "source": [
    "When calling the `kriging` function on a data base that contains a selection, the predictors are only computed on the active cells (while the other cells are left undefined)."
   ]
  },
  {
   "cell_type": "code",
   "execution_count": null,
   "id": "02b14cdd",
   "metadata": {},
   "outputs": [],
   "source": [
    "err = gl.kriging(dbin=dat, dbout=grid, model=fitmodOK, neigh=uniqueNeigh,\n",
    "              flag_est=True, flag_std=True, flag_varz=False,\n",
    "              namconv=gl.NamingConvention(\"OK\"))"
   ]
  },
  {
   "cell_type": "code",
   "execution_count": null,
   "id": "2b28250e",
   "metadata": {},
   "outputs": [],
   "source": [
    "fig, ax = plt.subplots(figsize=figsize)\n",
    "ax.geometry(aspect=1)\n",
    "ax.raster(grid, name=\"OK*estim\", flagLegend=True)\n",
    "ax.symbol(dat, c='black')\n",
    "ax.decoration(title=\"Estimation by Ordinary Kriging (restricted to the selection)\")\n",
    "plt.show()"
   ]
  },
  {
   "cell_type": "markdown",
   "id": "2dc5d24e",
   "metadata": {},
   "source": [
    "## Cross-validation"
   ]
  },
  {
   "cell_type": "markdown",
   "id": "ba54078a",
   "metadata": {},
   "source": [
    "The function `xvalid` can be used to perform leave-one-out cross-validation with kriging: each point of the data base is separately predicted by kriging, using all the other points in the data base. This function is called in a similar way as the `kriging` function. We specify:\n",
    "\n",
    "* the `Db` object containing the data points on which we want to perform the cross-validation  (argument `dbin`) : once again, the variable used for the study is the (unique) variable of the data base  with a `z` locator\n",
    "* the `Model` object containing the model used to define the kriging predictor (argument `model`)\n",
    "* the type of neighborhood used in the prediction (argument `neigh`)\n",
    "* whether we wish to return, for each point, only the predictor (argument `flag_xvalid_est=-1`, returns a variable with name ending with \"estim\"), the cross-validation error defined as the difference between the predictor and the true value (argument `flag_xvalid_est=1`, returns a variable with name ending with \"esterr\") or neither (argument `flag_xvalid_est=0`)\n",
    "* whether we wish to return, for each point, only the kriging standard-deviation at each point (argument `flag_xvalid_std=-1`, returns a variable with name ending with \"stdev\"), a standardized error defined as the ratio (Cross-validation error)/(Kriging standard-deviation) (argument `flag_xvalid_std=1`, returns a variable with name ending with \"stderr\") or neither (argument `flag_xvalid_std=0`)\n",
    "\n",
    "Going back to our running example, we perform a cross-validation on our data base `dat`. In particular we ask, at each point, for the cross-validation error and for the standardized error described above. We also specify, through the `nameconv` that we do not wish to modify the current locators in the data base (otherwise, the locator `z1` is \"moved\" to the variable containing the cross-validation error)."
   ]
  },
  {
   "cell_type": "code",
   "execution_count": null,
   "id": "757040f6",
   "metadata": {},
   "outputs": [],
   "source": [
    "err = gl.xvalid(db=dat, model=fitmodOK, neigh=uniqueNeigh, \n",
    "             flag_xvalid_est=1, flag_xvalid_std=1,  \n",
    "             namconv=gl.NamingConvention.create(\"Xvalid\", flag_locator = False)\n",
    "            )"
   ]
  },
  {
   "cell_type": "markdown",
   "id": "6d3bcbb5",
   "metadata": {},
   "source": [
    "We plot the histogram of cross-validation errors."
   ]
  },
  {
   "cell_type": "code",
   "execution_count": null,
   "id": "1ca2b897",
   "metadata": {},
   "outputs": [],
   "source": [
    "gp.histogram(dat,name=\"*esterr*\",bins=30,fill=\"blue\")\n",
    "gp.decoration(xlabel=\"Estimation Errors\",title=\"Cross-Validation\")"
   ]
  },
  {
   "cell_type": "markdown",
   "id": "149f59a4",
   "metadata": {},
   "source": [
    "We plot the histogram of standardized errors."
   ]
  },
  {
   "cell_type": "code",
   "execution_count": null,
   "id": "03779cf2",
   "metadata": {},
   "outputs": [],
   "source": [
    "gp.histogram(dat,name=\"*stderr*\",bins=30,fill=\"blue\")\n",
    "gp.decoration(xlabel=\"Standardized Errors\", title=\"Cross-Validation\")"
   ]
  },
  {
   "cell_type": "markdown",
   "id": "c5eba560",
   "metadata": {},
   "source": [
    "Finally, we compute a few statistics about these errors."
   ]
  },
  {
   "cell_type": "code",
   "execution_count": null,
   "id": "53603eef",
   "metadata": {},
   "outputs": [],
   "source": [
    "print(\"Mean cross-validation error:\",round(np.nanmean(dat.getColumn(\"*esterr*\")),4))\n",
    "print(\"Mean squared cross-validation error:\",round(np.nanmean(np.square(dat.getColumn(\"*esterr*\"))),4))\n",
    "print(\"Mean standardized error:\",round(np.nanmean(np.square(dat.getColumn(\"*stderr*\"))),4))"
   ]
  },
  {
   "cell_type": "markdown",
   "id": "00f0fe99",
   "metadata": {},
   "source": [
    "We now plot the absolute value of the cross-validation errors at each point on top of the grid map. We use the argument `flagAbsSize = TRUE` in the `ax.symbol` function to specify that we want the size of the points to be proportional to the absolute value of the variable specified in the `nameSize` argument (here, the cross-validation errors)."
   ]
  },
  {
   "cell_type": "code",
   "execution_count": null,
   "id": "37f9aac6",
   "metadata": {},
   "outputs": [],
   "source": [
    "fig, ax = plt.subplots(figsize=figsize)\n",
    "ax.geometry(aspect=1)\n",
    "ax.raster(grid, name=\"inshore\")\n",
    "ax.symbol(dat,nameSize=\"*esterr\", flagAbsSize=True, flagLegendSize=True)\n",
    "ax.decoration(title=\"Cross-Validation scores (abs. value)\")\n",
    "plt.show()"
   ]
  },
  {
   "cell_type": "markdown",
   "id": "b885f132",
   "metadata": {},
   "source": [
    "## Kriging with moving neighborhood"
   ]
  },
  {
   "cell_type": "markdown",
   "id": "7981b4b4",
   "metadata": {},
   "source": [
    "Up until now, we only considered kriging with a unique neighborhood. To work with a moving neighborhood, we first need to define it by creating \"neighborhood\" object describing its characteristics. This is done using the `NeighMoving_create` function. We can specify:\n",
    "\n",
    "* a neighborhood radius (argument `radius`, default=1.234e30): note that the default radius value is taken very large so that the neighborhood radius can basically be seen as infinite if the argument is not set by the user\n",
    "* the minimum and maximum number of data points (within the specified radius) that should be included in the neighborhood (respectively through the arguments `nmini` and `nmaxi`): for a given target point, if the number of data points within the neighborhood radius is smaller that the specified minimum, then no prediction is performed at this target (it is set to undefined)\n",
    "\n",
    "For instance, to design a small Moving Neighborhood with only 1 sample per neighborhood (irregardless of its distance to the target point), we use the following command:\n"
   ]
  },
  {
   "cell_type": "code",
   "execution_count": null,
   "id": "3eadcb91",
   "metadata": {},
   "outputs": [],
   "source": [
    "smallNeigh = gl.NeighMoving.create(nmini=1, nmaxi=1)"
   ]
  },
  {
   "cell_type": "markdown",
   "id": "14da0eed",
   "metadata": {},
   "source": [
    "Then, (ordinary) kriging with moving neighborhood is performed using the same commands as before, but replacing the unique neighborhood in the `neigh` argument by our custom moving neighborhood object."
   ]
  },
  {
   "cell_type": "code",
   "execution_count": null,
   "id": "01e00e5c",
   "metadata": {},
   "outputs": [],
   "source": [
    "err = gl.kriging(dbin=dat, dbout=grid, model=fitmodOK, neigh=smallNeigh,\n",
    "              flag_est=True, flag_std=True, \n",
    "              namconv=gl.NamingConvention(\"Small\"))"
   ]
  },
  {
   "cell_type": "code",
   "execution_count": null,
   "id": "aa098346",
   "metadata": {},
   "outputs": [],
   "source": [
    "fig, ax = plt.subplots(figsize=figsize)\n",
    "ax.geometry(aspect=1)\n",
    "ax.raster(grid, name=\"Small*estim\", flagLegend=True)\n",
    "ax.symbol(dat, c='black')\n",
    "ax.decoration(title=\"Estimation by Ordinary Kriging (Small Moving Neigh.)\")\n",
    "plt.show()"
   ]
  },
  {
   "cell_type": "markdown",
   "id": "2a47981e",
   "metadata": {},
   "source": [
    "To create a moving neighborhood with radius 20 and containing between 1 and 10 points, we use the following command:"
   ]
  },
  {
   "cell_type": "code",
   "execution_count": null,
   "id": "2c9f6d13",
   "metadata": {},
   "outputs": [],
   "source": [
    "movingNeigh = gl.NeighMoving.create(nmini=1, nmaxi=10, radius=20)"
   ]
  },
  {
   "cell_type": "markdown",
   "id": "d5991669",
   "metadata": {},
   "source": [
    "Running the Ordinary Kriging then gives:"
   ]
  },
  {
   "cell_type": "code",
   "execution_count": null,
   "id": "c1ddae36",
   "metadata": {},
   "outputs": [],
   "source": [
    "err = gl.kriging(dat,grid,fitmodOK,movingNeigh,\n",
    "              flag_est=True, flag_std=True, \n",
    "              namconv=gl.NamingConvention(\"Reduced\"))"
   ]
  },
  {
   "cell_type": "code",
   "execution_count": null,
   "id": "ba01aa8b",
   "metadata": {},
   "outputs": [],
   "source": [
    "fig, ax = plt.subplots(figsize=figsize)\n",
    "ax.geometry(aspect=1)\n",
    "ax.raster(grid, name=\"Reduced*estim\", flagLegend=True)\n",
    "ax.symbol(dat, c='black')\n",
    "ax.decoration(title=\"Estimation by Ordinary Kriging (Reduced Moving Neigh.)\")\n",
    "plt.show()"
   ]
  },
  {
   "cell_type": "markdown",
   "id": "4fb911c6",
   "metadata": {},
   "source": [
    "Note that some of the target sites are not predicted as no sample is found within their neighborhood.\n",
    "\n",
    "Let us then consider a moving neighborhood with a bigger radius (150) and containing between 1 and 10 points."
   ]
  },
  {
   "cell_type": "code",
   "execution_count": null,
   "id": "80c54c50",
   "metadata": {},
   "outputs": [],
   "source": [
    "movingNeigh = gl.NeighMoving.create(nmini=1, nmaxi=10, radius=150)"
   ]
  },
  {
   "cell_type": "markdown",
   "id": "0aac4f73",
   "metadata": {},
   "source": [
    "Running the Ordinary Kriging then gives:"
   ]
  },
  {
   "cell_type": "code",
   "execution_count": null,
   "id": "ca15030b",
   "metadata": {},
   "outputs": [],
   "source": [
    "err = gl.kriging(dat,grid,fitmodOK,movingNeigh,\n",
    "              flag_est=True, flag_std=True, \n",
    "              namconv=gl.NamingConvention(\"Moving\"))"
   ]
  },
  {
   "cell_type": "code",
   "execution_count": null,
   "id": "e6faa0f0",
   "metadata": {},
   "outputs": [],
   "source": [
    "fig, ax = plt.subplots(figsize=figsize)\n",
    "ax.geometry(aspect=1)\n",
    "ax.raster(grid, name=\"Moving*estim\", flagLegend=True)\n",
    "ax.symbol(dat, c='black')\n",
    "ax.decoration(title=\"Estimation by Ordinary Kriging (Moving Neigh.)\")\n",
    "plt.show()"
   ]
  },
  {
   "cell_type": "markdown",
   "id": "0b72cb07",
   "metadata": {},
   "source": [
    "And plotting the associated kriging standard-deviations gives:"
   ]
  },
  {
   "cell_type": "code",
   "execution_count": null,
   "id": "fe7985bb",
   "metadata": {},
   "outputs": [],
   "source": [
    "fig, ax = plt.subplots(figsize=figsize)\n",
    "ax.geometry(aspect=1)\n",
    "ax.raster(grid, name=\"Moving*stdev\", flagLegend=True)\n",
    "ax.symbol(dat, c='black')\n",
    "ax.decoration(title=\"St. dev. by Ordinary Kriging (Moving Neigh.)\")\n",
    "plt.show()"
   ]
  },
  {
   "cell_type": "markdown",
   "id": "4ffc07d5",
   "metadata": {},
   "source": [
    "Finally, let us compare the results obtained with a unique and a moving neighborhood (through correlation plot). First, we compare the kriging predictions in both cases."
   ]
  },
  {
   "cell_type": "code",
   "execution_count": null,
   "id": "de9a79dc",
   "metadata": {},
   "outputs": [],
   "source": [
    "gp.correlation(grid,namex = \"OK*estim\",namey=\"Moving*estim\", \n",
    "                    bins=100, bissLine=True, flagSameAxes=True, cmin=1)\n",
    "gp.decoration(title=\"Comparing Estimations\", xlabel=\"Unique\", ylabel=\"Moving\")"
   ]
  },
  {
   "cell_type": "markdown",
   "id": "140175ec",
   "metadata": {},
   "source": [
    "Then, we compare the kriging standard-deviations in both cases."
   ]
  },
  {
   "cell_type": "code",
   "execution_count": null,
   "id": "75f66d21",
   "metadata": {},
   "outputs": [],
   "source": [
    "gp.correlation(grid,namex = \"OK*stdev\",namey=\"Moving*stdev\", \n",
    "                    bins=100, bissLine=True, flagSameAxes=True, cmin=1)\n",
    "gp.decoration(title=\"Comparing St. Deviations\", xlabel=\"Unique\", ylabel=\"Moving\")"
   ]
  }
 ],
 "metadata": {
  "kernelspec": {
   "display_name": "Python 3 (ipykernel)",
   "language": "python",
   "name": "python3"
  },
  "language_info": {
   "codemirror_mode": {
    "name": "ipython",
    "version": 3
   },
   "file_extension": ".py",
   "mimetype": "text/x-python",
   "name": "python",
   "nbconvert_exporter": "python",
   "pygments_lexer": "ipython3",
   "version": "3.10.5"
  },
  "toc": {
   "base_numbering": 1,
   "nav_menu": {},
   "number_sections": true,
   "sideBar": true,
   "skip_h1_title": false,
   "title_cell": "Table of Contents",
   "title_sidebar": "Contents",
   "toc_cell": false,
   "toc_position": {},
   "toc_section_display": true,
   "toc_window_display": false
  }
 },
 "nbformat": 4,
 "nbformat_minor": 5
}
