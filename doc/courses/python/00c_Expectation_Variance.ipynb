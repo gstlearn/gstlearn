{
 "cells": [
  {
   "cell_type": "markdown",
   "id": "7718c2a8",
   "metadata": {},
   "source": [
    "# Expectation, Variance and Covariance"
   ]
  },
  {
   "cell_type": "markdown",
   "id": "d4d28b2e",
   "metadata": {},
   "source": [
    "<!-- SUMMARY: This script gives the elementary definition of the Expectation, the Variance and Covariance for the Random Variables.  -->\n",
    "\n",
    "<!-- CATEGORY: Courses -->"
   ]
  },
  {
   "cell_type": "markdown",
   "id": "1c5d97b7",
   "metadata": {},
   "source": [
    "This file gives the elementary information on Expectation, Variance and Covariance for the Random Variables."
   ]
  },
  {
   "cell_type": "code",
   "execution_count": null,
   "id": "b3eef7d1",
   "metadata": {},
   "outputs": [],
   "source": [
    "import gstlearn.document as gdoc\n",
    "\n",
    "gdoc.setNoScroll()"
   ]
  },
  {
   "cell_type": "code",
   "execution_count": null,
   "id": "ea8cb46e",
   "metadata": {},
   "outputs": [],
   "source": [
    "gdoc.displayDoc(\"Expectation.md\")"
   ]
  }
 ],
 "metadata": {
  "kernelspec": {
   "display_name": "Python 3 (ipykernel)",
   "language": "python",
   "name": "python3"
  },
  "language_info": {
   "codemirror_mode": {
    "name": "ipython",
    "version": 3
   },
   "file_extension": ".py",
   "mimetype": "text/x-python",
   "name": "python",
   "nbconvert_exporter": "python",
   "pygments_lexer": "ipython3",
   "version": "3.10.5"
  },
  "toc": {
   "base_numbering": 1,
   "nav_menu": {},
   "number_sections": true,
   "sideBar": true,
   "skip_h1_title": false,
   "title_cell": "Table of Contents",
   "title_sidebar": "Contents",
   "toc_cell": false,
   "toc_position": {
    "height": "calc(100% - 180px)",
    "left": "10px",
    "top": "150px",
    "width": "267.267px"
   },
   "toc_section_display": true,
   "toc_window_display": false
  }
 },
 "nbformat": 4,
 "nbformat_minor": 5
}
