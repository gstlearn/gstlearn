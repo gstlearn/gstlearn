{
 "cells": [
  {
   "cell_type": "markdown",
   "id": "52a82220",
   "metadata": {},
   "source": [
    "# Multivariate"
   ]
  },
  {
   "cell_type": "markdown",
   "id": "28daffae",
   "metadata": {},
   "source": [
    "<!-- SUMMARY: Estimation using several variables simultaneously: Cokriging, Kriging with trend, Kriging with External Drift  -->\n",
    "\n",
    "<!-- CATEGORY: Courses -->"
   ]
  },
  {
   "cell_type": "markdown",
   "id": "10983151",
   "metadata": {
    "toc": true
   },
   "source": [
    "<h1>Table of Contents<span class=\"tocSkip\"></span></h1>\n",
    "<div class=\"toc\"><ul class=\"toc-item\"><li><span><a href=\"#Multivariate\" data-toc-modified-id=\"Multivariate-1\"><span class=\"toc-item-num\">1&nbsp;&nbsp;</span>Multivariate</a></span><ul class=\"toc-item\"><li><span><a href=\"#Preamble\" data-toc-modified-id=\"Preamble-1.1\"><span class=\"toc-item-num\">1.1&nbsp;&nbsp;</span>Preamble</a></span><ul class=\"toc-item\"><li><span><a href=\"#Exploratory-data-analysis\" data-toc-modified-id=\"Exploratory-data-analysis-1.1.1\"><span class=\"toc-item-num\">1.1.1&nbsp;&nbsp;</span>Exploratory data analysis</a></span></li><li><span><a href=\"#Baseline-univariate-model\" data-toc-modified-id=\"Baseline-univariate-model-1.1.2\"><span class=\"toc-item-num\">1.1.2&nbsp;&nbsp;</span>Baseline univariate model</a></span><ul class=\"toc-item\"><li><span><a href=\"#Model-fitting\" data-toc-modified-id=\"Model-fitting-1.1.2.1\"><span class=\"toc-item-num\">1.1.2.1&nbsp;&nbsp;</span>Model fitting</a></span></li><li><span><a href=\"#Ordinary-kriging\" data-toc-modified-id=\"Ordinary-kriging-1.1.2.2\"><span class=\"toc-item-num\">1.1.2.2&nbsp;&nbsp;</span>Ordinary kriging</a></span></li><li><span><a href=\"#Cross-validation\" data-toc-modified-id=\"Cross-validation-1.1.2.3\"><span class=\"toc-item-num\">1.1.2.3&nbsp;&nbsp;</span>Cross-validation</a></span></li></ul></li></ul></li><li><span><a href=\"#Multivariate-Models-and-Cokriging\" data-toc-modified-id=\"Multivariate-Models-and-Cokriging-1.2\"><span class=\"toc-item-num\">1.2&nbsp;&nbsp;</span>Multivariate Models and Cokriging</a></span><ul class=\"toc-item\"><li><span><a href=\"#Fitting-a-bivariate-model\" data-toc-modified-id=\"Fitting-a-bivariate-model-1.2.1\"><span class=\"toc-item-num\">1.2.1&nbsp;&nbsp;</span>Fitting a bivariate model</a></span></li><li><span><a href=\"#Cokriging-predictions\" data-toc-modified-id=\"Cokriging-predictions-1.2.2\"><span class=\"toc-item-num\">1.2.2&nbsp;&nbsp;</span>Cokriging predictions</a></span></li><li><span><a href=\"#Cross-validation\" data-toc-modified-id=\"Cross-validation-1.2.3\"><span class=\"toc-item-num\">1.2.3&nbsp;&nbsp;</span>Cross-validation</a></span></li></ul></li><li><span><a href=\"#Working-with-residuals\" data-toc-modified-id=\"Working-with-residuals-1.3\"><span class=\"toc-item-num\">1.3&nbsp;&nbsp;</span>Working with residuals</a></span><ul class=\"toc-item\"><li><span><a href=\"#Computing-and-fitting-the-residuals\" data-toc-modified-id=\"Computing-and-fitting-the-residuals-1.3.1\"><span class=\"toc-item-num\">1.3.1&nbsp;&nbsp;</span>Computing and fitting the residuals</a></span></li><li><span><a href=\"#Ordinary-kriging-of-the-residuals\" data-toc-modified-id=\"Ordinary-kriging-of-the-residuals-1.3.2\"><span class=\"toc-item-num\">1.3.2&nbsp;&nbsp;</span>Ordinary kriging of the residuals</a></span></li></ul></li><li><span><a href=\"#Models-with-auxiliary-variables\" data-toc-modified-id=\"Models-with-auxiliary-variables-1.4\"><span class=\"toc-item-num\">1.4&nbsp;&nbsp;</span>Models with auxiliary variables</a></span><ul class=\"toc-item\"><li><span><a href=\"#Models-with-polynomial-trends-(intrinsic-model)\" data-toc-modified-id=\"Models-with-polynomial-trends-(intrinsic-model)-1.4.1\"><span class=\"toc-item-num\">1.4.1&nbsp;&nbsp;</span>Models with polynomial trends (intrinsic model)</a></span><ul class=\"toc-item\"><li><span><a href=\"#Fitting-a-model-with-a-polynomial-trend\" data-toc-modified-id=\"Fitting-a-model-with-a-polynomial-trend-1.4.1.1\"><span class=\"toc-item-num\">1.4.1.1&nbsp;&nbsp;</span>Fitting a model with a polynomial trend</a></span></li><li><span><a href=\"#Universal-Kriging\" data-toc-modified-id=\"Universal-Kriging-1.4.1.2\"><span class=\"toc-item-num\">1.4.1.2&nbsp;&nbsp;</span>Universal Kriging</a></span></li><li><span><a href=\"#Cross-validation\" data-toc-modified-id=\"Cross-validation-1.4.1.3\"><span class=\"toc-item-num\">1.4.1.3&nbsp;&nbsp;</span>Cross-validation</a></span></li></ul></li><li><span><a href=\"#Models-with-External-Drifts\" data-toc-modified-id=\"Models-with-External-Drifts-1.4.2\"><span class=\"toc-item-num\">1.4.2&nbsp;&nbsp;</span>Models with External Drifts</a></span><ul class=\"toc-item\"><li><span><a href=\"#Fitting--a-model-with-external-drifts\" data-toc-modified-id=\"Fitting--a-model-with-external-drifts-1.4.2.1\"><span class=\"toc-item-num\">1.4.2.1&nbsp;&nbsp;</span>Fitting  a model with external drifts</a></span></li><li><span><a href=\"#Kriging-with-external-drifts\" data-toc-modified-id=\"Kriging-with-external-drifts-1.4.2.2\"><span class=\"toc-item-num\">1.4.2.2&nbsp;&nbsp;</span>Kriging with external drifts</a></span></li><li><span><a href=\"#Cross-validation\" data-toc-modified-id=\"Cross-validation-1.4.2.3\"><span class=\"toc-item-num\">1.4.2.3&nbsp;&nbsp;</span>Cross-validation</a></span></li></ul></li></ul></li><li><span><a href=\"#Comparing-the-various-kriging-predictions\" data-toc-modified-id=\"Comparing-the-various-kriging-predictions-1.5\"><span class=\"toc-item-num\">1.5&nbsp;&nbsp;</span>Comparing the various kriging predictions</a></span></li></ul></li></ul></div>"
   ]
  },
  {
   "cell_type": "markdown",
   "id": "7cb9a397",
   "metadata": {},
   "source": [
    "## Preamble"
   ]
  },
  {
   "cell_type": "markdown",
   "id": "e587d5b7",
   "metadata": {},
   "source": [
    "In this preamble, we load the **gstlearn** library."
   ]
  },
  {
   "cell_type": "code",
   "execution_count": null,
   "id": "5967b8a4",
   "metadata": {},
   "outputs": [],
   "source": [
    "import gstlearn as gl\n",
    "import gstlearn.plot as gp\n",
    "import gstlearn.document as gdoc\n",
    "import matplotlib.pyplot as plt\n",
    "import numpy as np\n",
    "import os\n",
    "\n",
    "gdoc.setNoScroll()\n",
    "\n",
    "ndim = 2\n",
    "gl.defineDefaultSpace(gl.ESpaceType.RN, ndim)\n",
    "gl.OptCst.define(gl.ECst.NTCAR, 15)\n",
    "figsize = (10,8)"
   ]
  },
  {
   "cell_type": "markdown",
   "id": "7eff20de",
   "metadata": {},
   "source": [
    "We load two data bases:\n",
    "\n",
    "* a data base `dat` containing point observations of two variables across Scotland: the elevation (`Elevation`) and the temperature (`January_temp`, then renamed as `Temperature`)\n",
    "* a data base `target` containing a grid of points covering Scotland with a selection variable (`inshore`) selecting the points that are on land, and a variable (`Elevation`) giving the elevation at every point on land"
   ]
  },
  {
   "cell_type": "code",
   "execution_count": null,
   "id": "c95c6db5",
   "metadata": {},
   "outputs": [],
   "source": [
    "## Load observations\n",
    "temp_nf = gdoc.loadData(\"Scotland\", \"Scotland_Temperatures.NF\")\n",
    "dat = gl.Db.createFromNF(temp_nf)\n",
    "### Change variable name\n",
    "dat.setName(\"*temp\", \"Temperature\")\n",
    "\n",
    "## Load grid\n",
    "elev_nf = gdoc.loadData(\"Scotland\", \"Scotland_Elevations.NF\")\n",
    "target = gl.DbGrid.createFromNF(elev_nf)"
   ]
  },
  {
   "cell_type": "markdown",
   "id": "bd65102d",
   "metadata": {},
   "source": [
    "### Exploratory data analysis"
   ]
  },
  {
   "cell_type": "markdown",
   "id": "063eb2d6",
   "metadata": {},
   "source": [
    "The `target` data base a (grid) map of the elevation across Scotland.b"
   ]
  },
  {
   "cell_type": "code",
   "execution_count": null,
   "id": "b7072dbd",
   "metadata": {},
   "outputs": [],
   "source": [
    "target"
   ]
  },
  {
   "cell_type": "markdown",
   "id": "7ba0f5de",
   "metadata": {},
   "source": [
    "Let us plot its content."
   ]
  },
  {
   "cell_type": "code",
   "execution_count": null,
   "id": "c45e19ee",
   "metadata": {},
   "outputs": [],
   "source": [
    "fig, ax = plt.subplots(figsize=figsize)\n",
    "ax.raster(target, \"Elevation\", flagLegend=True)\n",
    "ax.geometry(aspect=1)"
   ]
  },
  {
   "cell_type": "markdown",
   "id": "541aa138",
   "metadata": {},
   "source": [
    "The `dat` data base contains 236 (point) samples of two variables across Scotland: elevation and temperature."
   ]
  },
  {
   "cell_type": "code",
   "execution_count": null,
   "id": "83e42fbe",
   "metadata": {},
   "outputs": [],
   "source": [
    "dat"
   ]
  },
  {
   "cell_type": "markdown",
   "id": "755c7186",
   "metadata": {},
   "source": [
    "We can use the `dbStatisticsPrint` function to compute statistics on variables of a `Db`. We specify \n",
    "\n",
    "* the `Db` of interest (argument `db`),\n",
    "* a vector containing the names of the variables of interest (argument `names`),\n",
    "* the statistics we want to compute (argument `opers`). This last argument is set through a `EStatOption.fromKeys` function, which we call with a vector containing the (abbreviated) names of the statistics (run `EStatOption.printAll()` for the full list)\n",
    "* a flag `flagIso` allowing to specify whether we want to compute the statistics for each variable separately (`flagIso=TRUE`), or whether we want to compute \"filtered\" statistics (`flagIso=FALSE`). In the latter case, we compute the statistics while only using the points where all the variables are defined.\n",
    "\n",
    "For instance, let us count the number of observations of each variable using the `dbStatisticsPrint`. "
   ]
  },
  {
   "cell_type": "code",
   "execution_count": null,
   "id": "9de7cdf5",
   "metadata": {},
   "outputs": [],
   "source": [
    "gl.dbStatisticsPrint(db=dat, names=[\"Elevation\", \"Temperature\"],\n",
    "                     opers=gl.EStatOption.fromKeys([\"NUM\"]),flagIso = False,\n",
    "                     title=\"Number of observations\")"
   ]
  },
  {
   "cell_type": "markdown",
   "id": "55cdb933",
   "metadata": {},
   "source": [
    "Since the data base `dat` contains 236 samples, we can conclude that the `Elevation` variable is defined at every point, but not the `Temperature` variable. Similarly, we can compute the mean and the extreme values of each variable in the observation data base."
   ]
  },
  {
   "cell_type": "code",
   "execution_count": null,
   "id": "64b9b676",
   "metadata": {},
   "outputs": [],
   "source": [
    "gl.dbStatisticsPrint(db=dat, names=[\"Elevation\", \"Temperature\"],\n",
    "                     opers=gl.EStatOption.fromKeys([\"MEAN\",\"MINI\",\"MAXI\"]),flagIso = False,\n",
    "                     title=\"Statistics of observations\")"
   ]
  },
  {
   "cell_type": "markdown",
   "id": "256fba90",
   "metadata": {},
   "source": [
    "Finally, we compute the mean and the extreme values of the elevation in the target data base."
   ]
  },
  {
   "cell_type": "code",
   "execution_count": null,
   "id": "e73367a8",
   "metadata": {},
   "outputs": [],
   "source": [
    "gl.dbStatisticsPrint(db=target, names=[\"Elevation\"],\n",
    "                     opers=gl.EStatOption.fromKeys([\"MEAN\",\"MINI\",\"MAXI\"]),flagIso = False,\n",
    "                     title=\"Statistics of target\")"
   ]
  },
  {
   "cell_type": "markdown",
   "id": "9529c26b",
   "metadata": {},
   "source": [
    "We can then compute the filtered means for the `Elevation` and `Temperature` variables as follows:"
   ]
  },
  {
   "cell_type": "code",
   "execution_count": null,
   "id": "c1b07cee",
   "metadata": {},
   "outputs": [],
   "source": [
    "gl.dbStatisticsPrint(db=dat, names=[\"Elevation\", \"Temperature\"],\n",
    "                     opers=gl.EStatOption.fromKeys([\"MEAN\",\"MINI\",\"MAXI\"]),flagIso = True,\n",
    "                     title=\"Filtered statistics of observations\")"
   ]
  },
  {
   "cell_type": "markdown",
   "id": "dcd71efe",
   "metadata": {},
   "source": [
    "As explained above, the first row of the table contains contains the mean, the minimum and the maximum of the observations of the `Elevation` variable, over all the locations where both the `Elevation` na `Temperature` variables are defined (i.e. in our case, all the points where the temperature is defined). Hence, we see that the points where the temperature is observed are located at relatively low altitudes within the Scottish landscape. \n",
    "\n",
    "To confirm that, we plot the points where the temperature is sampled on top of the elevation map of Scotland."
   ]
  },
  {
   "cell_type": "code",
   "execution_count": null,
   "id": "64fbaa28",
   "metadata": {},
   "outputs": [],
   "source": [
    "fig, ax = plt.subplots(figsize=figsize)\n",
    "ax.geometry(aspect=1)\n",
    "ax.raster(target, \"Elevation\")\n",
    "ax.symbol(dat, nameSize=\"Temperature\", c=\"yellow\", sizmin=0.1, sizmax=20)\n",
    "plt.show()"
   ]
  },
  {
   "cell_type": "markdown",
   "id": "b59e9b22",
   "metadata": {},
   "source": [
    "From observing this last plot, it seems like the bigger points (corresponding to high temperatures) are located where the elevation is smaller: this seems to hint (confirm?) that the temperature is negatively correlated with the elevation. To corroborate this, we plot a correlation plot between the two variables."
   ]
  },
  {
   "cell_type": "code",
   "execution_count": null,
   "id": "33c12cc2",
   "metadata": {},
   "outputs": [],
   "source": [
    "gp.correlation(dat, namex=\"Elevation\", namey=\"Temperature\", asPoint=True, regrLine=True)\n",
    "gp.decoration(title=\"Correlation between Temperature and Elevation\")"
   ]
  },
  {
   "cell_type": "markdown",
   "id": "78277027",
   "metadata": {},
   "source": [
    "### Baseline univariate model"
   ]
  },
  {
   "cell_type": "markdown",
   "id": "1f7cabde",
   "metadata": {},
   "source": [
    "In this course, we will introduce four methods allowing to deal with multivariate data: Cokriging, Residual modeling, Models with polynomial trends and finally Models with an external drift. As a baseline, we will compare the results obtained with each model with the results obtained with a univariate model."
   ]
  },
  {
   "cell_type": "markdown",
   "id": "a3010b93",
   "metadata": {},
   "source": [
    "#### Model fitting"
   ]
  },
  {
   "cell_type": "markdown",
   "id": "03c810b3",
   "metadata": {},
   "source": [
    "We start by computing an experimental directional variogram `vario_raw2dir` of the \"raw\" temperature observations, along two directions ($0^{\\circ}\\text{C}$ and $90^{\\circ}\\text{C}$)."
   ]
  },
  {
   "cell_type": "code",
   "execution_count": null,
   "id": "cb027ead",
   "metadata": {},
   "outputs": [],
   "source": [
    "varioparam = gl.VarioParam.createMultiple(ndir=2, nlag=30, dlag=10)\n",
    "vario_raw2dir = gl.Vario(varioparam)\n",
    "err = vario_raw2dir.compute(dat)"
   ]
  },
  {
   "cell_type": "markdown",
   "id": "44aa1c29",
   "metadata": {},
   "source": [
    "We then fit a model on the experimental variogram of raw temperature observations. Since we want to use ordinary kriging, we add a constant drift to the model."
   ]
  },
  {
   "cell_type": "code",
   "execution_count": null,
   "id": "63b3dad6",
   "metadata": {},
   "outputs": [],
   "source": [
    "fitmod_raw = gl.Model()\n",
    "err = fitmod_raw.fit(vario_raw2dir,\n",
    "                    types=[gl.ECov.NUGGET, gl.ECov.EXPONENTIAL, gl.ECov.CUBIC, gl.ECov.LINEAR])\n",
    "fitmod_raw.setDriftIRF(0,0)"
   ]
  },
  {
   "cell_type": "code",
   "execution_count": null,
   "id": "dfa4f3ad",
   "metadata": {},
   "outputs": [],
   "source": [
    "gp.varmod(vario_raw2dir, fitmod_raw)\n",
    "gp.decoration(title=\"Experimental and fitted variogram models - Raw temperature observations\", \n",
    "              xlabel = \"Distance (km)\", ylabel = \"Variogram\")"
   ]
  },
  {
   "cell_type": "markdown",
   "id": "26b852c5",
   "metadata": {},
   "source": [
    "#### Ordinary kriging"
   ]
  },
  {
   "cell_type": "markdown",
   "id": "84b07f6d",
   "metadata": {},
   "source": [
    "We create a \"neighborhood\" object specifying a unique neighborhood, which we will use throughout the course."
   ]
  },
  {
   "cell_type": "code",
   "execution_count": null,
   "id": "10ed894f",
   "metadata": {},
   "outputs": [],
   "source": [
    "uniqueNeigh = gl.NeighUnique.create()"
   ]
  },
  {
   "cell_type": "markdown",
   "id": "5e014926",
   "metadata": {},
   "source": [
    "We now perform an ordinary kriging prediction of the temperature on the `target` grid using the model fitted on the raw observations, and compute statistics on the predicted values."
   ]
  },
  {
   "cell_type": "code",
   "execution_count": null,
   "id": "191b809b",
   "metadata": {},
   "outputs": [],
   "source": [
    "err = gl.kriging(dbin=dat, dbout=target, model=fitmod_raw, \n",
    "              neigh=uniqueNeigh,\n",
    "              namconv=gl.NamingConvention.create(prefix=\"OK\"))"
   ]
  },
  {
   "cell_type": "code",
   "execution_count": null,
   "id": "dbb7368f",
   "metadata": {},
   "outputs": [],
   "source": [
    "fig, ax = plt.subplots(figsize=figsize)\n",
    "ax.geometry(aspect=1)\n",
    "ax.raster(target, \"OK*estim\")\n",
    "ax.symbol(dat, flagCst=True, c=\"black\")\n",
    "ax.decoration(title=\"Temperature - Ordinary Kriging\")"
   ]
  },
  {
   "cell_type": "code",
   "execution_count": null,
   "id": "5c24da4f",
   "metadata": {},
   "outputs": [],
   "source": [
    "opers = gl.EStatOption.fromKeys([\"NUM\",\"MINI\",\"MAXI\",\"MEAN\",\"STDV\"])\n",
    "gl.dbStatisticsPrint(target, names = ([\"OK.T*\"]), opers=opers,\n",
    "                    title=\"Statistics on the Ordinary Kriging:\")"
   ]
  },
  {
   "cell_type": "markdown",
   "id": "8c1be650",
   "metadata": {},
   "source": [
    "#### Cross-validation"
   ]
  },
  {
   "cell_type": "markdown",
   "id": "7e0fcbc1",
   "metadata": {},
   "source": [
    "We perform a cross-validation of the fitted model using Ordinary Kriging, and calculate the Mean Squared cross-validation and standardized errors. "
   ]
  },
  {
   "cell_type": "code",
   "execution_count": null,
   "id": "141bf859",
   "metadata": {},
   "outputs": [],
   "source": [
    "err = gl.xvalid(dat, model=fitmod_raw, \n",
    "             neigh=uniqueNeigh,\n",
    "             namconv=gl.NamingConvention.create(prefix=\"CV_OK\",flag_locator=False))"
   ]
  },
  {
   "cell_type": "code",
   "execution_count": null,
   "id": "5ed3c4d0",
   "metadata": {},
   "outputs": [],
   "source": [
    "mse=np.nanmean(np.square(dat.getColumn(\"CV_OK*esterr*\")))\n",
    "print(\"Mean squared cross-validation error:\", round(mse,3))\n",
    "\n",
    "mse=np.nanmean(np.square(dat.getColumn(\"CV_OK*stderr*\")))\n",
    "print(\"Mean squared standardized error:\", round(mse,3))"
   ]
  },
  {
   "cell_type": "markdown",
   "id": "3208dbf3",
   "metadata": {},
   "source": [
    "## Multivariate Models and Cokriging"
   ]
  },
  {
   "cell_type": "markdown",
   "id": "6b1f2df9",
   "metadata": {},
   "source": [
    "To create and work with multivariate models, we simply need to work with `Db` objects containing more than one variable with a `z` locator. All the variables with a `z` locator will be considered as part of the multivariate model. Then, the same commands as in the univariate case can be used to create and fit experimental variograms, and to perform (co)kriging predictions. \n",
    "\n",
    "Let us illustrate our point with our running example. We would like now to consider a bivariate model of the temperature and the elevation. To do so, we simply allocate, in the observation data base `dat`, a `z` locator to both variables using the `setLocators`  method."
   ]
  },
  {
   "cell_type": "code",
   "execution_count": null,
   "id": "16739b42",
   "metadata": {},
   "outputs": [],
   "source": [
    "dat.setLocators(names=[\"Temperature\", \"Elevation\"], locatorType=gl.ELoc.Z)\n",
    "dat"
   ]
  },
  {
   "cell_type": "markdown",
   "id": "59ef3274",
   "metadata": {},
   "source": [
    "### Fitting a bivariate model"
   ]
  },
  {
   "cell_type": "markdown",
   "id": "9ec6c7f6",
   "metadata": {},
   "source": [
    "To create experimental (directional) variograms and cross-variograms, we use the same commands as in the univariate case: since the data base `dat` now contains two variables with a `z` locator, the `compute` method automatically computes both variograms and cross-variograms for these variables."
   ]
  },
  {
   "cell_type": "code",
   "execution_count": null,
   "id": "db1cc4b1",
   "metadata": {},
   "outputs": [],
   "source": [
    "varioexp2var = gl.Vario.create(varioparam)\n",
    "err = varioexp2var.compute(dat)"
   ]
  },
  {
   "cell_type": "markdown",
   "id": "a7ec68c7",
   "metadata": {},
   "source": [
    "We can then plot the experimental variograms and cross-variograms with a simple command: the plot in the i-th row and j-th column corresponds to the cross-variogram between the variables with locators `zi` and `zj` (hence the diagonal plots correspond to the variograms of each variable)."
   ]
  },
  {
   "cell_type": "code",
   "execution_count": null,
   "id": "c790cb45",
   "metadata": {},
   "outputs": [],
   "source": [
    "res = gp.varmod(varioexp2var)"
   ]
  },
  {
   "cell_type": "markdown",
   "id": "726edebc",
   "metadata": {},
   "source": [
    "To fit a model on the experimental variograms and cross-variograms, we use the same commands as in the univariate case."
   ]
  },
  {
   "cell_type": "code",
   "execution_count": null,
   "id": "c059fb42",
   "metadata": {},
   "outputs": [],
   "source": [
    "fitmod2var = gl.Model()\n",
    "err = fitmod2var.fit(varioexp2var,\n",
    "                     types=[gl.ECov.NUGGET, gl.ECov.EXPONENTIAL, gl.ECov.CUBIC, gl.ECov.LINEAR])\n",
    "fitmod2var.setDriftIRF(0,0)"
   ]
  },
  {
   "cell_type": "code",
   "execution_count": null,
   "id": "4892dc65",
   "metadata": {
    "scrolled": true
   },
   "outputs": [],
   "source": [
    "gp.varmod(varioexp2var, fitmod2var, lw=2)\n",
    "gp.decoration(ax,title=\"Temperature (°C) and Elevation\")"
   ]
  },
  {
   "cell_type": "markdown",
   "id": "40c9ad5b",
   "metadata": {},
   "source": [
    "### Cokriging predictions"
   ]
  },
  {
   "cell_type": "markdown",
   "id": "cd51eecf",
   "metadata": {},
   "source": [
    "To compute predictions by (simple) cokriging on the grid, we use the same syntax as in univariate case: a predictor for each variable in the multivariate model is produced. (Note: we revert back to a unique neighborhood to compare with the predictors previously introduced)."
   ]
  },
  {
   "cell_type": "code",
   "execution_count": null,
   "id": "1ffa1710",
   "metadata": {},
   "outputs": [],
   "source": [
    "err = gl.kriging(dbin=dat, dbout=target, model=fitmod2var, \n",
    "              neigh=uniqueNeigh,\n",
    "              namconv=gl.NamingConvention.create(prefix=\"COK\"))"
   ]
  },
  {
   "cell_type": "markdown",
   "id": "b0761238",
   "metadata": {},
   "source": [
    "We can then represent the cokriging predictor for the temperature."
   ]
  },
  {
   "cell_type": "code",
   "execution_count": null,
   "id": "4ea96bdb",
   "metadata": {},
   "outputs": [],
   "source": [
    "fig, ax = plt.subplots(figsize=figsize)\n",
    "ax.geometry(aspect=1)\n",
    "ax.raster(target, \"COK.Temp*estim\")\n",
    "ax.symbol(dat, flagCst=True, c=\"black\")\n",
    "ax.decoration(title=\"Temperature - CoKriging\")"
   ]
  },
  {
   "cell_type": "markdown",
   "id": "73d2d68d",
   "metadata": {},
   "source": [
    "For this predictor, we get the following statistics:"
   ]
  },
  {
   "cell_type": "code",
   "execution_count": null,
   "id": "2290a1b7",
   "metadata": {},
   "outputs": [],
   "source": [
    "opers = gl.EStatOption.fromKeys([\"NUM\",\"MINI\",\"MAXI\",\"MEAN\",\"STDV\"])\n",
    "gl.dbStatisticsPrint(target, names = ([\"COK.T*\"]), opers=opers,\n",
    "                    title=\"Statistics on the CoKriging predictions\")"
   ]
  },
  {
   "cell_type": "markdown",
   "id": "a80cb5c9",
   "metadata": {},
   "source": [
    "Finally, we compare the cokriging predictor to the ordinary kriging predictor."
   ]
  },
  {
   "cell_type": "code",
   "execution_count": null,
   "id": "6ce10d44",
   "metadata": {},
   "outputs": [],
   "source": [
    "gp.correlation(target, namex=\"OK.T*estim\", namey=\"COK.T*estim\", bissLine=True, bins=100, cmin=1)\n",
    "gp.decoration(xlabel=\"Ordinary Kriging\",ylabel=\"Ordinary CoKriging\")"
   ]
  },
  {
   "cell_type": "code",
   "execution_count": null,
   "id": "3c456932",
   "metadata": {},
   "outputs": [],
   "source": [
    "opers = gl.EStatOption.fromKeys([\"NUM\",\"MINI\",\"MAXI\",\"MEAN\",\"STDV\"])\n",
    "gl.dbStatisticsPrint(target, names = ([\"OK.T*estim\", \"COK.T*estim\"]), opers=opers,\n",
    "                    title=\"Comparison between Ordinary and Universal kriging predictions\")"
   ]
  },
  {
   "cell_type": "markdown",
   "id": "9e598d51",
   "metadata": {},
   "source": [
    "### Cross-validation"
   ]
  },
  {
   "cell_type": "markdown",
   "id": "b1a3e215",
   "metadata": {},
   "source": [
    "Since cokriging can be time-consuming in Unique Neighborhood, we create a small moving neighborhood for demonstration."
   ]
  },
  {
   "cell_type": "code",
   "execution_count": null,
   "id": "2054d6a3",
   "metadata": {},
   "outputs": [],
   "source": [
    "movingNeigh = gl.NeighMoving.create(radius = 1000, nmaxi = 10)"
   ]
  },
  {
   "cell_type": "markdown",
   "id": "1436cabf",
   "metadata": {},
   "source": [
    "To perform a cross-validation of the bivariate model using co-kriging, we use the  same commands as in the univariate case. Then cross-validation errors are computed for each variable of the multivariate model (hence for both the Temperature and the Elevation in our case)."
   ]
  },
  {
   "cell_type": "code",
   "execution_count": null,
   "id": "dee15ea4",
   "metadata": {},
   "outputs": [],
   "source": [
    "err = gl.xvalid(dat, model=fitmod2var,\n",
    "             neigh=movingNeigh,\n",
    "             namconv=gl.NamingConvention.create(prefix=\"CV_COK\",flag_locator=False))"
   ]
  },
  {
   "cell_type": "markdown",
   "id": "1df82c42",
   "metadata": {},
   "source": [
    "We obtain the following Mean Squared Errors for the temperature."
   ]
  },
  {
   "cell_type": "code",
   "execution_count": null,
   "id": "a790ca31",
   "metadata": {},
   "outputs": [],
   "source": [
    "mse=np.nanmean(np.square(dat.getColumn(\"CV_COK.Temperature*esterr*\")))\n",
    "print(\"Mean squared cross-validation error:\", round(mse,3))\n",
    "\n",
    "mse=np.nanmean(np.square(dat.getColumn(\"CV_COK.Temperature*stderr*\")))\n",
    "print(\"Mean squared standardized error:\", round(mse,3))"
   ]
  },
  {
   "cell_type": "markdown",
   "id": "be53bfb5",
   "metadata": {},
   "source": [
    "We obtain the following Mean Squared Errors for the elevation."
   ]
  },
  {
   "cell_type": "code",
   "execution_count": null,
   "id": "71600adc",
   "metadata": {},
   "outputs": [],
   "source": [
    "mse=np.nanmean(np.square(dat.getColumn(\"CV_COK.Elevation*esterr*\")))\n",
    "print(\"Mean squared cross-validation error:\", round(mse,3))\n",
    "\n",
    "mse=np.nanmean(np.square(dat.getColumn(\"CV_COK.Elevation*stderr*\")))\n",
    "print(\"Mean squared standardized error:\", round(mse,3))"
   ]
  },
  {
   "cell_type": "markdown",
   "id": "ad4629e4",
   "metadata": {},
   "source": [
    "## Working with residuals"
   ]
  },
  {
   "cell_type": "markdown",
   "id": "3002d7b6",
   "metadata": {},
   "source": [
    "In this section, we assume that the variable of interest $Z$ is modeled (at each location $x$) as\n",
    "$$ Z(x) = b+a Y(x) + \\varepsilon(x)$$\n",
    "where $Y$ is an auxiliary variable known at every location, $a$ and $b$ are some (unknown) regression coefficients, and $\\varepsilon$ denotes stationary residuals. Our goal will be to model and work directly with the residuals $\\varepsilon$ (since they are the one who are assumed to be stationary).\n"
   ]
  },
  {
   "cell_type": "markdown",
   "id": "6fbe0148",
   "metadata": {},
   "source": [
    "### Computing and fitting the residuals\n",
    "\n"
   ]
  },
  {
   "cell_type": "markdown",
   "id": "9bbd4b6f",
   "metadata": {},
   "source": [
    "\n",
    "In our running example, the variable of interest $Z$ will be the temperature, and the auxiliary variable $Y$ will be the elevation.  In the observation data base, we start by assigning the locator `z` to the `Temperature` variable (this is our variable of interest), and ensure that it is the only variable with a `z` locator.\n"
   ]
  },
  {
   "cell_type": "code",
   "execution_count": null,
   "id": "dd5b6aa5",
   "metadata": {},
   "outputs": [],
   "source": [
    "## Set `z` locator to temperature\n",
    "dat.setLocator(\"Temperature\",gl.ELoc.Z,cleanSameLocator=True)"
   ]
  },
  {
   "cell_type": "markdown",
   "id": "2607c54a",
   "metadata": {},
   "source": [
    "\n",
    " To compute the coefficients $a$ and $b$ of the linear regression between the temperature and the elevation, we can use the `regression` function. We specify the name of response variable (argument `nameResp`) and the names of the auxiliary variables (argument `names`), and set the argument `mode=0` to specify that we would like to compute a regression defined from the variables with the specified names. We also set the argument `flagCste=TRUE` to specify that we are looking for an affine regression model between the variables (i.e. that includes the bias coefficient `b`)."
   ]
  },
  {
   "cell_type": "code",
   "execution_count": null,
   "id": "3a0b404f",
   "metadata": {},
   "outputs": [],
   "source": [
    "regr = gl.regression(dat, \"Temperature\", [\"Elevation\"], mode=0, flagCst=True)\n",
    "regr.display()\n",
    "b = regr.getCoeff(0)\n",
    "a = regr.getCoeff(1)"
   ]
  },
  {
   "cell_type": "markdown",
   "id": "ac264110",
   "metadata": {},
   "source": [
    "From these regression coefficients obtained above, we can then compute the residuals explicitly as $ \\varepsilon(x)=Z(x) - (b+a Y(x) )$. An alternative method consists in using the `dbRegression` function: this functions fits a regression model, computes the residuals and add them directly on the data base containing the data. The `dbRegression` function is called in a similar way as the `regression` function.\n",
    "\n",
    "In the next example, we compute the residuals of the linear regression between the temperature and the elevation and add them to the observation data base (with a name starting with \"RegRes\"and without changing the locators in the data base)."
   ]
  },
  {
   "cell_type": "code",
   "execution_count": null,
   "id": "b958077d",
   "metadata": {},
   "outputs": [],
   "source": [
    "err = gl.dbRegression(dat, \"Temperature\", [\"Elevation\"], flagCst=True,\n",
    "                     namconv = gl.NamingConvention.create(\"RegRes\",flag_locator=False))"
   ]
  },
  {
   "cell_type": "markdown",
   "id": "4fbf3e93",
   "metadata": {},
   "source": [
    "We then compute some statistics about these residuals."
   ]
  },
  {
   "cell_type": "code",
   "execution_count": null,
   "id": "09d57b0e",
   "metadata": {},
   "outputs": [],
   "source": [
    "opers = gl.EStatOption.fromKeys([\"NUM\",\"MINI\",\"MAXI\",\"MEAN\",\"STDV\"])\n",
    "gl.dbStatisticsPrint(dat, names = ([\"RegRes*\"]), opers=opers,\n",
    "                    title=\"Statistics on the residuals\")"
   ]
  },
  {
   "cell_type": "markdown",
   "id": "f19af71d",
   "metadata": {},
   "source": [
    "Finally we plot a correlation plot between the residuals and the regressor variable (i.e. the elevation)."
   ]
  },
  {
   "cell_type": "code",
   "execution_count": null,
   "id": "bd0c7f2b",
   "metadata": {},
   "outputs": [],
   "source": [
    "res = gp.correlation(dat, namex=\"Elevation\", namey=\"RegRes*\",regrLine=True,asPoint=True)"
   ]
  },
  {
   "cell_type": "markdown",
   "id": "fd3eb909",
   "metadata": {},
   "source": [
    "Now that the residuals are explicitly computed and available in the observation data base, we can proceed to work with them as with any other variable.\n",
    "\n",
    "We start by setting their locator to `z` to specify that they are now our variable of interest within the data base (instead of the raw temperature observations)."
   ]
  },
  {
   "cell_type": "code",
   "execution_count": null,
   "id": "fa6bf64c",
   "metadata": {},
   "outputs": [],
   "source": [
    "dat.setLocator(\"RegRes*\",gl.ELoc.Z, cleanSameLocator=True)"
   ]
  },
  {
   "cell_type": "markdown",
   "id": "4c251eb2",
   "metadata": {},
   "source": [
    "Then we can compute an experimental variogram for the residuals and fit a model on them."
   ]
  },
  {
   "cell_type": "code",
   "execution_count": null,
   "id": "cae6529b",
   "metadata": {},
   "outputs": [],
   "source": [
    "## Compute experimental variogram\n",
    "varioexpR = gl.Vario(varioparam)\n",
    "err = varioexpR.compute(dat)\n",
    "\n",
    "## Fit model\n",
    "fitmodR = gl.Model()\n",
    "err = fitmodR.fit(varioexpR,types=[gl.ECov.NUGGET, gl.ECov.SPHERICAL, gl.ECov.LINEAR])\n",
    "fitmodR.setDriftIRF(0,0)"
   ]
  },
  {
   "cell_type": "code",
   "execution_count": null,
   "id": "5af124d7",
   "metadata": {},
   "outputs": [],
   "source": [
    "gp.varmod(varioexpR, fitmodR)\n",
    "gp.decoration(title=\"Experimental and fitted variogram models - Temperature Residual\",\n",
    "              xlabel = \"Distance (km)\", ylabel = \"Variogram\")"
   ]
  },
  {
   "cell_type": "markdown",
   "id": "a03af825",
   "metadata": {},
   "source": [
    "### Ordinary kriging of the residuals"
   ]
  },
  {
   "cell_type": "markdown",
   "id": "0dc14d9c",
   "metadata": {},
   "source": [
    "Finally, we can compute an kriging prediction of the residuals and plot the results."
   ]
  },
  {
   "cell_type": "code",
   "execution_count": null,
   "id": "69396097",
   "metadata": {},
   "outputs": [],
   "source": [
    "err = gl.kriging(dbin=dat, dbout=target, model=fitmodR, \n",
    "              neigh=uniqueNeigh,\n",
    "              namconv=gl.NamingConvention.create(prefix=\"ROK\"))"
   ]
  },
  {
   "cell_type": "code",
   "execution_count": null,
   "id": "be51a63a",
   "metadata": {},
   "outputs": [],
   "source": [
    "fig, ax = plt.subplots(figsize=figsize)\n",
    "ax.geometry(aspect=1)\n",
    "ax.raster(target, \"ROK*estim\")\n",
    "ax.symbol(dat, flagCst=True, c=\"black\")\n",
    "ax.decoration(title=\"Temperature residuals - Ordinary Kriging\")"
   ]
  },
  {
   "cell_type": "markdown",
   "id": "c1e66d2c",
   "metadata": {},
   "source": [
    "Now that the residuals $\\varepsilon^{OK}$ are predicted everywhere on the grid (by ordinary kriging), we can compute a predictor $Z^*$ for the temperature by simply adding the back the linear regression part of the model, i.e. by computing\n",
    "\n",
    "$$\n",
    "Z^{\\star}(x) = b + a Y(x) + \\varepsilon^{OK}(x)\n",
    "$$\n",
    "We can compute this predictor by directly manipulating the variables of the `target` data base.\n"
   ]
  },
  {
   "cell_type": "code",
   "execution_count": null,
   "id": "03fbe183",
   "metadata": {},
   "outputs": [],
   "source": [
    "## Compute temperature predictor\n",
    "ROK_estim =  b + a * target[\"Elevation\"] + target[\"ROK*estim\"]\n",
    "\n",
    "## Add it to data base\n",
    "uid = target.addColumns(ROK_estim,\"KR.Temperature.estim\")"
   ]
  },
  {
   "cell_type": "code",
   "execution_count": null,
   "id": "98f1c4f4",
   "metadata": {},
   "outputs": [],
   "source": [
    "fig, ax = plt.subplots(figsize=figsize)\n",
    "ax.geometry(aspect=1)\n",
    "ax.raster(target, \"KR.T*estim\")\n",
    "ax.symbol(dat, flagCst=True, c=\"black\")\n",
    "ax.decoration(title=\"Temperature - Ordinary Kriging of the residuals\")"
   ]
  },
  {
   "cell_type": "markdown",
   "id": "a705e79f",
   "metadata": {},
   "source": [
    "Finally, we compare the predictor obtained by kriging of the residuals to the ordinary kriging predictor."
   ]
  },
  {
   "cell_type": "code",
   "execution_count": null,
   "id": "48d96ec2",
   "metadata": {},
   "outputs": [],
   "source": [
    "gp.correlation(target, namex=\"OK.T*estim\", namey=\"KR.T*estim\", bissLine=True, bins=100, \n",
    "                    flagSameAxes=True, cmin=1)\n",
    "gp.decoration(xlabel=\"Ordinary Kriging\",ylabel=\"Ordinary CoKriging\")"
   ]
  },
  {
   "cell_type": "code",
   "execution_count": null,
   "id": "0b03b8d2",
   "metadata": {},
   "outputs": [],
   "source": [
    "opers = gl.EStatOption.fromKeys([\"NUM\",\"MINI\",\"MAXI\",\"MEAN\",\"STDV\"])\n",
    "gl.dbStatisticsPrint(target, names = ([\"OK.T*estim*\", \"KR.T*estim\"]), opers=opers,\n",
    "                    title=\"Comparison between Ordinary and Residual kriging predictions\")"
   ]
  },
  {
   "cell_type": "markdown",
   "id": "a4a65d70",
   "metadata": {},
   "source": [
    "## Models with auxiliary variables"
   ]
  },
  {
   "cell_type": "markdown",
   "id": "2498cb81",
   "metadata": {},
   "source": [
    "\n",
    "### Models with polynomial trends (intrinsic model)"
   ]
  },
  {
   "cell_type": "markdown",
   "id": "88ae1974",
   "metadata": {},
   "source": [
    "In this subsection, we move to a model for the data where the temperature $Z$ at each location is considered to have a polynomial trend, i.e. we can write, for any location $x$,\n",
    "$$ Z(x) = P(x) + \\varepsilon(x)$$\n",
    "where $P$ is a polynomial function of the coordinates $x$, and $\\varepsilon$ denotes stationary residuals. This model can also be referred to as an intrinsic model. "
   ]
  },
  {
   "cell_type": "markdown",
   "id": "d9d8e99a",
   "metadata": {},
   "source": [
    "#### Fitting a model with a polynomial trend "
   ]
  },
  {
   "cell_type": "markdown",
   "id": "50c784c5",
   "metadata": {},
   "source": [
    "As before, in the observation data base, we start by assigning the locator `z` to the `Temperature` variable (this is our variable of interest), and ensure that it is the only variable with a `z` locator."
   ]
  },
  {
   "cell_type": "code",
   "execution_count": null,
   "id": "42e1aee2",
   "metadata": {},
   "outputs": [],
   "source": [
    "## Set `z` locator to temperature\n",
    "dat.setLocator(\"Temperature\",gl.ELoc.Z,cleanSameLocator=True)"
   ]
  },
  {
   "cell_type": "markdown",
   "id": "71001f5d",
   "metadata": {},
   "source": [
    "It is possible to directly compute the experimental variogram of the residuals $\\varepsilon$. To do so, we start by creating a `Model` object in which we specify, through the `setDriftIRF` method, the (maximal) degree of the polynomial trend `P`. \n",
    "\n",
    "Then, computing the (possibly directional) experimental variogram of the residuals is done in the same way as for an \"ordinary\" experimental variogram, the only difference being that we now add in the `compute` method of the `Vario` class, the `Model` object specifying the polynomial trend (argument `model`). Then, the methods takes care of filtering out of the observations a polynomial trend of the specified degree, before computing the experimental variogram on the remaining residuals.\n",
    "\n",
    "For instance, if we want to compute an experimental variogram of the residuals from a model with a linear trend (polynomial of degree 1), then we can run the following commands."
   ]
  },
  {
   "cell_type": "code",
   "execution_count": null,
   "id": "7c333265",
   "metadata": {},
   "outputs": [],
   "source": [
    "## Create model and set polynomial drift of degree 1\n",
    "polDriftModel = gl.Model.create()\n",
    "err = polDriftModel.setDriftIRF(order=1)\n",
    "\n",
    "## Compute variogram of residuals\n",
    "vario_res2dir = gl.Vario(varioparam)\n",
    "err = vario_res2dir.compute(dat,model=polDriftModel)"
   ]
  },
  {
   "cell_type": "code",
   "execution_count": null,
   "id": "16c2a4b8",
   "metadata": {},
   "outputs": [],
   "source": [
    "varioparam = gl.VarioParam.createMultiple(ndir=2, nlag=30, dlag=10)\n",
    "vario_raw2dir = gl.Vario(varioparam)\n",
    "err = vario_raw2dir.compute(dat)"
   ]
  },
  {
   "cell_type": "markdown",
   "id": "ce099f65",
   "metadata": {},
   "source": [
    "When plotting the experimental variograms, we notice that in one of the directions, the variogram does not reach a plateau. This suggests that a non-stationary model could be more suited for the analysis of these temperature observations."
   ]
  },
  {
   "cell_type": "code",
   "execution_count": null,
   "id": "fc38251b",
   "metadata": {},
   "outputs": [],
   "source": [
    "res = gp.varmod(vario_raw2dir)"
   ]
  },
  {
   "cell_type": "markdown",
   "id": "72e93749",
   "metadata": {},
   "source": [
    "Then, we can now fit that a model on the experimental variorgram using the `fit` method in the usual way."
   ]
  },
  {
   "cell_type": "code",
   "execution_count": null,
   "id": "c1f3fb09",
   "metadata": {},
   "outputs": [],
   "source": [
    "err = polDriftModel.fit(vario_res2dir,types=[gl.ECov.NUGGET, gl.ECov.EXPONENTIAL, gl.ECov.CUBIC])"
   ]
  },
  {
   "cell_type": "code",
   "execution_count": null,
   "id": "6bc45bbb",
   "metadata": {},
   "outputs": [],
   "source": [
    "gp.varmod(vario_res2dir, polDriftModel)\n",
    "gp.decoration(title=\"Experimental and fitted variogram models - Residuals\", \n",
    "              xlabel = \"Distance (km)\", ylabel = \"Variogram\")"
   ]
  },
  {
   "cell_type": "markdown",
   "id": "9c2ac8ff",
   "metadata": {},
   "source": [
    "Finally, note that it is possible to compute the coefficients of the polynomial trend from the intrinsic model defined above, using the function `regression`. This function allows to perform linear regressions on variables defined in a data base. \n",
    "\n",
    "For instance, to fit a linear trend on the temperature observations in the `dat` data base, we specify the name of response variable (argument `nameResp`) and the drift model (argument `model`), and set the argument `mode=2` to specify that we would like to compute a regression defined from a drift model. Finally we set the argument `verbose=TRUE` to print the results."
   ]
  },
  {
   "cell_type": "code",
   "execution_count": null,
   "id": "b4686955",
   "metadata": {},
   "outputs": [],
   "source": [
    "regResults = gl.regression(dat, nameResp=\"Temperature\", mode=2, model=polDriftModel)\n",
    "regResults.display()"
   ]
  },
  {
   "cell_type": "markdown",
   "id": "8c0ce02a",
   "metadata": {},
   "source": [
    "Note: The regression results are stored in an object. We can access the coefficients through the slot `coeffs`, the initial variance of the data through the slot `variance` and the variance of the residuals through the slot `varres`.\n"
   ]
  },
  {
   "cell_type": "markdown",
   "id": "ce466c69",
   "metadata": {},
   "source": [
    "#### Universal Kriging"
   ]
  },
  {
   "cell_type": "markdown",
   "id": "92f2ebf4",
   "metadata": {},
   "source": [
    "To work with universal kriging, it suffices to call the `kriging` (to compute predictions) or `xvalid` (to perform cross-validation) with a `Model` object that includes polynomial drift functions. This model should be fitted on a experimental variogram computed on residuals where the polynomial trend has been filtered out. \n",
    "\n",
    "Let's compute an universal kriging prediction of the temperature on the `target` grid using the model fitted on the residuals. "
   ]
  },
  {
   "cell_type": "code",
   "execution_count": null,
   "id": "aa748875",
   "metadata": {},
   "outputs": [],
   "source": [
    "err = gl.kriging(dbin=dat, dbout=target, model=polDriftModel, \n",
    "              neigh=uniqueNeigh,\n",
    "              namconv=gl.NamingConvention.create(prefix=\"UK\"))"
   ]
  },
  {
   "cell_type": "code",
   "execution_count": null,
   "id": "aac4a426",
   "metadata": {},
   "outputs": [],
   "source": [
    "fig, ax = plt.subplots(figsize=figsize)\n",
    "ax.geometry(aspect=1)\n",
    "ax.raster(target, \"UK*estim\")\n",
    "ax.symbol(dat, flagCst=True, c=\"black\")\n",
    "ax.decoration(title=\"Temperature - Universal Kriging\")"
   ]
  },
  {
   "cell_type": "markdown",
   "id": "b486ba93",
   "metadata": {},
   "source": [
    "We compute some statistics on the predicted values."
   ]
  },
  {
   "cell_type": "code",
   "execution_count": null,
   "id": "c1ff3ada",
   "metadata": {},
   "outputs": [],
   "source": [
    "opers = gl.EStatOption.fromKeys([\"NUM\",\"MINI\",\"MAXI\",\"MEAN\",\"STDV\"])\n",
    "gl.dbStatisticsPrint(target, names = ([\"UK.T*\"]), opers=opers,\n",
    "                    title=\"Statistics on the Universal Kriging:\")"
   ]
  },
  {
   "cell_type": "markdown",
   "id": "af9d360d",
   "metadata": {},
   "source": [
    "Let us compare the predictions obtained when considering a polynomial trend in the model, with the ordinary kriging predictor based on the \"raw\" temperature observations. We plot a correlation plot between the ordinary and universal kriging predictions, compare their respective statistics."
   ]
  },
  {
   "cell_type": "code",
   "execution_count": null,
   "id": "3a0fc2e8",
   "metadata": {},
   "outputs": [],
   "source": [
    "gp.correlation(target, namex=\"OK*estim\", namey=\"UK*estim\", bissLine=True, bins=100,cmin=1)\n",
    "gp.decoration(xlabel=\"Ordinary Kriging\",ylabel=\"Universal Kriging\")"
   ]
  },
  {
   "cell_type": "code",
   "execution_count": null,
   "id": "849bac5f",
   "metadata": {},
   "outputs": [],
   "source": [
    "gl.dbStatisticsPrint(target, names = ([\"OK.T*estim\", \"UK.T*estim\"]), opers=opers,\n",
    "                    title=\"Comparison between Ordinary and Universal kriging predictions:\")"
   ]
  },
  {
   "cell_type": "markdown",
   "id": "01d19006",
   "metadata": {},
   "source": [
    "#### Cross-validation"
   ]
  },
  {
   "cell_type": "markdown",
   "id": "20be704c",
   "metadata": {},
   "source": [
    "To perform cross-validation using Universal Kriging, we simply call the `xvalid` function with the model we fitted on the residuals. "
   ]
  },
  {
   "cell_type": "code",
   "execution_count": null,
   "id": "935a23fd",
   "metadata": {},
   "outputs": [],
   "source": [
    "err = gl.xvalid(dat, model=polDriftModel, neigh=uniqueNeigh, \n",
    "                namconv=gl.NamingConvention.create(prefix=\"CV_UK\",flag_locator=False))"
   ]
  },
  {
   "cell_type": "markdown",
   "id": "e5b675fd",
   "metadata": {},
   "source": [
    "The Mean Squared cross-validation and standardized errors of the universal kriging predictor are:"
   ]
  },
  {
   "cell_type": "code",
   "execution_count": null,
   "id": "feddd65e",
   "metadata": {},
   "outputs": [],
   "source": [
    "mse=np.nanmean(np.square(dat.getColumn(\"CV_UK*esterr*\")))\n",
    "print(\"Mean squared cross-validation error:\", round(mse,3))\n",
    "\n",
    "mse=np.nanmean(np.square(dat.getColumn(\"CV_UK*stderr*\")))\n",
    "print(\"Mean squared standardized error:\", round(mse,3))"
   ]
  },
  {
   "cell_type": "markdown",
   "id": "1507bb5a",
   "metadata": {},
   "source": [
    "### Models with External Drifts"
   ]
  },
  {
   "cell_type": "markdown",
   "id": "c4216999",
   "metadata": {},
   "source": [
    "In this last section, we investigate how to specify and work with external drifts when modeling data. In a data base, external drifts are identified by allocating a locator `f` to them in the data bases.\n",
    "\n",
    "For instance, circling back to our running example, let us assume that we would like to model the temperature with an external drift given by the elevation. Then, in the observation data base, we simply need to allocate a `z` locator to the temperature variable and a `f` locator to the elevation variable using the `setLocator` method. Note: we use the flag `cleanSameLocator=TRUE` to make sure that only the variable we specify carries the locator."
   ]
  },
  {
   "cell_type": "code",
   "execution_count": null,
   "id": "c8d0154d",
   "metadata": {},
   "outputs": [],
   "source": [
    "## Set `z` locator to temperature\n",
    "dat.setLocator(\"Temperature\",gl.ELoc.Z,cleanSameLocator=True)\n",
    "\n",
    "## Set `f` locator to elevation\n",
    "dat.setLocator(\"Elevation\",gl.ELoc.F,cleanSameLocator=True)"
   ]
  },
  {
   "cell_type": "markdown",
   "id": "4fdcbbd3",
   "metadata": {},
   "source": [
    "Then, defining and fitting the models on the one hand, and performing kriging predictions on the other hand, is done using the same approach as the one described earlier for models with a polynomial trend."
   ]
  },
  {
   "cell_type": "markdown",
   "id": "7aeb90a4",
   "metadata": {},
   "source": [
    "#### Fitting  a model with external drifts"
   ]
  },
  {
   "cell_type": "markdown",
   "id": "8131e2b1",
   "metadata": {},
   "source": [
    "To create experimental (directional) variograms of the residuals from a model with external drift, we use the same approach as the one described for modeling data with polynomial trends.\n",
    "\n",
    "First, we create a `Model` object where we specify that we deal with external drifts. This is once again done through the `setDriftIRF` function where we specify:\n",
    "\n",
    "* the number of external drift variables (argument `nfex`): this is the number of variables with a `f` locator the we want to work with \n",
    "* the maximal degree of the polynomial trend in the data (argument `order`):  setting `order=0` allows to add a constant drift to the model, and setting `order` to a value $n$ allows to add all the monomial functions of the coordinates of order up to $n$ as external drifts (on top of the `nfex` external drift variables)\n",
    "\n",
    "Circling back to our example, we create a model with a single external drift (the elevation), and add a constant drift (that basically acts like a bias term). "
   ]
  },
  {
   "cell_type": "code",
   "execution_count": null,
   "id": "64306163",
   "metadata": {},
   "outputs": [],
   "source": [
    "EDmodel = gl.Model()\n",
    "EDmodel.setDriftIRF(order = 0, nfex = 1)"
   ]
  },
  {
   "cell_type": "markdown",
   "id": "b8e0e683",
   "metadata": {},
   "source": [
    "Then, to compute the experimental variogram, we use the same commands as in the case of polynomial trends: we create a `Vario` object from the data base containing the data, and call the `compute` method with the model we just created. The experimental variogram is computed on the residuals obtained after \"filtering out\" the (linear) effect of the drift  variables (and possibly of a polynomial trend if specified in the model). "
   ]
  },
  {
   "cell_type": "code",
   "execution_count": null,
   "id": "92f52139",
   "metadata": {},
   "outputs": [],
   "source": [
    "varioKED = gl.Vario(varioparam)\n",
    "err = varioKED.compute(dat,model=EDmodel)"
   ]
  },
  {
   "cell_type": "markdown",
   "id": "a44eb7e7",
   "metadata": {},
   "source": [
    "As a reference, we plot the experimental variograms computed on the raw temperature data (dotted lines) and on the residuals from the model with external drift (dashed line)."
   ]
  },
  {
   "cell_type": "code",
   "execution_count": null,
   "id": "2902ea29",
   "metadata": {},
   "outputs": [],
   "source": [
    "gp.varmod(vario_raw2dir, linestyle='dotted')\n",
    "gp.varmod(varioKED, linestyle='dashed')\n",
    "gp.decoration(title=\"Temperature (°C)\",\n",
    "              xlabel = \"Distance (km)\", ylabel = \"Variogram\")"
   ]
  },
  {
   "cell_type": "markdown",
   "id": "f3fa3df1",
   "metadata": {},
   "source": [
    "Finally, we fit our model with external drift using the `fit` method (which we call on the experimental variogram of residuals)."
   ]
  },
  {
   "cell_type": "code",
   "execution_count": null,
   "id": "47308bd8",
   "metadata": {},
   "outputs": [],
   "source": [
    "err = EDmodel.fit(varioKED,types=[gl.ECov.NUGGET, gl.ECov.CUBIC, gl.ECov.GAUSSIAN])"
   ]
  },
  {
   "cell_type": "code",
   "execution_count": null,
   "id": "89d46e9c",
   "metadata": {},
   "outputs": [],
   "source": [
    "gp.varmod(varioKED, EDmodel)\n",
    "gp.decoration(title=\"Experimental and fitted variogram models - Residuals\")"
   ]
  },
  {
   "cell_type": "markdown",
   "id": "55cae9f1",
   "metadata": {},
   "source": [
    "#### Kriging with external drifts"
   ]
  },
  {
   "cell_type": "markdown",
   "id": "be2d80fd",
   "metadata": {},
   "source": [
    "Similarly to Universal kriging, to  perform a cross-validation or predictions using kriging with External Drifts, we simply call the `xvalid` and `kriging` functions with models where external drifts are specified. \n",
    "\n",
    "For instance, to compute kriging predictions with external drift of the temperature on the `target`. "
   ]
  },
  {
   "cell_type": "markdown",
   "id": "9e1b5c31",
   "metadata": {},
   "source": [
    "Finally, we perform an kriging prediction of the temperature on the `target`. "
   ]
  },
  {
   "cell_type": "code",
   "execution_count": null,
   "id": "f3fd8ade",
   "metadata": {},
   "outputs": [],
   "source": [
    "err = gl.kriging(dbin=dat, dbout=target, model=EDmodel, \n",
    "              neigh=uniqueNeigh,\n",
    "              namconv=gl.NamingConvention.create(prefix=\"KED\"))"
   ]
  },
  {
   "cell_type": "code",
   "execution_count": null,
   "id": "6b143d44",
   "metadata": {},
   "outputs": [],
   "source": [
    "fig, ax = plt.subplots(figsize=figsize)\n",
    "ax.geometry(aspect=1)\n",
    "ax.raster(target, \"KED.T*estim\")\n",
    "ax.symbol(dat, flagCst=True, c=\"black\")\n",
    "ax.decoration(title=\"Temperature - Kriging with external drift\")"
   ]
  },
  {
   "cell_type": "markdown",
   "id": "1227b403",
   "metadata": {},
   "source": [
    "For this predictor, we get the following statistics:"
   ]
  },
  {
   "cell_type": "code",
   "execution_count": null,
   "id": "92d773e8",
   "metadata": {},
   "outputs": [],
   "source": [
    "opers = gl.EStatOption.fromKeys([\"NUM\",\"MINI\",\"MAXI\",\"MEAN\",\"STDV\"])\n",
    "gl.dbStatisticsPrint(target, names = ([\"KED.T*\"]), opers=opers,\n",
    "                    title=\"Statistics on the Kriging with External Drift predictions\")"
   ]
  },
  {
   "cell_type": "markdown",
   "id": "2f3b36f1",
   "metadata": {},
   "source": [
    "We can then compare these predictions to the ones obtained by ordinary kriging. We create a correlation plot between the ordinary kriging predictions, and the kriging with external drift (KED) predictions."
   ]
  },
  {
   "cell_type": "code",
   "execution_count": null,
   "id": "19ef4b46",
   "metadata": {},
   "outputs": [],
   "source": [
    "gp.correlation(target, namex=\"OK.T*estim\", namey=\"KED.T*estim\", bissLine=True, bins=100,\n",
    "                    flagSameAxes=True, cmin=1)\n",
    "gp.decoration(xlabel=\"Ordinary Kriging\",ylabel=\"Kriging with External Drift\")"
   ]
  },
  {
   "cell_type": "markdown",
   "id": "17802967",
   "metadata": {},
   "source": [
    "Note that negative Estimates are present when using an External Drift."
   ]
  },
  {
   "cell_type": "markdown",
   "id": "6b3a74bd",
   "metadata": {},
   "source": [
    "#### Cross-validation"
   ]
  },
  {
   "cell_type": "markdown",
   "id": "96369d7f",
   "metadata": {},
   "source": [
    "To perform a cross-validation, we simply call the `xvalid` function.\n"
   ]
  },
  {
   "cell_type": "code",
   "execution_count": null,
   "id": "de02c7d0",
   "metadata": {},
   "outputs": [],
   "source": [
    "err = gl.xvalid(dat, model=EDmodel, \n",
    "             neigh=uniqueNeigh,\n",
    "             namconv=gl.NamingConvention.create(prefix=\"CV_KED\",flag_locator=False))"
   ]
  },
  {
   "cell_type": "markdown",
   "id": "8f7d91f1",
   "metadata": {},
   "source": [
    "The Mean Squared cross-validation and standardized errors of the resulting kriging predictor are:"
   ]
  },
  {
   "cell_type": "code",
   "execution_count": null,
   "id": "30a087ce",
   "metadata": {},
   "outputs": [],
   "source": [
    "mse=np.nanmean(np.square(dat.getColumn(\"CV_KED*esterr*\")))\n",
    "print(\"Mean squared cross-validation error:\", round(mse,3))\n",
    "\n",
    "mse=np.nanmean(np.square(dat.getColumn(\"CV_KED*stderr*\")))\n",
    "print(\"Mean squared standardized error:\", round(mse,3))"
   ]
  },
  {
   "cell_type": "markdown",
   "id": "d8545bc6",
   "metadata": {},
   "source": [
    "## Comparing the various kriging predictions"
   ]
  },
  {
   "cell_type": "markdown",
   "id": "039a36da",
   "metadata": {},
   "source": [
    "We compare the  Mean Squared cross-validation errors obtained in for the different kriging predictions (UK=Universal kriging, OK=Ordinary kriging, COK= Cokriging, KED= Kriging with external drift, KR=Kriging of residuals)."
   ]
  },
  {
   "cell_type": "code",
   "execution_count": null,
   "id": "a73be0d2",
   "metadata": {},
   "outputs": [],
   "source": [
    "opers = gl.EStatOption.fromKeys([\"NUM\",\"MINI\",\"MAXI\",\"MEAN\",\"STDV\"])\n",
    "gl.dbStatisticsPrint(dat, names = ([\"CV*.Temperature.esterr*\"]), opers=opers,\n",
    "                    title=\"Mean-squared cross-validation errors\")"
   ]
  },
  {
   "cell_type": "markdown",
   "id": "8e1810a6",
   "metadata": {},
   "source": [
    "We then compare various statistics computed for each predictor."
   ]
  },
  {
   "cell_type": "code",
   "execution_count": null,
   "id": "c745d0bc",
   "metadata": {},
   "outputs": [],
   "source": [
    "opers = gl.EStatOption.fromKeys([\"NUM\",\"MINI\",\"MAXI\",\"MEAN\",\"STDV\"])\n",
    "gl.dbStatisticsPrint(target, names = ([\"*.Temperature.estim\"]), opers=opers,\n",
    "                    title=\"Statistics of the predictors\")"
   ]
  },
  {
   "cell_type": "markdown",
   "id": "830e14e2",
   "metadata": {},
   "source": [
    "Finally, we compare various statistics computed for the standard-deviation of each predictor."
   ]
  },
  {
   "cell_type": "code",
   "execution_count": null,
   "id": "159a0bfe",
   "metadata": {},
   "outputs": [],
   "source": [
    "opers = gl.EStatOption.fromKeys([\"NUM\",\"MINI\",\"MAXI\",\"MEAN\",\"STDV\"])\n",
    "gl.dbStatisticsPrint(target, names = ([\"*.Temperature.stdev\"]), opers=opers,\n",
    "                    title=\"Statistics of the standard-deviation of each predictors\")"
   ]
  }
 ],
 "metadata": {
  "kernelspec": {
   "display_name": "Python 3 (ipykernel)",
   "language": "python",
   "name": "python3"
  },
  "language_info": {
   "codemirror_mode": {
    "name": "ipython",
    "version": 3
   },
   "file_extension": ".py",
   "mimetype": "text/x-python",
   "name": "python",
   "nbconvert_exporter": "python",
   "pygments_lexer": "ipython3",
   "version": "3.10.5"
  },
  "toc": {
   "base_numbering": 1,
   "nav_menu": {},
   "number_sections": true,
   "sideBar": true,
   "skip_h1_title": false,
   "title_cell": "Table of Contents",
   "title_sidebar": "Contents",
   "toc_cell": true,
   "toc_position": {
    "height": "calc(100% - 180px)",
    "left": "10px",
    "top": "150px",
    "width": "322.933px"
   },
   "toc_section_display": true,
   "toc_window_display": false
  }
 },
 "nbformat": 4,
 "nbformat_minor": 5
}
