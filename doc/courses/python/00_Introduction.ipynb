{
 "cells": [
  {
   "cell_type": "markdown",
   "id": "7718c2a8",
   "metadata": {},
   "source": [
    "# Introduction"
   ]
  },
  {
   "cell_type": "markdown",
   "id": "d4d28b2e",
   "metadata": {},
   "source": [
    "<!-- SUMMARY: Overview of the course  -->\n",
    "\n",
    "<!-- CATEGORY: Courses -->"
   ]
  },
  {
   "cell_type": "markdown",
   "id": "0c5ba532",
   "metadata": {},
   "source": [
    "In this document, you will find the list of the different files which will be browsed during this course as well as a short description."
   ]
  },
  {
   "cell_type": "markdown",
   "id": "27bcce1f",
   "metadata": {},
   "source": [
    "# Global presentation"
   ]
  },
  {
   "cell_type": "markdown",
   "id": "444462ef",
   "metadata": {},
   "source": [
    "What is **gstlearn**?\n",
    "\n",
    "- Discover the web site\n",
    "- Documentation (Application Programming Interface, Tutorials)\n",
    "- Road Map (Stable version vs. Version under development). Github site\n",
    "- Internal organization: C++, R, Python (accessor, graphics, ...)\n",
    "- Some important features:\n",
    "  . Object language\n",
    "  . Processing through SWIG\n",
    "  . Memory and garbage collector\n",
    "  . Adapting documentation (built using Doxygen from C++)\n",
    "- How to install it (Rstudio, Jupyter-notebook, Terminal)"
   ]
  },
  {
   "cell_type": "markdown",
   "id": "47205580",
   "metadata": {},
   "source": [
    "# Overview of Geostatistics"
   ]
  },
  {
   "cell_type": "markdown",
   "id": "4994f8f7",
   "metadata": {},
   "source": [
    "The principle is to browse the different steps of a standard geostatistical study."
   ]
  },
  {
   "cell_type": "markdown",
   "id": "bef4f4ed",
   "metadata": {},
   "source": [
    "## Get familiar with the library"
   ]
  },
  {
   "cell_type": "markdown",
   "id": "b230a57f",
   "metadata": {},
   "source": [
    "The contents of this paragraph is described in the [**Tutorial for Db**](./02_Db.ipynb).\n",
    "\n",
    "1. Download Data Sets (using URL): we will use the 2D Scotland files.\n",
    "\n",
    "- Pay attention on the language and platform specifics\n",
    "- Other importing format (CSV, Panda Frame, Neutral File)\n",
    "- Various features for accessing data\n",
    "- Unique name for variables\n",
    "- Discussion on *locators*\n",
    "- Particular file organization (Grid)\n",
    "\n",
    "2. Basic operations using a (numerical) Data Base (Db)\n",
    "\n",
    "- Adding and suppressing one or several variable(s)\n",
    "- Masking samples using selection (only keep inshore information)\n",
    "  \n",
    "3. Basic statistics\n",
    "\n",
    "- Summarize basic statistics as a table\n",
    "- Show (C++) documentation (interpretation of Doxygen information)"
   ]
  },
  {
   "cell_type": "markdown",
   "id": "7c88c9c5",
   "metadata": {},
   "source": [
    "## Basic Geostatistics"
   ]
  },
  {
   "cell_type": "markdown",
   "id": "1465435a",
   "metadata": {},
   "source": [
    "1. Variography\n",
    "\n",
    "- The contents of this chapter is described in the [**Tutorial for Variography**](./04_Variography.ipynb)\n",
    "- Variogram cloud\n",
    "- Experimental variogram: isotropic and directional variogram\n",
    "- Fitting a Model: automatic version, selecting basic structures, with constraints ,...\n",
    "- Variogram maps"
   ]
  },
  {
   "cell_type": "markdown",
   "id": "a3f527fd",
   "metadata": {},
   "source": [
    "2. Estimation using Kriging\n",
    "\n",
    "- The contents of this chapter is described in the [**Tutorial for Estimation**](./05_Kriging.ipynb)\n",
    "- Simple Kriging\n",
    "- Ordinary Kriging (adding Universality condition)\n",
    "- Produce maps for estimation and standard deviation of the estimation errors\n",
    "- Neighborhood definition (unique, moving, possibility to introduce faults)\n",
    "- Cross-validation (K-Fold option)"
   ]
  },
  {
   "cell_type": "markdown",
   "id": "ff9e696c",
   "metadata": {},
   "source": [
    "3. Simulations\n",
    "\n",
    "- The contents of this chapter is described in the [**Tutorial for Simulations**](./07_Simulations.ipynb)\n",
    "- Using Turning Bands method\n",
    "- Non-conditional or conditioning to data"
   ]
  },
  {
   "cell_type": "markdown",
   "id": "5818093b",
   "metadata": {},
   "source": [
    "4. Multivariate case\n",
    "\n",
    "- The contents of this chapter is described in the [**Tutorial for Multivariate**](./06a_Multivariate.ipynb)\n",
    "- Define several target variables simultaneously and re-run previous steps\n",
    "- Simple and cross-variograms\n",
    "- Coiging"
   ]
  },
  {
   "cell_type": "markdown",
   "id": "6192ef8e",
   "metadata": {},
   "source": [
    "# Advanced usage"
   ]
  },
  {
   "cell_type": "markdown",
   "id": "bb65d6f7",
   "metadata": {},
   "source": [
    "How to turn **gstlearn** for personal usage?\n",
    " \n",
    "- Object principle (heritage)\n",
    "- Example: enhance one capability of Moving Neighborhood search"
   ]
  },
  {
   "cell_type": "markdown",
   "id": "6e498334",
   "metadata": {},
   "source": [
    "# Quick overview of SPDE"
   ]
  },
  {
   "cell_type": "markdown",
   "id": "ee74e4fa",
   "metadata": {},
   "source": [
    "- Some theory (meshing, precision matrix, sparse matrix)\n",
    "- Using API for performing estimation and  somulations\n",
    "- Highlighting the non-stationarity: variable anisotropy\n",
    "- Working in different spaces: on the sphere"
   ]
  }
 ],
 "metadata": {
  "kernelspec": {
   "display_name": "Python 3 (ipykernel)",
   "language": "python",
   "name": "python3"
  },
  "language_info": {
   "codemirror_mode": {
    "name": "ipython",
    "version": 3
   },
   "file_extension": ".py",
   "mimetype": "text/x-python",
   "name": "python",
   "nbconvert_exporter": "python",
   "pygments_lexer": "ipython3",
   "version": "3.10.5"
  },
  "toc": {
   "base_numbering": 1,
   "nav_menu": {},
   "number_sections": true,
   "sideBar": true,
   "skip_h1_title": false,
   "title_cell": "Table of Contents",
   "title_sidebar": "Contents",
   "toc_cell": false,
   "toc_position": {
    "height": "calc(100% - 180px)",
    "left": "10px",
    "top": "150px",
    "width": "267.267px"
   },
   "toc_section_display": true,
   "toc_window_display": false
  }
 },
 "nbformat": 4,
 "nbformat_minor": 5
}
