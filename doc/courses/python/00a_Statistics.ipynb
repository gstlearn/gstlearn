{
 "cells": [
  {
   "cell_type": "markdown",
   "id": "7718c2a8",
   "metadata": {},
   "source": [
    "# Statistics"
   ]
  },
  {
   "cell_type": "markdown",
   "id": "d4d28b2e",
   "metadata": {},
   "source": [
    "<!-- SUMMARY: This script gives the information of Basic Statistics.  -->\n",
    "\n",
    "<!-- CATEGORY: Courses -->"
   ]
  },
  {
   "cell_type": "markdown",
   "id": "1c5d97b7",
   "metadata": {},
   "source": [
    "This file gives the elementary information on calculation of basic Statistics."
   ]
  },
  {
   "cell_type": "code",
   "execution_count": 1,
   "id": "b3eef7d1",
   "metadata": {},
   "outputs": [
    {
     "data": {
      "application/javascript": [
       "\n",
       "IPython.OutputArea.prototype._should_scroll = function(lines) {\n",
       "    return false;\n",
       "}\n"
      ],
      "text/plain": [
       "<IPython.core.display.Javascript object>"
      ]
     },
     "metadata": {},
     "output_type": "display_data"
    }
   ],
   "source": [
    "import gstlearn.document as gdoc\n",
    "import pandas as pd\n",
    "import numpy as np\n",
    "import matplotlib.pyplot as plt\n",
    "import os\n",
    "import gstlearn as gl \n",
    "from IPython.display import Markdown\n",
    "\n",
    "gdoc.setNoScroll()"
   ]
  },
  {
   "cell_type": "markdown",
   "id": "5f222b29",
   "metadata": {},
   "source": [
    "We will illustrate the notions on the Scotland temperatures data set."
   ]
  },
  {
   "cell_type": "code",
   "execution_count": 2,
   "id": "f3958489",
   "metadata": {},
   "outputs": [
    {
     "data": {
      "text/html": [
       "<div>\n",
       "<style scoped>\n",
       "    .dataframe tbody tr th:only-of-type {\n",
       "        vertical-align: middle;\n",
       "    }\n",
       "\n",
       "    .dataframe tbody tr th {\n",
       "        vertical-align: top;\n",
       "    }\n",
       "\n",
       "    .dataframe thead th {\n",
       "        text-align: right;\n",
       "    }\n",
       "</style>\n",
       "<table border=\"1\" class=\"dataframe\">\n",
       "  <thead>\n",
       "    <tr style=\"text-align: right;\">\n",
       "      <th></th>\n",
       "      <th>Longitude</th>\n",
       "      <th>Latitude</th>\n",
       "      <th>Elevation</th>\n",
       "      <th>January_temp</th>\n",
       "    </tr>\n",
       "  </thead>\n",
       "  <tbody>\n",
       "    <tr>\n",
       "      <th>0</th>\n",
       "      <td>372.1</td>\n",
       "      <td>658.9</td>\n",
       "      <td>255</td>\n",
       "      <td>1.7</td>\n",
       "    </tr>\n",
       "    <tr>\n",
       "      <th>1</th>\n",
       "      <td>303.5</td>\n",
       "      <td>665.9</td>\n",
       "      <td>125</td>\n",
       "      <td>2</td>\n",
       "    </tr>\n",
       "    <tr>\n",
       "      <th>2</th>\n",
       "      <td>218.4</td>\n",
       "      <td>597.9</td>\n",
       "      <td>8</td>\n",
       "      <td>4.6</td>\n",
       "    </tr>\n",
       "    <tr>\n",
       "      <th>3</th>\n",
       "      <td>245.0</td>\n",
       "      <td>955.0</td>\n",
       "      <td>90</td>\n",
       "      <td>MISS</td>\n",
       "    </tr>\n",
       "    <tr>\n",
       "      <th>4</th>\n",
       "      <td>326.8</td>\n",
       "      <td>691.2</td>\n",
       "      <td>32</td>\n",
       "      <td>3.1</td>\n",
       "    </tr>\n",
       "    <tr>\n",
       "      <th>...</th>\n",
       "      <td>...</td>\n",
       "      <td>...</td>\n",
       "      <td>...</td>\n",
       "      <td>...</td>\n",
       "    </tr>\n",
       "    <tr>\n",
       "      <th>231</th>\n",
       "      <td>273.2</td>\n",
       "      <td>564.6</td>\n",
       "      <td>47</td>\n",
       "      <td>2.8</td>\n",
       "    </tr>\n",
       "    <tr>\n",
       "      <th>232</th>\n",
       "      <td>333.9</td>\n",
       "      <td>730.1</td>\n",
       "      <td>30</td>\n",
       "      <td>2.6</td>\n",
       "    </tr>\n",
       "    <tr>\n",
       "      <th>233</th>\n",
       "      <td>185.0</td>\n",
       "      <td>655.0</td>\n",
       "      <td>115</td>\n",
       "      <td>MISS</td>\n",
       "    </tr>\n",
       "    <tr>\n",
       "      <th>234</th>\n",
       "      <td>259.8</td>\n",
       "      <td>587.9</td>\n",
       "      <td>119</td>\n",
       "      <td>2.1</td>\n",
       "    </tr>\n",
       "    <tr>\n",
       "      <th>235</th>\n",
       "      <td>260.8</td>\n",
       "      <td>668.6</td>\n",
       "      <td>107</td>\n",
       "      <td>2.6</td>\n",
       "    </tr>\n",
       "  </tbody>\n",
       "</table>\n",
       "<p>236 rows × 4 columns</p>\n",
       "</div>"
      ],
      "text/plain": [
       "     Longitude  Latitude  Elevation January_temp\n",
       "0        372.1     658.9        255          1.7\n",
       "1        303.5     665.9        125            2\n",
       "2        218.4     597.9          8          4.6\n",
       "3        245.0     955.0         90         MISS\n",
       "4        326.8     691.2         32          3.1\n",
       "..         ...       ...        ...          ...\n",
       "231      273.2     564.6         47          2.8\n",
       "232      333.9     730.1         30          2.6\n",
       "233      185.0     655.0        115         MISS\n",
       "234      259.8     587.9        119          2.1\n",
       "235      260.8     668.6        107          2.6\n",
       "\n",
       "[236 rows x 4 columns]"
      ]
     },
     "execution_count": 2,
     "metadata": {},
     "output_type": "execute_result"
    }
   ],
   "source": [
    "data = pd.read_csv(gdoc.loadData(\"Scotland\", \"Scotland_Temperatures.csv\"))\n",
    "data"
   ]
  },
  {
   "cell_type": "code",
   "execution_count": 3,
   "id": "9635f4f9",
   "metadata": {},
   "outputs": [],
   "source": [
    "z = data[\"Elevation\"].to_numpy()"
   ]
  },
  {
   "cell_type": "markdown",
   "id": "773f33ea",
   "metadata": {},
   "source": [
    "### 1) Position"
   ]
  },
  {
   "cell_type": "code",
   "execution_count": 4,
   "id": "ea8cb46e",
   "metadata": {},
   "outputs": [
    {
     "data": {
      "text/markdown": [
       "<style>md-block { color:gray; background-color:white; }</style><md-block>\n",
       "#### Mean\n",
       "\n",
       "$$\\bar{z} = \\frac{1}{n}\\sum_{i=1}^n z_i$$\n",
       "\n",
       "</md-block>"
      ],
      "text/plain": [
       "<IPython.core.display.Markdown object>"
      ]
     },
     "execution_count": 4,
     "metadata": {},
     "output_type": "execute_result"
    }
   ],
   "source": [
    "Markdown(gdoc.loadDoc(\"Statistics_mean.md\"))"
   ]
  },
  {
   "cell_type": "code",
   "execution_count": 5,
   "id": "1129f8c0",
   "metadata": {},
   "outputs": [
    {
     "name": "stdout",
     "output_type": "stream",
     "text": [
      "Mean = 146.44\n"
     ]
    }
   ],
   "source": [
    "m = np.mean(z)\n",
    "rounded = np.round(m,decimals=2)\n",
    "print(\"Mean = \" + str(rounded))"
   ]
  },
  {
   "cell_type": "code",
   "execution_count": 6,
   "id": "cda5df5d",
   "metadata": {},
   "outputs": [
    {
     "data": {
      "text/markdown": [
       "<style>md-block { color:gray; background-color:white; }</style><md-block>\n",
       "#### Median\n",
       "\n",
       "The median $m$ of the set of values is a value such as half of the total observations are below and half is above.\n",
       "\n",
       "* If the size $n$ is odd, it is the value of the $z_{\\left(\\frac{n+1}{2}\\right)}$ where $z_{(i)}$ is the value of the $i$ th observation (when ordered in increasing order).\n",
       "\n",
       "* If $n$ is even, we can take $\\frac{z_{\\left(\\frac{n}{2}\\right)}+z_{\\left(\\frac{n}{2}+1\\right)}}{2}$.\n",
       "\n",
       "The median is less sensitive than the mean to extreme values.\n",
       "\n",
       "</md-block>"
      ],
      "text/plain": [
       "<IPython.core.display.Markdown object>"
      ]
     },
     "execution_count": 6,
     "metadata": {},
     "output_type": "execute_result"
    }
   ],
   "source": [
    "Markdown(gdoc.loadDoc(\"Statistics_median.md\"))"
   ]
  },
  {
   "cell_type": "code",
   "execution_count": 7,
   "id": "53c97ec3",
   "metadata": {},
   "outputs": [
    {
     "name": "stdout",
     "output_type": "stream",
     "text": [
      "Median = 85.5\n"
     ]
    }
   ],
   "source": [
    "print(\"Median = \" + str(np.median(z)))"
   ]
  },
  {
   "cell_type": "code",
   "execution_count": 8,
   "id": "5f8f958b",
   "metadata": {},
   "outputs": [
    {
     "data": {
      "text/markdown": [
       "<style>md-block { color:gray; background-color:white; }</style><md-block>\n",
       "#### Quartiles\n",
       "\n",
       "The quartiles are the values which divide the samples as follows:\n",
       "\n",
       "* lower quartile: 25\\% of the individuals are below\n",
       "* upper quartile: 25\\% of the individuals are above\n",
       "\n",
       "</md-block>"
      ],
      "text/plain": [
       "<IPython.core.display.Markdown object>"
      ]
     },
     "execution_count": 8,
     "metadata": {},
     "output_type": "execute_result"
    }
   ],
   "source": [
    "Markdown(gdoc.loadDoc(\"Statistics_quartiles.md\"))"
   ]
  },
  {
   "cell_type": "code",
   "execution_count": 9,
   "id": "391c2940",
   "metadata": {},
   "outputs": [
    {
     "name": "stdout",
     "output_type": "stream",
     "text": [
      "Quartiles = [  2.    28.5   85.5  216.25 800.  ]\n"
     ]
    }
   ],
   "source": [
    "print(\"Quartiles = \" + str(np.quantile(z,[0,0.25,0.5,0.75,1])))"
   ]
  },
  {
   "cell_type": "code",
   "execution_count": 10,
   "id": "fc1831e4",
   "metadata": {},
   "outputs": [
    {
     "data": {
      "text/markdown": [
       "<style>md-block { color:gray; background-color:white; }</style><md-block>\n",
       "####  Quantiles (p)\n",
       "\n",
       "We can generalize to any proportion $p$.\n",
       "\n",
       "The $p-$quantile denoted $q_p$ is a value which divides the samples such as a proportion $p$ of the individuals are below the quantile. \n",
       "\n",
       "The median is $q_{\\frac{1}{2}}$. The lower quartile is $q_{\\frac{1}{4}}$ and the upper quartile is $q_{\\frac{3}{4}}$.\n",
       "\n",
       "</md-block>"
      ],
      "text/plain": [
       "<IPython.core.display.Markdown object>"
      ]
     },
     "execution_count": 10,
     "metadata": {},
     "output_type": "execute_result"
    }
   ],
   "source": [
    "Markdown(gdoc.loadDoc(\"Statistics_quantiles.md\"))"
   ]
  },
  {
   "cell_type": "markdown",
   "id": "fb684c30",
   "metadata": {},
   "source": [
    "### 2) Dispersion"
   ]
  },
  {
   "cell_type": "code",
   "execution_count": 11,
   "id": "1ab0320a",
   "metadata": {},
   "outputs": [
    {
     "data": {
      "text/markdown": [
       "<style>md-block { color:gray; background-color:white; }</style><md-block>\n",
       "#### Range\n",
       "\n",
       "$$\\max_{i=1,\\dots,n}{z_i}-\\min_{i=1,\\dots,n}{z_i}$$\n",
       "\n",
       "</md-block>"
      ],
      "text/plain": [
       "<IPython.core.display.Markdown object>"
      ]
     },
     "execution_count": 11,
     "metadata": {},
     "output_type": "execute_result"
    }
   ],
   "source": [
    "Markdown(gdoc.loadDoc(\"Statistics_range.md\"))"
   ]
  },
  {
   "cell_type": "code",
   "execution_count": 12,
   "id": "927bf270",
   "metadata": {},
   "outputs": [
    {
     "name": "stdout",
     "output_type": "stream",
     "text": [
      "Range= 798\n"
     ]
    }
   ],
   "source": [
    "print(\"Range= \" + str(np.max(z)-np.min(z)))"
   ]
  },
  {
   "cell_type": "code",
   "execution_count": 13,
   "id": "cf343a5c",
   "metadata": {},
   "outputs": [
    {
     "data": {
      "text/markdown": [
       "<style>md-block { color:gray; background-color:white; }</style><md-block>\n",
       "#### Inter-quartiles distance\n",
       "\n",
       "$$q_{\\frac{3}{4}}-q_{\\frac{1}{4}}$$\n",
       "\n",
       "</md-block>"
      ],
      "text/plain": [
       "<IPython.core.display.Markdown object>"
      ]
     },
     "execution_count": 13,
     "metadata": {},
     "output_type": "execute_result"
    }
   ],
   "source": [
    "Markdown(gdoc.loadDoc(\"Statistics_interq.md\"))"
   ]
  },
  {
   "cell_type": "code",
   "execution_count": 14,
   "id": "99d95a9b",
   "metadata": {},
   "outputs": [
    {
     "name": "stdout",
     "output_type": "stream",
     "text": [
      "Inter-quartiles distance = [187.75]\n"
     ]
    }
   ],
   "source": [
    "print(\"Inter-quartiles distance = \" + str(np.diff(np.quantile(z,[0.25,0.75]))))"
   ]
  },
  {
   "cell_type": "code",
   "execution_count": 15,
   "id": "0db0fbc0",
   "metadata": {},
   "outputs": [
    {
     "data": {
      "text/markdown": [
       "<style>md-block { color:gray; background-color:white; }</style><md-block>\n",
       "#### Variance \n",
       "\n",
       "The variance measures the average distance between each individual to the mean:\n",
       "\n",
       "$$\\frac{1}{n}\\sum_{i=1}^n(z_i-\\bar{z})^2$$\n",
       "\n",
       "It is sometimes more convenient to use the equivalent formula\n",
       "\n",
       "\n",
       "$$\\frac{1}{n}\\sum_{i=1}^nz_i^2-\\bar{z}^2 = \\bar{z^2}-\\bar{z}^2$$\n",
       "\n",
       "Note that for statistical reasons, one often prefers to use\n",
       "\n",
       "$$\\frac{1}{n-1}\\sum_{i=1}^n(z_i-m)^2$$\n",
       "\n",
       "for the variance. The two formulas give close results when $n$ is large.\n",
       "\n",
       "</md-block>"
      ],
      "text/plain": [
       "<IPython.core.display.Markdown object>"
      ]
     },
     "execution_count": 15,
     "metadata": {},
     "output_type": "execute_result"
    }
   ],
   "source": [
    "Markdown(gdoc.loadDoc(\"Statistics_variance.md\"))"
   ]
  },
  {
   "cell_type": "code",
   "execution_count": 16,
   "id": "d1dca58a",
   "metadata": {},
   "outputs": [
    {
     "name": "stdout",
     "output_type": "stream",
     "text": [
      "Variance (First formula) = 27270.71258259121\n",
      "Variance (Sec.  formula) = 27270.712582591204\n",
      "Variance (numpy version) = 27270.71258259121\n"
     ]
    }
   ],
   "source": [
    "# Variance\n",
    "n = len(z)\n",
    "print(\"Variance (First formula) = \" + str(np.mean((z-np.mean(z))**2)))\n",
    "print(\"Variance (Sec.  formula) = \" + str(np.mean(z**2)-np.mean(z)**2))\n",
    "print(\"Variance (numpy version) = \" + str(np.var(z)))"
   ]
  },
  {
   "cell_type": "code",
   "execution_count": 17,
   "id": "e7c3812e",
   "metadata": {},
   "outputs": [
    {
     "data": {
      "text/markdown": [
       "<style>md-block { color:gray; background-color:white; }</style><md-block>\n",
       "#### Standard Deviation\n",
       "\n",
       "\n",
       "To have a measure in the same unit as the variable, one often consider the standard deviation.\n",
       "\n",
       "$$\\sqrt{\\frac{1}{n}\\sum_{i=1}^n(z_i-\\bar{z})^2}$$\n",
       "\n",
       "</md-block>"
      ],
      "text/plain": [
       "<IPython.core.display.Markdown object>"
      ]
     },
     "execution_count": 17,
     "metadata": {},
     "output_type": "execute_result"
    }
   ],
   "source": [
    "Markdown(gdoc.loadDoc(\"Statistics_std.md\"))"
   ]
  },
  {
   "cell_type": "code",
   "execution_count": 18,
   "id": "30cf86dc",
   "metadata": {},
   "outputs": [
    {
     "name": "stdout",
     "output_type": "stream",
     "text": [
      "Variance (numpy version) = 165.13846487899545\n"
     ]
    }
   ],
   "source": [
    "print(\"Variance (numpy version) = \" + str(np.std(z)))"
   ]
  },
  {
   "cell_type": "markdown",
   "id": "0b6654ac",
   "metadata": {},
   "source": [
    "### 3) Distribution"
   ]
  },
  {
   "cell_type": "code",
   "execution_count": 19,
   "id": "49182f74",
   "metadata": {},
   "outputs": [
    {
     "data": {
      "text/markdown": [
       "<style>md-block { color:gray; background-color:white; }</style><md-block>\n",
       "### Histogram\n",
       "\n",
       "To have a good idea of the distribution of a variable, one can compute the histogram.\n",
       "\n",
       "The idea is \n",
       "\n",
       "* divide the range of the variable $[min,Max]$ into small intervals. Here, we only treat the case were all intervals have the same size\n",
       "* compute the number of samples in each interval.\n",
       "\n",
       "\n",
       "Normalized histogram rescales the ordinate such as the total surface is equal to 1.\n",
       "\n",
       "</md-block>"
      ],
      "text/plain": [
       "<IPython.core.display.Markdown object>"
      ]
     },
     "execution_count": 19,
     "metadata": {},
     "output_type": "execute_result"
    }
   ],
   "source": [
    "Markdown(gdoc.loadDoc(\"Statistics_histo.md\"))"
   ]
  },
  {
   "cell_type": "code",
   "execution_count": 20,
   "id": "e87ac127",
   "metadata": {},
   "outputs": [
    {
     "data": {
      "image/png": "[encoded data removed]",
      "text/plain": [
       "<Figure size 640x480 with 1 Axes>"
      ]
     },
     "metadata": {},
     "output_type": "display_data"
    }
   ],
   "source": [
    "nbin = 20\n",
    "ax = plt.hist(z,bins=nbin)"
   ]
  },
  {
   "cell_type": "code",
   "execution_count": 21,
   "id": "04e5b21f",
   "metadata": {},
   "outputs": [
    {
     "data": {
      "image/png": "[encoded data removed]",
      "text/plain": [
       "<Figure size 640x480 with 1 Axes>"
      ]
     },
     "metadata": {},
     "output_type": "display_data"
    }
   ],
   "source": [
    "#Histogram (normalized)\n",
    "ax = plt.hist(z,bins=nbin,density=True)"
   ]
  },
  {
   "cell_type": "code",
   "execution_count": 22,
   "id": "248e1d1f",
   "metadata": {},
   "outputs": [
    {
     "data": {
      "text/markdown": [
       "<style>md-block { color:gray; background-color:white; }</style><md-block>\n",
       "### Cumulated histogram\n",
       "\n",
       "We can represent the cumulated histogram. It is a function which computes, for each value, the proportion of individuals below this value. \n",
       "It can be written as \n",
       "    \n",
       "   $$F(z_c) =\\frac{1}{n}\\sum_{i=1}^n 1\\!\\!\\!1_{]z_{i},+\\infty]}(z_c)$$\n",
       "   \n",
       "   where $1\\!\\!\\!1_A$ is the indicator function of the set $A$:\n",
       "   \n",
       "   $$1\\!\\!\\!1_A(x)=\\left\\{\\begin{array}{ccc}1 &\\textrm{ if } & x\\in A\\\\\n",
       "   0 & \\textrm{ otherwise } & \\end{array}\n",
       "   \\right.$$\n",
       "\n",
       "\n",
       "</md-block>"
      ],
      "text/plain": [
       "<IPython.core.display.Markdown object>"
      ]
     },
     "execution_count": 22,
     "metadata": {},
     "output_type": "execute_result"
    }
   ],
   "source": [
    "Markdown(gdoc.loadDoc(\"Statistics_histocum.md\"))"
   ]
  },
  {
   "cell_type": "code",
   "execution_count": 23,
   "id": "14ca32eb",
   "metadata": {},
   "outputs": [
    {
     "data": {
      "image/png": "[encoded data removed]",
      "text/plain": [
       "<Figure size 640x480 with 1 Axes>"
      ]
     },
     "metadata": {},
     "output_type": "display_data"
    }
   ],
   "source": [
    "#Cumulative histogram\n",
    "p = 0.8\n",
    "x = np.sort(z)\n",
    "y = np.linspace(1/len(z),1,len(x))\n",
    "a = plt.plot(x, y)\n",
    "a = plt.scatter(np.quantile(z,p),p,c=\"r\")"
   ]
  },
  {
   "cell_type": "code",
   "execution_count": 24,
   "id": "0c9c009a",
   "metadata": {},
   "outputs": [
    {
     "data": {
      "text/markdown": [
       "<style>md-block { color:gray; background-color:white; }</style><md-block>\n",
       "### Quantile function\n",
       "\n",
       "If we inverse the two axes, we obtain the quantile function which gives, for each value $p$, the quantile $q_p$.\n",
       "\n",
       "$$q(p) = F^{-1}(p)$$\n",
       "\n",
       "</md-block>"
      ],
      "text/plain": [
       "<IPython.core.display.Markdown object>"
      ]
     },
     "execution_count": 24,
     "metadata": {},
     "output_type": "execute_result"
    }
   ],
   "source": [
    "Markdown(gdoc.loadDoc(\"Statistics_quantileF.md\"))"
   ]
  },
  {
   "cell_type": "code",
   "execution_count": 25,
   "id": "e4937bf7",
   "metadata": {},
   "outputs": [
    {
     "data": {
      "image/png": "[encoded data removed]",
      "text/plain": [
       "<Figure size 640x480 with 1 Axes>"
      ]
     },
     "metadata": {},
     "output_type": "display_data"
    }
   ],
   "source": [
    "#Quantile function\n",
    "p = 0.8\n",
    "plt.plot(y,x)\n",
    "a = plt.scatter(p,np.quantile(z,p),c=\"r\")"
   ]
  },
  {
   "cell_type": "code",
   "execution_count": 26,
   "id": "29d2a324",
   "metadata": {},
   "outputs": [
    {
     "data": {
      "text/markdown": [
       "<style>md-block { color:gray; background-color:white; }</style><md-block>\n",
       "### Ore\n",
       "\n",
       "In mine, we often consider the ore function \n",
       "$$T(z_c) = 1-F(z_c)$$\n",
       "\n",
       "Indeed, it gives the proportion of the data which are above a cut-off.\n",
       "\n",
       "</md-block>"
      ],
      "text/plain": [
       "<IPython.core.display.Markdown object>"
      ]
     },
     "execution_count": 26,
     "metadata": {},
     "output_type": "execute_result"
    }
   ],
   "source": [
    "Markdown(gdoc.loadDoc(\"Statistics_Ore.md\"))"
   ]
  },
  {
   "cell_type": "code",
   "execution_count": 27,
   "id": "4613ea3f",
   "metadata": {},
   "outputs": [
    {
     "data": {
      "image/png": "[encoded data removed]",
      "text/plain": [
       "<Figure size 640x480 with 1 Axes>"
      ]
     },
     "metadata": {},
     "output_type": "display_data"
    }
   ],
   "source": [
    "#Ore\n",
    "ore = 1. - y\n",
    "a = plt.plot(x,ore)"
   ]
  },
  {
   "cell_type": "code",
   "execution_count": 28,
   "id": "8fdb9c5e",
   "metadata": {},
   "outputs": [
    {
     "data": {
      "text/markdown": [
       "<style>md-block { color:gray; background-color:white; }</style><md-block>\n",
       "### Metal\n",
       "\n",
       "$$Q(z_c) =\\frac{1}{n}\\sum_{i=1}^n z_i1\\!\\!\\!1_{]z_{i},+\\infty]}(z_c)$$\n",
       "\n",
       "</md-block>"
      ],
      "text/plain": [
       "<IPython.core.display.Markdown object>"
      ]
     },
     "execution_count": 28,
     "metadata": {},
     "output_type": "execute_result"
    }
   ],
   "source": [
    "Markdown(gdoc.loadDoc(\"Statistics_Metal.md\"))"
   ]
  },
  {
   "cell_type": "code",
   "execution_count": 29,
   "id": "c963580e",
   "metadata": {},
   "outputs": [
    {
     "data": {
      "image/png": "[encoded data removed]",
      "text/plain": [
       "<Figure size 640x480 with 1 Axes>"
      ]
     },
     "metadata": {},
     "output_type": "display_data"
    }
   ],
   "source": [
    "#Metal (normalized)\n",
    "metal = 1/len(x)*(np.sum(x)-np.cumsum(x))\n",
    "a = plt.plot(x, metal)"
   ]
  },
  {
   "cell_type": "code",
   "execution_count": 30,
   "id": "4f8bb453",
   "metadata": {},
   "outputs": [
    {
     "data": {
      "text/markdown": [
       "<style>md-block { color:gray; background-color:white; }</style><md-block>\n",
       "### Grade \n",
       "\n",
       "$$m(z_c)=\\frac{Q(z_c)}{T(z_c)}$$\n",
       "\n",
       "</md-block>"
      ],
      "text/plain": [
       "<IPython.core.display.Markdown object>"
      ]
     },
     "execution_count": 30,
     "metadata": {},
     "output_type": "execute_result"
    }
   ],
   "source": [
    "Markdown(gdoc.loadDoc(\"Statistics_Grade.md\"))"
   ]
  },
  {
   "cell_type": "code",
   "execution_count": 31,
   "id": "468e3200",
   "metadata": {},
   "outputs": [
    {
     "data": {
      "image/png": "[encoded data removed]",
      "text/plain": [
       "<Figure size 640x480 with 1 Axes>"
      ]
     },
     "metadata": {},
     "output_type": "display_data"
    }
   ],
   "source": [
    "#Grade\n",
    "a = plt.plot(x[:-1],metal[:-1]/ore[:-1])"
   ]
  },
  {
   "cell_type": "code",
   "execution_count": 32,
   "id": "c47fe737",
   "metadata": {},
   "outputs": [
    {
     "data": {
      "text/markdown": [
       "<style>md-block { color:gray; background-color:white; }</style><md-block>\n",
       "#### $Q(T)$ curve\n",
       "\n",
       "We just represent the **Metal** with respect to the **Ore** for various cut-off values $z_c$.\n",
       "\n",
       "</md-block>"
      ],
      "text/plain": [
       "<IPython.core.display.Markdown object>"
      ]
     },
     "execution_count": 32,
     "metadata": {},
     "output_type": "execute_result"
    }
   ],
   "source": [
    "Markdown(gdoc.loadDoc(\"Statistics_QT.md\"))"
   ]
  },
  {
   "cell_type": "code",
   "execution_count": 33,
   "id": "ee2579db",
   "metadata": {},
   "outputs": [
    {
     "data": {
      "image/png": "[encoded data removed]",
      "text/plain": [
       "<Figure size 640x480 with 1 Axes>"
      ]
     },
     "metadata": {},
     "output_type": "display_data"
    }
   ],
   "source": [
    "#Q(T) curve\n",
    "a = plt.plot(ore, metal/metal[0])\n",
    "a = plt.plot([0,1],[0,1],\"--\")"
   ]
  },
  {
   "cell_type": "code",
   "execution_count": 34,
   "id": "fb3a17f7",
   "metadata": {},
   "outputs": [
    {
     "data": {
      "text/markdown": [
       "<style>md-block { color:gray; background-color:white; }</style><md-block>\n",
       "#### Conventional benefit\n",
       "\n",
       "$$B(z_c) = Q(z_c)-z_cT(z_c)$$\n",
       "\n",
       "</md-block>"
      ],
      "text/plain": [
       "<IPython.core.display.Markdown object>"
      ]
     },
     "execution_count": 34,
     "metadata": {},
     "output_type": "execute_result"
    }
   ],
   "source": [
    "Markdown(gdoc.loadDoc(\"Statistics_Benefit.md\"))"
   ]
  },
  {
   "cell_type": "code",
   "execution_count": 35,
   "id": "a1c48f4f",
   "metadata": {},
   "outputs": [
    {
     "data": {
      "image/png": "[encoded data removed]",
      "text/plain": [
       "<Figure size 640x480 with 1 Axes>"
      ]
     },
     "metadata": {},
     "output_type": "display_data"
    }
   ],
   "source": [
    "#Benefit\n",
    "a = plt.plot(x,metal-x*ore)"
   ]
  },
  {
   "cell_type": "markdown",
   "id": "651d3270",
   "metadata": {},
   "source": [
    "### 4) Bivariate Statistics"
   ]
  },
  {
   "cell_type": "code",
   "execution_count": 36,
   "id": "3694e7f9",
   "metadata": {},
   "outputs": [
    {
     "data": {
      "text/markdown": [
       "<style>md-block { color:gray; background-color:white; }</style><md-block>\n",
       "Now we consider two variables:\n",
       "\n",
       "* $z^{(1)}=(z_1^{(1)},\\dots,z_n^{(1)})$\n",
       "* $z^{(2)}=(z_1^{(2)},\\dots,z_n^{(2)})$\n",
       "\n",
       "and we will study their relationship.\n",
       "\n",
       "</md-block>"
      ],
      "text/plain": [
       "<IPython.core.display.Markdown object>"
      ]
     },
     "execution_count": 36,
     "metadata": {},
     "output_type": "execute_result"
    }
   ],
   "source": [
    "Markdown(gdoc.loadDoc(\"Statistics_Bivariate.md\"))"
   ]
  },
  {
   "cell_type": "code",
   "execution_count": 37,
   "id": "614134f0",
   "metadata": {},
   "outputs": [],
   "source": [
    "temp = data[\"January_temp\"].to_numpy()\n",
    "elev = data[\"Elevation\"].to_numpy()\n",
    "sel = temp!=\"MISS\"\n",
    "z2=temp[sel].astype(\"float\")\n",
    "z1=elev[sel]"
   ]
  },
  {
   "cell_type": "code",
   "execution_count": 38,
   "id": "93df2c28",
   "metadata": {},
   "outputs": [
    {
     "data": {
      "text/markdown": [
       "<style>md-block { color:gray; background-color:white; }</style><md-block>\n",
       "### Covariance\n",
       "\n",
       "We can compute the covariance between the two vectors $z^{(1)}$ and  $z^{(2)}$.\n",
       "\n",
       "$$\\textrm{cov}(z^{(1)},z^{(2)}) = \\frac{1}{n}\\sum_{i=1}^n (z^{(1)}_i-\\bar{z}^{(1)})(z^{(2)}_i-\\bar{z}^{(2)})$$\n",
       "\n",
       "where $\\bar{z}^{(j)}$ is the mean of the variable $z^{(j)}$ with $j=1,2$.\n",
       "\n",
       "</md-block>"
      ],
      "text/plain": [
       "<IPython.core.display.Markdown object>"
      ]
     },
     "execution_count": 38,
     "metadata": {},
     "output_type": "execute_result"
    }
   ],
   "source": [
    "Markdown(gdoc.loadDoc(\"Statistics_Covariance.md\"))"
   ]
  },
  {
   "cell_type": "code",
   "execution_count": 39,
   "id": "df33d99e",
   "metadata": {},
   "outputs": [
    {
     "name": "stdout",
     "output_type": "stream",
     "text": [
      "Covariance = -72.91027814569537\n"
     ]
    }
   ],
   "source": [
    "# Covariance\n",
    "print(\"Covariance = \" + str(np.cov(z1,z2)[0,1]))"
   ]
  },
  {
   "cell_type": "code",
   "execution_count": 40,
   "id": "3a9b1fed",
   "metadata": {},
   "outputs": [
    {
     "data": {
      "text/markdown": [
       "<style>md-block { color:gray; background-color:white; }</style><md-block>\n",
       "### Correlation coefficient\n",
       "\n",
       "The covariance depends on the scale of $z^{(1)}$ and $z^{(2)}$. In order to have a scale invariant measure, we can use the correlation coefficient \n",
       "$$\\rho = \\frac{\\textrm{cov}(z^{(1)},z^{(2)})}{\\sqrt{\\textrm{var}(z^{(1)})\\textrm{var}(z^{(2)})}}$$\n",
       "\n",
       "The correlation coefficient lies within $[-1,1]$.\n",
       "\n",
       "When it is equal to $-1$ or $1$, the variables are linked by a linear relationship\n",
       "\n",
       "$$z^{(2)}=a.z^{(1)}+b$$\n",
       "\n",
       "where the sign of $a$ corresponds to the sign of $\\rho$.\n",
       "\n",
       "When $\\rho=0$, we say that the variables are uncorrelated. But they can still have a link (not linear).\n",
       "\n",
       "</md-block>"
      ],
      "text/plain": [
       "<IPython.core.display.Markdown object>"
      ]
     },
     "execution_count": 40,
     "metadata": {},
     "output_type": "execute_result"
    }
   ],
   "source": [
    "Markdown(gdoc.loadDoc(\"Statistics_Correlation.md\"))"
   ]
  },
  {
   "cell_type": "code",
   "execution_count": 41,
   "id": "5db411fe",
   "metadata": {},
   "outputs": [
    {
     "name": "stdout",
     "output_type": "stream",
     "text": [
      "Correlation coefficient -0.8023409668442096\n"
     ]
    }
   ],
   "source": [
    "print(\"Correlation coefficient\",np.corrcoef(z1,z2)[0,1])"
   ]
  },
  {
   "cell_type": "code",
   "execution_count": 42,
   "id": "8aaf0028",
   "metadata": {},
   "outputs": [
    {
     "data": {
      "text/markdown": [
       "<style>md-block { color:gray; background-color:white; }</style><md-block>\n",
       "### Covariance matrix\n",
       "\n",
       "When we have several variables $z^{(1)},\\dots,z^{(p)}$, we can compute their covariance matrix $\\Sigma$ which stores the covariances between each pair of variable.\n",
       "\n",
       "$$\\Sigma = \\left[\n",
       "\\begin{array}{cccc}\n",
       "\\textrm{var}(z^{(1)})         & \\textrm{cov}(z^{(1)},z^{(2)}) &\\dots  & \\textrm{cov}(z^{(1)},z^{(p)})\\\\\n",
       "\\textrm{cov}(z^{(2)},z^{(1)}) & \\textrm{var}(z^{(2)})         & \\dots & \\textrm{cov}(z^{(2)},z^{(p)})\\\\\n",
       "\\vdots & \\vdots & \\ddots & \\vdots \\\\\n",
       "\\textrm{cov}(z^{(p)},z^{(1)}) &  \\textrm{cov}(z^{(p)},z^{(2)})&\\dots  & \\textrm{var}(z^{(p)})\\\\\n",
       "\\end{array}\\right]$$\n",
       "\n",
       "Note that this matrix is symmetric.\n",
       "\n",
       "If the variables (centered by their means) are stored in a matrix $Z_c$ (one column per variable), then \n",
       "\n",
       "$$\\Sigma = \\frac{1}{n} Z_c^TZ_c$$ where $^T$ designates the transposition.\n",
       "\n",
       "In other words, $Z_c^T$ is the matrix where each line is a variable.\n",
       "\n",
       "</md-block>"
      ],
      "text/plain": [
       "<IPython.core.display.Markdown object>"
      ]
     },
     "execution_count": 42,
     "metadata": {},
     "output_type": "execute_result"
    }
   ],
   "source": [
    "Markdown(gdoc.loadDoc(\"Statistics_CovarianceM.md\"))"
   ]
  },
  {
   "cell_type": "code",
   "execution_count": 43,
   "id": "4ec9ae09",
   "metadata": {},
   "outputs": [
    {
     "name": "stdout",
     "output_type": "stream",
     "text": [
      "Covariance matrix = \n",
      "[[ 8.04385263e+03 -7.29102781e+01]\n",
      " [-7.29102781e+01  1.02658631e+00]]\n"
     ]
    }
   ],
   "source": [
    "#Covariance matrix\n",
    "print(\"Covariance matrix = \\n\" + str(np.cov(z1,z2)))"
   ]
  },
  {
   "cell_type": "code",
   "execution_count": 44,
   "id": "f177d5eb",
   "metadata": {},
   "outputs": [
    {
     "name": "stdout",
     "output_type": "stream",
     "text": [
      "Variance 8043.852626931566\n"
     ]
    }
   ],
   "source": [
    "print(\"Variance\",np.var(z1) * len(z1)/(len(z1)-1))"
   ]
  },
  {
   "cell_type": "code",
   "execution_count": 45,
   "id": "bed1e04d",
   "metadata": {},
   "outputs": [
    {
     "name": "stdout",
     "output_type": "stream",
     "text": [
      "Covariance matrix = \n",
      "[[ 7.99058208e+03 -7.24274286e+01]\n",
      " [-7.24274286e+01  1.01978773e+00]]\n"
     ]
    }
   ],
   "source": [
    "print(\"Covariance matrix = \\n\" + str(np.cov(z1,z2,bias=True)))"
   ]
  },
  {
   "cell_type": "code",
   "execution_count": 46,
   "id": "2b2012f1",
   "metadata": {},
   "outputs": [
    {
     "data": {
      "text/markdown": [
       "<style>md-block { color:gray; background-color:white; }</style><md-block>\n",
       "### Scatter plot\n",
       "\n",
       "We can represent the scatter plot between the two variables (only isotopic samples are represented).\n",
       "\n",
       "</md-block>"
      ],
      "text/plain": [
       "<IPython.core.display.Markdown object>"
      ]
     },
     "execution_count": 46,
     "metadata": {},
     "output_type": "execute_result"
    }
   ],
   "source": [
    "Markdown(gdoc.loadDoc(\"Statistics_Scatter.md\"))"
   ]
  },
  {
   "cell_type": "code",
   "execution_count": 47,
   "id": "1b902192",
   "metadata": {},
   "outputs": [
    {
     "data": {
      "image/png": "[encoded data removed]",
      "text/plain": [
       "<Figure size 640x480 with 1 Axes>"
      ]
     },
     "metadata": {},
     "output_type": "display_data"
    }
   ],
   "source": [
    "a = plt.scatter(z1,z2,s=1)"
   ]
  },
  {
   "cell_type": "code",
   "execution_count": 48,
   "id": "5b0540f5",
   "metadata": {},
   "outputs": [
    {
     "data": {
      "text/markdown": [
       "<style>md-block { color:gray; background-color:white; }</style><md-block>\n",
       "Here the relation could be considered as linear. Let's try to find the coefficents of the regression line.\n",
       "\n",
       "### Linear regression\n",
       "\n",
       "#### Simple linear regression\n",
       "\n",
       "We can model the relationship between $z^{(1)}$ and $z^{(2)}$ by using a linear regression.\n",
       " model \n",
       "$$z^{(2)}=az^{(1)}+b + R$$ where $R$ is a residual.\n",
       "\n",
       "We try to find $(a,b)$ by minimizing the sum of the squared difference between $z^{(2)}$ and $az^{(1)}+b$: \n",
       "\n",
       "$$||R||^2 =\\sum_{i=1}^n(z^{(2)}_i - (az^{(1)}_i+b))^2.$$\n",
       "\n",
       "We can show that the coefficients $a$ and $b$ can be estimated by\n",
       "\n",
       "$$\\hat a = \\frac{\\textrm{cov}(z^{(1)},z^{(2)})}{\\textrm{var}(z^{(1)})}$$\n",
       "\n",
       "and $b$ by \n",
       "\n",
       "$$\\hat b = \\bar{z}^{(2)}-\\hat a\\bar{z}^{(1)}$$\n",
       "\n",
       "</md-block>"
      ],
      "text/plain": [
       "<IPython.core.display.Markdown object>"
      ]
     },
     "execution_count": 48,
     "metadata": {},
     "output_type": "execute_result"
    }
   ],
   "source": [
    "Markdown(gdoc.loadDoc(\"Statistics_Regr.md\"))"
   ]
  },
  {
   "cell_type": "code",
   "execution_count": 49,
   "id": "cb98f19a",
   "metadata": {},
   "outputs": [
    {
     "data": {
      "image/png": "[encoded data removed]",
      "text/plain": [
       "<Figure size 640x480 with 1 Axes>"
      ]
     },
     "metadata": {},
     "output_type": "display_data"
    }
   ],
   "source": [
    "# Regression \n",
    "ahat = np.cov(z1,z2,bias=True)[1,:][0]/np.var(z1)\n",
    "bhat = np.mean(z2) - ahat*np.mean(z1)\n",
    "plt.scatter(z1,z2,s=1)\n",
    "a = plt.plot([np.min(z1),np.max(z1)],[bhat+ahat*np.min(z1),bhat+ahat*np.max(z1)])"
   ]
  },
  {
   "cell_type": "code",
   "execution_count": 50,
   "id": "4646495e",
   "metadata": {},
   "outputs": [
    {
     "data": {
      "text/markdown": [
       "<style>md-block { color:gray; background-color:white; }</style><md-block>\n",
       "#### Multiple linear regression\n",
       "\n",
       "When we have several variables $x^{(1)},\\dots,x^{(p)}$ to explain an interest variable $y$ we can also use a linear regression\n",
       "\n",
       "$$y=\\sum_{j=1}^p \\beta_j x^{(j)} + \\beta_0 + R$$\n",
       "\n",
       "Note that for convenience, we will rewrite the relation \n",
       "\n",
       "$$y=\\sum_{j=0}^p \\beta_j x^{(j)}+R$$ \n",
       "\n",
       "where the variable $x^{(0)}$ is equal to $1$.\n",
       "\n",
       "Last, we can rewrite more compactly\n",
       "\n",
       "$$y = \\beta^T X +R$$\n",
       "\n",
       "where $$\\beta = \\left[\\begin{array}{c}\\beta_0 \\\\ \\vdots \\\\ \\beta_p\\end{array}\\right]$$\n",
       "\n",
       "and $X$ is the table with all the observations. The first column contains $1$'s and then each column is a variable \n",
       "$$X  = \\left[\\begin{array}{cccc} 1 & x^{(1)} & \\dots & x^{(p)}\\end{array}\\right]$$\n",
       "\n",
       "As in the simple linear regression case, we will try to minimize\n",
       "\n",
       "$$||R||^2=||y-\\beta^TX||^2$$\n",
       "\n",
       "We can show that \n",
       "\n",
       "$$\\hat\\beta = (X^TX)^{-1}X^Ty$$\n",
       "\n",
       "</md-block>"
      ],
      "text/plain": [
       "<IPython.core.display.Markdown object>"
      ]
     },
     "execution_count": 50,
     "metadata": {},
     "output_type": "execute_result"
    }
   ],
   "source": [
    "Markdown(gdoc.loadDoc(\"Statistics_MRegr.md\"))"
   ]
  },
  {
   "cell_type": "code",
   "execution_count": 51,
   "id": "fdf05dcc",
   "metadata": {},
   "outputs": [
    {
     "data": {
      "text/markdown": [
       "<style>md-block { color:gray; background-color:white; }</style><md-block>\n",
       "### Bivariate histogram\n",
       "\n",
       "To represent the two variables, we can perform a 2d histogram.\n",
       "\n",
       "</md-block>"
      ],
      "text/plain": [
       "<IPython.core.display.Markdown object>"
      ]
     },
     "execution_count": 51,
     "metadata": {},
     "output_type": "execute_result"
    }
   ],
   "source": [
    "Markdown(gdoc.loadDoc(\"Statistics_hist2d.md\"))"
   ]
  },
  {
   "cell_type": "code",
   "execution_count": 58,
   "id": "43e2b0d7",
   "metadata": {},
   "outputs": [
    {
     "data": {
      "image/png": "[encoded data removed]",
      "text/plain": [
       "<Figure size 640x480 with 1 Axes>"
      ]
     },
     "metadata": {},
     "output_type": "display_data"
    }
   ],
   "source": [
    "# 2d histogram\n",
    "nbin = 15\n",
    "ax = plt.hist2d(z1,z2,nbin)"
   ]
  },
  {
   "cell_type": "code",
   "execution_count": 62,
   "id": "052adb2a",
   "metadata": {},
   "outputs": [
    {
     "data": {
      "text/markdown": [
       "<style>md-block { color:gray; background-color:white; }</style><md-block>\n",
       "### Conditional distribution\n",
       "\n",
       "Then we could look at the histogram of $z_2$ for a given class of $z_1$.\n",
       "\n",
       "For instance, if we consider the 2$^\\textrm{nd}$ class, $z_1\\in[28.6,54.2]$ :\n",
       "\n",
       "It shows the (empirical) conditional distribution of $z_2$ knowing that $z_1\\in[28.6,54.2]$.\n",
       "\n",
       "\n",
       "</md-block>"
      ],
      "text/plain": [
       "<IPython.core.display.Markdown object>"
      ]
     },
     "execution_count": 62,
     "metadata": {},
     "output_type": "execute_result"
    }
   ],
   "source": [
    "Markdown(gdoc.loadDoc(\"Statistics_histcond.md\"))"
   ]
  },
  {
   "cell_type": "code",
   "execution_count": 60,
   "id": "972c6eee",
   "metadata": {},
   "outputs": [
    {
     "data": {
      "image/png": "[encoded data removed]",
      "text/plain": [
       "<Figure size 640x480 with 1 Axes>"
      ]
     },
     "metadata": {},
     "output_type": "display_data"
    }
   ],
   "source": [
    "#Histogram in a class\n",
    "axc = plt.hist(z2[np.where((z1<ax[1][2])*(z1>ax[1][1]))],bins=nbin,density=True)"
   ]
  },
  {
   "cell_type": "code",
   "execution_count": 55,
   "id": "8a9fdb13",
   "metadata": {},
   "outputs": [
    {
     "data": {
      "text/markdown": [
       "<style>md-block { color:gray; background-color:white; }</style><md-block>\n",
       "#### Conditional mean (or regression)\n",
       "\n",
       "In the same spirit, we can consider the conditional mean (mean of $z_2$ for a given classe of $z_1$). It is the conditional mean.\n",
       "\n",
       "If we iterate over all the classes, we obtain the empirical regression.\n",
       "\n",
       "\n",
       "\n",
       "</md-block>"
      ],
      "text/plain": [
       "<IPython.core.display.Markdown object>"
      ]
     },
     "execution_count": 55,
     "metadata": {},
     "output_type": "execute_result"
    }
   ],
   "source": [
    "Markdown(gdoc.loadDoc(\"Statistics_meancond.md\"))"
   ]
  },
  {
   "cell_type": "code",
   "execution_count": 56,
   "id": "1536c09c",
   "metadata": {},
   "outputs": [
    {
     "data": {
      "image/png": "[encoded data removed]",
      "text/plain": [
       "<Figure size 640x480 with 1 Axes>"
      ]
     },
     "metadata": {},
     "output_type": "display_data"
    }
   ],
   "source": [
    "## Conditional mean\n",
    "ax = plt.hist2d(z1,z2,15)\n",
    "plt.scatter(z1,z2,s=1)\n",
    "m = np.empty_like(ax[1])\n",
    "for i in range(ax[1].shape[0]-1):\n",
    "    ind = np.where(np.logical_and(z1>ax[1][i],z1<ax[1][i+1]))[0]\n",
    "    if len(ind)>0:\n",
    "        m[i] = np.mean(z2[ind])\n",
    "    else:\n",
    "        m[i] = None\n",
    "ax=plt.plot(ax[1],m,c=\"r\")"
   ]
  }
 ],
 "metadata": {
  "kernelspec": {
   "display_name": "Python 3 (ipykernel)",
   "language": "python",
   "name": "python3"
  },
  "language_info": {
   "codemirror_mode": {
    "name": "ipython",
    "version": 3
   },
   "file_extension": ".py",
   "mimetype": "text/x-python",
   "name": "python",
   "nbconvert_exporter": "python",
   "pygments_lexer": "ipython3",
   "version": "3.10.12"
  },
  "toc": {
   "base_numbering": 1,
   "nav_menu": {},
   "number_sections": true,
   "sideBar": true,
   "skip_h1_title": false,
   "title_cell": "Table of Contents",
   "title_sidebar": "Contents",
   "toc_cell": false,
   "toc_position": {
    "height": "calc(100% - 180px)",
    "left": "10px",
    "top": "150px",
    "width": "267.267px"
   },
   "toc_section_display": true,
   "toc_window_display": false
  }
 },
 "nbformat": 4,
 "nbformat_minor": 5
}
