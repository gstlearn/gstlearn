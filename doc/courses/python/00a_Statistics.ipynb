{
 "cells": [
  {
   "cell_type": "markdown",
   "id": "7718c2a8",
   "metadata": {},
   "source": [
    "# Statistics"
   ]
  },
  {
   "cell_type": "markdown",
   "id": "d4d28b2e",
   "metadata": {},
   "source": [
    "<!-- SUMMARY: This script gives the information of Basic Statistics.  -->\n",
    "\n",
    "<!-- CATEGORY: Courses -->"
   ]
  },
  {
   "cell_type": "markdown",
   "id": "1c5d97b7",
   "metadata": {},
   "source": [
    "This file gives the elementary information on calculation of basic Statistics."
   ]
  },
  {
   "cell_type": "code",
   "execution_count": null,
   "id": "b3eef7d1",
   "metadata": {},
   "outputs": [],
   "source": [
    "import gstlearn.document as gdoc\n",
    "import pandas as pd\n",
    "import numpy as np\n",
    "import matplotlib.pyplot as plt\n",
    "import os\n",
    "import gstlearn as gl \n",
    "from IPython.display import Markdown\n",
    "\n",
    "gdoc.setNoScroll()"
   ]
  },
  {
   "cell_type": "markdown",
   "id": "5f222b29",
   "metadata": {},
   "source": [
    "We will illustrate the notions on the Scotland temperatures data set."
   ]
  },
  {
   "cell_type": "code",
   "execution_count": null,
   "id": "f3958489",
   "metadata": {},
   "outputs": [],
   "source": [
    "data = pd.read_csv(gdoc.loadData(\"Scotland\", \"Scotland_Temperatures.csv\"))\n",
    "data"
   ]
  },
  {
   "cell_type": "code",
   "execution_count": null,
   "id": "9635f4f9",
   "metadata": {},
   "outputs": [],
   "source": [
    "z = data[\"Elevation\"].to_numpy()"
   ]
  },
  {
   "cell_type": "markdown",
   "id": "773f33ea",
   "metadata": {},
   "source": [
    "### 1) Position"
   ]
  },
  {
   "cell_type": "code",
   "execution_count": null,
   "id": "ea8cb46e",
   "metadata": {},
   "outputs": [],
   "source": [
    "Markdown(gdoc.loadDoc(\"Statistics_mean.md\"))"
   ]
  },
  {
   "cell_type": "code",
   "execution_count": null,
   "id": "1129f8c0",
   "metadata": {},
   "outputs": [],
   "source": [
    "m = np.mean(z)\n",
    "rounded = np.round(m,decimals=2)\n",
    "print(\"Mean = \" + str(rounded))"
   ]
  },
  {
   "cell_type": "code",
   "execution_count": null,
   "id": "cda5df5d",
   "metadata": {},
   "outputs": [],
   "source": [
    "Markdown(gdoc.loadDoc(\"Statistics_median.md\"))"
   ]
  },
  {
   "cell_type": "code",
   "execution_count": null,
   "id": "53c97ec3",
   "metadata": {},
   "outputs": [],
   "source": [
    "print(\"Median = \" + str(np.median(z)))"
   ]
  },
  {
   "cell_type": "code",
   "execution_count": null,
   "id": "5f8f958b",
   "metadata": {},
   "outputs": [],
   "source": [
    "Markdown(gdoc.loadDoc(\"Statistics_quartiles.md\"))"
   ]
  },
  {
   "cell_type": "code",
   "execution_count": null,
   "id": "391c2940",
   "metadata": {},
   "outputs": [],
   "source": [
    "print(\"Quartiles = \" + str(np.quantile(z,[0,0.25,0.5,0.75,1])))"
   ]
  },
  {
   "cell_type": "code",
   "execution_count": null,
   "id": "fc1831e4",
   "metadata": {},
   "outputs": [],
   "source": [
    "Markdown(gdoc.loadDoc(\"Statistics_quantiles.md\"))"
   ]
  },
  {
   "cell_type": "markdown",
   "id": "fb684c30",
   "metadata": {},
   "source": [
    "### 2) Dispersion"
   ]
  },
  {
   "cell_type": "code",
   "execution_count": null,
   "id": "1ab0320a",
   "metadata": {},
   "outputs": [],
   "source": [
    "Markdown(gdoc.loadDoc(\"Statistics_range.md\"))"
   ]
  },
  {
   "cell_type": "code",
   "execution_count": null,
   "id": "927bf270",
   "metadata": {},
   "outputs": [],
   "source": [
    "print(\"Range= \" + str(np.max(z)-np.min(z)))"
   ]
  },
  {
   "cell_type": "code",
   "execution_count": null,
   "id": "cf343a5c",
   "metadata": {},
   "outputs": [],
   "source": [
    "Markdown(gdoc.loadDoc(\"Statistics_interq.md\"))"
   ]
  },
  {
   "cell_type": "code",
   "execution_count": null,
   "id": "99d95a9b",
   "metadata": {},
   "outputs": [],
   "source": [
    "print(\"Inter-quartiles distance = \" + str(np.diff(np.quantile(z,[0.25,0.75]))))"
   ]
  },
  {
   "cell_type": "code",
   "execution_count": null,
   "id": "0db0fbc0",
   "metadata": {},
   "outputs": [],
   "source": [
    "Markdown(gdoc.loadDoc(\"Statistics_variance.md\"))"
   ]
  },
  {
   "cell_type": "code",
   "execution_count": null,
   "id": "d1dca58a",
   "metadata": {},
   "outputs": [],
   "source": [
    "# Variance\n",
    "n = len(z)\n",
    "print(\"Variance (First formula) = \" + str(np.mean((z-np.mean(z))**2)))\n",
    "print(\"Variance (Sec.  formula) = \" + str(np.mean(z**2)-np.mean(z)**2))\n",
    "print(\"Variance (numpy version) = \" + str(np.var(z)))"
   ]
  },
  {
   "cell_type": "code",
   "execution_count": null,
   "id": "e7c3812e",
   "metadata": {},
   "outputs": [],
   "source": [
    "Markdown(gdoc.loadDoc(\"Statistics_std.md\"))"
   ]
  },
  {
   "cell_type": "code",
   "execution_count": null,
   "id": "30cf86dc",
   "metadata": {},
   "outputs": [],
   "source": [
    "print(\"Variance (numpy version) = \" + str(np.std(z)))"
   ]
  },
  {
   "cell_type": "markdown",
   "id": "0b6654ac",
   "metadata": {},
   "source": [
    "### 3) Distribution"
   ]
  },
  {
   "cell_type": "code",
   "execution_count": null,
   "id": "49182f74",
   "metadata": {},
   "outputs": [],
   "source": [
    "Markdown(gdoc.loadDoc(\"Statistics_histo.md\"))"
   ]
  },
  {
   "cell_type": "code",
   "execution_count": null,
   "id": "e87ac127",
   "metadata": {},
   "outputs": [],
   "source": [
    "nbin = 20\n",
    "ax = plt.hist(z,bins=nbin)"
   ]
  },
  {
   "cell_type": "code",
   "execution_count": null,
   "id": "04e5b21f",
   "metadata": {},
   "outputs": [],
   "source": [
    "#Histogram (normalized)\n",
    "ax = plt.hist(z,bins=nbin,density=True)"
   ]
  },
  {
   "cell_type": "code",
   "execution_count": null,
   "id": "248e1d1f",
   "metadata": {},
   "outputs": [],
   "source": [
    "Markdown(gdoc.loadDoc(\"Statistics_histocum.md\"))"
   ]
  },
  {
   "cell_type": "code",
   "execution_count": null,
   "id": "14ca32eb",
   "metadata": {},
   "outputs": [],
   "source": [
    "#Cumulative histogram\n",
    "p = 0.8\n",
    "x = np.sort(z)\n",
    "y = np.linspace(1/len(z),1,len(x))\n",
    "a = plt.plot(x, y)\n",
    "a = plt.scatter(np.quantile(z,p),p,c=\"r\")"
   ]
  },
  {
   "cell_type": "code",
   "execution_count": null,
   "id": "0c9c009a",
   "metadata": {},
   "outputs": [],
   "source": [
    "Markdown(gdoc.loadDoc(\"Statistics_quantileF.md\"))"
   ]
  },
  {
   "cell_type": "code",
   "execution_count": null,
   "id": "e4937bf7",
   "metadata": {},
   "outputs": [],
   "source": [
    "#Quantile function\n",
    "p = 0.8\n",
    "plt.plot(y,x)\n",
    "a = plt.scatter(p,np.quantile(z,p),c=\"r\")"
   ]
  },
  {
   "cell_type": "code",
   "execution_count": null,
   "id": "29d2a324",
   "metadata": {},
   "outputs": [],
   "source": [
    "Markdown(gdoc.loadDoc(\"Statistics_Ore.md\"))"
   ]
  },
  {
   "cell_type": "code",
   "execution_count": null,
   "id": "4613ea3f",
   "metadata": {},
   "outputs": [],
   "source": [
    "#Ore\n",
    "ore = 1. - y\n",
    "a = plt.plot(x,ore)"
   ]
  },
  {
   "cell_type": "code",
   "execution_count": null,
   "id": "8fdb9c5e",
   "metadata": {},
   "outputs": [],
   "source": [
    "Markdown(gdoc.loadDoc(\"Statistics_Metal.md\"))"
   ]
  },
  {
   "cell_type": "code",
   "execution_count": null,
   "id": "c963580e",
   "metadata": {},
   "outputs": [],
   "source": [
    "#Metal (normalized)\n",
    "metal = 1/len(x)*(np.sum(x)-np.cumsum(x))\n",
    "a = plt.plot(x, metal)"
   ]
  },
  {
   "cell_type": "code",
   "execution_count": null,
   "id": "4f8bb453",
   "metadata": {},
   "outputs": [],
   "source": [
    "Markdown(gdoc.loadDoc(\"Statistics_Grade.md\"))"
   ]
  },
  {
   "cell_type": "code",
   "execution_count": null,
   "id": "468e3200",
   "metadata": {},
   "outputs": [],
   "source": [
    "#Grade\n",
    "a = plt.plot(x[:-1],metal[:-1]/ore[:-1])"
   ]
  },
  {
   "cell_type": "code",
   "execution_count": null,
   "id": "c47fe737",
   "metadata": {},
   "outputs": [],
   "source": [
    "Markdown(gdoc.loadDoc(\"Statistics_QT.md\"))"
   ]
  },
  {
   "cell_type": "code",
   "execution_count": null,
   "id": "ee2579db",
   "metadata": {},
   "outputs": [],
   "source": [
    "#Q(T) curve\n",
    "a = plt.plot(ore, metal/metal[0])\n",
    "a = plt.plot([0,1],[0,1],\"--\")"
   ]
  },
  {
   "cell_type": "code",
   "execution_count": null,
   "id": "fb3a17f7",
   "metadata": {},
   "outputs": [],
   "source": [
    "Markdown(gdoc.loadDoc(\"Statistics_Benefit.md\"))"
   ]
  },
  {
   "cell_type": "code",
   "execution_count": null,
   "id": "a1c48f4f",
   "metadata": {},
   "outputs": [],
   "source": [
    "#Benefit\n",
    "a = plt.plot(x,metal-x*ore)"
   ]
  },
  {
   "cell_type": "markdown",
   "id": "651d3270",
   "metadata": {},
   "source": [
    "### 4) Bivariate Statistics"
   ]
  },
  {
   "cell_type": "code",
   "execution_count": null,
   "id": "3694e7f9",
   "metadata": {},
   "outputs": [],
   "source": [
    "Markdown(gdoc.loadDoc(\"Statistics_Bivariate.md\"))"
   ]
  },
  {
   "cell_type": "code",
   "execution_count": null,
   "id": "614134f0",
   "metadata": {},
   "outputs": [],
   "source": [
    "temp = data[\"January_temp\"].to_numpy()\n",
    "elev = data[\"Elevation\"].to_numpy()\n",
    "sel = temp!=\"MISS\"\n",
    "z2=temp[sel].astype(\"float\")\n",
    "z1=elev[sel]"
   ]
  },
  {
   "cell_type": "code",
   "execution_count": null,
   "id": "93df2c28",
   "metadata": {},
   "outputs": [],
   "source": [
    "Markdown(gdoc.loadDoc(\"Statistics_Covariance.md\"))"
   ]
  },
  {
   "cell_type": "code",
   "execution_count": null,
   "id": "df33d99e",
   "metadata": {},
   "outputs": [],
   "source": [
    "# Covariance\n",
    "print(\"Covariance = \" + str(np.cov(z1,z2)[0,1]))"
   ]
  },
  {
   "cell_type": "code",
   "execution_count": null,
   "id": "3a9b1fed",
   "metadata": {},
   "outputs": [],
   "source": [
    "Markdown(gdoc.loadDoc(\"Statistics_Correlation.md\"))"
   ]
  },
  {
   "cell_type": "code",
   "execution_count": null,
   "id": "5db411fe",
   "metadata": {},
   "outputs": [],
   "source": [
    "print(\"Correlation coefficient\",np.corrcoef(z1,z2)[0,1])"
   ]
  },
  {
   "cell_type": "code",
   "execution_count": null,
   "id": "8aaf0028",
   "metadata": {},
   "outputs": [],
   "source": [
    "Markdown(gdoc.loadDoc(\"Statistics_CovarianceM.md\"))"
   ]
  },
  {
   "cell_type": "code",
   "execution_count": null,
   "id": "4ec9ae09",
   "metadata": {},
   "outputs": [],
   "source": [
    "#Covariance matrix\n",
    "print(\"Covariance matrix = \\n\" + str(np.cov(z1,z2)))"
   ]
  },
  {
   "cell_type": "code",
   "execution_count": null,
   "id": "f177d5eb",
   "metadata": {},
   "outputs": [],
   "source": [
    "print(\"Variance\",np.var(z1) * len(z1)/(len(z1)-1))"
   ]
  },
  {
   "cell_type": "code",
   "execution_count": null,
   "id": "bed1e04d",
   "metadata": {},
   "outputs": [],
   "source": [
    "print(\"Covariance matrix = \\n\" + str(np.cov(z1,z2,bias=True)))"
   ]
  },
  {
   "cell_type": "code",
   "execution_count": null,
   "id": "2b2012f1",
   "metadata": {},
   "outputs": [],
   "source": [
    "Markdown(gdoc.loadDoc(\"Statistics_Scatter.md\"))"
   ]
  },
  {
   "cell_type": "code",
   "execution_count": null,
   "id": "1b902192",
   "metadata": {},
   "outputs": [],
   "source": [
    "a = plt.scatter(z1,z2,s=1)"
   ]
  },
  {
   "cell_type": "code",
   "execution_count": null,
   "id": "5b0540f5",
   "metadata": {},
   "outputs": [],
   "source": [
    "Markdown(gdoc.loadDoc(\"Statistics_Regr.md\"))"
   ]
  },
  {
   "cell_type": "code",
   "execution_count": null,
   "id": "cb98f19a",
   "metadata": {},
   "outputs": [],
   "source": [
    "# Regression \n",
    "ahat = np.cov(z1,z2,bias=True)[1,:][0]/np.var(z1)\n",
    "bhat = np.mean(z2) - ahat*np.mean(z1)\n",
    "plt.scatter(z1,z2,s=1)\n",
    "a = plt.plot([np.min(z1),np.max(z1)],[bhat+ahat*np.min(z1),bhat+ahat*np.max(z1)])"
   ]
  },
  {
   "cell_type": "code",
   "execution_count": null,
   "id": "4646495e",
   "metadata": {},
   "outputs": [],
   "source": [
    "Markdown(gdoc.loadDoc(\"Statistics_MRegr.md\"))"
   ]
  },
  {
   "cell_type": "code",
   "execution_count": null,
   "id": "fdf05dcc",
   "metadata": {},
   "outputs": [],
   "source": [
    "Markdown(gdoc.loadDoc(\"Statistics_hist2d.md\"))"
   ]
  },
  {
   "cell_type": "code",
   "execution_count": null,
   "id": "43e2b0d7",
   "metadata": {},
   "outputs": [],
   "source": [
    "# 2d histogram\n",
    "nbin = 15\n",
    "ax = plt.hist2d(z1,z2,nbin)"
   ]
  },
  {
   "cell_type": "code",
   "execution_count": null,
   "id": "052adb2a",
   "metadata": {},
   "outputs": [],
   "source": [
    "Markdown(gdoc.loadDoc(\"Statistics_histcond.md\"))"
   ]
  },
  {
   "cell_type": "code",
   "execution_count": null,
   "id": "972c6eee",
   "metadata": {},
   "outputs": [],
   "source": [
    "#Histogram in a class\n",
    "axc = plt.hist(z2[np.where((z1<ax[1][2])*(z1>ax[1][1]))],bins=nbin,density=True)"
   ]
  },
  {
   "cell_type": "code",
   "execution_count": null,
   "id": "8a9fdb13",
   "metadata": {},
   "outputs": [],
   "source": [
    "Markdown(gdoc.loadDoc(\"Statistics_meancond.md\"))"
   ]
  },
  {
   "cell_type": "code",
   "execution_count": null,
   "id": "1536c09c",
   "metadata": {},
   "outputs": [],
   "source": [
    "## Conditional mean\n",
    "ax = plt.hist2d(z1,z2,15)\n",
    "plt.scatter(z1,z2,s=1)\n",
    "m = np.empty_like(ax[1])\n",
    "for i in range(ax[1].shape[0]-1):\n",
    "    ind = np.where(np.logical_and(z1>ax[1][i],z1<ax[1][i+1]))[0]\n",
    "    if len(ind)>0:\n",
    "        m[i] = np.mean(z2[ind])\n",
    "    else:\n",
    "        m[i] = None\n",
    "ax=plt.plot(ax[1],m,c=\"r\")"
   ]
  },
  {
   "cell_type": "code",
   "execution_count": null,
   "id": "d859273f",
   "metadata": {},
   "outputs": [],
   "source": []
  }
 ],
 "metadata": {
  "kernelspec": {
   "display_name": "Python 3 (ipykernel)",
   "language": "python",
   "name": "python3"
  },
  "language_info": {
   "codemirror_mode": {
    "name": "ipython",
    "version": 3
   },
   "file_extension": ".py",
   "mimetype": "text/x-python",
   "name": "python",
   "nbconvert_exporter": "python",
   "pygments_lexer": "ipython3",
   "version": "3.10.5"
  },
  "toc": {
   "base_numbering": 1,
   "nav_menu": {},
   "number_sections": true,
   "sideBar": true,
   "skip_h1_title": false,
   "title_cell": "Table of Contents",
   "title_sidebar": "Contents",
   "toc_cell": false,
   "toc_position": {
    "height": "calc(100% - 180px)",
    "left": "10px",
    "top": "150px",
    "width": "267.267px"
   },
   "toc_section_display": true,
   "toc_window_display": false
  }
 },
 "nbformat": 4,
 "nbformat_minor": 5
}
