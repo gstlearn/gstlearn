{
 "cells": [
  {
   "cell_type": "markdown",
   "id": "7718c2a8",
   "metadata": {},
   "source": [
    "# Gaussian simulations"
   ]
  },
  {
   "cell_type": "code",
   "execution_count": 2,
   "id": "4a88fcd6",
   "metadata": {},
   "outputs": [
    {
     "data": {
      "application/javascript": [
       "IPython.OutputArea.prototype._should_scroll = function(lines) {\n",
       "    return false;\n",
       "}\n"
      ],
      "text/plain": [
       "<IPython.core.display.Javascript object>"
      ]
     },
     "metadata": {},
     "output_type": "display_data"
    }
   ],
   "source": [
    "%%javascript\n",
    "IPython.OutputArea.prototype._should_scroll = function(lines) {\n",
    "    return false;\n",
    "}"
   ]
  },
  {
   "cell_type": "markdown",
   "id": "f39949c2",
   "metadata": {},
   "source": [
    "## Preamble"
   ]
  },
  {
   "cell_type": "markdown",
   "id": "8e33a8a3",
   "metadata": {},
   "source": [
    "In this preamble, we load the **gstlearn** library."
   ]
  },
  {
   "cell_type": "code",
   "execution_count": 3,
   "id": "145a5aa5",
   "metadata": {},
   "outputs": [],
   "source": [
    "import gstlearn as gl\n",
    "import gstlearn.plot as gp\n",
    "import matplotlib.pyplot as plt\n",
    "import numpy as np\n",
    "import os\n",
    "import urllib.request\n",
    "\n",
    "gp.setDefaultGeographic(dims=[8,8])"
   ]
  },
  {
   "cell_type": "markdown",
   "id": "6a4f6483",
   "metadata": {},
   "source": [
    "We load two data bases:\n",
    "\n",
    "* a data base `dat` containing point observations of two variables across Scotland: the elevation (`Elevation`) and the temperature (`January_temp`)\n",
    "* a data base `target` containing a grid of points covering Scotland with a selection variable (`inshore`) selecting the points that are on land, and a variable (`Elevation`) giving the elevation at every point on land"
   ]
  },
  {
   "cell_type": "code",
   "execution_count": 4,
   "id": "0b2f876e",
   "metadata": {},
   "outputs": [],
   "source": [
    "url = 'https://soft.minesparis.psl.eu/gstlearn/data/Scotland/Scotland_Temperatures.NF'\n",
    "temp_nf, head = urllib.request.urlretrieve(url)\n",
    "dat = gl.Db.createFromNF(temp_nf)\n",
    "\n",
    "url = 'https://soft.minesparis.psl.eu/gstlearn/data/Scotland/Scotland_Elevations.NF'\n",
    "elev_nf, head = urllib.request.urlretrieve(url)\n",
    "target = gl.DbGrid.createFromNF(elev_nf)"
   ]
  },
  {
   "cell_type": "markdown",
   "id": "14aa7390",
   "metadata": {},
   "source": [
    "We also compute an experimental variogram on the observations and fit a model on it."
   ]
  },
  {
   "cell_type": "code",
   "execution_count": 5,
   "id": "b8388725",
   "metadata": {},
   "outputs": [
    {
     "name": "stdout",
     "output_type": "stream",
     "text": [
      "\n",
      "Model characteristics\n",
      "=====================\n",
      "Space dimension              = 2\n",
      "Number of variable(s)        = 1\n",
      "Number of basic structure(s) = 1\n",
      "Number of drift function(s)  = 0\n",
      "Number of drift equation(s)  = 0\n",
      "\n",
      "Covariance Part\n",
      "---------------\n",
      "Spherical\n",
      "- Sill         =      1.155\n",
      "- Range        =    135.133\n",
      "Total Sill     =      1.155\n",
      " "
     ]
    }
   ],
   "source": [
    "## Define and compute experimental variogram\n",
    "varioparam = gl.VarioParam.createOmniDirection(npas=40, dpas=10)\n",
    "vario_raw2dir = gl.Vario.create(varioparam, dat)\n",
    "vario_raw2dir.compute()\n",
    "\n",
    "## Fit model\n",
    "fitmod = gl.Model()\n",
    "err = fitmod.fit(vario_raw2dir, types=[gl.ECov.NUGGET, gl.ECov.SPHERICAL, gl.ECov.CUBIC])\n",
    "fitmod.display()"
   ]
  },
  {
   "cell_type": "code",
   "execution_count": 6,
   "id": "f8214555",
   "metadata": {},
   "outputs": [],
   "source": [
    "neighU = gl.NeighUnique.create()\n",
    "\n",
    "ndim = 2\n",
    "gl.defineDefaultSpace(gl.ESpaceType.RN, ndim)"
   ]
  },
  {
   "cell_type": "markdown",
   "id": "befebe26",
   "metadata": {},
   "source": [
    "## Unconditional simulation"
   ]
  },
  {
   "cell_type": "markdown",
   "id": "0e69ec9e",
   "metadata": {},
   "source": [
    "To generate unconditional simulations, we use the `simtub` function. This function generates samples from a Gaussian random field with a covariance model defined in a `Model` object, using the turning bands algorithm. We specify\n",
    "\n",
    "* the data base containing the target points on which we want to simulate the model (argument `dbout`)\n",
    "* the `Model` object defining the model we want to simulate (argument `model`)\n",
    "* the number of samples we want to generate (argument `nbsimu`)\n",
    "* the number of turning bands (argument `nbtuba`)\n",
    "\n",
    "Optionally, we can specify a seed number for the simulation (to ensure reproducibility). The `simtub` function adds the simulated samples directly to the target data base specified in `dbout` (with a naming convention that can be set through the argument `namconv`). Note that the samples generated by this function have the same mean as the one specified in the model object. If this mean has not specified been specified (through the `setMeans` method), then zero-mean simulations are generated.\n",
    "\n",
    "Let us generate a sample from the model `fitmod` we fitted on the observations. First, we simulate the model with a single turning band."
   ]
  },
  {
   "cell_type": "code",
   "execution_count": 7,
   "id": "7380f6be",
   "metadata": {},
   "outputs": [],
   "source": [
    "err = gl.simtub(dbout=target, model=fitmod, \n",
    "             nbsimu=1,\n",
    "             nbtuba=1, seed=12454,\n",
    "             namconv=gl.NamingConvention(\"Simu1\"))"
   ]
  },
  {
   "cell_type": "code",
   "execution_count": 8,
   "id": "9a4255b1",
   "metadata": {
    "scrolled": false
   },
   "outputs": [
    {
     "data": {
      "image/png": "[encoded data removed]",
      "text/plain": [
       "<Figure size 576x576 with 1 Axes>"
      ]
     },
     "metadata": {
      "needs_background": "light"
     },
     "output_type": "display_data"
    }
   ],
   "source": [
    "ax = target.plot(\"Simu1\")\n",
    "ax.decoration(title=\"Simulation with 1 Turning Band\")"
   ]
  },
  {
   "cell_type": "markdown",
   "id": "12fd60da",
   "metadata": {},
   "source": [
    "Let us now simulate the model using 10 turning bands."
   ]
  },
  {
   "cell_type": "code",
   "execution_count": 9,
   "id": "2c636e6c",
   "metadata": {},
   "outputs": [],
   "source": [
    "err = gl.simtub(dbout=target, model=fitmod, \n",
    "             nbsimu=1,\n",
    "             nbtuba=10, seed=12454,\n",
    "             namconv=gl.NamingConvention(\"Simu10\"))"
   ]
  },
  {
   "cell_type": "code",
   "execution_count": 10,
   "id": "b81c6bad",
   "metadata": {
    "scrolled": true
   },
   "outputs": [
    {
     "data": {
      "image/png": "[encoded data removed]",
      "text/plain": [
       "<Figure size 576x576 with 1 Axes>"
      ]
     },
     "metadata": {
      "needs_background": "light"
     },
     "output_type": "display_data"
    }
   ],
   "source": [
    "ax = target.plot(\"Simu10\")\n",
    "ax.decoration(title=\"Simulation with 10 Turning Bands\")"
   ]
  },
  {
   "cell_type": "markdown",
   "id": "9c2d6024",
   "metadata": {},
   "source": [
    "Let us now simulate the model using 1000 turning bands."
   ]
  },
  {
   "cell_type": "code",
   "execution_count": 11,
   "id": "6942307e",
   "metadata": {},
   "outputs": [],
   "source": [
    "err = gl.simtub(dbout=target, model=fitmod, \n",
    "             nbsimu=1,\n",
    "             nbtuba=1000, seed=12454,\n",
    "             namconv=gl.NamingConvention(\"Simu1000\"))"
   ]
  },
  {
   "cell_type": "code",
   "execution_count": 12,
   "id": "a83def0c",
   "metadata": {
    "scrolled": true
   },
   "outputs": [
    {
     "data": {
      "image/png": "[encoded data removed]",
      "text/plain": [
       "<Figure size 576x576 with 1 Axes>"
      ]
     },
     "metadata": {
      "needs_background": "light"
     },
     "output_type": "display_data"
    }
   ],
   "source": [
    "ax = target.plot(\"Simu1000\")\n",
    "ax.decoration(title=\"Simulation with 1000 Turning Bands\")"
   ]
  },
  {
   "cell_type": "markdown",
   "id": "7bf071da",
   "metadata": {},
   "source": [
    "## Conditional Simulations"
   ]
  },
  {
   "cell_type": "markdown",
   "id": "c4c81e49",
   "metadata": {},
   "source": [
    "To perform conditional simulations, we use the same command as for unconditional simulations. We just need to supply two additional arguments: the data base containing the conditioning data (argument `dbin`), and the type of neighborhood used when conditioning the simulations (since this is done using kriging).\n",
    "\n",
    "Circling back to our example, let us consider the temperature observations in the data base `dat` as conditioning points. Our aim is to generate simulations of the model `fitmod` that honor these data. \n",
    "\n",
    "We first must control that our data follow more or less a gaussian distribution."
   ]
  },
  {
   "cell_type": "code",
   "execution_count": 18,
   "id": "31c259c2",
   "metadata": {},
   "outputs": [
    {
     "data": {
      "image/png": "[encoded data removed]",
      "text/plain": [
       "<Figure size 360x360 with 1 Axes>"
      ]
     },
     "metadata": {
      "needs_background": "light"
     },
     "output_type": "display_data"
    }
   ],
   "source": [
    "fig, ax = gp.init()\n",
    "ax.histogram(dat, name=\"January_temp\",bins=10)\n",
    "plt.show()"
   ]
  },
  {
   "cell_type": "markdown",
   "id": "60144bc2",
   "metadata": {},
   "source": [
    "Then, we compute the mean of temperature observations and set it as the mean of the model, so that the future simulations of the model also share this mean."
   ]
  },
  {
   "cell_type": "code",
   "execution_count": null,
   "id": "53394b80",
   "metadata": {
    "scrolled": true
   },
   "outputs": [],
   "source": [
    "## Compute mean temperature\n",
    "mean_Temperature = gl.dbStatisticsMono(dat, [\"J*temp\"], [gl.EStatOption.MEAN])\n",
    "print(\"Mean of observed temperatures:\", mean_Temperature)\n",
    "\n",
    "## Add to model\n",
    "fitmod.setMeans(mean_Temperature)"
   ]
  },
  {
   "cell_type": "markdown",
   "id": "86ec86a7",
   "metadata": {},
   "source": [
    "Then, to generate 10 conditional simulations using 1000 turning bands, we can simply run:"
   ]
  },
  {
   "cell_type": "code",
   "execution_count": null,
   "id": "e0a03eaf",
   "metadata": {},
   "outputs": [],
   "source": [
    "# Parameters\n",
    "nbsimu = 10\n",
    "nbtuba = 1000\n",
    "seed   = 13231\n",
    "\n",
    "# Simulation\n",
    "err = gl.simtub(dbin=dat, dbout=target,\n",
    "             model=fitmod, \n",
    "             neigh=neighU,\n",
    "             nbsimu=nbsimu,\n",
    "             nbtuba=nbtuba, seed=seed)"
   ]
  },
  {
   "cell_type": "markdown",
   "id": "1f05c91a",
   "metadata": {},
   "source": [
    "Let us display a few simulation results."
   ]
  },
  {
   "cell_type": "code",
   "execution_count": null,
   "id": "681605e3",
   "metadata": {
    "scrolled": true
   },
   "outputs": [],
   "source": [
    "fig, ax = plt.subplots(2,2, figsize=[12,14])\n",
    "ax[0,0].raster(target,name=\"Simu*temp.1\")\n",
    "ax[0,0].symbol(dat, flagCst=True, c=\"black\")\n",
    "ax[0,1].raster(target,name=\"Simu*temp.2\")\n",
    "ax[0,1].symbol(dat, flagCst=True, c=\"black\")\n",
    "ax[1,0].raster(target,name=\"Simu*temp.3\")\n",
    "ax[1,0].symbol(dat, flagCst=True, c=\"black\")\n",
    "ax[1,1].raster(target,name=\"Simu*temp.4\")\n",
    "ax[1,1].symbol(dat, flagCst=True, c=\"black\")\n",
    "fig.subplots_adjust(right=0.7)\n",
    "cbar_ax = fig.add_axes([0.75, 0.1, 0.02, 0.75])\n",
    "im = ax[0,0].collections[0]\n",
    "err = fig.colorbar(im, cax = cbar_ax)"
   ]
  },
  {
   "cell_type": "markdown",
   "id": "2fdcbbd4",
   "metadata": {},
   "source": [
    "Let us now compute the mean of the simulations we just generated. To do so, we use the `statistics` method of the `Db` class."
   ]
  },
  {
   "cell_type": "code",
   "execution_count": null,
   "id": "c46bbf48",
   "metadata": {},
   "outputs": [],
   "source": [
    "err = target.statistics(names=[\"Simu.January_temp*\"], \n",
    "                        opers=[gl.EStatOption.MEAN],\n",
    "                        flagStoreInDb=True)"
   ]
  },
  {
   "cell_type": "markdown",
   "id": "45f3a049",
   "metadata": {},
   "source": [
    "Let us compare the mean of the simulations with result from a simple kriging prediction of the temperature."
   ]
  },
  {
   "cell_type": "code",
   "execution_count": null,
   "id": "20e66fc3",
   "metadata": {},
   "outputs": [],
   "source": [
    "err = gl.kriging(dat, target, model=fitmod, \n",
    "              neigh = neighU,\n",
    "              namconv=gl.NamingConvention(\"KS\"))"
   ]
  },
  {
   "cell_type": "code",
   "execution_count": null,
   "id": "2c03ea51",
   "metadata": {},
   "outputs": [],
   "source": [
    "ax = gp.correlation(target, namex=\"Stats.MEAN\", namey=\"KS*estim\", diagLine=True, bins=100, cmin=1)\n",
    "ax.decoration(xlabel=\"Mean of Simulations\", ylabel=\"Simple Kriging Estimate\",\n",
    "             title=\"Correlation plot\")"
   ]
  },
  {
   "cell_type": "markdown",
   "id": "f14ef66c",
   "metadata": {},
   "source": [
    "## Simulations with External Drift"
   ]
  },
  {
   "cell_type": "markdown",
   "id": "9a393c4a",
   "metadata": {},
   "source": [
    "In this section, we show how to simulate a model with external drifts. To do so, it suffices to call the `simtub` function with a `Model` object that includes external drifts.\n",
    "\n",
    "Let us build such a model, to illustrate our point. We start by reloading the two data bases of the Preambule."
   ]
  },
  {
   "cell_type": "code",
   "execution_count": null,
   "id": "eba3abae",
   "metadata": {},
   "outputs": [],
   "source": [
    "url = 'https://soft.minesparis.psl.eu/gstlearn/data/Scotland/Scotland_Temperatures.NF'\n",
    "temp_nf, head = urllib.request.urlretrieve(url)\n",
    "dat = gl.Db.createFromNF(temp_nf)\n",
    "\n",
    "url = 'https://soft.minesparis.psl.eu/gstlearn/data/Scotland/Scotland_Elevations.NF'\n",
    "elev_nf, head = urllib.request.urlretrieve(url)\n",
    "target = gl.DbGrid.createFromNF(elev_nf)"
   ]
  },
  {
   "cell_type": "markdown",
   "id": "0e83c633",
   "metadata": {},
   "source": [
    "We will consider the temperature as our variable of interest, and the elevation as an external drift. Hence, we set the elevation variable to a `f` locator in both data bases."
   ]
  },
  {
   "cell_type": "code",
   "execution_count": null,
   "id": "1a8c9987",
   "metadata": {},
   "outputs": [],
   "source": [
    "## Set `f` locator to elevation in `dat` data base\n",
    "dat.setLocator(\"Elevation\", gl.ELoc.F)\n",
    "\n",
    "## Set `f` locator to elevation in `target` data base\n",
    "target.setLocator(\"Elevation\", gl.ELoc.F)"
   ]
  },
  {
   "cell_type": "code",
   "execution_count": null,
   "id": "9b52c62c",
   "metadata": {},
   "outputs": [],
   "source": [
    "## Create with external drift\n",
    "model_ED = gl.Model()\n",
    "model_ED.setDriftIRF(order=0, nfex = 1)\n",
    "\n",
    "## Create experimental variogram of residuals\n",
    "vario_resED = gl.Vario.create(varioparam, dat)\n",
    "vario_resED.compute(model=model_ED)\n",
    "\n",
    "## Fit model on experimental variogram \n",
    "err = model_ED.fit(vario_resED, types=[gl.ECov.SPHERICAL, gl.ECov.CUBIC])"
   ]
  },
  {
   "cell_type": "markdown",
   "id": "4cac4554",
   "metadata": {},
   "source": [
    "Let us plot the fitted model (solid line) together with the experimental variogram (dashed line)."
   ]
  },
  {
   "cell_type": "code",
   "execution_count": null,
   "id": "052de1c5",
   "metadata": {
    "scrolled": false
   },
   "outputs": [],
   "source": [
    "ax = gp.varmod(vario_resED, model_ED)"
   ]
  },
  {
   "cell_type": "markdown",
   "id": "edf87f94",
   "metadata": {},
   "source": [
    "Now, to generate 10 conditional simulations from the model with external drift that we just create, we call the `simtub` function with the same synthax as before."
   ]
  },
  {
   "cell_type": "code",
   "execution_count": null,
   "id": "22f648a2",
   "metadata": {},
   "outputs": [],
   "source": [
    "err = gl.simtub(dbin=dat, dbout=target, model=model_ED, \n",
    "             neigh=neighU,\n",
    "             nbsimu=nbsimu,\n",
    "             nbtuba=nbtuba, seed=seed)"
   ]
  },
  {
   "cell_type": "markdown",
   "id": "97c3d98d",
   "metadata": {},
   "source": [
    "Let us display a few simulation results."
   ]
  },
  {
   "cell_type": "code",
   "execution_count": null,
   "id": "9a2a4448",
   "metadata": {
    "scrolled": true
   },
   "outputs": [],
   "source": [
    "fig, ax = plt.subplots(2,2, figsize=[12,14])\n",
    "ax[0,0].raster(target,name=\"Simu*temp.1\")\n",
    "ax[0,0].symbol(dat, flagCst=True, c=\"black\")\n",
    "ax[0,1].raster(target,name=\"Simu*temp.2\")\n",
    "ax[0,1].symbol(dat, flagCst=True, c=\"black\")\n",
    "ax[1,0].raster(target,name=\"Simu*temp.3\")\n",
    "ax[1,0].symbol(dat, flagCst=True, c=\"black\")\n",
    "ax[1,1].raster(target,name=\"Simu*temp.4\")\n",
    "ax[1,1].symbol(dat, flagCst=True, c=\"black\")\n",
    "fig.subplots_adjust(right=0.7)\n",
    "cbar_ax = fig.add_axes([0.75, 0.1, 0.02, 0.75])\n",
    "im = ax[0,0].collections[0]\n",
    "err = fig.colorbar(im, cax = cbar_ax)"
   ]
  },
  {
   "cell_type": "markdown",
   "id": "a1628925",
   "metadata": {},
   "source": [
    "Let us now compute the mean of the simulations we just generated, and compare it with a prediction by kriging with external drift."
   ]
  },
  {
   "cell_type": "code",
   "execution_count": null,
   "id": "5e8be4d4",
   "metadata": {},
   "outputs": [],
   "source": [
    "err = target.statistics(names=[\"Simu.January_temp*\"], \n",
    "                        opers=[gl.EStatOption.MEAN],\n",
    "                        flagStoreInDb=True)\n",
    "\n",
    "## Compute kriging\n",
    "err = gl.kriging(dat, target, model=model_ED, \n",
    "              neigh = neighU,\n",
    "              namconv=gl.NamingConvention(\"KED\"))"
   ]
  },
  {
   "cell_type": "code",
   "execution_count": null,
   "id": "e6ba657c",
   "metadata": {
    "scrolled": false
   },
   "outputs": [],
   "source": [
    "ax = gp.correlation(target, namex=\"Stats.MEAN\", namey=\"KED*estim\", diagLine=True, bins=100, cmin=1)\n",
    "ax.decoration(xlabel=\"Mean of Simulations\", ylabel=\"Kriging with External Drift\")"
   ]
  },
  {
   "cell_type": "markdown",
   "id": "5d230849",
   "metadata": {},
   "source": [
    "## Application : Probability of exceedence "
   ]
  },
  {
   "cell_type": "markdown",
   "id": "eadfef4b",
   "metadata": {},
   "source": [
    "As an application, we show how to compute maps probabilities of exceeding a threshold. For instance, to compute the probabilities of being positive, we start by turning the simulation results into binary variables taking the value 1 if the simulated value is positive and 0 otherwise. Then, the probability of being positive is computed as the mean of these binary variables."
   ]
  },
  {
   "cell_type": "code",
   "execution_count": null,
   "id": "849304e8",
   "metadata": {},
   "outputs": [],
   "source": [
    "## Turn simulation results into binary variable\n",
    "target[\"Simu.January_temp*\"] = target[\"Simu.January_temp*\"] > 0\n",
    "\n",
    "## Average binary variables\n",
    "err = target.statistics(names=[\"Simu.January_temp*\"], \n",
    "                        opers=[gl.EStatOption.MEAN],\n",
    "                        flagStoreInDb=True,\n",
    "                        namconv=gl.NamingConvention(\"Proba\"))"
   ]
  },
  {
   "cell_type": "markdown",
   "id": "046e2118",
   "metadata": {},
   "source": [
    "Let us plot the results."
   ]
  },
  {
   "cell_type": "code",
   "execution_count": null,
   "id": "044f8524",
   "metadata": {},
   "outputs": [],
   "source": [
    "ax = target.plot(\"Proba.MEAN\", flagLegendRaster=True)\n",
    "ax.decoration(title=\"Probability for positive Temperatures\")"
   ]
  }
 ],
 "metadata": {
  "kernelspec": {
   "display_name": "Python 3 (ipykernel)",
   "language": "python",
   "name": "python3"
  },
  "language_info": {
   "codemirror_mode": {
    "name": "ipython",
    "version": 3
   },
   "file_extension": ".py",
   "mimetype": "text/x-python",
   "name": "python",
   "nbconvert_exporter": "python",
   "pygments_lexer": "ipython3",
   "version": "3.10.12"
  },
  "toc": {
   "base_numbering": 1,
   "nav_menu": {},
   "number_sections": true,
   "sideBar": true,
   "skip_h1_title": false,
   "title_cell": "Table of Contents",
   "title_sidebar": "Contents",
   "toc_cell": false,
   "toc_position": {},
   "toc_section_display": true,
   "toc_window_display": false
  }
 },
 "nbformat": 4,
 "nbformat_minor": 5
}
