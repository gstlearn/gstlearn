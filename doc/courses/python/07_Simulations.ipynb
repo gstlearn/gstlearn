{
 "cells": [
  {
   "cell_type": "markdown",
   "id": "7718c2a8",
   "metadata": {},
   "source": [
    "# Gaussian simulations"
   ]
  },
  {
   "cell_type": "code",
   "execution_count": null,
   "id": "4a88fcd6",
   "metadata": {},
   "outputs": [],
   "source": [
    "%%javascript\n",
    "IPython.OutputArea.prototype._should_scroll = function(lines) {\n",
    "    return false;\n",
    "}"
   ]
  },
  {
   "cell_type": "code",
   "execution_count": null,
   "id": "145a5aa5",
   "metadata": {},
   "outputs": [],
   "source": [
    "import gstlearn as gl\n",
    "import gstlearn.plot as gp\n",
    "import matplotlib.pyplot as plt\n",
    "import numpy as np\n",
    "import os"
   ]
  },
  {
   "cell_type": "code",
   "execution_count": null,
   "id": "1dfc22a3",
   "metadata": {},
   "outputs": [],
   "source": [
    "ndim = 2\n",
    "gl.defineDefaultSpace(gl.ESpaceType.RN, ndim);"
   ]
  },
  {
   "cell_type": "code",
   "execution_count": null,
   "id": "0b2f876e",
   "metadata": {},
   "outputs": [],
   "source": [
    "fileNF = os.path.join(os.getenv('GSTLEARN_DATA'), \"Scotland\", \"Scotland_Temperatures.NF\")\n",
    "dat = gl.Db.createFromNF(fileNF)\n",
    "fileNF = os.path.join(os.getenv('GSTLEARN_DATA'), \"Scotland\", \"Scotland_Elevations.NF\")\n",
    "target = gl.DbGrid.createFromNF(fileNF)"
   ]
  },
  {
   "cell_type": "code",
   "execution_count": null,
   "id": "f8214555",
   "metadata": {},
   "outputs": [],
   "source": [
    "neighU = gl.NeighUnique.create()"
   ]
  },
  {
   "cell_type": "markdown",
   "id": "31e00a8f",
   "metadata": {},
   "source": [
    "We calculate the experimental directional variogram and fit the Model"
   ]
  },
  {
   "cell_type": "code",
   "execution_count": null,
   "id": "b8388725",
   "metadata": {},
   "outputs": [],
   "source": [
    "varioparam = gl.VarioParam.createOmniDirection(npas=40, dpas=10)\n",
    "vario_raw2dir = gl.Vario.create(varioparam, dat)\n",
    "vario_raw2dir.compute()\n",
    "\n",
    "fitmod = gl.Model()\n",
    "err = fitmod.fit(vario_raw2dir, types=[gl.ECov.NUGGET, gl.ECov.SPHERICAL, gl.ECov.CUBIC])"
   ]
  },
  {
   "cell_type": "markdown",
   "id": "3cd1709d",
   "metadata": {},
   "source": [
    "Use the Turning Bands method with 1 band"
   ]
  },
  {
   "cell_type": "code",
   "execution_count": null,
   "id": "7380f6be",
   "metadata": {},
   "outputs": [],
   "source": [
    "err = gl.simtub(None, target, model=fitmod, nbtuba=1, seed=12454, namconv=gl.NamingConvention(\"Simu1\"))"
   ]
  },
  {
   "cell_type": "markdown",
   "id": "49b794a0",
   "metadata": {},
   "source": [
    "Graphic Representation"
   ]
  },
  {
   "cell_type": "code",
   "execution_count": null,
   "id": "9a4255b1",
   "metadata": {
    "scrolled": true
   },
   "outputs": [],
   "source": [
    "gp.setDefaultGeographic(dims=[8,8])\n",
    "ax = target.plot(\"Simu1\")\n",
    "ax.decoration(title=\"Simulation with 1 Turning Band\")"
   ]
  },
  {
   "cell_type": "markdown",
   "id": "323120ac",
   "metadata": {},
   "source": [
    "Use the Turning Bands method with 10 bands"
   ]
  },
  {
   "cell_type": "code",
   "execution_count": null,
   "id": "2c636e6c",
   "metadata": {},
   "outputs": [],
   "source": [
    "err = gl.simtub(None, target, model=fitmod, nbtuba=10, seed=12454, namconv=gl.NamingConvention(\"Simu10\"))"
   ]
  },
  {
   "cell_type": "markdown",
   "id": "de2b9ad7",
   "metadata": {},
   "source": [
    "Graphic Representation"
   ]
  },
  {
   "cell_type": "code",
   "execution_count": null,
   "id": "b81c6bad",
   "metadata": {
    "scrolled": true
   },
   "outputs": [],
   "source": [
    "ax = target.plot(\"Simu10\")\n",
    "ax.decoration(title=\"Simulation with 10 Turning Bands\")"
   ]
  },
  {
   "cell_type": "markdown",
   "id": "9c2d6024",
   "metadata": {},
   "source": [
    "Use the Turning Bands method with 1000 bands"
   ]
  },
  {
   "cell_type": "code",
   "execution_count": null,
   "id": "6942307e",
   "metadata": {},
   "outputs": [],
   "source": [
    "err = gl.simtub(None, target, model=fitmod, nbtuba=1000, seed=12454, namconv=gl.NamingConvention(\"Simu1000\"))"
   ]
  },
  {
   "cell_type": "markdown",
   "id": "1186d925",
   "metadata": {},
   "source": [
    "Graphic Representation"
   ]
  },
  {
   "cell_type": "code",
   "execution_count": null,
   "id": "a83def0c",
   "metadata": {
    "scrolled": true
   },
   "outputs": [],
   "source": [
    "ax = target.plot(\"Simu1000\")\n",
    "ax.decoration(title=\"Simulation with 1000 Turning Bands\")"
   ]
  },
  {
   "cell_type": "markdown",
   "id": "7bf071da",
   "metadata": {},
   "source": [
    "## Conditional Simulations"
   ]
  },
  {
   "cell_type": "markdown",
   "id": "0c78852c",
   "metadata": {},
   "source": [
    "Perform 10 conditional simulations with 1000 bands"
   ]
  },
  {
   "cell_type": "code",
   "execution_count": null,
   "id": "53394b80",
   "metadata": {},
   "outputs": [],
   "source": [
    "nbsimu = 10\n",
    "nbtuba = 1000\n",
    "seed   = 13231\n",
    "\n",
    "mean_Temperature = gl.dbStatisticsMono(dat, [\"J*temp\"], [gl.EStatOption.MEAN])\n",
    "fitmod.setMeans(mean_Temperature)"
   ]
  },
  {
   "cell_type": "markdown",
   "id": "6d63e4ec",
   "metadata": {},
   "source": [
    "Simulations with Simple Kriging (Mean is extracted from the Data)"
   ]
  },
  {
   "cell_type": "code",
   "execution_count": null,
   "id": "d2415d37",
   "metadata": {},
   "outputs": [],
   "source": [
    "err = gl.simtub(dat, target, model=fitmod, neighparam=neighU, nbsimu=nbsimu, nbtuba=nbtuba, seed=seed)"
   ]
  },
  {
   "cell_type": "markdown",
   "id": "3d3a58e3",
   "metadata": {},
   "source": [
    "Displaying several simulation outcomes"
   ]
  },
  {
   "cell_type": "code",
   "execution_count": null,
   "id": "681605e3",
   "metadata": {},
   "outputs": [],
   "source": [
    "fig, ax = plt.subplots(1,3, figsize=[20,8])\n",
    "target.plot(\"Simu*temp.1\", ax=ax[0])\n",
    "target.plot(\"Simu*temp.2\", ax=ax[1])\n",
    "target.plot(\"Simu*temp.3\", ax=ax[2])\n",
    "fig.subplots_adjust(right=0.7)\n",
    "cbar_ax = fig.add_axes([0.75, 0.1, 0.02, 0.75])\n",
    "im = ax[0].collections[0]\n",
    "err = fig.colorbar(im, cax = cbar_ax)"
   ]
  },
  {
   "cell_type": "markdown",
   "id": "21656067",
   "metadata": {},
   "source": [
    "Computing the Mean of the simulations and store it as a new variable"
   ]
  },
  {
   "cell_type": "code",
   "execution_count": null,
   "id": "c46bbf48",
   "metadata": {},
   "outputs": [],
   "source": [
    "err = target.statistics([\"Simu.January_temp*\"], [gl.EStatOption.MEAN], flagStoreInDb=True)"
   ]
  },
  {
   "cell_type": "markdown",
   "id": "89e11854",
   "metadata": {},
   "source": [
    "Comparing Mean of Simulations with the Kriging"
   ]
  },
  {
   "cell_type": "code",
   "execution_count": null,
   "id": "20e66fc3",
   "metadata": {},
   "outputs": [],
   "source": [
    "err = gl.kriging(dat, target, model=fitmod, neighparam = neighU, namconv=gl.NamingConvention(\"KS\"))"
   ]
  },
  {
   "cell_type": "code",
   "execution_count": null,
   "id": "2c03ea51",
   "metadata": {},
   "outputs": [],
   "source": [
    "ax = gp.correlation(target, namex=\"Stats.MEAN\", namey=\"KS*estim\", diagLine=True, bins=100)\n",
    "ax.decoration(xlabel=\"Mean of Simulations\", ylabel=\"Simple Kriging Estimate\")"
   ]
  },
  {
   "cell_type": "markdown",
   "id": "f14ef66c",
   "metadata": {},
   "source": [
    "## Simulations with External Drift"
   ]
  },
  {
   "cell_type": "markdown",
   "id": "3fb9479c",
   "metadata": {},
   "source": [
    "We perform the following steps:\n",
    "\n",
    "* Load the grid containing the Elevation Map\n",
    "* Prepare the Data Base: designation of External Drift\n",
    "* Fit the Model of the Residuals"
   ]
  },
  {
   "cell_type": "code",
   "execution_count": null,
   "id": "1a8c9987",
   "metadata": {},
   "outputs": [],
   "source": [
    "fileNF = os.path.join(os.getenv('GSTLEARN_DATA'), \"Scotland\", \"Scotland_Temperatures.NF\")\n",
    "dat = gl.Db.createFromNF(fileNF)\n",
    "dat.setLocator(\"Elevation\", gl.ELoc.F)\n",
    "\n",
    "fileNF = os.path.join(os.getenv('GSTLEARN_DATA'), \"Scotland\", \"Scotland_Elevations.NF\")\n",
    "target = gl.DbGrid.createFromNF(fileNF)\n",
    "target.setLocator(\"Elevation\", gl.ELoc.F)\n",
    "\n",
    "vario_resED = gl.Vario.create(varioparam, dat)\n",
    "model = gl.Model()\n",
    "model.setDriftIRF(nfex = 1)\n",
    "vario_resED.compute(model=model)\n",
    "\n",
    "model_ED = gl.Model()\n",
    "err = model_ED.fit(vario_resED, types=[gl.ECov.SPHERICAL, gl.ECov.CUBIC])\n",
    "model_ED.setDriftIRF(nfex=1)"
   ]
  },
  {
   "cell_type": "markdown",
   "id": "c6b17205",
   "metadata": {},
   "source": [
    "Graphic representation of the experimental Variogram and fitted Model"
   ]
  },
  {
   "cell_type": "code",
   "execution_count": null,
   "id": "052de1c5",
   "metadata": {
    "scrolled": true
   },
   "outputs": [],
   "source": [
    "ax = gp.varmold(vario_resED, model_ED)"
   ]
  },
  {
   "cell_type": "markdown",
   "id": "7b2705ad",
   "metadata": {},
   "source": [
    "Performing Simulations with External Drift"
   ]
  },
  {
   "cell_type": "code",
   "execution_count": null,
   "id": "22f648a2",
   "metadata": {},
   "outputs": [],
   "source": [
    "err = gl.simtub(dat, target, model=model_ED, neighparam=neighU, nbsimu=nbsimu, nbtuba=nbtuba, seed=seed)"
   ]
  },
  {
   "cell_type": "markdown",
   "id": "e0cbd5f8",
   "metadata": {},
   "source": [
    "Display several simulations with Elevation as External Drift"
   ]
  },
  {
   "cell_type": "code",
   "execution_count": null,
   "id": "9a6feb88",
   "metadata": {
    "scrolled": false
   },
   "outputs": [],
   "source": [
    "fig, ax = plt.subplots(1,3,figsize=(20,8))\n",
    "target.plot(\"Simu*temp.1\", ax=ax[0])\n",
    "target.plot(\"Simu*temp.2\", ax=ax[1])\n",
    "target.plot(\"Simu*temp.3\", ax=ax[2])\n",
    "fig.subplots_adjust(right=0.7)\n",
    "cbar_ax = fig.add_axes([0.75, 0.1, 0.02, 0.75])\n",
    "im = ax[0].collections[0]\n",
    "err = fig.colorbar(im, cax = cbar_ax)"
   ]
  },
  {
   "cell_type": "markdown",
   "id": "510fa68e",
   "metadata": {},
   "source": [
    "Calculating the Mean of the Conditional Simulations"
   ]
  },
  {
   "cell_type": "code",
   "execution_count": null,
   "id": "5e8be4d4",
   "metadata": {},
   "outputs": [],
   "source": [
    "err = target.statistics([\"Simu.January_temp*\"], [gl.EStatOption.MEAN], flagStoreInDb=True)"
   ]
  },
  {
   "cell_type": "markdown",
   "id": "afd29877",
   "metadata": {},
   "source": [
    "Comparing Mean of Simulations with Kriging with External Drift"
   ]
  },
  {
   "cell_type": "code",
   "execution_count": null,
   "id": "dca54553",
   "metadata": {},
   "outputs": [],
   "source": [
    "err = gl.kriging(dat, target, model=model_ED, neighparam = neighU, namconv=gl.NamingConvention(\"KED\"))"
   ]
  },
  {
   "cell_type": "code",
   "execution_count": null,
   "id": "e6ba657c",
   "metadata": {
    "scrolled": true
   },
   "outputs": [],
   "source": [
    "ax = gp.correlation(target, namex=\"Stats.MEAN\", namey=\"KED*estim\", diagLine=True, bins=100)\n",
    "ax.decoration(xlabel=\"Mean of Simulations\", ylabel=\"Kriging with External Drift\")"
   ]
  },
  {
   "cell_type": "markdown",
   "id": "728b274b",
   "metadata": {},
   "source": [
    "Deriving Indicator to exceed a Cutoff per simulation outcome"
   ]
  },
  {
   "cell_type": "code",
   "execution_count": null,
   "id": "849304e8",
   "metadata": {},
   "outputs": [],
   "source": [
    "target[\"Simu.January_temp*\"] = target[\"Simu.January_temp*\"] > 0"
   ]
  },
  {
   "cell_type": "markdown",
   "id": "90e4c07e",
   "metadata": {},
   "source": [
    "Computing the average of the Indicators which leads to the Probability to exceed the threshold"
   ]
  },
  {
   "cell_type": "code",
   "execution_count": null,
   "id": "d7da9a83",
   "metadata": {},
   "outputs": [],
   "source": [
    "err = target.statistics([\"Simu.January_temp*\"], [gl.EStatOption.MEAN], flagStoreInDb=True,\n",
    "                       namconv=gl.NamingConvention(\"Proba\"))"
   ]
  },
  {
   "cell_type": "code",
   "execution_count": null,
   "id": "044f8524",
   "metadata": {},
   "outputs": [],
   "source": [
    "ax = target.plot(\"Proba.MEAN\", flagLegendRaster=True)\n",
    "ax.decoration(title=\"Probability for positive Temperatures\")"
   ]
  }
 ],
 "metadata": {
  "kernelspec": {
   "display_name": "Python 3 (ipykernel)",
   "language": "python",
   "name": "python3"
  },
  "language_info": {
   "codemirror_mode": {
    "name": "ipython",
    "version": 3
   },
   "file_extension": ".py",
   "mimetype": "text/x-python",
   "name": "python",
   "nbconvert_exporter": "python",
   "pygments_lexer": "ipython3",
   "version": "3.10.5"
  }
 },
 "nbformat": 4,
 "nbformat_minor": 5
}
