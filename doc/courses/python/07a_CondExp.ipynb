{
 "cells": [
  {
   "cell_type": "markdown",
   "id": "7718c2a8",
   "metadata": {},
   "source": [
    "# Conditional Expectation"
   ]
  },
  {
   "cell_type": "code",
   "execution_count": null,
   "id": "4a88fcd6",
   "metadata": {},
   "outputs": [],
   "source": [
    "%%javascript\n",
    "IPython.OutputArea.prototype._should_scroll = function(lines) {\n",
    "    return false;\n",
    "}"
   ]
  },
  {
   "cell_type": "code",
   "execution_count": null,
   "id": "145a5aa5",
   "metadata": {},
   "outputs": [],
   "source": [
    "import gstlearn as gl\n",
    "import gstlearn.plot as gp\n",
    "import matplotlib.pyplot as plt\n",
    "import numpy as np\n",
    "import os"
   ]
  },
  {
   "cell_type": "code",
   "execution_count": null,
   "id": "1dfc22a3",
   "metadata": {},
   "outputs": [],
   "source": [
    "ndim = 2\n",
    "gl.defineDefaultSpace(gl.ESpaceType.RN, ndim);"
   ]
  },
  {
   "cell_type": "code",
   "execution_count": null,
   "id": "0b2f876e",
   "metadata": {},
   "outputs": [],
   "source": [
    "fileNF = os.path.join(os.getenv('GSTLEARN_DATA'), \"Scotland\", \"Scotland_Temperatures.NF\")\n",
    "dat = gl.Db.createFromNF(fileNF)\n",
    "fileNF = os.path.join(os.getenv('GSTLEARN_DATA'), \"Scotland\", \"Scotland_Elevations.NF\")\n",
    "grid = gl.DbGrid.createFromNF(fileNF)"
   ]
  },
  {
   "cell_type": "code",
   "execution_count": null,
   "id": "f9a27bc6",
   "metadata": {},
   "outputs": [],
   "source": [
    "unique_neigh = gl.NeighUnique.create()"
   ]
  },
  {
   "cell_type": "markdown",
   "id": "18b358bc",
   "metadata": {},
   "source": [
    "Histogram of the raw variable (Temperature)"
   ]
  },
  {
   "cell_type": "code",
   "execution_count": null,
   "id": "06bc64eb",
   "metadata": {
    "scrolled": true
   },
   "outputs": [],
   "source": [
    "ax = gp.hist(dat,\"January*\", nbins=20, title=\"Temperatures\")"
   ]
  },
  {
   "cell_type": "markdown",
   "id": "d56453ff",
   "metadata": {},
   "source": [
    "Gaussian scores"
   ]
  },
  {
   "cell_type": "code",
   "execution_count": null,
   "id": "f5c72024",
   "metadata": {},
   "outputs": [],
   "source": [
    "anam = gl.AnamHermite(30)\n",
    "err = anam.fitFromLocator(dat)\n",
    "err = anam.rawToGaussian(dat, \"January_temp\")"
   ]
  },
  {
   "cell_type": "code",
   "execution_count": null,
   "id": "52724784",
   "metadata": {
    "scrolled": true
   },
   "outputs": [],
   "source": [
    "anam.display()"
   ]
  },
  {
   "cell_type": "markdown",
   "id": "cb3b281e",
   "metadata": {},
   "source": [
    "Plot the Gaussian scores"
   ]
  },
  {
   "cell_type": "code",
   "execution_count": null,
   "id": "2ee4d8f0",
   "metadata": {
    "scrolled": true
   },
   "outputs": [],
   "source": [
    "ax = gp.sortedcurve(dat[\"Y.January_temp\"], dat[\"January_temp\"],xlabel=\"Gaussian\",ylabel=\"Raw\")"
   ]
  },
  {
   "cell_type": "markdown",
   "id": "876f1b34",
   "metadata": {},
   "source": [
    "Draw the histogram of the Gaussian transformed values"
   ]
  },
  {
   "cell_type": "code",
   "execution_count": null,
   "id": "feb99d61",
   "metadata": {
    "scrolled": true
   },
   "outputs": [],
   "source": [
    "ax = gp.hist(dat,\"Y.January*\", nbins=20, title=\"Temperatures (Gaussian scale)\")"
   ]
  },
  {
   "cell_type": "markdown",
   "id": "dde4a5af",
   "metadata": {},
   "source": [
    "We calculate the experimental directional variogram of the gaussian scores and fit the Model (with the constraints that sill should be 1)"
   ]
  },
  {
   "cell_type": "code",
   "execution_count": null,
   "id": "b6f0f5ea",
   "metadata": {
    "scrolled": true
   },
   "outputs": [],
   "source": [
    "varioparam = gl.VarioParam.createMultiple(ndir=2, npas=40, dpas=10)\n",
    "vario_gauss2dir = gl.Vario.create(varioparam, dat)\n",
    "err = vario_gauss2dir.compute()\n",
    "\n",
    "fitmodgauss = gl.Model()\n",
    "err = fitmodgauss.fit(vario_gauss2dir, \n",
    "                types=[gl.ECov.NUGGET, gl.ECov.SPHERICAL, gl.ECov.CUBIC],\n",
    "                constraints = gl.Constraints(1))"
   ]
  },
  {
   "cell_type": "code",
   "execution_count": null,
   "id": "08d52bf5",
   "metadata": {
    "scrolled": true
   },
   "outputs": [],
   "source": [
    "ax = gp.varmod(vario_gauss2dir, fitmodgauss)"
   ]
  },
  {
   "cell_type": "code",
   "execution_count": null,
   "id": "1a803b8f",
   "metadata": {},
   "outputs": [],
   "source": [
    "neighU = gl.NeighUnique.create()"
   ]
  },
  {
   "cell_type": "markdown",
   "id": "0b6c1181",
   "metadata": {},
   "source": [
    "Kriging of Gaussian scores"
   ]
  },
  {
   "cell_type": "code",
   "execution_count": null,
   "id": "8dea7fda",
   "metadata": {},
   "outputs": [],
   "source": [
    "err = gl.kriging(dat, grid, fitmodgauss, neighU)"
   ]
  },
  {
   "cell_type": "code",
   "execution_count": null,
   "id": "666989f6",
   "metadata": {},
   "outputs": [],
   "source": [
    "ax = gp.grid(grid, name=\"*estim\", aspect=1, figsize=[8,8], title=\"Kriging of Gaussian scores\")\n",
    "ax = gp.point(dat, ax=ax)"
   ]
  },
  {
   "cell_type": "code",
   "execution_count": null,
   "id": "a4254dc1",
   "metadata": {
    "scrolled": true
   },
   "outputs": [],
   "source": [
    "ax = gp.grid(grid, name=\"*stdev\", aspect=1, figsize=[8,8], title=\"St. Dev. of Gaussian scores\")\n",
    "ax = gp.point(dat, ax=ax)"
   ]
  },
  {
   "cell_type": "markdown",
   "id": "3b6d04ee",
   "metadata": {},
   "source": [
    "## Conditional Expectation"
   ]
  },
  {
   "cell_type": "markdown",
   "id": "43d76975",
   "metadata": {},
   "source": [
    "We use the Monte Carlo method with 1000 outcomes."
   ]
  },
  {
   "cell_type": "code",
   "execution_count": null,
   "id": "8a76d48b",
   "metadata": {},
   "outputs": [],
   "source": [
    "selectivity = gl.Selectivity.createByKeys([\"Z\"], [], flag_est=True, flag_std=True)\n",
    "err = gl.ConditionalExpectation(grid, anam, selectivity, \"K*.estim\", \"K*.stdev\", nbsimu=100,\n",
    "                                namconv=gl.NamingConvention(\"CE\",False,True,False))"
   ]
  },
  {
   "cell_type": "markdown",
   "id": "5af88b09",
   "metadata": {},
   "source": [
    "Display of the Conditional Expectation"
   ]
  },
  {
   "cell_type": "code",
   "execution_count": null,
   "id": "76592268",
   "metadata": {
    "scrolled": true
   },
   "outputs": [],
   "source": [
    "ax = gp.grid(grid, name=\"CE*estim\", aspect=1, figsize=[8,8],\n",
    "            title = \"Conditional Expectation\")\n",
    "ax = gp.point(dat, ax=ax)"
   ]
  },
  {
   "cell_type": "markdown",
   "id": "f61c041a",
   "metadata": {},
   "source": [
    "Display of the Conditional Standard Deviation"
   ]
  },
  {
   "cell_type": "code",
   "execution_count": null,
   "id": "999f1932",
   "metadata": {},
   "outputs": [],
   "source": [
    "ax = gp.grid(grid, name=\"CE*stdev\", aspect=1, figsize=[8,8],\n",
    "            title=\"Conditional Standard Deviation\")\n",
    "ax = gp.point(dat, ax=ax)"
   ]
  },
  {
   "cell_type": "markdown",
   "id": "7fc0dcea",
   "metadata": {},
   "source": [
    "Conditional Probability below 0"
   ]
  },
  {
   "cell_type": "code",
   "execution_count": null,
   "id": "b67e496b",
   "metadata": {},
   "outputs": [],
   "source": [
    "selectivity = gl.Selectivity.createByKeys([\"PROP\"], zcuts=[0],flag_est=True, flag_std=True)\n",
    "err = gl.ConditionalExpectation(grid, anam, selectivity, \"K*.estim\", \"K*.stdev\",\n",
    "                                namconv=gl.NamingConvention(\"CE\",False,True,False))"
   ]
  },
  {
   "cell_type": "code",
   "execution_count": null,
   "id": "2c5a74dd",
   "metadata": {
    "scrolled": true
   },
   "outputs": [],
   "source": [
    "ax = gp.grid(grid, name=\"CE.Proba*estim\", aspect=1, figsize=[8,8],\n",
    "            title = \"Conditional Probability below 0\")\n",
    "ax = gp.point(dat, ax=ax)"
   ]
  },
  {
   "cell_type": "markdown",
   "id": "45aa42b7",
   "metadata": {},
   "source": [
    "Conditional Probability above 1"
   ]
  },
  {
   "cell_type": "code",
   "execution_count": null,
   "id": "4a9aad12",
   "metadata": {},
   "outputs": [],
   "source": [
    "selectivity = gl.Selectivity.createByKeys([\"T\"], zcuts=[1],flag_est=True, flag_std=True)\n",
    "err = gl.ConditionalExpectation(grid, anam, selectivity, \"K*.estim\", \"K*.stdev\",\n",
    "                                namconv=gl.NamingConvention(\"CE\",False,True,False))"
   ]
  },
  {
   "cell_type": "code",
   "execution_count": null,
   "id": "be657e3a",
   "metadata": {
    "scrolled": true
   },
   "outputs": [],
   "source": [
    "ax = gp.grid(grid, name=\"CE.T*estim-1\", aspect=1, figsize=[8,8],\n",
    "            title = \"Conditional Probability above 1\")\n",
    "ax = gp.point(dat, ax=ax)"
   ]
  },
  {
   "cell_type": "code",
   "execution_count": null,
   "id": "a8324fd8",
   "metadata": {},
   "outputs": [],
   "source": [
    "ax = gp.grid(grid, name=\"CE.T*stdev-1\", aspect=1, figsize=[8,8],\n",
    "            title = \"Conditional probability (Standard Deviation)\")\n",
    "ax = gp.point(dat, ax=ax)"
   ]
  }
 ],
 "metadata": {
  "kernelspec": {
   "display_name": "Python 3 (ipykernel)",
   "language": "python",
   "name": "python3"
  },
  "language_info": {
   "codemirror_mode": {
    "name": "ipython",
    "version": 3
   },
   "file_extension": ".py",
   "mimetype": "text/x-python",
   "name": "python",
   "nbconvert_exporter": "python",
   "pygments_lexer": "ipython3",
   "version": "3.9.2"
  }
 },
 "nbformat": 4,
 "nbformat_minor": 5
}
