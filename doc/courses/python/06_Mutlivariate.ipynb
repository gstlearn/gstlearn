{
 "cells": [
  {
   "cell_type": "markdown",
   "id": "7718c2a8",
   "metadata": {},
   "source": [
    "# Multivariate"
   ]
  },
  {
   "cell_type": "code",
   "execution_count": null,
   "id": "4a88fcd6",
   "metadata": {},
   "outputs": [],
   "source": [
    "%%javascript\n",
    "IPython.OutputArea.prototype._should_scroll = function(lines) {\n",
    "    return false;\n",
    "}"
   ]
  },
  {
   "cell_type": "code",
   "execution_count": null,
   "id": "145a5aa5",
   "metadata": {},
   "outputs": [],
   "source": [
    "import gstlearn as gl\n",
    "import gstlearn.plot as gp\n",
    "import matplotlib.pyplot as plt\n",
    "import numpy as np\n",
    "import os"
   ]
  },
  {
   "cell_type": "markdown",
   "id": "9e674b30",
   "metadata": {},
   "source": [
    "Then we download the data base **dat**."
   ]
  },
  {
   "cell_type": "code",
   "execution_count": null,
   "id": "9c53f8cf",
   "metadata": {},
   "outputs": [],
   "source": [
    "fileNF = os.path.join(os.getenv('GSTLEARN_DATA'), \"Scotland\", \"Scotland_Temperatures.NF\")\n",
    "dat = gl.Db.createFromNF(fileNF)\n",
    "fileNF = os.path.join(os.getenv('GSTLEARN_DATA'), \"Scotland\", \"Scotland_Elevations.NF\")\n",
    "target = gl.DbGrid.createFromNF(fileNF)\n",
    "ndim = 2\n",
    "gl.ASpaceObject.defineDefaultSpace(gl.ESpaceType.SPACE_RN, ndim);"
   ]
  },
  {
   "cell_type": "code",
   "execution_count": null,
   "id": "2616ccaa",
   "metadata": {},
   "outputs": [],
   "source": [
    "dat.setName(\"January_temp\",\"Temperature\")\n",
    "unique_neigh = gl.NeighUnique.create(ndim = ndim)"
   ]
  },
  {
   "cell_type": "markdown",
   "id": "8ee9abe3",
   "metadata": {},
   "source": [
    "Statistics"
   ]
  },
  {
   "cell_type": "code",
   "execution_count": null,
   "id": "b2b6499c",
   "metadata": {
    "scrolled": true
   },
   "outputs": [],
   "source": [
    "gl.dbStatisticsPrint(dat, [\"Elevation\", \"Temperature\"])\n",
    "gl.dbStatisticsPrint(target, [\"Elevation\"])"
   ]
  },
  {
   "cell_type": "markdown",
   "id": "993a8867",
   "metadata": {},
   "source": [
    "Observations"
   ]
  },
  {
   "cell_type": "code",
   "execution_count": null,
   "id": "8359cde6",
   "metadata": {
    "scrolled": true
   },
   "outputs": [],
   "source": [
    "ax = gp.point(dat, color_name=\"Elevation\", figsize=[8,8], aspect=1)"
   ]
  },
  {
   "cell_type": "markdown",
   "id": "bc8ad662",
   "metadata": {},
   "source": [
    "Map of the elevations"
   ]
  },
  {
   "cell_type": "code",
   "execution_count": null,
   "id": "c808fcb1",
   "metadata": {},
   "outputs": [],
   "source": [
    "ax = gp.grid(target, \"Elevation\", figsize=[8,8], aspect=1)"
   ]
  },
  {
   "cell_type": "markdown",
   "id": "19cc21b0",
   "metadata": {},
   "source": [
    "Temperature vs. Elevation"
   ]
  },
  {
   "cell_type": "code",
   "execution_count": null,
   "id": "32fb54aa",
   "metadata": {
    "scrolled": false
   },
   "outputs": [],
   "source": [
    "ax = gp.correlation(dat, namex=\"Elevation\", namey=\"Temperature\", asPoint=True, regrLine=True,\n",
    "                   title=\"Correlation between Temperature and Elevation\")"
   ]
  },
  {
   "cell_type": "markdown",
   "id": "20093fe9",
   "metadata": {},
   "source": [
    "Variograms and Non-stationarity\n",
    "\n",
    "Directional variograms (N-S and E-W): no drift or with first order global trend"
   ]
  },
  {
   "cell_type": "code",
   "execution_count": null,
   "id": "dbb8b251",
   "metadata": {
    "scrolled": true
   },
   "outputs": [],
   "source": [
    "varioparam = gl.VarioParam.createMultiple(ndim=ndim, ndir=2, npas=30, dpas=10)\n",
    "vario_raw2dir = gl.Vario(varioparam, dat)\n",
    "err = vario_raw2dir.compute()\n",
    "\n",
    "model = gl.Model.create()\n",
    "model.setDriftIRF(1)\n",
    "vario_res2dir = gl.Vario(varioparam, dat)\n",
    "err = vario_res2dir.compute(model=model)\n",
    "\n",
    "axs = gp.vario(vario_raw2dir, title=\"Temperature (°C)\", xlabel = \"Distance (km)\", ylabel = \"Variogram\")\n",
    "axs = gp.vario(vario_res2dir,axs=axs, linestyle='dashed')"
   ]
  },
  {
   "cell_type": "markdown",
   "id": "7bbffdd3",
   "metadata": {},
   "source": [
    "Global trend\n",
    "\n",
    "Find the coefficients of the global regression (first order polynomial)"
   ]
  },
  {
   "cell_type": "code",
   "execution_count": null,
   "id": "e6eb61ec",
   "metadata": {
    "scrolled": true
   },
   "outputs": [],
   "source": [
    "err = gl.regression(dat, name0=\"Temperature\", mode=2, model=model, verbose=True)"
   ]
  },
  {
   "cell_type": "markdown",
   "id": "5ffb8fed",
   "metadata": {},
   "source": [
    "Modelling Variogram of Raw Data with Anisotropy"
   ]
  },
  {
   "cell_type": "code",
   "execution_count": null,
   "id": "432ce161",
   "metadata": {},
   "outputs": [],
   "source": [
    "fitmod = gl.Model()\n",
    "err = fitmod.fit(vario_raw2dir,types=[gl.ECov.NUGGET, gl.ECov.EXPONENTIAL, gl.ECov.CUBIC])"
   ]
  },
  {
   "cell_type": "code",
   "execution_count": null,
   "id": "858a5796",
   "metadata": {
    "scrolled": true
   },
   "outputs": [],
   "source": [
    "ax = gp.varmod(vario_raw2dir, fitmod, title=\"Temperature (°C)\", \n",
    "               xlabel = \"Distance (km)\", ylabel = \"Variogram\", lw=2)"
   ]
  },
  {
   "cell_type": "markdown",
   "id": "ab787dfb",
   "metadata": {},
   "source": [
    "Ordinary Kriging - Cross-Validation\n",
    "\n",
    "Perform Cross-validation (using Ordinary Kriging) and calculate the Mean Squared Error."
   ]
  },
  {
   "cell_type": "code",
   "execution_count": null,
   "id": "93467fdf",
   "metadata": {},
   "outputs": [],
   "source": [
    "err = gl.xvalid(dat, fitmod, unique_neigh, namconv=gl.NamingConvention(\"OK\",True,True,False))\n",
    "gl.dbStatisticsPrint(dat, [\"OK.Temperature.*\"])"
   ]
  },
  {
   "cell_type": "markdown",
   "id": "bf8c79af",
   "metadata": {},
   "source": [
    "Ordinary Kriging - Estimation"
   ]
  },
  {
   "cell_type": "code",
   "execution_count": null,
   "id": "66f78e10",
   "metadata": {},
   "outputs": [],
   "source": [
    "err = gl.kriging(dat, target, fitmod, unique_neigh, namconv=gl.NamingConvention(\"OK\"))"
   ]
  },
  {
   "cell_type": "markdown",
   "id": "4258bf7f",
   "metadata": {},
   "source": [
    "Graphic representation of Ordinary Kriging estimation"
   ]
  },
  {
   "cell_type": "code",
   "execution_count": null,
   "id": "6b4bbf6a",
   "metadata": {
    "scrolled": true
   },
   "outputs": [],
   "source": [
    "ax = gp.grid(target, name=\"OK*estim\", title=\"Temperature - Ordinary Kriging\", figsize=[8,8], aspect=1)\n",
    "ax = gp.point(dat,size_name=\"Temperature\", ax=ax, flagSizeLegend=False)"
   ]
  },
  {
   "cell_type": "markdown",
   "id": "955ce320",
   "metadata": {},
   "source": [
    "Statistics on the Ordinary Kriging"
   ]
  },
  {
   "cell_type": "code",
   "execution_count": null,
   "id": "9422011a",
   "metadata": {
    "scrolled": true
   },
   "outputs": [],
   "source": [
    "gl.dbStatisticsPrint(target, [\"OK.Temperature.*\"])"
   ]
  },
  {
   "cell_type": "markdown",
   "id": "b6eadf42",
   "metadata": {},
   "source": [
    "Fitting Variogram of Residuals"
   ]
  },
  {
   "cell_type": "code",
   "execution_count": null,
   "id": "cef206ff",
   "metadata": {},
   "outputs": [],
   "source": [
    "fitmodUK = gl.Model()\n",
    "err = fitmodUK.fit(vario_res2dir,types=[gl.ECov.SPHERICAL],optvar=gl.Option_VarioFit(False,False))"
   ]
  },
  {
   "cell_type": "code",
   "execution_count": null,
   "id": "28613e08",
   "metadata": {},
   "outputs": [],
   "source": [
    "ax = gp.varmod(vario_res2dir, fitmodUK, title=\"Temperature (°C)\", \n",
    "               xlabel = \"Distance (km)\", ylabel = \"Variogram\", lw=2)"
   ]
  },
  {
   "cell_type": "markdown",
   "id": "776bd9cb",
   "metadata": {},
   "source": [
    "Note that the residuals seem isotropic, hence use isotropic option for Fitting."
   ]
  },
  {
   "cell_type": "markdown",
   "id": "a59085e0",
   "metadata": {},
   "source": [
    "Universal Kriging - Cross-Validation\n",
    "\n",
    "Perform Cross-validation (using Universal Kriging) and calculate the Mean Squared Error."
   ]
  },
  {
   "cell_type": "code",
   "execution_count": null,
   "id": "b6860b1b",
   "metadata": {
    "scrolled": true
   },
   "outputs": [],
   "source": [
    "err = gl.xvalid(dat, fitmodUK, unique_neigh, namconv=gl.NamingConvention(\"UK\",True,True,False))\n",
    "gl.dbStatisticsPrint(dat, [\"UK.Temperature.*\"])"
   ]
  },
  {
   "cell_type": "markdown",
   "id": "65c7124d",
   "metadata": {},
   "source": [
    "Universal Kriging - Estimation"
   ]
  },
  {
   "cell_type": "code",
   "execution_count": null,
   "id": "d85a74aa",
   "metadata": {},
   "outputs": [],
   "source": [
    "err = gl.kriging(dat, target, fitmodUK, unique_neigh, namconv=gl.NamingConvention(\"UK\"))"
   ]
  },
  {
   "cell_type": "markdown",
   "id": "802ba39a",
   "metadata": {},
   "source": [
    "Graphic representation"
   ]
  },
  {
   "cell_type": "code",
   "execution_count": null,
   "id": "22843cc6",
   "metadata": {
    "scrolled": true
   },
   "outputs": [],
   "source": [
    "ax = gp.grid(target, name=\"UK*estim\", title=\"Temperature - Universal Kriging\", figsize=[8,8], aspect=1)\n",
    "ax = gp.point(dat,size_name=\"Temperature\", ax=ax, flagSizeLegend=False)"
   ]
  },
  {
   "cell_type": "markdown",
   "id": "ef144e46",
   "metadata": {},
   "source": [
    "Statistics on Universal Kriging"
   ]
  },
  {
   "cell_type": "code",
   "execution_count": null,
   "id": "7d975b9b",
   "metadata": {
    "scrolled": true
   },
   "outputs": [],
   "source": [
    "gl.dbStatisticsPrint(target, [\"UK.Temperature.*\"])"
   ]
  },
  {
   "cell_type": "markdown",
   "id": "e3afaab1",
   "metadata": {},
   "source": [
    "Comparing Ordinary and Universal Krigings"
   ]
  },
  {
   "cell_type": "code",
   "execution_count": null,
   "id": "4220fece",
   "metadata": {
    "scrolled": true
   },
   "outputs": [],
   "source": [
    "ax = gp.correlation(target, \"OK*estim\", \"UK*estim\", bissLine=True,\n",
    "                    xlabel=\"Ordinary Kriging\",ylabel=\"Universal Kriging\")"
   ]
  },
  {
   "cell_type": "markdown",
   "id": "3622e6c4",
   "metadata": {},
   "source": [
    "Comparing Temperature and Elevation"
   ]
  },
  {
   "cell_type": "code",
   "execution_count": null,
   "id": "5e4a8583",
   "metadata": {
    "scrolled": true
   },
   "outputs": [],
   "source": [
    "ax = gp.correlation(dat,\"Elevation\",\"Temperature\",regrLine=True,asPoint=True)"
   ]
  },
  {
   "cell_type": "markdown",
   "id": "58891511",
   "metadata": {},
   "source": [
    "Average of Elevations of all data and average of Elevations of meteorological stations"
   ]
  },
  {
   "cell_type": "code",
   "execution_count": null,
   "id": "346f69e6",
   "metadata": {
    "scrolled": false
   },
   "outputs": [],
   "source": [
    "gl.dbStatisticsPrint(dat, [\"Elevation\", \"Temperature\"])"
   ]
  },
  {
   "cell_type": "markdown",
   "id": "fbfd41b0",
   "metadata": {},
   "source": [
    "Average of Elevations when Temperatures are defined"
   ]
  },
  {
   "cell_type": "code",
   "execution_count": null,
   "id": "5a6f147a",
   "metadata": {
    "scrolled": true
   },
   "outputs": [],
   "source": [
    "sel = dat[\"Temperature\"]\n",
    "uid = dat.addSelection(~np.isnan(sel),\"Temperature defined\")\n",
    "gl.dbStatisticsPrint(dat, [\"Elevation\", \"Temperature\"])"
   ]
  },
  {
   "cell_type": "markdown",
   "id": "5a3c6370",
   "metadata": {},
   "source": [
    "Bivariate Modelling"
   ]
  },
  {
   "cell_type": "code",
   "execution_count": null,
   "id": "cfe14d3b",
   "metadata": {},
   "outputs": [],
   "source": [
    "dat.deleteColumn(\"Temperature defined\")\n",
    "dat.setLocators([\"Temperature\", \"Elevation\"], gl.ELoc.Z)"
   ]
  },
  {
   "cell_type": "markdown",
   "id": "8fba0165",
   "metadata": {},
   "source": [
    "Bivariate Modelling"
   ]
  },
  {
   "cell_type": "code",
   "execution_count": null,
   "id": "d3742e14",
   "metadata": {},
   "outputs": [],
   "source": [
    "varioexp2var = gl.Vario.create(varioparam, dat)\n",
    "err = varioexp2var.compute()\n",
    "fitmod2var = gl.Model()\n",
    "err = fitmod2var.fit(varioexp2var,types=[gl.ECov.NUGGET, gl.ECov.EXPONENTIAL, gl.ECov.CUBIC])"
   ]
  },
  {
   "cell_type": "code",
   "execution_count": null,
   "id": "eec458d1",
   "metadata": {
    "scrolled": true
   },
   "outputs": [],
   "source": [
    "ax = gp.varmod(varioexp2var, fitmod2var, title=\"Temperature (°C) and Elevation\", figsize=[5,5],\n",
    "               xlabel = \"Distance (km)\", ylabel = \"Variogram\", lw=2)"
   ]
  },
  {
   "cell_type": "markdown",
   "id": "392f13cb",
   "metadata": {},
   "source": [
    "Cokriging with elevation - Cross-Validation\n",
    "\n",
    "Most of the processes are more time-consuming in Unique Neighborhood.\n",
    "We create a small neighborhood for demonstration."
   ]
  },
  {
   "cell_type": "code",
   "execution_count": null,
   "id": "3734f4f6",
   "metadata": {},
   "outputs": [],
   "source": [
    "moving_neigh = gl.NeighMoving.create(ndim=2, radius = 1000, nmaxi = 10)"
   ]
  },
  {
   "cell_type": "markdown",
   "id": "a22b71f6",
   "metadata": {},
   "source": [
    "Perform Cross-validation (Bivariate Model) and calculate the Mean Squared Error."
   ]
  },
  {
   "cell_type": "code",
   "execution_count": null,
   "id": "57494f39",
   "metadata": {
    "scrolled": true
   },
   "outputs": [],
   "source": [
    "err = gl.xvalid(dat, fitmod2var, moving_neigh, namconv=gl.NamingConvention(\"COK\",True,True,False))\n",
    "gl.dbStatisticsPrint(dat, [\"COK.Temperature.*\"])"
   ]
  },
  {
   "cell_type": "markdown",
   "id": "31ced5c1",
   "metadata": {},
   "source": [
    "Cokriging with elevation - Estimate"
   ]
  },
  {
   "cell_type": "code",
   "execution_count": null,
   "id": "3b8f9f64",
   "metadata": {},
   "outputs": [],
   "source": [
    "err = gl.kriging(dat, target, fitmod2var, unique_neigh, namconv=gl.NamingConvention(\"COK\"))"
   ]
  },
  {
   "cell_type": "markdown",
   "id": "547715c1",
   "metadata": {},
   "source": [
    "Graphic representation"
   ]
  },
  {
   "cell_type": "code",
   "execution_count": null,
   "id": "56f37e68",
   "metadata": {
    "scrolled": true
   },
   "outputs": [],
   "source": [
    "ax = gp.grid(target, name=\"COK.T*estim\", title=\"Temperature - CoKriging (with Elevation)\", figsize=[8,8], aspect=1)\n",
    "ax = gp.point(dat,size_name=\"Temperature\", ax=ax, flagSizeLegend=False)"
   ]
  },
  {
   "cell_type": "markdown",
   "id": "0d3a79e3",
   "metadata": {},
   "source": [
    "Statistics"
   ]
  },
  {
   "cell_type": "code",
   "execution_count": null,
   "id": "6750af3b",
   "metadata": {
    "scrolled": true
   },
   "outputs": [],
   "source": [
    "gl.dbStatisticsPrint(target, [\"COK.Temperature.*\"])"
   ]
  },
  {
   "cell_type": "markdown",
   "id": "2b9e21ee",
   "metadata": {},
   "source": [
    "Comparing Kriging and CoKriging"
   ]
  },
  {
   "cell_type": "code",
   "execution_count": null,
   "id": "266edb2b",
   "metadata": {
    "scrolled": true
   },
   "outputs": [],
   "source": [
    "ax = gp.correlation(target, \"OK.T*estim\", \"COK.T*estim\", bissLine=True,\n",
    "                    xlabel=\"Ordinary Kriging\",ylabel=\"Ordinary CoKriging\")"
   ]
  },
  {
   "cell_type": "markdown",
   "id": "46255359",
   "metadata": {},
   "source": [
    "Note that CoKriging produces estimates which are mostly larger than Kriging estimates."
   ]
  },
  {
   "cell_type": "markdown",
   "id": "77f3539c",
   "metadata": {},
   "source": [
    "Kriging the residuals\n",
    "\n",
    "$$\n",
    "Z_2(s)=b + a Z_1(s) + R(s)\n",
    "$$\n",
    "\n",
    "A first call to the regression function is done in order to retreive the coefficients of the regression"
   ]
  },
  {
   "cell_type": "code",
   "execution_count": null,
   "id": "f9cf6d62",
   "metadata": {},
   "outputs": [],
   "source": [
    "regr = gl.regression(dat, \"Temperature\", [\"Elevation\"], 0, flagCste=True, verbose=True)\n",
    "b = regr.coeffs[0]\n",
    "a = regr.coeffs[1]"
   ]
  },
  {
   "cell_type": "markdown",
   "id": "fe2040a1",
   "metadata": {},
   "source": [
    "We calculate the Residuals and provide some statistics"
   ]
  },
  {
   "cell_type": "code",
   "execution_count": null,
   "id": "35ce36e4",
   "metadata": {
    "scrolled": false
   },
   "outputs": [],
   "source": [
    "err = gl.dbRegression(dat, \"Temperature\", [\"Elevation\"],\n",
    "                     namconv = gl.NamingConvention(\"Regr\",True,True,False))\n",
    "gl.dbStatisticsPrint(dat, [\"Regr*\"])"
   ]
  },
  {
   "cell_type": "code",
   "execution_count": null,
   "id": "d9cdd625",
   "metadata": {
    "scrolled": true
   },
   "outputs": [],
   "source": [
    "ax = gp.correlation(dat,\"Elevation\",\"Regr*\",regrLine=True,asPoint=True)"
   ]
  },
  {
   "cell_type": "markdown",
   "id": "d1343384",
   "metadata": {},
   "source": [
    "Kriging the residuals - Variogram of the residual"
   ]
  },
  {
   "cell_type": "code",
   "execution_count": null,
   "id": "8545dc41",
   "metadata": {},
   "outputs": [],
   "source": [
    "dat.setLocator(\"Regr*\",gl.ELoc.Z, cleanSameLocator=True)\n",
    "varioexpR = gl.Vario(varioparam, dat)\n",
    "err = varioexpR.compute()\n",
    "fitmodR = gl.Model()\n",
    "err = fitmodR.fit(varioexpR,types=[gl.ECov.NUGGET, gl.ECov.SPHERICAL, gl.ECov.ORDER1_GC])"
   ]
  },
  {
   "cell_type": "code",
   "execution_count": null,
   "id": "7c2fa525",
   "metadata": {
    "scrolled": true
   },
   "outputs": [],
   "source": [
    "ax = gp.varmod(varioexpR, fitmodR, title=\"Temperature Residual\", \n",
    "               xlabel = \"Distance (km)\", ylabel = \"Variogram\", lw=2)"
   ]
  },
  {
   "cell_type": "markdown",
   "id": "684fd3c2",
   "metadata": {},
   "source": [
    "Kriging the residuals"
   ]
  },
  {
   "cell_type": "code",
   "execution_count": null,
   "id": "95ae90ce",
   "metadata": {},
   "outputs": [],
   "source": [
    "err = gl.kriging(dat, target, fitmodR, unique_neigh, namconv=gl.NamingConvention(\"ROK\"))"
   ]
  },
  {
   "cell_type": "code",
   "execution_count": null,
   "id": "d2583d26",
   "metadata": {
    "scrolled": true
   },
   "outputs": [],
   "source": [
    "ax = gp.grid(target, name=\"ROK.Regr*estim\", title=\"Temperature Residuals\", figsize=[10,10], aspect=1)\n",
    "ax = gp.point(dat,size_name=\"Temperature\", ax=ax, flagSizeLegend=False)"
   ]
  },
  {
   "cell_type": "markdown",
   "id": "18a99b72",
   "metadata": {},
   "source": [
    "Kriging the residuals - Computing the estimate\n",
    "\n",
    "$$\n",
    "Z_2^{\\star} = b + a Z_1(s) + R(s)^{OK}\n",
    "$$\n"
   ]
  },
  {
   "cell_type": "code",
   "execution_count": null,
   "id": "5dafa0b0",
   "metadata": {
    "scrolled": true
   },
   "outputs": [],
   "source": [
    "ROK_estim = target[\"ROK.Regr*estim\"] + b + a * target[\"Elevation\"]\n",
    "uid = target.addColumns(ROK_estim,\"KR.Temperature.estim\")"
   ]
  },
  {
   "cell_type": "code",
   "execution_count": null,
   "id": "4b60ecc7",
   "metadata": {
    "scrolled": true
   },
   "outputs": [],
   "source": [
    "ax = gp.grid(target, name=\"KR.T*estim\", title=\"Temperature with Residuals\", figsize=[10,10], aspect=1)\n",
    "ax = gp.point(dat,size_name=\"Temperature\", ax=ax, flagSizeLegend=False)"
   ]
  },
  {
   "cell_type": "markdown",
   "id": "e5430329",
   "metadata": {},
   "source": [
    "Correlation between Ordinary Kriging and CoKriging"
   ]
  },
  {
   "cell_type": "code",
   "execution_count": null,
   "id": "4580f5f4",
   "metadata": {},
   "outputs": [],
   "source": [
    "ax = gp.correlation(target, \"OK.T*estim\", \"COK.T*estim\", bissLine=True,\n",
    "                    xlabel=\"Ordinary Kriging\",ylabel=\"Ordinary CoKriging\")"
   ]
  },
  {
   "cell_type": "markdown",
   "id": "674f9c3e",
   "metadata": {},
   "source": [
    "Correlation between Ordinary Kriging and Kriging withResiduals"
   ]
  },
  {
   "cell_type": "code",
   "execution_count": null,
   "id": "68d76c3b",
   "metadata": {
    "scrolled": true
   },
   "outputs": [],
   "source": [
    "ax = gp.correlation(target, \"OK.T*estim\", \"KR.T*estim\", bissLine=True,\n",
    "                    xlabel=\"Ordinary Kriging\",ylabel=\"Kriging with Residuals\")"
   ]
  },
  {
   "cell_type": "markdown",
   "id": "32a2d513",
   "metadata": {},
   "source": [
    "Some statistics for comparison"
   ]
  },
  {
   "cell_type": "code",
   "execution_count": null,
   "id": "240f7e0f",
   "metadata": {
    "scrolled": true
   },
   "outputs": [],
   "source": [
    "gl.dbStatisticsPrint(target, [\"OK.T*estim\", \"UK.T*estim\", \"COK.T*estim\", \"KR.T*estim\"])"
   ]
  },
  {
   "cell_type": "markdown",
   "id": "88ad803b",
   "metadata": {},
   "source": [
    "## Using Elevation Map as External Drift"
   ]
  },
  {
   "cell_type": "markdown",
   "id": "7106f94b",
   "metadata": {},
   "source": [
    "Preparing the data bases"
   ]
  },
  {
   "cell_type": "code",
   "execution_count": null,
   "id": "22dabd8d",
   "metadata": {},
   "outputs": [],
   "source": [
    "dat.setLocator(\"Temperature\",gl.ELoc.Z,cleanSameLocator=True)\n",
    "dat.setLocator(\"Elevation\",gl.ELoc.F,cleanSameLocator=True)"
   ]
  },
  {
   "cell_type": "code",
   "execution_count": null,
   "id": "d2bbd344",
   "metadata": {},
   "outputs": [],
   "source": [
    "varioKED = gl.Vario(varioparam, dat)\n",
    "\n",
    "model = gl.Model.create()\n",
    "model.setDriftIRF(order=0, nfex=1)\n",
    "err = varioKED.compute(model=model)"
   ]
  },
  {
   "cell_type": "markdown",
   "id": "6f62d3cd",
   "metadata": {},
   "source": [
    "Comparing the Experimental variograms"
   ]
  },
  {
   "cell_type": "code",
   "execution_count": null,
   "id": "b337f8ae",
   "metadata": {
    "scrolled": true
   },
   "outputs": [],
   "source": [
    "axs = gp.vario(vario_raw2dir)\n",
    "axs = gp.vario(varioKED,axs=axs, linestyle='dashed')"
   ]
  },
  {
   "cell_type": "markdown",
   "id": "4732fd2b",
   "metadata": {},
   "source": [
    "Model of Residuals (External Drift)"
   ]
  },
  {
   "cell_type": "code",
   "execution_count": null,
   "id": "e65a4e4e",
   "metadata": {},
   "outputs": [],
   "source": [
    "modelKED = gl.Model()\n",
    "err = modelKED.fit(varioKED,types=[gl.ECov.NUGGET, gl.ECov.CUBIC, gl.ECov.GAUSSIAN])\n",
    "modelKED.setDriftIRF(order = 0, nfex = 1)"
   ]
  },
  {
   "cell_type": "markdown",
   "id": "4c5fe8cb",
   "metadata": {},
   "source": [
    "Cross-Validation with External Drift"
   ]
  },
  {
   "cell_type": "code",
   "execution_count": null,
   "id": "876ed802",
   "metadata": {
    "scrolled": true
   },
   "outputs": [],
   "source": [
    "err = gl.xvalid(dat, modelKED, unique_neigh, namconv=gl.NamingConvention(\"KED\",True,True,False))\n",
    "gl.dbStatisticsPrint(dat, [\"KED.Temperature.*\"])"
   ]
  },
  {
   "cell_type": "markdown",
   "id": "c2e1bfbb",
   "metadata": {},
   "source": [
    "Kriging with External Drift"
   ]
  },
  {
   "cell_type": "code",
   "execution_count": null,
   "id": "71a0a92b",
   "metadata": {},
   "outputs": [],
   "source": [
    "err = gl.kriging(dat, target, modelKED, unique_neigh, namconv=gl.NamingConvention(\"KED\"))"
   ]
  },
  {
   "cell_type": "markdown",
   "id": "51b3e554",
   "metadata": {},
   "source": [
    "Graphic representation"
   ]
  },
  {
   "cell_type": "code",
   "execution_count": null,
   "id": "fc2b8a60",
   "metadata": {
    "scrolled": false
   },
   "outputs": [],
   "source": [
    "ax = gp.grid(target, name=\"KED.T*estim\", title=\"Temperature with External Drift\", figsize=[10,10], aspect=1)\n",
    "ax = gp.point(dat,size_name=\"Temperature\", ax=ax, flagSizeLegend=False)"
   ]
  },
  {
   "cell_type": "markdown",
   "id": "6de308f7",
   "metadata": {},
   "source": [
    "Statistics on Kriging with Elevation as External Drift"
   ]
  },
  {
   "cell_type": "code",
   "execution_count": null,
   "id": "8135b2ad",
   "metadata": {
    "scrolled": true
   },
   "outputs": [],
   "source": [
    "gl.dbStatisticsPrint(target, [\"KED.T*\"])"
   ]
  },
  {
   "cell_type": "markdown",
   "id": "9fa7c96f",
   "metadata": {},
   "source": [
    "Comparing Ordinary Kriging and Kriging with External Drift"
   ]
  },
  {
   "cell_type": "code",
   "execution_count": null,
   "id": "0f34e791",
   "metadata": {
    "scrolled": true
   },
   "outputs": [],
   "source": [
    "ax = gp.correlation(target, \"OK.T*estim\", \"KED.T*estim\", bissLine=True,\n",
    "                    xlabel=\"Ordinary Kriging\",ylabel=\"Kriging with External Drift\")"
   ]
  },
  {
   "cell_type": "markdown",
   "id": "136fa87a",
   "metadata": {},
   "source": [
    "Note that negative Estimates are present when using External Drift."
   ]
  },
  {
   "cell_type": "markdown",
   "id": "0ab03d27",
   "metadata": {},
   "source": [
    "## Summary of Cross-validation scores"
   ]
  },
  {
   "cell_type": "markdown",
   "id": "d5cc65a2",
   "metadata": {},
   "source": [
    "Statistics on the cross-validation Mean Squared Errors (for Temperature)"
   ]
  },
  {
   "cell_type": "code",
   "execution_count": null,
   "id": "3b370a39",
   "metadata": {
    "scrolled": true
   },
   "outputs": [],
   "source": [
    "gl.dbStatisticsPrint(dat, [\"*T*.esterr\"])"
   ]
  },
  {
   "cell_type": "markdown",
   "id": "71dae469",
   "metadata": {},
   "source": [
    "Statistics on the various estimates"
   ]
  },
  {
   "cell_type": "code",
   "execution_count": null,
   "id": "84bd3ceb",
   "metadata": {
    "scrolled": true
   },
   "outputs": [],
   "source": [
    "gl.dbStatisticsPrint(target, [\"*.Temperature.estim\"])"
   ]
  },
  {
   "cell_type": "markdown",
   "id": "4b5a802b",
   "metadata": {},
   "source": [
    "Statistics on the various standard deviation of estimation errors"
   ]
  },
  {
   "cell_type": "code",
   "execution_count": null,
   "id": "26a6a8d1",
   "metadata": {},
   "outputs": [],
   "source": [
    "gl.dbStatisticsPrint(target, [\"*.Temperature.stdev\"])"
   ]
  }
 ],
 "metadata": {
  "kernelspec": {
   "display_name": "Python 3 (ipykernel)",
   "language": "python",
   "name": "python3"
  },
  "language_info": {
   "codemirror_mode": {
    "name": "ipython",
    "version": 3
   },
   "file_extension": ".py",
   "mimetype": "text/x-python",
   "name": "python",
   "nbconvert_exporter": "python",
   "pygments_lexer": "ipython3",
   "version": "3.10.5"
  }
 },
 "nbformat": 4,
 "nbformat_minor": 5
}
