{
 "cells": [
  {
   "cell_type": "markdown",
   "id": "b31aa74b",
   "metadata": {},
   "source": [
    "# PluriGaussian simulations"
   ]
  },
  {
   "cell_type": "markdown",
   "id": "70823c1a",
   "metadata": {},
   "source": [
    "<!-- SUMMARY: Categorical Simulations using PluriGaussian model. Automatic model fitting. Connectivity test (using acceptation-rejection technique)  -->\n",
    "\n",
    "<!-- CATEGORY: Courses -->"
   ]
  },
  {
   "cell_type": "code",
   "execution_count": null,
   "id": "a48d5b75",
   "metadata": {},
   "outputs": [],
   "source": [
    "import gstlearn as gl\n",
    "import gstlearn.plot as gp\n",
    "import gstlearn.document as gdoc\n",
    "import matplotlib.pyplot as plt\n",
    "from matplotlib.colors import ListedColormap\n",
    "import numpy as np\n",
    "import os\n",
    "\n",
    "gdoc.setNoScroll()"
   ]
  },
  {
   "cell_type": "markdown",
   "id": "467a5412",
   "metadata": {},
   "source": [
    "Defining some essential parameters:"
   ]
  },
  {
   "cell_type": "code",
   "execution_count": null,
   "id": "d2be8cdd",
   "metadata": {},
   "outputs": [],
   "source": [
    "ndim = 2\n",
    "gl.defineDefaultSpace(gl.ESpaceType.RN, ndim);\n",
    "\n",
    "nbsimu = 20\n",
    "nbcc   = 4\n",
    "cmap   = ListedColormap(['red', 'blue', 'yellow'])\n",
    "figsize = (8,6)"
   ]
  },
  {
   "cell_type": "markdown",
   "id": "8e326b6f",
   "metadata": {},
   "source": [
    "Downloading the data base (from the distribution **Data.NF**) "
   ]
  },
  {
   "cell_type": "code",
   "execution_count": null,
   "id": "5ec5a864",
   "metadata": {},
   "outputs": [],
   "source": [
    "path_nf = gdoc.loadData(\"PluriGaussian\", \"Data.NF\")\n",
    "data = gl.Db.createFromNF(path_nf)"
   ]
  },
  {
   "cell_type": "markdown",
   "id": "ee79e2f3",
   "metadata": {},
   "source": [
    "Creating the output Grid, the Model (Cubic) and the Neighborhood (Unique):"
   ]
  },
  {
   "cell_type": "code",
   "execution_count": null,
   "id": "3b576c66",
   "metadata": {},
   "outputs": [],
   "source": [
    "grid = gl.DbGrid.create(nx=[110,110])\n",
    "\n",
    "model = gl.Model.createFromParam(type=gl.ECov.CUBIC, ranges=[50,30])\n",
    "\n",
    "neigh = gl.NeighUnique()"
   ]
  },
  {
   "cell_type": "markdown",
   "id": "44e9373a",
   "metadata": {},
   "source": [
    "##### Displaying Data:\n",
    "\n",
    "Samples are represented with a different color per **facies**:\n",
    "- first facies in *red*\n",
    "- second facies in *blue*\n",
    "- third facies in *yellow*\n",
    "\n",
    "Samples which must belong to the same connected component (see variable **connect**) are displayed with large symbols."
   ]
  },
  {
   "cell_type": "code",
   "execution_count": null,
   "id": "1944bbdf",
   "metadata": {},
   "outputs": [],
   "source": [
    "data"
   ]
  },
  {
   "cell_type": "code",
   "execution_count": null,
   "id": "43244f4c",
   "metadata": {},
   "outputs": [],
   "source": [
    "fig,ax = plt.subplots(figsize = figsize)\n",
    "ax.geometry(aspect=1)\n",
    "ax.symbol(data, nameColor=\"facies\", nameSize=\"connect\", \n",
    "               edgecolors='black', sizmin=40, cmap=cmap)\n",
    "ax.decoration(title=\"Conditioning Information\")"
   ]
  },
  {
   "cell_type": "markdown",
   "id": "6525e59c",
   "metadata": {},
   "source": [
    "Creating Proportions and Lithotype Rule"
   ]
  },
  {
   "cell_type": "code",
   "execution_count": null,
   "id": "3e7f6bd4",
   "metadata": {},
   "outputs": [],
   "source": [
    "props = gl.dbStatisticsFacies(data)\n",
    "rule = gl.Rule.createFromNames([\"S\",\"S\",\"F1\",\"F2\",\"F3\"])"
   ]
  },
  {
   "cell_type": "code",
   "execution_count": null,
   "id": "c5b86ff6",
   "metadata": {},
   "outputs": [],
   "source": [
    "gp.plot(rule, proportions = props, cmap=cmap)\n",
    "gp.decoration(title=\"Lithotype Rule\")"
   ]
  },
  {
   "cell_type": "markdown",
   "id": "3c6e4295",
   "metadata": {},
   "source": [
    "Calculate the Experimental Variogram of the Underlying Gaussian Random Function and fit the Model (used in PGS)."
   ]
  },
  {
   "cell_type": "code",
   "execution_count": null,
   "id": "58b99df9",
   "metadata": {},
   "outputs": [],
   "source": [
    "varioparam = gl.VarioParam.createOmniDirection(dlag=5, nlag=20)\n",
    "ruleprop = gl.RuleProp.createFromRule(rule, props)\n",
    "vario = gl.variogram_pgs(data, varioparam, ruleprop)\n",
    "\n",
    "model_gaus = gl.Model()\n",
    "err = model_gaus.fit(vario, types=[gl.ECov.CUBIC], constraints=gl.Constraints(1.))"
   ]
  },
  {
   "cell_type": "code",
   "execution_count": null,
   "id": "d287fed5",
   "metadata": {},
   "outputs": [],
   "source": [
    "res = gp.varmod(vario, model_gaus, asCov=True)"
   ]
  },
  {
   "cell_type": "markdown",
   "id": "9c29c83d",
   "metadata": {},
   "source": [
    "PluriGaussian Simulation"
   ]
  },
  {
   "cell_type": "code",
   "execution_count": null,
   "id": "6c5f0d01",
   "metadata": {},
   "outputs": [],
   "source": [
    "err = gl.simpgs(data, grid, ruleprop, model_gaus, None, neigh, nbsimu=nbsimu,\n",
    "                namconv = gl.NamingConvention(\"SimuPGS\"))"
   ]
  },
  {
   "cell_type": "markdown",
   "id": "e64ec19d",
   "metadata": {},
   "source": [
    "Show several simulation outcomes"
   ]
  },
  {
   "cell_type": "code",
   "execution_count": null,
   "id": "dfc6cc6b",
   "metadata": {},
   "outputs": [],
   "source": [
    "fig, axs = plt.subplots(2,3,figsize=(20,10))\n",
    "axs[0,0].raster(grid,\"SimuPGS.1\", cmap=cmap)\n",
    "axs[0,0].symbol(data,nameColor=\"facies\", nameSize=\"connect\", edgecolors='black', \n",
    "                  sizmin=20, cmap=cmap)\n",
    "axs[0,1].raster(grid,\"SimuPGS.2\", cmap=cmap)\n",
    "axs[0,1].symbol(data,nameColor=\"facies\", nameSize=\"connect\", edgecolors='black', \n",
    "                  sizmin=20, cmap=cmap)\n",
    "axs[0,2].raster(grid,\"SimuPGS.4\", cmap=cmap)\n",
    "axs[0,2].symbol(data,nameColor=\"facies\", nameSize=\"connect\", edgecolors='black', \n",
    "                  sizmin=20, cmap=cmap)\n",
    "axs[1,0].raster(grid,\"SimuPGS.6\", cmap=cmap)\n",
    "axs[1,0].symbol(data,nameColor=\"facies\", nameSize=\"connect\", edgecolors='black', \n",
    "                  sizmin=20, cmap=cmap)\n",
    "axs[1,1].raster(grid,\"SimuPGS.10\", cmap=cmap)\n",
    "axs[1,1].symbol(data,nameColor=\"facies\", nameSize=\"connect\", edgecolors='black', \n",
    "                  sizmin=20, cmap=cmap)\n",
    "axs[1,2].raster(grid,\"SimuPGS.11\", cmap=cmap)\n",
    "axs[1,2].symbol(data,nameColor=\"facies\", nameSize=\"connect\", edgecolors='black', \n",
    "                  sizmin=20, cmap=cmap)\n",
    "fig.subplots_adjust(right=0.7)"
   ]
  },
  {
   "cell_type": "markdown",
   "id": "0d27f878",
   "metadata": {},
   "source": [
    "Define an Acceptation-Rejection function\n",
    "\n",
    "Acceptation internal function: For a given simulation outcome\n",
    "\n",
    "- Select the **Target Facies** and build its Connected Components,\n",
    "- Read the indices of the connected component(s) at constraining wells,\n",
    "- Return the score: **True** if these indices are similar and **False** otherwise."
   ]
  },
  {
   "cell_type": "code",
   "execution_count": null,
   "id": "b8aca3b8",
   "metadata": {},
   "outputs": [],
   "source": [
    "def accept(data, grid, name, verbose=False, transBinary=True, faccc=2):\n",
    "    \n",
    "    # Get the indices of samples which should be connected (starting from 0)\n",
    "    rankData = [i for i in range(data.getNSample()) if data[i,\"connect\"] > 0]\n",
    "    rankGrid = grid.locateDataInGrid(data, rankData)\n",
    "    if verbose:\n",
    "        print(\"Number of conditioning data =\",len(rankData))\n",
    "        print(\"Their ranks in the input Data Base =\",rankData)\n",
    "        print(\"Their ranks in the output Data Base =\",rankGrid)\n",
    "    \n",
    "    # Perform the labelling into connected components\n",
    "    grid.setLocator(name, gl.ELoc.Z, cleanSameLocator=True)\n",
    "    err = gl.dbMorpho(grid, gl.EMorpho.CC, vmin=faccc-0.5, vmax=faccc+0.5)\n",
    "    cc_list = grid[rankGrid,\"Morpho*\"]\n",
    "    if verbose:\n",
    "        print(\"List of their connected components indices =\",cc_list)\n",
    "\n",
    "    # Check that the data points belong to the same connected component\n",
    "    number = len(np.unique(cc_list))\n",
    "    return_val = (number == 1)\n",
    "    if verbose:\n",
    "        print(\"Acceptation score =\",return_val)\n",
    "        \n",
    "    # Convert the valid Simulation outcome into a binary image\n",
    "    if return_val and transBinary:\n",
    "        grid[name] = grid[\"Morpho*\"] == cc_list[0]\n",
    "    \n",
    "    grid.deleteColumn(\"Morpho*\")\n",
    "    return return_val"
   ]
  },
  {
   "cell_type": "markdown",
   "id": "42474ebc",
   "metadata": {},
   "source": [
    "Check the acceptation / rejection function on the Simulation outcome #1."
   ]
  },
  {
   "cell_type": "code",
   "execution_count": null,
   "id": "ad30ac52",
   "metadata": {},
   "outputs": [],
   "source": [
    "isValid = accept(data, grid, \"SimuPGS.1\", verbose=True, transBinary=False)"
   ]
  },
  {
   "cell_type": "markdown",
   "id": "8c3fa0a6",
   "metadata": {},
   "source": [
    "Check the acceptation function on all simulation outcomes"
   ]
  },
  {
   "cell_type": "code",
   "execution_count": null,
   "id": "7ae62cc0",
   "metadata": {},
   "outputs": [],
   "source": [
    "for i in range(nbsimu):\n",
    "    name = \"SimuPGS.\" + str(i+1)\n",
    "    isValid = accept(data, grid, name, False)\n",
    "    if not isValid:\n",
    "        grid.deleteColumn(name)\n",
    "    else:\n",
    "        print(\"Simulation \",name,\"is valid\")"
   ]
  },
  {
   "cell_type": "markdown",
   "id": "46b0b116",
   "metadata": {},
   "source": [
    "Derive the Probability Map"
   ]
  },
  {
   "cell_type": "code",
   "execution_count": null,
   "id": "6a50d16a",
   "metadata": {},
   "outputs": [],
   "source": [
    "grid.statisticsBySample([\"SimuPGS*\"],[gl.EStatOption.MEAN])"
   ]
  },
  {
   "cell_type": "code",
   "execution_count": null,
   "id": "c5e12315",
   "metadata": {},
   "outputs": [],
   "source": [
    "fig,ax = plt.subplots(figsize = figsize)\n",
    "ax.geometry(aspect=1)\n",
    "ax.raster(grid, \"Stats.MEAN\")\n",
    "ax.symbol(data, nameColor=\"facies\", nameSize=\"connect\", edgecolors='black', sizmin=20, \n",
    "               cmap=cmap)\n",
    "ax.decoration(title=\"Probability of Connecting Wells\")"
   ]
  }
 ],
 "metadata": {
  "kernelspec": {
   "display_name": "Python 3 (ipykernel)",
   "language": "python",
   "name": "python3"
  },
  "language_info": {
   "codemirror_mode": {
    "name": "ipython",
    "version": 3
   },
   "file_extension": ".py",
   "mimetype": "text/x-python",
   "name": "python",
   "nbconvert_exporter": "python",
   "pygments_lexer": "ipython3",
   "version": "3.10.5"
  },
  "toc": {
   "base_numbering": 1,
   "nav_menu": {},
   "number_sections": true,
   "sideBar": true,
   "skip_h1_title": false,
   "title_cell": "Table of Contents",
   "title_sidebar": "Contents",
   "toc_cell": false,
   "toc_position": {},
   "toc_section_display": true,
   "toc_window_display": false
  }
 },
 "nbformat": 4,
 "nbformat_minor": 5
}
