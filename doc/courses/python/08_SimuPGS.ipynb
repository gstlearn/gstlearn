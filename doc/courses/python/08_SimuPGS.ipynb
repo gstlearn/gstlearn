{
 "cells": [
  {
   "cell_type": "markdown",
   "id": "7b5447e6",
   "metadata": {},
   "source": [
    "# PluriGaussian simulations"
   ]
  },
  {
   "cell_type": "code",
   "execution_count": null,
   "id": "4a88fcd6",
   "metadata": {},
   "outputs": [],
   "source": [
    "%%javascript\n",
    "IPython.OutputArea.prototype._should_scroll = function(lines) {\n",
    "    return false;\n",
    "}"
   ]
  },
  {
   "cell_type": "code",
   "execution_count": null,
   "id": "145a5aa5",
   "metadata": {},
   "outputs": [],
   "source": [
    "import gstlearn as gl\n",
    "import gstlearn.plot as gp\n",
    "import matplotlib.pyplot as plt\n",
    "from matplotlib.colors import ListedColormap\n",
    "import numpy as np\n",
    "import os"
   ]
  },
  {
   "cell_type": "markdown",
   "id": "51eae41f",
   "metadata": {},
   "source": [
    "Defining some essential parameters:"
   ]
  },
  {
   "cell_type": "code",
   "execution_count": null,
   "id": "1dfc22a3",
   "metadata": {},
   "outputs": [],
   "source": [
    "ndim = 2\n",
    "gl.defineDefaultSpace(gl.ESpaceType.RN, ndim);\n",
    "\n",
    "nbsimu = 10\n",
    "nbcc   = 4\n",
    "faccc  = 2\n",
    "cmap   = ListedColormap(['red', 'blue', 'yellow'])"
   ]
  },
  {
   "cell_type": "markdown",
   "id": "e9abe7e0",
   "metadata": {},
   "source": [
    "Downloading the data base (from the distribution **Data.NF**) "
   ]
  },
  {
   "cell_type": "code",
   "execution_count": null,
   "id": "3202099d",
   "metadata": {},
   "outputs": [],
   "source": [
    "fileNF = os.path.join(os.getenv('GSTLEARN_DATA'), \"PluriGaussian\", \"Data.NF\")\n",
    "data = gl.Db.createFromNF(fileNF)"
   ]
  },
  {
   "cell_type": "markdown",
   "id": "bda2d30a",
   "metadata": {},
   "source": [
    "Creating the output Grid, the Model (Cubic) and the Neighborhood (Unique):"
   ]
  },
  {
   "cell_type": "code",
   "execution_count": null,
   "id": "54ebc210",
   "metadata": {},
   "outputs": [],
   "source": [
    "grid = gl.DbGrid.create(nx=[110,110])\n",
    "\n",
    "model = gl.Model.createFromParam(type=gl.ECov.CUBIC, ranges=[50,30])\n",
    "\n",
    "neigh = gl.NeighUnique()"
   ]
  },
  {
   "cell_type": "markdown",
   "id": "f30e1bcb",
   "metadata": {},
   "source": [
    "##### Displaying Data:\n",
    "\n",
    "Samples are represented with a different color per **facies**:\n",
    "- first facies in *red*\n",
    "- second facies in *blue*\n",
    "- third facies in *yellow*\n",
    "\n",
    "Samples which must belong to the same connected component (see variable **connect**) are displayed with large symbols."
   ]
  },
  {
   "cell_type": "code",
   "execution_count": null,
   "id": "c4739477",
   "metadata": {},
   "outputs": [],
   "source": [
    "data"
   ]
  },
  {
   "cell_type": "code",
   "execution_count": null,
   "id": "88d2f4e5",
   "metadata": {
    "scrolled": false
   },
   "outputs": [],
   "source": [
    "ax = gp.point(data, color_name=\"facies\", size_name=\"connect\", \n",
    "              flagColorBar=False, flagSizeLegend=False, edgecolors='black', sizmin=40,\n",
    "              cmap=cmap, aspect=1, figsize=[6,6], title=\"Conditioning Information\")"
   ]
  },
  {
   "cell_type": "markdown",
   "id": "1114da1c",
   "metadata": {},
   "source": [
    "Creating Proportions and Lithotype Rule"
   ]
  },
  {
   "cell_type": "code",
   "execution_count": null,
   "id": "d9bf7189",
   "metadata": {},
   "outputs": [],
   "source": [
    "props = gl.dbStatisticsFacies(data)\n",
    "rule = gl.Rule.createFromNames([\"S\",\"S\",\"F1\",\"F2\",\"F3\"])"
   ]
  },
  {
   "cell_type": "code",
   "execution_count": null,
   "id": "27626408",
   "metadata": {
    "scrolled": false
   },
   "outputs": [],
   "source": [
    "ax = gp.rule(rule, proportions = props, cmap=cmap, xlim=[-3,3], title=\"Lithotype Rule\")"
   ]
  },
  {
   "cell_type": "markdown",
   "id": "f8f8aa5f",
   "metadata": {},
   "source": [
    "Calculate the Experimental Variogram of the Underlying Gaussian Random Function and fit the Model (used in PGS)."
   ]
  },
  {
   "cell_type": "code",
   "execution_count": null,
   "id": "34e09ee6",
   "metadata": {
    "scrolled": true
   },
   "outputs": [],
   "source": [
    "varioparam = gl.VarioParam.createOmniDirection(dpas=5, npas=20)\n",
    "ruleprop = gl.RuleProp.createFromRule(rule, props)\n",
    "vario = gl.variogram_pgs(data, varioparam, ruleprop)\n",
    "\n",
    "model_gaus = gl.Model()\n",
    "err = model_gaus.fit(vario, types=[gl.ECov.CUBIC], constraints=gl.Constraints(1.))"
   ]
  },
  {
   "cell_type": "code",
   "execution_count": null,
   "id": "bd065e3d",
   "metadata": {
    "scrolled": true
   },
   "outputs": [],
   "source": [
    "ax = gp.varmod(vario, model_gaus, asCov=True)"
   ]
  },
  {
   "cell_type": "markdown",
   "id": "7a181073",
   "metadata": {},
   "source": [
    "PluriGaussian Simulation"
   ]
  },
  {
   "cell_type": "code",
   "execution_count": null,
   "id": "6c39d528",
   "metadata": {},
   "outputs": [],
   "source": [
    "err = gl.simpgs(data, grid, ruleprop, model_gaus, None, neigh, nbsimu=nbsimu,\n",
    "                namconv = gl.NamingConvention(\"SimuPGS\"))"
   ]
  },
  {
   "cell_type": "markdown",
   "id": "02c2e01a",
   "metadata": {},
   "source": [
    "Show several simulation outcomes"
   ]
  },
  {
   "cell_type": "code",
   "execution_count": null,
   "id": "f0af6346",
   "metadata": {
    "scrolled": false
   },
   "outputs": [],
   "source": [
    "fig = plt.figure(figsize=(20,8))\n",
    "ax1 = fig.add_subplot(1,3,1)\n",
    "gp.grid(grid,name=\"SimuPGS.1\", cmap=cmap, flagColorBar = False, \n",
    "        ax=ax1, aspect=1, end_plot=False)\n",
    "gp.point(data, color_name=\"facies\", size_name=\"connect\", edgecolors='black', sizmin=20,\n",
    "         flagColorBar=False, flagSizeLegend=False, cmap=cmap, ax=ax1)\n",
    "ax2 = fig.add_subplot(1,3,2)\n",
    "gp.grid(grid,name=\"SimuPGS.2\", cmap=cmap, flagColorBar = False, \n",
    "        ax=ax2, aspect=1, end_plot=False)\n",
    "gp.point(data, color_name=\"facies\", size_name=\"connect\", edgecolors='black', sizmin=20,\n",
    "         flagColorBar=False, flagSizeLegend=False, cmap=cmap, ax=ax2)\n",
    "ax3 = fig.add_subplot(1,3,3)\n",
    "gp.grid(grid,name=\"SimuPGS.3\", cmap=cmap, flagColorBar = False, \n",
    "        ax=ax3, aspect=1, end_plot=False)\n",
    "gp.point(data, color_name=\"facies\", size_name=\"connect\", edgecolors='black', sizmin=20,\n",
    "         flagColorBar=False, flagSizeLegend=False, cmap=cmap, ax=ax3)\n",
    "fig.subplots_adjust(right=0.7)"
   ]
  },
  {
   "cell_type": "markdown",
   "id": "86479235",
   "metadata": {},
   "source": [
    "Define an Acceptation-Rejection function\n",
    "\n",
    "Acceptation internal function: For a given simulation outcome\n",
    "\n",
    "- Select the **Target Facies** and build its Connected Components,\n",
    "- Read the indices of the connected component(s) at constraining wells,\n",
    "- Return the score: **True** if these indices are similar and **False** otherwise."
   ]
  },
  {
   "cell_type": "code",
   "execution_count": null,
   "id": "633c48d5",
   "metadata": {},
   "outputs": [],
   "source": [
    "def accept(data, grid, name, verbose=False, transBinary=True):\n",
    "    \n",
    "    # Get the indices of samples which should be connected (starting from 0)\n",
    "    rankData = [i for i in range(data.getSampleNumber()) if data[i,\"connect\"] > 0]\n",
    "    rankGrid = grid.locateDataInGrid(grid, data, rankData)\n",
    "    if verbose:\n",
    "        print(\"Number of conditioning data =\",len(rankData))\n",
    "        print(\"Their ranks in the input Data Base =\",rankData)\n",
    "        print(\"Their ranks in the output Data Base =\",rankGrid)\n",
    "    \n",
    "    # Perform the labelling into conencted components\n",
    "    grid.setLocator(name, gl.ELoc.Z, cleanSameLocator=True)\n",
    "    err = gl.dbMorpho(grid, gl.EMorpho.CC, vmin=faccc-0.5, vmax=faccc+0.5)\n",
    "    cc_list = grid[rankGrid,\"Morpho*\"]\n",
    "    if verbose:\n",
    "        print(\"List of their connect components indices =\",cc_list[:,0])\n",
    "\n",
    "    # Check that the data points belong to the same connected component\n",
    "    number = len(np.unique(cc_list))\n",
    "    return_val = (number == 1)\n",
    "    if verbose:\n",
    "        print(\"Acceptation score =\",return_val)\n",
    "        \n",
    "    # Convert the valid Simulation outcome into a binary image\n",
    "    if return_val and transBinary:\n",
    "        grid[:,name] = grid[:,\"Morpho*\"] == cc_list[0][0]\n",
    "    \n",
    "    grid.deleteColumn(\"Morpho*\")\n",
    "    return return_val"
   ]
  },
  {
   "cell_type": "markdown",
   "id": "bb8157f5",
   "metadata": {},
   "source": [
    "Check the acceptation / rejection function on the Simulation outcome #1."
   ]
  },
  {
   "cell_type": "code",
   "execution_count": null,
   "id": "bd385687",
   "metadata": {
    "scrolled": true
   },
   "outputs": [],
   "source": [
    "isValid = accept(data, grid, \"SimuPGS.1\", verbose=True, transBinary=False)"
   ]
  },
  {
   "cell_type": "markdown",
   "id": "92c64d54",
   "metadata": {},
   "source": [
    "Check the acceptation function on all simulation outcomes"
   ]
  },
  {
   "cell_type": "code",
   "execution_count": null,
   "id": "709c8f04",
   "metadata": {
    "scrolled": false
   },
   "outputs": [],
   "source": [
    "for i in range(nbsimu):\n",
    "    name = \"SimuPGS.\" + str(i+1)\n",
    "    isValid = accept(data, grid, name, False)\n",
    "    if not isValid:\n",
    "        grid.deleteColumn(name)\n",
    "    else:\n",
    "        print(\"Simulation \",name,\"is valid\")"
   ]
  },
  {
   "cell_type": "markdown",
   "id": "e816d81e",
   "metadata": {},
   "source": [
    "Derive the Probability Map"
   ]
  },
  {
   "cell_type": "code",
   "execution_count": null,
   "id": "8fd5cf9e",
   "metadata": {},
   "outputs": [],
   "source": [
    "err = grid.statistics([\"SimuPGS*\"],[gl.EStatOption.MEAN], flagStoreInDb=True)"
   ]
  },
  {
   "cell_type": "code",
   "execution_count": null,
   "id": "df2de08e",
   "metadata": {
    "scrolled": true
   },
   "outputs": [],
   "source": [
    "ax = gp.grid(grid,name=\"Stats.MEAN\", aspect=1, figsize=[6,6],\n",
    "            title=\"Probability of Connecting Wells\")\n",
    "ax = gp.point(data, color_name=\"facies\", size_name=\"connect\", edgecolors='black', sizmin=20,\n",
    "         flagColorBar=False, flagSizeLegend=False, cmap=cmap, ax=ax)"
   ]
  }
 ],
 "metadata": {
  "kernelspec": {
   "display_name": "Python 3 (ipykernel)",
   "language": "python",
   "name": "python3"
  },
  "language_info": {
   "codemirror_mode": {
    "name": "ipython",
    "version": 3
   },
   "file_extension": ".py",
   "mimetype": "text/x-python",
   "name": "python",
   "nbconvert_exporter": "python",
   "pygments_lexer": "ipython3",
   "version": "3.10.5"
  }
 },
 "nbformat": 4,
 "nbformat_minor": 5
}
