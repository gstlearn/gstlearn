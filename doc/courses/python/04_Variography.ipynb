{
 "cells": [
  {
   "cell_type": "markdown",
   "id": "7718c2a8",
   "metadata": {},
   "source": [
    "# Variography"
   ]
  },
  {
   "cell_type": "markdown",
   "id": "afb969bb",
   "metadata": {},
   "source": [
    "<!-- SUMMARY: Calculate variograms on one or several variables of a Db, for any space dimension. Fit a Model (automatic procedure)  -->\n",
    "\n",
    "<!-- CATEGORY: Courses -->"
   ]
  },
  {
   "cell_type": "markdown",
   "id": "9cf4315c",
   "metadata": {},
   "source": [
    "In this preamble, we load the **gstlearn** library."
   ]
  },
  {
   "cell_type": "code",
   "execution_count": null,
   "id": "38da96f8",
   "metadata": {},
   "outputs": [],
   "source": [
    "%%javascript\n",
    "IPython.OutputArea.prototype._should_scroll = function(lines) {\n",
    "    return false;\n",
    "}"
   ]
  },
  {
   "cell_type": "markdown",
   "id": "159fc5d5",
   "metadata": {},
   "source": [
    "## Preamble"
   ]
  },
  {
   "cell_type": "code",
   "execution_count": null,
   "id": "145a5aa5",
   "metadata": {},
   "outputs": [],
   "source": [
    "import gstlearn as gl\n",
    "import gstlearn.plot as gp\n",
    "import matplotlib.pyplot as plt\n",
    "import numpy as np\n",
    "import os\n",
    "import urllib.request\n",
    "\n",
    "flagInternetAvailable = True ## Set to false if no internet"
   ]
  },
  {
   "cell_type": "markdown",
   "id": "bdc05961",
   "metadata": {},
   "source": [
    "Then the necessary data set is downloaded and named **dat**: the target variable is **January_temp**"
   ]
  },
  {
   "cell_type": "code",
   "execution_count": null,
   "id": "2f094a81",
   "metadata": {},
   "outputs": [],
   "source": [
    "fileNF='Scotland_Temperatures.NF'\n",
    "if flagInternetAvailable:\n",
    "    temp_nf, head = urllib.request.urlretrieve('https://soft.minesparis.psl.eu/gstlearn/data/Scotland/'+fileNF,'./'+fileNF)\n",
    "else:\n",
    "    temp_nf='./'+fileNF\n",
    "\n",
    "dat = gl.Db.createFromNF(temp_nf)"
   ]
  },
  {
   "cell_type": "markdown",
   "id": "a8aeb795",
   "metadata": {},
   "source": [
    "## Variogram Cloud"
   ]
  },
  {
   "cell_type": "markdown",
   "id": "9a7619af",
   "metadata": {},
   "source": [
    "The data is modeled as *samples of a regionalized* variable $z$, i.e. as evaluations at locations $x_1,..,x_n$ of a variable $z$ defined across a spatial domain: \n",
    "$$\\lbrace z_i = z(x_i) : i = 1, ..., n\\rbrace.$$\n",
    "\n",
    "The variogram cloud is the set of pair of points defined as\n",
    "$$ \\big\\lbrace \\big( \\Vert x_i - x_j\\Vert,  \\big\\vert z(x_i)-z(x_j)\\big\\vert^2 \\big) \\quad\\text{where}\\quad 1\\le i\\le j\\le n \\big\\rbrace $$\n",
    "\n",
    "In **gstlearn**, variogram clouds are computed as grids. We compute the variogram cloud of the dataset, i.e. "
   ]
  },
  {
   "cell_type": "code",
   "execution_count": null,
   "id": "f2490da3",
   "metadata": {},
   "outputs": [],
   "source": [
    "varioParamOmni = gl.VarioParam.createOmniDirection(100)\n",
    "grid_cloud = gl.db_variogram_cloud(dat, varioParamOmni)\n",
    "grid_cloud.display()"
   ]
  },
  {
   "cell_type": "code",
   "execution_count": null,
   "id": "83840c15",
   "metadata": {},
   "outputs": [],
   "source": [
    "ax = grid_cloud.plot(\"Cloud.January*\")\n",
    "plt.gca().set_aspect('100')\n",
    "ax.decoration(title=\"Variogram Cloud\")"
   ]
  },
  {
   "cell_type": "markdown",
   "id": "bf9af3b3",
   "metadata": {},
   "source": [
    "## Experimental (isotropic) variograms\n",
    "\n",
    "The experimental (isotropic) variogram $\\gamma$ is a  function defined as\n",
    "\n",
    "$$\\gamma(h)=\\frac{1}{2\\vert N(h)\\vert}\\sum_{(i,j) \\in N(h)}\\big\\vert z(x_i)-z(x_j)\\big\\vert^2, \\quad h\\ge 0,$$\n",
    "\n",
    "where $N(h)$ is set of all pairs of data points separated by a distance $h$ (called *lag*):\n",
    "$$ N(h) = \\bigg\\lbrace (i,j) : \\Vert x_j-x_i\\Vert = h\\bigg\\rbrace_{1\\le i\\le j\\le n},$$\n",
    "\n",
    "and $\\vert N(h)\\vert$ is the cardinal of $N(h)$. In practice, when computing $\\gamma(h)$, we look for pairs of data points separated by a distance $h \\pm \\tau h$ where $\\tau > 0$ is a tolerance on the separation distance $h$. In other words, $N(h)$ is replaced by\n",
    "$$ \\widehat N(h) = \\bigg\\lbrace (i,j) : (1-\\tau)h \\le \\Vert x_j-x_i\\Vert \\le (1+\\tau) h\\bigg\\rbrace_{1\\le i\\le j\\le n}$$\n",
    "\n",
    "To compute an experimental variogram, we start by creating a `VarioParam` object containing the parameters of the variogram. This is done using the function `VarioParam_createOmniDirection`. We can specify the number of lags $h$ for which the experimental variogram is computed (argument `npas`), and the distance between these lags (argument `dpas`), as well as the tolerance $\\tau$ on the lags (argument `toldis`).\n",
    "\n",
    "Then, the experimental variogram is computed in two steps. First, a `Vario` object is initialized from the `VarioParam` object  and the `Db` containing the data points. Then, the values of the experimental variogram at the lags specified by  the `VarioParam` object  are computed using the method `compute` of the `Vario` object (which returns an error code, `0` meaning that no error was detected).\n",
    "\n",
    "Note : The variable $z$ for which we wish to define the experimental variogram should be the only variable in the `Db` with a `z` locator (i.e. it should have locator `z1` and the other variables should not have a locator starting with `z`). This can be done bu using the method `setLocator` of the `Db` object containing the data. If several variables with `z` locators are present in the `Db`, then cross-variograms between are also computed (this subject will be covered in the course on multivariate analysis). \n",
    "\n",
    "In the next example, we compute an experimental variogram with $40$ lags separated by a distance $10$ (meaning that we take $h =10i$ for $i=0, ..., 39$), and consider a tolerance $\\tau = 10\\%$ for the variogram computations. We use the `Db` `dat`, and select the variable `January_temp` as our variable of interest (by setting its locator to \"z\")."
   ]
  },
  {
   "cell_type": "code",
   "execution_count": null,
   "id": "b5a2a716",
   "metadata": {},
   "outputs": [],
   "source": [
    "varioParamOmni = gl.VarioParam.createOmniDirection(npas=40, dpas=10, toldis=0.1)\n",
    "\n",
    "dat.setLocator(\"January_temp\",gl.ELoc.Z)\n",
    "varioexp = gl.Vario(varioParamOmni, dat)\n",
    "err = varioexp.compute()"
   ]
  },
  {
   "cell_type": "markdown",
   "id": "25816ed7",
   "metadata": {},
   "source": [
    "We now print the contents of the newly created experimental variogram. The $40$ experimental variogram values are displayed (Columun `Value`), together with the number $\\vert \\widehat N(h)\\vert$ of pairs used to compute the value (Columun `Npairs`) and the average distance between the points forming these pairs (Column `Distance`)."
   ]
  },
  {
   "cell_type": "code",
   "execution_count": null,
   "id": "af433d1a",
   "metadata": {
    "scrolled": true
   },
   "outputs": [],
   "source": [
    "varioexp"
   ]
  },
  {
   "cell_type": "markdown",
   "id": "409ce884",
   "metadata": {},
   "source": [
    "We now plot the experimental variogram. In the resulting figure, the experimental variogram is plotted in blue, and the dashed blacked line corresponds to the value of the variance of the data."
   ]
  },
  {
   "cell_type": "code",
   "execution_count": null,
   "id": "a0ba09a9",
   "metadata": {
    "scrolled": true
   },
   "outputs": [],
   "source": [
    "gp.setDefault(dims=[6,6])\n",
    "gp.varmod(varioexp)\n",
    "plt.show()"
   ]
  },
  {
   "cell_type": "markdown",
   "id": "1cd6eb76",
   "metadata": {},
   "source": [
    "We can also adapt the size of experimental variogram points in the plot so that it is proportional to the number of pairs of points used to compute the value. "
   ]
  },
  {
   "cell_type": "code",
   "execution_count": null,
   "id": "498ad7c6",
   "metadata": {
    "scrolled": true
   },
   "outputs": [],
   "source": [
    "ax = gp.varmod(varioexp,showPairs=True)"
   ]
  },
  {
   "cell_type": "markdown",
   "id": "ca950cda",
   "metadata": {},
   "source": [
    "## Automatic Model Fitting"
   ]
  },
  {
   "cell_type": "markdown",
   "id": "4c6f4f4a",
   "metadata": {},
   "source": [
    "Fitting a variogram model on an experimental variogram is done in two steps. First, we create `Model` object. These objects aim at containing all the necessary information about the covariance structure of a random field. In particular, it is assumed that this covariance structure is a superposition of basic elementary covariance structures: the `Model` objects then contains the covariance types and parameters of each one of these basic covariance structures.\n",
    "\n",
    "In our case, we wish to build our `Model` object from an experimental variogram, meaning that we want to find a composition of basic covariance structures which would result in a variogram \"close\" to the experimental variogram that we computed from the data. This is done by calling the method `fit` of the `Model` object, while providing it with the experimental variogram.\n",
    "\n",
    "In the next example, we create a `Model` object, that we fit on the experimental variogram the we computed earlier. We then plot both the experimental variogram and the variogram model resulting from the fitting using the `plot.varmod` function. In the figure we obtain, In the figure above, the dashed blue line corresponds to the experimental variogram, and the solid blue line corresponds to the fitted variogram model."
   ]
  },
  {
   "cell_type": "code",
   "execution_count": null,
   "id": "7ff4d73a",
   "metadata": {
    "scrolled": true
   },
   "outputs": [],
   "source": [
    "fitmod = gl.Model()\n",
    "err = fitmod.fit(varioexp)"
   ]
  },
  {
   "cell_type": "code",
   "execution_count": null,
   "id": "9ec7d734",
   "metadata": {},
   "outputs": [],
   "source": [
    "gp.varmod(varioexp, fitmod)\n",
    "plt.show()"
   ]
  },
  {
   "cell_type": "markdown",
   "id": "99360a6a",
   "metadata": {},
   "source": [
    "We now print the content of our newly created model. As we can see, only one basic covariance structure is used to define the model (namely, a Spherical covariance function whose range and sill are printed)."
   ]
  },
  {
   "cell_type": "code",
   "execution_count": null,
   "id": "bad5b428",
   "metadata": {
    "scrolled": true
   },
   "outputs": [],
   "source": [
    "fitmod"
   ]
  },
  {
   "cell_type": "markdown",
   "id": "40ec468b",
   "metadata": {},
   "source": [
    "### Model Fitting with pre-defined basic structures"
   ]
  },
  {
   "cell_type": "markdown",
   "id": "a88fa6a8",
   "metadata": {},
   "source": [
    "It is also possible to guide the model fitting by proposing a list of basic covariance structures from which the model is to be built. The list of available basic covariance structures is obtained by running the following command:"
   ]
  },
  {
   "cell_type": "code",
   "execution_count": null,
   "id": "b4ae9037",
   "metadata": {
    "scrolled": true
   },
   "outputs": [],
   "source": [
    "gl.ECov.printAll()"
   ]
  },
  {
   "cell_type": "markdown",
   "id": "268441d5",
   "metadata": {},
   "source": [
    "In practice, we start by creating a list of basic structures using the `ECov_fromKeys` function which we supply with a vector containing the names of the basic structures we would like to see in the model. To fit the model, we then once again call the `fit` method and supply it with both the experimental variogram and the newly created list of basic structures (argument `types`). Then the fitting procedures tries find the composition of models from the supplied list that best fits the experimental variogram. \n",
    "\n",
    "Note that by default, the fitting algorithm tries to be parsimonious and can therefore \"drop\" some of the structures that we supply if it deems that a model with less structures provides a better fit. To force the fitting algorithm to keep all the structures from the list, we  simply need to add the argument `optvar=Option_VarioFit(TRUE)` to the `fit` method.\n",
    "\n",
    "In the next example, we once again define a model by fitting it on our experimental variogram. But this time, we specify that we want the resulting model to be a composition of basic structures restricted to these choices: a Nugget effect, a Cubic covariance and a Spherical covariance. "
   ]
  },
  {
   "cell_type": "code",
   "execution_count": null,
   "id": "2a324ab7",
   "metadata": {
    "scrolled": true
   },
   "outputs": [],
   "source": [
    "types = [gl.ECov.NUGGET, gl.ECov.CUBIC, gl.ECov.SPHERICAL]\n",
    "err = fitmod.fit(varioexp, types=types)"
   ]
  },
  {
   "cell_type": "code",
   "execution_count": null,
   "id": "5963ee16",
   "metadata": {},
   "outputs": [],
   "source": [
    "ax = gp.varmod(varioexp, fitmod)"
   ]
  },
  {
   "cell_type": "markdown",
   "id": "4f57ca72",
   "metadata": {},
   "source": [
    "When printing the contents of the model, we now notice that it consists of a superposition of a Cubic covariance and a Spherical covariance, as intended. Note that the Nugget effect does not appear (it has been dropped by the fitting algorithm)."
   ]
  },
  {
   "cell_type": "code",
   "execution_count": null,
   "id": "4fcd7e10",
   "metadata": {},
   "outputs": [],
   "source": [
    "fitmod"
   ]
  },
  {
   "cell_type": "markdown",
   "id": "d0b534da",
   "metadata": {},
   "source": [
    "### Model Fitting with constraints"
   ]
  },
  {
   "cell_type": "markdown",
   "id": "ae53f082",
   "metadata": {},
   "source": [
    "It is possible to impose (in)equality constraints on the covariance parameters of the basic structures used in the model fitting procedure. This is done by creating a `Constraints` object that is used to specify the constraints we wish to impose on the parameters of the different basic structures composing the model. To add a constraint to the object, we can use the method `addItemFromParamId`, which takes as arguments the type of parameter for which the constraint applies (given as an `EConsElem` object: run `EConsElem_printAll()` for the list of available options), the index of the basic structure for which the constraint applies (argument `icov`), the type of constraint we wish to apply (argument `type`, given as an `EConsType` object: run `EConsType_printAll()` for the list of available options) and finally the numerical value (argument `value`) defining the constraint.\n",
    "\n",
    "In the next example, we start from a list of three basic structures (a Nugget effect, a Cubic covariance and a Spherical covariance), and create a `Constraints` object conatining two constrainits. The first one applies to the basic structure of index $1$ (the cubic structure), and sets an upper-bound of $20$ for its range. The second one also applies to the basic structure of index $1$ (the cubic structure), and sets an lower-bound of $0.03$ for its sill. Finally, the `fit` method is called to fit the model on the experimental variogram. Note that we also added the option `optvar=Option_VarioFit(TRUE)` to force the fitting algorithm to keep the three basic structures that we supplied."
   ]
  },
  {
   "cell_type": "code",
   "execution_count": null,
   "id": "6a6ecd77",
   "metadata": {
    "scrolled": true
   },
   "outputs": [],
   "source": [
    "types = gl.ECov.fromKeys([\"NUGGET\",\"CUBIC\",\"SPHERICAL\"])\n",
    "constraints = gl.Constraints()\n",
    "err = constraints.addItemFromParamId(gl.EConsElem.RANGE,icov=1,type=gl.EConsType.UPPER,value=20.)\n",
    "err = constraints.addItemFromParamId(gl.EConsElem.SILL,icov=1,type=gl.EConsType.LOWER,value=0.03)\n",
    "err = fitmod.fit(varioexp, types, constraints, optvar=gl.Option_VarioFit(True))"
   ]
  },
  {
   "cell_type": "code",
   "execution_count": null,
   "id": "9c1225bb",
   "metadata": {},
   "outputs": [],
   "source": [
    "ax = gp.varmod(varioexp, fitmod)"
   ]
  },
  {
   "cell_type": "markdown",
   "id": "44138102",
   "metadata": {},
   "source": [
    "When printing the content of the fitted model, we see that the constraints are indeed satisfied (and that the three basic structures are present)."
   ]
  },
  {
   "cell_type": "code",
   "execution_count": null,
   "id": "fc4a9fac",
   "metadata": {
    "scrolled": false
   },
   "outputs": [],
   "source": [
    "fitmod"
   ]
  },
  {
   "cell_type": "markdown",
   "id": "255396ae",
   "metadata": {},
   "source": [
    "In the following example, we now apply equality constraints to the parameters. The first one applies to the basic structure of index $1$ (the cubic structure), and sets its range to the value $1000$. The second one also applies to the basic structure of index $1$ (the cubic structure), and sets its sill to the value $0.4$. "
   ]
  },
  {
   "cell_type": "code",
   "execution_count": null,
   "id": "cba171cf",
   "metadata": {
    "scrolled": false
   },
   "outputs": [],
   "source": [
    "constraints = gl.Constraints()\n",
    "err = constraints.addItemFromParamId(gl.EConsElem.RANGE,icov=1,type=gl.EConsType.EQUAL,value=1000.)\n",
    "err = constraints.addItemFromParamId(gl.EConsElem.SILL,icov=1,type=gl.EConsType.EQUAL,value=0.4)\n",
    "err = fitmod.fit(varioexp, types, constraints, gl.Option_VarioFit(True))"
   ]
  },
  {
   "cell_type": "code",
   "execution_count": null,
   "id": "9fc5b9ee",
   "metadata": {},
   "outputs": [],
   "source": [
    "ax = gp.varmod(varioexp, fitmod)"
   ]
  },
  {
   "cell_type": "markdown",
   "id": "735e0162",
   "metadata": {},
   "source": [
    "When printing the content of the fitted model, we see that the constraints are once again satisfied (and that the three basic structures are present)."
   ]
  },
  {
   "cell_type": "code",
   "execution_count": null,
   "id": "e8dfbd48",
   "metadata": {},
   "outputs": [],
   "source": [
    "fitmod"
   ]
  },
  {
   "cell_type": "markdown",
   "id": "588e9762",
   "metadata": {},
   "source": [
    "## Directional Variograms"
   ]
  },
  {
   "cell_type": "markdown",
   "id": "8b4d0a7e",
   "metadata": {},
   "source": [
    "The experimental directional variogram $\\gamma$ is a  function defined as\n",
    "$$\\gamma(\\theta,h)=\\frac{1}{2\\vert N(\\theta, h)\\vert}\\sum_{(i,j) \\in N(\\theta, h)}\\big\\vert z(x_i)-z(x_j)\\big\\vert^2, \\quad 0^{\\circ}\\le \\theta <360^{\\circ}, \\quad h\\ge 0$$\n",
    "\n",
    "where $N(\\theta, h)$ is set of all pairs of data points separated by a vector of size $h$ and along the direction $\\theta$ (in degrees):\n",
    "$$ N(\\theta, h) = \\bigg\\lbrace (i,j) : \\Vert x_j-x_i\\Vert = h \\quad\\text{and the vector } \\vec{u}=(x_j-x_i) \\text{ is along the direction } \\theta\\bigg\\rbrace_{1\\le i\\le j\\le n},$$\n",
    "\n",
    "In practice, when computing $\\gamma(\\theta, h)$, we once gain consider a tolerance $\\tau$ on the separation distance $h$, and also consider a tolerance $\\eta>0$ is also considered for the direction angle. In other words, $N(h)$ is replaced by\n",
    " $$\\widehat N(\\theta, h) = \\bigg\\lbrace (i,j) : (1-\\tau)h \\le \\Vert x_j-x_i\\Vert \\le (1+\\tau) h \\quad\\text{and the vector } \\vec{u}=(x_j-x_i) \\text{ is along the direction } \\theta \\pm \\eta \\bigg\\rbrace_{1\\le i\\le j\\le n},$$\n",
    " \n",
    " Much like their isotropic counterparts, experimental directional variograms are computed as `Vario` objects, which can be created from he `VarioParam` object (containing the parameters of the variogram) and a `Db` containing the data points. \n",
    "\n",
    "This time, the `VarioParam` object is created using the function `VarioParam_createMultiple`. There, we specify the number $K$ of directions $\\theta$ for which we wish to compute the an experimental variogram (argument `ndir`), as well as the reference angle $\\theta_0$ of the first direction (argument `angref`, default = $0$) so that the directions $\\theta$ = $\\theta_0 + i(180/K)$ for $i=0,..., K-1$ are considered. We can also specify the number of lags $h$ for which the experimental variogram is computed (argument `npas`), and the distance between these lags (argument `npas`), as well as the tolerance $\\tau$ on the lags (argument `toldis`). Then, the experimental variogram is computed just as in the isotropic case.\n",
    "\n",
    "Note: When initializing the `VarioParam` object as described above, the angle tolerance $\\eta$ is automatically set to $\\eta = (90/K)$, meaning that we span the set of possible directions.\n",
    "\n",
    "In the following example, we create an experimental variogram in the $4$ directions $\\theta = 0^{\\circ}, 45^{\\circ}, 90^{\\circ}, 135^{\\circ}$."
   ]
  },
  {
   "cell_type": "code",
   "execution_count": null,
   "id": "fdab736c",
   "metadata": {
    "scrolled": false
   },
   "outputs": [],
   "source": [
    "varioParamMulti = gl.VarioParam.createMultiple(ndir=4, npas=15, dpas=15.)\n",
    "vario_4dir = gl.Vario(varioParamMulti, dat)\n",
    "err = vario_4dir.compute()"
   ]
  },
  {
   "cell_type": "code",
   "execution_count": null,
   "id": "3f7df1e4",
   "metadata": {},
   "outputs": [],
   "source": [
    "ax = gp.varmod(vario_4dir, flagLegend=True)"
   ]
  },
  {
   "cell_type": "markdown",
   "id": "f3fafb95",
   "metadata": {},
   "source": [
    "Then, fitting a model onto the resulting experimental variogram is done using the same commands as in the isotropic case."
   ]
  },
  {
   "cell_type": "code",
   "execution_count": null,
   "id": "ff390b93",
   "metadata": {
    "scrolled": true
   },
   "outputs": [],
   "source": [
    "model_4dir = gl.Model()\n",
    "err = model_4dir.fit(vario_4dir,types=types)"
   ]
  },
  {
   "cell_type": "code",
   "execution_count": null,
   "id": "f995c6b4",
   "metadata": {
    "scrolled": true
   },
   "outputs": [],
   "source": [
    "ax = gp.varmod(vario_4dir, model_4dir)"
   ]
  },
  {
   "cell_type": "markdown",
   "id": "dc300ebd",
   "metadata": {},
   "source": [
    "## Variogram Maps"
   ]
  },
  {
   "cell_type": "markdown",
   "id": "d76f008d",
   "metadata": {},
   "source": [
    "The experimental variogram map is a map centered at the origin, which represents the value of experimental directional variogram across all directions $0^{\\circ} \\le \\theta< 360^{\\circ}$.\n",
    "\n",
    "To compute an experimental variogram map, we use the function `db_vmap_compute` which we supply with the `Db` containing the data. The output is a `Db` containing a grid representing the variogram map values."
   ]
  },
  {
   "cell_type": "code",
   "execution_count": null,
   "id": "2eefe872",
   "metadata": {
    "scrolled": true
   },
   "outputs": [],
   "source": [
    "grid_vmap = gl.db_vmap_compute(dat)"
   ]
  },
  {
   "cell_type": "code",
   "execution_count": null,
   "id": "74acec8b",
   "metadata": {},
   "outputs": [],
   "source": [
    "fig, ax = plt.subplots(1,2,figsize=[14,10])\n",
    "fig.tight_layout(pad=5.0)\n",
    "ax[0].raster(grid_vmap, flagLegend=True)\n",
    "ax[1].raster(grid_vmap, name=\"*Nb\", flagLegend=True)\n",
    "plt.show()"
   ]
  },
  {
   "cell_type": "markdown",
   "id": "59bb8b01",
   "metadata": {},
   "source": [
    "It is then possible to fit a model directly on the experimental variogram map. This if done with the method `fitFromVMap` from the `Model` class. This method is called in the same way as the `fit` method considered up until now (the experimental variograms being now replaced by the experimental variogram map)."
   ]
  },
  {
   "cell_type": "code",
   "execution_count": null,
   "id": "f02db19c",
   "metadata": {
    "scrolled": true
   },
   "outputs": [],
   "source": [
    "modelVM = gl.Model()\n",
    "err = modelVM.fitFromVMap(grid_vmap, types=types)\n",
    "modelVM"
   ]
  },
  {
   "cell_type": "markdown",
   "id": "4568eb55",
   "metadata": {},
   "source": [
    "It is then possible to plot the variogram map resulting from the fitted model. To do so, we start by evaluating the fitted variogram model on the the experimental variogram map grid. This is done using the function `dbgrid_model` which we supply with both the experimental variogram map and the fitted model. This function adds a additional variable to the `Db` containing the experimental variogram map corresponding to the evaluations of the variogram model."
   ]
  },
  {
   "cell_type": "code",
   "execution_count": null,
   "id": "b2af6e9f",
   "metadata": {
    "scrolled": true
   },
   "outputs": [],
   "source": [
    "err = gl.dbgrid_model(grid_vmap, modelVM)"
   ]
  },
  {
   "cell_type": "code",
   "execution_count": null,
   "id": "6cd8f17b",
   "metadata": {},
   "outputs": [],
   "source": [
    "ax = gp.raster(grid_vmap)"
   ]
  },
  {
   "cell_type": "markdown",
   "id": "c43a781e",
   "metadata": {},
   "source": [
    "Finally, we plot together the experimental directional variograms and the model obtained from fitting the variogram map."
   ]
  },
  {
   "cell_type": "code",
   "execution_count": null,
   "id": "8a1047a1",
   "metadata": {},
   "outputs": [],
   "source": [
    "ax = gp.varmod(vario_4dir, modelVM)"
   ]
  }
 ],
 "metadata": {
  "kernelspec": {
   "display_name": "Python 3 (ipykernel)",
   "language": "python",
   "name": "python3"
  },
  "language_info": {
   "codemirror_mode": {
    "name": "ipython",
    "version": 3
   },
   "file_extension": ".py",
   "mimetype": "text/x-python",
   "name": "python",
   "nbconvert_exporter": "python",
   "pygments_lexer": "ipython3",
   "version": "3.10.5"
  },
  "toc": {
   "base_numbering": 1,
   "nav_menu": {},
   "number_sections": true,
   "sideBar": true,
   "skip_h1_title": false,
   "title_cell": "Table of Contents",
   "title_sidebar": "Contents",
   "toc_cell": false,
   "toc_position": {},
   "toc_section_display": true,
   "toc_window_display": false
  }
 },
 "nbformat": 4,
 "nbformat_minor": 5
}
