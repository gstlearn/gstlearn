{
 "cells": [
  {
   "cell_type": "markdown",
   "id": "42a687bc",
   "metadata": {},
   "source": [
    "# Variography"
   ]
  },
  {
   "cell_type": "markdown",
   "id": "a18ef595",
   "metadata": {},
   "source": []
  },
  {
   "cell_type": "markdown",
   "id": "6e302612",
   "metadata": {},
   "source": [
    "<!-- SUMMARY: Calculate variograms on one or several variables of a Db, for any space dimension. Fit a Model (automatic procedure)  -->\n",
    "\n",
    "<!-- CATEGORY: Courses -->"
   ]
  },
  {
   "cell_type": "markdown",
   "id": "c9dff4ae",
   "metadata": {},
   "source": [
    "In this preamble, we load the **gstlearn** library."
   ]
  },
  {
   "cell_type": "markdown",
   "id": "b8b00f6f",
   "metadata": {},
   "source": [
    "## Preamble"
   ]
  },
  {
   "cell_type": "code",
   "execution_count": null,
   "id": "e9b5cd1e",
   "metadata": {},
   "outputs": [],
   "source": [
    "import gstlearn as gl\n",
    "import gstlearn.plot as gp\n",
    "import gstlearn.document as gdoc\n",
    "import matplotlib.pyplot as plt\n",
    "import numpy as np\n",
    "import os\n",
    "from IPython.display import Markdown\n",
    "\n",
    "gdoc.setNoScroll()"
   ]
  },
  {
   "cell_type": "markdown",
   "id": "0bfb7ab4",
   "metadata": {},
   "source": [
    "Then the necessary data set is downloaded and named **dat**: the target variable is **January_temp**"
   ]
  },
  {
   "cell_type": "code",
   "execution_count": null,
   "id": "fa6bffff",
   "metadata": {},
   "outputs": [],
   "source": [
    "temp_nf = gdoc.loadData(\"Scotland\", \"Scotland_Temperatures.NF\")\n",
    "dat = gl.Db.createFromNF(temp_nf)"
   ]
  },
  {
   "cell_type": "markdown",
   "id": "a23c20a1",
   "metadata": {},
   "source": [
    "## Variogram Cloud"
   ]
  },
  {
   "cell_type": "code",
   "execution_count": null,
   "id": "8c2c2a69",
   "metadata": {},
   "outputs": [],
   "source": [
    "Markdown(gdoc.loadDoc(\"Variogram_Cloud.md\"))"
   ]
  },
  {
   "cell_type": "code",
   "execution_count": null,
   "id": "5f43acdd",
   "metadata": {},
   "outputs": [],
   "source": [
    "varioParamOmni = gl.VarioParam.createOmniDirection(100)\n",
    "grid_cloud = gl.db_vcloud(dat, varioParamOmni)\n",
    "grid_cloud.display()"
   ]
  },
  {
   "cell_type": "code",
   "execution_count": null,
   "id": "9563fb76",
   "metadata": {},
   "outputs": [],
   "source": [
    "gp.plot(grid_cloud, \"Cloud.January*\")\n",
    "gp.geometry(aspect='200')\n",
    "gp.decoration(title=\"Variogram Cloud\")"
   ]
  },
  {
   "cell_type": "markdown",
   "id": "addc9ae0",
   "metadata": {},
   "source": [
    "## Experimental (isotropic) variograms"
   ]
  },
  {
   "cell_type": "code",
   "execution_count": null,
   "id": "958cc693",
   "metadata": {},
   "outputs": [],
   "source": [
    "Markdown(gdoc.loadDoc(\"Experimental_Variogram.md\"))"
   ]
  },
  {
   "cell_type": "code",
   "execution_count": null,
   "id": "b599767f",
   "metadata": {},
   "outputs": [],
   "source": [
    "varioParamOmni = gl.VarioParam.createOmniDirection(nlag=40, dlag=10, toldis=0.1)\n",
    "\n",
    "dat.setLocator(\"January_temp\",gl.ELoc.Z)\n",
    "varioexp = gl.Vario(varioParamOmni)\n",
    "err = varioexp.compute(dat)"
   ]
  },
  {
   "cell_type": "markdown",
   "id": "11c17330",
   "metadata": {},
   "source": [
    "We now print the contents of the newly created experimental variogram. The $40$ experimental variogram values are displayed (Columun `Value`), together with the number $\\vert \\widehat N(h)\\vert$ of pairs used to compute the value (Columun `Npairs`) and the average distance between the points forming these pairs (Column `Distance`)."
   ]
  },
  {
   "cell_type": "code",
   "execution_count": null,
   "id": "db71c6d7",
   "metadata": {},
   "outputs": [],
   "source": [
    "varioexp"
   ]
  },
  {
   "cell_type": "markdown",
   "id": "dd2fdc42",
   "metadata": {},
   "source": [
    "We now plot the experimental variogram. In the resulting figure, the experimental variogram is plotted in blue, and the dashed blacked line corresponds to the value of the variance of the data."
   ]
  },
  {
   "cell_type": "code",
   "execution_count": null,
   "id": "8fbb3192",
   "metadata": {},
   "outputs": [],
   "source": [
    "gp.varmod(varioexp)\n",
    "plt.show()"
   ]
  },
  {
   "cell_type": "markdown",
   "id": "2ca08608",
   "metadata": {},
   "source": [
    "We can also adapt the size of experimental variogram points in the plot so that it is proportional to the number of pairs of points used to compute the value. "
   ]
  },
  {
   "cell_type": "code",
   "execution_count": null,
   "id": "37b7aa4e",
   "metadata": {},
   "outputs": [],
   "source": [
    "res = gp.varmod(varioexp,showPairs=True)"
   ]
  },
  {
   "cell_type": "markdown",
   "id": "2f7855b0",
   "metadata": {},
   "source": [
    "## Automatic Model Fitting"
   ]
  },
  {
   "cell_type": "markdown",
   "id": "9f28be59",
   "metadata": {},
   "source": [
    "Fitting a variogram model on an experimental variogram is done in two steps. First, we create `Model` object. These objects aim at containing all the necessary information about the covariance structure of a random field. In particular, it is assumed that this covariance structure is a superposition of basic elementary covariance structures: the `Model` objects then contains the covariance types and parameters of each one of these basic covariance structures.\n",
    "\n",
    "In our case, we wish to build our `Model` object from an experimental variogram, meaning that we want to find a composition of basic covariance structures which would result in a variogram \"close\" to the experimental variogram that we computed from the data. This is done by calling the method `fit` of the `Model` object, while providing it with the experimental variogram.\n",
    "\n",
    "In the next example, we create a `Model` object, that we fit on the experimental variogram the we computed earlier. We then plot both the experimental variogram and the variogram model resulting from the fitting using the `plot.varmod` function. In the figure we obtain, In the figure above, the dashed blue line corresponds to the experimental variogram, and the solid blue line corresponds to the fitted variogram model."
   ]
  },
  {
   "cell_type": "code",
   "execution_count": null,
   "id": "2efb9ebf",
   "metadata": {},
   "outputs": [],
   "source": [
    "fitmod = gl.Model()\n",
    "err = fitmod.fit(varioexp)"
   ]
  },
  {
   "cell_type": "code",
   "execution_count": null,
   "id": "5a4986f9",
   "metadata": {},
   "outputs": [],
   "source": [
    "gp.varmod(varioexp, fitmod)\n",
    "plt.show()"
   ]
  },
  {
   "cell_type": "markdown",
   "id": "618de2e2",
   "metadata": {},
   "source": [
    "We now print the content of our newly created model. As we can see, only one basic covariance structure is used to define the model (namely, a Spherical covariance function whose range and sill are printed)."
   ]
  },
  {
   "cell_type": "code",
   "execution_count": null,
   "id": "b874b957",
   "metadata": {},
   "outputs": [],
   "source": [
    "fitmod"
   ]
  },
  {
   "cell_type": "markdown",
   "id": "d338a457",
   "metadata": {},
   "source": [
    "### Model Fitting with pre-defined basic structures"
   ]
  },
  {
   "cell_type": "markdown",
   "id": "a5d7bec6",
   "metadata": {},
   "source": [
    "It is also possible to guide the model fitting by proposing a list of basic covariance structures from which the model is to be built. The list of available basic covariance structures is obtained by running the following command:"
   ]
  },
  {
   "cell_type": "code",
   "execution_count": null,
   "id": "4b01e5c6",
   "metadata": {},
   "outputs": [],
   "source": [
    "gl.ECov.printAll()"
   ]
  },
  {
   "cell_type": "markdown",
   "id": "da416b6a",
   "metadata": {},
   "source": [
    "In practice, we start by creating a list of basic structures using the `ECov_fromKeys` function which we supply with a vector containing the names of the basic structures we would like to see in the model. To fit the model, we then once again call the `fit` method and supply it with both the experimental variogram and the newly created list of basic structures (argument `types`). Then the fitting procedures tries find the composition of models from the supplied list that best fits the experimental variogram. \n",
    "\n",
    "Note that by default, the fitting algorithm tries to be parsimonious and can therefore \"drop\" some of the structures that we supply if it deems that a model with less structures provides a better fit. To force the fitting algorithm to keep all the structures from the list, we  simply need to add the argument `optvar=Option_VarioFit(TRUE)` to the `fit` method.\n",
    "\n",
    "In the next example, we once again define a model by fitting it on our experimental variogram. But this time, we specify that we want the resulting model to be a composition of basic structures restricted to these choices: a Nugget effect, a Cubic covariance and a Spherical covariance. "
   ]
  },
  {
   "cell_type": "code",
   "execution_count": null,
   "id": "86567581",
   "metadata": {},
   "outputs": [],
   "source": [
    "types = [gl.ECov.NUGGET, gl.ECov.CUBIC, gl.ECov.SPHERICAL]\n",
    "err = fitmod.fit(varioexp, types=types)"
   ]
  },
  {
   "cell_type": "code",
   "execution_count": null,
   "id": "345a1ed4",
   "metadata": {},
   "outputs": [],
   "source": [
    "res = gp.varmod(varioexp, fitmod)"
   ]
  },
  {
   "cell_type": "markdown",
   "id": "7aaaa305",
   "metadata": {},
   "source": [
    "When printing the contents of the model, we now notice that it consists of a superposition of a Cubic covariance and a Spherical covariance, as intended. Note that the Nugget effect does not appear (it has been dropped by the fitting algorithm)."
   ]
  },
  {
   "cell_type": "code",
   "execution_count": null,
   "id": "c319da05",
   "metadata": {},
   "outputs": [],
   "source": [
    "fitmod"
   ]
  },
  {
   "cell_type": "markdown",
   "id": "9a97b9f7",
   "metadata": {},
   "source": [
    "### Model Fitting with constraints"
   ]
  },
  {
   "cell_type": "markdown",
   "id": "34ac4e3e",
   "metadata": {},
   "source": [
    "It is possible to impose (in)equality constraints on the covariance parameters of the basic structures used in the model fitting procedure. This is done by creating a `Constraints` object that is used to specify the constraints we wish to impose on the parameters of the different basic structures composing the model. To add a constraint to the object, we can use the method `addItemFromParamId`, which takes as arguments the type of parameter for which the constraint applies (given as an `EConsElem` object: run `EConsElem_printAll()` for the list of available options), the index of the basic structure for which the constraint applies (argument `icov`), the type of constraint we wish to apply (argument `type`, given as an `EConsType` object: run `EConsType_printAll()` for the list of available options) and finally the numerical value (argument `value`) defining the constraint.\n",
    "\n",
    "In the next example, we start from a list of three basic structures (a Nugget effect, a Cubic covariance and a Spherical covariance), and create a `Constraints` object conatining two constrainits. The first one applies to the basic structure of index $1$ (the cubic structure), and sets an upper-bound of $20$ for its range. The second one also applies to the basic structure of index $1$ (the cubic structure), and sets an lower-bound of $0.03$ for its sill. Finally, the `fit` method is called to fit the model on the experimental variogram. Note that we also added the option `optvar=Option_VarioFit(TRUE)` to force the fitting algorithm to keep the three basic structures that we supplied."
   ]
  },
  {
   "cell_type": "code",
   "execution_count": null,
   "id": "f865dbb9",
   "metadata": {},
   "outputs": [],
   "source": [
    "types = gl.ECov.fromKeys([\"NUGGET\",\"CUBIC\",\"SPHERICAL\"])\n",
    "constraints = gl.Constraints()\n",
    "err = constraints.addItemFromParamId(gl.EConsElem.RANGE,icov=1,type=gl.EConsType.UPPER,value=20.)\n",
    "err = constraints.addItemFromParamId(gl.EConsElem.SILL,icov=1,type=gl.EConsType.LOWER,value=0.03)\n",
    "err = fitmod.fit(varioexp, types, constraints, optvar=gl.Option_VarioFit(True))"
   ]
  },
  {
   "cell_type": "code",
   "execution_count": null,
   "id": "512ce43b",
   "metadata": {},
   "outputs": [],
   "source": [
    "res = gp.varmod(varioexp, fitmod)"
   ]
  },
  {
   "cell_type": "markdown",
   "id": "a0b16aa8",
   "metadata": {},
   "source": [
    "When printing the content of the fitted model, we see that the constraints are indeed satisfied (and that the three basic structures are present)."
   ]
  },
  {
   "cell_type": "code",
   "execution_count": null,
   "id": "b2aeda2f",
   "metadata": {},
   "outputs": [],
   "source": [
    "fitmod"
   ]
  },
  {
   "cell_type": "markdown",
   "id": "ec5f2dc1",
   "metadata": {},
   "source": [
    "In the following example, we now apply equality constraints to the parameters. The first one applies to the basic structure of index $1$ (the cubic structure), and sets its range to the value $1000$. The second one also applies to the basic structure of index $1$ (the cubic structure), and sets its sill to the value $0.4$. "
   ]
  },
  {
   "cell_type": "code",
   "execution_count": null,
   "id": "9bdd056d",
   "metadata": {},
   "outputs": [],
   "source": [
    "constraints = gl.Constraints()\n",
    "err = constraints.addItemFromParamId(gl.EConsElem.RANGE,icov=1,type=gl.EConsType.EQUAL,value=1000.)\n",
    "err = constraints.addItemFromParamId(gl.EConsElem.SILL,icov=1,type=gl.EConsType.EQUAL,value=0.4)\n",
    "err = fitmod.fit(varioexp, types, constraints, gl.Option_VarioFit(True))"
   ]
  },
  {
   "cell_type": "code",
   "execution_count": null,
   "id": "fd68b467",
   "metadata": {
    "scrolled": true
   },
   "outputs": [],
   "source": [
    "res = gp.varmod(varioexp, fitmod)"
   ]
  },
  {
   "cell_type": "markdown",
   "id": "014c8b30",
   "metadata": {},
   "source": [
    "When printing the content of the fitted model, we see that the constraints are once again satisfied (and that the three basic structures are present)."
   ]
  },
  {
   "cell_type": "code",
   "execution_count": null,
   "id": "bc743a8e",
   "metadata": {},
   "outputs": [],
   "source": [
    "fitmod"
   ]
  },
  {
   "cell_type": "markdown",
   "id": "09fb9bb6",
   "metadata": {},
   "source": [
    "## Directional Variograms"
   ]
  },
  {
   "cell_type": "code",
   "execution_count": null,
   "id": "bb432e9e",
   "metadata": {},
   "outputs": [],
   "source": [
    "Markdown(gdoc.loadDoc(\"Directional_Variogram.md\"))"
   ]
  },
  {
   "cell_type": "code",
   "execution_count": null,
   "id": "bfbe0c71",
   "metadata": {},
   "outputs": [],
   "source": [
    "varioParamMulti = gl.VarioParam.createMultiple(ndir=4, nlag=15, dlag=15.)\n",
    "vario_4dir = gl.Vario(varioParamMulti)\n",
    "err = vario_4dir.compute(dat)"
   ]
  },
  {
   "cell_type": "code",
   "execution_count": null,
   "id": "d3f2f188",
   "metadata": {},
   "outputs": [],
   "source": [
    "res = gp.varmod(vario_4dir, flagLegend=True)"
   ]
  },
  {
   "cell_type": "markdown",
   "id": "a7ccf45a",
   "metadata": {},
   "source": [
    "Then, fitting a model onto the resulting experimental variogram is done using the same commands as in the isotropic case."
   ]
  },
  {
   "cell_type": "code",
   "execution_count": null,
   "id": "2f2e4c02",
   "metadata": {},
   "outputs": [],
   "source": [
    "model_4dir = gl.Model()\n",
    "err = model_4dir.fit(vario_4dir,types=types)"
   ]
  },
  {
   "cell_type": "code",
   "execution_count": null,
   "id": "9cb94e9e",
   "metadata": {},
   "outputs": [],
   "source": [
    "res = gp.varmod(vario_4dir, model_4dir)"
   ]
  },
  {
   "cell_type": "markdown",
   "id": "d1477f17",
   "metadata": {},
   "source": [
    "## Variogram Maps"
   ]
  },
  {
   "cell_type": "code",
   "execution_count": null,
   "id": "1051cc8e",
   "metadata": {},
   "outputs": [],
   "source": [
    "Markdown(gdoc.loadDoc(\"Variogram_Map.md\"))"
   ]
  },
  {
   "cell_type": "code",
   "execution_count": null,
   "id": "babfb13f",
   "metadata": {},
   "outputs": [],
   "source": [
    "grid_vmap = gl.db_vmap(dat)"
   ]
  },
  {
   "cell_type": "code",
   "execution_count": null,
   "id": "981c1080",
   "metadata": {},
   "outputs": [],
   "source": [
    "fig, ax = plt.subplots(1,2,figsize=[12,8])\n",
    "fig.tight_layout(pad=5.0)\n",
    "ax[0].raster(grid_vmap, flagLegend=True)\n",
    "ax[0].geometry(aspect=1)\n",
    "ax[1].raster(grid_vmap, name=\"*Nb\", flagLegend=True)\n",
    "ax[1].geometry(aspect=1)\n",
    "plt.show()"
   ]
  },
  {
   "cell_type": "markdown",
   "id": "21f1a9af",
   "metadata": {},
   "source": [
    "It is then possible to fit a model directly on the experimental variogram map. This if done with the method `fitFromVMap` from the `Model` class. This method is called in the same way as the `fit` method considered up until now (the experimental variograms being now replaced by the experimental variogram map)."
   ]
  },
  {
   "cell_type": "code",
   "execution_count": null,
   "id": "97cbb3e8",
   "metadata": {},
   "outputs": [],
   "source": [
    "modelVM = gl.Model()\n",
    "err = modelVM.fitFromVMap(grid_vmap, types=types)\n",
    "modelVM"
   ]
  },
  {
   "cell_type": "markdown",
   "id": "efe7c46b",
   "metadata": {},
   "source": [
    "It is then possible to plot the variogram map resulting from the fitted model. To do so, we start by evaluating the fitted variogram model on the the experimental variogram map grid. This is done using the function `buildVmapOnDbGrid` which we supply with both the experimental variogram map and the fitted model. This function adds a additional variable to the `Db` containing the experimental variogram map corresponding to the evaluations of the variogram model."
   ]
  },
  {
   "cell_type": "code",
   "execution_count": null,
   "id": "17967682",
   "metadata": {},
   "outputs": [],
   "source": [
    "err = modelVM.buildVmapOnDbGrid(grid_vmap)"
   ]
  },
  {
   "cell_type": "code",
   "execution_count": null,
   "id": "61e043fd",
   "metadata": {},
   "outputs": [],
   "source": [
    "fig, ax = plt.subplots(1,1,figsize=[12,8])\n",
    "gp.raster(grid_vmap)\n",
    "gp.geometry(aspect=1)"
   ]
  },
  {
   "cell_type": "markdown",
   "id": "20f42717",
   "metadata": {},
   "source": [
    "Finally, we plot together the experimental directional variograms and the model obtained from fitting the variogram map."
   ]
  },
  {
   "cell_type": "code",
   "execution_count": null,
   "id": "f51758bc",
   "metadata": {},
   "outputs": [],
   "source": [
    "res = gp.varmod(vario_4dir, modelVM)"
   ]
  }
 ],
 "metadata": {
  "kernelspec": {
   "display_name": "Python 3 (ipykernel)",
   "language": "python",
   "name": "python3"
  },
  "language_info": {
   "codemirror_mode": {
    "name": "ipython",
    "version": 3
   },
   "file_extension": ".py",
   "mimetype": "text/x-python",
   "name": "python",
   "nbconvert_exporter": "python",
   "pygments_lexer": "ipython3",
   "version": "3.10.5"
  },
  "toc": {
   "base_numbering": 1,
   "nav_menu": {},
   "number_sections": true,
   "sideBar": true,
   "skip_h1_title": false,
   "title_cell": "Table of Contents",
   "title_sidebar": "Contents",
   "toc_cell": false,
   "toc_position": {},
   "toc_section_display": true,
   "toc_window_display": false
  }
 },
 "nbformat": 4,
 "nbformat_minor": 5
}
