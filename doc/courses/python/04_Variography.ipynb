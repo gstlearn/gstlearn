{
 "cells": [
  {
   "cell_type": "markdown",
   "id": "7718c2a8",
   "metadata": {},
   "source": [
    "# Variography"
   ]
  },
  {
   "cell_type": "markdown",
   "id": "9cf4315c",
   "metadata": {},
   "source": [
    "In this preamble, we load the **gstlearn** library."
   ]
  },
  {
   "cell_type": "code",
   "execution_count": null,
   "id": "38da96f8",
   "metadata": {},
   "outputs": [],
   "source": [
    "%%javascript\n",
    "IPython.OutputArea.prototype._should_scroll = function(lines) {\n",
    "    return false;\n",
    "}"
   ]
  },
  {
   "cell_type": "code",
   "execution_count": null,
   "id": "145a5aa5",
   "metadata": {},
   "outputs": [],
   "source": [
    "import gstlearn as gl\n",
    "import gstlearn.plot as gp\n",
    "import matplotlib.pyplot as plt\n",
    "import numpy as np\n",
    "import os\n",
    "import urllib.request"
   ]
  },
  {
   "cell_type": "markdown",
   "id": "bdc05961",
   "metadata": {},
   "source": [
    "Then the necessary data set is downloaded and named **dat**: the target variable is **January_temp**"
   ]
  },
  {
   "cell_type": "code",
   "execution_count": null,
   "id": "2f094a81",
   "metadata": {},
   "outputs": [],
   "source": [
    "url = 'https://soft.minesparis.psl.eu/gstlearn/data/Scotland/Scotland_Temperatures.NF'\n",
    "temp_nf, head = urllib.request.urlretrieve(url)\n",
    "dat = gl.Db.createFromNF(temp_nf)"
   ]
  },
  {
   "cell_type": "markdown",
   "id": "a8aeb795",
   "metadata": {},
   "source": [
    "## Experimental variogram"
   ]
  },
  {
   "cell_type": "markdown",
   "id": "9a7619af",
   "metadata": {},
   "source": [
    "Data is a *regionalized* variable\n",
    "\n",
    "$$z_i = z(x_i)$$\n",
    "\n",
    "The experimental variogram is a (discrete) function:\n",
    "\n",
    "$$\\gamma(h)=\\frac{1}{2N(h)}\\sum_{i=1}^{N(h)}[z(x_i+h)-z(x_i)]^2$$\n",
    "\n",
    "where $N(h)$ is the number of pairs of points distant by $h$\n",
    "\n"
   ]
  },
  {
   "cell_type": "markdown",
   "id": "19ee951a",
   "metadata": {},
   "source": [
    "### Variogram Cloud"
   ]
  },
  {
   "cell_type": "code",
   "execution_count": null,
   "id": "f2490da3",
   "metadata": {},
   "outputs": [],
   "source": [
    "varioParamOmni = gl.VarioParam.createOmniDirection(100)\n",
    "grid_cloud = gl.db_variogram_cloud(dat, varioParamOmni)\n",
    "grid_cloud"
   ]
  },
  {
   "cell_type": "code",
   "execution_count": null,
   "id": "83840c15",
   "metadata": {},
   "outputs": [],
   "source": [
    "ax = grid_cloud.plot(\"Cloud*\")\n",
    "plt.gca().set_aspect('100')\n",
    "ax.decoration(title=\"Variogram Cloud\")"
   ]
  },
  {
   "cell_type": "markdown",
   "id": "bf9af3b3",
   "metadata": {},
   "source": [
    "### Experimental Variogram\n",
    "\n",
    "We calculate the omni-directional variogram of the temperatures."
   ]
  },
  {
   "cell_type": "code",
   "execution_count": null,
   "id": "b5a2a716",
   "metadata": {},
   "outputs": [],
   "source": [
    "varioParamOmni = gl.VarioParam.createOmniDirection(40, 10)\n",
    "varioexp = gl.Vario(varioParamOmni, dat)\n",
    "err = varioexp.compute()"
   ]
  },
  {
   "cell_type": "markdown",
   "id": "25816ed7",
   "metadata": {},
   "source": [
    "Print the variogram contents"
   ]
  },
  {
   "cell_type": "code",
   "execution_count": null,
   "id": "af433d1a",
   "metadata": {
    "scrolled": true
   },
   "outputs": [],
   "source": [
    "varioexp"
   ]
  },
  {
   "cell_type": "markdown",
   "id": "409ce884",
   "metadata": {},
   "source": [
    "Plot the omni-directional variogram"
   ]
  },
  {
   "cell_type": "code",
   "execution_count": null,
   "id": "a0ba09a9",
   "metadata": {
    "scrolled": true
   },
   "outputs": [],
   "source": [
    "gp.setDefault(dims=[6,6])\n",
    "gp.varmod(varioexp)"
   ]
  },
  {
   "cell_type": "markdown",
   "id": "1cd6eb76",
   "metadata": {},
   "source": [
    "Represent the variogram with the number of pairs. By storing the *Axes* in a variable *ax* returned by the last instruction, we prevent jupyter from displaying '\\<AxesSubplot:\\>' before the plot."
   ]
  },
  {
   "cell_type": "code",
   "execution_count": null,
   "id": "498ad7c6",
   "metadata": {
    "scrolled": true
   },
   "outputs": [],
   "source": [
    "ax = gp.varmod(varioexp,show_pairs=True)"
   ]
  },
  {
   "cell_type": "markdown",
   "id": "4c6f4f4a",
   "metadata": {},
   "source": [
    "Automatic Fitting procedure (with default fitting parameters)."
   ]
  },
  {
   "cell_type": "code",
   "execution_count": null,
   "id": "7ff4d73a",
   "metadata": {
    "scrolled": true
   },
   "outputs": [],
   "source": [
    "fitmod = gl.Model()\n",
    "err = fitmod.fit(varioexp)\n",
    "gp.varmod(varioexp, fitmod)\n",
    "plt.show() # This last instruction also prevents jupyter from displaying a text before the plot"
   ]
  },
  {
   "cell_type": "markdown",
   "id": "99360a6a",
   "metadata": {},
   "source": [
    "Print the Fittied Model content"
   ]
  },
  {
   "cell_type": "code",
   "execution_count": null,
   "id": "bad5b428",
   "metadata": {
    "scrolled": true
   },
   "outputs": [],
   "source": [
    "fitmod"
   ]
  },
  {
   "cell_type": "markdown",
   "id": "9a9e6f23",
   "metadata": {},
   "source": [
    "List of Basic Covariances structures known by **gstlearn**"
   ]
  },
  {
   "cell_type": "code",
   "execution_count": null,
   "id": "b4ae9037",
   "metadata": {
    "scrolled": true
   },
   "outputs": [],
   "source": [
    "gl.ECov.printAll()"
   ]
  },
  {
   "cell_type": "markdown",
   "id": "268441d5",
   "metadata": {},
   "source": [
    "Automatic Fitting (using given basic structures)"
   ]
  },
  {
   "cell_type": "code",
   "execution_count": null,
   "id": "2a324ab7",
   "metadata": {
    "scrolled": true
   },
   "outputs": [],
   "source": [
    "types = [gl.ECov.NUGGET, gl.ECov.CUBIC, gl.ECov.SPHERICAL]\n",
    "err = fitmod.fit(varioexp, types=types)\n",
    "ax = gp.varmod(varioexp, fitmod)"
   ]
  },
  {
   "cell_type": "markdown",
   "id": "4f57ca72",
   "metadata": {},
   "source": [
    "The resulting Model"
   ]
  },
  {
   "cell_type": "code",
   "execution_count": null,
   "id": "4fcd7e10",
   "metadata": {},
   "outputs": [],
   "source": [
    "fitmod"
   ]
  },
  {
   "cell_type": "markdown",
   "id": "ae53f082",
   "metadata": {},
   "source": [
    "Model Fitting with Inequality constraints"
   ]
  },
  {
   "cell_type": "code",
   "execution_count": null,
   "id": "6a6ecd77",
   "metadata": {
    "scrolled": true
   },
   "outputs": [],
   "source": [
    "constraints = gl.Constraints()\n",
    "err = constraints.addItemFromParamId(gl.EConsElem.RANGE,1,0,0,gl.EConsType.UPPER,20.)\n",
    "err = constraints.addItemFromParamId(gl.EConsElem.SILL,1,0,0,gl.EConsType.LOWER,0.03)\n",
    "err = fitmod.fit(varioexp, types, constraints, gl.Option_VarioFit(True))\n",
    "ax = gp.varmod(varioexp, fitmod)"
   ]
  },
  {
   "cell_type": "markdown",
   "id": "44138102",
   "metadata": {},
   "source": [
    "The resulting Model"
   ]
  },
  {
   "cell_type": "code",
   "execution_count": null,
   "id": "fc4a9fac",
   "metadata": {
    "scrolled": false
   },
   "outputs": [],
   "source": [
    "fitmod"
   ]
  },
  {
   "cell_type": "markdown",
   "id": "255396ae",
   "metadata": {},
   "source": [
    "Model Fitting with Equality constraints"
   ]
  },
  {
   "cell_type": "code",
   "execution_count": null,
   "id": "cba171cf",
   "metadata": {
    "scrolled": true
   },
   "outputs": [],
   "source": [
    "constraints = gl.Constraints()\n",
    "err = constraints.addItemFromParamId(gl.EConsElem.RANGE,1,0,0,gl.EConsType.EQUAL,1000.)\n",
    "err = constraints.addItemFromParamId(gl.EConsElem.SILL,1,0,0,gl.EConsType.EQUAL,0.4)\n",
    "err = fitmod.fit(varioexp, types, constraints, gl.Option_VarioFit(True))\n",
    "ax = gp.varmod(varioexp, fitmod)"
   ]
  },
  {
   "cell_type": "markdown",
   "id": "735e0162",
   "metadata": {},
   "source": [
    "The resulting Model"
   ]
  },
  {
   "cell_type": "code",
   "execution_count": null,
   "id": "e8dfbd48",
   "metadata": {},
   "outputs": [],
   "source": [
    "fitmod"
   ]
  },
  {
   "cell_type": "markdown",
   "id": "588e9762",
   "metadata": {},
   "source": [
    "Directional Variograms"
   ]
  },
  {
   "cell_type": "code",
   "execution_count": null,
   "id": "fdab736c",
   "metadata": {
    "scrolled": false
   },
   "outputs": [],
   "source": [
    "varioParamMulti = gl.VarioParam.createMultiple(4, 15, 15.)\n",
    "vario_4dir = gl.Vario(varioParamMulti, dat)\n",
    "err = vario_4dir.compute()\n",
    "ax = gp.varmod(vario_4dir, flagLegend=True)"
   ]
  },
  {
   "cell_type": "markdown",
   "id": "f3fafb95",
   "metadata": {},
   "source": [
    "Fitting a Multi-directional variogram"
   ]
  },
  {
   "cell_type": "code",
   "execution_count": null,
   "id": "ff390b93",
   "metadata": {
    "scrolled": true
   },
   "outputs": [],
   "source": [
    "model_4dir = gl.Model()\n",
    "err = model_4dir.fit(vario_4dir,types=types)\n",
    "ax = gp.varmod(vario_4dir, model_4dir)"
   ]
  },
  {
   "cell_type": "markdown",
   "id": "d76f008d",
   "metadata": {},
   "source": [
    "Calculating Variogram Map (the result is returned as a Grid data base displayed using *raster* function). At the right is displayed the number of pairs used for the variogram calculation in each grid cell."
   ]
  },
  {
   "cell_type": "code",
   "execution_count": null,
   "id": "2eefe872",
   "metadata": {
    "scrolled": true
   },
   "outputs": [],
   "source": [
    "grid_vmap = gl.db_vmap_compute(dat, gl.ECalcVario.VARIOGRAM)\n",
    "grid_vmap.display()\n",
    "fig, ax = plt.subplots(1,2,figsize=[14,10])\n",
    "fig.tight_layout(pad=5.0)\n",
    "ax[0].raster(grid_vmap, flagLegend=True)\n",
    "ax[1].raster(grid_vmap, name=\"*Nb\", flagLegend=True)\n",
    "plt.show()"
   ]
  },
  {
   "cell_type": "markdown",
   "id": "59bb8b01",
   "metadata": {},
   "source": [
    "Automatic Model Fitting from Variogram Map"
   ]
  },
  {
   "cell_type": "code",
   "execution_count": null,
   "id": "f02db19c",
   "metadata": {
    "scrolled": true
   },
   "outputs": [],
   "source": [
    "modelVM = gl.Model()\n",
    "err = modelVM.fitFromVMap(grid_vmap, types=types)\n",
    "modelVM"
   ]
  },
  {
   "cell_type": "markdown",
   "id": "4568eb55",
   "metadata": {},
   "source": [
    "Drawing the Fitted Model as a Variogram Map"
   ]
  },
  {
   "cell_type": "code",
   "execution_count": null,
   "id": "b2af6e9f",
   "metadata": {
    "scrolled": true
   },
   "outputs": [],
   "source": [
    "err = gl.dbgrid_model(grid_vmap, modelVM)\n",
    "grid_vmap.display()\n",
    "ax = gp.raster(grid_vmap, flagLegend=True)"
   ]
  },
  {
   "cell_type": "markdown",
   "id": "c43a781e",
   "metadata": {},
   "source": [
    "Compare Directional Variograms and fitted model from Variogram Map"
   ]
  },
  {
   "cell_type": "code",
   "execution_count": null,
   "id": "8a1047a1",
   "metadata": {},
   "outputs": [],
   "source": [
    "ax = gp.varmod(vario_4dir, modelVM)"
   ]
  },
  {
   "cell_type": "code",
   "execution_count": null,
   "id": "02eb860b",
   "metadata": {},
   "outputs": [],
   "source": []
  }
 ],
 "metadata": {
  "kernelspec": {
   "display_name": "Python 3 (ipykernel)",
   "language": "python",
   "name": "python3"
  },
  "language_info": {
   "codemirror_mode": {
    "name": "ipython",
    "version": 3
   },
   "file_extension": ".py",
   "mimetype": "text/x-python",
   "name": "python",
   "nbconvert_exporter": "python",
   "pygments_lexer": "ipython3",
   "version": "3.10.12"
  }
 },
 "nbformat": 4,
 "nbformat_minor": 5
}
