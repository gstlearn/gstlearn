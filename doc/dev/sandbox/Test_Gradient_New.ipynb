{
 "cells": [
  {
   "cell_type": "markdown",
   "metadata": {},
   "source": [
    "# Test sur les Gradients en SPDE"
   ]
  },
  {
   "cell_type": "code",
   "execution_count": 1,
   "metadata": {},
   "outputs": [
    {
     "data": {
      "application/javascript": [
       "IPython.OutputArea.prototype._should_scroll = function(lines) {\n",
       "return false;\n",
       "}\n"
      ],
      "text/plain": [
       "<IPython.core.display.Javascript object>"
      ]
     },
     "metadata": {},
     "output_type": "display_data"
    }
   ],
   "source": [
    "%%javascript\n",
    "IPython.OutputArea.prototype._should_scroll = function(lines) {\n",
    "return false;\n",
    "}"
   ]
  },
  {
   "cell_type": "code",
   "execution_count": 2,
   "metadata": {},
   "outputs": [],
   "source": [
    "import scipy as sc\n",
    "from scipy.sparse import *\n",
    "from scipy.sparse.linalg import *\n",
    "import numpy as np\n",
    "\n",
    "import matplotlib.pyplot as plt\n",
    "\n",
    "from gstlearn import *\n",
    "import gstlearn.plot as gp"
   ]
  },
  {
   "cell_type": "markdown",
   "metadata": {},
   "source": [
    "Auxiliary function"
   ]
  },
  {
   "cell_type": "code",
   "execution_count": 3,
   "metadata": {},
   "outputs": [],
   "source": [
    "def fa(x,y,a,b):\n",
    "    return a*x + b*y\n",
    "\n",
    "def spirale(db,a=0,b=-1.4,c=1.,d=1.,plot = False):\n",
    "    x1c = db[\"x1\"] \n",
    "    x2c = db[\"x2\"] \n",
    "    u1=fa(x1c-50,x2c-50,a,b)\n",
    "    u2=fa(x1c-50,x2c-50,c,d)\n",
    "    shape = db.getNXs()\n",
    "    norm = np.sqrt(u1**2+u2**2)\n",
    "    ind = norm>0\n",
    "    theta = np.zeros_like(norm)\n",
    "    theta[norm>0] = np.arccos(u2[ind]/norm[ind])/np.pi*180*np.sign(u1[ind])\n",
    "    x1c=x1c.reshape(shape)\n",
    "    x2c=x2c.reshape(shape)\n",
    "    u1=u1.reshape(shape)\n",
    "    u2=u2.reshape(shape)\n",
    "    if plot:\n",
    "        plt.quiver(x1c,x2c,u1,u2)\n",
    "        plt.axis(\"equal\")\n",
    "        plt.show()\n",
    "    return theta"
   ]
  },
  {
   "cell_type": "markdown",
   "metadata": {},
   "source": [
    "Draw a vector field"
   ]
  },
  {
   "cell_type": "code",
   "execution_count": 4,
   "metadata": {},
   "outputs": [],
   "source": [
    "verbose = False\n",
    "\n",
    "#Création de la grille de représentation\n",
    "workingDbc = DbGrid.create([10,10],[10.,10.])\n",
    "spirale(workingDbc,plot=False);\n",
    "\n",
    "resultDb = DbGrid.create([101,101],[1,1]) \n",
    "x1 = resultDb[\"x1\"]\n",
    "x2 = resultDb[\"x2\"] \n",
    "theta = spirale(resultDb)\n",
    "Scale1=5.  * np.ones(theta.size)\n",
    "Scale2=20. * np.ones(theta.size)\n",
    "resultDb[\"theta\"] = theta\n",
    "resultDb[\"Scale1\"] = Scale1\n",
    "resultDb[\"Scale2\"] = Scale2\n",
    "resultDb.setLocators(['theta','Scale1','Scale2'],ELoc.NOSTAT)\n",
    "\n",
    "#ax = gp.grid(resultDb,\"theta\")"
   ]
  },
  {
   "cell_type": "markdown",
   "metadata": {},
   "source": [
    "Initialize the necessary elements."
   ]
  },
  {
   "cell_type": "code",
   "execution_count": 5,
   "metadata": {},
   "outputs": [],
   "source": [
    "# Création de la Base de Données\n",
    "np.random.seed(124)\n",
    "ndat=10000\n",
    "coords=np.random.uniform(1,99,size=(ndat,2))\n",
    "dat = Db()\n",
    "dat[\"X\"] = coords[:,0]\n",
    "dat[\"Y\"] = coords[:,1]\n",
    "dat.setLocators(['X','Y'],ELoc.X)\n",
    "\n",
    "# Création du modèle. Attention le grand axe doit etre fourni en premier: il correspond à la direction pointée par l'angle 'theta'.\n",
    "model = Model.createFromParam(ECov.MATERN,ranges = [4,81],flagRange = False)\n",
    "\n",
    "NoStat = NoStatArray([\"A\",\"S1\",\"S2\"],resultDb)\n",
    "model.addNoStat(NoStat)\n",
    "\n",
    "# Création de la grille de travail\n",
    "workingDb = DbGrid.create([101,101],[1,1])\n",
    "#workingDb = DbGrid.create([11,11],[1,1]) \n",
    "mesh = MeshETurbo(workingDb)"
   ]
  },
  {
   "cell_type": "code",
   "execution_count": 6,
   "metadata": {},
   "outputs": [],
   "source": [
    "ind=1051 #indice du vertex\n",
    "\n",
    "ipar = 1\n",
    "if ipar == 0 :\n",
    "    vect = Scale1\n",
    "    name = \"Scale1\"\n",
    "if ipar == 1 :\n",
    "    vect = Scale2 \n",
    "    name = \"Scale2\"\n",
    "if ipar == 2 :\n",
    "    vect = theta\n",
    "    name = \"theta\""
   ]
  },
  {
   "cell_type": "code",
   "execution_count": 7,
   "metadata": {},
   "outputs": [],
   "source": [
    "S = ShiftOpMatrix(mesh, model, resultDb)\n",
    "err = S.initGradFromMesh(mesh,model)"
   ]
  },
  {
   "cell_type": "code",
   "execution_count": 8,
   "metadata": {},
   "outputs": [],
   "source": [
    "Bmat = S.getSGrad(ind,ipar).toTL()\n",
   ]
  },
  {
   "cell_type": "code",
   "execution_count": 9,
   "metadata": {
    "scrolled": true
   },
   "outputs": [
    {
     "data": {
      "text/plain": [
       "<10201x10201 sparse matrix of type '<class 'numpy.float64'>'\n",
       "\twith 67 stored elements in Compressed Sparse Column format>"
      ]
     },
     "execution_count": 9,
     "metadata": {},
     "output_type": "execute_result"
    }
   ],
   "source": [
    "Bmat"
   ]
  },
  {
   "cell_type": "code",
   "execution_count": 10,
   "metadata": {},
   "outputs": [],
   "source": [
    "#print(Bmat)"
   ]
  },
  {
   "cell_type": "code",
   "execution_count": 11,
   "metadata": {
    "scrolled": true
   },
   "outputs": [],
   "source": [
    "eps=1e-3\n",
    "tol = 1e-10\n",
    "\n",
    "thetaaux = vect.copy()\n",
    "thetaaux[ind]=vect[ind]+eps\n",
    "resultDb.setColumn(thetaaux,name)\n",
    "Sp = ShiftOpMatrix(mesh, model, resultDb)\n",
    "Smatpt = Sp.getS()\n",
    "\n",
    "thetaaux[ind]=vect[ind]-eps\n",
    "resultDb.setColumn(thetaaux,name)\n",
    "Sm = ShiftOpMatrix(mesh, model, resultDb)\n",
    "Smatmt = Sm.getS()\n",
    "\n",
    "indeps = np.abs(np.array(Smatpt.values)-np.array(Smatmt.values))/(2*eps)>tol\n",
    "\n",
    "Smatp = csc_matrix((np.array(Smatpt.values)[indeps], (np.array(Smatpt.rows)[indeps], np.array(Smatpt.cols)[indeps])),shape=(Smatpt.nrows,Smatpt.ncols))\n",
    "Smatm = csc_matrix((np.array(Smatmt.values)[indeps], (np.array(Smatmt.rows)[indeps], np.array(Smatmt.cols)[indeps])),shape=(Smatmt.nrows,Smatmt.ncols))\n",
    "\n",
    "A=(Smatp-Smatm)/(2*eps)"
   ]
  },
  {
   "cell_type": "code",
   "execution_count": 12,
   "metadata": {},
   "outputs": [
    {
     "data": {
      "text/plain": [
       "(array([ 849,  850,  850,  851,  949,  949,  950,  950,  950,  950,  950,\n",
       "         950,  950,  951,  951,  951,  951,  951,  951,  951,  952,  952,\n",
       "        1049, 1050, 1050, 1050, 1050, 1050, 1050, 1050, 1051, 1051, 1051,\n",
       "        1051, 1051, 1051, 1051, 1052, 1052, 1052, 1052, 1052, 1052, 1052,\n",
       "        1053, 1150, 1150, 1151, 1151, 1151, 1151, 1151, 1151, 1151, 1152,\n",
       "        1152, 1152, 1152, 1152, 1152, 1152, 1153, 1153, 1251, 1252, 1252,\n",
       "        1253], dtype=int32),\n",
       " array([ 950,  950,  951,  951,  950, 1050,  849,  850,  949,  950,  951,\n",
       "        1050, 1051,  850,  851,  950,  951,  952, 1051, 1052,  951, 1052,\n",
       "        1050,  949,  950, 1049, 1050, 1051, 1150, 1151,  950,  951, 1050,\n",
       "        1051, 1052, 1151, 1152,  951,  952, 1051, 1052, 1053, 1152, 1153,\n",
       "        1052, 1050, 1151, 1050, 1051, 1150, 1151, 1152, 1251, 1252, 1051,\n",
       "        1052, 1151, 1152, 1153, 1252, 1253, 1052, 1152, 1151, 1151, 1152,\n",
       "        1152], dtype=int32))"
      ]
     },
     "execution_count": 12,
     "metadata": {},
     "output_type": "execute_result"
    }
   ],
   "source": [
    "A.nonzero()"
   ]
  },
  {
   "cell_type": "code",
   "execution_count": 13,
   "metadata": {},
   "outputs": [
    {
     "data": {
      "text/plain": [
       "matrix([[ -1.03373182,   0.5151158 ,  -1.02238577,   0.51365394,\n",
       "          -1.17343393,  -1.0481029 ,  -1.03373182,   0.5151158 ,\n",
       "          -1.17343393,  14.74376243,  -5.90358201,   2.7878043 ,\n",
       "         -10.31745612,  -1.02238577,   0.51365394,  -5.90358201,\n",
       "           9.91497792,  -1.19140286,   5.57617861,  -5.15574166,\n",
       "          -1.19140286,   0.5139161 ,  -1.16250691,  -1.0481029 ,\n",
       "           2.7878043 ,  -1.16250691,  15.22473827, -11.81589642,\n",
       "           0.51843039,  -5.15570853, -10.31745612,   5.57617861,\n",
       "         -11.81589642,  39.88504284, -11.79782265,   5.57270972,\n",
       "         -10.31206379,  -5.15574166,   0.5139161 , -11.79782265,\n",
       "          15.20988021,  -1.18963197,   2.78781152,  -1.02705942,\n",
       "          -1.18963197,   0.51843039,  -1.16019947,  -5.15570853,\n",
       "           5.57270972,  -1.16019947,   9.9126039 ,  -5.90356402,\n",
       "           0.51877706,  -1.05410057, -10.31206379,   2.78781152,\n",
       "          -5.90356402,  14.75443316,  -1.17843267,   0.51745971,\n",
       "          -1.04175536,  -1.02705942,  -1.17843267,   0.51877706,\n",
       "          -1.05410057,   0.51745971,  -1.04175536]])"
      ]
     },
     "execution_count": 13,
     "metadata": {},
     "output_type": "execute_result"
    }
   ],
   "source": [
    "A[A.nonzero()]"
   ]
  },
  {
   "cell_type": "code",
   "execution_count": 14,
   "metadata": {},
   "outputs": [
    {
     "name": "stdout",
     "output_type": "stream",
     "text": [
      "  (950, 849)\t-1.0337318213373692\n",
      "  (950, 850)\t0.5151158002831835\n",
      "  (951, 850)\t-1.0223857745472742\n",
      "  (951, 851)\t0.5136539405015128\n",
      "  (950, 949)\t-1.1734339284430462\n",
      "  (1050, 949)\t-1.048102901876291\n",
      "  (849, 950)\t-1.0337318213089475\n",
      "  (850, 950)\t0.5151158002831835\n",
      "  (949, 950)\t-1.1734339284430462\n",
      "  (950, 950)\t14.743762432658514\n",
      "  (951, 950)\t-5.903582007647401\n",
      "  (1050, 950)\t2.787804297312846\n",
      "  (1051, 950)\t-10.317456115586765\n",
      "  (850, 951)\t-1.0223857745188525\n",
      "  (851, 951)\t0.5136539405157237\n",
      "  (950, 951)\t-5.903582007647401\n",
      "  (951, 951)\t9.914977924722734\n",
      "  (952, 951)\t-1.1914028649187003\n",
      "  (1051, 951)\t5.576178610212423\n",
      "  (1052, 951)\t-5.1557416645096055\n",
      "  (951, 952)\t-1.1914028649187003\n",
      "  (1052, 952)\t0.513916097446554\n",
      "  (1050, 1049)\t-1.1625069147953582\n",
      "  (949, 1050)\t-1.0481029018478694\n",
      "  (950, 1050)\t2.787804297284424\n",
      "  :\t:\n",
      "  (1152, 1052)\t2.787811520278183\n",
      "  (1153, 1052)\t-1.0270594205223915\n",
      "  (1052, 1053)\t-1.1896319711297565\n",
      "  (1050, 1150)\t0.518430389547575\n",
      "  (1151, 1150)\t-1.1601994678756\n",
      "  (1050, 1151)\t-5.155708530367065\n",
      "  (1051, 1151)\t5.572709718123292\n",
      "  (1150, 1151)\t-1.1601994678471783\n",
      "  (1151, 1151)\t9.912603901170769\n",
      "  (1152, 1151)\t-5.903564015085294\n",
      "  (1251, 1151)\t0.5187770574366368\n",
      "  (1252, 1151)\t-1.0541005735831277\n",
      "  (1051, 1152)\t-10.312063787694115\n",
      "  (1052, 1152)\t2.7878115202923937\n",
      "  (1151, 1152)\t-5.903564015085294\n",
      "  (1152, 1152)\t14.754433156895175\n",
      "  (1153, 1152)\t-1.1784326723045524\n",
      "  (1252, 1152)\t0.5174597132366898\n",
      "  (1253, 1152)\t-1.0417553592105833\n",
      "  (1052, 1153)\t-1.0270594205508132\n",
      "  (1152, 1153)\t-1.178432672332974\n",
      "  (1151, 1251)\t0.5187770574508477\n",
      "  (1151, 1252)\t-1.0541005736115494\n",
      "  (1152, 1252)\t0.5174597132366898\n",
      "  (1152, 1253)\t-1.0417553591821616\n"
     ]
    }
   ],
   "source": [
    "print(A)"
   ]
  },
  {
   "cell_type": "code",
   "execution_count": 15,
   "metadata": {},
   "outputs": [],
   "source": [
    "uu = A.data\n",
    "v = Bmat.data"
   ]
  },
  {
   "cell_type": "code",
   "execution_count": 16,
   "metadata": {},
   "outputs": [
    {
     "name": "stdout",
     "output_type": "stream",
     "text": [
      "  (950, 849)\t-1.0337318218837657\n",
      "  (950, 850)\t0.5151158005488454\n",
      "  (951, 850)\t-1.0223857750704641\n",
      "  (951, 851)\t0.513653940776787\n",
      "  (950, 949)\t-1.173433929082998\n",
      "  (1050, 949)\t-1.0481029024092083\n",
      "  (849, 950)\t-1.0337318218837657\n",
      "  (850, 950)\t0.5151158005488454\n",
      "  (949, 950)\t-1.173433929082998\n",
      "  (950, 950)\t14.743762437190863\n",
      "  (951, 950)\t-5.903582009377631\n",
      "  (1050, 950)\t2.7878042981203643\n",
      "  (1051, 950)\t-10.317456116834258\n",
      "  (850, 951)\t-1.0223857750704641\n",
      "  (851, 951)\t0.513653940776787\n",
      "  (950, 951)\t-5.903582009377631\n",
      "  (951, 951)\t9.914977928666218\n",
      "  (952, 951)\t-1.191402865538455\n",
      "  (1051, 951)\t5.576178610918104\n",
      "  (1052, 951)\t-5.155741666183436\n",
      "  (951, 952)\t-1.191402865538455\n",
      "  (1052, 952)\t0.5139160977316239\n",
      "  (1050, 1049)\t-1.1625069154060013\n",
      "  (949, 1050)\t-1.0481029024092083\n",
      "  (950, 1050)\t2.7878042981203643\n",
      "  :\t:\n",
      "  (1152, 1052)\t2.787811521132425\n",
      "  (1153, 1052)\t-1.0270594211044677\n",
      "  (1052, 1053)\t-1.189631971767025\n",
      "  (1050, 1150)\t0.5184303898265799\n",
      "  (1151, 1150)\t-1.1601994684359218\n",
      "  (1050, 1151)\t-5.155708531809845\n",
      "  (1051, 1151)\t5.5727097188364425\n",
      "  (1150, 1151)\t-1.1601994684359218\n",
      "  (1151, 1151)\t9.912603904801372\n",
      "  (1152, 1151)\t-5.9035640168044345\n",
      "  (1251, 1151)\t0.5187770576967305\n",
      "  (1252, 1151)\t-1.0541005741324023\n",
      "  (1051, 1152)\t-10.312063789043236\n",
      "  (1052, 1152)\t2.7878115211324253\n",
      "  (1151, 1152)\t-5.9035640168044345\n",
      "  (1152, 1152)\t14.754433161740163\n",
      "  (1153, 1152)\t-1.1784326729428072\n",
      "  (1252, 1152)\t0.5174597134980807\n",
      "  (1253, 1152)\t-1.0417553597270603\n",
      "  (1052, 1153)\t-1.0270594211044677\n",
      "  (1152, 1153)\t-1.1784326729428072\n",
      "  (1151, 1251)\t0.5187770576967305\n",
      "  (1151, 1252)\t-1.0541005741324023\n",
      "  (1152, 1252)\t0.5174597134980807\n",
      "  (1152, 1253)\t-1.0417553597270603\n"
     ]
    }
   ],
   "source": [
    "print(Bmat)"
   ]
  },
  {
   "cell_type": "code",
   "execution_count": 17,
   "metadata": {},
   "outputs": [
    {
     "data": {
      "text/plain": [
       "67"
      ]
     },
     "execution_count": 17,
     "metadata": {},
     "output_type": "execute_result"
    }
   ],
   "source": [
    "len(v)"
   ]
  },
  {
   "cell_type": "code",
   "execution_count": 18,
   "metadata": {},
   "outputs": [
    {
     "data": {
      "image/png": "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\n",
      "text/plain": [
       "<Figure size 432x288 with 1 Axes>"
      ]
     },
     "metadata": {
      "needs_background": "light"
     },
     "output_type": "display_data"
    }
   ],
   "source": [
    "plt.scatter(uu,v)\n",
    "plt.plot([-2,40],[-2,40])\n",
    "plt.show()"
   ]
  },
  {
   "cell_type": "code",
   "execution_count": 19,
   "metadata": {},
   "outputs": [
    {
     "data": {
      "text/plain": [
       "array([-0.0002879 , -0.00049865, -0.00049865, ..., -0.00049865,\n",
       "       -0.00049865, -0.0002879 ])"
      ]
     },
     "execution_count": 19,
     "metadata": {},
     "output_type": "execute_result"
    }
   ],
   "source": [
    "S.getLambdaGrads(ipar)"
   ]
  },
  {
   "cell_type": "code",
   "execution_count": 50,
   "metadata": {},
   "outputs": [],
   "source": [
    "eps=1e-4\n",
    "\n",
    "thetaaux = vect.copy()\n",
    "thetaaux[ind]=vect[ind]+eps\n",
    "resultDb.setColumn(thetaaux,name)\n",
    "Sp = ShiftOpMatrix(mesh, model, resultDb)\n",
    "Lambdap=Sp.getLambdas()\n",
    "\n",
    "thetaaux = vect.copy()\n",
    "thetaaux[ind]=vect[ind]-eps\n",
    "resultDb.setColumn(thetaaux,name)\n",
    "Sm = ShiftOpMatrix(mesh, model, resultDb)\n",
    "Lambdam=Sm.getLambdas()"
   ]
  },
  {
   "cell_type": "code",
   "execution_count": 51,
   "metadata": {},
   "outputs": [],
   "source": [
    "\n",
    "a=((np.array(Lambdap)-np.array(Lambdam))/(2*eps))[ind]"
   ]
  },
  {
   "cell_type": "code",
   "execution_count": 52,
   "metadata": {},
   "outputs": [],
   "source": [
    "b=S.getLambdaGrads(ipar)"
   ]
  },
  {
   "cell_type": "code",
   "execution_count": 53,
   "metadata": {},
   "outputs": [
    {
     "name": "stdout",
     "output_type": "stream",
     "text": [
      "-0.00023516363517953054\n",
      "-0.0007051650758682916\n"
     ]
    }
   ],
   "source": [
    "print(a)\n",
    "print(b[ind])"
   ]
  },
  {
   "cell_type": "code",
   "execution_count": null,
   "metadata": {},
   "outputs": [],
   "source": [
    "#a/b"
   ]
  },
  {
   "cell_type": "code",
   "execution_count": 26,
   "metadata": {},
   "outputs": [],
   "source": [
    "#S.initGradFromMesh(mesh,model,resultDb,NoStat)\n",
    "Q=PrecisionOpCs(S,model.getCova(0))"
   ]
  },
  {
   "cell_type": "code",
   "execution_count": 27,
   "metadata": {},
   "outputs": [],
   "source": [
    "invect = VectorDouble(Q.getSize())\n",
    "for i in range(invect.size()):\n",
    "    invect[i] = np.random.normal(size=(1,))[0]\n",
    "out = VectorDouble(Q.getSize())\n",
    "Q.evalDeriv(invect,out,ind,ipar)"
   ]
  },
  {
   "cell_type": "code",
   "execution_count": 28,
   "metadata": {},
   "outputs": [
    {
     "data": {
      "image/png": "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\n",
      "text/plain": [
       "<Figure size 432x288 with 1 Axes>"
      ]
     },
     "metadata": {
      "needs_background": "light"
     },
     "output_type": "display_data"
    }
   ],
   "source": [
    "ax = plt.imshow(np.array([i for i in out]).reshape((101,101)))"
   ]
  },
  {
   "cell_type": "code",
   "execution_count": 29,
   "metadata": {},
   "outputs": [],
   "source": [
    "X = np.random.normal(size=Q.getSize())\n",
    "Y = np.random.normal(size=Q.getSize())"
   ]
  },
  {
   "cell_type": "code",
   "execution_count": 30,
   "metadata": {},
   "outputs": [],
   "source": [
    "Qmat=PrecisionOpCs(Sp,model.getCova(0)).getQ().toTL()"
   ]
  },
  {
   "cell_type": "code",
   "execution_count": 31,
   "metadata": {},
   "outputs": [
    {
     "data": {
      "text/plain": [
       "-15879517.914436292"
      ]
     },
     "execution_count": 31,
     "metadata": {},
     "output_type": "execute_result"
    }
   ],
   "source": [
    "Xvect = gl.VectorDouble(Q.getSize())\n",
    "Yvect = gl.VectorDouble(Q.getSize())\n",
    "resultp = gl.VectorDouble(Qp.getSize())\n",
    "resultm = gl.VectorDouble(Qp.getSize())\n",
    "for i in range(invect.size()):\n",
    "    Xvect[i] = X[i]\n",
    "    Yvect[i] = Y[i]\n",
    "Qp.eval(Xvect,resultp)\n",
    "Qm.eval(Xvect,resultm)\n",
    "rp = np.array(resultp.getVector())\n",
    "rm = np.array(resultm.getVector())\n",
    "aa=(Y.T@rp - Y.T@rm)/(2*eps)\n",
    "aa"
   ]
  },
  {
   "cell_type": "code",
   "execution_count": 32,
   "metadata": {},
   "outputs": [
    {
     "data": {
      "text/plain": [
       "-205.9087227686445"
      ]
     },
     "execution_count": 32,
     "metadata": {},
     "output_type": "execute_result"
    }
   ],
   "source": [
    "out = VectorDouble(Q.getSize())\n",
    "Q.evalDeriv(Xvect,out,ind,ipar)\n",
    "ou = np.array(out.getVector())\n",
    "terme1 = Y.T@ou\n",
    "terme1"
   ]
  },
  {
   "cell_type": "code",
   "execution_count": 33,
   "metadata": {},
   "outputs": [
    {
     "data": {
      "text/plain": [
       "1.2966937905681004e-05"
      ]
     },
     "execution_count": 33,
     "metadata": {},
     "output_type": "execute_result"
    }
   ],
   "source": [
    "terme1/aa"
   ]
  },
  {
   "cell_type": "code",
   "execution_count": 34,
   "metadata": {},
   "outputs": [],
   "source": [
    "u      = np.zeros(shape=Q.getSize())\n",
    "u[ind] = S.getLambdaGrads(ipar)[ind]\n",
    "w      = 2*u/S.getLambdas()"
   ]
  },
  {
   "cell_type": "code",
   "execution_count": 35,
   "metadata": {},
   "outputs": [
    {
     "data": {
      "text/plain": [
       "74.02428393382255"
      ]
     },
     "execution_count": 35,
     "metadata": {},
     "output_type": "execute_result"
    }
   ],
   "source": [
    "(w*Y)[ind]*(Qmat@X)[ind]"
   ]
  },
  {
   "cell_type": "code",
   "execution_count": 36,
   "metadata": {},
   "outputs": [],
   "source": [
    "terme2 = (w*Y).T@Qmat@(X)"
   ]
  },
  {
   "cell_type": "code",
   "execution_count": 37,
   "metadata": {},
   "outputs": [
    {
     "data": {
      "text/plain": [
       "120404.78812155027"
      ]
     },
     "execution_count": 37,
     "metadata": {},
     "output_type": "execute_result"
    }
   ],
   "source": [
    "bb=terme1+terme2\n",
    "aa/bb"
   ]
  },
  {
   "cell_type": "code",
   "execution_count": 38,
   "metadata": {},
   "outputs": [
    {
     "data": {
      "text/plain": [
       "74.02428393382256"
      ]
     },
     "execution_count": 38,
     "metadata": {},
     "output_type": "execute_result"
    }
   ],
   "source": [
    "terme2"
   ]
  },
  {
   "cell_type": "code",
   "execution_count": 39,
   "metadata": {},
   "outputs": [],
   "source": [
    "result = VectorDouble(Q.getSize() * S.getNModelGradParam())\n",
    "Q.gradYQX(Xvect,Yvect,result)"
   ]
  },
  {
   "cell_type": "code",
   "execution_count": 40,
   "metadata": {},
   "outputs": [
    {
     "data": {
      "text/plain": [
       "1.3093947255945568"
      ]
     },
     "execution_count": 40,
     "metadata": {},
     "output_type": "execute_result"
    }
   ],
   "source": [
    "Xvect[ind]"
   ]
  },
  {
   "cell_type": "code",
   "execution_count": 41,
   "metadata": {},
   "outputs": [
    {
     "data": {
      "text/plain": [
       "465164.52629661665"
      ]
     },
     "execution_count": 41,
     "metadata": {},
     "output_type": "execute_result"
    }
   ],
   "source": [
    "aa/result[S.getSGradAddress(ind,ipar)]"
   ]
  },
  {
   "cell_type": "code",
   "execution_count": 42,
   "metadata": {},
   "outputs": [
    {
     "data": {
      "text/plain": [
       "-15879517.914436292"
      ]
     },
     "execution_count": 42,
     "metadata": {},
     "output_type": "execute_result"
    }
   ],
   "source": [
    "aa"
   ]
  },
  {
   "cell_type": "code",
   "execution_count": null,
   "metadata": {},
   "outputs": [],
   "source": [
    "bb"
   ]
  },
  {
   "cell_type": "code",
   "execution_count": null,
   "metadata": {},
   "outputs": [],
   "source": [
    "result[S.getSGradAddress(ind,ipar)]\n",
    "S.getSGradAddress(ind,ipar)"
   ]
  },
  {
   "cell_type": "code",
   "execution_count": null,
   "metadata": {},
   "outputs": [],
   "source": [
    "aa/bb"
   ]
  },
  {
   "cell_type": "code",
   "execution_count": null,
   "metadata": {},
   "outputs": [],
   "source": [
    "terme1"
   ]
  },
  {
   "cell_type": "code",
   "execution_count": null,
   "metadata": {},
   "outputs": [],
   "source": []
  }
 ],
 "metadata": {
  "kernelspec": {
   "display_name": "Python 3 (ipykernel)",
   "language": "python",
   "name": "python3"
  },
  "language_info": {
   "codemirror_mode": {
    "name": "ipython",
    "version": 3
   },
   "file_extension": ".py",
   "mimetype": "text/x-python",
   "name": "python",
   "nbconvert_exporter": "python",
   "pygments_lexer": "ipython3",
   "version": "3.10.2"
  }
 },
 "nbformat": 4,
 "nbformat_minor": 4
}
