{
 "cells": [
  {
   "cell_type": "markdown",
   "metadata": {},
   "source": [
    "# Test sur les Gradients en SPDE"
   ]
  },
  {
   "cell_type": "code",
   "execution_count": null,
   "metadata": {},
   "outputs": [],
   "source": [
    "%%javascript\n",
    "IPython.OutputArea.prototype._should_scroll = function(lines) {\n",
    "return false;\n",
    "}"
   ]
  },
  {
   "cell_type": "code",
   "execution_count": null,
   "metadata": {},
   "outputs": [],
   "source": [
    "import scipy as sc\n",
    "from scipy.sparse import *\n",
    "from scipy.sparse.linalg import *\n",
    "import numpy as np\n",
    "\n",
    "import matplotlib.pyplot as plt\n",
    "\n",
    "from gstlearn import *\n",
    "import gstlearn.plot as gp"
   ]
  },
  {
   "cell_type": "markdown",
   "metadata": {},
   "source": [
    "Auxiliary function"
   ]
  },
  {
   "cell_type": "code",
   "execution_count": null,
   "metadata": {},
   "outputs": [],
   "source": [
    "def fa(x,y,a,b):\n",
    "    return a*x + b*y\n",
    "\n",
    "def spirale(db,a=0,b=-1.4,c=1.,d=1.,plot = False):\n",
    "    x1c = db[\"x1\"] \n",
    "    x2c = db[\"x2\"] \n",
    "    u1=fa(x1c-50,x2c-50,a,b)\n",
    "    u2=fa(x1c-50,x2c-50,c,d)\n",
    "    shape = db.getNXs()\n",
    "    norm = np.sqrt(u1**2+u2**2)\n",
    "    ind = norm>0\n",
    "    theta = np.zeros_like(norm)\n",
    "    theta[norm>0] = np.arccos(u2[ind]/norm[ind])/np.pi*180*np.sign(u1[ind])\n",
    "    x1c=x1c.reshape(shape)\n",
    "    x2c=x2c.reshape(shape)\n",
    "    u1=u1.reshape(shape)\n",
    "    u2=u2.reshape(shape)\n",
    "    if plot:\n",
    "        plt.quiver(x1c,x2c,u1,u2)\n",
    "        plt.axis(\"equal\")\n",
    "        plt.show()\n",
    "    return theta"
   ]
  },
  {
   "cell_type": "markdown",
   "metadata": {},
   "source": [
    "Draw a vector field"
   ]
  },
  {
   "cell_type": "code",
   "execution_count": null,
   "metadata": {},
   "outputs": [],
   "source": [
    "verbose = False\n",
    "\n",
    "#Création de la grille de représentation\n",
    "workingDbc = DbGrid.create([10,10],[10.,10.])\n",
    "spirale(workingDbc,plot=False);\n",
    "\n",
    "resultDb = DbGrid.create([101,101],[1,1]) \n",
    "x1 = resultDb[\"x1\"]\n",
    "x2 = resultDb[\"x2\"] \n",
    "theta = spirale(resultDb)\n",
    "Scale1=5.  * np.ones(theta.size)\n",
    "Scale2=20. * np.ones(theta.size)\n",
    "resultDb[\"theta\"] = theta\n",
    "resultDb[\"Scale1\"] = Scale1\n",
    "resultDb[\"Scale2\"] = Scale2\n",
    "resultDb.setLocators(['theta','Scale1','Scale2'],ELoc.NOSTAT)\n",
    "\n",
    "#ax = gp.grid(resultDb,\"theta\")"
   ]
  },
  {
   "cell_type": "markdown",
   "metadata": {},
   "source": [
    "Initialize the necessary elements."
   ]
  },
  {
   "cell_type": "code",
   "execution_count": null,
   "metadata": {},
   "outputs": [],
   "source": [
    "# Création de la Base de Données\n",
    "np.random.seed(124)\n",
    "ndat=10000\n",
    "coords=np.random.uniform(1,99,size=(ndat,2))\n",
    "dat = Db()\n",
    "dat[\"X\"] = coords[:,0]\n",
    "dat[\"Y\"] = coords[:,1]\n",
    "dat.setLocators(['X','Y'],ELoc.X)\n",
    "\n",
    "# Création du modèle. Attention le grand axe doit etre fourni en premier: il correspond à la direction pointée par l'angle 'theta'.\n",
    "model = Model.createFromParam(ECov.BESSEL_K,ranges = [4,81],flagRange = False)\n",
    "\n",
    "NoStat = NoStatArray([\"A\",\"S1\",\"S2\"],resultDb)\n",
    "model.addNoStat(NoStat)\n",
    "\n",
    "# Création de la grille de travail\n",
    "workingDb = DbGrid.create([101,101],[1,1])\n",
    "#workingDb = DbGrid.create([11,11],[1,1]) \n",
    "mesh = MeshETurbo(workingDb)"
   ]
  },
  {
   "cell_type": "code",
   "execution_count": null,
   "metadata": {},
   "outputs": [],
   "source": [
    "ind=1051 #indice du vertex\n",
    "\n",
    "ipar = 1\n",
    "if ipar == 0 :\n",
    "    vect = Scale1\n",
    "    name = \"Scale1\"\n",
    "if ipar == 1 :\n",
    "    vect = Scale2 \n",
    "    name = \"Scale2\"\n",
    "if ipar == 2 :\n",
    "    vect = theta\n",
    "    name = \"theta\""
   ]
  },
  {
   "cell_type": "code",
   "execution_count": null,
   "metadata": {},
   "outputs": [],
   "source": [
    "S = ShiftOpCs(mesh, model, resultDb)\n",
    "err = S.initGradFromMesh(mesh,model)"
   ]
  },
  {
   "cell_type": "code",
   "execution_count": null,
   "metadata": {},
   "outputs": [],
   "source": [
    "Btr = csToTriplet(S.getSGrad(ind,ipar))\n",
    "Bmat=csc_matrix((np.array(Btr.values), (np.array(Btr.rows), np.array(Btr.cols))),\n",
    "                          shape=(Btr.nrows,Btr.ncols))"
   ]
  },
  {
   "cell_type": "code",
   "execution_count": null,
   "metadata": {
    "scrolled": true
   },
   "outputs": [],
   "source": [
    "Bmat"
   ]
  },
  {
   "cell_type": "code",
   "execution_count": null,
   "metadata": {},
   "outputs": [],
   "source": [
    "#print(Bmat)"
   ]
  },
  {
   "cell_type": "code",
   "execution_count": null,
   "metadata": {
    "scrolled": true
   },
   "outputs": [],
   "source": [
    "eps=1e-3\n",
    "tol = 1e-10\n",
    "\n",
    "thetaaux = vect.copy()\n",
    "thetaaux[ind]=vect[ind]+eps\n",
    "resultDb.setColumn(thetaaux,name)\n",
    "Sp = ShiftOpCs(mesh, model, resultDb)\n",
    "Smatpt = csToTriplet(Sp.getS())\n",
    "\n",
    "thetaaux[ind]=vect[ind]-eps\n",
    "resultDb.setColumn(thetaaux,name)\n",
    "Sm = ShiftOpCs(mesh, model, resultDb)\n",
    "Smatmt = csToTriplet(Sm.getS())\n",
    "\n",
    "indeps = np.abs(np.array(Smatpt.values)-np.array(Smatmt.values))/(2*eps)>tol\n",
    "\n",
    "Smatp = csc_matrix((np.array(Smatpt.values)[indeps], (np.array(Smatpt.rows)[indeps], np.array(Smatpt.cols)[indeps])),shape=(Smatpt.nrows,Smatpt.ncols))\n",
    "Smatm = csc_matrix((np.array(Smatmt.values)[indeps], (np.array(Smatmt.rows)[indeps], np.array(Smatmt.cols)[indeps])),shape=(Smatmt.nrows,Smatmt.ncols))\n",
    "\n",
    "A=(Smatp-Smatm)/(2*eps)"
   ]
  },
  {
   "cell_type": "code",
   "execution_count": null,
   "metadata": {},
   "outputs": [],
   "source": [
    "A.nonzero()"
   ]
  },
  {
   "cell_type": "code",
   "execution_count": null,
   "metadata": {},
   "outputs": [],
   "source": [
    "A[A.nonzero()]"
   ]
  },
  {
   "cell_type": "code",
   "execution_count": null,
   "metadata": {},
   "outputs": [],
   "source": [
    "print(A)"
   ]
  },
  {
   "cell_type": "code",
   "execution_count": null,
   "metadata": {},
   "outputs": [],
   "source": [
    "uu = A.data\n",
    "v = Bmat.data"
   ]
  },
  {
   "cell_type": "code",
   "execution_count": null,
   "metadata": {},
   "outputs": [],
   "source": [
    "print(Bmat)"
   ]
  },
  {
   "cell_type": "code",
   "execution_count": null,
   "metadata": {},
   "outputs": [],
   "source": [
    "len(v)"
   ]
  },
  {
   "cell_type": "code",
   "execution_count": null,
   "metadata": {},
   "outputs": [],
   "source": [
    "plt.scatter(uu,v)\n",
    "plt.plot([-2,40],[-2,40])\n",
    "plt.show()"
   ]
  },
  {
   "cell_type": "code",
   "execution_count": null,
   "metadata": {},
   "outputs": [],
   "source": [
    "S.getLambdaGrads(ipar)"
   ]
  },
  {
   "cell_type": "code",
   "execution_count": null,
   "metadata": {},
   "outputs": [],
   "source": [
    "thetaaux = vect.copy()\n",
    "thetaaux[ind]=vect[ind]+eps\n",
    "resultDb.setColumn(thetaaux,name)\n",
    "Sp = ShiftOpCs(mesh, model, resultDb)\n",
    "Lambdap=Sp.getLambdas()\n",
    "\n",
    "thetaaux = vect.copy()\n",
    "thetaaux[ind]=vect[ind]-eps\n",
    "resultDb.setColumn(thetaaux,name)\n",
    "Sm = ShiftOpCs(mesh, model, resultDb)\n",
    "Lambdam=Sm.getLambdas()"
   ]
  },
  {
   "cell_type": "code",
   "execution_count": null,
   "metadata": {},
   "outputs": [],
   "source": [
    "eps=1e-8\n",
    "\n",
    "a=((np.array(Lambdap)-np.array(Lambdam))/(2*eps))[ind]"
   ]
  },
  {
   "cell_type": "code",
   "execution_count": null,
   "metadata": {},
   "outputs": [],
   "source": [
    "b=S.getLambdaGrads(1)"
   ]
  },
  {
   "cell_type": "code",
   "execution_count": null,
   "metadata": {},
   "outputs": [],
   "source": [
    "print(a)\n",
    "print(b[ind])"
   ]
  },
  {
   "cell_type": "code",
   "execution_count": null,
   "metadata": {},
   "outputs": [],
   "source": [
    "#a/b"
   ]
  },
  {
   "cell_type": "code",
   "execution_count": null,
   "metadata": {},
   "outputs": [],
   "source": [
    "#S.initGradFromMesh(mesh,model,resultDb,NoStat)\n",
    "Q=PrecisionOpCs(S,model.getCova(0),EPowerPT.ONE)"
   ]
  },
  {
   "cell_type": "code",
   "execution_count": null,
   "metadata": {},
   "outputs": [],
   "source": [
    "invect = VectorDouble(Q.getSize())\n",
    "for i in range(invect.size()):\n",
    "    invect[i] = np.random.normal(size=(1,))[0]\n",
    "out = VectorDouble(Q.getSize())\n",
    "Q.evalDeriv(invect,out,ind,ipar)"
   ]
  },
  {
   "cell_type": "code",
   "execution_count": null,
   "metadata": {},
   "outputs": [],
   "source": [
    "ax = plt.imshow(np.array([i for i in out]).reshape((101,101)))"
   ]
  },
  {
   "cell_type": "code",
   "execution_count": null,
   "metadata": {},
   "outputs": [],
   "source": [
    "X = np.random.normal(size=Q.getSize())\n",
    "Y = np.random.normal(size=Q.getSize())"
   ]
  },
  {
   "cell_type": "code",
   "execution_count": null,
   "metadata": {},
   "outputs": [],
   "source": [
    "Qp=PrecisionOpCs(Sp,model.getCova(0),EPowerPT.ONE)\n",
    "Qm=PrecisionOpCs(Sm,model.getCova(0),EPowerPT.ONE)\n",
    "Qt = csToTriplet(Q.getQ())\n",
    "Qpt = csToTriplet(Qp.getQ())\n",
    "Qmt = csToTriplet(Qm.getQ())\n",
    "Qmat = csc_matrix((np.array(Qt.values), (np.array(Qt.rows), np.array(Qt.cols))),\n",
    "                    shape=(Qt.nrows,Qt.ncols))\n",
    "Qpmat = csc_matrix((np.array(Qpt.values), (np.array(Qpt.rows), np.array(Qpt.cols))),\n",
    "                    shape=(Qpt.nrows,Qpt.ncols))\n",
    "Qmmat = csc_matrix((np.array(Qmt.values), (np.array(Qmt.rows), np.array(Qmt.cols))),\n",
    "                    shape=(Qmt.nrows,Qmt.ncols))"
   ]
  },
  {
   "cell_type": "code",
   "execution_count": null,
   "metadata": {},
   "outputs": [],
   "source": [
    "Xvect = gl.VectorDouble(Q.getSize())\n",
    "Yvect = gl.VectorDouble(Q.getSize())\n",
    "resultp = gl.VectorDouble(Qp.getSize())\n",
    "resultm = gl.VectorDouble(Qp.getSize())\n",
    "for i in range(invect.size()):\n",
    "    Xvect[i] = X[i]\n",
    "    Yvect[i] = Y[i]\n",
    "Qp.eval(Xvect,resultp)\n",
    "Qm.eval(Xvect,resultm)\n",
    "rp = np.array(resultp.getVector())\n",
    "rm = np.array(resultm.getVector())\n",
    "aa=(Y.T@rp - Y.T@rm)/(2*eps)\n",
    "aa"
   ]
  },
  {
   "cell_type": "code",
   "execution_count": null,
   "metadata": {},
   "outputs": [],
   "source": [
    "out = VectorDouble(Q.getSize())\n",
    "Q.evalDeriv(Xvect,out,ind,ipar)\n",
    "ou = np.array(out.getVector())\n",
    "terme1 = Y.T@ou\n",
    "terme1"
   ]
  },
  {
   "cell_type": "code",
   "execution_count": null,
   "metadata": {},
   "outputs": [],
   "source": [
    "terme1/aa"
   ]
  },
  {
   "cell_type": "code",
   "execution_count": null,
   "metadata": {},
   "outputs": [],
   "source": [
    "u      = np.zeros(shape=Q.getSize())\n",
    "u[ind] = S.getLambdaGrads(ipar)[ind]\n",
    "w      = 2*u/S.getLambdas()"
   ]
  },
  {
   "cell_type": "code",
   "execution_count": null,
   "metadata": {},
   "outputs": [],
   "source": [
    "(w*Y)[ind]*(Qmat@X)[ind]"
   ]
  },
  {
   "cell_type": "code",
   "execution_count": null,
   "metadata": {},
   "outputs": [],
   "source": [
    "terme2 = (w*Y).T@Qmat@(X)"
   ]
  },
  {
   "cell_type": "code",
   "execution_count": null,
   "metadata": {},
   "outputs": [],
   "source": [
    "bb=terme1+terme2\n",
    "aa/bb"
   ]
  },
  {
   "cell_type": "code",
   "execution_count": null,
   "metadata": {},
   "outputs": [],
   "source": [
    "terme2"
   ]
  },
  {
   "cell_type": "code",
   "execution_count": null,
   "metadata": {},
   "outputs": [],
   "source": [
    "result = VectorDouble(Q.getSize() * S.getNModelGradParam())\n",
    "Q.gradYQX(Xvect,Yvect,result)"
   ]
  },
  {
   "cell_type": "code",
   "execution_count": null,
   "metadata": {},
   "outputs": [],
   "source": [
    "Xvect[ind]"
   ]
  },
  {
   "cell_type": "code",
   "execution_count": null,
   "metadata": {},
   "outputs": [],
   "source": [
    "aa/result[S.getSGradAddress(ind,ipar)]"
   ]
  },
  {
   "cell_type": "code",
   "execution_count": null,
   "metadata": {},
   "outputs": [],
   "source": [
    "aa"
   ]
  },
  {
   "cell_type": "code",
   "execution_count": null,
   "metadata": {},
   "outputs": [],
   "source": [
    "bb"
   ]
  },
  {
   "cell_type": "code",
   "execution_count": null,
   "metadata": {},
   "outputs": [],
   "source": [
    "result[S.getSGradAddress(ind,ipar)]\n",
    "S.getSGradAddress(ind,ipar)"
   ]
  },
  {
   "cell_type": "code",
   "execution_count": null,
   "metadata": {},
   "outputs": [],
   "source": [
    "aa/bb"
   ]
  },
  {
   "cell_type": "code",
   "execution_count": null,
   "metadata": {},
   "outputs": [],
   "source": [
    "terme1"
   ]
  },
  {
   "cell_type": "code",
   "execution_count": null,
   "metadata": {},
   "outputs": [],
   "source": []
  }
 ],
 "metadata": {
  "kernelspec": {
   "display_name": "Python 3 (ipykernel)",
   "language": "python",
   "name": "python3"
  },
  "language_info": {
   "codemirror_mode": {
    "name": "ipython",
    "version": 3
   },
   "file_extension": ".py",
   "mimetype": "text/x-python",
   "name": "python",
   "nbconvert_exporter": "python",
   "pygments_lexer": "ipython3",
   "version": "3.10.5"
  }
 },
 "nbformat": 4,
 "nbformat_minor": 4
}
