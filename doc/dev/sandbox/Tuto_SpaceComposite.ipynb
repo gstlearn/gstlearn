{
 "cells": [
  {
   "cell_type": "markdown",
   "id": "7718c2a8",
   "metadata": {},
   "source": [
    "# Space Composite Demonstration"
   ]
  },
  {
   "cell_type": "markdown",
   "id": "57609d7f",
   "metadata": {},
   "source": [
    "<!-- SUMMARY: Migration of one or several variables from one data organization to another. Particular use of the Ball Tree sorting. -->\n",
    "\n",
    "<!-- CATEGORY: Data_Base_Management -->"
   ]
  },
  {
   "cell_type": "markdown",
   "id": "ed8b80f3",
   "metadata": {},
   "source": [
    "This case study is meant to demonstrate how to use *gstlearn* for defining composit space. The example here uses a space defined for RN(2) + RN(1) (for example, buoys (localized in 2D) that measure sea surface temperature every hour (time in 1D))"
   ]
  },
  {
   "cell_type": "code",
   "execution_count": null,
   "id": "9289c006",
   "metadata": {},
   "outputs": [],
   "source": [
    "import gstlearn as gl\n",
    "import gstlearn.plot as gp\n",
    "import gstlearn.document as gdoc\n",
    "import matplotlib.pyplot as plt\n",
    "import pandas as pd\n",
    "import numpy as np\n",
    "\n",
    "gdoc.setNoScroll()"
   ]
  },
  {
   "cell_type": "markdown",
   "id": "1856711c",
   "metadata": {},
   "source": [
    "Generate buoys position and temperature measurements"
   ]
  },
  {
   "cell_type": "code",
   "execution_count": 3,
   "id": "9e9d5c43",
   "metadata": {},
   "outputs": [],
   "source": [
    "gl.defineDefaultSpace(gl.ESpaceType.RN, 2) # 2D space (water surface)"
   ]
  },
  {
   "cell_type": "code",
   "execution_count": null,
   "id": "b531b8ff",
   "metadata": {},
   "outputs": [],
   "source": [
    "grid = gl.DbGrid.create([100,100], [1, 1])\n",
    "model = gl.Model.createFromParam(gl.ECov.SPHERICAL, 30., 1.)\n",
    "gl.simtub(None, grid, model)\n",
    "gp.plot(grid)"
   ]
  },
  {
   "cell_type": "code",
   "execution_count": null,
   "id": "3e41cef4",
   "metadata": {},
   "outputs": [],
   "source": [
    "nbuoys = 20\n",
    "buoys = gl.Db.createSamplingDb(grid, 0., nbuoys, [\"x1\",\"x2\",\"Simu\"])\n",
    "gp.plot(buoys, nameSize=\"Simu\")\n",
    "plt.title(\"Mean temperatures\")\n",
    "plt.show()"
   ]
  },
  {
   "cell_type": "code",
   "execution_count": null,
   "id": "def27b9e",
   "metadata": {},
   "outputs": [],
   "source": [
    "ntimes = 24*6 # 6 days\n",
    "t = np.arange(0, ntimes)\n",
    "ct = np.cos(t*6/24)\n",
    "plt.plot(t,ct)\n",
    "\n",
    "rt = [3 + it + np.random.uniform() for it in ct]\n",
    "plt.plot(t,rt)\n",
    "\n",
    "x = np.repeat(buoys[\"x1\"], ntimes)\n",
    "y = np.repeat(buoys[\"x2\"], ntimes)\n",
    "t = np.tile(t, nbuoys)\n",
    "v = [iv + 3 + it + np.random.uniform() for iv in buoys[\"Simu\"] for it in ct]\n",
    "df = pd.DataFrame({\"x\":x, \"y\":y, \"t\":t, \"v\":v})\n",
    "df"
   ]
  },
  {
   "cell_type": "code",
   "execution_count": null,
   "metadata": {},
   "outputs": [],
   "source": [
    "x"
   ]
  },
  {
   "cell_type": "markdown",
   "id": "d446a018",
   "metadata": {},
   "source": [
    "Global parameters."
   ]
  },
  {
   "cell_type": "code",
   "execution_count": 4,
   "id": "24768947",
   "metadata": {},
   "outputs": [],
   "source": [
    "gl.defineDefaultSpace(gl.ESpaceType.RN, 2, 0., True) # 2D space with time"
   ]
  },
  {
   "cell_type": "code",
   "execution_count": null,
   "id": "a085f0b6",
   "metadata": {},
   "outputs": [],
   "source": [
    "sp = gl.getDefaultSpace()\n",
    "sp"
   ]
  },
  {
   "cell_type": "code",
   "execution_count": null,
   "id": "be10413c",
   "metadata": {},
   "outputs": [],
   "source": [
    "np.random.seed(123456)\n",
    "x = [np.random.uniform(100) for i in range(nbuoys)]\n",
    "y = [np.random.uniform(100) for i in range(nbuoys)]\n",
    "t = np.arange(0, ntimes)\n",
    "x = np.tile(x, ntimes)\n",
    "y = np.tile(y, ntimes)\n",
    "t = np.repeat(t, nbuoys)\n",
    "v = [np.random.uniform() for i in range(nbuoys*ntimes)]\n",
    "df = pd.DataFrame({\"x\":x, \"y\":y, \"t\":t, \"v\":v})\n",
    "df"
   ]
  },
  {
   "cell_type": "markdown",
   "id": "a99fb195",
   "metadata": {},
   "source": [
    "Generate initial data set"
   ]
  },
  {
   "cell_type": "code",
   "execution_count": null,
   "id": "feb5777f",
   "metadata": {},
   "outputs": [],
   "source": [
    "data = gl.Db_fromPanda(df)\n",
    "data.setLocators([\"x\", \"y\", \"t\"], gl.ELoc.X)\n",
    "data.setLocators([\"x\", \"y\", \"t\"], gl.ELoc.Z)\n",
    "data.display()\n",
    "gp.plot(data, nameSize=\"v\")"
   ]
  },
  {
   "cell_type": "code",
   "execution_count": null,
   "id": "beea84e9",
   "metadata": {},
   "outputs": [],
   "source": []
  }
 ],
 "metadata": {
  "kernelspec": {
   "display_name": "Python 3 (ipykernel)",
   "language": "python",
   "name": "python3"
  },
  "language_info": {
   "codemirror_mode": {
    "name": "ipython",
    "version": 3
   },
   "file_extension": ".py",
   "mimetype": "text/x-python",
   "name": "python",
   "nbconvert_exporter": "python",
   "pygments_lexer": "ipython3",
   "version": "3.10.12"
  },
  "toc": {
   "base_numbering": 1,
   "nav_menu": {},
   "number_sections": true,
   "sideBar": true,
   "skip_h1_title": false,
   "title_cell": "Table of Contents",
   "title_sidebar": "Contents",
   "toc_cell": false,
   "toc_position": {},
   "toc_section_display": true,
   "toc_window_display": false
  }
 },
 "nbformat": 4,
 "nbformat_minor": 5
}
