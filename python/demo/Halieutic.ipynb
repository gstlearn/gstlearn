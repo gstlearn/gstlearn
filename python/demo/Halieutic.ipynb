{
 "cells": [
  {
   "cell_type": "code",
   "execution_count": 1,
   "metadata": {},
   "outputs": [],
   "source": [
    "import pandas as pd\n",
    "import numpy as np\n",
    "import matplotlib.pyplot as plt\n",
    "import gstlearn as gl\n",
    "import gstlearn.plot as gp\n",
    "import gstlearn.proj as gpd\n",
    "import os"
   ]
  },
  {
   "cell_type": "markdown",
   "metadata": {},
   "source": [
    "Le jeu de données du groupe de travail CIEM WGACEGG: densités acoustiques (NASC) d'anchois et de sardine par unité d'échantillonnage de 1 mille nautique de long, observées au printemps 2018 et 2021.\n",
    "\n",
    "Description des colonnes : \n",
    "- survey : campagne\n",
    "- year : année\n",
    "- time : date/heure enregistrement donnée\n",
    "- x : longitude en ° décimal WGS84\n",
    "- y : latitude en ° décimal WGS84\n",
    "- NASC : densité acoustique en m2.MN-2\n",
    "- sp : espèce anchois = \"ENGR-ENC\"\n",
    "- sardine =\"SARD-PIL\"\n",
    "\n",
    "Pour plus d'infos sur l'origine de ces données : Doray, M., Van Der Kooij, J., Boyra, G. (Eds.), 2021. ICES Survey Protocols - Manual for acoustic surveys coordinated under the ICES Working Group on Acoustic and Egg Surveys for Small Pelagic Fish (WGACEGG). https://doi.org/10.17895/ICES.PUB.7462."
   ]
  },
  {
   "cell_type": "markdown",
   "metadata": {},
   "source": [
    "Lecture du fichier de données"
   ]
  },
  {
   "cell_type": "code",
   "execution_count": 2,
   "metadata": {},
   "outputs": [
    {
     "data": {
      "text/html": [
       "<div>\n",
       "<style scoped>\n",
       "    .dataframe tbody tr th:only-of-type {\n",
       "        vertical-align: middle;\n",
       "    }\n",
       "\n",
       "    .dataframe tbody tr th {\n",
       "        vertical-align: top;\n",
       "    }\n",
       "\n",
       "    .dataframe thead th {\n",
       "        text-align: right;\n",
       "    }\n",
       "</style>\n",
       "<table border=\"1\" class=\"dataframe\">\n",
       "  <thead>\n",
       "    <tr style=\"text-align: right;\">\n",
       "      <th></th>\n",
       "      <th>survey</th>\n",
       "      <th>year</th>\n",
       "      <th>time</th>\n",
       "      <th>x</th>\n",
       "      <th>y</th>\n",
       "      <th>NASC</th>\n",
       "      <th>sp</th>\n",
       "    </tr>\n",
       "  </thead>\n",
       "  <tbody>\n",
       "    <tr>\n",
       "      <th>0</th>\n",
       "      <td>AC_SPRING_IBBB</td>\n",
       "      <td>2018</td>\n",
       "      <td>04/05/2018 19:20:00</td>\n",
       "      <td>-9.295565</td>\n",
       "      <td>40.381000</td>\n",
       "      <td>0.0</td>\n",
       "      <td>ENGR-ENC</td>\n",
       "    </tr>\n",
       "    <tr>\n",
       "      <th>1</th>\n",
       "      <td>AC_SPRING_IBBB</td>\n",
       "      <td>2018</td>\n",
       "      <td>04/05/2018 19:43:00</td>\n",
       "      <td>-9.229598</td>\n",
       "      <td>40.381582</td>\n",
       "      <td>0.0</td>\n",
       "      <td>ENGR-ENC</td>\n",
       "    </tr>\n",
       "    <tr>\n",
       "      <th>2</th>\n",
       "      <td>AC_SPRING_IBBB</td>\n",
       "      <td>2018</td>\n",
       "      <td>04/05/2018 19:58:00</td>\n",
       "      <td>-9.185515</td>\n",
       "      <td>40.382482</td>\n",
       "      <td>0.0</td>\n",
       "      <td>ENGR-ENC</td>\n",
       "    </tr>\n",
       "    <tr>\n",
       "      <th>3</th>\n",
       "      <td>AC_SPRING_IBBB</td>\n",
       "      <td>2018</td>\n",
       "      <td>05/05/2018 07:32:00</td>\n",
       "      <td>-9.036932</td>\n",
       "      <td>40.382898</td>\n",
       "      <td>0.0</td>\n",
       "      <td>ENGR-ENC</td>\n",
       "    </tr>\n",
       "    <tr>\n",
       "      <th>4</th>\n",
       "      <td>AC_SPRING_IBBB</td>\n",
       "      <td>2018</td>\n",
       "      <td>05/05/2018 07:39:00</td>\n",
       "      <td>-9.014982</td>\n",
       "      <td>40.382750</td>\n",
       "      <td>0.0</td>\n",
       "      <td>ENGR-ENC</td>\n",
       "    </tr>\n",
       "  </tbody>\n",
       "</table>\n",
       "</div>"
      ],
      "text/plain": [
       "           survey  year                 time         x          y  NASC  \\\n",
       "0  AC_SPRING_IBBB  2018  04/05/2018 19:20:00 -9.295565  40.381000   0.0   \n",
       "1  AC_SPRING_IBBB  2018  04/05/2018 19:43:00 -9.229598  40.381582   0.0   \n",
       "2  AC_SPRING_IBBB  2018  04/05/2018 19:58:00 -9.185515  40.382482   0.0   \n",
       "3  AC_SPRING_IBBB  2018  05/05/2018 07:32:00 -9.036932  40.382898   0.0   \n",
       "4  AC_SPRING_IBBB  2018  05/05/2018 07:39:00 -9.014982  40.382750   0.0   \n",
       "\n",
       "         sp  \n",
       "0  ENGR-ENC  \n",
       "1  ENGR-ENC  \n",
       "2  ENGR-ENC  \n",
       "3  ENGR-ENC  \n",
       "4  ENGR-ENC  "
      ]
     },
     "execution_count": 2,
     "metadata": {},
     "output_type": "execute_result"
    }
   ],
   "source": [
    "dataDir = os.path.join(os.path.pardir,os.path.pardir,\"doc\",\"data\",\"halieutic\")\n",
    "rawDat = pd.read_csv(os.path.join(dataDir,\"AC-SPRING-IBBB-NASC_ANE-PIL_2018-2021.csv\"),sep=\";\")\n",
    "rawDat.head()"
   ]
  },
  {
   "cell_type": "code",
   "execution_count": 3,
   "metadata": {},
   "outputs": [
    {
     "ename": "OverflowError",
     "evalue": "Python int too large to convert to C long",
     "output_type": "error",
     "traceback": [
      "\u001b[0;31m---------------------------------------------------------------------------\u001b[0m",
      "\u001b[0;31mOverflowError\u001b[0m                             Traceback (most recent call last)",
      "\u001b[0;32m<ipython-input-3-9f8f03d238c8>\u001b[0m in \u001b[0;36m<module>\u001b[0;34m\u001b[0m\n\u001b[1;32m      1\u001b[0m \u001b[0mdbDat\u001b[0m \u001b[0;34m=\u001b[0m \u001b[0mgl\u001b[0m\u001b[0;34m.\u001b[0m\u001b[0mDb\u001b[0m\u001b[0;34m(\u001b[0m\u001b[0;34m)\u001b[0m\u001b[0;34m\u001b[0m\u001b[0;34m\u001b[0m\u001b[0m\n\u001b[1;32m      2\u001b[0m \u001b[0;32mfor\u001b[0m \u001b[0mfield\u001b[0m \u001b[0;32min\u001b[0m \u001b[0;34m[\u001b[0m\u001b[0;34m\"year\"\u001b[0m\u001b[0;34m,\u001b[0m\u001b[0;34m\"x\"\u001b[0m\u001b[0;34m,\u001b[0m\u001b[0;34m\"y\"\u001b[0m\u001b[0;34m,\u001b[0m\u001b[0;34m\"NASC\"\u001b[0m\u001b[0;34m]\u001b[0m \u001b[0;34m:\u001b[0m\u001b[0;34m\u001b[0m\u001b[0;34m\u001b[0m\u001b[0m\n\u001b[0;32m----> 3\u001b[0;31m     \u001b[0mdbDat\u001b[0m\u001b[0;34m[\u001b[0m\u001b[0mfield\u001b[0m\u001b[0;34m]\u001b[0m \u001b[0;34m=\u001b[0m \u001b[0mrawDat\u001b[0m\u001b[0;34m[\u001b[0m\u001b[0mfield\u001b[0m\u001b[0;34m]\u001b[0m\u001b[0;34m\u001b[0m\u001b[0;34m\u001b[0m\u001b[0m\n\u001b[0m",
      "\u001b[0;32m~/Programs/Python3.8.5/lib/python3.8/site-packages/gstlearn/__init__.py\u001b[0m in \u001b[0;36msetitem\u001b[0;34m(self, name, tab)\u001b[0m\n\u001b[1;32m  15313\u001b[0m         \u001b[0mtab\u001b[0m \u001b[0;34m=\u001b[0m \u001b[0mnp\u001b[0m\u001b[0;34m.\u001b[0m\u001b[0matleast_2d\u001b[0m\u001b[0;34m(\u001b[0m\u001b[0mtab\u001b[0m\u001b[0;34m)\u001b[0m\u001b[0;34m.\u001b[0m\u001b[0mT\u001b[0m\u001b[0;34m\u001b[0m\u001b[0;34m\u001b[0m\u001b[0m\n\u001b[1;32m  15314\u001b[0m     \u001b[0mnrows\u001b[0m\u001b[0;34m,\u001b[0m \u001b[0mnvars\u001b[0m \u001b[0;34m=\u001b[0m \u001b[0mtab\u001b[0m\u001b[0;34m.\u001b[0m\u001b[0mshape\u001b[0m\u001b[0;34m\u001b[0m\u001b[0;34m\u001b[0m\u001b[0m\n\u001b[0;32m> 15315\u001b[0;31m     \u001b[0mtab\u001b[0m\u001b[0;34m[\u001b[0m\u001b[0mnp\u001b[0m\u001b[0;34m.\u001b[0m\u001b[0misnan\u001b[0m\u001b[0;34m(\u001b[0m\u001b[0mtab\u001b[0m\u001b[0;34m)\u001b[0m\u001b[0;34m]\u001b[0m \u001b[0;34m=\u001b[0m \u001b[0mgl\u001b[0m\u001b[0;34m.\u001b[0m\u001b[0mTEST\u001b[0m\u001b[0;34m\u001b[0m\u001b[0;34m\u001b[0m\u001b[0m\n\u001b[0m\u001b[1;32m  15316\u001b[0m \u001b[0;34m\u001b[0m\u001b[0m\n\u001b[1;32m  15317\u001b[0m     \u001b[0;32mif\u001b[0m \u001b[0misinstance\u001b[0m\u001b[0;34m(\u001b[0m\u001b[0mname\u001b[0m\u001b[0;34m,\u001b[0m \u001b[0mtuple\u001b[0m\u001b[0;34m)\u001b[0m \u001b[0;32mand\u001b[0m \u001b[0misinstance\u001b[0m\u001b[0;34m(\u001b[0m\u001b[0mname\u001b[0m\u001b[0;34m[\u001b[0m\u001b[0;36m0\u001b[0m\u001b[0;34m]\u001b[0m\u001b[0;34m,\u001b[0m \u001b[0;34m(\u001b[0m\u001b[0mint\u001b[0m\u001b[0;34m,\u001b[0m\u001b[0mslice\u001b[0m\u001b[0;34m)\u001b[0m\u001b[0;34m)\u001b[0m\u001b[0;34m:\u001b[0m \u001b[0;31m# 2D (rows, columns)\u001b[0m\u001b[0;34m\u001b[0m\u001b[0;34m\u001b[0m\u001b[0m\n",
      "\u001b[0;31mOverflowError\u001b[0m: Python int too large to convert to C long"
     ]
    }
   ],
   "source": [
    "dbDat = gl.Db()\n",
    "for field in [\"year\",\"x\",\"y\",\"NASC\"] :\n",
    "    dbDat[field] = rawDat[field]"
   ]
  },
  {
   "cell_type": "code",
   "execution_count": null,
   "metadata": {},
   "outputs": [],
   "source": [
    "dbDat.setLocators([\"x\",\"y\"],gl.ELoc.X)\n",
    "dbDat.setLocator(\"NASC\",gl.ELoc.Z)"
   ]
  },
  {
   "cell_type": "code",
   "execution_count": null,
   "metadata": {},
   "outputs": [],
   "source": [
    "a = gpd.proj(dbDat[\"x\"], dbDat[\"y\"])\n",
    "dbDat[\"x\"] = a.x\n",
    "dbDat[\"y\"] = a.y"
   ]
  },
  {
   "cell_type": "markdown",
   "metadata": {},
   "source": [
    "Lecture du Polygone"
   ]
  },
  {
   "cell_type": "code",
   "execution_count": null,
   "metadata": {},
   "outputs": [],
   "source": [
    "csv = gl.CSVformat(True, 0, \";\", \".\")\n",
    "poly = gl.Polygons.createFromCSV(os.path.join(dataDir,\"WGACEGGspringPolygon.csv\"), csv)"
   ]
  },
  {
   "cell_type": "code",
   "execution_count": null,
   "metadata": {},
   "outputs": [],
   "source": [
    "a = gpd.proj(poly.getX(0), poly.getY(0))\n",
    "poly.setX(0,a.x)\n",
    "poly.setY(0,a.y)"
   ]
  },
  {
   "cell_type": "markdown",
   "metadata": {},
   "source": [
    "Lecture des traits de cotes."
   ]
  },
  {
   "cell_type": "code",
   "execution_count": null,
   "metadata": {},
   "outputs": [],
   "source": [
    "world = gpd.world(minx=(-10,36), miny=(-1,36), maxx=(-1,49), maxy=(-10,49))"
   ]
  },
  {
   "cell_type": "markdown",
   "metadata": {},
   "source": [
    "Plotting the world country lines as background and overlay the Points and the Polygon, suing the same CRS."
   ]
  },
  {
   "cell_type": "code",
   "execution_count": null,
   "metadata": {},
   "outputs": [],
   "source": [
    "ax = world.plot(figsize=[10,10])\n",
    "ax = gp.point(dbDat,size=1,ax=ax)\n",
    "ax = gp.polygon(poly,ax = ax)"
   ]
  }
 ],
 "metadata": {
  "kernelspec": {
   "display_name": "Python 3",
   "language": "python",
   "name": "python3"
  },
  "language_info": {
   "codemirror_mode": {
    "name": "ipython",
    "version": 3
   },
   "file_extension": ".py",
   "mimetype": "text/x-python",
   "name": "python",
   "nbconvert_exporter": "python",
   "pygments_lexer": "ipython3",
   "version": "3.8.5"
  }
 },
 "nbformat": 4,
 "nbformat_minor": 5
}
