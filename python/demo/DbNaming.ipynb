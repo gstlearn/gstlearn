{
 "cells": [
  {
   "cell_type": "markdown",
   "metadata": {},
   "source": []
  },
  {
   "cell_type": "markdown",
   "metadata": {},
   "source": [
    "# Naming Convention for Db in gstlearn"
   ]
  },
  {
   "cell_type": "markdown",
   "metadata": {},
   "source": [
    "## Preamble"
   ]
  },
  {
   "cell_type": "code",
   "execution_count": null,
   "metadata": {},
   "outputs": [],
   "source": [
    "%%javascript\n",
    "IPython.OutputArea.prototype._should_scroll = function(lines) {\n",
    "    // Remove Scrollbar in outputs\n",
    "    return false;\n",
    "}"
   ]
  },
  {
   "cell_type": "markdown",
   "metadata": {},
   "source": [
    "This tutorial gives answers to the frequently asked question regarding the Naming Convention used for variables in a Data Base (Db) of gstlearn "
   ]
  },
  {
   "cell_type": "code",
   "execution_count": null,
   "metadata": {},
   "outputs": [],
   "source": [
    "import numpy as np\n",
    "import gstlearn as gl\n",
    "import os"
   ]
  },
  {
   "cell_type": "markdown",
   "metadata": {},
   "source": [
    "## Prepare the Environment\n",
    "\n",
    "This paragraph defines the Space Dimension for the whole notebook. It also set the name of the Container (and a Prefix) used if Objects are saved as Neutral Files."
   ]
  },
  {
   "cell_type": "code",
   "execution_count": null,
   "metadata": {},
   "outputs": [],
   "source": [
    "ndim = 2\n",
    "gl.ASpaceObject.defineDefaultSpace(gl.SPACE_RN,ndim)\n",
    "\n",
    "gl.ASerializable.setContainerName(True)\n",
    "gl.ASerializable.setPrefixName(\"DbTest-\");"
   ]
  },
  {
   "cell_type": "markdown",
   "metadata": {},
   "source": [
    "The following object will enable having a complete view of the column / attribute manipulation. It will be used later in the notebook."
   ]
  },
  {
   "cell_type": "code",
   "execution_count": null,
   "metadata": {},
   "outputs": [],
   "source": [
    "dbfmt = gl.DbStringFormat()\n",
    "dbfmt.setParams(gl.FLAG_LOCATOR)"
   ]
  },
  {
   "cell_type": "markdown",
   "metadata": {},
   "source": [
    "## Creating a data file\n",
    "\n",
    "A Data Base is created for experimentation. It is constructed as a regular Grid (named **grid**). The variable *nech* will contain the number of samples within *grid*. The number of meshes is voluntarily limited. The mesh is square with dimension 1. The origin (lower left corner) is set to (10,20) in order to be able to distinguish coordinates along first and second axes."
   ]
  },
  {
   "cell_type": "code",
   "execution_count": null,
   "metadata": {},
   "outputs": [],
   "source": [
    "grid = gl.Db.createFromGrid([5,5], [1,1], [10,20])\n",
    "nech = grid.getSampleNumber()\n",
    "print(\"Number of sample =\",nech)\n",
    "grid"
   ]
  },
  {
   "cell_type": "markdown",
   "metadata": {},
   "source": [
    "The data base contains 3 fields, created automatically and respectively called *rank*, *x1* and *x2*. Note that the last two fields are considered as coordinates (locator *x*)."
   ]
  },
  {
   "cell_type": "markdown",
   "metadata": {},
   "source": [
    "## Naming convention"
   ]
  },
  {
   "cell_type": "markdown",
   "metadata": {},
   "source": [
    "We now add one new field (named *first*) where values are generated randomly (uniform drawn between 0 and 1). Note that, when adding this new field, a value is returned which corresponds to the number of the newly created *attribute*.\n",
    "\n",
    "**Important remark: all numerical variables used to identify a field within a Db are considered as indices, i.e. they are numbered starting from 0**"
   ]
  },
  {
   "cell_type": "code",
   "execution_count": null,
   "metadata": {},
   "outputs": [],
   "source": [
    "tab = gl.ut_vector_simulate_uniform(nech)\n",
    "iatt1 = grid.addFields(tab,\"first\")\n",
    "print(\"Attribute corresponding to 'first' =\",iatt1)"
   ]
  },
  {
   "cell_type": "markdown",
   "metadata": {},
   "source": [
    "We can double-check the attribute information by visiting the current contents of the *grid* Db. We check that the field *first* is the fourth (i.e. attribute #3)."
   ]
  },
  {
   "cell_type": "code",
   "execution_count": null,
   "metadata": {},
   "outputs": [],
   "source": [
    "grid"
   ]
  },
  {
   "cell_type": "markdown",
   "metadata": {},
   "source": [
    "Let us add a series (3) of fields created simulateneously. They are filled with a constant value equal to 5. We also define a locator assigned to all the newly created variables: they will be considered as data variable (locator = *z*). \n",
    "Note the returned value: it corresponds to the attribute number assigned to the first new variable."
   ]
  },
  {
   "cell_type": "code",
   "execution_count": null,
   "metadata": {},
   "outputs": [],
   "source": [
    "iatt2 = grid.addFieldsByConstant(3,5.,\"second\",gl.ELoc.Z)\n",
    "print(\"Attribute corresponding to the first variable named 'second-x' =\",iatt2)\n",
    "grid"
   ]
  },
  {
   "cell_type": "markdown",
   "metadata": {},
   "source": [
    "Note that the newly created fields are automatically named using the provided string (*second*) as a radix: the variables are names *second-1\", \"second-2\" and \"second-3\"."
   ]
  },
  {
   "cell_type": "markdown",
   "metadata": {},
   "source": [
    "Let us now envisage renaming the variable *second-2* into *first*."
   ]
  },
  {
   "cell_type": "code",
   "execution_count": null,
   "metadata": {},
   "outputs": [],
   "source": [
    "grid.setName(\"second-2\",\"first\")\n",
    "grid"
   ]
  },
  {
   "cell_type": "markdown",
   "metadata": {},
   "source": [
    "As the name *first* already exists, the field has been renamed to *first.1* instead.\n",
    "\n",
    "We now wish to rename the field *second-3* into *first*."
   ]
  },
  {
   "cell_type": "code",
   "execution_count": null,
   "metadata": {},
   "outputs": [],
   "source": [
    "grid.setName(\"second-3\",\"first\")\n",
    "grid"
   ]
  },
  {
   "cell_type": "markdown",
   "metadata": {},
   "source": [
    "The automatic renaming procedure has been applied (adding \".1\") iteratively until names are all different: the field is now called *first.1.1\"."
   ]
  },
  {
   "cell_type": "markdown",
   "metadata": {},
   "source": [
    "Now that we have demonstrated the uniqueness of the names, are there are ways to designate a field?\n",
    "For the next demonstrations, we first recall the current status of the current Db.\n",
    "\n",
    "In order to make the next paragrah more demonstrative, we change the contents of several fields"
   ]
  },
  {
   "cell_type": "code",
   "execution_count": null,
   "metadata": {},
   "outputs": [],
   "source": [
    "grid.setField(gl.ut_vector_simulate_uniform(nech),\"second-1\")\n",
    "grid.setField(gl.ut_vector_simulate_uniform(nech),\"first.1\")\n",
    "grid.setField(gl.ut_vector_simulate_uniform(nech),\"first.1.1\")"
   ]
  },
  {
   "cell_type": "code",
   "execution_count": null,
   "metadata": {},
   "outputs": [],
   "source": [
    "grid"
   ]
  },
  {
   "cell_type": "markdown",
   "metadata": {},
   "source": [
    "### By Name"
   ]
  },
  {
   "cell_type": "markdown",
   "metadata": {},
   "source": [
    "As an example, we access to the field named *first.1. For short, only the four first values are systematically printed. "
   ]
  },
  {
   "cell_type": "code",
   "execution_count": null,
   "metadata": {},
   "outputs": [],
   "source": [
    "grid.getField(\"first.1\")[0:4]"
   ]
  },
  {
   "cell_type": "markdown",
   "metadata": {},
   "source": [
    "### By Column Index"
   ]
  },
  {
   "cell_type": "raw",
   "metadata": {},
   "source": [
    "We recall that the index numbering starts from 0. Therefore field *first-1*  corresponds to the index 5."
   ]
  },
  {
   "cell_type": "code",
   "execution_count": null,
   "metadata": {
    "scrolled": true
   },
   "outputs": [],
   "source": [
    "grid.getFieldByIndex(5)[0:4]"
   ]
  },
  {
   "cell_type": "markdown",
   "metadata": {},
   "source": [
    "### By Attribute Index"
   ]
  },
  {
   "cell_type": "code",
   "execution_count": null,
   "metadata": {
    "scrolled": true
   },
   "outputs": [],
   "source": [
    "grid.getFieldByAttribute(5)[0:4]"
   ]
  },
  {
   "cell_type": "markdown",
   "metadata": {},
   "source": [
    "### By Locator"
   ]
  },
  {
   "cell_type": "markdown",
   "metadata": {},
   "source": [
    "We note that the target variable corresponds to the locator *z2* which is the second one (index 1) or the Z-locator type."
   ]
  },
  {
   "cell_type": "code",
   "execution_count": null,
   "metadata": {
    "scrolled": true
   },
   "outputs": [],
   "source": [
    "grid.getFieldByLocator(gl.ELoc.Z,1)[0:4]"
   ]
  },
  {
   "cell_type": "markdown",
   "metadata": {},
   "source": [
    "## Difference between Column and Attribute"
   ]
  },
  {
   "cell_type": "markdown",
   "metadata": {},
   "source": [
    "We need to recall the *attribute*  value returned when adding the fields:\n",
    "- *iatt1* (3) when adding the field named *first*\n",
    "- *iatt2* (4) when adding the series of 3 fields (originally named after the radix *second*)\n",
    "\n",
    "To better understand, we need to ask for the display of the data base with a specific option which describes the current status of the attributes, either unsorted or through an order driven by the locator"
   ]
  },
  {
   "cell_type": "code",
   "execution_count": null,
   "metadata": {},
   "outputs": [],
   "source": [
    "grid.display(dbfmt)"
   ]
  },
  {
   "cell_type": "markdown",
   "metadata": {},
   "source": [
    "We can see that the 7 existing fields currently correspond to the 7 first columns of the Data Base *grid*. The second display gives the indices of the locators in use (*x* and *z*) and the indeices of the attributes corresponding to the ranks of the items for each locator type."
   ]
  },
  {
   "cell_type": "markdown",
   "metadata": {},
   "source": [
    "Things become more interesting if a field is deleted. To avoid any ambiguity, the field is designated by its name (say *x1*)"
   ]
  },
  {
   "cell_type": "code",
   "execution_count": null,
   "metadata": {},
   "outputs": [],
   "source": [
    "grid"
   ]
  },
  {
   "cell_type": "code",
   "execution_count": null,
   "metadata": {},
   "outputs": [],
   "source": [
    "grid.deleteField(\"x1\")\n",
    "grid"
   ]
  },
  {
   "cell_type": "markdown",
   "metadata": {},
   "source": [
    "The previous printout shows the current contents of the data base where the field *x1* has been suppressed.\n",
    "Note an important feature of the *locator* notion. For a given locator type (say *x* for coordinates), the locator type is unique and sorted continuously starting from 1.\n",
    "Therefore, when we suppressed the variable *x1* (which corresponded to the locator type *x* and locator rank *1*), the variable *x2* is modified: its name and locator type are not changed but the locator rank is update from *2* to *1*."
   ]
  },
  {
   "cell_type": "markdown",
   "metadata": {},
   "source": [
    "We now look at the attributes internal management"
   ]
  },
  {
   "cell_type": "code",
   "execution_count": null,
   "metadata": {},
   "outputs": [],
   "source": [
    "grid.display(dbfmt)"
   ]
  },
  {
   "cell_type": "markdown",
   "metadata": {},
   "source": [
    "We can see that the list of attributes has not been reduced: the maximum number of positions is still equal to 7. Instead, the rank of the attribute which corresponded to *x1* is now set to -1, to signify that the column is actually missing. The display sorted by locator does not need any additional explanation.\n",
    "\n",
    "Let us now retrieve the information of variable *first.1*  as we did before. We start by addressing the variable by name."
   ]
  },
  {
   "cell_type": "code",
   "execution_count": null,
   "metadata": {},
   "outputs": [],
   "source": [
    "grid.getField(\"first.1\")[0:4]"
   ]
  },
  {
   "cell_type": "markdown",
   "metadata": {},
   "source": [
    "We can similarly address it by its column index (the column has moved to rank 5)"
   ]
  },
  {
   "cell_type": "code",
   "execution_count": null,
   "metadata": {},
   "outputs": [],
   "source": [
    "grid.getFieldByIndex(4)[0:4]"
   ]
  },
  {
   "cell_type": "markdown",
   "metadata": {},
   "source": [
    "The magic of the *attribute* notion is that it can still be used **unchanged**"
   ]
  },
  {
   "cell_type": "code",
   "execution_count": null,
   "metadata": {
    "scrolled": true
   },
   "outputs": [],
   "source": [
    "grid.getFieldByAttribute(5)[0:4]"
   ]
  },
  {
   "cell_type": "markdown",
   "metadata": {},
   "source": [
    "Obviously, trying to read the field which corresponds to the field *x1* (that has just been deleted) returns an empty vector."
   ]
  },
  {
   "cell_type": "code",
   "execution_count": null,
   "metadata": {},
   "outputs": [],
   "source": [
    "grid.getFieldByAttribute(1)"
   ]
  },
  {
   "cell_type": "markdown",
   "metadata": {},
   "source": [
    "## Remark on Space Dimension"
   ]
  },
  {
   "cell_type": "markdown",
   "metadata": {},
   "source": [
    "It might be considered as surprising to see that *grid* is considered as a 2-D Grid while there is only **one** coordinate field (locator *x*). In order to avoid any missunderstanding, let us recall this important fact.\n",
    "\n",
    "The data base *grid* is organized as a grid and for that sake, it contains a descrption of the grid organization. This organization is used to elaborate the coordinates (for example when calling *getCoordinate()* method). The coordinate vectors must only be considered as decoration: they will not be used in any internal operation.\n",
    "\n",
    "As an example this makes particular sense here as the contents of the variable *x2*, despite its locator rank *1* (i.e. index 0) actually contains the **second** coordinate of the samples, as demonstrated in the next line"
   ]
  },
  {
   "cell_type": "code",
   "execution_count": null,
   "metadata": {
    "scrolled": true
   },
   "outputs": [],
   "source": [
    "grid.getFieldByLocator(gl.ELoc.X, 0)"
   ]
  },
  {
   "cell_type": "markdown",
   "metadata": {},
   "source": [
    "Note that at any time, the coordinate vectors can be regenerated. To avoid confusion, the newly generated coordinate fields are named using the radix \"X\" (uppercase). This feature is obviously only available in the case of a grid"
   ]
  },
  {
   "cell_type": "code",
   "execution_count": null,
   "metadata": {
    "scrolled": true
   },
   "outputs": [],
   "source": [
    "grid.generateCoordinates(\"X\")"
   ]
  },
  {
   "cell_type": "code",
   "execution_count": null,
   "metadata": {
    "scrolled": true
   },
   "outputs": [],
   "source": [
    "grid.getFieldByLocator(gl.ELoc.X, 0)"
   ]
  },
  {
   "cell_type": "markdown",
   "metadata": {},
   "source": [
    "Similarly, we can generate a field containing the sample rank (similar as the information contained in the Field #1). Here again, we generate a new field containing this rank information: in order to avoid confusion, the new variable is called *RANK* (uppercase). Note that this field does not have any locator attached."
   ]
  },
  {
   "cell_type": "code",
   "execution_count": null,
   "metadata": {},
   "outputs": [],
   "source": [
    "grid.generateRank(\"RANK\")\n",
    "grid"
   ]
  },
  {
   "cell_type": "markdown",
   "metadata": {},
   "source": [
    "## Conclusion"
   ]
  },
  {
   "cell_type": "markdown",
   "metadata": {},
   "source": [
    "As a conclusion:\n",
    "\n",
    "- the variables can be used **safely** when designating them by their **name**\n",
    "- the variables can be used easily when addressing them using the locator notion (type and index)\n",
    "- the use of (column) index is always valid. This index must be defined precisely when using the variable (it must be updated in case of addition or deletion of other variables)\n",
    "- the use of attribute is clever... but it must be used by expert who understands the process. It allows using  fix values, independently of the management of other fields\n",
    "\n",
    "We also recall that all numbering refer to indices (0 based numbering). This is the case for *(column) index* as well as *locator index* per locator type."
   ]
  }
 ],
 "metadata": {
  "kernelspec": {
   "display_name": "Python 3",
   "language": "python",
   "name": "python3"
  },
  "language_info": {
   "codemirror_mode": {
    "name": "ipython",
    "version": 3
   },
   "file_extension": ".py",
   "mimetype": "text/x-python",
   "name": "python",
   "nbconvert_exporter": "python",
   "pygments_lexer": "ipython3",
   "version": "3.8.5"
  }
 },
 "nbformat": 4,
 "nbformat_minor": 5
}
