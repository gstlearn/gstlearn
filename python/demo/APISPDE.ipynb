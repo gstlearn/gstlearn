{
 "cells": [
  {
   "cell_type": "code",
   "execution_count": null,
   "id": "f4ec7d6a",
   "metadata": {},
   "outputs": [],
   "source": [
    "import scipy as sc\n",
    "from scipy.sparse import *\n",
    "from scipy.sparse.linalg import *\n",
    "import numpy as np\n",
    "import pandas as pd\n",
    "import sys\n",
    "import os\n",
    "import matplotlib.pyplot as plt\n",
    "import gstlearn as gl\n",
    "import gstlearn.plot as gp"
   ]
  },
  {
   "cell_type": "code",
   "execution_count": null,
   "id": "8924792e",
   "metadata": {},
   "outputs": [],
   "source": [
    "def fa(x,y,a,b):\n",
    "    return a*x + b*y\n",
    "\n",
    "def spirale(db,a=0,b=-1.4,c=1.,d=1.,plot = False):\n",
    "    x1c = np.array(db.getField(\"x1\")) #getField ou mieux getCoords coords = workingDb.getCoords()\n",
    "    x2c = np.array(db.getField(\"x2\")) \n",
    "    u1=fa(x1c-50,x2c-50,a,b)\n",
    "    u2=fa(x1c-50,x2c-50,c,d)\n",
    "    shape = db.getNXs()\n",
    "    norm = np.sqrt(u1**2+u2**2)\n",
    "    ind = norm>0\n",
    "    theta = np.zeros_like(norm)\n",
    "    theta[norm>0] = np.arccos(u2[ind]/norm[ind])/np.pi*180*np.sign(u1[ind])\n",
    "    x1c=x1c.reshape(shape)\n",
    "    x2c=x2c.reshape(shape)\n",
    "    u1=u1.reshape(shape)\n",
    "    u2=u2.reshape(shape)\n",
    "    if plot:\n",
    "        plt.quiver(x1c,x2c,u1,u2)\n",
    "        plt.axis(\"equal\")\n",
    "        plt.show()\n",
    "    return theta"
   ]
  },
  {
   "cell_type": "code",
   "execution_count": null,
   "id": "3b399f59",
   "metadata": {},
   "outputs": [],
   "source": [
    "workingDbc = gl.DbGrid.create([10,10],[10,10])\n",
    "spirale(workingDbc,plot=True);"
   ]
  },
  {
   "cell_type": "code",
   "execution_count": null,
   "id": "6a1e7736",
   "metadata": {},
   "outputs": [],
   "source": [
    "resultDb = gl.DbGrid.create([200,200],[0.5,0.5]) \n",
    "x1 = resultDb['x1']\n",
    "x2 = resultDb['x2']\n",
    "theta = spirale(resultDb)\n",
    "iatt = resultDb['theta'] = theta\n",
    "resultDb.setLocator(\"theta\",gl.ELoc.NOSTAT)\n",
    "resultDb"
   ]
  },
  {
   "cell_type": "code",
   "execution_count": null,
   "id": "6500f98c",
   "metadata": {},
   "outputs": [],
   "source": [
    "np.random.seed(124)\n",
    "ndat=10000\n",
    "coords=np.random.uniform(1,99,size=(ndat,2))\n",
    "dat = gl.Db()\n",
    "dat[\"X\"]= coords[:,0]\n",
    "dat[\"Y\"]= coords[:,1]\n",
    "dat.setLocator(['X','Y'],gl.ELoc.X)"
   ]
  },
  {
   "cell_type": "code",
   "execution_count": null,
   "id": "a8461c1d",
   "metadata": {},
   "outputs": [],
   "source": [
    "model = gl.Model.createFromDb(resultDb)\n",
    "cova = gl.CovAniso(gl.ECov.BESSEL_K,model.getContext()) #Alias ECov.MATERN\n",
    "cova.setRanges([4,45])\n",
    "model.addCova(cova)"
   ]
  },
  {
   "cell_type": "code",
   "execution_count": null,
   "id": "de64a8db",
   "metadata": {},
   "outputs": [],
   "source": [
    "workingDb = gl.DbGrid.create([101,101],[1.,1.]) \n",
    "mesh = gl.MeshETurbo(workingDb)"
   ]
  },
  {
   "cell_type": "code",
   "execution_count": null,
   "id": "d4c3831a",
   "metadata": {
    "scrolled": false
   },
   "outputs": [],
   "source": [
    "NoStat = gl.NoStatArray([\"A\"], resultDb)\n",
    "#err = model.addNoStat(NoStat)"
   ]
  },
  {
   "cell_type": "code",
   "execution_count": null,
   "id": "271f20a8",
   "metadata": {},
   "outputs": [],
   "source": [
    "S = gl.ShiftOpCs(mesh, model, resultDb)"
   ]
  },
  {
   "cell_type": "code",
   "execution_count": null,
   "id": "cffaaa09",
   "metadata": {},
   "outputs": [],
   "source": [
    "Qsimu = gl.PrecisionOp(S, cova, gl.EPowerPT.MINUSHALF, False)"
   ]
  },
  {
   "cell_type": "code",
   "execution_count": null,
   "id": "e85087ea",
   "metadata": {},
   "outputs": [],
   "source": [
    "vect = gl.VectorDouble(np.random.normal(size=Qsimu.getSize()))\n",
    "result = gl.VectorDouble(np.empty_like(vect))\n",
    "Qsimu.eval(vect,result)\n",
    "workingDb.addFields(result,\"Simu\",gl.ELoc.X)\n",
    "\n",
    "gp.grid(workingDb,\"Simu\")\n",
    "spirale(workingDbc,plot=True);"
   ]
  },
  {
   "cell_type": "code",
   "execution_count": null,
   "id": "bf74133d",
   "metadata": {},
   "outputs": [],
   "source": [
    "ind = np.random.choice(workingDb.getActiveSampleNumber(), size=100, replace=False)\n",
    "data = gl.Db()\n",
    "data['x1'] = workingDb['x1'][ind]\n",
    "data['x2'] = workingDb['x1'][ind]\n",
    "data['z']  = workingDb['Simu'][ind]\n",
    "data.setLocator('x*',gl.ELoc.X)\n",
    "data.setLocator('z',gl.ELoc.Z)\n",
    "data"
   ]
  },
  {
   "cell_type": "code",
   "execution_count": null,
   "id": "6fde3a6e",
   "metadata": {},
   "outputs": [],
   "source": [
    "spde = gl.SPDE(model,resultDb,data,gl.ESPDECalcMode.SIMUNONCOND)"
   ]
  },
  {
   "cell_type": "code",
   "execution_count": null,
   "id": "63d246ef",
   "metadata": {},
   "outputs": [],
   "source": [
    "spde.compute()"
   ]
  },
  {
   "cell_type": "code",
   "execution_count": null,
   "id": "dc386242",
   "metadata": {},
   "outputs": [],
   "source": [
    "spde.query(workingDb)"
   ]
  },
  {
   "cell_type": "code",
   "execution_count": null,
   "id": "36a407d6",
   "metadata": {},
   "outputs": [],
   "source": [
    "gp.grid(workingDb,'*simu')"
   ]
  },
  {
   "cell_type": "code",
   "execution_count": null,
   "id": "71071634",
   "metadata": {},
   "outputs": [],
   "source": []
  }
 ],
 "metadata": {
  "kernelspec": {
   "display_name": "Python 3",
   "language": "python",
   "name": "python3"
  },
  "language_info": {
   "codemirror_mode": {
    "name": "ipython",
    "version": 3
   },
   "file_extension": ".py",
   "mimetype": "text/x-python",
   "name": "python",
   "nbconvert_exporter": "python",
   "pygments_lexer": "ipython3",
   "version": "3.9.2"
  }
 },
 "nbformat": 4,
 "nbformat_minor": 5
}
