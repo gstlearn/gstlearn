{
 "cells": [
  {
   "cell_type": "code",
   "execution_count": null,
   "id": "satellite-seller",
   "metadata": {},
   "outputs": [],
   "source": [
    "import gstlearn as gl\n",
    "import numpy as np"
   ]
  },
  {
   "cell_type": "code",
   "execution_count": null,
   "id": "suspected-saskatchewan",
   "metadata": {},
   "outputs": [],
   "source": [
    "def getitem(self,name):\n",
    "    if type(name) == str:\n",
    "        temp = np.array(self.getColumns([name],self.useSel))\n",
    "        nbvar = len(self.getNames([name]))\n",
    "    elif type(name) == list :\n",
    "        nbvar = len(name)\n",
    "        names = gl.VectorString(nbvar)\n",
    "        for i in range(nbvar):\n",
    "            names[i] = name[i]\n",
    "        temp = np.array(self.getColumns(names,self.useSel))\n",
    "        \n",
    "        \n",
    "    if self.useSel:\n",
    "        nrows = self.getActiveSampleNumber()\n",
    "    else:\n",
    "        nrows = self.getSampleNumber()\n",
    "        \n",
    "    temp = temp.reshape([nbvar,nrows]).T\n",
    "    temp[temp == gl.TEST] = None\n",
    "    return temp\n",
    "\n",
    "# This function will add a set of vectors (as a numpy array) to a db. If some of the names exist, the\n",
    "# corresponding variables will be replaced and not added.\n",
    "\n",
    "def setitem(self,name,tab):\n",
    "    \n",
    "    if len(tab.shape) == 1 :\n",
    "        temptab = np.atleast_2d(tab).T\n",
    "    else :\n",
    "        temptab = tab\n",
    "    \n",
    "    nrows = tab.shape[0]\n",
    "    \n",
    "    if nrows == self.getActiveSampleNumber() :\n",
    "        useSel = True\n",
    "    elif nrows == self.getSampleNumber() or self.getSampleNumber()==0 :\n",
    "        useSel = False\n",
    "    else :\n",
    "        if self.getActiveSampleNumber() != self.getSampleNumber():\n",
    "            print(\"Error of dimension. Your number of lines has to be equal to \" +\n",
    "                str(self.getActiveSampleNumber()) + \" or \" + str(self.getSampleNumber()))\n",
    "        else :\n",
    "            print(\"Error of dimension. Your number of lines has to be equal to \" +\n",
    "                  str(self.getActiveSampleNumber()))\n",
    "\n",
    "    if type(name) == str :\n",
    "        names = self.getNames([name])\n",
    "    \n",
    "        if len(names) == 0 :\n",
    "            names = [name]\n",
    "        \n",
    "        if len(names) == 1 and temptab.shape[1] > 1:\n",
    "            names = gl.generateMultipleNames(name,temptab.shape[1])\n",
    "    elif type(name) == list :\n",
    "        names = name\n",
    "    \n",
    "    vectD = gl.VectorDouble()\n",
    "\n",
    "    for j in range(temptab.shape[1]):\n",
    "        vectD.resize(0)\n",
    "        for i in range(nrows):       \n",
    "            u = np.double(temptab[i,j])\n",
    "            if u is None : \n",
    "                u = gl.TEST\n",
    "            vectD.push_back(u)\n",
    "            \n",
    "        self.setColumn(vectD,names[j],useSel)\n",
    "    \n",
    "#setattr(gl.Db,\"useSel\",False)\n",
    "\n",
    "#setattr(gl.Db,\"__getitem__\",getitem)\n",
    "\n",
    "#setattr(gl.Db,\"__setitem__\",setitem)"
   ]
  },
  {
   "cell_type": "markdown",
   "id": "funny-corruption",
   "metadata": {},
   "source": [
    "# Example"
   ]
  },
  {
   "cell_type": "code",
   "execution_count": null,
   "id": "german-flavor",
   "metadata": {},
   "outputs": [],
   "source": [
    "a = gl.DbGrid.create([2,2],[1.,1.])\n",
    "a"
   ]
  },
  {
   "cell_type": "markdown",
   "id": "aware-technician",
   "metadata": {},
   "source": [
    "## Create  a new variable"
   ]
  },
  {
   "cell_type": "code",
   "execution_count": null,
   "id": "widespread-bidding",
   "metadata": {},
   "outputs": [],
   "source": [
    "np.random.seed(123)\n",
    "x = np.random.normal(size=4)\n",
    "a[\"var1\"] = x\n",
    "x"
   ]
  },
  {
   "cell_type": "markdown",
   "id": "aggregate-plumbing",
   "metadata": {},
   "source": [
    "## Get a variable"
   ]
  },
  {
   "cell_type": "code",
   "execution_count": null,
   "id": "abstract-constant",
   "metadata": {},
   "outputs": [],
   "source": [
    "a[\"var1\"]"
   ]
  },
  {
   "cell_type": "markdown",
   "id": "organizational-hunter",
   "metadata": {},
   "source": [
    "## Replace an existing variable"
   ]
  },
  {
   "cell_type": "code",
   "execution_count": null,
   "id": "organized-pakistan",
   "metadata": {},
   "outputs": [],
   "source": [
    "a[\"var1\"] = np.random.normal(size=4)"
   ]
  },
  {
   "cell_type": "code",
   "execution_count": null,
   "id": "reduced-depression",
   "metadata": {},
   "outputs": [],
   "source": [
    "a[\"var1\"]"
   ]
  },
  {
   "cell_type": "markdown",
   "id": "proof-scoop",
   "metadata": {},
   "source": [
    "## Use regexp for get"
   ]
  },
  {
   "cell_type": "code",
   "execution_count": null,
   "id": "coated-pierce",
   "metadata": {},
   "outputs": [],
   "source": [
    "a[\"var2\"] = np.random.normal(size =4)\n",
    "a"
   ]
  },
  {
   "cell_type": "code",
   "execution_count": null,
   "id": "clinical-brunei",
   "metadata": {},
   "outputs": [],
   "source": [
    "a[\"var*\"]"
   ]
  },
  {
   "cell_type": "markdown",
   "id": "preliminary-session",
   "metadata": {},
   "source": [
    "## Use regexp for replacing several variables"
   ]
  },
  {
   "cell_type": "code",
   "execution_count": null,
   "id": "former-consumption",
   "metadata": {},
   "outputs": [],
   "source": [
    "a[\"var*\"]=a[\"var*\"]>0"
   ]
  },
  {
   "cell_type": "code",
   "execution_count": null,
   "id": "leading-region",
   "metadata": {},
   "outputs": [],
   "source": [
    "a[\"var*\"]"
   ]
  },
  {
   "cell_type": "markdown",
   "id": "comic-zoning",
   "metadata": {},
   "source": [
    "# Create several variables with one name"
   ]
  },
  {
   "cell_type": "code",
   "execution_count": null,
   "id": "alternative-yorkshire",
   "metadata": {},
   "outputs": [],
   "source": [
    "a[\"newvar\"] = np.random.normal(size = (4,3))"
   ]
  },
  {
   "cell_type": "code",
   "execution_count": null,
   "id": "ceramic-centre",
   "metadata": {},
   "outputs": [],
   "source": [
    "a"
   ]
  },
  {
   "cell_type": "code",
   "execution_count": null,
   "id": "excessive-renewal",
   "metadata": {},
   "outputs": [],
   "source": [
    "a[\"newvar*\"]"
   ]
  },
  {
   "cell_type": "code",
   "execution_count": null,
   "id": "royal-champagne",
   "metadata": {},
   "outputs": [],
   "source": [
    "v = a[\"newvar*\"]\n",
    "v[0,0]=None"
   ]
  },
  {
   "cell_type": "code",
   "execution_count": null,
   "id": "convinced-updating",
   "metadata": {},
   "outputs": [],
   "source": [
    "a[\"newvar*\"] = v"
   ]
  },
  {
   "cell_type": "code",
   "execution_count": null,
   "id": "moderate-writing",
   "metadata": {},
   "outputs": [],
   "source": [
    "a[\"newvar*\"]"
   ]
  },
  {
   "cell_type": "markdown",
   "id": "federal-monitor",
   "metadata": {},
   "source": [
    "## Add tab to a newly created db (and provide several names)"
   ]
  },
  {
   "cell_type": "code",
   "execution_count": null,
   "id": "aerial-operator",
   "metadata": {},
   "outputs": [],
   "source": [
    "a = gl.Db()\n",
    "a[[\"var1\",\"var2\"]] = np.random.normal(size=(12,2))\n",
    "a"
   ]
  },
  {
   "cell_type": "code",
   "execution_count": null,
   "id": "negative-desktop",
   "metadata": {},
   "outputs": [],
   "source": [
    "a[[\"var1\",\"var2\"]]"
   ]
  },
  {
   "cell_type": "code",
   "execution_count": null,
   "id": "convenient-supervisor",
   "metadata": {},
   "outputs": [],
   "source": [
    "a[\"var*\"]"
   ]
  }
 ],
 "metadata": {
  "kernelspec": {
   "display_name": "Python 3",
   "language": "python",
   "name": "python3"
  },
  "language_info": {
   "codemirror_mode": {
    "name": "ipython",
    "version": 3
   },
   "file_extension": ".py",
   "mimetype": "text/x-python",
   "name": "python",
   "nbconvert_exporter": "python",
   "pygments_lexer": "ipython3",
   "version": "3.9.2"
  }
 },
 "nbformat": 4,
 "nbformat_minor": 5
}
