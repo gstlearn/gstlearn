{
 "cells": [
  {
   "cell_type": "markdown",
   "metadata": {},
   "source": [
    "# Test Facies Simulations Indicators"
   ]
  },
  {
   "cell_type": "markdown",
   "metadata": {},
   "source": [
    "This file is meant to demonstrate the use of gstlearn by loading a numpy array, transform the continuous variable into a categorical variable (like a facies variable) and perform some calculations based on the grid organization (transition probabilities or connectivity)"
   ]
  },
  {
   "cell_type": "markdown",
   "metadata": {},
   "source": [
    "## Before running this script make sure you known where libpyflumy module is available:\n",
    "```\n",
    "sys.path.append(os.environ['PYFLUMYDIR'])\n",
    "```"
   ]
  },
  {
   "cell_type": "code",
   "execution_count": 1,
   "metadata": {},
   "outputs": [
    {
     "data": {
      "application/javascript": [
       "IPython.OutputArea.prototype._should_scroll = function(lines) {\n",
       "    // Remove Scrollbar in outputs\n",
       "    return false;\n",
       "}\n"
      ],
      "text/plain": [
       "<IPython.core.display.Javascript object>"
      ]
     },
     "metadata": {},
     "output_type": "display_data"
    }
   ],
   "source": [
    "%%javascript\n",
    "IPython.OutputArea.prototype._should_scroll = function(lines) {\n",
    "    // Remove Scrollbar in outputs\n",
    "    return false;\n",
    "}"
   ]
  },
  {
   "cell_type": "code",
   "execution_count": 2,
   "metadata": {},
   "outputs": [
    {
     "name": "stdout",
     "output_type": "stream",
     "text": [
      "Python version\n",
      "3.8.5 (default, Sep 23 2020, 22:24:01) \n",
      "[GCC 5.4.0 20160609]\n",
      "Version info.\n",
      "sys.version_info(major=3, minor=8, micro=5, releaselevel='final', serial=0)\n"
     ]
    }
   ],
   "source": [
    "# Show python version\n",
    "import sys\n",
    "import os\n",
    "import numpy as np\n",
    "import pandas as pd\n",
    "import matplotlib.pyplot as plt\n",
    "from collections import Counter\n",
    "\n",
    "# Load gstlearn module\n",
    "from gstlearn import *\n",
    "status = setup_license(\"Demonstration\")\n",
    "verbose = True\n",
    "\n",
    "# Load pyflumy module (not yet a standard module)\n",
    "sys.path.append(os.environ['PYFLUMYDIR'])\n",
    "from pyflumy import *"
   ]
  },
  {
   "cell_type": "markdown",
   "metadata": {},
   "source": [
    "## Generate a Flumy simulation\n",
    "Define functions for using and launching Flumy, then use the template simulation for Alpha reservoir. The simulated grid size is 6400m x 3200m with a 30m thickness"
   ]
  },
  {
   "cell_type": "code",
   "execution_count": 3,
   "metadata": {},
   "outputs": [],
   "source": [
    "nx = 128\n",
    "ny = 64\n",
    "nxy = [nx,ny]\n",
    "dx = dy = 50\n",
    "nz = 40\n",
    "dz = 0.5\n",
    "hmax = 10\n",
    "zul = nz*dz + hmax # Fill the required thickness + one channel thinkness"
   ]
  },
  {
   "cell_type": "code",
   "execution_count": 4,
   "metadata": {},
   "outputs": [],
   "source": [
    "def print_params(param):\n",
    "    print(\"Flumy parameters:\")\n",
    "    print(\"DOMAIN_NX =\",       param.getParamInt(\"DOMAIN_NX\"))\n",
    "    print(\"DOMAIN_NY =\",       param.getParamInt(\"DOMAIN_NY\"))\n",
    "    print(\"DOMAIN_DX =\",       param.getParamDouble(\"DOMAIN_DX\"))\n",
    "    print(\"DOMAIN_DY =\",       param.getParamDouble(\"DOMAIN_DY\"))\n",
    "    print(\"DOMAIN_SLOPE =\",    param.getParamDouble(\"DOMAIN_SLOPE\"))\n",
    "    print(\"EROD_COEF =\",       param.getParamDouble(\"EROD_COEF\"))\n",
    "    print(\"CHNL_WIDTH =\",      param.getParamDouble(\"CHNL_WIDTH\"))\n",
    "    print(\"CHNL_WAVELENGTH =\", param.getParamDouble(\"CHNL_WAVELENGTH\"))\n",
    "    print(\"CHNL_FLW_DIR =\",    param.getParamDouble(\"CHNL_FLW_DIR\"))\n",
    "    print(\"AV_REG_FREQ =\",     param.getParamInt(\"AV_REG_FREQ\"))\n",
    "    print(\"AV_REG_POISSON =\",  param.getParamInt(\"AV_REG_POISSON\"))\n",
    "    print(\"AV_LOC_FREQ =\",     param.getParamInt(\"AV_LOC_FREQ\"))\n",
    "    print(\"AG_OB_FREQ =\",      param.getParamInt(\"AG_OB_FREQ\"))\n",
    "    print(\"AG_OB_POISSON =\",   param.getParamInt(\"AG_OB_POISSON\"))\n",
    "    print(\"AG_OB_DIST =\",      param.getParamDouble(\"AG_OB_DIST\"))\n",
    "    print(\"AG_OB_CONST =\",     param.getParamDouble(\"AG_OB_CONST\"))\n",
    "    print(\"AG_LV_WIDTH =\",     param.getParamDouble(\"AG_LV_WIDTH\"))\n",
    "    print(\"AG_EXP_DEC_THICK =\",param.getParamDouble(\"AG_EXP_DEC_THICK\"))\n",
    "\n",
    "def perform_simu(zul, debug, seed):\n",
    "    \n",
    "    ################################\n",
    "    # STEP 1 : Flumy configuration #\n",
    "    ################################\n",
    "\n",
    "    simu = iSimulator.createSimulator() # Create a Flumy simulator\n",
    "    param = simu.getParameters()        # Get the parameters manager\n",
    "    tracer = simu.getTracer()           # Get the tracer manager\n",
    "\n",
    "    # General configuration\n",
    "    tracer.setVerbose(debug > 0)   # Tells flumy to be speaky, or not\n",
    "    tracer.setTraceLevel(debug)    # Tells flumy to be speaky, or not\n",
    "    param.setUsingTurbi1()\n",
    "\n",
    "    # Grid configuration\n",
    "    param.setParamDouble(KEY_DOMAIN_OY, 0.0)         # origin's ordinate\n",
    "    param.setParamDouble(KEY_DOMAIN_OX, 0.0)         # origin's abscissa\n",
    "    param.setParamDouble(KEY_DOMAIN_ZREF, 0)         # reference elevation\n",
    "    param.setParamInt(KEY_DOMAIN_NX, nx)             # number of nodes along X\n",
    "    param.setParamInt(KEY_DOMAIN_NY, ny)             # number of nodes along Y\n",
    "    param.setParamDouble(KEY_DOMAIN_DX, dx)          # grid's spacing along X\n",
    "    param.setParamDouble(KEY_DOMAIN_DY, dy)          # grid's spacing along Y\n",
    "    param.setParamDouble(KEY_DOMAIN_GRID_DIR, 0.0)   # grid's angle from X axis\n",
    "\n",
    "    # Apply Nexus\n",
    "    mc = MeanderCalculator(param, tracer)\n",
    "    nxp = NexusParams()\n",
    "    nxp._max_depth = hmax\n",
    "    nxp._isbx = mc.default_isbx()\n",
    "    nxp._sand = mc.default_sand()\n",
    "    nxp._adaptgrid = False\n",
    "    MeanderCalculator.apply_nexus(param, tracer, nxp)\n",
    "\n",
    "    # Initialise the simulator\n",
    "    simu.init()\n",
    "\n",
    "    ################################\n",
    "    # STEP 2 : Scenario parameters #\n",
    "    ################################\n",
    "\n",
    "    # Override default Nexus generated parameter\n",
    "    param.setParamDouble(KEY_DOMAIN_SLOPE, 0.001) # Normal slope for Standard Turbidites scenario\n",
    "    param.setParamDouble(KEY_CHNL_WIDTH, 350) # Constant channel width (which is big for a turbidite of hmax=10m)\n",
    "    param.setParamInt(KEY_AV_REG_FREQ, 2) # Poisson period for regional avulsions\n",
    "    param.setParamInt(KEY_AV_REG_POISSON, 110) # Regional avulsion every 110 iterations (in average)\n",
    "    param.setParamInt(KEY_AG_OB_FREQ, 2) # Poisson period for overbank events\n",
    "    param.setParamInt(KEY_AG_OB_POISSON, 140) # Overbank period every 140 iterations\n",
    "    param.setParamDouble(KEY_AG_OB_CONST, 1) # Overbank intensity of 1m\n",
    "    print_params(param)\n",
    "\n",
    "    # Random number generator initialization\n",
    "    param.setParamInt(KEY_SIM_SEED, seed)\n",
    "\n",
    "    # Load upper limit surface z\n",
    "    simu.loadUpperLimit(zul, ZUL_NEUTRAL)\n",
    "\n",
    "    ##################################\n",
    "    # STEP 3 : Launch the simulation #\n",
    "    ##################################\n",
    "\n",
    "    # Launch simulator\n",
    "    simu.launch(100000)\n",
    "\n",
    "    # Retrieve 3D regular grid of facies\n",
    "    dom = simu.getDomain()\n",
    "    facies = dom.getRegularFacies(dz, 0 ,nz)\n",
    "    age =  dom.getRegularAge(dz, 0 ,nz)\n",
    "    grain = dom.getRegularGrain(dz, 0 ,nz)\n",
    "\n",
    "    # Delete simulator memory\n",
    "    iSimulator.deleteSimulator(simu)\n",
    "\n",
    "    # Convert Flumy facies to numpy array\n",
    "    arr = np.asarray(facies).reshape((nx,ny,nz))\n",
    "    arr[arr==3] = 2\n",
    "    arr[arr==10] = 2\n",
    "    arr[arr==7] = 3\n",
    "    arr[arr==8] = 4\n",
    "    \n",
    "    return arr\n"
   ]
  },
  {
   "cell_type": "code",
   "execution_count": 5,
   "metadata": {},
   "outputs": [
    {
     "name": "stdout",
     "output_type": "stream",
     "text": [
      "Flumy parameters:\n",
      "DOMAIN_NX = 128\n",
      "DOMAIN_NY = 64\n",
      "DOMAIN_DX = 50.0\n",
      "DOMAIN_DY = 50.0\n",
      "DOMAIN_SLOPE = 0.001\n",
      "EROD_COEF = 1.26e-08\n",
      "CHNL_WIDTH = 350.0\n",
      "CHNL_WAVELENGTH = 500.0\n",
      "CHNL_FLW_DIR = 90.0\n",
      "AV_REG_FREQ = 2\n",
      "AV_REG_POISSON = 110\n",
      "AV_LOC_FREQ = 2\n",
      "AG_OB_FREQ = 2\n",
      "AG_OB_POISSON = 140\n",
      "AG_OB_DIST = 1e+30\n",
      "AG_OB_CONST = 1.0\n",
      "AG_LV_WIDTH = 6.0\n",
      "AG_EXP_DEC_THICK = 3267.0\n"
     ]
    }
   ],
   "source": [
    "# Execute one Flumy simulation\n",
    "debug = 3 # Print information to jupyter server standard output\n",
    "seed = 123456\n",
    "arr = perform_simu(zul, debug, seed)"
   ]
  },
  {
   "cell_type": "markdown",
   "metadata": {},
   "source": [
    "## Extract one slice from the facies array"
   ]
  },
  {
   "cell_type": "code",
   "execution_count": 6,
   "metadata": {},
   "outputs": [
    {
     "name": "stdout",
     "output_type": "stream",
     "text": [
      "Unique facies are  [255]\n"
     ]
    },
    {
     "data": {
      "image/png": "[encoded data removed]",
      "text/plain": [
       "<Figure size 864x864 with 2 Axes>"
      ]
     },
     "metadata": {
      "needs_background": "light"
     },
     "output_type": "display_data"
    }
   ],
   "source": [
    "slice_idx = 35 # Beware: not all slices contain 4 facies\n",
    "my_slice = arr[:,:,slice_idx]\n",
    "arr_flat = my_slice.flatten()\n",
    "ufacies = np.unique(arr_flat)\n",
    "print(\"Unique facies are \", ufacies)\n",
    "nfacies = len(ufacies) \n",
    "\n",
    "plt.rcParams[\"figure.figsize\"] = (12,12)\n",
    "plt.imshow(my_slice.T, origin='lower')\n",
    "plt.colorbar()\n",
    "plt.show()"
   ]
  },
  {
   "cell_type": "markdown",
   "metadata": {},
   "source": [
    "## Import this array in gstlearn"
   ]
  },
  {
   "cell_type": "markdown",
   "metadata": {},
   "source": [
    "The Grid file is created first (defining the origin, mesh size and count). Then the facies variable is added giving the name and the locator. "
   ]
  },
  {
   "cell_type": "code",
   "execution_count": 7,
   "metadata": {},
   "outputs": [
    {
     "name": "stdout",
     "output_type": "stream",
     "text": [
      "\n",
      "Data Base Grid Characteristics\n",
      "==============================\n",
      "\n",
      "Data Base Summary\n",
      "-----------------\n",
      "File is organized as a regular grid\n",
      "Space dimension              = 2\n",
      "Number of Columns            = 4\n",
      "Maximum Number of UIDs       = 4\n",
      "Total number of samples      = 8192\n",
      "\n",
      "Grid characteristics:\n",
      "---------------------\n",
      "Origin :      0.000     0.000\n",
      "Mesh   :     50.000    50.000\n",
      "Number :        128        64\n",
      "\n",
      "Variables\n",
      "---------\n",
      "Column = 0 - Name = rank - Locator = NA\n",
      "Column = 1 - Name = x1 - Locator = x1\n",
      "Column = 2 - Name = x2 - Locator = x2\n",
      "Column = 3 - Name = fac - Locator = z1\n",
      " "
     ]
    }
   ],
   "source": [
    "ndim = 2\n",
    "ASpaceObject.defineDefaultSpace(SPACE_RN, ndim)\n",
    "grid = DbGrid.create([nx,ny],[dx,dy],[0,0])\n",
    "grid.addColumns(np.double(arr_flat), \"fac\", ELoc.Z)\n",
    "att_simu = grid.getLastUID()\n",
    "if verbose:\n",
    "    grid.display(FLAG_EXTEND | FLAG_STATS)"
   ]
  },
  {
   "cell_type": "markdown",
   "metadata": {},
   "source": [
    "## Proportions\n",
    "Calculate facies global proportions"
   ]
  },
  {
   "cell_type": "code",
   "execution_count": 8,
   "metadata": {},
   "outputs": [
    {
     "name": "stdout",
     "output_type": "stream",
     "text": [
      "Facies Proportions\n",
      "Fac255     100.00%\n"
     ]
    }
   ],
   "source": [
    "simu = arr_flat\n",
    "cnt = Counter(list(simu))\n",
    "props = [100*cnt[f]/(nx*ny) for f in ufacies]\n",
    "sprops = [\"{:.2f}%\".format(p) for p in props]\n",
    "facs = [\"Fac{}\".format(f) for f in ufacies]\n",
    "df = pd.DataFrame({'Facies': facs, 'Proportions': sprops})\n",
    "print(df.to_string(index=False))"
   ]
  },
  {
   "cell_type": "markdown",
   "metadata": {},
   "source": [
    "## Transition probabilities\n",
    "Calculate the transition probabilities for the 2 main directions and for each facies identifier"
   ]
  },
  {
   "cell_type": "code",
   "execution_count": 9,
   "metadata": {},
   "outputs": [
    {
     "name": "stdout",
     "output_type": "stream",
     "text": [
      "Bound( 1 ) : [ 0.5 ; 1.5 [\n",
      " "
     ]
    },
    {
     "data": {
      "text/plain": [
       "\n",
       "Data Base Grid Characteristics\n",
       "==============================\n",
       "\n",
       "Data Base Summary\n",
       "-----------------\n",
       "File is organized as a regular grid\n",
       "Space dimension              = 2\n",
       "Number of Columns            = 5\n",
       "Maximum Number of UIDs       = 5\n",
       "Total number of samples      = 8192\n",
       "\n",
       "Grid characteristics:\n",
       "---------------------\n",
       "Origin :      0.000     0.000\n",
       "Mesh   :     50.000    50.000\n",
       "Number :        128        64\n",
       "\n",
       "Variables\n",
       "---------\n",
       "Column = 0 - Name = rank - Locator = NA\n",
       "Column = 1 - Name = x1 - Locator = x1\n",
       "Column = 2 - Name = x2 - Locator = x2\n",
       "Column = 3 - Name = fac - Locator = NA\n",
       "Column = 4 - Name = Indicator.fac.Class - Locator = z1"
      ]
     },
     "execution_count": 9,
     "metadata": {},
     "output_type": "execute_result"
    }
   ],
   "source": [
    "limits = Limits(nfacies)\n",
    "if verbose:\n",
    "    limits.display()\n",
    "err = limits.toIndicator(grid, \"fac\")\n",
    "grid"
   ]
  },
  {
   "cell_type": "code",
   "execution_count": 10,
   "metadata": {},
   "outputs": [
    {
     "data": {
      "text/plain": [
       "\n",
       "Undefined\n",
       "========="
      ]
     },
     "execution_count": 10,
     "metadata": {},
     "output_type": "execute_result"
    }
   ],
   "source": [
    "variop = VarioParam()\n",
    "dir1 = DirParam(ndim,40,dx)\n",
    "dir1.setGrincr([1,0])\n",
    "dir2 = DirParam(ndim,20,dx)\n",
    "dir2.setGrincr([0,1])\n",
    "variop.addDirs(dir1)\n",
    "variop.addDirs(dir2)\n",
    "vario = Vario(variop,grid)\n",
    "vario"
   ]
  },
  {
   "cell_type": "code",
   "execution_count": null,
   "metadata": {},
   "outputs": [],
   "source": [
    "err = vario.compute(gl.ECalcVario.TRANS1)\n",
    "vario"
   ]
  },
  {
   "cell_type": "code",
   "execution_count": null,
   "metadata": {},
   "outputs": [],
   "source": [
    "for idir in range(vario.getDirectionNumber()):\n",
    "    for ifac in range(nfacies):\n",
    "        for jfac in range(ifac):\n",
    "            if ifac != jfac:\n",
    "                hh = vario.getHhVec(idir,ifac,jfac)\n",
    "                gg = vario.getGgVec(idir,ifac,jfac)\n",
    "                plt.plot(hh,gg)\n",
    "                plt.title(\"Transition probabilities in dir #\" + str(idir+1) + \" leaving F\" + str(ifac+1) + \" / entering F\" + str(jfac+1))\n",
    "                plt.show()"
   ]
  },
  {
   "cell_type": "markdown",
   "metadata": {},
   "source": [
    "## Connected Components\n",
    "Calculate the connected components for each facies."
   ]
  },
  {
   "cell_type": "code",
   "execution_count": null,
   "metadata": {},
   "outputs": [],
   "source": [
    "eps = 0.5\n",
    "compnum = grid.getColumnByUID(att_simu)\n",
    "for fac in ufacies:\n",
    "    vmin = fac - eps\n",
    "    vmax = fac + eps\n",
    "    image   = morpho_double2image(nxy,compnum,vmin,vmax);\n",
    "    compnew = morpho_labelling(nxy,0,0,image,TEST)\n",
    "    compnew = [np.nan if x==TEST else x for x in compnew]\n",
    "    sizes   = morpho_labelsize(nxy,0,image)\n",
    "\n",
    "    plt.imshow(np.reshape(compnew, nxy).T, origin=\"lower\", cmap='hot')\n",
    "    plt.colorbar()\n",
    "    plt.title(\"Connected components for F{}\".format(fac))\n",
    "    plt.show()\n",
    "\n",
    "    plt.hist(sizes, bins = 50)\n",
    "    plt.title(\"Size of connected component for F{}\".format(fac))\n",
    "    plt.show()"
   ]
  },
  {
   "cell_type": "code",
   "execution_count": null,
   "metadata": {},
   "outputs": [],
   "source": []
  }
 ],
 "metadata": {
  "kernelspec": {
   "display_name": "Python 3",
   "language": "python",
   "name": "python3"
  },
  "language_info": {
   "codemirror_mode": {
    "name": "ipython",
    "version": 3
   },
   "file_extension": ".py",
   "mimetype": "text/x-python",
   "name": "python",
   "nbconvert_exporter": "python",
   "pygments_lexer": "ipython3",
   "version": "3.8.5"
  }
 },
 "nbformat": 4,
 "nbformat_minor": 4
}
